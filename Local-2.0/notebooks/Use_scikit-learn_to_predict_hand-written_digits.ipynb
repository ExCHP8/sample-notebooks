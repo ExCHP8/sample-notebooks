{
 "cells": [
  {
   "cell_type": "markdown",
   "metadata": {},
   "source": [
    "<table style='border: none' align='left'>\n",
    "   <tr style='border: none'>\n",
    "      <th style='border: none'><font face='verdana' size='5' color='black'><b>Use scikit-learn to predict hand-written digits</b></th>\n",
    "      <th style='border: none'><img src='https://github.com/pmservice/customer-satisfaction-prediction/blob/master/app/static/images/ml_icon_gray.png?raw=true' alt='Watson Machine Learning icon' height='40' width='40'></th>\n",
    "   </tr>\n",
    "   <tr style='border: none'>\n",
    "       <th style='border: none'><img src='https://github.com/pmservice/wml-sample-models/raw/master/scikit-learn/hand-written-digits-recognition/images/numbers_banner-04.png' width='600' alt='Icon'> </th>\n",
    "   </tr>\n",
    "</table>"
   ]
  },
  {
   "cell_type": "markdown",
   "metadata": {},
   "source": [
    "This notebook demonstrates how to utilize the <a href=\"https://pypi.python.org/pypi/watson-machine-learning-client-V4\" target=\"_blank\" rel=\"noopener noreferrer\">watson-machine-learning-client</a> package in order to save, deploy, and score a predictive model.\n",
    "\n",
    "You will use the sample data set of hand-written digit images, `sklearn.datasets.load_digits`, which is available in scikit-learn to recognize hand-written digits. The notebook uses `scikit-learn 0.19` and `watson-machine-learning-client-V4`.\n",
    "\n",
    "\n",
    "Some familiarity with Python is helpful. This notebook is compatible Watson Studio Local 2.0 and Python 3.5.\n",
    "\n",
    "\n",
    "## Learning goals\n",
    "\n",
    "In this notebook, you will learn how to:\n",
    "\n",
    "-  Load a sample data set from ``scikit-learn``.\n",
    "-  Explore data.\n",
    "-  Split data for training and evaluation.\n",
    "-  Create a scikit-learn machine learning pipeline.\n",
    "-  Train and evaluate a model.\n",
    "-  Store the model in the Watson Machine Learning (WML) repository.\n",
    "-  Deploy the model for online scoring in the Watson Machine Learning (WML) repository.\n",
    "-  Score test records.\n",
    "\n",
    "\n",
    "## Table of Contents\n",
    "\n",
    "1.\t[Setting up](#setup)\n",
    "2.\t[Load and explore data](#load)\n",
    "3.\t[Create a scikit-learn model](#model)<br>\n",
    "    3.1 [Split data](#prep)<br>\n",
    "    3.2 [Create a scikit-learn machine learning pipeline](#pipe)<br>\n",
    "    3.3 [Train a model](#train)<br>\n",
    "4.\t[Save, load, and delete a model in the WML repository](#persistence)<br>\n",
    "    4.1 [Authenticate](#work)<br>\n",
    "    4.2 [Save the model in the WML repository](#save)<br>\n",
    "    4.3 [Load a model from the WML repository](#load_model)<br>\n",
    "    4.4 [Delete a model from the WML repository](#delete)\n",
    "5.\t[Deploy and score data in the WML repository](#scoring)<br>\n",
    "    5.1 [Create an online deployment for the published model](#create)<br>\n",
    "    5.2 [Get deployments](#getdeploy)<br>\n",
    "    5.3 [Score data](#score)<br>\n",
    "    5.4 [Delete the deployment](#deldeploy)<br>\n",
    "    5.5 [Delete the model](#delmodel)\n",
    "6.\t[Summary and next steps](#summary)"
   ]
  },
  {
   "cell_type": "markdown",
   "metadata": {},
   "source": [
    "<a id='setup'></a>\n",
    "## 1. Set up the environment\n",
    "\n",
    "To get started on Watson Studio Local, find documentation on installion and set up <a href=\"https://www.ibm.com/support/knowledgecenter/SSHGWL_2.0.0/wsj/getting-started/get-started-wdp.html\" target=\"_blank\" rel=\"noopener no referrer\">here</a>.\n",
    "\n",
    "- Configure your local python environment:\n",
    "  + Python 3.5\n",
    "  + scikit-learn 0.19\n",
    "  + watson-machine-learning-client-V4"
   ]
  },
  {
   "cell_type": "markdown",
   "metadata": {},
   "source": [
    "<a id='load'></a>\n",
    "## 2. Load and explore data"
   ]
  },
  {
   "cell_type": "markdown",
   "metadata": {},
   "source": [
    "In this section, you load the data from scikit-learn sample data sets and perform basic exploratory data analysis (EDA)."
   ]
  },
  {
   "cell_type": "markdown",
   "metadata": {},
   "source": [
    "<div class=\"alert alert-block alert-warning\">\n",
    "1. To avoid re-installation when re-running the notebook, try running your notebooks in custom environments. To find out more about setting up custom environments, see <a href=\"https://www.ibm.com/support/knowledgecenter/SSHGWL_2.0.0/wsj/analyze-data/customize-envs.html\">here</a>.<br>\n",
    "2. To simply hide the output of pip install instead, use <tt>-q</tt> after <tt>!pip install</tt>.\n",
    "</div>"
   ]
  },
  {
   "cell_type": "code",
   "execution_count": null,
   "metadata": {},
   "outputs": [],
   "source": [
    "!pip install --upgrade scikit-learn==0.19.1"
   ]
  },
  {
   "cell_type": "code",
   "execution_count": 2,
   "metadata": {},
   "outputs": [
    {
     "name": "stdout",
     "output_type": "stream",
     "text": [
      "Optical Recognition of Handwritten Digits Data Set\n",
      "===================================================\n",
      "\n",
      "Notes\n",
      "-----\n",
      "Data Set Characteristics:\n",
      "    :Number of Instances: 5620\n",
      "    :Number of Attributes: 64\n",
      "    :Attribute Information: 8x8 image of integer pixels in the range 0..16.\n",
      "    :Missing Attribute Values: None\n",
      "    :Creator: E. Alpaydin (alpaydin '@' boun.edu.tr)\n",
      "    :Date: July; 1998\n",
      "\n",
      "This is a copy of the test set of the UCI ML hand-written digits datasets\n",
      "http://archive.ics.uci.edu/ml/datasets/Optical+Recognition+of+Handwritten+Digits\n",
      "\n",
      "The data set contains images of hand-written digits: 10 classes where\n",
      "each class refers to a digit.\n",
      "\n",
      "Preprocessing programs made available by NIST were used to extract\n",
      "normalized bitmaps of handwritten digits from a preprinted form. From a\n",
      "total of 43 people, 30 contributed to the training set and different 13\n",
      "to the test set. 32x32 bitmaps are divided into nonoverlapping blocks of\n",
      "4x4 and the number of on pixels are counted in each block. This generates\n",
      "an input matrix of 8x8 where each element is an integer in the range\n",
      "0..16. This reduces dimensionality and gives invariance to small\n",
      "distortions.\n",
      "\n",
      "For info on NIST preprocessing routines, see M. D. Garris, J. L. Blue, G.\n",
      "T. Candela, D. L. Dimmick, J. Geist, P. J. Grother, S. A. Janet, and C.\n",
      "L. Wilson, NIST Form-Based Handprint Recognition System, NISTIR 5469,\n",
      "1994.\n",
      "\n",
      "References\n",
      "----------\n",
      "  - C. Kaynak (1995) Methods of Combining Multiple Classifiers and Their\n",
      "    Applications to Handwritten Digit Recognition, MSc Thesis, Institute of\n",
      "    Graduate Studies in Science and Engineering, Bogazici University.\n",
      "  - E. Alpaydin, C. Kaynak (1998) Cascading Classifiers, Kybernetika.\n",
      "  - Ken Tang and Ponnuthurai N. Suganthan and Xi Yao and A. Kai Qin.\n",
      "    Linear dimensionalityreduction using relevance weighted LDA. School of\n",
      "    Electrical and Electronic Engineering Nanyang Technological University.\n",
      "    2005.\n",
      "  - Claudio Gentile. A New Approximate Maximal Margin Classification\n",
      "    Algorithm. NIPS. 2000.\n",
      "\n"
     ]
    }
   ],
   "source": [
    "# Load the data.\n",
    "import sklearn\n",
    "from sklearn import datasets\n",
    "\n",
    "# Description of the Digits Data set.\n",
    "digits = datasets.load_digits()\n",
    "print(digits.DESCR)"
   ]
  },
  {
   "cell_type": "markdown",
   "metadata": {},
   "source": [
    "The sample data set consists of 8x8 pixel images of hand-written digits."
   ]
  },
  {
   "cell_type": "code",
   "execution_count": 3,
   "metadata": {},
   "outputs": [
    {
     "data": {
      "text/plain": [
       "(1797, 64)"
      ]
     },
     "execution_count": 3,
     "metadata": {},
     "output_type": "execute_result"
    }
   ],
   "source": [
    "digits.data.shape"
   ]
  },
  {
   "cell_type": "markdown",
   "metadata": {},
   "source": [
    "Display the first digit data and label using **data** and **target**. The hand-written digit shown below is an 8x8 pixel image represented by an array."
   ]
  },
  {
   "cell_type": "code",
   "execution_count": 4,
   "metadata": {},
   "outputs": [
    {
     "name": "stdout",
     "output_type": "stream",
     "text": [
      "[[ 0.  0.  5. 13.  9.  1.  0.  0.]\n",
      " [ 0.  0. 13. 15. 10. 15.  5.  0.]\n",
      " [ 0.  3. 15.  2.  0. 11.  8.  0.]\n",
      " [ 0.  4. 12.  0.  0.  8.  8.  0.]\n",
      " [ 0.  5.  8.  0.  0.  9.  8.  0.]\n",
      " [ 0.  4. 11.  0.  1. 12.  7.  0.]\n",
      " [ 0.  2. 14.  5. 10. 12.  0.  0.]\n",
      " [ 0.  0.  6. 13. 10.  0.  0.  0.]]\n"
     ]
    }
   ],
   "source": [
    "print(digits.data[0].reshape((8, 8)))"
   ]
  },
  {
   "cell_type": "code",
   "execution_count": 5,
   "metadata": {},
   "outputs": [
    {
     "data": {
      "text/plain": [
       "0"
      ]
     },
     "execution_count": 5,
     "metadata": {},
     "output_type": "execute_result"
    }
   ],
   "source": [
    "digits.target[0]"
   ]
  },
  {
   "cell_type": "code",
   "execution_count": null,
   "metadata": {},
   "outputs": [],
   "source": [
    "!pip install --upgrade matplotlib"
   ]
  },
  {
   "cell_type": "code",
   "execution_count": 7,
   "metadata": {},
   "outputs": [],
   "source": [
    "import matplotlib.pyplot as plt\n",
    "import numpy as np"
   ]
  },
  {
   "cell_type": "code",
   "execution_count": 8,
   "metadata": {},
   "outputs": [
    {
     "data": {
      "image/png": "[encoded data removed]",
      "text/plain": [
       "<Figure size 1080x360 with 10 Axes>"
      ]
     },
     "metadata": {},
     "output_type": "display_data"
    }
   ],
   "source": [
    "# Visualize some digits from the data set.\n",
    "f, ((ax1, ax2, ax3, ax4, ax5), (ax6, ax7, ax8, ax9, ax10)) = plt.subplots(2, 5, figsize=(15,5))\n",
    "ax = [ax1, ax2, ax3, ax4, ax5, ax6, ax7, ax8, ax9, ax10]\n",
    "\n",
    "for i in range (len(ax)):\n",
    "    plt.gray()\n",
    "    ax[i].matshow(digits.images[i])"
   ]
  },
  {
   "cell_type": "code",
   "execution_count": 9,
   "metadata": {},
   "outputs": [
    {
     "data": {
      "text/plain": [
       "array([0, 1, 2, 3, 4, 5, 6, 7, 8, 9])"
      ]
     },
     "execution_count": 9,
     "metadata": {},
     "output_type": "execute_result"
    }
   ],
   "source": [
    "# Labels for the written digits displayed above.\n",
    "digits.target[:10]"
   ]
  },
  {
   "cell_type": "markdown",
   "metadata": {},
   "source": [
    "In the next step, count the data examples."
   ]
  },
  {
   "cell_type": "code",
   "execution_count": 10,
   "metadata": {
    "scrolled": true
   },
   "outputs": [
    {
     "name": "stdout",
     "output_type": "stream",
     "text": [
      "Number of samples: 1797\n"
     ]
    }
   ],
   "source": [
    "# Calculate the number of samples.\n",
    "samples_count = len(digits.images)\n",
    "\n",
    "print('Number of samples: ' + str(samples_count))"
   ]
  },
  {
   "cell_type": "markdown",
   "metadata": {},
   "source": [
    "<a id='model'></a>\n",
    "## 3. Create a scikit-learn model\n",
    "\n",
    "In this section you learn how to:\n",
    "- [3.1 Split data](#prep)\n",
    "- [3.2 Create a scikit-learn machine learning pipeline](#pipe)\n",
    "- [3.3 Train a model](#train)"
   ]
  },
  {
   "cell_type": "markdown",
   "metadata": {},
   "source": [
    "### 3.1 Split data<a id='prep'></a>\n",
    "\n",
    "In this subsection you will split your data into: \n",
    "- Train data set\n",
    "- Test data set\n",
    "- Score data sets"
   ]
  },
  {
   "cell_type": "code",
   "execution_count": 11,
   "metadata": {},
   "outputs": [
    {
     "name": "stdout",
     "output_type": "stream",
     "text": [
      "Number of training records: 1257\n",
      "Number of testing records : 360\n",
      "Number of scoring records : 180\n"
     ]
    }
   ],
   "source": [
    "# Split the data into data sets and display the number of records for each data set.\n",
    "train_data = digits.data[: int(0.7*samples_count)]\n",
    "train_labels = digits.target[: int(0.7*samples_count)]\n",
    "\n",
    "test_data = digits.data[int(0.7*samples_count): int(0.9*samples_count)]\n",
    "test_labels = digits.target[int(0.7*samples_count): int(0.9*samples_count)]\n",
    "\n",
    "score_data = digits.data[int(0.9*samples_count): ]\n",
    "\n",
    "print('Number of training records: ' + str(len(train_data)))\n",
    "print('Number of testing records : ' + str(len(test_data)))\n",
    "print('Number of scoring records : ' + str(len(score_data)))"
   ]
  },
  {
   "cell_type": "markdown",
   "metadata": {},
   "source": [
    "Your data has been successfully split into three data sets: \n",
    "\n",
    "-  The train data set, which is the largest group, is used for training.\n",
    "-  The test data set is used for model evaluation and to test the assumptions of the model.\n",
    "-  The score data set is used for scoring."
   ]
  },
  {
   "cell_type": "markdown",
   "metadata": {},
   "source": [
    "### 3.2 Create a scikit-learn machine learning pipeline<a id='pipe'></a>"
   ]
  },
  {
   "cell_type": "markdown",
   "metadata": {},
   "source": [
    "In this section, you will create a scikit-learn machine learning pipeline and then train the model."
   ]
  },
  {
   "cell_type": "markdown",
   "metadata": {},
   "source": [
    "First, import the scikit-learn machine learning modules that are needed in the subsequent steps."
   ]
  },
  {
   "cell_type": "code",
   "execution_count": 12,
   "metadata": {},
   "outputs": [],
   "source": [
    "# Import scikit-learn packages.\n",
    "from sklearn.pipeline import Pipeline\n",
    "from sklearn import preprocessing\n",
    "from sklearn import svm, metrics"
   ]
  },
  {
   "cell_type": "markdown",
   "metadata": {},
   "source": [
    "Standardize the features by removing the mean and scaling to unit variance."
   ]
  },
  {
   "cell_type": "code",
   "execution_count": 13,
   "metadata": {},
   "outputs": [],
   "source": [
    "scaler = preprocessing.StandardScaler()"
   ]
  },
  {
   "cell_type": "markdown",
   "metadata": {},
   "source": [
    "Next, define the estimators you want to use for classification. The following example uses Support Vector Machines (SVM) with the radial basis function (used for non-linear data) as the kernel."
   ]
  },
  {
   "cell_type": "code",
   "execution_count": 14,
   "metadata": {},
   "outputs": [],
   "source": [
    "clf = svm.SVC(kernel='rbf', gamma='auto')"
   ]
  },
  {
   "cell_type": "markdown",
   "metadata": {},
   "source": [
    "Build the pipeline. A pipeline consists of transformer and an estimator."
   ]
  },
  {
   "cell_type": "code",
   "execution_count": 15,
   "metadata": {},
   "outputs": [],
   "source": [
    "pipeline = Pipeline([('scaler', scaler), ('svc', clf)])"
   ]
  },
  {
   "cell_type": "markdown",
   "metadata": {},
   "source": [
    "### 3.3 Train a model<a id='train'></a>"
   ]
  },
  {
   "cell_type": "markdown",
   "metadata": {},
   "source": [
    "Now, you can use the **pipeline** and **train data** you defined previously to train your SVM model."
   ]
  },
  {
   "cell_type": "code",
   "execution_count": 16,
   "metadata": {},
   "outputs": [],
   "source": [
    "model = pipeline.fit(train_data, train_labels)"
   ]
  },
  {
   "cell_type": "markdown",
   "metadata": {},
   "source": [
    "Use **test data** to generate an evaluation report to check your **model quality**."
   ]
  },
  {
   "cell_type": "code",
   "execution_count": 17,
   "metadata": {},
   "outputs": [
    {
     "name": "stdout",
     "output_type": "stream",
     "text": [
      "Evaluation report: \n",
      "\n",
      "             precision    recall  f1-score   support\n",
      "\n",
      "          0       1.00      0.97      0.99        37\n",
      "          1       0.97      0.97      0.97        34\n",
      "          2       1.00      0.97      0.99        36\n",
      "          3       1.00      0.94      0.97        35\n",
      "          4       0.78      0.97      0.87        37\n",
      "          5       0.97      0.97      0.97        38\n",
      "          6       0.97      0.86      0.91        36\n",
      "          7       0.92      0.97      0.94        35\n",
      "          8       0.91      0.89      0.90        35\n",
      "          9       0.97      0.92      0.94        37\n",
      "\n",
      "avg / total       0.95      0.94      0.95       360\n",
      "\n"
     ]
    }
   ],
   "source": [
    "# Evaluate your model.\n",
    "predicted = model.predict(test_data)\n",
    "\n",
    "print('Evaluation report: \\n\\n%s' % metrics.classification_report(test_labels, predicted))"
   ]
  },
  {
   "cell_type": "markdown",
   "metadata": {
    "collapsed": true
   },
   "source": [
    "<div class=\"alert-block alert-info\"><br>You can tune your model, or try to create classification models to achieve better accuracy. For the simplicity purpose of this example, the tuning and model selections are omitted.<br><br></div>"
   ]
  },
  {
   "cell_type": "markdown",
   "metadata": {
    "collapsed": true
   },
   "source": [
    "<a id='persistence'></a>\n",
    "## 4. Save, load, and delete a model in the WML repository"
   ]
  },
  {
   "cell_type": "markdown",
   "metadata": {},
   "source": [
    "In this section, you will learn how to use the `watson-machine-learning-client` package to manage your model in the WML repository.\n",
    "\n",
    "- [4.1 Set up the WML instance](#work)\n",
    "- [4.2 Save the model in the WML repository](#save)\n",
    "- [4.3 Load a model from the WML repository](#load_model)\n",
    "- [4.4 Delete a model from the WML repository](#delete)"
   ]
  },
  {
   "cell_type": "markdown",
   "metadata": {},
   "source": [
    "<div class=\"alert-block alert-info\"><br> You can find more information about the watson-machine-learning-client <a href=\"https://wml-api-pyclient-dev-v4.mybluemix.net/\" target=\"_blank\" rel=\"noopener noreferrer\">here</a>.<br><br></div>"
   ]
  },
  {
   "cell_type": "markdown",
   "metadata": {},
   "source": [
    "### 4.1 Authenticate<a id='work'></a>"
   ]
  },
  {
   "cell_type": "markdown",
   "metadata": {
    "collapsed": true
   },
   "source": [
    "First, import the required modules."
   ]
  },
  {
   "cell_type": "code",
   "execution_count": 18,
   "metadata": {},
   "outputs": [],
   "source": [
    "from watson_machine_learning_client import WatsonMachineLearningAPIClient"
   ]
  },
  {
   "cell_type": "markdown",
   "metadata": {},
   "source": [
    "**Authenticate the Python client on Watson Studio Local.**<br><br>\n",
    "\n",
    "<div class=\"alert-block alert-info\"><br>\n",
    "To find your authentication information (your credentials) follow the steps provided here in the <a href=\"https://www.ibm.com/support/knowledgecenter/SSHGWL_2.0.0/wsj/analyze-data/ml-notebook_local.html\" target=\"_blank\" rel=\"noopener no referrer\">Documentation</a>.<br><br></div>\n",
    "\n",
    "**Action**: Enter your credentials in the following cell."
   ]
  },
  {
   "cell_type": "code",
   "execution_count": 19,
   "metadata": {},
   "outputs": [],
   "source": [
    "wml_credentials={\n",
    "  'url': '***',\n",
    "  'username': '***',\n",
    "  'password': '***',\n",
    "  'instance_id': 'icp'\n",
    "}"
   ]
  },
  {
   "cell_type": "markdown",
   "metadata": {},
   "source": [
    "#### Instantiate the WML API client object. "
   ]
  },
  {
   "cell_type": "code",
   "execution_count": 21,
   "metadata": {},
   "outputs": [],
   "source": [
    "client = WatsonMachineLearningAPIClient(wml_credentials)"
   ]
  },
  {
   "cell_type": "markdown",
   "metadata": {},
   "source": [
    "You can see the stored predefined runtimes here."
   ]
  },
  {
   "cell_type": "code",
   "execution_count": 22,
   "metadata": {},
   "outputs": [
    {
     "name": "stdout",
     "output_type": "stream",
     "text": [
      "--------------------------  --------------------------  ------------------------  --------\n",
      "GUID                        NAME                        CREATED                   PLATFORM\n",
      "do_12.9                     do_12.9                     2019-07-27T02:43:25.906Z  do\n",
      "pmml_4.3                    pmml_4.3                    2019-07-27T02:43:23.635Z  pmml\n",
      "pmml_4.2.1                  pmml_4.2.1                  2019-07-27T02:43:21.348Z  pmml\n",
      "pmml_4.2                    pmml_4.2                    2019-07-27T02:43:19.100Z  pmml\n",
      "pmml_4.1                    pmml_4.1                    2019-07-27T02:43:16.783Z  pmml\n",
      "pmml_4.0                    pmml_4.0                    2019-07-27T02:43:14.656Z  pmml\n",
      "pmml_3.2                    pmml_3.2                    2019-07-27T02:43:12.517Z  pmml\n",
      "pmml_3.1                    pmml_3.1                    2019-07-27T02:43:10.155Z  pmml\n",
      "pmml_3.0                    pmml_3.0                    2019-07-27T02:43:07.970Z  pmml\n",
      "ai-function_0.1-py3         ai-function_0.1-py3         2019-07-27T02:43:05.692Z  python\n",
      "hybrid_0.2                  hybrid_0.2                  2019-07-27T02:43:03.341Z  hybrid\n",
      "hybrid_0.1                  hybrid_0.1                  2019-07-27T02:43:00.949Z  hybrid\n",
      "xgboost_0.80-py3            xgboost_0.80-py3            2019-07-27T02:42:58.715Z  python\n",
      "xgboost_0.6-py3             xgboost_0.6-py3             2019-07-27T02:42:56.334Z  python\n",
      "spss-modeler_18.1           spss-modeler_18.1           2019-07-27T02:42:54.090Z  spss\n",
      "spss-modeler_17.1           spss-modeler_17.1           2019-07-27T02:42:51.942Z  spss\n",
      "scikit-learn_0.19-py3       scikit-learn_0.19-py3       2019-07-27T02:42:49.655Z  python\n",
      "scikit-learn_0.17-py3       scikit-learn_0.17-py3       2019-07-27T02:42:47.396Z  python\n",
      "spark-mllib_2.3             spark-mllib_2.3             2019-07-27T02:42:45.234Z  spark\n",
      "spark-mllib_2.2             spark-mllib_2.2             2019-07-27T02:42:43.098Z  spark\n",
      "spark-mllib_2.1             spark-mllib_2.1             2019-07-27T02:42:40.794Z  spark\n",
      "tensorflow_1.13-py3         tensorflow_1.13-py3         2019-07-27T02:42:38.620Z  python\n",
      "tensorflow_1.13-py2         tensorflow_1.13-py2         2019-07-27T02:42:36.441Z  python\n",
      "tensorflow_0.11-horovod     tensorflow_0.11-horovod     2019-07-27T02:42:34.191Z  native\n",
      "tensorflow_1.11-py3         tensorflow_1.11-py3         2019-07-27T02:42:31.948Z  python\n",
      "tensorflow_1.10-py3         tensorflow_1.10-py3         2019-07-27T02:42:29.671Z  python\n",
      "tensorflow_1.10-py2         tensorflow_1.10-py2         2019-07-27T02:42:27.492Z  python\n",
      "tensorflow_1.9-py3          tensorflow_1.9-py3          2019-07-27T02:42:25.381Z  python\n",
      "tensorflow_1.9-py2          tensorflow_1.9-py2          2019-07-27T02:42:23.329Z  python\n",
      "tensorflow_1.8-py3          tensorflow_1.8-py3          2019-07-27T02:42:21.084Z  python\n",
      "tensorflow_1.8-py2          tensorflow_1.8-py2          2019-07-27T02:42:18.695Z  python\n",
      "tensorflow_1.7-py3          tensorflow_1.7-py3          2019-07-27T02:42:16.358Z  python\n",
      "tensorflow_1.7-py2          tensorflow_1.7-py2          2019-07-27T02:42:13.985Z  python\n",
      "tensorflow_1.6-py3          tensorflow_1.6-py3          2019-07-27T02:42:11.775Z  python\n",
      "tensorflow_1.6-py2          tensorflow_1.6-py2          2019-07-27T02:42:09.421Z  python\n",
      "tensorflow_1.5-py2-ddl      tensorflow_1.5-py2-ddl      2019-07-27T02:42:07.069Z  python\n",
      "tensorflow_1.5-py3-horovod  tensorflow_1.5-py3-horovod  2019-07-27T02:42:04.897Z  python\n",
      "tensorflow_1.5-py3          tensorflow_1.5-py3          2019-07-27T02:42:02.704Z  python\n",
      "tensorflow_1.5-py2          tensorflow_1.5-py2          2019-07-27T02:42:00.459Z  python\n",
      "tensorflow_1.4-py2-ddl      tensorflow_1.4-py2-ddl      2019-07-27T02:41:58.272Z  python\n",
      "tensorflow_1.4-py3-horovod  tensorflow_1.4-py3-horovod  2019-07-27T02:41:56.069Z  python\n",
      "tensorflow_1.4-py3          tensorflow_1.4-py3          2019-07-27T02:41:53.587Z  python\n",
      "tensorflow_1.4-py2          tensorflow_1.4-py2          2019-07-27T02:41:50.991Z  python\n",
      "tensorflow_1.3-py2-ddl      tensorflow_1.3-py2-ddl      2019-07-27T02:41:48.806Z  python\n",
      "tensorflow_1.3-py3          tensorflow_1.3-py3          2019-07-27T02:41:46.608Z  python\n",
      "tensorflow_1.3-py2          tensorflow_1.3-py2          2019-07-27T02:41:44.392Z  python\n",
      "tensorflow_1.2-py3          tensorflow_1.2-py3          2019-07-27T02:41:42.226Z  python\n",
      "tensorflow_1.2-py2          tensorflow_1.2-py2          2019-07-27T02:41:39.724Z  python\n",
      "pytorch-onnx_1.0-py3        pytorch-onnx_1.0-py3        2019-07-27T02:41:37.486Z  python\n",
      "pytorch_1.0-py3-edt         pytorch_1.0-py3-edt         2019-07-27T02:41:34.811Z  python\n",
      "--------------------------  --------------------------  ------------------------  --------\n",
      "Note: Only first 50 records were displayed. To display more use 'limit' parameter.\n"
     ]
    }
   ],
   "source": [
    "# Predefined runtimes.\n",
    "client.runtimes.list(pre_defined=True)"
   ]
  },
  {
   "cell_type": "markdown",
   "metadata": {},
   "source": [
    "### 4.2 Save the model in the WML repository<a id='save'></a>"
   ]
  },
  {
   "cell_type": "markdown",
   "metadata": {},
   "source": [
    "Create the model metadata to store in the WML repository. You can obtain the space UID (one of the MetaNames in the model metadata) by using the following cells.<br><br>\n",
    "\n",
    "<div class=\"alert-block alert-info\"><br>\n",
    "You can create your own <a href=\"https://www.ibm.com/support/knowledgecenter/SSHGWL_2.0.0/wsj/analyze-data/ml-spaces_local.html\" target=\"_blank\" rel=\"noopener no referrer\">deployment space</a> by selecting <b>Deployment Spaces</b> from the Navigation Menu on the top left of this page.<br><br></div>"
   ]
  },
  {
   "cell_type": "code",
   "execution_count": 23,
   "metadata": {},
   "outputs": [],
   "source": [
    "# Obtain the UId of your space\n",
    "def guid_from_space_name(client, space_name):\n",
    "    instance_details = client.service_instance.get_details()\n",
    "    space = client.spaces.get_details()\n",
    "    return(next(item for item in space['resources'] if item['entity'][\"name\"] == space_name)['metadata']['guid'])"
   ]
  },
  {
   "cell_type": "markdown",
   "metadata": {},
   "source": [
    "**Action:** Enter the name of your deployment space in the code below: `space_uid = guid_from_space_name(client, 'YOUR DEPLOYMENT SPACE')`."
   ]
  },
  {
   "cell_type": "code",
   "execution_count": 24,
   "metadata": {},
   "outputs": [
    {
     "name": "stdout",
     "output_type": "stream",
     "text": [
      "Space UID = 1c428722-4621-4ed3-9f77-7082c338ac35\n"
     ]
    }
   ],
   "source": [
    "# Enter the name of your deployment space here:\n",
    "space_uid = guid_from_space_name(client, 'YOUR DEPLOYMENT SPACE')\n",
    "print(\"Space UID = \" + space_uid)"
   ]
  },
  {
   "cell_type": "code",
   "execution_count": 25,
   "metadata": {},
   "outputs": [],
   "source": [
    "# Model Metadata.\n",
    "meta_props={\n",
    "    client.repository.ModelMetaNames.NAME: \"Digits prediction model\",\n",
    "    client.repository.ModelMetaNames.RUNTIME_UID: \"scikit-learn_0.19-py3\",\n",
    "    client.repository.ModelMetaNames.TYPE: \"scikit-learn_0.19\",\n",
    "    client.repository.ModelMetaNames.SPACE_UID: space_uid\n",
    "}"
   ]
  },
  {
   "cell_type": "markdown",
   "metadata": {},
   "source": [
    "You need the model UID to create the deployment. You can extract the model UID from the saved model details and use it in the next section to create the deployment."
   ]
  },
  {
   "cell_type": "code",
   "execution_count": 26,
   "metadata": {},
   "outputs": [
    {
     "name": "stdout",
     "output_type": "stream",
     "text": [
      "Model UID = 7256df3d-cba6-4da9-b6dd-66ee67fae385\n"
     ]
    }
   ],
   "source": [
    "# Create the model artifact.\n",
    "model_artifact = client.repository.store_model(model,\n",
    "                                                   meta_props=meta_props,\n",
    "                                                   training_data=train_data,\n",
    "                                                   training_target=train_labels)\n",
    "model_uid = client.repository.get_model_uid(model_artifact)\n",
    "print(\"Model UID = \" + model_uid)"
   ]
  },
  {
   "cell_type": "markdown",
   "metadata": {},
   "source": [
    "#### Get information about a specific model in the WML repository"
   ]
  },
  {
   "cell_type": "markdown",
   "metadata": {},
   "source": [
    "Get the saved model metadata from WML."
   ]
  },
  {
   "cell_type": "code",
   "execution_count": 27,
   "metadata": {
    "scrolled": false
   },
   "outputs": [
    {
     "name": "stdout",
     "output_type": "stream",
     "text": [
      "{'entity': {'content_status': {'state': 'persisted'},\n",
      "            'label_column': 'l1',\n",
      "            'name': 'Digits prediction model',\n",
      "            'runtime': {'href': '/v4/runtimes/scikit-learn_0.19-py3'},\n",
      "            'space': {'href': '/v4/spaces/1c428722-4621-4ed3-9f77-7082c338ac35'},\n",
      "            'training_data_references': [{'connection': {'access_key_id': 'not_applicable',\n",
      "                                                         'endpoint_url': 'not_applicable',\n",
      "                                                         'secret_access_key': 'not_applicable'},\n",
      "                                          'location': {'bucket': 'not_applicable'},\n",
      "                                          'schema': {'fields': [{'name': 'f0',\n",
      "                                                                 'type': 'float'},\n",
      "                                                                {'name': 'f1',\n",
      "                                                                 'type': 'float'},\n",
      "                                                                {'name': 'f2',\n",
      "                                                                 'type': 'float'},\n",
      "                                                                {'name': 'f3',\n",
      "                                                                 'type': 'float'},\n",
      "                                                                {'name': 'f4',\n",
      "                                                                 'type': 'float'},\n",
      "                                                                {'name': 'f5',\n",
      "                                                                 'type': 'float'},\n",
      "                                                                {'name': 'f6',\n",
      "                                                                 'type': 'float'},\n",
      "                                                                {'name': 'f7',\n",
      "                                                                 'type': 'float'},\n",
      "                                                                {'name': 'f8',\n",
      "                                                                 'type': 'float'},\n",
      "                                                                {'name': 'f9',\n",
      "                                                                 'type': 'float'},\n",
      "                                                                {'name': 'f10',\n",
      "                                                                 'type': 'float'},\n",
      "                                                                {'name': 'f11',\n",
      "                                                                 'type': 'float'},\n",
      "                                                                {'name': 'f12',\n",
      "                                                                 'type': 'float'},\n",
      "                                                                {'name': 'f13',\n",
      "                                                                 'type': 'float'},\n",
      "                                                                {'name': 'f14',\n",
      "                                                                 'type': 'float'},\n",
      "                                                                {'name': 'f15',\n",
      "                                                                 'type': 'float'},\n",
      "                                                                {'name': 'f16',\n",
      "                                                                 'type': 'float'},\n",
      "                                                                {'name': 'f17',\n",
      "                                                                 'type': 'float'},\n",
      "                                                                {'name': 'f18',\n",
      "                                                                 'type': 'float'},\n",
      "                                                                {'name': 'f19',\n",
      "                                                                 'type': 'float'},\n",
      "                                                                {'name': 'f20',\n",
      "                                                                 'type': 'float'},\n",
      "                                                                {'name': 'f21',\n",
      "                                                                 'type': 'float'},\n",
      "                                                                {'name': 'f22',\n",
      "                                                                 'type': 'float'},\n",
      "                                                                {'name': 'f23',\n",
      "                                                                 'type': 'float'},\n",
      "                                                                {'name': 'f24',\n",
      "                                                                 'type': 'float'},\n",
      "                                                                {'name': 'f25',\n",
      "                                                                 'type': 'float'},\n",
      "                                                                {'name': 'f26',\n",
      "                                                                 'type': 'float'},\n",
      "                                                                {'name': 'f27',\n",
      "                                                                 'type': 'float'},\n",
      "                                                                {'name': 'f28',\n",
      "                                                                 'type': 'float'},\n",
      "                                                                {'name': 'f29',\n",
      "                                                                 'type': 'float'},\n",
      "                                                                {'name': 'f30',\n",
      "                                                                 'type': 'float'},\n",
      "                                                                {'name': 'f31',\n",
      "                                                                 'type': 'float'},\n",
      "                                                                {'name': 'f32',\n",
      "                                                                 'type': 'float'},\n",
      "                                                                {'name': 'f33',\n",
      "                                                                 'type': 'float'},\n",
      "                                                                {'name': 'f34',\n",
      "                                                                 'type': 'float'},\n",
      "                                                                {'name': 'f35',\n",
      "                                                                 'type': 'float'},\n",
      "                                                                {'name': 'f36',\n",
      "                                                                 'type': 'float'},\n",
      "                                                                {'name': 'f37',\n",
      "                                                                 'type': 'float'},\n",
      "                                                                {'name': 'f38',\n",
      "                                                                 'type': 'float'},\n",
      "                                                                {'name': 'f39',\n",
      "                                                                 'type': 'float'},\n",
      "                                                                {'name': 'f40',\n",
      "                                                                 'type': 'float'},\n",
      "                                                                {'name': 'f41',\n",
      "                                                                 'type': 'float'},\n",
      "                                                                {'name': 'f42',\n",
      "                                                                 'type': 'float'},\n",
      "                                                                {'name': 'f43',\n",
      "                                                                 'type': 'float'},\n",
      "                                                                {'name': 'f44',\n",
      "                                                                 'type': 'float'},\n",
      "                                                                {'name': 'f45',\n",
      "                                                                 'type': 'float'},\n",
      "                                                                {'name': 'f46',\n",
      "                                                                 'type': 'float'},\n",
      "                                                                {'name': 'f47',\n",
      "                                                                 'type': 'float'},\n",
      "                                                                {'name': 'f48',\n",
      "                                                                 'type': 'float'},\n",
      "                                                                {'name': 'f49',\n",
      "                                                                 'type': 'float'},\n",
      "                                                                {'name': 'f50',\n",
      "                                                                 'type': 'float'},\n",
      "                                                                {'name': 'f51',\n",
      "                                                                 'type': 'float'},\n",
      "                                                                {'name': 'f52',\n",
      "                                                                 'type': 'float'},\n",
      "                                                                {'name': 'f53',\n",
      "                                                                 'type': 'float'},\n",
      "                                                                {'name': 'f54',\n",
      "                                                                 'type': 'float'},\n",
      "                                                                {'name': 'f55',\n",
      "                                                                 'type': 'float'},\n",
      "                                                                {'name': 'f56',\n",
      "                                                                 'type': 'float'},\n",
      "                                                                {'name': 'f57',\n",
      "                                                                 'type': 'float'},\n",
      "                                                                {'name': 'f58',\n",
      "                                                                 'type': 'float'},\n",
      "                                                                {'name': 'f59',\n",
      "                                                                 'type': 'float'},\n",
      "                                                                {'name': 'f60',\n",
      "                                                                 'type': 'float'},\n",
      "                                                                {'name': 'f61',\n",
      "                                                                 'type': 'float'},\n",
      "                                                                {'name': 'f62',\n",
      "                                                                 'type': 'float'},\n",
      "                                                                {'name': 'f63',\n",
      "                                                                 'type': 'float'}],\n",
      "                                                     'id': '1',\n",
      "                                                     'type': 'ndarray'},\n",
      "                                          'type': 'fs'}],\n",
      "            'type': 'scikit-learn_0.19'},\n",
      " 'metadata': {'created_at': '2019-09-25T21:20:48.364Z',\n",
      "              'guid': '7256df3d-cba6-4da9-b6dd-66ee67fae385',\n",
      "              'href': '/v4/models/7256df3d-cba6-4da9-b6dd-66ee67fae385?rev=427e3dbf-a602-4cc6-8bc2-3e9a6db3c8d9',\n",
      "              'id': '7256df3d-cba6-4da9-b6dd-66ee67fae385',\n",
      "              'modified_at': '2019-09-25T21:20:48.478Z',\n",
      "              'rev': '427e3dbf-a602-4cc6-8bc2-3e9a6db3c8d9'}}\n"
     ]
    }
   ],
   "source": [
    "# Details about the model.\n",
    "model_details = client.repository.get_details(model_uid)\n",
    "from pprint import pprint\n",
    "pprint(model_details)"
   ]
  },
  {
   "cell_type": "markdown",
   "metadata": {},
   "source": [
    "#### Get the information of all the models in the WML repository"
   ]
  },
  {
   "cell_type": "code",
   "execution_count": 28,
   "metadata": {},
   "outputs": [
    {
     "name": "stdout",
     "output_type": "stream",
     "text": [
      "------------------------------------  -----------------------  ------------------------  -----------------\n",
      "GUID                                  NAME                     CREATED                   TYPE\n",
      "7256df3d-cba6-4da9-b6dd-66ee67fae385  Digits prediction model  2019-09-25T21:20:48.364Z  scikit-learn_0.19\n",
      "------------------------------------  -----------------------  ------------------------  -----------------\n"
     ]
    }
   ],
   "source": [
    "# Display a list of all the models.\n",
    "models_details = client.repository.list_models()"
   ]
  },
  {
   "cell_type": "markdown",
   "metadata": {},
   "source": [
    "### 4.3 Load a model from the WML repository<a id='load_model'></a>"
   ]
  },
  {
   "cell_type": "markdown",
   "metadata": {},
   "source": [
    "In this subsection, you will learn how to load a saved model from the WML repository."
   ]
  },
  {
   "cell_type": "code",
   "execution_count": 29,
   "metadata": {},
   "outputs": [],
   "source": [
    "loaded_model = client.repository.load(model_uid)"
   ]
  },
  {
   "cell_type": "markdown",
   "metadata": {},
   "source": [
    "Make test predictions to check that the model has been loaded correctly."
   ]
  },
  {
   "cell_type": "code",
   "execution_count": 30,
   "metadata": {},
   "outputs": [],
   "source": [
    "test_predictions = loaded_model.predict(test_data[:10])"
   ]
  },
  {
   "cell_type": "code",
   "execution_count": 31,
   "metadata": {},
   "outputs": [
    {
     "name": "stdout",
     "output_type": "stream",
     "text": [
      "[4 0 5 3 6 9 6 4 7 5]\n"
     ]
    }
   ],
   "source": [
    "# The predictions made by the model.\n",
    "print(test_predictions)"
   ]
  },
  {
   "cell_type": "code",
   "execution_count": 32,
   "metadata": {},
   "outputs": [
    {
     "data": {
      "image/png": "[encoded data removed]",
      "text/plain": [
       "<Figure size 1080x360 with 10 Axes>"
      ]
     },
     "metadata": {},
     "output_type": "display_data"
    }
   ],
   "source": [
    "# Visualize the test set images used for the prediction.\n",
    "f, ((ax1, ax2, ax3, ax4, ax5), (ax6, ax7, ax8, ax9, ax10)) = plt.subplots(2, 5, figsize=(15,5))\n",
    "ax = [ax1, ax2, ax3, ax4, ax5, ax6, ax7, ax8, ax9, ax10]\n",
    "\n",
    "for i in range (len(ax)):\n",
    "    plt.gray()\n",
    "    ax[i].matshow(test_data[i].reshape((8, 8)))"
   ]
  },
  {
   "cell_type": "code",
   "execution_count": 33,
   "metadata": {},
   "outputs": [
    {
     "data": {
      "text/plain": [
       "array([4, 0, 5, 3, 6, 9, 6, 1, 7, 5])"
      ]
     },
     "execution_count": 33,
     "metadata": {},
     "output_type": "execute_result"
    }
   ],
   "source": [
    "# The correct labels for the digits above.\n",
    "test_labels[:10]"
   ]
  },
  {
   "cell_type": "markdown",
   "metadata": {},
   "source": [
    "As you can see, you are able to make predictions which means that the model has loaded correctly. You have now learned how save and load the model in/from the WML repository."
   ]
  },
  {
   "cell_type": "markdown",
   "metadata": {},
   "source": [
    "### 4.4 Delete a model from the WML repository<a id='delete'></a>"
   ]
  },
  {
   "cell_type": "markdown",
   "metadata": {},
   "source": [
    "The code in the following cell deletes a published model from the WML repository. The code is not executable at this stage because you still need the model for deployment."
   ]
  },
  {
   "cell_type": "raw",
   "metadata": {},
   "source": [
    "client.repository.delete(model_uid)"
   ]
  },
  {
   "cell_type": "markdown",
   "metadata": {},
   "source": [
    "<a id='scoring'></a>\n",
    "## 5. Deploy and score data in the WML repository"
   ]
  },
  {
   "cell_type": "markdown",
   "metadata": {},
   "source": [
    "In this section, you will learn how to use the WML API client to perform online scoring and score a test data record.\n",
    "\n",
    "- [5.1 Create an online deployment for the published model](#create)\n",
    "- [5.2 Get deployments](#getdeploy)\n",
    "- [5.3 Score data](#score)\n",
    "- [5.4 Delete the deployment](#deldeploy)\n",
    "- [5.5 Delete the model](#delmodel)\n"
   ]
  },
  {
   "cell_type": "markdown",
   "metadata": {},
   "source": [
    "### 5.1 Create an online deployment for the published model<a id='create'></a>"
   ]
  },
  {
   "cell_type": "markdown",
   "metadata": {},
   "source": [
    "Now, you can create a deployment, *Deployment of scikit handwritten digits model*."
   ]
  },
  {
   "cell_type": "code",
   "execution_count": 34,
   "metadata": {},
   "outputs": [],
   "source": [
    "# Deployment metadata.\n",
    "deploy_meta = {\n",
    "    client.deployments.ConfigurationMetaNames.NAME: \"Deployment of scikit handwritten digits model\",\n",
    "    client.deployments.ConfigurationMetaNames.ONLINE: {}\n",
    "}"
   ]
  },
  {
   "cell_type": "code",
   "execution_count": 35,
   "metadata": {},
   "outputs": [
    {
     "name": "stdout",
     "output_type": "stream",
     "text": [
      "\n",
      "\n",
      "#######################################################################################\n",
      "\n",
      "Synchronous deployment creation for uid: '7256df3d-cba6-4da9-b6dd-66ee67fae385' started\n",
      "\n",
      "#######################################################################################\n",
      "\n",
      "\n",
      "initializing\n",
      "\n",
      "\n",
      "------------------------------------------------------------------------------------------------\n",
      "Successfully finished deployment creation, deployment_uid='46b140c2-7c36-434c-9276-d8d559745503'\n",
      "------------------------------------------------------------------------------------------------\n",
      "\n",
      "\n"
     ]
    }
   ],
   "source": [
    "# Create the deployment.\n",
    "deploy_details = client.deployments.create(model_uid, meta_props=deploy_meta)"
   ]
  },
  {
   "cell_type": "markdown",
   "metadata": {},
   "source": [
    "The model has been successfully deployed.<br><br>"
   ]
  },
  {
   "cell_type": "markdown",
   "metadata": {},
   "source": [
    "### 5.2 Get deployments<a id='getdeploy'></a>"
   ]
  },
  {
   "cell_type": "markdown",
   "metadata": {},
   "source": [
    "You can get the `deployment_uid` by parsing the deployment details for the last deployed model."
   ]
  },
  {
   "cell_type": "code",
   "execution_count": 36,
   "metadata": {},
   "outputs": [
    {
     "name": "stdout",
     "output_type": "stream",
     "text": [
      "Deployment uid = 46b140c2-7c36-434c-9276-d8d559745503\n"
     ]
    }
   ],
   "source": [
    "# Deployment UID.\n",
    "deployment_uid = client.deployments.get_uid(deploy_details)\n",
    "print('Deployment uid = {}'.format(deployment_uid))"
   ]
  },
  {
   "cell_type": "markdown",
   "metadata": {},
   "source": [
    "### 5.3 Score data<a id='score'></a>"
   ]
  },
  {
   "cell_type": "markdown",
   "metadata": {},
   "source": [
    "Use the following method to run a test scoring request against the deployed model."
   ]
  },
  {
   "cell_type": "markdown",
   "metadata": {},
   "source": [
    "**Action**: Prepare scoring payload with the records to score."
   ]
  },
  {
   "cell_type": "code",
   "execution_count": 37,
   "metadata": {
    "scrolled": false
   },
   "outputs": [
    {
     "data": {
      "image/png": "[encoded data removed]",
      "text/plain": [
       "<Figure size 504x288 with 2 Axes>"
      ]
     },
     "metadata": {},
     "output_type": "display_data"
    }
   ],
   "source": [
    "# Prepare scoring payload.\n",
    "job_payload = {\n",
    "    client.deployments.ScoringMetaNames.INPUT_DATA: [{\n",
    "        'values': [list(score_data[0]), list(score_data[1])]\n",
    "    }]\n",
    "}\n",
    "\n",
    "f, (ax1, ax2) = plt.subplots(1, 2, figsize=(7,4))\n",
    "ax = [ax1, ax2]\n",
    "\n",
    "for i in range (len(ax)):\n",
    "    plt.gray()\n",
    "    ax[i].matshow(np.array(job_payload['scoring_input_data'][0]['values'][i]).reshape((8, 8)))"
   ]
  },
  {
   "cell_type": "markdown",
   "metadata": {},
   "source": [
    "Use the ``client.deployments.score()`` method to run the scoring."
   ]
  },
  {
   "cell_type": "code",
   "execution_count": 38,
   "metadata": {
    "scrolled": true
   },
   "outputs": [
    {
     "name": "stdout",
     "output_type": "stream",
     "text": [
      "{'predictions': [{'fields': ['prediction'], 'values': [[5], [2]]}]}\n"
     ]
    }
   ],
   "source": [
    "# Perform prediction and display the result.\n",
    "job_details = client.deployments.score(deployment_uid,job_payload)\n",
    "pprint(job_details)"
   ]
  },
  {
   "cell_type": "markdown",
   "metadata": {},
   "source": [
    "The model had predicted the numbers `5` and `2` respectively."
   ]
  },
  {
   "cell_type": "code",
   "execution_count": 39,
   "metadata": {},
   "outputs": [
    {
     "data": {
      "text/plain": [
       "array([5, 2])"
      ]
     },
     "execution_count": 39,
     "metadata": {},
     "output_type": "execute_result"
    }
   ],
   "source": [
    "digits.target[int(0.9*samples_count):int(0.9*samples_count)+2]"
   ]
  },
  {
   "cell_type": "markdown",
   "metadata": {},
   "source": [
    "As you can see the model has succesfully predicted the values."
   ]
  },
  {
   "cell_type": "markdown",
   "metadata": {},
   "source": [
    "### 5.4 Delete the deployment<a id='deldeploy'></a>"
   ]
  },
  {
   "cell_type": "markdown",
   "metadata": {},
   "source": [
    "Use the following method to delete the deployment."
   ]
  },
  {
   "cell_type": "code",
   "execution_count": 40,
   "metadata": {},
   "outputs": [
    {
     "data": {
      "text/plain": [
       "'SUCCESS'"
      ]
     },
     "execution_count": 40,
     "metadata": {},
     "output_type": "execute_result"
    }
   ],
   "source": [
    "# Delete deployment.\n",
    "client.deployments.delete(deployment_uid)"
   ]
  },
  {
   "cell_type": "markdown",
   "metadata": {},
   "source": [
    "You can check if your deployment has deleted successfully by generating a list of your saved deployments:"
   ]
  },
  {
   "cell_type": "code",
   "execution_count": 41,
   "metadata": {},
   "outputs": [
    {
     "name": "stdout",
     "output_type": "stream",
     "text": [
      "----  ----  -----  -------  -------------\n",
      "GUID  NAME  STATE  CREATED  ARTIFACT_TYPE\n",
      "----  ----  -----  -------  -------------\n"
     ]
    }
   ],
   "source": [
    "# List the deployments.\n",
    "client.deployments.list()"
   ]
  },
  {
   "cell_type": "markdown",
   "metadata": {},
   "source": [
    "### 5.5 Delete the model<a id='delmodel'></a>"
   ]
  },
  {
   "cell_type": "code",
   "execution_count": 42,
   "metadata": {},
   "outputs": [
    {
     "data": {
      "text/plain": [
       "'SUCCESS'"
      ]
     },
     "execution_count": 42,
     "metadata": {},
     "output_type": "execute_result"
    }
   ],
   "source": [
    "# Delete model.\n",
    "client.repository.delete(model_uid)"
   ]
  },
  {
   "cell_type": "markdown",
   "metadata": {},
   "source": [
    "You can check if your model has deleted successfully by generating a list of your saved models:"
   ]
  },
  {
   "cell_type": "code",
   "execution_count": 43,
   "metadata": {},
   "outputs": [
    {
     "name": "stdout",
     "output_type": "stream",
     "text": [
      "----  ----  -------  ----\n",
      "GUID  NAME  CREATED  TYPE\n",
      "----  ----  -------  ----\n"
     ]
    }
   ],
   "source": [
    "# List the models.\n",
    "client.repository.list_models()"
   ]
  },
  {
   "cell_type": "markdown",
   "metadata": {
    "collapsed": true
   },
   "source": [
    "<a id='summary'></a>\n",
    "## 6. Summary and next steps     "
   ]
  },
  {
   "cell_type": "markdown",
   "metadata": {
    "collapsed": true
   },
   "source": [
    "You successfully completed this notebook! \n",
    " \n",
    "You learned how to use the scikit-learn machine learning as well as the Watson Machine Learning (WML) API client for model creation and deployment. "
   ]
  },
  {
   "cell_type": "markdown",
   "metadata": {},
   "source": [
    "### Resources <a id=\"resources\"></a>\n",
    "\n",
    "To learn more about configurations used in this notebook or more sample notebooks, tutorials, documentation, how-tos, and blog posts, check out these links:\n",
    "\n",
    "<div class=\"alert alert-block alert-success\">\n",
    "\n",
    "<h4>IBM documentation</h4>\n",
    "<br>\n",
    " <li> <a href=\"https://wml-api-pyclient-dev-v4.mybluemix.net\" target=\"_blank\" rel=\"noopener no referrer\">watson-machine-learning</a></li> \n",
    " <li> <a href=\"https://www.ibm.com/support/knowledgecenter/SSHGWL_2.0.0/local/welcome.html\" target=\"_blank\" rel=\"noopener noreferrer\">Watson Studio</a></li>\n",
    " \n",
    "<h4> IBM Samples</h4>\n",
    "<br>\n",
    " <li> <a href=\"https://github.com/IBMDataScience/sample-notebooks\" target=\"_blank\" rel=\"noopener noreferrer\">Sample notebooks</a></li>\n",
    " \n",
    "<h4> Others</h4>\n",
    "<br>\n",
    " <li> <a href=\"https://www.python.org\" target=\"_blank\" rel=\"noopener noreferrer\">Official Python website</a></li>\n",
    " <li> <a href=\"https://matplotlib.org\" target=\"_blank\" rel=\"noopener noreferrer\">Matplotlib: Python plotting</a></li>\n",
    " <li> <a href=\"https://scikit-learn.org/stable/modules/generated/sklearn.model_selection.GridSearchCV.html\" target=\"_blank\" rel=\"noopener noreferrer\">scikit-learn: Grid Search</a></li>\n",
    " </div>"
   ]
  },
  {
   "cell_type": "markdown",
   "metadata": {},
   "source": [
    "### Authors\n",
    "\n",
    "**Wojciech Sobala** is a Data Scientist at IBM developing enterprise-level applications that substantially increases clients' ability to turn data into actionable knowledge.  \n",
    "**Ananya Kaushik** is a Data Scientist at IBM."
   ]
  },
  {
   "cell_type": "markdown",
   "metadata": {},
   "source": [
    "Copyright © 2017-2019 IBM. This notebook and its source code are released under the terms of the MIT License."
   ]
  },
  {
   "cell_type": "markdown",
   "metadata": {},
   "source": [
    "<div style='background:#F5F7FA; height:110px; padding: 2em; font-size:14px;'>\n",
    "<span style='font-size:18px;color:#152935;'>Love this notebook? </span>\n",
    "<span style='font-size:15px;color:#152935;float:right;margin-right:40px;'>Don't have an account yet?</span><br>\n",
    "<span style='color:#5A6872;'>Share it with your colleagues and help them discover the power of Watson Studio!</span>\n",
    "<span style='border: 1px solid #3d70b2;padding:8px;float:right;margin-right:40px; color:#3d70b2;'><a href='https://ibm.co/wsnotebooks' target='_blank' style='color: #3d70b2;text-decoration: none;'>Sign Up</a></span><br>\n",
    "</div>"
   ]
  }
 ],
 "metadata": {
  "kernelspec": {
   "display_name": "Python 3",
   "language": "python",
   "name": "python3"
  },
  "language_info": {
   "codemirror_mode": {
    "name": "ipython",
    "version": 3
   },
   "file_extension": ".py",
   "mimetype": "text/x-python",
   "name": "python",
   "nbconvert_exporter": "python",
   "pygments_lexer": "ipython3",
   "version": "3.6.8"
  }
 },
 "nbformat": 4,
 "nbformat_minor": 1
}
