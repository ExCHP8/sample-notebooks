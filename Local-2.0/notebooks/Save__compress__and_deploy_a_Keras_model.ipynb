{
 "cells": [
  {
   "cell_type": "markdown",
   "metadata": {},
   "source": [
    "<table style=\"border: none\" align=\"left\">\n",
    "   <tr style=\"border: none\">\n",
    "      <th style=\"border: none\"><font face=\"verdana\" size=\"4\" color=\"black\"><b>Save, compress, and deploy a handwritten digit prediction Keras model</b></font></th>\n",
    "      <th style=\"border: none\"><img src=\"https://github.com/pmservice/customer-satisfaction-prediction/blob/master/app/static/images/ml_icon_gray.png?raw=true\" alt=\"Watson Machine Learning icon\" height=\"40\" width=\"40\"></th>\n",
    "   </tr> \n",
    "   <tr style=\"border: none\">\n",
    "       <td style=\"border: none\"><img src=\"https://github.com/pmservice/wml-sample-models/raw/master/scikit-learn/hand-written-digits-recognition/images/numbers_banner-04.png\" width=\"600\" alt=\"Icon\"></td>\n",
    "   </tr>\n",
    "</table>"
   ]
  },
  {
   "cell_type": "markdown",
   "metadata": {},
   "source": [
    "This notebook demonstrates how to train, deploy, and score a Deep Learning model using the Watson Machine Learning. Specifically, it shows you how to save the trained Deep Learning model as a `.tgz` file locally and deploy it online. \n",
    "\n",
    "This notebooks uses `keras 2.1.6` and `watson-machine-learning-client-V4`.\n",
    "\n",
    "Some familiarity with Python is helpful. This notebook is compatible with Watson Studio Local 2.0 and Python 3.5.\n",
    "\n",
    "\n",
    "## Learning goals\n",
    "\n",
    "In this notebook, you will learn how to:\n",
    "\n",
    "- Use Watson Machine Learning to deploy/score a Deep Learning (Keras) model online.\n",
    "- Build a Deep Learning (Keras) model and train it.\n",
    "- Save the trained model as a `.tgz` file in the Watson Machine Learning repository.\n",
    "- Deploy the trained model online and score it.\n",
    "\n",
    "\n",
    "## Table of Contents\n",
    "\n",
    "1.\t[Setting up](#setup)\n",
    "2.\t[Explore data](#data)<br>\n",
    "    2.1   [Import the data](#import_the_data)<br>\n",
    "    2.2   [Display the data](#display_the_data)<br>\n",
    "    2.3   [Shape the data](#shape_the_data)<br>\n",
    "3.  [Train and evaluate the model](#train)<br>\n",
    "    3.1   [Train the model](#train_sub)<br>\n",
    "    3.2   [Evaluate the model](#evaluate_model)<br>\n",
    "4.\t[Save the model locally](#save)\n",
    "5.\t[Create an online deployment](#deploy)\n",
    "6.\t[Score data](#score)\n",
    "7.\t[Summary and next steps](#summary)"
   ]
  },
  {
   "cell_type": "markdown",
   "metadata": {},
   "source": [
    "<a id=\"setup\"></a>\n",
    "## 1. Setting up\n",
    "\n",
    "To get started on Watson Studio Local, find documentation on installion and set up <a href=\"https://www.ibm.com/support/knowledgecenter/SSHGWL_2.0.0/wsj/getting-started/get-started-wdp.html\" target=\"_blank\" rel=\"noopener no referrer\">here</a>.\n",
    "\n",
    "-  Local Python environment configurations:\n",
    "  + Python 3.5\n",
    "  + Keras 2.x\n",
    "  + watson-machine-learning-client-V4 *(run code below to install)*\n",
    "  + matplotlib *(run code below to install)*<br>"
   ]
  },
  {
   "cell_type": "markdown",
   "metadata": {},
   "source": [
    "#### Authenticate the Python client on Watson Studio Local."
   ]
  },
  {
   "cell_type": "markdown",
   "metadata": {},
   "source": [
    "<div class=\"alert-block alert-info\"><br>\n",
    "To find your authentication information (your credentials) follow the steps provided here in the <a href=\"https://www.ibm.com/support/knowledgecenter/SSHGWL_2.0.0/wsj/analyze-data/ml-notebook_local.html\" target=\"_blank\" rel=\"noopener no referrer\">Documentation</a>.<br><br>\n",
    "</div>"
   ]
  },
  {
   "cell_type": "markdown",
   "metadata": {},
   "source": [
    "**Action:** Enter the your credentials in the configuration below."
   ]
  },
  {
   "cell_type": "code",
   "execution_count": 1,
   "metadata": {},
   "outputs": [],
   "source": [
    "wml_credentials = {\n",
    "    'url': '***',\n",
    "    'username': '***',\n",
    "    'password': '***',\n",
    "    'instance_id': 'icp'\n",
    "}"
   ]
  },
  {
   "cell_type": "markdown",
   "metadata": {},
   "source": [
    "Import `watson-machine-learning-client` and authenticate the service instance."
   ]
  },
  {
   "cell_type": "code",
   "execution_count": 3,
   "metadata": {},
   "outputs": [],
   "source": [
    "from watson_machine_learning_client import WatsonMachineLearningAPIClient"
   ]
  },
  {
   "cell_type": "code",
   "execution_count": 4,
   "metadata": {},
   "outputs": [],
   "source": [
    "client = WatsonMachineLearningAPIClient(wml_credentials)"
   ]
  },
  {
   "cell_type": "markdown",
   "metadata": {},
   "source": [
    "You can find documentation on the `watsoon-machine-learning-client-V4` <a href=\"https://wml-api-pyclient-dev-v4.mybluemix.net\" target=\"_blank\" rel=\"noopener no referrer\">here</a></li>."
   ]
  },
  {
   "cell_type": "markdown",
   "metadata": {},
   "source": [
    "## 2. Explore the data <a id=\"data\"></a>"
   ]
  },
  {
   "cell_type": "markdown",
   "metadata": {},
   "source": [
    "In this section, you check what the input data looks like before using them to train the model.\n",
    "You need the modules `keras.datasets.mnist` and `matplotlib.pyplot` to see what each digit looks like."
   ]
  },
  {
   "cell_type": "markdown",
   "metadata": {},
   "source": [
    "### 2.1 Import the data <a id=\"import_the_data\"></a>"
   ]
  },
  {
   "cell_type": "markdown",
   "metadata": {},
   "source": [
    "Import the MNIST data set from the `keras.datasets.mnist` module and split the data set into training and test data sets."
   ]
  },
  {
   "cell_type": "code",
   "execution_count": 5,
   "metadata": {},
   "outputs": [
    {
     "name": "stdout",
     "output_type": "stream",
     "text": [
      "Downloading data from https://s3.amazonaws.com/img-datasets/mnist.npz\n",
      "11493376/11490434 [==============================] - 11s 1us/step\n"
     ]
    }
   ],
   "source": [
    "from keras.datasets import mnist\n",
    "\n",
    "(X_train, y_train), (X_test, y_test) = mnist.load_data()"
   ]
  },
  {
   "cell_type": "markdown",
   "metadata": {},
   "source": [
    "Import `matlplotlib.pyplot`."
   ]
  },
  {
   "cell_type": "code",
   "execution_count": 6,
   "metadata": {},
   "outputs": [],
   "source": [
    "import matplotlib.pyplot as plt"
   ]
  },
  {
   "cell_type": "markdown",
   "metadata": {},
   "source": [
    "### 2.2 Display the Data <a id=\"display_the_data\"></a>"
   ]
  },
  {
   "cell_type": "code",
   "execution_count": 7,
   "metadata": {},
   "outputs": [],
   "source": [
    "'''\n",
    "Parameters of \"display_digits\" function:\n",
    "\n",
    "plt     - matplotlib's pyplot module.\n",
    "images  - The array of images. Ex) X_train, X_test in our example\n",
    "labels  - Labels of mapping images. \n",
    "start   - Start index of \"images\" array.\n",
    "end     - End index of \"images\" array.\n",
    "num_row - Number of rows.\n",
    "title   - Title of every image that will be displayed. E.g. 'Training' or 'Test'\n",
    "'''\n",
    "def display_digits(plt, images, labels, start, end, num_row, title):\n",
    "    images_and_labels = list(zip(images, labels))\n",
    "    num_col = int(end/num_row) if (end % 2 == 0) else int(end/num_row) + 1\n",
    "\n",
    "    for index, (image, label) in enumerate(images_and_labels[start:end]):\n",
    "        plt.subplot(num_row, num_col, index + 1)\n",
    "        plt.axis('off')\n",
    "        plt.imshow(image, cmap=plt.cm.gray_r, interpolation='nearest')\n",
    "        plt.title(title + ': %i' % label)"
   ]
  },
  {
   "cell_type": "code",
   "execution_count": 8,
   "metadata": {
    "scrolled": true
   },
   "outputs": [
    {
     "data": {
      "image/png": "[encoded data removed]",
      "text/plain": [
       "<Figure size 432x288 with 5 Axes>"
      ]
     },
     "metadata": {},
     "output_type": "display_data"
    }
   ],
   "source": [
    "display_digits(plt, X_train, y_train, 0, 5, 2, 'Train')"
   ]
  },
  {
   "cell_type": "markdown",
   "metadata": {},
   "source": [
    "### 2.3 Shape the Data <a id=\"shape_the_data\"></a>"
   ]
  },
  {
   "cell_type": "markdown",
   "metadata": {},
   "source": [
    "Training and test data sets the shape and correponding label arrays."
   ]
  },
  {
   "cell_type": "code",
   "execution_count": 9,
   "metadata": {},
   "outputs": [
    {
     "name": "stdout",
     "output_type": "stream",
     "text": [
      "X_train shape: (60000, 28, 28)\n",
      "y_train shape: (60000,)\n",
      "X_test shape: (10000, 28, 28)\n",
      "y_test shape: (10000,)\n"
     ]
    }
   ],
   "source": [
    "print('X_train shape:', X_train.shape)\n",
    "print('y_train shape:', y_train.shape)\n",
    "print('X_test shape:', X_test.shape)\n",
    "print('y_test shape:', y_test.shape)"
   ]
  },
  {
   "cell_type": "markdown",
   "metadata": {},
   "source": [
    "Save copies of `X_test` and `y_test` for scoring in the [Score](#score) section before reshaping them in the [Training](#train_sub) section."
   ]
  },
  {
   "cell_type": "code",
   "execution_count": 10,
   "metadata": {},
   "outputs": [],
   "source": [
    "X_test_score = X_test.copy()\n",
    "y_test_score = y_test.copy()"
   ]
  },
  {
   "cell_type": "markdown",
   "metadata": {},
   "source": [
    "## 3. Train and evaluate the model <a id=\"train\"></a>"
   ]
  },
  {
   "cell_type": "markdown",
   "metadata": {},
   "source": [
    "In this section, you will build a Deep Learning (Keras) model, train it, and evaluate it.\n",
    "\n",
    "Import the required package and modules."
   ]
  },
  {
   "cell_type": "code",
   "execution_count": 11,
   "metadata": {},
   "outputs": [],
   "source": [
    "import keras\n",
    "from keras.models import Sequential\n",
    "from keras.layers import Dense, Dropout, Flatten\n",
    "from keras.layers import Conv2D, MaxPooling2D\n",
    "from keras import backend as K"
   ]
  },
  {
   "cell_type": "markdown",
   "metadata": {},
   "source": [
    "### 3.1 Train the model <a id=\"train_sub\"></a>"
   ]
  },
  {
   "cell_type": "markdown",
   "metadata": {},
   "source": [
    "Set the parameters that are required for the Deep Learning (Keras) model."
   ]
  },
  {
   "cell_type": "code",
   "execution_count": 12,
   "metadata": {},
   "outputs": [],
   "source": [
    "batch_size = 128\n",
    "num_classes = 10\n",
    "epochs = 6"
   ]
  },
  {
   "cell_type": "markdown",
   "metadata": {},
   "source": [
    "As you have seen in the section [Explore the data](#data), the image size is 28x28 pixels."
   ]
  },
  {
   "cell_type": "code",
   "execution_count": 13,
   "metadata": {},
   "outputs": [],
   "source": [
    "img_rows, img_cols = 28, 28"
   ]
  },
  {
   "cell_type": "code",
   "execution_count": 14,
   "metadata": {},
   "outputs": [],
   "source": [
    "if K.image_data_format() == 'channels_first':\n",
    "    X_train = X_train.reshape(X_train.shape[0], 1, img_rows, img_cols)\n",
    "    X_test = X_test.reshape(X_test.shape[0], 1, img_rows, img_cols)\n",
    "    input_shape = (1, img_rows, img_cols)\n",
    "else:\n",
    "    X_train = X_train.reshape(X_train.shape[0], img_rows, img_cols, 1)\n",
    "    X_test = X_test.reshape(X_test.shape[0], img_rows, img_cols, 1)\n",
    "    input_shape = (img_rows, img_cols, 1)"
   ]
  },
  {
   "cell_type": "markdown",
   "metadata": {},
   "source": [
    "Scale the digits to be of range [0-1] instead of [0-255]."
   ]
  },
  {
   "cell_type": "code",
   "execution_count": 15,
   "metadata": {},
   "outputs": [],
   "source": [
    "X_train = X_train.astype('float32')\n",
    "X_test = X_test.astype('float32')\n",
    "X_train /= 255\n",
    "X_test /= 255"
   ]
  },
  {
   "cell_type": "markdown",
   "metadata": {},
   "source": [
    "Convert the label arrays of training/test digit images into one hot format matrix.\n",
    "\n",
    "Ex)  \n",
    "0 => [1, 0, 0, 0, 0, 0, 0, 0, 0, 0]  \n",
    "1 => [0, 1, 0, 0, 0, 0, 0, 0, 0, 0]  \n",
    "2 => [0, 0, 1, 0, 0, 0, 0, 0, 0, 0]  \n",
    ".  \n",
    ".  \n",
    ".  "
   ]
  },
  {
   "cell_type": "code",
   "execution_count": 16,
   "metadata": {},
   "outputs": [],
   "source": [
    "y_train = keras.utils.to_categorical(y_train, num_classes)\n",
    "y_test = keras.utils.to_categorical(y_test, num_classes)"
   ]
  },
  {
   "cell_type": "markdown",
   "metadata": {},
   "source": [
    "#### 3.1.1 Layers in the model <a id=\"layers_model\"></a>"
   ]
  },
  {
   "cell_type": "markdown",
   "metadata": {},
   "source": [
    "- Conv2D layer\n",
    "    - The first 2D convolution layer has 32 output filters and the second 2D convolution layer has 64 output filters.\n",
    "    - `kernel_size` specifies the height and width of the 2D convolution window.\n",
    "    - `activation` is a non-linear function that applies to the output of the layer. `relu` (rectified linear unit) clamps all values below 0 to 0.\n",
    "- MaxPooling layer\n",
    "    - Max pooling basically moves a `m`x`n` window across a 2D input space where `m` and `n` are both 2 in this example. The max value within the window is the output.\n",
    "- Dropout layer\n",
    "    - Helps the model avoid overfitting.\n",
    "- Dense layer\n",
    "    - A regular densely-connected neural network layer.\n",
    "- Flatten layer\n",
    "    - Flattens the input and doesn't affect the batch size.\n",
    "- Adadelta \n",
    "    - Adapts learning rates based on a moving window of gradient updates instead of accumulating all past gradients. This way, Adadelta continues learning even when many updates occur."
   ]
  },
  {
   "cell_type": "code",
   "execution_count": 17,
   "metadata": {},
   "outputs": [],
   "source": [
    "model = Sequential()\n",
    "model.add(Conv2D(32, \n",
    "                 kernel_size=(3, 3),\n",
    "                 activation='relu',\n",
    "                 input_shape=input_shape))\n",
    "model.add(Conv2D(64, (3, 3), activation='relu'))\n",
    "model.add(MaxPooling2D(pool_size=(2, 2)))\n",
    "model.add(Dropout(0.25))\n",
    "model.add(Flatten())\n",
    "model.add(Dense(128, activation='relu'))\n",
    "model.add(Dropout(0.5))\n",
    "model.add(Dense(num_classes, activation='softmax'))\n",
    "\n",
    "model.compile(loss=keras.losses.categorical_crossentropy,\n",
    "              optimizer=keras.optimizers.Adadelta(),\n",
    "              metrics=['accuracy'])"
   ]
  },
  {
   "cell_type": "markdown",
   "metadata": {},
   "source": [
    "Train the model with the parameters you just set."
   ]
  },
  {
   "cell_type": "code",
   "execution_count": 18,
   "metadata": {},
   "outputs": [
    {
     "name": "stdout",
     "output_type": "stream",
     "text": [
      "Train on 60000 samples, validate on 10000 samples\n",
      "Epoch 1/6\n",
      "60000/60000 [==============================] - 368s 6ms/step - loss: 0.2646 - acc: 0.9196 - val_loss: 0.0634 - val_acc: 0.9806\n",
      "Epoch 2/6\n",
      "60000/60000 [==============================] - 371s 6ms/step - loss: 0.0885 - acc: 0.9740 - val_loss: 0.0433 - val_acc: 0.9845\n",
      "Epoch 3/6\n",
      "60000/60000 [==============================] - 381s 6ms/step - loss: 0.0685 - acc: 0.9798 - val_loss: 0.0367 - val_acc: 0.9878\n",
      "Epoch 4/6\n",
      "60000/60000 [==============================] - 383s 6ms/step - loss: 0.0551 - acc: 0.9831 - val_loss: 0.0338 - val_acc: 0.9889\n",
      "Epoch 5/6\n",
      "60000/60000 [==============================] - 380s 6ms/step - loss: 0.0479 - acc: 0.9851 - val_loss: 0.0334 - val_acc: 0.9894\n",
      "Epoch 6/6\n",
      "60000/60000 [==============================] - 369s 6ms/step - loss: 0.0410 - acc: 0.9875 - val_loss: 0.0296 - val_acc: 0.9910\n"
     ]
    }
   ],
   "source": [
    "history = model.fit(X_train,\n",
    "          y_train,\n",
    "          batch_size=batch_size,\n",
    "          epochs=epochs,\n",
    "          verbose=1,\n",
    "          validation_data=(X_test, y_test))"
   ]
  },
  {
   "cell_type": "markdown",
   "metadata": {},
   "source": [
    "Plot the model accuracy on the train and validation (test) data sets. With the given code, the graphs are plotted in `R`'s `ggplot` style."
   ]
  },
  {
   "cell_type": "code",
   "execution_count": 19,
   "metadata": {},
   "outputs": [],
   "source": [
    "plt.style.use('ggplot')"
   ]
  },
  {
   "cell_type": "code",
   "execution_count": 20,
   "metadata": {},
   "outputs": [
    {
     "data": {
      "text/plain": [
       "<matplotlib.legend.Legend at 0x7f5ba8cdc828>"
      ]
     },
     "execution_count": 20,
     "metadata": {},
     "output_type": "execute_result"
    },
    {
     "data": {
      "image/png": "[encoded data removed]",
      "text/plain": [
       "<Figure size 432x288 with 1 Axes>"
      ]
     },
     "metadata": {},
     "output_type": "display_data"
    }
   ],
   "source": [
    "plt.plot(history.history['acc'])\n",
    "plt.plot(history.history['val_acc'])\n",
    "plt.title('Model Accuracy')\n",
    "plt.ylabel('Accuracy')\n",
    "plt.xlabel('Epoch')\n",
    "plt.legend(['train', 'test'], loc='lower right')"
   ]
  },
  {
   "cell_type": "markdown",
   "metadata": {},
   "source": [
    "Plot the model loss on the train and validation (test) data sets."
   ]
  },
  {
   "cell_type": "code",
   "execution_count": 21,
   "metadata": {},
   "outputs": [
    {
     "data": {
      "text/plain": [
       "<matplotlib.legend.Legend at 0x7f5ba8d1d5c0>"
      ]
     },
     "execution_count": 21,
     "metadata": {},
     "output_type": "execute_result"
    },
    {
     "data": {
      "image/png": "[encoded data removed]",
      "text/plain": [
       "<Figure size 432x288 with 1 Axes>"
      ]
     },
     "metadata": {},
     "output_type": "display_data"
    }
   ],
   "source": [
    "plt.plot(history.history['loss'])\n",
    "plt.plot(history.history['val_loss'])\n",
    "plt.title('Model Loss')\n",
    "plt.ylabel('Loss')\n",
    "plt.xlabel('Epoch')\n",
    "plt.legend(['train loss', 'test loss'], loc='upper right')"
   ]
  },
  {
   "cell_type": "markdown",
   "metadata": {},
   "source": [
    "### 3.2 Evaluate the model <a id=\"evaluate_model\"></a>"
   ]
  },
  {
   "cell_type": "markdown",
   "metadata": {},
   "source": [
    "In this section, you evaluate the model and score its accuracy."
   ]
  },
  {
   "cell_type": "code",
   "execution_count": 22,
   "metadata": {},
   "outputs": [],
   "source": [
    "score = model.evaluate(X_test, y_test, verbose=0)"
   ]
  },
  {
   "cell_type": "code",
   "execution_count": 23,
   "metadata": {},
   "outputs": [
    {
     "name": "stdout",
     "output_type": "stream",
     "text": [
      "Test loss: 0.02956021507912701\n",
      "Test accuracy: 99.10%\n"
     ]
    }
   ],
   "source": [
    "print('Test loss:', score[0])\n",
    "print('Test accuracy: {:.2f}%'.format(score[1]*100))"
   ]
  },
  {
   "cell_type": "markdown",
   "metadata": {},
   "source": [
    "## 4. Save the model locally <a id=\"save\"></a>"
   ]
  },
  {
   "cell_type": "markdown",
   "metadata": {},
   "source": [
    "In this section, you will learn how to save the trained Deep Learning (Keras) model locally and compress it into a `.tgz` file."
   ]
  },
  {
   "cell_type": "markdown",
   "metadata": {},
   "source": [
    "First, save the Keras model locally."
   ]
  },
  {
   "cell_type": "code",
   "execution_count": 24,
   "metadata": {},
   "outputs": [],
   "source": [
    "from contextlib import suppress\n",
    "import os\n",
    "\n",
    "filename = 'keras_mnist_model.h5'\n",
    "\n",
    "# Delete a duplicate file if exists.\n",
    "with suppress(OSError):\n",
    "    os.remove(filename)\n",
    "    \n",
    "model.save(filename)"
   ]
  },
  {
   "cell_type": "markdown",
   "metadata": {},
   "source": [
    "Compress the Keras model file into a `.tgz` file. Make sure to add the `z` flag when running the `tar` command."
   ]
  },
  {
   "cell_type": "code",
   "execution_count": 25,
   "metadata": {},
   "outputs": [
    {
     "data": {
      "text/plain": [
       "0"
      ]
     },
     "execution_count": 25,
     "metadata": {},
     "output_type": "execute_result"
    }
   ],
   "source": [
    "#compress keras model\n",
    "tar_filename = filename + '.tgz'\n",
    "cmdstring = 'tar -zcvf ' + tar_filename + ' ' + filename\n",
    "os.system(cmdstring)"
   ]
  },
  {
   "cell_type": "markdown",
   "metadata": {},
   "source": [
    "You can see that the model file `keras_mnist_model.h5` and its compressed version `keras_mnist_model.h5.tgz` are both saved in the local file system."
   ]
  },
  {
   "cell_type": "code",
   "execution_count": 26,
   "metadata": {},
   "outputs": [
    {
     "name": "stdout",
     "output_type": "stream",
     "text": [
      "keras_mnist_model.h5  keras_mnist_model.h5.tgz\tpmml_sample_model\r\n"
     ]
    }
   ],
   "source": [
    "!ls"
   ]
  },
  {
   "cell_type": "markdown",
   "metadata": {},
   "source": [
    "## 5. Create an online deployment <a id=\"deploy\"></a>"
   ]
  },
  {
   "cell_type": "markdown",
   "metadata": {},
   "source": [
    "In this section, you learn how to deploy the compressed version, which is the `.tgz` file, of the trained model described in the section [Save the model locally](#save) online."
   ]
  },
  {
   "cell_type": "markdown",
   "metadata": {},
   "source": [
    "Define the metadata for the trained model in the section [Train and evaluate the model](#train). You can obtain the space `uid` (one of the Meta Names in the model metadata) by using the following code."
   ]
  },
  {
   "cell_type": "markdown",
   "metadata": {},
   "source": [
    "<div class=\"alert-block alert-info\"><br>You can create your own <a href=\"https://www.ibm.com/support/knowledgecenter/SSHGWL_2.0.0/wsj/analyze-data/ml-spaces_local.html\" target=\"_blank\" rel=\"noopener no referrer\">deployment space</a> by selecting <b>Deployment Spaces</b> from the Navigation Menu on the top left of this page.<br><br></div>"
   ]
  },
  {
   "cell_type": "code",
   "execution_count": 27,
   "metadata": {},
   "outputs": [],
   "source": [
    "# Obtain the UId of your space\n",
    "def guid_from_space_name(client, space_name):\n",
    "    instance_details = client.service_instance.get_details()\n",
    "    space = client.spaces.get_details()\n",
    "    return(next(item for item in space['resources'] if item['entity'][\"name\"] == space_name)['metadata']['guid'])"
   ]
  },
  {
   "cell_type": "markdown",
   "metadata": {},
   "source": [
    "**Action:** Enter the name of your deployment space in the code below: `space_uid = guid_from_space_name(client, 'YOUR DEPLOYMENT SPACE')`."
   ]
  },
  {
   "cell_type": "code",
   "execution_count": 28,
   "metadata": {},
   "outputs": [
    {
     "name": "stdout",
     "output_type": "stream",
     "text": [
      "Space UID = 1c428722-4621-4ed3-9f77-7082c338ac35\n"
     ]
    }
   ],
   "source": [
    "# Enter the name of your deployment space here:\n",
    "space_uid = guid_from_space_name(client, 'YOUR DEPLOYMENT SPACE')\n",
    "print(\"Space UID = \" + space_uid)"
   ]
  },
  {
   "cell_type": "code",
   "execution_count": 29,
   "metadata": {},
   "outputs": [],
   "source": [
    "#Model Metadata\n",
    "meta_props={\n",
    "    client.repository.ModelMetaNames.NAME: \"MNIST - compressed keras model\",\n",
    "    client.repository.ModelMetaNames.RUNTIME_UID: \"tensorflow_1.13-py3\",\n",
    "    client.repository.ModelMetaNames.TYPE: \"keras_2.1.6\",\n",
    "    client.repository.ModelMetaNames.SPACE_UID: space_uid\n",
    "}"
   ]
  },
  {
   "cell_type": "markdown",
   "metadata": {},
   "source": [
    "Get the `UID` for the trained model."
   ]
  },
  {
   "cell_type": "code",
   "execution_count": 30,
   "metadata": {},
   "outputs": [
    {
     "name": "stdout",
     "output_type": "stream",
     "text": [
      "Model UID = c4fbe31d-2559-4f0f-a446-377326de233d\n"
     ]
    }
   ],
   "source": [
    "# Create the model artifact.\n",
    "model_artifact = client.repository.store_model(tar_filename,\n",
    "                                                   meta_props=meta_props,\n",
    "                                                   training_data=X_train,\n",
    "                                                   training_target=y_train)\n",
    "model_uid = client.repository.get_model_uid(model_artifact)\n",
    "print(\"Model UID = \" + model_uid)"
   ]
  },
  {
   "cell_type": "code",
   "execution_count": 31,
   "metadata": {},
   "outputs": [
    {
     "name": "stdout",
     "output_type": "stream",
     "text": [
      "{'entity': {'content_status': {'state': 'persisted'},\n",
      "            'name': 'MNIST - compressed keras model',\n",
      "            'runtime': {'href': '/v4/runtimes/tensorflow_1.13-py3'},\n",
      "            'space': {'href': '/v4/spaces/1c428722-4621-4ed3-9f77-7082c338ac35'},\n",
      "            'type': 'keras_2.1.6'},\n",
      " 'metadata': {'created_at': '2019-09-25T22:06:16.577Z',\n",
      "              'guid': 'c4fbe31d-2559-4f0f-a446-377326de233d',\n",
      "              'href': '/v4/models/c4fbe31d-2559-4f0f-a446-377326de233d?rev=b9cd8123-c14f-4771-977d-128ecb674636',\n",
      "              'id': 'c4fbe31d-2559-4f0f-a446-377326de233d',\n",
      "              'modified_at': '2019-09-25T22:06:16.668Z',\n",
      "              'rev': 'b9cd8123-c14f-4771-977d-128ecb674636'}}\n"
     ]
    }
   ],
   "source": [
    "# Details about the model.\n",
    "model_details = client.repository.get_details(model_uid)\n",
    "from pprint import pprint\n",
    "pprint(model_details)"
   ]
  },
  {
   "cell_type": "code",
   "execution_count": 32,
   "metadata": {},
   "outputs": [
    {
     "name": "stdout",
     "output_type": "stream",
     "text": [
      "------------------------------------  ------------------------------  ------------------------  -----------\n",
      "GUID                                  NAME                            CREATED                   TYPE\n",
      "c4fbe31d-2559-4f0f-a446-377326de233d  MNIST - compressed keras model  2019-09-25T22:06:16.577Z  keras_2.1.6\n",
      "------------------------------------  ------------------------------  ------------------------  -----------\n"
     ]
    }
   ],
   "source": [
    "# Display a list of all the models.\n",
    "client.repository.list_models()"
   ]
  },
  {
   "cell_type": "markdown",
   "metadata": {},
   "source": [
    "Now, you can deploy the stored model as a web service (online) by running the following code."
   ]
  },
  {
   "cell_type": "code",
   "execution_count": 33,
   "metadata": {},
   "outputs": [],
   "source": [
    "# Deployment metadata.\n",
    "deploy_meta = {\n",
    "    client.deployments.ConfigurationMetaNames.NAME: \"Keras MNIST model deployment through compressed file.\",\n",
    "    client.deployments.ConfigurationMetaNames.ONLINE: {}\n",
    "}"
   ]
  },
  {
   "cell_type": "code",
   "execution_count": 34,
   "metadata": {},
   "outputs": [
    {
     "name": "stdout",
     "output_type": "stream",
     "text": [
      "\n",
      "\n",
      "#######################################################################################\n",
      "\n",
      "Synchronous deployment creation for uid: 'c4fbe31d-2559-4f0f-a446-377326de233d' started\n",
      "\n",
      "#######################################################################################\n",
      "\n",
      "\n",
      "initializing\n",
      "\n",
      "\n",
      "------------------------------------------------------------------------------------------------\n",
      "Successfully finished deployment creation, deployment_uid='5b6bfc2a-12d3-48e6-849e-37a95837cb54'\n",
      "------------------------------------------------------------------------------------------------\n",
      "\n",
      "\n"
     ]
    }
   ],
   "source": [
    "# Create the deployment.\n",
    "deployment_details = client.deployments.create(model_uid, meta_props=deploy_meta)"
   ]
  },
  {
   "cell_type": "markdown",
   "metadata": {},
   "source": [
    "Let's list the deployed models."
   ]
  },
  {
   "cell_type": "code",
   "execution_count": 35,
   "metadata": {},
   "outputs": [
    {
     "name": "stdout",
     "output_type": "stream",
     "text": [
      "------------------------------------  -----------------------------------------------------  -----  ------------------------  -------------\n",
      "GUID                                  NAME                                                   STATE  CREATED                   ARTIFACT_TYPE\n",
      "5b6bfc2a-12d3-48e6-849e-37a95837cb54  Keras MNIST model deployment through compressed file.  ready  2019-09-25T22:06:25+0000  model\n",
      "------------------------------------  -----------------------------------------------------  -----  ------------------------  -------------\n"
     ]
    }
   ],
   "source": [
    "# List the deployments.\n",
    "client.deployments.list()"
   ]
  },
  {
   "cell_type": "code",
   "execution_count": 36,
   "metadata": {},
   "outputs": [
    {
     "name": "stdout",
     "output_type": "stream",
     "text": [
      "Deployment uid = 5b6bfc2a-12d3-48e6-849e-37a95837cb54\n"
     ]
    }
   ],
   "source": [
    "# Deployment UID.\n",
    "deployment_uid = client.deployments.get_uid(deployment_details)\n",
    "print('Deployment uid = {}'.format(deployment_uid))"
   ]
  },
  {
   "cell_type": "markdown",
   "metadata": {},
   "source": [
    "## 6. Score data <a id=\"score\"></a>"
   ]
  },
  {
   "cell_type": "markdown",
   "metadata": {},
   "source": [
    "In this section, you learn how to score a test data record."
   ]
  },
  {
   "cell_type": "markdown",
   "metadata": {},
   "source": [
    "The first digit of `X_test` will be used for scoring."
   ]
  },
  {
   "cell_type": "code",
   "execution_count": 37,
   "metadata": {},
   "outputs": [
    {
     "data": {
      "image/png": "[encoded data removed]",
      "text/plain": [
       "<Figure size 432x288 with 1 Axes>"
      ]
     },
     "metadata": {},
     "output_type": "display_data"
    }
   ],
   "source": [
    "# Prepare scoring payload.\n",
    "scoring_data = X_test[0].tolist()\n",
    "job_payload = {\n",
    "    client.deployments.ScoringMetaNames.INPUT_DATA: [{\n",
    "        'values': [scoring_data]\n",
    "    }]\n",
    "}\n",
    "\n",
    "display_digits(plt, X_test_score, y_test_score, 0, 1, 1, 'Test')"
   ]
  },
  {
   "cell_type": "markdown",
   "metadata": {},
   "source": [
    "The map keys 'fields' and 'values' corresponds to their corresponding values in the `scoring payload` dictionary and this scores the model. However, only 'values' will be used in this example. Here, you map 'values' to `scoring_data` in the `scoring payload` dictionary."
   ]
  },
  {
   "cell_type": "code",
   "execution_count": 38,
   "metadata": {},
   "outputs": [
    {
     "name": "stdout",
     "output_type": "stream",
     "text": [
      "{'predictions': [{'fields': ['prediction', 'prediction_classes', 'probability'],\n",
      "                  'values': [[[5.872051976607562e-12,\n",
      "                               1.421546994700984e-11,\n",
      "                               7.137735957840619e-10,\n",
      "                               1.967576990224984e-09,\n",
      "                               1.405865983523935e-13,\n",
      "                               7.807435558791157e-15,\n",
      "                               6.284989762582829e-17,\n",
      "                               1.0,\n",
      "                               1.1885123961385968e-12,\n",
      "                               6.612453917753669e-10],\n",
      "                              7,\n",
      "                              [5.872051976607562e-12,\n",
      "                               1.421546994700984e-11,\n",
      "                               7.137735957840619e-10,\n",
      "                               1.967576990224984e-09,\n",
      "                               1.405865983523935e-13,\n",
      "                               7.807435558791157e-15,\n",
      "                               6.284989762582829e-17,\n",
      "                               1.0,\n",
      "                               1.1885123961385968e-12,\n",
      "                               6.612453917753669e-10]]]}]}\n"
     ]
    }
   ],
   "source": [
    "# Perform prediction and display the result.\n",
    "job_details = client.deployments.score(deployment_uid,\n",
    "                                           job_payload)\n",
    "pprint(job_details)"
   ]
  },
  {
   "cell_type": "markdown",
   "metadata": {},
   "source": [
    "As you can see in the results, the predicted label `prediction_classes` and the true label are the same - `7`."
   ]
  },
  {
   "cell_type": "markdown",
   "metadata": {},
   "source": [
    "## 7. Summary and next steps <a id=\"summary\"></a>"
   ]
  },
  {
   "cell_type": "markdown",
   "metadata": {},
   "source": [
    "You successfully completed this notebook! \n",
    " \n",
    "You learned how to train, evaluate, and score a Keras model. You also learned how to deploy the model in a `.tgz` format via the `watson-machine-learning-client-V4` package."
   ]
  },
  {
   "cell_type": "markdown",
   "metadata": {},
   "source": [
    "### Resources <a id=\"resources\"></a>\n",
    "\n",
    "To learn more about configurations used in this notebook or more sample notebooks, tutorials, documentation, how-tos, and blog posts, check out these links:\n",
    "\n",
    "<div class=\"alert alert-block alert-success\">\n",
    "\n",
    "<h4>IBM documentation</h4>\n",
    "<br>\n",
    " <li> <a href=\"https://wml-api-pyclient-dev-v4.mybluemix.net\" target=\"_blank\" rel=\"noopener no referrer\">watson-machine-learning</a></li> \n",
    " <li> <a href=\"https://www.ibm.com/support/knowledgecenter/SSHGWL_2.0.0/local/welcome.html\" target=\"_blank\" rel=\"noopener noreferrer\">Watson Studio</a></li>\n",
    " \n",
    "<h4> IBM Samples</h4>\n",
    "<br>\n",
    " <li> <a href=\"https://github.com/IBMDataScience/sample-notebooks\" target=\"_blank\" rel=\"noopener noreferrer\">Sample notebooks</a></li>\n",
    " \n",
    "<h4> Others</h4>\n",
    "<br>\n",
    " <li> <a href=\"https://matplotlib.org\" target=\"_blank\" rel=\"noopener noreferrer\">Matplotlib: Python plotting</a></li>\n",
    " <li> <a href=\"https://www.python.org\" target=\"_blank\" rel=\"noopener noreferrer\">Official Python website</a><br></li>\n",
    " <li> <a href=\"https://keras.io\" target=\"_blank\" rel=\"noopener noreferrer\">Keras: The Python deep learning library</a></li></div>"
   ]
  },
  {
   "cell_type": "markdown",
   "metadata": {},
   "source": [
    "### Author\n",
    "\n",
    "**Jihyoung Kim**, Ph.D., is a Data Scientist at IBM who strives to make data science easy for everyone through Watson Studio."
   ]
  },
  {
   "cell_type": "markdown",
   "metadata": {},
   "source": [
    "Copyright © 2019 IBM. This notebook and its source code are released under the terms of the MIT License."
   ]
  },
  {
   "cell_type": "markdown",
   "metadata": {},
   "source": [
    "<div style=\"background:#F5F7FA; height:110px; padding: 2em; font-size:14px;\">\n",
    "<span style=\"font-size:18px;color:#152935;\">Love this notebook? </span>\n",
    "<span style=\"font-size:15px;color:#152935;float:right;margin-right:40px;\">Don't have an account yet?</span><br>\n",
    "<span style=\"color:#5A6872;\">Share it with your colleagues and help them discover the power of Watson Studio!</span>\n",
    "<span style=\"border: 1px solid #3d70b2;padding:8px;float:right;margin-right:40px; color:#3d70b2;\"><a href=\"https://ibm.co/wsnotebooks\" target=\"_blank\" style=\"color: #3d70b2;text-decoration: none;\">Sign Up</a></span><br>\n",
    "</div>"
   ]
  }
 ],
 "metadata": {
  "kernelspec": {
   "display_name": "Python 3",
   "language": "python",
   "name": "python3"
  },
  "language_info": {
   "codemirror_mode": {
    "name": "ipython",
    "version": 3
   },
   "file_extension": ".py",
   "mimetype": "text/x-python",
   "name": "python",
   "nbconvert_exporter": "python",
   "pygments_lexer": "ipython3",
   "version": "3.6.8"
  }
 },
 "nbformat": 4,
 "nbformat_minor": 1
}
