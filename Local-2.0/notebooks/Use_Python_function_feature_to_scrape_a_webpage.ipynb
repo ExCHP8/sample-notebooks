{
 "cells": [
  {
   "cell_type": "markdown",
   "metadata": {},
   "source": [
    "<table style=\"border: none\" align=\"left\">\n",
    "   <tr style=\"border: none\">\n",
    "      <th style=\"border: none\"><font face=\"verdana\" size=\"4\" color=\"black\"><b>Use the Python function feature to scrape a webpage</b></font></th>\n",
    "      <th style=\"border: none\"><img src=\"https://github.com/pmservice/customer-satisfaction-prediction/blob/master/app/static/images/ml_icon_gray.png?raw=true\" alt=\"Watson Machine Learning icon\" height=\"40\" width=\"40\"></th>\n",
    "   </tr>\n",
    "   <tr style=\"border: none\">\n",
    "       <th style=\"border: none\"><img src=\"https://raw.githubusercontent.com/pmservice/wml-sample-notebooks/master/images/python.png?raw=true\" width=\"600\" alt=\"Icon\"> </th>\n",
    "   </tr>\n",
    "</table>"
   ]
  },
  {
   "cell_type": "markdown",
   "metadata": {},
   "source": [
    "A *Python function* is a feature to save and deploy Python code through notebooks or IDE. Python functions can be implemented in Python notebooks or through REST API using IDE.\n",
    "\n",
    "The requirement of a Python function is to have a `score()` function inside the Python function. The `score()` function will be called when running the deployed Python function.\n",
    "\n",
    "A Python function can be:\n",
    "- Saved in the Watson Machine Learning (WML) repository.\n",
    "- Deployed in the Watson Machine Learning (WML) repository.\n",
    "- Scored.\n"
   ]
  },
  {
   "cell_type": "markdown",
   "metadata": {},
   "source": [
    "<div class=\"alert-block alert-info\"><br>For more details on the Python function, please refer to this <a href=\"https://dataplatform.cloud.ibm.com/docs/content/analyze-data/ml-deploy-functions.html?audience=wdp\" target=\"_blank\" rel=\"noopener no referrer\">link</a>.<br><br></div>"
   ]
  },
  {
   "cell_type": "markdown",
   "metadata": {},
   "source": [
    "This notebook demonstrates how to save, deploy, and score a Python function. Although the `score()` function is intended to score a Python function, it has other custom functionality such as preprocessing texts.\n",
    "\n",
    "The `score()` function of the Python function in this example notebook does the following tasks:\n",
    "- Scrapes texts that are enclosed in `<p>` tags.\n",
    "- Tokenizes scraped texts.\n",
    "    \n",
    "The data that will be used in this notebook is the <a href=\"http://archive.ics.uci.edu/ml/datasets/SMS+Spam+Collection\" target=\"_blank\" rel=\"noopener no referrer\">SMS spam data set</a> from the UCI Machine Learning Repository. \n",
    "\n",
    "The original data set has both texts and labels in a single file. Only the text parts of the data set were extracted and converted into an `html` file.\n",
    "\n",
    "You can find the `html` version of the SMS messages <a href=\"https://github.com/pmservice/wml-sample-notebooks/tree/master/datasets\" target=\"_blank\" rel=\"noopener no referrer\">here</a>."
   ]
  },
  {
   "cell_type": "markdown",
   "metadata": {},
   "source": [
    "Some familiarity with Python is helpful. This notebook uses `watson-machine-learning-client-V4` and is compatible Watson Studio Local 2.0 and Python 3.5."
   ]
  },
  {
   "cell_type": "markdown",
   "metadata": {},
   "source": [
    "#### To get started on Watson Studio Local, find documentation on installion and set up <a href=\"https://www.ibm.com/support/knowledgecenter/SSHGWL_2.0.0/wsj/getting-started/get-started-wdp.html\" target=\"_blank\" rel=\"noopener no referrer\">here</a>."
   ]
  },
  {
   "cell_type": "markdown",
   "metadata": {},
   "source": [
    "## Table of Contents\n",
    "\n",
    "This notebook contains the following parts:\n",
    "\n",
    "1.\t[Define a Python function](#function)\n",
    "2.\t[Save, deploy, and score the Python function](#deploy)<br>\n",
    "    2.1  [Set up the environment](#setup) <br>\n",
    "    2.2  [Save and deploy the Python function](#save) <br>\n",
    "    2.3  [Score data](#score)<br>\n",
    "3.\t[Summary and next steps](#summary)"
   ]
  },
  {
   "cell_type": "markdown",
   "metadata": {},
   "source": [
    "## 2. Define a Python function <a id=\"function\"></a>"
   ]
  },
  {
   "cell_type": "markdown",
   "metadata": {},
   "source": [
    "You can pass a `parameter dict` to the Python function in the cell below."
   ]
  },
  {
   "cell_type": "code",
   "execution_count": 1,
   "metadata": {},
   "outputs": [],
   "source": [
    "# You can add any information needed to run the Python function, e.g., wml credentials.\n",
    "py_params = {\n",
    "\n",
    "}"
   ]
  },
  {
   "cell_type": "markdown",
   "metadata": {},
   "source": [
    "The code outside the `score()` function executes one time only and can load objects, install libs, etc. \n",
    "\n",
    "In this example, the `score()` function takes the url(s) of the payload and passes it (them) to BeautifulSoup to scrape texts enclosed in `<p>` tags. The extracted texts are passed to `scikit-learn`'s CountVectorizer in order to tokenize the texts."
   ]
  },
  {
   "cell_type": "markdown",
   "metadata": {},
   "source": [
    "<div class=\"alert-block alert-info\"><br>If you are importing modules inside the Python function, you must install packages through the <tt>subprocess</tt> module. More information on Python functions can be found <a href=\"https://www.ibm.com/support/knowledgecenter/SSHGWL_2.0.0/wsj/analyze-data/ml-deploy-functions_local.html\" target=\"_blank\" rel=\"noopener no referrer\">here</a> in the documentation.<br><br></div>"
   ]
  },
  {
   "cell_type": "code",
   "execution_count": 2,
   "metadata": {},
   "outputs": [],
   "source": [
    "def py_funct(params=py_params):  \n",
    "    try:\n",
    "        # Import the subprocess module.\n",
    "        import subprocess\n",
    "        \n",
    "        # Install required packages.\n",
    "        subprocess.check_output('pip install --user lxml', stderr=subprocess.STDOUT, shell=True)\n",
    "        subprocess.check_output('pip install --user bs4', stderr=subprocess.STDOUT, shell=True)\n",
    "        subprocess.check_output('pip install --user sklearn', stderr=subprocess.STDOUT, shell=True)\n",
    "    except subprocess.CalledProcessError as e:        \n",
    "        install_err = 'subprocess.CalledProcessError:\\n\\n' + 'cmd:\\n' + e.cmd + '\\n\\noutput:\\n' + e.output.decode()\n",
    "        raise Exception( 'Installation failed:\\n' + install_err )\n",
    "    \n",
    "    def score(payload):\n",
    "        try:\n",
    "            # Import required modules.\n",
    "            from bs4 import BeautifulSoup\n",
    "            from urllib.request import urlopen\n",
    "            from sklearn.feature_extraction.text import CountVectorizer\n",
    "\n",
    "            urls = payload['values']\n",
    "            final_texts = []   # An array that will have stripped clean text from html tag enclosed text.\n",
    "\n",
    "            for url in urls:            \n",
    "                html = urlopen(url)\n",
    "                soup = BeautifulSoup(html, 'lxml')\n",
    "\n",
    "                p_tags = soup.find_all('p')    # Text is enclosed in <p> tag.\n",
    "\n",
    "                for p in p_tags:\n",
    "                    str_p = str(p)\n",
    "                    text = BeautifulSoup(str_p, 'lxml').get_text()\n",
    "                    final_texts.append(text)\n",
    "\n",
    "            vectorizer = CountVectorizer()\n",
    "            vectorizer.fit_transform(final_texts)\n",
    "\n",
    "            return {'tokens': vectorizer.get_feature_names()}\n",
    "        except Exception as e:\n",
    "            return {'error': repr(e)}\n",
    "        \n",
    "    return score"
   ]
  },
  {
   "cell_type": "markdown",
   "metadata": {},
   "source": [
    "Prepare a sample payload."
   ]
  },
  {
   "cell_type": "code",
   "execution_count": 3,
   "metadata": {},
   "outputs": [],
   "source": [
    "sample_data = {\n",
    "    'fields': ['url'],\n",
    "    'values': [\n",
    "        'https://raw.githubusercontent.com/pmservice/wml-sample-notebooks/master/datasets/sms_spam_text.html'\n",
    "    ]\n",
    "}"
   ]
  },
  {
   "cell_type": "markdown",
   "metadata": {},
   "source": [
    "Pass the list of urls to the Python function."
   ]
  },
  {
   "cell_type": "code",
   "execution_count": 4,
   "metadata": {},
   "outputs": [],
   "source": [
    "pf = py_funct(py_params)\n",
    "tokens = pf(sample_data)"
   ]
  },
  {
   "cell_type": "markdown",
   "metadata": {},
   "source": [
    "The Python function object returns a `dict` that has a list of tokens as the `value`; the name of the `value` is `tokens`."
   ]
  },
  {
   "cell_type": "code",
   "execution_count": 5,
   "metadata": {},
   "outputs": [
    {
     "data": {
      "text/plain": [
       "['00',\n",
       " '000',\n",
       " '000pes',\n",
       " '008704050406',\n",
       " '0089',\n",
       " '0121',\n",
       " '01223585236',\n",
       " '01223585334',\n",
       " '0125698789',\n",
       " '02']"
      ]
     },
     "execution_count": 5,
     "metadata": {},
     "output_type": "execute_result"
    }
   ],
   "source": [
    "# Token list\n",
    "tokens['tokens'][:10]"
   ]
  },
  {
   "cell_type": "markdown",
   "metadata": {},
   "source": [
    "## 3. Save, deploy, and score the Python function <a id=\"deploy\"></a>"
   ]
  },
  {
   "cell_type": "markdown",
   "metadata": {},
   "source": [
    "In this section, you will learn how to save, deploy, and score the Python function in the Watson Machine Learning (WML) repository."
   ]
  },
  {
   "cell_type": "markdown",
   "metadata": {},
   "source": [
    "### 3.1 Set up the environment <a id=\"setup\"></a>\n",
    "\n",
    "In this subsection, you will learn how to save, deploy, and score the *Python function* in the Watson Machine learning (WML) repository."
   ]
  },
  {
   "cell_type": "markdown",
   "metadata": {},
   "source": [
    "**Authenticate the Python client on Watson Studio Local.**"
   ]
  },
  {
   "cell_type": "markdown",
   "metadata": {},
   "source": [
    "<div class=\"alert-block alert-info\"><br>To find your authentication information (your credentials) follow the steps provided here in the <a href=\"https://www.ibm.com/support/knowledgecenter/SSHGWL_2.0.0/wsj/analyze-data/ml-notebook_local.html\" target=\"_blank\" rel=\"noopener no referrer\">Documentation</a>.<br><br></div>"
   ]
  },
  {
   "cell_type": "markdown",
   "metadata": {},
   "source": [
    "**Action**: Enter your credentials in the following cell."
   ]
  },
  {
   "cell_type": "code",
   "execution_count": 6,
   "metadata": {},
   "outputs": [],
   "source": [
    "wml_credentials = {\n",
    "    'url': '---',\n",
    "    'username': '---',\n",
    "    'password': '---',\n",
    "    'instance_id': 'icp'\n",
    "}"
   ]
  },
  {
   "cell_type": "markdown",
   "metadata": {},
   "source": [
    "#### Import the `watson-machine-learning-client` module."
   ]
  },
  {
   "cell_type": "code",
   "execution_count": 8,
   "metadata": {},
   "outputs": [],
   "source": [
    "from watson_machine_learning_client import WatsonMachineLearningAPIClient"
   ]
  },
  {
   "cell_type": "markdown",
   "metadata": {},
   "source": [
    "Now, instantiate a WatsonMachineLearningAPIClient object."
   ]
  },
  {
   "cell_type": "code",
   "execution_count": 9,
   "metadata": {},
   "outputs": [],
   "source": [
    "client = WatsonMachineLearningAPIClient(wml_credentials)"
   ]
  },
  {
   "cell_type": "markdown",
   "metadata": {},
   "source": [
    "### 2.2 Save and deploy the Python function <a id=\"save\"></a>"
   ]
  },
  {
   "cell_type": "markdown",
   "metadata": {},
   "source": [
    "In this subsection, you will learn how to save and deploy the *Python function*.\n",
    "First, store the *Python function* with the metadata.\n",
    "\n",
    "You can obtain the space UID (one of the MetaNames in the function metadata) by using the following cells."
   ]
  },
  {
   "cell_type": "markdown",
   "metadata": {},
   "source": [
    "<div class=\"alert-block alert-info\"><br>You can create your own <a href=\"https://www.ibm.com/support/knowledgecenter/SSHGWL_2.0.0/wsj/analyze-data/ml-spaces_local.html\" target=\"_blank\" rel=\"noopener no referrer\">deployment space</a> by selecting <b>Deployment Spaces</b> from the Navigation Menu on the top left of this page.<br><br></div>"
   ]
  },
  {
   "cell_type": "code",
   "execution_count": 10,
   "metadata": {},
   "outputs": [],
   "source": [
    "# Obtain the UId of your space\n",
    "def guid_from_space_name(client, space_name):\n",
    "    instance_details = client.service_instance.get_details()\n",
    "    space = client.spaces.get_details()\n",
    "    return(next(item for item in space['resources'] if item['entity'][\"name\"] == space_name)['metadata']['guid'])"
   ]
  },
  {
   "cell_type": "markdown",
   "metadata": {},
   "source": [
    "**Action:** Enter the name of your deployment space in the code below: `space_uid = guid_from_space_name(client, 'YOUR DEPLOYMENT SPACE')`."
   ]
  },
  {
   "cell_type": "code",
   "execution_count": 11,
   "metadata": {},
   "outputs": [
    {
     "name": "stdout",
     "output_type": "stream",
     "text": [
      "Space UID = 1c428722-4621-4ed3-9f77-7082c338ac35\n"
     ]
    }
   ],
   "source": [
    "# Enter the name of your deployment space here:\n",
    "space_uid = guid_from_space_name(client, 'YOUR DEPLOYMENT SPACE')\n",
    "print(\"Space UID = \" + space_uid)"
   ]
  },
  {
   "cell_type": "code",
   "execution_count": 12,
   "metadata": {},
   "outputs": [],
   "source": [
    "# Function Metadata.\n",
    "meta_props = {\n",
    "    client.repository.FunctionMetaNames.NAME: \"Web scraping python function\",\n",
    "    client.repository.FunctionMetaNames.RUNTIME_UID: \"ai-function_0.1-py3\",\n",
    "    client.repository.FunctionMetaNames.SPACE_UID: space_uid\n",
    "}"
   ]
  },
  {
   "cell_type": "markdown",
   "metadata": {},
   "source": [
    "You need the function UID to create the deployment. You can extract the function UID from the saved function details and use it in the next section to create the deployment."
   ]
  },
  {
   "cell_type": "code",
   "execution_count": 13,
   "metadata": {},
   "outputs": [
    {
     "name": "stdout",
     "output_type": "stream",
     "text": [
      "Function UID = 39f4f9f4-3af3-4190-bf91-9cbd9043b881\n"
     ]
    }
   ],
   "source": [
    "#Create the function artifact.\n",
    "function_artifact = client.repository.store_function(meta_props=meta_props, function=py_funct)\n",
    "function_uid = client.repository.get_function_uid(function_artifact)\n",
    "print(\"Function UID = \" + function_uid)"
   ]
  },
  {
   "cell_type": "markdown",
   "metadata": {},
   "source": [
    "Get the saved function metadata from the WML Repository."
   ]
  },
  {
   "cell_type": "code",
   "execution_count": 14,
   "metadata": {},
   "outputs": [
    {
     "name": "stdout",
     "output_type": "stream",
     "text": [
      "{'entity': {'name': 'Web scraping python function',\n",
      "            'runtime': {'href': '/v4/runtimes/ai-function_0.1-py3'},\n",
      "            'space': {'href': '/v4/spaces/1c428722-4621-4ed3-9f77-7082c338ac35'},\n",
      "            'type': 'python'},\n",
      " 'metadata': {'created_at': '2019-09-25T22:08:59.755Z',\n",
      "              'guid': '39f4f9f4-3af3-4190-bf91-9cbd9043b881',\n",
      "              'href': '/v4/functions/39f4f9f4-3af3-4190-bf91-9cbd9043b881?rev=4e57f1a6-48b0-4dfd-a088-94da1bbf9763',\n",
      "              'id': '39f4f9f4-3af3-4190-bf91-9cbd9043b881',\n",
      "              'modified_at': '2019-09-25T22:08:59.844Z',\n",
      "              'rev': '4e57f1a6-48b0-4dfd-a088-94da1bbf9763'}}\n"
     ]
    }
   ],
   "source": [
    "# Details about the function.\n",
    "function_details = client.repository.get_details(function_uid)\n",
    "from pprint import pprint\n",
    "pprint(function_details)"
   ]
  },
  {
   "cell_type": "markdown",
   "metadata": {},
   "source": [
    "You can list all stored functions using the `list_functions` method."
   ]
  },
  {
   "cell_type": "code",
   "execution_count": 15,
   "metadata": {},
   "outputs": [
    {
     "name": "stdout",
     "output_type": "stream",
     "text": [
      "------------------------------------  ----------------------------  ------------------------  ------\n",
      "GUID                                  NAME                          CREATED                   TYPE\n",
      "39f4f9f4-3af3-4190-bf91-9cbd9043b881  Web scraping python function  2019-09-25T22:08:59.755Z  python\n",
      "------------------------------------  ----------------------------  ------------------------  ------\n"
     ]
    }
   ],
   "source": [
    "# Display a list of all the functions.\n",
    "client.repository.list_functions()"
   ]
  },
  {
   "cell_type": "markdown",
   "metadata": {},
   "source": [
    "Next, deploy the *Python function*."
   ]
  },
  {
   "cell_type": "code",
   "execution_count": 16,
   "metadata": {},
   "outputs": [],
   "source": [
    "# Deployment metadata.\n",
    "deploy_meta = {\n",
    "    client.deployments.ConfigurationMetaNames.NAME: \"Web scraping python function deployment\",\n",
    "    client.deployments.ConfigurationMetaNames.ONLINE: {}\n",
    "}"
   ]
  },
  {
   "cell_type": "code",
   "execution_count": 17,
   "metadata": {},
   "outputs": [
    {
     "name": "stdout",
     "output_type": "stream",
     "text": [
      "\n",
      "\n",
      "#######################################################################################\n",
      "\n",
      "Synchronous deployment creation for uid: '39f4f9f4-3af3-4190-bf91-9cbd9043b881' started\n",
      "\n",
      "#######################################################################################\n",
      "\n",
      "\n",
      "initializing\n",
      "\n",
      "\n",
      "------------------------------------------------------------------------------------------------\n",
      "Successfully finished deployment creation, deployment_uid='a8a1ab40-9130-4d75-a530-a16d0f7d7ac4'\n",
      "------------------------------------------------------------------------------------------------\n",
      "\n",
      "\n"
     ]
    }
   ],
   "source": [
    "# Create the deployment.\n",
    "deployment_details = client.deployments.create(function_uid, meta_props=deploy_meta)"
   ]
  },
  {
   "cell_type": "markdown",
   "metadata": {},
   "source": [
    "You can check the deployment details by running the following cell."
   ]
  },
  {
   "cell_type": "code",
   "execution_count": 18,
   "metadata": {},
   "outputs": [
    {
     "data": {
      "text/plain": [
       "{'entity': {'asset': {'href': '/v4/functions/39f4f9f4-3af3-4190-bf91-9cbd9043b881?rev=4e57f1a6-48b0-4dfd-a088-94da1bbf9763'},\n",
       "  'auto_redeploy': False,\n",
       "  'custom': {},\n",
       "  'description': '',\n",
       "  'name': 'Web scraping python function deployment',\n",
       "  'online': {},\n",
       "  'status': {'message': '',\n",
       "   'online_url': {'url': 'https://jctesti22-lb-1.fyre.ibm.com:31843/v4/deployments/a8a1ab40-9130-4d75-a530-a16d0f7d7ac4/predictions'},\n",
       "   'state': 'initializing'}},\n",
       " 'metadata': {'created_at': '2019-09-25T22:09:02+0000',\n",
       "  'guid': 'a8a1ab40-9130-4d75-a530-a16d0f7d7ac4',\n",
       "  'href': '/v4/deployments/a8a1ab40-9130-4d75-a530-a16d0f7d7ac4',\n",
       "  'modified_at': '',\n",
       "  'parent': {'href': ''}}}"
      ]
     },
     "execution_count": 18,
     "metadata": {},
     "output_type": "execute_result"
    }
   ],
   "source": [
    "deployment_details"
   ]
  },
  {
   "cell_type": "markdown",
   "metadata": {},
   "source": [
    "Please check if the deployment was successfully created by listing deployments."
   ]
  },
  {
   "cell_type": "code",
   "execution_count": 19,
   "metadata": {
    "scrolled": true
   },
   "outputs": [
    {
     "name": "stdout",
     "output_type": "stream",
     "text": [
      "------------------------------------  ---------------------------------------  ------------  ------------------------  -------------\n",
      "GUID                                  NAME                                     STATE         CREATED                   ARTIFACT_TYPE\n",
      "a8a1ab40-9130-4d75-a530-a16d0f7d7ac4  Web scraping python function deployment  initializing  2019-09-25T22:09:02+0000  function\n",
      "------------------------------------  ---------------------------------------  ------------  ------------------------  -------------\n"
     ]
    }
   ],
   "source": [
    "# List the deployments.\n",
    "client.deployments.list()"
   ]
  },
  {
   "cell_type": "code",
   "execution_count": 20,
   "metadata": {},
   "outputs": [
    {
     "name": "stdout",
     "output_type": "stream",
     "text": [
      "Deployment uid = a8a1ab40-9130-4d75-a530-a16d0f7d7ac4\n"
     ]
    }
   ],
   "source": [
    "# Deployment UID.\n",
    "deployment_uid = client.deployments.get_uid(deployment_details)\n",
    "print('Deployment uid = {}'.format(deployment_uid))"
   ]
  },
  {
   "cell_type": "markdown",
   "metadata": {},
   "source": [
    "### 2.3 Score data <a id=\"score\"></a>"
   ]
  },
  {
   "cell_type": "markdown",
   "metadata": {},
   "source": [
    "In this subsection, you will learn how to score the deployed *Python function* with a test data record."
   ]
  },
  {
   "cell_type": "markdown",
   "metadata": {},
   "source": [
    "The following is the record that will be used for scoring."
   ]
  },
  {
   "cell_type": "code",
   "execution_count": 21,
   "metadata": {},
   "outputs": [
    {
     "name": "stdout",
     "output_type": "stream",
     "text": [
      "{'scoring_input_data': [{'values': ['https://www.ibm.com/cloud/machine-learning']}]}\n"
     ]
    }
   ],
   "source": [
    "# Prepare scoring payload.\n",
    "job_payload = {\n",
    "    client.deployments.ScoringMetaNames.INPUT_DATA: [{\n",
    "        'values': [\n",
    "            'https://www.ibm.com/cloud/machine-learning'\n",
    "        ]\n",
    "    }]\n",
    "}\n",
    "pprint(job_payload)"
   ]
  },
  {
   "cell_type": "code",
   "execution_count": 22,
   "metadata": {
    "scrolled": false
   },
   "outputs": [
    {
     "name": "stdout",
     "output_type": "stream",
     "text": [
      "['accelerate',\n",
      " 'accelerating',\n",
      " 'access',\n",
      " 'accuracy',\n",
      " 'across',\n",
      " 'actively',\n",
      " 'adapts',\n",
      " 'advantage',\n",
      " 'ai',\n",
      " 'algorithms']\n"
     ]
    }
   ],
   "source": [
    "# Perform prediction and display the result.\n",
    "job_details = client.deployments.score(deployment_uid, job_payload)['predictions'][0]['tokens'][:10]\n",
    "pprint(job_details)"
   ]
  },
  {
   "cell_type": "markdown",
   "metadata": {},
   "source": [
    "## 3. Summary and next steps <a id=\"summary\"></a>"
   ]
  },
  {
   "cell_type": "markdown",
   "metadata": {},
   "source": [
    "You successfully completed this notebook! \n",
    " \n",
    "You learned how to define a *Python function*. Also, you learned how to save, deploy, and score the *Python function* in the Watson Machine Learning (WML) repository. \n",
    "\n",
    "In the next step, in addition to tokenizing, a classification model trained with the `SMS spam` data set will be called in the `score()` function and perform scoring."
   ]
  },
  {
   "cell_type": "markdown",
   "metadata": {},
   "source": [
    "### Resources <a id=\"resources\"></a>\n",
    "\n",
    "To learn more about configurations used in this notebook or more sample notebooks, tutorials, documentation, how-tos, and blog posts, check out these links:\n",
    "\n",
    "<div class=\"alert alert-block alert-success\">\n",
    "\n",
    "<h4>IBM documentation</h4>\n",
    "<br>\n",
    " <li> <a href=\"https://wml-api-pyclient-dev-v4.mybluemix.net\" target=\"_blank\" rel=\"noopener no referrer\">watson-machine-learning</a></li> \n",
    " <li> <a href=\"https://www.ibm.com/support/knowledgecenter/SSHGWL_2.0.0/local/welcome.html\" target=\"_blank\" rel=\"noopener noreferrer\">Watson Studio</a></li>\n",
    " \n",
    "<h4> IBM Samples</h4>\n",
    "<br>\n",
    " <li> <a href=\"https://github.com/IBMDataScience/sample-notebooks\" target=\"_blank\" rel=\"noopener noreferrer\">Sample notebooks</a></li>\n",
    " \n",
    "<h4> Others</h4>\n",
    "<br>\n",
    " <li> <a href=\"https://www.crummy.com/software/BeautifulSoup/bs4/doc/\" target=\"_blank\" rel=\"noopener noreferrer\">BeautifulSoup documentation</a></li>\n",
    " <li> <a href=\"https://www.ibm.com/support/knowledgecenter/SSHGWL_2.0.0/wsj/analyze-data/ml-deploy-functions_local.html\" target=\"_blank\" rel=\"noopener noreferrer\">Deploying Python functions in Watson Machine Learning</a></li>\n",
    " <li> <a href=\"https://www.python.org\" target=\"_blank\" rel=\"noopener noreferrer\">Official Python website</a></li>\n",
    " <li> <a href=\"https://scikit-learn.org/stable/\" target=\"_blank\" rel=\"noopener noreferrer\">scikit-learn: machine learning in Python</a></li>\n",
    " <li> <a href=\"https://www.datacamp.com/community/tutorials/web-scraping-using-python\" target=\"_blank\" rel=\"noopener noreferrer\">Web scraping using Python</a></li>\n",
    " <li> <a href=\"https://tokenex.com/resource-center/what-is-tokenization/\" target=\"_blank\" rel=\"noopener noreferrer\">What is tokenization</a></li></div>"
   ]
  },
  {
   "cell_type": "markdown",
   "metadata": {},
   "source": [
    "### Citation\n",
    "\n",
    "Almeida, T. A. and Hidalgo, J. M. G. (2012), [UCI Machine Learning Repository](http://archive.ics.uci.edu/ml/datasets/SMS+Spam+Collection), Irvine, CA."
   ]
  },
  {
   "cell_type": "markdown",
   "metadata": {},
   "source": [
    "### Author\n",
    "\n",
    "**Jihyoung Kim**, Ph.D., is a Data Scientist at IBM who strives to make data science easy for everyone through Watson Studio."
   ]
  },
  {
   "cell_type": "markdown",
   "metadata": {},
   "source": [
    "Copyright © 2019 IBM. This notebook and its source code are released under the terms of the MIT License."
   ]
  },
  {
   "cell_type": "markdown",
   "metadata": {},
   "source": [
    "<div style=\"background:#F5F7FA; height:110px; padding: 2em; font-size:14px;\">\n",
    "<span style=\"font-size:18px;color:#152935;\">Love this notebook? </span>\n",
    "<span style=\"font-size:15px;color:#152935;float:right;margin-right:40px;\">Don't have an account yet?</span><br>\n",
    "<span style=\"color:#5A6872;\">Share it with your colleagues and help them discover the power of Watson Studio!</span>\n",
    "<span style=\"border: 1px solid #3d70b2;padding:8px;float:right;margin-right:40px; color:#3d70b2;\"><a href=\"https://ibm.co/wsnotebooks\" target=\"_blank\" style=\"color: #3d70b2;text-decoration: none;\">Sign Up</a></span><br>\n",
    "</div>"
   ]
  }
 ],
 "metadata": {
  "kernelspec": {
   "display_name": "Python 3",
   "language": "python",
   "name": "python3"
  },
  "language_info": {
   "codemirror_mode": {
    "name": "ipython",
    "version": 3
   },
   "file_extension": ".py",
   "mimetype": "text/x-python",
   "name": "python",
   "nbconvert_exporter": "python",
   "pygments_lexer": "ipython3",
   "version": "3.6.8"
  }
 },
 "nbformat": 4,
 "nbformat_minor": 1
}
