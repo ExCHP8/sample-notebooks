{
 "cells": [
  {
   "cell_type": "markdown",
   "metadata": {},
   "source": [
    "<table style='border: none' align='left'>\n",
    "   <tr style='border: none'>\n",
    "      <th style='border: none'><font face='verdana' size='5' color='black'><b>Deploy a Shiny App using the WML Python client</b></th>\n",
    "      <th style='border: none'><img src='https://github.com/pmservice/customer-satisfaction-prediction/blob/master/app/static/images/ml_icon_gray.png?raw=true' alt='Watson Machine Learning icon' height='40' width='40'></th>\n",
    "   </tr>\n",
    "</table>"
   ]
  },
  {
   "cell_type": "markdown",
   "metadata": {},
   "source": [
    "This notebook catalogs the steps needed to deploy a Shiny app using the Watson Machine Learning Python client. It's compatible with CP4D 3.0 and Python 3.6. "
   ]
  },
  {
   "cell_type": "markdown",
   "metadata": {},
   "source": [
    "R's <a href=\"https://shiny.rstudio.com/\" target=\"_blank\" rel=\"noopener noreferrer\">Shiny</a> package gives users the ability to view interactive visualizations displayed using web applications. The components of a Shiny app are built using an <a href=\"https://www.r-project.org/about.html\" target=\"_blank\" rel=\"noopener noreferrer\">R script</a>. So, when the user interacts with the input displayed in the web application, the Shiny app reacts to those changes, reruns the R Script with the new input, and rerenders the new results in the visualization."
   ]
  },
  {
   "cell_type": "markdown",
   "metadata": {},
   "source": [
    "The R script used to create a Shiny app should have the following components:\n",
    "- **The UI object** - This generates the HTML that displays the app.\n",
    "- **The Server function** - This is the code that generates the visualization that the user will be able to interact with."
   ]
  },
  {
   "cell_type": "markdown",
   "metadata": {},
   "source": [
    "You can see the R script used in the Hello Shiny example below. This script will be used for Shiny deployment in this notebook example."
   ]
  },
  {
   "cell_type": "markdown",
   "metadata": {},
   "source": [
    "```\n",
    "\n",
    "library(shiny)\n",
    " \n",
    "# Define UI for app that draws a histogram ----\n",
    "ui <- fluidPage(\n",
    "\n",
    "  # App title ----\n",
    "  titlePanel(\"Hello Shiny!\"),\n",
    "\n",
    "  # Sidebar layout with input and output definitions ----\n",
    "  sidebarLayout(\n",
    "\n",
    "    # Sidebar panel for inputs ----\n",
    "    sidebarPanel(\n",
    "\n",
    "      # Input: Slider for the number of bins ----\n",
    "      sliderInput(inputId = \"bins\",\n",
    "                  label = \"Number of bins:\",\n",
    "                  min = 1,\n",
    "                  max = 50,\n",
    "                  value = 30)\n",
    "    ),\n",
    "\n",
    "    # Main panel for displaying outputs ----\n",
    "    mainPanel(\n",
    "\n",
    "      # Output: Histogram ----\n",
    "      plotOutput(outputId = \"distPlot\")\n",
    "    )\n",
    "  )\n",
    ")\n",
    "\n",
    "# Define server logic required to draw a histogram ----\n",
    "server <- function(input, output) {\n",
    "\n",
    "  # Histogram of the Old Faithful Geyser Data ----\n",
    "  # with requested number of bins\n",
    "  # This expression that generates a histogram is wrapped in a call\n",
    "  # to renderPlot to indicate that:\n",
    "  #\n",
    "  # 1. It is \"reactive\" and therefore should be automatically\n",
    "  #    re-executed when inputs (input$bins) change\n",
    "  # 2. Its output type is a plot\n",
    "  output$distPlot <- renderPlot({\n",
    "\n",
    "    x    <- faithful$waiting\n",
    "    bins <- seq(min(x), max(x), length.out = input$bins + 1)\n",
    "\n",
    "    hist(x, breaks = bins, col = \"#75AADB\", border = \"white\",\n",
    "         xlab = \"Waiting time to next eruption (in mins)\",\n",
    "         main = \"Histogram of waiting times\")\n",
    "\n",
    "    })\n",
    "\n",
    "}\n",
    "\n",
    "# Create Shiny app ----\n",
    "shinyApp(ui = ui, server = server)\n",
    "```"
   ]
  },
  {
   "cell_type": "markdown",
   "metadata": {},
   "source": [
    "Here, you'll see the UI component that defines the title of the webpage, the sidebar with the input slider (for user interaction), and the panel where the visualization/plot will be displayed.\n",
    "\n",
    "This app uses data from R's built-in dataset <a href=\"https://www.rdocumentation.org/packages/mixAK/versions/5.1/topics/Faithful\" target=\"_blank\" rel=\"noopener noreferrer\">`faithful`</a>, as you can see in the server component. The dataset deals with eruptions of the Old Faithful Geyser in Yellowstone National Park. The histogram rendered on the webpage is defined in the server component – you can see that as the user controls the slider, the input is stored in the variable `input$bins`.\n",
    "\n",
    "Finally, the `shinyApp` function uses the UI and server components to create the Shiny App, which should look like this:"
   ]
  },
  {
   "cell_type": "markdown",
   "metadata": {},
   "source": [
    "![ShinyWebApp](https://github.com/IBMDataScience/sample-notebooks/blob/master/Files/ShinyWebApp.png?raw=true)"
   ]
  },
  {
   "cell_type": "markdown",
   "metadata": {},
   "source": [
    "## Table of Contents"
   ]
  },
  {
   "cell_type": "markdown",
   "metadata": {},
   "source": [
    "This notebook contains the following parts:\n",
    "1. [Set up the environment](#setup)\n",
    "2. [Create a Shiny asset](#shinyasset)\n",
    "3. [Deploy the Shiny app](#deploy)\n",
    "4. [Summary and next steps](#summary)"
   ]
  },
  {
   "cell_type": "markdown",
   "metadata": {},
   "source": [
    "<a id=\"setup\"></a>\n",
    "## 1. Set up the environment\n",
    "\n",
    "To get started on CP4D 3.0, find documentation on installation and set up <a href=\"https://www.ibm.com/support/knowledgecenter/SSQNUZ_3.0.0/cpd/overview/welcome.html\" target=\"_blank\" rel=\"noopener no referrer\">here</a>."
   ]
  },
  {
   "cell_type": "markdown",
   "metadata": {},
   "source": [
    "Import the `watson-machine-learning-client` module.\n",
    "<div class=\"alert alert-block alert-info\">\n",
    "For more information about the <b>Watson Machine Learning Python client (V4)</b>, please refer to the <a href=\"https://wml-api-pyclient-dev-v4.mybluemix.net/\" target=\"_blank\" rel=\"noopener no referrer\">Python client documentation</a>. If you're using the notebook within a project on your CP4D cluster, you do not need to install this package as it comes pre-installed with the notebooks. The installation code below is for demonstration but is non-executable at this stage.\n",
    "</div>"
   ]
  },
  {
   "cell_type": "raw",
   "metadata": {},
   "source": [
    "!pip install --upgrade watson-machine-learning-client-V4"
   ]
  },
  {
   "cell_type": "code",
   "execution_count": 1,
   "metadata": {},
   "outputs": [],
   "source": [
    "from watson_machine_learning_client import WatsonMachineLearningAPIClient"
   ]
  },
  {
   "cell_type": "markdown",
   "metadata": {},
   "source": [
    "**Authenticate the Python client on CP4D.**"
   ]
  },
  {
   "cell_type": "markdown",
   "metadata": {},
   "source": [
    "<div class=\"alert alert-block alert-info\">To find your authentication information (your credentials) follow the steps provided here in the <a href=\"https://www.ibm.com/support/knowledgecenter/SSQNUZ_3.0.0/wsj/analyze-data/ml-authentication-local.html\" target=\"_blank\" rel=\"noopener no referrer\">Documentation.</a></div>"
   ]
  },
  {
   "cell_type": "code",
   "execution_count": 2,
   "metadata": {},
   "outputs": [],
   "source": [
    "# Enter your credentials here\n",
    "import sys,os,os.path\n",
    "token = os.environ['USER_ACCESS_TOKEN']\n",
    "\n",
    "from project_lib.utils import environment\n",
    "url = environment.get_common_api_url()\n",
    "\n",
    "wml_credentials = {\n",
    "\"token\": token,\n",
    "\"instance_id\" : \"wml_local\",\n",
    "\"url\": \"***\",\n",
    "\"version\": \"3.0.0\"\n",
    "}"
   ]
  },
  {
   "cell_type": "code",
   "execution_count": 3,
   "metadata": {},
   "outputs": [],
   "source": [
    "client = WatsonMachineLearningAPIClient(wml_credentials)"
   ]
  },
  {
   "cell_type": "code",
   "execution_count": 4,
   "metadata": {},
   "outputs": [
    {
     "data": {
      "text/plain": [
       "'1.0.64'"
      ]
     },
     "execution_count": 4,
     "metadata": {},
     "output_type": "execute_result"
    }
   ],
   "source": [
    "client.version"
   ]
  },
  {
   "cell_type": "markdown",
   "metadata": {},
   "source": [
    "### To set the default space, follow these steps."
   ]
  },
  {
   "cell_type": "markdown",
   "metadata": {},
   "source": [
    "In order to deploy a Shiny app, you'll need to have a deployment space."
   ]
  },
  {
   "cell_type": "markdown",
   "metadata": {},
   "source": [
    "<div class=\"alert alert-block alert-info\">\n",
    "You can create your own <a href=\"https://www.ibm.com/support/knowledgecenter/SSQNUZ_3.0.0/wsj/analyze-data/ml-spaces_local.html\" target=\"_blank\" rel=\"noopener no referrer\">deployment space</a> by selecting <b>Analytics deployments</b> under <b>Analyze</b> from the Navigation Menu on the top left of this page.</div>"
   ]
  },
  {
   "cell_type": "markdown",
   "metadata": {},
   "source": [
    "Alternatively, you can create a deployment and obtain its UID using the code in the following cell. The cell is not executable cell at this stage, but you can enter the name of your space in the metadata and use it if needed."
   ]
  },
  {
   "cell_type": "raw",
   "metadata": {},
   "source": [
    "space_details = client.spaces.store(meta_props={client.spaces.ConfigurationMetaNames.NAME: \"YOUR DEPLOYMENT SPACE\"})\n",
    "space_uid = client.spaces.get_uid(space_details)\n",
    "print(\"Space UID = \" + space_uid)"
   ]
  },
  {
   "cell_type": "code",
   "execution_count": 5,
   "metadata": {},
   "outputs": [],
   "source": [
    "# Obtain the UID of your space\n",
    "def guid_from_space_name(client, space_name):\n",
    "    space = client.spaces.get_details()\n",
    "    return(next(item for item in space['resources'] if item['entity'][\"name\"] == space_name)['metadata']['guid'])"
   ]
  },
  {
   "cell_type": "markdown",
   "metadata": {},
   "source": [
    "**Action:** Enter the name of your deployment space in the code below: `space_uid = guid_from_space_name(client, 'YOUR DEPLOYMENT SPACE')`."
   ]
  },
  {
   "cell_type": "code",
   "execution_count": 6,
   "metadata": {},
   "outputs": [
    {
     "name": "stdout",
     "output_type": "stream",
     "text": [
      "Space UID = 594b22d1-588c-4de0-9cbd-d98e6fa890e8\n"
     ]
    }
   ],
   "source": [
    "# Enter the name of your deployment space here:\n",
    "space_uid = guid_from_space_name(client, 'YOUR DEPLOYMENT SPACE')\n",
    "print(\"Space UID = \" + space_uid)"
   ]
  },
  {
   "cell_type": "markdown",
   "metadata": {},
   "source": [
    "You can set the default space using the cell below."
   ]
  },
  {
   "cell_type": "code",
   "execution_count": 7,
   "metadata": {},
   "outputs": [
    {
     "data": {
      "text/plain": [
       "'SUCCESS'"
      ]
     },
     "execution_count": 7,
     "metadata": {},
     "output_type": "execute_result"
    }
   ],
   "source": [
    "client.set.default_space(space_uid)"
   ]
  },
  {
   "cell_type": "markdown",
   "metadata": {},
   "source": [
    "<a id=\"shinyasset\"></a>\n",
    "## 2. Create a Shiny asset"
   ]
  },
  {
   "cell_type": "markdown",
   "metadata": {},
   "source": [
    "To create a shiny asset & deploy the shiny app, you need to have a compressed R zip file ready. The R file should be named `app.R` in order to render the interface properly. You can download it below."
   ]
  },
  {
   "cell_type": "code",
   "execution_count": 8,
   "metadata": {},
   "outputs": [
    {
     "name": "stdout",
     "output_type": "stream",
     "text": [
      "--2020-05-12 04:21:05--  https://github.com/IBMDataScience/sample-notebooks/raw/master/Files/app.R.zip\n",
      "Resolving github.com (github.com)... 140.82.114.3\n",
      "Connecting to github.com (github.com)|140.82.114.3|:443... connected.\n",
      "HTTP request sent, awaiting response... 302 Found\n",
      "Location: https://raw.githubusercontent.com/IBMDataScience/sample-notebooks/master/Files/app.R.zip [following]\n",
      "--2020-05-12 04:21:06--  https://raw.githubusercontent.com/IBMDataScience/sample-notebooks/master/Files/app.R.zip\n",
      "Resolving raw.githubusercontent.com (raw.githubusercontent.com)... 199.232.36.133\n",
      "Connecting to raw.githubusercontent.com (raw.githubusercontent.com)|199.232.36.133|:443... connected.\n",
      "HTTP request sent, awaiting response... 200 OK\n",
      "Length: 1251 (1.2K) [application/zip]\n",
      "Saving to: ‘app.R.zip’\n",
      "\n",
      "100%[======================================>] 1,251       --.-K/s   in 0s      \n",
      "\n",
      "2020-05-12 04:21:06 (16.7 MB/s) - ‘app.R.zip’ saved [1251/1251]\n",
      "\n"
     ]
    }
   ],
   "source": [
    "!wget https://github.com/IBMDataScience/sample-notebooks/raw/master/Files/app.R.zip --output-document=app.R.zip"
   ]
  },
  {
   "cell_type": "markdown",
   "metadata": {},
   "source": [
    "Create the following metadata to store the zip file as an asset in your deployment space"
   ]
  },
  {
   "cell_type": "code",
   "execution_count": 9,
   "metadata": {},
   "outputs": [],
   "source": [
    "meta_props = {\n",
    "    client.shiny.ConfigurationMetaNames.NAME: 'My_Shiny_App',\n",
    "    client.shiny.ConfigurationMetaNames.DESCRIPTION: 'My_Shiny_App description' # optional\n",
    "}"
   ]
  },
  {
   "cell_type": "code",
   "execution_count": 10,
   "metadata": {},
   "outputs": [
    {
     "name": "stdout",
     "output_type": "stream",
     "text": [
      "Creating Shiny asset...\n",
      "SUCCESS\n"
     ]
    }
   ],
   "source": [
    "# create the asset for the shiny app\n",
    "app_details = client.shiny.store(meta_props, 'app.R.zip')"
   ]
  },
  {
   "cell_type": "markdown",
   "metadata": {},
   "source": [
    "List the assets using the following code."
   ]
  },
  {
   "cell_type": "code",
   "execution_count": 11,
   "metadata": {},
   "outputs": [
    {
     "name": "stdout",
     "output_type": "stream",
     "text": [
      "------------  -----------  ------------------------------------\n",
      "NAME          ASSET_TYPE   ASSET_ID\n",
      "My_Shiny_App  shiny_asset  f27be506-7389-45a7-8b25-e8cd8574e3b2\n",
      "------------  -----------  ------------------------------------\n"
     ]
    }
   ],
   "source": [
    "client.shiny.list()"
   ]
  },
  {
   "cell_type": "markdown",
   "metadata": {},
   "source": [
    "<div class=\"alert alert-block alert-info\">\n",
    "From the list of assets, you can see that the shiny asset was successfully created in the deployment space.</div>"
   ]
  },
  {
   "cell_type": "markdown",
   "metadata": {},
   "source": [
    "Get the UID and the asset details."
   ]
  },
  {
   "cell_type": "code",
   "execution_count": 12,
   "metadata": {},
   "outputs": [
    {
     "name": "stdout",
     "output_type": "stream",
     "text": [
      "App UID = f27be506-7389-45a7-8b25-e8cd8574e3b2\n",
      "App: {'metadata': {'space_id': '594b22d1-588c-4de0-9cbd-d98e6fa890e8', 'guid': 'f27be506-7389-45a7-8b25-e8cd8574e3b2', 'href': '/v2/assets/f27be506-7389-45a7-8b25-e8cd8574e3b2?space_id=594b22d1-588c-4de0-9cbd-d98e6fa890e8', 'asset_type': 'shiny_asset', 'created_at': '2020-05-12T04:21:08Z', 'last_updated_at': '2020-05-12T04:21:09Z'}, 'entity': {}}\n"
     ]
    }
   ],
   "source": [
    "app_uid = client.shiny.get_uid(app_details)\n",
    "print('App UID = {}'.format(app_uid))\n",
    "print('App: {}'.format(client.shiny.get_details(app_uid)))"
   ]
  },
  {
   "cell_type": "markdown",
   "metadata": {},
   "source": [
    "<a id=\"deploy\"></a>\n",
    "## 2. Deploy the Shiny app"
   ]
  },
  {
   "cell_type": "markdown",
   "metadata": {},
   "source": [
    "Now, you can create the deployment metadata."
   ]
  },
  {
   "cell_type": "code",
   "execution_count": 13,
   "metadata": {},
   "outputs": [],
   "source": [
    "# Deployment metadata.\n",
    "deployment_meta_props = {\n",
    "    client.deployments.ConfigurationMetaNames.NAME: 'My_Shiny_App_deployment',\n",
    "    client.deployments.ConfigurationMetaNames.DESCRIPTION: 'My_Shiny_App_deployment description',\n",
    "    client.deployments.ConfigurationMetaNames.R_SHINY: { 'authentication': 'anyone_with_url' },\n",
    "    client.deployments.ConfigurationMetaNames.HARDWARE_SPEC: { 'name': 'S', 'num_nodes': 1}\n",
    "}"
   ]
  },
  {
   "cell_type": "code",
   "execution_count": 14,
   "metadata": {},
   "outputs": [
    {
     "name": "stdout",
     "output_type": "stream",
     "text": [
      "\n",
      "\n",
      "#######################################################################################\n",
      "\n",
      "Synchronous deployment creation for uid: 'f27be506-7389-45a7-8b25-e8cd8574e3b2' started\n",
      "\n",
      "#######################################################################################\n",
      "\n",
      "\n",
      "initializing......................................................................\n",
      "ready\n",
      "\n",
      "\n",
      "------------------------------------------------------------------------------------------------\n",
      "Successfully finished deployment creation, deployment_uid='195c2bf6-6421-455e-afc0-592a591dafbf'\n",
      "------------------------------------------------------------------------------------------------\n",
      "\n",
      "\n"
     ]
    }
   ],
   "source": [
    "# Create the deployment.\n",
    "deployment = client.deployments.create(app_uid, deployment_meta_props)"
   ]
  },
  {
   "cell_type": "markdown",
   "metadata": {},
   "source": [
    "Get the list of all deployments."
   ]
  },
  {
   "cell_type": "code",
   "execution_count": 15,
   "metadata": {},
   "outputs": [
    {
     "name": "stdout",
     "output_type": "stream",
     "text": [
      "------------------------------------  ------------------------------------  -----  ------------------------  -------------\n",
      "GUID                                  NAME                                  STATE  CREATED                   ARTIFACT_TYPE\n",
      "195c2bf6-6421-455e-afc0-592a591dafbf  My_Shiny_App_deployment               ready  2020-05-12T04:21:11.788Z  unknown\n",
      "02d47cec-562c-4f63-8d87-f47c55246775  Sample SPSS model deployment          ready  2020-05-12T04:04:27.203Z  model\n",
      "4de63cb0-974e-4a1f-8e6d-2ef18119528a  Sample SPSS model deployment          ready  2020-05-12T03:56:56.003Z  model\n",
      "ec0c61f1-9134-48f4-a4e5-0feaa0efc60e  Tensorflow custom library deployment  ready  2020-05-12T03:33:51.111Z  model\n",
      "------------------------------------  ------------------------------------  -----  ------------------------  -------------\n"
     ]
    }
   ],
   "source": [
    "client.deployments.list()"
   ]
  },
  {
   "cell_type": "markdown",
   "metadata": {},
   "source": [
    "<div class=\"alert alert-block alert-info\">\n",
    "From the list of deployments, you can see that Shiny app was successfully deployed.</div>"
   ]
  },
  {
   "cell_type": "code",
   "execution_count": null,
   "metadata": {},
   "outputs": [],
   "source": [
    "import pprint as pp\n",
    "deployment_uid = client.deployments.get_uid(deployment)\n",
    "print('Deployment UID = {}'.format(deployment_uid))\n",
    "print('Shiny app deployment:\\n{}'.format(pp.pformat(deployment)))"
   ]
  },
  {
   "cell_type": "markdown",
   "metadata": {},
   "source": [
    "You can see your Shiny app deployed at the following URL."
   ]
  },
  {
   "cell_type": "code",
   "execution_count": null,
   "metadata": {},
   "outputs": [],
   "source": [
    "# This is the URL where the shiny app is deployed.\n",
    "print('The Shiny app deployment is created at: {}'.format(deployment['entity']['status']['rshiny_url']['url']))"
   ]
  },
  {
   "cell_type": "markdown",
   "metadata": {},
   "source": [
    "You can delete the Shiny deployment and asset using the code below. The cells are not executable at this stage, but you can use them if needed."
   ]
  },
  {
   "cell_type": "raw",
   "metadata": {},
   "source": [
    "client.deployments.delete(deployment_uid)"
   ]
  },
  {
   "cell_type": "raw",
   "metadata": {
    "scrolled": true
   },
   "source": [
    "client.shiny.delete(app_uid)"
   ]
  },
  {
   "cell_type": "markdown",
   "metadata": {},
   "source": [
    "## 4. Summary and next steps <a id=\"summary\"></a>"
   ]
  },
  {
   "cell_type": "markdown",
   "metadata": {},
   "source": [
    "You have successfully completed this notebook!\n",
    "\n",
    "You learned how to use the Python client and Watson Machine Learning to deploy a Shiny app."
   ]
  },
  {
   "cell_type": "markdown",
   "metadata": {},
   "source": [
    "### Resources <a id=\"resources\"></a>\n",
    "\n",
    "To learn more about configurations used in this notebook or more sample notebooks, tutorials, documentation, how-tos, and blog posts, check out these links:\n",
    "\n",
    "<div class=\"alert alert-block alert-success\">\n",
    "\n",
    "<h4>IBM documentation</h4>\n",
    "<br>\n",
    " <li> <a href=\"https://wml-api-pyclient-dev-v4.mybluemix.net\" target=\"_blank\" rel=\"noopener no referrer\">watson-machine-learning</a></li> \n",
    " <li> <a href=\"https://www.ibm.com/support/knowledgecenter/SSQNUZ_3.0.0/cpd/overview/welcome.html\" target=\"_blank\" rel=\"noopener noreferrer\">CP4D 3.0</a></li>\n",
    " <li> <a href=\"https://www.ibm.com/support/knowledgecenter/SSQNUZ_3.0.0/wsj/analyze-data/deploy-shiny-app.html\" target=\"_blank\" rel=\"noopener noreferrer\">Creating a Shiny app deployment</a></li>\n",
    " <li> <a href=\"https://www.ibm.com/support/knowledgecenter/SSQNUZ_3.0.0/wsj/analyze-data/deploy-shiny-app-python.html\" target=\"_blank\" rel=\"noopener noreferrer\">Deploying Shiny apps using Python</a></li>\n",
    " \n",
    "<h4> IBM Samples</h4>\n",
    "<br>\n",
    " <li> <a href=\"https://github.com/IBMDataScience/sample-notebooks\" target=\"_blank\" rel=\"noopener noreferrer\">Sample notebooks</a></li>\n",
    " \n",
    "<h4> Others</h4>\n",
    "<ul>\n",
    " <li> <a href=\"https://www.python.org\" target=\"_blank\" rel=\"noopener noreferrer\">Official Python website</a></li>\n",
    " <li><a href=\"https://shiny.rstudio.com/\" target=\"_blank\" rel=\"noopener noreferrer\">R Shiny</a></li>\n",
    " <ul>\n",
    "     <li><a href=\"https://shiny.rstudio.com/tutorial/\" target=\"_blank\" rel=\"noopener noreferrer\">R Shiny Video Tutorial</a></li>\n",
    "     <li><a href=\"https://shiny.rstudio.com/articles/\" target=\"_blank\" rel=\"noopener noreferrer\">Shiny Articles for Learning</a></li>\n",
    " </ul>\n",
    "</ul>\n",
    " </div>"
   ]
  },
  {
   "cell_type": "markdown",
   "metadata": {},
   "source": [
    "Copyright © 2020 IBM. This notebook and its source code are released under the terms of the MIT License."
   ]
  },
  {
   "cell_type": "markdown",
   "metadata": {},
   "source": [
    "<div style='background:#F5F7FA; height:110px; padding: 2em; font-size:14px;'>\n",
    "<span style='font-size:18px;color:#152935;'>Love this notebook? </span>\n",
    "<span style='font-size:15px;color:#152935;float:right;margin-right:40px;'>Don't have an account yet?</span><br>\n",
    "<span style='color:#5A6872;'>Share it with your colleagues and help them discover the power of Watson Studio!</span>\n",
    "<span style='border: 1px solid #3d70b2;padding:8px;float:right;margin-right:40px; color:#3d70b2;'><a href='https://ibm.co/wsnotebooks' target='_blank' style='color: #3d70b2;text-decoration: none;'>Sign Up</a></span><br>\n",
    "</div>"
   ]
  }
 ],
 "metadata": {
  "kernelspec": {
   "display_name": "Python 3.6",
   "language": "python",
   "name": "python3"
  },
  "language_info": {
   "codemirror_mode": {
    "name": "ipython",
    "version": 3
   },
   "file_extension": ".py",
   "mimetype": "text/x-python",
   "name": "python",
   "nbconvert_exporter": "python",
   "pygments_lexer": "ipython3",
   "version": "3.6.10"
  }
 },
 "nbformat": 4,
 "nbformat_minor": 2
}
