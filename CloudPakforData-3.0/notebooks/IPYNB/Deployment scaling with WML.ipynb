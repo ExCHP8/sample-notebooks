{
 "cells": [
  {
   "cell_type": "markdown",
   "metadata": {},
   "source": [
    "<table style=\"border: none\" align=\"left\">\n",
    "   <tr style=\"border: none\">\n",
    "      <th style=\"border: none\"><font face=\"verdana\" size=\"5\" color=\"black\"><b>Deployment scaling with the Watson Machine Learning Python Client</b></font></th>\n",
    "      <th style=\"border: none\"><img src=\"https://github.com/pmservice/customer-satisfaction-prediction/blob/master/app/static/images/ml_icon_gray.png?raw=true\" alt=\"Watson Machine Learning icon\" height=\"40\" width=\"40\"></th>\n",
    "  <tr style=\"border: none\">\n",
    "   </tr>\n",
    "</table>"
   ]
  },
  {
   "cell_type": "markdown",
   "metadata": {},
   "source": [
    "This notebook demonstrates how to scale deployments using the Watson Machine Learning Python Client. \n",
    "A PMML model will be used in this example – you will first create and deploy the model, and then scale the deployment. \n",
    "\n",
    "Some familiarity with Python is helpful. This notebook uses `watson-machine-learning-client-V4` and is compatible with CP4D 3.0 and Python 3.6.\n",
    "\n",
    "\n",
    "## Table of Contents\n",
    "\n",
    "1.\t[Set up the environment](#setup)<br>\n",
    "2.\t[Save the PMML model](#save)<br>\n",
    "3.  [Create an online deployment](#deploy)<br>\n",
    "4.  [Deployment scaling](#scale)<br>\n",
    "5.\t[Summary and next steps](#summary)"
   ]
  },
  {
   "cell_type": "markdown",
   "metadata": {
    "collapsed": true
   },
   "source": [
    "<a id=\"setup\"></a>\n",
    "## 1. Set up the environment\n",
    "\n",
    "To get started on CP4D, find documentation on installation and set up <a href=\"https://www.ibm.com/support/knowledgecenter/SSQNUZ_3.0.0/cpd/overview/welcome.html\" target=\"_blank\" rel=\"noopener no referrer\">here</a>."
   ]
  },
  {
   "cell_type": "markdown",
   "metadata": {},
   "source": [
    "Import the `watson-machine-learning-client` module.\n",
    "<div class=\"alert alert-block alert-info\">\n",
    "For more information about the <b>Watson Machine Learning Python client (V4)</b>, please refer to the <a href=\"https://wml-api-pyclient-dev-v4.mybluemix.net/\" target=\"_blank\" rel=\"noopener no referrer\">Python client documentation</a>. If you're using the notebook within a project on your CP4D cluster, you do not need to install this package as it comes pre-installed with the notebooks. The installation code below is for demonstration but is non-executable at this stage.\n",
    "</div>"
   ]
  },
  {
   "cell_type": "raw",
   "metadata": {},
   "source": [
    "!pip install --upgrade watson-machine-learning-client-V4"
   ]
  },
  {
   "cell_type": "code",
   "execution_count": 1,
   "metadata": {},
   "outputs": [],
   "source": [
    "from watson_machine_learning_client import WatsonMachineLearningAPIClient"
   ]
  },
  {
   "cell_type": "markdown",
   "metadata": {},
   "source": [
    "**Authenticate the Python client on CP4D.**\n",
    "<div class=\"alert alert-block alert-info\">To find your authentication information (your credentials) follow the steps provided here in the <a href=\"https://www.ibm.com/support/knowledgecenter/SSQNUZ_3.0.0/wsj/analyze-data/ml-authentication-local.html\" target=\"_blank\" rel=\"noopener no referrer\">Documentation.</a></div>"
   ]
  },
  {
   "cell_type": "code",
   "execution_count": 2,
   "metadata": {},
   "outputs": [],
   "source": [
    "# Enter your credentials here.\n",
    "\n",
    "import sys,os,os.path\n",
    "token = os.environ['USER_ACCESS_TOKEN']\n",
    "\n",
    "wml_credentials = {\n",
    "     \"instance_id\": \"openshift\",\n",
    "     #\"token\": token,\n",
    "    \"username\": \"---\",\n",
    "    \"password\": \"---\",\n",
    "     \"url\": \"---\",\n",
    "     \"version\": \"3.0.0\"\n",
    "}"
   ]
  },
  {
   "cell_type": "code",
   "execution_count": 3,
   "metadata": {},
   "outputs": [],
   "source": [
    "client = WatsonMachineLearningAPIClient(wml_credentials)"
   ]
  },
  {
   "cell_type": "code",
   "execution_count": 4,
   "metadata": {},
   "outputs": [
    {
     "data": {
      "text/plain": [
       "'1.0.64'"
      ]
     },
     "execution_count": 4,
     "metadata": {},
     "output_type": "execute_result"
    }
   ],
   "source": [
    "client.version"
   ]
  },
  {
   "cell_type": "markdown",
   "metadata": {},
   "source": [
    "<div class=\"alert alert-block alert-info\">\n",
    "To save the model in the deployment space, you have to obtain the space UID of the deployment space you've created. Then you'd use this to set the default space using the python client. From there you'll be able to deploy and score the model in your deployment space.</div>"
   ]
  },
  {
   "cell_type": "markdown",
   "metadata": {},
   "source": [
    "### To set the default space, follow these steps."
   ]
  },
  {
   "cell_type": "markdown",
   "metadata": {},
   "source": [
    "<div class=\"alert alert-block alert-info\">\n",
    "You can create your own <a href=\"https://www.ibm.com/support/knowledgecenter/SSQNUZ_3.0.0/wsj/analyze-data/ml-spaces_local.html\" target=\"_blank\" rel=\"noopener no referrer\">deployment space</a> by selecting <b>Analytics deployments</b> under <b>Analyze</b> from the Navigation Menu on the top left of this page.</div>"
   ]
  },
  {
   "cell_type": "markdown",
   "metadata": {},
   "source": [
    "Alternatively, you can create a deployment and obtain its UID using the code in the following cell. The cell is not executable cell at this stage, but you can enter the name of your space in the metadata and use it if needed."
   ]
  },
  {
   "cell_type": "raw",
   "metadata": {},
   "source": [
    "space_details = client.spaces.store(meta_props={client.spaces.ConfigurationMetaNames.NAME: \"YOUR DEPLOYMENT SPACE\"})\n",
    "space_uid = client.spaces.get_uid(space_details)\n",
    "print(\"Space UID = \" + space_uid)"
   ]
  },
  {
   "cell_type": "code",
   "execution_count": 5,
   "metadata": {},
   "outputs": [],
   "source": [
    "# Obtain the UId of your space\n",
    "def guid_from_space_name(client, space_name):\n",
    "    space = client.spaces.get_details()\n",
    "    return(next(item for item in space['resources'] if item['entity'][\"name\"] == space_name)['metadata']['guid'])"
   ]
  },
  {
   "cell_type": "markdown",
   "metadata": {},
   "source": [
    "**Action:** Enter the name of your deployment space in the code below: `space_uid = guid_from_space_name(client, 'YOUR DEPLOYMENT SPACE')`."
   ]
  },
  {
   "cell_type": "code",
   "execution_count": 6,
   "metadata": {},
   "outputs": [
    {
     "name": "stdout",
     "output_type": "stream",
     "text": [
      "Space UID = 594b22d1-588c-4de0-9cbd-d98e6fa890e8\n"
     ]
    }
   ],
   "source": [
    "# Enter the name of your deployment space here:\n",
    "space_uid = guid_from_space_name(client, 'YOUR DEPLOYMENT SPACE')\n",
    "print(\"Space UID = \" + space_uid)"
   ]
  },
  {
   "cell_type": "markdown",
   "metadata": {},
   "source": [
    "You can set the default space using the cell below."
   ]
  },
  {
   "cell_type": "code",
   "execution_count": 7,
   "metadata": {},
   "outputs": [
    {
     "data": {
      "text/plain": [
       "'SUCCESS'"
      ]
     },
     "execution_count": 7,
     "metadata": {},
     "output_type": "execute_result"
    }
   ],
   "source": [
    "client.set.default_space(space_uid)"
   ]
  },
  {
   "cell_type": "markdown",
   "metadata": {},
   "source": [
    "<a id=\"save\"></a>\n",
    "## 2. Save the PMML model"
   ]
  },
  {
   "cell_type": "markdown",
   "metadata": {},
   "source": [
    "Download the sample PMML model, `iris_chaid.xml` from the <a href=\"https://github.com/pmservice/wml-sample-models\" target=\"_blank\" rel=\"noopener no referrer\">Git repository</a>."
   ]
  },
  {
   "cell_type": "code",
   "execution_count": 8,
   "metadata": {},
   "outputs": [
    {
     "name": "stdout",
     "output_type": "stream",
     "text": [
      "--2020-05-12 05:14:01--  https://github.com/pmservice/wml-sample-models/raw/master/pmml/iris-species/model/iris_chaid.xml\n",
      "Resolving github.com (github.com)... 140.82.113.4\n",
      "Connecting to github.com (github.com)|140.82.113.4|:443... connected.\n",
      "HTTP request sent, awaiting response... 302 Found\n",
      "Location: https://raw.githubusercontent.com/pmservice/wml-sample-models/master/pmml/iris-species/model/iris_chaid.xml [following]\n",
      "--2020-05-12 05:14:01--  https://raw.githubusercontent.com/pmservice/wml-sample-models/master/pmml/iris-species/model/iris_chaid.xml\n",
      "Resolving raw.githubusercontent.com (raw.githubusercontent.com)... 151.101.68.133\n",
      "Connecting to raw.githubusercontent.com (raw.githubusercontent.com)|151.101.68.133|:443... connected.\n",
      "HTTP request sent, awaiting response... 200 OK\n",
      "Length: 13876 (14K) [text/plain]\n",
      "Saving to: ‘iris_chaid.xml’\n",
      "\n",
      "100%[======================================>] 13,876      --.-K/s   in 0.07s   \n",
      "\n",
      "2020-05-12 05:14:02 (204 KB/s) - ‘iris_chaid.xml’ saved [13876/13876]\n",
      "\n"
     ]
    }
   ],
   "source": [
    "!wget https://github.com/pmservice/wml-sample-models/raw/master/pmml/iris-species/model/iris_chaid.xml --output-document=iris_chaid.xml"
   ]
  },
  {
   "cell_type": "markdown",
   "metadata": {},
   "source": [
    "Store the downloaded file as CHAID PMML model for Iris data, and then list all the saved models. First, you need to create the model metadata. The software specification required to save and deploy a PMML model is `spark-mllib_2.3`."
   ]
  },
  {
   "cell_type": "code",
   "execution_count": 9,
   "metadata": {},
   "outputs": [],
   "source": [
    "# Model metadata\n",
    "software_spec_uid = client.software_specifications.get_uid_by_name('spark-mllib_2.3')\n",
    "props_pmml = {\n",
    "    client.repository.ModelMetaNames.NAME: 'CHAID PMML model for Iris data',\n",
    "    client.repository.ModelMetaNames.SOFTWARE_SPEC_UID: software_spec_uid,\n",
    "    client.repository.ModelMetaNames.TYPE: 'pmml_4.3'\n",
    "}"
   ]
  },
  {
   "cell_type": "markdown",
   "metadata": {},
   "source": [
    "<div class=\"alert alert-block alert-info\">To list the supported software specifications, run <tt>client.software_specifications.list()</tt>.<br>To find more information about the frameworks with their respective <b>Types</b> and <b>Software Specifications</b>, visit the <a href=\"https://www.ibm.com/support/knowledgecenter/SSQNUZ_3.0.0/wsj/wmls/wmls-deploy-python-types.html\" target=\"_blank\" rel=\"noopener no referrer\">documentation</a>.</div>"
   ]
  },
  {
   "cell_type": "markdown",
   "metadata": {},
   "source": [
    "You can extract the model UID from the saved model details."
   ]
  },
  {
   "cell_type": "code",
   "execution_count": 10,
   "metadata": {},
   "outputs": [
    {
     "name": "stdout",
     "output_type": "stream",
     "text": [
      "Model UID = f71d596f-1da5-4c9b-a051-3b97ce6321dd\n"
     ]
    }
   ],
   "source": [
    "# Create the model artifact.\n",
    "model_artifact = client.repository.store_model(\"iris_chaid.xml\", meta_props=props_pmml)\n",
    "model_uid = client.repository.get_model_uid(model_artifact)\n",
    "print(\"Model UID = \" + model_uid)"
   ]
  },
  {
   "cell_type": "markdown",
   "metadata": {},
   "source": [
    "You can list all stored models once again using the `list_models` method."
   ]
  },
  {
   "cell_type": "code",
   "execution_count": 11,
   "metadata": {},
   "outputs": [
    {
     "name": "stdout",
     "output_type": "stream",
     "text": [
      "------------------------------------  -------------------------------  ------------------------  -----------------\n",
      "GUID                                  NAME                             CREATED                   TYPE\n",
      "f71d596f-1da5-4c9b-a051-3b97ce6321dd  CHAID PMML model for Iris data   2020-05-12T05:14:04.002Z  pmml_4.3\n",
      "4a15c2ec-56a9-440b-a81c-5468e6b5f81b  SPSS model for Churn prediction  2020-05-12T04:04:21.002Z  spss-modeler_18.1\n",
      "90a7aef0-2d46-49ed-994d-c065512828f2  SPSS model for Churn prediction  2020-05-12T03:56:45.002Z  spss-modeler_18.1\n",
      "81a55ede-932a-44d5-86be-ef48cbed778d  Tensorflow custom library        2020-05-12T03:33:45.002Z  tensorflow_1.15\n",
      "------------------------------------  -------------------------------  ------------------------  -----------------\n"
     ]
    }
   ],
   "source": [
    "# Display a list of all the models.\n",
    "client.repository.list_models()"
   ]
  },
  {
   "cell_type": "markdown",
   "metadata": {},
   "source": [
    "<div class=\"alert alert-block alert-info\">\n",
    "From the list of stored models, you can see that model is successfully saved in the deployment space. You can view your model by selecting <b>Analytics Deployments</b> under <b>Analyze</b> from the Navigation Menu and clicking on your deployment space name.</div>"
   ]
  },
  {
   "cell_type": "markdown",
   "metadata": {},
   "source": [
    "## 3. Create an online deployment<a id=\"deploy\"></a>"
   ]
  },
  {
   "cell_type": "markdown",
   "metadata": {},
   "source": [
    "Now, create an online deployment, *Iris species prediction*, for the stored model, and list all the online deployments for the model."
   ]
  },
  {
   "cell_type": "code",
   "execution_count": 12,
   "metadata": {},
   "outputs": [],
   "source": [
    "# Deployment metadata.\n",
    "deploy_meta = {\n",
    "    client.deployments.ConfigurationMetaNames.NAME: \"Iris species prediction\",\n",
    "    client.deployments.ConfigurationMetaNames.ONLINE: {}\n",
    "}"
   ]
  },
  {
   "cell_type": "code",
   "execution_count": 13,
   "metadata": {},
   "outputs": [
    {
     "name": "stdout",
     "output_type": "stream",
     "text": [
      "\n",
      "\n",
      "#######################################################################################\n",
      "\n",
      "Synchronous deployment creation for uid: 'f71d596f-1da5-4c9b-a051-3b97ce6321dd' started\n",
      "\n",
      "#######################################################################################\n",
      "\n",
      "\n",
      "initializing......................\n",
      "ready\n",
      "\n",
      "\n",
      "------------------------------------------------------------------------------------------------\n",
      "Successfully finished deployment creation, deployment_uid='42cc7fe7-f872-474f-9002-bc8ad0481ee6'\n",
      "------------------------------------------------------------------------------------------------\n",
      "\n",
      "\n"
     ]
    }
   ],
   "source": [
    "# Create an online deployment.\n",
    "deployment_details = client.deployments.create(model_uid, meta_props=deploy_meta)"
   ]
  },
  {
   "cell_type": "code",
   "execution_count": 14,
   "metadata": {},
   "outputs": [
    {
     "name": "stdout",
     "output_type": "stream",
     "text": [
      "------------------------------------  ------------------------------------  -----  ------------------------  -------------\n",
      "GUID                                  NAME                                  STATE  CREATED                   ARTIFACT_TYPE\n",
      "42cc7fe7-f872-474f-9002-bc8ad0481ee6  Iris species prediction               ready  2020-05-12T05:14:08.942Z  model\n",
      "195c2bf6-6421-455e-afc0-592a591dafbf  My_Shiny_App_deployment               ready  2020-05-12T04:21:11.788Z  unknown\n",
      "02d47cec-562c-4f63-8d87-f47c55246775  Sample SPSS model deployment          ready  2020-05-12T04:04:27.203Z  model\n",
      "4de63cb0-974e-4a1f-8e6d-2ef18119528a  Sample SPSS model deployment          ready  2020-05-12T03:56:56.003Z  model\n",
      "ec0c61f1-9134-48f4-a4e5-0feaa0efc60e  Tensorflow custom library deployment  ready  2020-05-12T03:33:51.111Z  model\n",
      "------------------------------------  ------------------------------------  -----  ------------------------  -------------\n"
     ]
    }
   ],
   "source": [
    "# List the deployments.\n",
    "client.deployments.list()"
   ]
  },
  {
   "cell_type": "markdown",
   "metadata": {},
   "source": [
    "<div class=\"alert alert-block alert-info\">\n",
    "From the list of deployed models, you can see that model was successfully deployed in the deployment space.</div>"
   ]
  },
  {
   "cell_type": "markdown",
   "metadata": {},
   "source": [
    "Get the UID of the deployment."
   ]
  },
  {
   "cell_type": "code",
   "execution_count": 15,
   "metadata": {},
   "outputs": [
    {
     "name": "stdout",
     "output_type": "stream",
     "text": [
      "Deployment UID = 42cc7fe7-f872-474f-9002-bc8ad0481ee6\n"
     ]
    }
   ],
   "source": [
    "# Deployment UID.\n",
    "deployment_uid = client.deployments.get_uid(deployment_details)\n",
    "print('Deployment UID = {}'.format(deployment_uid))"
   ]
  },
  {
   "cell_type": "markdown",
   "metadata": {},
   "source": [
    "## 4. Deployment scaling <a id=\"scale\"></a>"
   ]
  },
  {
   "cell_type": "markdown",
   "metadata": {},
   "source": [
    "<a href=\"https://www.ibm.com/support/knowledgecenter/SSQNUZ_3.0.0/wsj/analyze-data/deploy-online.html#creating-multiple-copies-of-an-online-deployment\" target=\"_blank\" rel=\"noopener noreferrer\">Deployment scaling</a> can only be performed on online deployments and <a href=\"https://www.ibm.com/support/knowledgecenter/SSQNUZ_3.0.0/wsj/analyze-data/deploy-shiny-app-python.html#creating-multiple-copies-of-a-shiny-app-deployment\" target=\"_blank\" rel=\"noopener noreferrer\">Shiny deployments</a>. When you deployed the model in the previous section, only one copy was created by default. In order to change the number of copies, you need to modify the deployment metadata, specifically the `HARDWARE_SPEC` field as shown below. The `num_nodes` field is where you specify the number of deployment copies. You must also populate either the `name` or `id` field under `HARDWARE_SPEC` as well. "
   ]
  },
  {
   "cell_type": "markdown",
   "metadata": {},
   "source": [
    "In this example, 3 deployment copies will be made. Both the `id` and `name` fields are specified, but as mentioned previously, only one of them is required."
   ]
  },
  {
   "cell_type": "code",
   "execution_count": 16,
   "metadata": {},
   "outputs": [],
   "source": [
    "hardware_spec_uid = client.hardware_specifications.get_uid_by_name(\"M\")\n",
    "change_meta = {\n",
    "    client.deployments.ConfigurationMetaNames.NAME: \"Iris species prediction update\",\n",
    "    client.deployments.ConfigurationMetaNames.HARDWARE_SPEC: {\n",
    "        \"name\":\"M\",\n",
    "        \"id\": hardware_spec_uid,\n",
    "        \"num_nodes\": 3\n",
    "    }\n",
    "}"
   ]
  },
  {
   "cell_type": "code",
   "execution_count": 17,
   "metadata": {},
   "outputs": [
    {
     "data": {
      "text/plain": [
       "'c076e82c-b2a7-4d20-9c0f-1f0c2fdf5a24'"
      ]
     },
     "execution_count": 17,
     "metadata": {},
     "output_type": "execute_result"
    }
   ],
   "source": [
    "hardware_spec_uid"
   ]
  },
  {
   "cell_type": "code",
   "execution_count": 18,
   "metadata": {},
   "outputs": [
    {
     "name": "stdout",
     "output_type": "stream",
     "text": [
      "-------------  ------------------------------------  --------------------------------------------------------------------------------------------------------------------------------------\n",
      "NAME           ID                                    DESCRIPTION\n",
      "V100x2         a02f3ab5-6964-4f06-a870-c7cc69187895  A hardware specification providing 52 CPU cores and 96 GiB of memory with 2 Nvidia v100 GPUs.\n",
      "L              a6c4923b-b8e4-444c-9f43-8a7ec3020110  A hardware specification providing 8 CPU cores and 32 GiB of memory.\n",
      "Default Spark  ac59d20a-9c7c-4504-a853-788ef35969da  A hardware specification for Spark with 1 CPU and 4 GiB of memory for master and worker nodes, with 2 workers.\n",
      "XXS            b128f957-581d-46d0-95b6-8af5cd5be580  A hardware specification providing one CPU core and 2 GiB of memory.\n",
      "M-Spark        b2232f7a-bfad-4822-9bce-6ba1af49217a  A hardware specification for Spark service with 2 CPU and 8 GiB of memory for master and 4 CPU and 16 GiB of memory for worker nodes.\n",
      "V100x4         b305a34b-acb5-4850-a44a-f1f15e304a20  A hardware specification providing 104 CPU cores and 192 GiB of memory with 4 Nvidia v100 GPUs.\n",
      "M              c076e82c-b2a7-4d20-9c0f-1f0c2fdf5a24  A hardware specification providing 4 CPU cores and 16 GiB of memory.\n",
      "XL-Spark       c1791762-1333-4dd3-b7bb-228ae287da31  A hardware specification for Spark service with 4 CPU and 16 GiB of memory for master and 8 CPU and 32 GiB of memory for worker nodes.\n",
      "K80            cf70f086-916d-4684-91a7-264c49c6d425  A hardware specification providing 4 CPU cores and 48 GiB of memory with 1 Nvidia K80 GPU.\n",
      "XL             d0aa1ae8-a889-42e2-a099-041b604b9289  A hardware specification providing 16 CPU cores and 64 GiB of memory.\n",
      "K80x2          d0f52aa1-4312-40f6-ad84-f16cf5c6da9e  A hardware specification providing 8 CPU cores and 96 GiB of memory with 2 Nvidia K80 GPUs.\n",
      "S-Spark        d92943ba-9f47-407d-9280-c85281687a1e  A hardware specification for Spark service with 1 CPU and 4 GiB of memory for master and 2 CPU and 8 GiB of memory for worker nodes.\n",
      "XS-Spark       e18b1866-e8fa-49c8-9aa5-dfaaed6ffa43  A hardware specification for Spark with 1 CPU and 4 GiB of memory for master and worker nodes.\n",
      "S              e7ed1d6c-2e89-42d7-aed5-863b972c1d2b  A hardware specification providing 2 CPU cores and 8 GiB of memory.\n",
      "K80x4          ec104857-0389-4649-af8e-971fc11982d0  A hardware specification providing 16 CPU cores and 192 GiB of memory with 4 Nvidia K80 GPUs.\n",
      "L-Spark        f132f14a-6c0f-4570-b87c-98ad1e297953  A hardware specification for Spark service with 2 CPU and 8 GiB of memory for master and 8 CPU and 32 GiB of memory for worker nodes.\n",
      "V100           f327bdf7-5634-43d8-b1e3-445afeaf18b9  A hardware specification providing 26 CPU cores and 48 GiB of memory with 1 Nvidia v100 GPU.\n",
      "XS             f3ebac7d-0a75-410c-8b48-a931428cc4c5  A hardware specification providing one CPU core and 4 GiB of memory.\n",
      "-------------  ------------------------------------  --------------------------------------------------------------------------------------------------------------------------------------\n"
     ]
    }
   ],
   "source": [
    "client.hardware_specifications.list()"
   ]
  },
  {
   "cell_type": "markdown",
   "metadata": {},
   "source": [
    "Use the following code to update the deployment using the deployment scaling metadata in the previous cell."
   ]
  },
  {
   "cell_type": "code",
   "execution_count": 19,
   "metadata": {},
   "outputs": [],
   "source": [
    "update_details = client.deployments.update(deployment_uid, change_meta)"
   ]
  },
  {
   "cell_type": "markdown",
   "metadata": {},
   "source": [
    "You can see the status of the deployment scaling here."
   ]
  },
  {
   "cell_type": "code",
   "execution_count": 20,
   "metadata": {},
   "outputs": [
    {
     "data": {
      "text/plain": [
       "['scaling_status: inprogress',\n",
       " 'requested_copies: 3',\n",
       " 'deployed_copies: 1',\n",
       " 'more_info: ']"
      ]
     },
     "execution_count": 20,
     "metadata": {},
     "output_type": "execute_result"
    }
   ],
   "source": [
    "client.deployments.get_details(deployment_uid)['entity']['status']['message']['text'].split(';')"
   ]
  },
  {
   "cell_type": "markdown",
   "metadata": {},
   "source": [
    "Once the `scaling_status` updates to `completed` when you run line of code above, the deployment has successfully been scaled."
   ]
  },
  {
   "cell_type": "code",
   "execution_count": 21,
   "metadata": {},
   "outputs": [
    {
     "name": "stdout",
     "output_type": "stream",
     "text": [
      "------------------------------------  ------------------------------------  -----  ------------------------  -------------\n",
      "GUID                                  NAME                                  STATE  CREATED                   ARTIFACT_TYPE\n",
      "42cc7fe7-f872-474f-9002-bc8ad0481ee6  Iris species prediction update        ready  2020-05-12T05:14:08.942Z  model\n",
      "195c2bf6-6421-455e-afc0-592a591dafbf  My_Shiny_App_deployment               ready  2020-05-12T04:21:11.788Z  unknown\n",
      "02d47cec-562c-4f63-8d87-f47c55246775  Sample SPSS model deployment          ready  2020-05-12T04:04:27.203Z  model\n",
      "4de63cb0-974e-4a1f-8e6d-2ef18119528a  Sample SPSS model deployment          ready  2020-05-12T03:56:56.003Z  model\n",
      "ec0c61f1-9134-48f4-a4e5-0feaa0efc60e  Tensorflow custom library deployment  ready  2020-05-12T03:33:51.111Z  model\n",
      "------------------------------------  ------------------------------------  -----  ------------------------  -------------\n"
     ]
    }
   ],
   "source": [
    "client.deployments.list()"
   ]
  },
  {
   "cell_type": "markdown",
   "metadata": {},
   "source": [
    "<a id=\"summary\"></a>\n",
    "## 5. Summary and next steps"
   ]
  },
  {
   "cell_type": "markdown",
   "metadata": {},
   "source": [
    "You successfully completed this notebook! You learned how to use Watson Machine Learning to scale a deployment."
   ]
  },
  {
   "cell_type": "markdown",
   "metadata": {},
   "source": [
    "### Resources <a id=\"resources\"></a>\n",
    "\n",
    "To learn more about configurations used in this notebook or more sample notebooks, tutorials, documentation, how-tos, and blog posts, check out these links:\n",
    "\n",
    "<div class=\"alert alert-block alert-success\">\n",
    "\n",
    "<h4>IBM documentation</h4>\n",
    "<br>\n",
    " <li> <a href=\"https://wml-api-pyclient-dev-v4.mybluemix.net\" target=\"_blank\" rel=\"noopener no referrer\">watson-machine-learning</a></li> \n",
    " <li> <a href=\"https://www.ibm.com/support/knowledgecenter/SSQNUZ_3.0.0/cpd/overview/welcome.html\" target=\"_blank\" rel=\"noopener noreferrer\">CP4D 3.0</a></li>\n",
    " \n",
    "<h4> IBM Samples</h4>\n",
    "<br>\n",
    " <li> <a href=\"https://github.com/IBMDataScience/sample-notebooks\" target=\"_blank\" rel=\"noopener noreferrer\">Sample notebooks</a></li>\n",
    " <li> <a href=\"https://github.com/pmservice/wml-sample-models\" target=\"_blank\" rel=\"noopener noreferrer\">Sample models</a></li>\n",
    " \n",
    "<h4> Others</h4>\n",
    "<br>\n",
    " <li> <a href=\"https://www.python.org\" target=\"_blank\" rel=\"noopener noreferrer\">Official Python website</a><br></li>\n",
    "</div>"
   ]
  },
  {
   "cell_type": "markdown",
   "metadata": {},
   "source": [
    "### Citation\n",
    "\n",
    "Dua, D. and Karra Taniskidou, E. (2017). [UCI Machine Learning Repository](http://archive.ics.uci.edu/ml). Irvine, CA: University of California, School of Information and Computer Science."
   ]
  },
  {
   "cell_type": "markdown",
   "metadata": {},
   "source": [
    "### Authors\n",
    "\n",
    "**Wojciech Sobala** is a Data Scientist at IBM.  <br><br>\n",
    "**Jihyoung Kim**, Ph.D., is a Data Scientist at IBM who strives to make data science easy for everyone through Watson Studio."
   ]
  },
  {
   "cell_type": "markdown",
   "metadata": {},
   "source": [
    "Copyright © 2018-2020 IBM. This notebook and its source code are released under the terms of the MIT License."
   ]
  },
  {
   "cell_type": "markdown",
   "metadata": {},
   "source": [
    "<div style=\"background:#F5F7FA; height:110px; padding: 2em; font-size:14px;\">\n",
    "<span style=\"font-size:18px;color:#152935;\">Love this notebook? </span>\n",
    "<span style=\"font-size:15px;color:#152935;float:right;margin-right:40px;\">Don't have an account yet?</span><br>\n",
    "<span style=\"color:#5A6872;\">Share it with your colleagues and help them discover the power of Watson Studio!</span>\n",
    "<span style=\"border: 1px solid #3d70b2;padding:8px;float:right;margin-right:40px; color:#3d70b2;\"><a href=\"https://ibm.co/wsnotebooks\" target=\"_blank\" style=\"color: #3d70b2;text-decoration: none;\">Sign Up</a></span><br>\n",
    "</div>"
   ]
  }
 ],
 "metadata": {
  "kernelspec": {
   "display_name": "Python 3.6",
   "language": "python",
   "name": "python3"
  },
  "language_info": {
   "codemirror_mode": {
    "name": "ipython",
    "version": 3
   },
   "file_extension": ".py",
   "mimetype": "text/x-python",
   "name": "python",
   "nbconvert_exporter": "python",
   "pygments_lexer": "ipython3",
   "version": "3.6.10"
  }
 },
 "nbformat": 4,
 "nbformat_minor": 1
}
