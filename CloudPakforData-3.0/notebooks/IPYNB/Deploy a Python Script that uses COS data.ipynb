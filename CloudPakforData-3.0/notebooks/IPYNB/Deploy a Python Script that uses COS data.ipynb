{
 "cells": [
  {
   "cell_type": "markdown",
   "metadata": {},
   "source": [
    "<table style=\"border: none\" align=\"left\">\n",
    "   <tr style=\"border: none\">\n",
    "      <th style=\"border: none\"><font face=\"verdana\" size=\"5\" color=\"black\"><b>Deploy a Python Script that uses COS connected data</b></th>\n",
    "      <th style=\"border: none\"><img src=\"https://github.com/pmservice/customer-satisfaction-prediction/blob/master/app/static/images/ml_icon_gray.png?raw=true\" alt=\"Watson Machine Learning icon\" height=\"40\" width=\"40\"></th>\n",
    "</table>"
   ]
  },
  {
   "cell_type": "markdown",
   "metadata": {},
   "source": [
    "This notebook demonstrates how to deploy a python script which makes uses of connected data from Cloud Object Storage (COS). You will upload data to a COS bucket and create a connection using your COS credentials, as well as a connected data asset with the uploaded data. You'll learn how to save and deploy a Python script in the deployment space – when this script is run, it will use the COS connected data and store the results in the deployment space."
   ]
  },
  {
   "cell_type": "markdown",
   "metadata": {},
   "source": [
    "## Table of Contents\n",
    "1. [Setting up](#setup) <br>\n",
    "2. [Create a Cloud Object Storage (COS) connection](#cos)<br>\n",
    "    2.1 [Create a COS bucket and upload data](#cos_bucket)<br>\n",
    "    2.2 [Create a connection](#connection)\n",
    "3. [Create a Python script](#script)\n",
    "4. [Create connected data assets](#data_asset)<br>\n",
    "    4.1 [Create the source connected data](#source_data)<br>\n",
    "    4.2 [Create destination connected data](#destination_data)\n",
    "5. [Deploy the Python script](#deploy)<br>\n",
    "    5.1 [Create a batch deployment](#deploy_script)<br>\n",
    "    5.2 [Run the script](#run_script)<br>\n",
    "    5.3 [Cleaning up](#delete)\n",
    "6. [Summary and next steps](#summary)"
   ]
  },
  {
   "cell_type": "markdown",
   "metadata": {},
   "source": [
    "To get started on CP4D 3.0, find documentation on installation and set up <a href=\"https://www.ibm.com/support/knowledgecenter/SSQNUZ_3.0.0/cpd/overview/welcome.html\" target=\"_blank\" rel=\"noopener no referrer\">here</a>."
   ]
  },
  {
   "cell_type": "markdown",
   "metadata": {},
   "source": [
    "## 1. Setting up <a id=\"setup\"></a>"
   ]
  },
  {
   "cell_type": "markdown",
   "metadata": {},
   "source": [
    "Import the `watson-machine-learning-client` module.\n",
    "<div class=\"alert alert-block alert-info\">\n",
    "For more information about the <b>Watson Machine Learning Python client (V4)</b>, please refer to the <a href=\"https://wml-api-pyclient-dev-v4.mybluemix.net/\" target=\"_blank\" rel=\"noopener no referrer\">Python client documentation</a>. If you're using the notebook within a project on your CP4D cluster, the package comes pre-installed with the notebooks – but you can update the package below.\n",
    "</div>"
   ]
  },
  {
   "cell_type": "code",
   "execution_count": null,
   "metadata": {},
   "outputs": [],
   "source": [
    "!pip install --upgrade watson-machine-learning-client-V4"
   ]
  },
  {
   "cell_type": "code",
   "execution_count": 1,
   "metadata": {},
   "outputs": [],
   "source": [
    "from watson_machine_learning_client import WatsonMachineLearningAPIClient"
   ]
  },
  {
   "cell_type": "markdown",
   "metadata": {},
   "source": [
    "**Authenticate the Python client on CP4D.**\n",
    "\n",
    "<div class=\"alert alert-block alert-info\">To find your authentication information (your credentials) follow the steps provided here in the <a href=\"https://www.ibm.com/support/knowledgecenter/SSQNUZ_3.0.0/wsj/analyze-data/ml-authentication-local.html\" target=\"_blank\" rel=\"noopener no referrer\">Documentation.</a></div>\n",
    "\n",
    "**Action**: Enter your credentials in the following cell."
   ]
  },
  {
   "cell_type": "code",
   "execution_count": 2,
   "metadata": {},
   "outputs": [],
   "source": [
    "wml_credentials = {\n",
    "    \"url\": \"---\",\n",
    "    \"username\": \"---\",\n",
    "    \"password\": \"---\",\n",
    "    \"instance_id\": \"wml_local\",\n",
    "    \"version\": \"3.0.0\"\n",
    "}"
   ]
  },
  {
   "cell_type": "code",
   "execution_count": 3,
   "metadata": {},
   "outputs": [],
   "source": [
    "client = WatsonMachineLearningAPIClient(wml_credentials)"
   ]
  },
  {
   "cell_type": "markdown",
   "metadata": {},
   "source": [
    "### To set the default space, follow these steps."
   ]
  },
  {
   "cell_type": "markdown",
   "metadata": {},
   "source": [
    "<div class=\"alert alert-block alert-info\">\n",
    "You can create your own <a href=\"https://www.ibm.com/support/knowledgecenter/SSQNUZ_3.0.0/wsj/analyze-data/ml-spaces_local.html\" target=\"_blank\" rel=\"noopener no referrer\">deployment space</a> by selecting <b>Analytics deployments</b> under <b>Analyze</b> from the Navigation Menu on the top left of this page.</div>"
   ]
  },
  {
   "cell_type": "markdown",
   "metadata": {},
   "source": [
    "Alternatively, you can create a deployment using the code in the following cell. The cell is not executable cell at this stage, but you can enter the name of your space in the metadata and use it if needed."
   ]
  },
  {
   "cell_type": "raw",
   "metadata": {},
   "source": [
    "space_details = client.spaces.store(meta_props={client.spaces.ConfigurationMetaNames.NAME: \"YOUR DEPLOYMENT SPACE\"})\n",
    "space_uid = client.spaces.get_uid(space_details)\n",
    "print(\"Space UID = \" + space_uid)"
   ]
  },
  {
   "cell_type": "code",
   "execution_count": 4,
   "metadata": {},
   "outputs": [],
   "source": [
    "# Obtain the UId of your space\n",
    "def guid_from_space_name(client, space_name):\n",
    "    space = client.spaces.get_details()\n",
    "    return(next(item for item in space['resources'] if item['entity'][\"name\"] == space_name)['metadata']['guid'])"
   ]
  },
  {
   "cell_type": "markdown",
   "metadata": {},
   "source": [
    "**Action:** Enter the name of your deployment space in the code below: `space_uid = guid_from_space_name(client, 'YOUR DEPLOYMENT SPACE')`."
   ]
  },
  {
   "cell_type": "code",
   "execution_count": 5,
   "metadata": {},
   "outputs": [
    {
     "name": "stdout",
     "output_type": "stream",
     "text": [
      "Space UID = 219be37a-7417-4bf0-9d8f-584bc3dbc468\n"
     ]
    }
   ],
   "source": [
    "# Enter the name of your deployment space here:\n",
    "space_uid = guid_from_space_name(client, 'YOUR DEPLOYMENT SPACE')\n",
    "print(\"Space UID = \" + space_uid)"
   ]
  },
  {
   "cell_type": "markdown",
   "metadata": {},
   "source": [
    "You can set the default space using the cell below."
   ]
  },
  {
   "cell_type": "code",
   "execution_count": 6,
   "metadata": {},
   "outputs": [
    {
     "data": {
      "text/plain": [
       "'SUCCESS'"
      ]
     },
     "execution_count": 6,
     "metadata": {},
     "output_type": "execute_result"
    }
   ],
   "source": [
    "client.set.default_space(space_uid)"
   ]
  },
  {
   "cell_type": "markdown",
   "metadata": {},
   "source": [
    "## 2. Create a Cloud Object Storage (COS) connection <a id=\"cos\"></a>"
   ]
  },
  {
   "cell_type": "markdown",
   "metadata": {},
   "source": [
    "Before you use the sample code in this notebook, you must perform the following setup tasks:\n",
    "\n",
    "-  Create a <a href=\"https://cloud.ibm.com/catalog/services/cloud-object-storage\" target=\"_blank\" rel=\"noopener no referrer\">Cloud Object Storage (COS)</a> instance (a lite plan is offered and information about how to order storage is <a href=\"https://dataplatform.cloud.ibm.com/docs/content/wsj/analyze-data/ml_dlaas_object_store.html?audience=wdp\" target=\"_blank\" rel=\"noopener no referrer\">here</a>). \n",
    "- Create new credentials with HMAC: \n",
    "    - Go to your COS dashboard.\n",
    "    - In the **Service credentials** tab, click **New Credential+**.\n",
    "    - Add the inline configuration parameter: {\"HMAC\":true}, click **Add**. (For more information, see <a href=\"https://dataplatform.cloud.ibm.com/docs/content/wsj/analyze-data/ml_dlaas_object_store.html#createcredentials\" target=\"_blank\" rel=\"noopener no referrer\">HMAC</a>.)\n",
    "\n",
    "    This configuration parameter adds the following section to the instance credentials, (for use later in this notebook):\n",
    "    ```\n",
    "      \"cos_hmac_keys\": {\n",
    "            \"access_key_id\": \"-------\",\n",
    "            \"secret_access_key\": \"-------\"\n",
    "       }\n",
    "    ```\n"
   ]
  },
  {
   "cell_type": "markdown",
   "metadata": {},
   "source": [
    "### 2.1 Create a COS bucket and upload data <a id=\"cos_bucket\"></a>"
   ]
  },
  {
   "cell_type": "code",
   "execution_count": 7,
   "metadata": {},
   "outputs": [],
   "source": [
    "# Import the boto library\n",
    "import ibm_boto3\n",
    "from ibm_botocore.client import Config\n",
    "import os"
   ]
  },
  {
   "cell_type": "markdown",
   "metadata": {},
   "source": [
    "Authenticate to COS and define the endpoint you will use.\n",
    "\n",
    "1. Enter your COS credentials in the following cell. You can find these credentials in your COS instance dashboard under the **Service credentials** tab as described above.\n",
    "\n",
    "2. Go to the Endpoint tab in the COS instance's dashboard to get the endpoint information, for example: `s3-api.us-geo.objectstorage.softlayer.net`. Enter it in the cell containing the variable `service_endpoint`."
   ]
  },
  {
   "cell_type": "code",
   "execution_count": 8,
   "metadata": {},
   "outputs": [],
   "source": [
    "# Enter your COS credentials.\n",
    "cos_credentials = {\n",
    "  \"apikey\": \"***\",\n",
    "  \"cos_hmac_keys\": {\n",
    "    \"access_key_id\": \"***\",\n",
    "    \"secret_access_key\": \"***\"\n",
    "  },\n",
    "  \"endpoints\": \"https://cos-service.bluemix.net/endpoints\",\n",
    "  \"iam_apikey_description\": \"***\",\n",
    "  \"iam_apikey_name\": \"***\",\n",
    "  \"iam_role_crn\": \"crn:v1:bluemix:public:iam::::serviceRole:Writer\",\n",
    "  \"iam_serviceid_crn\": \"***\",\n",
    "  \"resource_instance_id\": \"***\"\n",
    "}"
   ]
  },
  {
   "cell_type": "code",
   "execution_count": 10,
   "metadata": {},
   "outputs": [],
   "source": [
    "# Enter your Endpoint information.\n",
    "service_endpoint = \"https://s3.us-south.cloud-object-storage.appdomain.cloud\""
   ]
  },
  {
   "cell_type": "markdown",
   "metadata": {},
   "source": [
    "Create the Boto resource."
   ]
  },
  {
   "cell_type": "code",
   "execution_count": 12,
   "metadata": {},
   "outputs": [],
   "source": [
    "cos = ibm_boto3.resource('s3',\n",
    "                         ibm_api_key_id=cos_credentials['apikey'],\n",
    "                         ibm_service_instance_id=cos_credentials['resource_instance_id'],\n",
    "                         ibm_auth_endpoint='https://iam.bluemix.net/oidc/token',\n",
    "                         config=Config(signature_version='oauth'),\n",
    "                         endpoint_url=service_endpoint)"
   ]
  },
  {
   "cell_type": "markdown",
   "metadata": {},
   "source": [
    "Create the buckets you will use to store training data and training results.\n",
    "\n",
    "**Note:** Bucket names must be unique."
   ]
  },
  {
   "cell_type": "code",
   "execution_count": 13,
   "metadata": {},
   "outputs": [
    {
     "name": "stdout",
     "output_type": "stream",
     "text": [
      "Creating bucket \"script-30e8e652-248e-4125-b342-70c06ce2612f\"...\n"
     ]
    }
   ],
   "source": [
    "# Create a bucket\n",
    "from uuid import uuid4\n",
    "bucket = 'script-' + str(uuid4())\n",
    "\n",
    "if not cos.Bucket(bucket) in cos.buckets.all():\n",
    "    print('Creating bucket \"{}\"...'.format(bucket))\n",
    "    try:\n",
    "        cos.create_bucket(Bucket=bucket)\n",
    "    except ibm_boto3.exceptions.ibm_botocore.client.ClientError as e:\n",
    "        print('Error: {}.'.format(e.response['Error']['Message']))"
   ]
  },
  {
   "cell_type": "markdown",
   "metadata": {},
   "source": [
    "Check that the bucket was created."
   ]
  },
  {
   "cell_type": "code",
   "execution_count": 14,
   "metadata": {},
   "outputs": [
    {
     "name": "stdout",
     "output_type": "stream",
     "text": [
      "['script-30e8e652-248e-4125-b342-70c06ce2612f']\n"
     ]
    }
   ],
   "source": [
    "print([x.name for x in list(cos.buckets.all()) if x.name.startswith('script')])"
   ]
  },
  {
   "cell_type": "markdown",
   "metadata": {},
   "source": [
    "Use the following code to download the Tensorflow input .zip file from the <a href=\"https://github.com/pmservice/wml-sample-models\" target=\"_blank\" rel=\"noopener no referrer\">Git repository</a>."
   ]
  },
  {
   "cell_type": "code",
   "execution_count": null,
   "metadata": {},
   "outputs": [],
   "source": [
    "filename='tensorflow_input.zip'\n",
    "!wget https://github.com/IBMDataScience/sample-notebooks/raw/master/Files/tensorflow_input.zip --output-document=tensorflow_input.zip"
   ]
  },
  {
   "cell_type": "code",
   "execution_count": 16,
   "metadata": {},
   "outputs": [
    {
     "name": "stdout",
     "output_type": "stream",
     "text": [
      "tensorflow_input.zip is uploaded.\n"
     ]
    }
   ],
   "source": [
    "with open(filename, \"rb\") as data:\n",
    "    cos.Bucket(bucket).upload_fileobj(data, filename)\n",
    "    print('{} is uploaded.'.format(filename))"
   ]
  },
  {
   "cell_type": "markdown",
   "metadata": {},
   "source": [
    "### 2.2 Create a connection <a id=\"connection\"></a>"
   ]
  },
  {
   "cell_type": "markdown",
   "metadata": {},
   "source": [
    "You'll use the COS credentials and endpoint information to create the connection metadata. You need to choose the <a href=\"https://www.ibm.com/support/knowledgecenter/SSQNUZ_3.0.0/wsj/manage-data/conn_types.html\" target=\"_blank\" rel=\"noopener no referrer\">connection type</a> as Cloud Object Storage as shown in the code below."
   ]
  },
  {
   "cell_type": "code",
   "execution_count": 17,
   "metadata": {},
   "outputs": [],
   "source": [
    "# Get the UID of the COS type connection.\n",
    "data_source_type_id = client.connections.get_datasource_type_uid_by_name('cloudobjectstorage')\n",
    "\n",
    "# create the metadata for the connector.\n",
    "conn_meta_props = {\n",
    "    client.connections.ConfigurationMetaNames.NAME: 'New Connection using the Python client',\n",
    "    client.connections.ConfigurationMetaNames.DATASOURCE_TYPE: data_source_type_id,\n",
    "    client.connections.ConfigurationMetaNames.DESCRIPTION: 'Create a connection object using a COS instance',\n",
    "    client.connections.ConfigurationMetaNames.PROPERTIES: {\n",
    "        'access_key': cos_credentials['cos_hmac_keys']['access_key_id'],\n",
    "        'iam_url': 'https://iam.cloud.ibm.com/identity/token',  # used when getting assets from this connection\n",
    "        'secret_key': cos_credentials['cos_hmac_keys']['secret_access_key'],\n",
    "        'url': service_endpoint\n",
    "    }\n",
    "}"
   ]
  },
  {
   "cell_type": "code",
   "execution_count": 18,
   "metadata": {},
   "outputs": [
    {
     "name": "stdout",
     "output_type": "stream",
     "text": [
      "Creating connections...\n",
      "SUCCESS\n"
     ]
    }
   ],
   "source": [
    "conn_details = client.connections.create(meta_props=conn_meta_props)"
   ]
  },
  {
   "cell_type": "markdown",
   "metadata": {},
   "source": [
    "Get the connection UID."
   ]
  },
  {
   "cell_type": "code",
   "execution_count": 19,
   "metadata": {},
   "outputs": [
    {
     "name": "stdout",
     "output_type": "stream",
     "text": [
      "Connection UID: 5b42ad4c-4163-4dd4-93de-d2d57b6b0f9b\n"
     ]
    }
   ],
   "source": [
    "conn_uid = client.connections.get_uid(conn_details)\n",
    "print('Connection UID: {}'.format(conn_uid))"
   ]
  },
  {
   "cell_type": "markdown",
   "metadata": {},
   "source": [
    "## 3. Create a Python script <a id=\"script\"></a>"
   ]
  },
  {
   "cell_type": "markdown",
   "metadata": {},
   "source": [
    "First, download the python script file from the <a href=\"https://github.com/pmservice/wml-sample-models\" target=\"_blank\" rel=\"noopener no referrer\">Git repository</a>."
   ]
  },
  {
   "cell_type": "code",
   "execution_count": null,
   "metadata": {},
   "outputs": [],
   "source": [
    "!wget https://github.com/IBMDataScience/sample-notebooks/raw/master/Files/test_cos_script.py --output-document=test_cos_script.py"
   ]
  },
  {
   "cell_type": "markdown",
   "metadata": {},
   "source": [
    "You'll use the following code to input your credentials in the file."
   ]
  },
  {
   "cell_type": "code",
   "execution_count": 21,
   "metadata": {},
   "outputs": [],
   "source": [
    "# Read the file (python script)\n",
    "with open('test_cos_script.py', 'r') as file:\n",
    "    filedata = file.read()\n",
    "\n",
    "# Replace placeholder values with your credentials\n",
    "filedata = filedata.replace('**YOUR URL**', wml_credentials[\"url\"]).replace(\n",
    "    '**YOUR USERNAME**', wml_credentials[\"username\"]).replace('**YOUR PASSWORD**', wml_credentials[\"password\"])\n",
    "\n",
    "# Write the file out again\n",
    "with open('test_cos_script.py', 'w') as file:\n",
    "    file.write(filedata)"
   ]
  },
  {
   "cell_type": "markdown",
   "metadata": {},
   "source": [
    "Create the metadata for the python script."
   ]
  },
  {
   "cell_type": "code",
   "execution_count": 22,
   "metadata": {},
   "outputs": [],
   "source": [
    "# Get the UID of the software specification.\n",
    "sw_spec_uid = client.software_specifications.get_uid_by_name(\"default_py3.6\")\n",
    "\n",
    "# Create the metadata for the script\n",
    "script_meta = {\n",
    "    client.script.ConfigurationMetaNames.NAME: \"test_script_cos.py\",\n",
    "    client.script.ConfigurationMetaNames.DESCRIPTION: \"test python file\",\n",
    "    client.script.ConfigurationMetaNames.SOFTWARE_SPEC_UID: sw_spec_uid\n",
    "}"
   ]
  },
  {
   "cell_type": "markdown",
   "metadata": {},
   "source": [
    "<div class=\"alert alert-block alert-info\">To list the supported software specifications, run <tt>client.software_specifications.list()</tt>.<br>To find more information about the frameworks with their respective <b>Types</b> and <b>Software Specifications</b>, visit the <a href=\"https://www.ibm.com/support/knowledgecenter/SSQNUZ_3.0.0/wsj/wmls/wmls-deploy-python-types.html\" target=\"_blank\" rel=\"noopener no referrer\">documentation</a>.</div>"
   ]
  },
  {
   "cell_type": "markdown",
   "metadata": {},
   "source": [
    "Store the script in the deployment space."
   ]
  },
  {
   "cell_type": "code",
   "execution_count": 23,
   "metadata": {},
   "outputs": [
    {
     "name": "stdout",
     "output_type": "stream",
     "text": [
      "Creating Script asset...\n",
      "SUCCESS\n"
     ]
    }
   ],
   "source": [
    "script_file = 'test_cos_script.py'\n",
    "script_details = client.script.store(meta_props=script_meta, file_path=script_file)"
   ]
  },
  {
   "cell_type": "code",
   "execution_count": 58,
   "metadata": {},
   "outputs": [
    {
     "name": "stdout",
     "output_type": "stream",
     "text": [
      "------------------  ----------  ------------------------------------\n",
      "NAME                ASSET_TYPE  ASSET_ID\n",
      "test_script_cos.py  script      1086566b-020f-447b-86f8-7e92745300c5\n",
      "------------------  ----------  ------------------------------------\n"
     ]
    }
   ],
   "source": [
    "client.script.list()"
   ]
  },
  {
   "cell_type": "markdown",
   "metadata": {},
   "source": [
    "<div class=\"alert alert-block alert-info\">\n",
    "From the list of scripts, you can see that the script was successfully saved in the deployment space. </div>"
   ]
  },
  {
   "cell_type": "markdown",
   "metadata": {},
   "source": [
    "Get the UID of the stored script."
   ]
  },
  {
   "cell_type": "code",
   "execution_count": 24,
   "metadata": {},
   "outputs": [
    {
     "name": "stdout",
     "output_type": "stream",
     "text": [
      "Script UID: 00207fca-5927-477d-a956-dd72beca84a4\n"
     ]
    }
   ],
   "source": [
    "script_uid = client.script.get_uid(script_details)\n",
    "print(\"Script UID: {}\".format(script_uid))"
   ]
  },
  {
   "cell_type": "markdown",
   "metadata": {},
   "source": [
    "## 4. Create connected data assets <a id=\"data_asset\"></a>"
   ]
  },
  {
   "cell_type": "markdown",
   "metadata": {},
   "source": [
    "### 4.1 Create the source connected data <a id=\"source_data\"></a>"
   ]
  },
  {
   "cell_type": "markdown",
   "metadata": {},
   "source": [
    "Use the following code to save the Tensorflow input file as a .zip file and add it as a data asset in your deployment space. You'll use the connection UID and point to where the file is located in the COS bucket in the data asset metadata."
   ]
  },
  {
   "cell_type": "code",
   "execution_count": 25,
   "metadata": {},
   "outputs": [],
   "source": [
    "# Create the metadata for the data asset.\n",
    "file_location = bucket+'/'+filename\n",
    "\n",
    "asset_meta_props = {\n",
    "    client.data_assets.ConfigurationMetaNames.NAME: 'TF_input.zip',\n",
    "    client.data_assets.ConfigurationMetaNames.CONNECTION_ID: conn_uid,\n",
    "    client.data_assets.ConfigurationMetaNames.DESCRIPTION: 'Connection using COS instance',\n",
    "    # This is the data will be stored by WML.\n",
    "    client.data_assets.ConfigurationMetaNames.DATA_CONTENT_NAME: file_location\n",
    "}"
   ]
  },
  {
   "cell_type": "code",
   "execution_count": 26,
   "metadata": {},
   "outputs": [
    {
     "name": "stdout",
     "output_type": "stream",
     "text": [
      "Creating data asset...\n",
      "SUCCESS\n"
     ]
    }
   ],
   "source": [
    "# Store the asset and upload the data.\n",
    "asset_details = client.data_assets.store(asset_meta_props)"
   ]
  },
  {
   "cell_type": "code",
   "execution_count": 27,
   "metadata": {},
   "outputs": [
    {
     "data": {
      "text/plain": [
       "{'metadata': {'space_id': '219be37a-7417-4bf0-9d8f-584bc3dbc468',\n",
       "  'guid': 'e04f0c80-a826-40f4-b0f1-b857b05d8676',\n",
       "  'href': '/v2/assets/e04f0c80-a826-40f4-b0f1-b857b05d8676?space_id=219be37a-7417-4bf0-9d8f-584bc3dbc468',\n",
       "  'asset_type': 'data_asset',\n",
       "  'created_at': '2020-05-04T21:00:45Z',\n",
       "  'last_updated_at': '2020-05-04T21:00:45Z'},\n",
       " 'entity': {'data_asset': {'mime_type': 'application/zip'}}}"
      ]
     },
     "execution_count": 27,
     "metadata": {},
     "output_type": "execute_result"
    }
   ],
   "source": [
    "asset_details"
   ]
  },
  {
   "cell_type": "markdown",
   "metadata": {},
   "source": [
    "You can see the connected data asset is stored in your deployment space."
   ]
  },
  {
   "cell_type": "code",
   "execution_count": 28,
   "metadata": {},
   "outputs": [
    {
     "name": "stdout",
     "output_type": "stream",
     "text": [
      "------------  ----------  ----  ------------------------------------\n",
      "NAME          ASSET_TYPE  SIZE  ASSET_ID\n",
      "TF_input.zip  data_asset  0     e04f0c80-a826-40f4-b0f1-b857b05d8676\n",
      "------------  ----------  ----  ------------------------------------\n"
     ]
    }
   ],
   "source": [
    "client.data_assets.list()"
   ]
  },
  {
   "cell_type": "markdown",
   "metadata": {},
   "source": [
    "Retrieve the URL and UID of the stored asset."
   ]
  },
  {
   "cell_type": "code",
   "execution_count": 29,
   "metadata": {},
   "outputs": [],
   "source": [
    "src_asset_href = client.data_assets.get_href(asset_details)"
   ]
  },
  {
   "cell_type": "code",
   "execution_count": 30,
   "metadata": {},
   "outputs": [
    {
     "name": "stdout",
     "output_type": "stream",
     "text": [
      "Source asset UID: e04f0c80-a826-40f4-b0f1-b857b05d8676\n"
     ]
    }
   ],
   "source": [
    "src_asset_uid = client.data_assets.get_uid(asset_details)\n",
    "print(\"Source asset UID: {}\".format(src_asset_uid))"
   ]
  },
  {
   "cell_type": "markdown",
   "metadata": {},
   "source": [
    "### 4.2 Create destination connected data <a id=\"destination_data\"></a>"
   ]
  },
  {
   "cell_type": "markdown",
   "metadata": {},
   "source": [
    "Use the following code to add a data asset to your deployment space where the output of the script will be saved."
   ]
  },
  {
   "cell_type": "code",
   "execution_count": 31,
   "metadata": {},
   "outputs": [],
   "source": [
    "# Create the metadata for the data asset.\n",
    "file_location = bucket+'/script_output.zip'\n",
    "\n",
    "dest_asset_meta_props = {\n",
    "    client.data_assets.ConfigurationMetaNames.NAME: 'sample_output.zip',\n",
    "    client.data_assets.ConfigurationMetaNames.CONNECTION_ID: conn_uid,\n",
    "    client.data_assets.ConfigurationMetaNames.DESCRIPTION: 'Connection using COS instance',\n",
    "    # This is the data will be stored by WML.\n",
    "    client.data_assets.ConfigurationMetaNames.DATA_CONTENT_NAME: file_location\n",
    "}"
   ]
  },
  {
   "cell_type": "code",
   "execution_count": 32,
   "metadata": {},
   "outputs": [
    {
     "name": "stdout",
     "output_type": "stream",
     "text": [
      "Creating data asset...\n",
      "SUCCESS\n"
     ]
    }
   ],
   "source": [
    "# Store the destination data asset\n",
    "dest_asset_details = client.data_assets.store(dest_asset_meta_props)"
   ]
  },
  {
   "cell_type": "code",
   "execution_count": 33,
   "metadata": {},
   "outputs": [
    {
     "data": {
      "text/plain": [
       "{'metadata': {'space_id': '219be37a-7417-4bf0-9d8f-584bc3dbc468',\n",
       "  'guid': 'a5d70568-5da1-437c-8645-c69cd08fe057',\n",
       "  'href': '/v2/assets/a5d70568-5da1-437c-8645-c69cd08fe057?space_id=219be37a-7417-4bf0-9d8f-584bc3dbc468',\n",
       "  'asset_type': 'data_asset',\n",
       "  'created_at': '2020-05-04T21:00:49Z',\n",
       "  'last_updated_at': '2020-05-04T21:00:49Z'},\n",
       " 'entity': {'data_asset': {'mime_type': 'application/zip'}}}"
      ]
     },
     "execution_count": 33,
     "metadata": {},
     "output_type": "execute_result"
    }
   ],
   "source": [
    "dest_asset_details"
   ]
  },
  {
   "cell_type": "markdown",
   "metadata": {},
   "source": [
    "You can see the connected data asset is stored in your deployment space."
   ]
  },
  {
   "cell_type": "code",
   "execution_count": 34,
   "metadata": {},
   "outputs": [
    {
     "name": "stdout",
     "output_type": "stream",
     "text": [
      "-----------------  ----------  ----  ------------------------------------\n",
      "NAME               ASSET_TYPE  SIZE  ASSET_ID\n",
      "TF_input.zip       data_asset  0     e04f0c80-a826-40f4-b0f1-b857b05d8676\n",
      "sample_output.zip  data_asset  0     a5d70568-5da1-437c-8645-c69cd08fe057\n",
      "-----------------  ----------  ----  ------------------------------------\n"
     ]
    }
   ],
   "source": [
    "client.data_assets.list()"
   ]
  },
  {
   "cell_type": "markdown",
   "metadata": {},
   "source": [
    "Retrieve the URL and UID of the stored asset."
   ]
  },
  {
   "cell_type": "code",
   "execution_count": 35,
   "metadata": {},
   "outputs": [],
   "source": [
    "dest_asset_href = client.data_assets.get_href(dest_asset_details)"
   ]
  },
  {
   "cell_type": "code",
   "execution_count": 36,
   "metadata": {},
   "outputs": [
    {
     "name": "stdout",
     "output_type": "stream",
     "text": [
      "Destination asset UID: a5d70568-5da1-437c-8645-c69cd08fe057\n"
     ]
    }
   ],
   "source": [
    "dest_asset_uid = client.data_assets.get_uid(dest_asset_details)\n",
    "print(\"Destination asset UID: {}\".format(dest_asset_uid))"
   ]
  },
  {
   "cell_type": "markdown",
   "metadata": {},
   "source": [
    "## 5. Deploy the Python script <a id=\"deploy\"></a>"
   ]
  },
  {
   "cell_type": "markdown",
   "metadata": {},
   "source": [
    "### 5.1 Create a batch deployment <a id=\"deploy_script\"></a>"
   ]
  },
  {
   "cell_type": "markdown",
   "metadata": {},
   "source": [
    "<a href=\"https://www.ibm.com/support/knowledgecenter/SSQNUZ_3.0.0/wsj/analyze-data/deploy-script.html\" target=\"_blank\" rel=\"noopener no referrer\">Deploy the Python script</a> in the deployment space – this should be a <a href=\"https://www.ibm.com/support/knowledgecenter/SSQNUZ_3.0.0/wsj/analyze-data/deploy-batch-jobs.html\" target=\"_blank\" rel=\"noopener no referrer\">batch deployment</a>. This will process the input file using the script and produce the output file."
   ]
  },
  {
   "cell_type": "code",
   "execution_count": 37,
   "metadata": {},
   "outputs": [],
   "source": [
    "# Script deployment metadata.\n",
    "script_deploy_meta_props = {\n",
    "    client.deployments.ConfigurationMetaNames.NAME:\"Script Batch with COS Asset\",\n",
    "    client.deployments.ConfigurationMetaNames.BATCH:{},\n",
    "    client.deployments.ConfigurationMetaNames.COMPUTE:{\"name\":\"S\",\"nodes\":1}\n",
    "}"
   ]
  },
  {
   "cell_type": "code",
   "execution_count": 38,
   "metadata": {},
   "outputs": [
    {
     "name": "stdout",
     "output_type": "stream",
     "text": [
      "\n",
      "\n",
      "#######################################################################################\n",
      "\n",
      "Synchronous deployment creation for uid: '00207fca-5927-477d-a956-dd72beca84a4' started\n",
      "\n",
      "#######################################################################################\n",
      "\n",
      "\n",
      "ready.\n",
      "\n",
      "\n",
      "------------------------------------------------------------------------------------------------\n",
      "Successfully finished deployment creation, deployment_uid='8501cb10-c2d3-424c-8807-e4e34fe30398'\n",
      "------------------------------------------------------------------------------------------------\n",
      "\n",
      "\n"
     ]
    }
   ],
   "source": [
    "script_deployment = client.deployments.create(artifact_uid=script_uid, meta_props=script_deploy_meta_props)"
   ]
  },
  {
   "cell_type": "code",
   "execution_count": 39,
   "metadata": {},
   "outputs": [
    {
     "name": "stdout",
     "output_type": "stream",
     "text": [
      "------------------------------------  ---------------------------  -----  ------------------------  -------------\n",
      "GUID                                  NAME                         STATE  CREATED                   ARTIFACT_TYPE\n",
      "8501cb10-c2d3-424c-8807-e4e34fe30398  Script Batch with COS Asset  ready  2020-05-04T21:00:51.946Z  unknown\n",
      "------------------------------------  ---------------------------  -----  ------------------------  -------------\n"
     ]
    }
   ],
   "source": [
    "client.deployments.list()"
   ]
  },
  {
   "cell_type": "markdown",
   "metadata": {},
   "source": [
    "<div class=\"alert alert-block alert-info\">\n",
    "From the list of deployments, you can see that the script was successfully deployed in the deployment space.</div>"
   ]
  },
  {
   "cell_type": "markdown",
   "metadata": {},
   "source": [
    "Get the script deployment details."
   ]
  },
  {
   "cell_type": "code",
   "execution_count": 40,
   "metadata": {},
   "outputs": [
    {
     "data": {
      "text/plain": [
       "{'metadata': {'parent': {'href': ''},\n",
       "  'name': 'Script Batch with COS Asset',\n",
       "  'guid': '8501cb10-c2d3-424c-8807-e4e34fe30398',\n",
       "  'description': '',\n",
       "  'id': '8501cb10-c2d3-424c-8807-e4e34fe30398',\n",
       "  'modified_at': '2020-05-04T21:00:51.946Z',\n",
       "  'created_at': '2020-05-04T21:00:51.946Z',\n",
       "  'href': '/v4/deployments/8501cb10-c2d3-424c-8807-e4e34fe30398',\n",
       "  'space_id': '219be37a-7417-4bf0-9d8f-584bc3dbc468'},\n",
       " 'entity': {'name': 'Script Batch with COS Asset',\n",
       "  'custom': {},\n",
       "  'description': '',\n",
       "  'compute': {'name': 'S', 'nodes': 1},\n",
       "  'batch': {},\n",
       "  'space': {'id': '219be37a-7417-4bf0-9d8f-584bc3dbc468',\n",
       "   'href': '/v4/spaces/219be37a-7417-4bf0-9d8f-584bc3dbc468'},\n",
       "  'status': {'state': 'ready'},\n",
       "  'asset': {'id': '00207fca-5927-477d-a956-dd72beca84a4',\n",
       "   'href': '/v2/assets/00207fca-5927-477d-a956-dd72beca84a4?space_id=219be37a-7417-4bf0-9d8f-584bc3dbc468'},\n",
       "  'space_id': '219be37a-7417-4bf0-9d8f-584bc3dbc468'}}"
      ]
     },
     "execution_count": 40,
     "metadata": {},
     "output_type": "execute_result"
    }
   ],
   "source": [
    "script_deployment"
   ]
  },
  {
   "cell_type": "markdown",
   "metadata": {},
   "source": [
    "Get the UID of the script deployment."
   ]
  },
  {
   "cell_type": "code",
   "execution_count": 41,
   "metadata": {},
   "outputs": [
    {
     "name": "stdout",
     "output_type": "stream",
     "text": [
      "Script deployment UID: 8501cb10-c2d3-424c-8807-e4e34fe30398\n"
     ]
    }
   ],
   "source": [
    "script_deployment_uid = client.deployments.get_uid(script_deployment)\n",
    "print(\"Script deployment UID: {}\".format(script_deployment_uid))"
   ]
  },
  {
   "cell_type": "markdown",
   "metadata": {},
   "source": [
    "### 5.2 Run the script <a id=\"run_script\"></a>"
   ]
  },
  {
   "cell_type": "markdown",
   "metadata": {},
   "source": [
    "Create the job which will run the script."
   ]
  },
  {
   "cell_type": "code",
   "execution_count": 42,
   "metadata": {},
   "outputs": [
    {
     "name": "stdout",
     "output_type": "stream",
     "text": [
      "{'input_data_references': [{'connection': {},\n",
      "                            'location': {'href': '/v2/assets/e04f0c80-a826-40f4-b0f1-b857b05d8676?space_id=219be37a-7417-4bf0-9d8f-584bc3dbc468'},\n",
      "                            'name': 'script_ref_input',\n",
      "                            'type': 'data_asset'}],\n",
      " 'output_data_reference': {'location': {'href': '/v2/assets/a5d70568-5da1-437c-8645-c69cd08fe057?space_id=219be37a-7417-4bf0-9d8f-584bc3dbc468'},\n",
      "                           'name': 'script_ref_output',\n",
      "                           'type': 'data_asset'}}\n"
     ]
    }
   ],
   "source": [
    "# Job payload.\n",
    "script_payload = {\n",
    "    client.deployments.ScoringMetaNames.INPUT_DATA_REFERENCES: [{\n",
    "        \"name\": \"script_ref_input\",\n",
    "        \"type\": \"data_asset\",\n",
    "        \"connection\": {},\n",
    "        \"location\": {\n",
    "            \"href\": src_asset_href\n",
    "        },\n",
    "    }],\n",
    "    client.deployments.ScoringMetaNames.OUTPUT_DATA_REFERENCE: {\n",
    "        \"name\": \"script_ref_output\",\n",
    "        \"type\": \"data_asset\",\n",
    "        \"location\": {\n",
    "            \"href\": dest_asset_href\n",
    "            }\n",
    "        }\n",
    "    }\n",
    "from pprint import pprint\n",
    "pprint(script_payload)"
   ]
  },
  {
   "cell_type": "markdown",
   "metadata": {},
   "source": [
    "Use the following method to run and poll the job."
   ]
  },
  {
   "cell_type": "code",
   "execution_count": 43,
   "metadata": {},
   "outputs": [
    {
     "name": "stdout",
     "output_type": "stream",
     "text": [
      "Job UID: 3146a408-c333-43a1-b148-40b0386d1f71\n"
     ]
    }
   ],
   "source": [
    "job = client.deployments.create_job(deployment_id=script_deployment_uid, meta_props=script_payload)\n",
    "script_job_uid = client.deployments.get_job_uid(job)\n",
    "print('Job UID: {}'.format(script_job_uid))"
   ]
  },
  {
   "cell_type": "code",
   "execution_count": 44,
   "metadata": {},
   "outputs": [],
   "source": [
    "def poll_async_job(client, job_uid):\n",
    "    import time\n",
    "    while True:\n",
    "        job_status = client.deployments.get_job_status(job_uid)\n",
    "        print(job_status)\n",
    "        state = job_status['state']\n",
    "        if state == 'completed' or 'fail' in state:\n",
    "            return client.deployments.get_job_details(job_uid)\n",
    "        time.sleep(5)"
   ]
  },
  {
   "cell_type": "code",
   "execution_count": 45,
   "metadata": {
    "scrolled": false
   },
   "outputs": [
    {
     "name": "stdout",
     "output_type": "stream",
     "text": [
      "{'state': 'queued', 'running_at': '', 'completed_at': ''}\n",
      "{'state': 'queued', 'running_at': '', 'completed_at': ''}\n",
      "{'state': 'queued', 'running_at': '', 'completed_at': ''}\n",
      "{'state': 'queued', 'running_at': '', 'completed_at': ''}\n",
      "{'state': 'running', 'running_at': '2020-05-04T21:01:28.033Z', 'completed_at': ''}\n",
      "{'state': 'running', 'running_at': '2020-05-04T21:01:28.033Z', 'completed_at': ''}\n",
      "{'state': 'running', 'running_at': '2020-05-04T21:01:28.033Z', 'completed_at': ''}\n",
      "{'state': 'running', 'running_at': '2020-05-04T21:01:28.033Z', 'completed_at': ''}\n",
      "{'state': 'running', 'running_at': '2020-05-04T21:01:28.033Z', 'completed_at': ''}\n",
      "{'state': 'completed', 'message': {'text': 'The directory pointed by the environment variable BATCH_OUTPUT_DIR is empty, skipping content upload to data asset', 'level': 'warning'}, 'running_at': '2020-05-04T21:01:28.011119Z', 'completed_at': '2020-05-04T21:01:56.144664Z'}\n",
      "{'entity': {'deployment': {'href': '/v4/deployments/8501cb10-c2d3-424c-8807-e4e34fe30398',\n",
      "                           'id': '8501cb10-c2d3-424c-8807-e4e34fe30398'},\n",
      "            'scoring': {'input_data_references': [{'connection': {},\n",
      "                                                   'location': {'href': '/v2/assets/e04f0c80-a826-40f4-b0f1-b857b05d8676?space_id=219be37a-7417-4bf0-9d8f-584bc3dbc468'},\n",
      "                                                   'type': 'data_asset'}],\n",
      "                        'output_data_reference': {'connection': {},\n",
      "                                                  'location': {'href': '/v2/assets/a5d70568-5da1-437c-8645-c69cd08fe057?space_id=219be37a-7417-4bf0-9d8f-584bc3dbc468'},\n",
      "                                                  'type': 'data_asset'},\n",
      "                        'status': {'completed_at': '2020-05-04T21:01:56.144664Z',\n",
      "                                   'message': {'level': 'warning',\n",
      "                                               'text': 'The directory pointed '\n",
      "                                                       'by the environment '\n",
      "                                                       'variable '\n",
      "                                                       'BATCH_OUTPUT_DIR is '\n",
      "                                                       'empty, skipping '\n",
      "                                                       'content upload to data '\n",
      "                                                       'asset'},\n",
      "                                   'running_at': '2020-05-04T21:01:28.011119Z',\n",
      "                                   'state': 'completed'}},\n",
      "            'space_id': '219be37a-7417-4bf0-9d8f-584bc3dbc468'},\n",
      " 'metadata': {'created_at': '2020-05-04T21:01:06.059Z',\n",
      "              'guid': '3146a408-c333-43a1-b148-40b0386d1f71',\n",
      "              'href': '/v4/deployment_jobs/3146a408-c333-43a1-b148-40b0386d1f71',\n",
      "              'id': '3146a408-c333-43a1-b148-40b0386d1f71',\n",
      "              'modified_at': '2020-05-04T21:01:56.222Z',\n",
      "              'parent': {'href': ''},\n",
      "              'space_id': '219be37a-7417-4bf0-9d8f-584bc3dbc468'}}\n"
     ]
    }
   ],
   "source": [
    "# Display the result.\n",
    "job_details = poll_async_job(client, script_job_uid)\n",
    "pprint(job_details)"
   ]
  },
  {
   "cell_type": "markdown",
   "metadata": {},
   "source": [
    "Get the UID of the data asset and download the results."
   ]
  },
  {
   "cell_type": "code",
   "execution_count": 46,
   "metadata": {},
   "outputs": [
    {
     "name": "stdout",
     "output_type": "stream",
     "text": [
      "Script results UID = a5d70568-5da1-437c-8645-c69cd08fe057\n"
     ]
    }
   ],
   "source": [
    "import re\n",
    "output_href = job_details['entity']['scoring']['output_data_reference']['location']['href']\n",
    "output_uid = re.split('[?/]', output_href)[3]\n",
    "print('Script results UID = {}'.format(output_uid))"
   ]
  },
  {
   "cell_type": "code",
   "execution_count": 47,
   "metadata": {},
   "outputs": [
    {
     "name": "stdout",
     "output_type": "stream",
     "text": [
      "Successfully saved data asset content to file: 'output.zip'\n"
     ]
    },
    {
     "data": {
      "text/plain": [
       "'/home/wsuser/work/output.zip'"
      ]
     },
     "execution_count": 47,
     "metadata": {},
     "output_type": "execute_result"
    }
   ],
   "source": [
    "client.data_assets.download(output_uid, filename='output.zip')"
   ]
  },
  {
   "cell_type": "code",
   "execution_count": 48,
   "metadata": {},
   "outputs": [
    {
     "name": "stdout",
     "output_type": "stream",
     "text": [
      "Archive:  output.zip\r\n",
      "  inflating: data_0.json             \r\n",
      "  inflating: data_1.json             \r\n",
      "  inflating: data_2.json             \r\n",
      "  inflating: data_3.json             \r\n"
     ]
    }
   ],
   "source": [
    "!unzip output.zip"
   ]
  },
  {
   "cell_type": "markdown",
   "metadata": {},
   "source": [
    "### 5.3 Cleaning up <a id=\"delete\"></a>"
   ]
  },
  {
   "cell_type": "markdown",
   "metadata": {},
   "source": [
    "You can clean up your deployment space with the following lines of code."
   ]
  },
  {
   "cell_type": "code",
   "execution_count": 49,
   "metadata": {},
   "outputs": [
    {
     "data": {
      "text/plain": [
       "'SUCCESS'"
      ]
     },
     "execution_count": 49,
     "metadata": {},
     "output_type": "execute_result"
    }
   ],
   "source": [
    "client.deployments.delete_job(script_job_uid)"
   ]
  },
  {
   "cell_type": "code",
   "execution_count": 50,
   "metadata": {},
   "outputs": [
    {
     "data": {
      "text/plain": [
       "'SUCCESS'"
      ]
     },
     "execution_count": 50,
     "metadata": {},
     "output_type": "execute_result"
    }
   ],
   "source": [
    "client.deployments.delete(script_deployment_uid)"
   ]
  },
  {
   "cell_type": "code",
   "execution_count": 51,
   "metadata": {},
   "outputs": [
    {
     "data": {
      "text/plain": [
       "'SUCCESS'"
      ]
     },
     "execution_count": 51,
     "metadata": {},
     "output_type": "execute_result"
    }
   ],
   "source": [
    "client.script.delete(script_uid)"
   ]
  },
  {
   "cell_type": "code",
   "execution_count": 52,
   "metadata": {},
   "outputs": [
    {
     "data": {
      "text/plain": [
       "'SUCCESS'"
      ]
     },
     "execution_count": 52,
     "metadata": {},
     "output_type": "execute_result"
    }
   ],
   "source": [
    "client.data_assets.delete(src_asset_uid)"
   ]
  },
  {
   "cell_type": "code",
   "execution_count": 53,
   "metadata": {},
   "outputs": [
    {
     "data": {
      "text/plain": [
       "'SUCCESS'"
      ]
     },
     "execution_count": 53,
     "metadata": {},
     "output_type": "execute_result"
    }
   ],
   "source": [
    "client.data_assets.delete(dest_asset_uid)"
   ]
  },
  {
   "cell_type": "code",
   "execution_count": 54,
   "metadata": {},
   "outputs": [
    {
     "data": {
      "text/plain": [
       "'SUCCESS'"
      ]
     },
     "execution_count": 54,
     "metadata": {},
     "output_type": "execute_result"
    }
   ],
   "source": [
    "client.connections.delete(conn_uid)"
   ]
  },
  {
   "cell_type": "markdown",
   "metadata": {},
   "source": [
    "## 6. Summary <a id=\"summary\"></a>"
   ]
  },
  {
   "cell_type": "markdown",
   "metadata": {},
   "source": [
    "You successfully completed this notebook! \n",
    "\n",
    "You learned how to use Watson Machine Learning to create and deploy a python script that uses COS connected data – you learned how to create a batch deployment, a connection, and a connected data asset using Watson Machine Learning."
   ]
  },
  {
   "cell_type": "markdown",
   "metadata": {},
   "source": [
    "### Resources <a id=\"resources\"></a>\n",
    "\n",
    "To learn more about configurations used in this notebook or more sample notebooks, tutorials, documentation, how-tos, and blog posts, check out these links:\n",
    "\n",
    "<div class=\"alert alert-block alert-success\"><a id=\"resources\"></a>\n",
    "\n",
    "<h4>IBM documentation</h4>\n",
    " <ul>\n",
    " <li> <a href=\"https://wml-api-pyclient-dev-v4.mybluemix.net\" target=\"_blank\" rel=\"noopener no referrer\">watson-machine-learning</a></li> \n",
    " <li> <a href=\"https://www.ibm.com/support/knowledgecenter/SSQNUZ_3.0.0/cpd/overview/welcome.html\" target=\"_blank\" rel=\"noopener noreferrer\">CP4D 3.0</a></li>\n",
    " <li> <a href=\"https://www.ibm.com/support/knowledgecenter/SSQNUZ_3.0.0/wsj/analyze-data/deploy-batch-jobs.html\" target=\"_blank\" rel=\"noopener no referrer\">Batch Deployments</a></li>\n",
    "     <ul>\n",
    "         <li> <a href=\"https://www.ibm.com/support/knowledgecenter/SSHGWL_3.0.0/wsj/wmls/wmls-deploy-python.html#deploy-batch\" target=\"_blank\" rel=\"noopener no referrer\">Batch Deployments with the Python client</a></li>\n",
    "         <li> <a href=\"https://www.ibm.com/support/knowledgecenter/SSQNUZ_3.0.0/wsj/analyze-data/deploy-batch-details.html\" target=\"_blank\" rel=\"noopener no referrer\">Batch Deployment jobs</a></li>\n",
    "    </ul>\n",
    " <li> <a href=\"https://www.ibm.com/support/knowledgecenter/SSQNUZ_3.0.0/cpd/overview/welcome.html\" target=\"_blank\" rel=\"noopener noreferrer\">Python Scripts</a></li>\n",
    " </ul>\n",
    "\n",
    "<h4> IBM Samples</h4>\n",
    "<br>\n",
    " <li> <a href=\"https://github.com/IBMDataScience/sample-notebooks\" target=\"_blank\" rel=\"noopener noreferrer\">Sample notebooks</a></li>\n",
    " \n",
    "<h4> Others</h4>\n",
    "<br>\n",
    " <li> <a href=\"https://www.python.org\" target=\"_blank\" rel=\"noopener noreferrer\">Official Python website</a></li>\n",
    " </div>"
   ]
  },
  {
   "cell_type": "markdown",
   "metadata": {},
   "source": [
    "<hr>\n",
    "Copyright ©2020 IBM. This notebook and its source code are released under the terms of the MIT License."
   ]
  },
  {
   "cell_type": "markdown",
   "metadata": {},
   "source": [
    "<div style=\"background:#F5F7FA; height:110px; padding: 2em; font-size:14px;\">\n",
    "<span style=\"font-size:18px;color:#152935;\">Love this notebook? </span>\n",
    "<span style=\"font-size:15px;color:#152935;float:right;margin-right:40px;\">Don't have an account yet?</span><br>\n",
    "<span style=\"color:#5A6872;\">Share it with your colleagues and help them discover the power of Watson Studio!</span>\n",
    "<span style=\"border: 1px solid #3d70b2;padding:8px;float:right;margin-right:40px; color:#3d70b2;\"><a href=\"https://ibm.co/wsnotebooks\" target=\"_blank\" style=\"color: #3d70b2;text-decoration: none;\">Sign Up</a></span><br>\n",
    "</div>"
   ]
  }
 ],
 "metadata": {
  "kernelspec": {
   "display_name": "Python 3.6",
   "language": "python",
   "name": "python3"
  },
  "language_info": {
   "codemirror_mode": {
    "name": "ipython",
    "version": 3
   },
   "file_extension": ".py",
   "mimetype": "text/x-python",
   "name": "python",
   "nbconvert_exporter": "python",
   "pygments_lexer": "ipython3",
   "version": "3.6.10"
  }
 },
 "nbformat": 4,
 "nbformat_minor": 4
}
