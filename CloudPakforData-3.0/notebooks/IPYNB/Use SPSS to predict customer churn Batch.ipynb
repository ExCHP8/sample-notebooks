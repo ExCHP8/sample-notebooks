{
 "cells": [
  {
   "cell_type": "markdown",
   "metadata": {},
   "source": [
    "<table style=\"border: none\" align=\"left\">\n",
    "   <tr style=\"border: none\">\n",
    "      <th style=\"border: none\"><font face=\"verdana\" size=\"5\" color=\"black\"><b>Persist, Deploy, and Score an SPSS Model to Predict Customer Churn</b></th>\n",
    "      <th style=\"border: none\"><img src=\"https://github.com/pmservice/customer-satisfaction-prediction/blob/master/app/static/images/ml_icon_gray.png?raw=true\" alt=\"Watson Machine Learning icon\" height=\"40\" width=\"40\"></th>\n",
    "  <tr style=\"border: none\">\n",
    "       <th style=\"border: none\"><img src=\"https://github.com/pmservice/wml-sample-models/blob/master/spark/customer-satisfaction-prediction/images/users_banner_2-03.png?raw=true\" width=\"600\" alt=\"Icon\"> </th>\n",
    "   </tr>\n",
    "</table>"
   ]
  },
  {
   "cell_type": "markdown",
   "metadata": {},
   "source": [
    "This notebook demonstrates how to deploy an SPSS model and score test data. \n",
    "\n",
    "You will use the **Telco Customer Churn** data set which contains anonymous data about customers of a fictitious telecommunication company. Use the details of this data set to predict customer churn which is critical to business as it is easier to retain existing customers rather than acquire new ones.\n",
    "\n",
    "Some familiarity with Python is helpful. This notebook is compatible with CP4D 3.0 and Python 3.6.\n",
    "\n",
    "\n",
    "## Learning goals\n",
    "\n",
    "In this notebook you learn how to:\n",
    "\n",
    "-  Save an SPSS model.\n",
    "-  Create a batch deployment of the SPSS model.\n",
    "-  Use the deployed model to score data.\n",
    "\n",
    "\n",
    "## Contents\n",
    "\n",
    "1.\t[Setting up](#setup)\n",
    "2.\t[Save the SPSS model](#save)\n",
    "3.  [Create a batch deployment (with deployment space only)](#deploy)\n",
    "4.  [Score the model](#score)<br>\n",
    "    4.1 [Create a Cloud Object Storage (COS) bucket](#cos)<br>\n",
    "    4.2 [Create a connection](#connection)<br>\n",
    "    4.3 [Create a connected data asset](#connectedAsset)<br>\n",
    "    4.4 [Use the data to score the model](#predict)<br>\n",
    "4.\t[Summary](#summary)"
   ]
  },
  {
   "cell_type": "markdown",
   "metadata": {},
   "source": [
    "To get started on CP4D 3.0, find documentation on installation and set up <a href=\"https://www.ibm.com/support/knowledgecenter/SSQNUZ_3.0.0/cpd/overview/welcome.html\" target=\"_blank\" rel=\"noopener no referrer\">here</a>."
   ]
  },
  {
   "cell_type": "markdown",
   "metadata": {},
   "source": [
    "## 1. Setting up <a id=\"setup\"></a>"
   ]
  },
  {
   "cell_type": "markdown",
   "metadata": {},
   "source": [
    "Import the `watson-machine-learning-client` module.\n",
    "<div class=\"alert alert-block alert-info\">\n",
    "For more information about the <b>Watson Machine Learning Python client (V4)</b>, please refer to the <a href=\"https://wml-api-pyclient-dev-v4.mybluemix.net/\" target=\"_blank\" rel=\"noopener no referrer\">Python client documentation</a>. If you're using the notebook within a project on your CP4D cluster, you do not need to install this package as it comes pre-installed with the notebooks. The installation code below is for demonstration but is non-executable at this stage.\n",
    "</div>"
   ]
  },
  {
   "cell_type": "raw",
   "metadata": {},
   "source": [
    "!pip install --upgrade watson-machine-learning-client-V4"
   ]
  },
  {
   "cell_type": "code",
   "execution_count": 1,
   "metadata": {},
   "outputs": [],
   "source": [
    "from watson_machine_learning_client import WatsonMachineLearningAPIClient"
   ]
  },
  {
   "cell_type": "markdown",
   "metadata": {},
   "source": [
    "**Authenticate the Python client on CP4D.**"
   ]
  },
  {
   "cell_type": "markdown",
   "metadata": {},
   "source": [
    "<div class=\"alert alert-block alert-info\">To find your authentication information (your credentials) follow the steps provided here in the <a href=\"https://www.ibm.com/support/knowledgecenter/SSQNUZ_3.0.0/wsj/analyze-data/ml-authentication-local.html\" target=\"_blank\" rel=\"noopener no referrer\">Documentation.</a></div>"
   ]
  },
  {
   "cell_type": "code",
   "execution_count": 2,
   "metadata": {},
   "outputs": [],
   "source": [
    "# Enter your credentials here.\n",
    "\n",
    "from project_lib.utils import environment\n",
    "url = environment.get_common_api_url()\n",
    "\n",
    "import sys,os,os.path\n",
    "token = os.environ['USER_ACCESS_TOKEN']\n",
    "\n",
    "wml_credentials = {\n",
    "     \"instance_id\": \"openshift\",\n",
    "     \"token\": token,\n",
    "     \"url\": url,\n",
    "     \"version\": \"3.0.0\"\n",
    "}"
   ]
  },
  {
   "cell_type": "markdown",
   "metadata": {},
   "source": [
    "Now, instantiate a `WatsonMachineLearningAPIClient` object."
   ]
  },
  {
   "cell_type": "code",
   "execution_count": 3,
   "metadata": {},
   "outputs": [],
   "source": [
    "client = WatsonMachineLearningAPIClient(wml_credentials)"
   ]
  },
  {
   "cell_type": "code",
   "execution_count": 4,
   "metadata": {},
   "outputs": [
    {
     "data": {
      "text/plain": [
       "'1.0.64'"
      ]
     },
     "execution_count": 4,
     "metadata": {},
     "output_type": "execute_result"
    }
   ],
   "source": [
    "client.version"
   ]
  },
  {
   "cell_type": "markdown",
   "metadata": {},
   "source": [
    "<div class=\"alert alert-block alert-info\">\n",
    "You have a choice to either save the model in the <b>project</b> or the <b>deployment space</b>:<br><br>\n",
    "    <li> If you're saving the model in your project, you have to set the default project using the python client.</li><br>\n",
    "    <li>If you're saving the model in the deployment space, you have to obtain the space UID of the deployment space you've created. Then you'd use this to set the default space using the python client. From there you'll be able to deploy and score the model in your deployment space.</li></div>"
   ]
  },
  {
   "cell_type": "markdown",
   "metadata": {},
   "source": [
    "### To set the default project, use the following code."
   ]
  },
  {
   "cell_type": "code",
   "execution_count": 5,
   "metadata": {},
   "outputs": [
    {
     "data": {
      "text/plain": [
       "'SUCCESS'"
      ]
     },
     "execution_count": 5,
     "metadata": {},
     "output_type": "execute_result"
    }
   ],
   "source": [
    "from project_lib import Project\n",
    "project = Project.access()\n",
    "project_id = project.get_metadata()[\"metadata\"][\"guid\"]\n",
    "\n",
    "client.set.default_project(project_id)"
   ]
  },
  {
   "cell_type": "markdown",
   "metadata": {},
   "source": [
    "### To set the default space, follow these steps."
   ]
  },
  {
   "cell_type": "markdown",
   "metadata": {},
   "source": [
    "<div class=\"alert alert-block alert-info\">\n",
    "You can create your own <a href=\"https://www.ibm.com/support/knowledgecenter/SSQNUZ_3.0.0/wsj/analyze-data/ml-spaces_local.html\" target=\"_blank\" rel=\"noopener no referrer\">deployment space</a> by selecting <b>Analytics deployments</b> under <b>Analyze</b> from the Navigation Menu on the top left of this page.</div>"
   ]
  },
  {
   "cell_type": "markdown",
   "metadata": {},
   "source": [
    "Alternatively, you can create a deployment and obtain its UID using the code in the following cell. The cell is not executable cell at this stage, but you can enter the name of your space in the metadata and use it if needed."
   ]
  },
  {
   "cell_type": "raw",
   "metadata": {},
   "source": [
    "space_details = client.spaces.store(meta_props={client.spaces.ConfigurationMetaNames.NAME: \"YOUR DEPLOYMENT SPACE\"})\n",
    "space_uid = client.spaces.get_uid(space_details) print(\"Space UID = \" + space_uid)"
   ]
  },
  {
   "cell_type": "code",
   "execution_count": 6,
   "metadata": {},
   "outputs": [],
   "source": [
    "# Obtain the UId of your space\n",
    "def guid_from_space_name(client, space_name):\n",
    "    space = client.spaces.get_details()\n",
    "    return(next(item for item in space['resources'] if item['entity'][\"name\"] == space_name)['metadata']['guid'])"
   ]
  },
  {
   "cell_type": "markdown",
   "metadata": {},
   "source": [
    "**Action:** Enter the name of your deployment space in the code below: `space_uid = guid_from_space_name(client, 'YOUR DEPLOYMENT SPACE')`."
   ]
  },
  {
   "cell_type": "code",
   "execution_count": 7,
   "metadata": {},
   "outputs": [
    {
     "name": "stdout",
     "output_type": "stream",
     "text": [
      "Space UID = 594b22d1-588c-4de0-9cbd-d98e6fa890e8\n"
     ]
    }
   ],
   "source": [
    "# Enter the name of your deployment space here:\n",
    "space_uid = guid_from_space_name(client, 'YOUR DEPLOYMENT SPACE')\n",
    "print(\"Space UID = \" + space_uid)"
   ]
  },
  {
   "cell_type": "markdown",
   "metadata": {},
   "source": [
    "You can set the default space using the cell below."
   ]
  },
  {
   "cell_type": "code",
   "execution_count": 8,
   "metadata": {},
   "outputs": [
    {
     "name": "stdout",
     "output_type": "stream",
     "text": [
      "Unsetting the project_id ...\n"
     ]
    },
    {
     "data": {
      "text/plain": [
       "'SUCCESS'"
      ]
     },
     "execution_count": 8,
     "metadata": {},
     "output_type": "execute_result"
    }
   ],
   "source": [
    "client.set.default_space(space_uid)"
   ]
  },
  {
   "cell_type": "markdown",
   "metadata": {},
   "source": [
    "<a id=\"save\"></a>\n",
    "## 2. Save the SPSS model"
   ]
  },
  {
   "cell_type": "markdown",
   "metadata": {},
   "source": [
    "Download the SPSS sample model from the <a href=\"https://github.com/pmservice/wml-sample-models\" target=\"_blank\" rel=\"noopener no referrer\">Git repository</a>."
   ]
  },
  {
   "cell_type": "markdown",
   "metadata": {},
   "source": [
    "<div class=\"alert alert-block alert-info\">\n",
    "<b>Note:</b> You may need to install the <tt>wget</tt> package. To install the <tt>wget</tt> package, run the following command.</div>"
   ]
  },
  {
   "cell_type": "code",
   "execution_count": 9,
   "metadata": {},
   "outputs": [
    {
     "name": "stdout",
     "output_type": "stream",
     "text": [
      "Requirement already up-to-date: wget in /user-home/_global_/python-3 (3.2)\r\n"
     ]
    }
   ],
   "source": [
    "!pip install --upgrade wget"
   ]
  },
  {
   "cell_type": "code",
   "execution_count": 10,
   "metadata": {},
   "outputs": [
    {
     "name": "stdout",
     "output_type": "stream",
     "text": [
      "spss_sample_model/customer-satisfaction-prediction.str\n"
     ]
    }
   ],
   "source": [
    "# Download the sample SPSS model.\n",
    "import os\n",
    "import wget\n",
    "\n",
    "sample_dir = 'spss_sample_model'\n",
    "if not os.path.isdir(sample_dir):\n",
    "    os.mkdir(sample_dir)\n",
    "\n",
    "filename=os.path.join(sample_dir, 'customer-satisfaction-prediction.str')\n",
    "if not os.path.isfile(filename):\n",
    "    filename = wget.download('https://github.com/pmservice/wml-sample-models/raw/master/spss/customer-satisfaction-prediction/model/customer-satisfaction-prediction.str',\\\n",
    "                             out=sample_dir)\n",
    "print(filename)"
   ]
  },
  {
   "cell_type": "markdown",
   "metadata": {},
   "source": [
    "Save the downloaded SPSS sample model as *SPSS model for Churn prediction*. First, you need to create the model metadata."
   ]
  },
  {
   "cell_type": "code",
   "execution_count": 11,
   "metadata": {},
   "outputs": [],
   "source": [
    "# Save the SPSS model to the WML repository.\n",
    "# Model Metadata.\n",
    "software_spec_uid = client.software_specifications.get_uid_by_name('spss-modeler_18.1')\n",
    "\n",
    "meta_props={\n",
    "    client.repository.ModelMetaNames.NAME: \"SPSS model for Churn prediction\",\n",
    "    client.repository.ModelMetaNames.SOFTWARE_SPEC_UID: software_spec_uid,\n",
    "    client.repository.ModelMetaNames.TYPE: \"spss-modeler_18.1\"\n",
    "}"
   ]
  },
  {
   "cell_type": "markdown",
   "metadata": {},
   "source": [
    "<div class=\"alert alert-block alert-info\">To list the supported software specifications, run <tt>client.software_specifications.list()</tt>.<br>To find more information about the frameworks with their respective <b>Types</b> and <b>Software Specifications</b>, visit the <a href=\"https://www.ibm.com/support/knowledgecenter/SSQNUZ_3.0.0/wsj/wmls/wmls-deploy-python-types.html\" target=\"_blank\" rel=\"noopener no referrer\">documentation</a>.</div>"
   ]
  },
  {
   "cell_type": "markdown",
   "metadata": {},
   "source": [
    "You can extract the model UID from the saved model details."
   ]
  },
  {
   "cell_type": "code",
   "execution_count": 12,
   "metadata": {},
   "outputs": [
    {
     "name": "stdout",
     "output_type": "stream",
     "text": [
      "Model UID = 4a15c2ec-56a9-440b-a81c-5468e6b5f81b\n"
     ]
    }
   ],
   "source": [
    "# Create the model artifact.\n",
    "model_artifact = client.repository.store_model(filename, meta_props=meta_props)\n",
    "model_uid = client.repository.get_model_uid(model_artifact)\n",
    "print(\"Model UID = \" + model_uid)"
   ]
  },
  {
   "cell_type": "markdown",
   "metadata": {},
   "source": [
    "Get the saved model metadata using the model UID."
   ]
  },
  {
   "cell_type": "code",
   "execution_count": 13,
   "metadata": {
    "scrolled": true
   },
   "outputs": [
    {
     "name": "stdout",
     "output_type": "stream",
     "text": [
      "{'entity': {'content_status': {'state': 'persisted'},\n",
      "            'name': 'SPSS model for Churn prediction',\n",
      "            'software_spec': {'id': '5c3cad7e-507f-4b2a-a9a3-ab53a21dee8b'},\n",
      "            'space': {'href': '/v4/spaces/594b22d1-588c-4de0-9cbd-d98e6fa890e8',\n",
      "                      'id': '594b22d1-588c-4de0-9cbd-d98e6fa890e8'},\n",
      "            'type': 'spss-modeler_18.1'},\n",
      " 'metadata': {'created_at': '2020-05-12T04:04:21.002Z',\n",
      "              'guid': '4a15c2ec-56a9-440b-a81c-5468e6b5f81b',\n",
      "              'href': '/v4/models/4a15c2ec-56a9-440b-a81c-5468e6b5f81b?space_id=594b22d1-588c-4de0-9cbd-d98e6fa890e8',\n",
      "              'id': '4a15c2ec-56a9-440b-a81c-5468e6b5f81b',\n",
      "              'modified_at': '2020-05-12T04:04:24.002Z',\n",
      "              'name': 'SPSS model for Churn prediction',\n",
      "              'owner': '1000330999',\n",
      "              'space_id': '594b22d1-588c-4de0-9cbd-d98e6fa890e8'}}\n"
     ]
    }
   ],
   "source": [
    "# Details about the model.\n",
    "model_details = client.repository.get_details(model_uid)\n",
    "from pprint import pprint\n",
    "pprint(model_details)"
   ]
  },
  {
   "cell_type": "markdown",
   "metadata": {},
   "source": [
    "You can list all stored models using the `list_models` method."
   ]
  },
  {
   "cell_type": "code",
   "execution_count": 14,
   "metadata": {},
   "outputs": [
    {
     "name": "stdout",
     "output_type": "stream",
     "text": [
      "------------------------------------  -------------------------------  ------------------------  -----------------\n",
      "GUID                                  NAME                             CREATED                   TYPE\n",
      "4a15c2ec-56a9-440b-a81c-5468e6b5f81b  SPSS model for Churn prediction  2020-05-12T04:04:21.002Z  spss-modeler_18.1\n",
      "90a7aef0-2d46-49ed-994d-c065512828f2  SPSS model for Churn prediction  2020-05-12T03:56:45.002Z  spss-modeler_18.1\n",
      "81a55ede-932a-44d5-86be-ef48cbed778d  Tensorflow custom library        2020-05-12T03:33:45.002Z  tensorflow_1.15\n",
      "------------------------------------  -------------------------------  ------------------------  -----------------\n"
     ]
    }
   ],
   "source": [
    "# Display a list of all the models.\n",
    "client.repository.list_models()"
   ]
  },
  {
   "cell_type": "markdown",
   "metadata": {},
   "source": [
    "<div class=\"alert alert-block alert-info\">\n",
    "From the list of stored models, you can see that model is successfully saved.<br><br>\n",
    "If you've set the default project, this means you've saved the model in your project. You can see the saved model in your project UI by clicking on your project name in the breadcrumb at the top of the application.<br><br>\n",
    "If you've set the default space, this means that you've saved the model in your deployment space. You can view your model by selecting <b>Analytics Deployments</b> under <b>Analyze</b> from the Navigation Menu and clicking on your deployment space name.</div>"
   ]
  },
  {
   "cell_type": "markdown",
   "metadata": {},
   "source": [
    "If you're using a deployment space, proceed to Section 3: [Create a batch deployment (with deployment space only)](#deploy). If not, you may skip to the [summary](#summary)."
   ]
  },
  {
   "cell_type": "markdown",
   "metadata": {},
   "source": [
    "## 3. Create a batch deployment (with deployment space only) <a id=\"deploy\"></a>"
   ]
  },
  {
   "cell_type": "markdown",
   "metadata": {},
   "source": [
    "Use the code below to create a <a href=\"https://www.ibm.com/support/knowledgecenter/SSQNUZ_3.0.0/wsj/analyze-data/deploy-batch-jobs.html\" target=\"_blank\" rel=\"noopener no referrer\">batch deployment</a> using the model UID obtained in the previous section. Create the deployment metadata using the code below."
   ]
  },
  {
   "cell_type": "code",
   "execution_count": 15,
   "metadata": {},
   "outputs": [],
   "source": [
    "# Deployment metadata.\n",
    "deploy_meta = {\n",
    "    client.deployments.ConfigurationMetaNames.NAME: \"Sample SPSS model deployment\",\n",
    "    client.deployments.ConfigurationMetaNames.BATCH: {},\n",
    "    client.deployments.ConfigurationMetaNames.HARDWARE_SPEC: {\"name\": \"S\", \"num_nodes\": 1}\n",
    "}"
   ]
  },
  {
   "cell_type": "code",
   "execution_count": 16,
   "metadata": {
    "scrolled": true
   },
   "outputs": [
    {
     "name": "stdout",
     "output_type": "stream",
     "text": [
      "\n",
      "\n",
      "#######################################################################################\n",
      "\n",
      "Synchronous deployment creation for uid: '4a15c2ec-56a9-440b-a81c-5468e6b5f81b' started\n",
      "\n",
      "#######################################################################################\n",
      "\n",
      "\n",
      "ready.\n",
      "\n",
      "\n",
      "------------------------------------------------------------------------------------------------\n",
      "Successfully finished deployment creation, deployment_uid='02d47cec-562c-4f63-8d87-f47c55246775'\n",
      "------------------------------------------------------------------------------------------------\n",
      "\n",
      "\n"
     ]
    }
   ],
   "source": [
    "# Create the deployment.\n",
    "deployment_details = client.deployments.create(model_uid, meta_props=deploy_meta)"
   ]
  },
  {
   "cell_type": "markdown",
   "metadata": {},
   "source": [
    "Get the list of all deployments in the deployment space."
   ]
  },
  {
   "cell_type": "code",
   "execution_count": 17,
   "metadata": {},
   "outputs": [
    {
     "name": "stdout",
     "output_type": "stream",
     "text": [
      "------------------------------------  ------------------------------------  -----  ------------------------  -------------\n",
      "GUID                                  NAME                                  STATE  CREATED                   ARTIFACT_TYPE\n",
      "02d47cec-562c-4f63-8d87-f47c55246775  Sample SPSS model deployment          ready  2020-05-12T04:04:27.203Z  model\n",
      "4de63cb0-974e-4a1f-8e6d-2ef18119528a  Sample SPSS model deployment          ready  2020-05-12T03:56:56.003Z  model\n",
      "ec0c61f1-9134-48f4-a4e5-0feaa0efc60e  Tensorflow custom library deployment  ready  2020-05-12T03:33:51.111Z  model\n",
      "------------------------------------  ------------------------------------  -----  ------------------------  -------------\n"
     ]
    }
   ],
   "source": [
    "# List the deployments.\n",
    "client.deployments.list()"
   ]
  },
  {
   "cell_type": "markdown",
   "metadata": {},
   "source": [
    "<div class=\"alert alert-block alert-info\">\n",
    "From the list of deployed models, you can see that model was successfully deployed in the deployment space.</div>"
   ]
  },
  {
   "cell_type": "markdown",
   "metadata": {},
   "source": [
    "Now, you can check details of your deployments."
   ]
  },
  {
   "cell_type": "code",
   "execution_count": 18,
   "metadata": {},
   "outputs": [
    {
     "name": "stdout",
     "output_type": "stream",
     "text": [
      "Deployment uid = 02d47cec-562c-4f63-8d87-f47c55246775\n"
     ]
    }
   ],
   "source": [
    "# Deployment UID.\n",
    "deployment_uid = client.deployments.get_uid(deployment_details)\n",
    "print('Deployment uid = {}'.format(deployment_uid))"
   ]
  },
  {
   "cell_type": "code",
   "execution_count": 19,
   "metadata": {
    "scrolled": true
   },
   "outputs": [
    {
     "name": "stdout",
     "output_type": "stream",
     "text": [
      "{'metadata': {'parent': {'href': ''}, 'name': 'Sample SPSS model deployment', 'guid': '02d47cec-562c-4f63-8d87-f47c55246775', 'description': '', 'id': '02d47cec-562c-4f63-8d87-f47c55246775', 'modified_at': '2020-05-12T04:04:27.203Z', 'created_at': '2020-05-12T04:04:27.203Z', 'href': '/v4/deployments/02d47cec-562c-4f63-8d87-f47c55246775', 'space_id': '594b22d1-588c-4de0-9cbd-d98e6fa890e8'}, 'entity': {'name': 'Sample SPSS model deployment', 'custom': {}, 'description': '', 'batch': {}, 'space': {'id': '594b22d1-588c-4de0-9cbd-d98e6fa890e8', 'href': '/v4/spaces/594b22d1-588c-4de0-9cbd-d98e6fa890e8'}, 'status': {'state': 'ready'}, 'asset': {'id': '4a15c2ec-56a9-440b-a81c-5468e6b5f81b', 'href': '/v4/models/4a15c2ec-56a9-440b-a81c-5468e6b5f81b?space_id=594b22d1-588c-4de0-9cbd-d98e6fa890e8'}, 'space_id': '594b22d1-588c-4de0-9cbd-d98e6fa890e8', 'hardware_spec': {'id': 'e7ed1d6c-2e89-42d7-aed5-863b972c1d2b', 'name': 'S', 'num_nodes': 1}}}\n"
     ]
    }
   ],
   "source": [
    "# Deployment details.\n",
    "print(client.deployments.get_details(deployment_uid))"
   ]
  },
  {
   "cell_type": "markdown",
   "metadata": {},
   "source": [
    "## Score the model <a id=\"score\"></a>"
   ]
  },
  {
   "cell_type": "markdown",
   "metadata": {},
   "source": [
    "In this section, you will go through the following steps.\n",
    "- 4.1 [Create a Cloud Object Storage (COS) bucket](#cos)<br>\n",
    "- 4.2 [Create a connection](#connection)<br>\n",
    "- 4.3 [Create a connected data asset](#connectedAsset)<br>\n",
    "- 4.4 [Use the data to score the model](#predict)<br>"
   ]
  },
  {
   "cell_type": "markdown",
   "metadata": {},
   "source": [
    "### 4.1 Create a Cloud Object Storage (COS) bucket <a id=\"cos\"></a>"
   ]
  },
  {
   "cell_type": "markdown",
   "metadata": {},
   "source": [
    "Before you use the sample code in this notebook, you must perform the following setup tasks:\n",
    "\n",
    "-  Create a <a href=\"https://cloud.ibm.com/catalog/services/cloud-object-storage\" target=\"_blank\" rel=\"noopener no referrer\">Cloud Object Storage (COS)</a> instance (a lite plan is offered and information about how to order storage is <a href=\"https://dataplatform.cloud.ibm.com/docs/content/wsj/analyze-data/ml_dlaas_object_store.html?audience=wdp\" target=\"_blank\" rel=\"noopener no referrer\">here</a>). \n",
    "- Create new credentials with HMAC: \n",
    "    - Go to your COS dashboard.\n",
    "    - In the **Service credentials** tab, click **New Credential+**.\n",
    "    - Add the inline configuration parameter: {\"HMAC\":true}, click **Add**. (For more information, see <a href=\"https://dataplatform.cloud.ibm.com/docs/content/wsj/analyze-data/ml_dlaas_object_store.html#createcredentials\" target=\"_blank\" rel=\"noopener no referrer\">HMAC</a>.)\n",
    "\n",
    "    This configuration parameter adds the following section to the instance credentials, (for use later in this notebook):\n",
    "    ```\n",
    "      \"cos_hmac_keys\": {\n",
    "            \"access_key_id\": \"-------\",\n",
    "            \"secret_access_key\": \"-------\"\n",
    "       }\n",
    "    ```\n"
   ]
  },
  {
   "cell_type": "code",
   "execution_count": 20,
   "metadata": {},
   "outputs": [],
   "source": [
    "# Import the boto library\n",
    "import ibm_boto3\n",
    "from ibm_botocore.client import Config\n",
    "import os"
   ]
  },
  {
   "cell_type": "markdown",
   "metadata": {},
   "source": [
    "Authenticate to COS and define the endpoint you will use.\n",
    "\n",
    "1. Enter your COS credentials in the following cell. You can find these credentials in your COS instance dashboard under the **Service credentials** tab as described above.\n",
    "\n",
    "2. Go to the Endpoint tab in the COS instance's dashboard to get the endpoint information, for example: `s3-api.us-geo.objectstorage.softlayer.net`. Enter it in the cell containing the variable `service_endpoint`."
   ]
  },
  {
   "cell_type": "code",
   "execution_count": 21,
   "metadata": {},
   "outputs": [],
   "source": [
    "# Enter your COS credentials.\n",
    "cos_credentials = {\n",
    "  \"apikey\": \"***\",\n",
    "  \"cos_hmac_keys\": {\n",
    "    \"access_key_id\": \"***\",\n",
    "    \"secret_access_key\": \"***\"\n",
    "  },\n",
    "  \"endpoints\": \"https://cos-service.bluemix.net/endpoints\",\n",
    "  \"iam_apikey_description\": \"***\",\n",
    "  \"iam_apikey_name\": \"***\",\n",
    "  \"iam_role_crn\": \"crn:v1:bluemix:public:iam::::serviceRole:Writer\",\n",
    "  \"iam_serviceid_crn\": \"***\",\n",
    "  \"resource_instance_id\": \"***\"\n",
    "}"
   ]
  },
  {
   "cell_type": "code",
   "execution_count": 22,
   "metadata": {},
   "outputs": [],
   "source": [
    "# Enter your Endpoint information.\n",
    "service_endpoint = \"***\""
   ]
  },
  {
   "cell_type": "markdown",
   "metadata": {},
   "source": [
    "Create the Boto resource."
   ]
  },
  {
   "cell_type": "code",
   "execution_count": 23,
   "metadata": {},
   "outputs": [],
   "source": [
    "cos = ibm_boto3.resource('s3',\n",
    "                         ibm_api_key_id=cos_credentials['apikey'],\n",
    "                         ibm_service_instance_id=cos_credentials['resource_instance_id'],\n",
    "                         ibm_auth_endpoint='https://iam.bluemix.net/oidc/token',\n",
    "                         config=Config(signature_version='oauth'),\n",
    "                         endpoint_url=service_endpoint)"
   ]
  },
  {
   "cell_type": "markdown",
   "metadata": {},
   "source": [
    "Create the buckets you will use to store training data and training results.\n",
    "\n",
    "**Note:** Bucket names must be unique."
   ]
  },
  {
   "cell_type": "code",
   "execution_count": 24,
   "metadata": {},
   "outputs": [
    {
     "name": "stdout",
     "output_type": "stream",
     "text": [
      "Creating bucket \"spss-scoring-payload87fe6044-68bc-48f3-9566-a1205de54688\"...\n"
     ]
    }
   ],
   "source": [
    "# Create a bucket\n",
    "from uuid import uuid4\n",
    "bucket = 'spss-scoring-payload' + str(uuid4())\n",
    "\n",
    "if not cos.Bucket(bucket) in cos.buckets.all():\n",
    "    print('Creating bucket \"{}\"...'.format(bucket))\n",
    "    try:\n",
    "        cos.create_bucket(Bucket=bucket)\n",
    "    except ibm_boto3.exceptions.ibm_botocore.client.ClientError as e:\n",
    "        print('Error: {}.'.format(e.response['Error']['Message']))"
   ]
  },
  {
   "cell_type": "markdown",
   "metadata": {},
   "source": [
    "Check that the bucket was created."
   ]
  },
  {
   "cell_type": "code",
   "execution_count": 25,
   "metadata": {},
   "outputs": [
    {
     "name": "stdout",
     "output_type": "stream",
     "text": [
      "['spss-scoring-payload87fe6044-68bc-48f3-9566-a1205de54688', 'spss-scoring-payload8b16d0f3-b67a-4ead-9a07-be77e0dd6ca3']\n"
     ]
    }
   ],
   "source": [
    "print([x.name for x in list(cos.buckets.all()) if x.name.startswith('spss-scoring-payload')])"
   ]
  },
  {
   "cell_type": "markdown",
   "metadata": {},
   "source": [
    "Download the scoring input from the <a href=\"https://github.com/pmservice/wml-sample-models\" target=\"_blank\" rel=\"noopener no referrer\">Git repository</a>."
   ]
  },
  {
   "cell_type": "code",
   "execution_count": 26,
   "metadata": {},
   "outputs": [
    {
     "name": "stdout",
     "output_type": "stream",
     "text": [
      "scoreInput.csv\n"
     ]
    }
   ],
   "source": [
    "filename='scoreInput.csv'\n",
    "if not os.path.isfile(filename):\n",
    "    filename = wget.download('https://github.com/pmservice/wml-sample-models/raw/master/spss/customer-satisfaction-prediction/data/scoreInput.csv')\n",
    "print(filename)"
   ]
  },
  {
   "cell_type": "markdown",
   "metadata": {},
   "source": [
    "Upload the data file to the created bucket."
   ]
  },
  {
   "cell_type": "code",
   "execution_count": 27,
   "metadata": {},
   "outputs": [
    {
     "name": "stdout",
     "output_type": "stream",
     "text": [
      "scoreInput.csv is uploaded.\n"
     ]
    }
   ],
   "source": [
    "with open(filename, \"rb\") as data:\n",
    "    cos.Bucket(bucket).upload_fileobj(data, filename)\n",
    "    print('{} is uploaded.'.format(filename))"
   ]
  },
  {
   "cell_type": "markdown",
   "metadata": {},
   "source": [
    "### 4.2 Create a connection <a id=\"connection\"></a>"
   ]
  },
  {
   "cell_type": "markdown",
   "metadata": {},
   "source": [
    "You'll use the COS credentials and endpoint information to create the connection metadata. You need to choose the <a href=\"https://www.ibm.com/support/knowledgecenter/SSQNUZ_3.0.0/wsj/manage-data/conn_types.html\" target=\"_blank\" rel=\"noopener no referrer\">connection type</a> as Cloud Object Storage as shown in the code below."
   ]
  },
  {
   "cell_type": "code",
   "execution_count": 28,
   "metadata": {},
   "outputs": [],
   "source": [
    "# Get the UID of the COS type connection.\n",
    "data_source_type_id = client.connections.get_datasource_type_uid_by_name('cloudobjectstorage')\n",
    "\n",
    "# create the metadata for the connector.\n",
    "conn_meta_props = {\n",
    "    client.connections.ConfigurationMetaNames.NAME: 'New Connection using the Python client',\n",
    "    client.connections.ConfigurationMetaNames.DATASOURCE_TYPE: data_source_type_id,\n",
    "    client.connections.ConfigurationMetaNames.DESCRIPTION: 'Create a connection object using a COS instance',\n",
    "    client.connections.ConfigurationMetaNames.PROPERTIES: {\n",
    "        'access_key': cos_credentials['cos_hmac_keys']['access_key_id'],\n",
    "        'iam_url': 'https://iam.cloud.ibm.com/identity/token',  # used when getting assets from this connection\n",
    "        'secret_key': cos_credentials['cos_hmac_keys']['secret_access_key'],\n",
    "        'url': service_endpoint\n",
    "    }\n",
    "}"
   ]
  },
  {
   "cell_type": "code",
   "execution_count": 29,
   "metadata": {},
   "outputs": [
    {
     "name": "stdout",
     "output_type": "stream",
     "text": [
      "Creating connections...\n",
      "SUCCESS\n"
     ]
    }
   ],
   "source": [
    "conn_details = client.connections.create(meta_props=conn_meta_props)"
   ]
  },
  {
   "cell_type": "markdown",
   "metadata": {},
   "source": [
    "Get the connection UID."
   ]
  },
  {
   "cell_type": "code",
   "execution_count": 30,
   "metadata": {},
   "outputs": [
    {
     "name": "stdout",
     "output_type": "stream",
     "text": [
      "Connection UID: debf3d7f-3ff9-4d46-99c2-5b801744c474\n"
     ]
    }
   ],
   "source": [
    "conn_uid = client.connections.get_uid(conn_details)\n",
    "print('Connection UID: {}'.format(conn_uid))"
   ]
  },
  {
   "cell_type": "markdown",
   "metadata": {},
   "source": [
    "### 4.3 Create a connected data asset <a id=\"connectedAsset\"></a>"
   ]
  },
  {
   "cell_type": "markdown",
   "metadata": {},
   "source": [
    "Use the following code to save the payload as a .csv and add it as a data asset in your deployment space. You'll use the connection UID and point to where the file is located in the COS bucket in the data asset metadata."
   ]
  },
  {
   "cell_type": "code",
   "execution_count": 31,
   "metadata": {},
   "outputs": [],
   "source": [
    "# Create the metadata for the data asset.\n",
    "file_location = bucket+'/'+filename\n",
    "\n",
    "asset_meta_props = {\n",
    "    client.data_assets.ConfigurationMetaNames.NAME: 'spss-scoring-payload.csv',\n",
    "    client.data_assets.ConfigurationMetaNames.CONNECTION_ID: conn_uid,\n",
    "    client.data_assets.ConfigurationMetaNames.DESCRIPTION: 'Connection using COS instance',\n",
    "    # This is the data will be stored by WML.\n",
    "    client.data_assets.ConfigurationMetaNames.DATA_CONTENT_NAME: file_location\n",
    "}"
   ]
  },
  {
   "cell_type": "code",
   "execution_count": 32,
   "metadata": {},
   "outputs": [
    {
     "name": "stdout",
     "output_type": "stream",
     "text": [
      "Creating data asset...\n",
      "SUCCESS\n"
     ]
    }
   ],
   "source": [
    "# Store the asset and upload the data.\n",
    "asset_details = client.data_assets.store(asset_meta_props)"
   ]
  },
  {
   "cell_type": "code",
   "execution_count": 33,
   "metadata": {},
   "outputs": [
    {
     "data": {
      "text/plain": [
       "{'metadata': {'space_id': '594b22d1-588c-4de0-9cbd-d98e6fa890e8',\n",
       "  'guid': 'abab0af9-f0da-446d-a673-2d90fb647a7f',\n",
       "  'href': '/v2/assets/abab0af9-f0da-446d-a673-2d90fb647a7f?space_id=594b22d1-588c-4de0-9cbd-d98e6fa890e8',\n",
       "  'asset_type': 'data_asset',\n",
       "  'created_at': '2020-05-12T04:04:44Z',\n",
       "  'last_updated_at': '2020-05-12T04:04:44Z'},\n",
       " 'entity': {'data_asset': {'mime_type': 'text/csv'}}}"
      ]
     },
     "execution_count": 33,
     "metadata": {},
     "output_type": "execute_result"
    }
   ],
   "source": [
    "asset_details"
   ]
  },
  {
   "cell_type": "markdown",
   "metadata": {},
   "source": [
    "You can see the connected data asset is stored in your deployment space."
   ]
  },
  {
   "cell_type": "code",
   "execution_count": 34,
   "metadata": {},
   "outputs": [
    {
     "name": "stdout",
     "output_type": "stream",
     "text": [
      "------------------------  ----------  ----  ------------------------------------\n",
      "NAME                      ASSET_TYPE  SIZE  ASSET_ID\n",
      "spss-scoring-payload.csv  data_asset  0     5fe83069-007c-4119-a20c-23c12c7a9620\n",
      "spss-scoring-payload.csv  data_asset  0     abab0af9-f0da-446d-a673-2d90fb647a7f\n",
      "------------------------  ----------  ----  ------------------------------------\n"
     ]
    }
   ],
   "source": [
    "client.data_assets.list()"
   ]
  },
  {
   "cell_type": "markdown",
   "metadata": {},
   "source": [
    "Retrieve the URL of the stored asset."
   ]
  },
  {
   "cell_type": "code",
   "execution_count": 35,
   "metadata": {},
   "outputs": [],
   "source": [
    "asset_href = client.data_assets.get_href(asset_details)"
   ]
  },
  {
   "cell_type": "markdown",
   "metadata": {},
   "source": [
    "### 4.3 Use the data to score the model <a id=\"predict\"></a>"
   ]
  },
  {
   "cell_type": "markdown",
   "metadata": {},
   "source": [
    "Prepare the scoring payload with values to score against the deployed model."
   ]
  },
  {
   "cell_type": "code",
   "execution_count": 36,
   "metadata": {},
   "outputs": [
    {
     "name": "stdout",
     "output_type": "stream",
     "text": [
      "{'input_data_references': [{'connection': {},\n",
      "                            'location': {'href': '/v2/assets/abab0af9-f0da-446d-a673-2d90fb647a7f?space_id=594b22d1-588c-4de0-9cbd-d98e6fa890e8'},\n",
      "                            'type': 'data_asset'}],\n",
      " 'output_data_reference': {'connection': {},\n",
      "                           'location': {'description': 'results',\n",
      "                                        'name': 'churn_results_02d47cec-562c-4f63-8d87-f47c55246775.csv'},\n",
      "                           'type': 'data_asset'}}\n"
     ]
    }
   ],
   "source": [
    "# Prepare job payload.\n",
    "job_payload_asset = {\n",
    "    client.deployments.ScoringMetaNames.INPUT_DATA_REFERENCES: [{\n",
    "        \"type\": \"data_asset\",\n",
    "        \"connection\": {},\n",
    "        \"location\": {\n",
    "            \"href\": asset_href\n",
    "        },\n",
    "    }],\n",
    "    client.deployments.ScoringMetaNames.OUTPUT_DATA_REFERENCE: {\n",
    "            \"type\": \"data_asset\",\n",
    "            \"connection\": {},\n",
    "            \"location\": {\n",
    "                \"name\": \"churn_results_{}.csv\".format(deployment_uid),\n",
    "                \"description\": \"results\"\n",
    "            }\n",
    "        }\n",
    "    }\n",
    "pprint(job_payload_asset)"
   ]
  },
  {
   "cell_type": "markdown",
   "metadata": {},
   "source": [
    "Use the following method to run the scoring."
   ]
  },
  {
   "cell_type": "code",
   "execution_count": 37,
   "metadata": {},
   "outputs": [
    {
     "name": "stdout",
     "output_type": "stream",
     "text": [
      "Job uid = bdc70437-eb66-4cad-9d6c-d3a959a16493\n"
     ]
    }
   ],
   "source": [
    "job = client.deployments.create_job(deployment_id=deployment_uid, meta_props=job_payload_asset)\n",
    "job_uid = client.deployments.get_job_uid(job)\n",
    "print('Job uid = {}'.format(job_uid))"
   ]
  },
  {
   "cell_type": "code",
   "execution_count": 38,
   "metadata": {},
   "outputs": [],
   "source": [
    "def poll_async_job(client, job_uid):\n",
    "    import time\n",
    "    while True:\n",
    "        job_status = client.deployments.get_job_status(job_uid)\n",
    "        print(job_status)\n",
    "        state = job_status['state']\n",
    "        if state == 'completed' or 'fail' in state:\n",
    "            return client.deployments.get_job_details(job_uid)\n",
    "        time.sleep(5)"
   ]
  },
  {
   "cell_type": "code",
   "execution_count": 39,
   "metadata": {
    "scrolled": false
   },
   "outputs": [
    {
     "name": "stdout",
     "output_type": "stream",
     "text": [
      "{'state': 'queued', 'running_at': '', 'completed_at': ''}\n",
      "{'state': 'queued', 'running_at': '', 'completed_at': ''}\n",
      "{'state': 'queued', 'running_at': '', 'completed_at': ''}\n",
      "{'state': 'queued', 'running_at': '', 'completed_at': ''}\n",
      "{'state': 'queued', 'running_at': '', 'completed_at': ''}\n",
      "{'state': 'queued', 'running_at': '', 'completed_at': ''}\n",
      "{'state': 'queued', 'running_at': '', 'completed_at': ''}\n",
      "{'state': 'queued', 'running_at': '', 'completed_at': ''}\n",
      "{'state': 'queued', 'running_at': '', 'completed_at': ''}\n",
      "{'state': 'queued', 'running_at': '', 'completed_at': ''}\n",
      "{'state': 'queued', 'running_at': '', 'completed_at': ''}\n",
      "{'state': 'queued', 'running_at': '', 'completed_at': ''}\n",
      "{'state': 'queued', 'running_at': '', 'completed_at': ''}\n",
      "{'state': 'queued', 'running_at': '', 'completed_at': ''}\n",
      "{'state': 'queued', 'running_at': '', 'completed_at': ''}\n",
      "{'state': 'queued', 'running_at': '', 'completed_at': ''}\n",
      "{'state': 'queued', 'running_at': '', 'completed_at': ''}\n",
      "{'state': 'queued', 'running_at': '', 'completed_at': ''}\n",
      "{'state': 'queued', 'running_at': '', 'completed_at': ''}\n",
      "{'state': 'queued', 'running_at': '', 'completed_at': ''}\n",
      "{'state': 'queued', 'running_at': '', 'completed_at': ''}\n",
      "{'state': 'queued', 'running_at': '', 'completed_at': ''}\n",
      "{'state': 'queued', 'running_at': '', 'completed_at': ''}\n",
      "{'state': 'queued', 'running_at': '', 'completed_at': ''}\n",
      "{'state': 'queued', 'running_at': '', 'completed_at': ''}\n",
      "{'state': 'queued', 'running_at': '', 'completed_at': ''}\n",
      "{'state': 'queued', 'running_at': '', 'completed_at': ''}\n",
      "{'state': 'queued', 'running_at': '', 'completed_at': ''}\n",
      "{'state': 'queued', 'running_at': '', 'completed_at': ''}\n",
      "{'state': 'queued', 'running_at': '', 'completed_at': ''}\n",
      "{'state': 'queued', 'running_at': '', 'completed_at': ''}\n",
      "{'state': 'queued', 'running_at': '', 'completed_at': ''}\n",
      "{'state': 'queued', 'running_at': '', 'completed_at': ''}\n",
      "{'state': 'queued', 'running_at': '', 'completed_at': ''}\n",
      "{'state': 'queued', 'running_at': '', 'completed_at': ''}\n",
      "{'state': 'queued', 'running_at': '', 'completed_at': ''}\n",
      "{'state': 'queued', 'running_at': '', 'completed_at': ''}\n",
      "{'state': 'queued', 'running_at': '', 'completed_at': ''}\n",
      "{'state': 'queued', 'running_at': '', 'completed_at': ''}\n",
      "{'state': 'queued', 'running_at': '', 'completed_at': ''}\n",
      "{'state': 'queued', 'running_at': '', 'completed_at': ''}\n",
      "{'state': 'queued', 'running_at': '', 'completed_at': ''}\n",
      "{'state': 'queued', 'running_at': '', 'completed_at': ''}\n",
      "{'state': 'queued', 'running_at': '', 'completed_at': ''}\n",
      "{'state': 'queued', 'running_at': '', 'completed_at': ''}\n",
      "{'state': 'queued', 'running_at': '', 'completed_at': ''}\n",
      "{'state': 'queued', 'running_at': '', 'completed_at': ''}\n",
      "{'state': 'queued', 'running_at': '', 'completed_at': ''}\n",
      "{'state': 'queued', 'running_at': '', 'completed_at': ''}\n",
      "{'state': 'queued', 'running_at': '', 'completed_at': ''}\n",
      "{'state': 'running', 'running_at': '2020-05-12T04:09:24.610Z', 'completed_at': ''}\n",
      "{'state': 'running', 'running_at': '2020-05-12T04:09:24.610Z', 'completed_at': ''}\n",
      "{'state': 'completed', 'running_at': '2020-05-12T04:09:24.534Z', 'completed_at': '2020-05-12T04:09:33.062Z'}\n",
      "{'entity': {'deployment': {'href': '/v4/deployments/02d47cec-562c-4f63-8d87-f47c55246775',\n",
      "                           'id': '02d47cec-562c-4f63-8d87-f47c55246775'},\n",
      "            'scoring': {'input_data_references': [{'connection': {},\n",
      "                                                   'location': {'href': '/v2/assets/abab0af9-f0da-446d-a673-2d90fb647a7f?space_id=594b22d1-588c-4de0-9cbd-d98e6fa890e8'},\n",
      "                                                   'type': 'data_asset'}],\n",
      "                        'output_data_reference': {'connection': {},\n",
      "                                                  'location': {'description': 'results',\n",
      "                                                               'href': '/v2/assets/717b6398-2939-442f-b423-0f9bba5a70e1?space_id=594b22d1-588c-4de0-9cbd-d98e6fa890e8',\n",
      "                                                               'name': 'churn_results_02d47cec-562c-4f63-8d87-f47c55246775.csv'},\n",
      "                                                  'type': 'data_asset'},\n",
      "                        'status': {'completed_at': '2020-05-12T04:09:33.062Z',\n",
      "                                   'running_at': '2020-05-12T04:09:24.534Z',\n",
      "                                   'state': 'completed'}},\n",
      "            'space_id': '594b22d1-588c-4de0-9cbd-d98e6fa890e8'},\n",
      " 'metadata': {'created_at': '2020-05-12T04:04:50.311Z',\n",
      "              'guid': 'bdc70437-eb66-4cad-9d6c-d3a959a16493',\n",
      "              'href': '/v4/deployment_jobs/bdc70437-eb66-4cad-9d6c-d3a959a16493',\n",
      "              'id': 'bdc70437-eb66-4cad-9d6c-d3a959a16493',\n",
      "              'modified_at': '2020-05-12T04:09:33.221Z',\n",
      "              'parent': {'href': ''},\n",
      "              'space_id': '594b22d1-588c-4de0-9cbd-d98e6fa890e8'}}\n"
     ]
    }
   ],
   "source": [
    "# Perform prediction.\n",
    "job_details_asset = poll_async_job(client, job_uid)\n",
    "pprint(job_details_asset)"
   ]
  },
  {
   "cell_type": "markdown",
   "metadata": {},
   "source": [
    "You can see your that the `churn results .csv` has been created as a data asset."
   ]
  },
  {
   "cell_type": "code",
   "execution_count": 40,
   "metadata": {},
   "outputs": [
    {
     "name": "stdout",
     "output_type": "stream",
     "text": [
      "------------------------------------------------------  ----------  ----  ------------------------------------\n",
      "NAME                                                    ASSET_TYPE  SIZE  ASSET_ID\n",
      "spss-scoring-payload.csv                                data_asset  0     5fe83069-007c-4119-a20c-23c12c7a9620\n",
      "spss-scoring-payload.csv                                data_asset  0     abab0af9-f0da-446d-a673-2d90fb647a7f\n",
      "churn_results_02d47cec-562c-4f63-8d87-f47c55246775.csv  data_asset  382   717b6398-2939-442f-b423-0f9bba5a70e1\n",
      "churn_results_4de63cb0-974e-4a1f-8e6d-2ef18119528a.csv  data_asset  382   e16620b5-9b59-4c03-8e71-13668ce9cd14\n",
      "------------------------------------------------------  ----------  ----  ------------------------------------\n"
     ]
    }
   ],
   "source": [
    "client.data_assets.list()"
   ]
  },
  {
   "cell_type": "markdown",
   "metadata": {},
   "source": [
    "Get the UID of the results .csv and download the data asset."
   ]
  },
  {
   "cell_type": "code",
   "execution_count": 41,
   "metadata": {},
   "outputs": [
    {
     "data": {
      "text/plain": [
       "'717b6398-2939-442f-b423-0f9bba5a70e1'"
      ]
     },
     "execution_count": 41,
     "metadata": {},
     "output_type": "execute_result"
    }
   ],
   "source": [
    "import re\n",
    "results_asset = job_details_asset['entity']['scoring']['output_data_reference']['location']['href']\n",
    "results_uid = re.split('[?/]', results_asset)[3]\n",
    "results_uid"
   ]
  },
  {
   "cell_type": "code",
   "execution_count": 42,
   "metadata": {},
   "outputs": [
    {
     "data": {
      "text/plain": [
       "{'metadata': {'space_id': '594b22d1-588c-4de0-9cbd-d98e6fa890e8',\n",
       "  'guid': '717b6398-2939-442f-b423-0f9bba5a70e1',\n",
       "  'href': '/v2/assets/717b6398-2939-442f-b423-0f9bba5a70e1?space_id=594b22d1-588c-4de0-9cbd-d98e6fa890e8',\n",
       "  'asset_type': 'data_asset',\n",
       "  'created_at': '2020-05-12T04:09:32Z',\n",
       "  'last_updated_at': '2020-05-12T04:09:33Z'},\n",
       " 'entity': {'data_asset': {'mime_type': 'application/csv', 'dataset': True}}}"
      ]
     },
     "execution_count": 42,
     "metadata": {},
     "output_type": "execute_result"
    }
   ],
   "source": [
    "client.data_assets.get_details(results_uid)"
   ]
  },
  {
   "cell_type": "markdown",
   "metadata": {},
   "source": [
    "You can see the values predicted by the model here."
   ]
  },
  {
   "cell_type": "code",
   "execution_count": 43,
   "metadata": {},
   "outputs": [
    {
     "name": "stdout",
     "output_type": "stream",
     "text": [
      "Successfully saved data asset content to file: 'scoring_results.csv'\n"
     ]
    },
    {
     "data": {
      "text/plain": [
       "'/home/wsuser/work/scoring_results.csv'"
      ]
     },
     "execution_count": 43,
     "metadata": {},
     "output_type": "execute_result"
    }
   ],
   "source": [
    "client.data_assets.download(results_uid, \"scoring_results.csv\")"
   ]
  },
  {
   "cell_type": "code",
   "execution_count": 44,
   "metadata": {},
   "outputs": [
    {
     "data": {
      "text/html": [
       "<div>\n",
       "<style scoped>\n",
       "    .dataframe tbody tr th:only-of-type {\n",
       "        vertical-align: middle;\n",
       "    }\n",
       "\n",
       "    .dataframe tbody tr th {\n",
       "        vertical-align: top;\n",
       "    }\n",
       "\n",
       "    .dataframe thead th {\n",
       "        text-align: right;\n",
       "    }\n",
       "</style>\n",
       "<table border=\"1\" class=\"dataframe\">\n",
       "  <thead>\n",
       "    <tr style=\"text-align: right;\">\n",
       "      <th></th>\n",
       "      <th>customerID</th>\n",
       "      <th>Churn</th>\n",
       "      <th>Predicted Churn</th>\n",
       "      <th>Probability of Churn</th>\n",
       "    </tr>\n",
       "  </thead>\n",
       "  <tbody>\n",
       "    <tr>\n",
       "      <th>0</th>\n",
       "      <td>9237-HQITU</td>\n",
       "      <td>Yes</td>\n",
       "      <td>Yes</td>\n",
       "      <td>0.882983</td>\n",
       "    </tr>\n",
       "    <tr>\n",
       "      <th>1</th>\n",
       "      <td>3638-WEABW</td>\n",
       "      <td>No</td>\n",
       "      <td>No</td>\n",
       "      <td>0.052631</td>\n",
       "    </tr>\n",
       "    <tr>\n",
       "      <th>2</th>\n",
       "      <td>8665-UTDHZ</td>\n",
       "      <td>Yes</td>\n",
       "      <td>No</td>\n",
       "      <td>0.174110</td>\n",
       "    </tr>\n",
       "    <tr>\n",
       "      <th>3</th>\n",
       "      <td>8773-HHUOZ</td>\n",
       "      <td>Yes</td>\n",
       "      <td>No</td>\n",
       "      <td>0.484323</td>\n",
       "    </tr>\n",
       "    <tr>\n",
       "      <th>4</th>\n",
       "      <td>4080-IIARD</td>\n",
       "      <td>No</td>\n",
       "      <td>No</td>\n",
       "      <td>0.092014</td>\n",
       "    </tr>\n",
       "    <tr>\n",
       "      <th>5</th>\n",
       "      <td>6575-SUVOI</td>\n",
       "      <td>No</td>\n",
       "      <td>No</td>\n",
       "      <td>0.092092</td>\n",
       "    </tr>\n",
       "    <tr>\n",
       "      <th>6</th>\n",
       "      <td>7495-OOKFY</td>\n",
       "      <td>Yes</td>\n",
       "      <td>Yes</td>\n",
       "      <td>0.972150</td>\n",
       "    </tr>\n",
       "    <tr>\n",
       "      <th>7</th>\n",
       "      <td>0731-EBJQB</td>\n",
       "      <td>No</td>\n",
       "      <td>No</td>\n",
       "      <td>0.090598</td>\n",
       "    </tr>\n",
       "    <tr>\n",
       "      <th>8</th>\n",
       "      <td>1891-QRQSA</td>\n",
       "      <td>No</td>\n",
       "      <td>No</td>\n",
       "      <td>0.092103</td>\n",
       "    </tr>\n",
       "    <tr>\n",
       "      <th>9</th>\n",
       "      <td>5919-TMRGD</td>\n",
       "      <td>Yes</td>\n",
       "      <td>Yes</td>\n",
       "      <td>0.894228</td>\n",
       "    </tr>\n",
       "  </tbody>\n",
       "</table>\n",
       "</div>"
      ],
      "text/plain": [
       "   customerID Churn Predicted Churn  Probability of Churn\n",
       "0  9237-HQITU   Yes             Yes              0.882983\n",
       "1  3638-WEABW    No              No              0.052631\n",
       "2  8665-UTDHZ   Yes              No              0.174110\n",
       "3  8773-HHUOZ   Yes              No              0.484323\n",
       "4  4080-IIARD    No              No              0.092014\n",
       "5  6575-SUVOI    No              No              0.092092\n",
       "6  7495-OOKFY   Yes             Yes              0.972150\n",
       "7  0731-EBJQB    No              No              0.090598\n",
       "8  1891-QRQSA    No              No              0.092103\n",
       "9  5919-TMRGD   Yes             Yes              0.894228"
      ]
     },
     "execution_count": 44,
     "metadata": {},
     "output_type": "execute_result"
    }
   ],
   "source": [
    "import pandas as pd\n",
    "pd.read_csv(\"scoring_results.csv\")"
   ]
  },
  {
   "cell_type": "markdown",
   "metadata": {},
   "source": [
    "The first 2 customers are said to predicted to have churned and not churned respectively."
   ]
  },
  {
   "cell_type": "markdown",
   "metadata": {},
   "source": [
    "You can delete the 2 created data assets, as well as the connection, deployment, and model using the code below."
   ]
  },
  {
   "cell_type": "code",
   "execution_count": 45,
   "metadata": {},
   "outputs": [],
   "source": [
    "# client.data_assets.delete(client.data_assets.get_uid(asset_details))\n",
    "# client.data_assets.delete(results_uid)"
   ]
  },
  {
   "cell_type": "code",
   "execution_count": 46,
   "metadata": {},
   "outputs": [],
   "source": [
    "#client.connections.delete(conn_uid)"
   ]
  },
  {
   "cell_type": "code",
   "execution_count": 47,
   "metadata": {},
   "outputs": [],
   "source": [
    "# client.deployments.delete(deployment_uid)"
   ]
  },
  {
   "cell_type": "code",
   "execution_count": 48,
   "metadata": {},
   "outputs": [],
   "source": [
    "# client.repository.delete(model_uid)"
   ]
  },
  {
   "cell_type": "markdown",
   "metadata": {},
   "source": [
    "## 5. Summary <a id=\"summary\"></a>"
   ]
  },
  {
   "cell_type": "markdown",
   "metadata": {
    "collapsed": true
   },
   "source": [
    "You successfully completed this notebook! \n",
    "\n",
    "You learned how to use Watson Machine Learning to create and deploy an SPSS model. You learned how to create a batch deployment, a connection, and a connected data asset using Watson Machine Learning."
   ]
  },
  {
   "cell_type": "markdown",
   "metadata": {},
   "source": [
    "### Resources <a id=\"resources\"></a>\n",
    "\n",
    "To learn more about configurations used in this notebook or more sample notebooks, tutorials, documentation, how-tos, and blog posts, check out these links:\n",
    "\n",
    "<div class=\"alert alert-block alert-success\"><a id=\"resources\"></a>\n",
    "\n",
    "<h4>IBM documentation</h4>\n",
    " <ul>\n",
    " <li> <a href=\"https://wml-api-pyclient-dev-v4.mybluemix.net\" target=\"_blank\" rel=\"noopener no referrer\">watson-machine-learning</a></li> \n",
    " <li> <a href=\"https://www.ibm.com/support/knowledgecenter/SSQNUZ_3.0.0/cpd/overview/welcome.html\" target=\"_blank\" rel=\"noopener noreferrer\">CP4D 3.0</a></li>\n",
    " <li> <a href=\"https://www.ibm.com/support/knowledgecenter/SSQNUZ_3.0.0/wsj/analyze-data/deploy-batch-jobs.html\" target=\"_blank\" rel=\"noopener no referrer\">Batch Deployments</a></li>\n",
    "     <ul>\n",
    "         <li> <a href=\"https://www.ibm.com/support/knowledgecenter/SSHGWL_3.0.0/wsj/wmls/wmls-deploy-python.html#deploy-batch\" target=\"_blank\" rel=\"noopener no referrer\">Batch Deployments with the Python client</a></li>\n",
    "         <li> <a href=\"https://www.ibm.com/support/knowledgecenter/SSQNUZ_3.0.0/wsj/analyze-data/deploy-batch-details.html\" target=\"_blank\" rel=\"noopener no referrer\">Batch Deployment jobs</a></li>\n",
    "    </ul>\n",
    " </ul>\n",
    "\n",
    "<h4> IBM Samples</h4>\n",
    "<br>\n",
    " <li> <a href=\"https://github.com/IBMDataScience/sample-notebooks\" target=\"_blank\" rel=\"noopener noreferrer\">Sample notebooks</a></li>\n",
    " \n",
    "<h4> Others</h4>\n",
    "<br>\n",
    " <li> <a href=\"https://www.python.org\" target=\"_blank\" rel=\"noopener noreferrer\">Official Python website</a></li>\n",
    " </div>"
   ]
  },
  {
   "cell_type": "markdown",
   "metadata": {},
   "source": [
    "### Authors\n",
    "\n",
    "**Lukasz Cmielowski**, Ph.D., is an Automation Architect and Data Scientist at IBM with a track record of developing enterprise-level applications that substantially increase the clients' ability to turn data into actionable knowledge.  \n",
    "**Jihyoung Kim**, Ph.D., is a Data Scientist at IBM who strives to make data science easy for everyone through Watson Studio."
   ]
  },
  {
   "cell_type": "markdown",
   "metadata": {},
   "source": [
    "<hr>\n",
    "Copyright © 2017-2020 IBM. This notebook and its source code are released under the terms of the MIT License."
   ]
  },
  {
   "cell_type": "markdown",
   "metadata": {},
   "source": [
    "<div style=\"background:#F5F7FA; height:110px; padding: 2em; font-size:14px;\">\n",
    "<span style=\"font-size:18px;color:#152935;\">Love this notebook? </span>\n",
    "<span style=\"font-size:15px;color:#152935;float:right;margin-right:40px;\">Don't have an account yet?</span><br>\n",
    "<span style=\"color:#5A6872;\">Share it with your colleagues and help them discover the power of Watson Studio!</span>\n",
    "<span style=\"border: 1px solid #3d70b2;padding:8px;float:right;margin-right:40px; color:#3d70b2;\"><a href=\"https://ibm.co/wsnotebooks\" target=\"_blank\" style=\"color: #3d70b2;text-decoration: none;\">Sign Up</a></span><br>\n",
    "</div>"
   ]
  }
 ],
 "metadata": {
  "kernelspec": {
   "display_name": "Python 3.6",
   "language": "python",
   "name": "python3"
  },
  "language_info": {
   "codemirror_mode": {
    "name": "ipython",
    "version": 3
   },
   "file_extension": ".py",
   "mimetype": "text/x-python",
   "name": "python",
   "nbconvert_exporter": "python",
   "pygments_lexer": "ipython3",
   "version": "3.6.10"
  }
 },
 "nbformat": 4,
 "nbformat_minor": 1
}
