{
 "cells": [
  {
   "cell_type": "markdown",
   "metadata": {},
   "source": [
    "<table style='border: none' align='left'>\n",
    "   <tr style='border: none'>\n",
    "      <th style='border: none'><font face='verdana' size='5' color='black'><b>Train model on Watson Studio Cloud and deploy on Cloud Pak for Data 3.0</b></th>\n",
    "      <th style='border: none'><img src='https://github.com/pmservice/customer-satisfaction-prediction/blob/master/app/static/images/ml_icon_gray.png?raw=true' alt='Watson Machine Learning icon' height='40' width='40'></th>\n",
    "   </tr>\n",
    "   <tr style='border: none'>\n",
    "       <th style='border: none'><img src='https://github.com/pmservice/wml-sample-models/raw/master/scikit-learn/hand-written-digits-recognition/images/numbers_banner-04.png' width='600' alt='Icon'> </th>\n",
    "   </tr>\n",
    "</table>"
   ]
  },
  {
   "cell_type": "markdown",
   "metadata": {},
   "source": [
    "This notebook demonstrates how to utilize the <a href=\"https://pypi.python.org/pypi/watson-machine-learning-client-V4\" target=\"_blank\" rel=\"noopener noreferrer\">watson-machine-learning-client-V4</a> package in order to save the model on **Watson Studio Cloud**, download it, and deploy it on **CP4D 3.0**.\n",
    "\n",
    "Some familiarity with Python is helpful. This notebook uses Python 3.6, scikit-learn, and the Watson Machine Learning (WML) API client (`watson-machine-learning-client-V4`).\n",
    "\n",
    "You will use the sample data set of hand-written digit images, **sklearn.datasets.load_digits**, which is available in scikit-learn to recognize hand-written digits.\n",
    "\n",
    "## Learning goals\n",
    "\n",
    "In this notebook, you will learn how to:\n",
    "\n",
    "-  Load a sample data set from ``scikit-learn``.\n",
    "-  Explore data.\n",
    "-  Split data for training and evaluation.\n",
    "-  Create a scikit-learn machine learning pipeline.\n",
    "-  Train and evaluate a model.\n",
    "-  Store the model in the Watson Machine Learning (WML) repository.\n",
    "-  Download the model as a `tar.gz` file.\n",
    "-  Save the model in a deployment space on CP4D.\n",
    "-  Deploy the model for online scoring in the deployment space.\n",
    "-  Score test records.\n",
    "\n",
    "\n",
    "## Contents\n",
    "\n",
    "- [Set up the environment](#setup)\n",
    "- [Creating the model on Watson Studio Cloud](#wscloud)\n",
    "    1. [Load and explore data](#load)\n",
    "    2. [Create a scikit-learn model](#model)\n",
    "    3. [Download the model (without WML)](#download)\n",
    "    4. [Save the model in the WML repository](#savemodel)\n",
    "- [Deploy the model on CP4D 3.0](#cp4d)\n",
    "    1. [Setting up](#setupcp4d)\n",
    "    1. [Save the model in a deployment space](#savetospace)\n",
    "    2. [Deploy to the deployment space and score data](#scoring)\n",
    "- [Summary and next steps](#summary)"
   ]
  },
  {
   "cell_type": "markdown",
   "metadata": {},
   "source": [
    "<a id='setup'></a>\n",
    "## Set up the environment\n",
    "\n",
    "Before you use the sample code in this notebook, you must perform the following setup tasks:\n",
    "\n",
    "-  To use Watson Machine Learning on **Watson Studio Cloud**, create a <a href=\"https://cloud.ibm.com/catalog/services/machine-learning\" target=\"_blank\" rel=\"noopener no referrer\">Watson Machine Learning (WML) Service</a> instance (a free plan is offered and information about how to create the instance can be found <a href=\"https://dataplatform.ibm.com/docs/content/analyze-data/wml-setup.html\" target=\"_blank\" rel=\"noopener no referrer\">here</a>)<br><br>\n",
    "\n",
    "- To get started on **CP4D 3.0**, find documentation on installation and set up <a href=\"https://www.ibm.com/support/knowledgecenter/SSQNUZ_3.0.0/cpd/overview/welcome.html\" target=\"_blank\" rel=\"noopener no referrer\">here</a>.<br><br>\n",
    "\n",
    "- Configure your local python environment:\n",
    "  + python 3.6\n",
    "  + scikit-learn 0.20\n",
    "  + watson-machine-learning-client"
   ]
  },
  {
   "cell_type": "markdown",
   "metadata": {},
   "source": [
    "# Creating the model on Watson Studio Cloud <a id=\"wscloud\"></a>"
   ]
  },
  {
   "cell_type": "markdown",
   "metadata": {},
   "source": [
    "<a id='load'></a>\n",
    "## 1. Load and explore data"
   ]
  },
  {
   "cell_type": "markdown",
   "metadata": {},
   "source": [
    "In this section, you will load the data from scikit-learn sample data sets and perform basic exploratory data analysis (EDA)."
   ]
  },
  {
   "cell_type": "code",
   "execution_count": 1,
   "metadata": {},
   "outputs": [
    {
     "name": "stdout",
     "output_type": "stream",
     "text": [
      "Requirement already satisfied: scikit-learn==0.20.3 in /opt/conda/envs/Python-3.6-WMLCE/lib/python3.6/site-packages (0.20.3)\r\n",
      "Requirement already satisfied: numpy>=1.8.2 in /opt/conda/envs/Python-3.6-WMLCE/lib/python3.6/site-packages (from scikit-learn==0.20.3) (1.16.6)\r\n",
      "Requirement already satisfied: scipy>=0.13.3 in /opt/conda/envs/Python-3.6-WMLCE/lib/python3.6/site-packages (from scikit-learn==0.20.3) (1.3.2)\r\n"
     ]
    }
   ],
   "source": [
    "!pip install scikit-learn==0.20.3"
   ]
  },
  {
   "cell_type": "code",
   "execution_count": 2,
   "metadata": {},
   "outputs": [
    {
     "name": "stdout",
     "output_type": "stream",
     "text": [
      ".. _digits_dataset:\n",
      "\n",
      "Optical recognition of handwritten digits dataset\n",
      "--------------------------------------------------\n",
      "\n",
      "**Data Set Characteristics:**\n",
      "\n",
      "    :Number of Instances: 5620\n",
      "    :Number of Attributes: 64\n",
      "    :Attribute Information: 8x8 image of integer pixels in the range 0..16.\n",
      "    :Missing Attribute Values: None\n",
      "    :Creator: E. Alpaydin (alpaydin '@' boun.edu.tr)\n",
      "    :Date: July; 1998\n",
      "\n",
      "This is a copy of the test set of the UCI ML hand-written digits datasets\n",
      "http://archive.ics.uci.edu/ml/datasets/Optical+Recognition+of+Handwritten+Digits\n",
      "\n",
      "The data set contains images of hand-written digits: 10 classes where\n",
      "each class refers to a digit.\n",
      "\n",
      "Preprocessing programs made available by NIST were used to extract\n",
      "normalized bitmaps of handwritten digits from a preprinted form. From a\n",
      "total of 43 people, 30 contributed to the training set and different 13\n",
      "to the test set. 32x32 bitmaps are divided into nonoverlapping blocks of\n",
      "4x4 and the number of on pixels are counted in each block. This generates\n",
      "an input matrix of 8x8 where each element is an integer in the range\n",
      "0..16. This reduces dimensionality and gives invariance to small\n",
      "distortions.\n",
      "\n",
      "For info on NIST preprocessing routines, see M. D. Garris, J. L. Blue, G.\n",
      "T. Candela, D. L. Dimmick, J. Geist, P. J. Grother, S. A. Janet, and C.\n",
      "L. Wilson, NIST Form-Based Handprint Recognition System, NISTIR 5469,\n",
      "1994.\n",
      "\n",
      ".. topic:: References\n",
      "\n",
      "  - C. Kaynak (1995) Methods of Combining Multiple Classifiers and Their\n",
      "    Applications to Handwritten Digit Recognition, MSc Thesis, Institute of\n",
      "    Graduate Studies in Science and Engineering, Bogazici University.\n",
      "  - E. Alpaydin, C. Kaynak (1998) Cascading Classifiers, Kybernetika.\n",
      "  - Ken Tang and Ponnuthurai N. Suganthan and Xi Yao and A. Kai Qin.\n",
      "    Linear dimensionalityreduction using relevance weighted LDA. School of\n",
      "    Electrical and Electronic Engineering Nanyang Technological University.\n",
      "    2005.\n",
      "  - Claudio Gentile. A New Approximate Maximal Margin Classification\n",
      "    Algorithm. NIPS. 2000.\n"
     ]
    }
   ],
   "source": [
    "# Load the data.\n",
    "import sklearn\n",
    "from sklearn import datasets\n",
    "\n",
    "# Description of the Digits Data set.\n",
    "digits = datasets.load_digits()\n",
    "print(digits.DESCR)"
   ]
  },
  {
   "cell_type": "markdown",
   "metadata": {},
   "source": [
    "The sample data set consists of 8x8 pixel images of hand-written digits."
   ]
  },
  {
   "cell_type": "code",
   "execution_count": 3,
   "metadata": {},
   "outputs": [
    {
     "data": {
      "text/plain": [
       "(1797, 64)"
      ]
     },
     "execution_count": 3,
     "metadata": {},
     "output_type": "execute_result"
    }
   ],
   "source": [
    "digits.data.shape"
   ]
  },
  {
   "cell_type": "markdown",
   "metadata": {},
   "source": [
    "Display the first digit data and label using **data** and **target**. The hand-written digit shown below is an 8x8 pixel image represented by an array."
   ]
  },
  {
   "cell_type": "code",
   "execution_count": 4,
   "metadata": {},
   "outputs": [
    {
     "name": "stdout",
     "output_type": "stream",
     "text": [
      "[[ 0.  0.  5. 13.  9.  1.  0.  0.]\n",
      " [ 0.  0. 13. 15. 10. 15.  5.  0.]\n",
      " [ 0.  3. 15.  2.  0. 11.  8.  0.]\n",
      " [ 0.  4. 12.  0.  0.  8.  8.  0.]\n",
      " [ 0.  5.  8.  0.  0.  9.  8.  0.]\n",
      " [ 0.  4. 11.  0.  1. 12.  7.  0.]\n",
      " [ 0.  2. 14.  5. 10. 12.  0.  0.]\n",
      " [ 0.  0.  6. 13. 10.  0.  0.  0.]]\n"
     ]
    }
   ],
   "source": [
    "print(digits.data[0].reshape((8, 8)))"
   ]
  },
  {
   "cell_type": "code",
   "execution_count": 5,
   "metadata": {},
   "outputs": [
    {
     "data": {
      "text/plain": [
       "0"
      ]
     },
     "execution_count": 5,
     "metadata": {},
     "output_type": "execute_result"
    }
   ],
   "source": [
    "digits.target[0]"
   ]
  },
  {
   "cell_type": "code",
   "execution_count": 6,
   "metadata": {},
   "outputs": [],
   "source": [
    "import matplotlib.pyplot as plt\n",
    "import numpy as np"
   ]
  },
  {
   "cell_type": "code",
   "execution_count": 7,
   "metadata": {},
   "outputs": [
    {
     "data": {
      "image/png": "[encoded data removed]",
      "text/plain": [
       "<Figure size 1080x360 with 10 Axes>"
      ]
     },
     "metadata": {
      "needs_background": "light"
     },
     "output_type": "display_data"
    }
   ],
   "source": [
    "# Visualize some digits from the data set.\n",
    "f, ((ax1, ax2, ax3, ax4, ax5), (ax6, ax7, ax8, ax9, ax10)) = plt.subplots(2, 5, figsize=(15,5))\n",
    "ax = [ax1, ax2, ax3, ax4, ax5, ax6, ax7, ax8, ax9, ax10]\n",
    "\n",
    "for i in range (len(ax)):\n",
    "    plt.gray()\n",
    "    ax[i].matshow(digits.images[i])"
   ]
  },
  {
   "cell_type": "code",
   "execution_count": 8,
   "metadata": {},
   "outputs": [
    {
     "data": {
      "text/plain": [
       "array([0, 1, 2, 3, 4, 5, 6, 7, 8, 9])"
      ]
     },
     "execution_count": 8,
     "metadata": {},
     "output_type": "execute_result"
    }
   ],
   "source": [
    "# Labels for the written digits displayed above.\n",
    "digits.target[:10]"
   ]
  },
  {
   "cell_type": "markdown",
   "metadata": {},
   "source": [
    "In the next step, count the data examples."
   ]
  },
  {
   "cell_type": "code",
   "execution_count": 9,
   "metadata": {
    "scrolled": true
   },
   "outputs": [
    {
     "name": "stdout",
     "output_type": "stream",
     "text": [
      "Number of samples: 1797\n"
     ]
    }
   ],
   "source": [
    "# Calculate the number of samples.\n",
    "samples_count = len(digits.images)\n",
    "\n",
    "print('Number of samples: ' + str(samples_count))"
   ]
  },
  {
   "cell_type": "markdown",
   "metadata": {},
   "source": [
    "<a id='model'></a>\n",
    "## 2. Create a scikit-learn model\n",
    "\n",
    "In this section you learn how to:\n",
    "- [2.1 Split data](#prep)\n",
    "- [2.2 Create a scikit-learn machine learning pipeline](#pipe)\n",
    "- [2.3 Train a model](#train)"
   ]
  },
  {
   "cell_type": "markdown",
   "metadata": {},
   "source": [
    "### 2.1 Split data<a id='prep'></a>\n",
    "\n",
    "In this subsection you will split your data into: \n",
    "- Train data set\n",
    "- Test data set\n",
    "- Score data sets"
   ]
  },
  {
   "cell_type": "code",
   "execution_count": 10,
   "metadata": {},
   "outputs": [
    {
     "name": "stdout",
     "output_type": "stream",
     "text": [
      "Number of training records: 1257\n",
      "Number of testing records : 360\n",
      "Number of scoring records : 180\n"
     ]
    }
   ],
   "source": [
    "# Split the data into data sets and display the number of records for each data set.\n",
    "train_data = digits.data[: int(0.7*samples_count)]\n",
    "train_labels = digits.target[: int(0.7*samples_count)]\n",
    "\n",
    "test_data = digits.data[int(0.7*samples_count): int(0.9*samples_count)]\n",
    "test_labels = digits.target[int(0.7*samples_count): int(0.9*samples_count)]\n",
    "\n",
    "score_data = digits.data[int(0.9*samples_count): ]\n",
    "\n",
    "print('Number of training records: ' + str(len(train_data)))\n",
    "print('Number of testing records : ' + str(len(test_data)))\n",
    "print('Number of scoring records : ' + str(len(score_data)))"
   ]
  },
  {
   "cell_type": "markdown",
   "metadata": {},
   "source": [
    "Your data has been successfully split into three data sets: \n",
    "\n",
    "-  The train data set, which is the largest group, is used for training.\n",
    "-  The test data set will be used for model evaluation and is used to test the assumptions of the model.\n",
    "-  The score data set will be used for scoring in Cloud."
   ]
  },
  {
   "cell_type": "markdown",
   "metadata": {},
   "source": [
    "### 2.2 Create a scikit-learn machine learning pipeline<a id='pipe'></a>"
   ]
  },
  {
   "cell_type": "markdown",
   "metadata": {},
   "source": [
    "In this section, you will create a scikit-learn machine learning pipeline and then train the model."
   ]
  },
  {
   "cell_type": "markdown",
   "metadata": {},
   "source": [
    "First, import the scikit-learn machine learning modules that are needed in the subsequent steps."
   ]
  },
  {
   "cell_type": "code",
   "execution_count": 11,
   "metadata": {},
   "outputs": [],
   "source": [
    "# Import scikit-learn packages.\n",
    "from sklearn.pipeline import Pipeline\n",
    "from sklearn import preprocessing\n",
    "from sklearn import svm, metrics"
   ]
  },
  {
   "cell_type": "markdown",
   "metadata": {},
   "source": [
    "Standardize the features by removing the mean and scaling to unit variance."
   ]
  },
  {
   "cell_type": "code",
   "execution_count": 12,
   "metadata": {},
   "outputs": [],
   "source": [
    "scaler = preprocessing.StandardScaler()"
   ]
  },
  {
   "cell_type": "markdown",
   "metadata": {},
   "source": [
    "Next, define the estimators you want to use for classification. The following example uses Support Vector Machines (SVM) with the radial basis function (used for non-linear data) as kernel."
   ]
  },
  {
   "cell_type": "code",
   "execution_count": 13,
   "metadata": {},
   "outputs": [],
   "source": [
    "clf = svm.SVC(kernel='rbf', gamma='auto')"
   ]
  },
  {
   "cell_type": "markdown",
   "metadata": {},
   "source": [
    "Build the pipeline. A pipeline consists of transformer and an estimator."
   ]
  },
  {
   "cell_type": "code",
   "execution_count": 14,
   "metadata": {},
   "outputs": [],
   "source": [
    "pipeline = Pipeline([('scaler', scaler), ('svc', clf)])"
   ]
  },
  {
   "cell_type": "markdown",
   "metadata": {},
   "source": [
    "### 2.3 Train a model<a id='train'></a>"
   ]
  },
  {
   "cell_type": "markdown",
   "metadata": {},
   "source": [
    "Now, you can use the **pipeline** and **train data** you defined previously to train your SVM model."
   ]
  },
  {
   "cell_type": "code",
   "execution_count": 15,
   "metadata": {},
   "outputs": [],
   "source": [
    "model = pipeline.fit(train_data, train_labels)"
   ]
  },
  {
   "cell_type": "markdown",
   "metadata": {},
   "source": [
    "Use **test data** to generate an evaluation report to check your **model quality**."
   ]
  },
  {
   "cell_type": "code",
   "execution_count": 16,
   "metadata": {},
   "outputs": [
    {
     "name": "stdout",
     "output_type": "stream",
     "text": [
      "Evaluation report: \n",
      "\n",
      "              precision    recall  f1-score   support\n",
      "\n",
      "           0       1.00      0.97      0.99        37\n",
      "           1       0.97      0.97      0.97        34\n",
      "           2       1.00      0.97      0.99        36\n",
      "           3       1.00      0.94      0.97        35\n",
      "           4       0.78      0.97      0.87        37\n",
      "           5       0.97      0.97      0.97        38\n",
      "           6       0.97      0.86      0.91        36\n",
      "           7       0.92      0.97      0.94        35\n",
      "           8       0.91      0.89      0.90        35\n",
      "           9       0.97      0.92      0.94        37\n",
      "\n",
      "   micro avg       0.94      0.94      0.94       360\n",
      "   macro avg       0.95      0.94      0.95       360\n",
      "weighted avg       0.95      0.94      0.95       360\n",
      "\n"
     ]
    }
   ],
   "source": [
    "# Evaluate your model.\n",
    "predicted = model.predict(test_data)\n",
    "\n",
    "print('Evaluation report: \\n\\n%s' % metrics.classification_report(test_labels, predicted))"
   ]
  },
  {
   "cell_type": "markdown",
   "metadata": {
    "collapsed": true
   },
   "source": [
    "**Note:** You can tune your model or try creating classification models to achieve better accuracy. For simplicity of this example, the tuning section and model selection are omitted."
   ]
  },
  {
   "cell_type": "markdown",
   "metadata": {},
   "source": [
    "<div class=\"alert alert-block alert-info\">\n",
    "    If you would like to download the model at this step <b><i>without</i> using Watson Machine Learning</b>, please run the next few lines of code and then skip to the CP4D section in the notebook. <br> If you'd like to save the model in the <b>Watson Machine Learning Repository</b> on Watson Studio Cloud, you can skip to <b><a href=#savemodel>Section 4: Save the model in the WML repository</a></b>.</div>"
   ]
  },
  {
   "cell_type": "markdown",
   "metadata": {},
   "source": [
    "## 3. Download the model (without WML) <a id=\"download\"></a>"
   ]
  },
  {
   "cell_type": "code",
   "execution_count": 17,
   "metadata": {},
   "outputs": [],
   "source": [
    "#Save the model file\n",
    "import pickle\n",
    "filename = \"sklearn_pipeline.pkl\"\n",
    "with open(filename, 'wb') as file:\n",
    "    pickle.dump(model, file)"
   ]
  },
  {
   "cell_type": "markdown",
   "metadata": {},
   "source": [
    "Compress the model into a `.tar.gz` file. You can see that the compressed model, as well as the original file, are saved in the file system."
   ]
  },
  {
   "cell_type": "code",
   "execution_count": 18,
   "metadata": {},
   "outputs": [
    {
     "name": "stdout",
     "output_type": "stream",
     "text": [
      "sklearn_pipeline.pkl\r\n"
     ]
    }
   ],
   "source": [
    "!tar -zcvf digits_prediction_model.tar.gz sklearn_pipeline.pkl"
   ]
  },
  {
   "cell_type": "code",
   "execution_count": 19,
   "metadata": {},
   "outputs": [
    {
     "name": "stdout",
     "output_type": "stream",
     "text": [
      "digits_prediction_model.tar.gz\t     sklearn_pipeline.pkl\r\n",
      "digits_prediction_model_test.tar.gz\r\n"
     ]
    }
   ],
   "source": [
    "!ls"
   ]
  },
  {
   "cell_type": "markdown",
   "metadata": {},
   "source": [
    "Create a download link for the compressed model file. You can click on this link to download the file onto your local machine."
   ]
  },
  {
   "cell_type": "code",
   "execution_count": 20,
   "metadata": {},
   "outputs": [],
   "source": [
    "# creates download link for binary files on notebook filesystem\n",
    "def create_download_link(file_path, title=\"Download file\"):\n",
    "    from IPython.display import HTML\n",
    "    import base64, os\n",
    "    \n",
    "    # open model file\n",
    "    filename = os.path.basename(file_path)\n",
    "    with open(file_path, 'rb') as file:\n",
    "        model_file = file.read()\n",
    "    \n",
    "    # convert data from the binary file\n",
    "    b64 = base64.b64encode(model_file)\n",
    "    payload = b64.decode()\n",
    "    \n",
    "    # write HTML for download link\n",
    "    html = '<a download=\"{filename}\" href=\"data:binary;base64,{payload}\" target=\"_blank\">{title}</a>'\n",
    "    html = html.format(payload=payload, title=title, filename=filename)\n",
    "    return HTML(html)"
   ]
  },
  {
   "cell_type": "code",
   "execution_count": 21,
   "metadata": {},
   "outputs": [
    {
     "data": {
      "text/html": [
       "<a download=\"digits_prediction_model.tar.gz\" href=\"data:binary;base64,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\" target=\"_blank\">Download file</a>"
      ],
      "text/plain": [
       "<IPython.core.display.HTML object>"
      ]
     },
     "execution_count": 21,
     "metadata": {},
     "output_type": "execute_result"
    }
   ],
   "source": [
    "create_download_link(\"digits_prediction_model.tar.gz\")"
   ]
  },
  {
   "cell_type": "markdown",
   "metadata": {},
   "source": [
    "You can now head the step: [Deploy the model on CP4D 3.0](#cp4d) to manage your downloaded model on CP4D."
   ]
  },
  {
   "cell_type": "markdown",
   "metadata": {
    "collapsed": true
   },
   "source": [
    "<a id='savemodel'></a>\n",
    "## 4. Save the model in the WML repository"
   ]
  },
  {
   "cell_type": "markdown",
   "metadata": {},
   "source": [
    "In this section, you will learn how to use the `watson-machine-learning-client-V4` package to manage your model in the WML repository.\n",
    "\n",
    "- [4.1 Set up the WML instance](#work)\n",
    "- [4.2 Save the model in the WML repository](#save)\n",
    "- [4.3 Delete a model from the WML repository](#delete)"
   ]
  },
  {
   "cell_type": "markdown",
   "metadata": {},
   "source": [
    "### 4.1 Set up the WML instance<a id='work'></a>"
   ]
  },
  {
   "cell_type": "markdown",
   "metadata": {
    "collapsed": true
   },
   "source": [
    "Import the `watson-machine-learning-client` module.\n",
    "<div class=\"alert alert-block alert-info\">\n",
    "For more information about the <b>Watson Machine Learning Python client (V4)</b>, please refer to the <a href=\"https://wml-api-pyclient-dev-v4.mybluemix.net/\" target=\"_blank\" rel=\"noopener no referrer\">Python client documentation</a>.\n",
    "</div>"
   ]
  },
  {
   "cell_type": "code",
   "execution_count": 22,
   "metadata": {},
   "outputs": [
    {
     "name": "stdout",
     "output_type": "stream",
     "text": [
      "Requirement already up-to-date: watson-machine-learning-client-V4==1.0.70 in /opt/conda/envs/Python-3.6-WMLCE/lib/python3.6/site-packages (1.0.70)\n",
      "Requirement already satisfied, skipping upgrade: lomond in /opt/conda/envs/Python-3.6-WMLCE/lib/python3.6/site-packages (from watson-machine-learning-client-V4==1.0.70) (0.3.3)\n",
      "Requirement already satisfied, skipping upgrade: urllib3 in /user-home/_global_/python-3 (from watson-machine-learning-client-V4==1.0.70) (1.24.1)\n",
      "Requirement already satisfied, skipping upgrade: tqdm in /opt/conda/envs/Python-3.6-WMLCE/lib/python3.6/site-packages (from watson-machine-learning-client-V4==1.0.70) (4.32.1)\n",
      "Requirement already satisfied, skipping upgrade: ibm-cos-sdk in /opt/conda/envs/Python-3.6-WMLCE/lib/python3.6/site-packages (from watson-machine-learning-client-V4==1.0.70) (2.5.1)\n",
      "Requirement already satisfied, skipping upgrade: requests in /user-home/_global_/python-3 (from watson-machine-learning-client-V4==1.0.70) (2.21.0)\n",
      "Requirement already satisfied, skipping upgrade: pandas in /opt/conda/envs/Python-3.6-WMLCE/lib/python3.6/site-packages (from watson-machine-learning-client-V4==1.0.70) (0.24.2)\n",
      "Requirement already satisfied, skipping upgrade: certifi in /user-home/_global_/python-3 (from watson-machine-learning-client-V4==1.0.70) (2019.3.9)\n",
      "Requirement already satisfied, skipping upgrade: tabulate in /opt/conda/envs/Python-3.6-WMLCE/lib/python3.6/site-packages (from watson-machine-learning-client-V4==1.0.70) (0.8.2)\n",
      "Requirement already satisfied, skipping upgrade: six>=1.10.0 in /user-home/_global_/python-3 (from lomond->watson-machine-learning-client-V4==1.0.70) (1.12.0)\n",
      "Requirement already satisfied, skipping upgrade: ibm-cos-sdk-s3transfer>=2.0.0 in /opt/conda/envs/Python-3.6-WMLCE/lib/python3.6/site-packages (from ibm-cos-sdk->watson-machine-learning-client-V4==1.0.70) (2.5.1)\n",
      "Requirement already satisfied, skipping upgrade: jmespath<1.0.0,>=0.7.1 in /opt/conda/envs/Python-3.6-WMLCE/lib/python3.6/site-packages (from ibm-cos-sdk->watson-machine-learning-client-V4==1.0.70) (0.9.3)\n",
      "Requirement already satisfied, skipping upgrade: ibm-cos-sdk-core>=2.0.0 in /opt/conda/envs/Python-3.6-WMLCE/lib/python3.6/site-packages (from ibm-cos-sdk->watson-machine-learning-client-V4==1.0.70) (2.5.1)\n",
      "Requirement already satisfied, skipping upgrade: chardet<3.1.0,>=3.0.2 in /user-home/_global_/python-3 (from requests->watson-machine-learning-client-V4==1.0.70) (3.0.4)\n",
      "Requirement already satisfied, skipping upgrade: idna<2.9,>=2.5 in /user-home/_global_/python-3 (from requests->watson-machine-learning-client-V4==1.0.70) (2.8)\n",
      "Requirement already satisfied, skipping upgrade: python-dateutil>=2.5.0 in /opt/conda/envs/Python-3.6-WMLCE/lib/python3.6/site-packages (from pandas->watson-machine-learning-client-V4==1.0.70) (2.7.5)\n",
      "Requirement already satisfied, skipping upgrade: pytz>=2011k in /opt/conda/envs/Python-3.6-WMLCE/lib/python3.6/site-packages (from pandas->watson-machine-learning-client-V4==1.0.70) (2019.3)\n",
      "Requirement already satisfied, skipping upgrade: numpy>=1.12.0 in /opt/conda/envs/Python-3.6-WMLCE/lib/python3.6/site-packages (from pandas->watson-machine-learning-client-V4==1.0.70) (1.16.6)\n",
      "Requirement already satisfied, skipping upgrade: docutils>=0.10 in /opt/conda/envs/Python-3.6-WMLCE/lib/python3.6/site-packages (from ibm-cos-sdk-core>=2.0.0->ibm-cos-sdk->watson-machine-learning-client-V4==1.0.70) (0.14)\n"
     ]
    }
   ],
   "source": [
    "!pip install --upgrade watson-machine-learning-client-V4==1.0.70"
   ]
  },
  {
   "cell_type": "markdown",
   "metadata": {},
   "source": [
    "**Tip**: Authentication information (your credentials) can be found in the <a href=\"https://dataplatform.cloud.ibm.com/docs/content/wsj/analyze-data/ml-get-wml-credentials.html\" target=\"_blank\" rel=\"noopener no referrer\">Service credentials</a> tab of the service instance that you created on the IBM Cloud. <BR>If you cannot find the **instance_id** field in **Service Credentials**, click **New credential (+)** to generate new authentication information. \n",
    "\n",
    "**Action**: Enter your Watson Machine Learning service instance credentials here."
   ]
  },
  {
   "cell_type": "code",
   "execution_count": 23,
   "metadata": {},
   "outputs": [],
   "source": [
    "wml_credentials = {\n",
    "    \"apikey\": \"---\",\n",
    "    \"instance_id\": \"---\",\n",
    "    \"url\": \"https://us-south.ml.cloud.ibm.com\"\n",
    "}"
   ]
  },
  {
   "cell_type": "code",
   "execution_count": 24,
   "metadata": {},
   "outputs": [],
   "source": [
    "# The code was removed by Watson Studio for sharing."
   ]
  },
  {
   "cell_type": "code",
   "execution_count": 25,
   "metadata": {},
   "outputs": [],
   "source": [
    "from watson_machine_learning_client import WatsonMachineLearningAPIClient"
   ]
  },
  {
   "cell_type": "markdown",
   "metadata": {},
   "source": [
    "#### Instantiate the WML Python client object. "
   ]
  },
  {
   "cell_type": "code",
   "execution_count": 26,
   "metadata": {},
   "outputs": [],
   "source": [
    "client = WatsonMachineLearningAPIClient(wml_credentials)"
   ]
  },
  {
   "cell_type": "code",
   "execution_count": 27,
   "metadata": {},
   "outputs": [
    {
     "data": {
      "text/plain": [
       "'1.0.70'"
      ]
     },
     "execution_count": 27,
     "metadata": {},
     "output_type": "execute_result"
    }
   ],
   "source": [
    "client.version"
   ]
  },
  {
   "cell_type": "markdown",
   "metadata": {},
   "source": [
    "### 4.2 Save the model in the WML repository<a id='save'></a>"
   ]
  },
  {
   "cell_type": "markdown",
   "metadata": {},
   "source": [
    "Define the model name when saving the model in the WML repository."
   ]
  },
  {
   "cell_type": "code",
   "execution_count": 28,
   "metadata": {},
   "outputs": [],
   "source": [
    "# Model Metadata.\n",
    "meta_props={\n",
    "    client.repository.ModelMetaNames.NAME: \"Digits prediction model\",\n",
    "    client.repository.ModelMetaNames.RUNTIME_UID: \"scikit-learn_0.20-py3.6\",\n",
    "    client.repository.ModelMetaNames.TYPE: \"scikit-learn_0.20\",\n",
    "}"
   ]
  },
  {
   "cell_type": "code",
   "execution_count": 29,
   "metadata": {},
   "outputs": [
    {
     "name": "stdout",
     "output_type": "stream",
     "text": [
      "Model UID = 087ae94c-0aea-4b98-81f6-868aab53179f\n"
     ]
    }
   ],
   "source": [
    "# Create the model artifact.\n",
    "model_artifact = client.repository.store_model(model,\n",
    "                                                   meta_props=meta_props,\n",
    "                                                   training_data=train_data,\n",
    "                                                   training_target=train_labels)\n",
    "model_uid = client.repository.get_model_uid(model_artifact)\n",
    "print(\"Model UID = \" + model_uid)"
   ]
  },
  {
   "cell_type": "markdown",
   "metadata": {},
   "source": [
    "#### Get information about a specific model in the WML repository."
   ]
  },
  {
   "cell_type": "code",
   "execution_count": 30,
   "metadata": {
    "scrolled": false
   },
   "outputs": [
    {
     "name": "stdout",
     "output_type": "stream",
     "text": [
      "{'metadata': {'name': 'Digits prediction model', 'guid': '087ae94c-0aea-4b98-81f6-868aab53179f', 'rev': 'adc384ed-4dd1-4262-9cfc-b2a18f10403a', 'id': '087ae94c-0aea-4b98-81f6-868aab53179f', 'modified_at': '2020-05-29T20:05:25.681Z', 'created_at': '2020-05-29T20:05:25.624Z', 'href': '/v4/models/087ae94c-0aea-4b98-81f6-868aab53179f?rev=adc384ed-4dd1-4262-9cfc-b2a18f10403a'}, 'entity': {'name': 'Digits prediction model', 'training_data_references': [{'location': {'bucket': 'not_applicable'}, 'type': 's3', 'connection': {'access_key_id': 'not_applicable', 'secret_access_key': 'not_applicable', 'endpoint_url': 'not_applicable'}, 'schema': {'id': '1', 'type': 'ndarray', 'fields': [{'name': 'f0', 'type': 'float'}, {'name': 'f1', 'type': 'float'}, {'name': 'f2', 'type': 'float'}, {'name': 'f3', 'type': 'float'}, {'name': 'f4', 'type': 'float'}, {'name': 'f5', 'type': 'float'}, {'name': 'f6', 'type': 'float'}, {'name': 'f7', 'type': 'float'}, {'name': 'f8', 'type': 'float'}, {'name': 'f9', 'type': 'float'}, {'name': 'f10', 'type': 'float'}, {'name': 'f11', 'type': 'float'}, {'name': 'f12', 'type': 'float'}, {'name': 'f13', 'type': 'float'}, {'name': 'f14', 'type': 'float'}, {'name': 'f15', 'type': 'float'}, {'name': 'f16', 'type': 'float'}, {'name': 'f17', 'type': 'float'}, {'name': 'f18', 'type': 'float'}, {'name': 'f19', 'type': 'float'}, {'name': 'f20', 'type': 'float'}, {'name': 'f21', 'type': 'float'}, {'name': 'f22', 'type': 'float'}, {'name': 'f23', 'type': 'float'}, {'name': 'f24', 'type': 'float'}, {'name': 'f25', 'type': 'float'}, {'name': 'f26', 'type': 'float'}, {'name': 'f27', 'type': 'float'}, {'name': 'f28', 'type': 'float'}, {'name': 'f29', 'type': 'float'}, {'name': 'f30', 'type': 'float'}, {'name': 'f31', 'type': 'float'}, {'name': 'f32', 'type': 'float'}, {'name': 'f33', 'type': 'float'}, {'name': 'f34', 'type': 'float'}, {'name': 'f35', 'type': 'float'}, {'name': 'f36', 'type': 'float'}, {'name': 'f37', 'type': 'float'}, {'name': 'f38', 'type': 'float'}, {'name': 'f39', 'type': 'float'}, {'name': 'f40', 'type': 'float'}, {'name': 'f41', 'type': 'float'}, {'name': 'f42', 'type': 'float'}, {'name': 'f43', 'type': 'float'}, {'name': 'f44', 'type': 'float'}, {'name': 'f45', 'type': 'float'}, {'name': 'f46', 'type': 'float'}, {'name': 'f47', 'type': 'float'}, {'name': 'f48', 'type': 'float'}, {'name': 'f49', 'type': 'float'}, {'name': 'f50', 'type': 'float'}, {'name': 'f51', 'type': 'float'}, {'name': 'f52', 'type': 'float'}, {'name': 'f53', 'type': 'float'}, {'name': 'f54', 'type': 'float'}, {'name': 'f55', 'type': 'float'}, {'name': 'f56', 'type': 'float'}, {'name': 'f57', 'type': 'float'}, {'name': 'f58', 'type': 'float'}, {'name': 'f59', 'type': 'float'}, {'name': 'f60', 'type': 'float'}, {'name': 'f61', 'type': 'float'}, {'name': 'f62', 'type': 'float'}, {'name': 'f63', 'type': 'float'}]}}], 'label_column': 'l1', 'content_status': {'state': 'persisted'}, 'space': {'id': '47520601-e097-4fee-bf38-6464cc4a2682', 'href': '/v4/spaces/47520601-e097-4fee-bf38-6464cc4a2682'}, 'type': 'scikit-learn_0.20', 'runtime': {'id': 'scikit-learn_0.20-py3.6', 'href': '/v4/runtimes/scikit-learn_0.20-py3.6'}}}\n"
     ]
    }
   ],
   "source": [
    "# Details about the model.\n",
    "model_details = client.repository.get_details(model_uid)\n",
    "print(model_details)"
   ]
  },
  {
   "cell_type": "markdown",
   "metadata": {},
   "source": [
    "#### Get information of all the models in the WML repository."
   ]
  },
  {
   "cell_type": "code",
   "execution_count": 31,
   "metadata": {},
   "outputs": [
    {
     "name": "stdout",
     "output_type": "stream",
     "text": [
      "------------------------------------  --------------------------------------------------------------------------  ------------------------  -----------------\n",
      "GUID                                  NAME                                                                        CREATED                   TYPE\n",
      "087ae94c-0aea-4b98-81f6-868aab53179f  Digits prediction model                                                     2020-05-29T20:05:25.624Z  scikit-learn_0.20\n",
      "76dce5b2-ef9a-442d-b573-1c926a733b62  Digits prediction model                                                     2020-05-29T20:03:48.668Z  scikit-learn_0.20\n",
      "b9ec3c4f-ee6e-47c6-b175-a48511ab2b94  Fashion MNIST GAN model                                                     2020-05-15T00:44:52.408Z  keras_2.2.5\n",
      "40f743f4-4587-446b-9631-b06ad9f0d17f  Credit Risk Deployment AutoAI Model                                         2020-05-14T06:07:11.700Z  wml-hybrid_0.1\n",
      "cd15045e-1e05-491f-8dc4-78b48732b3a1  Custom ARIMA estimator for sklearn pipeline                                 2020-05-14T05:25:05.947Z  scikit-learn_0.20\n",
      "78aef5ec-b2b5-4ccb-b66d-c25b36d283b4  Best XGBoost regression model for Boston house prices prediction            2020-05-14T05:13:21.400Z  scikit-learn_0.20\n",
      "946e637d-b52a-482d-9320-50aa019efed8  Best gradient boosting regression model for Boston house prices prediction  2020-05-14T05:13:19.114Z  scikit-learn_0.20\n",
      "ec522185-6a4b-49ed-a257-ad313d60a564  Best elastic network model for Boston house prices prediction               2020-05-14T05:13:16.430Z  scikit-learn_0.20\n",
      "8729db60-405a-47fa-a3f7-bab9316ddab1  Cycle GAN model                                                             2020-05-11T20:28:45.027Z  pytorch_1.1\n",
      "cab3383d-2a07-47c5-9ea1-f15f18278269  Credit Risk Deployment AutoAI Model                                         2020-05-11T18:01:59.295Z  wml-hybrid_0.1\n",
      "701d6fa2-7d14-4b6d-8ecd-798ec1f6bdd3  Cycle GAN model                                                             2020-05-11T16:01:22.907Z  pytorch_1.1\n",
      "0b160c62-d1ea-4f5d-8ab6-326d11d7e74e  Credit Risk Deployment AutoAI Model                                         2020-05-04T22:39:37.852Z  wml-hybrid_0.1\n",
      "75bdebd7-d417-4bdb-8759-1aa70bf68038  Credit Risk Deployment AutoAI Model                                         2020-05-04T21:58:40.598Z  wml-hybrid_0.1\n",
      "7aba956d-5bd8-4667-839b-d44f06f5b2c0  Best XGBoost regression model for Boston house prices prediction            2020-04-30T04:03:30.911Z  scikit-learn_0.20\n",
      "7c4bd01b-7413-460b-9970-bf08f06a2461  Best gradient boosting regression model for Boston house prices prediction  2020-04-30T04:03:28.040Z  scikit-learn_0.20\n",
      "47638dd6-f3ad-4bad-a1fc-d8a852a8c668  Best elastic network model for Boston house prices prediction               2020-04-30T04:03:25.910Z  scikit-learn_0.20\n",
      "fcb5a067-d6dc-42a8-ad95-2cc53c849772  XGBoost model for breast cancer                                             2020-04-30T03:27:38.267Z  xgboost_0.82\n",
      "905dfd85-44e0-4c0d-88cd-3008854b1e65  Customer churn Spark model                                                  2020-03-10T19:54:53.568Z  mllib_2.3\n",
      "------------------------------------  --------------------------------------------------------------------------  ------------------------  -----------------\n"
     ]
    }
   ],
   "source": [
    "# Display a list of all the models.\n",
    "client.repository.list_models()"
   ]
  },
  {
   "cell_type": "markdown",
   "metadata": {},
   "source": [
    "<div class=\"alert alert-block alert-info\">\n",
    "    You can see that the model was successfully saved in the Watson Machine Learning repository.\n",
    "</div>"
   ]
  },
  {
   "cell_type": "code",
   "execution_count": 32,
   "metadata": {},
   "outputs": [
    {
     "name": "stdout",
     "output_type": "stream",
     "text": [
      "Successfully saved model content to file: 'digits_prediction_model_test_2.tar.gz'\n"
     ]
    },
    {
     "data": {
      "text/plain": [
       "'/home/wsuser/work/digits_prediction_model_test_2.tar.gz'"
      ]
     },
     "execution_count": 32,
     "metadata": {},
     "output_type": "execute_result"
    }
   ],
   "source": [
    "client.repository.download(model_uid, 'digits_prediction_model_test_2.tar.gz')"
   ]
  },
  {
   "cell_type": "code",
   "execution_count": 33,
   "metadata": {},
   "outputs": [
    {
     "data": {
      "text/html": [
       "<a download=\"digits_prediction_model.tar.gz\" href=\"data:binary;base64,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\" target=\"_blank\">Download file.</a>"
      ],
      "text/plain": [
       "<IPython.core.display.HTML object>"
      ]
     },
     "execution_count": 33,
     "metadata": {},
     "output_type": "execute_result"
    }
   ],
   "source": [
    "from watson_machine_learning_client.utils import create_download_link\n",
    "\n",
    "create_download_link(\"digits_prediction_model.tar.gz\")"
   ]
  },
  {
   "cell_type": "markdown",
   "metadata": {},
   "source": [
    "Click on the link above to download the model you just saved in the Watson Machine Learning repository on Watson Studio Cloud."
   ]
  },
  {
   "cell_type": "markdown",
   "metadata": {},
   "source": [
    "### 4.3 Delete a model from the WML repository<a id='delete'></a>"
   ]
  },
  {
   "cell_type": "markdown",
   "metadata": {},
   "source": [
    "You can use the code in the following cell to delete a published model from the WML repository."
   ]
  },
  {
   "cell_type": "code",
   "execution_count": 34,
   "metadata": {},
   "outputs": [],
   "source": [
    "# client.repository.delete(model_uid)"
   ]
  },
  {
   "cell_type": "markdown",
   "metadata": {},
   "source": [
    "# Deploy the model on CP4D 3.0 <a id=\"cp4d\"></a>"
   ]
  },
  {
   "cell_type": "markdown",
   "metadata": {},
   "source": [
    "**Action:** Upload the model `tar.gz` (downloaded in the previous section) to the CP4D project you're working on. You can do that by clicking on the data icon in the upper right corner of this page and dropping the model `tar.gz` file. Make sure you reload the notebook to ensure the model appears."
   ]
  },
  {
   "cell_type": "markdown",
   "metadata": {},
   "source": [
    "## 1. Setting up <a id=\"setupcp4d\"></a>"
   ]
  },
  {
   "cell_type": "markdown",
   "metadata": {},
   "source": [
    "Import the `watson-machine-learning-client` module.\n",
    "<div class=\"alert alert-block alert-info\">\n",
    "For more information about the <b>Watson Machine Learning Python client (V4)</b>, please refer to the <a href=\"https://wml-api-pyclient-dev-v4.mybluemix.net/\" target=\"_blank\" rel=\"noopener no referrer\">Python client documentation</a>. If you're using the notebook within a project on your CP4D cluster, you do not need to install this package as it comes pre-installed with the notebooks. The installation code below is for demonstration but is non-executable at this stage.\n",
    "</div>"
   ]
  },
  {
   "cell_type": "raw",
   "metadata": {},
   "source": [
    "!pip install --upgrade watson-machine-learning-client-V4"
   ]
  },
  {
   "cell_type": "code",
   "execution_count": 35,
   "metadata": {},
   "outputs": [],
   "source": [
    "from watson_machine_learning_client import WatsonMachineLearningAPIClient"
   ]
  },
  {
   "cell_type": "markdown",
   "metadata": {},
   "source": [
    "**Authenticate the Python client on CP4D.**<br><br>\n",
    "\n",
    "<div class=\"alert alert-block alert-info\">\n",
    "    To find your authentication information (your credentials) follow the steps provided here in the <a href=\"https://www.ibm.com/support/knowledgecenter/SSQNUZ_3.0.0/wsj/analyze-data/ml-authentication-local.html\" target=\"_blank\" rel=\"noopener no referrer\">Documentation</a>.\n",
    "</div>\n",
    "\n",
    "**Action**: Enter your credentials in the following cell."
   ]
  },
  {
   "cell_type": "code",
   "execution_count": 36,
   "metadata": {},
   "outputs": [],
   "source": [
    "# Enter your credentials here.\n",
    "\n",
    "from project_lib.utils import environment\n",
    "url = environment.get_common_api_url()\n",
    "\n",
    "import sys,os,os.path\n",
    "token = os.environ['USER_ACCESS_TOKEN']\n",
    "\n",
    "wml_credentials = {\n",
    "     \"instance_id\": \"openshift\",\n",
    "     \"token\": token,\n",
    "     \"url\": url,\n",
    "     \"version\": \"3.0.0\"\n",
    "}"
   ]
  },
  {
   "cell_type": "code",
   "execution_count": 37,
   "metadata": {},
   "outputs": [],
   "source": [
    "client = WatsonMachineLearningAPIClient(wml_credentials)"
   ]
  },
  {
   "cell_type": "markdown",
   "metadata": {},
   "source": [
    "You can obtain the space UID using the following cells.\n",
    "\n",
    "<div class=\"alert alert-block alert-info\">\n",
    "    You can create your own <a href=\"https://www.ibm.com/support/knowledgecenter/SSQNUZ_3.0.0/wsj/analyze-data/ml-spaces_local.html\" target=\"_blank\" rel=\"noopener no referrer\">deployment space</a> by selecting <b>Analytics deployments</b> under <b>Analyze</b> from the Navigation Menu on the top left of this page.\n",
    "</div>"
   ]
  },
  {
   "cell_type": "markdown",
   "metadata": {},
   "source": [
    "Alternatively, you can create a deployment using the code in the following cell. The cell is not executable cell at this stage, but you can enter the name of your space in the metadata and use it if needed."
   ]
  },
  {
   "cell_type": "raw",
   "metadata": {},
   "source": [
    "space_details = client.spaces.store(meta_props={client.spaces.ConfigurationMetaNames.NAME: \"YOUR DEPLOYMENT SPACE\"})\n",
    "space_uid = client.spaces.get_uid(space_details)\n",
    "print(\"Space UID = \" + space_uid)"
   ]
  },
  {
   "cell_type": "code",
   "execution_count": 38,
   "metadata": {},
   "outputs": [],
   "source": [
    "# Obtain the UId of your space\n",
    "def guid_from_space_name(client, space_name):\n",
    "    space = client.spaces.get_details()\n",
    "    return(next(item for item in space['resources'] if item['entity'][\"name\"] == space_name)['metadata']['guid'])"
   ]
  },
  {
   "cell_type": "markdown",
   "metadata": {},
   "source": [
    "**Action:** Enter the name of your deployment space in the code below: `space_uid = guid_from_space_name(client, 'YOUR DEPLOYMENT SPACE')`."
   ]
  },
  {
   "cell_type": "code",
   "execution_count": 39,
   "metadata": {},
   "outputs": [
    {
     "name": "stdout",
     "output_type": "stream",
     "text": [
      "Space UID = 75dea37e-f1ee-4a58-9959-5f05c98c2a4d\n"
     ]
    }
   ],
   "source": [
    "# Enter the name of your deployment space here:\n",
    "space_uid = guid_from_space_name(client, 'YOUR DEPLOYMENT SPACE')\n",
    "print(\"Space UID = \" + space_uid)"
   ]
  },
  {
   "cell_type": "markdown",
   "metadata": {},
   "source": [
    "Setting the default space is mandatory for CP4D. You can set this using the cell below."
   ]
  },
  {
   "cell_type": "code",
   "execution_count": 40,
   "metadata": {},
   "outputs": [
    {
     "data": {
      "text/plain": [
       "'SUCCESS'"
      ]
     },
     "execution_count": 40,
     "metadata": {},
     "output_type": "execute_result"
    }
   ],
   "source": [
    "client.set.default_space(space_uid)"
   ]
  },
  {
   "cell_type": "markdown",
   "metadata": {},
   "source": [
    "## 2. Save the model in a deployment space <a id=\"savetospace\"></a>"
   ]
  },
  {
   "cell_type": "markdown",
   "metadata": {},
   "source": [
    "In this section, you'll learn how to\n",
    "- 2.1 [Save the model](#savecp4d)\n",
    "- 2.2 [Load the model](#load_model)"
   ]
  },
  {
   "cell_type": "markdown",
   "metadata": {},
   "source": [
    "Obtain the training and test data used when saving and testing the model."
   ]
  },
  {
   "cell_type": "code",
   "execution_count": 41,
   "metadata": {},
   "outputs": [
    {
     "name": "stdout",
     "output_type": "stream",
     "text": [
      "Requirement already satisfied: scikit-learn==0.20.3 in /opt/conda/envs/Python-3.6-WMLCE/lib/python3.6/site-packages (0.20.3)\r\n",
      "Requirement already satisfied: scipy>=0.13.3 in /opt/conda/envs/Python-3.6-WMLCE/lib/python3.6/site-packages (from scikit-learn==0.20.3) (1.3.2)\r\n",
      "Requirement already satisfied: numpy>=1.8.2 in /opt/conda/envs/Python-3.6-WMLCE/lib/python3.6/site-packages (from scikit-learn==0.20.3) (1.16.6)\r\n"
     ]
    }
   ],
   "source": [
    "!pip install scikit-learn==0.20.3"
   ]
  },
  {
   "cell_type": "code",
   "execution_count": 42,
   "metadata": {},
   "outputs": [],
   "source": [
    "# Load the data.\n",
    "import sklearn\n",
    "from sklearn import datasets\n",
    "\n",
    "# Description of the Digits Data set.\n",
    "digits = datasets.load_digits()\n",
    "\n",
    "# Calculate the number of samples.\n",
    "samples_count = len(digits.images)\n",
    "\n",
    "# Split the data into data sets and display the number of records for each data set.\n",
    "train_data = digits.data[: int(0.7*samples_count)]\n",
    "train_labels = digits.target[: int(0.7*samples_count)]\n",
    "\n",
    "test_data = digits.data[int(0.7*samples_count): int(0.9*samples_count)]\n",
    "test_labels = digits.target[int(0.7*samples_count): int(0.9*samples_count)]\n",
    "\n",
    "score_data = digits.data[int(0.9*samples_count): ]"
   ]
  },
  {
   "cell_type": "markdown",
   "metadata": {},
   "source": [
    "### 2.1 Save the model <a id=\"savecp4d\"></a>"
   ]
  },
  {
   "cell_type": "markdown",
   "metadata": {},
   "source": [
    "Create the model metadata."
   ]
  },
  {
   "cell_type": "code",
   "execution_count": 43,
   "metadata": {},
   "outputs": [],
   "source": [
    "# Model Metadata.\n",
    "software_spec_uid = client.software_specifications.get_uid_by_name('scikit-learn_0.20-py3.6')\n",
    "\n",
    "meta_props_cp4d={\n",
    "    client.repository.ModelMetaNames.NAME: \"Digits prediction model\",\n",
    "    client.repository.ModelMetaNames.SOFTWARE_SPEC_UID: software_spec_uid,\n",
    "    client.repository.ModelMetaNames.TYPE: \"scikit-learn_0.20\",\n",
    "}"
   ]
  },
  {
   "cell_type": "markdown",
   "metadata": {},
   "source": [
    "<div class=\"alert alert-block alert-info\">To list the supported software specifications, run <tt>client.software_specifications.list()</tt>.<br>To find more information about the frameworks with their respective <b>Types</b> and <b>Software Specifications</b>, visit the <a href=\"https://www.ibm.com/support/knowledgecenter/SSQNUZ_3.0.0/wsj/wmls/wmls-deploy-python-types.html\" target=\"_blank\" rel=\"noopener no referrer\">documentation</a>.</div>"
   ]
  },
  {
   "cell_type": "markdown",
   "metadata": {},
   "source": [
    "You need the model UID to create the deployment. You can extract the model UID from the saved model details and use it in the next section to create the deployment.\n",
    "\n",
    "**Note:** Ensure that you've uploaded the model `tar.gz` file to the project before running the following code."
   ]
  },
  {
   "cell_type": "code",
   "execution_count": 48,
   "metadata": {},
   "outputs": [
    {
     "name": "stdout",
     "output_type": "stream",
     "text": [
      "Model UID = 22ec2426-1417-4cf2-9967-b29939c76b53\n"
     ]
    }
   ],
   "source": [
    "# Create the model artifact.\n",
    "model_artifact = client.repository.store_model(\"/home/wsuser/work/digits_prediction_model_test_2.tar.gz\",\n",
    "                                                   meta_props=meta_props_cp4d,\n",
    "                                                   training_data=train_data,\n",
    "                                                   training_target=train_labels)\n",
    "cp4d_model_uid = client.repository.get_model_uid(model_artifact)\n",
    "print(\"Model UID = \" + cp4d_model_uid)"
   ]
  },
  {
   "cell_type": "markdown",
   "metadata": {},
   "source": [
    "Get the saved model metadata."
   ]
  },
  {
   "cell_type": "code",
   "execution_count": 49,
   "metadata": {},
   "outputs": [
    {
     "data": {
      "text/plain": [
       "{'metadata': {'name': 'Digits prediction model',\n",
       "  'guid': '22ec2426-1417-4cf2-9967-b29939c76b53',\n",
       "  'id': '22ec2426-1417-4cf2-9967-b29939c76b53',\n",
       "  'modified_at': '2020-05-29T20:18:08.002Z',\n",
       "  'created_at': '2020-05-29T20:18:07.002Z',\n",
       "  'owner': '1000330999',\n",
       "  'href': '/v4/models/22ec2426-1417-4cf2-9967-b29939c76b53?space_id=75dea37e-f1ee-4a58-9959-5f05c98c2a4d',\n",
       "  'space_id': '75dea37e-f1ee-4a58-9959-5f05c98c2a4d'},\n",
       " 'entity': {'name': 'Digits prediction model',\n",
       "  'content_status': {'state': 'persisted'},\n",
       "  'software_spec': {'id': '09c5a1d0-9c1e-4473-a344-eb7b665ff687'},\n",
       "  'space': {'id': '75dea37e-f1ee-4a58-9959-5f05c98c2a4d',\n",
       "   'href': '/v4/spaces/75dea37e-f1ee-4a58-9959-5f05c98c2a4d'},\n",
       "  'type': 'scikit-learn_0.20'}}"
      ]
     },
     "execution_count": 49,
     "metadata": {},
     "output_type": "execute_result"
    }
   ],
   "source": [
    "model_artifact"
   ]
  },
  {
   "cell_type": "markdown",
   "metadata": {},
   "source": [
    "List all the saved models."
   ]
  },
  {
   "cell_type": "code",
   "execution_count": 50,
   "metadata": {},
   "outputs": [
    {
     "name": "stdout",
     "output_type": "stream",
     "text": [
      "------------------------------------  -----------------------  ------------------------  -----------------\n",
      "GUID                                  NAME                     CREATED                   TYPE\n",
      "22ec2426-1417-4cf2-9967-b29939c76b53  Digits prediction model  2020-05-29T20:18:07.002Z  scikit-learn_0.20\n",
      "------------------------------------  -----------------------  ------------------------  -----------------\n"
     ]
    }
   ],
   "source": [
    "# Display a list of all the models.\n",
    "models_details = client.repository.list_models()"
   ]
  },
  {
   "cell_type": "markdown",
   "metadata": {},
   "source": [
    "<div class=\"alert alert-block alert-info\">\n",
    "    From the list of stored models, you can see that the model is successfully saved in your deployment space. You can view your model by selecting <b>Analytics deployments</b> under <b>Analyze</b> from the Navigation Menu and clicking on your deployment space name.\n",
    "</div>"
   ]
  },
  {
   "cell_type": "markdown",
   "metadata": {},
   "source": [
    "### 2.2 Load the model<a id='load_model'></a>"
   ]
  },
  {
   "cell_type": "markdown",
   "metadata": {},
   "source": [
    "In this subsection, you will learn how to load a saved model."
   ]
  },
  {
   "cell_type": "code",
   "execution_count": 51,
   "metadata": {},
   "outputs": [],
   "source": [
    "loaded_model = client.repository.load(cp4d_model_uid)"
   ]
  },
  {
   "cell_type": "markdown",
   "metadata": {},
   "source": [
    "Make test predictions to check that the model has been loaded correctly."
   ]
  },
  {
   "cell_type": "code",
   "execution_count": 52,
   "metadata": {},
   "outputs": [],
   "source": [
    "test_predictions = loaded_model.predict(test_data[:10])"
   ]
  },
  {
   "cell_type": "code",
   "execution_count": 53,
   "metadata": {},
   "outputs": [
    {
     "name": "stdout",
     "output_type": "stream",
     "text": [
      "[4 0 5 3 6 9 6 4 7 5]\n"
     ]
    }
   ],
   "source": [
    "# The predictions made by the model.\n",
    "print(test_predictions)"
   ]
  },
  {
   "cell_type": "code",
   "execution_count": 54,
   "metadata": {},
   "outputs": [],
   "source": [
    "import matplotlib.pyplot as plt\n",
    "import numpy as np"
   ]
  },
  {
   "cell_type": "code",
   "execution_count": 55,
   "metadata": {},
   "outputs": [
    {
     "data": {
      "image/png": "[encoded data removed]",
      "text/plain": [
       "<Figure size 1080x360 with 10 Axes>"
      ]
     },
     "metadata": {
      "needs_background": "light"
     },
     "output_type": "display_data"
    }
   ],
   "source": [
    "# Visualize the test set images used for the prediction.\n",
    "f, ((ax1, ax2, ax3, ax4, ax5), (ax6, ax7, ax8, ax9, ax10)) = plt.subplots(2, 5, figsize=(15,5))\n",
    "ax = [ax1, ax2, ax3, ax4, ax5, ax6, ax7, ax8, ax9, ax10]\n",
    "\n",
    "for i in range (len(ax)):\n",
    "    plt.gray()\n",
    "    ax[i].matshow(test_data[i].reshape((8, 8)))"
   ]
  },
  {
   "cell_type": "code",
   "execution_count": 56,
   "metadata": {},
   "outputs": [
    {
     "data": {
      "text/plain": [
       "array([4, 0, 5, 3, 6, 9, 6, 1, 7, 5])"
      ]
     },
     "execution_count": 56,
     "metadata": {},
     "output_type": "execute_result"
    }
   ],
   "source": [
    "# The correct labels for the digits above.\n",
    "test_labels[:10]"
   ]
  },
  {
   "cell_type": "markdown",
   "metadata": {},
   "source": [
    "As you can see, you are able to make predictions which means that the model has loaded correctly. You have now learned how save and load the model."
   ]
  },
  {
   "cell_type": "markdown",
   "metadata": {},
   "source": [
    "<a id='scoring'></a>\n",
    "## 3. Deploy to the deployment space and score data"
   ]
  },
  {
   "cell_type": "markdown",
   "metadata": {},
   "source": [
    "In this section, you will learn how to use the WML Python client to perform online scoring and score a test data record.\n",
    "\n",
    "- [3.1 Create an online deployment for the published model](#create)\n",
    "- [3.2 Score data](#score)\n",
    "- [3.3 Delete the deployment](#deldeploy)\n",
    "- [3.4 Delete the model](#delmodel)\n"
   ]
  },
  {
   "cell_type": "markdown",
   "metadata": {},
   "source": [
    "### 3.1 Create an online deployment for the published model<a id='create'></a>"
   ]
  },
  {
   "cell_type": "markdown",
   "metadata": {},
   "source": [
    "Now, you can create a deployment, *Deployment of scikit handwritten digits model*."
   ]
  },
  {
   "cell_type": "code",
   "execution_count": 57,
   "metadata": {},
   "outputs": [],
   "source": [
    "# Deployment metadata.\n",
    "deploy_meta = {\n",
    "    client.deployments.ConfigurationMetaNames.NAME: \"Deployment of scikit handwritten digits model\",\n",
    "    client.deployments.ConfigurationMetaNames.ONLINE: {}\n",
    "}"
   ]
  },
  {
   "cell_type": "code",
   "execution_count": 58,
   "metadata": {},
   "outputs": [
    {
     "name": "stdout",
     "output_type": "stream",
     "text": [
      "\n",
      "\n",
      "#######################################################################################\n",
      "\n",
      "Synchronous deployment creation for uid: '22ec2426-1417-4cf2-9967-b29939c76b53' started\n",
      "\n",
      "#######################################################################################\n",
      "\n",
      "\n",
      "initializing...........................\n",
      "ready\n",
      "\n",
      "\n",
      "------------------------------------------------------------------------------------------------\n",
      "Successfully finished deployment creation, deployment_uid='b895ed75-047d-4fb9-b5b0-d7fe9c38897b'\n",
      "------------------------------------------------------------------------------------------------\n",
      "\n",
      "\n"
     ]
    }
   ],
   "source": [
    "# Create the deployment.\n",
    "deploy_details = client.deployments.create(cp4d_model_uid, meta_props=deploy_meta)"
   ]
  },
  {
   "cell_type": "code",
   "execution_count": 59,
   "metadata": {},
   "outputs": [
    {
     "name": "stdout",
     "output_type": "stream",
     "text": [
      "------------------------------------  ---------------------------------------------  -----  ------------------------  -------------\n",
      "GUID                                  NAME                                           STATE  CREATED                   ARTIFACT_TYPE\n",
      "b895ed75-047d-4fb9-b5b0-d7fe9c38897b  Deployment of scikit handwritten digits model  ready  2020-05-29T20:18:15.525Z  model\n",
      "------------------------------------  ---------------------------------------------  -----  ------------------------  -------------\n"
     ]
    }
   ],
   "source": [
    "# List the deployments.\n",
    "client.deployments.list()"
   ]
  },
  {
   "cell_type": "markdown",
   "metadata": {},
   "source": [
    "<div class=\"alert alert-block alert-info\">\n",
    "    From the list of deployments, you can see that the model has been successfully deployed to your deployment space.\n",
    "</div>"
   ]
  },
  {
   "cell_type": "markdown",
   "metadata": {},
   "source": [
    "You can get the `deployment_uid` by parsing the deployment details."
   ]
  },
  {
   "cell_type": "code",
   "execution_count": 60,
   "metadata": {},
   "outputs": [
    {
     "name": "stdout",
     "output_type": "stream",
     "text": [
      "Deployment uid = b895ed75-047d-4fb9-b5b0-d7fe9c38897b\n"
     ]
    }
   ],
   "source": [
    "# Deployment UID.\n",
    "deployment_uid = client.deployments.get_uid(deploy_details)\n",
    "print('Deployment uid = {}'.format(deployment_uid))"
   ]
  },
  {
   "cell_type": "code",
   "execution_count": 61,
   "metadata": {},
   "outputs": [
    {
     "data": {
      "text/plain": [
       "{'entity': {'asset': {'href': '/v4/models/22ec2426-1417-4cf2-9967-b29939c76b53?space_id=75dea37e-f1ee-4a58-9959-5f05c98c2a4d',\n",
       "   'id': '22ec2426-1417-4cf2-9967-b29939c76b53'},\n",
       "  'custom': {},\n",
       "  'description': '',\n",
       "  'name': 'Deployment of scikit handwritten digits model',\n",
       "  'online': {},\n",
       "  'space': {'href': '/v4/spaces/75dea37e-f1ee-4a58-9959-5f05c98c2a4d',\n",
       "   'id': '75dea37e-f1ee-4a58-9959-5f05c98c2a4d'},\n",
       "  'space_id': '75dea37e-f1ee-4a58-9959-5f05c98c2a4d',\n",
       "  'status': {'online_url': {'url': 'https://internal-nginx-svc:12443/v4/deployments/b895ed75-047d-4fb9-b5b0-d7fe9c38897b/predictions'},\n",
       "   'state': 'ready'}},\n",
       " 'metadata': {'created_at': '2020-05-29T20:18:15.525Z',\n",
       "  'description': '',\n",
       "  'guid': 'b895ed75-047d-4fb9-b5b0-d7fe9c38897b',\n",
       "  'href': '/v4/deployments/b895ed75-047d-4fb9-b5b0-d7fe9c38897b',\n",
       "  'id': 'b895ed75-047d-4fb9-b5b0-d7fe9c38897b',\n",
       "  'modified_at': '2020-05-29T20:18:15.525Z',\n",
       "  'name': 'Deployment of scikit handwritten digits model',\n",
       "  'parent': {'href': ''},\n",
       "  'space_id': '75dea37e-f1ee-4a58-9959-5f05c98c2a4d'}}"
      ]
     },
     "execution_count": 61,
     "metadata": {},
     "output_type": "execute_result"
    }
   ],
   "source": [
    "deploy_details"
   ]
  },
  {
   "cell_type": "markdown",
   "metadata": {},
   "source": [
    "### 3.2 Score data<a id='score'></a>"
   ]
  },
  {
   "cell_type": "markdown",
   "metadata": {},
   "source": [
    "Use the following method to run a test scoring request against the deployed model."
   ]
  },
  {
   "cell_type": "markdown",
   "metadata": {},
   "source": [
    "Prepare scoring payload with the records to score."
   ]
  },
  {
   "cell_type": "code",
   "execution_count": 62,
   "metadata": {},
   "outputs": [
    {
     "data": {
      "image/png": "[encoded data removed]",
      "text/plain": [
       "<Figure size 504x288 with 2 Axes>"
      ]
     },
     "metadata": {
      "needs_background": "light"
     },
     "output_type": "display_data"
    }
   ],
   "source": [
    "# Prepare scoring payload.\n",
    "job_payload = {\n",
    "    client.deployments.ScoringMetaNames.INPUT_DATA: [{\n",
    "        'values': [list(score_data[0]), list(score_data[1])]\n",
    "    }]\n",
    "}\n",
    "\n",
    "f, (ax1, ax2) = plt.subplots(1, 2, figsize=(7,4))\n",
    "ax = [ax1, ax2]\n",
    "\n",
    "for i in range (len(ax)):\n",
    "    plt.gray()\n",
    "    ax[i].matshow(np.array(job_payload['input_data'][0]['values'][i]).reshape((8, 8)))"
   ]
  },
  {
   "cell_type": "markdown",
   "metadata": {},
   "source": [
    "Use the ``client.deployments.score()`` method to run the scoring."
   ]
  },
  {
   "cell_type": "code",
   "execution_count": 63,
   "metadata": {},
   "outputs": [
    {
     "name": "stdout",
     "output_type": "stream",
     "text": [
      "{'predictions': [{'fields': ['prediction'], 'values': [[5], [2]]}]}\n"
     ]
    }
   ],
   "source": [
    "# Perform prediction and display the result.\n",
    "job_details = client.deployments.score(deployment_uid,job_payload)\n",
    "print(job_details)"
   ]
  },
  {
   "cell_type": "markdown",
   "metadata": {},
   "source": [
    "The model predicted the numbers `5` and `2` respectively."
   ]
  },
  {
   "cell_type": "code",
   "execution_count": 64,
   "metadata": {},
   "outputs": [
    {
     "data": {
      "text/plain": [
       "array([5, 2])"
      ]
     },
     "execution_count": 64,
     "metadata": {},
     "output_type": "execute_result"
    }
   ],
   "source": [
    "digits.target[int(0.9*samples_count):int(0.9*samples_count)+2]"
   ]
  },
  {
   "cell_type": "markdown",
   "metadata": {},
   "source": [
    "As you can see the model has successfully predicted the values."
   ]
  },
  {
   "cell_type": "markdown",
   "metadata": {},
   "source": [
    "### 3.3 Delete the deployment<a id='deldeploy'></a>"
   ]
  },
  {
   "cell_type": "markdown",
   "metadata": {},
   "source": [
    "If you want to delete the deployment, use the following method."
   ]
  },
  {
   "cell_type": "code",
   "execution_count": 65,
   "metadata": {},
   "outputs": [],
   "source": [
    "# client.deployments.delete(deployment_uid)"
   ]
  },
  {
   "cell_type": "markdown",
   "metadata": {},
   "source": [
    "You can check that your deployment was deleted by generating a list of your saved deployments:"
   ]
  },
  {
   "cell_type": "code",
   "execution_count": 66,
   "metadata": {},
   "outputs": [],
   "source": [
    "# client.deployments.list()"
   ]
  },
  {
   "cell_type": "markdown",
   "metadata": {},
   "source": [
    "### 3.4 Delete the model<a id='delmodel'></a>"
   ]
  },
  {
   "cell_type": "markdown",
   "metadata": {},
   "source": [
    "If you want to delete the model, use the following method."
   ]
  },
  {
   "cell_type": "code",
   "execution_count": 67,
   "metadata": {},
   "outputs": [],
   "source": [
    "# client.repository.delete(cp4d_model_uid)"
   ]
  },
  {
   "cell_type": "markdown",
   "metadata": {},
   "source": [
    "You can check that your model was deleted by generating a list of your saved models:"
   ]
  },
  {
   "cell_type": "code",
   "execution_count": 68,
   "metadata": {},
   "outputs": [],
   "source": [
    "# client.repository.list_models()"
   ]
  },
  {
   "cell_type": "markdown",
   "metadata": {
    "collapsed": true
   },
   "source": [
    "<a id='summary'></a>\n",
    "# Summary and next steps     "
   ]
  },
  {
   "cell_type": "markdown",
   "metadata": {
    "collapsed": true
   },
   "source": [
    "You successfully completed this notebook! \n",
    " \n",
    "You learned how to use the Watson Machine Learning Python client to save a scikit-learn model on Watson Studio Cloud, download it, and deploy it on CP4D 3.0. \n",
    "\n",
    "Check out our <a href=\"https://dataplatform.ibm.com/docs/content/analyze-data/wml-setup.html\" target=\"_blank\" rel=\"noopener noreferrer\">Online Documentation</a> for more samples, tutorials, documentation, how-tos, and blog posts on Watson Studio Cloud. "
   ]
  },
  {
   "cell_type": "markdown",
   "metadata": {},
   "source": [
    "### Resources <a id=\"resources\"></a>\n",
    "\n",
    "To learn more about configurations used in this notebook or more sample notebooks, tutorials, documentation, how-tos, and blog posts, check out these links:\n",
    "\n",
    "<div class=\"alert alert-block alert-success\"><a id=\"resources\"></a>\n",
    "\n",
    "<h4>IBM documentation</h4>\n",
    "<br>\n",
    " <li> <a href=\"https://wml-api-pyclient-dev-v4.mybluemix.net\" target=\"_blank\" rel=\"noopener no referrer\">watson-machine-learning</a></li> \n",
    " <li> <a href=\"https://www.ibm.com/support/knowledgecenter/SSQNUZ_3.0.0/cpd/overview/welcome.html\" target=\"_blank\" rel=\"noopener noreferrer\">CP4D 3.0</a></li>\n",
    " \n",
    "<h4> IBM Samples</h4>\n",
    "<br>\n",
    " <li> <a href=\"https://github.com/IBMDataScience/sample-notebooks\" target=\"_blank\" rel=\"noopener noreferrer\">Sample notebooks</a></li>\n",
    " \n",
    "<h4> Others</h4>\n",
    "<br>\n",
    " <li> <a href=\"https://www.python.org\" target=\"_blank\" rel=\"noopener noreferrer\">Official Python website</a></li>\n",
    " <li> <a href=\"https://matplotlib.org\" target=\"_blank\" rel=\"noopener noreferrer\">Matplotlib: Python plotting</a></li>\n",
    " <li> <a href=\"https://scikit-learn.org/stable/modules/generated/sklearn.model_selection.GridSearchCV.html\" target=\"_blank\" rel=\"noopener noreferrer\">scikit-learn: Grid Search</a></li>\n",
    " </div>"
   ]
  },
  {
   "cell_type": "markdown",
   "metadata": {},
   "source": [
    "### Authors\n",
    "\n",
    "**Wojciech Sobala** is a Data Scientist at IBM developing enterprise-level applications that substantially increases clients' ability to turn data into actionable knowledge.  \n",
    "**Ananya Kaushik** is a Data Scientist at IBM."
   ]
  },
  {
   "cell_type": "markdown",
   "metadata": {},
   "source": [
    "<hr>Copyright © 2017-2020 IBM. This notebook and its source code are released under the terms of the MIT License."
   ]
  },
  {
   "cell_type": "markdown",
   "metadata": {},
   "source": [
    "<div style='background:#F5F7FA; height:110px; padding: 2em; font-size:14px;'>\n",
    "<span style='font-size:18px;color:#152935;'>Love this notebook? </span>\n",
    "<span style='font-size:15px;color:#152935;float:right;margin-right:40px;'>Don't have an account yet?</span><br>\n",
    "<span style='color:#5A6872;'>Share it with your colleagues and help them discover the power of Watson Studio!</span>\n",
    "<span style='border: 1px solid #3d70b2;padding:8px;float:right;margin-right:40px; color:#3d70b2;'><a href='https://ibm.co/wsnotebooks' target='_blank' style='color: #3d70b2;text-decoration: none;'>Sign Up</a></span><br>\n",
    "</div>"
   ]
  }
 ],
 "metadata": {
  "kernelspec": {
   "display_name": "Python 3.6",
   "language": "python",
   "name": "python3"
  },
  "language_info": {
   "codemirror_mode": {
    "name": "ipython",
    "version": 3
   },
   "file_extension": ".py",
   "mimetype": "text/x-python",
   "name": "python",
   "nbconvert_exporter": "python",
   "pygments_lexer": "ipython3",
   "version": "3.6.10"
  }
 },
 "nbformat": 4,
 "nbformat_minor": 1
}
