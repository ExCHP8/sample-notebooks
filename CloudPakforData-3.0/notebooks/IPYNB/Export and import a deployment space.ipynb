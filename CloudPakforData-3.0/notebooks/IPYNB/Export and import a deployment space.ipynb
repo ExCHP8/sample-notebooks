{
 "cells": [
  {
   "cell_type": "markdown",
   "metadata": {},
   "source": [
    "<table style='border: none' align='left'>\n",
    "   <tr style='border: none'>\n",
    "      <th style='border: none'><font face='verdana' size='5' color='black'><b>Export and import a deployment space using the WML Python client</b></th>\n",
    "      <th style='border: none'><img src='https://github.com/pmservice/customer-satisfaction-prediction/blob/master/app/static/images/ml_icon_gray.png?raw=true' alt='Watson Machine Learning icon' height='40' width='40'></th>\n",
    "   </tr>\n",
    "</table>"
   ]
  },
  {
   "cell_type": "markdown",
   "metadata": {},
   "source": [
    "This notebook demonstrates how to use the Watson Machine Learning Python client (V4) to export and import a deployment space. It's compatible with CP4D 3.0 and Python 3.6."
   ]
  },
  {
   "cell_type": "markdown",
   "metadata": {},
   "source": [
    "## Table of Contents"
   ]
  },
  {
   "cell_type": "markdown",
   "metadata": {},
   "source": [
    "This notebook contains the following parts:\n",
    "1. [Set up the environment](#setup)\n",
    "2. [Populate the deployment space](#populate)\n",
    "3. [Export the deployment space](#export)\n",
    "4. [Import the deployment space](#import)\n",
    "5. [Summary and next steps](#summary)"
   ]
  },
  {
   "cell_type": "markdown",
   "metadata": {},
   "source": [
    "<a id=\"setup\"></a>\n",
    "## 1. Set up the environment\n",
    "\n",
    "To get started on CP4D 3.0, find documentation on installation and set up <a href=\"https://www.ibm.com/support/knowledgecenter/SSQNUZ_3.0.0/cpd/overview/welcome.html\" target=\"_blank\" rel=\"noopener no referrer\">here</a>."
   ]
  },
  {
   "cell_type": "markdown",
   "metadata": {},
   "source": [
    "Import the `watson-machine-learning-client` module.\n",
    "<div class=\"alert alert-block alert-info\">\n",
    "For more information about the <b>Watson Machine Learning Python client (V4)</b>, please refer to the <a href=\"https://wml-api-pyclient-dev-v4.mybluemix.net/\" target=\"_blank\" rel=\"noopener no referrer\">Python client documentation</a>. If you're using the notebook within a project on your CP4D cluster, you do not need to install this package as it comes pre-installed with the notebooks. The installation code below is for demonstration but is non-executable at this stage.\n",
    "</div>"
   ]
  },
  {
   "cell_type": "raw",
   "metadata": {},
   "source": [
    "!pip install --upgrade watson-machine-learning-client-V4"
   ]
  },
  {
   "cell_type": "code",
   "execution_count": 1,
   "metadata": {},
   "outputs": [],
   "source": [
    "from watson_machine_learning_client import WatsonMachineLearningAPIClient"
   ]
  },
  {
   "cell_type": "markdown",
   "metadata": {},
   "source": [
    "**Authenticate the Python client on CP4D.**"
   ]
  },
  {
   "cell_type": "markdown",
   "metadata": {},
   "source": [
    "<div class=\"alert alert-block alert-info\">To find your authentication information (your credentials) follow the steps provided here in the <a href=\"https://www.ibm.com/support/knowledgecenter/SSQNUZ_3.0.0/wsj/analyze-data/ml-authentication-local.html\" target=\"_blank\" rel=\"noopener no referrer\">Documentation.</a></div>"
   ]
  },
  {
   "cell_type": "code",
   "execution_count": 2,
   "metadata": {},
   "outputs": [],
   "source": [
    "# Enter your credentials here.\n",
    "\n",
    "from project_lib.utils import environment\n",
    "url = environment.get_common_api_url()\n",
    "\n",
    "import sys,os,os.path\n",
    "token = os.environ['USER_ACCESS_TOKEN']\n",
    "\n",
    "wml_credentials = {\n",
    "     \"instance_id\": \"openshift\",\n",
    "     \"token\": token,\n",
    "     \"url\": url,\n",
    "     \"version\": \"3.0.0\"\n",
    "}"
   ]
  },
  {
   "cell_type": "code",
   "execution_count": 3,
   "metadata": {},
   "outputs": [],
   "source": [
    "client = WatsonMachineLearningAPIClient(wml_credentials)"
   ]
  },
  {
   "cell_type": "code",
   "execution_count": 4,
   "metadata": {},
   "outputs": [
    {
     "data": {
      "text/plain": [
       "'1.0.64'"
      ]
     },
     "execution_count": 4,
     "metadata": {},
     "output_type": "execute_result"
    }
   ],
   "source": [
    "client.version"
   ]
  },
  {
   "cell_type": "markdown",
   "metadata": {},
   "source": [
    "### To set the default space, follow these steps."
   ]
  },
  {
   "cell_type": "markdown",
   "metadata": {},
   "source": [
    "<div class=\"alert alert-block alert-info\">\n",
    "You can create your own <a href=\"https://www.ibm.com/support/knowledgecenter/SSQNUZ_3.0.0/wsj/analyze-data/ml-spaces_local.html\" target=\"_blank\" rel=\"noopener no referrer\">deployment space</a> by selecting <b>Analytics deployments</b> under <b>Analyze</b> from the Navigation Menu on the top left of this page. Alternatively, you can create a deployment and obtain its UID using the code in the following cell.</div>"
   ]
  },
  {
   "cell_type": "markdown",
   "metadata": {},
   "source": [
    "Enter the name of the space in the metadata."
   ]
  },
  {
   "cell_type": "code",
   "execution_count": 5,
   "metadata": {},
   "outputs": [
    {
     "name": "stdout",
     "output_type": "stream",
     "text": [
      "Space UID: 8a4a090c-96cc-4fac-932b-02bfad1455fc\n"
     ]
    }
   ],
   "source": [
    "# Enter the name of your deployment space here:\n",
    "space_details = client.spaces.store(meta_props={client.spaces.ConfigurationMetaNames.NAME: 'YOUR DEPLOYMENT SPACE'})\n",
    "space_uid = client.spaces.get_uid(space_details)\n",
    "print('Space UID: {}'.format(space_uid))"
   ]
  },
  {
   "cell_type": "markdown",
   "metadata": {},
   "source": [
    "You can set the default space using the cell below."
   ]
  },
  {
   "cell_type": "code",
   "execution_count": 6,
   "metadata": {},
   "outputs": [
    {
     "data": {
      "text/plain": [
       "'SUCCESS'"
      ]
     },
     "execution_count": 6,
     "metadata": {},
     "output_type": "execute_result"
    }
   ],
   "source": [
    "client.set.default_space(space_uid)"
   ]
  },
  {
   "cell_type": "markdown",
   "metadata": {},
   "source": [
    "<a id=\"populate\"></a>\n",
    "## 2. Populate the deployment space"
   ]
  },
  {
   "cell_type": "markdown",
   "metadata": {},
   "source": [
    "Download the following file to store in the deployment space."
   ]
  },
  {
   "cell_type": "code",
   "execution_count": 7,
   "metadata": {},
   "outputs": [
    {
     "name": "stdout",
     "output_type": "stream",
     "text": [
      "--2020-05-12 06:07:20--  https://github.com/IBMDataScience/sample-notebooks/raw/master/Files/transform_pred_script.py\n",
      "Resolving github.com (github.com)... 140.82.114.4\n",
      "Connecting to github.com (github.com)|140.82.114.4|:443... connected.\n",
      "HTTP request sent, awaiting response... 302 Found\n",
      "Location: https://raw.githubusercontent.com/IBMDataScience/sample-notebooks/master/Files/transform_pred_script.py [following]\n",
      "--2020-05-12 06:07:21--  https://raw.githubusercontent.com/IBMDataScience/sample-notebooks/master/Files/transform_pred_script.py\n",
      "Resolving raw.githubusercontent.com (raw.githubusercontent.com)... 199.232.36.133\n",
      "Connecting to raw.githubusercontent.com (raw.githubusercontent.com)|199.232.36.133|:443... connected.\n",
      "HTTP request sent, awaiting response... 200 OK\n",
      "Length: 1716 (1.7K) [text/plain]\n",
      "Saving to: ‘transform_pred_script.py’\n",
      "\n",
      "100%[======================================>] 1,716       --.-K/s   in 0s      \n",
      "\n",
      "2020-05-12 06:07:21 (12.6 MB/s) - ‘transform_pred_script.py’ saved [1716/1716]\n",
      "\n"
     ]
    }
   ],
   "source": [
    "!wget https://github.com/IBMDataScience/sample-notebooks/raw/master/Files/transform_pred_script.py --output-document=transform_pred_script.py"
   ]
  },
  {
   "cell_type": "markdown",
   "metadata": {},
   "source": [
    "Create the script metadata and store the script in the deployment space."
   ]
  },
  {
   "cell_type": "code",
   "execution_count": 8,
   "metadata": {},
   "outputs": [],
   "source": [
    "# Script metadata.\n",
    "sw_spec_uid = client.software_specifications.get_uid_by_name('ai-function_0.1-py3.6')\n",
    "\n",
    "script_meta_props = {\n",
    "    client.script.ConfigurationMetaNames.NAME: 'My_Script',\n",
    "    client.script.ConfigurationMetaNames.SOFTWARE_SPEC_UID: sw_spec_uid\n",
    "}"
   ]
  },
  {
   "cell_type": "code",
   "execution_count": 9,
   "metadata": {},
   "outputs": [
    {
     "name": "stdout",
     "output_type": "stream",
     "text": [
      "Creating Script asset...\n",
      "SUCCESS\n",
      "{'entity': {'script': {'language': {'name': 'python3'},\n",
      "                       'software_spec': {'base_id': '0cdb0f1e-5376-4f4d-92dd-da3b69aa9bda'}}},\n",
      " 'metadata': {'asset_type': 'script',\n",
      "              'created_at': '2020-05-12T06:07:24Z',\n",
      "              'guid': '1c2cdd9d-936b-47a6-84ef-0bb53283593d',\n",
      "              'href': '/v2/assets/1c2cdd9d-936b-47a6-84ef-0bb53283593d?space_id=8a4a090c-96cc-4fac-932b-02bfad1455fc',\n",
      "              'last_updated_at': '2020-05-12T06:07:24Z',\n",
      "              'space_id': '8a4a090c-96cc-4fac-932b-02bfad1455fc'}}\n"
     ]
    }
   ],
   "source": [
    "# Create the asset for the script.\n",
    "from pprint import pprint\n",
    "script_details = client.script.store(script_meta_props, 'transform_pred_script.py')\n",
    "pprint(script_details)"
   ]
  },
  {
   "cell_type": "markdown",
   "metadata": {},
   "source": [
    "List the scripts using the following code."
   ]
  },
  {
   "cell_type": "code",
   "execution_count": 10,
   "metadata": {},
   "outputs": [
    {
     "name": "stdout",
     "output_type": "stream",
     "text": [
      "---------  ----------  ------------------------------------\n",
      "NAME       ASSET_TYPE  ASSET_ID\n",
      "My_Script  script      1c2cdd9d-936b-47a6-84ef-0bb53283593d\n",
      "---------  ----------  ------------------------------------\n"
     ]
    }
   ],
   "source": [
    "client.script.list()"
   ]
  },
  {
   "cell_type": "markdown",
   "metadata": {},
   "source": [
    "<div class=\"alert alert-block alert-info\">\n",
    "From the list above, you can see that the script was successfully saved in the deployment space.</div>"
   ]
  },
  {
   "cell_type": "markdown",
   "metadata": {},
   "source": [
    "Get the UID of the script."
   ]
  },
  {
   "cell_type": "code",
   "execution_count": 11,
   "metadata": {},
   "outputs": [
    {
     "name": "stdout",
     "output_type": "stream",
     "text": [
      "Script UID: 1c2cdd9d-936b-47a6-84ef-0bb53283593d\n"
     ]
    }
   ],
   "source": [
    "# Script UID.\n",
    "script_uid = client.script.get_uid(script_details)\n",
    "print('Script UID: {}'.format(script_uid))"
   ]
  },
  {
   "cell_type": "markdown",
   "metadata": {},
   "source": [
    "<a id=\"export\"></a>\n",
    "## 3. Export the deployment space"
   ]
  },
  {
   "cell_type": "markdown",
   "metadata": {},
   "source": [
    "Create the metadata to export the deployment space with the script from the previous sections."
   ]
  },
  {
   "cell_type": "code",
   "execution_count": 12,
   "metadata": {},
   "outputs": [],
   "source": [
    "# Create the export.\n",
    "import time\n",
    "exports_meta_props = {\n",
    "    client.spaces.ExportMetaNames.NAME: 'Export request started at ' + time.asctime(),\n",
    "    client.spaces.ExportMetaNames.DESCRIPTION: 'Description of exports',  # optional\n",
    "    # use \"wml_model\" for models\n",
    "    client.spaces.ExportMetaNames.ASSETS: {'wml_function': [script_uid]}\n",
    "}"
   ]
  },
  {
   "cell_type": "markdown",
   "metadata": {},
   "source": [
    "Create the export and get the UID."
   ]
  },
  {
   "cell_type": "code",
   "execution_count": 13,
   "metadata": {},
   "outputs": [
    {
     "name": "stdout",
     "output_type": "stream",
     "text": [
      "Export UID: 46dd9b40-f8ce-4f64-8539-e22343163568\n"
     ]
    }
   ],
   "source": [
    "export_details = client.spaces.exports(space_uid, meta_props=exports_meta_props)\n",
    "exports_uid = client.spaces.get_exports_uid(export_details)\n",
    "print('Export UID: {}'.format(exports_uid))"
   ]
  },
  {
   "cell_type": "markdown",
   "metadata": {},
   "source": [
    "You can use the following code to track the status of the export until it is complete."
   ]
  },
  {
   "cell_type": "code",
   "execution_count": 14,
   "metadata": {},
   "outputs": [
    {
     "name": "stdout",
     "output_type": "stream",
     "text": [
      "Export status: {'state': 'pending'}\n",
      "Export details: {'metadata': {'name': 'Export request started at Tue May 12 06:07:25 2020', 'guid': '46dd9b40-f8ce-4f64-8539-e22343163568', 'description': 'Description of exports', 'id': '46dd9b40-f8ce-4f64-8539-e22343163568', 'modified_at': '2020-05-12T06:07:29.508Z', 'created_at': '2020-05-12T06:07:26.776Z', 'href': '/v4/spaces/8a4a090c-96cc-4fac-932b-02bfad1455fc/exports/46dd9b40-f8ce-4f64-8539-e22343163568', 'space_id': '8a4a090c-96cc-4fac-932b-02bfad1455fc'}, 'entity': {'status': {'state': 'completed'}, 'assets': {'wml_function': ['1c2cdd9d-936b-47a6-84ef-0bb53283593d']}}}\n"
     ]
    }
   ],
   "source": [
    "export_status = export_details['entity']['status']\n",
    "eloop = 0\n",
    "while export_status['state'] != 'completed':\n",
    "    if export_status['state'] == 'failed':\n",
    "        break\n",
    "    print('Export status: {}'.format(export_status))\n",
    "    eloop += 1\n",
    "    if eloop > 30:\n",
    "        break\n",
    "    time.sleep(5)\n",
    "    export_status = client.spaces.get_exports_details(space_uid, exports_uid)['entity']['status']\n",
    "print('Export details: {}'.format(client.spaces.get_exports_details(space_uid, exports_uid)))"
   ]
  },
  {
   "cell_type": "markdown",
   "metadata": {},
   "source": [
    "Download the exported deployment space."
   ]
  },
  {
   "cell_type": "code",
   "execution_count": 15,
   "metadata": {},
   "outputs": [
    {
     "name": "stdout",
     "output_type": "stream",
     "text": [
      "\n",
      "\n",
      "--------------------------------------------------------\n",
      "Successfully downloaded spaces export file: wmlspace.zip\n",
      "--------------------------------------------------------\n",
      "\n",
      "\n",
      "Downloaded export zip: wmlspace.zip\n"
     ]
    }
   ],
   "source": [
    "path = client.spaces.download(space_uid, exports_uid)\n",
    "print('Downloaded export zip: {}'.format(path))"
   ]
  },
  {
   "cell_type": "markdown",
   "metadata": {},
   "source": [
    "<a id=\"import\"></a>\n",
    "## 4. Import the new deployment space"
   ]
  },
  {
   "cell_type": "markdown",
   "metadata": {},
   "source": [
    "Create the metadata of the new deployment space. Enter the name of the space in the metadata."
   ]
  },
  {
   "cell_type": "code",
   "execution_count": 16,
   "metadata": {},
   "outputs": [],
   "source": [
    "# Create the import. Enter the name of your new deployment space here:\n",
    "import_metadata = {\n",
    "    client.spaces.ConfigurationMetaNames.NAME: 'YOUR IMPORT SPACE'\n",
    "}"
   ]
  },
  {
   "cell_type": "markdown",
   "metadata": {},
   "source": [
    "Once you store the new space, get the UID."
   ]
  },
  {
   "cell_type": "code",
   "execution_count": 17,
   "metadata": {},
   "outputs": [
    {
     "name": "stdout",
     "output_type": "stream",
     "text": [
      "Import space UID: de551dbc-40f6-416b-84f8-6e9173c02404\n"
     ]
    }
   ],
   "source": [
    "import_space_details = client.spaces.store(meta_props=import_metadata)\n",
    "import_space_uid = client.spaces.get_uid(import_space_details)\n",
    "print('Import space UID: {}'.format(import_space_uid))"
   ]
  },
  {
   "cell_type": "markdown",
   "metadata": {},
   "source": [
    "Import the exported .zip file from the previous section into the new deployment space. This will import the assets (in this case, the script) from the exported deployment space."
   ]
  },
  {
   "cell_type": "code",
   "execution_count": 18,
   "metadata": {},
   "outputs": [
    {
     "name": "stdout",
     "output_type": "stream",
     "text": [
      "Import UID: 704c8ce3-6177-4693-9d8a-44b28223be4e\n"
     ]
    }
   ],
   "source": [
    "# Import the export zip.\n",
    "import_details = client.spaces.imports(import_space_uid, file_path=path)\n",
    "imports_uid = client.spaces.get_imports_uid(import_details)\n",
    "print('Import UID: {}'.format(imports_uid))"
   ]
  },
  {
   "cell_type": "markdown",
   "metadata": {},
   "source": [
    "You can use the following code to track the status of the import until it is complete."
   ]
  },
  {
   "cell_type": "code",
   "execution_count": 19,
   "metadata": {
    "scrolled": false
   },
   "outputs": [
    {
     "name": "stdout",
     "output_type": "stream",
     "text": [
      "Import status: {'state': 'pending'}\n",
      "Import status: {'state': 'pending'}\n",
      "Import details: {'metadata': {'guid': '704c8ce3-6177-4693-9d8a-44b28223be4e', 'id': '704c8ce3-6177-4693-9d8a-44b28223be4e', 'modified_at': '2020-05-12T06:07:40.716Z', 'created_at': '2020-05-12T06:07:35.079Z', 'href': '/v4/spaces/de551dbc-40f6-416b-84f8-6e9173c02404/imports/704c8ce3-6177-4693-9d8a-44b28223be4e', 'space_id': 'de551dbc-40f6-416b-84f8-6e9173c02404'}, 'entity': {'status': {'state': 'completed'}}}\n"
     ]
    }
   ],
   "source": [
    "# wait for the import to finish\n",
    "import_status = import_details['entity']['status']\n",
    "iloop = 0\n",
    "while import_status['state'] != 'completed':\n",
    "    if import_status['state'] == 'failed':\n",
    "        break\n",
    "    print('Import status: {}'.format(import_status))\n",
    "    iloop += 1\n",
    "    if iloop > 30:\n",
    "        break\n",
    "    time.sleep(5)\n",
    "    import_status = client.spaces.get_imports_details(import_space_uid, imports_uid)['entity']['status']\n",
    "print('Import details: {}'.format(client.spaces.get_imports_details(import_space_uid, imports_uid)))"
   ]
  },
  {
   "cell_type": "markdown",
   "metadata": {},
   "source": [
    "Set this deployment space as the new default space."
   ]
  },
  {
   "cell_type": "code",
   "execution_count": 20,
   "metadata": {},
   "outputs": [
    {
     "data": {
      "text/plain": [
       "'SUCCESS'"
      ]
     },
     "execution_count": 20,
     "metadata": {},
     "output_type": "execute_result"
    }
   ],
   "source": [
    "# check that the function has been imported\n",
    "client.set.default_space(import_space_uid)"
   ]
  },
  {
   "cell_type": "markdown",
   "metadata": {},
   "source": [
    "List the scripts in the new space."
   ]
  },
  {
   "cell_type": "code",
   "execution_count": 21,
   "metadata": {},
   "outputs": [
    {
     "name": "stdout",
     "output_type": "stream",
     "text": [
      "---------  ----------  ------------------------------------\n",
      "NAME       ASSET_TYPE  ASSET_ID\n",
      "My_Script  script      890f30c0-ff2e-4e2a-a228-043a7aaa3154\n",
      "---------  ----------  ------------------------------------\n"
     ]
    }
   ],
   "source": [
    "# show the script assets\n",
    "client.script.list()"
   ]
  },
  {
   "cell_type": "markdown",
   "metadata": {},
   "source": [
    "<div class=\"alert alert-block alert-info\">\n",
    "From the list above, you can see that the script was successfully imported into the deployment space.</div>"
   ]
  },
  {
   "cell_type": "markdown",
   "metadata": {},
   "source": [
    "## 5. Summary and next steps <a id=\"summary\"></a>"
   ]
  },
  {
   "cell_type": "markdown",
   "metadata": {},
   "source": [
    "You have successfully completed this notebook!\n",
    "\n",
    "You learned how to use the Python client and import and export deployment spaces."
   ]
  },
  {
   "cell_type": "markdown",
   "metadata": {},
   "source": [
    "### Resources <a id=\"resources\"></a>\n",
    "\n",
    "To learn more about configurations used in this notebook or more sample notebooks, tutorials, documentation, how-tos, and blog posts, check out these links:\n",
    "\n",
    "<div class=\"alert alert-block alert-success\">\n",
    "\n",
    "<h4>IBM documentation</h4>\n",
    "<br>\n",
    " <li> <a href=\"https://wml-api-pyclient-dev-v4.mybluemix.net\" target=\"_blank\" rel=\"noopener no referrer\">watson-machine-learning</a></li> \n",
    " <li> <a href=\"https://www.ibm.com/support/knowledgecenter/SSQNUZ_3.0.0/cpd/overview/welcome.html\" target=\"_blank\" rel=\"noopener noreferrer\">CP4D 3.0</a></li>\n",
    " <li> <a href=\"https://www.ibm.com/support/knowledgecenter/SSQNUZ_3.0.0/wsj/analyze-data/ml-spaces_local.html\" target=\"_blank\" rel=\"noopener noreferrer\">Deployment Spaces</a></li>\n",
    " \n",
    "<h4> IBM Samples</h4>\n",
    "<br>\n",
    " <li> <a href=\"https://github.com/IBMDataScience/sample-notebooks\" target=\"_blank\" rel=\"noopener noreferrer\">Sample notebooks</a></li>\n",
    " \n",
    "<h4> Others</h4>\n",
    " <li> <a href=\"https://www.python.org\" target=\"_blank\" rel=\"noopener noreferrer\">Official Python website</a></li>\n",
    " </div>"
   ]
  },
  {
   "cell_type": "markdown",
   "metadata": {},
   "source": [
    "Copyright © 2020 IBM. This notebook and its source code are released under the terms of the MIT License."
   ]
  },
  {
   "cell_type": "markdown",
   "metadata": {},
   "source": [
    "<div style='background:#F5F7FA; height:110px; padding: 2em; font-size:14px;'>\n",
    "<span style='font-size:18px;color:#152935;'>Love this notebook? </span>\n",
    "<span style='font-size:15px;color:#152935;float:right;margin-right:40px;'>Don't have an account yet?</span><br>\n",
    "<span style='color:#5A6872;'>Share it with your colleagues and help them discover the power of Watson Studio!</span>\n",
    "<span style='border: 1px solid #3d70b2;padding:8px;float:right;margin-right:40px; color:#3d70b2;'><a href='https://ibm.co/wsnotebooks' target='_blank' style='color: #3d70b2;text-decoration: none;'>Sign Up</a></span><br>\n",
    "</div>"
   ]
  }
 ],
 "metadata": {
  "kernelspec": {
   "display_name": "Python 3.6",
   "language": "python",
   "name": "python3"
  },
  "language_info": {
   "codemirror_mode": {
    "name": "ipython",
    "version": 3
   },
   "file_extension": ".py",
   "mimetype": "text/x-python",
   "name": "python",
   "nbconvert_exporter": "python",
   "pygments_lexer": "ipython3",
   "version": "3.6.10"
  }
 },
 "nbformat": 4,
 "nbformat_minor": 1
}
