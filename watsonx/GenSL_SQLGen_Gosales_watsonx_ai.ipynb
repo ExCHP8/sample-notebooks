{
 "cells": [
  {
   "cell_type": "code",
   "execution_count": 1,
   "id": "ebba4ba2-1849-4378-a1e4-25187f693665",
   "metadata": {},
   "outputs": [],
   "source": [
    "import os\n",
    "import json\n",
    "import requests\n",
    "import urllib3\n",
    "urllib3.disable_warnings(urllib3.exceptions.InsecureRequestWarning)"
   ]
  },
  {
   "cell_type": "markdown",
   "id": "b51ac838-eb85-47b2-8646-1f245012352b",
   "metadata": {},
   "source": [
    "# Inferencing with Granite Text-to-SQL Models \n",
    "\n",
    "This notebook demonstrates how to use the two Text2SQL pipeline components, the Schema Linking model (SL) and SQL Generation model (SQL Gen). The inputs of Text2SQL pipeline include a natural language question (NLQ), a database schema in the JSON format, and optionally an evidence (or hint) for models to generate a better SQL query. Inference calls to two models are done via watsonx.ai REST API Endpoints as shown in the sample code in the steps below. This notebook also shows the input prompt and output of each component in the pipeline."
   ]
  },
  {
   "cell_type": "markdown",
   "id": "f00273b3",
   "metadata": {},
   "source": [
    "## Table of Contents\n",
    "\n",
    "1. [Setup](#setup)\n",
    "1. [Create a prompt for the Schema Linking Model](#schemaprompt)\n",
    "1. [Perform an inference on the Schema Linking model using the watsonx.ai endpoint](#schemainference)\n",
    "1. [Post the process of the Schema Linking model output](#schemapost)\n",
    "1. [Create a prompt for the SQL Generation model](#sqlprompt)\n",
    "1. [Perform an inference on the SQL Generation model using the watsonx.ai endpoint](#sqlinference)"
   ]
  },
  {
   "cell_type": "markdown",
   "id": "d4259cad",
   "metadata": {},
   "source": [
    "## Setup\n",
    "<a id=\"setup\"></a>\n",
    "\n",
    "You need to provide an API key, see [here](https://dataplatform.cloud.ibm.com/docs/content/wsj/manage-data/task-credentials.html?context=wx&locale=en&audience=wdp) for more details. You can either enter it in the code samples below or set them as environment variable: `WATSONX_APIKEY`."
   ]
  },
  {
   "cell_type": "code",
   "execution_count": null,
   "id": "6a7c2da8-925f-4ef4-9b6f-8660586dcb4c",
   "metadata": {},
   "outputs": [],
   "source": [
    "CLOUD_HOSTNAME = \"https://us-south.ml.cloud.ibm.com\" # TODO: change this to your cloud hostname if using other cluster"
   ]
  },
  {
   "cell_type": "code",
   "execution_count": 3,
   "id": "60a454ba-5e15-4bbb-8a97-23a23f66a905",
   "metadata": {},
   "outputs": [],
   "source": [
    "from dotenv import find_dotenv, load_dotenv\n",
    "from getpass import getpass\n",
    "\n",
    "load_dotenv(find_dotenv())\n",
    "\n",
    "try:\n",
    "    IBM_CLOUD_API_KEY = getpass(\"Please enter your watsonx.ai API key (hit enter): \")\n",
    "\n",
    "except:\n",
    "    IBM_CLOUD_API_KEY = os.getenv(\"WATSONX_APIKEY\", None)\n"
   ]
  },
  {
   "cell_type": "code",
   "execution_count": 5,
   "id": "5a42a379-b714-4592-b96f-1dfdab685b85",
   "metadata": {},
   "outputs": [],
   "source": [
    "assert IBM_CLOUD_API_KEY, \"WATSONX_APIKEY must be set\""
   ]
  },
  {
   "cell_type": "markdown",
   "id": "6b467a1a-bab9-47ae-8204-ffb03a753540",
   "metadata": {},
   "source": [
    "### Setup access token\n",
    "\n",
    "Using the above API key, we generate an access token. If the token expires (each token lasts an hour), we need to request a new one. "
   ]
  },
  {
   "cell_type": "code",
   "execution_count": null,
   "id": "b0a30da8-726c-4616-b18d-5994bd3ebb5c",
   "metadata": {},
   "outputs": [],
   "source": [
    "# Get a IAM Bearer token \n",
    "token_url = \"https://iam.cloud.ibm.com/identity/token\"\n",
    "token_headers = {\"Content-Type\": \"application/x-www-form-urlencoded\"}\n",
    "token_data =  {\"grant_type\": \"urn:ibm:params:oauth:grant-type:apikey\", \"apikey\": IBM_CLOUD_API_KEY}\n",
    "\n",
    "response = requests.post(token_url, headers=token_headers, data=token_data)\n",
    "\n",
    "if response.status_code != 200:\n",
    "\traise Exception(\"Non-200 response: \" + str(response.text))\n",
    "\n",
    "ACCESS_TOKEN = response.json()[\"access_token\"]"
   ]
  },
  {
   "cell_type": "code",
   "execution_count": null,
   "id": "0416b7c1-c10d-4fde-96df-4a56ce40c181",
   "metadata": {},
   "outputs": [],
   "source": [
    "ACCESS_TOKEN"
   ]
  },
  {
   "cell_type": "markdown",
   "id": "69993720-63dc-42fa-8de0-bd8c76f2e2b0",
   "metadata": {},
   "source": [
    "### Deploy models\n",
    "\n",
    "We follow the instructions [here](https://dataplatform.cloud.ibm.com/docs/content/wsj/analyze-data/deploy-on-demand-rest-api.html?context=wx&locale=en&audience=wdp) to deploy the 2 models:\n",
    "- [granite-20b-code-base-schema-linking](https://dataplatform.cloud.ibm.com/docs/content/wsj/analyze-data/fm-models-details.html?context=wx&locale=en&audience=wdp#granite-code-models)\n",
    "- [granite-20b-code-base-sql-gen](https://dataplatform.cloud.ibm.com/docs/content/wsj/analyze-data/fm-models-details.html?context=wx&locale=en&audience=wdp#granite-code-models)"
   ]
  },
  {
   "cell_type": "markdown",
   "id": "9efe4af9",
   "metadata": {},
   "source": [
    "#### Working with spaces\n",
    "\n",
    "You need to create a space that will be used for your work. If you do not have a space, you can use [Deployment Spaces Dashboard](https://dataplatform.cloud.ibm.com/ml-runtime/spaces?context=wx) to create one.\n",
    "\n",
    "- Click **New Deployment Space**\n",
    "- Create an empty space\n",
    "- Select Cloud Object Storage\n",
    "- Select watsonx.ai Runtime instance and press **Create**\n",
    "- Go to **Manage** tab\n",
    "- Copy `Space GUID` and paste it below"
   ]
  },
  {
   "cell_type": "code",
   "execution_count": null,
   "id": "3c1cce22-8fef-436b-9f3b-17e7295fd300",
   "metadata": {},
   "outputs": [],
   "source": [
    "try:\n",
    "    SPACE_ID = input('Enter watsonx.ai space id: ')\n",
    "except:\n",
    "    SPACE_ID = os.getenv(\"WATSONX_SPACE_ID\", None)\n"
   ]
  },
  {
   "cell_type": "code",
   "execution_count": null,
   "id": "fcb926ad-77e2-4aeb-9623-2118f728a7a5",
   "metadata": {},
   "outputs": [],
   "source": [
    "SPACE_ID"
   ]
  },
  {
   "cell_type": "code",
   "execution_count": 10,
   "id": "fe2655f8-4daa-4d01-a3f1-660ebbcf20b5",
   "metadata": {},
   "outputs": [],
   "source": [
    "assert SPACE_ID, \"SPACE_ID must be set\""
   ]
  },
  {
   "cell_type": "markdown",
   "id": "d6a4c318-3976-44ff-b706-5e53eabaffe8",
   "metadata": {},
   "source": [
    "#### Creating model asset\n",
    "\n",
    "This step can be done once, if you already have a model asset, just provide the asset id for `sl_asset_id` and `sql_gen_asset_id`."
   ]
  },
  {
   "cell_type": "code",
   "execution_count": 11,
   "id": "0e0edf4a-797b-4084-8f41-d5fd5c6325c4",
   "metadata": {},
   "outputs": [],
   "source": [
    "def create_model_asset(model_id, space_id, access_token, asset_name=None):\n",
    "    asset_url = f\"{CLOUD_HOSTNAME}/ml/v4/models?version=2024-01-29\"\n",
    "    asset_headers = {\"Content-Type\": \"application/json\",\n",
    "                  \"Authorization\": f\"Bearer {access_token}\"}\n",
    "\n",
    "    asset_payload =  {\"type\": \"curated_foundation_model_1.0\",\n",
    "                       \"version\": \"1.0\",\n",
    "                       \"name\": model_id.split(\"/\")[-1] if asset_name is None else asset_name,\n",
    "                       \"space_id\": space_id,\n",
    "                       \"foundation_model\": {\"model_id\": model_id}\n",
    "                      }\n",
    "    \n",
    "    asset_response = requests.post(asset_url, headers=asset_headers, json=asset_payload)\n",
    "    return asset_response.json()"
   ]
  },
  {
   "cell_type": "code",
   "execution_count": 12,
   "id": "3d41216b-2b2b-46e5-a7b0-27492e150020",
   "metadata": {},
   "outputs": [],
   "source": [
    "sl_asset_response = create_model_asset(model_id=\"ibm/granite-20b-code-base-schema-linking-curated\",\n",
    "                                       space_id=SPACE_ID,\n",
    "                                       access_token=ACCESS_TOKEN)\n",
    "sql_gen_asset_response = create_model_asset(model_id=\"ibm/granite-20b-code-base-sql-gen-curated\",\n",
    "                                            space_id=SPACE_ID,\n",
    "                                            access_token=ACCESS_TOKEN)"
   ]
  },
  {
   "cell_type": "code",
   "execution_count": null,
   "id": "81bc39cc-e013-43a4-827f-5687f7a3e3e8",
   "metadata": {},
   "outputs": [
    {
     "data": {
      "text/plain": [
       "('deee5205-9cf0-41f8-9826-7cdb5d2d5393',\n",
       " 'f6af013a-4645-42c4-b9d6-1dcd39fa0f5c')"
      ]
     },
     "execution_count": 13,
     "metadata": {},
     "output_type": "execute_result"
    }
   ],
   "source": [
    "sl_asset_id = sl_asset_response[\"metadata\"][\"id\"] # TODO: override if asset had already been created\n",
    "sql_gen_asset_id = sql_gen_asset_response[\"metadata\"][\"id\"] # TODO: override if asset had already been created\n",
    "sl_asset_id, sql_gen_asset_id"
   ]
  },
  {
   "cell_type": "code",
   "execution_count": 14,
   "id": "3c821ac1-9dd8-47ae-84d6-7a65f24b4ee1",
   "metadata": {},
   "outputs": [],
   "source": [
    "# sl_deploy_response # uncomment to see detailed response"
   ]
  },
  {
   "cell_type": "code",
   "execution_count": 15,
   "id": "9982832d-f479-4a1a-ad29-c9bd4ca635fa",
   "metadata": {},
   "outputs": [],
   "source": [
    "# sql_gen_deploy_response # uncomment to see detailed response"
   ]
  },
  {
   "cell_type": "markdown",
   "id": "bd563314-cec7-4ba8-9f02-3ace0be7adae",
   "metadata": {},
   "source": [
    "#### Model deployment and endpoints setup\n",
    "\n",
    "Once the models are deployed, fill in required information below."
   ]
  },
  {
   "cell_type": "code",
   "execution_count": null,
   "id": "cdc14e9d-f962-4dde-90ea-4ffc7ef046c3",
   "metadata": {},
   "outputs": [],
   "source": [
    "# watsonx.ai deployment information\n",
    "SL_MODEL_ID = \"granite20b_schema_linking\" # Note: serving name of schema linking model, can only use '-' with numbers/letters, need to be unique\n",
    "SQL_GEN_MODEL_ID = \"granite_20b_sql_gen\" # Note: serving name of sql gen model, can only use '-' with numbers/letters, need to be unique"
   ]
  },
  {
   "cell_type": "code",
   "execution_count": 17,
   "id": "2be0784e-a892-4032-976d-68f0b83b21d7",
   "metadata": {},
   "outputs": [],
   "source": [
    "def deploy_model(asset_id, serving_name, access_token, deployment_name=\"\", description=\"\"):\n",
    "    deploy_url = f\"{CLOUD_HOSTNAME}/ml/v4/deployments?version=2024-01-29\"\n",
    "    deploy_headers = {\"Content-Type\": \"application/json\",\n",
    "                  \"Authorization\": f\"Bearer {access_token}\"}\n",
    "    deploy_payload =  { \"asset\": {\n",
    "                            \"id\": asset_id\n",
    "                          },\n",
    "                          \"online\": {\n",
    "                            \"parameters\": {\n",
    "                              \"serving_name\": serving_name\n",
    "                            }\n",
    "                          },\n",
    "                          \"description\": \"\",\n",
    "                          \"name\": deployment_name,\n",
    "                          \"space_id\": SPACE_ID\n",
    "                        }\n",
    "    \n",
    "    response = requests.post(deploy_url, headers=deploy_headers, json=deploy_payload)\n",
    "    return response.json()\n",
    "\n",
    "def get_deployment_info(deploy_id, space_id, access_token):\n",
    "    deploy_url = f\"{CLOUD_HOSTNAME}/ml/v4/deployments/{deploy_id}?version=2024-01-29&space_id={space_id}\"\n",
    "    deploy_headers = {\"Content-Type\": \"application/json\",\n",
    "                  \"Authorization\": f\"Bearer {access_token}\"}\n",
    "\n",
    "    \n",
    "    return requests.get(deploy_url, headers=deploy_headers).json()\n",
    "\n",
    "def is_deployment_ready(deploy_id, space_id, access_token):\n",
    "    response = get_deployment_info(deploy_id=deploy_id, space_id=space_id, access_token=access_token)\n",
    "    try:\n",
    "        return response[\"entity\"][\"status\"][\"state\"] == \"ready\"\n",
    "    except:\n",
    "        return False\n",
    "\n",
    "def delete_deployment(deploy_id, space_id, access_token):\n",
    "    deploy_url = f\"{CLOUD_HOSTNAME}/ml/v4/deployments/{deploy_id}?version=2024-01-29&space_id={space_id}\"\n",
    "    deploy_headers = {\"Authorization\": f\"Bearer {access_token}\"}\n",
    "    try:\n",
    "        requests.delete(deploy_url, headers=deploy_headers)\n",
    "    except:\n",
    "        pass\n"
   ]
  },
  {
   "cell_type": "code",
   "execution_count": 18,
   "id": "fdde32c7-b7f2-4e6c-829b-15f06860cee4",
   "metadata": {},
   "outputs": [],
   "source": [
    "sl_deploy_response = deploy_model(sl_asset_id,\n",
    "                                  serving_name=SL_MODEL_ID,\n",
    "                                  access_token=ACCESS_TOKEN,\n",
    "                                  deployment_name=\"schema-linking-deployment\",\n",
    "                                  description=\"granite20b-schema-linking deployment\")\n",
    "\n",
    "sql_gen_deploy_response = deploy_model(sql_gen_asset_id,\n",
    "                                       serving_name=SQL_GEN_MODEL_ID,\n",
    "                                       access_token=ACCESS_TOKEN,\n",
    "                                       deployment_name=\"sql-gen-deployment\",\n",
    "                                       description=\"granite20b-sql-gen deployment\")"
   ]
  },
  {
   "cell_type": "code",
   "execution_count": 19,
   "id": "63636f4a-d70d-4965-b76f-587b9fc3c540",
   "metadata": {},
   "outputs": [],
   "source": [
    "# sl_deploy_response # uncomment to see detailed response"
   ]
  },
  {
   "cell_type": "code",
   "execution_count": 20,
   "id": "4ceba7b4-1f7e-4bfd-87e3-3ee9d5eae1ba",
   "metadata": {},
   "outputs": [],
   "source": [
    "# sql_gen_deploy_response # uncomment to see detailed response"
   ]
  },
  {
   "cell_type": "code",
   "execution_count": 21,
   "id": "8d14e0dc-c104-49f1-9dcd-49ea255f2964",
   "metadata": {},
   "outputs": [],
   "source": [
    "if \"errors\" in sl_deploy_response:\n",
    "    print(sl_deploy_response[\"errors\"])\n",
    "else:\n",
    "    SL_DEPLOYMENT_ID = sl_deploy_response[\"metadata\"][\"id\"]\n",
    "if \"errors\" in sql_gen_deploy_response:\n",
    "    print(sql_gen_deploy_response[\"errors\"])\n",
    "else:\n",
    "    SQL_GEN_DEPLOYMENT_ID = sql_gen_deploy_response[\"metadata\"][\"id\"]"
   ]
  },
  {
   "cell_type": "code",
   "execution_count": 22,
   "id": "82b34aab-dcfd-41a6-9328-1dd2f1b473e7",
   "metadata": {},
   "outputs": [
    {
     "data": {
      "text/plain": [
       "('f95334ab-25f1-42dd-a506-5e0a7157edbc',\n",
       " 'a87bf110-2ea6-42ad-971d-d7d28788c358')"
      ]
     },
     "execution_count": 22,
     "metadata": {},
     "output_type": "execute_result"
    }
   ],
   "source": [
    "SL_DEPLOYMENT_ID, SQL_GEN_DEPLOYMENT_ID"
   ]
  },
  {
   "cell_type": "code",
   "execution_count": 23,
   "id": "e7e596cb-68af-44c2-a3e9-dcca2d1b22ea",
   "metadata": {},
   "outputs": [],
   "source": [
    "# define inference URLs\n",
    "SL_PROD_URL = f\"{CLOUD_HOSTNAME}/ml/v1/deployments/{SL_DEPLOYMENT_ID}/text/generation?version=2024-01-29\"\n",
    "SQL_GEN_PROD_URL = f\"{CLOUD_HOSTNAME}/ml/v1/deployments/{SQL_GEN_DEPLOYMENT_ID}/text/generation?version=2024-01-29\"\n",
    "\n",
    "# Headers for REST API request\n",
    "PROD_HEADERS = {\"Content-Type\": \"application/json\", \"accept\": \"application/json\", \"Authorization\": f\"Bearer {ACCESS_TOKEN}\"}"
   ]
  },
  {
   "cell_type": "markdown",
   "id": "9c364589-aaa1-4bda-bd23-bcda719b325f",
   "metadata": {},
   "source": [
    "### Provide a natural language question input"
   ]
  },
  {
   "cell_type": "code",
   "execution_count": 24,
   "id": "3bd0a22b-f2f9-45c4-8288-991e708c8629",
   "metadata": {},
   "outputs": [],
   "source": [
    "nl_question = \"Show me production cost of products in orders with quantity greater than 10\""
   ]
  },
  {
   "cell_type": "markdown",
   "id": "b10fd574-cc79-46de-a86b-3e7e2102b4b6",
   "metadata": {},
   "source": [
    "Samples tested successfully with this notebook:\n",
    "- \"Show me production cost, unit sale price of order with quantity greater than 10\"\n",
    "- \"Show me opening inventory, average cost and closing inventory with shipped quantity less than 5000\"\n",
    "- \"Find order quantity and promotion code of products with top five gross margin\"\n",
    "- \"Find base product with order unit sale price greater than 200 and inventory average unit cost less than 1000\"\n",
    "- \"Find average gross margin of products with product language EN\""
   ]
  },
  {
   "cell_type": "markdown",
   "id": "c66d9b31-f85c-4748-88b8-9b85bee73dda",
   "metadata": {},
   "source": [
    "### Provide an JSON Database Schema\n",
    "\n",
    "For this example, we're using a reduced version of the Gosales database with four tables: inventory_levels, products, product_name_lookup, order_details. We're using Gosales because it's an enterprise datase that is encoded in a JSON schema format."
   ]
  },
  {
   "cell_type": "code",
   "execution_count": null,
   "id": "868c551d-80a6-4197-82b0-53fd1dca058c",
   "metadata": {},
   "outputs": [],
   "source": [
    "# JSON Database Schema\n",
    "db_json_schema = json.loads('{\"name\": \"GOSALES\", \"tables\": {\"inventory_levels\": {\"name\": \"inventory_levels\", \"columns\": [{\"name\": \"inventory_year\", \"type\": \"SMALLINT\", \"primary_key\": true, \"foreign_key\": null, \"value_samples\": [\"2007\", \"2004\", \"2005\", \"2006\"]}, {\"name\": \"inventory_month\", \"type\": \"SMALLINT\", \"primary_key\": true, \"foreign_key\": null, \"value_samples\": [\"9\", \"12\", \"11\"]}, {\"name\": \"warehouse_branch_code\", \"type\": \"INTEGER\", \"primary_key\": true, \"foreign_key\": null, \"value_samples\": [\"40\", \"28\", \"30\"]}, {\"name\": \"product_number\", \"type\": \"INTEGER\", \"primary_key\": true, \"foreign_key\": [\"product\", \"product_number\"], \"value_samples\": [\"125130\", \"122150\", \"149110\"]}, {\"name\": \"opening_inventory\", \"type\": \"INTEGER\", \"primary_key\": false, \"foreign_key\": null, \"value_samples\": [\"2\", \"2152\", \"2148\"]}, {\"name\": \"quantity_shipped\", \"type\": \"INTEGER\", \"primary_key\": false, \"foreign_key\": null, \"value_samples\": [\"2\", \"1999\", \"1928\"]}, {\"name\": \"additions\", \"type\": \"INTEGER\", \"primary_key\": false, \"foreign_key\": null, \"value_samples\": [\"1129\", \"1787\", \"1770\"]}, {\"name\": \"unit_cost\", \"type\": \"DECIMAL(19, 2)\", \"primary_key\": false, \"foreign_key\": null, \"value_samples\": [\"4.45\", \"5.03\", \"5.02\"]}, {\"name\": \"closing_inventory\", \"type\": \"INTEGER\", \"primary_key\": false, \"foreign_key\": null, \"value_samples\": [\"2\", \"2192\", \"2152\"]}, {\"name\": \"average_unit_cost\", \"type\": \"DECIMAL(19, 2)\", \"primary_key\": false, \"foreign_key\": null, \"value_samples\": [\"2.15\", \"2.75\", \"2.31\"]}]}, \"order_details\": {\"name\": \"order_details\", \"columns\": [{\"name\": \"order_detail_code\", \"type\": \"INTEGER\", \"primary_key\": true, \"foreign_key\": null, \"value_samples\": [\"1000001\", \"1000016\", \"1000015\"]}, {\"name\": \"order_number\", \"type\": \"INTEGER\", \"primary_key\": false, \"foreign_key\": null, \"value_samples\": [\"100015\", \"100073\", \"100072\"]}, {\"name\": \"ship_date\", \"type\": \"TIMESTAMP\", \"primary_key\": false, \"foreign_key\": null, \"value_samples\": [\"2004-03-05 00:00:00\", \"2004-08-06 00:00:00\", \"2004-08-04 00:00:00\"]}, {\"name\": \"product_number\", \"type\": \"INTEGER\", \"primary_key\": false, \"foreign_key\": [\"product\", \"product_number\"], \"value_samples\": [\"125130\", \"149110\", \"123130\"]}, {\"name\": \"promotion_code\", \"type\": \"INTEGER\", \"primary_key\": false, \"foreign_key\": null, \"value_samples\": [\"10203\", \"10223\", \"10213\"]}, {\"name\": \"quantity\", \"type\": \"INTEGER\", \"primary_key\": false, \"foreign_key\": null, \"value_samples\": [\"1532\", \"1777\", \"1771\"]}, {\"name\": \"unit_cost\", \"type\": \"DECIMAL(19, 2)\", \"primary_key\": false, \"foreign_key\": null, \"value_samples\": [\"43.73\", \"31.24\", \"73.96\"]}, {\"name\": \"unit_price\", \"type\": \"DECIMAL(19, 2)\", \"primary_key\": false, \"foreign_key\": null, \"value_samples\": [\"72.0\", \"98.0\", \"34.8\"]}, {\"name\": \"unit_sale_price\", \"type\": \"DECIMAL(19, 2)\", \"primary_key\": false, \"foreign_key\": null, \"value_samples\": [\"12.52\", \"96.44\", \"94.8\"]}]}, \"product\": {\"name\": \"product\", \"columns\": [{\"name\": \"product_number\", \"type\": \"INTEGER\", \"primary_key\": true, \"foreign_key\": null, \"value_samples\": [\"1110\", \"6110\", \"5110\"]}, {\"name\": \"base_product_number\", \"type\": \"INTEGER\", \"primary_key\": false, \"foreign_key\": null, \"value_samples\": [\"1\", \"6\", \"5\"]}, {\"name\": \"introduction_date\", \"type\": \"TIMESTAMP\", \"primary_key\": false, \"foreign_key\": null, \"value_samples\": [\"1999-06-12 00:00:00\", \"2004-01-15 00:00:00\", \"2004-01-13 00:00:00\"]}, {\"name\": \"discontinued_date\", \"type\": \"TIMESTAMP\", \"primary_key\": false, \"foreign_key\": null, \"value_samples\": [\"2005-02-28 00:00:00\", \"2006-05-31 00:00:00\", \"2006-03-31 00:00:00\"]}, {\"name\": \"product_type_code\", \"type\": \"INTEGER\", \"primary_key\": false, \"foreign_key\": null, \"value_samples\": [\"970\", \"956\", \"971\"]}, {\"name\": \"product_color_code\", \"type\": \"INTEGER\", \"primary_key\": false, \"foreign_key\": null, \"value_samples\": [\"900\", \"924\", \"921\"]}, {\"name\": \"product_size_code\", \"type\": \"INTEGER\", \"primary_key\": false, \"foreign_key\": null, \"value_samples\": [\"801\", \"812\", \"810\"]}, {\"name\": \"product_brand_code\", \"type\": \"INTEGER\", \"primary_key\": false, \"foreign_key\": null, \"value_samples\": [\"703\", \"714\", \"715\"]}, {\"name\": \"production_cost\", \"type\": \"DECIMAL(19, 2)\", \"primary_key\": false, \"foreign_key\": null, \"value_samples\": [\"1.0\", \"11.43\", \"9.22\"]}, {\"name\": \"gross_margin\", \"type\": \"DOUBLE\", \"primary_key\": false, \"foreign_key\": null, \"value_samples\": [\"0.3\", \"0.7\", \"0.41\"]}, {\"name\": \"product_image\", \"type\": \"VARCHAR(60)\", \"primary_key\": false, \"foreign_key\": null, \"value_samples\": [\"\\'P01CE1CG1.jpg\\'\", \"\\'P06CE1CG1.jpg\\'\", \"\\'P05CE1CG1.jpg\\'\"]}]}, \"product_name_lookup\": {\"name\": \"product_name_lookup\", \"columns\": [{\"name\": \"product_number\", \"type\": \"INTEGER\", \"primary_key\": true, \"foreign_key\": [\"product\", \"product_number\"], \"value_samples\": [\"1110\", \"6110\", \"5110\"]}, {\"name\": \"product_language\", \"type\": \"VARCHAR(30)\", \"primary_key\": true, \"foreign_key\": null, \"value_samples\": [\"\\'CS\\'\", \"\\'ES\\'\", \"\\'EN\\'\"]}, {\"name\": \"product_name\", \"type\": \"VARCHAR(150)\", \"primary_key\": false, \"foreign_key\": null, \"value_samples\": [\"\\'\\\\\"\\\\u0412\\\\u0435\\\\u0447\\\\u043d\\\\u044b\\\\u0439 \\\\u0441\\\\u0432\\\\u0435\\\\u0442\\\\\" - \\\\u0411\\\\u0443\\\\u0442\\\\u0430\\\\u043d\\\\u043e\\\\u0432\\\\u044b\\\\u0439\\'\", \"\\'\\\\\"\\\\u041c\\\\u0443\\\\u0445\\\\u043e-\\\\u0429\\\\u0438\\\\u0442\\\\\" \\\\u0410\\\\u044d\\\\u0440\\\\u043e\\\\u0437\\\\u043e\\\\u043b\\\\u044c\\'\", \"\\'\\\\\"\\\\u041c\\\\u0443\\\\u0445\\\\u043e-\\\\u0429\\\\u0438\\\\u0442\\\\\" - \\\\u0421\\\\u0443\\\\u043f\\\\u0435\\\\u0440\\'\"]}, {\"name\": \"product_description\", \"type\": \"VARCHAR(765)\", \"primary_key\": false, \"foreign_key\": null, \"value_samples\": []}]}}}')"
   ]
  },
  {
   "cell_type": "markdown",
   "id": "9074b3c4-d2b0-4edb-986c-fcfc7c5d3c1c",
   "metadata": {},
   "source": [
    "A portion of the Gosales JSON schema:"
   ]
  },
  {
   "cell_type": "code",
   "execution_count": 26,
   "id": "7f8e71be-d7f3-479c-a164-4c6106a4e9ee",
   "metadata": {},
   "outputs": [
    {
     "name": "stdout",
     "output_type": "stream",
     "text": [
      "{\n",
      "  \"name\": \"GOSALES\",\n",
      "  \"tables\": {\n",
      "    \"inventory_levels\": {\n",
      "      \"name\": \"inventory_levels\",\n",
      "      \"columns\": [\n",
      "        {\n",
      "          \"name\": \"inventory_year\",\n",
      "          \"type\": \"SMALLINT\",\n",
      "          \"primary_key\": true,\n",
      "          \"foreign_key\": null,\n",
      "          \"value_samples\": [\n",
      "            \"2007\",\n",
      "            \"2004\",\n",
      "            \"2005\",\n",
      "            \"2006\"\n",
      "          ]\n",
      "        },\n",
      "        {\n",
      "          \"name\": \"inventory_month\",\n",
      "          \"type\": \"SMALLINT\",\n",
      "          \"primary_key\": true,\n",
      "          \"foreign_key\": null,\n",
      "          \"value_samples\": [\n",
      "            \"9\",\n",
      "            \"12\",\n",
      "            \"11\"\n",
      "          ]\n",
      "        },\n",
      "        {\n"
     ]
    }
   ],
   "source": [
    "print(\"\\n\".join(json.dumps(db_json_schema, indent=2).split(\"\\n\")[:30]))"
   ]
  },
  {
   "cell_type": "markdown",
   "id": "50ef8024-0fa0-45a1-8cd0-4d4a6c4840fb",
   "metadata": {},
   "source": [
    "**Note:** To run this notebook with a new JSON Database schema, the input JSON Database schema must follow the following format.\n",
    "\n",
    "To represent the schema, we assume a structure of following format:\n",
    "\n",
    "```\n",
    "{\n",
    "  \"name\": <schema name>,\n",
    "  \"tables\": {\n",
    "        \"1st_table_name\": { \"name\": \"table_name\",\n",
    "                            \"columns\": [\n",
    "                                        {\n",
    "                                          \"name\": \"column name\",\n",
    "                                          \"type\": \"column data type\",\n",
    "                                          \"primary_key\": \"bool, true means this column is the primary key\",\n",
    "                                          \"foreign_key\": \"null or [table name, column name], e.g ['customer','cst_id']\"\n",
    "                                        },\n",
    "                                        ...\n",
    "                                       ]\n",
    "                           },\n",
    "        ...\n",
    "   }\n",
    "}\n",
    "```"
   ]
  },
  {
   "cell_type": "markdown",
   "id": "db0eda04-008b-43c5-9176-68891bc196cd",
   "metadata": {},
   "source": [
    "## Create a prompt for the Schema Linking Model \n",
    "<a id=\"schemaprompt\"></a>\n",
    "\n",
    "Create a prompt for the Schema Linking model using the input JSON Database schema, the natural language question, and evidence if it exists. This is the first step in the Text2SQL pipeline."
   ]
  },
  {
   "cell_type": "code",
   "execution_count": 27,
   "id": "ec1afde3-f048-4130-9738-69beaf13d9b0",
   "metadata": {},
   "outputs": [],
   "source": [
    "# Helper functions to parse the input JSON DB schema and create prompt for Schema Linking model\n",
    "from typing import Union, List, Mapping, Dict, Tuple\n",
    "def generate_table_representation(schema, linked_schema=None):\n",
    "    col_indent = ' '\n",
    "    table_dict = {}\n",
    "    for tbl_name, tbl in schema[\"tables\"].items():\n",
    "        if linked_schema is not None and tbl_name not in linked_schema:\n",
    "            continue\n",
    "        start = 'CREATE TABLE '+ tbl_name + ' (\\n'\n",
    "        col_strs = []\n",
    "        fk_strs = []\n",
    "        col_num = 0\n",
    "        for col in tbl[\"columns\"]:\n",
    "            if linked_schema is not None and col[\"name\"] not in linked_schema[tbl_name]:\n",
    "                continue\n",
    "            col_num += 1\n",
    "            col_str = f'{col_indent}{col[\"name\"]}'\n",
    "            col_str += f' {col[\"type\"].upper()}'\n",
    "            if col[\"primary_key\"]:\n",
    "                col_str += ' PRIMARY KEY'\n",
    "            col_str += ','\n",
    "            desc = ''\n",
    "            if col.get(\"description\", None):\n",
    "                desc += col[\"description\"] + '\\n'\n",
    "            if desc:\n",
    "                desc = re.sub(r'\\s*\\n\\s*', '\\n', desc.strip())\n",
    "                desc = desc.replace('\\n', '\\n-- ')\n",
    "                col_str += ' -- ' + desc\n",
    "            # TODO: other expansion info\n",
    "            if col[\"foreign_key\"]:\n",
    "                fk_table, fk_col = col[\"foreign_key\"]\n",
    "                if linked_schema is None or (fk_table in linked_schema):\n",
    "                    fk_strs.append(f'{col_indent}FOREIGN KEY({col[\"name\"]}) REFERENCES {fk_table}({fk_col})')\n",
    "            col_strs.append(col_str)\n",
    "        assert len(col_strs) > 0\n",
    "        col_strs.extend(fk_strs)\n",
    "        tbl_str = start + '\\n'.join(col_strs)+'\\n);'\n",
    "        lines = []\n",
    "        for col in tbl[\"columns\"]:\n",
    "            if col[\"value_samples\"]:\n",
    "                lines.append(tbl[\"name\"] + '.' + col[\"name\"] + ': ' + ', '.join(col[\"value_samples\"]))\n",
    "            else:\n",
    "                lines.append(tbl[\"name\"] + '.' + col[\"name\"])\n",
    "        tbl_str += '\\n\\n' + '\\n'.join(lines)\n",
    "        table_dict[tbl_name] = tbl_str\n",
    "    schema_str = '\\n\\n'.join(table_dict.values())\n",
    "    return schema_str, table_dict\n",
    "\n",
    "def qualified_column_list2dict(qual_cols: List[str]) -> Dict[str, List[str]]:\n",
    "    linked_schema = {}\n",
    "    for qual_col in qual_cols:\n",
    "        try:\n",
    "            qual_col = qual_col.strip()  #.lower()\n",
    "            tbl, col = qual_col.split('.')[-2:]\n",
    "            if tbl not in linked_schema:\n",
    "                linked_schema[tbl] = []\n",
    "            linked_schema[tbl].append(col)\n",
    "        except:\n",
    "            print(f\"skipped {qual_col}\")\n",
    "    return linked_schema\n",
    "\n",
    "def create_sl_prompt(question, schema, evidence: Union[List[str],str]=\"\"):\n",
    "    if isinstance(evidence, str):\n",
    "        evidence = [evidence]\n",
    "    evidence_str = '\\n\\nNote:\\n' + '\\n'.join(evidence)\n",
    "    schema_str, _ = generate_table_representation(schema=schema)\n",
    "    pre_question = evidence_str.strip() + '\\n\\nConsider:\\n' + question + '\\n\\n'\n",
    "    schema_link_query = pre_question + \\\n",
    "                        schema_str + \\\n",
    "                         evidence_str + \\\n",
    "                         '\\n\\nTo answer:\\n' + \\\n",
    "                         question + \\\n",
    "                         '\\nWe need columns:\\n'\n",
    "    return schema_link_query\n"
   ]
  },
  {
   "cell_type": "markdown",
   "id": "5c8e1b14-a741-4814-a7d6-22d142d2accc",
   "metadata": {},
   "source": [
    "Create a prompt for the Schema Linking model."
   ]
  },
  {
   "cell_type": "code",
   "execution_count": 28,
   "id": "38ecf848-755a-4efa-b41c-a59d492a6db2",
   "metadata": {},
   "outputs": [],
   "source": [
    "sl_prompt = create_sl_prompt(question=nl_question, schema=db_json_schema)"
   ]
  },
  {
   "cell_type": "markdown",
   "id": "dcfb7f1f-d7b5-46a6-be60-003381068712",
   "metadata": {},
   "source": [
    "Display the created prompt."
   ]
  },
  {
   "cell_type": "code",
   "execution_count": 29,
   "id": "0941c9e5-8b5c-47fd-946e-69f344ae548e",
   "metadata": {},
   "outputs": [
    {
     "name": "stdout",
     "output_type": "stream",
     "text": [
      "Note:\n",
      "\n",
      "Consider:\n",
      "Show me production cost of products in orders with quantity greater than 10\n",
      "\n",
      "CREATE TABLE inventory_levels (\n",
      " inventory_year SMALLINT PRIMARY KEY,\n",
      " inventory_month SMALLINT PRIMARY KEY,\n",
      " warehouse_branch_code INTEGER PRIMARY KEY,\n",
      " product_number INTEGER PRIMARY KEY,\n",
      " opening_inventory INTEGER,\n",
      " quantity_shipped INTEGER,\n",
      " additions INTEGER,\n",
      " unit_cost DECIMAL(19, 2),\n",
      " closing_inventory INTEGER,\n",
      " average_unit_cost DECIMAL(19, 2),\n",
      " FOREIGN KEY(product_number) REFERENCES product(product_number)\n",
      ");\n",
      "\n",
      "inventory_levels.inventory_year: 2007, 2004, 2005, 2006\n",
      "inventory_levels.inventory_month: 9, 12, 11\n",
      "inventory_levels.warehouse_branch_code: 40, 28, 30\n",
      "inventory_levels.product_number: 125130, 122150, 149110\n",
      "inventory_levels.opening_inventory: 2, 2152, 2148\n",
      "inventory_levels.quantity_shipped: 2, 1999, 1928\n",
      "inventory_levels.additions: 1129, 1787, 1770\n",
      "inventory_levels.unit_cost: 4.45, 5.03, 5.02\n",
      "inventory_levels.closing_inventory: 2, 2192, 2152\n",
      "inventory_levels.average_unit_cost: 2.15, 2.75, 2.31\n",
      "\n",
      "CREATE TABLE order_details (\n",
      " order_detail_code INTEGER PRIMARY KEY,\n",
      " order_number INTEGER,\n",
      " ship_date TIMESTAMP,\n",
      " product_number INTEGER,\n",
      " promotion_code INTEGER,\n",
      " quantity INTEGER,\n",
      " unit_cost DECIMAL(19, 2),\n",
      " unit_price DECIMAL(19, 2),\n",
      " unit_sale_price DECIMAL(19, 2),\n",
      " FOREIGN KEY(product_number) REFERENCES product(product_number)\n",
      ");\n",
      "\n",
      "order_details.order_detail_code: 1000001, 1000016, 1000015\n",
      "order_details.order_number: 100015, 100073, 100072\n",
      "order_details.ship_date: 2004-03-05 00:00:00, 2004-08-06 00:00:00, 2004-08-04 00:00:00\n",
      "order_details.product_number: 125130, 149110, 123130\n",
      "order_details.promotion_code: 10203, 10223, 10213\n",
      "order_details.quantity: 1532, 1777, 1771\n",
      "order_details.unit_cost: 43.73, 31.24, 73.96\n",
      "order_details.unit_price: 72.0, 98.0, 34.8\n",
      "order_details.unit_sale_price: 12.52, 96.44, 94.8\n",
      "\n",
      "CREATE TABLE product (\n",
      " product_number INTEGER PRIMARY KEY,\n",
      " base_product_number INTEGER,\n",
      " introduction_date TIMESTAMP,\n",
      " discontinued_date TIMESTAMP,\n",
      " product_type_code INTEGER,\n",
      " product_color_code INTEGER,\n",
      " product_size_code INTEGER,\n",
      " product_brand_code INTEGER,\n",
      " production_cost DECIMAL(19, 2),\n",
      " gross_margin DOUBLE,\n",
      " product_image VARCHAR(60),\n",
      ");\n",
      "\n",
      "product.product_number: 1110, 6110, 5110\n",
      "product.base_product_number: 1, 6, 5\n",
      "product.introduction_date: 1999-06-12 00:00:00, 2004-01-15 00:00:00, 2004-01-13 00:00:00\n",
      "product.discontinued_date: 2005-02-28 00:00:00, 2006-05-31 00:00:00, 2006-03-31 00:00:00\n",
      "product.product_type_code: 970, 956, 971\n",
      "product.product_color_code: 900, 924, 921\n",
      "product.product_size_code: 801, 812, 810\n",
      "product.product_brand_code: 703, 714, 715\n",
      "product.production_cost: 1.0, 11.43, 9.22\n",
      "product.gross_margin: 0.3, 0.7, 0.41\n",
      "product.product_image: 'P01CE1CG1.jpg', 'P06CE1CG1.jpg', 'P05CE1CG1.jpg'\n",
      "\n",
      "CREATE TABLE product_name_lookup (\n",
      " product_number INTEGER PRIMARY KEY,\n",
      " product_language VARCHAR(30) PRIMARY KEY,\n",
      " product_name VARCHAR(150),\n",
      " product_description VARCHAR(765),\n",
      " FOREIGN KEY(product_number) REFERENCES product(product_number)\n",
      ");\n",
      "\n",
      "product_name_lookup.product_number: 1110, 6110, 5110\n",
      "product_name_lookup.product_language: 'CS', 'ES', 'EN'\n",
      "product_name_lookup.product_name: '\"Вечный свет\" - Бутановый', '\"Мухо-Щит\" Аэрозоль', '\"Мухо-Щит\" - Супер'\n",
      "product_name_lookup.product_description\n",
      "\n",
      "Note:\n",
      "\n",
      "\n",
      "To answer:\n",
      "Show me production cost of products in orders with quantity greater than 10\n",
      "We need columns:\n",
      "\n"
     ]
    }
   ],
   "source": [
    "print(sl_prompt)"
   ]
  },
  {
   "cell_type": "markdown",
   "id": "89813e3f-f83e-468c-9fd5-327a2084993b",
   "metadata": {},
   "source": [
    "## Perform an inference on the Schema Linking model using the watsonx.ai endpoint\n",
    "<a id=\"schemainference\"></a>\n",
    "\n",
    "Send a request to the Schema Linking model, generate outputs based on the provided configuration, and return the top-scoring outputs."
   ]
  },
  {
   "cell_type": "markdown",
   "id": "d013df46-2038-43da-adc3-69f3ed7a0d93",
   "metadata": {},
   "source": [
    "### Check SL Model Deployment"
   ]
  },
  {
   "cell_type": "code",
   "execution_count": 30,
   "id": "cd4724d1-5e11-49e6-b5ab-5d007937c67a",
   "metadata": {},
   "outputs": [
    {
     "name": "stdout",
     "output_type": "stream",
     "text": [
      "SL model deployment is ready!\n"
     ]
    }
   ],
   "source": [
    "# wait till deployment is up, should take a few minutes for each model\n",
    "while not (is_deployment_ready(deploy_id=SL_DEPLOYMENT_ID, space_id=SPACE_ID, access_token=ACCESS_TOKEN)):\n",
    "    pass\n",
    "print(\"SL model deployment is ready!\")"
   ]
  },
  {
   "cell_type": "markdown",
   "id": "bdd85d77-a7ee-45c5-b665-490763fffb66",
   "metadata": {},
   "source": [
    "### Perform SL inference"
   ]
  },
  {
   "cell_type": "code",
   "execution_count": null,
   "id": "309b6119-3b57-4767-be16-6ace7cf7a6f4",
   "metadata": {},
   "outputs": [],
   "source": [
    "# Helper function to perform inference on Schema Linking model\n",
    "import collections\n",
    "def wxai_generate(payload, wxai_url, wxai_headers, num_samples=5, allow_duplicates=True, temperature_scaling=1.1, max_num_request=10):\n",
    "    # generation params\n",
    "    temperature = payload[\"parameters\"].get('temperature', 1.0)\n",
    "    all_outputs = []\n",
    "    sample_strs = collections.Counter()\n",
    "    num_request = 0\n",
    "    while len(all_outputs) < num_samples and num_request < max_num_request:\n",
    "        payload[\"parameters\"][\"temperature\"] = temperature\n",
    "        response = requests.post(wxai_url, headers=wxai_headers, json=payload, verify=True)\n",
    "        if response.status_code != 200:\n",
    "            raise ValueError(f\"watsonx.ai model request failed, got code {response.status_code}, {response.json()}\")\n",
    "\n",
    "        is_added = False\n",
    "        for res in response.json()['results']:\n",
    "            if res[\"generated_text\"] not in sample_strs or allow_duplicates:\n",
    "                logprobs = [y.get(\"logprob\", 0.0) for y in res[\"generated_tokens\"]] # extract logprobs, if there is no logprob, set it to 0\n",
    "                cumulative_logprob = sum(logprobs)\n",
    "                score = cumulative_logprob / len(logprobs)\n",
    "                all_outputs.append({\"score\": score, \"text\": res[\"generated_text\"]})\n",
    "                sample_strs[res[\"generated_text\"]] += 1\n",
    "                is_added = True\n",
    "\n",
    "        # apply temperature scaling if we want more diverse output\n",
    "        if not is_added:\n",
    "            temperature = temperature*temperature_scaling\n",
    "        num_request += 1\n",
    "\n",
    "    all_outputs = sorted(all_outputs, key=lambda x: x[\"score\"], reverse=True)\n",
    "    return all_outputs      "
   ]
  },
  {
   "cell_type": "markdown",
   "id": "8bc3e658",
   "metadata": {},
   "source": [
    "Store the top-scoring outputs."
   ]
  },
  {
   "cell_type": "code",
   "execution_count": 33,
   "id": "67e8702f-6193-4659-88db-5c292ae97592",
   "metadata": {},
   "outputs": [],
   "source": [
    "scored_preds =collections.Counter()\n",
    "\n",
    "all_valid_columns = []\n",
    "for tbl_name, tbl in db_json_schema[\"tables\"].items():\n",
    "    for col in tbl[\"columns\"]:\n",
    "        all_valid_columns.append(f'{tbl_name}.{col[\"name\"]}')\n",
    "\n",
    "# sl inference\n",
    "sl_inference_payload = {\n",
    "    \"input\": sl_prompt,\n",
    "    \"parameters\": {\n",
    "        \"decoding_method\": \"sample\",\n",
    "        \"max_new_tokens\": 300,\n",
    "        \"temperature\": 1.0,\n",
    "        \"return_options\": {\"generated_tokens\": True, \"token_logprobs\": True}\n",
    "    }\n",
    "}\n",
    "all_sl_outputs = wxai_generate(payload=sl_inference_payload, wxai_url=SL_PROD_URL, wxai_headers=PROD_HEADERS, num_samples=5)\n"
   ]
  },
  {
   "cell_type": "code",
   "execution_count": 34,
   "id": "a83669a3-6f94-403e-851e-b652890a0d44",
   "metadata": {},
   "outputs": [
    {
     "data": {
      "text/plain": [
       "[{'score': -0.015094118463691152,\n",
       "  'text': 'order_details.product_number, order_details.quantity, product.product_number, product.production_cost'},\n",
       " {'score': -0.015094118463691152,\n",
       "  'text': 'order_details.product_number, order_details.quantity, product.product_number, product.production_cost'},\n",
       " {'score': -0.015094118463691152,\n",
       "  'text': 'order_details.product_number, order_details.quantity, product.product_number, product.production_cost'},\n",
       " {'score': -0.015094118463691152,\n",
       "  'text': 'order_details.product_number, order_details.quantity, product.product_number, product.production_cost'},\n",
       " {'score': -0.22286841453048314,\n",
       "  'text': 'inventory_levels.product_number, order_details.order_number, order_details.product_number, order_details.quantity, product.product_number, product.production_cost'}]"
      ]
     },
     "execution_count": 34,
     "metadata": {},
     "output_type": "execute_result"
    }
   ],
   "source": [
    "all_sl_outputs"
   ]
  },
  {
   "cell_type": "markdown",
   "id": "9219e482-2a33-4a80-9add-e98abbfc3e73",
   "metadata": {},
   "source": [
    "## Post the process of the Schema Linking model output\n",
    "<a id=\"schemapost\"></a>\n",
    "\n",
    "Filter and organize information from the outputs into a set of tables and a dictionary in a formatted JSON format."
   ]
  },
  {
   "cell_type": "code",
   "execution_count": 35,
   "id": "69f24d97-1386-427c-a553-9b303ed409ca",
   "metadata": {},
   "outputs": [],
   "source": [
    "from typing import Tuple\n",
    "def filter_generative_schema_links(\n",
    "                            schema_linker_output_dict: Dict[str, float]=None,\n",
    "                            threshold: float = 1.0,\n",
    "                            schema_top_k_min: int = 3, \n",
    "                            schema_top_k_max: int = 30,\n",
    "                        ) -> Tuple[List, List, List]:\n",
    "    # Note that this method can change the qualified table list\n",
    "    schema_linker_output = []  #List[Tuple[str, float]]\n",
    "    for k, v in schema_linker_output_dict.items():\n",
    "        schema_linker_output.append((k, v))\n",
    "        \n",
    "    schema_linker_output.sort(key=lambda x: x[1], reverse=True)\n",
    "    # links above threshold or at least top_k_min, but at most top_k_max\n",
    "    schema_links_filtered = [qc for qc, score in schema_linker_output if score >= threshold]\n",
    "    score_filtered = [score for qc, score in schema_linker_output if score >= threshold]\n",
    "    \n",
    "    # filter column\n",
    "    if len(schema_links_filtered) < schema_top_k_min:\n",
    "        schema_links_filtered = [qc for qc, score in schema_linker_output][:schema_top_k_min]\n",
    "        score_filtered = [score for qc, score in schema_linker_output][:schema_top_k_min]\n",
    "    elif len(schema_links_filtered) > schema_top_k_max:\n",
    "        schema_links_filtered = schema_links_filtered[:schema_top_k_max]\n",
    "        score_filtered = score_filtered[:schema_top_k_max]\n",
    "    \n",
    "    # re-create qualified tables\n",
    "    qualified_tables_set = set() \n",
    "    for col in schema_links_filtered:\n",
    "        table_name = col.split(\".\")[-2]\n",
    "        qualified_tables_set.add(table_name)\n",
    "    \n",
    "    return schema_links_filtered, score_filtered, sorted(list(qualified_tables_set))\n",
    "\n",
    "def process_generative_sl_api_outputs(col_predictions, threshold=1, schema_name=None):\n",
    "    schema_links_filtered, score_filtered, _ = filter_generative_schema_links(\n",
    "                                                                                schema_linker_output_dict=col_predictions,\n",
    "                                                                                threshold=threshold\n",
    "                                                                            )\n",
    "    return {k:v for k,v in zip(schema_links_filtered, score_filtered)}"
   ]
  },
  {
   "cell_type": "code",
   "execution_count": 36,
   "id": "5990caea-4b08-49f9-a111-920407557fe8",
   "metadata": {},
   "outputs": [
    {
     "name": "stdout",
     "output_type": "stream",
     "text": [
      "{\n",
      "  \"order_details.product_number\": 5,\n",
      "  \"order_details.quantity\": 5,\n",
      "  \"product.product_number\": 5,\n",
      "  \"product.production_cost\": 5,\n",
      "  \"inventory_levels.product_number\": 1,\n",
      "  \"order_details.order_number\": 1,\n",
      "  \"inventory_levels.inventory_year\": -10,\n",
      "  \"inventory_levels.inventory_month\": -10,\n",
      "  \"inventory_levels.warehouse_branch_code\": -10,\n",
      "  \"inventory_levels.opening_inventory\": -10,\n",
      "  \"inventory_levels.quantity_shipped\": -10,\n",
      "  \"inventory_levels.additions\": -10,\n",
      "  \"inventory_levels.unit_cost\": -10,\n",
      "  \"inventory_levels.closing_inventory\": -10,\n",
      "  \"inventory_levels.average_unit_cost\": -10,\n",
      "  \"order_details.order_detail_code\": -10,\n",
      "  \"order_details.ship_date\": -10,\n",
      "  \"order_details.promotion_code\": -10,\n",
      "  \"order_details.unit_cost\": -10,\n",
      "  \"order_details.unit_price\": -10,\n",
      "  \"order_details.unit_sale_price\": -10,\n",
      "  \"product.base_product_number\": -10,\n",
      "  \"product.introduction_date\": -10,\n",
      "  \"product.discontinued_date\": -10,\n",
      "  \"product.product_type_code\": -10,\n",
      "  \"product.product_color_code\": -10,\n",
      "  \"product.product_size_code\": -10,\n",
      "  \"product.product_brand_code\": -10,\n",
      "  \"product.gross_margin\": -10,\n"
     ]
    }
   ],
   "source": [
    "for sample in all_sl_outputs:\n",
    "    sample_preds = set([p.strip() for p in sample['text'].split(',')])\n",
    "    for sp in sample_preds:\n",
    "        if sp in all_valid_columns:\n",
    "            scored_preds[sp] += 1\n",
    "            \n",
    "\n",
    "col_predictions = {}\n",
    "for vc in all_valid_columns:\n",
    "    col_predictions[vc] = scored_preds[vc] if vc in scored_preds else -10\n",
    "\n",
    "col_predictions_sorted = {k: v for k, v in sorted(col_predictions.items(), key=lambda item: item[1], reverse=True)}\n",
    "print(\"\\n\".join(json.dumps(col_predictions_sorted, indent=2).split(\"\\n\")[:30]))"
   ]
  },
  {
   "cell_type": "code",
   "execution_count": 37,
   "id": "4ca130fb-0a24-40cf-a0bb-f180f6b1ae85",
   "metadata": {},
   "outputs": [],
   "source": [
    "col_predictions = process_generative_sl_api_outputs(col_predictions=col_predictions)"
   ]
  },
  {
   "cell_type": "markdown",
   "id": "71e89efb",
   "metadata": {},
   "source": [
    "Create a `qualified_columns` list that contains the names of all columns that have been predicted and scored by the schema linker."
   ]
  },
  {
   "cell_type": "code",
   "execution_count": 38,
   "id": "108c2cf9-68b7-41af-bcf9-dbe8f24fa8e0",
   "metadata": {},
   "outputs": [],
   "source": [
    "qualified_columns = list(col_predictions.keys())"
   ]
  },
  {
   "cell_type": "markdown",
   "id": "3d0f83e5-a79e-41ca-860f-d52159fab97d",
   "metadata": {},
   "source": [
    "## Create a prompt for the SQL Generation model \n",
    "<a id=\"sqlprompt\"></a>\n",
    "\n",
    "Create a prompt for the SQL Generation model using the input JSON Database schema, the natural language question, and evidence if it exists. This is the second step in the Text2SQL pipeline. "
   ]
  },
  {
   "cell_type": "code",
   "execution_count": 39,
   "id": "ef1e1a78-08d9-4e5f-ba30-3c664e008403",
   "metadata": {},
   "outputs": [],
   "source": [
    "def create_sql_gen_prompt(question, schema, evidence: Union[List[str],str]=\"\", qualified_columns:List[str]=None):\n",
    "    if isinstance(evidence, str):\n",
    "        evidence = [evidence]\n",
    "    evidence_str = 'Note:\\n' + '\\n'.join(evidence)\n",
    "    linked_schema = None\n",
    "    if qualified_columns is not None:\n",
    "        if not isinstance(qualified_columns, Mapping):\n",
    "            linked_schema = qualified_column_list2dict(qualified_columns)\n",
    "    schema_str, _ = generate_table_representation(schema=schema, linked_schema=linked_schema)\n",
    "    pre_question = evidence_str + question + '\\n\\n'\n",
    "    return pre_question + schema_str + '\\n\\n' + evidence_str + question + '\\nGenerate SQL:'"
   ]
  },
  {
   "cell_type": "code",
   "execution_count": 40,
   "id": "4dc0a90e-e9de-4698-95a6-f8353d22e5be",
   "metadata": {},
   "outputs": [],
   "source": [
    "sql_gen_prompt = create_sql_gen_prompt(question=nl_question, schema=db_json_schema, qualified_columns=qualified_columns)"
   ]
  },
  {
   "cell_type": "code",
   "execution_count": 41,
   "id": "392a5eb8-c47f-48bc-9086-ad2e16c4a4c7",
   "metadata": {},
   "outputs": [
    {
     "name": "stdout",
     "output_type": "stream",
     "text": [
      "Note:\n",
      "Show me production cost of products in orders with quantity greater than 10\n",
      "\n",
      "CREATE TABLE inventory_levels (\n",
      " product_number INTEGER PRIMARY KEY,\n",
      " FOREIGN KEY(product_number) REFERENCES product(product_number)\n",
      ");\n",
      "\n",
      "inventory_levels.inventory_year: 2007, 2004, 2005, 2006\n",
      "inventory_levels.inventory_month: 9, 12, 11\n",
      "inventory_levels.warehouse_branch_code: 40, 28, 30\n",
      "inventory_levels.product_number: 125130, 122150, 149110\n",
      "inventory_levels.opening_inventory: 2, 2152, 2148\n",
      "inventory_levels.quantity_shipped: 2, 1999, 1928\n",
      "inventory_levels.additions: 1129, 1787, 1770\n",
      "inventory_levels.unit_cost: 4.45, 5.03, 5.02\n",
      "inventory_levels.closing_inventory: 2, 2192, 2152\n",
      "inventory_levels.average_unit_cost: 2.15, 2.75, 2.31\n",
      "\n",
      "CREATE TABLE order_details (\n",
      " order_number INTEGER,\n",
      " product_number INTEGER,\n",
      " quantity INTEGER,\n",
      " FOREIGN KEY(product_number) REFERENCES product(product_number)\n",
      ");\n",
      "\n",
      "order_details.order_detail_code: 1000001, 1000016, 1000015\n",
      "order_details.order_number: 100015, 100073, 100072\n",
      "order_details.ship_date: 2004-03-05 00:00:00, 2004-08-06 00:00:00, 2004-08-04 00:00:00\n",
      "order_details.product_number: 125130, 149110, 123130\n",
      "order_details.promotion_code: 10203, 10223, 10213\n",
      "order_details.quantity: 1532, 1777, 1771\n",
      "order_details.unit_cost: 43.73, 31.24, 73.96\n",
      "order_details.unit_price: 72.0, 98.0, 34.8\n",
      "order_details.unit_sale_price: 12.52, 96.44, 94.8\n",
      "\n",
      "CREATE TABLE product (\n",
      " product_number INTEGER PRIMARY KEY,\n",
      " production_cost DECIMAL(19, 2),\n",
      ");\n",
      "\n",
      "product.product_number: 1110, 6110, 5110\n",
      "product.base_product_number: 1, 6, 5\n",
      "product.introduction_date: 1999-06-12 00:00:00, 2004-01-15 00:00:00, 2004-01-13 00:00:00\n",
      "product.discontinued_date: 2005-02-28 00:00:00, 2006-05-31 00:00:00, 2006-03-31 00:00:00\n",
      "product.product_type_code: 970, 956, 971\n",
      "product.product_color_code: 900, 924, 921\n",
      "product.product_size_code: 801, 812, 810\n",
      "product.product_brand_code: 703, 714, 715\n",
      "product.production_cost: 1.0, 11.43, 9.22\n",
      "product.gross_margin: 0.3, 0.7, 0.41\n",
      "product.product_image: 'P01CE1CG1.jpg', 'P06CE1CG1.jpg', 'P05CE1CG1.jpg'\n",
      "\n",
      "Note:\n",
      "Show me production cost of products in orders with quantity greater than 10\n",
      "Generate SQL:\n"
     ]
    }
   ],
   "source": [
    "print(sql_gen_prompt)"
   ]
  },
  {
   "cell_type": "markdown",
   "id": "5f18fcec-28e8-4083-aa3a-c55ca36e6b12",
   "metadata": {},
   "source": [
    "### Check SQL Gen Model Deployment"
   ]
  },
  {
   "cell_type": "code",
   "execution_count": 42,
   "id": "dc11c09e-fd7e-416c-988e-73382038fcf7",
   "metadata": {},
   "outputs": [
    {
     "name": "stdout",
     "output_type": "stream",
     "text": [
      "SQL gen model deployment is ready!\n"
     ]
    }
   ],
   "source": [
    "# wait till deployment is up, should take a few minutes for each model\n",
    "while not (is_deployment_ready(deploy_id=SQL_GEN_DEPLOYMENT_ID, space_id=SPACE_ID, access_token=ACCESS_TOKEN)):\n",
    "    pass\n",
    "print(\"SQL gen model deployment is ready!\")"
   ]
  },
  {
   "cell_type": "markdown",
   "id": "2a582166-9d2c-4d2b-b4c5-ad058a1bff1c",
   "metadata": {},
   "source": [
    "## Perform an inference on the SQL Generation model using the watsonx.ai endpoint\n",
    "<a id=\"sqlinference\"></a>\n",
    "\n",
    "Generate three unique SQL queries based on the prompt string and store the outputs."
   ]
  },
  {
   "cell_type": "code",
   "execution_count": 43,
   "id": "53d4e718-7be8-40fe-8af6-d70e82bb4f07",
   "metadata": {},
   "outputs": [],
   "source": [
    "# sql gen inference\n",
    "sql_gen_inference_payload = {\n",
    "    \"input\": sql_gen_prompt,\n",
    "    \"parameters\": {\n",
    "        \"decoding_method\": \"sample\",\n",
    "        \"max_new_tokens\": 300,\n",
    "        \"temperature\": 1.0,\n",
    "        \"return_options\": {\"generated_tokens\": True, \"token_logprobs\": True}\n",
    "    }\n",
    "}\n",
    "\n",
    "all_sql_gen_outputs = wxai_generate(payload=sql_gen_inference_payload, wxai_url=SQL_GEN_PROD_URL, wxai_headers=PROD_HEADERS, num_samples=3, allow_duplicates=False)"
   ]
  },
  {
   "cell_type": "code",
   "execution_count": 44,
   "id": "0f5bd4e7-5c0b-47a2-af09-a7b0699d3ddb",
   "metadata": {},
   "outputs": [
    {
     "data": {
      "text/plain": [
       "[{'score': -0.02310277242189,\n",
       "  'text': ' SELECT product.production_cost FROM order_details JOIN product ON order_details.product_number = product.product_number WHERE order_details.quantity > 10'},\n",
       " {'score': -0.05095982284078461,\n",
       "  'text': ' SELECT product.production_cost FROM product JOIN order_details ON product.product_number = order_details.product_number WHERE order_details.quantity > 10'},\n",
       " {'score': -0.09621994493760405,\n",
       "  'text': ' SELECT product.production_cost FROM order_details JOIN product ON product.product_number = order_details.product_number WHERE order_details.quantity > 10'}]"
      ]
     },
     "execution_count": 44,
     "metadata": {},
     "output_type": "execute_result"
    }
   ],
   "source": [
    "all_sql_gen_outputs"
   ]
  },
  {
   "cell_type": "markdown",
   "id": "66928b16-bf71-4e20-98cb-22bdc9c3060d",
   "metadata": {},
   "source": [
    "# Delete deployment"
   ]
  },
  {
   "cell_type": "code",
   "execution_count": 45,
   "id": "a586743c-d93f-4b7b-a66d-e40f4d7bb08d",
   "metadata": {},
   "outputs": [
    {
     "data": {
      "text/plain": [
       "{'entity': {'asset': {'id': 'deee5205-9cf0-41f8-9826-7cdb5d2d5393'},\n",
       "  'base_model_id': 'ibm/granite-20b-code-base-schema-linking-curated',\n",
       "  'custom': {},\n",
       "  'deployed_asset_type': 'curated_foundation_model',\n",
       "  'hardware_request': {'num_nodes': 1, 'size': 'gpu_s'},\n",
       "  'name': 'schema-linking-deployment',\n",
       "  'online': {'parameters': {'serving_name': 'granite20b_schema_linking'}},\n",
       "  'space_id': '21b7ac7b-fd1f-4a97-9927-65121d937dae',\n",
       "  'status': {'inference': [{'url': 'https://us-south.ml.cloud.ibm.com/ml/v1/deployments/granite20b_schema_linking/text/generation',\n",
       "     'uses_serving_name': True},\n",
       "    {'sse': True,\n",
       "     'url': 'https://us-south.ml.cloud.ibm.com/ml/v1/deployments/granite20b_schema_linking/text/generation_stream',\n",
       "     'uses_serving_name': True},\n",
       "    {'url': 'https://us-south.ml.cloud.ibm.com/ml/v1/deployments/f95334ab-25f1-42dd-a506-5e0a7157edbc/text/generation'},\n",
       "    {'sse': True,\n",
       "     'url': 'https://us-south.ml.cloud.ibm.com/ml/v1/deployments/f95334ab-25f1-42dd-a506-5e0a7157edbc/text/generation_stream'}],\n",
       "   'serving_urls': ['https://us-south.ml.cloud.ibm.com/ml/v1/deployments/f95334ab-25f1-42dd-a506-5e0a7157edbc/text/generation',\n",
       "    'https://us-south.ml.cloud.ibm.com/ml/v1/deployments/f95334ab-25f1-42dd-a506-5e0a7157edbc/text/generation_stream',\n",
       "    'https://us-south.ml.cloud.ibm.com/ml/v1/deployments/granite20b_schema_linking/text/generation',\n",
       "    'https://us-south.ml.cloud.ibm.com/ml/v1/deployments/granite20b_schema_linking/text/generation_stream'],\n",
       "   'state': 'ready'}},\n",
       " 'metadata': {'created_at': '2024-12-10T18:34:26.035Z',\n",
       "  'id': 'f95334ab-25f1-42dd-a506-5e0a7157edbc',\n",
       "  'modified_at': '2024-12-10T18:34:26.035Z',\n",
       "  'name': 'schema-linking-deployment',\n",
       "  'owner': 'IBMid-6630033MST',\n",
       "  'space_id': '21b7ac7b-fd1f-4a97-9927-65121d937dae'}}"
      ]
     },
     "execution_count": 45,
     "metadata": {},
     "output_type": "execute_result"
    }
   ],
   "source": [
    "get_deployment_info(deploy_id=SL_DEPLOYMENT_ID, space_id=SPACE_ID, access_token=ACCESS_TOKEN)"
   ]
  },
  {
   "cell_type": "code",
   "execution_count": 46,
   "id": "0b21e4f9-1a70-497f-9085-76347c52cee0",
   "metadata": {},
   "outputs": [
    {
     "data": {
      "text/plain": [
       "{'entity': {'asset': {'id': 'f6af013a-4645-42c4-b9d6-1dcd39fa0f5c'},\n",
       "  'base_model_id': 'ibm/granite-20b-code-base-sql-gen-curated',\n",
       "  'custom': {},\n",
       "  'deployed_asset_type': 'curated_foundation_model',\n",
       "  'hardware_request': {'num_nodes': 1, 'size': 'gpu_s'},\n",
       "  'name': 'sql-gen-deployment',\n",
       "  'online': {'parameters': {'serving_name': 'granite_20b_sql_gen'}},\n",
       "  'space_id': '21b7ac7b-fd1f-4a97-9927-65121d937dae',\n",
       "  'status': {'inference': [{'url': 'https://us-south.ml.cloud.ibm.com/ml/v1/deployments/granite_20b_sql_gen/text/generation',\n",
       "     'uses_serving_name': True},\n",
       "    {'sse': True,\n",
       "     'url': 'https://us-south.ml.cloud.ibm.com/ml/v1/deployments/granite_20b_sql_gen/text/generation_stream',\n",
       "     'uses_serving_name': True},\n",
       "    {'url': 'https://us-south.ml.cloud.ibm.com/ml/v1/deployments/a87bf110-2ea6-42ad-971d-d7d28788c358/text/generation'},\n",
       "    {'sse': True,\n",
       "     'url': 'https://us-south.ml.cloud.ibm.com/ml/v1/deployments/a87bf110-2ea6-42ad-971d-d7d28788c358/text/generation_stream'}],\n",
       "   'serving_urls': ['https://us-south.ml.cloud.ibm.com/ml/v1/deployments/a87bf110-2ea6-42ad-971d-d7d28788c358/text/generation',\n",
       "    'https://us-south.ml.cloud.ibm.com/ml/v1/deployments/a87bf110-2ea6-42ad-971d-d7d28788c358/text/generation_stream',\n",
       "    'https://us-south.ml.cloud.ibm.com/ml/v1/deployments/granite_20b_sql_gen/text/generation',\n",
       "    'https://us-south.ml.cloud.ibm.com/ml/v1/deployments/granite_20b_sql_gen/text/generation_stream'],\n",
       "   'state': 'ready'}},\n",
       " 'metadata': {'created_at': '2024-12-10T18:34:27.935Z',\n",
       "  'id': 'a87bf110-2ea6-42ad-971d-d7d28788c358',\n",
       "  'modified_at': '2024-12-10T18:34:27.935Z',\n",
       "  'name': 'sql-gen-deployment',\n",
       "  'owner': 'IBMid-6630033MST',\n",
       "  'space_id': '21b7ac7b-fd1f-4a97-9927-65121d937dae'}}"
      ]
     },
     "execution_count": 46,
     "metadata": {},
     "output_type": "execute_result"
    }
   ],
   "source": [
    "get_deployment_info(deploy_id=SQL_GEN_DEPLOYMENT_ID, space_id=SPACE_ID, access_token=ACCESS_TOKEN)"
   ]
  },
  {
   "cell_type": "code",
   "execution_count": 47,
   "id": "9157e8e5-079a-4691-826d-612a8acb7142",
   "metadata": {},
   "outputs": [],
   "source": [
    "# delete 2 deployments\n",
    "delete_deployment(deploy_id=SL_DEPLOYMENT_ID, space_id=SPACE_ID, access_token=ACCESS_TOKEN)\n",
    "delete_deployment(deploy_id=SQL_GEN_DEPLOYMENT_ID, space_id=SPACE_ID, access_token=ACCESS_TOKEN)"
   ]
  },
  {
   "cell_type": "code",
   "execution_count": 48,
   "id": "29c90865-fa4d-4ad6-ace3-3b9d149cdfbc",
   "metadata": {},
   "outputs": [
    {
     "data": {
      "text/plain": [
       "{'trace': 'ca13682a8ef1df103aa8e3fdc5f30147',\n",
       " 'errors': [{'code': 'deployment_does_not_exist',\n",
       "   'message': \"Deployment with id 'f95334ab-25f1-42dd-a506-5e0a7157edbc' does not exist. Re-try with a valid deployment id.\"}]}"
      ]
     },
     "execution_count": 48,
     "metadata": {},
     "output_type": "execute_result"
    }
   ],
   "source": [
    "get_deployment_info(deploy_id=SL_DEPLOYMENT_ID, space_id=SPACE_ID, access_token=ACCESS_TOKEN)"
   ]
  },
  {
   "cell_type": "code",
   "execution_count": 49,
   "id": "db28b16b-1bf5-4f7c-a1c7-b1bea7bde921",
   "metadata": {},
   "outputs": [
    {
     "data": {
      "text/plain": [
       "{'trace': '98981c3fd5310682aaa10d4ac82cdced',\n",
       " 'errors': [{'code': 'deployment_does_not_exist',\n",
       "   'message': \"Deployment with id 'a87bf110-2ea6-42ad-971d-d7d28788c358' does not exist. Re-try with a valid deployment id.\"}]}"
      ]
     },
     "execution_count": 49,
     "metadata": {},
     "output_type": "execute_result"
    }
   ],
   "source": [
    "get_deployment_info(deploy_id=SQL_GEN_DEPLOYMENT_ID, space_id=SPACE_ID, access_token=ACCESS_TOKEN)"
   ]
  },
  {
   "cell_type": "markdown",
   "id": "edf161d9",
   "metadata": {},
   "source": [
    "## Summary\n",
    "\n",
    "Congratulations, you completed this notebook! You learned how to work with the two Text2SQL pipeline components, the Schema Linking model (SL) and SQL Generation model (SQL Gen)."
   ]
  },
  {
   "cell_type": "markdown",
   "id": "118b2943-a68e-4ab4-af6d-dd0329b2b31d",
   "metadata": {},
   "source": [
    "## Authors\n",
    "\n",
    "- **Long Vu** lhvu@us.ibm.com\n",
    "- **Nhan Pham** nhp@ibm.com\n",
    "- **Michael Glass** mrglass@us.ibm.com\n",
    "- **Shankar Subramanian** dharmash@us.ibm.com\n",
    "\n",
    "IBM TJ Watson Research Center, New York, United States of America"
   ]
  },
  {
   "cell_type": "markdown",
   "id": "9d767c82",
   "metadata": {},
   "source": [
    "Copyright © 2024 IBM. This notebook and its source code are released under the terms of the MIT License."
   ]
  }
 ],
 "metadata": {
  "kernelspec": {
   "display_name": "Python 3 (ipykernel)",
   "language": "python",
   "name": "python3"
  },
  "language_info": {
   "codemirror_mode": {
    "name": "ipython",
    "version": 3
   },
   "file_extension": ".py",
   "mimetype": "text/x-python",
   "name": "python",
   "nbconvert_exporter": "python",
   "pygments_lexer": "ipython3",
   "version": "3.11.8"
  }
 },
 "nbformat": 4,
 "nbformat_minor": 5
}
