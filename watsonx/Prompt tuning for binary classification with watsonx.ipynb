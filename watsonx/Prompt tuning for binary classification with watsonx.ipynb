{
 "cells": [
  {
   "cell_type": "markdown",
   "id": "3f1c0908",
   "metadata": {},
   "source": [
    "![image](https://raw.githubusercontent.com/IBM/watson-machine-learning-samples/master/cloud/notebooks/headers/watsonx-Prompt_Lab-Notebook.png)"
   ]
  },
  {
   "cell_type": "markdown",
   "id": "7babd4bb-d536-449c-b22a-ffe4e743153f",
   "metadata": {},
   "source": [
    "# Prompt Tuning for Binary Classification with watsonx\n",
    "\n",
    "#### Disclaimers\n",
    "\n",
    "- Use only Projects and Spaces that are available in watsonx context.\n",
    "\n",
    "# Overview\n",
    "\n",
    "## Audience\n",
    "\n",
    "This notebook is part of a series of notebooks, designed to guide you on how to utilize watsonx.ai Large Language Models (LLMs) for text classification.\n",
    "\n",
    "The scenario presented in this notebook assumes you have at least 100 labeled text elements in a binary setup, that is, given a category of interest, each text element is labeled as either belongs to this category or not. A <related notebook> provides guidance how to collect such labeled data efficiently.\n",
    "    \n",
    "*Add notebook for labeled data colletction for binary classification*\n",
    "\n",
    "Some familiarity with Python is helpful. This notebook runs with python 3.10.\n",
    "\n",
    "## Prompt Tuning\n",
    "\n",
    "Full fine-tuning of LLMs requires significant resources. To this end, watsonx provides Prompt Tuning (PT), a parameter-efficient tuning method where the pre-trained model parameters are frozen and a soft prompt is trained on the labeled data provided. Compared to prompt-engineering, PT allows the LLMs to learn from many more examples, avoiding the prompt length limitation, and aiming at deeper adaptation to the given data. For more details, please refer to <a href=\"https://dataplatform.cloud.ibm.com/docs/content/wsj/analyze-data/fm-tuning-methods.html?context=wx&audience=wdp\" target=\"_blank\" rel=\"noopener no referrer\">our documentation.</a>\n",
    "\n",
    "## Learning goal\n",
    "\n",
    "- The goal of this notebook is to provide an end-to-end step-by-step walkthrough of using PT in watsonx for binary classification, assuming labeled data exists, and demonstrating how to:\n",
    "    - Upload a data asset\n",
    "    - Setup and run PT\n",
    "    - Deploy tuned model\n",
    "    - Infer tuned model on test data\n",
    "    - Evaluate model performance\n",
    "- We provide advanced steps for making the best of your tuning in various scenarios. For example, How to initialize the soft prompt for classification?\n",
    "- The notebook is backed by empirical evidence over 6 benchmarks showing an average improvement of ~24 points in macro-f1 compared to zero-shot classification with the same model (see details in the [Benchmark Results](#benchmark) section)."
   ]
  },
  {
   "cell_type": "markdown",
   "id": "b59f731d",
   "metadata": {},
   "source": [
    "## Contents\n",
    "\n",
    "This notebook contains the following parts:\n",
    "\n",
    "- [Setup](#setup)\n",
    "- [Load data](#load_data)\n",
    "- [Initialize experiment](#experiment)\n",
    "- [Run Prompt Tuning](#run_tuning)\n",
    "- [Deploy](#deploy)\n",
    "- [Run Foundation Models Inference on `watsonx.ai`](#inference)\n",
    "- [Evaluate tuned model](#evaluation)\n",
    "- [Benchmark Results](#benchmark)\n",
    "- [Summary](#summary)"
   ]
  },
  {
   "cell_type": "markdown",
   "id": "ff3c2505",
   "metadata": {},
   "source": [
    "<a id=\"setup\"></a>\n",
    "# Set up the environment"
   ]
  },
  {
   "cell_type": "markdown",
   "id": "0d53534f",
   "metadata": {},
   "source": [
    "Before you use the sample code in this notebook, you must perform the following setup tasks:\n",
    "\n",
    "-  Create a Watson Machine Learning (WML) Service instance (information about how to create the instance can be found <a href=\"https://dataplatform.cloud.ibm.com/docs/content/wsj/analyze-data/ml-service-instance.html?context=analytics\" target=\"_blank\" rel=\"noopener no referrer\">here</a>. A paid instance is required to use Tuning Studio)."
   ]
  },
  {
   "cell_type": "markdown",
   "id": "e7973255",
   "metadata": {},
   "source": [
    "## Install dependencies"
   ]
  },
  {
   "cell_type": "code",
   "execution_count": 1,
   "id": "418605df",
   "metadata": {},
   "outputs": [],
   "source": [
    "!pip install ibm-watsonx-ai -U -q\n",
    "!pip install scikit-learn -q\n",
    "!pip install matplotlib -q\n",
    "!pip install wget -q"
   ]
  },
  {
   "cell_type": "markdown",
   "id": "2ff70e1a",
   "metadata": {},
   "source": [
    "## Import utility packages"
   ]
  },
  {
   "cell_type": "code",
   "execution_count": 2,
   "id": "97d5dbb8",
   "metadata": {},
   "outputs": [],
   "source": [
    "import os\n",
    "import getpass"
   ]
  },
  {
   "cell_type": "markdown",
   "id": "387e64d4",
   "metadata": {},
   "source": [
    "### Watsonx API connection\n",
    "This cell defines the credentials required to work with watsonx API for Foundation\n",
    "Model inferencing.\n",
    "\n",
    "**Action:** Provide the IBM Cloud user API url and key. For details, see <a href=\"https://cloud.ibm.com/docs/account?topic=account-userapikey&interface=ui\" target=\"_blank\" rel=\"noopener no referrer\">documentation</a>."
   ]
  },
  {
   "cell_type": "code",
   "execution_count": 3,
   "id": "99f1a368",
   "metadata": {},
   "outputs": [
    {
     "name": "stdout",
     "output_type": "stream",
     "text": [
      "Please enter your watsonx.ai URL domain (hit enter): ········\n"
     ]
    }
   ],
   "source": [
    "try:\n",
    "    api_url = os.environ[\"API_URL\"]\n",
    "except KeyError:\n",
    "    api_url = getpass.getpass(\"Please enter your watsonx.ai URL domain (hit enter): \")"
   ]
  },
  {
   "cell_type": "code",
   "execution_count": 4,
   "id": "6daf8808",
   "metadata": {},
   "outputs": [
    {
     "name": "stdout",
     "output_type": "stream",
     "text": [
      "Please enter your watsonx.ai API key (hit enter): ········\n"
     ]
    }
   ],
   "source": [
    "try:\n",
    "    api_key = os.environ[\"API_KEY\"]\n",
    "except KeyError:\n",
    "    api_key = getpass.getpass(\"Please enter your watsonx.ai API key (hit enter): \")"
   ]
  },
  {
   "cell_type": "markdown",
   "id": "5ab83a7f",
   "metadata": {},
   "source": [
    "## Define the project id\n",
    "\n",
    "The Foundation Model requires a project id that provides the context for the call. We will try to obtain the id from the project in which this notebook runs. Otherwise, please provide the project id. To find your project id, select the project from the [project list](https://dataplatform.cloud.ibm.com/projects/?context=wx), and then take the project id from `Manage`->`General`->`Details`."
   ]
  },
  {
   "cell_type": "code",
   "execution_count": 5,
   "id": "ee4f8c77",
   "metadata": {},
   "outputs": [
    {
     "name": "stdout",
     "output_type": "stream",
     "text": [
      "Please enter your watsonx.ai Project ID (hit enter): ········\n"
     ]
    }
   ],
   "source": [
    "try:\n",
    "    project_id = os.environ[\"PROJECT_ID\"]\n",
    "except KeyError:\n",
    "    project_id = getpass.getpass(\"Please enter your watsonx.ai Project ID (hit enter): \")"
   ]
  },
  {
   "cell_type": "markdown",
   "id": "32d37e7d",
   "metadata": {},
   "source": [
    "Create an instance of APIClient with authentication details, and set the project id."
   ]
  },
  {
   "cell_type": "code",
   "execution_count": 6,
   "id": "d8d73fc8",
   "metadata": {},
   "outputs": [],
   "source": [
    "credentials = {\n",
    "    \"url\": api_url,\n",
    "    \"apikey\": api_key\n",
    "}"
   ]
  },
  {
   "cell_type": "code",
   "execution_count": 7,
   "id": "62b20887",
   "metadata": {},
   "outputs": [],
   "source": [
    "from ibm_watsonx_ai import APIClient"
   ]
  },
  {
   "cell_type": "code",
   "execution_count": 8,
   "id": "ba6c856e",
   "metadata": {},
   "outputs": [],
   "source": [
    "client = APIClient(credentials)"
   ]
  },
  {
   "cell_type": "code",
   "execution_count": 9,
   "id": "4d99225b",
   "metadata": {},
   "outputs": [
    {
     "data": {
      "text/plain": [
       "'SUCCESS'"
      ]
     },
     "execution_count": 9,
     "metadata": {},
     "output_type": "execute_result"
    }
   ],
   "source": [
    "client.set.default_project(project_id)"
   ]
  },
  {
   "cell_type": "markdown",
   "id": "4d4ab9ef",
   "metadata": {},
   "source": [
    "<a id=\"load_data\"></a>\n",
    "# Load data\n",
    "\n",
    "The recommended data size is between a few hundred and a few thousand exmaples.\n",
    "\n",
    "For more details read about <a href=\"https://dataplatform.cloud.ibm.com/docs/content/wsj/analyze-data/fm-tuning-data.html?context=wx&audience=wdp\" target=\"_blank\" rel=\"noopener no referrer\">data formats</a> in our documentation.\n",
    "\n",
    "Make sure your class is represented well enough. Models may have a hard time to predict classes that have a small number of examples in the train data."
   ]
  },
  {
   "cell_type": "markdown",
   "id": "cbf1e4fa",
   "metadata": {},
   "source": [
    "## Use CFPB data\n",
    "\n",
    "To illustrate the use of PT for binary classification, we will use a subset of the CFPB (Consumer Financial Protection Bureau) dataset (for more details about the dataset [click here](https://www.consumerfinance.gov/data-research/consumer-complaints/)). This dataset originally contains millions of real complaints associated with 9 different products (topics). The samples we will use for training and testing in this notebook are downloaded from our git repository and cover a slightly different list of 5 products. For this notebook, we choose one product of interest and view the dataset as a binary dataset towards this product. We will use separate samples of 1k examples for training and testing."
   ]
  },
  {
   "cell_type": "markdown",
   "id": "41a08f0b",
   "metadata": {},
   "source": [
    "## Use your own data\n",
    "\n",
    "Alternatively, you can run this notebook with your own data. For this purpose, set the variable `use_your_own_data` to `True`. In the subsequent cell, set the path to your data in csv format, the text and label column names, the train asset filename and the path to the test file in csv format (if exists)."
   ]
  },
  {
   "cell_type": "code",
   "execution_count": 10,
   "id": "ab6914f1",
   "metadata": {},
   "outputs": [],
   "source": [
    "use_your_own_data = False"
   ]
  },
  {
   "cell_type": "markdown",
   "id": "514f9b51-026a-4c19-a5b0-fc0215be8f27",
   "metadata": {},
   "source": [
    "We choose the class *credit_card* for this notebook, so our classifier should detect complaints that discuss credit cards."
   ]
  },
  {
   "cell_type": "code",
   "execution_count": 11,
   "id": "424ca286-3d4d-456f-b436-964ec28ab53c",
   "metadata": {},
   "outputs": [],
   "source": [
    "class_name = \"credit card\""
   ]
  },
  {
   "cell_type": "code",
   "execution_count": 12,
   "id": "72666b55",
   "metadata": {},
   "outputs": [],
   "source": [
    "import wget\n",
    "import pandas as pd"
   ]
  },
  {
   "cell_type": "code",
   "execution_count": 13,
   "id": "a06bc013",
   "metadata": {},
   "outputs": [],
   "source": [
    "# downloading cfpb data\n",
    "def download_cfpb(filepath):\n",
    "    url = f\"https://raw.github.com/IBM/watson-machine-learning-samples/master/cloud/data/cfpb_complaints/{filepath}\"\n",
    "    wget.download(url)"
   ]
  },
  {
   "cell_type": "code",
   "execution_count": 14,
   "id": "6e3e2522",
   "metadata": {},
   "outputs": [
    {
     "name": "stdout",
     "output_type": "stream",
     "text": [
      "downloading cfpb data\n",
      "100% [........................................................................] 21320615 / 21320615"
     ]
    }
   ],
   "source": [
    "if not use_your_own_data:\n",
    "    print(\"downloading cfpb data\")\n",
    "    filepath = \"cfpb_compliants.csv\"\n",
    "    download_cfpb(filepath)\n",
    "    text_column = \"narrative\"\n",
    "    label_column = \"product\"\n",
    "    positive_label_name = class_name  # the label of the positive class\n",
    "    asset_train_filename = \"CFPB_train_credit_card.json\"\n",
    "\n",
    "else:\n",
    "    print(\"defining custom data parameters\")\n",
    "    filepath = \"\" # the path to your data\n",
    "    text_column = \"\"  # the column name for the input texts\n",
    "    label_column = \"\"  # the column name for gold labels\n",
    "    positive_label_name = True  # the label of the positive class\n",
    "    asset_train_filename = \"my_train.json\"  # the name of the file that is created for the train data asset (in json format, e.g., \"my_train.json\")\n",
    "    test_filepath = None  # optionally, set a path to your test data for evaluation"
   ]
  },
  {
   "cell_type": "markdown",
   "id": "078c90fe",
   "metadata": {},
   "source": [
    "We preprocess the data. For CFPB, the preprocessing step includes replacing of `_` with spaces. If you use your own data, you can update this function with additional preprocessing steps.\n",
    "\n",
    "Moreover, our product of interest is *credit card*, thus we need to adapt the dataset appropriately. Positive examples are labeled with `yes` and negative examples are labeled with `no`. "
   ]
  },
  {
   "cell_type": "code",
   "execution_count": 15,
   "id": "9eac46b0",
   "metadata": {},
   "outputs": [],
   "source": [
    "# preprocessing cfpb data \n",
    "# update this function with relevant preprocessing of your data\n",
    "def preprocess_format(df, label_column):\n",
    "    df.loc[:, label_column] = df[label_column].apply(lambda l: l.replace(\"_\", \" \"))\n",
    "    return df\n",
    "\n",
    "\n",
    "def preprocess_multiclass_to_binary(df, text_column, label_column, positive_label_name):\n",
    "    print(\"preprocessing data\")\n",
    "    df = df.rename(columns={text_column: \"input\", label_column: \"output\"})\n",
    "    df = df[['input', 'output']]\n",
    "    df.loc[:, \"output\"] = df[\"output\"].apply(lambda l: 'yes' if l == positive_label_name else 'no')\n",
    "    return df"
   ]
  },
  {
   "cell_type": "code",
   "execution_count": 16,
   "id": "6aed14c9",
   "metadata": {},
   "outputs": [
    {
     "name": "stdout",
     "output_type": "stream",
     "text": [
      "preprocessing data\n",
      "your data contains 5031 positive and 22327 negative examples\n"
     ]
    }
   ],
   "source": [
    "df = pd.read_csv(filepath)\n",
    "df = preprocess_format(df, label_column)\n",
    "df = preprocess_multiclass_to_binary(df, text_column, label_column, positive_label_name=positive_label_name)\n",
    "print(f\"your data contains {sum(df['output']=='yes')} positive and {sum(df['output']=='no')} negative examples\")"
   ]
  },
  {
   "cell_type": "markdown",
   "id": "0b69b889",
   "metadata": {},
   "source": [
    "We create a data asset for training."
   ]
  },
  {
   "cell_type": "code",
   "execution_count": 17,
   "id": "7aa2cd74",
   "metadata": {},
   "outputs": [],
   "source": [
    "import json"
   ]
  },
  {
   "cell_type": "code",
   "execution_count": 18,
   "id": "2f1753d0",
   "metadata": {},
   "outputs": [],
   "source": [
    "assets = client.data_assets.get_details()['resources']\n",
    "assets = [a for a in assets if a['metadata']['name'] == asset_train_filename]"
   ]
  },
  {
   "cell_type": "code",
   "execution_count": 19,
   "id": "30d3bdb7",
   "metadata": {},
   "outputs": [],
   "source": [
    "def get_demo_train_data(df):\n",
    "    return df.loc[:999, :]"
   ]
  },
  {
   "cell_type": "code",
   "execution_count": 20,
   "id": "1f944c1f",
   "metadata": {},
   "outputs": [
    {
     "name": "stdout",
     "output_type": "stream",
     "text": [
      "\n",
      "train asset does not exist\n",
      "Creating data asset...\n",
      "SUCCESS\n"
     ]
    }
   ],
   "source": [
    "if len(assets) == 0:\n",
    "    print(\"\\ntrain asset does not exist\")\n",
    "    if not use_your_own_data:\n",
    "        train_df = get_demo_train_data(df)\n",
    "    else:\n",
    "        train_df = df\n",
    "    data = train_df.to_dict(\"records\")\n",
    "    with open(asset_train_filename, \"w\") as f:\n",
    "        json.dump(data, f)\n",
    "    train_asset = client.data_assets.create(name=asset_train_filename, file_path=asset_train_filename)\n",
    "else:\n",
    "    print(\"\\ntrain asset exists\")\n",
    "    train_asset = assets[0]\n",
    "    asset_uid = client.data_assets.get_id(train_asset)\n",
    "    content = client.data_assets.get_content(asset_uid).decode(\"utf-8\")\n",
    "    train_df = pd.read_json(content, orient=\"records\")"
   ]
  },
  {
   "cell_type": "code",
   "execution_count": 21,
   "id": "1e2a1d51-d986-411e-9933-a800df5c45c2",
   "metadata": {},
   "outputs": [
    {
     "name": "stdout",
     "output_type": "stream",
     "text": [
      "training data contains 1000 examples, 190 positive and 810 negative\n"
     ]
    }
   ],
   "source": [
    "print(f\"training data contains {len(train_df)} examples, {sum(train_df['output']=='yes')} positive and {sum(train_df['output']=='no')} negative\")"
   ]
  },
  {
   "cell_type": "markdown",
   "id": "934f9dca",
   "metadata": {},
   "source": [
    "We define a `DataConnection` instance for the training data. This instance will be used as reference when running PT later."
   ]
  },
  {
   "cell_type": "code",
   "execution_count": 22,
   "id": "d27a0b08",
   "metadata": {},
   "outputs": [],
   "source": [
    "train_asset_id = client.data_assets.get_id(train_asset)"
   ]
  },
  {
   "cell_type": "code",
   "execution_count": 23,
   "id": "48eb2cf9",
   "metadata": {},
   "outputs": [],
   "source": [
    "from ibm_watsonx_ai.helpers import DataConnection"
   ]
  },
  {
   "cell_type": "code",
   "execution_count": 24,
   "id": "6252d9f6",
   "metadata": {},
   "outputs": [],
   "source": [
    "data_conn = DataConnection(data_asset_id=train_asset_id)"
   ]
  },
  {
   "cell_type": "markdown",
   "id": "c942a476",
   "metadata": {},
   "source": [
    "<a id=\"experiment\"></a>\n",
    "# Initialize experiment\n",
    "\n",
    "We initialize an instance of `TuneExperiment` using the `project_id`."
   ]
  },
  {
   "cell_type": "code",
   "execution_count": 25,
   "id": "a082a11d",
   "metadata": {},
   "outputs": [],
   "source": [
    "from ibm_watsonx_ai.experiment import TuneExperiment"
   ]
  },
  {
   "cell_type": "code",
   "execution_count": 26,
   "id": "aadb61c6",
   "metadata": {},
   "outputs": [],
   "source": [
    "experiment = TuneExperiment(credentials, project_id=project_id)"
   ]
  },
  {
   "cell_type": "markdown",
   "id": "e2a10642",
   "metadata": {},
   "source": [
    "## Initialize a verbalizer\n",
    "\n",
    "We initialize the verbalizer used in training:\n"
   ]
  },
  {
   "cell_type": "code",
   "execution_count": 27,
   "id": "1801520e",
   "metadata": {},
   "outputs": [
    {
     "name": "stdout",
     "output_type": "stream",
     "text": [
      "verbalizer is\n",
      "Classify if the following text belongs to the category credit card. Answer yes or no. Input: {{input}} Output:\n"
     ]
    }
   ],
   "source": [
    "input_prefix = \"Input:\"\n",
    "output_prefix = \"Output:\"\n",
    "instruction = f'Classify if the following text belongs to the category {class_name}. Answer yes or no.'\n",
    "\n",
    "verbalizer = instruction + ' ' + input_prefix + ' {{input}} ' + output_prefix\n",
    "\n",
    "print(f\"verbalizer is\\n{verbalizer}\")"
   ]
  },
  {
   "cell_type": "markdown",
   "id": "529a87df",
   "metadata": {},
   "source": [
    "We estimate the length of the texts."
   ]
  },
  {
   "cell_type": "code",
   "execution_count": 28,
   "id": "799b6bf1",
   "metadata": {},
   "outputs": [
    {
     "name": "stdout",
     "output_type": "stream",
     "text": [
      "Estimated number tokens in verbalizer remaining for texts: 230.5\n",
      "Estimated average length of texts in the train set: 151.98\n"
     ]
    }
   ],
   "source": [
    "token_limit = 256\n",
    "\n",
    "verbalizer_token_count = len(verbalizer.replace(\"{{input}}\", \"\").split()) * 1.5\n",
    "\n",
    "texts = train_df[\"input\"].tolist()\n",
    "text_token_count = [len(t.split()) * 1.5 for t in texts]\n",
    "avg_text_length = sum(text_token_count)/len(text_token_count)\n",
    "print(f\"Estimated number tokens in verbalizer remaining for texts: {token_limit-verbalizer_token_count}\")\n",
    "print(f\"Estimated average length of texts in the train set: {'{:.2f}'.format(avg_text_length)}\")\n",
    "if token_limit - verbalizer_token_count < avg_text_length:\n",
    "    print(f\"If the number of tokens remaining for texts is much smaller than their actual length, this might harm performance.\")"
   ]
  },
  {
   "cell_type": "markdown",
   "id": "56451037",
   "metadata": {},
   "source": [
    "## Set the soft prompt initialization text\n",
    "\n",
    "The process of PT trains a soft prompt - a list of 100 token embeddings - instead of the entire model. To achieve satisfactory results with the model tuned in this notebook (`google/flan-t5-xl`), it is recommended to initialize the soft prompt tokens with an instruction that is relevant to the task. \n",
    "\n",
    "This initialization presumably allows a more semantically meaningful starting point for the soft prompt embeddings. We set the inialization text in the `soft_prompt_initialization_text` parameter."
   ]
  },
  {
   "cell_type": "code",
   "execution_count": 29,
   "id": "e8838a1f",
   "metadata": {},
   "outputs": [
    {
     "name": "stdout",
     "output_type": "stream",
     "text": [
      "The soft prompt initialization text: \n",
      "Classify if the following text belongs to the category credit card. Answer yes or no.\n",
      "\n"
     ]
    }
   ],
   "source": [
    "soft_prompt_initialization_text = f'Classify if the following text belongs to the category {class_name}. Answer yes or no.'\n",
    "print(f\"The soft prompt initialization text: \\n{soft_prompt_initialization_text}\\n\")"
   ]
  },
  {
   "cell_type": "markdown",
   "id": "74983b12",
   "metadata": {},
   "source": [
    "## Define prompt tuner\n",
    "\n",
    "We define the `prompt_tuner` parameters, including the verbalizer and the initialization text. Tuning is currently available for `google/flan-t5-xl`.\n",
    "\n",
    "Note: We set the number of epochs to 50 (`num_epochs` parameter), as this usually provided the best results in our experiments. If your data is much larger than 1k elements, you may want to consider decreasing the number of epochs to save on run-time."
   ]
  },
  {
   "cell_type": "code",
   "execution_count": 30,
   "id": "2e07445d",
   "metadata": {},
   "outputs": [],
   "source": [
    "from ibm_watsonx_ai.foundation_models.utils.enums import ModelTypes"
   ]
  },
  {
   "cell_type": "code",
   "execution_count": 31,
   "id": "db38c980",
   "metadata": {},
   "outputs": [],
   "source": [
    "from ibm_watsonx_ai.foundation_models.utils.enums import PromptTuningInitMethods"
   ]
  },
  {
   "cell_type": "code",
   "execution_count": 32,
   "id": "6f4618a6",
   "metadata": {},
   "outputs": [],
   "source": [
    "prompt_tuner = experiment.prompt_tuner(name=\"sample SDK run auto_update True on CFPB binary\",\n",
    "                                       task_id=experiment.Tasks.CLASSIFICATION,\n",
    "                                       base_model=ModelTypes.FLAN_T5_XL,\n",
    "                                       accumulate_steps=16,\n",
    "                                       batch_size=16,\n",
    "                                       learning_rate=0.3,\n",
    "                                       max_input_tokens=token_limit,\n",
    "                                       max_output_tokens=20,\n",
    "                                       num_epochs=50,\n",
    "                                       tuning_type=experiment.PromptTuningTypes.PT,\n",
    "                                       verbalizer=verbalizer,\n",
    "                                       auto_update_model=True,\n",
    "                                       init_method=PromptTuningInitMethods.TEXT,\n",
    "                                       init_text=soft_prompt_initialization_text\n",
    "                                       )"
   ]
  },
  {
   "cell_type": "code",
   "execution_count": 33,
   "id": "66732b71",
   "metadata": {},
   "outputs": [
    {
     "data": {
      "text/plain": [
       "{'base_model': {'model_id': 'google/flan-t5-xl'},\n",
       " 'accumulate_steps': 16,\n",
       " 'batch_size': 16,\n",
       " 'init_method': 'text',\n",
       " 'init_text': 'Classify if the following text belongs to the category credit card. Answer yes or no.',\n",
       " 'learning_rate': 0.3,\n",
       " 'max_input_tokens': 256,\n",
       " 'max_output_tokens': 20,\n",
       " 'num_epochs': 50,\n",
       " 'task_id': 'classification',\n",
       " 'tuning_type': 'prompt_tuning',\n",
       " 'verbalizer': 'Classify if the following text belongs to the category credit card. Answer yes or no. Input: {{input}} Output:',\n",
       " 'name': 'sample SDK run auto_update True on CFPB binary',\n",
       " 'description': 'Prompt tuning with SDK',\n",
       " 'auto_update_model': True,\n",
       " 'group_by_name': False}"
      ]
     },
     "execution_count": 33,
     "metadata": {},
     "output_type": "execute_result"
    }
   ],
   "source": [
    "prompt_tuner.get_params()"
   ]
  },
  {
   "cell_type": "markdown",
   "id": "c7e575c5",
   "metadata": {},
   "source": [
    "<a id=\"run_tuning\"></a>\n",
    "# Run Prompt Tuning\n",
    "\n",
    "We run a PT process of foundation models on top of the training data referenced by DataConnection (tuning may take some time).\n",
    "\n",
    "By setting the `background_mode` parameter to `True`, the PT process will run in the background."
   ]
  },
  {
   "cell_type": "code",
   "execution_count": 34,
   "id": "7f6072bb",
   "metadata": {
    "pycharm": {
     "is_executing": true
    }
   },
   "outputs": [],
   "source": [
    "tuning_details = prompt_tuner.run(training_data_references=[data_conn], background_mode=True)"
   ]
  },
  {
   "cell_type": "code",
   "execution_count": 35,
   "id": "9d80f8b9",
   "metadata": {},
   "outputs": [
    {
     "name": "stdout",
     "output_type": "stream",
     "text": [
      "{'metadata': {'created_at': '2024-02-11T12:17:35.901Z', 'description': 'Prompt tuning with SDK', 'id': 'abe8e7e4-d9db-4b8b-bd69-a63fa522e20a', 'modified_at': '2024-02-11T12:17:35.901Z', 'name': 'sample SDK run auto_update True on CFPB binary', 'project_id': '20dba8cf-1bf6-4b21-9ff0-9fa1baac5d54', 'tags': ['prompt_tuning', 'wx_prompt_tune.88fb69d0-3b32-4280-a771-dc69e356a83f']}, 'entity': {'auto_update_model': True, 'description': 'Prompt tuning with SDK', 'name': 'sample SDK run auto_update True on CFPB binary', 'project_id': '20dba8cf-1bf6-4b21-9ff0-9fa1baac5d54', 'prompt_tuning': {'accumulate_steps': 16, 'base_model': {'model_id': 'google/flan-t5-xl'}, 'batch_size': 16, 'init_method': 'text', 'init_text': 'Classify if the following text belongs to the category credit card. Answer yes or no.', 'learning_rate': 0.3, 'max_input_tokens': 256, 'max_output_tokens': 20, 'num_epochs': 50, 'num_virtual_tokens': 100, 'task_id': 'classification', 'tuning_type': 'prompt_tuning', 'verbalizer': 'Classify if the following text belongs to the category credit card. Answer yes or no. Input: {{input}} Output:'}, 'results_reference': {'connection': {}, 'location': {'assets_path': 'default_tuning_output/abe8e7e4-d9db-4b8b-bd69-a63fa522e20a/assets', 'path': 'default_tuning_output', 'training': 'default_tuning_output/abe8e7e4-d9db-4b8b-bd69-a63fa522e20a', 'training_status': 'default_tuning_output/abe8e7e4-d9db-4b8b-bd69-a63fa522e20a/training-status.json'}, 'type': 'container'}, 'status': {'state': 'pending'}, 'tags': ['prompt_tuning', 'wx_prompt_tune.88fb69d0-3b32-4280-a771-dc69e356a83f'], 'training_data_references': [{'connection': {}, 'location': {'href': '/v2/assets/d66ed11b-968e-4309-ba68-060d103a1509', 'id': 'd66ed11b-968e-4309-ba68-060d103a1509'}, 'type': 'data_asset'}]}}\n"
     ]
    }
   ],
   "source": [
    "print(tuning_details)"
   ]
  },
  {
   "cell_type": "markdown",
   "id": "ef02153f",
   "metadata": {},
   "source": [
    "PT over 1k examples of the CFPB data takes about 50 minutes. If `background_mode` is set to `True`, we use the following utility function to probe the status of training. Run this cell, and it will finish when training is completed."
   ]
  },
  {
   "cell_type": "code",
   "execution_count": 36,
   "id": "e38611b4",
   "metadata": {},
   "outputs": [],
   "source": [
    "import datetime"
   ]
  },
  {
   "cell_type": "code",
   "execution_count": 37,
   "id": "db0a6cf9-0d0c-4a2e-aa4e-a816303ee22a",
   "metadata": {},
   "outputs": [
    {
     "name": "stdout",
     "output_type": "stream",
     "text": [
      "start training at: 2024-02-11 14:17:37.097450\n"
     ]
    }
   ],
   "source": [
    "ct = datetime.datetime.now()\n",
    "print(\"start training at:\", ct)"
   ]
  },
  {
   "cell_type": "code",
   "execution_count": 38,
   "id": "9d9e51fb",
   "metadata": {},
   "outputs": [],
   "source": [
    "import time"
   ]
  },
  {
   "cell_type": "code",
   "execution_count": 39,
   "id": "23619253",
   "metadata": {},
   "outputs": [],
   "source": [
    "model_id = tuning_details['metadata']['id']"
   ]
  },
  {
   "cell_type": "code",
   "execution_count": 40,
   "id": "cc751515",
   "metadata": {
    "pycharm": {
     "is_executing": true
    }
   },
   "outputs": [],
   "source": [
    "def wait_till_model_is_ready(tuning_details):\n",
    "    while True:\n",
    "        status = prompt_tuner.get_run_status()\n",
    "        print(f'Model {model_id} is {status}')\n",
    "        if status == 'completed':\n",
    "            break\n",
    "        elif status not in ['initializing', 'pending', 'running']:\n",
    "            raise ValueError(f'Unexpected tune status: {status}')\n",
    "        time.sleep(60)"
   ]
  },
  {
   "cell_type": "code",
   "execution_count": 41,
   "id": "46759868",
   "metadata": {},
   "outputs": [
    {
     "name": "stdout",
     "output_type": "stream",
     "text": [
      "Model abe8e7e4-d9db-4b8b-bd69-a63fa522e20a is pending\n",
      "Model abe8e7e4-d9db-4b8b-bd69-a63fa522e20a is running\n",
      "Model abe8e7e4-d9db-4b8b-bd69-a63fa522e20a is running\n",
      "Model abe8e7e4-d9db-4b8b-bd69-a63fa522e20a is running\n",
      "Model abe8e7e4-d9db-4b8b-bd69-a63fa522e20a is running\n",
      "Model abe8e7e4-d9db-4b8b-bd69-a63fa522e20a is running\n",
      "Model abe8e7e4-d9db-4b8b-bd69-a63fa522e20a is running\n",
      "Model abe8e7e4-d9db-4b8b-bd69-a63fa522e20a is running\n",
      "Model abe8e7e4-d9db-4b8b-bd69-a63fa522e20a is running\n",
      "Model abe8e7e4-d9db-4b8b-bd69-a63fa522e20a is running\n",
      "Model abe8e7e4-d9db-4b8b-bd69-a63fa522e20a is running\n",
      "Model abe8e7e4-d9db-4b8b-bd69-a63fa522e20a is running\n",
      "Model abe8e7e4-d9db-4b8b-bd69-a63fa522e20a is running\n",
      "Model abe8e7e4-d9db-4b8b-bd69-a63fa522e20a is running\n",
      "Model abe8e7e4-d9db-4b8b-bd69-a63fa522e20a is running\n",
      "Model abe8e7e4-d9db-4b8b-bd69-a63fa522e20a is running\n",
      "Model abe8e7e4-d9db-4b8b-bd69-a63fa522e20a is running\n",
      "Model abe8e7e4-d9db-4b8b-bd69-a63fa522e20a is running\n",
      "Model abe8e7e4-d9db-4b8b-bd69-a63fa522e20a is running\n",
      "Model abe8e7e4-d9db-4b8b-bd69-a63fa522e20a is running\n",
      "Model abe8e7e4-d9db-4b8b-bd69-a63fa522e20a is running\n",
      "Model abe8e7e4-d9db-4b8b-bd69-a63fa522e20a is running\n",
      "Model abe8e7e4-d9db-4b8b-bd69-a63fa522e20a is running\n",
      "Model abe8e7e4-d9db-4b8b-bd69-a63fa522e20a is running\n",
      "Model abe8e7e4-d9db-4b8b-bd69-a63fa522e20a is running\n",
      "Model abe8e7e4-d9db-4b8b-bd69-a63fa522e20a is running\n",
      "Model abe8e7e4-d9db-4b8b-bd69-a63fa522e20a is running\n",
      "Model abe8e7e4-d9db-4b8b-bd69-a63fa522e20a is running\n",
      "Model abe8e7e4-d9db-4b8b-bd69-a63fa522e20a is running\n",
      "Model abe8e7e4-d9db-4b8b-bd69-a63fa522e20a is running\n",
      "Model abe8e7e4-d9db-4b8b-bd69-a63fa522e20a is running\n",
      "Model abe8e7e4-d9db-4b8b-bd69-a63fa522e20a is running\n",
      "Model abe8e7e4-d9db-4b8b-bd69-a63fa522e20a is running\n",
      "Model abe8e7e4-d9db-4b8b-bd69-a63fa522e20a is running\n",
      "Model abe8e7e4-d9db-4b8b-bd69-a63fa522e20a is running\n",
      "Model abe8e7e4-d9db-4b8b-bd69-a63fa522e20a is running\n",
      "Model abe8e7e4-d9db-4b8b-bd69-a63fa522e20a is running\n",
      "Model abe8e7e4-d9db-4b8b-bd69-a63fa522e20a is running\n",
      "Model abe8e7e4-d9db-4b8b-bd69-a63fa522e20a is running\n",
      "Model abe8e7e4-d9db-4b8b-bd69-a63fa522e20a is running\n",
      "Model abe8e7e4-d9db-4b8b-bd69-a63fa522e20a is running\n",
      "Model abe8e7e4-d9db-4b8b-bd69-a63fa522e20a is completed\n",
      "end training at: 2024-02-11 14:59:24.782243\n"
     ]
    }
   ],
   "source": [
    "wait_till_model_is_ready(tuning_details)\n",
    "\n",
    "ct = datetime.datetime.now()\n",
    "print(\"end training at:\", ct)"
   ]
  },
  {
   "cell_type": "markdown",
   "id": "89ad81e1",
   "metadata": {},
   "source": [
    "<a id=\"run_details\"></a>\n",
    "## PT details\n",
    "\n",
    "Get a summary of the tuning process."
   ]
  },
  {
   "cell_type": "code",
   "execution_count": 42,
   "id": "1ffb00d9",
   "metadata": {},
   "outputs": [
    {
     "data": {
      "text/html": [
       "<div>\n",
       "<style scoped>\n",
       "    .dataframe tbody tr th:only-of-type {\n",
       "        vertical-align: middle;\n",
       "    }\n",
       "\n",
       "    .dataframe tbody tr th {\n",
       "        vertical-align: top;\n",
       "    }\n",
       "\n",
       "    .dataframe thead th {\n",
       "        text-align: right;\n",
       "    }\n",
       "</style>\n",
       "<table border=\"1\" class=\"dataframe\">\n",
       "  <thead>\n",
       "    <tr style=\"text-align: right;\">\n",
       "      <th></th>\n",
       "      <th>Enhancements</th>\n",
       "      <th>Base model</th>\n",
       "      <th>Auto store</th>\n",
       "      <th>Epochs</th>\n",
       "      <th>loss</th>\n",
       "    </tr>\n",
       "    <tr>\n",
       "      <th>Model Name</th>\n",
       "      <th></th>\n",
       "      <th></th>\n",
       "      <th></th>\n",
       "      <th></th>\n",
       "      <th></th>\n",
       "    </tr>\n",
       "  </thead>\n",
       "  <tbody>\n",
       "    <tr>\n",
       "      <th>model_abe8e7e4-d9db-4b8b-bd69-a63fa522e20a</th>\n",
       "      <td>[prompt_tuning]</td>\n",
       "      <td>google/flan-t5-xl</td>\n",
       "      <td>True</td>\n",
       "      <td>50</td>\n",
       "      <td>0.073704</td>\n",
       "    </tr>\n",
       "  </tbody>\n",
       "</table>\n",
       "</div>"
      ],
      "text/plain": [
       "                                               Enhancements  \\\n",
       "Model Name                                                    \n",
       "model_abe8e7e4-d9db-4b8b-bd69-a63fa522e20a  [prompt_tuning]   \n",
       "\n",
       "                                                   Base model  Auto store  \\\n",
       "Model Name                                                                  \n",
       "model_abe8e7e4-d9db-4b8b-bd69-a63fa522e20a  google/flan-t5-xl        True   \n",
       "\n",
       "                                            Epochs      loss  \n",
       "Model Name                                                    \n",
       "model_abe8e7e4-d9db-4b8b-bd69-a63fa522e20a      50  0.073704  "
      ]
     },
     "execution_count": 42,
     "metadata": {},
     "output_type": "execute_result"
    }
   ],
   "source": [
    "prompt_tuner.summary()"
   ]
  },
  {
   "cell_type": "markdown",
   "id": "04a155f7",
   "metadata": {},
   "source": [
    "Plot the learning curves. The left most curve shows the loss over the epochs. A good tuning process is one where the loss gradually decreases as training progresses."
   ]
  },
  {
   "cell_type": "code",
   "execution_count": 43,
   "id": "b648349d",
   "metadata": {},
   "outputs": [
    {
     "data": {
      "image/png": "[encoded data removed]",
      "text/plain": [
       "<Figure size 1800x400 with 3 Axes>"
      ]
     },
     "metadata": {},
     "output_type": "display_data"
    }
   ],
   "source": [
    "prompt_tuner.plot_learning_curve()"
   ]
  },
  {
   "cell_type": "markdown",
   "id": "e641fac6",
   "metadata": {},
   "source": [
    "<a id=\"deploy\"></a>\n",
    "# Deploy\n",
    "\n",
    "We deploy the model using the `model_id` variable."
   ]
  },
  {
   "cell_type": "code",
   "execution_count": 44,
   "id": "1d41204c",
   "metadata": {},
   "outputs": [
    {
     "name": "stdout",
     "output_type": "stream",
     "text": [
      "794e7a33-1b61-47c2-8efc-556411e4bab9\n"
     ]
    }
   ],
   "source": [
    "model_id = prompt_tuner.get_run_details()['entity']['model_id']\n",
    "print(model_id)"
   ]
  },
  {
   "cell_type": "code",
   "execution_count": 45,
   "id": "3aa20c36",
   "metadata": {},
   "outputs": [
    {
     "name": "stdout",
     "output_type": "stream",
     "text": [
      "\n",
      "\n",
      "#######################################################################################\n",
      "\n",
      "Synchronous deployment creation for uid: '794e7a33-1b61-47c2-8efc-556411e4bab9' started\n",
      "\n",
      "#######################################################################################\n",
      "\n",
      "\n",
      "initializing\n",
      "ready\n",
      "\n",
      "\n",
      "------------------------------------------------------------------------------------------------\n",
      "Successfully finished deployment creation, deployment_uid='bb0a93ea-dfd8-4c00-b0ad-e94b8c1425f3'\n",
      "------------------------------------------------------------------------------------------------\n",
      "\n",
      "\n"
     ]
    }
   ],
   "source": [
    "meta_props = {\n",
    "    client.deployments.ConfigurationMetaNames.NAME: \"PT DEPLOYMENT SDK - project\",\n",
    "    client.deployments.ConfigurationMetaNames.ONLINE: {},\n",
    "    client.deployments.ConfigurationMetaNames.SERVING_NAME : f\"pt_sdk_deployment_{datetime.datetime.utcnow().strftime('%Y_%m_%d_%H%M%S')}\"\n",
    "}\n",
    "deployment_details = client.deployments.create(model_id, meta_props)"
   ]
  },
  {
   "cell_type": "markdown",
   "id": "e5e5ec6e",
   "metadata": {},
   "source": [
    "We store the deployment id, which will be used for inference."
   ]
  },
  {
   "cell_type": "code",
   "execution_count": null,
   "id": "d5da2ed1",
   "metadata": {},
   "outputs": [],
   "source": [
    "deployment_details"
   ]
  },
  {
   "cell_type": "code",
   "execution_count": 46,
   "id": "5595d5d1",
   "metadata": {},
   "outputs": [
    {
     "name": "stdout",
     "output_type": "stream",
     "text": [
      "bb0a93ea-dfd8-4c00-b0ad-e94b8c1425f3\n"
     ]
    }
   ],
   "source": [
    "deployment_id = client.deployments.get_id(deployment_details)\n",
    "print(deployment_id)"
   ]
  },
  {
   "cell_type": "markdown",
   "id": "d3a980ad",
   "metadata": {},
   "source": [
    "<a id=\"inference\"></a>\n",
    "# Run Foundation Models Inference on watsonx.ai\n",
    "\n"
   ]
  },
  {
   "cell_type": "markdown",
   "id": "739f8c87",
   "metadata": {},
   "source": [
    "We define the generation parameters. \n",
    "\n",
    "- We use `greedy` decoding method because we want the model to return the most probable response (yes or no) for the given text.\n",
    "- The overall token limit for inference of the tuned model is 4096 (inputs and outputs combined). 100 of them are saved for the tuned soft prompt, and 20 for the output, so 3976 tokens remain for the input. We set `TRUNCATE_INPUT_TOKENS` to 3975 to trim inputs which are longer than that."
   ]
  },
  {
   "cell_type": "code",
   "execution_count": 47,
   "id": "a35aefc7",
   "metadata": {},
   "outputs": [],
   "source": [
    "from ibm_watsonx_ai.metanames import GenTextParamsMetaNames as GenParams"
   ]
  },
  {
   "cell_type": "code",
   "execution_count": 48,
   "id": "5c4ab598",
   "metadata": {},
   "outputs": [],
   "source": [
    "generate_params = {\n",
    "    GenParams.MAX_NEW_TOKENS: 20,\n",
    "    GenParams.DECODING_METHOD: 'greedy',\n",
    "    GenParams.MIN_NEW_TOKENS: 1,\n",
    "    GenParams.TRUNCATE_INPUT_TOKENS: 3975,\n",
    "}"
   ]
  },
  {
   "cell_type": "markdown",
   "id": "d723c4ea",
   "metadata": {},
   "source": [
    "We define an instance of `ModelInference` using the `deployment_id` and the generation parameters."
   ]
  },
  {
   "cell_type": "code",
   "execution_count": 49,
   "id": "8c7d6da5",
   "metadata": {},
   "outputs": [],
   "source": [
    "from ibm_watsonx_ai.foundation_models import ModelInference"
   ]
  },
  {
   "cell_type": "code",
   "execution_count": 50,
   "id": "49d430fc",
   "metadata": {},
   "outputs": [],
   "source": [
    "tuned_model = ModelInference(\n",
    "    deployment_id=deployment_id,\n",
    "    params=generate_params,\n",
    "    api_client=client\n",
    ")"
   ]
  },
  {
   "cell_type": "markdown",
   "id": "2fad2826",
   "metadata": {},
   "source": [
    "## Run inference\n",
    "\n",
    "If you chose to run with the demo data, we take the test data from the original CFPB dataframe. Otherwise, the test data is taken from the path specified in the variable `test_filepath` in the cell `Use your own data`.\n",
    "\n",
    "Note: We perform the same preprocessing for the test set as done for the train set. It is assumed they share identical column names."
   ]
  },
  {
   "cell_type": "code",
   "execution_count": 51,
   "id": "b8b3952b",
   "metadata": {},
   "outputs": [],
   "source": [
    "def get_demo_test_data(df):\n",
    "    return df.loc[1000:1999, :]\n",
    "\n",
    "def get_test_data(filepath):\n",
    "    return pd.read_csv(filepath)"
   ]
  },
  {
   "cell_type": "code",
   "execution_count": 52,
   "id": "c32437d2",
   "metadata": {},
   "outputs": [],
   "source": [
    "if not use_your_own_data:\n",
    "    test_df = get_demo_test_data(df)\n",
    "else:\n",
    "    if test_filepath is None:\n",
    "        raise Exception(\"you need set a path to a test file to continue (in cell \\\"Use your own data\\\")\")\n",
    "    test_df = get_test_data(test_filepath)\n",
    "    test_df = preprocess_format(test_df)\n",
    "    test_df = preprocess_multiclass_to_binary(test_df, text_column, label_column, positive_label_name)"
   ]
  },
  {
   "cell_type": "markdown",
   "id": "0b4bf41e",
   "metadata": {},
   "source": [
    "We check there are both positive and negative examples in the test set."
   ]
  },
  {
   "cell_type": "code",
   "execution_count": 53,
   "id": "cd9e8c4c",
   "metadata": {},
   "outputs": [
    {
     "name": "stdout",
     "output_type": "stream",
     "text": [
      "Your test data contains 180 positive and 820 negative examples\n"
     ]
    }
   ],
   "source": [
    "eval_classes = set(test_df[\"output\"])\n",
    "if (len(eval_classes)) < 2:\n",
    "    print(f'Note, you only have {\"positive\" if \"yes\" in eval_classes else \"negative\"} examples in your test set. It could be hard to deduce how well the model performs on them.')\n",
    "else:\n",
    "    print(f\"Your test data contains {sum(test_df['output']=='yes')} positive and {sum(test_df['output']=='no')} negative examples\")"
   ]
  },
  {
   "cell_type": "code",
   "execution_count": 54,
   "id": "08c7a7bb",
   "metadata": {},
   "outputs": [],
   "source": [
    "prompts_batch = test_df[\"input\"].tolist()\n",
    "labels = test_df[\"output\"].tolist()"
   ]
  },
  {
   "cell_type": "markdown",
   "id": "879f167b",
   "metadata": {},
   "source": [
    "We infer the tuned model over the test data.\n",
    "\n",
    "Our model is expected to output `yes` for positive labels and `no` for negative ones, but occasionally the output of the model may yield a result which is not part of the original options. From our experiments, such hallucinations usually occur for ~1% of the examples on average.\n",
    "\n",
    "For this purpose we use a utility function from the `difflib` package to find the most similar class to the generated text. If none is found, we classify this example as negative.\n",
    "\n",
    "Note: In case inference fails, you may want to re-run the `Deploy` section and then try inference again."
   ]
  },
  {
   "cell_type": "code",
   "execution_count": 55,
   "id": "4e1e078d",
   "metadata": {},
   "outputs": [],
   "source": [
    "import difflib"
   ]
  },
  {
   "cell_type": "code",
   "execution_count": 56,
   "id": "e1499ec4",
   "metadata": {},
   "outputs": [
    {
     "name": "stdout",
     "output_type": "stream",
     "text": [
      "Running inference on 1000 examples\n",
      "elapsed time: 76.77604627609253\n"
     ]
    }
   ],
   "source": [
    "possible_predictions = ['yes', 'no']\n",
    "start = time.time()\n",
    "print(f\"Running inference on {len(prompts_batch)} examples\")\n",
    "predictions = tuned_model.generate_text(prompt=prompts_batch)\n",
    "predictions = [(difflib.get_close_matches(res, possible_predictions) + ['no'])[0] for res in predictions]\n",
    "end = time.time()\n",
    "print(f\"elapsed time: {end - start}\")"
   ]
  },
  {
   "cell_type": "markdown",
   "id": "0dde0804",
   "metadata": {},
   "source": [
    "<a id=\"evaluation\"></a>\n",
    "# Evaluate the tuned model\n",
    "\n",
    "We evaluate the predictions with respect to the labels. We calculate accuracy, macro-f1 and f1 per class. Naturally, we are most interested in the f1 of the positive class."
   ]
  },
  {
   "cell_type": "code",
   "execution_count": 57,
   "id": "aef5ea94",
   "metadata": {},
   "outputs": [],
   "source": [
    "from sklearn.metrics import f1_score, classification_report"
   ]
  },
  {
   "cell_type": "code",
   "execution_count": 58,
   "id": "2b54ab71",
   "metadata": {},
   "outputs": [],
   "source": [
    "def print_metrics(labels, predictions):\n",
    "    f1 = f1_score(y_true=labels, y_pred=predictions, pos_label='yes')\n",
    "    print(f'f1 score of {class_name} = ' + '{:.2f}'.format(f1))\n",
    "    print('-- full classification report: --')\n",
    "    print(classification_report(y_true=labels, y_pred=predictions))"
   ]
  },
  {
   "cell_type": "code",
   "execution_count": 59,
   "id": "73a469f9",
   "metadata": {},
   "outputs": [
    {
     "name": "stdout",
     "output_type": "stream",
     "text": [
      "f1 score of credit card = 0.74\n",
      "-- full classification report: --\n",
      "              precision    recall  f1-score   support\n",
      "\n",
      "          no       0.95      0.93      0.94       820\n",
      "         yes       0.71      0.77      0.74       180\n",
      "\n",
      "    accuracy                           0.90      1000\n",
      "   macro avg       0.83      0.85      0.84      1000\n",
      "weighted avg       0.91      0.90      0.90      1000\n",
      "\n"
     ]
    }
   ],
   "source": [
    "print_metrics(labels, predictions)"
   ]
  },
  {
   "cell_type": "markdown",
   "id": "433536ff",
   "metadata": {},
   "source": [
    "## Compare to base model\n",
    "\n",
    "This cell is optional, and is used to compare the tuned model to the same model in a zero-shot setup. On the dataset we are using in this notebook, the gain with the tuned model is around ~9 macro-f1 points.\n",
    "\n",
    "We initialize the `ModelInference` class with base model, and infer over the test data.\n",
    "\n",
    "We need to provide the base model with the zero-shot prompt for the task. We use the prompt that is defined in the `verbalizer`."
   ]
  },
  {
   "cell_type": "code",
   "execution_count": 60,
   "id": "acb3eaf7",
   "metadata": {},
   "outputs": [],
   "source": [
    "base_model = ModelInference(\n",
    "    model_id=ModelTypes.FLAN_T5_XL,\n",
    "    params=generate_params,\n",
    "    api_client=client\n",
    ")"
   ]
  },
  {
   "cell_type": "code",
   "execution_count": 61,
   "id": "d220b70b",
   "metadata": {},
   "outputs": [],
   "source": [
    "base_prompts_batch = [verbalizer.replace(\"{{input}}\", text) for text in test_df[\"input\"]]"
   ]
  },
  {
   "cell_type": "code",
   "execution_count": 63,
   "id": "ef28501a",
   "metadata": {},
   "outputs": [],
   "source": [
    "base_predictions = base_model.generate_text(prompt=base_prompts_batch)\n",
    "base_predictions = [(difflib.get_close_matches(res, possible_predictions) + ['no'])[0] for res in base_predictions]"
   ]
  },
  {
   "cell_type": "code",
   "execution_count": 64,
   "id": "c25d536b",
   "metadata": {},
   "outputs": [
    {
     "name": "stdout",
     "output_type": "stream",
     "text": [
      "f1 score of credit card = 0.65\n",
      "-- full classification report: --\n",
      "              precision    recall  f1-score   support\n",
      "\n",
      "          no       0.92      0.95      0.93       820\n",
      "         yes       0.71      0.61      0.65       180\n",
      "\n",
      "    accuracy                           0.88      1000\n",
      "   macro avg       0.81      0.78      0.79      1000\n",
      "weighted avg       0.88      0.88      0.88      1000\n",
      "\n"
     ]
    }
   ],
   "source": [
    "print_metrics(labels, base_predictions)"
   ]
  },
  {
   "cell_type": "markdown",
   "id": "f5a1a199",
   "metadata": {},
   "source": [
    "## Compute confusion matrix\n",
    "\n",
    "For error analysis, we compute a confusion matrix using model predictions versus the gold labels, over the test set."
   ]
  },
  {
   "cell_type": "code",
   "execution_count": 65,
   "id": "d3307c2e",
   "metadata": {},
   "outputs": [],
   "source": [
    "from sklearn.metrics import confusion_matrix"
   ]
  },
  {
   "cell_type": "code",
   "execution_count": 66,
   "id": "f3b62a04",
   "metadata": {},
   "outputs": [],
   "source": [
    "def compute_confusition_matrix(labels, predictions):\n",
    "    cm = confusion_matrix(y_true=labels, y_pred=predictions, labels=possible_predictions)\n",
    "    df = pd.DataFrame(cm)\n",
    "    df.columns = possible_predictions\n",
    "    df.index = possible_predictions\n",
    "    print(df)"
   ]
  },
  {
   "cell_type": "code",
   "execution_count": 67,
   "id": "c5f252f9",
   "metadata": {},
   "outputs": [
    {
     "name": "stdout",
     "output_type": "stream",
     "text": [
      "     yes   no\n",
      "yes  138   42\n",
      "no    56  764\n"
     ]
    }
   ],
   "source": [
    "compute_confusition_matrix(labels, predictions)"
   ]
  },
  {
   "cell_type": "markdown",
   "id": "1d2a6721-32bb-4f5d-9459-24e6a59d6014",
   "metadata": {},
   "source": [
    "<a id=\"benchmark\"></a>\n",
    "# Benchmark Results\n",
    "\n",
    "We compare the performance of PT with a Flan-T5-xl model tuned over 1K randomly selected labeled examples to a zero-shot Flan-t5-xl model. The evaluation is performed over 6 benchmark datasets, each data containing several classes. For each class, we run 3 PT processes and report the average f1 on the test set. Then, for each dataset we report the macro-f1 average over the results of each class. \n",
    "\n",
    "Our results show an average gain of 24 points when using PT over 1K examples. \n",
    "\n",
    "More details regarding the datasets:\n",
    "\n",
    "* Watson Sentiment is an IBM internal dataset, while the rest are publicly available.\n",
    "* Testing of all models is done on a separate random sample of 1K examples.\n",
    "* Banking, News Classification and Ledgar datasets originally contain more than 5 classes. Due to limitation of resources, the results reported here are on 5 classes selected at random for each dataset."
   ]
  },
  {
   "cell_type": "markdown",
   "id": "cf27fca4-5e93-4077-a0a6-d6edc388cc1d",
   "metadata": {},
   "source": [
    "| Dataset | Number of classes | Zero-shot| PT (this notebook)|\n",
    "| --- | :-: | :-:| :-:|\n",
    "|Watson Sentiment|  3 | 0.58 | 0.78\n",
    "|CFPB   | 9  | 0.59 | 0.66 \n",
    "|Ledgar (5 classes)|  5  | 0.31 | 0.63 \n",
    "|Banking (5 classes) | 5 | 0.41 |  0.84  \n",
    "|News Classification (5 classes) | 5 | 0.46 | 0.57 \n",
    "|20 Newsgroup       | 20 | 0.55 | 0.76 \n",
    "| ***Mean*** |  | 0.48 | 0.72 "
   ]
  },
  {
   "cell_type": "markdown",
   "id": "d501fa0d",
   "metadata": {},
   "source": [
    "<a id=\"summary\"></a>\n",
    "# Summary\n",
    "\n",
    "Congratulations, you have successfully trained a model using watsonx PT!\n",
    "\n",
    "Check out our <a href=\"https://ibm.github.io/watson-machine-learning-sdk/\" target=\"_blank\" rel=\"noopener no referrer\">Online Documentation</a> for more samples, tutorials, documentation, how-tos, and blog posts.\n",
    "\n",
    "**Author: Lena Dankin**, LM Utilization Team, IBM Research.\n",
    "\n",
    "Copyright © 2024 IBM. This notebook and its source code are released under the terms of the MIT License."
   ]
  }
 ],
 "metadata": {
  "kernelspec": {
   "display_name": "Python 3 (ipykernel)",
   "language": "python",
   "name": "python3"
  },
  "language_info": {
   "codemirror_mode": {
    "name": "ipython",
    "version": 3
   },
   "file_extension": ".py",
   "mimetype": "text/x-python",
   "name": "python",
   "nbconvert_exporter": "python",
   "pygments_lexer": "ipython3",
   "version": "3.10.4"
  }
 },
 "nbformat": 4,
 "nbformat_minor": 5
}
