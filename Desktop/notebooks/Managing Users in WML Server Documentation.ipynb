{
 "cells": [
  {
   "cell_type": "markdown",
   "metadata": {},
   "source": [
    "# WML Server Documentation - Managing Users"
   ]
  },
  {
   "cell_type": "markdown",
   "metadata": {},
   "source": [
    "# https://www.ibm.com/support/knowledgecenter/SS3PWM_1.0.0/wsj/wmls/wmls-manage-users.html"
   ]
  },
  {
   "cell_type": "code",
   "execution_count": null,
   "metadata": {},
   "outputs": [],
   "source": [
    "# Provide Admin User, Password and Hostname of WML Server\n",
    "WS_USER = \"<ADMIN_USER_NAME>\"\n",
    "WS_PASSWORD = \"<ADMIN_PASSWORD>\"\n",
    "\n",
    "WML_SERVICES_URL = \"https://<HOSTNAME_WML_SERVER>:31843\"\n",
    "\n",
    "import urllib3\n",
    "import json\n",
    "import requests\n",
    "from string import Template"
   ]
  },
  {
   "cell_type": "markdown",
   "metadata": {},
   "source": [
    "# Generate Token"
   ]
  },
  {
   "cell_type": "code",
   "execution_count": null,
   "metadata": {},
   "outputs": [],
   "source": [
    "# Construct Admin Authorization Token - Base64 format of \"ADMIN_USER:ADMIN_PASSWORD\"\n",
    "token_resp = requests.get(WML_SERVICES_URL + \"/v1/preauth/validateAuth\",\n",
    "                          headers={\"Authorization\": \"Basic <AUTHORIZATION_TOKEN>\"}, verify=False)\n",
    "token = \"Bearer \" + json.loads(token_resp.content.decode(\"utf-8\"))[\"accessToken\"]\n",
    "print(\"WML Server token: %s \" % token)"
   ]
  },
  {
   "cell_type": "markdown",
   "metadata": {},
   "source": [
    "## Adding a user"
   ]
  },
  {
   "cell_type": "code",
   "execution_count": null,
   "metadata": {},
   "outputs": [],
   "source": [
    "# Provider User name\n",
    "USER_NAME=\"<USER_NAME>\""
   ]
  },
  {
   "cell_type": "code",
   "execution_count": null,
   "metadata": {},
   "outputs": [],
   "source": [
    "ADD_USER_PAYLOAD=\"\"\"\n",
    "{\"username\":\"USER_NAME\",\"displayName\":\"wml user\",\"role\":\"Admin\",\"password\":\"password\"}\n",
    "\"\"\".replace(\"USER_NAME\", USER_NAME)\n",
    "print(ADD_USER_PAYLOAD)"
   ]
  },
  {
   "cell_type": "code",
   "execution_count": null,
   "metadata": {},
   "outputs": [],
   "source": [
    "resp = requests.post(WML_SERVICES_URL + \"/v1/user\", \n",
    "                                   headers={\"Content-Type\": \"application/json\",\n",
    "                                   \"Authorization\": token}, data=ADD_USER_PAYLOAD)"
   ]
  },
  {
   "cell_type": "code",
   "execution_count": null,
   "metadata": {},
   "outputs": [],
   "source": [
    "username=json.loads(resp.content.decode(\"utf-8\"))['id']\n",
    "print(\"Added user: \"+ username)"
   ]
  },
  {
   "cell_type": "markdown",
   "metadata": {},
   "source": [
    "## Removing a user"
   ]
  },
  {
   "cell_type": "code",
   "execution_count": null,
   "metadata": {},
   "outputs": [],
   "source": [
    "# Get User Role information\n",
    "# Construct Admin Authorization Token - Base64 format of \"ADMIN_USER:ADMIN_PASSWORD\"\n",
    "resp = requests.delete(WML_SERVICES_URL + \"/v1/user/\" + USER_NAME,\n",
    "                          headers={\"Authorization\": \"Basic <ADMIN_AUTHORIZATION_TOKEN>\"}, verify=False)"
   ]
  },
  {
   "cell_type": "code",
   "execution_count": null,
   "metadata": {},
   "outputs": [],
   "source": [
    "delete_user_response = json.loads(resp.content.decode(\"utf-8\"))['message']\n",
    "print(\"Delete User Status: \"+ delete_user_response)"
   ]
  }
 ],
 "metadata": {
  "kernelspec": {
   "display_name": "Python 3",
   "language": "python",
   "name": "python3"
  },
  "language_info": {
   "codemirror_mode": {
    "name": "ipython",
    "version": 3
   },
   "file_extension": ".py",
   "mimetype": "text/x-python",
   "name": "python",
   "nbconvert_exporter": "python",
   "pygments_lexer": "ipython3",
   "version": "3.7.4"
  }
 },
 "nbformat": 4,
 "nbformat_minor": 2
}
