{
 "cells": [
  {
   "cell_type": "markdown",
   "metadata": {},
   "source": [
    "# Analyze open data sets with Spark and PixieDust\n",
    "\n",
    "In this notebook, you'll learn how to use open data from the data sets on the Watson Studio home page in a Python notebook. You will load, and clean the data with Spark DataFrames. You'll explore the data with PixieDust graphs.\n",
    "\n",
    "Some familiarity with Python is recommended. This notebook runs on Python 3.6 with Spark.\n",
    "\n",
    "The data sets for this notebook are from the World Development Indicators (WDI) data set. The WDI data set is a statistical benchmark that helps measure the progress of human development. The WDI data set draws on data from the World Bank and more than 30 partners. The data contains seven key development variables, sorted by country and year.\n",
    "\n",
    "## Learning goals\n",
    "\n",
    "1. Access data from the Watson Studio home page.\n",
    "1. Merge multiple data sets in Spark DataFrames.\n",
    "1. Structure data for analysis.\n",
    "1. Generate summary statistics.\n",
    "1. Create charts with custom formatting."
   ]
  },
  {
   "cell_type": "markdown",
   "metadata": {},
   "source": [
    "## Table of contents\n",
    "The main parts of this notebook are:\n",
    "1. [Load data into DataFrames](#load)\n",
    "    1. [Load the first data set](#first)\n",
    "    1. [Load another data set](#loadsecond)\n",
    "    1. [Join the DataFrames](#joindataframes)\n",
    "    1. [Add more data](#loadmore)  \n",
    "1. [Check the data](#check)\n",
    "1. [Analyze the data](#analysis)\n",
    "    1. [Create graphs with PixieDust](#creategraphs)<br>\n",
    "1. [Summary and next steps](#summary)"
   ]
  },
  {
   "cell_type": "markdown",
   "metadata": {},
   "source": [
    "<a id=\"load\"></a>\n",
    "## 1. Load data into Spark DataFrames via Object Storage\n",
    "\n",
    "To load the data, you obtain access key links and put them into the code to create a Spark DataFrame. You will load data into multiple DataFrames, merge the DataFrames and create a MultiIndex to structure the data for analysis."
   ]
  },
  {
   "cell_type": "markdown",
   "metadata": {},
   "source": [
    "<a id=\"first\"></a>\n",
    "### A. Load the first data set\n",
    "\n",
    "The first data set that you'll load contains life expectancy data.\n",
    "\n",
    "One of the easiest ways to load data into a Spark DataFrame is using Object Storage on Watson Studio, which is what we'll use to load the first data set.\n",
    "Find the data set and get the download link:\n",
    "1. Go to this card in the DSX Community: <a href=\"https://dataplatform.cloud.ibm.com/exchange/public/entry/view/f15be429051727172e0d0c226e2ce895\" target=\"_blank\" rel=\"noopener noreferrer\">Life expectancy at birth by country in total years</a>.\n",
    "1. Click the download button and save the file.\n",
    "1. Close the tab and return to your notebook.\n",
    "1. Click the **Data** (1010) button.\n",
    "1. Browse for your file, or drag it into the box.\n",
    "1. After the file loads, click in the next cell, then click **Insert to code > Insert SparkSession DataFrame** below the file name.\n",
    "1. Change the name of the DataFrame from `df_data_1` to `df_life` in the fifth to last and last lines.\n",
    "1. Run the cell. "
   ]
  },
  {
   "cell_type": "code",
   "execution_count": 1,
   "metadata": {},
   "outputs": [
    {
     "name": "stdout",
     "output_type": "stream",
     "text": [
      "Waiting for a Spark session to start...\n",
      "Spark Initialization Done! ApplicationId = app-20190526114933-0000\n",
      "KERNEL_ID = a95fc732-9733-4b35-bd34-70314556a303\n"
     ]
    },
    {
     "data": {
      "text/plain": [
       "[Row(Country or Area='Afghanistan', Year='2012', Value='60.5091219512195', Value Footnotes=None),\n",
       " Row(Country or Area='Afghanistan', Year='2011', Value='60.0653658536585', Value Footnotes=None),\n",
       " Row(Country or Area='Afghanistan', Year='2010', Value='59.6000975609756', Value Footnotes=None),\n",
       " Row(Country or Area='Afghanistan', Year='2009', Value='59.1123414634146', Value Footnotes=None),\n",
       " Row(Country or Area='Afghanistan', Year='2008', Value='58.6070975609756', Value Footnotes=None)]"
      ]
     },
     "execution_count": 1,
     "metadata": {},
     "output_type": "execute_result"
    }
   ],
   "source": [
    "# click here and then Insert to code > Insert SparkSession DataFrame\n"
   ]
  },
  {
   "cell_type": "markdown",
   "metadata": {},
   "source": [
    "Now let's format the data. First use `registerDataFrameAsTable()` to rename columns and convert the DataFrame to a table named `df_life`. As you only need a subset of the columns, use `sqlContext.sql()` to return values for the country, year, and population total. To make sure that the values are numeric use `.cast(\"double\")`. Use the `createOrReplaceTempView()` method for easy data access and transformation later on. Finally, preview the data to make sure everything looks correct using `show()`."
   ]
  },
  {
   "cell_type": "code",
   "execution_count": 2,
   "metadata": {},
   "outputs": [
    {
     "name": "stdout",
     "output_type": "stream",
     "text": [
      "+-----------+----+----------------+\n",
      "|    Country|Year|            Life|\n",
      "+-----------+----+----------------+\n",
      "|Afghanistan|2012|60.5091219512195|\n",
      "|Afghanistan|2011|60.0653658536585|\n",
      "|Afghanistan|2010|59.6000975609756|\n",
      "|Afghanistan|2009|59.1123414634146|\n",
      "|Afghanistan|2008|58.6070975609756|\n",
      "|Afghanistan|2007|58.0913658536585|\n",
      "|Afghanistan|2006|57.5706585365854|\n",
      "|Afghanistan|2005|57.0584390243903|\n",
      "|Afghanistan|2004|56.5697317073171|\n",
      "|Afghanistan|2003|56.1075609756098|\n",
      "+-----------+----+----------------+\n",
      "only showing top 10 rows\n",
      "\n"
     ]
    }
   ],
   "source": [
    "sqlContext.registerDataFrameAsTable(df_life, \"myTable\")\n",
    "df_life = sqlContext.sql(\"SELECT `Country or Area` as Country, Year, Value as Life FROM myTable\")\n",
    "df_life = df_life.withColumn(\"Life\", df_life[\"Life\"].cast(\"double\"))\n",
    "df_life.createOrReplaceTempView('life')\n",
    "df_life.show(10)"
   ]
  },
  {
   "cell_type": "markdown",
   "metadata": {},
   "source": [
    "<a id=\"loadsecond\"></a>\n",
    "### B. Load another data set\n",
    "\n",
    "The life expectancy figures are more meaningful if you combine them with other data sets. Another way to load data into a Spark DataFrame is by using <a href=\"https://pixiedust.github.io/pixiedust/\" target=\"_blank\" rel=\"noopener noreferrer\">PixieDust</a>, a powerful Python package with a wide range of capabilities. The PixieDust library is installed on Watson Studio, so you just need to import it."
   ]
  },
  {
   "cell_type": "code",
   "execution_count": 3,
   "metadata": {},
   "outputs": [
    {
     "name": "stdout",
     "output_type": "stream",
     "text": [
      "Pixiedust database opened successfully\n",
      "Table VERSION_TRACKER created successfully\n",
      "Table METRICS_TRACKER created successfully\n",
      "\n",
      "Share anonymous install statistics? (opt-out instructions)\n",
      "\n",
      "PixieDust will record metadata on its environment the next time the package is installed or updated. The data is anonymized and aggregated to help plan for future releases, and records only the following values:\n",
      "\n",
      "{\n",
      "   \"data_sent\": currentDate,\n",
      "   \"runtime\": \"python\",\n",
      "   \"application_version\": currentPixiedustVersion,\n",
      "   \"space_id\": nonIdentifyingUniqueId,\n",
      "   \"config\": {\n",
      "       \"repository_id\": \"https://github.com/ibm-watson-data-lab/pixiedust\",\n",
      "       \"target_runtimes\": [\"Data Science Experience\"],\n",
      "       \"event_id\": \"web\",\n",
      "       \"event_organizer\": \"dev-journeys\"\n",
      "   }\n",
      "}\n",
      "You can opt out by calling pixiedust.optOut() in a new cell.\n"
     ]
    },
    {
     "data": {
      "text/html": [
       "\n",
       "        <div style=\"margin:10px\">\n",
       "            <a href=\"https://github.com/ibm-watson-data-lab/pixiedust\" target=\"_new\">\n",
       "                <img src=\"https://github.com/ibm-watson-data-lab/pixiedust/raw/master/docs/_static/pd_icon32.png\" style=\"float:left;margin-right:10px\"/>\n",
       "            </a>\n",
       "            <span>Pixiedust version 1.1.16</span>\n",
       "        </div>\n",
       "        "
      ],
      "text/plain": [
       "<IPython.core.display.HTML object>"
      ]
     },
     "metadata": {},
     "output_type": "display_data"
    },
    {
     "name": "stdout",
     "output_type": "stream",
     "text": [
      "\u001b[31mPixiedust runtime updated. Please restart kernel\u001b[0m\n",
      "Table SPARK_PACKAGES created successfully\n",
      "Table USER_PREFERENCES created successfully\n",
      "Table service_connections created successfully\n"
     ]
    }
   ],
   "source": [
    "import pixiedust"
   ]
  },
  {
   "cell_type": "markdown",
   "metadata": {},
   "source": [
    "If you get a message that you need to upgrade PixieDust, remove the `#` and run the following cell, restart your kernel from the **Kernel** menu, and then rerun the previous cells to reload the data and to import PixieDust."
   ]
  },
  {
   "cell_type": "code",
   "execution_count": 4,
   "metadata": {},
   "outputs": [],
   "source": [
    "# !pip install --user --upgrade pixiedust"
   ]
  },
  {
   "cell_type": "markdown",
   "metadata": {},
   "source": [
    "You can access data easily with the PixieDust `sampleData()` method:\n",
    "1. Go to the card on the Watson Studio community: <a href=\"https://dataplatform.cloud.ibm.com/exchange/public/entry/view/889ca053a19986a4445839358a91963e\" target=\"_blank\" rel=\"noopener noreferrer\">Total population by country</a>\n",
    "1. Click the link button and copy the Data Access Link.\n",
    "1. In the next cell, replace the text `DATA ACCESS LINK` in the `sampleData` function with the data access link. "
   ]
  },
  {
   "cell_type": "code",
   "execution_count": 5,
   "metadata": {},
   "outputs": [
    {
     "name": "stdout",
     "output_type": "stream",
     "text": [
      "Downloading 'https://dataplatform.cloud.ibm.com/data/exchange-api/v1/entries/889ca053a19986a4445839358a91963e/data?accessKey=ac19f86974bc6a0506a77858d5bed758' from https://dataplatform.cloud.ibm.com/data/exchange-api/v1/entries/889ca053a19986a4445839358a91963e/data?accessKey=ac19f86974bc6a0506a77858d5bed758\n",
      "Downloaded 442232 bytes\n",
      "Creating pySpark DataFrame for 'https://dataplatform.cloud.ibm.com/data/exchange-api/v1/entries/889ca053a19986a4445839358a91963e/data?accessKey=ac19f86974bc6a0506a77858d5bed758'. Please wait...\n",
      "Loading file using 'SparkSession'\n",
      "Successfully created pySpark DataFrame for 'https://dataplatform.cloud.ibm.com/data/exchange-api/v1/entries/889ca053a19986a4445839358a91963e/data?accessKey=ac19f86974bc6a0506a77858d5bed758'\n"
     ]
    }
   ],
   "source": [
    "# replace DATA ACCESS LINK with your data access link\n",
    "df_pop = pixiedust.sampleData('DATA ACCESS LINK')"
   ]
  },
  {
   "cell_type": "markdown",
   "metadata": {},
   "source": [
    "As before register the DataFrame as the `population` table and include only the country, year, and population value in the table. Then create a local temporary view `population` to use later."
   ]
  },
  {
   "cell_type": "code",
   "execution_count": 6,
   "metadata": {
    "scrolled": true
   },
   "outputs": [
    {
     "name": "stdout",
     "output_type": "stream",
     "text": [
      "root\n",
      " |-- Country: string (nullable = true)\n",
      " |-- Year: integer (nullable = true)\n",
      " |-- Population: long (nullable = true)\n",
      "\n"
     ]
    }
   ],
   "source": [
    "sqlContext.registerDataFrameAsTable(df_pop, \"PopTable\")\n",
    "df_pop = sqlContext.sql(\"SELECT `Country or Area` as Country, Year, Value as Population FROM PopTable\")\n",
    "df_pop.createOrReplaceTempView('population')\n",
    "df_pop.printSchema()"
   ]
  },
  {
   "cell_type": "code",
   "execution_count": 7,
   "metadata": {},
   "outputs": [
    {
     "name": "stdout",
     "output_type": "stream",
     "text": [
      "+-----------+----+----------+\n",
      "|    Country|Year|Population|\n",
      "+-----------+----+----------+\n",
      "|Afghanistan|2013|  30551674|\n",
      "|Afghanistan|2012|  29824536|\n",
      "|Afghanistan|2011|  29105480|\n",
      "|Afghanistan|2010|  28397812|\n",
      "|Afghanistan|2009|  27708187|\n",
      "|Afghanistan|2008|  27032197|\n",
      "|Afghanistan|2007|  26349243|\n",
      "|Afghanistan|2006|  25631282|\n",
      "|Afghanistan|2005|  24860855|\n",
      "|Afghanistan|2004|  24018682|\n",
      "+-----------+----+----------+\n",
      "only showing top 10 rows\n",
      "\n"
     ]
    }
   ],
   "source": [
    "df_pop.show(10)"
   ]
  },
  {
   "cell_type": "markdown",
   "metadata": {},
   "source": [
    "Find out how many countries are listed in the `life` and `population` tables by collecting the unique country names in each:  "
   ]
  },
  {
   "cell_type": "code",
   "execution_count": 8,
   "metadata": {},
   "outputs": [
    {
     "name": "stdout",
     "output_type": "stream",
     "text": [
      "number of countries in life: 246\n",
      "number of countries in population: 245\n"
     ]
    }
   ],
   "source": [
    "print (\"number of countries in life:\", spark.sql('SELECT COUNT(DISTINCT Country) from life').collect()[0][0])\n",
    "print (\"number of countries in population:\", spark.sql('SELECT COUNT(DISTINCT Country) from population').collect()[0][0])"
   ]
  },
  {
   "cell_type": "markdown",
   "metadata": {},
   "source": [
    "<a id=\"joindataframes\"></a>\n",
    "### C. Join DataFrames\n",
    "\n",
    "As you can see, the two data sets do not fit together perfectly: one contains more countries than the other. When you join two DataFrames, it is common to introduce nulls or NaNs (a value that is not a number when a number is expected) into the resulting DataFrame.\n",
    "\n",
    "Use the `join` function to merge the data together. The first parameter is the name of the DataFrame to add, next is the fields to join the two DataFrames on, and third is the kind of join to perform. In this case, you want to do an outer join to keep the data from both `df_life` and `df_pop`. Here the join is done on both the `Country` and `Year` columns. To see more options for the `join` function, see <a href=\"http://spark.apache.org/docs/2.1.0/api/python/pyspark.sql.html?highlight=join#pyspark.sql.DataFrame.join\" target=\"_blank\" rel=\"noopener no referrer\">Joins in Spark</a>. "
   ]
  },
  {
   "cell_type": "code",
   "execution_count": 9,
   "metadata": {},
   "outputs": [
    {
     "name": "stdout",
     "output_type": "stream",
     "text": [
      "+-----------+--------------------+----------------+----------+\n",
      "|    Country|                Year|            Life|Population|\n",
      "+-----------+--------------------+----------------+----------+\n",
      "|          2|Derived using lin...|            null|      null|\n",
      "|          3|Derived using lin...|            null|      null|\n",
      "|          4|Derived using ext...|            null|      null|\n",
      "|          5|Derived using int...|            null|      null|\n",
      "|          6|Derived using ext...|            null|      null|\n",
      "|          7|Derived using lin...|            null|      null|\n",
      "|          8|Derived using pre...|            null|      null|\n",
      "|Afghanistan|                1960|31.5800487804878|   8774440|\n",
      "|Afghanistan|                1961|32.0959756097561|   8953544|\n",
      "|Afghanistan|                1962|32.6118780487805|   9141783|\n",
      "+-----------+--------------------+----------------+----------+\n",
      "only showing top 10 rows\n",
      "\n"
     ]
    }
   ],
   "source": [
    "df_life_pop = df_life.join(df_pop, ['Country', 'Year'], 'outer').orderBy(['Country', 'Year'], ascending=True)\n",
    "df_life_pop.show(10)"
   ]
  },
  {
   "cell_type": "markdown",
   "metadata": {},
   "source": [
    "<a id=\"loadmore\"></a>\n",
    "### D. Add more data\n",
    "\n",
    "Add more country related data to the DataFrame. For each data se include the country and year columns, plus a column that contains the key variable for that data set. For the employment data set, derive a column from three original columns.\n",
    "\n",
    "While logged in to your Watson Studio account, click each of the following links to get data access links, and paste them into the appropriate sections of the following cell:\n",
    "\n",
    "- <a href=\"https://dataplatform.cloud.ibm.com/exchange/public/entry/view/3a42de810e682d5a83e76fda9fea2bbe\" target=\"_blank\" rel=\"noopener noreferrer\">Population below national poverty line, total, percentage</a>\n",
    "- <a href=\"https://dataplatform.cloud.ibm.com/exchange/public/entry/view/97fc6c420265012ae9b5e9439b9ee293\" target=\"_blank\" rel=\"noopener noreferrer\">Primary school completion rate % of relevant age group by country</a>\n",
    "- <a href=\"https://dataplatform.cloud.ibm.com/exchange/public/entry/view/21c789ae4cfadf52f1bb14b5d4a0b99c\" target=\"_blank\" rel=\"noopener noreferrer\">Total employment, by economic activity (Thousands)</a>\n",
    "- <a href=\"https://dataplatform.cloud.ibm.com/exchange/public/entry/view/87160cc8374805cb3b07dff4b4f9223e\" target=\"_blank\" rel=\"noopener noreferrer\">Births attended by skilled health staff (% of total) by country</a>\n",
    "- <a href=\"https://apsportal.ibm.com/exchange/public/entry/view/752e36ea889eca360e989baa785c2a5e\" target=\"_blank\" rel=\"noopener noreferrer\">Measles immunization % children 12-23 months by country</a>\n",
    "\n",
    "Then run the cell."
   ]
  },
  {
   "cell_type": "code",
   "execution_count": 10,
   "metadata": {},
   "outputs": [
    {
     "name": "stdout",
     "output_type": "stream",
     "text": [
      "Downloading 'https://dataplatform.cloud.ibm.com/data/exchange-api/v1/entries/3a42de810e682d5a83e76fda9fea2bbe/data?accessKey=d1bec8d606656afaa378d73205da6314' from https://dataplatform.cloud.ibm.com/data/exchange-api/v1/entries/3a42de810e682d5a83e76fda9fea2bbe/data?accessKey=d1bec8d606656afaa378d73205da6314\n",
      "Downloaded 16257 bytes\n",
      "Creating pySpark DataFrame for 'https://dataplatform.cloud.ibm.com/data/exchange-api/v1/entries/3a42de810e682d5a83e76fda9fea2bbe/data?accessKey=d1bec8d606656afaa378d73205da6314'. Please wait...\n",
      "Loading file using 'SparkSession'\n",
      "Successfully created pySpark DataFrame for 'https://dataplatform.cloud.ibm.com/data/exchange-api/v1/entries/3a42de810e682d5a83e76fda9fea2bbe/data?accessKey=d1bec8d606656afaa378d73205da6314'\n",
      "Downloading 'https://dataplatform.cloud.ibm.com/data/exchange-api/v1/entries/97fc6c420265012ae9b5e9439b9ee293/data?accessKey=d1bec8d606656afaa378d73205da66f5' from https://dataplatform.cloud.ibm.com/data/exchange-api/v1/entries/97fc6c420265012ae9b5e9439b9ee293/data?accessKey=d1bec8d606656afaa378d73205da66f5\n",
      "Downloaded 198042 bytes\n",
      "Creating pySpark DataFrame for 'https://dataplatform.cloud.ibm.com/data/exchange-api/v1/entries/97fc6c420265012ae9b5e9439b9ee293/data?accessKey=d1bec8d606656afaa378d73205da66f5'. Please wait...\n",
      "Loading file using 'SparkSession'\n",
      "Successfully created pySpark DataFrame for 'https://dataplatform.cloud.ibm.com/data/exchange-api/v1/entries/97fc6c420265012ae9b5e9439b9ee293/data?accessKey=d1bec8d606656afaa378d73205da66f5'\n",
      "Downloading 'https://dataplatform.cloud.ibm.com/data/exchange-api/v1/entries/21c789ae4cfadf52f1bb14b5d4a0b99c/data?accessKey=d1bec8d606656afaa378d73205da6d6b' from https://dataplatform.cloud.ibm.com/data/exchange-api/v1/entries/21c789ae4cfadf52f1bb14b5d4a0b99c/data?accessKey=d1bec8d606656afaa378d73205da6d6b\n",
      "Downloaded 10536692 bytes\n",
      "Creating pySpark DataFrame for 'https://dataplatform.cloud.ibm.com/data/exchange-api/v1/entries/21c789ae4cfadf52f1bb14b5d4a0b99c/data?accessKey=d1bec8d606656afaa378d73205da6d6b'. Please wait...\n",
      "Loading file using 'SparkSession'\n",
      "Successfully created pySpark DataFrame for 'https://dataplatform.cloud.ibm.com/data/exchange-api/v1/entries/21c789ae4cfadf52f1bb14b5d4a0b99c/data?accessKey=d1bec8d606656afaa378d73205da6d6b'\n",
      "Downloading 'https://dataplatform.cloud.ibm.com/data/exchange-api/v1/entries/87160cc8374805cb3b07dff4b4f9223e/data?accessKey=d1bec8d606656afaa378d73205da7310' from https://dataplatform.cloud.ibm.com/data/exchange-api/v1/entries/87160cc8374805cb3b07dff4b4f9223e/data?accessKey=d1bec8d606656afaa378d73205da7310\n",
      "Downloaded 37002 bytes\n",
      "Creating pySpark DataFrame for 'https://dataplatform.cloud.ibm.com/data/exchange-api/v1/entries/87160cc8374805cb3b07dff4b4f9223e/data?accessKey=d1bec8d606656afaa378d73205da7310'. Please wait...\n",
      "Loading file using 'SparkSession'\n",
      "Successfully created pySpark DataFrame for 'https://dataplatform.cloud.ibm.com/data/exchange-api/v1/entries/87160cc8374805cb3b07dff4b4f9223e/data?accessKey=d1bec8d606656afaa378d73205da7310'\n",
      "Downloading 'https://dataplatform.cloud.ibm.com/data/exchange-api/v1/entries/752e36ea889eca360e989baa785c2a5e/data?accessKey=5f41fd5a963ddd59ba6c746a21dc8d39' from https://dataplatform.cloud.ibm.com/data/exchange-api/v1/entries/752e36ea889eca360e989baa785c2a5e/data?accessKey=5f41fd5a963ddd59ba6c746a21dc8d39\n",
      "Downloaded 216327 bytes\n",
      "Creating pySpark DataFrame for 'https://dataplatform.cloud.ibm.com/data/exchange-api/v1/entries/752e36ea889eca360e989baa785c2a5e/data?accessKey=5f41fd5a963ddd59ba6c746a21dc8d39'. Please wait...\n",
      "Loading file using 'SparkSession'\n",
      "Successfully created pySpark DataFrame for 'https://dataplatform.cloud.ibm.com/data/exchange-api/v1/entries/752e36ea889eca360e989baa785c2a5e/data?accessKey=5f41fd5a963ddd59ba6c746a21dc8d39'\n"
     ]
    }
   ],
   "source": [
    "df_NPL = pixiedust.sampleData('DATA ACCESS LINK FOR POVERTY')\n",
    "sqlContext.registerDataFrameAsTable(df_NPL, \"NPLTable\")\n",
    "df_NPL = sqlContext.sql(\"SELECT `Country or Area` as Country, Year, Value as Poverty FROM NPLTable\")\n",
    "\n",
    "df_school = pixiedust.sampleData('DATA ACCESS LINK FOR SCHOOLS')\n",
    "sqlContext.registerDataFrameAsTable(df_school, \"SchoolTable\")\n",
    "df_school = sqlContext.sql(\"SELECT `Country or Area` as Country, Year, Value as School FROM SchoolTable\")\n",
    "\n",
    "df_econ = pixiedust.sampleData('DATA ACCESS LINK FOR EMPLOYMENT')\n",
    "sqlContext.registerDataFrameAsTable(df_econ, \"EconTable\")\n",
    "df_econ = sqlContext.sql(\"SELECT `Country or Area` as Country, Year, Value as Employment FROM EconTable WHERE Subclassification='Total.'\")\n",
    "\n",
    "df_birth = pixiedust.sampleData('DATA ACCESS LINK FOR BIRTHS')\n",
    "sqlContext.registerDataFrameAsTable(df_birth, \"BirthTable\")\n",
    "df_birth = sqlContext.sql(\"SELECT `Country or Area` as Country, Year, Value as Birth FROM BirthTable\")\n",
    "\n",
    "df_measles = pixiedust.sampleData('DATA ACCESS LINK FOR MEASLES')\n",
    "sqlContext.registerDataFrameAsTable(df_measles, \"MeaslesTable\")\n",
    "df_measles = sqlContext.sql(\"SELECT `Country or Area` as Country, Year, Value as Measles FROM MeaslesTable\")\n",
    "\n",
    "df_total = df_life.join(df_pop, ['Country', 'Year'], 'outer')\\\n",
    "    .join(df_NPL, ['Country', 'Year'], 'outer')\\\n",
    "    .join(df_school, ['Country', 'Year'], 'outer')\\\n",
    "    .join(df_econ, ['Country', 'Year'], 'outer')\\\n",
    "    .join(df_birth, ['Country', 'Year'], 'outer')\\\n",
    "    .join(df_measles, ['Country', 'Year'], 'outer')\\\n",
    "    .orderBy(['Country', 'Year'], ascending=True)"
   ]
  },
  {
   "cell_type": "code",
   "execution_count": 11,
   "metadata": {},
   "outputs": [
    {
     "name": "stdout",
     "output_type": "stream",
     "text": [
      "+-------+----+----+----------+-------+------+----------+-----+-------+\n",
      "|Country|Year|Life|Population|Poverty|School|Employment|Birth|Measles|\n",
      "+-------+----+----+----------+-------+------+----------+-----+-------+\n",
      "|   null|null|null|      null|   null|  null|      null| null|   null|\n",
      "|   null|null|null|      null|   null|  null|      null| null|   null|\n",
      "|   null|null|null|      null|   null|  null|      null| null|   null|\n",
      "|   null|null|null|      null|   null|  null|      null| null|   null|\n",
      "|   null|null|null|      null|   null|  null|      null| null|   null|\n",
      "|   null|null|null|      null|   null|  null|      null| null|   null|\n",
      "|   null|null|null|      null|   null|  null|      null| null|   null|\n",
      "|   null|null|null|      null|   null|  null|      null| null|   null|\n",
      "|   null|null|null|      null|   null|  null|      null| null|   null|\n",
      "|   null|null|null|      null|   null|  null|      null| null|   null|\n",
      "+-------+----+----+----------+-------+------+----------+-----+-------+\n",
      "only showing top 10 rows\n",
      "\n"
     ]
    }
   ],
   "source": [
    "df_total.show(10)"
   ]
  },
  {
   "cell_type": "markdown",
   "metadata": {},
   "source": [
    "The resulting table looks strange because some records contain incorrect values, such as numbers in the `country` column and text in the `year` column. Run the following cell to convert the years to integers and delete rows with no from the DataFrame:"
   ]
  },
  {
   "cell_type": "code",
   "execution_count": 12,
   "metadata": {},
   "outputs": [
    {
     "name": "stdout",
     "output_type": "stream",
     "text": [
      "+-----------+----+----------------+----------+-------+--------+----------+-----+-------+\n",
      "|    Country|Year|            Life|Population|Poverty|  School|Employment|Birth|Measles|\n",
      "+-----------+----+----------------+----------+-------+--------+----------+-----+-------+\n",
      "|Afghanistan|1960|31.5800487804878|   8774440|   null|    null|      null| null|   null|\n",
      "|Afghanistan|1961|32.0959756097561|   8953544|   null|    null|      null| null|   null|\n",
      "|Afghanistan|1962|32.6118780487805|   9141783|   null|    null|      null| null|   null|\n",
      "|Afghanistan|1963|33.1273170731707|   9339507|   null|    null|      null| null|   null|\n",
      "|Afghanistan|1964| 33.641243902439|   9547131|   null|    null|      null| null|   null|\n",
      "|Afghanistan|1965|34.1536829268293|   9765015|   null|    null|      null| null|   null|\n",
      "|Afghanistan|1966|34.6631219512195|   9990125|   null|    null|      null| null|   null|\n",
      "|Afghanistan|1967|35.1700731707317|  10221902|   null|    null|      null| null|   null|\n",
      "|Afghanistan|1968|35.6720243902439|  10465770|   null|    null|      null| null|   null|\n",
      "|Afghanistan|1969|36.1699756097561|  10729191|   null|    null|      null| null|   null|\n",
      "|Afghanistan|1970|36.6594390243902|  11015621|   null|    null|      null| null|   null|\n",
      "|Afghanistan|1971|37.1394146341463|  11323446|   null|    null|      null| null|   null|\n",
      "|Afghanistan|1972|37.6088780487805|  11644377|   null|    null|      null| null|   null|\n",
      "|Afghanistan|1973|38.0693414634146|  11966352|   null|    null|      null| null|   null|\n",
      "|Afghanistan|1974|38.5232926829268|  12273589|   null|16.60984|      null| null|   null|\n",
      "|Afghanistan|1975|38.9702682926829|  12551790|   null|    null|      null| null|   null|\n",
      "|Afghanistan|1976|39.4107317073171|  12806810|   null|    null|      null| null|   null|\n",
      "|Afghanistan|1977|39.8477073170732|  13034460|   null|17.18067|      null| null|   null|\n",
      "|Afghanistan|1978|40.2906829268293|  13199597|   null|18.84355|      null| null|   null|\n",
      "|Afghanistan|1979|40.7481707317073|  13257128|   null|    null|      null| null|   null|\n",
      "|Afghanistan|1980|41.2336585365854|  13180431|   null|26.34265|      null| null|   11.0|\n",
      "|Afghanistan|1981|41.7606341463415|  12963788|   null|32.73786|      null| null|   null|\n",
      "|Afghanistan|1982|42.3356097560976|  12634494|   null|13.29607|      null| null|    8.0|\n",
      "|Afghanistan|1983|42.9630487804878|  12241928|   null|    null|      null| null|    9.0|\n",
      "|Afghanistan|1984|43.6444878048781|  11854205|   null|18.12719|      null| null|   14.0|\n",
      "|Afghanistan|1985|44.3799024390244|  11528977|   null|18.92117|      null| null|   14.0|\n",
      "|Afghanistan|1986|45.1688048780488|  11262439|   null|    null|      null| null|   14.0|\n",
      "|Afghanistan|1987|45.9972195121951|  11063107|   null|    null|      null| null|   31.0|\n",
      "|Afghanistan|1988|46.8501463414634|  11013345|   null|    null|      null| null|   34.0|\n",
      "|Afghanistan|1989|47.7115853658537|  11215323|   null|    null|      null| null|   22.0|\n",
      "|Afghanistan|1990|48.5670487804878|  11731193|   null|    null|      null| null|   20.0|\n",
      "|Afghanistan|1991|49.4045609756098|  12612043|   null|    null|      null| null|   19.0|\n",
      "|Afghanistan|1992|50.2131219512195|  13811876|   null|    null|      null| null|   22.0|\n",
      "|Afghanistan|1993| 50.985243902439|  15175325|   null|28.77245|      null| null|   25.0|\n",
      "|Afghanistan|1994|51.7093902439024|  16485018|   null|    null|      null| null|   40.0|\n",
      "|Afghanistan|1995|52.3750731707317|  17586073|   null|    null|      null| null|   41.0|\n",
      "|Afghanistan|1996|52.9727804878049|  18415307|   null|    null|      null| null|   42.0|\n",
      "|Afghanistan|1997|53.5084878048781|  19021226|   null|    null|      null| null|   38.0|\n",
      "|Afghanistan|1998|53.9921951219512|  19496836|   null|    null|      null| null|   31.0|\n",
      "|Afghanistan|1999|54.4328780487805|  19987071|   null|    null|      null| null|   31.0|\n",
      "|Afghanistan|2000|54.8485609756098|  20595360|   null|    null|      null| 12.4|   27.0|\n",
      "|Afghanistan|2001|55.2562195121951|  21347782|   null|    null|      null| null|   37.0|\n",
      "|Afghanistan|2002|55.6718780487805|  22202806|   null|    null|      null| null|   35.0|\n",
      "|Afghanistan|2003|56.1075609756098|  23116142|   null|    null|      null| 14.3|   39.0|\n",
      "|Afghanistan|2004|56.5697317073171|  24018682|   null|    null|      null| null|   48.0|\n",
      "|Afghanistan|2005|57.0584390243903|  24860855|   null|    null|      null| null|   50.0|\n",
      "|Afghanistan|2006|57.5706585365854|  25631282|   null|    null|      null| 18.9|   53.0|\n",
      "|Afghanistan|2007|58.0913658536585|  26349243|   36.3|    null|      null| null|   55.0|\n",
      "|Afghanistan|2008|58.6070975609756|  27032197|   null|    null|      null| 24.0|   59.0|\n",
      "|Afghanistan|2009|59.1123414634146|  27708187|   null|    null|      null| null|   60.0|\n",
      "|Afghanistan|2010|59.6000975609756|  28397812|   null|    null|      null| 34.3|   62.0|\n",
      "|Afghanistan|2011|60.0653658536585|  29105480|   35.8|    null|      null| 38.6|   65.0|\n",
      "|Afghanistan|2012|60.5091219512195|  29824536|   null|    null|      null| null|   68.0|\n",
      "|Afghanistan|2013|            null|  30551674|   null|    null|      null| null|   75.0|\n",
      "|    Albania|1960|62.2543658536585|   1608800|   null|    null|      null| null|   null|\n",
      "|    Albania|1961|63.2734634146342|   1659800|   null|    null|      null| null|   null|\n",
      "|    Albania|1962|64.1628536585366|   1711319|   null|    null|      null| null|   null|\n",
      "|    Albania|1963|64.8870975609756|   1762621|   null|    null|      null| null|   null|\n",
      "|    Albania|1964|65.4381951219512|   1814135|   null|    null|      null| null|   null|\n",
      "|    Albania|1965|65.8273902439024|   1864791|   null|    null|      null| null|   null|\n",
      "|    Albania|1966|66.0893170731707|   1914573|   null|    null|      null| null|   null|\n",
      "|    Albania|1967|66.2872195121951|   1965598|   null|    null|      null| null|   null|\n",
      "|    Albania|1968|66.4749512195122|   2022272|   null|    null|      null| null|   null|\n",
      "|    Albania|1969|66.6816097560976|   2081695|   null|    null|      null| null|   null|\n",
      "|    Albania|1970|66.9325853658537|   2135479|   null|    null|      null| null|   null|\n",
      "|    Albania|1971|67.2388780487805|   2187853|   null|    null|      null| null|   null|\n",
      "|    Albania|1972|67.5859512195122|   2243126|   null|    null|      null| null|   null|\n",
      "|    Albania|1973|67.9579512195122|   2296752|   null|    null|      null| null|   null|\n",
      "|    Albania|1974|68.3483414634146|   2350124|   null|    null|      null| null|   null|\n",
      "|    Albania|1975|68.7412195121951|   2404831|   null|    null|      null| null|   null|\n",
      "|    Albania|1976| 69.115512195122|   2458526|   null|    null|      null| null|   null|\n",
      "|    Albania|1977|69.4561707317073|   2513546|   null|    null|      null| null|   null|\n",
      "|    Albania|1978| 69.754243902439|   2566266|   null|    null|      null| null|   null|\n",
      "|    Albania|1979|70.0096585365854|   2617832|   null|    null|      null| null|   null|\n",
      "|    Albania|1980|70.2359756097561|   2671997|   null|    null|      null| null|   90.0|\n",
      "|    Albania|1981|70.4544634146341|   2726056|   null|    null|      null| null|   90.0|\n",
      "|    Albania|1982|70.6851219512195|   2784278|   null|    null|      null| null|   93.0|\n",
      "|    Albania|1983|70.9373902439024|   2843960|   null|    null|      null| null|   96.0|\n",
      "|    Albania|1984|71.2065365853659|   2904429|   null|    null|      null| null|   96.0|\n",
      "|    Albania|1985|71.4712195121951|   2964762|   null|    null|      null| null|   96.0|\n",
      "|    Albania|1986|71.6975609756098|   3022635|   null|    null|      null| null|   96.0|\n",
      "|    Albania|1987|71.8619512195122|   3083605|   null|    null|      null| null|   96.0|\n",
      "|    Albania|1988|71.9532926829268|   3142336|   null|    null|      null| null|   96.0|\n",
      "|    Albania|1989|71.9785853658537|   3227943|   null|    null|      null| 92.7|   96.0|\n",
      "|    Albania|1990|71.9573170731707|   3286542|   null|    null|      null| 93.0|   88.0|\n",
      "|    Albania|1991|71.9184146341463|   3266790|   null|    null|      null| 92.6|   80.0|\n",
      "|    Albania|1992|71.9008048780488|   3247039|   null|    null|      null| 86.4|   87.0|\n",
      "|    Albania|1993|71.9358536585366|   3227287|   null|    null|      null| 87.2|   76.0|\n",
      "|    Albania|1994|72.0419512195122|   3207536|   null|    null|    1161.0| 89.1|   90.0|\n",
      "|    Albania|1995|72.2360243902439|   3187784|   null|    null|    1138.0| 89.1|   91.0|\n",
      "|    Albania|1996|72.5274146341463|   3168033|   null|85.57201|    1116.0| 91.2|   92.0|\n",
      "|    Albania|1997|72.8980975609756|   3148281|   null|    null|    1107.0| 98.8|   95.0|\n",
      "|    Albania|1998|73.3265853658537|   3128530|   null|    null|    1085.0| 99.1|   89.0|\n",
      "|    Albania|1999|73.7933902439025|   3108778|   null|    null|    1065.0| 99.0|   85.0|\n",
      "|    Albania|2000|74.2720731707317|   3089027|   null|94.42868|    1068.0| 99.1|   95.0|\n",
      "|    Albania|2001|74.7342195121951|   3064111|   null|96.28535|    1063.0| 99.0|   95.0|\n",
      "|    Albania|2002|75.1579512195122|   3051427|   25.4|    null|     920.0| 98.0|   96.0|\n",
      "|    Albania|2003|75.5293658536585|   3033659|   null| 96.7474|     926.0| 98.8|   93.0|\n",
      "|    Albania|2004|          75.839|   3014579|   null|    null|     931.0| 99.3|   96.0|\n",
      "|    Albania|2005|76.0893902439024|   2992724|   18.5|    null|     932.1| 99.8|   97.0|\n",
      "+-----------+----+----------------+----------+-------+--------+----------+-----+-------+\n",
      "only showing top 100 rows\n",
      "\n"
     ]
    }
   ],
   "source": [
    "df_total = df_total.withColumn(\"Year\", df_total[\"Year\"].cast(\"integer\"))\n",
    "df_total.createOrReplaceTempView('fixed_total')\n",
    "df_fixed_total = spark.sql(\"SELECT * FROM fixed_total WHERE Country is not NULL AND Year is not NULL\")\n",
    "df_fixed_total.show(100)"
   ]
  },
  {
   "cell_type": "code",
   "execution_count": 13,
   "metadata": {},
   "outputs": [
    {
     "name": "stdout",
     "output_type": "stream",
     "text": [
      "number of rows: 18752\n"
     ]
    }
   ],
   "source": [
    "print (\"number of rows:\", df_fixed_total.count())"
   ]
  },
  {
   "cell_type": "markdown",
   "metadata": {},
   "source": [
    "You can see that for the 1980s, the only data for Afghanistan is about measles immunizations.\n",
    "\n",
    "If you are curious about other variables, you can add more WDI data sets from the Watson Studio home page to this DataFrame. Not all WDI data is properly formatted. You might need to clean the data before you add it. You can reuse the code samples that you just ran. Make sure that you keep checking the results by running commands like `df.show()` on your tables when you load or change them. "
   ]
  },
  {
   "cell_type": "markdown",
   "metadata": {},
   "source": [
    "<a id=\"check\"></a>\n",
    "## 2. Check the data \n",
    "You can check the data with <a href=\"http://spark.apache.org/docs/2.1.0/api/python/pyspark.sql.html#pyspark.sql.DataFrame.describe\" target=\"_blank\" rel=\"noopener noreferrer\">`describe()`</a>, which calculates basic summary statistics for each of the columns in the DataFrame (except the country and year columns). \n",
    "\n",
    "Run the following cell to show the number of values (count), the mean, the standard deviation (std), the minimum value, and the maximum value for the columns:  "
   ]
  },
  {
   "cell_type": "code",
   "execution_count": 14,
   "metadata": {
    "pixiedust": {
     "displayParams": {
      "handlerId": "dataframe"
     }
    }
   },
   "outputs": [
    {
     "name": "stdout",
     "output_type": "stream",
     "text": [
      "root\n",
      " |-- Country: string (nullable = true)\n",
      " |-- Year: integer (nullable = true)\n",
      " |-- Life: double (nullable = true)\n",
      " |-- Population: long (nullable = true)\n",
      " |-- Poverty: double (nullable = true)\n",
      " |-- School: double (nullable = true)\n",
      " |-- Employment: double (nullable = true)\n",
      " |-- Birth: double (nullable = true)\n",
      " |-- Measles: double (nullable = true)\n",
      "\n"
     ]
    }
   ],
   "source": [
    "df_fixed_total.printSchema()\n",
    "describe = df_fixed_total.describe()"
   ]
  },
  {
   "cell_type": "code",
   "execution_count": null,
   "metadata": {
    "pixiedust": {
     "displayParams": {
      "handlerId": "tableView"
     }
    }
   },
   "outputs": [
    {
     "data": {
      "text/html": [
       "<style type=\"text/css\">.pd_warning{display:none;}</style><div class=\"pd_warning\"><em>Hey, there's something awesome here! To see it, open this notebook outside GitHub, in a viewer like Jupyter</em></div>\n",
       "        <div class=\"pd_save is-viewer-good\" style=\"padding-right:10px;text-align: center;line-height:initial !important;font-size: xx-large;font-weight: 500;color: coral;\">\n",
       "            \n",
       "        </div>\n",
       "    <div id=\"chartFigurecbb64f07\" class=\"pd_save is-viewer-good\" style=\"overflow-x:auto\">\n",
       "            <style type=\"text/css\" class=\"pd_save\">\n",
       "    .df-table-wrapper .panel-heading {\n",
       "      border-radius: 0;\n",
       "      padding: 0px;\n",
       "    }\n",
       "    .df-table-wrapper .panel-heading:hover {\n",
       "      border-color: #008571;\n",
       "    }\n",
       "    .df-table-wrapper .panel-title a {\n",
       "      background-color: #f9f9fb;\n",
       "      color: #333333;\n",
       "      display: block;\n",
       "      outline: none;\n",
       "      padding: 10px 15px;\n",
       "      text-decoration: none;\n",
       "    }\n",
       "    .df-table-wrapper .panel-title a:hover {\n",
       "      background-color: #337ab7;\n",
       "      border-color: #2e6da4;\n",
       "      color: #ffffff;\n",
       "      display: block;\n",
       "      padding: 10px 15px;\n",
       "      text-decoration: none;\n",
       "    }\n",
       "    .df-table-wrapper {\n",
       "      font-size: small;\n",
       "      font-weight: 300;\n",
       "      letter-spacing: 0.5px;\n",
       "      line-height: normal;\n",
       "      height: inherit;\n",
       "      overflow: auto;\n",
       "    }\n",
       "    .df-table-search {\n",
       "      margin: 0 0 20px 0;\n",
       "    }\n",
       "    .df-table-search-count {\n",
       "      display: inline-block;\n",
       "      margin: 0 0 20px 0;\n",
       "    }\n",
       "    .df-table-container {\n",
       "      max-height: 50vh;\n",
       "      max-width: 100%;\n",
       "      overflow-x: auto;\n",
       "      position: relative;\n",
       "    }\n",
       "    .df-table-wrapper table {\n",
       "      border: 0 none #ffffff;\n",
       "      border-collapse: collapse;\n",
       "      margin: 0;\n",
       "      min-width: 100%;\n",
       "      padding: 0;\n",
       "      table-layout: fixed;\n",
       "      height: inherit;\n",
       "      overflow: auto;\n",
       "    }\n",
       "    .df-table-wrapper tr.hidden {\n",
       "      display: none;\n",
       "    }\n",
       "    .df-table-wrapper tr:nth-child(even) {\n",
       "      background-color: #f9f9fb;\n",
       "    }\n",
       "    .df-table-wrapper tr.even {\n",
       "      background-color: #f9f9fb;\n",
       "    }\n",
       "    .df-table-wrapper tr.odd {\n",
       "      background-color: #ffffff;\n",
       "    }\n",
       "    .df-table-wrapper td + td {\n",
       "      border-left: 1px solid #e0e0e0;\n",
       "    }\n",
       "  \n",
       "    .df-table-wrapper thead,\n",
       "    .fixed-header {\n",
       "      font-weight: 600;\n",
       "    }\n",
       "    .df-table-wrapper tr,\n",
       "    .fixed-row {\n",
       "      border: 0 none #ffffff;\n",
       "      margin: 0;\n",
       "      padding: 0;\n",
       "    }\n",
       "    .df-table-wrapper th,\n",
       "    .df-table-wrapper td,\n",
       "    .fixed-cell {\n",
       "      border: 0 none #ffffff;\n",
       "      margin: 0;\n",
       "      min-width: 50px;\n",
       "      padding: 5px 20px 5px 10px;\n",
       "      text-align: left;\n",
       "      word-wrap: break-word;\n",
       "    }\n",
       "    .df-table-wrapper th {\n",
       "      padding-bottom: 0;\n",
       "      padding-top: 0;\n",
       "    }\n",
       "    .df-table-wrapper th div {\n",
       "      max-height: 1px;\n",
       "      visibility: hidden;\n",
       "    }\n",
       "  \n",
       "    .df-schema-field {\n",
       "      margin-left: 10px;\n",
       "    }\n",
       "  \n",
       "    .fixed-header-container {\n",
       "      overflow: hidden;\n",
       "      position: relative;\n",
       "    }\n",
       "    .fixed-header {\n",
       "      border-bottom: 2px solid #000;\n",
       "      display: table;\n",
       "      position: relative;\n",
       "    }\n",
       "    .fixed-row {\n",
       "      display: table-row;\n",
       "    }\n",
       "    .fixed-cell {\n",
       "      display: table-cell;\n",
       "    }\n",
       "  </style>\n",
       "  \n",
       "  \n",
       "  <div class=\"df-table-wrapper df-table-wrapper-cbb64f07 panel-group pd_save\">\n",
       "    <!-- dataframe schema -->\n",
       "    \n",
       "    <div class=\"panel panel-default\">\n",
       "      <div class=\"panel-heading\">\n",
       "        <h4 class=\"panel-title\" style=\"margin: 0px;\">\n",
       "          <a data-toggle=\"collapse\" href=\"#df-schema-cbb64f07\" data-parent=\"#df-table-wrapper-cbb64f07\">Schema</a>\n",
       "        </h4>\n",
       "      </div>\n",
       "      <div id=\"df-schema-cbb64f07\" class=\"panel-collapse collapse\">\n",
       "        <div class=\"panel-body\" style=\"font-family: monospace;\">\n",
       "          <div class=\"df-schema-fields\">\n",
       "            <div>Field types:</div>\n",
       "            \n",
       "              <div class=\"df-schema-field\"><strong>summary: </strong> object</div>\n",
       "            \n",
       "              <div class=\"df-schema-field\"><strong>Country: </strong> object</div>\n",
       "            \n",
       "              <div class=\"df-schema-field\"><strong>Year: </strong> object</div>\n",
       "            \n",
       "              <div class=\"df-schema-field\"><strong>Life: </strong> object</div>\n",
       "            \n",
       "              <div class=\"df-schema-field\"><strong>Population: </strong> object</div>\n",
       "            \n",
       "              <div class=\"df-schema-field\"><strong>Poverty: </strong> object</div>\n",
       "            \n",
       "              <div class=\"df-schema-field\"><strong>School: </strong> object</div>\n",
       "            \n",
       "              <div class=\"df-schema-field\"><strong>Employment: </strong> object</div>\n",
       "            \n",
       "              <div class=\"df-schema-field\"><strong>Birth: </strong> object</div>\n",
       "            \n",
       "              <div class=\"df-schema-field\"><strong>Measles: </strong> object</div>\n",
       "            \n",
       "          </div>\n",
       "        </div>\n",
       "      </div>\n",
       "    </div>\n",
       "    \n",
       "    <!-- dataframe table -->\n",
       "    <div class=\"panel panel-default\">\n",
       "      \n",
       "      <div class=\"panel-heading\">\n",
       "        <h4 class=\"panel-title\" style=\"margin: 0px;\">\n",
       "          <a data-toggle=\"collapse\" href=\"#df-table-cbb64f07\" data-parent=\"#df-table-wrapper-cbb64f07\"> Table</a>\n",
       "        </h4>\n",
       "      </div>\n",
       "      \n",
       "      <div id=\"df-table-cbb64f07\" class=\"panel-collapse collapse in\">\n",
       "        <div class=\"panel-body\">\n",
       "          \n",
       "          <input class=\"df-table-search form-control input-sm\" placeholder=\"Search table\" type=\"text\">\n",
       "          \n",
       "          <div>\n",
       "            \n",
       "            <span class=\"df-table-search-count\">Showing 5 of 5 rows</span>\n",
       "            \n",
       "          </div>\n",
       "          <!-- fixed header for when dataframe table scrolls -->\n",
       "          <div class=\"fixed-header-container\">\n",
       "            <div class=\"fixed-header\">\n",
       "              <div class=\"fixed-row\">\n",
       "                \n",
       "                <div class=\"fixed-cell\">summary</div>\n",
       "                \n",
       "                <div class=\"fixed-cell\">Country</div>\n",
       "                \n",
       "                <div class=\"fixed-cell\">Year</div>\n",
       "                \n",
       "                <div class=\"fixed-cell\">Life</div>\n",
       "                \n",
       "                <div class=\"fixed-cell\">Population</div>\n",
       "                \n",
       "                <div class=\"fixed-cell\">Poverty</div>\n",
       "                \n",
       "                <div class=\"fixed-cell\">School</div>\n",
       "                \n",
       "                <div class=\"fixed-cell\">Employment</div>\n",
       "                \n",
       "                <div class=\"fixed-cell\">Birth</div>\n",
       "                \n",
       "                <div class=\"fixed-cell\">Measles</div>\n",
       "                \n",
       "              </div>\n",
       "            </div>\n",
       "          </div>\n",
       "          <div class=\"df-table-container\">\n",
       "            <table class=\"df-table\">\n",
       "              <thead>\n",
       "                <tr>\n",
       "                  \n",
       "                  <th><div>summary</div></th>\n",
       "                  \n",
       "                  <th><div>Country</div></th>\n",
       "                  \n",
       "                  <th><div>Year</div></th>\n",
       "                  \n",
       "                  <th><div>Life</div></th>\n",
       "                  \n",
       "                  <th><div>Population</div></th>\n",
       "                  \n",
       "                  <th><div>Poverty</div></th>\n",
       "                  \n",
       "                  <th><div>School</div></th>\n",
       "                  \n",
       "                  <th><div>Employment</div></th>\n",
       "                  \n",
       "                  <th><div>Birth</div></th>\n",
       "                  \n",
       "                  <th><div>Measles</div></th>\n",
       "                  \n",
       "                </tr>\n",
       "              </thead>\n",
       "              <tbody>\n",
       "                \n",
       "                <tr>\n",
       "                  \n",
       "                  <td>count</td>\n",
       "                  \n",
       "                  <td>18752</td>\n",
       "                  \n",
       "                  <td>18752</td>\n",
       "                  \n",
       "                  <td>16384</td>\n",
       "                  \n",
       "                  <td>17571</td>\n",
       "                  \n",
       "                  <td>1119</td>\n",
       "                  \n",
       "                  <td>7508</td>\n",
       "                  \n",
       "                  <td>7788</td>\n",
       "                  \n",
       "                  <td>2461</td>\n",
       "                  \n",
       "                  <td>10424</td>\n",
       "                  \n",
       "                </tr>\n",
       "                \n",
       "                <tr>\n",
       "                  \n",
       "                  <td>mean</td>\n",
       "                  \n",
       "                  <td>None</td>\n",
       "                  \n",
       "                  <td>1988.59902943686</td>\n",
       "                  \n",
       "                  <td>65.64101972194337</td>\n",
       "                  \n",
       "                  <td>1.1218677059507142E8</td>\n",
       "                  \n",
       "                  <td>30.708411411617515</td>\n",
       "                  \n",
       "                  <td>81.97120813066327</td>\n",
       "                  \n",
       "                  <td>8420.035129804448</td>\n",
       "                  \n",
       "                  <td>86.66069703600974</td>\n",
       "                  \n",
       "                  <td>78.75654999699076</td>\n",
       "                  \n",
       "                </tr>\n",
       "                \n",
       "                <tr>\n",
       "                  \n",
       "                  <td>stddev</td>\n",
       "                  \n",
       "                  <td>None</td>\n",
       "                  \n",
       "                  <td>14.50249409354742</td>\n",
       "                  \n",
       "                  <td>10.95071014030756</td>\n",
       "                  \n",
       "                  <td>4.7442477133428013E8</td>\n",
       "                  \n",
       "                  <td>17.32670409116816</td>\n",
       "                  \n",
       "                  <td>23.43282776024692</td>\n",
       "                  \n",
       "                  <td>35957.05527582198</td>\n",
       "                  \n",
       "                  <td>22.1614325507719</td>\n",
       "                  \n",
       "                  <td>20.966913382089185</td>\n",
       "                  \n",
       "                </tr>\n",
       "                \n",
       "                <tr>\n",
       "                  \n",
       "                  <td>min</td>\n",
       "                  \n",
       "                  <td>Afghanistan</td>\n",
       "                  \n",
       "                  <td>1960</td>\n",
       "                  \n",
       "                  <td>19.5049268292683</td>\n",
       "                  \n",
       "                  <td>4279</td>\n",
       "                  \n",
       "                  <td>1.7</td>\n",
       "                  \n",
       "                  <td>1.52203</td>\n",
       "                  \n",
       "                  <td>0.276</td>\n",
       "                  \n",
       "                  <td>5.0</td>\n",
       "                  \n",
       "                  <td>1.0</td>\n",
       "                  \n",
       "                </tr>\n",
       "                \n",
       "                <tr>\n",
       "                  \n",
       "                  <td>max</td>\n",
       "                  \n",
       "                  <td>Zimbabwe</td>\n",
       "                  \n",
       "                  <td>2014</td>\n",
       "                  \n",
       "                  <td>83.4804878048781</td>\n",
       "                  \n",
       "                  <td>7124543962</td>\n",
       "                  \n",
       "                  <td>96.0</td>\n",
       "                  \n",
       "                  <td>193.26334</td>\n",
       "                  \n",
       "                  <td>737400.0</td>\n",
       "                  \n",
       "                  <td>100.0</td>\n",
       "                  \n",
       "                  <td>99.0</td>\n",
       "                  \n",
       "                </tr>\n",
       "                \n",
       "              </tbody>\n",
       "            </table>\n",
       "          </div>\n",
       "        </div>\n",
       "      </div>\n",
       "    </div>\n",
       "  </div>\n",
       "  \n",
       "  <script class=\"pd_save\">\n",
       "    $(function() {\n",
       "      var tableWrapper = $('.df-table-wrapper-cbb64f07');\n",
       "      var fixedHeader = $('.fixed-header', tableWrapper);\n",
       "      var tableContainer = $('.df-table-container', tableWrapper);\n",
       "      var table = $('.df-table', tableContainer);\n",
       "      var rows = $('tbody > tr', table);\n",
       "      var total = 5;\n",
       "  \n",
       "      fixedHeader\n",
       "        .css('width', table.width())\n",
       "        .find('.fixed-cell')\n",
       "        .each(function(i, e) {\n",
       "          $(this).css('width', $('.df-table-wrapper-cbb64f07 th:nth-child(' + (i+1) + ')').css('width'));\n",
       "        });\n",
       "  \n",
       "      tableContainer.scroll(function() {\n",
       "        fixedHeader.css({ left: table.position().left });\n",
       "      });\n",
       "  \n",
       "      rows.on(\"click\", function(e){\n",
       "          var txt = e.delegateTarget.innerText;\n",
       "          var splits = txt.split(\"\\t\");\n",
       "          var len = splits.length;\n",
       "          var hdrs = $(fixedHeader).find(\".fixed-cell\");\n",
       "          // Add all cells in the selected row as a map to be consumed by the target as needed\n",
       "          var payload = {type:\"select\", targetDivId: \"\" };\n",
       "          for (var i = 0; i < len; i++) {\n",
       "            payload[hdrs[i].innerHTML] = splits[i];\n",
       "          }\n",
       "  \n",
       "          //simple selection highlighting, client adds \"selected\" class\n",
       "          $(this).addClass(\"selected\").siblings().removeClass(\"selected\");\n",
       "          $(document).trigger('pd_event', payload);\n",
       "      });\n",
       "  \n",
       "      $('.df-table-search', tableWrapper).keyup(function() {\n",
       "        var val = '^(?=.*\\\\b' + $.trim($(this).val()).split(/\\s+/).join('\\\\b)(?=.*\\\\b') + ').*$';\n",
       "        var reg = RegExp(val, 'i');\n",
       "        var index = 0;\n",
       "        \n",
       "        rows.each(function(i, e) {\n",
       "          if (!reg.test($(this).text().replace(/\\s+/g, ' '))) {\n",
       "            $(this).attr('class', 'hidden');\n",
       "          }\n",
       "          else {\n",
       "            $(this).attr('class', (++index % 2 == 0 ? 'even' : 'odd'));\n",
       "          }\n",
       "        });\n",
       "        $('.df-table-search-count', tableWrapper).html('Showing ' + index + ' of ' + total + ' rows');\n",
       "      });\n",
       "    });\n",
       "  \n",
       "    $(\".df-table-wrapper td:contains('http://')\").each(function(){var tc = this.textContent; $(this).wrapInner(\"<a target='_blank' href='\" + tc + \"'></a>\");});\n",
       "    $(\".df-table-wrapper td:contains('https://')\").each(function(){var tc = this.textContent; $(this).wrapInner(\"<a target='_blank' href='\" + tc + \"'></a>\");});\n",
       "  </script>\n",
       "  \n",
       "        </div>"
      ],
      "text/plain": [
       "<IPython.core.display.HTML object>"
      ]
     },
     "metadata": {},
     "output_type": "display_data"
    }
   ],
   "source": [
    "display(describe)"
   ]
  },
  {
   "cell_type": "markdown",
   "metadata": {},
   "source": [
    "<a id=\"analysis\"></a>\n",
    "## 3. Analyze the data\n",
    "Now that there is enough sample data to work with, you can start analyzing the data. "
   ]
  },
  {
   "cell_type": "markdown",
   "metadata": {},
   "source": [
    "<a id=\"creategraphs\"></a>\n",
    "### A. Create graphs with PixieDust\n",
    "\n",
    "PixieDust makes generating visualizations fast and easy, and allows you to change them on the fly. Run the `display()` command on your DataFrame to visualize your data using PixieDust.  \n",
    "\n",
    "One interesting question to explore with this data is why there is a difference in Life Expectancy at Birth. Let's first explore this data.  \n",
    "\n",
    "Run the `display()` command and then configure the graph:\n",
    "1. Run the next cell. The PixieDust interactive widget appears.  \n",
    "1. Click the chart button and choose **Histogram**. The chart options tool appears.\n",
    "1. In the chart options tool, drag `life` into the **Values** box. \n",
    "1. Increase the **# of Rows to Display** to 20,000 to display all the data, and click **OK**. The chart appears.\n",
    "\n",
    "If you want to make further changes, click **Options** to return to the chart options tool. Make sure you check out the different renderers from the drop-down menu on the right of the chart. "
   ]
  },
  {
   "cell_type": "code",
   "execution_count": 16,
   "metadata": {
    "pixiedust": {
     "displayParams": {
      "binsize": "118",
      "chartsize": "64",
      "handlerId": "histogram",
      "rendererId": "bokeh",
      "rowCount": "20000",
      "valueFields": "Life"
     }
    }
   },
   "outputs": [
    {
     "data": {
      "text/html": [
       "<style type=\"text/css\">.pd_warning{display:none;}</style><div class=\"pd_warning\"><em>Hey, there's something awesome here! To see it, open this notebook outside GitHub, in a viewer like Jupyter</em></div>\n",
       "        <div class=\"pd_save is-viewer-good\" style=\"padding-right:10px;text-align: center;line-height:initial !important;font-size: xx-large;font-weight: 500;color: coral;\">\n",
       "            \n",
       "        </div>\n",
       "    <div id=\"chartFigured37dcb21\" class=\"pd_save is-viewer-good\" style=\"overflow-x:auto\">\n",
       "            \n",
       "                    <script class=\"pd_save\">\n",
       "                    function setChartScript() {\n",
       "                        if (!window.Bokeh) {\n",
       "                            setTimeout(setChartScript, 250)\n",
       "                        } else {\n",
       "                            var d = document.getElementById(\"pd-bkchartdiv-d37dcb21\")\n",
       "                            if (d){\n",
       "                                var el = document.createElement('div')\n",
       "                                el.innerHTML = `\n",
       "<script type=\"text/javascript\">\n",
       "  (function() {\n",
       "    var fn = function() {\n",
       "      Bokeh.safely(function() {\n",
       "        (function(root) {\n",
       "          function embed_document(root) {\n",
       "            \n",
       "          var docs_json = '{\"aae55abd-3080-4e47-9d72-0979f510ec9c\":{\"roots\":{\"references\":[{\"attributes\":{},\"id\":\"1045\",\"type\":\"BasicTickFormatter\"},{\"attributes\":{},\"id\":\"1047\",\"type\":\"BasicTickFormatter\"},{\"attributes\":{\"bottom\":{\"value\":0},\"fill_color\":{\"value\":\"#1f77b4\"},\"left\":{\"field\":\"left\"},\"line_color\":{\"value\":\"#cccccc\"},\"right\":{\"field\":\"right\"},\"top\":{\"field\":\"top\"}},\"id\":\"1036\",\"type\":\"Quad\"},{\"attributes\":{},\"id\":\"1016\",\"type\":\"BasicTicker\"},{\"attributes\":{},\"id\":\"1020\",\"type\":\"PanTool\"},{\"attributes\":{\"below\":[{\"id\":\"1010\",\"type\":\"LinearAxis\"}],\"left\":[{\"id\":\"1015\",\"type\":\"LinearAxis\"}],\"plot_height\":478,\"plot_width\":639,\"renderers\":[{\"id\":\"1010\",\"type\":\"LinearAxis\"},{\"id\":\"1014\",\"type\":\"Grid\"},{\"id\":\"1015\",\"type\":\"LinearAxis\"},{\"id\":\"1019\",\"type\":\"Grid\"},{\"id\":\"1028\",\"type\":\"BoxAnnotation\"},{\"id\":\"1038\",\"type\":\"GlyphRenderer\"}],\"title\":{\"id\":\"1043\",\"type\":\"Title\"},\"toolbar\":{\"id\":\"1026\",\"type\":\"Toolbar\"},\"toolbar_location\":null,\"x_range\":{\"id\":\"1002\",\"type\":\"DataRange1d\"},\"x_scale\":{\"id\":\"1006\",\"type\":\"LinearScale\"},\"y_range\":{\"id\":\"1004\",\"type\":\"DataRange1d\"},\"y_scale\":{\"id\":\"1008\",\"type\":\"LinearScale\"}},\"id\":\"1001\",\"subtype\":\"Figure\",\"type\":\"Plot\"},{\"attributes\":{\"children\":[{\"id\":\"1052\",\"type\":\"Row\"}]},\"id\":\"1053\",\"type\":\"Column\"},{\"attributes\":{\"callback\":null,\"start\":0},\"id\":\"1004\",\"type\":\"DataRange1d\"},{\"attributes\":{\"source\":{\"id\":\"1035\",\"type\":\"ColumnDataSource\"}},\"id\":\"1039\",\"type\":\"CDSView\"},{\"attributes\":{\"tools\":[{\"id\":\"1020\",\"type\":\"PanTool\"},{\"id\":\"1021\",\"type\":\"WheelZoomTool\"},{\"id\":\"1022\",\"type\":\"BoxZoomTool\"},{\"id\":\"1023\",\"type\":\"SaveTool\"},{\"id\":\"1024\",\"type\":\"ResetTool\"},{\"id\":\"1025\",\"type\":\"HelpTool\"},{\"id\":\"1040\",\"type\":\"HoverTool\"}]},\"id\":\"1054\",\"type\":\"ProxyToolbar\"},{\"attributes\":{},\"id\":\"1025\",\"type\":\"HelpTool\"},{\"attributes\":{\"overlay\":{\"id\":\"1028\",\"type\":\"BoxAnnotation\"}},\"id\":\"1022\",\"type\":\"BoxZoomTool\"},{\"attributes\":{\"plot\":{\"id\":\"1001\",\"subtype\":\"Figure\",\"type\":\"Plot\"},\"ticker\":{\"id\":\"1011\",\"type\":\"BasicTicker\"}},\"id\":\"1014\",\"type\":\"Grid\"},{\"attributes\":{},\"id\":\"1011\",\"type\":\"BasicTicker\"},{\"attributes\":{},\"id\":\"1023\",\"type\":\"SaveTool\"},{\"attributes\":{\"bottom\":{\"value\":0},\"fill_alpha\":{\"value\":0.1},\"fill_color\":{\"value\":\"#1f77b4\"},\"left\":{\"field\":\"left\"},\"line_alpha\":{\"value\":0.1},\"line_color\":{\"value\":\"#1f77b4\"},\"right\":{\"field\":\"right\"},\"top\":{\"field\":\"top\"}},\"id\":\"1037\",\"type\":\"Quad\"},{\"attributes\":{\"callback\":null,\"data\":{\"left\":{\"__ndarray__\":\"kJR64kKBM0Du8rlCDgw0QE1R+aLZljRAq684A6UhNUAJDnhjcKw1QGhst8M7NzZAxsr2IwfCNkAkKTaE0kw3QIKHdeSd1zdA4eW0RGliOEA/RPSkNO04QJ6iMwUAeDlA/ABzZcsCOkBaX7LFlo06QLi98SViGDtAFhwxhi2jO0B1enDm+C08QNTYr0bEuDxAMjfvpo9DPUCQlS4HW849QO7zbWcmWT5ATFKtx/HjPkCrsOwnvW4/QAkPLIiI+T9AtLY19ClCQEDjZVWkj4dAQBIVdVT1zEBAQcSUBFsSQUBwc7S0wFdBQKAi1GQmnUFAztHzFIziQUD+gBPF8SdCQC0wM3VXbUJAXN9SJb2yQkCMjnLVIvhCQLo9koWIPUNA6uyxNe6CQ0AZnNHlU8hDQEhL8ZW5DURAd/oQRh9TRECmqTD2hJhEQNZYUKbq3URABAhwVlAjRUA0t48GtmhFQGNmr7YbrkVAkhXPZoHzRUDBxO4W5zhGQPBzDsdMfkZAICMud7LDRkBO0k0nGAlHQH6Bbdd9TkdArTCNh+OTR0Dc36w3SdlHQAyPzOeuHkhAOj7slxRkSEBq7QtIeqlIQJmcK/jf7khAyEtLqEU0SUD3+mpYq3lJQCaqiggRv0lAVVmquHYESkCFCMpo3ElKQLS36RhCj0pA42YJyafUSkASFil5DRpLQEHFSClzX0tAcHRo2dikS0CfI4iJPupLQM/SpzmkL0xA/oHH6Ql1TEAtMeeZb7pMQFzgBkrV/0xAi48m+jpFTUC6PkaqoIpNQOrtZVoG0E1AGZ2FCmwVTkBITKW60VpOQHf7xGo3oE5ApqrkGp3lTkDVWQTLAitPQAQJJHtocE9ANLhDK861T0BjZ2PbM/tPQEmLwcVMIFBA4GLRnf9CUEB4OuF1smVQQBAS8U1liFBAqOkAJhirUEA/wRD+ys1QQNaYINZ98FBAbnAwrjATUUAGSECG4zVRQJ0fUF6WWFFANfdfNkl7UUDMzm8O/J1RQGSmf+auwFFA/H2PvmHjUUCTVZ+WFAZSQCotr27HKFJAwgS/RnpLUkBa3M4eLW5SQPKz3vbfkFJAiYvuzpKzUkAgY/6mRdZSQLg6Dn/4+FJAUBIeV6sbU0Do6S0vXj5TQH/BPQcRYVNAFplN38ODU0CucF23dqZTQEZIbY8pyVNA3R99Z9zrU0B194w/jw5UQAzPnBdCMVRApKas7/RTVEA8frzHp3ZUQNNVzJ9amVRAai3cdw28VEA=\",\"dtype\":\"float64\",\"shape\":[118]},\"right\":{\"__ndarray__\":\"7vK5Qg4MNEBNUfmi2ZY0QKuvOAOlITVACQ54Y3CsNUBobLfDOzc2QMbK9iMHwjZAJCk2hNJMN0CCh3Xkndc3QOHltERpYjhAP0T0pDTtOECeojMFAHg5QPwAc2XLAjpAWl+yxZaNOkC4vfElYhg7QBYcMYYtoztAdXpw5vgtPEDU2K9GxLg8QDI376aPQz1AkJUuB1vOPUDu821nJlk+QExSrcfx4z5Aq7DsJ71uP0AJDyyIiPk/QLS2NfQpQkBA42VVpI+HQEASFXVU9cxAQEHElARbEkFAcHO0tMBXQUCgItRkJp1BQM7R8xSM4kFA/oATxfEnQkAtMDN1V21CQFzfUiW9skJAjI5y1SL4QkC6PZKFiD1DQOrssTXugkNAGZzR5VPIQ0BIS/GVuQ1EQHf6EEYfU0RApqkw9oSYREDWWFCm6t1EQAQIcFZQI0VANLePBrZoRUBjZq+2G65FQJIVz2aB80VAwcTuFuc4RkDwcw7HTH5GQCAjLneyw0ZATtJNJxgJR0B+gW3XfU5HQK0wjYfjk0dA3N+sN0nZR0AMj8znrh5IQDo+7JcUZEhAau0LSHqpSECZnCv43+5IQMhLS6hFNElA9/pqWKt5SUAmqooIEb9JQFVZqrh2BEpAhQjKaNxJSkC0t+kYQo9KQONmCcmn1EpAEhYpeQ0aS0BBxUgpc19LQHB0aNnYpEtAnyOIiT7qS0DP0qc5pC9MQP6Bx+kJdUxALTHnmW+6TEBc4AZK1f9MQIuPJvo6RU1Auj5GqqCKTUDq7WVaBtBNQBmdhQpsFU5ASEylutFaTkB3+8RqN6BOQKaq5Bqd5U5A1VkEywIrT0AECSR7aHBPQDS4QyvOtU9AY2dj2zP7T0BJi8HFTCBQQOBi0Z3/QlBAeDrhdbJlUEAQEvFNZYhQQKjpACYYq1BAP8EQ/srNUEDWmCDWffBQQG5wMK4wE1FABkhAhuM1UUCdH1BellhRQDX3XzZJe1FAzM5vDvydUUBkpn/mrsBRQPx9j75h41FAk1WflhQGUkAqLa9uxyhSQMIEv0Z6S1JAWtzOHi1uUkDys97235BSQImL7s6Ss1JAIGP+pkXWUkC4Og5/+PhSQFASHlerG1NA6OktL14+U0B/wT0HEWFTQBaZTd/Dg1NArnBdt3amU0BGSG2PKclTQN0ffWfc61NAdfeMP48OVEAMz5wXQjFUQKSmrO/0U1RAPH68x6d2VEDTVcyfWplUQGot3HcNvFRAAgXsT8DeVEA=\",\"dtype\":\"float64\",\"shape\":[118]},\"top\":{\"__ndarray__\":\"0547ieKCHT8AAAAAAAAAANOeO4nigi0/AAAAAAAAAAAAAAAAAAAAAAAAAAAAAAAAAAAAAAAAAADTnjuJ4oIdP5yeO4nigh0/AAAAAAAAAAAAAAAAAAAAAAAAAAAAAAAAAAAAAAAAAADTnjuJ4oItPwAAAAAAAAAAnJ47ieKCHT+cnjuJ4oI9Px637OYpIjY/0547ieKCLT/TnjuJ4oItPx637OYpIjY/nJ47ieKCPT9EQ8WVzXFCP5yeO4nigk0/REPFlc1xUj8x/Vi++0lUP1eJMW2fmVA/+SoUOIbSWT9mnjuJ4oJdP4hDxZXNcWI/Zp47ieKCbT86IA+q5F1jP9zB8XTLlmw/wJM2+0AOZz//DjQ08NNzPxmJMW2fmXA/0ndW96oPcT9EQ8WVzXFyP6PIx1werHU/tg40NPDTcz+MB15Mnb56P+FfpZljcHg/mSoUOIbSeT/bmgzjkyOAP78x6h/Z54I/Bsyy0Mc2gj/Sd1b3qg+BPw1me4G2hYE/ri7/qy9dhj8+1pXFFkGQP6htlZuub4s/GjkEOtHRjD8G9oLWqDSLP9s87616XIk/lvKXYv+pjj/+z+F2FpaPP9zB8XTLlow/C3GAD1j6hz9h08zqvyCMP9OeO4nigo0/LF+lmWNwiD/vB15Mnb6KP6htlZuub4s/LX9wEaP5ij/5KhQ4htKJP9zB8XTLlow/fTzvrXpciT/srxb/1gyNP4LhvOwKII8/Bsyy0Mc2kj8RFk5O6L2NPz1fgwARBpA/guG87Aogjz9J3Y1GvMCRP1eJMW2fmZA/KNqi0hI2lT8NsPRlhKKUP5LBz9t4LJQ/SycHK4rdlD9ebXMCXAWTP3gVLLWVU5U/b3RrgwGFlD8x/Vi++0mUP62pHn4xjZs/mSoUOIbSmT+8W7oluuWbPyknKcTcR50/OnyFnflunj+4pYAkDGOiP6mFRvn1DqQ/tYw+epuOpT8bg+zRdbmrP3/WSKuS4Kw/kk5bcJgbrT+vKqWErweuP9ahJv2LDao/PAFmy/c+qT94qY0xCFinPyJmDM7fuqU/48Tc6HQhqT+/hddFH0SoPzitmj4ETaw/PYZG+fUOpD89utda06yiP2DrfUgHwKQ/5wq4cx0Uoz/pBzyzSlSiP4BRJEvvO6E/0O5ovLBKoT/srxb/1gydPwOtCfLaF5g/GYkxbZ+ZkD9AnzuJ4oKNP6ZNyiNv5og/DWZ7gbaFgT8ReFb3qg9xP3C37OYpImY/mSoUOIbSST8=\",\"dtype\":\"float64\",\"shape\":[118]}},\"selected\":{\"id\":\"1049\",\"type\":\"Selection\"},\"selection_policy\":{\"id\":\"1050\",\"type\":\"UnionRenderers\"}},\"id\":\"1035\",\"type\":\"ColumnDataSource\"},{\"attributes\":{\"dimension\":1,\"plot\":{\"id\":\"1001\",\"subtype\":\"Figure\",\"type\":\"Plot\"},\"ticker\":{\"id\":\"1016\",\"type\":\"BasicTicker\"}},\"id\":\"1019\",\"type\":\"Grid\"},{\"attributes\":{},\"id\":\"1024\",\"type\":\"ResetTool\"},{\"attributes\":{\"axis_label\":\"Frequency\",\"formatter\":{\"id\":\"1045\",\"type\":\"BasicTickFormatter\"},\"plot\":{\"id\":\"1001\",\"subtype\":\"Figure\",\"type\":\"Plot\"},\"ticker\":{\"id\":\"1016\",\"type\":\"BasicTicker\"}},\"id\":\"1015\",\"type\":\"LinearAxis\"},{\"attributes\":{\"toolbar\":{\"id\":\"1054\",\"type\":\"ProxyToolbar\"},\"toolbar_location\":\"above\"},\"id\":\"1055\",\"type\":\"ToolbarBox\"},{\"attributes\":{},\"id\":\"1008\",\"type\":\"LinearScale\"},{\"attributes\":{\"plot\":null,\"text\":\"\"},\"id\":\"1043\",\"type\":\"Title\"},{\"attributes\":{},\"id\":\"1050\",\"type\":\"UnionRenderers\"},{\"attributes\":{\"data_source\":{\"id\":\"1035\",\"type\":\"ColumnDataSource\"},\"glyph\":{\"id\":\"1036\",\"type\":\"Quad\"},\"hover_glyph\":null,\"muted_glyph\":null,\"nonselection_glyph\":{\"id\":\"1037\",\"type\":\"Quad\"},\"selection_glyph\":null,\"view\":{\"id\":\"1039\",\"type\":\"CDSView\"}},\"id\":\"1038\",\"type\":\"GlyphRenderer\"},{\"attributes\":{},\"id\":\"1049\",\"type\":\"Selection\"},{\"attributes\":{\"axis_label\":\"Life\",\"formatter\":{\"id\":\"1047\",\"type\":\"BasicTickFormatter\"},\"plot\":{\"id\":\"1001\",\"subtype\":\"Figure\",\"type\":\"Plot\"},\"ticker\":{\"id\":\"1011\",\"type\":\"BasicTicker\"}},\"id\":\"1010\",\"type\":\"LinearAxis\"},{\"attributes\":{\"children\":[{\"id\":\"1055\",\"type\":\"ToolbarBox\"},{\"id\":\"1053\",\"type\":\"Column\"}]},\"id\":\"1056\",\"type\":\"Column\"},{\"attributes\":{\"children\":[{\"id\":\"1001\",\"subtype\":\"Figure\",\"type\":\"Plot\"}]},\"id\":\"1052\",\"type\":\"Row\"},{\"attributes\":{\"active_drag\":\"auto\",\"active_inspect\":\"auto\",\"active_multi\":null,\"active_scroll\":\"auto\",\"active_tap\":\"auto\",\"tools\":[{\"id\":\"1020\",\"type\":\"PanTool\"},{\"id\":\"1021\",\"type\":\"WheelZoomTool\"},{\"id\":\"1022\",\"type\":\"BoxZoomTool\"},{\"id\":\"1023\",\"type\":\"SaveTool\"},{\"id\":\"1024\",\"type\":\"ResetTool\"},{\"id\":\"1025\",\"type\":\"HelpTool\"},{\"id\":\"1040\",\"type\":\"HoverTool\"}]},\"id\":\"1026\",\"type\":\"Toolbar\"},{\"attributes\":{},\"id\":\"1006\",\"type\":\"LinearScale\"},{\"attributes\":{},\"id\":\"1021\",\"type\":\"WheelZoomTool\"},{\"attributes\":{\"callback\":null},\"id\":\"1002\",\"type\":\"DataRange1d\"},{\"attributes\":{\"callback\":null,\"tooltips\":[[\"Frequency\",\"@top{0.00}\"],[\"Interval\",\"@left - @right\"]]},\"id\":\"1040\",\"type\":\"HoverTool\"},{\"attributes\":{\"bottom_units\":\"screen\",\"fill_alpha\":{\"value\":0.5},\"fill_color\":{\"value\":\"lightgrey\"},\"left_units\":\"screen\",\"level\":\"overlay\",\"line_alpha\":{\"value\":1.0},\"line_color\":{\"value\":\"black\"},\"line_dash\":[4,4],\"line_width\":{\"value\":2},\"plot\":null,\"render_mode\":\"css\",\"right_units\":\"screen\",\"top_units\":\"screen\"},\"id\":\"1028\",\"type\":\"BoxAnnotation\"}],\"root_ids\":[\"1056\"]},\"title\":\"Bokeh Application\",\"version\":\"1.0.4\"}}';\n",
       "          var render_items = [{\"docid\":\"aae55abd-3080-4e47-9d72-0979f510ec9c\",\"roots\":{\"1056\":\"36e5e494-6d6d-4703-90dd-78d673710a2b\"}}];\n",
       "          root.Bokeh.embed.embed_items(docs_json, render_items);\n",
       "        \n",
       "          }\n",
       "          if (root.Bokeh !== undefined) {\n",
       "            embed_document(root);\n",
       "          } else {\n",
       "            var attempts = 0;\n",
       "            var timer = setInterval(function(root) {\n",
       "              if (root.Bokeh !== undefined) {\n",
       "                embed_document(root);\n",
       "                clearInterval(timer);\n",
       "              }\n",
       "              attempts++;\n",
       "              if (attempts > 100) {\n",
       "                console.log(\"Bokeh: ERROR: Unable to run BokehJS code because BokehJS library is missing\");\n",
       "                clearInterval(timer);\n",
       "              }\n",
       "            }, 10, root)\n",
       "          }\n",
       "        })(window);\n",
       "      });\n",
       "    };\n",
       "    if (document.readyState != \"loading\") fn();\n",
       "    else document.addEventListener(\"DOMContentLoaded\", fn);\n",
       "  })();\n",
       "<\\/script>`\n",
       "                                var chartscript = el.childNodes[1]\n",
       "                                var s = document.createElement(\"script\")\n",
       "                                s.innerHTML = chartscript.innerHTML\n",
       "                                d.parentNode.insertBefore(s, d)\n",
       "                            }\n",
       "                        }\n",
       "                    }\n",
       "                    if (!window.Bokeh && !window.autoload){\n",
       "                        window.autoload=true;\n",
       "                        \n",
       "(function(root) {\n",
       "  function now() {\n",
       "    return new Date();\n",
       "  }\n",
       "\n",
       "  var force = 1;\n",
       "\n",
       "  if (typeof (root._bokeh_onload_callbacks) === \"undefined\" || force === true) {\n",
       "    root._bokeh_onload_callbacks = [];\n",
       "    root._bokeh_is_loading = undefined;\n",
       "  }\n",
       "\n",
       "  \n",
       "\n",
       "  \n",
       "  if (typeof (root._bokeh_timeout) === \"undefined\" || force === true) {\n",
       "    root._bokeh_timeout = Date.now() + 5000;\n",
       "    root._bokeh_failed_load = false;\n",
       "  }\n",
       "\n",
       "  var NB_LOAD_WARNING = {'data': {'text/html':\n",
       "     \"<div style='background-color: #fdd'>\\n\"+\n",
       "     \"<p>\\n\"+\n",
       "     \"BokehJS does not appear to have successfully loaded. If loading BokehJS from CDN, this \\n\"+\n",
       "     \"may be due to a slow or bad network connection. Possible fixes:\\n\"+\n",
       "     \"</p>\\n\"+\n",
       "     \"<ul>\\n\"+\n",
       "     \"<li>re-rerun `output_notebook()` to attempt to load from CDN again, or</li>\\n\"+\n",
       "     \"<li>use INLINE resources instead, as so:</li>\\n\"+\n",
       "     \"</ul>\\n\"+\n",
       "     \"<code>\\n\"+\n",
       "     \"from bokeh.resources import INLINE\\n\"+\n",
       "     \"output_notebook(resources=INLINE)\\n\"+\n",
       "     \"</code>\\n\"+\n",
       "     \"</div>\"}};\n",
       "\n",
       "  function display_loaded() {\n",
       "    var el = document.getElementById(\"\");\n",
       "    if (el != null) {\n",
       "      el.textContent = \"BokehJS is loading...\";\n",
       "    }\n",
       "    if (root.Bokeh !== undefined) {\n",
       "      if (el != null) {\n",
       "        el.textContent = \"BokehJS \" + root.Bokeh.version + \" successfully loaded.\";\n",
       "      }\n",
       "    } else if (Date.now() < root._bokeh_timeout) {\n",
       "      setTimeout(display_loaded, 100)\n",
       "    }\n",
       "  }\n",
       "\n",
       "\n",
       "  function run_callbacks() {\n",
       "    try {\n",
       "      root._bokeh_onload_callbacks.forEach(function(callback) { callback() });\n",
       "    }\n",
       "    finally {\n",
       "      delete root._bokeh_onload_callbacks\n",
       "    }\n",
       "    console.info(\"Bokeh: all callbacks have finished\");\n",
       "  }\n",
       "\n",
       "  function load_libs(js_urls, callback) {\n",
       "    root._bokeh_onload_callbacks.push(callback);\n",
       "    if (root._bokeh_is_loading > 0) {\n",
       "      console.log(\"Bokeh: BokehJS is being loaded, scheduling callback at\", now());\n",
       "      return null;\n",
       "    }\n",
       "    if (js_urls == null || js_urls.length === 0) {\n",
       "      run_callbacks();\n",
       "      return null;\n",
       "    }\n",
       "    console.log(\"Bokeh: BokehJS not loaded, scheduling load and callback at\", now());\n",
       "    root._bokeh_is_loading = js_urls.length;\n",
       "    for (var i = 0; i < js_urls.length; i++) {\n",
       "      var url = js_urls[i];\n",
       "      var s = document.createElement('script');\n",
       "      s.src = url;\n",
       "      s.async = false;\n",
       "      s.onreadystatechange = s.onload = function() {\n",
       "        root._bokeh_is_loading--;\n",
       "        if (root._bokeh_is_loading === 0) {\n",
       "          console.log(\"Bokeh: all BokehJS libraries loaded\");\n",
       "          run_callbacks()\n",
       "        }\n",
       "      };\n",
       "      s.onerror = function() {\n",
       "        console.warn(\"failed to load library \" + url);\n",
       "      };\n",
       "      console.log(\"Bokeh: injecting script tag for BokehJS library: \", url);\n",
       "      document.getElementsByTagName(\"head\")[0].appendChild(s);\n",
       "    }\n",
       "  };\n",
       "\n",
       "  var js_urls = [\"https://cdn.pydata.org/bokeh/release/bokeh-1.0.4.min.js\", \"https://cdn.pydata.org/bokeh/release/bokeh-widgets-1.0.4.min.js\", \"https://cdn.pydata.org/bokeh/release/bokeh-tables-1.0.4.min.js\", \"https://cdn.pydata.org/bokeh/release/bokeh-gl-1.0.4.min.js\"];\n",
       "\n",
       "  var inline_js = [\n",
       "    function(Bokeh) {\n",
       "      Bokeh.set_log_level(\"info\");\n",
       "    },\n",
       "    function(Bokeh) {\n",
       "      console.log(\"Bokeh: injecting CSS: https://cdn.pydata.org/bokeh/release/bokeh-1.0.4.min.css\");\n",
       "      Bokeh.embed.inject_css(\"https://cdn.pydata.org/bokeh/release/bokeh-1.0.4.min.css\");\n",
       "      console.log(\"Bokeh: injecting CSS: https://cdn.pydata.org/bokeh/release/bokeh-widgets-1.0.4.min.css\");\n",
       "      Bokeh.embed.inject_css(\"https://cdn.pydata.org/bokeh/release/bokeh-widgets-1.0.4.min.css\");\n",
       "      console.log(\"Bokeh: injecting CSS: https://cdn.pydata.org/bokeh/release/bokeh-tables-1.0.4.min.css\");\n",
       "      Bokeh.embed.inject_css(\"https://cdn.pydata.org/bokeh/release/bokeh-tables-1.0.4.min.css\");\n",
       "    }\n",
       "  ];\n",
       "\n",
       "  function run_inline_js() {\n",
       "    \n",
       "    if ((root.Bokeh !== undefined) || (force === true)) {\n",
       "      for (var i = 0; i < inline_js.length; i++) {\n",
       "        inline_js[i].call(root, root.Bokeh);\n",
       "      }} else if (Date.now() < root._bokeh_timeout) {\n",
       "      setTimeout(run_inline_js, 100);\n",
       "    } else if (!root._bokeh_failed_load) {\n",
       "      console.log(\"Bokeh: BokehJS failed to load within specified timeout.\");\n",
       "      root._bokeh_failed_load = true;\n",
       "    } else if (force !== true) {\n",
       "      var cell = $(document.getElementById(\"\")).parents('.cell').data().cell;\n",
       "      cell.output_area.append_execute_result(NB_LOAD_WARNING)\n",
       "    }\n",
       "\n",
       "  }\n",
       "\n",
       "  if (root._bokeh_is_loading === 0) {\n",
       "    console.log(\"Bokeh: BokehJS loaded, going straight to plotting\");\n",
       "    run_inline_js();\n",
       "  } else {\n",
       "    load_libs(js_urls, function() {\n",
       "      console.log(\"Bokeh: BokehJS plotting callback run at\", now());\n",
       "      run_inline_js();\n",
       "    });\n",
       "  }\n",
       "}(window));\n",
       "                    }\n",
       "                    setChartScript()\n",
       "                    </script>\n",
       "                    <script>\n",
       "  (function() {\n",
       "    var fn = function() {\n",
       "      Bokeh.safely(function() {\n",
       "        (function(root) {\n",
       "          function embed_document(root) {\n",
       "            \n",
       "          var docs_json = '{\"aae55abd-3080-4e47-9d72-0979f510ec9c\":{\"roots\":{\"references\":[{\"attributes\":{},\"id\":\"1045\",\"type\":\"BasicTickFormatter\"},{\"attributes\":{},\"id\":\"1047\",\"type\":\"BasicTickFormatter\"},{\"attributes\":{\"bottom\":{\"value\":0},\"fill_color\":{\"value\":\"#1f77b4\"},\"left\":{\"field\":\"left\"},\"line_color\":{\"value\":\"#cccccc\"},\"right\":{\"field\":\"right\"},\"top\":{\"field\":\"top\"}},\"id\":\"1036\",\"type\":\"Quad\"},{\"attributes\":{},\"id\":\"1016\",\"type\":\"BasicTicker\"},{\"attributes\":{},\"id\":\"1020\",\"type\":\"PanTool\"},{\"attributes\":{\"below\":[{\"id\":\"1010\",\"type\":\"LinearAxis\"}],\"left\":[{\"id\":\"1015\",\"type\":\"LinearAxis\"}],\"plot_height\":478,\"plot_width\":639,\"renderers\":[{\"id\":\"1010\",\"type\":\"LinearAxis\"},{\"id\":\"1014\",\"type\":\"Grid\"},{\"id\":\"1015\",\"type\":\"LinearAxis\"},{\"id\":\"1019\",\"type\":\"Grid\"},{\"id\":\"1028\",\"type\":\"BoxAnnotation\"},{\"id\":\"1038\",\"type\":\"GlyphRenderer\"}],\"title\":{\"id\":\"1043\",\"type\":\"Title\"},\"toolbar\":{\"id\":\"1026\",\"type\":\"Toolbar\"},\"toolbar_location\":null,\"x_range\":{\"id\":\"1002\",\"type\":\"DataRange1d\"},\"x_scale\":{\"id\":\"1006\",\"type\":\"LinearScale\"},\"y_range\":{\"id\":\"1004\",\"type\":\"DataRange1d\"},\"y_scale\":{\"id\":\"1008\",\"type\":\"LinearScale\"}},\"id\":\"1001\",\"subtype\":\"Figure\",\"type\":\"Plot\"},{\"attributes\":{\"children\":[{\"id\":\"1052\",\"type\":\"Row\"}]},\"id\":\"1053\",\"type\":\"Column\"},{\"attributes\":{\"callback\":null,\"start\":0},\"id\":\"1004\",\"type\":\"DataRange1d\"},{\"attributes\":{\"source\":{\"id\":\"1035\",\"type\":\"ColumnDataSource\"}},\"id\":\"1039\",\"type\":\"CDSView\"},{\"attributes\":{\"tools\":[{\"id\":\"1020\",\"type\":\"PanTool\"},{\"id\":\"1021\",\"type\":\"WheelZoomTool\"},{\"id\":\"1022\",\"type\":\"BoxZoomTool\"},{\"id\":\"1023\",\"type\":\"SaveTool\"},{\"id\":\"1024\",\"type\":\"ResetTool\"},{\"id\":\"1025\",\"type\":\"HelpTool\"},{\"id\":\"1040\",\"type\":\"HoverTool\"}]},\"id\":\"1054\",\"type\":\"ProxyToolbar\"},{\"attributes\":{},\"id\":\"1025\",\"type\":\"HelpTool\"},{\"attributes\":{\"overlay\":{\"id\":\"1028\",\"type\":\"BoxAnnotation\"}},\"id\":\"1022\",\"type\":\"BoxZoomTool\"},{\"attributes\":{\"plot\":{\"id\":\"1001\",\"subtype\":\"Figure\",\"type\":\"Plot\"},\"ticker\":{\"id\":\"1011\",\"type\":\"BasicTicker\"}},\"id\":\"1014\",\"type\":\"Grid\"},{\"attributes\":{},\"id\":\"1011\",\"type\":\"BasicTicker\"},{\"attributes\":{},\"id\":\"1023\",\"type\":\"SaveTool\"},{\"attributes\":{\"bottom\":{\"value\":0},\"fill_alpha\":{\"value\":0.1},\"fill_color\":{\"value\":\"#1f77b4\"},\"left\":{\"field\":\"left\"},\"line_alpha\":{\"value\":0.1},\"line_color\":{\"value\":\"#1f77b4\"},\"right\":{\"field\":\"right\"},\"top\":{\"field\":\"top\"}},\"id\":\"1037\",\"type\":\"Quad\"},{\"attributes\":{\"callback\":null,\"data\":{\"left\":{\"__ndarray__\":\"kJR64kKBM0Du8rlCDgw0QE1R+aLZljRAq684A6UhNUAJDnhjcKw1QGhst8M7NzZAxsr2IwfCNkAkKTaE0kw3QIKHdeSd1zdA4eW0RGliOEA/RPSkNO04QJ6iMwUAeDlA/ABzZcsCOkBaX7LFlo06QLi98SViGDtAFhwxhi2jO0B1enDm+C08QNTYr0bEuDxAMjfvpo9DPUCQlS4HW849QO7zbWcmWT5ATFKtx/HjPkCrsOwnvW4/QAkPLIiI+T9AtLY19ClCQEDjZVWkj4dAQBIVdVT1zEBAQcSUBFsSQUBwc7S0wFdBQKAi1GQmnUFAztHzFIziQUD+gBPF8SdCQC0wM3VXbUJAXN9SJb2yQkCMjnLVIvhCQLo9koWIPUNA6uyxNe6CQ0AZnNHlU8hDQEhL8ZW5DURAd/oQRh9TRECmqTD2hJhEQNZYUKbq3URABAhwVlAjRUA0t48GtmhFQGNmr7YbrkVAkhXPZoHzRUDBxO4W5zhGQPBzDsdMfkZAICMud7LDRkBO0k0nGAlHQH6Bbdd9TkdArTCNh+OTR0Dc36w3SdlHQAyPzOeuHkhAOj7slxRkSEBq7QtIeqlIQJmcK/jf7khAyEtLqEU0SUD3+mpYq3lJQCaqiggRv0lAVVmquHYESkCFCMpo3ElKQLS36RhCj0pA42YJyafUSkASFil5DRpLQEHFSClzX0tAcHRo2dikS0CfI4iJPupLQM/SpzmkL0xA/oHH6Ql1TEAtMeeZb7pMQFzgBkrV/0xAi48m+jpFTUC6PkaqoIpNQOrtZVoG0E1AGZ2FCmwVTkBITKW60VpOQHf7xGo3oE5ApqrkGp3lTkDVWQTLAitPQAQJJHtocE9ANLhDK861T0BjZ2PbM/tPQEmLwcVMIFBA4GLRnf9CUEB4OuF1smVQQBAS8U1liFBAqOkAJhirUEA/wRD+ys1QQNaYINZ98FBAbnAwrjATUUAGSECG4zVRQJ0fUF6WWFFANfdfNkl7UUDMzm8O/J1RQGSmf+auwFFA/H2PvmHjUUCTVZ+WFAZSQCotr27HKFJAwgS/RnpLUkBa3M4eLW5SQPKz3vbfkFJAiYvuzpKzUkAgY/6mRdZSQLg6Dn/4+FJAUBIeV6sbU0Do6S0vXj5TQH/BPQcRYVNAFplN38ODU0CucF23dqZTQEZIbY8pyVNA3R99Z9zrU0B194w/jw5UQAzPnBdCMVRApKas7/RTVEA8frzHp3ZUQNNVzJ9amVRAai3cdw28VEA=\",\"dtype\":\"float64\",\"shape\":[118]},\"right\":{\"__ndarray__\":\"7vK5Qg4MNEBNUfmi2ZY0QKuvOAOlITVACQ54Y3CsNUBobLfDOzc2QMbK9iMHwjZAJCk2hNJMN0CCh3Xkndc3QOHltERpYjhAP0T0pDTtOECeojMFAHg5QPwAc2XLAjpAWl+yxZaNOkC4vfElYhg7QBYcMYYtoztAdXpw5vgtPEDU2K9GxLg8QDI376aPQz1AkJUuB1vOPUDu821nJlk+QExSrcfx4z5Aq7DsJ71uP0AJDyyIiPk/QLS2NfQpQkBA42VVpI+HQEASFXVU9cxAQEHElARbEkFAcHO0tMBXQUCgItRkJp1BQM7R8xSM4kFA/oATxfEnQkAtMDN1V21CQFzfUiW9skJAjI5y1SL4QkC6PZKFiD1DQOrssTXugkNAGZzR5VPIQ0BIS/GVuQ1EQHf6EEYfU0RApqkw9oSYREDWWFCm6t1EQAQIcFZQI0VANLePBrZoRUBjZq+2G65FQJIVz2aB80VAwcTuFuc4RkDwcw7HTH5GQCAjLneyw0ZATtJNJxgJR0B+gW3XfU5HQK0wjYfjk0dA3N+sN0nZR0AMj8znrh5IQDo+7JcUZEhAau0LSHqpSECZnCv43+5IQMhLS6hFNElA9/pqWKt5SUAmqooIEb9JQFVZqrh2BEpAhQjKaNxJSkC0t+kYQo9KQONmCcmn1EpAEhYpeQ0aS0BBxUgpc19LQHB0aNnYpEtAnyOIiT7qS0DP0qc5pC9MQP6Bx+kJdUxALTHnmW+6TEBc4AZK1f9MQIuPJvo6RU1Auj5GqqCKTUDq7WVaBtBNQBmdhQpsFU5ASEylutFaTkB3+8RqN6BOQKaq5Bqd5U5A1VkEywIrT0AECSR7aHBPQDS4QyvOtU9AY2dj2zP7T0BJi8HFTCBQQOBi0Z3/QlBAeDrhdbJlUEAQEvFNZYhQQKjpACYYq1BAP8EQ/srNUEDWmCDWffBQQG5wMK4wE1FABkhAhuM1UUCdH1BellhRQDX3XzZJe1FAzM5vDvydUUBkpn/mrsBRQPx9j75h41FAk1WflhQGUkAqLa9uxyhSQMIEv0Z6S1JAWtzOHi1uUkDys97235BSQImL7s6Ss1JAIGP+pkXWUkC4Og5/+PhSQFASHlerG1NA6OktL14+U0B/wT0HEWFTQBaZTd/Dg1NArnBdt3amU0BGSG2PKclTQN0ffWfc61NAdfeMP48OVEAMz5wXQjFUQKSmrO/0U1RAPH68x6d2VEDTVcyfWplUQGot3HcNvFRAAgXsT8DeVEA=\",\"dtype\":\"float64\",\"shape\":[118]},\"top\":{\"__ndarray__\":\"0547ieKCHT8AAAAAAAAAANOeO4nigi0/AAAAAAAAAAAAAAAAAAAAAAAAAAAAAAAAAAAAAAAAAADTnjuJ4oIdP5yeO4nigh0/AAAAAAAAAAAAAAAAAAAAAAAAAAAAAAAAAAAAAAAAAADTnjuJ4oItPwAAAAAAAAAAnJ47ieKCHT+cnjuJ4oI9Px637OYpIjY/0547ieKCLT/TnjuJ4oItPx637OYpIjY/nJ47ieKCPT9EQ8WVzXFCP5yeO4nigk0/REPFlc1xUj8x/Vi++0lUP1eJMW2fmVA/+SoUOIbSWT9mnjuJ4oJdP4hDxZXNcWI/Zp47ieKCbT86IA+q5F1jP9zB8XTLlmw/wJM2+0AOZz//DjQ08NNzPxmJMW2fmXA/0ndW96oPcT9EQ8WVzXFyP6PIx1werHU/tg40NPDTcz+MB15Mnb56P+FfpZljcHg/mSoUOIbSeT/bmgzjkyOAP78x6h/Z54I/Bsyy0Mc2gj/Sd1b3qg+BPw1me4G2hYE/ri7/qy9dhj8+1pXFFkGQP6htlZuub4s/GjkEOtHRjD8G9oLWqDSLP9s87616XIk/lvKXYv+pjj/+z+F2FpaPP9zB8XTLlow/C3GAD1j6hz9h08zqvyCMP9OeO4nigo0/LF+lmWNwiD/vB15Mnb6KP6htlZuub4s/LX9wEaP5ij/5KhQ4htKJP9zB8XTLlow/fTzvrXpciT/srxb/1gyNP4LhvOwKII8/Bsyy0Mc2kj8RFk5O6L2NPz1fgwARBpA/guG87Aogjz9J3Y1GvMCRP1eJMW2fmZA/KNqi0hI2lT8NsPRlhKKUP5LBz9t4LJQ/SycHK4rdlD9ebXMCXAWTP3gVLLWVU5U/b3RrgwGFlD8x/Vi++0mUP62pHn4xjZs/mSoUOIbSmT+8W7oluuWbPyknKcTcR50/OnyFnflunj+4pYAkDGOiP6mFRvn1DqQ/tYw+epuOpT8bg+zRdbmrP3/WSKuS4Kw/kk5bcJgbrT+vKqWErweuP9ahJv2LDao/PAFmy/c+qT94qY0xCFinPyJmDM7fuqU/48Tc6HQhqT+/hddFH0SoPzitmj4ETaw/PYZG+fUOpD89utda06yiP2DrfUgHwKQ/5wq4cx0Uoz/pBzyzSlSiP4BRJEvvO6E/0O5ovLBKoT/srxb/1gydPwOtCfLaF5g/GYkxbZ+ZkD9AnzuJ4oKNP6ZNyiNv5og/DWZ7gbaFgT8ReFb3qg9xP3C37OYpImY/mSoUOIbSST8=\",\"dtype\":\"float64\",\"shape\":[118]}},\"selected\":{\"id\":\"1049\",\"type\":\"Selection\"},\"selection_policy\":{\"id\":\"1050\",\"type\":\"UnionRenderers\"}},\"id\":\"1035\",\"type\":\"ColumnDataSource\"},{\"attributes\":{\"dimension\":1,\"plot\":{\"id\":\"1001\",\"subtype\":\"Figure\",\"type\":\"Plot\"},\"ticker\":{\"id\":\"1016\",\"type\":\"BasicTicker\"}},\"id\":\"1019\",\"type\":\"Grid\"},{\"attributes\":{},\"id\":\"1024\",\"type\":\"ResetTool\"},{\"attributes\":{\"axis_label\":\"Frequency\",\"formatter\":{\"id\":\"1045\",\"type\":\"BasicTickFormatter\"},\"plot\":{\"id\":\"1001\",\"subtype\":\"Figure\",\"type\":\"Plot\"},\"ticker\":{\"id\":\"1016\",\"type\":\"BasicTicker\"}},\"id\":\"1015\",\"type\":\"LinearAxis\"},{\"attributes\":{\"toolbar\":{\"id\":\"1054\",\"type\":\"ProxyToolbar\"},\"toolbar_location\":\"above\"},\"id\":\"1055\",\"type\":\"ToolbarBox\"},{\"attributes\":{},\"id\":\"1008\",\"type\":\"LinearScale\"},{\"attributes\":{\"plot\":null,\"text\":\"\"},\"id\":\"1043\",\"type\":\"Title\"},{\"attributes\":{},\"id\":\"1050\",\"type\":\"UnionRenderers\"},{\"attributes\":{\"data_source\":{\"id\":\"1035\",\"type\":\"ColumnDataSource\"},\"glyph\":{\"id\":\"1036\",\"type\":\"Quad\"},\"hover_glyph\":null,\"muted_glyph\":null,\"nonselection_glyph\":{\"id\":\"1037\",\"type\":\"Quad\"},\"selection_glyph\":null,\"view\":{\"id\":\"1039\",\"type\":\"CDSView\"}},\"id\":\"1038\",\"type\":\"GlyphRenderer\"},{\"attributes\":{},\"id\":\"1049\",\"type\":\"Selection\"},{\"attributes\":{\"axis_label\":\"Life\",\"formatter\":{\"id\":\"1047\",\"type\":\"BasicTickFormatter\"},\"plot\":{\"id\":\"1001\",\"subtype\":\"Figure\",\"type\":\"Plot\"},\"ticker\":{\"id\":\"1011\",\"type\":\"BasicTicker\"}},\"id\":\"1010\",\"type\":\"LinearAxis\"},{\"attributes\":{\"children\":[{\"id\":\"1055\",\"type\":\"ToolbarBox\"},{\"id\":\"1053\",\"type\":\"Column\"}]},\"id\":\"1056\",\"type\":\"Column\"},{\"attributes\":{\"children\":[{\"id\":\"1001\",\"subtype\":\"Figure\",\"type\":\"Plot\"}]},\"id\":\"1052\",\"type\":\"Row\"},{\"attributes\":{\"active_drag\":\"auto\",\"active_inspect\":\"auto\",\"active_multi\":null,\"active_scroll\":\"auto\",\"active_tap\":\"auto\",\"tools\":[{\"id\":\"1020\",\"type\":\"PanTool\"},{\"id\":\"1021\",\"type\":\"WheelZoomTool\"},{\"id\":\"1022\",\"type\":\"BoxZoomTool\"},{\"id\":\"1023\",\"type\":\"SaveTool\"},{\"id\":\"1024\",\"type\":\"ResetTool\"},{\"id\":\"1025\",\"type\":\"HelpTool\"},{\"id\":\"1040\",\"type\":\"HoverTool\"}]},\"id\":\"1026\",\"type\":\"Toolbar\"},{\"attributes\":{},\"id\":\"1006\",\"type\":\"LinearScale\"},{\"attributes\":{},\"id\":\"1021\",\"type\":\"WheelZoomTool\"},{\"attributes\":{\"callback\":null},\"id\":\"1002\",\"type\":\"DataRange1d\"},{\"attributes\":{\"callback\":null,\"tooltips\":[[\"Frequency\",\"@top{0.00}\"],[\"Interval\",\"@left - @right\"]]},\"id\":\"1040\",\"type\":\"HoverTool\"},{\"attributes\":{\"bottom_units\":\"screen\",\"fill_alpha\":{\"value\":0.5},\"fill_color\":{\"value\":\"lightgrey\"},\"left_units\":\"screen\",\"level\":\"overlay\",\"line_alpha\":{\"value\":1.0},\"line_color\":{\"value\":\"black\"},\"line_dash\":[4,4],\"line_width\":{\"value\":2},\"plot\":null,\"render_mode\":\"css\",\"right_units\":\"screen\",\"top_units\":\"screen\"},\"id\":\"1028\",\"type\":\"BoxAnnotation\"}],\"root_ids\":[\"1056\"]},\"title\":\"Bokeh Application\",\"version\":\"1.0.4\"}}';\n",
       "          var render_items = [{\"docid\":\"aae55abd-3080-4e47-9d72-0979f510ec9c\",\"roots\":{\"1056\":\"36e5e494-6d6d-4703-90dd-78d673710a2b\"}}];\n",
       "          root.Bokeh.embed.embed_items(docs_json, render_items);\n",
       "        \n",
       "          }\n",
       "          if (root.Bokeh !== undefined) {\n",
       "            embed_document(root);\n",
       "          } else {\n",
       "            var attempts = 0;\n",
       "            var timer = setInterval(function(root) {\n",
       "              if (root.Bokeh !== undefined) {\n",
       "                embed_document(root);\n",
       "                clearInterval(timer);\n",
       "              }\n",
       "              attempts++;\n",
       "              if (attempts > 100) {\n",
       "                console.log(\"Bokeh: ERROR: Unable to run BokehJS code because BokehJS library is missing\");\n",
       "                clearInterval(timer);\n",
       "              }\n",
       "            }, 10, root)\n",
       "          }\n",
       "        })(window);\n",
       "      });\n",
       "    };\n",
       "    if (document.readyState != \"loading\") fn();\n",
       "    else document.addEventListener(\"DOMContentLoaded\", fn);\n",
       "  })();\n",
       "</script><div style=\"padding:5px\" id=\"pd-bkchartdiv-d37dcb21\">\n",
       "<div class=\"bk-root\" id=\"36e5e494-6d6d-4703-90dd-78d673710a2b\" data-root-id=\"1056\"></div></div>\n",
       "                    \n",
       "                \n",
       "        </div>"
      ],
      "text/plain": [
       "<IPython.core.display.HTML object>"
      ]
     },
     "metadata": {},
     "output_type": "display_data"
    }
   ],
   "source": [
    "display(df_fixed_total)"
   ]
  },
  {
   "cell_type": "markdown",
   "metadata": {},
   "source": [
    "The histogram shows that there is a large variation in life expectancy between countries and over the years: from 30 to over 80 years. \n",
    "\n",
    "Have a look at where these countries are with a map. You will need a Mapbox access token to view the map.\n",
    "\n",
    "Run the `display()` command and then configure the map:\n",
    "1. Run the next cell. The PixieDust interactive widget appears.  \n",
    "1. Click the chart button and choose **Map**. The chart options tool appears.\n",
    "1. In the chart options tool, drag `Life` into the **Values** box. \n",
    "1. Move `Country` into the **Keys** box.\n",
    "1. Increase the **# of Rows to Display** to 20,000 to display all the data.\n",
    "1. Select AVG to show the average life expectancy over all years for each country and click **OK**. The map appears.\n",
    "\n",
    "You can scroll over the map to see the name of the country and the average life expectancy."
   ]
  },
  {
   "cell_type": "code",
   "execution_count": null,
   "metadata": {
    "pixiedust": {
     "displayParams": {
      "aggregation": "AVG",
      "chartsize": "61",
      "handlerId": "mapView",
      "keyFields": "Country",
      "mapDisplayMode": "region",
      "rowCount": "20000",
      "valueFields": "Life"
     }
    }
   },
   "outputs": [],
   "source": [
    "display(df_fixed_total)"
   ]
  },
  {
   "cell_type": "markdown",
   "metadata": {},
   "source": [
    "As expected, the life expectancy is lowest in Africa, and highest in the US and Europe. Maybe one of the other variables in the `df_fixed_total` DataFrame can explain this. \n",
    "\n",
    "You can make maps of all variables or explore this question with scatter plots.\n",
    "\n",
    "Run the `display()` command below and then configure the graph:\n",
    "1. The PixieDust interactive widget appears.  \n",
    "1. Click the chart button and choose **Scatter Plot**. The chart options tool appears.\n",
    "1. In the chart options tool, drag all values except `year` into the **Values** box. \n",
    "1. Move `year` into the **Keys** box and click **OK**. The chart appears.\n"
   ]
  },
  {
   "cell_type": "code",
   "execution_count": 18,
   "metadata": {
    "pixiedust": {
     "displayParams": {
      "aggregation": "AVG",
      "chartsize": "58",
      "clusterby": "Country",
      "handlerId": "scatterPlot",
      "keyFields": "Poverty",
      "rendererId": "matplotlib",
      "rowCount": "20000",
      "valueFields": "Life"
     }
    }
   },
   "outputs": [
    {
     "data": {
      "text/html": [
       "<style type=\"text/css\">.pd_warning{display:none;}</style><div class=\"pd_warning\"><em>Hey, there's something awesome here! To see it, open this notebook outside GitHub, in a viewer like Jupyter</em></div>\n",
       "        <div class=\"pd_save is-viewer-good\" style=\"padding-right:10px;text-align: center;line-height:initial !important;font-size: xx-large;font-weight: 500;color: coral;\">\n",
       "            \n",
       "        </div>\n",
       "    <div id=\"chartFigure652f5ea3\" class=\"pd_save is-viewer-good\" style=\"overflow-x:auto\">\n",
       "            \n",
       "                    \n",
       "                            <center><img style=\"max-width:initial !important\" src=\"data:image/png;base64,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\" class=\"pd_save\"></center>\n",
       "                        \n",
       "                    \n",
       "                \n",
       "        </div>"
      ],
      "text/plain": [
       "<IPython.core.display.HTML object>"
      ]
     },
     "metadata": {},
     "output_type": "display_data"
    }
   ],
   "source": [
    "display(df_fixed_total)"
   ]
  },
  {
   "cell_type": "markdown",
   "metadata": {},
   "source": [
    "There seems to be a trend: decrease of life expectancy with an increase of poverty. Because there are a lot of point per country and the main question is what causes the difference in life expectancy between countries, create a new DataFrame with only one average value for each country. \n",
    "\n",
    "Group all data by country using the `groupBy()` method. Then recreate the previous scatter plot with this new data."
   ]
  },
  {
   "cell_type": "code",
   "execution_count": 19,
   "metadata": {
    "pixiedust": {
     "displayParams": {
      "chartsize": "58",
      "handlerId": "scatterPlot",
      "keyFields": "avg(Poverty)",
      "rowCount": "50000",
      "valueFields": "avg(Life)"
     }
    }
   },
   "outputs": [
    {
     "data": {
      "text/html": [
       "<style type=\"text/css\">.pd_warning{display:none;}</style><div class=\"pd_warning\"><em>Hey, there's something awesome here! To see it, open this notebook outside GitHub, in a viewer like Jupyter</em></div>\n",
       "        <div class=\"pd_save is-viewer-good\" style=\"padding-right:10px;text-align: center;line-height:initial !important;font-size: xx-large;font-weight: 500;color: coral;\">\n",
       "            \n",
       "        </div>\n",
       "    <div id=\"chartFigure2c113c3c\" class=\"pd_save is-viewer-good\" style=\"overflow-x:auto\">\n",
       "            \n",
       "                    \n",
       "                            <center><img style=\"max-width:initial !important\" src=\"data:image/png;base64,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\" class=\"pd_save\"></center>\n",
       "                        \n",
       "                    \n",
       "                \n",
       "        </div>"
      ],
      "text/plain": [
       "<IPython.core.display.HTML object>"
      ]
     },
     "metadata": {},
     "output_type": "display_data"
    }
   ],
   "source": [
    "df_by_country = df_fixed_total.groupBy('Year').avg()\n",
    "display(df_by_country)"
   ]
  },
  {
   "cell_type": "markdown",
   "metadata": {},
   "source": [
    "This scatter plot shows much more clearly that the life expectancy decreases with an increase of poverty. In a similar way, you can now explore all other variables by creating more maps and charts with PixieDust.  "
   ]
  },
  {
   "cell_type": "markdown",
   "metadata": {
    "collapsed": true
   },
   "source": [
    "<a id=\"summary\"></a>\n",
    "## Summary and next steps\n",
    "You are now deriving insights from the data and can build a statistical model with this data. For example, try a  <a href=\"https://spark.apache.org/docs/2.1.0/ml-classification-regression.html#linear-regression\" target=\"_blank\" rel=\"noopener noreferrer\">linear regression</a> to find which one of the variables explains most of the variation in life expectancy between countries.\n",
    "\n",
    "As you can see from this sample notebook, data analysis entails a lot of trial and error, and the data needs quite a bit of cleaning up. This experimentation can be challenging, but also a lot of fun!\n",
    "\n",
    "### Authors\n",
    "\n",
    "**Christian Johnson** is a Data Scientist Intern at IBM. He has a background in software development and data analysis. Though he still has much to learn about data science, he leverages his skills and experience to support the team's data science initiatives.\n",
    "\n",
    "**Margriet Groenendijk** is a Data Scientist and Developer Advocate at IBM. She has a background in Geography and Climate Science and now she uses this knowledge to create models and visualizations from diverse data sets using cloud databases, data warehouses, Spark, and Python notebooks.   "
   ]
  },
  {
   "cell_type": "markdown",
   "metadata": {
    "collapsed": true
   },
   "source": [
    "Copyright © 2017-2019 IBM. This notebook and its source code are released under the terms of the MIT License."
   ]
  },
  {
   "cell_type": "markdown",
   "metadata": {},
   "source": [
    "<div style=\"background:#F5F7FA; height:100px; padding: 2em; font-size:14px;\">\n",
    "<span style=\"font-size:18px;color:#152935;\">Want to do more?</span><span style=\"border: 1px solid #3d70b2;padding: 15px;float:right;margin-right:40px; color:#3d70b2; \"><a href=\"https://ibm.co/wsnotebooks\" target=\"_blank\" style=\"color: #3d70b2;text-decoration: none;\">Sign Up</a></span><br>\n",
    "<span style=\"color:#5A6872;\"> Try out this notebook with your free trial of IBM Watson Studio.</span>\n",
    "</div>"
   ]
  }
 ],
 "metadata": {
  "kernelspec": {
   "display_name": "Python 3.6 with Spark",
   "language": "python3",
   "name": "python36"
  },
  "language_info": {
   "codemirror_mode": {
    "name": "ipython",
    "version": 3
   },
   "file_extension": ".py",
   "mimetype": "text/x-python",
   "name": "python",
   "nbconvert_exporter": "python",
   "pygments_lexer": "ipython3",
   "version": "3.6.8"
  }
 },
 "nbformat": 4,
 "nbformat_minor": 1
}
