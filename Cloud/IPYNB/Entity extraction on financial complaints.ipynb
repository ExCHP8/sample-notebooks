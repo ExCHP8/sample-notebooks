{
 "cells": [
  {
   "cell_type": "markdown",
   "metadata": {},
   "source": [
    "# Entity extraction on Financial Complaints with Watson NLP"
   ]
  },
  {
   "cell_type": "markdown",
   "metadata": {},
   "source": [
    "This notebook demonstrates how to extract _named entities_ from financial customer complaints using Watson NLP.\n",
    "\n",
    "The data that is used in this notebook is taken from the Consumer Complaint Database that is published by the Consumer Financial Protection Bureau (CFPB), an U.S. government agency. The Consumer Complaint Database is a collection of complaints about consumer financial products and services that the CFPB sent to companies for response.  A complaint contains a consumer’s narrative description of their experience if the consumer opts to share this information publicly and after the CFPB has taken steps to remove all personal information. In this notebook, you will focus on complaints that contain narrative descriptions to show how to use Watson NLP.\n",
    "\n",
    "The data is publicly available at https://www.consumerfinance.gov/data-research/consumer-complaints/.\n",
    "\n",
    "## What you'll learn in this notebook\n",
    "\n",
    "Watson NLP offers so-called blocks for various NLP tasks. This notebooks shows:\n",
    "\n",
    "- **Dictionary-based term extraction** with the _Rule-based extractor_ provided by `watson_nlp.resources.feature_extractor.RBR`. This allows you to train a custom extraction model based on given dictionaries.\n",
    "\n",
    "- **Entity extraction** with the _Entity mentions block_ using the BERT model (`entity-mentions_bert_multi_stock`). This block extracts mentions of entities like *Persion*, *Organization* or *Duration* from the input text.\n",
    "\n",
    "\n",
    "## Table of Contents\n",
    "\n",
    "1.\t[Before you start](#beforeYouStart)\n",
    "2.\t[Load the complaints](#loadData)\n",
    "3.  [Custom term extraction using dictionaries](#dictionaries)\n",
    "4.  [Entity extraction](#entities)\n",
    "5.  [Summary](#summary)"
   ]
  },
  {
   "cell_type": "markdown",
   "metadata": {},
   "source": [
    "<a id=\"beforeYouStart\"></a>\n",
    "## Before you start\n",
    "\n",
    "You can step through the notebook execution cell by cell, by selecting Shift-Enter or you can execute the entire notebook by selecting **Cell -> Run All** from the menu. \n",
    "\n",
    "**Note:** If you have other notebooks currently running with the _Default Python 3.8 + Watson NLP XS_ environment, **stop their kernels** before running this notebook. All these notebooks share the same runtime environment, and if they are running in parallel, you may encounter memory issues. To stop the kernel of another notebook, open that notebook, and select _File > Stop Kernel_."
   ]
  },
  {
   "cell_type": "markdown",
   "metadata": {},
   "source": [
    "\n",
    "Begin by importing and initializing some helper libraries that are used throughout the notebook."
   ]
  },
  {
   "cell_type": "code",
   "execution_count": 1,
   "metadata": {},
   "outputs": [],
   "source": [
    "import os\n",
    "import pandas as pd\n",
    "# we want to show large text snippets to be able to explore the relevant text\n",
    "pd.options.display.max_colwidth = 400"
   ]
  },
  {
   "cell_type": "code",
   "execution_count": 2,
   "metadata": {},
   "outputs": [],
   "source": [
    "import watson_nlp"
   ]
  },
  {
   "cell_type": "markdown",
   "metadata": {},
   "source": [
    "<a id=\"loadData\"></a>\n",
    "## Load the complaints"
   ]
  },
  {
   "cell_type": "markdown",
   "metadata": {},
   "source": [
    "The data can be downloaded via an API from https://www.consumerfinance.gov/data-research/consumer-complaints/. For this notebook, the complaints for one month will be downloaded and only those that contain the consumer narrative text. The data is exported in CSV format. The URL to retrieve this data is:"
   ]
  },
  {
   "cell_type": "code",
   "execution_count": 3,
   "metadata": {},
   "outputs": [],
   "source": [
    "url = \"https://www.consumerfinance.gov/data-research/consumer-complaints/search/api/v1/?date_received_max=2021-03-30&date_received_min=2021-02-28&field=all&format=csv&has_narrative=true&no_aggs=true&size=18102\""
   ]
  },
  {
   "cell_type": "markdown",
   "metadata": {},
   "source": [
    "Read the data into a dataframe.\n",
    "\n",
    "You can find a detailed explanation of the available columns here: https://www.consumerfinance.gov/complaint/data-use/#:~:text=Types%20of%20complaint%20data%20we%20publish .\n",
    "\n",
    "In the analysis, you will focus on the *Product* column and the column with the complaint text *Consumer complaint narrative*."
   ]
  },
  {
   "cell_type": "code",
   "execution_count": 4,
   "metadata": {},
   "outputs": [
    {
     "data": {
      "text/html": [
       "<div>\n",
       "<style scoped>\n",
       "    .dataframe tbody tr th:only-of-type {\n",
       "        vertical-align: middle;\n",
       "    }\n",
       "\n",
       "    .dataframe tbody tr th {\n",
       "        vertical-align: top;\n",
       "    }\n",
       "\n",
       "    .dataframe thead th {\n",
       "        text-align: right;\n",
       "    }\n",
       "</style>\n",
       "<table border=\"1\" class=\"dataframe\">\n",
       "  <thead>\n",
       "    <tr style=\"text-align: right;\">\n",
       "      <th></th>\n",
       "      <th>Date received</th>\n",
       "      <th>Product</th>\n",
       "      <th>Sub-product</th>\n",
       "      <th>Issue</th>\n",
       "      <th>Sub-issue</th>\n",
       "      <th>Consumer complaint narrative</th>\n",
       "      <th>Company public response</th>\n",
       "      <th>Company</th>\n",
       "      <th>State</th>\n",
       "      <th>ZIP code</th>\n",
       "      <th>Tags</th>\n",
       "      <th>Consumer consent provided?</th>\n",
       "      <th>Submitted via</th>\n",
       "      <th>Date sent to company</th>\n",
       "      <th>Company response to consumer</th>\n",
       "      <th>Timely response?</th>\n",
       "      <th>Consumer disputed?</th>\n",
       "      <th>Complaint ID</th>\n",
       "    </tr>\n",
       "  </thead>\n",
       "  <tbody>\n",
       "    <tr>\n",
       "      <th>0</th>\n",
       "      <td>03/30/21</td>\n",
       "      <td>Debt collection</td>\n",
       "      <td>I do not know</td>\n",
       "      <td>Written notification about debt</td>\n",
       "      <td>Didn't receive notice of right to dispute</td>\n",
       "      <td>XXXX This should be deleted is because its not accurate. The DLA is an acronym for Date of Last Activity which translates to the last date you made a payment. ( you never did ) Under the Fair Credit Reporting Act everything on your credit report has to be accurate. \\nBusinesses are not permitted to publish full credit card numbers on receipts. The law also allows you to protect your Social Sec...</td>\n",
       "      <td>None</td>\n",
       "      <td>Castle Credit Co Holdings, LLC, Chicago, IL Branch</td>\n",
       "      <td>GA</td>\n",
       "      <td>30521</td>\n",
       "      <td>None</td>\n",
       "      <td>Consent provided</td>\n",
       "      <td>Web</td>\n",
       "      <td>04/02/21</td>\n",
       "      <td>Closed with explanation</td>\n",
       "      <td>Yes</td>\n",
       "      <td>NaN</td>\n",
       "      <td>4253389</td>\n",
       "    </tr>\n",
       "    <tr>\n",
       "      <th>1</th>\n",
       "      <td>03/17/21</td>\n",
       "      <td>Credit reporting, credit repair services, or other personal consumer reports</td>\n",
       "      <td>Credit reporting</td>\n",
       "      <td>Incorrect information on your report</td>\n",
       "      <td>Information belongs to someone else</td>\n",
       "      <td>There are numerous accounts listed on my credit report that I currently have no knowledge of. This was a result of mal practice or an error!</td>\n",
       "      <td>Company has responded to the consumer and the CFPB and chooses not to provide a public response</td>\n",
       "      <td>TRANSUNION INTERMEDIATE HOLDINGS, INC.</td>\n",
       "      <td>NY</td>\n",
       "      <td>10524</td>\n",
       "      <td>None</td>\n",
       "      <td>Consent provided</td>\n",
       "      <td>Web</td>\n",
       "      <td>03/17/21</td>\n",
       "      <td>Closed with explanation</td>\n",
       "      <td>Yes</td>\n",
       "      <td>NaN</td>\n",
       "      <td>4220958</td>\n",
       "    </tr>\n",
       "    <tr>\n",
       "      <th>2</th>\n",
       "      <td>03/18/21</td>\n",
       "      <td>Debt collection</td>\n",
       "      <td>Auto debt</td>\n",
       "      <td>Written notification about debt</td>\n",
       "      <td>Didn't receive enough information to verify debt</td>\n",
       "      <td>I XXXX XXXX entered into a consumer credit transaction with XXXX XXXX XXXX on XX/XX/2017. A consumer credit transaction in which a finance charge was involved. 15 usc 1605 defines a finance charge as the sum of all charges in a consumer credit transaction. The finance does not include cash but XXXX XXXX XXXX took cash. The finance is suppose to include insurance but XXXX XXXX XXXX made me purc...</td>\n",
       "      <td>None</td>\n",
       "      <td>CarMax, Inc.</td>\n",
       "      <td>CT</td>\n",
       "      <td>06511</td>\n",
       "      <td>None</td>\n",
       "      <td>Consent provided</td>\n",
       "      <td>Web</td>\n",
       "      <td>03/18/21</td>\n",
       "      <td>Closed with explanation</td>\n",
       "      <td>Yes</td>\n",
       "      <td>NaN</td>\n",
       "      <td>4226003</td>\n",
       "    </tr>\n",
       "  </tbody>\n",
       "</table>\n",
       "</div>"
      ],
      "text/plain": [
       "  Date received  \\\n",
       "0      03/30/21   \n",
       "1      03/17/21   \n",
       "2      03/18/21   \n",
       "\n",
       "                                                                        Product  \\\n",
       "0                                                               Debt collection   \n",
       "1  Credit reporting, credit repair services, or other personal consumer reports   \n",
       "2                                                               Debt collection   \n",
       "\n",
       "        Sub-product                                 Issue  \\\n",
       "0     I do not know       Written notification about debt   \n",
       "1  Credit reporting  Incorrect information on your report   \n",
       "2         Auto debt       Written notification about debt   \n",
       "\n",
       "                                          Sub-issue  \\\n",
       "0         Didn't receive notice of right to dispute   \n",
       "1               Information belongs to someone else   \n",
       "2  Didn't receive enough information to verify debt   \n",
       "\n",
       "                                                                                                                                                                                                                                                                                                                                                                                      Consumer complaint narrative  \\\n",
       "0  XXXX This should be deleted is because its not accurate. The DLA is an acronym for Date of Last Activity which translates to the last date you made a payment. ( you never did ) Under the Fair Credit Reporting Act everything on your credit report has to be accurate. \\nBusinesses are not permitted to publish full credit card numbers on receipts. The law also allows you to protect your Social Sec...   \n",
       "1                                                                                                                                                                                                                                                                     There are numerous accounts listed on my credit report that I currently have no knowledge of. This was a result of mal practice or an error!   \n",
       "2  I XXXX XXXX entered into a consumer credit transaction with XXXX XXXX XXXX on XX/XX/2017. A consumer credit transaction in which a finance charge was involved. 15 usc 1605 defines a finance charge as the sum of all charges in a consumer credit transaction. The finance does not include cash but XXXX XXXX XXXX took cash. The finance is suppose to include insurance but XXXX XXXX XXXX made me purc...   \n",
       "\n",
       "                                                                           Company public response  \\\n",
       "0                                                                                             None   \n",
       "1  Company has responded to the consumer and the CFPB and chooses not to provide a public response   \n",
       "2                                                                                             None   \n",
       "\n",
       "                                              Company State ZIP code  Tags  \\\n",
       "0  Castle Credit Co Holdings, LLC, Chicago, IL Branch    GA    30521  None   \n",
       "1              TRANSUNION INTERMEDIATE HOLDINGS, INC.    NY    10524  None   \n",
       "2                                        CarMax, Inc.    CT    06511  None   \n",
       "\n",
       "  Consumer consent provided? Submitted via Date sent to company  \\\n",
       "0           Consent provided           Web             04/02/21   \n",
       "1           Consent provided           Web             03/17/21   \n",
       "2           Consent provided           Web             03/18/21   \n",
       "\n",
       "  Company response to consumer Timely response?  Consumer disputed?  \\\n",
       "0      Closed with explanation              Yes                 NaN   \n",
       "1      Closed with explanation              Yes                 NaN   \n",
       "2      Closed with explanation              Yes                 NaN   \n",
       "\n",
       "   Complaint ID  \n",
       "0       4253389  \n",
       "1       4220958  \n",
       "2       4226003  "
      ]
     },
     "execution_count": 4,
     "metadata": {},
     "output_type": "execute_result"
    }
   ],
   "source": [
    "df_all = pd.read_csv(url)\n",
    "text_col = 'Consumer complaint narrative'\n",
    "\n",
    "# In this example, we take only the first 1000 complaints in the dataset for further analysis. \n",
    "# Set df to df_all to run on the complete dataset.\n",
    "df_small = df_all.head(1000)\n",
    "df = df_small\n",
    "df.head(3)"
   ]
  },
  {
   "cell_type": "markdown",
   "metadata": {},
   "source": [
    "You can look at all products that are available in the data set to do further analysis around these product groups."
   ]
  },
  {
   "cell_type": "code",
   "execution_count": 5,
   "metadata": {},
   "outputs": [
    {
     "data": {
      "text/plain": [
       "<AxesSubplot:>"
      ]
     },
     "execution_count": 5,
     "metadata": {},
     "output_type": "execute_result"
    },
    {
     "data": {
      "image/png": "[encoded data removed]",
      "text/plain": [
       "<Figure size 432x288 with 1 Axes>"
      ]
     },
     "metadata": {
      "needs_background": "light"
     },
     "output_type": "display_data"
    }
   ],
   "source": [
    "df['Product'].value_counts().sort_values().plot(kind='barh') "
   ]
  },
  {
   "cell_type": "markdown",
   "metadata": {},
   "source": [
    "<a id=\"dictionaries\"></a>\n",
    "## Custom term extraction using dictionaries"
   ]
  },
  {
   "cell_type": "markdown",
   "metadata": {},
   "source": [
    "If you want to extract custom concepts via rule-based extraction, you can build a custom RBR model using an AQL model. However this requires knowledge of AQL. If you just want to extract custom terms or match regular expression patterns, there is a convenient way to train and run such models through `watson_nlp.resources.feature_extractor.RBR`. You only need to provide your own dictionaries or regexes and it trains an RBR model for you.\n",
    "\n",
    "You will now create a basic dictionary that contains terms that might indicate customers suspecting a fraud concerning their financial products like the theft of a credit card."
   ]
  },
  {
   "cell_type": "markdown",
   "metadata": {},
   "source": [
    "Start with creating a folder that holds all dictionary files that you want to use for extraction."
   ]
  },
  {
   "cell_type": "code",
   "execution_count": 6,
   "metadata": {},
   "outputs": [],
   "source": [
    "import os\n",
    "RBR_dicts_folder = \"RBR_dicts\"\n",
    "os.makedirs(RBR_dicts_folder, exist_ok=True)"
   ]
  },
  {
   "cell_type": "markdown",
   "metadata": {},
   "source": [
    "A dictionary can contain the dictionary terms as a flat list if all the terms are to be mapped to the same label. Alternatively, you can use a mapping dictionary that maps terms to a label. \n",
    "\n",
    "In this notebook, you will create a dictionary mapping file containing the fraud-related terms divided into *FRAUD* and *THEFT*. Each line has one dictionary entry."
   ]
  },
  {
   "cell_type": "code",
   "execution_count": 7,
   "metadata": {},
   "outputs": [],
   "source": [
    "fraud_file = \"fraud_mappings.csv\"\n",
    "with open(os.path.join(RBR_dicts_folder, fraud_file), 'w') as dict:\n",
    "    dict.write(\"\\\"label\\\", \\\"entry\\\"\\n\")\n",
    "    dict.write(\"\\\"FRAUD\\\", \\\"fraud\\\"\\n\")\n",
    "    dict.write(\"\\\"FRAUD\\\", \\\"takeover\\\"\\n\")\n",
    "    dict.write(\"\\\"FRAUD\\\", \\\"skimming\\\"\\n\")\n",
    "    dict.write(\"\\\"FRAUD\\\", \\\"phishing\\\"\\n\")\n",
    "    dict.write(\"\\\"THEFT\\\", \\\"theft\\\"\\n\")\n",
    "    dict.write(\"\\\"THEFT\\\", \\\"thief\\\"\\n\")\n",
    "    dict.write(\"\\\"THEFT\\\", \\\"thieve\\\"\\n\")\n",
    "    dict.write(\"\\\"THEFT\\\", \\\"steal\\\"\\n\")"
   ]
  },
  {
   "cell_type": "markdown",
   "metadata": {},
   "source": [
    "In the next step, load the file as dictionary. The source dictionary path is a relative path to the created dictionary resources folder. You will use case-insensitive matching as the dictionary entries are regular words that are not likely to be miss-interpreted.\n",
    "\n",
    "Lemma-matching will make sure that inflections of the dictionary entries will also match, for example, \"steal\" -> \"stole\", \"stolen\", \"stealing\"."
   ]
  },
  {
   "cell_type": "code",
   "execution_count": 8,
   "metadata": {},
   "outputs": [],
   "source": [
    "dictionary = watson_nlp.toolkit.DictionaryConfig.load( \n",
    "    {\n",
    "        'name': 'fraud_mappings',\n",
    "        'source': fraud_file,\n",
    "        'dict_type': 'table',\n",
    "        'case': 'insensitive',\n",
    "        'lemma': True,\n",
    "        'mappings': {\n",
    "            'columns': ['label', 'entry'],\n",
    "            'entry': 'entry'\n",
    "        }\n",
    "    }\n",
    ")"
   ]
  },
  {
   "cell_type": "markdown",
   "metadata": {},
   "source": [
    "Train the RBR model using the created dictionary. This will create the unterlying AQL code."
   ]
  },
  {
   "cell_type": "code",
   "execution_count": 9,
   "metadata": {},
   "outputs": [],
   "source": [
    "trained_dict_RBR = watson_nlp.resources.feature_extractor.RBR.train(RBR_dicts_folder, language='en', dictionaries=[dictionary,])"
   ]
  },
  {
   "cell_type": "markdown",
   "metadata": {},
   "source": [
    "As for the other demonstrated blocks before, create a helper method to run the RBR model on a single complaint. There is a `run()` method on the trained model, which returns the extracted concept and the span specifying the covered text.\n",
    "But as you also want to see the covered text immediatly, you will access the raw response from the underlying RBR executor."
   ]
  },
  {
   "cell_type": "code",
   "execution_count": 10,
   "metadata": {},
   "outputs": [],
   "source": [
    "def extract_dictionary(complaint_text):\n",
    "    RBR_result = trained_dict_RBR.executor.get_raw_response(complaint_text, language='en')\n",
    "    # aggregate all matches into one array with the match label and the text evidence\n",
    "    matches = []\n",
    "    for view in RBR_result['annotations'].keys():\n",
    "        for dict_match in RBR_result['annotations'][view]:\n",
    "            matches.append(tuple((dict_match['label'], dict_match['match']['text'])))\n",
    "    return matches"
   ]
  },
  {
   "cell_type": "markdown",
   "metadata": {},
   "source": [
    "Now run the dictionary extraction on the complete dataframe and display the results with the complaint text."
   ]
  },
  {
   "cell_type": "code",
   "execution_count": 11,
   "metadata": {},
   "outputs": [
    {
     "data": {
      "text/html": [
       "<div>\n",
       "<style scoped>\n",
       "    .dataframe tbody tr th:only-of-type {\n",
       "        vertical-align: middle;\n",
       "    }\n",
       "\n",
       "    .dataframe tbody tr th {\n",
       "        vertical-align: top;\n",
       "    }\n",
       "\n",
       "    .dataframe thead th {\n",
       "        text-align: right;\n",
       "    }\n",
       "</style>\n",
       "<table border=\"1\" class=\"dataframe\">\n",
       "  <thead>\n",
       "    <tr style=\"text-align: right;\">\n",
       "      <th></th>\n",
       "      <th>Product</th>\n",
       "      <th>Consumer complaint narrative</th>\n",
       "      <th>Fraud Indicators</th>\n",
       "    </tr>\n",
       "  </thead>\n",
       "  <tbody>\n",
       "    <tr>\n",
       "      <th>0</th>\n",
       "      <td>Debt collection</td>\n",
       "      <td>XXXX This should be deleted is because its not accurate. The DLA is an acronym for Date of Last Activity which translates to the last date you made a payment. ( you never did ) Under the Fair Credit Reporting Act everything on your credit report has to be accurate. \\nBusinesses are not permitted to publish full credit card numbers on receipts. The law also allows you to protect your Social Sec...</td>\n",
       "      <td>[]</td>\n",
       "    </tr>\n",
       "    <tr>\n",
       "      <th>1</th>\n",
       "      <td>Credit reporting, credit repair services, or other personal consumer reports</td>\n",
       "      <td>There are numerous accounts listed on my credit report that I currently have no knowledge of. This was a result of mal practice or an error!</td>\n",
       "      <td>[]</td>\n",
       "    </tr>\n",
       "    <tr>\n",
       "      <th>2</th>\n",
       "      <td>Debt collection</td>\n",
       "      <td>I XXXX XXXX entered into a consumer credit transaction with XXXX XXXX XXXX on XX/XX/2017. A consumer credit transaction in which a finance charge was involved. 15 usc 1605 defines a finance charge as the sum of all charges in a consumer credit transaction. The finance does not include cash but XXXX XXXX XXXX took cash. The finance is suppose to include insurance but XXXX XXXX XXXX made me purc...</td>\n",
       "      <td>[]</td>\n",
       "    </tr>\n",
       "    <tr>\n",
       "      <th>3</th>\n",
       "      <td>Debt collection</td>\n",
       "      <td>I have a fraudulent account on my credit report that I have never heard of.</td>\n",
       "      <td>[]</td>\n",
       "    </tr>\n",
       "    <tr>\n",
       "      <th>4</th>\n",
       "      <td>Payday loan, title loan, or personal loan</td>\n",
       "      <td>We have a Home Equity Line of Credit- which the bank now calls \" Personal Line of Credit '' even though the loan is attached to the house- and there is no line of credit anymore. There hasn't been for a couple years. We are both still on unemployment and have lost substantial income during this pandemic. I am in the process of starting my own XXXX XXXX XXXX and will be building it starting XX/...</td>\n",
       "      <td>[]</td>\n",
       "    </tr>\n",
       "    <tr>\n",
       "      <th>5</th>\n",
       "      <td>Debt collection</td>\n",
       "      <td>On XX/XX/2021 PORTFOLIO RECOVERY ASSOCIATES was contacted through certified mail regarding a corespondence of an attempt to collect a debt in the amount of XXXX ( partial account # XXXX ) The original creditor XXXX XXXX was also contacted by certified mail letter in regards to disputing alleged debt. Portfolio Recovery Associates as of todays date XX/XX/2021 has never responded to written core...</td>\n",
       "      <td>[]</td>\n",
       "    </tr>\n",
       "    <tr>\n",
       "      <th>6</th>\n",
       "      <td>Credit reporting, credit repair services, or other personal consumer reports</td>\n",
       "      <td>My Department of Education/Navient are reporting me as 90 days late XX/XX/XXXX when I have made a payment and reporting me 150 days late XXXX and XXXX of XXXX when my account was in Forbearance also the report is missing data</td>\n",
       "      <td>[]</td>\n",
       "    </tr>\n",
       "    <tr>\n",
       "      <th>7</th>\n",
       "      <td>Credit reporting, credit repair services, or other personal consumer reports</td>\n",
       "      <td>I demand the deletion of the fraudulent accounts and inquiries listed below which all resulted from the Reported Incident of Identity Theft. \\n\\nFRAUDULENT AND INACCURATE ACCOUNTS THAT SHOULD BE DELETED : 1. XXXX XXXX XXXX - Account # XXXX ( Reported Identity Theft ) - Fraudulently Opened on XX/XX/XXXX. \\n2. XXXX XXXX XXXX XXXX XXXX - Account # XXXX ( Reported Identity Theft ) - Fraudulently O...</td>\n",
       "      <td>[(THEFT, Theft), (THEFT, Theft), (THEFT, Theft), (THEFT, Theft), (THEFT, Theft), (THEFT, Theft), (THEFT, Theft), (THEFT, Theft), (THEFT, Theft), (THEFT, Theft)]</td>\n",
       "    </tr>\n",
       "    <tr>\n",
       "      <th>8</th>\n",
       "      <td>Debt collection</td>\n",
       "      <td>Client services, inc is a fraud. XXXX XXXX XXXX XXXX XXXX in XXXX XXXX mo They have my name and address. Sent me a letter saying I owe them {$2500.00}. They say they are debt collectors. This letter looks so real who knows how many people they have frauded by this! Reading their comments, this has happened to many people. Also, people who work there have commented as its a horrible place and t...</td>\n",
       "      <td>[(FRAUD, fraud)]</td>\n",
       "    </tr>\n",
       "    <tr>\n",
       "      <th>9</th>\n",
       "      <td>Credit reporting, credit repair services, or other personal consumer reports</td>\n",
       "      <td>I mailed a letter to the credit bureaus on XX/XX/2021 asking them to validate suspicious accounts i noticed on my credit report due to my identity being compromised. They have failed to even investigate or send me correspondence back indicating they did an investigation and what the out come was. I have no knowledge of these accounts XXXX XXXX XXXX XXXX XXXX XXXX XXXX Acct # XXXX ... XXXX Acct...</td>\n",
       "      <td>[]</td>\n",
       "    </tr>\n",
       "  </tbody>\n",
       "</table>\n",
       "</div>"
      ],
      "text/plain": [
       "                                                                        Product  \\\n",
       "0                                                               Debt collection   \n",
       "1  Credit reporting, credit repair services, or other personal consumer reports   \n",
       "2                                                               Debt collection   \n",
       "3                                                               Debt collection   \n",
       "4                                     Payday loan, title loan, or personal loan   \n",
       "5                                                               Debt collection   \n",
       "6  Credit reporting, credit repair services, or other personal consumer reports   \n",
       "7  Credit reporting, credit repair services, or other personal consumer reports   \n",
       "8                                                               Debt collection   \n",
       "9  Credit reporting, credit repair services, or other personal consumer reports   \n",
       "\n",
       "                                                                                                                                                                                                                                                                                                                                                                                      Consumer complaint narrative  \\\n",
       "0  XXXX This should be deleted is because its not accurate. The DLA is an acronym for Date of Last Activity which translates to the last date you made a payment. ( you never did ) Under the Fair Credit Reporting Act everything on your credit report has to be accurate. \\nBusinesses are not permitted to publish full credit card numbers on receipts. The law also allows you to protect your Social Sec...   \n",
       "1                                                                                                                                                                                                                                                                     There are numerous accounts listed on my credit report that I currently have no knowledge of. This was a result of mal practice or an error!   \n",
       "2  I XXXX XXXX entered into a consumer credit transaction with XXXX XXXX XXXX on XX/XX/2017. A consumer credit transaction in which a finance charge was involved. 15 usc 1605 defines a finance charge as the sum of all charges in a consumer credit transaction. The finance does not include cash but XXXX XXXX XXXX took cash. The finance is suppose to include insurance but XXXX XXXX XXXX made me purc...   \n",
       "3                                                                                                                                                                                                                                                                                                                                      I have a fraudulent account on my credit report that I have never heard of.   \n",
       "4  We have a Home Equity Line of Credit- which the bank now calls \" Personal Line of Credit '' even though the loan is attached to the house- and there is no line of credit anymore. There hasn't been for a couple years. We are both still on unemployment and have lost substantial income during this pandemic. I am in the process of starting my own XXXX XXXX XXXX and will be building it starting XX/...   \n",
       "5  On XX/XX/2021 PORTFOLIO RECOVERY ASSOCIATES was contacted through certified mail regarding a corespondence of an attempt to collect a debt in the amount of XXXX ( partial account # XXXX ) The original creditor XXXX XXXX was also contacted by certified mail letter in regards to disputing alleged debt. Portfolio Recovery Associates as of todays date XX/XX/2021 has never responded to written core...   \n",
       "6                                                                                                                                                                                My Department of Education/Navient are reporting me as 90 days late XX/XX/XXXX when I have made a payment and reporting me 150 days late XXXX and XXXX of XXXX when my account was in Forbearance also the report is missing data   \n",
       "7  I demand the deletion of the fraudulent accounts and inquiries listed below which all resulted from the Reported Incident of Identity Theft. \\n\\nFRAUDULENT AND INACCURATE ACCOUNTS THAT SHOULD BE DELETED : 1. XXXX XXXX XXXX - Account # XXXX ( Reported Identity Theft ) - Fraudulently Opened on XX/XX/XXXX. \\n2. XXXX XXXX XXXX XXXX XXXX - Account # XXXX ( Reported Identity Theft ) - Fraudulently O...   \n",
       "8  Client services, inc is a fraud. XXXX XXXX XXXX XXXX XXXX in XXXX XXXX mo They have my name and address. Sent me a letter saying I owe them {$2500.00}. They say they are debt collectors. This letter looks so real who knows how many people they have frauded by this! Reading their comments, this has happened to many people. Also, people who work there have commented as its a horrible place and t...   \n",
       "9  I mailed a letter to the credit bureaus on XX/XX/2021 asking them to validate suspicious accounts i noticed on my credit report due to my identity being compromised. They have failed to even investigate or send me correspondence back indicating they did an investigation and what the out come was. I have no knowledge of these accounts XXXX XXXX XXXX XXXX XXXX XXXX XXXX Acct # XXXX ... XXXX Acct...   \n",
       "\n",
       "                                                                                                                                                   Fraud Indicators  \n",
       "0                                                                                                                                                                []  \n",
       "1                                                                                                                                                                []  \n",
       "2                                                                                                                                                                []  \n",
       "3                                                                                                                                                                []  \n",
       "4                                                                                                                                                                []  \n",
       "5                                                                                                                                                                []  \n",
       "6                                                                                                                                                                []  \n",
       "7  [(THEFT, Theft), (THEFT, Theft), (THEFT, Theft), (THEFT, Theft), (THEFT, Theft), (THEFT, Theft), (THEFT, Theft), (THEFT, Theft), (THEFT, Theft), (THEFT, Theft)]  \n",
       "8                                                                                                                                                  [(FRAUD, fraud)]  \n",
       "9                                                                                                                                                                []  "
      ]
     },
     "execution_count": 11,
     "metadata": {},
     "output_type": "execute_result"
    }
   ],
   "source": [
    "# run dictionary extraction and create a dataframe holding the results\n",
    "dict_matches = df[text_col].apply(lambda text: extract_dictionary(text))\n",
    "dict_matches_df = pd.DataFrame(dict_matches)\n",
    "dict_matches_df.rename(inplace=True, columns={text_col:'Fraud Indicators'})\n",
    "# combine with the complaint dataframe\n",
    "text_dict_matches_df = df[[\"Product\", text_col]].merge(dict_matches_df, how='left', left_index=True, right_index=True)\n",
    "text_dict_matches_df.head(10)"
   ]
  },
  {
   "cell_type": "markdown",
   "metadata": {},
   "source": [
    "Notice that \"stolen\" was detected as *THEFT* as the base-form *steal* is contained in the dictionary and you used lemma-matching."
   ]
  },
  {
   "cell_type": "markdown",
   "metadata": {},
   "source": [
    "How many complaints talk about *THEFT* or *FRAUD* or both? Count the complaints for each product group and display the relative frequency: "
   ]
  },
  {
   "cell_type": "code",
   "execution_count": 12,
   "metadata": {},
   "outputs": [
    {
     "data": {
      "text/plain": [
       "<matplotlib.legend.Legend at 0x7f4d2a078130>"
      ]
     },
     "execution_count": 12,
     "metadata": {},
     "output_type": "execute_result"
    },
    {
     "data": {
      "image/png": "[encoded data removed]",
      "text/plain": [
       "<Figure size 432x288 with 1 Axes>"
      ]
     },
     "metadata": {
      "needs_background": "light"
     },
     "output_type": "display_data"
    }
   ],
   "source": [
    "# create a column indicating if the complaint contains at least one *FRAUD* or *THEFT* match\n",
    "text_dict_matches_df['THEFT'] = text_dict_matches_df['Fraud Indicators'].apply(lambda matches: 'THEFT' in set([match[0] for match in matches]))\n",
    "text_dict_matches_df['FRAUD'] = text_dict_matches_df['Fraud Indicators'].apply(lambda matches: 'FRAUD' in set([match[0] for match in matches]))\n",
    "text_dict_matches_df['BOTH'] = text_dict_matches_df['Fraud Indicators'].apply(lambda matches: 'FRAUD' in set([match[0] for match in matches]) and 'THEFT' in set([match[0] for match in matches]))\n",
    "\n",
    "# get the relative frequency by product group\n",
    "perc_theft = text_dict_matches_df.groupby('Product')['THEFT'].value_counts(normalize=True)\n",
    "perc_fraud = text_dict_matches_df.groupby('Product')['FRAUD'].value_counts(normalize=True)\n",
    "perc_both = text_dict_matches_df.groupby('Product')['BOTH'].value_counts(normalize=True)\n",
    "# combine the values into one dataframe\n",
    "res = pd.concat([perc_theft, perc_fraud, perc_both], axis=1).reset_index().rename(columns={\"level_1\": \"is_contained\"})\n",
    "# only use the counts for rows indicating a match\n",
    "res = res[res['is_contained']].drop('is_contained', axis=1).set_index('Product')\n",
    "res.plot.barh().legend(loc='center left',bbox_to_anchor=(1.0, 0.5))\n"
   ]
  },
  {
   "cell_type": "markdown",
   "metadata": {},
   "source": [
    "Nearly 20% of the credit or prepaid card complaints seem to deal with theft and over 25% of the checking or savings account complaints with fraud."
   ]
  },
  {
   "cell_type": "markdown",
   "metadata": {},
   "source": [
    "<a id=\"entities\"></a>\n",
    "## Entity extraction"
   ]
  },
  {
   "cell_type": "markdown",
   "metadata": {},
   "source": [
    "The complaints contain a lot of entity mentions about entities like organizations, money, durations, etc. In this section you will learn how to use the BERT entity mention extraction block, which extracts entity mentions out-of-the-box. "
   ]
  },
  {
   "cell_type": "markdown",
   "metadata": {},
   "source": [
    "The BERT entity mention model depends on the syntax model. Start with loading both models:"
   ]
  },
  {
   "cell_type": "code",
   "execution_count": 13,
   "metadata": {},
   "outputs": [],
   "source": [
    "syntax_model = watson_nlp.load(watson_nlp.download('syntax_izumo_en_stock'))\n",
    "bert_entity_model = watson_nlp.load(watson_nlp.download('entity-mentions_bert_multi_stock'))"
   ]
  },
  {
   "cell_type": "markdown",
   "metadata": {},
   "source": [
    "The helper method first runs the syntax model and then the entity extraction model on top of the syntax result:"
   ]
  },
  {
   "cell_type": "code",
   "execution_count": 14,
   "metadata": {},
   "outputs": [],
   "source": [
    "def extract_entities(complaint_text):\n",
    "    # run syntax model\n",
    "    syntax_result = syntax_model.run(complaint_text, parsers=('token', 'lemma', 'part_of_speech'))\n",
    "    # run the entity mention model on the result of the syntax model\n",
    "    entity_mentions = bert_entity_model.run(syntax_result)\n",
    "    # get text and type of entities\n",
    "    entities = entity_mentions.get_mention_pairs()\n",
    "    return entities"
   ]
  },
  {
   "cell_type": "markdown",
   "metadata": {},
   "source": [
    "Run the entity extraction model on the complaint dataframe and show the extracted entities along with the complaint text. **Note:** This cell will run for several minutes."
   ]
  },
  {
   "cell_type": "code",
   "execution_count": null,
   "metadata": {},
   "outputs": [],
   "source": [
    "# run entity extraction and create a dataframe holding the results\n",
    "entities = df[text_col].apply(lambda text: extract_entities(text))\n",
    "entities_df = pd.DataFrame(entities)\n",
    "entities_df.rename(inplace=True, columns={text_col:'Entities'})\n",
    "# combine with our complaint dataframe\n",
    "text_entities_df = df[[\"Product\", text_col]].merge(entities_df, how='left', left_index=True, right_index=True)\n",
    "text_entities_df.head()"
   ]
  },
  {
   "cell_type": "markdown",
   "metadata": {},
   "source": [
    "Let's see what kind of entities are extracted from the complaints:"
   ]
  },
  {
   "cell_type": "code",
   "execution_count": null,
   "metadata": {},
   "outputs": [],
   "source": [
    "# helper method to extract the mention type from the (text, type) tuple\n",
    "def get_entity_type(ent):\n",
    "    if not pd.isna(ent):\n",
    "        return ent[1]\n",
    "    return 'None'\n",
    "\n",
    "# create separate rows for each entity mention\n",
    "exp_entities = text_entities_df.explode('Entities')\n",
    "# extract the entity type of each mention\n",
    "exp_entities['Entity Type'] = exp_entities['Entities'].apply(lambda ent: get_entity_type(ent))\n",
    "# count the number of occurrences for each entity type\n",
    "exp_entities['Entity Type'].value_counts().head(20).sort_values().plot(kind='barh') "
   ]
  },
  {
   "cell_type": "markdown",
   "metadata": {},
   "source": [
    "Show the relative frequency of each entity type by product:"
   ]
  },
  {
   "cell_type": "code",
   "execution_count": null,
   "metadata": {},
   "outputs": [],
   "source": [
    "unstacked = exp_entities.groupby('Product')['Entity Type'].value_counts(normalize=True).unstack()\n",
    "unstacked.plot.barh(stacked=True).legend(loc='center left',bbox_to_anchor=(1.0, 0.5))"
   ]
  },
  {
   "cell_type": "markdown",
   "metadata": {},
   "source": [
    "*Job Titles* are frequently mentioned in the *Vechicle loan or lease* product group and there is a high number of *Location* mentions for the product group *Debt collection*. Let's look at some sample texts for the job titles:"
   ]
  },
  {
   "cell_type": "code",
   "execution_count": null,
   "metadata": {},
   "outputs": [],
   "source": [
    "exp_entities.query('`Entity Type` == \"JobTitle\" and Product == \"Vehicle loan or lease\"').head()"
   ]
  },
  {
   "cell_type": "markdown",
   "metadata": {},
   "source": [
    "<a id=\"summary\"></a>\n",
    "## Summary"
   ]
  },
  {
   "cell_type": "markdown",
   "metadata": {},
   "source": [
    "This notebook shows you how to use the Watson NLP library and how quickly and easily you can get started with Watson NLP by running the pretrained model for entity extraction. You learned how easy you can extract custom terms using dictionaries."
   ]
  },
  {
   "cell_type": "markdown",
   "metadata": {},
   "source": [
    "### Authors\n",
    "Simone Zerfass IBM, Germany\n",
    "\n",
    "Alexander Lang IBM, Germany"
   ]
  },
  {
   "cell_type": "markdown",
   "metadata": {},
   "source": [
    "# <hr>\n",
    "Copyright © 2021 IBM. This notebook and its source code are released under the terms of the MIT License."
   ]
  }
 ],
 "metadata": {
  "kernelspec": {
   "display_name": "Python 3.8 Watson NLP",
   "language": "python",
   "name": "python3"
  },
  "language_info": {
   "codemirror_mode": {
    "name": "ipython",
    "version": 3
   },
   "file_extension": ".py",
   "mimetype": "text/x-python",
   "name": "python",
   "nbconvert_exporter": "python",
   "pygments_lexer": "ipython3",
   "version": "3.8.11"
  }
 },
 "nbformat": 4,
 "nbformat_minor": 4
}
