{
 "cells": [
  {
   "cell_type": "markdown",
   "metadata": {
    "collapsed": true
   },
   "source": [
    "# Classifying customer complaints with Watson NLP"
   ]
  },
  {
   "cell_type": "markdown",
   "metadata": {},
   "source": [
    "This notebook demonstrates how to train different text classifiers using Watson NLP. The classifiers predict the product group from the text of a customer complaint. This could be used, for example to route a complaint to the appropriate staff member. \n",
    "\n",
    "The data that is used in this notebook is taken from the Consumer Complaint Database that is published by the Consumer Financial Protection Bureau (CFPB), a U.S. government agency. The Consumer Complaint Database is a collection of complaints about consumer financial products and services that the CFPB sent to companies for response.  A complaint contains the consumer’s narrative description of their experience if the consumer opted to share this information publicly and after the Bureau has removed all personal information. In this notebook, you will focus on complaints that contain this narrative description to show how to use Watson NLP.\n",
    "\n",
    "The data is publicly available at https://www.consumerfinance.gov/data-research/consumer-complaints/.\n",
    "\n",
    "## What you'll learn in this notebook\n",
    "\n",
    "Watson NLP implements state-of-the-art classification algorithms from three different families: \n",
    "- Classic machine learning using SVM (Support Vector Machines)\n",
    "- Deep learning using CNN (Convolutional Neural Networks)\n",
    "- A transformer-based algorithm using the Google BERT multilingual model \n",
    "\n",
    "Watson NLP also offers an easy to use _ensemble classifier_ which combines different classification algorithms and a majority voting.\n",
    "\n",
    "In this notebook, you'll learn how to:\n",
    "\n",
    "- **Prepare your data** so that it can be used as training data for the Watson NLP classification algorithms.\n",
    "- **Train a custom SVM model** using `watson_nlp.blocks.classification.SVM`. SVM stands for Support Vector Machines. It's an established classification method. We will run it based on USE (Universal Sentence Encoder) embeddings of the input text.\n",
    "- **Train a VotingEnsemble** using `watson_nlp.workflows.classification.Ensemble`. The Ensemble model combines three classification models: CNN, SVM with TF-IDF and SVM with USE (Universal Sentence Encoder). It computes the weighted mean of classification predictions using confidence scores.\n",
    "- **Store and load classification models** as an asset of a Watson Studio project.\n",
    "- **Score data and compare model quality** by running the models on test data and using the built-in quality evaluation and building a custom confusion matrix.\n",
    "\n",
    "\n",
    "## Table of Contents\n",
    "\n",
    "\n",
    "1.\t[Before you start](#beforeYouStart)\n",
    "2.\t[Load the complaint data](#loadData)\n",
    "3.\t[Prepare training and test data](#prepareData)\n",
    "4.\t[Train a SVM classification model with Watson NLP](#svm)\n",
    "5.  [Train an ensemble classification model with Watson NLP](#ensemble)\n",
    "6.  [Store and load classification models](#storeLoad)\n",
    "7.  [Classify test data and compare model quality](#scoring)\n",
    "8.  [Summary](#summary)\n"
   ]
  },
  {
   "cell_type": "markdown",
   "metadata": {},
   "source": [
    "<a id=\"beforeYouStart\"></a>\n",
    "## Before you start\n",
    "\n",
    "Before you can begin working on this notebook in Watson Studio in Cloud Pak for Data as a Service, you need to ensure that the project token is set so that you can access the project assets via the notebook.\n",
    "\n",
    "When this notebook is added to the project, a project access token should be inserted at the top of the notebook in a code cell. If you do not see the cell above, add the token to the notebook by clicking **More > Insert project token** from the notebook action bar.  By running the inserted hidden code cell, a project object is created that you can use to access project resources.\n",
    "\n",
    "![ws-project.mov](https://media.giphy.com/media/jSVxX2spqwWF9unYrs/giphy.gif)\n",
    "\n",
    "Note that you can step through the notebook execution cell by cell, by selecting Shift-Enter. Or you can execute the entire notebook by selecting **Cell -> Run All** from the menu.\n"
   ]
  },
  {
   "cell_type": "markdown",
   "metadata": {},
   "source": [
    "\n",
    "Begin by importing and initializing some helper libs that are used throughout the notebook."
   ]
  },
  {
   "cell_type": "code",
   "execution_count": 2,
   "metadata": {},
   "outputs": [],
   "source": [
    "import pandas as pd\n",
    "# we want to show large text snippets to be able to explore the relevant text\n",
    "pd.options.display.max_colwidth = 400\n",
    "\n",
    "import json\n",
    "import seaborn as sn\n",
    "import matplotlib.pyplot as plt"
   ]
  },
  {
   "cell_type": "code",
   "execution_count": 3,
   "metadata": {},
   "outputs": [],
   "source": [
    "import watson_nlp\n",
    "\n",
    "from watson_core.data_model.streams.resolver import DataStreamResolver\n",
    "from watson_core.toolkit import fileio\n",
    "from watson_nlp.blocks.classification.svm import SVM\n",
    "from watson_nlp.workflows.classification import Ensemble\n",
    "from watson_core.toolkit.quality_evaluation import QualityEvaluator, EvalTypes"
   ]
  },
  {
   "cell_type": "markdown",
   "metadata": {},
   "source": [
    "<a id=\"loadData\"></a>\n",
    "## Load the complaint data"
   ]
  },
  {
   "cell_type": "markdown",
   "metadata": {},
   "source": [
    "The data can be downloaded via an API from https://www.consumerfinance.gov/data-research/consumer-complaints/. The data contains one month of data and only those complaints that contain the consumer narrative text. The data is exported in CSV format. The URL to retrieve this data looks like this:"
   ]
  },
  {
   "cell_type": "code",
   "execution_count": 4,
   "metadata": {},
   "outputs": [],
   "source": [
    "url = \"https://www.consumerfinance.gov/data-research/consumer-complaints/search/api/v1/?date_received_max=2021-03-30&date_received_min=2021-02-28&field=all&format=csv&has_narrative=true&no_aggs=true&size=18102\""
   ]
  },
  {
   "cell_type": "markdown",
   "metadata": {},
   "source": [
    "Read the data into a dataframe.\n",
    "You can find a detailed explanation of the available columns here: https://www.consumerfinance.gov/complaint/data-use/#:~:text=Types%20of%20complaint%20data%20we%20publish .\n",
    "\n",
    "In your analysis you will focus on the *Product* column, which contains the product group, and the column with the complaint text *Consumer complaint narrative*."
   ]
  },
  {
   "cell_type": "code",
   "execution_count": 5,
   "metadata": {},
   "outputs": [
    {
     "data": {
      "text/html": [
       "<div>\n",
       "<style scoped>\n",
       "    .dataframe tbody tr th:only-of-type {\n",
       "        vertical-align: middle;\n",
       "    }\n",
       "\n",
       "    .dataframe tbody tr th {\n",
       "        vertical-align: top;\n",
       "    }\n",
       "\n",
       "    .dataframe thead th {\n",
       "        text-align: right;\n",
       "    }\n",
       "</style>\n",
       "<table border=\"1\" class=\"dataframe\">\n",
       "  <thead>\n",
       "    <tr style=\"text-align: right;\">\n",
       "      <th></th>\n",
       "      <th>Date received</th>\n",
       "      <th>Product</th>\n",
       "      <th>Sub-product</th>\n",
       "      <th>Issue</th>\n",
       "      <th>Sub-issue</th>\n",
       "      <th>Consumer complaint narrative</th>\n",
       "      <th>Company public response</th>\n",
       "      <th>Company</th>\n",
       "      <th>State</th>\n",
       "      <th>ZIP code</th>\n",
       "      <th>Tags</th>\n",
       "      <th>Consumer consent provided?</th>\n",
       "      <th>Submitted via</th>\n",
       "      <th>Date sent to company</th>\n",
       "      <th>Company response to consumer</th>\n",
       "      <th>Timely response?</th>\n",
       "      <th>Consumer disputed?</th>\n",
       "      <th>Complaint ID</th>\n",
       "    </tr>\n",
       "  </thead>\n",
       "  <tbody>\n",
       "    <tr>\n",
       "      <th>0</th>\n",
       "      <td>03/11/21</td>\n",
       "      <td>Checking or savings account</td>\n",
       "      <td>Checking account</td>\n",
       "      <td>Managing an account</td>\n",
       "      <td>Problem using a debit or ATM card</td>\n",
       "      <td>On XX/XX/XXXX, my Bank of America account was charged by XXXX for a meal kit delivery with an expected delivery date of XX/XX/XXXX. The morning of XX/XX/XXXX, this package showed no indication of even having left the warehouse, much less being in transit for delivery, and following a pattern of this behavior by the merchant, I contacted XXXX to inquire as to my order status, which they were un...</td>\n",
       "      <td>Company has responded to the consumer and the CFPB and chooses not to provide a public response</td>\n",
       "      <td>BANK OF AMERICA, NATIONAL ASSOCIATION</td>\n",
       "      <td>VA</td>\n",
       "      <td>23294</td>\n",
       "      <td>None</td>\n",
       "      <td>Consent provided</td>\n",
       "      <td>Web</td>\n",
       "      <td>03/11/21</td>\n",
       "      <td>Closed with monetary relief</td>\n",
       "      <td>Yes</td>\n",
       "      <td>NaN</td>\n",
       "      <td>4205097</td>\n",
       "    </tr>\n",
       "    <tr>\n",
       "      <th>1</th>\n",
       "      <td>03/24/21</td>\n",
       "      <td>Mortgage</td>\n",
       "      <td>Conventional home mortgage</td>\n",
       "      <td>Applying for a mortgage or refinancing an existing mortgage</td>\n",
       "      <td>None</td>\n",
       "      <td>On XX/XX/XXXX, we contacted a company called Mr. Cooper about refinancing one of our high interest loans with them after receiving a mail inquiry invitation from them at the end of XXXX. We spoke with Mr. XXXX XXXX and went over our situation and credit scores to see if we qualified for their re-financing invitation. We provided full information on income, credit scores available through each ...</td>\n",
       "      <td>None</td>\n",
       "      <td>NATIONSTAR MORTGAGE</td>\n",
       "      <td>SC</td>\n",
       "      <td>29609</td>\n",
       "      <td>Servicemember</td>\n",
       "      <td>Consent provided</td>\n",
       "      <td>Web</td>\n",
       "      <td>03/24/21</td>\n",
       "      <td>Closed with explanation</td>\n",
       "      <td>Yes</td>\n",
       "      <td>NaN</td>\n",
       "      <td>4241112</td>\n",
       "    </tr>\n",
       "  </tbody>\n",
       "</table>\n",
       "</div>"
      ],
      "text/plain": [
       "  Date received                      Product                 Sub-product  \\\n",
       "0      03/11/21  Checking or savings account            Checking account   \n",
       "1      03/24/21                     Mortgage  Conventional home mortgage   \n",
       "\n",
       "                                                         Issue  \\\n",
       "0                                          Managing an account   \n",
       "1  Applying for a mortgage or refinancing an existing mortgage   \n",
       "\n",
       "                           Sub-issue  \\\n",
       "0  Problem using a debit or ATM card   \n",
       "1                               None   \n",
       "\n",
       "                                                                                                                                                                                                                                                                                                                                                                                      Consumer complaint narrative  \\\n",
       "0  On XX/XX/XXXX, my Bank of America account was charged by XXXX for a meal kit delivery with an expected delivery date of XX/XX/XXXX. The morning of XX/XX/XXXX, this package showed no indication of even having left the warehouse, much less being in transit for delivery, and following a pattern of this behavior by the merchant, I contacted XXXX to inquire as to my order status, which they were un...   \n",
       "1  On XX/XX/XXXX, we contacted a company called Mr. Cooper about refinancing one of our high interest loans with them after receiving a mail inquiry invitation from them at the end of XXXX. We spoke with Mr. XXXX XXXX and went over our situation and credit scores to see if we qualified for their re-financing invitation. We provided full information on income, credit scores available through each ...   \n",
       "\n",
       "                                                                           Company public response  \\\n",
       "0  Company has responded to the consumer and the CFPB and chooses not to provide a public response   \n",
       "1                                                                                             None   \n",
       "\n",
       "                                 Company State ZIP code           Tags  \\\n",
       "0  BANK OF AMERICA, NATIONAL ASSOCIATION    VA    23294           None   \n",
       "1                    NATIONSTAR MORTGAGE    SC    29609  Servicemember   \n",
       "\n",
       "  Consumer consent provided? Submitted via Date sent to company  \\\n",
       "0           Consent provided           Web             03/11/21   \n",
       "1           Consent provided           Web             03/24/21   \n",
       "\n",
       "  Company response to consumer Timely response?  Consumer disputed?  \\\n",
       "0  Closed with monetary relief              Yes                 NaN   \n",
       "1      Closed with explanation              Yes                 NaN   \n",
       "\n",
       "   Complaint ID  \n",
       "0       4205097  \n",
       "1       4241112  "
      ]
     },
     "execution_count": 5,
     "metadata": {},
     "output_type": "execute_result"
    }
   ],
   "source": [
    "complaint_df = pd.read_csv(url)\n",
    "text_col = 'Consumer complaint narrative'\n",
    "\n",
    "complaint_df.head(2)"
   ]
  },
  {
   "cell_type": "markdown",
   "metadata": {},
   "source": [
    "Let's look at all product groups that are available in the data set because these are the classes that the classifier should predict from a given complaint text."
   ]
  },
  {
   "cell_type": "code",
   "execution_count": 6,
   "metadata": {},
   "outputs": [
    {
     "data": {
      "text/plain": [
       "Credit reporting, credit repair services, or other personal consumer reports    8878\n",
       "Debt collection                                                                 3335\n",
       "Credit card or prepaid card                                                     1555\n",
       "Mortgage                                                                        1547\n",
       "Checking or savings account                                                     1122\n",
       "Money transfer, virtual currency, or money service                               914\n",
       "Vehicle loan or lease                                                            374\n",
       "Payday loan, title loan, or personal loan                                        193\n",
       "Student loan                                                                     193\n",
       "Name: Product, dtype: int64"
      ]
     },
     "execution_count": 6,
     "metadata": {},
     "output_type": "execute_result"
    }
   ],
   "source": [
    "product_counts = complaint_df['Product'].value_counts()\n",
    "product_counts"
   ]
  },
  {
   "cell_type": "markdown",
   "metadata": {},
   "source": [
    "<a id=\"prepareData\"></a>\n",
    "## Prepare training and test data"
   ]
  },
  {
   "cell_type": "markdown",
   "metadata": {},
   "source": [
    "Many classification algorithms work best if the training samples are equally split across the classes. If the data is unbalanced, algorithms might decide to favor classes with many samples to achieve an overall good result. To avoid this, you will sample the data in the next step to have a similar amount of samples for each class.\n",
    "\n",
    "To avoid long runtimes in this sample notebook, you will use only a small number of samples. However, this can reduce the quality of the classification models. In a real-case scenario, you should increase the number of samples per product group to get better results."
   ]
  },
  {
   "cell_type": "code",
   "execution_count": 7,
   "metadata": {},
   "outputs": [],
   "source": [
    "# number of complaints for the each product group\n",
    "sample_size = 300\n",
    "\n",
    "train_test_df = complaint_df.query(\"Product != 'Student loan' and Product != 'Payday loan, title loan, or personal loan'\")\n",
    "\n",
    "# sample the data to have the same number of complaints for each product group\n",
    "train_test_df = train_test_df.groupby('Product').sample(n=sample_size, random_state=5).reset_index(drop=True)"
   ]
  },
  {
   "cell_type": "markdown",
   "metadata": {},
   "source": [
    "In the next step, you will split the data into training and test data (ratio:80/20)."
   ]
  },
  {
   "cell_type": "code",
   "execution_count": 8,
   "metadata": {},
   "outputs": [
    {
     "name": "stdout",
     "output_type": "stream",
     "text": [
      "Training data:\n",
      "Number of training samples: 1680\n",
      "Samples by product group:\n",
      "Credit reporting, credit repair services, or other personal consumer reports    240\n",
      "Mortgage                                                                        240\n",
      "Vehicle loan or lease                                                           240\n",
      "Debt collection                                                                 240\n",
      "Checking or savings account                                                     240\n",
      "Money transfer, virtual currency, or money service                              240\n",
      "Credit card or prepaid card                                                     240\n",
      "Name: Product, dtype: int64\n",
      "\n",
      "Test data:\n",
      "Number of test samples: 420\n",
      "Samples by product group:\n",
      "Credit reporting, credit repair services, or other personal consumer reports    60\n",
      "Checking or savings account                                                     60\n",
      "Money transfer, virtual currency, or money service                              60\n",
      "Mortgage                                                                        60\n",
      "Vehicle loan or lease                                                           60\n",
      "Debt collection                                                                 60\n",
      "Credit card or prepaid card                                                     60\n",
      "Name: Product, dtype: int64\n"
     ]
    }
   ],
   "source": [
    "# 80% training data\n",
    "train_orig_df = train_test_df.groupby('Product').sample(frac=0.8, random_state=6)\n",
    "print(\"Training data:\")\n",
    "print(\"Number of training samples: {}\".format(len(train_orig_df)))\n",
    "print(\"Samples by product group:\\n{}\".format(train_orig_df['Product'].value_counts()))\n",
    "\n",
    "# 20% test data\n",
    "test_orig_df = train_test_df.drop(train_orig_df.index)\n",
    "print(\"\\nTest data:\")\n",
    "print(\"Number of test samples: {}\".format(len(test_orig_df)))\n",
    "print(\"Samples by product group:\\n{}\".format(test_orig_df['Product'].value_counts()))\n",
    "\n",
    "# re-index after sampling\n",
    "train_orig_df = train_orig_df.reset_index(drop=True)\n",
    "test_orig_df = test_orig_df.reset_index(drop=True)"
   ]
  },
  {
   "cell_type": "markdown",
   "metadata": {},
   "source": [
    "You have created two dataframes, one for the training and one for the test data. The data is still in its original format. Now you need to bring the data into a format that is usable by the Watson NLP classification algorithms. This can be either *JSON* or *CSV* format. \n",
    "\n",
    "In the sample, you will create the data in *JSON* format. The training and test data is written to files."
   ]
  },
  {
   "cell_type": "code",
   "execution_count": 9,
   "metadata": {},
   "outputs": [
    {
     "data": {
      "text/html": [
       "<div>\n",
       "<style scoped>\n",
       "    .dataframe tbody tr th:only-of-type {\n",
       "        vertical-align: middle;\n",
       "    }\n",
       "\n",
       "    .dataframe tbody tr th {\n",
       "        vertical-align: top;\n",
       "    }\n",
       "\n",
       "    .dataframe thead th {\n",
       "        text-align: right;\n",
       "    }\n",
       "</style>\n",
       "<table border=\"1\" class=\"dataframe\">\n",
       "  <thead>\n",
       "    <tr style=\"text-align: right;\">\n",
       "      <th></th>\n",
       "      <th>text</th>\n",
       "      <th>labels</th>\n",
       "    </tr>\n",
       "  </thead>\n",
       "  <tbody>\n",
       "    <tr>\n",
       "      <th>0</th>\n",
       "      <td>I deposited money into an ATM and it failed! The ATM Kept my money and gave me an error code. I called to file a claim ( Claim # XXXX ). They gave me a provisional credit until they investigated and looked into it. I then received a letter saying they were going to take the money back because they couldnt located the funds. This is ridiculous. Theyre a bunch of thieves and crooks!</td>\n",
       "      <td>[Checking or savings account]</td>\n",
       "    </tr>\n",
       "    <tr>\n",
       "      <th>1</th>\n",
       "      <td>I went to a Capital One bank location in XXXX Texas to make a {$360.00} cash deposit into my checking account using the atm. The atm was counting my cash and then kept making clicking noises. The atm screen popped up a message that the atm will not be able to except or give cash transactions and my card was returned. I got my card and then notice the atm took itself out of service. I call Capi...</td>\n",
       "      <td>[Checking or savings account]</td>\n",
       "    </tr>\n",
       "  </tbody>\n",
       "</table>\n",
       "</div>"
      ],
      "text/plain": [
       "                                                                                                                                                                                                                                                                                                                                                                                                              text  \\\n",
       "0                  I deposited money into an ATM and it failed! The ATM Kept my money and gave me an error code. I called to file a claim ( Claim # XXXX ). They gave me a provisional credit until they investigated and looked into it. I then received a letter saying they were going to take the money back because they couldnt located the funds. This is ridiculous. Theyre a bunch of thieves and crooks!   \n",
       "1  I went to a Capital One bank location in XXXX Texas to make a {$360.00} cash deposit into my checking account using the atm. The atm was counting my cash and then kept making clicking noises. The atm screen popped up a message that the atm will not be able to except or give cash transactions and my card was returned. I got my card and then notice the atm took itself out of service. I call Capi...   \n",
       "\n",
       "                          labels  \n",
       "0  [Checking or savings account]  \n",
       "1  [Checking or savings account]  "
      ]
     },
     "execution_count": 9,
     "metadata": {},
     "output_type": "execute_result"
    }
   ],
   "source": [
    "def prepare_data(df):\n",
    "    # only the text column and the target label *Product* are needed\n",
    "    df_out = df[[text_col, 'Product']].reset_index(drop=True)\n",
    "    # rename to the identifiers expected by Watson NLP\n",
    "    df_out = df_out.rename(columns={text_col: \"text\", 'Product': 'labels'})\n",
    "    # the label column should be an array (although we have only one label per complaint)\n",
    "    df_out['labels'] = df_out['labels'].map(lambda label: [label,])\n",
    "    return df_out\n",
    "    \n",
    "train_df = prepare_data(train_orig_df)\n",
    "train_file = './train_data.json'\n",
    "train_df.to_json(train_file, orient='records')\n",
    "    \n",
    "test_df = prepare_data(test_orig_df)\n",
    "test_file = './test_data.json'\n",
    "test_df.to_json(test_file, orient='records')\n",
    "\n",
    "train_df.head(2)"
   ]
  },
  {
   "cell_type": "markdown",
   "metadata": {},
   "source": [
    "<a id=\"svm\"></a>\n",
    "## Train a SVM classification model with Watson NLP"
   ]
  },
  {
   "cell_type": "markdown",
   "metadata": {},
   "source": [
    "SVM is an establishd classification approach. Watson NLP includes an SVM algorithm that exploits the `SnapML` libraries for faster training. The algorithm utilizes USE embeddings that encode word-level semantics into a vector space.\n",
    "\n",
    "The SVM classifier block depends on the syntax block. So, start by loading the syntax model and the USE embeddings."
   ]
  },
  {
   "cell_type": "code",
   "execution_count": 10,
   "metadata": {},
   "outputs": [],
   "source": [
    "# Syntax Model\n",
    "syntax_model = watson_nlp.load(watson_nlp.download('syntax_izumo_en_stock'))\n",
    "# USE Embedding Model\n",
    "use_model = watson_nlp.load(watson_nlp.download('embedding_use_en_stock'))"
   ]
  },
  {
   "cell_type": "markdown",
   "metadata": {},
   "source": [
    "Classification blocks expect the trainingg data in data streams. You can create data streams using several utility methods, as shown below."
   ]
  },
  {
   "cell_type": "code",
   "execution_count": 11,
   "metadata": {},
   "outputs": [],
   "source": [
    "training_data_file = train_file\n",
    "\n",
    "# Create datastream from training data\n",
    "data_stream_resolver = DataStreamResolver(target_stream_type=list, expected_keys={'text': str, 'labels': list})\n",
    "training_data = data_stream_resolver.as_data_stream(training_data_file)\n",
    "\n",
    "# Create Syntax stream\n",
    "text_stream, labels_stream = training_data[0], training_data[1]\n",
    "syntax_stream = syntax_model.stream(text_stream)\n",
    "\n",
    "\n",
    "\n",
    "use_train_stream = use_model.stream(syntax_stream, doc_embed_style='raw_text')\n",
    "use_svm_train_stream = watson_nlp.data_model.DataStream.zip(use_train_stream, labels_stream)"
   ]
  },
  {
   "cell_type": "markdown",
   "metadata": {},
   "source": [
    "Train the classifier. **Note:** This cell will run for several minutes."
   ]
  },
  {
   "cell_type": "code",
   "execution_count": 12,
   "metadata": {},
   "outputs": [],
   "source": [
    "# Train the SVM model\n",
    "svm_model = SVM.train(use_svm_train_stream)"
   ]
  },
  {
   "cell_type": "markdown",
   "metadata": {},
   "source": [
    "Before you evalute the model, you will train another one and look at how to store and reload models from the project."
   ]
  },
  {
   "cell_type": "markdown",
   "metadata": {},
   "source": [
    "<a id=\"ensemble\"></a>\n",
    "## Train an ensemble classification model with Watson NLP"
   ]
  },
  {
   "cell_type": "markdown",
   "metadata": {},
   "source": [
    "The ensemble model combines three classification models: \n",
    "\n",
    "- CNN \n",
    "- SVM with TF-IDF features\n",
    "- SVM with USE (Universal Sentence Encoder) features \n",
    "\n",
    "It computes the weighted mean of classification predictions using confidence scores. You will use the default weights which can be fine-tuned in subsequent steps.\n",
    "\n",
    "The ensemble workflow is very easy to use and the model performance can be a lot better than individual algorithms.\n",
    "\n",
    "It depends on the syntax model and the GloVe and USE embeddings. They are passed with the file containing the training data."
   ]
  },
  {
   "cell_type": "markdown",
   "metadata": {},
   "source": [
    "Train the ensemble classifier. **Note:**  This cell will run for several minutes. To restrict the time, we limited the epochs to train the CNN classifier to 10. This is an optional attribute - if not specified, the default will be 30 epochs."
   ]
  },
  {
   "cell_type": "code",
   "execution_count": 13,
   "metadata": {},
   "outputs": [
    {
     "name": "stdout",
     "output_type": "stream",
     "text": [
      "Epoch 1/10\n",
      "27/27 - 73s - loss: 3.7330 - categorical_accuracy: 0.1863\n",
      "Epoch 2/10\n",
      "27/27 - 72s - loss: 1.8871 - categorical_accuracy: 0.3345\n",
      "Epoch 3/10\n",
      "27/27 - 72s - loss: 1.0034 - categorical_accuracy: 0.5262\n",
      "Epoch 4/10\n",
      "27/27 - 71s - loss: 0.6081 - categorical_accuracy: 0.6440\n",
      "Epoch 5/10\n",
      "27/27 - 72s - loss: 0.4337 - categorical_accuracy: 0.6946\n",
      "Epoch 6/10\n",
      "27/27 - 72s - loss: 0.3524 - categorical_accuracy: 0.7107\n",
      "Epoch 7/10\n",
      "27/27 - 72s - loss: 0.3138 - categorical_accuracy: 0.7137\n",
      "Epoch 8/10\n",
      "27/27 - 72s - loss: 0.2919 - categorical_accuracy: 0.7262\n",
      "Epoch 9/10\n",
      "27/27 - 72s - loss: 0.2778 - categorical_accuracy: 0.7369\n",
      "Epoch 10/10\n",
      "27/27 - 71s - loss: 0.2671 - categorical_accuracy: 0.7399\n"
     ]
    }
   ],
   "source": [
    "stopwords = watson_nlp.download_and_load('text_stopwords_classification_ensemble_en_stock')\n",
    "\n",
    "ensemble_model = Ensemble.train(train_file, 'syntax_izumo_en_stock', 'embedding_glove_en_stock', 'embedding_use_en_stock', stopwords=stopwords, cnn_epochs=10)"
   ]
  },
  {
   "cell_type": "markdown",
   "metadata": {},
   "source": [
    "<a id=\"storeLoad\"></a>\n",
    "## Store and load classification models (optional)"
   ]
  },
  {
   "cell_type": "markdown",
   "metadata": {},
   "source": [
    "You can save a model as a project asset. `model.as_file_like_object()` creates a ZIP archive, which is provided as a *BytesIO* object that is stored in the project.\n",
    "\n",
    "**Note:** These steps are **optional**. You can skip them, and continue at [Classify test data and compare model quality](#scoring)\n",
    "\n",
    "Save both models in your project."
   ]
  },
  {
   "cell_type": "code",
   "execution_count": null,
   "metadata": {},
   "outputs": [],
   "source": [
    "project.save_data('svm_model', data=svm_model.as_file_like_object(), overwrite=True)"
   ]
  },
  {
   "cell_type": "code",
   "execution_count": null,
   "metadata": {},
   "outputs": [],
   "source": [
    "project.save_data('ensemble_model', data=ensemble_model.as_file_like_object(), overwrite=True)"
   ]
  },
  {
   "cell_type": "markdown",
   "metadata": {},
   "source": [
    "The ZIP archive created by the `save_data` function is compatible to the `watson_nlp.load()` function that is also used to load the predefined Watson NLP models."
   ]
  },
  {
   "cell_type": "code",
   "execution_count": 16,
   "metadata": {},
   "outputs": [],
   "source": [
    "svm_model = watson_nlp.load(project.get_file('svm_model'))"
   ]
  },
  {
   "cell_type": "code",
   "execution_count": 17,
   "metadata": {},
   "outputs": [],
   "source": [
    "ensemble_model = watson_nlp.load(project.get_file('ensemble_model'))"
   ]
  },
  {
   "cell_type": "markdown",
   "metadata": {},
   "source": [
    "<a id=\"scoring\"></a>\n",
    "## Classify test data and compare model quality"
   ]
  },
  {
   "cell_type": "markdown",
   "metadata": {},
   "source": [
    "Now you are able to run the trained models on new data. You will run the models on the test data so that the results can also be used for model evaluation. For illustration purposes, the data is used in the original format that you started out with because the format of the new complaints that you receive might also be in that format.\n",
    "\n",
    "Notice that the CNN model requires you to run the syntax model on the input texts first.\n",
    "\n",
    "Create a helper method to run both models on a single complaint and return the predicted product groups of both models."
   ]
  },
  {
   "cell_type": "code",
   "execution_count": 18,
   "metadata": {},
   "outputs": [],
   "source": [
    "def predict_product(text):\n",
    "    # run syntax model first\n",
    "    syntax_result = syntax_model.run(text)\n",
    "    # run SVM model on top of syntax result\n",
    "    svm_preds = svm_model.run(use_model.run(syntax_result, doc_embed_style='raw_text'))\n",
    "    \n",
    "    predicted_svm = svm_preds.to_dict()[\"classes\"][0][\"class_name\"]\n",
    "    \n",
    "    ensemble_preds = ensemble_model.run(text)\n",
    "    predicted_ensemble = ensemble_preds.to_dict()[\"classes\"][0][\"class_name\"]\n",
    "    return (predicted_svm, predicted_ensemble)"
   ]
  },
  {
   "cell_type": "markdown",
   "metadata": {},
   "source": [
    "Run the models on the complete test data."
   ]
  },
  {
   "cell_type": "code",
   "execution_count": 19,
   "metadata": {},
   "outputs": [
    {
     "data": {
      "text/html": [
       "<div>\n",
       "<style scoped>\n",
       "    .dataframe tbody tr th:only-of-type {\n",
       "        vertical-align: middle;\n",
       "    }\n",
       "\n",
       "    .dataframe tbody tr th {\n",
       "        vertical-align: top;\n",
       "    }\n",
       "\n",
       "    .dataframe thead th {\n",
       "        text-align: right;\n",
       "    }\n",
       "</style>\n",
       "<table border=\"1\" class=\"dataframe\">\n",
       "  <thead>\n",
       "    <tr style=\"text-align: right;\">\n",
       "      <th></th>\n",
       "      <th>Consumer complaint narrative</th>\n",
       "      <th>Product</th>\n",
       "      <th>Predicted SVM</th>\n",
       "      <th>Predicted Ensemble</th>\n",
       "    </tr>\n",
       "  </thead>\n",
       "  <tbody>\n",
       "    <tr>\n",
       "      <th>0</th>\n",
       "      <td>I have been attempting for over 4 months to close this account with charles Schwab and they are making it impossible to close and have the money returned to me. We have called and sent emails numerous times without any success. I am the XXXX  of an company and neither I nor my vice president nor my manager has had any success. As this account is not earning much interest, I want them penalized...</td>\n",
       "      <td>Checking or savings account</td>\n",
       "      <td>Credit card or prepaid card</td>\n",
       "      <td>Money transfer, virtual currency, or money service</td>\n",
       "    </tr>\n",
       "    <tr>\n",
       "      <th>1</th>\n",
       "      <td>Accounts were opened with the following banks : Bank of America XXXX Both banks were contacted on XX/XX/2021. The accounts were closed on the same date. \\n\\nI contacted XXXX  credit bureau to file a fraud alert.</td>\n",
       "      <td>Checking or savings account</td>\n",
       "      <td>Checking or savings account</td>\n",
       "      <td>Checking or savings account</td>\n",
       "    </tr>\n",
       "    <tr>\n",
       "      <th>2</th>\n",
       "      <td>Bank of American the amount was paid in full. On XX/XX/2019</td>\n",
       "      <td>Checking or savings account</td>\n",
       "      <td>Debt collection</td>\n",
       "      <td>Checking or savings account</td>\n",
       "    </tr>\n",
       "    <tr>\n",
       "      <th>3</th>\n",
       "      <td>Citibanks promotional offer not honored. Citibank received my documentation, confirmed in a letter to the cfpb that I was due the bonus within five to seven business days which would have been XX/XX/XXXX. They did not deposit the funds. On the same day, they issued a letter to me saying that \" we are not aware of any promotions offered in conjunction with the opening of your account '' and wan...</td>\n",
       "      <td>Checking or savings account</td>\n",
       "      <td>Credit card or prepaid card</td>\n",
       "      <td>Checking or savings account</td>\n",
       "    </tr>\n",
       "    <tr>\n",
       "      <th>4</th>\n",
       "      <td>My account got blocked without notice or warning, so I decided to call them American express but the representatives kept on telling me my account couldn't be found they said my social security number isn't on their database, and it's annoying. \\nit's been up to a month and I haven't gotten a reply from them</td>\n",
       "      <td>Checking or savings account</td>\n",
       "      <td>Debt collection</td>\n",
       "      <td>Credit card or prepaid card</td>\n",
       "    </tr>\n",
       "  </tbody>\n",
       "</table>\n",
       "</div>"
      ],
      "text/plain": [
       "                                                                                                                                                                                                                                                                                                                                                                                      Consumer complaint narrative  \\\n",
       "0  I have been attempting for over 4 months to close this account with charles Schwab and they are making it impossible to close and have the money returned to me. We have called and sent emails numerous times without any success. I am the XXXX  of an company and neither I nor my vice president nor my manager has had any success. As this account is not earning much interest, I want them penalized...   \n",
       "1                                                                                                                                                                                              Accounts were opened with the following banks : Bank of America XXXX Both banks were contacted on XX/XX/2021. The accounts were closed on the same date. \\n\\nI contacted XXXX  credit bureau to file a fraud alert.   \n",
       "2                                                                                                                                                                                                                                                                                                                                                      Bank of American the amount was paid in full. On XX/XX/2019   \n",
       "3  Citibanks promotional offer not honored. Citibank received my documentation, confirmed in a letter to the cfpb that I was due the bonus within five to seven business days which would have been XX/XX/XXXX. They did not deposit the funds. On the same day, they issued a letter to me saying that \" we are not aware of any promotions offered in conjunction with the opening of your account '' and wan...   \n",
       "4                                                                                            My account got blocked without notice or warning, so I decided to call them American express but the representatives kept on telling me my account couldn't be found they said my social security number isn't on their database, and it's annoying. \\nit's been up to a month and I haven't gotten a reply from them   \n",
       "\n",
       "                       Product                Predicted SVM  \\\n",
       "0  Checking or savings account  Credit card or prepaid card   \n",
       "1  Checking or savings account  Checking or savings account   \n",
       "2  Checking or savings account              Debt collection   \n",
       "3  Checking or savings account  Credit card or prepaid card   \n",
       "4  Checking or savings account              Debt collection   \n",
       "\n",
       "                                   Predicted Ensemble  \n",
       "0  Money transfer, virtual currency, or money service  \n",
       "1                         Checking or savings account  \n",
       "2                         Checking or savings account  \n",
       "3                         Checking or savings account  \n",
       "4                         Credit card or prepaid card  "
      ]
     },
     "execution_count": 19,
     "metadata": {},
     "output_type": "execute_result"
    }
   ],
   "source": [
    "predictions = test_orig_df[text_col].apply(lambda text: predict_product(text))\n",
    "predictions_df = pd.DataFrame.from_records(predictions, columns=('Predicted SVM', 'Predicted Ensemble'))\n",
    "   \n",
    "result_df = test_orig_df[[text_col, \"Product\"]].merge(predictions_df, how='left', left_index=True, right_index=True)\n",
    "result_df.head()"
   ]
  },
  {
   "cell_type": "markdown",
   "metadata": {},
   "source": [
    "### Out-of-the-box model evaluation using Watson NLP"
   ]
  },
  {
   "cell_type": "markdown",
   "metadata": {},
   "source": [
    "Watson NLP offers a method to calculate different quality metrics for a given model. Use the test data to evaluate the quality of your models."
   ]
  },
  {
   "cell_type": "code",
   "execution_count": 20,
   "metadata": {},
   "outputs": [
    {
     "name": "stdout",
     "output_type": "stream",
     "text": [
      "{\n",
      "    \"per_class_confusion_matrix\": {\n",
      "        \"Checking or savings account\": {\n",
      "            \"true_positive\": 25,\n",
      "            \"true_negative\": 0,\n",
      "            \"false_positive\": 116,\n",
      "            \"false_negative\": 35,\n",
      "            \"precision\": 0.1773049645390071,\n",
      "            \"recall\": 0.4166666666666667,\n",
      "            \"f1\": 0.24875621890547267\n",
      "        },\n",
      "        \"Debt collection\": {\n",
      "            \"true_positive\": 14,\n",
      "            \"true_negative\": 0,\n",
      "            \"false_positive\": 57,\n",
      "            \"false_negative\": 46,\n",
      "            \"precision\": 0.19718309859154928,\n",
      "            \"recall\": 0.23333333333333334,\n",
      "            \"f1\": 0.21374045801526714\n",
      "        },\n",
      "        \"Credit card or prepaid card\": {\n",
      "            \"true_positive\": 14,\n",
      "            \"true_negative\": 0,\n",
      "            \"false_positive\": 87,\n",
      "            \"false_negative\": 46,\n",
      "            \"precision\": 0.13861386138613863,\n",
      "            \"recall\": 0.23333333333333334,\n",
      "            \"f1\": 0.1739130434782609\n",
      "        },\n",
      "        \"Credit reporting, credit repair services, or other personal consumer reports\": {\n",
      "            \"true_positive\": 13,\n",
      "            \"true_negative\": 0,\n",
      "            \"false_positive\": 55,\n",
      "            \"false_negative\": 47,\n",
      "            \"precision\": 0.19117647058823528,\n",
      "            \"recall\": 0.21666666666666667,\n",
      "            \"f1\": 0.203125\n",
      "        },\n",
      "        \"Mortgage\": {\n",
      "            \"true_positive\": 1,\n",
      "            \"true_negative\": 0,\n",
      "            \"false_positive\": 5,\n",
      "            \"false_negative\": 59,\n",
      "            \"precision\": 0.16666666666666666,\n",
      "            \"recall\": 0.016666666666666666,\n",
      "            \"f1\": 0.0303030303030303\n",
      "        },\n",
      "        \"Vehicle loan or lease\": {\n",
      "            \"true_positive\": 0,\n",
      "            \"true_negative\": 0,\n",
      "            \"false_positive\": 4,\n",
      "            \"false_negative\": 60,\n",
      "            \"precision\": 0.0,\n",
      "            \"recall\": 0.0,\n",
      "            \"f1\": 0\n",
      "        },\n",
      "        \"Money transfer, virtual currency, or money service\": {\n",
      "            \"true_positive\": 3,\n",
      "            \"true_negative\": 0,\n",
      "            \"false_positive\": 26,\n",
      "            \"false_negative\": 57,\n",
      "            \"precision\": 0.10344827586206896,\n",
      "            \"recall\": 0.05,\n",
      "            \"f1\": 0.06741573033707865\n",
      "        }\n",
      "    },\n",
      "    \"macro_precision\": 0.13919904823338083,\n",
      "    \"macro_recall\": 0.16666666666666669,\n",
      "    \"macro_f1\": 0.1338933544341585,\n",
      "    \"micro_precision\": 0.16666666666666666,\n",
      "    \"micro_recall\": 0.16666666666666666,\n",
      "    \"micro_f1\": 0.16666666666666666,\n",
      "    \"overall_tp\": 70,\n",
      "    \"overall_fp\": 350,\n",
      "    \"overall_fn\": 350,\n",
      "    \"detailed_metrics\": [],\n",
      "    \"micro_precision_partial_match\": 0,\n",
      "    \"micro_recall_partial_match\": 0,\n",
      "    \"micro_f1_partial_match\": 0\n",
      "}\n"
     ]
    }
   ],
   "source": [
    "# load the test data as dictionary\n",
    "test_data = fileio.load_json(test_file)\n",
    "\n",
    "# the gold data holding the correct labels\n",
    "gold_data = SVM._extract_gold_set(test_data)\n",
    "\n",
    "# run the models on the test data - this time in batch mode\n",
    "preprocess_func = lambda raw_doc: use_model.run_batch(syntax_model.run_batch(raw_doc))\n",
    "SVM_pred_data = svm_model._extract_pred_set(test_data, preprocess_func=preprocess_func)\n",
    "\n",
    "ensemble_pred_data = ensemble_model._extract_pred_set(test_data)\n",
    "\n",
    "# pass gold data and predicted data to the QualityEvaluator method\n",
    "SVM_quality = QualityEvaluator(gold_data, SVM_pred_data).run(\n",
    "    EvalTypes.MULTILABEL_MULTICLASS,\n",
    "    find_label_func=SVM.find_label_func,\n",
    "    find_label_data_func=SVM.find_label_data_func)\n",
    "Ensemble_quality = QualityEvaluator(gold_data, ensemble_pred_data).run(\n",
    "    EvalTypes.MULTILABEL_MULTICLASS,\n",
    "    find_label_func=SVM.find_label_func,\n",
    "    find_label_data_func=SVM.find_label_data_func)\n",
    "\n",
    "print(json.dumps(SVM_quality, indent=4))"
   ]
  },
  {
   "cell_type": "markdown",
   "metadata": {},
   "source": [
    "You can see that the precision, recall and f1-measure for some classes is much lower than for others. The reason might be that it is difficult to differentiate between some classes. \n",
    "\n",
    "To find out if this is true, create a custom confusion matrix to see if there are classes that seem to be very close and might have been classified inappropriately."
   ]
  },
  {
   "cell_type": "markdown",
   "metadata": {},
   "source": [
    "### Creating and plotting a confusion matrix"
   ]
  },
  {
   "cell_type": "markdown",
   "metadata": {},
   "source": [
    "Use the pandas *crosstab* to create a confusion matrix for both the CNN and the ensemble model and plot them as *Seaborn* heatmaps."
   ]
  },
  {
   "cell_type": "code",
   "execution_count": 21,
   "metadata": {},
   "outputs": [
    {
     "data": {
      "image/png": "[encoded data removed]",
      "text/plain": [
       "<Figure size 1080x504 with 2 Axes>"
      ]
     },
     "metadata": {
      "needs_background": "light"
     },
     "output_type": "display_data"
    }
   ],
   "source": [
    "SVM_confusion_df = pd.crosstab(result_df['Product'], result_df['Predicted SVM'], rownames=['Actual'], normalize='index')\n",
    "ensemble_confusion_df = pd.crosstab(result_df['Product'], result_df['Predicted Ensemble'], rownames=['Actual'], normalize='index')\n",
    "\n",
    "figure, (ax1, ax2) = plt.subplots(ncols=2, figsize=(15,7))\n",
    "\n",
    "sn.heatmap(SVM_confusion_df, annot=True, cmap=\"YlGnBu\", ax=ax1, cbar=False)\n",
    "sn.heatmap(ensemble_confusion_df, annot=True, cmap=\"YlGnBu\", ax=ax2, cbar=False)\n",
    "ax1.title.set_text(\"SVM\")\n",
    "ax2.title.set_text(\"Ensemble\")\n",
    "ax2.set_yticklabels([])\n",
    "\n",
    "plt.show()"
   ]
  },
  {
   "cell_type": "markdown",
   "metadata": {},
   "source": [
    "In the confusion matrix for the SVM model you can now see that complaints for `Money transfer, virtual currency, or money service` are often misclassified as `Checking or savings account`. Other common misclassifications can be gathered from the table.\n",
    "\n",
    "Overall, the ensemble model performs better than the SVM model. However, the SVM model had a significantly shorter training time. \n",
    "\n",
    "In subsequent steps, consider increasing the size of the training data, tuning the CNN training parameters or adjusting the  weights of the ensemble model to gain better results."
   ]
  },
  {
   "cell_type": "markdown",
   "metadata": {},
   "source": [
    "<a id=\"summary\"></a>\n",
    "## Summary"
   ]
  },
  {
   "cell_type": "markdown",
   "metadata": {},
   "source": [
    "This notebook shows you how to use the Watson NLP library and how quickly and easily you can train and run different text classifiers using Watson NLP."
   ]
  },
  {
   "cell_type": "markdown",
   "metadata": {},
   "source": [
    "### Authors\n",
    "Simone Zerfass IBM, Germany\n",
    "\n",
    "Alexander Lang IBM, Germany"
   ]
  },
  {
   "cell_type": "markdown",
   "metadata": {},
   "source": [
    "# <hr>\n",
    "Copyright © 2021 IBM. This notebook and its source code are released under the terms of the MIT License."
   ]
  }
 ],
 "metadata": {
  "kernelspec": {
   "display_name": "Python 3.8 Watson NLP",
   "language": "python",
   "name": "python3"
  },
  "language_info": {
   "codemirror_mode": {
    "name": "ipython",
    "version": 3
   },
   "file_extension": ".py",
   "mimetype": "text/x-python",
   "name": "python",
   "nbconvert_exporter": "python",
   "pygments_lexer": "ipython3",
   "version": "3.8.11"
  }
 },
 "nbformat": 4,
 "nbformat_minor": 1
}
