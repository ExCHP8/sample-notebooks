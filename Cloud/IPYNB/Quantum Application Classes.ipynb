{
 "cells": [
  {
   "cell_type": "markdown",
   "metadata": {},
   "source": [
    "# Application Classes for Optimization Problems"
   ]
  },
  {
   "cell_type": "markdown",
   "metadata": {},
   "source": [
    "We introduce application classes for the a few popular optimization problems so that users can easily try various optimization problems on quantum computers.\n",
    "\n",
    "Qiskit is an open source SDK for working with quantum computers at the level of pulses, circuits and application modules."
   ]
  },
  {
   "cell_type": "markdown",
   "metadata": {},
   "source": [
    "We walk through examples of the vertex cover problem and the knapsack problem in this tutorial:\n",
    "\n",
    "- Vertex cover problem\n",
    "  - Given an undirected graph, find a subset of nodes with the minimum size such that each edge has at least one endpoint in the subsets.\n",
    "- Knapsack problem\n",
    "  - Given a set of items, find a subset of items such that the total weight is within the capacity and the total value is maximized.\n",
    "\n",
    "Examples of the max-cut problem and the traveling salesman problem are available in [Max-Cut and Traveling Salesman Problem](https://github.com/Qiskit/qiskit-tutorials/blob/master/tutorials/optimization/6_examples_max_cut_and_tsp.ipynb).\n",
    "\n",
    "## Table of Contents\n",
    "\n",
    "0. [Additional application problems](#add-prob)\n",
    "1. [Import the libraries](#import)\n",
    "2. [Vertex cover problem](#vertex)\n",
    "3. [Knapsack problem](#knapsack)\n",
    "4. [How to check the Hamiltonian](#check-ham)"
   ]
  },
  {
   "cell_type": "markdown",
   "metadata": {},
   "source": [
    "<a id = \"add-prob\"></a>\n",
    "### Additional application problems\n",
    "\n",
    "#### General problems\n",
    "\n",
    "1. Exact cover problem\n",
    "  - Given a collection of subsets of items, find a subcollection such that each item is covered exactly once.\n",
    "3. Number partition problem\n",
    "  - Given a multiset of positive integers, find a partition of the multiset into two subsets such that the sums of the subsets are equal.\n",
    "4. Set packing problem\n",
    "  - Given a collection of subsets of items, find a subcollection such that all subsets of the subcollection are pairwise disjoint and the number of items in the subcollection is maximized.\n",
    "\n",
    "#### Graph problems\n",
    "\n",
    "5. Clique problem\n",
    "  - Given an undirected graph, find a subset of nodes with a specified number or the maximum number such that the induced subgraph is complete.\n",
    "6. Graph partition problem\n",
    "  - Given an undirected graph, find a partition into two components whose sizes are equal such that the total capacity of the edges between the two components is minimized.\n",
    "7. Max-cut problem\n",
    "  - Given an undirected graph, find a partition of nodes into two subsets such that the total weight of the edges between the two subsets is maximized. \n",
    "8. Stable set problem\n",
    "  - Given an undirected graph, find a subset of nodes such that no edge connects the nodes in the subset and the number of nodes is maximized.\n",
    "9. Traveling salesman problem\n",
    "  - Given a graph, find a route with the minimum distance such that the route visits each city exactly once.\n",
    "10. Vehicle routing problem\n",
    "  - Given a graph, a depot node, and the number of vehicles (routes), find a set of routes such that each node is covered exactly once except the depot and the total distance of the routes is minimized.\n",
    "\n",
    "The application classes for graph problems (`GraphOptimizationApplication`) provide a functionality to draw graphs of an instance and a result.\n",
    "Note that you need to install `matplotlib` beforehand to utilize the functionality."
   ]
  },
  {
   "cell_type": "markdown",
   "metadata": {},
   "source": [
    "<a id = \"import\"></a>\n",
    "## Import the libraries"
   ]
  },
  {
   "cell_type": "markdown",
   "metadata": {},
   "source": [
    "## Import the libraries\n",
    "\n",
    "We first import packages necessary for application classes. We encourage installing Qiskit via the pip tool (a python package manager).\n",
    "\n",
    "`pip` will handle all dependencies automatically and you will always install the latest (and well-tested) version.\n",
    "\n",
    "The Qiskit Optimization package covers the whole range from high-level modeling of optimization problems, with automatic conversion of problems to different required representations, to a suite of easy-to-use quantum optimization algorithms that are ready to run on classical simulators, as well as on real quantum systems.\n",
    "\n",
    "If you want to work on the very latest work-in-progress versions, learn more about Qiskit, or if you want to contribute to Qiskit Optimization visit `qiskit.org` for more information"
   ]
  },
  {
   "cell_type": "code",
   "execution_count": 1,
   "metadata": {},
   "outputs": [
    {
     "name": "stdout",
     "output_type": "stream",
     "text": [
      "Note: you may need to restart the kernel to use updated packages.\n"
     ]
    }
   ],
   "source": [
    "pip install -q qiskit"
   ]
  },
  {
   "cell_type": "code",
   "execution_count": 2,
   "metadata": {},
   "outputs": [
    {
     "name": "stdout",
     "output_type": "stream",
     "text": [
      "Note: you may need to restart the kernel to use updated packages.\n"
     ]
    }
   ],
   "source": [
    "pip install -q qiskit_optimization"
   ]
  },
  {
   "cell_type": "code",
   "execution_count": 3,
   "metadata": {},
   "outputs": [],
   "source": [
    "from qiskit_optimization.algorithms import MinimumEigenOptimizer\n",
    "from qiskit import Aer\n",
    "from qiskit.utils import algorithm_globals, QuantumInstance\n",
    "from qiskit.algorithms import QAOA, NumPyMinimumEigensolver"
   ]
  },
  {
   "cell_type": "markdown",
   "metadata": {},
   "source": [
    "<a id = \"vertex\"></a>\n",
    "## Vertex cover problem\n",
    "\n",
    "We introduce the application class for the vertex cover problem as an example of graph problems.\n",
    "Given an undirected graph, the vertex cover problem asks us to find a subset of nodes with the minimum size such that all edges are covered by any node selected.\n",
    "\n",
    "We import the application class `VertexCover` for the vertex cover problem and `networkx` to generate a random graph.\n"
   ]
  },
  {
   "cell_type": "code",
   "execution_count": 4,
   "metadata": {},
   "outputs": [
    {
     "name": "stdout",
     "output_type": "stream",
     "text": [
      "Requirement already satisfied: networkx==2.2 in /opt/conda/envs/Python-3.8-main/lib/python3.8/site-packages (2.2)\r\n",
      "Requirement already satisfied: decorator>=4.3.0 in /opt/conda/envs/Python-3.8-main/lib/python3.8/site-packages (from networkx==2.2) (5.0.9)\r\n"
     ]
    }
   ],
   "source": [
    "!pip install networkx==2.2"
   ]
  },
  {
   "cell_type": "code",
   "execution_count": 5,
   "metadata": {},
   "outputs": [
    {
     "name": "stdout",
     "output_type": "stream",
     "text": [
      "Requirement already satisfied: matplotlib==2.2.3 in /opt/conda/envs/Python-3.8-main/lib/python3.8/site-packages (2.2.3)\r\n",
      "Requirement already satisfied: kiwisolver>=1.0.1 in /opt/conda/envs/Python-3.8-main/lib/python3.8/site-packages (from matplotlib==2.2.3) (1.3.1)\r\n",
      "Requirement already satisfied: six>=1.10 in /opt/conda/envs/Python-3.8-main/lib/python3.8/site-packages (from matplotlib==2.2.3) (1.15.0)\r\n",
      "Requirement already satisfied: pytz in /opt/conda/envs/Python-3.8-main/lib/python3.8/site-packages (from matplotlib==2.2.3) (2021.1)\r\n",
      "Requirement already satisfied: numpy>=1.7.1 in /opt/conda/envs/Python-3.8-main/lib/python3.8/site-packages (from matplotlib==2.2.3) (1.19.2)\r\n",
      "Requirement already satisfied: python-dateutil>=2.1 in /opt/conda/envs/Python-3.8-main/lib/python3.8/site-packages (from matplotlib==2.2.3) (2.8.1)\r\n",
      "Requirement already satisfied: cycler>=0.10 in /opt/conda/envs/Python-3.8-main/lib/python3.8/site-packages (from matplotlib==2.2.3) (0.10.0)\r\n",
      "Requirement already satisfied: pyparsing!=2.0.4,!=2.1.2,!=2.1.6,>=2.0.1 in /opt/conda/envs/Python-3.8-main/lib/python3.8/site-packages (from matplotlib==2.2.3) (2.4.7)\r\n"
     ]
    }
   ],
   "source": [
    "!pip install matplotlib==2.2.3"
   ]
  },
  {
   "cell_type": "code",
   "execution_count": 6,
   "metadata": {},
   "outputs": [],
   "source": [
    "from qiskit_optimization.applications.vertex_cover import VertexCover\n",
    "import networkx as nx\n",
    "\n",
    "seed = 123\n",
    "algorithm_globals.random_seed = seed\n",
    "qins = QuantumInstance(backend=Aer.get_backend('qasm_simulator'), shots=1000, seed_simulator=seed, seed_transpiler=seed)"
   ]
  },
  {
   "cell_type": "code",
   "execution_count": 7,
   "metadata": {},
   "outputs": [],
   "source": [
    "graph = nx.random_regular_graph(d=3, n=6, seed=seed)\n",
    "pos = nx.spring_layout(graph, seed=seed)"
   ]
  },
  {
   "cell_type": "code",
   "execution_count": 8,
   "metadata": {},
   "outputs": [
    {
     "data": {
      "image/png": "[encoded data removed]",
      "text/plain": [
       "<Figure size 432x288 with 1 Axes>"
      ]
     },
     "metadata": {},
     "output_type": "display_data"
    }
   ],
   "source": [
    "prob = VertexCover(graph)\n",
    "prob.draw(pos=pos)"
   ]
  },
  {
   "cell_type": "markdown",
   "metadata": {},
   "source": [
    "`VertexCover` takes a graph as an instance and `to_quadratic_program` generates a corresponding `QuadraticProgram` of the instance of the vertex cover problem."
   ]
  },
  {
   "cell_type": "code",
   "execution_count": 9,
   "metadata": {},
   "outputs": [
    {
     "data": {
      "text/plain": [
       "\\ This file has been generated by DOcplex\n",
       "\\ ENCODING=ISO-8859-1\n",
       "\\Problem name: Vertex cover\n",
       "\n",
       "Minimize\n",
       " obj: x_0 + x_1 + x_2 + x_3 + x_4 + x_5\n",
       "Subject To\n",
       " c0: x_1 + x_2 >= 1\n",
       " c1: x_1 + x_4 >= 1\n",
       " c2: x_1 + x_3 >= 1\n",
       " c3: x_2 + x_3 >= 1\n",
       " c4: x_0 + x_2 >= 1\n",
       " c5: x_0 + x_4 >= 1\n",
       " c6: x_0 + x_5 >= 1\n",
       " c7: x_4 + x_5 >= 1\n",
       " c8: x_3 + x_5 >= 1\n",
       "\n",
       "Bounds\n",
       " 0 <= x_0 <= 1\n",
       " 0 <= x_1 <= 1\n",
       " 0 <= x_2 <= 1\n",
       " 0 <= x_3 <= 1\n",
       " 0 <= x_4 <= 1\n",
       " 0 <= x_5 <= 1\n",
       "\n",
       "Binaries\n",
       " x_0 x_1 x_2 x_3 x_4 x_5\n",
       "End"
      ]
     },
     "execution_count": 9,
     "metadata": {},
     "output_type": "execute_result"
    }
   ],
   "source": [
    "qp = prob.to_quadratic_program()\n",
    "qp"
   ]
  },
  {
   "cell_type": "markdown",
   "metadata": {},
   "source": [
    "You can solve the problem as follows. `NumPyMinimumEigensolver` finds the minimum eigen vector. You can also apply QAOA. Note that the solution by QAOA is not always optimal."
   ]
  },
  {
   "cell_type": "code",
   "execution_count": 10,
   "metadata": {},
   "outputs": [
    {
     "name": "stdout",
     "output_type": "stream",
     "text": [
      "result:\n",
      " optimal function value: 4.0\n",
      "optimal value: [0. 0. 1. 1. 1. 1.]\n",
      "status: SUCCESS\n",
      "\n",
      "solution:\n",
      " [2, 3, 4, 5]\n"
     ]
    },
    {
     "data": {
      "image/png": "[encoded data removed]",
      "text/plain": [
       "<Figure size 432x288 with 1 Axes>"
      ]
     },
     "metadata": {},
     "output_type": "display_data"
    }
   ],
   "source": [
    "# Numpy Eigensolver\n",
    "meo = MinimumEigenOptimizer(min_eigen_solver=NumPyMinimumEigensolver())\n",
    "result = meo.solve(qp)\n",
    "print('result:\\n', result)\n",
    "print('\\nsolution:\\n', prob.interpret(result))\n",
    "prob.draw(result, pos=pos)"
   ]
  },
  {
   "cell_type": "code",
   "execution_count": 11,
   "metadata": {},
   "outputs": [
    {
     "name": "stdout",
     "output_type": "stream",
     "text": [
      "result:\n",
      " optimal function value: 4.0\n",
      "optimal value: [1. 1. 0. 1. 1. 0.]\n",
      "status: SUCCESS\n",
      "\n",
      "solution:\n",
      " [0, 1, 3, 4]\n",
      "\n",
      "time: 0.21283698081970215\n"
     ]
    },
    {
     "data": {
      "image/png": "[encoded data removed]",
      "text/plain": [
       "<Figure size 432x288 with 1 Axes>"
      ]
     },
     "metadata": {},
     "output_type": "display_data"
    }
   ],
   "source": [
    "# QAOA\n",
    "meo = MinimumEigenOptimizer(min_eigen_solver=QAOA(reps=1, quantum_instance=qins))\n",
    "result = meo.solve(qp)\n",
    "print('result:\\n', result)\n",
    "print('\\nsolution:\\n', prob.interpret(result))\n",
    "print('\\ntime:', result.min_eigen_solver_result.optimizer_time)\n",
    "prob.draw(result, pos=pos)"
   ]
  },
  {
   "cell_type": "markdown",
   "metadata": {},
   "source": [
    "<a id = \"knapsack\"></a>\n",
    "## Knapsack problem\n",
    "\n",
    "The knapsack problem asks us to find a combination of items such that the total weight is within the capacity of the knapsack and maximize the total value of the items.\n",
    "The following examples solve an instance of the knapsack problem with 5 items by Numpy eigensolver and QAOA."
   ]
  },
  {
   "cell_type": "code",
   "execution_count": 12,
   "metadata": {},
   "outputs": [],
   "source": [
    "from qiskit_optimization.applications import Knapsack"
   ]
  },
  {
   "cell_type": "code",
   "execution_count": 13,
   "metadata": {},
   "outputs": [
    {
     "data": {
      "text/plain": [
       "\\ This file has been generated by DOcplex\n",
       "\\ ENCODING=ISO-8859-1\n",
       "\\Problem name: Knapsack\n",
       "\n",
       "Maximize\n",
       " obj: 3 x_0 + 4 x_1 + 5 x_2 + 6 x_3 + 7 x_4\n",
       "Subject To\n",
       " c0: 2 x_0 + 3 x_1 + 4 x_2 + 5 x_3 + 6 x_4 <= 10\n",
       "\n",
       "Bounds\n",
       " 0 <= x_0 <= 1\n",
       " 0 <= x_1 <= 1\n",
       " 0 <= x_2 <= 1\n",
       " 0 <= x_3 <= 1\n",
       " 0 <= x_4 <= 1\n",
       "\n",
       "Binaries\n",
       " x_0 x_1 x_2 x_3 x_4\n",
       "End"
      ]
     },
     "execution_count": 13,
     "metadata": {},
     "output_type": "execute_result"
    }
   ],
   "source": [
    "prob = Knapsack(values = [3, 4, 5, 6, 7], weights = [2, 3, 4, 5, 6], max_weight=10)\n",
    "qp = prob.to_quadratic_program()\n",
    "qp"
   ]
  },
  {
   "cell_type": "code",
   "execution_count": 14,
   "metadata": {},
   "outputs": [
    {
     "name": "stdout",
     "output_type": "stream",
     "text": [
      "result:\n",
      " optimal function value: 13.0\n",
      "optimal value: [1. 1. 0. 1. 0.]\n",
      "status: SUCCESS\n",
      "\n",
      "solution:\n",
      " [0, 1, 3]\n"
     ]
    }
   ],
   "source": [
    "# Numpy Eigensolver\n",
    "meo = MinimumEigenOptimizer(min_eigen_solver=NumPyMinimumEigensolver())\n",
    "result = meo.solve(qp)\n",
    "print('result:\\n', result)\n",
    "print('\\nsolution:\\n', prob.interpret(result))"
   ]
  },
  {
   "cell_type": "code",
   "execution_count": 15,
   "metadata": {},
   "outputs": [
    {
     "name": "stdout",
     "output_type": "stream",
     "text": [
      "result:\n",
      " optimal function value: 13.0\n",
      "optimal value: [1. 1. 0. 1. 0.]\n",
      "status: SUCCESS\n",
      "\n",
      "solution:\n",
      " [0, 1, 3]\n",
      "\n",
      "time: 6.871398210525513\n"
     ]
    }
   ],
   "source": [
    "# QAOA\n",
    "meo = MinimumEigenOptimizer(min_eigen_solver=QAOA(reps=1, quantum_instance=qins))\n",
    "result = meo.solve(qp)\n",
    "print('result:\\n', result)\n",
    "print('\\nsolution:\\n', prob.interpret(result))\n",
    "print('\\ntime:', result.min_eigen_solver_result.optimizer_time)"
   ]
  },
  {
   "cell_type": "markdown",
   "metadata": {},
   "source": [
    "<a id = \"check-ham\"></a>\n",
    "## How to check the Hamiltonian\n",
    "\n",
    "If you want to check the actual Hamiltonian generated from your problem instance, you need to apply a converter as follows."
   ]
  },
  {
   "cell_type": "code",
   "execution_count": 16,
   "metadata": {},
   "outputs": [],
   "source": [
    "from qiskit_optimization.converters import QuadraticProgramToQubo"
   ]
  },
  {
   "cell_type": "code",
   "execution_count": 17,
   "metadata": {},
   "outputs": [
    {
     "data": {
      "text/plain": [
       "\\ This file has been generated by DOcplex\n",
       "\\ ENCODING=ISO-8859-1\n",
       "\\Problem name: Knapsack\n",
       "\n",
       "Maximize\n",
       " obj: 3 x_0 + 4 x_1 + 5 x_2 + 6 x_3 + 7 x_4\n",
       "Subject To\n",
       " c0: 2 x_0 + 3 x_1 + 4 x_2 + 5 x_3 + 6 x_4 <= 10\n",
       "\n",
       "Bounds\n",
       " 0 <= x_0 <= 1\n",
       " 0 <= x_1 <= 1\n",
       " 0 <= x_2 <= 1\n",
       " 0 <= x_3 <= 1\n",
       " 0 <= x_4 <= 1\n",
       "\n",
       "Binaries\n",
       " x_0 x_1 x_2 x_3 x_4\n",
       "End"
      ]
     },
     "execution_count": 17,
     "metadata": {},
     "output_type": "execute_result"
    }
   ],
   "source": [
    "# the same knapsack problem instance as in the previous section\n",
    "prob = Knapsack(values = [3, 4, 5, 6, 7], weights = [2, 3, 4, 5, 6], max_weight=10)\n",
    "qp = prob.to_quadratic_program()\n",
    "qp"
   ]
  },
  {
   "cell_type": "code",
   "execution_count": 18,
   "metadata": {},
   "outputs": [
    {
     "data": {
      "text/plain": [
       "\\ This file has been generated by DOcplex\n",
       "\\ ENCODING=ISO-8859-1\n",
       "\\Problem name: Knapsack\n",
       "\n",
       "Minimize\n",
       " obj: - 1043 x_0 - 1564 x_1 - 2085 x_2 - 2606 x_3 - 3127 x_4\n",
       "      - 520 c0@int_slack@0 - 1040 c0@int_slack@1 - 2080 c0@int_slack@2\n",
       "      - 1560 c0@int_slack@3 + [ 208 x_0^2 + 624 x_0*x_1 + 832 x_0*x_2\n",
       "      + 1040 x_0*x_3 + 1248 x_0*x_4 + 208 x_0*c0@int_slack@0\n",
       "      + 416 x_0*c0@int_slack@1 + 832 x_0*c0@int_slack@2 + 624 x_0*c0@int_slack@3\n",
       "      + 468 x_1^2 + 1248 x_1*x_2 + 1560 x_1*x_3 + 1872 x_1*x_4\n",
       "      + 312 x_1*c0@int_slack@0 + 624 x_1*c0@int_slack@1\n",
       "      + 1248 x_1*c0@int_slack@2 + 936 x_1*c0@int_slack@3 + 832 x_2^2\n",
       "      + 2080 x_2*x_3 + 2496 x_2*x_4 + 416 x_2*c0@int_slack@0\n",
       "      + 832 x_2*c0@int_slack@1 + 1664 x_2*c0@int_slack@2\n",
       "      + 1248 x_2*c0@int_slack@3 + 1300 x_3^2 + 3120 x_3*x_4\n",
       "      + 520 x_3*c0@int_slack@0 + 1040 x_3*c0@int_slack@1\n",
       "      + 2080 x_3*c0@int_slack@2 + 1560 x_3*c0@int_slack@3 + 1872 x_4^2\n",
       "      + 624 x_4*c0@int_slack@0 + 1248 x_4*c0@int_slack@1\n",
       "      + 2496 x_4*c0@int_slack@2 + 1872 x_4*c0@int_slack@3 + 52 c0@int_slack@0^2\n",
       "      + 208 c0@int_slack@0*c0@int_slack@1 + 416 c0@int_slack@0*c0@int_slack@2\n",
       "      + 312 c0@int_slack@0*c0@int_slack@3 + 208 c0@int_slack@1^2\n",
       "      + 832 c0@int_slack@1*c0@int_slack@2 + 624 c0@int_slack@1*c0@int_slack@3\n",
       "      + 832 c0@int_slack@2^2 + 1248 c0@int_slack@2*c0@int_slack@3\n",
       "      + 468 c0@int_slack@3^2 ]/2 + 2600\n",
       "Subject To\n",
       "\n",
       "Bounds\n",
       " 0 <= x_0 <= 1\n",
       " 0 <= x_1 <= 1\n",
       " 0 <= x_2 <= 1\n",
       " 0 <= x_3 <= 1\n",
       " 0 <= x_4 <= 1\n",
       " 0 <= c0@int_slack@0 <= 1\n",
       " 0 <= c0@int_slack@1 <= 1\n",
       " 0 <= c0@int_slack@2 <= 1\n",
       " 0 <= c0@int_slack@3 <= 1\n",
       "\n",
       "Binaries\n",
       " x_0 x_1 x_2 x_3 x_4 c0@int_slack@0 c0@int_slack@1 c0@int_slack@2 c0@int_slack@3\n",
       "End"
      ]
     },
     "execution_count": 18,
     "metadata": {},
     "output_type": "execute_result"
    }
   ],
   "source": [
    "# intermediate QUBO form of the optimization problem\n",
    "conv = QuadraticProgramToQubo()\n",
    "qubo = conv.convert(qp)\n",
    "qubo"
   ]
  },
  {
   "cell_type": "code",
   "execution_count": 19,
   "metadata": {},
   "outputs": [
    {
     "name": "stdout",
     "output_type": "stream",
     "text": [
      "num qubits: 9, offset: 1417.5\n",
      "\n",
      "-390.0 * ZIIIIIIII\n",
      "- 520.0 * IZIIIIIII\n",
      "+ 156.0 * ZZIIIIIII\n",
      "- 260.0 * IIZIIIIII\n",
      "+ 78.0 * ZIZIIIIII\n",
      "+ 104.0 * IZZIIIIII\n",
      "- 130.0 * IIIZIIIII\n",
      "+ 39.0 * ZIIZIIIII\n",
      "+ 52.0 * IZIZIIIII\n",
      "+ 26.0 * IIZZIIIII\n",
      "- 776.5 * IIIIZIIII\n",
      "+ 234.0 * ZIIIZIIII\n",
      "+ 312.0 * IZIIZIIII\n",
      "+ 156.0 * IIZIZIIII\n",
      "+ 78.0 * IIIZZIIII\n",
      "- 647.0 * IIIIIZIII\n",
      "+ 195.0 * ZIIIIZIII\n",
      "+ 260.0 * IZIIIZIII\n",
      "+ 130.0 * IIZIIZIII\n",
      "+ 65.0 * IIIZIZIII\n",
      "+ 390.0 * IIIIZZIII\n",
      "- 517.5 * IIIIIIZII\n",
      "+ 156.0 * ZIIIIIZII\n",
      "+ 208.0 * IZIIIIZII\n",
      "+ 104.0 * IIZIIIZII\n",
      "+ 52.0 * IIIZIIZII\n",
      "+ 312.0 * IIIIZIZII\n",
      "+ 260.0 * IIIIIZZII\n",
      "- 388.0 * IIIIIIIZI\n",
      "+ 117.0 * ZIIIIIIZI\n",
      "+ 156.0 * IZIIIIIZI\n",
      "+ 78.0 * IIZIIIIZI\n",
      "+ 39.0 * IIIZIIIZI\n",
      "+ 234.0 * IIIIZIIZI\n",
      "+ 195.0 * IIIIIZIZI\n",
      "+ 156.0 * IIIIIIZZI\n",
      "- 258.5 * IIIIIIIIZ\n",
      "+ 78.0 * ZIIIIIIIZ\n",
      "+ 104.0 * IZIIIIIIZ\n",
      "+ 52.0 * IIZIIIIIZ\n",
      "+ 26.0 * IIIZIIIIZ\n",
      "+ 156.0 * IIIIZIIIZ\n",
      "+ 130.0 * IIIIIZIIZ\n",
      "+ 104.0 * IIIIIIZIZ\n",
      "+ 78.0 * IIIIIIIZZ\n"
     ]
    }
   ],
   "source": [
    "# qubit Hamiltonian and offset\n",
    "op, offset = qubo.to_ising()\n",
    "print(f'num qubits: {op.num_qubits}, offset: {offset}\\n')\n",
    "print(op)"
   ]
  },
  {
   "cell_type": "code",
   "execution_count": 20,
   "metadata": {},
   "outputs": [
    {
     "data": {
      "text/html": [
       "<h3>Version Information</h3><table><tr><th>Qiskit Software</th><th>Version</th></tr><tr><td><code>qiskit-terra</code></td><td>0.19.2</td></tr><tr><td><code>qiskit-aer</code></td><td>0.10.3</td></tr><tr><td><code>qiskit-ignis</code></td><td>0.7.0</td></tr><tr><td><code>qiskit-ibmq-provider</code></td><td>0.18.3</td></tr><tr><td><code>qiskit</code></td><td>0.34.2</td></tr><tr><td><code>qiskit-optimization</code></td><td>0.3.1</td></tr><tr><th>System information</th></tr><tr><td>Python version</td><td>3.8.12</td></tr><tr><td>Python compiler</td><td>GCC 7.5.0</td></tr><tr><td>Python build</td><td>default, Oct 12 2021 13:49:34</td></tr><tr><td>OS</td><td>Linux</td></tr><tr><td>CPUs</td><td>56</td></tr><tr><td>Memory (Gb)</td><td>238.10720443725586</td></tr><tr><td colspan='2'>Sat Feb 19 04:50:46 2022 UTC</td></tr></table>"
      ],
      "text/plain": [
       "<IPython.core.display.HTML object>"
      ]
     },
     "metadata": {},
     "output_type": "display_data"
    },
    {
     "data": {
      "text/html": [
       "<div style='width: 100%; background-color:#d5d9e0;padding-left: 10px; padding-bottom: 10px; padding-right: 10px; padding-top: 5px'><h3>This code is a part of Qiskit</h3><p>&copy; Copyright IBM 2017, 2022.</p><p>This code is licensed under the Apache License, Version 2.0. You may<br>obtain a copy of this license in the LICENSE.txt file in the root directory<br> of this source tree or at http://www.apache.org/licenses/LICENSE-2.0.<p>Any modifications or derivative works of this code must retain this<br>copyright notice, and modified files need to carry a notice indicating<br>that they have been altered from the originals.</p></div>"
      ],
      "text/plain": [
       "<IPython.core.display.HTML object>"
      ]
     },
     "metadata": {},
     "output_type": "display_data"
    }
   ],
   "source": [
    "import qiskit.tools.jupyter\n",
    "%qiskit_version_table\n",
    "%qiskit_copyright"
   ]
  },
  {
   "cell_type": "markdown",
   "metadata": {},
   "source": [
    "# <hr>\n",
    "Copyright © 2021 IBM. This notebook and its source code are released under the terms of the MIT License."
   ]
  }
 ],
 "metadata": {
  "kernelspec": {
   "display_name": "Python 3.8",
   "language": "python",
   "name": "python3"
  },
  "language_info": {
   "codemirror_mode": {
    "name": "ipython",
    "version": 3
   },
   "file_extension": ".py",
   "mimetype": "text/x-python",
   "name": "python",
   "nbconvert_exporter": "python",
   "pygments_lexer": "ipython3",
   "version": "3.8.12"
  }
 },
 "nbformat": 4,
 "nbformat_minor": 2
}
