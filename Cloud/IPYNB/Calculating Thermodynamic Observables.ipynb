{
 "cells": [
  {
   "cell_type": "markdown",
   "metadata": {},
   "source": [
    "# Calculating Thermodynamics Observables With A Quantum Computer"
   ]
  },
  {
   "cell_type": "markdown",
   "metadata": {},
   "source": [
    "## Introduction\n",
    "Qiskit Nature is an open-source framework that supports problems including ground state energy computations, excited states and dipole moments of molecule, both open and closed-shell.\n",
    "\n",
    "### Install the dependencies\n",
    "We encourage installing Qiskit and Qiskit Nature via the pip tool (a python package manager).\n",
    "\n",
    "pip will handle all dependencies automatically and you will always install the latest (and well-tested) version.\n",
    "\n",
    "If you want to work on the very latest work-in-progress versions, learn more about Qiskit, or if you want to contribute to Qiskit Nature visit `qiskit.org` for more information."
   ]
  },
  {
   "cell_type": "code",
   "execution_count": 1,
   "metadata": {},
   "outputs": [
    {
     "name": "stdout",
     "output_type": "stream",
     "text": [
      "/opt/conda/envs/Python-3.7-OpenCE/lib/python3.7/site-packages/secretstorage/dhcrypto.py:16: CryptographyDeprecationWarning: int_from_bytes is deprecated, use int.from_bytes instead\n",
      "  from cryptography.utils import int_from_bytes\n",
      "/opt/conda/envs/Python-3.7-OpenCE/lib/python3.7/site-packages/secretstorage/util.py:25: CryptographyDeprecationWarning: int_from_bytes is deprecated, use int.from_bytes instead\n",
      "  from cryptography.utils import int_from_bytes\n",
      "Note: you may need to restart the kernel to use updated packages.\n"
     ]
    }
   ],
   "source": [
    "pip install -q qiskit"
   ]
  },
  {
   "cell_type": "code",
   "execution_count": 2,
   "metadata": {},
   "outputs": [
    {
     "name": "stdout",
     "output_type": "stream",
     "text": [
      "/opt/conda/envs/Python-3.7-OpenCE/lib/python3.7/site-packages/secretstorage/dhcrypto.py:16: CryptographyDeprecationWarning: int_from_bytes is deprecated, use int.from_bytes instead\r\n",
      "  from cryptography.utils import int_from_bytes\r\n",
      "/opt/conda/envs/Python-3.7-OpenCE/lib/python3.7/site-packages/secretstorage/util.py:25: CryptographyDeprecationWarning: int_from_bytes is deprecated, use int.from_bytes instead\r\n",
      "  from cryptography.utils import int_from_bytes\r\n"
     ]
    }
   ],
   "source": [
    "!pip install -q qiskit-nature"
   ]
  },
  {
   "cell_type": "code",
   "execution_count": 3,
   "metadata": {},
   "outputs": [
    {
     "name": "stdout",
     "output_type": "stream",
     "text": [
      "mkdir: cannot create directory ‘thermodynamics_utils’: File exists\r\n"
     ]
    }
   ],
   "source": [
    "!mkdir thermodynamics_utils"
   ]
  },
  {
   "cell_type": "code",
   "execution_count": 4,
   "metadata": {},
   "outputs": [
    {
     "name": "stdout",
     "output_type": "stream",
     "text": [
      "--2021-08-04 04:09:45--  https://raw.githubusercontent.com/Qiskit/qiskit-nature/main/docs/tutorials/thermodynamics_utils/partition_function.py\n",
      "Resolving raw.githubusercontent.com (raw.githubusercontent.com)... 185.199.109.133, 185.199.111.133, 185.199.108.133, ...\n",
      "Connecting to raw.githubusercontent.com (raw.githubusercontent.com)|185.199.109.133|:443... connected.\n",
      "HTTP request sent, awaiting response... 200 OK\n",
      "Length: 25443 (25K) [text/plain]\n",
      "Saving to: ‘./thermodynamics_utils/partition_function.py.1’\n",
      "\n",
      "partition_function. 100%[===================>]  24.85K  --.-KB/s    in 0s      \n",
      "\n",
      "2021-08-04 04:09:45 (51.2 MB/s) - ‘./thermodynamics_utils/partition_function.py.1’ saved [25443/25443]\n",
      "\n"
     ]
    }
   ],
   "source": [
    "!wget https://raw.githubusercontent.com/Qiskit/qiskit-nature/main/docs/tutorials/thermodynamics_utils/partition_function.py -P ./thermodynamics_utils"
   ]
  },
  {
   "cell_type": "code",
   "execution_count": 5,
   "metadata": {},
   "outputs": [
    {
     "name": "stdout",
     "output_type": "stream",
     "text": [
      "--2021-08-04 04:09:46--  https://raw.githubusercontent.com/Qiskit/qiskit-nature/main/docs/tutorials/thermodynamics_utils/thermodynamics.py\n",
      "Resolving raw.githubusercontent.com (raw.githubusercontent.com)... 185.199.110.133, 185.199.111.133, 185.199.108.133, ...\n",
      "Connecting to raw.githubusercontent.com (raw.githubusercontent.com)|185.199.110.133|:443... connected.\n",
      "HTTP request sent, awaiting response... 200 OK\n",
      "Length: 11856 (12K) [text/plain]\n",
      "Saving to: ‘./thermodynamics_utils/thermodynamics.py.1’\n",
      "\n",
      "thermodynamics.py.1 100%[===================>]  11.58K  --.-KB/s    in 0s      \n",
      "\n",
      "2021-08-04 04:09:46 (44.2 MB/s) - ‘./thermodynamics_utils/thermodynamics.py.1’ saved [11856/11856]\n",
      "\n"
     ]
    }
   ],
   "source": [
    "!wget https://raw.githubusercontent.com/Qiskit/qiskit-nature/main/docs/tutorials/thermodynamics_utils/thermodynamics.py -P ./thermodynamics_utils"
   ]
  },
  {
   "cell_type": "code",
   "execution_count": 6,
   "metadata": {},
   "outputs": [
    {
     "name": "stdout",
     "output_type": "stream",
     "text": [
      "--2021-08-04 04:09:47--  https://raw.githubusercontent.com/Qiskit/qiskit-nature/main/docs/tutorials/thermodynamics_utils/vibrational_structure_fd.py\n",
      "Resolving raw.githubusercontent.com (raw.githubusercontent.com)... 185.199.109.133, 185.199.111.133, 185.199.108.133, ...\n",
      "Connecting to raw.githubusercontent.com (raw.githubusercontent.com)|185.199.109.133|:443... connected.\n",
      "HTTP request sent, awaiting response... 200 OK\n",
      "Length: 5126 (5.0K) [text/plain]\n",
      "Saving to: ‘./thermodynamics_utils/vibrational_structure_fd.py.1’\n",
      "\n",
      "vibrational_structu 100%[===================>]   5.01K  --.-KB/s    in 0s      \n",
      "\n",
      "2021-08-04 04:09:48 (25.6 MB/s) - ‘./thermodynamics_utils/vibrational_structure_fd.py.1’ saved [5126/5126]\n",
      "\n"
     ]
    }
   ],
   "source": [
    "!wget https://raw.githubusercontent.com/Qiskit/qiskit-nature/main/docs/tutorials/thermodynamics_utils/vibrational_structure_fd.py -P ./thermodynamics_utils"
   ]
  },
  {
   "cell_type": "code",
   "execution_count": 7,
   "metadata": {},
   "outputs": [
    {
     "name": "stdout",
     "output_type": "stream",
     "text": [
      "partition_function.py\t thermodynamics.py.1\r\n",
      "partition_function.py.1  vibrational_structure_fd.py\r\n",
      "__pycache__\t\t vibrational_structure_fd.py.1\r\n",
      "thermodynamics.py\r\n"
     ]
    }
   ],
   "source": [
    "!ls thermodynamics_utils"
   ]
  },
  {
   "cell_type": "code",
   "execution_count": 8,
   "metadata": {},
   "outputs": [
    {
     "name": "stdout",
     "output_type": "stream",
     "text": [
      "/opt/conda/envs/Python-3.7-OpenCE/lib/python3.7/site-packages/secretstorage/dhcrypto.py:16: CryptographyDeprecationWarning: int_from_bytes is deprecated, use int.from_bytes instead\r\n",
      "  from cryptography.utils import int_from_bytes\r\n",
      "/opt/conda/envs/Python-3.7-OpenCE/lib/python3.7/site-packages/secretstorage/util.py:25: CryptographyDeprecationWarning: int_from_bytes is deprecated, use int.from_bytes instead\r\n",
      "  from cryptography.utils import int_from_bytes\r\n"
     ]
    }
   ],
   "source": [
    "!pip install -q pyscf"
   ]
  },
  {
   "cell_type": "code",
   "execution_count": 9,
   "metadata": {},
   "outputs": [],
   "source": [
    "# imports\n",
    "import numpy as np\n",
    "import pandas as pd\n",
    "import matplotlib.pyplot as plt\n",
    "import pyscf.lib.parameters as param\n",
    "\n",
    "from functools import partial\n",
    "\n",
    "from qiskit.utils import QuantumInstance\n",
    "from qiskit import Aer\n",
    "from qiskit.algorithms import NumPyMinimumEigensolver, VQE\n",
    "\n",
    "from qiskit_nature.drivers import PySCFDriver, UnitsType, Molecule\n",
    "from qiskit_nature.problems.second_quantization import ElectronicStructureProblem\n",
    "from qiskit_nature.converters.second_quantization import QubitConverter\n",
    "from qiskit_nature.mappers.second_quantization import JordanWignerMapper\n",
    "from qiskit_nature.algorithms import GroundStateEigensolver \n",
    "import qiskit_nature.constants as const\n",
    "from qiskit_nature.algorithms.pes_samplers import BOPESSampler, EnergySurface1DSpline\n",
    "from thermodynamics_utils.thermodynamics import constant_volume_heat_capacity\n",
    "from thermodynamics_utils.vibrational_structure_fd import VibrationalStructure1DFD\n",
    "from thermodynamics_utils.partition_function import DiatomicPartitionFunction\n",
    "from thermodynamics_utils.thermodynamics import Thermodynamics\n",
    "\n",
    "\n",
    "\n",
    "import warnings\n",
    "warnings.simplefilter('ignore', np.RankWarning)"
   ]
  },
  {
   "cell_type": "markdown",
   "metadata": {},
   "source": [
    "### [Optional] Setup token to run the experiment on a real device\n",
    "\n",
    "If you would like to run the experiment on a real device, you need to setup your account first. Visit `quantum-computing.ibm.com` to create an account and get an API Token.\n",
    "\n",
    "Note: If you do not store your token yet, use IBMQ.save_account('MY_API_TOKEN') in the above cell to store it."
   ]
  },
  {
   "cell_type": "markdown",
   "metadata": {},
   "source": [
    "A preliminary draft with more information related to this tutorial can be found in preprint: Stober et al, arXiv 2003.02303 (2020)"
   ]
  },
  {
   "cell_type": "markdown",
   "metadata": {},
   "source": [
    "### Calculation of the Born Oppenheimer Potential Energy Surface (BOPES) "
   ]
  },
  {
   "cell_type": "markdown",
   "metadata": {},
   "source": [
    "To compute thermodynamic observables we begin with single point energy calculation which calculates the wavefunction and charge density and therefore  the energy of a particular arrangement of nuclei. Here we  compute the Born-Oppenheimer potential energy surface of a hydrogen molecule, as an example, which is simply the electronic energy as a function of bond length. "
   ]
  },
  {
   "cell_type": "code",
   "execution_count": 10,
   "metadata": {},
   "outputs": [],
   "source": [
    "qubit_converter = QubitConverter(mapper = JordanWignerMapper())\n",
    "quantum_instance = QuantumInstance(backend=Aer.get_backend('statevector_simulator'))\n",
    "solver = VQE(quantum_instance=quantum_instance)\n",
    "\n",
    "me_gss = GroundStateEigensolver(qubit_converter, solver)"
   ]
  },
  {
   "cell_type": "code",
   "execution_count": 11,
   "metadata": {},
   "outputs": [
    {
     "name": "stdout",
     "output_type": "stream",
     "text": [
      "/opt/conda/envs/Python-3.7-OpenCE/lib/python3.7/site-packages/secretstorage/dhcrypto.py:16: CryptographyDeprecationWarning: int_from_bytes is deprecated, use int.from_bytes instead\n",
      "  from cryptography.utils import int_from_bytes\n",
      "/opt/conda/envs/Python-3.7-OpenCE/lib/python3.7/site-packages/secretstorage/util.py:25: CryptographyDeprecationWarning: int_from_bytes is deprecated, use int.from_bytes instead\n",
      "  from cryptography.utils import int_from_bytes\n",
      "Collecting pyscf==1.7.6\n",
      "  Downloading pyscf-1.7.6-cp37-cp37m-manylinux1_x86_64.whl (29.7 MB)\n",
      "\u001b[K     |████████████████████████████████| 29.7 MB 11.0 MB/s eta 0:00:01\n",
      "\u001b[?25hRequirement already satisfied: numpy!=1.16,!=1.17,>1.8 in /opt/conda/envs/Python-3.7-OpenCE/lib/python3.7/site-packages (from pyscf==1.7.6) (1.19.2)\n",
      "Requirement already satisfied: scipy!=1.5.0,!=1.5.1 in /opt/conda/envs/Python-3.7-OpenCE/lib/python3.7/site-packages (from pyscf==1.7.6) (1.4.1)\n",
      "Requirement already satisfied: h5py>2.2 in /opt/conda/envs/Python-3.7-OpenCE/lib/python3.7/site-packages (from pyscf==1.7.6) (2.10.0)\n",
      "Requirement already satisfied: six in /opt/conda/envs/Python-3.7-OpenCE/lib/python3.7/site-packages (from h5py>2.2->pyscf==1.7.6) (1.15.0)\n",
      "Installing collected packages: pyscf\n",
      "  Attempting uninstall: pyscf\n",
      "    Found existing installation: pyscf 1.7.6.post1\n",
      "    Uninstalling pyscf-1.7.6.post1:\n",
      "      Successfully uninstalled pyscf-1.7.6.post1\n",
      "Successfully installed pyscf-1.7.6\n"
     ]
    }
   ],
   "source": [
    "!pip install pyscf==1.7.6"
   ]
  },
  {
   "cell_type": "code",
   "execution_count": 12,
   "metadata": {},
   "outputs": [],
   "source": [
    "stretch1 = partial(Molecule.absolute_distance, atom_pair=(1, 0))\n",
    "mol = Molecule(geometry=[('H', [0., 0., 0.]),\n",
    "                        ('H', [0., 0., 0.2])],\n",
    "                       degrees_of_freedom=[stretch1],\n",
    "                       masses=[1.6735328E-27, 1.6735328E-27]\n",
    "                       )\n",
    "\n",
    "\n",
    "# pass molecule to PSYCF driver\n",
    "driver = PySCFDriver(molecule=mol)\n",
    "\n",
    "es_problem = ElectronicStructureProblem(driver)"
   ]
  },
  {
   "cell_type": "code",
   "execution_count": 13,
   "metadata": {},
   "outputs": [
    {
     "name": "stderr",
     "output_type": "stream",
     "text": [
      "/opt/conda/envs/Python-3.7-OpenCE/lib/python3.7/site-packages/qiskit_nature/algorithms/pes_samplers/bopes_sampler.py:192: DeprecationWarning: \n",
      "The VQE.optimal_params property is deprecated as of Qiskit Terra 0.18.0\n",
      "and will be removed no sooner than 3 months after the releasedate.\n",
      "This information is part of the returned result object and can be\n",
      "queried as VQEResult.optimal_point.\n",
      "  optimal_params = self._gss.solver.optimal_params  # type: ignore\n"
     ]
    }
   ],
   "source": [
    "# BOPES sampler testing\n",
    "bs = BOPESSampler(gss=me_gss, \n",
    "                  bootstrap=True)\n",
    "points = np.linspace(0.45, 5, 50)\n",
    "res = bs.sample(es_problem,points)"
   ]
  },
  {
   "cell_type": "code",
   "execution_count": 14,
   "metadata": {},
   "outputs": [],
   "source": [
    "energies = []\n",
    "bs_res_full = res.raw_results\n",
    "for point in points:\n",
    "    energy = bs_res_full[point].computed_energies + bs_res_full[point].nuclear_repulsion_energy\n",
    "    energies.append(energy)"
   ]
  },
  {
   "cell_type": "code",
   "execution_count": 15,
   "metadata": {
    "scrolled": true
   },
   "outputs": [
    {
     "data": {
      "text/plain": [
       "Text(0, 0.5, 'Energy')"
      ]
     },
     "execution_count": 15,
     "metadata": {},
     "output_type": "execute_result"
    },
    {
     "data": {
      "image/png": "[encoded data removed]",
      "text/plain": [
       "<Figure size 432x288 with 1 Axes>"
      ]
     },
     "metadata": {
      "needs_background": "light"
     },
     "output_type": "display_data"
    }
   ],
   "source": [
    "fig = plt.figure()\n",
    "plt.plot(points,energies)\n",
    "plt.title('Dissociation profile')\n",
    "plt.xlabel('Interatomic distance')\n",
    "plt.ylabel('Energy')"
   ]
  },
  {
   "cell_type": "code",
   "execution_count": 16,
   "metadata": {},
   "outputs": [],
   "source": [
    "energy_surface = EnergySurface1DSpline()\n",
    "\n",
    "xdata = res.points\n",
    "ydata = res.energies\n",
    "energy_surface.fit(xdata=xdata, ydata=ydata)"
   ]
  },
  {
   "cell_type": "code",
   "execution_count": 17,
   "metadata": {},
   "outputs": [
    {
     "data": {
      "text/plain": [
       "(-1.169062757474918, -0.5472033206870991)"
      ]
     },
     "execution_count": 17,
     "metadata": {},
     "output_type": "execute_result"
    },
    {
     "data": {
      "image/png": "[encoded data removed]",
      "text/plain": [
       "<Figure size 432x288 with 1 Axes>"
      ]
     },
     "metadata": {
      "needs_background": "light"
     },
     "output_type": "display_data"
    }
   ],
   "source": [
    "plt.plot(xdata, ydata, 'kx')\n",
    "x = np.arange(min(xdata) - 0.25, max(xdata) + 0.25, 0.05)\n",
    "plt.plot(x, energy_surface.eval(x), 'r-')\n",
    "plt.xlabel(r'distance, $\\AA$')\n",
    "plt.ylabel('energy, Hartree')\n",
    "dist = max(ydata) - min(ydata)\n",
    "plt.ylim(min(ydata) - 0.1 * dist, max(ydata) + 0.1 * dist)"
   ]
  },
  {
   "cell_type": "markdown",
   "metadata": {},
   "source": [
    "### Calculation of the molecular Vibrational Energy levels"
   ]
  },
  {
   "cell_type": "markdown",
   "metadata": {},
   "source": [
    "The Born-Oppeheimer approximation removes internuclear vibrations from the molecular Hamiltonian and the energy computed from quantum mechanical ground-state energy calculations using this approximation contain only the electronic energy. Since even at absolute zero internuclear vibrations still occur, a correction is required to obtain the true zero-temperature energy of a molecule. This correction is called the zero-point vibrational energy (ZPE), which is computed by summing the contribution from internuclear vibrational modes. Therefore, the next step in computing thermodynamic observables is determining the vibrational energy levels. This can be done by constructing the Hessian matrix based on computed single point energies close to the equilibrium bond length. The eigenvalues of the Hessian matrix can then be used to determine the vibrational energy levels and the zero-point vibrational energy \t\n",
    "\\begin{equation}\n",
    "{\\rm ZPE} = \\frac{1}{2}\\, \\sum_i ^M \\nu_i \\, ,\n",
    "\\end{equation}\n",
    "with $\\nu_i$ being the vibrational frequencies, $M = 3N − 6$ or $M = 3N − 5$ for non-linear or linear molecules, respectively, and $N$ is number of the particles.  "
   ]
  },
  {
   "cell_type": "markdown",
   "metadata": {},
   "source": [
    "Here we fit a \"full\" energy surface using a 1D spline potential and use it to evaluate molecular vibrational energy levels.\n"
   ]
  },
  {
   "cell_type": "code",
   "execution_count": 18,
   "metadata": {},
   "outputs": [
    {
     "data": {
      "image/png": "[encoded data removed]",
      "text/plain": [
       "<Figure size 432x288 with 1 Axes>"
      ]
     },
     "metadata": {
      "needs_background": "light"
     },
     "output_type": "display_data"
    }
   ],
   "source": [
    "vibrational_structure = VibrationalStructure1DFD(mol, energy_surface)\n",
    "\n",
    "plt.plot(xdata, ydata, 'kx')\n",
    "x = np.arange(min(xdata) - 0.25, max(xdata) + 0.25, 0.05)\n",
    "plt.plot(x, energy_surface.eval(x), 'r-')\n",
    "plt.xlabel(r'distance, $\\AA$')\n",
    "plt.ylabel('energy, Hartree')\n",
    "dist = max(ydata) - min(ydata)\n",
    "plt.ylim(min(ydata) - 0.1 * dist, max(ydata) + 0.1 * dist)\n",
    "for N in range(15):\n",
    "    on = np.ones(x.shape)\n",
    "    on *= (energy_surface.eval(energy_surface.get_equilibrium_geometry()) +\n",
    "           vibrational_structure.vibrational_energy_level(N))\n",
    "    plt.plot(x, on, 'g:')\n",
    "on = np.ones(x.shape)\n",
    "\n",
    "plt.show()\n"
   ]
  },
  {
   "cell_type": "markdown",
   "metadata": {},
   "source": [
    "### Create a partition function for the calculation of heat capacity\n"
   ]
  },
  {
   "cell_type": "markdown",
   "metadata": {},
   "source": [
    "The partition function for a molecule is the product of contributions from translational, rotational, vibrational, electronic, and nuclear degrees of freedom. Having the vibrational frequencies, now we can obtain the vibrational partition function  $q_{\\rm vibration}$ to compute the whole molecular partition function \n",
    "\\begin{equation}\n",
    "q_{\\rm vibration} = \\prod_{i=1} ^M \\frac{\\exp\\,(-\\Theta_{\\nu_i}/2T)}{1-\\exp\\,(-\\Theta_{\\nu_i}/2T} \\, . \n",
    "\\end{equation} \n",
    "Here $\\Theta_{\\nu_i}= h\\nu_i/k_B$, $T$ is the temperature and $k_B$ is the Boltzmann constant.  \n",
    "\n",
    "The single-point energy calculations and the resulting partition function can be used to calculate the (constant volume or constant pressure) heat capacity of the molecules. The constant volume heat capacity, for example, is given by \n",
    "\n",
    "\\begin{equation}\n",
    "C_v = \\left.\\frac{\\partial U}{\\partial T}\\right|_{N,V}\\, ,\n",
    "\\qquad\n",
    "{\\rm with} \\quad\n",
    "U=k_B T^2 \\left.\\frac{\\partial {\\rm ln} Q}{\\partial T}\\right|_{N,V} .\n",
    "\\end{equation}\n",
    "\n",
    "$U$ is the internal energy, $V$ is the volume and $Q$ is the partition function. \n",
    "\n"
   ]
  },
  {
   "cell_type": "markdown",
   "metadata": {},
   "source": [
    "Here we illustrate the simplest usage of the partition function, namely creating a Thermodynamics object to compute properties like the constant pressure heat capacity defined above. "
   ]
  },
  {
   "cell_type": "code",
   "execution_count": 19,
   "metadata": {},
   "outputs": [
    {
     "data": {
      "image/png": "[encoded data removed]",
      "text/plain": [
       "<Figure size 432x288 with 1 Axes>"
      ]
     },
     "metadata": {
      "needs_background": "light"
     },
     "output_type": "display_data"
    }
   ],
   "source": [
    "Q = DiatomicPartitionFunction(mol, energy_surface, vibrational_structure)\n",
    "\n",
    "P = 101350  # Pa\n",
    "temps = np.arange(10, 1050, 5)  # K\n",
    "\n",
    "mol.spins = [1/2,1/2]\n",
    "\n",
    "td = Thermodynamics(Q, pressure = 101350)\n",
    "td.set_pressure(101350)\n",
    "temps = np.arange(10, 1500, 5)\n",
    "ymin = 5\n",
    "ymax = 11\n",
    "\n",
    "plt.plot(temps,\n",
    "         td.constant_pressure_heat_capacity(temps) / const.CAL_TO_J)\n",
    "plt.xlim(0, 1025)\n",
    "plt.ylim(ymin, ymax)\n",
    "plt.xlabel('Temperature, K')\n",
    "plt.ylabel('Cp, cal mol$^{-1}$ K$^{-1}$')\n",
    "\n",
    "plt.show()"
   ]
  },
  {
   "cell_type": "markdown",
   "metadata": {},
   "source": [
    "Here we demonstrate how to access particular components (the rotational part) of the partition function, which in the H2 case we can further split to para-hydrogen and ortho-hydrogen   components."
   ]
  },
  {
   "cell_type": "code",
   "execution_count": 20,
   "metadata": {},
   "outputs": [],
   "source": [
    "eq = Q.get_partition(part=\"rot\", split=\"eq\")\n",
    "para = Q.get_partition(part=\"rot\", split=\"para\")\n",
    "ortho = Q.get_partition(part=\"rot\", split=\"ortho\")"
   ]
  },
  {
   "cell_type": "markdown",
   "metadata": {},
   "source": [
    "We will now plot the constant volume heat capacity (of the rotational part) demonstrating how we can call directly the functions in the 'thermodynamics' module, providing a callable object for the partition function (or in this case its rotational component). Note that in the plot we normalize the plot dividing by the universal gas constant R (Avogadro's number times Boltzman's constant) and we use crossed to compare with experimental data found in literature."
   ]
  },
  {
   "cell_type": "code",
   "execution_count": 21,
   "metadata": {},
   "outputs": [],
   "source": [
    "# REFERENCE DATA from literature\n",
    "df_brink_T = [80.913535,135.240157,176.633783,219.808499,246.226899]\n",
    "df_brink_Cv = [0.118605,0.469925,0.711510,0.833597,0.895701]\n",
    "\n",
    "df_eucken_T = [25.120525, 30.162485, 36.048121, 41.920364, 56.195875, 62.484934, 72.148692, 73.805910, 73.804236, 92.214423,180.031917,230.300866]\n",
    "df_eucken_Cv  = [0.012287,0.012354,0.008448,0.020478,0.032620,0.048640,0.048768,0.076678,0.078670,0.170548,0.667731,0.847681]\n",
    "\n",
    "df_gia_T = [190.919338,195.951254,202.652107,204.292585,209.322828,225.300754,234.514217,243.747768]\n",
    "df_gia_Cv = [0.711700,0.723719,0.749704,0.797535,0.811546,0.797814,0.833793,0.845868]\n",
    "\n",
    "df_parting_T = [80.101665, 86.358919,185.914204,239.927797]\n",
    "df_parting_Cv = [0.084730,0.138598,0.667809,0.891634]\n",
    "\n",
    "df_ce_T = [80.669344,135.550569,145.464190,165.301153,182.144856,203.372528,237.993108,268.696642,294.095771,308.872014]\n",
    "df_ce_Cv = [0.103048,0.467344,0.541364,0.647315,0.714078,0.798258,0.891147,0.944848,0.966618,0.985486]"
   ]
  },
  {
   "cell_type": "code",
   "execution_count": 22,
   "metadata": {},
   "outputs": [
    {
     "data": {
      "image/png": "[encoded data removed]",
      "text/plain": [
       "<Figure size 432x288 with 1 Axes>"
      ]
     },
     "metadata": {
      "needs_background": "light"
     },
     "output_type": "display_data"
    }
   ],
   "source": [
    "HeatCapacity = constant_volume_heat_capacity\n",
    "\n",
    "R = const.N_A * const.KB_J_PER_K\n",
    "plt.plot(temps,\n",
    "         HeatCapacity(eq, temps) / R, '-k',\n",
    "         label='Cv_rot Equilibrium')\n",
    "plt.plot(temps, HeatCapacity(para, temps) / R, '-b',\n",
    "         label='Cv_rot Para')\n",
    "plt.plot(temps, HeatCapacity(ortho, temps) / R, '-r',\n",
    "         label='Cv_rot Ortho')\n",
    "plt.plot(temps, 0.25 * HeatCapacity(para, temps) / R\n",
    "         + 0.75 * HeatCapacity(ortho, temps) / R, '-g',\n",
    "         label='Cv_rot 1:3 para:ortho')\n",
    "plt.plot(df_brink_T, df_brink_Cv, '+g')\n",
    "plt.plot(df_eucken_T, df_eucken_Cv, '+g')\n",
    "plt.plot(df_gia_T, df_gia_Cv, '+g')\n",
    "plt.plot(df_parting_T, df_parting_Cv, '+g')\n",
    "plt.plot(df_ce_T, df_ce_Cv, '+g', label = 'experimental data')\n",
    "plt.legend(loc='upper right', frameon=False)\n",
    "plt.xlim(10, 400)\n",
    "plt.ylim(-0.1, 2.8)\n",
    "plt.xlabel('Temperature, K')\n",
    "plt.ylabel('Cv (rotational)/R')\n",
    "plt.tight_layout()\n",
    "plt.show()\n"
   ]
  },
  {
   "cell_type": "code",
   "execution_count": 24,
   "metadata": {},
   "outputs": [],
   "source": [
    "warnings.simplefilter('ignore', np.RankWarning)"
   ]
  },
  {
   "cell_type": "code",
   "execution_count": 25,
   "metadata": {},
   "outputs": [
    {
     "data": {
      "text/html": [
       "<h3>Version Information</h3><table><tr><th>Qiskit Software</th><th>Version</th></tr><tr><td><code>qiskit-terra</code></td><td>0.18.1</td></tr><tr><td><code>qiskit-aer</code></td><td>0.8.2</td></tr><tr><td><code>qiskit-ignis</code></td><td>0.6.0</td></tr><tr><td><code>qiskit-ibmq-provider</code></td><td>0.16.0</td></tr><tr><td><code>qiskit-aqua</code></td><td>0.9.4</td></tr><tr><td><code>qiskit</code></td><td>0.29.0</td></tr><tr><td><code>qiskit-nature</code></td><td>0.1.5</td></tr><tr><th>System information</th></tr><tr><td>Python</td><td>3.7.10 (default, Jun  4 2021, 14:48:32) \n",
       "[GCC 7.5.0]</td></tr><tr><td>OS</td><td>Linux</td></tr><tr><td>CPUs</td><td>56</td></tr><tr><td>Memory (Gb)</td><td>238.10720443725586</td></tr><tr><td colspan='2'>Wed Aug 04 04:37:25 2021 UTC</td></tr></table>"
      ],
      "text/plain": [
       "<IPython.core.display.HTML object>"
      ]
     },
     "metadata": {},
     "output_type": "display_data"
    },
    {
     "data": {
      "text/html": [
       "<div style='width: 100%; background-color:#d5d9e0;padding-left: 10px; padding-bottom: 10px; padding-right: 10px; padding-top: 5px'><h3>This code is a part of Qiskit</h3><p>&copy; Copyright IBM 2017, 2021.</p><p>This code is licensed under the Apache License, Version 2.0. You may<br>obtain a copy of this license in the LICENSE.txt file in the root directory<br> of this source tree or at http://www.apache.org/licenses/LICENSE-2.0.<p>Any modifications or derivative works of this code must retain this<br>copyright notice, and modified files need to carry a notice indicating<br>that they have been altered from the originals.</p></div>"
      ],
      "text/plain": [
       "<IPython.core.display.HTML object>"
      ]
     },
     "metadata": {},
     "output_type": "display_data"
    }
   ],
   "source": [
    "import qiskit.tools.jupyter\n",
    "%qiskit_version_table\n",
    "%qiskit_copyright"
   ]
  },
  {
   "cell_type": "code",
   "execution_count": null,
   "metadata": {},
   "outputs": [],
   "source": []
  }
 ],
 "metadata": {
  "kernelspec": {
   "display_name": "Python 3.7",
   "language": "python",
   "name": "python3"
  },
  "language_info": {
   "codemirror_mode": {
    "name": "ipython",
    "version": 3
   },
   "file_extension": ".py",
   "mimetype": "text/x-python",
   "name": "python",
   "nbconvert_exporter": "python",
   "pygments_lexer": "ipython3",
   "version": "3.7.10"
  }
 },
 "nbformat": 4,
 "nbformat_minor": 4
}
