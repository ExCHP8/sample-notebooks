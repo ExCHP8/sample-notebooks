{
 "cells": [
  {
   "cell_type": "markdown",
   "metadata": {
    "render": true
   },
   "source": [
    "# Using the Progress Callbacks with CPLEX Optimizer\n",
    "\n",
    "This tutorial includes everything you need to set up decision optimization engines, build a mathematical programming model, then use the progress callbacks to follow the progress, capture the intermediate solutions and stop the solve on your own criteria.\n",
    "\n",
    "Table of contents:\n",
    "\n",
    "-  [Describe the business problem](#Describe-the-business-problem:--Games-Scheduling-in-the-National-Football-League)\n",
    "*  [How decision optimization (prescriptive analytics) can help](#How--decision-optimization-can-help)\n",
    "*  [Use decision optimization](#Use-decision-optimization)\n",
    "    *  [Step 1: Set up the prescriptive model](#Step-1:-Set-up-the-prescriptive-model)\n",
    "    *  [Step 2: Track the CPLEX progress](#Step-2:-Track-the-CPLEX-progress)\n",
    "*  [Summary](#Summary)\n",
    "****"
   ]
  },
  {
   "cell_type": "markdown",
   "metadata": {
    "render": true
   },
   "source": [
    "## How  decision optimization can help\n",
    "\n",
    "* Prescriptive analytics (decision optimization) technology recommends actions that are based on desired outcomes.  It takes into account specific scenarios, resources, and knowledge of past and current events. With this insight, your organization can make better decisions and have greater control of business outcomes.  \n",
    "\n",
    "* Prescriptive analytics is the next step on the path to insight-based actions. It creates value through synergy with predictive analytics, which analyzes data to predict future outcomes.  \n",
    "\n",
    "* Prescriptive analytics takes that insight to the next level by suggesting the optimal way to handle that future situation. Organizations that can act fast in dynamic conditions and make superior decisions in uncertain environments gain a strong competitive advantage.  \n",
    "<br/>\n",
    "\n",
    "<u>With prescriptive analytics, you can:</u> \n",
    "\n",
    "* Automate the complex decisions and trade-offs to better manage your limited resources.\n",
    "* Take advantage of a future opportunity or mitigate a future risk.\n",
    "* Proactively update recommendations based on changing events.\n",
    "* Meet operational goals, increase customer loyalty, prevent threats and fraud, and optimize business processes.\n",
    "\n"
   ]
  },
  {
   "cell_type": "markdown",
   "metadata": {},
   "source": [
    "## Use decision optimization"
   ]
  },
  {
   "cell_type": "markdown",
   "metadata": {
    "render": true
   },
   "source": [
    "### Step 1: Set up the prescriptive model"
   ]
  },
  {
   "cell_type": "markdown",
   "metadata": {},
   "source": [
    "First write a scalable model to show how to use the progress callback API.\n",
    "\n",
    "This model is not important: it is a model that can take a very long time to solve and will find multiple intermediate solutions"
   ]
  },
  {
   "cell_type": "code",
   "execution_count": 1,
   "metadata": {},
   "outputs": [],
   "source": [
    "from docplex.mp.model import Model\n",
    "\n",
    "def build_hearts(r, **kwargs):\n",
    "    # initialize the model\n",
    "    mdl = Model('love_hearts_%d' % r, **kwargs)\n",
    "\n",
    "    # the dictionary of decision variables, one variable\n",
    "    # for each circle with i in (1 .. r) as the row and\n",
    "    # j in (1 .. i) as the position within the row    \n",
    "    idx = [(i, j) for i in range(1, r + 1) for j in range(1, i + 1)]\n",
    "    a = mdl.binary_var_dict(idx, name=lambda idx_tuple: \"a_%d_%d\" % (idx_tuple[0], idx_tuple[1]))\n",
    "\n",
    "    # the constraints - enumerate all equilateral triangles\n",
    "    # and prevent any such triangles being formed by keeping\n",
    "    # the number of included circles at its vertexes below 3\n",
    "\n",
    "    # for each row except the last\n",
    "    for i in range(1, r):\n",
    "        # for each position in this row\n",
    "        for j in range(1, i + 1):\n",
    "            # for each triangle of side length (k) with its upper vertex at\n",
    "            # (i, j) and its sides parallel to those of the overall shape\n",
    "            for k in range(1, r - i + 1):\n",
    "                # the sets of 3 points at the same distances clockwise along the\n",
    "                # sides of these triangles form k equilateral triangles\n",
    "                for m in range(k):\n",
    "                    u, v, w = (i + m, j), (i + k, j + m), (i + k - m, j + k - m)\n",
    "                    mdl.add_constraint(a[u] + a[v] + a[w] <= 2)\n",
    "\n",
    "    mdl.maximize(mdl.sum(a))\n",
    "    return mdl"
   ]
  },
  {
   "cell_type": "markdown",
   "metadata": {},
   "source": [
    "It is a useful approach to demonstrate how to listen to CPLEX during its progress, as it contains multiple intermediate solutions."
   ]
  },
  {
   "cell_type": "markdown",
   "metadata": {},
   "source": [
    "### Step 2: Track the CPLEX progress"
   ]
  },
  {
   "cell_type": "markdown",
   "metadata": {},
   "source": [
    "#### Basic track of the search progress\n",
    "Use a <i>TextProgressListener</i> to follow the CPLEX search. It will print on the standard output each time an intermediate solution is found."
   ]
  },
  {
   "cell_type": "code",
   "execution_count": 2,
   "metadata": {},
   "outputs": [],
   "source": [
    "m5 = build_hearts(5)\n",
    "\n",
    "from docplex.mp.progress import TextProgressListener\n",
    "unfiltered_texter = TextProgressListener(filtering=False)\n",
    "m5.add_progress_listener(unfiltered_texter)"
   ]
  },
  {
   "cell_type": "markdown",
   "metadata": {
    "render": true
   },
   "source": [
    "#### Solve with Decision Optimization\n",
    "\n",
    "Depending on the size of the problem, the solve stage might fail and require the Commercial Edition of CPLEX engines, which is included in the premium environments in Watson Studio.\n",
    "\n",
    "You will get the best solution found after ***n*** seconds, because of a time limit parameter."
   ]
  },
  {
   "cell_type": "code",
   "execution_count": 3,
   "metadata": {},
   "outputs": [
    {
     "name": "stdout",
     "output_type": "stream",
     "text": [
      "  1+: Best Integer=8.0000, Best Bound=10.0000, gap=25.00%, nodes=0/1 [0.1s]\n",
      "  2+: Best Integer=8.0000, Best Bound=10.0000, gap=25.00%, nodes=0/1 [0.2s]\n",
      "  3+: Best Integer=8.0000, Best Bound=9.3266, gap=16.58%, nodes=0/1 [0.2s]\n",
      "  4+: Best Integer=8.0000, Best Bound=9.0636, gap=13.29%, nodes=0/1 [0.2s]\n"
     ]
    },
    {
     "data": {
      "text/plain": [
       "docplex.mp.solution.SolveSolution(obj=8,values={a_1_1:1,a_2_1:1,a_3_1:1,.."
      ]
     },
     "execution_count": 3,
     "metadata": {},
     "output_type": "execute_result"
    }
   ],
   "source": [
    "m5.solve(clean_before_solve=True)"
   ]
  },
  {
   "cell_type": "markdown",
   "metadata": {},
   "source": [
    "Now remove the listener."
   ]
  },
  {
   "cell_type": "code",
   "execution_count": 4,
   "metadata": {},
   "outputs": [],
   "source": [
    "m5.remove_progress_listener(unfiltered_texter)"
   ]
  },
  {
   "cell_type": "markdown",
   "metadata": {},
   "source": [
    "#### Track and store all intermediate solutions"
   ]
  },
  {
   "cell_type": "markdown",
   "metadata": {},
   "source": [
    "You just need to subclass the <i>SolutionListener</i> object and specialize the <i>notify_*</i> methods if needed.\n",
    "Here you will store all solutions all along the way."
   ]
  },
  {
   "cell_type": "code",
   "execution_count": 5,
   "metadata": {},
   "outputs": [],
   "source": [
    "from docplex.mp.progress import SolutionListener\n",
    "class MyProgressListener(SolutionListener):\n",
    "    def __init__(self, model):\n",
    "        SolutionListener.__init__(self, model)\n",
    "        self.solutions = []\n",
    " \n",
    "    def notify_solution(self, s):\n",
    "        SolutionListener.notify_solution(self, s)\n",
    "        self.solutions.append(self.current_solution)\n",
    " \n",
    "    def get_solutions(self):\n",
    "        return self.solutions\n",
    "    \n",
    "keeper = MyProgressListener(m5)\n",
    "m5.add_progress_listener(keeper)"
   ]
  },
  {
   "cell_type": "code",
   "execution_count": 6,
   "metadata": {},
   "outputs": [
    {
     "data": {
      "text/plain": [
       "docplex.mp.solution.SolveSolution(obj=8,values={a_1_1:1,a_2_1:1,a_3_1:1,.."
      ]
     },
     "execution_count": 6,
     "metadata": {},
     "output_type": "execute_result"
    }
   ],
   "source": [
    "m5.solve(clean_before_solve=True)"
   ]
  },
  {
   "cell_type": "markdown",
   "metadata": {},
   "source": [
    "You have stored <i>docplex.mp.solution.SolveSolution</i> objects.\n",
    "You can iterate on them to query the objective values, the values of each variables..."
   ]
  },
  {
   "cell_type": "code",
   "execution_count": 7,
   "metadata": {},
   "outputs": [
    {
     "name": "stdout",
     "output_type": "stream",
     "text": [
      "8.0\n",
      "8.0\n",
      "8.0\n",
      "8.0\n"
     ]
    }
   ],
   "source": [
    "for s in keeper.get_solutions():\n",
    "     print(s.objective_value)"
   ]
  },
  {
   "cell_type": "markdown",
   "metadata": {},
   "source": [
    "#### Implement our own aborter\n",
    "You might want to abort the CPLEX solution according to your own criteria.\n",
    "For example, when the gap is converging very slowly, it might be a good idea to stop and use the last solution instead of waiting forever.\n",
    "\n",
    "You just need to subclass the <i>ProgressListener</i> and specialize the <i>notify_*</i> methods."
   ]
  },
  {
   "cell_type": "code",
   "execution_count": 8,
   "metadata": {},
   "outputs": [],
   "source": [
    "from docplex.mp.progress import ProgressListener\n",
    "class AutomaticAborter(ProgressListener):\n",
    "    def __init__(self, max_no_solutions=10):\n",
    "        self.last_incumbent_obj = -999999999\n",
    "        self.nb_solutions = 0\n",
    "        self.nb_non_improving = 0\n",
    "        self.max_non_improving = max_no_solutions\n",
    "\n",
    "    def notify_progress(self, progress_data):\n",
    "        super(AutomaticAborter, self).notify_progress(progress_data)\n",
    "        last_obj = self.last_incumbent_obj\n",
    "        if progress_data.has_incumbent:\n",
    "            if last_obj is None or progress_data.current_objective >= last_obj + 1e-5:\n",
    "                self.nb_solutions += 1\n",
    "                self.nb_non_improving = 0\n",
    "                print('----> #solutions={}'.format(self.nb_solutions))\n",
    "            else:\n",
    "\n",
    "                # non improving move\n",
    "                self.nb_non_improving += 1\n",
    "                print('----> #non improving solutions={}'.format(self.nb_non_improving))\n",
    "            self.last_incumbent_obj = progress_data.current_objective\n",
    "        else:\n",
    "            self.nb_non_improving += 1\n",
    "        if self.nb_non_improving >= self.max_non_improving:\n",
    "            if not self.has_aborted():\n",
    "                print('!! aborting cplex, #solutions={0}, #non-improving: {1}'.format(self.nb_solutions,\n",
    "                                                                                              self.nb_non_improving))\n",
    "            self.abort()"
   ]
  },
  {
   "cell_type": "markdown",
   "metadata": {},
   "source": [
    "Now build a bigger problem with more solutions."
   ]
  },
  {
   "cell_type": "code",
   "execution_count": 9,
   "metadata": {},
   "outputs": [],
   "source": [
    "love14 = build_hearts(11)"
   ]
  },
  {
   "cell_type": "code",
   "execution_count": 10,
   "metadata": {},
   "outputs": [
    {
     "name": "stdout",
     "output_type": "stream",
     "text": [
      "----> #solutions=1\n",
      "----> #non improving solutions=1\n",
      "----> #non improving solutions=2\n",
      "----> #non improving solutions=3\n",
      "----> #non improving solutions=4\n",
      "----> #non improving solutions=5\n",
      "----> #non improving solutions=6\n",
      "----> #non improving solutions=7\n",
      "----> #non improving solutions=8\n",
      "----> #non improving solutions=9\n",
      "----> #non improving solutions=10\n",
      "----> #non improving solutions=11\n",
      "----> #non improving solutions=12\n",
      "----> #non improving solutions=13\n",
      "----> #non improving solutions=14\n",
      "----> #non improving solutions=15\n",
      "----> #non improving solutions=16\n",
      "----> #non improving solutions=17\n",
      "----> #non improving solutions=18\n",
      "----> #non improving solutions=19\n",
      "----> #non improving solutions=20\n",
      "----> #non improving solutions=21\n",
      "----> #non improving solutions=22\n",
      "----> #non improving solutions=23\n",
      "----> #non improving solutions=24\n",
      "----> #non improving solutions=25\n",
      "----> #non improving solutions=26\n",
      "----> #non improving solutions=27\n",
      "----> #non improving solutions=28\n",
      "----> #non improving solutions=29\n",
      "----> #non improving solutions=30\n",
      "----> #non improving solutions=31\n",
      "----> #non improving solutions=32\n",
      "----> #non improving solutions=33\n",
      "----> #non improving solutions=34\n",
      "----> #non improving solutions=35\n",
      "----> #non improving solutions=36\n",
      "----> #non improving solutions=37\n",
      "----> #non improving solutions=38\n",
      "----> #non improving solutions=39\n",
      "----> #non improving solutions=40\n",
      "----> #non improving solutions=41\n",
      "----> #non improving solutions=42\n",
      "----> #non improving solutions=43\n",
      "----> #non improving solutions=44\n",
      "----> #non improving solutions=45\n",
      "----> #non improving solutions=46\n",
      "----> #non improving solutions=47\n",
      "----> #non improving solutions=48\n",
      "----> #non improving solutions=49\n",
      "----> #non improving solutions=50\n",
      "!! aborting cplex, #solutions=1, #non-improving: 50\n",
      "----> #non improving solutions=51\n"
     ]
    },
    {
     "data": {
      "text/plain": [
       "docplex.mp.solution.SolveSolution(obj=22,values={a_1_1:1,a_11_11:1,a_2_2.."
      ]
     },
     "execution_count": 10,
     "metadata": {},
     "output_type": "execute_result"
    }
   ],
   "source": [
    "auto_abort = AutomaticAborter(max_no_solutions=50)\n",
    "love14.add_progress_listener(auto_abort)\n",
    "\n",
    "love14.solve()"
   ]
  },
  {
   "cell_type": "markdown",
   "metadata": {},
   "source": [
    "## Summary\n",
    "\n",
    "\n",
    "You have learned how to set up and use the IBM Decision Optimization CPLEX Modeling for Python to formulate a Mathematical Programming model and track its progress."
   ]
  },
  {
   "cell_type": "markdown",
   "metadata": {
    "render": true
   },
   "source": [
    "#### References\n",
    "* <a href=\"https://rawgit.com/IBMDecisionOptimization/docplex-doc/master/docs/index.html\" target=\"_blank\" rel=\"noopener noreferrer\">Decision Optimization CPLEX Modeling for Python documentation</a>\n",
    "* <a href=\"https://dataplatform.cloud.ibm.com/docs/content/getting-started/welcome-main.html?audience=wdp&context=wdp\" target=\"_blank\" rel=\"noopener noreferrer\">Watson Studio documentation</a>\n",
    "* Need help with DOcplex or to report a bug? Go to <a href=\"https://developer.ibm.com/answers/smartspace/docloud\" target=\"_blank\" rel=\"noopener noreferrer\">https://developer.ibm.com/answers/smartspace/docloud</a>\n"
   ]
  },
  {
   "cell_type": "markdown",
   "metadata": {},
   "source": [
    "<hr>\n",
    "Copyright © 2017-2018 This notebook and its source code are released under the terms of the MIT License."
   ]
  },
  {
   "cell_type": "markdown",
   "metadata": {},
   "source": [
    "<div style=\"background:#F5F7FA; height:110px; padding: 2em; font-size:14px;\">\n",
    "<span style=\"font-size:18px;color:#152935;\">Love this notebook? </span>\n",
    "<span style=\"font-size:15px;color:#152935;float:right;margin-right:40px;\">Don't have an account yet?</span><br>\n",
    "<span style=\"color:#5A6872;\">Share it with your colleagues and help them discover the power of Watson Studio!</span>\n",
    "<span style=\"border: 1px solid #3d70b2;padding:8px;float:right;margin-right:40px; color:#3d70b2;\"><a href=\"https://ibm.co/wsnotebooks\" target=\"_blank\" style=\"color: #3d70b2;text-decoration: none;\">Sign Up</a></span><br>\n",
    "</div>"
   ]
  }
 ],
 "metadata": {
  "kernelspec": {
   "display_name": "Python 3.5",
   "language": "python",
   "name": "python3"
  },
  "language_info": {
   "codemirror_mode": {
    "name": "ipython",
    "version": 3
   },
   "file_extension": ".py",
   "mimetype": "text/x-python",
   "name": "python",
   "nbconvert_exporter": "python",
   "pygments_lexer": "ipython3",
   "version": "3.5.5"
  }
 },
 "nbformat": 4,
 "nbformat_minor": 1
}
