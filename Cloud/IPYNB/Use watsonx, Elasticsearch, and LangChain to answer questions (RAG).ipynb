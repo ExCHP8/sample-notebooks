{
 "cells": [
  {
   "attachments": {},
   "cell_type": "markdown",
   "metadata": {},
   "source": [
    "![image](https://raw.githubusercontent.com/IBM/watson-machine-learning-samples/master/cloud/notebooks/headers/watsonx-Prompt_Lab-Notebook.png)\n",
    "# Use watsonx, Elasticsearch, and LangChain to answer questions (RAG)"
   ]
  },
  {
   "attachments": {},
   "cell_type": "markdown",
   "metadata": {},
   "source": [
    "#### Disclaimers\n",
    "\n",
    "- Use only Projects and Spaces that are available in watsonx context.\n",
    "\n",
    "## Notebook content\n",
    "\n",
    "This notebook contains the steps and code to demonstrate support of Retrieval Augumented Generation in watsonx.ai. It introduces commands for data retrieval, knowledge base building & querying, and model testing.\n",
    "\n",
    "Some familiarity with Python is helpful. This notebook uses Python 3.10.\n",
    "\n",
    "#### About Retrieval Augmented Generation\n",
    "Retrieval Augmented Generation (RAG) is a versatile pattern that can unlock a number of use cases requiring factual recall of information, such as querying a knowledge base in natural language.\n",
    "\n",
    "In its simplest form, RAG requires 3 steps:\n",
    "\n",
    "- Index knowledge base passages (once)\n",
    "- Retrieve relevant passage(s) from knowledge base (for every user query)\n",
    "- Generate a response by feeding retrieved passage into a large language model (for every user query)\n",
    "\n",
    "## Contents\n",
    "\n",
    "This notebook contains the following parts:\n",
    "\n",
    "- [Setup](#setup)\n",
    "- [Data (test) loading](#data)\n",
    "- [Foundation Models on watsonx](#models)\n",
    "- [Basic information how to connect to Elasticsearch](#elastic_conn)\n",
    "- **[Set up ElasticsearchStore (Langchain)](#elasticsearchstore)**\n",
    "    - [Embed and index documents with Elasticsearch](#elasticsearchstore_index)\n",
    "    - [Generate a retrieval-augmented response to a question](#predict)\n",
    "\n"
   ]
  },
  {
   "attachments": {},
   "cell_type": "markdown",
   "metadata": {},
   "source": [
    "<a id=\"setup\"></a>\n",
    "##  Set up the environment\n",
    "\n",
    "Before you use the sample code in this notebook, you must perform the following setup tasks:\n",
    "\n",
    "-  Create a <a href=\"https://console.ng.bluemix.net/catalog/services/ibm-watson-machine-learning/\" target=\"_blank\" rel=\"noopener no referrer\">Watson Machine Learning (WML) Service</a> instance (a free plan is offered and information about how to create the instance can be found <a href=\"https://dataplatform.cloud.ibm.com/docs/content/wsj/analyze-data/ml-service-instance.html?context=analytics\" target=\"_blank\" rel=\"noopener no referrer\">here</a>).\n"
   ]
  },
  {
   "attachments": {},
   "cell_type": "markdown",
   "metadata": {},
   "source": [
    "### Install and import dependecies"
   ]
  },
  {
   "cell_type": "code",
   "execution_count": null,
   "metadata": {},
   "outputs": [],
   "source": [
    "!pip install langchain | tail -n 1\n",
    "!pip install elasticsearch | tail -n 1\n",
    "!pip install sentence_transformers | tail -n 1\n",
    "!pip install humanize | tail -n 1\n",
    "!pip install pandas | tail -n 1\n",
    "!pip install rouge_score | tail -n 1\n",
    "!pip install nltk | tail -n 1\n",
    "!pip install wget | tail -n 1\n",
    "!pip install \"pydantic==1.10.0\" | tail -n 1\n",
    "!pip install \"ibm-watson-machine-learning>=1.0.327\" | tail -n 1"
   ]
  },
  {
   "cell_type": "code",
   "execution_count": 46,
   "metadata": {},
   "outputs": [],
   "source": [
    "import os, getpass\n",
    "import pandas as pd\n",
    "import humanize\n",
    "import random\n",
    "from typing import Optional, Any, Iterable, List"
   ]
  },
  {
   "attachments": {},
   "cell_type": "markdown",
   "metadata": {},
   "source": [
    "### watsonx API connection\n",
    "This cell defines the credentials required to work with watsonx API for Foundation\n",
    "Model inferencing.\n",
    "\n",
    "**Action:** Provide the IBM Cloud user API key. For details, see <a href=\"https://cloud.ibm.com/docs/account?topic=account-userapikey&interface=ui\" target=\"_blank\" rel=\"noopener no referrer\">documentation</a>."
   ]
  },
  {
   "cell_type": "code",
   "execution_count": 3,
   "metadata": {
    "scrolled": true
   },
   "outputs": [],
   "source": [
    "credentials = {\n",
    "    \"url\": \"https://us-south.ml.cloud.ibm.com\",\n",
    "    \"apikey\": getpass.getpass(\"Please enter your WML api key (hit enter): \")\n",
    "}"
   ]
  },
  {
   "attachments": {},
   "cell_type": "markdown",
   "metadata": {},
   "source": [
    "### Defining the project id\n",
    "The API requires project id that provides the context for the call. We will obtain the id from the project in which this notebook runs. Otherwise, please provide the project id.\n",
    "\n",
    "**Hint**: You can find the `project_id` as follows. Open the prompt lab in watsonx.ai. At the very top of the UI, there will be `Projects / <project name> /`. Click on the `<project name>` link. Then get the `project_id` from Project's Manage tab (Project -> Manage -> General -> Details).\n"
   ]
  },
  {
   "cell_type": "code",
   "execution_count": 4,
   "metadata": {},
   "outputs": [],
   "source": [
    "try:\n",
    "    project_id = os.environ[\"PROJECT_ID\"]\n",
    "except KeyError:\n",
    "    project_id = input(\"Please enter your project_id (hit enter): \")"
   ]
  },
  {
   "attachments": {},
   "cell_type": "markdown",
   "metadata": {},
   "source": [
    "<a id=\"data\"></a>\n",
    "## Data (test) loading"
   ]
  },
  {
   "attachments": {},
   "cell_type": "markdown",
   "metadata": {},
   "source": [
    "Download the test dataset. This dataset is used to calculate the metrics score for selected model, defined prompts and parameters."
   ]
  },
  {
   "cell_type": "code",
   "execution_count": 5,
   "metadata": {},
   "outputs": [],
   "source": [
    "import wget\n",
    "\n",
    "questions_test_filename = 'questions_test.csv'\n",
    "questions_train_filename = 'questions_train.csv'\n",
    "questions_test_url = 'https://raw.github.com/IBM/watson-machine-learning-samples/master/cloud/data/RAG/questions_test.csv'\n",
    "questions_train_url = 'https://raw.github.com/IBM/watson-machine-learning-samples/master/cloud/data/RAG/questions_train.csv'\n",
    "\n",
    "\n",
    "if not os.path.isfile(questions_test_filename): \n",
    "    wget.download(questions_test_url, out=questions_test_filename)\n",
    "\n",
    "\n",
    "if not os.path.isfile(questions_train_filename): \n",
    "    wget.download(questions_train_url, out=questions_train_filename)"
   ]
  },
  {
   "cell_type": "code",
   "execution_count": 6,
   "metadata": {},
   "outputs": [],
   "source": [
    "filename_test = './questions_test.csv'\n",
    "filename_train =  './questions_train.csv'\n",
    "\n",
    "test_data = pd.read_csv(filename_test)\n",
    "train_data = pd.read_csv(filename_train)"
   ]
  },
  {
   "attachments": {},
   "cell_type": "markdown",
   "metadata": {},
   "source": [
    "Inspect data sample"
   ]
  },
  {
   "cell_type": "code",
   "execution_count": 7,
   "metadata": {},
   "outputs": [
    {
     "data": {
      "text/html": [
       "<div>\n",
       "<style scoped>\n",
       "    .dataframe tbody tr th:only-of-type {\n",
       "        vertical-align: middle;\n",
       "    }\n",
       "\n",
       "    .dataframe tbody tr th {\n",
       "        vertical-align: top;\n",
       "    }\n",
       "\n",
       "    .dataframe thead th {\n",
       "        text-align: right;\n",
       "    }\n",
       "</style>\n",
       "<table border=\"1\" class=\"dataframe\">\n",
       "  <thead>\n",
       "    <tr style=\"text-align: right;\">\n",
       "      <th></th>\n",
       "      <th>qid</th>\n",
       "      <th>question</th>\n",
       "      <th>answers</th>\n",
       "    </tr>\n",
       "  </thead>\n",
       "  <tbody>\n",
       "    <tr>\n",
       "      <th>0</th>\n",
       "      <td>1961</td>\n",
       "      <td>where does diffusion occur in the excretory sy...</td>\n",
       "      <td>diffusion</td>\n",
       "    </tr>\n",
       "    <tr>\n",
       "      <th>1</th>\n",
       "      <td>7528</td>\n",
       "      <td>when did the us join world war one</td>\n",
       "      <td>April 6 , 1917</td>\n",
       "    </tr>\n",
       "    <tr>\n",
       "      <th>2</th>\n",
       "      <td>8685</td>\n",
       "      <td>who played wilma in the movie the flintstones</td>\n",
       "      <td>Elizabeth Perkins</td>\n",
       "    </tr>\n",
       "    <tr>\n",
       "      <th>3</th>\n",
       "      <td>6716</td>\n",
       "      <td>when was the office of the vice president created</td>\n",
       "      <td>1787</td>\n",
       "    </tr>\n",
       "    <tr>\n",
       "      <th>4</th>\n",
       "      <td>2916</td>\n",
       "      <td>where does carbon fixation occur in c4 plants</td>\n",
       "      <td>in the mesophyll cells</td>\n",
       "    </tr>\n",
       "  </tbody>\n",
       "</table>\n",
       "</div>"
      ],
      "text/plain": [
       "    qid                                           question  \\\n",
       "0  1961  where does diffusion occur in the excretory sy...   \n",
       "1  7528                 when did the us join world war one   \n",
       "2  8685      who played wilma in the movie the flintstones   \n",
       "3  6716  when was the office of the vice president created   \n",
       "4  2916      where does carbon fixation occur in c4 plants   \n",
       "\n",
       "                  answers  \n",
       "0               diffusion  \n",
       "1          April 6 , 1917  \n",
       "2       Elizabeth Perkins  \n",
       "3                    1787  \n",
       "4  in the mesophyll cells  "
      ]
     },
     "execution_count": 7,
     "metadata": {},
     "output_type": "execute_result"
    }
   ],
   "source": [
    "train_data.head()"
   ]
  },
  {
   "attachments": {},
   "cell_type": "markdown",
   "metadata": {},
   "source": [
    "### Build up knowledge base\n",
    "\n",
    "The current state-of-the-art in RAG is to create dense vector representations of the knowledge base in order to calculate the semantic similarity to a given user query.\n",
    "\n",
    "We can generate dense vector representations using embedding models. In this notebook, we use <a href=\"https://www.sbert.net/\" target=\"_blank\" rel=\"noopener no referrer\">Sentence Transformers</a> <a href=\"https://huggingface.co/sentence-transformers/all-MiniLM-L6-v2\" target=\"_blank\" rel=\"noopener no referrer\">all-MiniLM-L6-v2</a> to embed both the knowledge base passages and user queries. `all-MiniLM-L6-v2` is a performant open-source model that is small enough to run locally.\n",
    "\n",
    "A vector database is optimized for dense vector indexing and retrieval. This notebook uses <a href=\"https://python.langchain.com/docs/integrations/vectorstores/elasticsearch#basic-example\" target=\"_blank\" rel=\"noopener no referrer\">Elasticsearch</a>, a distributed, RESTful search and analytics engine, capable of performing both vector and lexical search. It is built on top of the Apache Lucene library, which offers good speed and performance with all-MiniLM-L6-v2 embedding model."
   ]
  },
  {
   "attachments": {},
   "cell_type": "markdown",
   "metadata": {},
   "source": [
    "The dataset we are using is already split into self-contained passages that can be ingested by Elasticsearch. \n",
    "\n",
    "The size of each passage is limited by the embedding model's context window (which is 256 tokens for `all-MiniLM-L6-v2`)."
   ]
  },
  {
   "attachments": {},
   "cell_type": "markdown",
   "metadata": {},
   "source": [
    "### Load knowledge base documents\n",
    "\n",
    "Load set of documents used further to build knowledge base. "
   ]
  },
  {
   "cell_type": "code",
   "execution_count": 8,
   "metadata": {},
   "outputs": [],
   "source": [
    "knowledge_base_dir = \"./knowledge_base\""
   ]
  },
  {
   "cell_type": "code",
   "execution_count": 9,
   "metadata": {},
   "outputs": [],
   "source": [
    "my_path = f\"{os.getcwd()}/knowledge_base\"\n",
    "if not os.path.isdir(my_path):\n",
    "   os.makedirs(my_path)"
   ]
  },
  {
   "cell_type": "code",
   "execution_count": 10,
   "metadata": {},
   "outputs": [],
   "source": [
    "documents_filename = 'knowledge_base/psgs.tsv'\n",
    "documents_url = 'https://raw.github.com/IBM/watson-machine-learning-samples/master/cloud/data/RAG/psgs.tsv'\n",
    "\n",
    "\n",
    "if not os.path.isfile(documents_filename): \n",
    "    wget.download(documents_url, out=documents_filename)"
   ]
  },
  {
   "cell_type": "code",
   "execution_count": 11,
   "metadata": {},
   "outputs": [],
   "source": [
    "documents = pd.read_csv(f\"{knowledge_base_dir}/psgs.tsv\", sep='\\t', header=0)\n",
    "documents['indextext'] = documents['title'].astype(str) + \"\\n\" + documents['text']\n",
    "documents = documents[:1000]"
   ]
  },
  {
   "attachments": {},
   "cell_type": "markdown",
   "metadata": {},
   "source": [
    "### Create an embedding function\n",
    "\n",
    "Note that you can feed a custom embedding function to be used by Elasticsearch. The performance of Elasticsearch may differ depending on the embedding model used."
   ]
  },
  {
   "cell_type": "code",
   "execution_count": null,
   "metadata": {},
   "outputs": [],
   "source": [
    "from langchain.embeddings import SentenceTransformerEmbeddings\n",
    "from langchain.embeddings.base import Embeddings\n",
    "\n",
    "emb_func = SentenceTransformerEmbeddings(model_name=\"all-MiniLM-L6-v2\")"
   ]
  },
  {
   "attachments": {},
   "cell_type": "markdown",
   "metadata": {},
   "source": [
    "<a id=\"models\"></a>\n",
    "## Foundation Models on watsonx"
   ]
  },
  {
   "attachments": {},
   "cell_type": "markdown",
   "metadata": {},
   "source": [
    "### Defining model\n",
    "You need to specify `model_id` that will be used for inferencing:"
   ]
  },
  {
   "cell_type": "code",
   "execution_count": 13,
   "metadata": {},
   "outputs": [],
   "source": [
    "from ibm_watson_machine_learning.foundation_models.utils.enums import ModelTypes\n",
    "\n",
    "model_id = ModelTypes.FLAN_UL2"
   ]
  },
  {
   "cell_type": "markdown",
   "metadata": {},
   "source": [
    "### Defining the model parameters\n",
    "We need to provide a set of model parameters that will influence the result:"
   ]
  },
  {
   "cell_type": "code",
   "execution_count": 14,
   "metadata": {},
   "outputs": [],
   "source": [
    "from ibm_watson_machine_learning.metanames import GenTextParamsMetaNames as GenParams\n",
    "from ibm_watson_machine_learning.foundation_models.utils.enums import DecodingMethods\n",
    "\n",
    "parameters = {\n",
    "    GenParams.DECODING_METHOD: DecodingMethods.GREEDY,\n",
    "    GenParams.MIN_NEW_TOKENS: 1,\n",
    "    GenParams.MAX_NEW_TOKENS: 50\n",
    "}"
   ]
  },
  {
   "cell_type": "markdown",
   "metadata": {},
   "source": [
    "### Initialize the `Model` class."
   ]
  },
  {
   "cell_type": "code",
   "execution_count": 15,
   "metadata": {},
   "outputs": [],
   "source": [
    "from ibm_watson_machine_learning.foundation_models import Model\n",
    "\n",
    "model = Model(\n",
    "    model_id=model_id,\n",
    "    params=parameters,\n",
    "    credentials=credentials,\n",
    "    project_id=project_id\n",
    ")"
   ]
  },
  {
   "attachments": {},
   "cell_type": "markdown",
   "metadata": {},
   "source": [
    "<a id=\"elastic_conn\"></a>\n",
    "## Set up connectivity information to Elasticsearch\n",
    "\n",
    "**This notebook focuses on self-managed cluster using <a href=\"https://cloud.ibm.com/docs/databases-for-elasticsearch?topic=databases-for-elasticsearch-getting-started\" target=\"_blank\" rel=\"noopener no referrer\">IBM Cloud® Databases for Elasticsearch.</a>**\n",
    "\n",
    "The following cell retrieves the Elasticsearch users, password, host and port from the environment if available and prompts you otherwise."
   ]
  },
  {
   "cell_type": "code",
   "execution_count": 16,
   "metadata": {},
   "outputs": [],
   "source": [
    "try:\n",
    "    esuser = os.environ[\"ESUSER\"]\n",
    "except KeyError:\n",
    "    esuser = input(\"Please enter your Elasticsearch user name (hit enter): \")\n",
    "try:\n",
    "    espassword = os.environ[\"ESPASSWORD\"]\n",
    "except KeyError:\n",
    "    espassword = getpass.getpass(\"Please enter your Elasticsearch password (hit enter): \")\n",
    "try:\n",
    "    eshost = os.environ[\"ESHOST\"]\n",
    "except KeyError:\n",
    "    eshost = input(\"Please enter your Elasticsearch hostname (hit enter): \")\n",
    "try:\n",
    "    esport = os.environ[\"ESPORT\"]\n",
    "except KeyError:\n",
    "    esport = input(\"Please enter your Elasticsearch port number (hit enter): \")"
   ]
  },
  {
   "cell_type": "markdown",
   "metadata": {},
   "source": [
    "By default Elasticsearch will start with security features like authentication and TLS enabled. To connect to the Elasticsearch cluster you’ll need to configure the Python Elasticsearch client to use HTTPS with the generated CA certificate in order to make requests successfully. Details can be found <a href=\"https://www.elastic.co/guide/en/elasticsearch/client/python-api/current/connecting.html#connect-self-managed-new\" target=\"_blank\" rel=\"noopener no referrer\">here</a>. In this notebook certificate fingerprints will be used for authentication. \n",
    "\n",
    "**Verifying HTTPS with certificate fingerprints (Python 3.10 or later)** If you don’t have access to the generated CA file from Elasticsearch you can use the following script to output the root CA fingerprint of the Elasticsearch instance with openssl s_client <a href=\"https://www.elastic.co/guide/en/elasticsearch/client/python-api/current/connecting.html#_verifying_https_with_certificate_fingerprints_python_3_10_or_later\" target=\"_blank\" rel=\"noopener no referrer\"> (docs)</a>:\n",
    "\n",
    "\n",
    "The following cell retrieves the fingerprint information using a shell command and stores it in variable `ssl_assert_fingerprint`."
   ]
  },
  {
   "cell_type": "code",
   "execution_count": null,
   "metadata": {},
   "outputs": [],
   "source": [
    "es_ssl_fingerprint = !openssl s_client -connect $eshost:$esport  -showcerts </dev/null 2>/dev/null | openssl x509 -fingerprint -sha256 -noout -in /dev/stdin\n",
    "es_ssl_fingerprint = es_ssl_fingerprint[0].split(\"=\")[1]\n",
    "es_ssl_fingerprint"
   ]
  },
  {
   "attachments": {},
   "cell_type": "markdown",
   "metadata": {},
   "source": [
    "<a id=\"elasticsearchstore\"></a>\n",
    "## Set up ElasticsearchStore connector from Langchain\n",
    "\n",
    "\n",
    "We first create a regular Elasticsearch Python client connection. Then we pass it into LangChain's ElasticsearchStore wrapper together with the WatsonX model based embedding function.\n",
    "\n",
    "Consult the LangChain documentation For more information about <a href=\"https://api.python.langchain.com/en/latest/vectorstores/langchain.vectorstores.elasticsearch.ElasticsearchStore.html\" target=\"_blank\" rel=\"noopener no referrer\">ElasticsearchStore</a> connector."
   ]
  },
  {
   "cell_type": "code",
   "execution_count": 41,
   "metadata": {},
   "outputs": [],
   "source": [
    "from langchain.vectorstores.elasticsearch import ElasticsearchStore\n",
    "from elasticsearch import Elasticsearch\n",
    "\n",
    "es_connection = Elasticsearch([f\"https://{esuser}:{espassword}@{eshost}:{esport}\"],\n",
    "                              basic_auth=(esuser, espassword),\n",
    "                              request_timeout=None,\n",
    "                              ssl_assert_fingerprint=es_ssl_fingerprint)\n",
    "\n",
    "knowledge_base = ElasticsearchStore(es_connection=es_connection,\n",
    "                                    index_name=\"test_index\",\n",
    "                                    embedding=emb_func,\n",
    "                                    strategy=ElasticsearchStore.ApproxRetrievalStrategy(),\n",
    "                                    distance_strategy=\"DOT_PRODUCT\")\n"
   ]
  },
  {
   "cell_type": "markdown",
   "metadata": {},
   "source": [
    "<a id=\"elasticsearchstore_index\"></a>\n",
    "### Embed and index documents with Elasticsearch\n",
    "\n",
    "**Note: Could take several minutes if you don't have pre-built indices**"
   ]
  },
  {
   "cell_type": "code",
   "execution_count": 42,
   "metadata": {},
   "outputs": [],
   "source": [
    "if es_connection.indices.exists(index=\"test_index\"):\n",
    "    es_connection.indices.delete(index=\"test_index\")\n",
    "_ = knowledge_base.add_texts(texts=documents.indextext.tolist(),\n",
    "                             metadatas=[{'title': title, 'id': doc_id}\n",
    "                                for (title, doc_id) in\n",
    "                                zip(documents.title, documents.id)],  # filter on these!\n",
    "                             index_name=\"test_index\",\n",
    "                             ids=[str(i) for i in documents.id]  # unique for each doc\n",
    "                            )"
   ]
  },
  {
   "cell_type": "markdown",
   "metadata": {},
   "source": [
    "Let's take a look in Elasticsearch what the LangChain wrapper has created. First we display the newly created index (\"tables\" in Elasticsearch are always called \"index\"). Note the field `vector` of type `dense_vector` with `dot_product` similarity."
   ]
  },
  {
   "cell_type": "code",
   "execution_count": 43,
   "metadata": {},
   "outputs": [
    {
     "data": {
      "text/plain": [
       "{'test_index': {'aliases': {},\n",
       "  'mappings': {'properties': {'metadata': {'properties': {'id': {'type': 'long'},\n",
       "      'title': {'type': 'text',\n",
       "       'fields': {'keyword': {'type': 'keyword', 'ignore_above': 256}}}}},\n",
       "    'text': {'type': 'text',\n",
       "     'fields': {'keyword': {'type': 'keyword', 'ignore_above': 256}}},\n",
       "    'vector': {'type': 'dense_vector',\n",
       "     'dims': 384,\n",
       "     'index': True,\n",
       "     'similarity': 'dot_product'}}},\n",
       "  'settings': {'index': {'routing': {'allocation': {'include': {'_tier_preference': 'data_content'}}},\n",
       "    'allocation': {'max_retries': '15'},\n",
       "    'number_of_shards': '1',\n",
       "    'provided_name': 'test_index',\n",
       "    'creation_date': '1697800967343',\n",
       "    'unassigned': {'node_left': {'delayed_timeout': '60m'}},\n",
       "    'number_of_replicas': '1',\n",
       "    'uuid': '3z03XJE2TSm7Z0FqMvLMCw',\n",
       "    'version': {'created': '8070099'}}}}}"
      ]
     },
     "execution_count": 43,
     "metadata": {},
     "output_type": "execute_result"
    }
   ],
   "source": [
    "dict(es_connection.indices.get(index=\"test_index\"))"
   ]
  },
  {
   "cell_type": "markdown",
   "metadata": {},
   "source": [
    "Verify the number of documents loaded into the Elasticsearch index."
   ]
  },
  {
   "cell_type": "code",
   "execution_count": 44,
   "metadata": {},
   "outputs": [
    {
     "data": {
      "text/plain": [
       "1000"
      ]
     },
     "execution_count": 44,
     "metadata": {},
     "output_type": "execute_result"
    }
   ],
   "source": [
    "doc_count = es_connection.count(index='test_index')[\"count\"]\n",
    "doc_count"
   ]
  },
  {
   "cell_type": "markdown",
   "metadata": {},
   "source": [
    "Let's retrieve a random document as a sample. Note the embedding in the vector field, that was generated with the WatsonX embedding model."
   ]
  },
  {
   "cell_type": "code",
   "execution_count": 47,
   "metadata": {},
   "outputs": [
    {
     "data": {
      "text/plain": [
       "{'_index': 'test_index',\n",
       " '_id': '252',\n",
       " '_version': 1,\n",
       " '_seq_no': 251,\n",
       " '_primary_term': 1,\n",
       " 'found': True,\n",
       " '_source': {'text': \"Kaaba\\nBibliotheca Historica . Book 3 Chapter 44 . Jump up ^ Imoti , Eiichi . `` The Ka'ba - i Zardušt '' , Orient , XV ( 1979 ) , The Society for Near Eastern Studies in Japan , pp. 65 -- 69 . Jump up ^ Grunebaum , p. 24 Jump up ^ Armstrong , Jerusalem , p. 221 Jump up ^ Hafiz Ghulam Sarwar . Muhammad the Holy Prophet . pp. 18 -- 19 . Jump up ^ Francis E. Peters , Muhammad and the origins of Islam , SUNY Press , 1994 , p. 109 . Jump up ^ Armstrong , Jerusalem : One City , Three Faiths , pp. 221 -- 22 Jump up ^ Crone , Patricia ( 2004 ) . Makkan Trade and the Rise of Islam . Piscataway , New Jersey : Gorgias . p. 137 Jump up ^ Britannica 2002 Deluxe Edition CD - ROM , `` Ka'bah . '' Jump up ^ Gaster , Moses ( 1927 ) . The Asatir : the Samaritan book of Moses . London : The Royal Asiatic Society . pp. 262 , 71 . Ishmaelites built Mecca ( Baka , Bakh ) Jump up ^ Crown , Alan David ( 2001 ) . Samaritan Scribes and Manuscripts . Tübingen : Mohr Siebeck . p. 27 . Jump up ^ M. Gaster , The Asatir : The Samaritan Book of the `` Secrets of Moses '' , London ( 1927 ) , p. 160 Jump up\",\n",
       "  'vector': [-0.019460834562778473,\n",
       "   0.10563772171735764,\n",
       "   -0.03679051250219345,\n",
       "   0.009292990900576115,\n",
       "   -0.05026105046272278,\n",
       "   0.028299227356910706,\n",
       "   -0.07515691965818405,\n",
       "   -0.010877757333219051,\n",
       "   -0.03545180708169937,\n",
       "   0.04190792888402939,\n",
       "   0.11010318994522095,\n",
       "   -0.054886963218450546,\n",
       "   0.03744077309966087,\n",
       "   -0.004814439453184605,\n",
       "   0.05074089393019676,\n",
       "   -0.0022956423927098513,\n",
       "   -0.053423911333084106,\n",
       "   0.012671268545091152,\n",
       "   0.0336051769554615,\n",
       "   -0.03599844500422478,\n",
       "   -0.05706708878278732,\n",
       "   -0.045180145651102066,\n",
       "   0.05510128661990166,\n",
       "   0.011039086617529392,\n",
       "   0.060496263206005096,\n",
       "   0.03646443039178848,\n",
       "   0.01173442229628563,\n",
       "   0.015329938381910324,\n",
       "   -0.009243086911737919,\n",
       "   -0.024239499121904373,\n",
       "   -0.12653255462646484,\n",
       "   0.03888430446386337,\n",
       "   -0.005490416660904884,\n",
       "   -0.07155846059322357,\n",
       "   0.04236306995153427,\n",
       "   0.04549425467848778,\n",
       "   0.06823600828647614,\n",
       "   0.10654156655073166,\n",
       "   0.08047862350940704,\n",
       "   0.013659396208822727,\n",
       "   0.09947443753480911,\n",
       "   -0.01900421269237995,\n",
       "   -0.019408587366342545,\n",
       "   -0.039576198905706406,\n",
       "   0.024934973567724228,\n",
       "   0.07719919085502625,\n",
       "   0.0399315245449543,\n",
       "   0.06767931580543518,\n",
       "   -0.009400881826877594,\n",
       "   0.0005378876812756062,\n",
       "   -0.04316924512386322,\n",
       "   0.05985002592206001,\n",
       "   0.07321515679359436,\n",
       "   0.005362308118492365,\n",
       "   0.05106531083583832,\n",
       "   -0.06003822013735771,\n",
       "   -0.08632269501686096,\n",
       "   0.053666602820158005,\n",
       "   0.0696180984377861,\n",
       "   -0.033491190522909164,\n",
       "   -0.0036159527953714132,\n",
       "   0.06296854466199875,\n",
       "   -0.02202592045068741,\n",
       "   -0.012363250367343426,\n",
       "   -0.015575799159705639,\n",
       "   -0.08246882259845734,\n",
       "   0.0015743793919682503,\n",
       "   0.03993629664182663,\n",
       "   -0.05369618535041809,\n",
       "   0.039510373026132584,\n",
       "   -0.04165635630488396,\n",
       "   -0.03019368276000023,\n",
       "   0.009884418919682503,\n",
       "   0.02997877635061741,\n",
       "   -0.11685360968112946,\n",
       "   -0.04722032696008682,\n",
       "   -0.02284979820251465,\n",
       "   -0.016347184777259827,\n",
       "   -0.13249355554580688,\n",
       "   -0.03399200364947319,\n",
       "   0.07520990818738937,\n",
       "   -0.040496040135622025,\n",
       "   -0.057705383747816086,\n",
       "   -0.04695993289351463,\n",
       "   -0.06761831790208817,\n",
       "   0.025014787912368774,\n",
       "   -0.0015389081090688705,\n",
       "   -0.03679125756025314,\n",
       "   0.013566038571298122,\n",
       "   -0.04041285812854767,\n",
       "   0.07917188853025436,\n",
       "   -0.05764985457062721,\n",
       "   -0.015359684824943542,\n",
       "   -0.018365802243351936,\n",
       "   0.07365798205137253,\n",
       "   -0.02822405844926834,\n",
       "   -0.07143574953079224,\n",
       "   -0.014102152548730373,\n",
       "   0.05214705318212509,\n",
       "   -8.45747854327783e-05,\n",
       "   0.060974087566137314,\n",
       "   0.01219895388931036,\n",
       "   0.07806282490491867,\n",
       "   0.0283384770154953,\n",
       "   -0.03480703756213188,\n",
       "   -0.023381318897008896,\n",
       "   -0.06543150544166565,\n",
       "   -0.022173644974827766,\n",
       "   0.016938386484980583,\n",
       "   0.01403704471886158,\n",
       "   -0.11505034565925598,\n",
       "   -0.09737376123666763,\n",
       "   -0.03277994319796562,\n",
       "   -0.09464859217405319,\n",
       "   0.022877557203173637,\n",
       "   0.09239386022090912,\n",
       "   -0.05856432020664215,\n",
       "   -0.01488125417381525,\n",
       "   -0.0745336040854454,\n",
       "   0.029346324503421783,\n",
       "   0.0037547682877629995,\n",
       "   -0.002502372022718191,\n",
       "   0.060762397944927216,\n",
       "   0.07784514129161835,\n",
       "   -0.0024569917004555464,\n",
       "   -0.03414260596036911,\n",
       "   -0.006021164823323488,\n",
       "   9.919409997768835e-34,\n",
       "   0.06397375464439392,\n",
       "   -0.03801659494638443,\n",
       "   0.004319910425692797,\n",
       "   0.016481658443808556,\n",
       "   0.022710049524903297,\n",
       "   -0.13191218674182892,\n",
       "   -0.04591192305088043,\n",
       "   -0.042939893901348114,\n",
       "   -0.09907537698745728,\n",
       "   -0.03680512309074402,\n",
       "   0.009876652620732784,\n",
       "   0.000762054871302098,\n",
       "   -0.02185213938355446,\n",
       "   -0.04080411419272423,\n",
       "   0.04810065031051636,\n",
       "   -0.0019090761197730899,\n",
       "   -0.07309304922819138,\n",
       "   -0.07204093039035797,\n",
       "   0.05908462032675743,\n",
       "   -0.010817496106028557,\n",
       "   0.03503866493701935,\n",
       "   -0.07354363054037094,\n",
       "   -0.05248443782329559,\n",
       "   0.03390563651919365,\n",
       "   -0.0008370069554075599,\n",
       "   0.06806101649999619,\n",
       "   0.07952555269002914,\n",
       "   -0.015831004828214645,\n",
       "   -0.07055588811635971,\n",
       "   0.046211306005716324,\n",
       "   -0.023716852068901062,\n",
       "   -0.044985923916101456,\n",
       "   -0.0762820914387703,\n",
       "   -0.08503122627735138,\n",
       "   -0.03652915358543396,\n",
       "   0.04026184603571892,\n",
       "   -0.011378630064427853,\n",
       "   -0.0707932636141777,\n",
       "   -0.047520000487565994,\n",
       "   -0.07015997171401978,\n",
       "   -0.035623710602521896,\n",
       "   -0.0221245139837265,\n",
       "   0.05952061712741852,\n",
       "   0.02823307178914547,\n",
       "   0.034580715000629425,\n",
       "   0.04295441880822182,\n",
       "   -0.04067837446928024,\n",
       "   -0.06945794820785522,\n",
       "   0.051606081426143646,\n",
       "   0.05243100970983505,\n",
       "   -0.036503005772829056,\n",
       "   -0.00901953224092722,\n",
       "   0.0026429917197674513,\n",
       "   -0.043822769075632095,\n",
       "   0.010173620656132698,\n",
       "   0.0016012686537578702,\n",
       "   -0.029325410723686218,\n",
       "   0.07506169378757477,\n",
       "   -0.02378465235233307,\n",
       "   0.09148015081882477,\n",
       "   -0.06479823589324951,\n",
       "   -0.018756534904241562,\n",
       "   -0.08463814109563828,\n",
       "   0.05190446972846985,\n",
       "   -0.07150277495384216,\n",
       "   0.034888580441474915,\n",
       "   -0.044067081063985825,\n",
       "   0.053189102560281754,\n",
       "   0.0291140079498291,\n",
       "   0.034329310059547424,\n",
       "   -0.0224731657654047,\n",
       "   0.021028608083724976,\n",
       "   0.027849657461047173,\n",
       "   0.06974854320287704,\n",
       "   0.027197565883398056,\n",
       "   0.029563920572400093,\n",
       "   -0.07457366585731506,\n",
       "   -0.0330742709338665,\n",
       "   -0.01094056572765112,\n",
       "   0.014492057263851166,\n",
       "   0.03755022957921028,\n",
       "   0.0007791524403728545,\n",
       "   -0.04136078059673309,\n",
       "   0.007681707385927439,\n",
       "   0.029873076826334,\n",
       "   0.0015044115716591477,\n",
       "   0.06511226296424866,\n",
       "   -0.03431839495897293,\n",
       "   -0.04761748015880585,\n",
       "   -0.08742059022188187,\n",
       "   -0.02272331528365612,\n",
       "   0.042529672384262085,\n",
       "   0.08978033065795898,\n",
       "   -0.016299400478601456,\n",
       "   -0.05236158147454262,\n",
       "   -3.153009395427421e-33,\n",
       "   0.08880811929702759,\n",
       "   0.09276977926492691,\n",
       "   -0.003188906703144312,\n",
       "   0.011490313336253166,\n",
       "   -0.006713529117405415,\n",
       "   0.04258004575967789,\n",
       "   0.05909668281674385,\n",
       "   0.05569327995181084,\n",
       "   -0.03450227156281471,\n",
       "   -0.06302438676357269,\n",
       "   -0.1100502535700798,\n",
       "   -0.021014709025621414,\n",
       "   0.07737123221158981,\n",
       "   0.01596376858651638,\n",
       "   0.06680682301521301,\n",
       "   -0.02317309007048607,\n",
       "   0.015530358068645,\n",
       "   0.06405963748693466,\n",
       "   -0.024988070130348206,\n",
       "   0.00823140423744917,\n",
       "   0.03279445692896843,\n",
       "   -0.0356382317841053,\n",
       "   -0.04364600405097008,\n",
       "   -0.0616937130689621,\n",
       "   0.023492787033319473,\n",
       "   0.07195677608251572,\n",
       "   0.074773408472538,\n",
       "   0.041785191744565964,\n",
       "   -0.03358638286590576,\n",
       "   0.0590030662715435,\n",
       "   -0.007899967953562737,\n",
       "   0.006570966448634863,\n",
       "   -0.13965925574302673,\n",
       "   0.024381568655371666,\n",
       "   -0.02875552885234356,\n",
       "   -0.03227876499295235,\n",
       "   0.024503592401742935,\n",
       "   0.06429056078195572,\n",
       "   -0.03808283060789108,\n",
       "   -0.04592667520046234,\n",
       "   0.035989273339509964,\n",
       "   0.09801360219717026,\n",
       "   0.015056123957037926,\n",
       "   0.007290969602763653,\n",
       "   0.03282582759857178,\n",
       "   0.0941624864935875,\n",
       "   -0.011100713163614273,\n",
       "   0.12064360827207565,\n",
       "   0.0031252445187419653,\n",
       "   -0.09764864295721054,\n",
       "   -0.05892113596200943,\n",
       "   0.04012362286448479,\n",
       "   0.044783469289541245,\n",
       "   -0.03144068643450737,\n",
       "   0.053327400237321854,\n",
       "   0.02011972665786743,\n",
       "   -0.058266639709472656,\n",
       "   0.11791082471609116,\n",
       "   -0.06376563012599945,\n",
       "   -0.01786516234278679,\n",
       "   -0.017009412869811058,\n",
       "   -0.02679177187383175,\n",
       "   0.02522931806743145,\n",
       "   0.04426788538694382,\n",
       "   -0.03839172422885895,\n",
       "   -0.06479134410619736,\n",
       "   0.10841776430606842,\n",
       "   0.016225088387727737,\n",
       "   -0.0216052308678627,\n",
       "   0.007422945462167263,\n",
       "   -0.059263087809085846,\n",
       "   -0.06689726561307907,\n",
       "   -0.03191467002034187,\n",
       "   -0.024244558066129684,\n",
       "   0.009065925143659115,\n",
       "   0.058113615959882736,\n",
       "   -0.011079932563006878,\n",
       "   0.058865416795015335,\n",
       "   0.025823602452874184,\n",
       "   -0.0368654727935791,\n",
       "   0.007548758760094643,\n",
       "   0.019799163565039635,\n",
       "   -0.1116143986582756,\n",
       "   0.03521416708827019,\n",
       "   0.08868298679590225,\n",
       "   0.05866669863462448,\n",
       "   -0.07002442330121994,\n",
       "   0.0011052082991227508,\n",
       "   0.0716303139925003,\n",
       "   -0.06336995959281921,\n",
       "   -0.03442363068461418,\n",
       "   -0.06993401795625687,\n",
       "   0.009352592751383781,\n",
       "   -0.0020982702262699604,\n",
       "   -0.03630635887384415,\n",
       "   -5.1550689050827714e-08,\n",
       "   0.014642242342233658,\n",
       "   0.021132510155439377,\n",
       "   0.010145854204893112,\n",
       "   0.01058206893503666,\n",
       "   0.1095845177769661,\n",
       "   0.07414264976978302,\n",
       "   0.00700574042275548,\n",
       "   0.03828488290309906,\n",
       "   -0.010451164096593857,\n",
       "   -0.049508415162563324,\n",
       "   -0.013114580884575844,\n",
       "   0.04312431439757347,\n",
       "   0.01918088085949421,\n",
       "   0.09692701697349548,\n",
       "   -0.023883413523435593,\n",
       "   -0.04018598794937134,\n",
       "   -0.0025466098450124264,\n",
       "   -0.02180989272892475,\n",
       "   -0.005228254944086075,\n",
       "   -0.024866558611392975,\n",
       "   0.04007920250296593,\n",
       "   0.029116429388523102,\n",
       "   -0.008411356247961521,\n",
       "   -0.05905879661440849,\n",
       "   -0.06868981570005417,\n",
       "   0.06066327169537544,\n",
       "   -0.0899750143289566,\n",
       "   -0.014888250268995762,\n",
       "   -0.025813361629843712,\n",
       "   0.0241851806640625,\n",
       "   0.028134508058428764,\n",
       "   0.04506390169262886,\n",
       "   -0.06032198667526245,\n",
       "   -0.07785461097955704,\n",
       "   -0.0039940690621733665,\n",
       "   0.022812485694885254,\n",
       "   -0.004996288102120161,\n",
       "   0.012477845884859562,\n",
       "   -0.03995039686560631,\n",
       "   -0.07882115989923477,\n",
       "   -0.007827111519873142,\n",
       "   -0.019537774845957756,\n",
       "   0.010528060607612133,\n",
       "   0.017785610631108284,\n",
       "   0.03376356139779091,\n",
       "   0.06377830356359482,\n",
       "   -0.0006825932068750262,\n",
       "   0.03934096917510033,\n",
       "   -0.01431913860142231,\n",
       "   -0.04467131569981575,\n",
       "   0.015531343407928944,\n",
       "   0.017804140225052834,\n",
       "   0.10352031886577606,\n",
       "   -0.016611875966191292,\n",
       "   0.0030279457569122314,\n",
       "   0.0025666216388344765,\n",
       "   -0.0491783544421196,\n",
       "   -0.08359087258577347,\n",
       "   0.03884495049715042,\n",
       "   -0.022293981164693832,\n",
       "   0.07985222339630127,\n",
       "   -0.055284805595874786,\n",
       "   -0.0453575924038887,\n",
       "   0.06787393987178802],\n",
       "  'metadata': {'title': 'Kaaba', 'id': 252}}}"
      ]
     },
     "execution_count": 47,
     "metadata": {},
     "output_type": "execute_result"
    }
   ],
   "source": [
    "dict(es_connection.get(index=\"test_index\", id=random.randint(0, len(documents)-1)))"
   ]
  },
  {
   "cell_type": "markdown",
   "metadata": {},
   "source": [
    "Display the total size and indexing time of the new index in Elasticsearch."
   ]
  },
  {
   "cell_type": "code",
   "execution_count": 48,
   "metadata": {},
   "outputs": [
    {
     "name": "stdout",
     "output_type": "stream",
     "text": [
      "Index size:    9.4 MB\n",
      "Indexing time: 0.02 minutes\n"
     ]
    }
   ],
   "source": [
    "index_stats = es_connection.indices.stats(index=\"test_index\").get('_all').get('primaries')\n",
    "print(\"Index size:    \" + humanize.naturalsize(index_stats.get('store').get('size_in_bytes')))\n",
    "print(\"Indexing time: \" + humanize.precisedelta(index_stats.get('indexing').get('index_time_in_millis')/1000, minimum_unit='minutes'))\n"
   ]
  },
  {
   "attachments": {},
   "cell_type": "markdown",
   "metadata": {},
   "source": [
    "<a id=\"predict\"></a>\n",
    "## Generate a retrieval-augmented response to a question"
   ]
  },
  {
   "cell_type": "markdown",
   "metadata": {},
   "source": [
    "`RetrievalQA` is a chain to do question answering.\n",
    "\n",
    "**Hint:** To use Chain interface from LangChain with watsonx.ai models you must call `model.to_langchain()` method. \n",
    "\n",
    "It returns `WatsonxLLM` wrapper compatible with LangChain CustomLLM specification."
   ]
  },
  {
   "attachments": {},
   "cell_type": "markdown",
   "metadata": {},
   "source": [
    "### Select questions\n",
    "\n",
    "The prompts we will use to test the RAG flow"
   ]
  },
  {
   "cell_type": "code",
   "execution_count": 49,
   "metadata": {},
   "outputs": [],
   "source": [
    "questions_and_answers = {\n",
    "            'names of founding fathers of the united states?': \"Thomas Jefferson::James Madison::John Jay::George Washington::John Adams::Benjamin Franklin::Alexander Hamilton\",\n",
    "            'who played in the super bowl in 2013?': 'Baltimore Ravens::San Francisco 49ers',\n",
    "            'when did bucharest become the capital of romania?': '1862'\n",
    "}"
   ]
  },
  {
   "attachments": {},
   "cell_type": "markdown",
   "metadata": {},
   "source": [
    "### Retrieve relevant context\n",
    "\n",
    "Fetch paragraphs similar to the question"
   ]
  },
  {
   "cell_type": "code",
   "execution_count": 52,
   "metadata": {},
   "outputs": [],
   "source": [
    "from langchain.chains import RetrievalQA\n",
    "\n",
    "qa = RetrievalQA.from_chain_type(llm=model.to_langchain(), chain_type=\"stuff\", retriever=knowledge_base.as_retriever(), return_source_documents=True)"
   ]
  },
  {
   "cell_type": "code",
   "execution_count": 53,
   "metadata": {},
   "outputs": [],
   "source": [
    "results = []\n",
    "\n",
    "for question in questions_and_answers.keys():\n",
    "    result = qa({\"query\": question})\n",
    "    results.append(result)"
   ]
  },
  {
   "attachments": {},
   "cell_type": "markdown",
   "metadata": {},
   "source": [
    "Get the set of chunks for one of the questions."
   ]
  },
  {
   "cell_type": "code",
   "execution_count": 54,
   "metadata": {},
   "outputs": [
    {
     "name": "stdout",
     "output_type": "stream",
     "text": [
      "=========\n",
      "Question =  names of founding fathers of the united states?\n",
      "Answer =  John Adams , Benjamin Franklin , Alexander Hamilton , John Jay , Thomas Jefferson , James Madison , and George Washington\n",
      "Expected Answer(s) (may not be appear with exact wording in the dataset) =  Thomas Jefferson::James Madison::John Jay::George Washington::John Adams::Benjamin Franklin::Alexander Hamilton\n",
      "\n",
      "\n",
      "Source documents:\n",
      "Founding Fathers of the United States\n",
      "^ Burstein , Andrew . `` Politics and Personalities : Garry Wills takes a new look at a forgotten founder , slavery and the shaping of America '' , Chicago Tribune ( November 09 , 2003 ) : `` Forgotten founders such as Pickering and Morris made as many waves as those whose faces stare out from our currency . '' ^ Jump up to : Rafael , Ray . The Complete Idiot 's Guide to the Founding Fathers : And the Birth of Our Nation ( Penguin , 2011 ) . Jump up ^ `` Founding Fathers : Virginia '' . FindLaw Constitutional Law Center . 2008 . Retrieved 2008 - 11 - 14 . Jump up ^ Schwartz , Laurens R. Jews and the American Revolution : Haym Solomon and Others , Jefferson , North Carolina : McFarland & Co. , 1987 . Jump up ^ Kendall , Joshua . The Forgotten Founding Father : Noah Webster 's Obsession and the Creation of an American Culture ( Penguin 2011 ) . Jump up ^ Wright , R.E. ( 1996 ) . `` Thomas Willing ( 1731 - 1821 ) : Philadelphia Financier and Forgotten Founding Father '' . Pennsylvania History . 63 ( 4 ) : 525 -- 560 . doi : 10.2307 / 27773931 ( inactive 2017 - 01 - 15 ) . JSTOR 27773931 . Jump up ^ `` A Patriot of Early New England '' , New York Times ( December 20 , 1931 )\n",
      "Founding Fathers of the United States\n",
      "President of Congress Peyton Randolph New Hampshire John Sullivan Nathaniel Folsom Massachusetts Bay Thomas Cushing Samuel Adams John Adams Robert Treat Paine Rhode Island Stephen Hopkins Samuel Ward Connecticut Eliphalet Dyer Roger Sherman Silas Deane New York Isaac Low John Alsop John Jay James Duane Philip Livingston William Floyd Henry Wisner Simon Boerum New Jersey James Kinsey William Livingston Stephen Crane Richard Smith John De Hart Pennsylvania Joseph Galloway John Dickinson Charles Humphreys Thomas Mifflin Edward Biddle John Morton George Ross The Lower Counties Caesar Rodney Thomas McKean George Read Maryland Matthew Tilghman Thomas Johnson , Junr William Paca Samuel Chase Virginia Richard Henry Lee George Washington Patrick Henry , Junr Richard Bland Benjamin Harrison Edmund Pendleton North Carolina William Hooper Joseph Hewes Richard Caswell South Carolina Henry Middleton Thomas Lynch Christopher Gadsden John Rutledge Edward Rutledge See also Virginia Association First Continental Congress Carpenters ' Hall Declaration and Resolves of the First Continental Congress Retrieved from `` https://en.wikipedia.org/w/index.php?title=Founding_Fathers_of_the_United_States&oldid=815247535 '' Categories : Age of Enlightenment American Revolution Articles about multiple people Patriots in the American Revolution Political leaders of the American Revolution National founders Hidden categories : Webarchive template wayback links Pages with DOIs inactive since 2017 Use mdy dates from April 2011 Talk Read Contents About Wikipedia Wikiquote Bân - lâm - gú Башҡортса Bikol Central Български Brezhoneg Català Čeština Cymraeg Deutsch Ελληνικά Español Esperanto فارسی Français 한국어 Հայերեն हिन्दी Ido Bahasa Indonesia Interlingua Íslenska Italiano עברית Latina Lietuvių Magyar Bahasa Melayu Nederlands 日本 語 Norsk Polski Português Română\n",
      "Founding Fathers of the United States\n",
      "Founding Fathers of the United States - wikipedia Founding Fathers of the United States Jump to : navigation , search Declaration of Independence , a painting by John Trumbull depicting the Committee of Five presenting their draft to the Congress on June 28 , 1776 Signature page of Treaty of Paris ( 1783 ) ; the treaty was negotiated by John Adams , Benjamin Franklin and John Jay . The Founding Fathers of the United States were those individuals of the Thirteen Colonies in North America who led the American Revolution against the authority of the British Crown in word and deed and contributed to the establishment of the United States of America . Historian Richard B. Morris in 1973 identified the following seven figures as the key Founding Fathers : John Adams , Benjamin Franklin , Alexander Hamilton , John Jay , Thomas Jefferson , James Madison , and George Washington . Adams , Jefferson , and Franklin were members of the Committee of Five that drafted the Declaration of Independence . Hamilton , Madison , and Jay were authors of The Federalist Papers , advocating ratification of the Constitution . The constitutions drafted by Jay and Adams for their respective states of New York ( 1777 ) and Massachusetts ( 1780 ) were heavily relied upon when creating language for the US Constitution Jay , Adams and Franklin negotiated the Treaty of Paris ( 1783 ) that would end the American Revolutionary War . Washington was Commander -\n",
      "Founding Fathers of the United States\n",
      "Prior to , and during the 19th century , they were referred to as simply the `` Fathers '' . The term has been used to describe the founders and first settlers of the original royal colonies . Contents ( hide ) 1 Background 2 Interesting facts and commonalities 2.1 Education 2.1. 1 Colleges attended 2.1. 2 Advanced degrees and apprenticeships 2.1. 2.1 Doctors of medicine 2.1. 2.2 Theology 2.1. 2.3 Legal apprenticeships 2.1. 3 Self - taught or little formal education 2.2 Demographics 2.3 Political experience 2.4 Occupations and finances 2.5 Religion 2.6 Ownership of slaves and position on slavery 2.7 Attendance at conventions 2.8 Spouses and children 2.9 Charters of freedom and historical documents of the United States 2.10 Post-constitution life 2.11 Youth and longevity 2.12 Founders who were not signatories or delegates 3 Legacy 3.1 Institutions formed by Founders 3.2 Scholarship on the Founders 3.2. 1 Living historians whose focus is the Founding Fathers 3.2. 2 Noted collections of the Founding Fathers 3.3 In stage and film 3.4 Children 's books 4 See also 5 Notes 6 References 7 External links Background ( edit ) The Albany Congress of 1754 was a conference attended by seven colonies , which presaged later efforts at cooperation . The Stamp Act Congress of 1765 included representatives from nine colonies . The First Continental Congress met briefly in Philadelphia , Pennsylvania in 1774 , consisting of fifty - six delegates from twelve of the thirteen colonies ( excluding Georgia ) that\n",
      "\n",
      "\n",
      "=========\n",
      "Question =  who played in the super bowl in 2013?\n",
      "Answer =  Baltimore Ravens\n",
      "Expected Answer(s) (may not be appear with exact wording in the dataset) =  Baltimore Ravens::San Francisco 49ers\n",
      "\n",
      "\n",
      "Source documents:\n",
      "Super Bowl XLVII\n",
      "responded to the claim on Twitter in jest , tweeting `` There is no conspiracy . I pulled the plug . '' Box score ( edit ) Super Bowl XLVII : Baltimore Ravens 34 , San Francisco 49ers 31 Total Ravens ( AFC ) 7 14 7 6 34 49ers ( NFC ) 17 8 31 at Mercedes - Benz Superdome in New Orleans , Louisiana Date : February 3 , 2013 Game time : 5 : 31 p.m. CST Game weather : Played indoors ( dome stadium ) Game attendance : 71,024 Referee : Jerome Boger TV announcers ( CBS ) : Jim Nantz , Phil Simms , Steve Tasker , Solomon Wilcots Gamebook ( hide ) Scoring summary Quarter Time Drive Team Scoring information Score Plays Yards TOP BAL SF 10 : 36 6 51 2 : 29 BAL Anquan Boldin 13 - yard touchdown reception from Joe Flacco , Justin Tucker kick good 7 0 3 : 58 12 62 6 : 38 SF 36 - yard field goal by David Akers 7 7 : 10 10 75 4 : 43 BAL Dennis Pitta 1 - yard touchdown reception from Flacco , Tucker kick good 14 1 : 45 56 0 : 22 BAL Jacoby Jones 56 - yard touchdown reception from Flacco , Tucker kick good 21 0 : 00 8 71 1 : 45 SF 27 - yard field goal by Akers 21 6 14 : 49 -- -- -- BAL J. Jones 108 -\n",
      "Super Bowl XLVII\n",
      "for the 2012 season . The Ravens defeated the 49ers by the score of 34 -- 31 , handing the 49ers their first Super Bowl loss in franchise history . The game was played on February 3 , 2013 , at Mercedes - Benz Superdome in New Orleans , Louisiana . This was the tenth Super Bowl to be played in New Orleans , equaling Miami 's record of ten in an individual city . For the first time in Super Bowl history , the game featured two brothers coaching against each other -- Jim and John Harbaugh , head coaches of the San Francisco 49ers and Baltimore Ravens , respectively -- earning it the nickname Harbaugh Bowl . In addition , Super Bowl XLVII was the first to feature two teams that had undefeated records in previous Super Bowl games ( Baltimore , 1 -- 0 ; San Francisco , 5 -- 0 ) . The 49ers , who posted a regular - season record of 11 -- 4 -- 1 , entered the game seeking their sixth Super Bowl win in team history ( and first since Super Bowl XXIX at the end of the 1994 season ) , which would have tied the Pittsburgh Steelers for the most by a franchise . The Ravens , who posted a 10 -- 6 regular - season record , made their second Super Bowl appearance in 12 years , having previously won Super Bowl XXXV . Ray Lewis , the\n",
      "Super Bowl XLVII\n",
      "preview : A minute - by - minute breakdown '' . USA Today . Retrieved February 2 , 2013 . Jump up ^ `` Beyonce half time performance '' . NFL.Com . February 4 , 2013 . Retrieved February 5 , 2013 . Jump up ^ `` Beyonce wows at half - time show '' . BBC News . February 4 , 2013 . Retrieved February 5 , 2013 . Jump up ^ `` Beyonce Draws Estimated 104 Million to Super Bowl Halftime '' . ^ Jump up to : `` Play - by - Play '' . ESPN . February 3 , 2013 . Retrieved February 4 , 2013 . Jump up ^ Inman , Cam ( February 3 , 2013 ) . `` Super Bowl 2013 : San Francisco 49ers ' furious comeback falls short in 34 -- 31 loss to Baltimore Ravens -- San Jose Mercury News '' . San Jose Mercury News . Retrieved February 4 , 2013 . ^ Jump up to : `` Jacoby Jones returns kick 108 yards '' . ESPN.com . February 4 , 2013 . Retrieved April 24 , 2016 . Jump up ^ `` Watch Baltimore Ravens vs. Denver Broncos ( 01 / 12 / 2013 ) '' . NFL . Retrieved February 4 , 2013 . ^ Jump up to : Rosenthal , Gregg ( February 3 , 2013 ) . `` Jacoby Jones ' 108 - yard return TD a Super Bowl record '' . NFL . Retrieved\n",
      "Super Bowl XLVII\n",
      "MVP Award '' . Forbes.com . February 4 , 2013 . Retrieved February 6 , 2013 . Jump up ^ Heitner , Darren ( April 18 , 2013 ) . `` Is It Worth Spending $4 Million On A Super Bowl Commercial ? '' . Forbes . Retrieved February 4 , 2013 . Jump up ^ Collins , Scott ( February 5 , 2013 ) . `` Super Bowl ratings dip slightly from last year '' . Los Angeles Times . Retrieved February 5 , 2013 . ^ Jump up to : `` New Orleans to host 10th Super Bowl in 2013 '' . ESPN.com . Associated Press . May 19 , 2009 . Retrieved January 14 , 2011 . Jump up ^ Ally Burguieres Designs Official NFL Beads with Courtyard by Marriott for SuperBowl -- WGNO -- YouTube on YouTube Jump up ^ Wilner , Barry ( January 21 , 2013 ) . `` Ravens dominate Pats , set up ' Harbaugh Bowl ' '' . NBC Sports . Associated Press . Retrieved January 21 , 2013 . Jump up ^ Brinson , Will . `` Sorting the Sunday Pile , Divisional Round : Harbaugh Bowl still lives '' . CBSSports.com . CBS Interactive . Retrieved January 21 , 2013 . Jump up ^ Schwab , Frank . `` HarBowl ! Harbaugh brothers Jim and John to square off in Super Bowl '' . Yahoo ! Sports . Retrieved January 21 , 2003 . Jump up ^ `` The\n",
      "\n",
      "\n",
      "=========\n",
      "Question =  when did bucharest become the capital of romania?\n",
      "Answer =  1862\n",
      "Expected Answer(s) (may not be appear with exact wording in the dataset) =  1862\n",
      "\n",
      "\n",
      "Source documents:\n",
      "Bucharest\n",
      "EU ) Density 9,237 / km ( 23,920 / sq mi ) Metro 2,412,530 Demonym ( s ) Bucharester ( en ) bucureștean , bucureșteancă ( ro ) Time zone UTC + 2 ( EET ) Summer ( DST ) UTC + 3 ( EEST ) Postal code 0xxxxx Area code ( s ) + 40 x1 Car plate prefix GDP ( Nominal ) € 47 billion - Per capita PPP € 40,400 -- Per capita € 20,000 Website pmb.ro Romanian law stipulates that Bucharest has a special administrative status which is equal to that of a County ; Bucharest metropolitan area is a proposed project . Bucharest ( / ˈb ( j ) uː kərɛst / ; Romanian : București ( bukuˈreʃtj ) ( listen ) ) is the capital and largest city of Romania , as well as its cultural , industrial , and financial centre . It is located in the southeast of the country , at 44 ° 25 ′ 57 '' N 26 ° 06 ′ 14 '' E ﻿ / ﻿ 44.43250 ° N 26.10389 ° E ﻿ / 44.43250 ; 26.10389 Coordinates : 44 ° 25 ′ 57 '' N 26 ° 06 ′ 14 '' E ﻿ / ﻿ 44.43250 ° N 26.10389 ° E ﻿ / 44.43250 ; 26.10389 , on the banks of the Dâmbovița River , less than 60 km ( 37.3 mi ) north of the Danube River and the Bulgarian border . Bucharest was first mentioned in\n",
      "Bucharest\n",
      "Bucharest - wikipedia Bucharest This article contains too many pictures , charts or diagrams for its overall length . Please help to improve this article by removing or adjusting the sandwiching of text between two images and indiscriminate galleries in accordance with the Manual of Style on use of images . ( Learn how and when to remove this template message ) Capital city in None , Romania Bucharest București Capital city From top , left to right : Central University Library Palace of the Parliament Arcul de Triumf Romanian Athenaeum Modernist skyscrapers CEC Palace Royal Palace of Bucharest Flag Coat of arms Nickname ( s ) : Micul Paris ( The Little Paris ) , Paris of the East Motto ( s ) : Patria și dreptul meu ( The Homeland and my right ) Bucharest Location of Bucharest in Romania Show map of Romania Bucharest Bucharest ( Europe ) Show map of Europe Coordinates : 44 ° 25 ′ 57 '' N 26 ° 6 ′ 14 '' E ﻿ / ﻿ 44.43250 ° N 26.10389 ° E ﻿ / 44.43250 ; 26.10389 Country Romania County None First attested 1459 Government Mayor Gabriela Firea ( PSD ) Prefect Speranţa Cliseru Area Capital city 228 km ( 88 sq mi ) Urban 285 km ( 110 sq mi ) Elevation 55.8 -- 91.5 m ( 183.1 -- 300.2 ft ) Population ( 2011 ) Capital city 1,883,425 Estimate ( 2016 ) 2,106,144 Rank 1st in Romania ( 6th in\n",
      "Bucharest\n",
      "destroying a third of the city . Ottoman massacre of Greek irregulars in Bucharest ( August , 1821 ) In 1862 , after Wallachia and Moldavia were united to form the Principality of Romania , Bucharest became the new nation 's capital city . In 1881 , it became the political centre of the newly proclaimed Kingdom of Romania under King Carol I. During the second half of the 19th century , the city 's population increased dramatically , and a new period of urban development began . During this period , gas lighting , horse - drawn trams , and limited electrification were introduced . The Dâmbovița River was also massively channelled in 1883 , thus putting a stop to previously endemic floods like the 1865 flooding of Bucharest . The Fortifications of Bucharest were built . The extravagant architecture and cosmopolitan high culture of this period won Bucharest the nickname of `` Little Paris '' ( Micul Paris ) of the east , with Calea Victoriei as its Champs - Élysées . I.C. Brătianu Boulevard in the 1930s Between 6 December 1916 and November 1918 , the city was occupied by German forces as a result of the Battle of Bucharest , with the official capital temporarily moved to Iași , in the Moldavia region . After World War I , Bucharest became the capital of Greater Romania . In the interwar years , Bucharest 's urban development continued , with the city gaining an average of 30,000\n",
      "Bucharest\n",
      "documents in 1459 . It became the capital of Romania in 1862 and is the centre of Romanian media , culture , and art . Its architecture is a mix of historical ( neo-classical ) , interbellum ( Bauhaus and art deco ) , communist - era and modern . In the period between the two World Wars , the city 's elegant architecture and the sophistication of its elite earned Bucharest the nickname of `` Little Paris '' ( Micul Paris ) . Although buildings and districts in the historic city centre were heavily damaged or destroyed by war , earthquakes , and above all Nicolae Ceaușescu 's program of systematization , many survived . In recent years , the city has been experiencing an economic and cultural boom . In 2016 , the historical city centre was listed as `` endangered '' by the World Monuments Watch . According to the 2011 census , 1,883,425 inhabitants live within the city limits , a decrease from the 2002 census . Adding the satellite towns around the urban area , the proposed metropolitan area of Bucharest would have a population of 2.27 million people . According to Eurostat , Bucharest has a functional urban area of 2,412,530 residents ( as of 2015 ) . Bucharest is the sixth - largest city in the European Union by population within city limits , after London , Berlin , Madrid , Rome , and Paris . Economically , Bucharest is the most prosperous\n",
      "\n",
      "\n"
     ]
    }
   ],
   "source": [
    "for idx, result in enumerate(results):\n",
    "    print(\"=========\")\n",
    "    print(\"Question = \", result['query'])\n",
    "    print(\"Answer = \", result['result'])\n",
    "    print(\"Expected Answer(s) (may not be appear with exact wording in the dataset) = \", questions_and_answers[result['query']])\n",
    "    print(\"\\n\")\n",
    "    print(\"Source documents:\")\n",
    "    print(*(x.page_content for x in result['source_documents']), sep='\\n')\n",
    "    print(\"\\n\")\n",
    "    "
   ]
  },
  {
   "attachments": {},
   "cell_type": "markdown",
   "metadata": {},
   "source": [
    "---"
   ]
  },
  {
   "attachments": {},
   "cell_type": "markdown",
   "metadata": {},
   "source": [
    "Copyright © 2023 IBM. This notebook and its source code are released under the terms of the MIT License."
   ]
  }
 ],
 "metadata": {
  "kernelspec": {
   "display_name": "BIG-bench",
   "language": "python",
   "name": "python3"
  },
  "language_info": {
   "codemirror_mode": {
    "name": "ipython",
    "version": 3
   },
   "file_extension": ".py",
   "mimetype": "text/x-python",
   "name": "python",
   "nbconvert_exporter": "python",
   "pygments_lexer": "ipython3",
   "version": "3.9.6"
  }
 },
 "nbformat": 4,
 "nbformat_minor": 4
}
