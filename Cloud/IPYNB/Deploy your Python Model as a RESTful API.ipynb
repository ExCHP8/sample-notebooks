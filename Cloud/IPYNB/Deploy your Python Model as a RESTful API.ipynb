{
 "cells": [
  {
   "cell_type": "markdown",
   "metadata": {},
   "source": [
    "<div style=\"background:#F5F7FA; height:100px; padding: 2em; font-size:14px;\">\n",
    "<span style=\"font-size:18px;color:#152935;\">Want to do more?</span><span style=\"border: 1px solid #3d70b2;padding: 15px;float:right;margin-right:40px; color:#3d70b2; \"><a href=\"https://ibm.co/wsnotebooks\" target=\"_blank\" style=\"color: #3d70b2;text-decoration: none;\">Sign Up</a></span><br>\n",
    "<span style=\"color:#5A6872;\"> Try out this notebook with your free trial of IBM Watson Studio.</span>\n",
    "</div>"
   ]
  },
  {
   "cell_type": "markdown",
   "metadata": {},
   "source": [
    "# Deploy your Python Model as a RESTful API\n",
    "This tutorial demonstrates how to deploy an arbitrary python function as an api with IBM Cloud and Flask -- complete with clean, intuitive Swagger API documentation. Our python function will be a simple implementation of the <a href=\"https://en.wikipedia.org/wiki/Sieve_of_Eratosthenes\" target=\"_blank\" rel=\"noopener no referrer\">Sieve of Eratosthenes</a>, which takes one integer parameter $n$ and returns all primes $p$ such that $p \\leq{n}$. \n",
    "\n",
    "While completing this tutorial, you will:\n",
    "\n",
    " - Create an algorithm (or some arbitrary function) using Notebooks in Watson Studio\n",
    " - Persist the function\n",
    " - Develop a RESTful API with Swagger documentation using Flask\n",
    " - Deploy your API to IBM Cloud\n",
    " \n",
    "Be sure to read the [companion article on our blog](https://datascience.ibm.com/blog/deploy-your-python-functions-as-a-rest-api/). \n",
    "\n",
    "This notebook runs on Python with Spark 2.1."
   ]
  },
  {
   "cell_type": "markdown",
   "metadata": {},
   "source": [
    "## Table of contents\n",
    "1. [Implement the \"Sieve of Eratosthenes\"](#implement)<br/>\n",
    "2. [Develop a RESTful API](#restfulapi)<br/> \n",
    "3. [Include the supporting documents](#supportingdocs)  \n",
    "4. [Deploy to IBM Cloud](#deploy)\n",
    "5. [Test the API](#test)"
   ]
  },
  {
   "cell_type": "markdown",
   "metadata": {
    "collapsed": true
   },
   "source": [
    "## 1. Implement the \"Sieve of Eratosthenes\"<a class=\"anchor\" id=\"implement\"></a>\n",
    "First, we need to create a folder which will contain all of the files needed for our application. I'll name mine `sieve`. "
   ]
  },
  {
   "cell_type": "code",
   "execution_count": null,
   "metadata": {},
   "outputs": [],
   "source": [
    "!mkdir sieve"
   ]
  },
  {
   "cell_type": "markdown",
   "metadata": {},
   "source": [
    "Change to that directory and let's get started. "
   ]
  },
  {
   "cell_type": "code",
   "execution_count": 3,
   "metadata": {},
   "outputs": [
    {
     "name": "stdout",
     "output_type": "stream",
     "text": [
      "/gpfs/global_fs01/sym_shared/YPProdSpark/user/sf9b-795b2b888c32b6-772f4e1cd93d/notebook/work/sieve\n"
     ]
    }
   ],
   "source": [
    "cd sieve"
   ]
  },
  {
   "cell_type": "markdown",
   "metadata": {},
   "source": [
    "The Sieve of Eratosthenes is an ancient prime number sieve which, roughly, finds all the primes up to a given upper bound by striking multiples from the list of candidate primes. The algorithm looks like this:"
   ]
  },
  {
   "cell_type": "markdown",
   "metadata": {},
   "source": [
    "![alt_text](https://upload.wikimedia.org/wikipedia/commons/b/b9/Sieve_of_Eratosthenes_animation.gif) [[1]](https://en.wikipedia.org/wiki/GNU_Free_Documentation_License)"
   ]
  },
  {
   "cell_type": "markdown",
   "metadata": {},
   "source": [
    "Let's write the function in pure Python. The exact implementation is not the focus of this article, but it is cool to think about. "
   ]
  },
  {
   "cell_type": "code",
   "execution_count": 4,
   "metadata": {},
   "outputs": [],
   "source": [
    "def Eratosthenes(upper_bound):\n",
    "    # Return a list of the primes below the upper_bound\n",
    "    # first, create a list with all primes set to `True`\n",
    "    prime = [True] * upper_bound\n",
    "    for p in range(3, upper_bound, 2):\n",
    "        if p > (upper_bound**.5):\n",
    "            break\n",
    "        if prime[p]==True:\n",
    "            # remember that all multiples of p are not prime, whether or not p is prime\n",
    "            for i in range(p * p, upper_bound, 2 * p):\n",
    "                prime[i] = False\n",
    "    # don't forget about the number \"2\"\n",
    "    return [2] + [p for p in range(3, upper_bound, 2) if prime[p]]"
   ]
  },
  {
   "cell_type": "code",
   "execution_count": 5,
   "metadata": {},
   "outputs": [
    {
     "data": {
      "text/plain": [
       "[2, 3, 5, 7, 11, 13, 17, 19]"
      ]
     },
     "execution_count": 5,
     "metadata": {},
     "output_type": "execute_result"
    }
   ],
   "source": [
    "Eratosthenes(22)"
   ]
  },
  {
   "cell_type": "markdown",
   "metadata": {},
   "source": [
    "We can use some <a href=\"http://ipython.readthedocs.io/en/stable/interactive/magics.html\" target=\"_blank\" rel=\"noopener no referrer\">built-in Jupyter magic</a> to write files. We'll put our function in this file for use later in the application. You can define as many functions as you'd like in this file. \n",
    "\n",
    "To write, simply prepend this line to the code cell that we want to write `%%write_file <file_name>` \n",
    "\n",
    "We'll name this `prime_sieve.py`. "
   ]
  },
  {
   "cell_type": "code",
   "execution_count": 6,
   "metadata": {},
   "outputs": [
    {
     "name": "stdout",
     "output_type": "stream",
     "text": [
      "Overwriting prime_sieve.py\n"
     ]
    }
   ],
   "source": [
    "%%writefile prime_sieve.py\n",
    "def Eratosthenes(upper_bound):\n",
    "    # Return a list of the primes below the upper_bound\n",
    "    # first, create a list with all values set to true\n",
    "    prime = [True] * upper_bound\n",
    "    for p in range(3, upper_bound, 2):\n",
    "        if p > (upper_bound**.5):\n",
    "            break\n",
    "        if prime[p]:\n",
    "            # remember that all multiples of p are not prime, whether or not p is prime\n",
    "            for i in range(p * p, upper_bound, 2 * p):\n",
    "                prime[i] = False\n",
    "    # don't forget about the number \"2\"\n",
    "    return [2] + [p for p in range(3, upper_bound, 2) if prime[p]]"
   ]
  },
  {
   "cell_type": "markdown",
   "metadata": {},
   "source": [
    "We'll save this function into a file, so we can make use of it later."
   ]
  },
  {
   "cell_type": "markdown",
   "metadata": {},
   "source": [
    "## 2. Develop a RESTful API<a class=\"anchor\" id=\"restfulapi\"></a>\n",
    "We'll use a few tools to develop the API, like <a href=\"https://www.cloudfoundry.org\" target=\"_blank\" rel=\"noopener no referrer\">Cloud Foundry</a> and <a href=\"http://flask.pocoo.org/\" target=\"_blank\" rel=\"noopener no referrer\">Flask</a>. This part of the tutorial is an expansion of a <a href=\"https://github.com/IBM-Bluemix/get-started-python\" target=\"_blank\" rel=\"noopener no referrer\">previous guide</a>. From within a Notebook, we can write files and execute shell commands, which means that we can develop the app entirely within Watson Studio notebooks. \n"
   ]
  },
  {
   "cell_type": "code",
   "execution_count": 7,
   "metadata": {},
   "outputs": [
    {
     "name": "stdout",
     "output_type": "stream",
     "text": [
      "Overwriting my_flask_app.py\n"
     ]
    }
   ],
   "source": [
    "%%writefile my_flask_app.py\n",
    "from flask import Flask, Response, jsonify\n",
    "from flask_restplus import Api, Resource, fields, reqparse\n",
    "from flask_cors import CORS, cross_origin\n",
    "import os\n",
    "\n",
    "# the app\n",
    "app = Flask(__name__)\n",
    "CORS(app)\n",
    "api = Api(app, version='1.0', title='APIs for Python Functions', validate=False)\n",
    "# we can create namespace to organize the api and docs\n",
    "ns = api.namespace('primality', 'Returns a list of all primes below a given upper bound')\n",
    "\n",
    "# load the algo\n",
    "from prime_sieve import Eratosthenes as algo\n",
    "\n",
    "\"\"\"\n",
    "\n",
    "We import our function `Erasosthenes` from the file prime_sieve.py. \n",
    "You create all the classes and functions that you want in that file, \n",
    "and import them into the app. \n",
    "\n",
    "\"\"\"\n",
    "\n",
    "# model the input data\n",
    "model_input = api.model('Enter the upper bound:', {\n",
    "    \"UPPER_BOUND\": fields.Integer(maximum=10e16)})\n",
    "\n",
    "# the input data type here is Integer. You can change this to whatever works for your app.\n",
    "\n",
    "# On IBM Cloud, get the port number from the environment variable PORT\n",
    "# When running this app on the local machine, default the port to 8080\n",
    "\n",
    "port = int(os.getenv('PORT', 8080))\n",
    "\n",
    "\n",
    "# The ENDPOINT\n",
    "@ns.route('/sieve') # the endpoint\n",
    "class SIEVE(Resource):\n",
    "    @api.response(200, \"Success\", model_input) # return a formatted response\n",
    "    @api.expect(model_input) # expcect the required the input data\n",
    "    def post(self): # prefer POST\n",
    "        parser = reqparse.RequestParser() # parse the args\n",
    "        parser.add_argument('UPPER_BOUND', type=int) # get the data\n",
    "        args = parser.parse_args()\n",
    "        inp = int(args[\"UPPER_BOUND\"]) # our input data\n",
    "        result = algo(inp) # apply algo\n",
    "        return jsonify({\"primes\": result})\n",
    "# run      \n",
    "if __name__ == '__main__':\n",
    "    app.run(host='0.0.0.0', port=port, debug=True)"
   ]
  },
  {
   "cell_type": "markdown",
   "metadata": {},
   "source": [
    "## 3. Include the supporting documents<a class=\"anchor\" id=\"supportingdocs\"></a>\n",
    "We'll need to include some other files in order for our api to behave properly when we try to deploy the app to IBM Cloud. These files are:\n",
    "- `manifest.yml`, this includes basic information about your app, such as the name and memory \n",
    "- `setup.py`\n",
    "- `README.md`\n",
    "- `requirements.txt`\n",
    "- `Procfile`\n"
   ]
  },
  {
   "cell_type": "code",
   "execution_count": 8,
   "metadata": {},
   "outputs": [
    {
     "name": "stdout",
     "output_type": "stream",
     "text": [
      "Overwriting manifest.yml\n"
     ]
    }
   ],
   "source": [
    "%%writefile manifest.yml\n",
    "---\n",
    "applications:\n",
    " - name: PRIMALITY_UNIQUE # name your app whatever you'd like\n",
    "   random-route: true\n",
    "   memory: 256M # can adjust this based on your service "
   ]
  },
  {
   "cell_type": "code",
   "execution_count": 9,
   "metadata": {},
   "outputs": [
    {
     "name": "stdout",
     "output_type": "stream",
     "text": [
      "Overwriting Procfile\n"
     ]
    }
   ],
   "source": [
    "%%writefile Procfile\n",
    "web: python my_flask_app.py"
   ]
  },
  {
   "cell_type": "code",
   "execution_count": 10,
   "metadata": {},
   "outputs": [
    {
     "name": "stdout",
     "output_type": "stream",
     "text": [
      "Overwriting README.md\n"
     ]
    }
   ],
   "source": [
    "%%writefile README.md\n",
    "\"Getting Started with Python Algos on IBM Cloud\""
   ]
  },
  {
   "cell_type": "code",
   "execution_count": 11,
   "metadata": {},
   "outputs": [
    {
     "name": "stdout",
     "output_type": "stream",
     "text": [
      "Overwriting requirements.txt\n"
     ]
    }
   ],
   "source": [
    "%%writefile requirements.txt\n",
    "Flask==0.11.1\n",
    "cloudant==2.4.0\n",
    "flasgger==0.6.4\n",
    "Flask-Cors==3.0.2\n",
    "Flask-RESTful==0.3.6\n",
    "flask-restplus==0.9.2\n",
    "gevent==1.2.1"
   ]
  },
  {
   "cell_type": "code",
   "execution_count": 12,
   "metadata": {},
   "outputs": [
    {
     "name": "stdout",
     "output_type": "stream",
     "text": [
      "Overwriting setup.py\n"
     ]
    }
   ],
   "source": [
    "%%writefile setup.py\n",
    "\"\"\"\n",
    "Hello World app for deploying Python functions as APIs on IBM Cloud\n",
    "\"\"\"\n",
    "\n",
    "# Always prefer setuptools over distutils\n",
    "from setuptools import setup, find_packages\n",
    "# To use a consistent encoding\n",
    "from codecs import open\n",
    "from os import path\n",
    "\n",
    "here = path.abspath(path.dirname(__file__))\n",
    "\n",
    "# Get the long description from the README file\n",
    "with open(path.join(here, 'README.md'), encoding='utf-8') as f:\n",
    "    long_description = f.read()\n",
    "\n",
    "setup(\n",
    "    name='primality_test',\n",
    "    version='1.0.0',\n",
    "    description='Running Python apps on IBM Cloud',\n",
    "    long_description=long_description,\n",
    "    url='https://github.com/IBM-Cloud/get-started-python',\n",
    "    license='Apache-2.0'\n",
    ")\n"
   ]
  },
  {
   "cell_type": "code",
   "execution_count": 13,
   "metadata": {},
   "outputs": [
    {
     "name": "stdout",
     "output_type": "stream",
     "text": [
      "Overwriting LICENSE\n"
     ]
    }
   ],
   "source": [
    "%%writefile LICENSE\n",
    "\"\"\"Apache License\n",
    "                           Version 2.0, January 2004\n",
    "                        http://www.apache.org/licenses/\n",
    "\n",
    "   TERMS AND CONDITIONS FOR USE, REPRODUCTION, AND DISTRIBUTION ...\"\"\""
   ]
  },
  {
   "cell_type": "markdown",
   "metadata": {},
   "source": [
    "## 4. Deploy to IBM Cloud<a class=\"anchor\" id=\"deploy\"></a>\n",
    "Now, we'll deploy the application to IBM Cloud. To accomplish this, you'll need a <a href=\"https://console.bluemix.net/registration/\" target=\"_blank\" rel=\"noopener no referrer\">IBM Cloud Account</a>. For more information on this part of the tutorial, we have some <a href=\"https://www.ibm.com/blogs/bluemix/2015/03/simple-hello-world-python-app-using-flask/\" target=\"_blank\" rel=\"noopener no referrer\">helpful documentation</a> on deploying an app after it's been created. \n",
    "\n",
    "We have written all of the files needed for our app to run. In order to deploy to IBM Cloud (and retain the most felixibility when it comes to debugging, etc), I suggest that you copy this notebook and run all the previous cells. If you naviagte to `Kernel` and select `Restart & Run all`, this will happen automatically. Then, in your local directory, you'll have all the necessary files to proceed to these next steps. \n",
    "\n",
    "One alternative is to create the above files yourself with your favorite text editor. \n",
    "\n",
    "Ok, let's deploy this app. You'll need basic familiarity with the command line for best results. \n",
    "\n",
    "1. Install <a href=\"https://github.com/cloudfoundry/cli/releases?cm_mc_uid=85234897373114979704601&cm_mc_sid_50200000=1497971073&cm_mc_sid_52640000=1497900876\" target=\"_blank\" rel=\"noopener no referrer\">Cloud Foundry command line</a>. This open source service works with IBM Cloud to deploy apps. \n",
    "\n",
    "2. Open the terminal or command prompt. \n",
    "    - Mac – Click the finder icon in the top right, search for terminal and open that\n",
    "    - Linux – Depends on the distro, but you probably know where it is. In the menu look\n",
    "    for accessories. \n",
    "    - Windows – Click the start button, search for cmd, open. \n",
    "    \n",
    "3. Log in to IBM Cloud and run the following command: \n",
    "\n",
    "   `cf login -a https://api.ng.bluemix.net`\n",
    "   \n",
    "   ![login1](https://datascience.ibm.com/blog/content/images/2017/06/Screen-Shot-2017-06-20-at-4.27.35-PM.png)\n",
    "   \n",
    "4. Enter your username and password. \n",
    "\n",
    "5. Push the app!\n",
    "   \n",
    "    `cf push <my_app_name>`\n",
    "   \n",
    "6. Replace your `<my_app_name>` with the name of the app in the `manifest.yml` file. Make sure your app name is unique. \n",
    "\n",
    "   ![log2](https://datascience.ibm.com/blog/content/images/2017/06/Screen-Shot-2017-06-20-at-4.38.21-PM.png)\n",
    "   \n",
    "\n",
    "That's it! The client returns a URL where you can find the API and documentation. Alternatively, you can log in to IBM Cloud with a Web browser and manage your API there. "
   ]
  },
  {
   "cell_type": "markdown",
   "metadata": {},
   "source": [
    "## 5. Test the API<a class=\"anchor\" id=\"test\"></a>"
   ]
  },
  {
   "cell_type": "code",
   "execution_count": 14,
   "metadata": {},
   "outputs": [],
   "source": [
    "import requests"
   ]
  },
  {
   "cell_type": "markdown",
   "metadata": {},
   "source": [
    ".... and read the docs!"
   ]
  },
  {
   "cell_type": "markdown",
   "metadata": {},
   "source": [
    "![the_docs](https://datascience.ibm.com/blog/content/images/2017/06/Screen-Shot-2017-06-20-at-4.47.14-PM.png)"
   ]
  },
  {
   "cell_type": "markdown",
   "metadata": {},
   "source": [
    "On a more serious note, you've created the documentation yourself. Just navigate to the IBM Cloud URL. You can interact with the documentation to test how different requests might be handled. Moving forward, the method we followed in this tutorial will work well for more complex python applications. Watson Studio makes it easy to prototype and deploy new models and applications. \n",
    "\n",
    "Stay tuned for more tutorials on the newest features of Watson Studio! "
   ]
  },
  {
   "cell_type": "markdown",
   "metadata": {},
   "source": [
    "### Authors\n",
    "\n",
    "**Adam Massachi** is a Data Science Intern with the Watson Studio and IBM Watson team at IBM. Before IBM, he worked on political campaigns for Democrats, building and managing large volunteer operations and contributing to campaign finance initiatives. Say hello [@adammassach](https://twitter.com/AdamMassach?ref_src=twsrc%5Egoogle%7Ctwcamp%5Eserp%7Ctwgr%5Eauthor)!"
   ]
  },
  {
   "cell_type": "markdown",
   "metadata": {},
   "source": [
    "### Citations\n",
    "\n",
    "[[1]](https://en.wikipedia.org/wiki/Sieve_of_Eratosthenes) The Sieve of Eratosthenes Wikipedia entry contains the graphic used above, available under the terms of the CC-BYSA 3.0 License. "
   ]
  },
  {
   "cell_type": "markdown",
   "metadata": {},
   "source": [
    "Copyright &copy; IBM Corp. 2017, 2018. This notebook and its source code are released under the terms of the MIT License."
   ]
  }
 ],
 "metadata": {
  "kernelspec": {
   "display_name": "Python 2 with Spark 2.1",
   "language": "python",
   "name": "python2-spark21"
  },
  "language_info": {
   "codemirror_mode": {
    "name": "ipython",
    "version": 2
   },
   "file_extension": ".py",
   "mimetype": "text/x-python",
   "name": "python",
   "nbconvert_exporter": "python",
   "pygments_lexer": "ipython2",
   "version": "2.7.11"
  }
 },
 "nbformat": 4,
 "nbformat_minor": 1
}
