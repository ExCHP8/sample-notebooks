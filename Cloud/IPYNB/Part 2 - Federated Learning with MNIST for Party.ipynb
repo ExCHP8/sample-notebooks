{
 "cells": [
  {
   "cell_type": "markdown",
   "metadata": {
    "id": "19ae639982f1495b8165d987f13bce99"
   },
   "source": [
    "# Part 2 - WML Federated Learning with MNIST for Party "
   ]
  },
  {
   "cell_type": "markdown",
   "metadata": {},
   "source": [
    "### Learning Goals\n",
    "\n",
    "When you complete the Part 2 - WML Federated Learning with MNIST for Party, you should know how to:\n",
    "\n",
    "- Load the data that you intend to use in the Federated Learning experiment.\n",
    "- Install IBM Federated Learning libraries.\n",
    "- Define a data handler. For more details on data handlers, see <a href = \"https://dataplatform.cloud.ibm.com/docs/content/wsj/analyze-data/fl-cus-dh.html?audience=wdp&context=cpdaas\" target=\"_blank\" rel=\"noopener no referrer\">Customizing the data handler</a>.\n",
    "- Configure the party to train data with the aggregator."
   ]
  },
  {
   "cell_type": "markdown",
   "metadata": {},
   "source": [
    "<div class=\"alert alert-block alert-info\">This notebook is intended to be run by the administrator or connecting party of the Federated Learning experiment.</div>\n",
    "</div>"
   ]
  },
  {
   "cell_type": "markdown",
   "metadata": {},
   "source": [
    "## Table of Contents\n",
    "\n",
    "1. [Load the data](#load)<br>\n",
    "2. [Install Federated Learning libraries](#install)<br>\n",
    "3. [Define a Data Handler](#data-handler)\n",
    "4. [Configure the party](#config)\n",
    "5. [Train with Federated Learning](#train)\n",
    "6. [Summary](#summary)"
   ]
  },
  {
   "cell_type": "markdown",
   "metadata": {},
   "source": [
    "<div class=\"alert alert-block alert-warning\">Before you run this notebook, you must have already run Part 1 - WML Federated Learning with MNIST for Admin. If you have not, open the notebook and run through that notebook first.</div>\n",
    "</div>"
   ]
  },
  {
   "cell_type": "markdown",
   "metadata": {},
   "source": [
    "<a id = \"load\"></a>\n",
    "## 1. Load the data"
   ]
  },
  {
   "cell_type": "markdown",
   "metadata": {},
   "source": [
    "### Paste Variables From Admin Notebook"
   ]
  },
  {
   "cell_type": "markdown",
   "metadata": {},
   "source": [
    "Paste in the ID credentials you got from the end of the Part 1 notebook. If you have not run through Part 1, open the notebook and run through it first."
   ]
  },
  {
   "cell_type": "code",
   "execution_count": 1,
   "metadata": {},
   "outputs": [],
   "source": [
    "WML_SERVICES_HOST = 'us-south.ml.cloud.ibm.com'\n",
    "IAM_APIKEY = 'xxx'\n",
    "RTS_ID = 'xxx'\n",
    "TRAINING_ID = 'xxx'"
   ]
  },
  {
   "cell_type": "markdown",
   "metadata": {},
   "source": [
    "<a id = \"1.1\"></a>\n",
    "### 1.1 Download MNIST handwritten digits dataset"
   ]
  },
  {
   "cell_type": "markdown",
   "metadata": {},
   "source": [
    "As the party, you must provide the dataset that you will use to train the Federated Learning model. In this tutorial, a dataset is provided by default, the MNIST handwritten digits dataset."
   ]
  },
  {
   "cell_type": "code",
   "execution_count": 2,
   "metadata": {},
   "outputs": [],
   "source": [
    "import requests\n",
    "\n",
    "dataset_resp = requests.get(\"https://api.dataplatform.cloud.ibm.com/v2/gallery-assets/entries/903188bb984a30f38bb889102a1baae5/data\",\n",
    "                            allow_redirects=True)\n",
    "\n",
    "f = open('MNIST-pkl.zip', 'wb')\n",
    "f.write(dataset_resp.content)\n",
    "f.close()"
   ]
  },
  {
   "cell_type": "code",
   "execution_count": 3,
   "metadata": {},
   "outputs": [
    {
     "name": "stdout",
     "output_type": "stream",
     "text": [
      "total 64M\r\n",
      "drwxr-x--- 2 wsuser watsonstudio 4.0K Dec  4 18:49 __MACOSX\r\n",
      "-rw-r----- 1 wsuser watsonstudio  13K Dec  4 18:49 mnist-keras-test-payload.json\r\n",
      "-rw-r----- 1 wsuser watsonstudio 7.5M Dec  4 18:49 mnist-keras-test.pkl\r\n",
      "-rw-r----- 1 wsuser watsonstudio  38M Dec  4 18:49 mnist-keras-train.pkl\r\n",
      "-rw-r----- 1 wsuser watsonstudio 7.5M Dec  4 18:49 mnist-keras-valid.pkl\r\n",
      "-rw-r----- 1 wsuser watsonstudio  11M Dec  4 18:49 MNIST-pkl.zip\r\n"
     ]
    }
   ],
   "source": [
    "import zipfile\n",
    "import os\n",
    "\n",
    "with zipfile.ZipFile(\"MNIST-pkl.zip\",\"r\") as file:\n",
    "    file.extractall()\n",
    "    \n",
    "!ls -lh"
   ]
  },
  {
   "cell_type": "markdown",
   "metadata": {},
   "source": [
    "<a id = \"install\"></a>\n",
    "## 2. Install Federated Learning libraries"
   ]
  },
  {
   "cell_type": "markdown",
   "metadata": {},
   "source": [
    "In this section, we will install the necessary libraries and other packages to call for Federated Learning with the Python client."
   ]
  },
  {
   "cell_type": "markdown",
   "metadata": {
    "id": "d12541158d2941aa8d36c7af3f50c400"
   },
   "source": [
    "<a id = \"2.1\"></a>\n",
    "### 2.1 Install the IBM WML SDK with FL"
   ]
  },
  {
   "cell_type": "markdown",
   "metadata": {},
   "source": [
    "This installs the IBM Watson Machine Learning CLI along with the whole software development package with Federated Learning."
   ]
  },
  {
   "cell_type": "code",
   "execution_count": 4,
   "metadata": {
    "id": "1fecb295722240438dbb382170cb1a12",
    "scrolled": true
   },
   "outputs": [
    {
     "name": "stdout",
     "output_type": "stream",
     "text": [
      "Requirement already satisfied: ibm_watson_machine_learning in /opt/conda/envs/Python-3.7-main/lib/python3.7/site-packages (1.0.43)\n",
      "Requirement already satisfied: urllib3 in /opt/conda/envs/Python-3.7-main/lib/python3.7/site-packages (from ibm_watson_machine_learning) (1.25.9)\n",
      "Requirement already satisfied: pandas<=1.0.5 in /opt/conda/envs/Python-3.7-main/lib/python3.7/site-packages (from ibm_watson_machine_learning) (1.0.5)\n",
      "Requirement already satisfied: certifi in /opt/conda/envs/Python-3.7-main/lib/python3.7/site-packages (from ibm_watson_machine_learning) (2020.11.8)\n",
      "Requirement already satisfied: lomond in /opt/conda/envs/Python-3.7-main/lib/python3.7/site-packages (from ibm_watson_machine_learning) (0.3.3)\n",
      "Requirement already satisfied: requests in /opt/conda/envs/Python-3.7-main/lib/python3.7/site-packages (from ibm_watson_machine_learning) (2.24.0)\n",
      "Requirement already satisfied: tabulate in /opt/conda/envs/Python-3.7-main/lib/python3.7/site-packages (from ibm_watson_machine_learning) (0.8.3)\n",
      "Requirement already satisfied: ibm-cos-sdk==2.7.* in /opt/conda/envs/Python-3.7-main/lib/python3.7/site-packages (from ibm_watson_machine_learning) (2.7.0)\n",
      "Requirement already satisfied: python-dateutil>=2.6.1 in /opt/conda/envs/Python-3.7-main/lib/python3.7/site-packages (from pandas<=1.0.5->ibm_watson_machine_learning) (2.8.1)\n",
      "Requirement already satisfied: pytz>=2017.2 in /opt/conda/envs/Python-3.7-main/lib/python3.7/site-packages (from pandas<=1.0.5->ibm_watson_machine_learning) (2020.1)\n",
      "Requirement already satisfied: numpy>=1.13.3 in /opt/conda/envs/Python-3.7-main/lib/python3.7/site-packages (from pandas<=1.0.5->ibm_watson_machine_learning) (1.18.5)\n",
      "Requirement already satisfied: six>=1.10.0 in /opt/conda/envs/Python-3.7-main/lib/python3.7/site-packages (from lomond->ibm_watson_machine_learning) (1.15.0)\n",
      "Requirement already satisfied: chardet<4,>=3.0.2 in /opt/conda/envs/Python-3.7-main/lib/python3.7/site-packages (from requests->ibm_watson_machine_learning) (3.0.4)\n",
      "Requirement already satisfied: idna<3,>=2.5 in /opt/conda/envs/Python-3.7-main/lib/python3.7/site-packages (from requests->ibm_watson_machine_learning) (2.9)\n",
      "Requirement already satisfied: ibm-cos-sdk-s3transfer==2.7.0 in /opt/conda/envs/Python-3.7-main/lib/python3.7/site-packages (from ibm-cos-sdk==2.7.*->ibm_watson_machine_learning) (2.7.0)\n",
      "Requirement already satisfied: jmespath<1.0.0,>=0.7.1 in /opt/conda/envs/Python-3.7-main/lib/python3.7/site-packages (from ibm-cos-sdk==2.7.*->ibm_watson_machine_learning) (0.9.4)\n",
      "Requirement already satisfied: ibm-cos-sdk-core==2.7.0 in /opt/conda/envs/Python-3.7-main/lib/python3.7/site-packages (from ibm-cos-sdk==2.7.*->ibm_watson_machine_learning) (2.7.0)\n",
      "Requirement already satisfied: docutils<0.16,>=0.10 in /opt/conda/envs/Python-3.7-main/lib/python3.7/site-packages (from ibm-cos-sdk-core==2.7.0->ibm-cos-sdk==2.7.*->ibm_watson_machine_learning) (0.15.2)\n"
     ]
    }
   ],
   "source": [
    "!pip install --upgrade ibm-watson-machine-learning"
   ]
  },
  {
   "cell_type": "markdown",
   "metadata": {
    "id": "80198527deb74dfab1f4b2600a51e344"
   },
   "source": [
    "<a id = \"2.2\"></a>\n",
    "### 2.2 Install the libraries"
   ]
  },
  {
   "cell_type": "code",
   "execution_count": 5,
   "metadata": {
    "id": "f092aeb16f18424c84eb50126fed75da"
   },
   "outputs": [
    {
     "name": "stdout",
     "output_type": "stream",
     "text": [
      "Collecting environs\n",
      "  Downloading environs-9.2.0-py2.py3-none-any.whl (11 kB)\n",
      "Collecting parse\n",
      "  Downloading parse-1.18.0.tar.gz (30 kB)\n",
      "Collecting websockets\n",
      "  Downloading websockets-8.1-cp37-cp37m-manylinux2010_x86_64.whl (79 kB)\n",
      "\u001b[K     |████████████████████████████████| 79 kB 9.8 MB/s  eta 0:00:01\n",
      "\u001b[?25hCollecting jsonpickle\n",
      "  Downloading jsonpickle-1.4.2-py2.py3-none-any.whl (36 kB)\n",
      "Requirement already satisfied: pandas in /opt/conda/envs/Python-3.7-main/lib/python3.7/site-packages (1.0.5)\n",
      "Requirement already satisfied: pytest in /opt/conda/envs/Python-3.7-main/lib/python3.7/site-packages (5.4.3)\n",
      "Requirement already satisfied: pyYAML in /opt/conda/envs/Python-3.7-main/lib/python3.7/site-packages (5.3.1)\n",
      "Requirement already satisfied: requests in /opt/conda/envs/Python-3.7-main/lib/python3.7/site-packages (2.24.0)\n",
      "Collecting pathlib2\n",
      "  Downloading pathlib2-2.3.5-py2.py3-none-any.whl (18 kB)\n",
      "Collecting psutil\n",
      "  Downloading psutil-5.7.3.tar.gz (465 kB)\n",
      "\u001b[K     |████████████████████████████████| 465 kB 38.3 MB/s eta 0:00:01\n",
      "\u001b[?25hCollecting setproctitle\n",
      "  Downloading setproctitle-1.2.1-cp37-cp37m-manylinux1_x86_64.whl (36 kB)\n",
      "Requirement already satisfied: tabulate in /opt/conda/envs/Python-3.7-main/lib/python3.7/site-packages (0.8.3)\n",
      "Collecting lz4\n",
      "  Downloading lz4-3.1.1-cp37-cp37m-manylinux2010_x86_64.whl (1.8 MB)\n",
      "\u001b[K     |████████████████████████████████| 1.8 MB 34.8 MB/s eta 0:00:01\n",
      "\u001b[?25hCollecting opencv-python\n",
      "  Downloading opencv_python-4.4.0.46-cp37-cp37m-manylinux2014_x86_64.whl (49.5 MB)\n",
      "\u001b[K     |████████████████████████████████| 49.5 MB 309 kB/s  eta 0:00:01\n",
      "\u001b[?25hCollecting gym\n",
      "  Downloading gym-0.17.3.tar.gz (1.6 MB)\n",
      "\u001b[K     |████████████████████████████████| 1.6 MB 36.4 MB/s eta 0:00:01\n",
      "\u001b[?25hCollecting ray==0.8.0\n",
      "  Downloading ray-0.8.0-cp37-cp37m-manylinux1_x86_64.whl (72.9 MB)\n",
      "\u001b[K     |████████████████████████████████| 72.9 MB 54.4 MB/s eta 0:00:01\n",
      "\u001b[?25hCollecting cloudpickle==1.3.0\n",
      "  Downloading cloudpickle-1.3.0-py2.py3-none-any.whl (26 kB)\n",
      "Collecting image\n",
      "  Downloading image-1.5.33.tar.gz (15 kB)\n",
      "Collecting python-dotenv\n",
      "  Downloading python_dotenv-0.15.0-py2.py3-none-any.whl (18 kB)\n",
      "Collecting marshmallow>=2.7.0\n",
      "  Downloading marshmallow-3.9.1-py2.py3-none-any.whl (46 kB)\n",
      "\u001b[K     |████████████████████████████████| 46 kB 8.6 MB/s  eta 0:00:01\n",
      "\u001b[?25hRequirement already satisfied: importlib-metadata; python_version < \"3.8\" in /opt/conda/envs/Python-3.7-main/lib/python3.7/site-packages (from jsonpickle) (1.6.1)\n",
      "Requirement already satisfied: python-dateutil>=2.6.1 in /opt/conda/envs/Python-3.7-main/lib/python3.7/site-packages (from pandas) (2.8.1)\n",
      "Requirement already satisfied: numpy>=1.13.3 in /opt/conda/envs/Python-3.7-main/lib/python3.7/site-packages (from pandas) (1.18.5)\n",
      "Requirement already satisfied: pytz>=2017.2 in /opt/conda/envs/Python-3.7-main/lib/python3.7/site-packages (from pandas) (2020.1)\n",
      "Requirement already satisfied: py>=1.5.0 in /opt/conda/envs/Python-3.7-main/lib/python3.7/site-packages (from pytest) (1.8.2)\n",
      "Requirement already satisfied: packaging in /opt/conda/envs/Python-3.7-main/lib/python3.7/site-packages (from pytest) (20.4)\n",
      "Requirement already satisfied: attrs>=17.4.0 in /opt/conda/envs/Python-3.7-main/lib/python3.7/site-packages (from pytest) (19.3.0)\n",
      "Requirement already satisfied: more-itertools>=4.0.0 in /opt/conda/envs/Python-3.7-main/lib/python3.7/site-packages (from pytest) (8.4.0)\n",
      "Requirement already satisfied: pluggy<1.0,>=0.12 in /opt/conda/envs/Python-3.7-main/lib/python3.7/site-packages (from pytest) (0.13.1)\n",
      "Requirement already satisfied: wcwidth in /opt/conda/envs/Python-3.7-main/lib/python3.7/site-packages (from pytest) (0.2.4)\n",
      "Requirement already satisfied: urllib3!=1.25.0,!=1.25.1,<1.26,>=1.21.1 in /opt/conda/envs/Python-3.7-main/lib/python3.7/site-packages (from requests) (1.25.9)\n",
      "Requirement already satisfied: certifi>=2017.4.17 in /opt/conda/envs/Python-3.7-main/lib/python3.7/site-packages (from requests) (2020.11.8)\n",
      "Requirement already satisfied: chardet<4,>=3.0.2 in /opt/conda/envs/Python-3.7-main/lib/python3.7/site-packages (from requests) (3.0.4)\n",
      "Requirement already satisfied: idna<3,>=2.5 in /opt/conda/envs/Python-3.7-main/lib/python3.7/site-packages (from requests) (2.9)\n",
      "Requirement already satisfied: six in /opt/conda/envs/Python-3.7-main/lib/python3.7/site-packages (from pathlib2) (1.15.0)\n",
      "Requirement already satisfied: scipy in /opt/conda/envs/Python-3.7-main/lib/python3.7/site-packages (from gym) (1.5.0)\n",
      "Collecting pyglet<=1.5.0,>=1.4.0\n",
      "  Downloading pyglet-1.5.0-py2.py3-none-any.whl (1.0 MB)\n",
      "\u001b[K     |████████████████████████████████| 1.0 MB 58.4 MB/s eta 0:00:01\n",
      "\u001b[?25hRequirement already satisfied: jsonschema in /opt/conda/envs/Python-3.7-main/lib/python3.7/site-packages (from ray==0.8.0) (3.2.0)\n",
      "Collecting redis>=3.3.2\n",
      "  Downloading redis-3.5.3-py2.py3-none-any.whl (72 kB)\n",
      "\u001b[K     |████████████████████████████████| 72 kB 1.7 MB/s  eta 0:00:01\n",
      "\u001b[?25hCollecting filelock\n",
      "  Downloading filelock-3.0.12-py3-none-any.whl (7.6 kB)\n",
      "Collecting funcsigs\n",
      "  Downloading funcsigs-1.0.2-py2.py3-none-any.whl (17 kB)\n",
      "Requirement already satisfied: protobuf>=3.8.0 in /opt/conda/envs/Python-3.7-main/lib/python3.7/site-packages (from ray==0.8.0) (3.12.3)\n",
      "Collecting colorama\n",
      "  Downloading colorama-0.4.4-py2.py3-none-any.whl (16 kB)\n",
      "Requirement already satisfied: click in /opt/conda/envs/Python-3.7-main/lib/python3.7/site-packages (from ray==0.8.0) (7.1.2)\n",
      "Requirement already satisfied: pillow in /opt/conda/envs/Python-3.7-main/lib/python3.7/site-packages (from image) (7.2.0)\n",
      "Collecting django\n",
      "  Downloading Django-3.1.4-py3-none-any.whl (7.8 MB)\n",
      "\u001b[K     |████████████████████████████████| 7.8 MB 54.7 MB/s eta 0:00:01\n",
      "\u001b[?25hRequirement already satisfied: zipp>=0.5 in /opt/conda/envs/Python-3.7-main/lib/python3.7/site-packages (from importlib-metadata; python_version < \"3.8\"->jsonpickle) (3.1.0)\n",
      "Requirement already satisfied: pyparsing>=2.0.2 in /opt/conda/envs/Python-3.7-main/lib/python3.7/site-packages (from packaging->pytest) (2.4.7)\n",
      "Requirement already satisfied: future in /opt/conda/envs/Python-3.7-main/lib/python3.7/site-packages (from pyglet<=1.5.0,>=1.4.0->gym) (0.18.2)\n",
      "Requirement already satisfied: pyrsistent>=0.14.0 in /opt/conda/envs/Python-3.7-main/lib/python3.7/site-packages (from jsonschema->ray==0.8.0) (0.16.0)\n",
      "Requirement already satisfied: setuptools in /opt/conda/envs/Python-3.7-main/lib/python3.7/site-packages (from jsonschema->ray==0.8.0) (47.3.1.post20200622)\n",
      "Collecting sqlparse>=0.2.2\n",
      "  Downloading sqlparse-0.4.1-py3-none-any.whl (42 kB)\n",
      "\u001b[K     |████████████████████████████████| 42 kB 2.5 MB/s  eta 0:00:01\n",
      "\u001b[?25hCollecting asgiref<4,>=3.2.10\n",
      "  Downloading asgiref-3.3.1-py3-none-any.whl (19 kB)\n",
      "Building wheels for collected packages: parse, psutil, gym, image\n",
      "  Building wheel for parse (setup.py) ... \u001b[?25ldone\n",
      "\u001b[?25h  Created wheel for parse: filename=parse-1.18.0-py3-none-any.whl size=24133 sha256=a9c3f73706f227c25c34dd1063214a023bf63664cc2de70658eb357d9b90df25\n",
      "  Stored in directory: /tmp/wsuser/.cache/pip/wheels/05/d6/62/d7e3a31cb5ac82c57423e083738882b792a9108b30cc05f579\n",
      "  Building wheel for psutil (setup.py) ... \u001b[?25ldone\n",
      "\u001b[?25h  Created wheel for psutil: filename=psutil-5.7.3-cp37-cp37m-linux_x86_64.whl size=290988 sha256=59df7c69754aee64ae7d237729c1aa9ff293fb4a21e42c74cb82df7e462f424a\n",
      "  Stored in directory: /tmp/wsuser/.cache/pip/wheels/f0/4b/57/d037639271e326da3e80e0ddc37bd3d5da7bbf48b3173be557\n",
      "  Building wheel for gym (setup.py) ... \u001b[?25ldone\n",
      "\u001b[?25h  Created wheel for gym: filename=gym-0.17.3-py3-none-any.whl size=1654654 sha256=c87810d6e53810d56b13fab75603225c8407aad0b220c18cb833a0b63301c940\n",
      "  Stored in directory: /tmp/wsuser/.cache/pip/wheels/d1/81/4b/dd9c029691022cb957398d1f015e66b75e37637dda61abdf58\n",
      "  Building wheel for image (setup.py) ... \u001b[?25ldone\n",
      "\u001b[?25h  Created wheel for image: filename=image-1.5.33-py2.py3-none-any.whl size=19482 sha256=c3d92e4fd397738a2d970cf66e267e69d108ba7089fa82f45510d16fa21374af\n",
      "  Stored in directory: /tmp/wsuser/.cache/pip/wheels/56/88/e6/897194cfe8c08a8b9afd881d3bf53d102e13fa39607d721383\n",
      "Successfully built parse psutil gym image\n",
      "Installing collected packages: python-dotenv, marshmallow, environs, parse, websockets, jsonpickle, pathlib2, psutil, setproctitle, lz4, opencv-python, pyglet, cloudpickle, gym, redis, filelock, funcsigs, colorama, ray, sqlparse, asgiref, django, image\n",
      "  Attempting uninstall: cloudpickle\n",
      "    Found existing installation: cloudpickle 1.5.0\n",
      "    Uninstalling cloudpickle-1.5.0:\n",
      "      Successfully uninstalled cloudpickle-1.5.0\n",
      "Successfully installed asgiref-3.3.1 cloudpickle-1.3.0 colorama-0.4.4 django-3.1.4 environs-9.2.0 filelock-3.0.12 funcsigs-1.0.2 gym-0.17.3 image-1.5.33 jsonpickle-1.4.2 lz4-3.1.1 marshmallow-3.9.1 opencv-python-4.4.0.46 parse-1.18.0 pathlib2-2.3.5 psutil-5.7.3 pyglet-1.5.0 python-dotenv-0.15.0 ray-0.8.0 redis-3.5.3 setproctitle-1.2.1 sqlparse-0.4.1 websockets-8.1\n"
     ]
    }
   ],
   "source": [
    "!pip install environs parse websockets jsonpickle pandas pytest pyYAML requests pathlib2 psutil setproctitle tabulate lz4 opencv-python gym ray==0.8.0 cloudpickle==1.3.0 image"
   ]
  },
  {
   "cell_type": "markdown",
   "metadata": {
    "id": "721c642e41b54f879269867f2208c6ae"
   },
   "source": [
    "<a id = \"2.3\"></a>\n",
    "### 2.3 Install the frameworks"
   ]
  },
  {
   "cell_type": "code",
   "execution_count": 6,
   "metadata": {
    "id": "6056804b9fe547579f3286eeab33fa9b"
   },
   "outputs": [
    {
     "name": "stdout",
     "output_type": "stream",
     "text": [
      "Requirement already satisfied: tensorflow==2.1.0 in /opt/conda/envs/Python-3.7-main/lib/python3.7/site-packages (2.1.0)\n",
      "Requirement already satisfied: scikit-learn==0.23.1 in /opt/conda/envs/Python-3.7-main/lib/python3.7/site-packages (0.23.1)\n",
      "Collecting keras==2.2.4\n",
      "  Downloading Keras-2.2.4-py2.py3-none-any.whl (312 kB)\n",
      "\u001b[K     |████████████████████████████████| 312 kB 11.4 MB/s eta 0:00:01\n",
      "\u001b[?25hCollecting numpy==1.17.4\n",
      "  Downloading numpy-1.17.4-cp37-cp37m-manylinux1_x86_64.whl (20.0 MB)\n",
      "\u001b[K     |████████████████████████████████| 20.0 MB 12.6 MB/s eta 0:00:01\n",
      "\u001b[?25hCollecting scipy==1.4.1\n",
      "  Downloading scipy-1.4.1-cp37-cp37m-manylinux1_x86_64.whl (26.1 MB)\n",
      "\u001b[K     |████████████████████████████████| 26.1 MB 21.4 MB/s eta 0:00:01\n",
      "\u001b[?25hRequirement already satisfied: google-pasta>=0.1.6 in /opt/conda/envs/Python-3.7-main/lib/python3.7/site-packages (from tensorflow==2.1.0) (0.2.0)\n",
      "Requirement already satisfied: termcolor>=1.1.0 in /opt/conda/envs/Python-3.7-main/lib/python3.7/site-packages (from tensorflow==2.1.0) (1.1.0)\n",
      "Requirement already satisfied: keras-applications>=1.0.8 in /opt/conda/envs/Python-3.7-main/lib/python3.7/site-packages (from tensorflow==2.1.0) (1.0.8)\n",
      "Requirement already satisfied: six>=1.12.0 in /opt/conda/envs/Python-3.7-main/lib/python3.7/site-packages (from tensorflow==2.1.0) (1.15.0)\n",
      "Requirement already satisfied: astor>=0.6.0 in /opt/conda/envs/Python-3.7-main/lib/python3.7/site-packages (from tensorflow==2.1.0) (0.8.0)\n",
      "Requirement already satisfied: tensorboard<2.2.0,>=2.1.0 in /opt/conda/envs/Python-3.7-main/lib/python3.7/site-packages (from tensorflow==2.1.0) (2.1.0)\n",
      "Requirement already satisfied: wrapt>=1.11.1 in /opt/conda/envs/Python-3.7-main/lib/python3.7/site-packages (from tensorflow==2.1.0) (1.12.1)\n",
      "Requirement already satisfied: grpcio>=1.8.6 in /opt/conda/envs/Python-3.7-main/lib/python3.7/site-packages (from tensorflow==2.1.0) (1.27.2)\n",
      "Requirement already satisfied: keras-preprocessing>=1.1.0 in /opt/conda/envs/Python-3.7-main/lib/python3.7/site-packages (from tensorflow==2.1.0) (1.1.0)\n",
      "Requirement already satisfied: protobuf>=3.8.0 in /opt/conda/envs/Python-3.7-main/lib/python3.7/site-packages (from tensorflow==2.1.0) (3.12.3)\n",
      "Requirement already satisfied: tensorflow-estimator<2.2.0,>=2.1.0rc0 in /opt/conda/envs/Python-3.7-main/lib/python3.7/site-packages (from tensorflow==2.1.0) (2.1.0)\n",
      "Requirement already satisfied: wheel>=0.26; python_version >= \"3\" in /opt/conda/envs/Python-3.7-main/lib/python3.7/site-packages (from tensorflow==2.1.0) (0.34.2)\n",
      "Requirement already satisfied: gast==0.2.2 in /opt/conda/envs/Python-3.7-main/lib/python3.7/site-packages (from tensorflow==2.1.0) (0.2.2)\n",
      "Requirement already satisfied: absl-py>=0.7.0 in /opt/conda/envs/Python-3.7-main/lib/python3.7/site-packages (from tensorflow==2.1.0) (0.9.0)\n",
      "Requirement already satisfied: opt-einsum>=2.3.2 in /opt/conda/envs/Python-3.7-main/lib/python3.7/site-packages (from tensorflow==2.1.0) (3.1.0)\n",
      "Requirement already satisfied: threadpoolctl>=2.0.0 in /opt/conda/envs/Python-3.7-main/lib/python3.7/site-packages (from scikit-learn==0.23.1) (2.1.0)\n",
      "Requirement already satisfied: joblib>=0.11 in /opt/conda/envs/Python-3.7-main/lib/python3.7/site-packages (from scikit-learn==0.23.1) (0.16.0)\n",
      "Requirement already satisfied: h5py in /opt/conda/envs/Python-3.7-main/lib/python3.7/site-packages (from keras==2.2.4) (2.10.0)\n",
      "Requirement already satisfied: pyyaml in /opt/conda/envs/Python-3.7-main/lib/python3.7/site-packages (from keras==2.2.4) (5.3.1)\n",
      "Requirement already satisfied: setuptools>=41.0.0 in /opt/conda/envs/Python-3.7-main/lib/python3.7/site-packages (from tensorboard<2.2.0,>=2.1.0->tensorflow==2.1.0) (47.3.1.post20200622)\n",
      "Requirement already satisfied: werkzeug>=0.11.15 in /opt/conda/envs/Python-3.7-main/lib/python3.7/site-packages (from tensorboard<2.2.0,>=2.1.0->tensorflow==2.1.0) (1.0.1)\n",
      "Requirement already satisfied: google-auth<2,>=1.6.3 in /opt/conda/envs/Python-3.7-main/lib/python3.7/site-packages (from tensorboard<2.2.0,>=2.1.0->tensorflow==2.1.0) (1.22.0)\n",
      "Requirement already satisfied: markdown>=2.6.8 in /opt/conda/envs/Python-3.7-main/lib/python3.7/site-packages (from tensorboard<2.2.0,>=2.1.0->tensorflow==2.1.0) (3.1.1)\n",
      "Requirement already satisfied: requests<3,>=2.21.0 in /opt/conda/envs/Python-3.7-main/lib/python3.7/site-packages (from tensorboard<2.2.0,>=2.1.0->tensorflow==2.1.0) (2.24.0)\n",
      "Requirement already satisfied: google-auth-oauthlib<0.5,>=0.4.1 in /opt/conda/envs/Python-3.7-main/lib/python3.7/site-packages (from tensorboard<2.2.0,>=2.1.0->tensorflow==2.1.0) (0.4.1)\n",
      "Requirement already satisfied: cachetools<5.0,>=2.0.0 in /opt/conda/envs/Python-3.7-main/lib/python3.7/site-packages (from google-auth<2,>=1.6.3->tensorboard<2.2.0,>=2.1.0->tensorflow==2.1.0) (4.1.1)\n",
      "Requirement already satisfied: pyasn1-modules>=0.2.1 in /opt/conda/envs/Python-3.7-main/lib/python3.7/site-packages (from google-auth<2,>=1.6.3->tensorboard<2.2.0,>=2.1.0->tensorflow==2.1.0) (0.2.8)\n",
      "Requirement already satisfied: rsa<5,>=3.1.4; python_version >= \"3.5\" in /opt/conda/envs/Python-3.7-main/lib/python3.7/site-packages (from google-auth<2,>=1.6.3->tensorboard<2.2.0,>=2.1.0->tensorflow==2.1.0) (4.6)\n",
      "Requirement already satisfied: aiohttp<4.0.0dev,>=3.6.2; python_version >= \"3.6\" in /opt/conda/envs/Python-3.7-main/lib/python3.7/site-packages (from google-auth<2,>=1.6.3->tensorboard<2.2.0,>=2.1.0->tensorflow==2.1.0) (3.6.2)\n",
      "Requirement already satisfied: certifi>=2017.4.17 in /opt/conda/envs/Python-3.7-main/lib/python3.7/site-packages (from requests<3,>=2.21.0->tensorboard<2.2.0,>=2.1.0->tensorflow==2.1.0) (2020.11.8)\n",
      "Requirement already satisfied: urllib3!=1.25.0,!=1.25.1,<1.26,>=1.21.1 in /opt/conda/envs/Python-3.7-main/lib/python3.7/site-packages (from requests<3,>=2.21.0->tensorboard<2.2.0,>=2.1.0->tensorflow==2.1.0) (1.25.9)\n",
      "Requirement already satisfied: idna<3,>=2.5 in /opt/conda/envs/Python-3.7-main/lib/python3.7/site-packages (from requests<3,>=2.21.0->tensorboard<2.2.0,>=2.1.0->tensorflow==2.1.0) (2.9)\n",
      "Requirement already satisfied: chardet<4,>=3.0.2 in /opt/conda/envs/Python-3.7-main/lib/python3.7/site-packages (from requests<3,>=2.21.0->tensorboard<2.2.0,>=2.1.0->tensorflow==2.1.0) (3.0.4)\n",
      "Requirement already satisfied: requests-oauthlib>=0.7.0 in /opt/conda/envs/Python-3.7-main/lib/python3.7/site-packages (from google-auth-oauthlib<0.5,>=0.4.1->tensorboard<2.2.0,>=2.1.0->tensorflow==2.1.0) (1.3.0)\n",
      "Requirement already satisfied: pyasn1<0.5.0,>=0.4.6 in /opt/conda/envs/Python-3.7-main/lib/python3.7/site-packages (from pyasn1-modules>=0.2.1->google-auth<2,>=1.6.3->tensorboard<2.2.0,>=2.1.0->tensorflow==2.1.0) (0.4.8)\n",
      "Requirement already satisfied: async-timeout<4.0,>=3.0 in /opt/conda/envs/Python-3.7-main/lib/python3.7/site-packages (from aiohttp<4.0.0dev,>=3.6.2; python_version >= \"3.6\"->google-auth<2,>=1.6.3->tensorboard<2.2.0,>=2.1.0->tensorflow==2.1.0) (3.0.1)\n",
      "Requirement already satisfied: yarl<2.0,>=1.0 in /opt/conda/envs/Python-3.7-main/lib/python3.7/site-packages (from aiohttp<4.0.0dev,>=3.6.2; python_version >= \"3.6\"->google-auth<2,>=1.6.3->tensorboard<2.2.0,>=2.1.0->tensorflow==2.1.0) (1.5.1)\n",
      "Requirement already satisfied: multidict<5.0,>=4.5 in /opt/conda/envs/Python-3.7-main/lib/python3.7/site-packages (from aiohttp<4.0.0dev,>=3.6.2; python_version >= \"3.6\"->google-auth<2,>=1.6.3->tensorboard<2.2.0,>=2.1.0->tensorflow==2.1.0) (4.7.6)\n",
      "Requirement already satisfied: attrs>=17.3.0 in /opt/conda/envs/Python-3.7-main/lib/python3.7/site-packages (from aiohttp<4.0.0dev,>=3.6.2; python_version >= \"3.6\"->google-auth<2,>=1.6.3->tensorboard<2.2.0,>=2.1.0->tensorflow==2.1.0) (19.3.0)\n",
      "Requirement already satisfied: oauthlib>=3.0.0 in /opt/conda/envs/Python-3.7-main/lib/python3.7/site-packages (from requests-oauthlib>=0.7.0->google-auth-oauthlib<0.5,>=0.4.1->tensorboard<2.2.0,>=2.1.0->tensorflow==2.1.0) (3.1.0)\n",
      "Requirement already satisfied: typing-extensions>=3.7.4; python_version < \"3.8\" in /opt/conda/envs/Python-3.7-main/lib/python3.7/site-packages (from yarl<2.0,>=1.0->aiohttp<4.0.0dev,>=3.6.2; python_version >= \"3.6\"->google-auth<2,>=1.6.3->tensorboard<2.2.0,>=2.1.0->tensorflow==2.1.0) (3.7.4.2)\n",
      "Installing collected packages: numpy, scipy, keras\n",
      "  Attempting uninstall: numpy\n",
      "    Found existing installation: numpy 1.18.5\n",
      "    Uninstalling numpy-1.18.5:\n",
      "      Successfully uninstalled numpy-1.18.5\n",
      "  Attempting uninstall: scipy\n",
      "    Found existing installation: scipy 1.5.0\n",
      "    Uninstalling scipy-1.5.0:\n",
      "      Successfully uninstalled scipy-1.5.0\n",
      "Successfully installed keras-2.2.4 numpy-1.17.4 scipy-1.4.1\n"
     ]
    }
   ],
   "source": [
    "!pip install tensorflow==2.1.0 scikit-learn==0.23.1 keras==2.2.4 numpy==1.17.4 scipy==1.4.1 "
   ]
  },
  {
   "cell_type": "markdown",
   "metadata": {
    "id": "067cf8c1-772c-40f5-8e5c-df0d4a971544"
   },
   "source": [
    "<a id = \"2.4\"></a>\n",
    "### 2.4 Import the Party"
   ]
  },
  {
   "cell_type": "markdown",
   "metadata": {},
   "source": [
    "The following code imports the package for the party, and ensures that it is loaded."
   ]
  },
  {
   "cell_type": "code",
   "execution_count": 7,
   "metadata": {
    "id": "1ce53fb92ee04920ad35fb4060faa586"
   },
   "outputs": [
    {
     "name": "stdout",
     "output_type": "stream",
     "text": [
      "No module named 'scikit-learn' Required version is  0.23.1\n",
      "No module named 'PyYAML'\n"
     ]
    },
    {
     "name": "stderr",
     "output_type": "stream",
     "text": [
      "Using TensorFlow backend.\n"
     ]
    },
    {
     "name": "stdout",
     "output_type": "stream",
     "text": [
      "No module named 'diffprivlib'\n",
      "No module named 'opencv-python'\n"
     ]
    }
   ],
   "source": [
    "import ibmfl.party_env_validator\n",
    "from ibmfl.party.party import Party"
   ]
  },
  {
   "cell_type": "markdown",
   "metadata": {
    "id": "cc7a31c3db4b4b56997f7287e49cf8f4"
   },
   "source": [
    "<a id = \"data-handler\"></a>\n",
    "## 3. Define a Data Handler"
   ]
  },
  {
   "cell_type": "markdown",
   "metadata": {},
   "source": [
    "The party should run a data handler to ensure that their datasets are in compatible format and consistent. In this tutorial, an example data handler for the MNIST dataset is provided. \n",
    "\n",
    "For more details on data handlers, see <a href = \"https://dataplatform.cloud.ibm.com/docs/content/wsj/analyze-data/fl-cus-dh.html?audience=wdp&context=cpdaas\" target=\"_blank\" rel=\"noopener no referrer\">Customizing the data handler</a>."
   ]
  },
  {
   "cell_type": "code",
   "execution_count": 8,
   "metadata": {
    "id": "7560ec21701e460d844563df08854f73"
   },
   "outputs": [
    {
     "name": "stdout",
     "output_type": "stream",
     "text": [
      "Writing mnist_keras_data_handler.py\n"
     ]
    }
   ],
   "source": [
    "## This data handler is written to the local working directory of this notebook\n",
    "\n",
    "%%writefile mnist_keras_data_handler.py\n",
    "from keras.preprocessing.image import ImageDataGenerator\n",
    "import logging\n",
    "\n",
    "import numpy as np\n",
    "from keras.utils import np_utils\n",
    "\n",
    "from ibmfl.data.data_handler import DataHandler\n",
    "from ibmfl.util.datasets import load_mnist\n",
    "\n",
    "logger = logging.getLogger(__name__)\n",
    "\n",
    "\n",
    "\n",
    "class MnistTFDataHandler(DataHandler):\n",
    "    \"\"\"\n",
    "       Data handler for MNIST dataset.\n",
    "       \"\"\"\n",
    "\n",
    "    def __init__(self, data_config=None, channels_first=False):\n",
    "        super().__init__()\n",
    "        self.file_name = None\n",
    "        if data_config is not None:\n",
    "            if 'train_file' in data_config:\n",
    "                self.train_file_name = data_config['train_file']\n",
    "            if 'test_file' in data_config:\n",
    "                self.test_file_name = data_config['test_file']\n",
    "\n",
    "    def get_data(self, nb_points=500):\n",
    "        \"\"\"\n",
    "        Gets pre-process mnist training and testing data. Because this method\n",
    "        is for testing it takes as input the number of datapoints, nb_points,\n",
    "        to be included in the training and testing set.\n",
    "\n",
    "        :param: nb_points: Number of data points to be included in each set\n",
    "        :type nb_points: `int`\n",
    "        :return: training data\n",
    "        :rtype: `tuple`\n",
    "        \"\"\"\n",
    "        if self.file_name is None:\n",
    "            (x_train, y_train), (x_test, y_test) = load_mnist()\n",
    "            # Reduce datapoints to make test faster\n",
    "            x_train = x_train[:nb_points]\n",
    "            y_train = y_train[:nb_points]\n",
    "            x_test = x_test[:nb_points]\n",
    "            y_test = y_test[:nb_points]\n",
    "        else:\n",
    "            try:\n",
    "                logger.info(\n",
    "                    'Loaded training data from ' + str(self.file_name))\n",
    "                data_train = np.load(self.file_name)\n",
    "                with open(\"MNIST-pkl/mnist-keras-train.pkl\", 'rb') as f:\n",
    "                    (x_train, y_train)= pickle.load(f)\n",
    "\n",
    "                with open(\"MNIST-pkl/mnist-keras-train.pkl\", 'rb') as f:\n",
    "                    (x_test, y_test)= pickle.load(f)\n",
    "                \n",
    "            except Exception:\n",
    "                raise IOError('Unable to load training data from path '\n",
    "                              'provided in config file: ' +\n",
    "                              self.file_name)\n",
    "\n",
    "        # Add a channels dimension\n",
    "        import tensorflow as tf\n",
    "        x_train = x_train[..., tf.newaxis]\n",
    "        x_test = x_test[..., tf.newaxis]\n",
    "\n",
    "        print('x_train shape:', x_train.shape)\n",
    "        print(x_train.shape[0], 'train samples')\n",
    "        print(x_test.shape[0], 'test samples')\n",
    "\n",
    "        return (x_train, y_train), (x_test, y_test)"
   ]
  },
  {
   "cell_type": "markdown",
   "metadata": {
    "id": "7e29d269ecd74ca79655c17412f87752"
   },
   "source": [
    "### Verify Data Handler Exists"
   ]
  },
  {
   "cell_type": "code",
   "execution_count": 9,
   "metadata": {
    "id": "4efb89dbfece41608639b7d0ab83f279"
   },
   "outputs": [
    {
     "name": "stdout",
     "output_type": "stream",
     "text": [
      "total 64M\r\n",
      "drwxr-x--- 2 wsuser watsonstudio 4.0K Dec  4 18:49 __MACOSX\r\n",
      "-rw-r----- 1 wsuser watsonstudio 2.5K Dec  4 18:50 mnist_keras_data_handler.py\r\n",
      "-rw-r----- 1 wsuser watsonstudio  13K Dec  4 18:49 mnist-keras-test-payload.json\r\n",
      "-rw-r----- 1 wsuser watsonstudio 7.5M Dec  4 18:49 mnist-keras-test.pkl\r\n",
      "-rw-r----- 1 wsuser watsonstudio  38M Dec  4 18:49 mnist-keras-train.pkl\r\n",
      "-rw-r----- 1 wsuser watsonstudio 7.5M Dec  4 18:49 mnist-keras-valid.pkl\r\n",
      "-rw-r----- 1 wsuser watsonstudio  11M Dec  4 18:49 MNIST-pkl.zip\r\n"
     ]
    }
   ],
   "source": [
    "!ls -lh"
   ]
  },
  {
   "cell_type": "markdown",
   "metadata": {
    "id": "7791702cf85e4be28653a6bdb64abb87"
   },
   "source": [
    "<a id = \"config\"></a>\n",
    "## 4. Configure the party"
   ]
  },
  {
   "cell_type": "markdown",
   "metadata": {},
   "source": [
    "Each party must run their party configuration file to call out to the aggregator. Here is an example of a party configuration.\n",
    "\n",
    "Because you had already defined the training ID, RTS ID and data handler in the previous sections of this notebook, and the local training and protocol handler are all defined by the SDK, you will only need to define the information for the dataset file under `[\"data\"][\"info\"]`. \n",
    "\n",
    "In this tutorial, the data path is already defined as we have loaded the examplar MNIST dataset from previous sections."
   ]
  },
  {
   "cell_type": "code",
   "execution_count": 10,
   "metadata": {
    "id": "b083f5c03e764e5193ae15ecfc24df63"
   },
   "outputs": [],
   "source": [
    "from pathlib import Path\n",
    "working_dir = !pwd\n",
    "pwd = working_dir[0]\n",
    "\n",
    "party_config = {\n",
    "  \"aggregator\": {\n",
    "    \"ip\": WML_SERVICES_HOST + \"/ml/v4/trainings/\" + TRAINING_ID\n",
    "  },\n",
    "  \"connection\": {\n",
    "    \"info\": {\n",
    "      \"id\": RTS_ID,\n",
    "    }\n",
    "  },\n",
    "  \"data\": {\n",
    "    \"info\": {\n",
    "      \"train_file\": \"/mnist-keras-train.pkl\",\n",
    "      \"test_file\": \"/mnist-keras-test.pkl\"\n",
    "    },\n",
    "    \"name\": \"MnistTFDataHandler\",\n",
    "    \"path\": pwd + \"/mnist_keras_data_handler.py\"\n",
    "  },\n",
    "  \"local_training\": {\n",
    "    \"name\": \"LocalTrainingHandler\",\n",
    "    \"path\": \"ibmfl.party.training.local_training_handler\"\n",
    "  },\n",
    "  \"protocol_handler\": {\n",
    "    \"name\": \"PartyProtocolHandler\",\n",
    "    \"path\": \"ibmfl.party.party_protocol_handler\"\n",
    "  }\n",
    "}"
   ]
  },
  {
   "cell_type": "code",
   "execution_count": 11,
   "metadata": {
    "id": "e92d174f-522c-403d-bfad-bb16190c64d1"
   },
   "outputs": [
    {
     "name": "stdout",
     "output_type": "stream",
     "text": [
      "{'aggregator': {'ip': 'us-south.ml.cloud.ibm.com/ml/v4/trainings/897e6381-cda3-43aa-bd5f-159e6d988f03'}, 'connection': {'info': {'id': '21c0b9e8-2a9d-45d6-a928-47e69ebdab39'}}, 'data': {'info': {'train_file': '/mnist-keras-train.pkl', 'test_file': '/mnist-keras-test.pkl'}, 'name': 'MnistTFDataHandler', 'path': '/home/wsuser/work/mnist_keras_data_handler.py'}, 'local_training': {'name': 'LocalTrainingHandler', 'path': 'ibmfl.party.training.local_training_handler'}, 'protocol_handler': {'name': 'PartyProtocolHandler', 'path': 'ibmfl.party.party_protocol_handler'}}\n"
     ]
    }
   ],
   "source": [
    "print(party_config)"
   ]
  },
  {
   "cell_type": "markdown",
   "metadata": {},
   "source": [
    "<a id = \"train\"></a>\n",
    "## 5. Connect and train with Federated Learning"
   ]
  },
  {
   "cell_type": "markdown",
   "metadata": {},
   "source": [
    "Here you can finally connect to the aggregator to begin training."
   ]
  },
  {
   "cell_type": "markdown",
   "metadata": {
    "id": "6111242523164548854a1a265d5db2f4"
   },
   "source": [
    "#### Obtain Cloud Authentication Token"
   ]
  },
  {
   "cell_type": "code",
   "execution_count": null,
   "metadata": {
    "id": "de4ddbde4035474485c76c4c614d73a1"
   },
   "outputs": [],
   "source": [
    "from ibm_watson_machine_learning import APIClient\n",
    "\n",
    "\n",
    "wml_credentials = {\n",
    "    \"apikey\": IAM_APIKEY,\n",
    "    \"url\": \"https://\" + WML_SERVICES_HOST\n",
    "}\n",
    "\n",
    "wml_client = APIClient(wml_credentials)\n",
    "IAMTOKEN = \"Bearer \" + wml_client.wml_token\n",
    "print(IAMTOKEN)\n"
   ]
  },
  {
   "cell_type": "markdown",
   "metadata": {
    "id": "21bb9c095dff42118cd38067820224ed"
   },
   "source": [
    "### 5.1 Establish Connection To Aggregator"
   ]
  },
  {
   "cell_type": "code",
   "execution_count": 13,
   "metadata": {
    "id": "f462b534-c22c-4498-9042-2ee8b8849241"
   },
   "outputs": [
    {
     "name": "stdout",
     "output_type": "stream",
     "text": [
      "2020-12-04 18:50:31,582 | 1.0.0 | INFO | ibmfl.util.config                                  | No model config provided for this setup.\n",
      "2020-12-04 18:50:31,583 | 1.0.0 | INFO | ibmfl.util.config                                  | No fusion config provided for this setup.\n",
      "2020-12-04 18:50:31,587 | 1.0.0 | INFO | ibmfl.connection.websockets_connection             | Websockets Sender initialized\n",
      "2020-12-04 18:50:31,589 | 1.0.0 | INFO | ibmfl.connection.websockets_connection             | WSConnection : Initialize Party Communications\n",
      "2020-12-04 18:50:31,590 | 1.0.0 | INFO | ibmfl.connection.websockets_connection             | **** PartySendLoopThread\n",
      "2020-12-04 18:50:31,591 | 1.0.0 | INFO | ibmfl.connection.websockets_connection             | PartySendLoop: Holding for message to send\n",
      "2020-12-04 18:50:31,592 | 1.0.0 | INFO | ibmfl.connection.websockets_connection             | **** PartyRecvLoopThread\n",
      "2020-12-04 18:50:31,593 | 1.0.0 | INFO | ibmfl.party.party                                  | Party initialization successful\n"
     ]
    }
   ],
   "source": [
    "p = Party( config_dict = party_config, token = IAMTOKEN )"
   ]
  },
  {
   "cell_type": "markdown",
   "metadata": {
    "id": "cf6b997e6b204bdd81a34f4bf0b3eb6a"
   },
   "source": [
    "After the message \"Received Heartbeat from Aggregator\" appears, then the Party is ready to start."
   ]
  },
  {
   "cell_type": "markdown",
   "metadata": {
    "id": "eef7c3935db04ce2a78e87d361a3e455"
   },
   "source": [
    "### 5.2 Start Training"
   ]
  },
  {
   "cell_type": "code",
   "execution_count": 14,
   "metadata": {
    "id": "77a8683b-7b8e-44d8-a475-c653b560c131"
   },
   "outputs": [
    {
     "name": "stdout",
     "output_type": "stream",
     "text": [
      "2020-12-04 18:50:31,598 | 1.0.0 | INFO | ibmfl.party.party                                  | Party not registered yet.\n",
      "2020-12-04 18:50:31,598 | 1.0.0 | INFO | ibmfl.party.party                                  | Registering party...\n",
      "2020-12-04 18:50:31,599 | 1.0.0 | INFO | ibmfl.connection.websockets_connection             | Sending serialized message to aggregator\n",
      "2020-12-04 18:50:31,600 | 1.0.0 | INFO | ibmfl.connection.websockets_connection             | PartySendLoop: Number of active messages ready to send: 1\n",
      "2020-12-04 18:50:32,823 | 1.0.0 | INFO | ibmfl.connection.websockets_connection             | Received Heartbeat from Aggregator\n",
      "2020-12-04 18:50:35,310 | 1.0.0 | INFO | ibmfl.party.party_protocol_handler                 | received a async request\n",
      "2020-12-04 18:50:35,312 | 1.0.0 | INFO | ibmfl.party.party_protocol_handler                 | finished async request\n",
      "2020-12-04 18:50:35,312 | 1.0.0 | INFO | ibmfl.party.party_protocol_handler                 | Handling async request in a separate thread\n",
      "2020-12-04 18:50:35,316 | 1.0.0 | INFO | ibmfl.party.party_protocol_handler                 | Received request from aggregator\n",
      "2020-12-04 18:50:35,316 | 1.0.0 | INFO | ibmfl.connection.websockets_connection             | PartyRecvLoop : sent response\n",
      "2020-12-04 18:50:35,317 | 1.0.0 | INFO | ibmfl.party.party_protocol_handler                 | Received request in with message_type:  7\n",
      "2020-12-04 18:50:35,319 | 1.0.0 | INFO | ibmfl.party.party_protocol_handler                 | Received request in PH 7\n",
      "2020-12-04 18:50:35,691 | 1.0.0 | INFO | ibmfl.connection.websockets_connection             | PartySendLoop: Holding for message to send\n",
      "2020-12-04 18:50:35,693 | 1.0.0 | INFO | ibmfl.connection.websockets_connection             | Received serialized message as response: <ibmfl.message.message.Message object at 0x7f0f70496e90>\n",
      "2020-12-04 18:50:35,694 | 1.0.0 | INFO | ibmfl.party.party                                  | Model Package found, placing in working_dir /home/wsuser/work\n",
      "2020-12-04 18:50:35,799 | 1.0.0 | INFO | ibmfl.party.party                                  | Checking for model config in payload.\n",
      "2020-12-04 18:50:35,800 | 1.0.0 | INFO | ibmfl.party.party                                  | {'cls_ref': <class 'ibmfl.model.tensorflow_fl_model.TensorFlowFLModel'>, 'spec': {'model_definition': '/home/wsuser/work', 'is_model_working_dir': 'true', 'model_file': '/tmp/model.zip'}}\n",
      "2020-12-04 18:50:35,801 | 1.0.0 | INFO | ibmfl.party.party                                  | model extract finished!\n",
      "2020-12-04 18:50:35,802 | 1.0.0 | INFO | ibmfl.party.party                                  | Registration Successful\n",
      "2020-12-04 18:50:35,806 | 1.0.0 | INFO | ibmfl.party.party                                  | Listening for commands from Aggregator\n",
      "2020-12-04 18:50:35,807 | 1.0.0 | INFO | ibmfl.party.party                                  | Initializing model configuration\n",
      "2020-12-04 18:50:35,995 | 1.0.0 | INFO | ibmfl.party.party                                  | Party model initialization successful\n",
      "x_train shape: (500, 28, 28, 1)\n",
      "500 train samples\n",
      "500 test samples\n",
      "2020-12-04 18:50:46,292 | 1.0.0 | INFO | ibmfl.party.training.local_training_handler        | Local model updated.\n",
      "2020-12-04 18:50:46,293 | 1.0.0 | INFO | ibmfl.party.training.local_training_handler        | Local training started...\n",
      "2020-12-04 18:50:46,293 | 1.0.0 | INFO | ibmfl.model.tensorflow_fl_model                    | Using default hyperparameters: epochs:1 batch_size:128\n",
      "Train on 500 samples\n",
      "500/500 [==============================] - 12s 23ms/sample - loss: 1.7949 - accuracy: 0.4240\n",
      "2020-12-04 18:50:58,141 | 1.0.0 | INFO | ibmfl.party.training.local_training_handler        | Local training done, generating model update...\n",
      "x_train shape: (500, 28, 28, 1)\n",
      "500 train samples\n",
      "500 test samples\n",
      "500/500 [==============================] - 3s 5ms/sample - loss: 1.1706 - accuracy: 0.6600\n",
      "2020-12-04 18:51:01,248 | 1.0.0 | INFO | ibmfl.party.training.local_training_handler        | {'loss': 1.1706168785095215, 'acc': 0.66, 'accuracy': 0.6600000262260437}\n",
      "2020-12-04 18:51:01,270 | 1.0.0 | INFO | ibmfl.party.party_protocol_handler                 | successfully finished async request\n",
      "2020-12-04 18:51:01,379 | 1.0.0 | INFO | ibmfl.connection.websockets_connection             | Sending serialized message to aggregator\n",
      "2020-12-04 18:51:01,381 | 1.0.0 | INFO | ibmfl.connection.websockets_connection             | PartySendLoop: Number of active messages ready to send: 1\n",
      "2020-12-04 18:51:03,737 | 1.0.0 | INFO | ibmfl.connection.websockets_connection             | Received serialized message as response: <ibmfl.message.message.Message object at 0x7f0f704cd390>\n",
      "2020-12-04 18:51:03,785 | 1.0.0 | INFO | ibmfl.connection.websockets_connection             | PartySendLoop: Holding for message to send\n",
      "2020-12-04 18:51:07,562 | 1.0.0 | INFO | ibmfl.party.party_protocol_handler                 | received a async request\n",
      "2020-12-04 18:51:07,563 | 1.0.0 | INFO | ibmfl.party.party_protocol_handler                 | finished async request\n",
      "2020-12-04 18:51:07,564 | 1.0.0 | INFO | ibmfl.party.party_protocol_handler                 | Handling async request in a separate thread\n",
      "2020-12-04 18:51:07,566 | 1.0.0 | INFO | ibmfl.party.party_protocol_handler                 | Received request from aggregator\n",
      "2020-12-04 18:51:07,566 | 1.0.0 | INFO | ibmfl.connection.websockets_connection             | PartyRecvLoop : sent response\n",
      "2020-12-04 18:51:07,567 | 1.0.0 | INFO | ibmfl.party.party_protocol_handler                 | Received request in with message_type:  7\n",
      "2020-12-04 18:51:07,568 | 1.0.0 | INFO | ibmfl.party.party_protocol_handler                 | Received request in PH 7\n",
      "x_train shape: (500, 28, 28, 1)\n",
      "500 train samples\n",
      "500 test samples\n",
      "2020-12-04 18:51:07,926 | 1.0.0 | INFO | ibmfl.party.training.local_training_handler        | Local model updated.\n",
      "2020-12-04 18:51:07,927 | 1.0.0 | INFO | ibmfl.party.training.local_training_handler        | Local training started...\n",
      "2020-12-04 18:51:07,928 | 1.0.0 | INFO | ibmfl.model.tensorflow_fl_model                    | Using default hyperparameters: epochs:1 batch_size:128\n",
      "Train on 500 samples\n",
      "500/500 [==============================] - 10s 21ms/sample - loss: 0.6565 - accuracy: 0.8360\n",
      "2020-12-04 18:51:18,435 | 1.0.0 | INFO | ibmfl.party.training.local_training_handler        | Local training done, generating model update...\n",
      "x_train shape: (500, 28, 28, 1)\n",
      "500 train samples\n",
      "500 test samples\n",
      "500/500 [==============================] - 2s 5ms/sample - loss: 0.7308 - accuracy: 0.7620\n",
      "2020-12-04 18:51:21,388 | 1.0.0 | INFO | ibmfl.party.training.local_training_handler        | {'loss': 0.7308457059860229, 'acc': 0.76, 'accuracy': 0.7620000243186951}\n",
      "2020-12-04 18:51:21,428 | 1.0.0 | INFO | ibmfl.party.party_protocol_handler                 | successfully finished async request\n",
      "2020-12-04 18:51:21,501 | 1.0.0 | INFO | ibmfl.connection.websockets_connection             | Sending serialized message to aggregator\n",
      "2020-12-04 18:51:21,502 | 1.0.0 | INFO | ibmfl.connection.websockets_connection             | PartySendLoop: Number of active messages ready to send: 1\n",
      "2020-12-04 18:51:22,957 | 1.0.0 | INFO | ibmfl.connection.websockets_connection             | Received serialized message as response: <ibmfl.message.message.Message object at 0x7f0f5f731810>\n",
      "2020-12-04 18:51:23,008 | 1.0.0 | INFO | ibmfl.connection.websockets_connection             | PartySendLoop: Holding for message to send\n",
      "2020-12-04 18:51:29,785 | 1.0.0 | INFO | ibmfl.party.party_protocol_handler                 | received a async request\n",
      "2020-12-04 18:51:29,786 | 1.0.0 | INFO | ibmfl.party.party_protocol_handler                 | finished async request\n",
      "2020-12-04 18:51:29,788 | 1.0.0 | INFO | ibmfl.party.party_protocol_handler                 | Handling async request in a separate thread\n",
      "2020-12-04 18:51:29,788 | 1.0.0 | INFO | ibmfl.connection.websockets_connection             | PartyRecvLoop : sent response\n",
      "2020-12-04 18:51:29,788 | 1.0.0 | INFO | ibmfl.party.party_protocol_handler                 | Received request from aggregator\n",
      "2020-12-04 18:51:29,790 | 1.0.0 | INFO | ibmfl.party.party_protocol_handler                 | Received request in with message_type:  7\n",
      "2020-12-04 18:51:29,791 | 1.0.0 | INFO | ibmfl.party.party_protocol_handler                 | Received request in PH 7\n",
      "x_train shape: (500, 28, 28, 1)\n",
      "500 train samples\n",
      "500 test samples\n",
      "2020-12-04 18:51:30,153 | 1.0.0 | INFO | ibmfl.party.training.local_training_handler        | Local model updated.\n",
      "2020-12-04 18:51:30,154 | 1.0.0 | INFO | ibmfl.party.training.local_training_handler        | Local training started...\n",
      "2020-12-04 18:51:30,155 | 1.0.0 | INFO | ibmfl.model.tensorflow_fl_model                    | Using default hyperparameters: epochs:1 batch_size:128\n",
      "Train on 500 samples\n",
      "500/500 [==============================] - 11s 23ms/sample - loss: 0.3472 - accuracy: 0.8980\n",
      "2020-12-04 18:51:41,595 | 1.0.0 | INFO | ibmfl.party.training.local_training_handler        | Local training done, generating model update...\n",
      "x_train shape: (500, 28, 28, 1)\n",
      "500 train samples\n",
      "500 test samples\n",
      "500/500 [==============================] - 2s 5ms/sample - loss: 0.5945 - accuracy: 0.8140\n",
      "2020-12-04 18:51:44,508 | 1.0.0 | INFO | ibmfl.party.training.local_training_handler        | {'loss': 0.594469551563263, 'acc': 0.81, 'accuracy': 0.8140000104904175}\n",
      "2020-12-04 18:51:44,510 | 1.0.0 | INFO | ibmfl.party.party_protocol_handler                 | successfully finished async request\n",
      "2020-12-04 18:51:44,608 | 1.0.0 | INFO | ibmfl.connection.websockets_connection             | Sending serialized message to aggregator\n",
      "2020-12-04 18:51:44,609 | 1.0.0 | INFO | ibmfl.connection.websockets_connection             | PartySendLoop: Number of active messages ready to send: 1\n",
      "2020-12-04 18:51:45,995 | 1.0.0 | INFO | ibmfl.connection.websockets_connection             | Received serialized message as response: <ibmfl.message.message.Message object at 0x7f0f704ada90>\n",
      "2020-12-04 18:51:46,064 | 1.0.0 | INFO | ibmfl.connection.websockets_connection             | PartySendLoop: Holding for message to send\n",
      "2020-12-04 18:51:52,023 | 1.0.0 | INFO | ibmfl.party.party_protocol_handler                 | received a async request\n",
      "2020-12-04 18:51:52,024 | 1.0.0 | INFO | ibmfl.party.party_protocol_handler                 | finished async request\n",
      "2020-12-04 18:51:52,025 | 1.0.0 | INFO | ibmfl.party.party_protocol_handler                 | Handling async request in a separate thread\n",
      "2020-12-04 18:51:52,026 | 1.0.0 | INFO | ibmfl.connection.websockets_connection             | PartyRecvLoop : sent response\n",
      "2020-12-04 18:51:52,027 | 1.0.0 | INFO | ibmfl.party.party_protocol_handler                 | Received request from aggregator\n",
      "2020-12-04 18:51:52,029 | 1.0.0 | INFO | ibmfl.party.party_protocol_handler                 | Received request in with message_type:  7\n",
      "2020-12-04 18:51:52,029 | 1.0.0 | INFO | ibmfl.party.party_protocol_handler                 | Received request in PH 7\n",
      "x_train shape: (500, 28, 28, 1)\n",
      "500 train samples\n",
      "500 test samples\n",
      "2020-12-04 18:51:52,371 | 1.0.0 | INFO | ibmfl.party.training.local_training_handler        | Local model updated.\n",
      "2020-12-04 18:51:52,372 | 1.0.0 | INFO | ibmfl.party.training.local_training_handler        | Local training started...\n",
      "2020-12-04 18:51:52,373 | 1.0.0 | INFO | ibmfl.model.tensorflow_fl_model                    | Using default hyperparameters: epochs:1 batch_size:128\n",
      "Train on 500 samples\n",
      "500/500 [==============================] - 12s 23ms/sample - loss: 0.2316 - accuracy: 0.9340\n",
      "2020-12-04 18:52:04,200 | 1.0.0 | INFO | ibmfl.party.training.local_training_handler        | Local training done, generating model update...\n",
      "x_train shape: (500, 28, 28, 1)\n",
      "500 train samples\n",
      "500 test samples\n",
      "500/500 [==============================] - 2s 5ms/sample - loss: 0.5184 - accuracy: 0.8180\n",
      "2020-12-04 18:52:07,148 | 1.0.0 | INFO | ibmfl.party.training.local_training_handler        | {'loss': 0.5184072170257569, 'acc': 0.82, 'accuracy': 0.8180000185966492}\n",
      "2020-12-04 18:52:07,190 | 1.0.0 | INFO | ibmfl.party.party_protocol_handler                 | successfully finished async request\n",
      "2020-12-04 18:52:07,291 | 1.0.0 | INFO | ibmfl.connection.websockets_connection             | Sending serialized message to aggregator\n",
      "2020-12-04 18:52:07,292 | 1.0.0 | INFO | ibmfl.connection.websockets_connection             | PartySendLoop: Number of active messages ready to send: 1\n",
      "2020-12-04 18:52:08,862 | 1.0.0 | INFO | ibmfl.connection.websockets_connection             | Received serialized message as response: <ibmfl.message.message.Message object at 0x7f0f5ec10750>\n",
      "2020-12-04 18:52:08,907 | 1.0.0 | INFO | ibmfl.connection.websockets_connection             | PartySendLoop: Holding for message to send\n",
      "2020-12-04 18:52:14,275 | 1.0.0 | INFO | ibmfl.party.party_protocol_handler                 | received a async request\n",
      "2020-12-04 18:52:14,277 | 1.0.0 | INFO | ibmfl.party.party_protocol_handler                 | finished async request\n",
      "2020-12-04 18:52:14,277 | 1.0.0 | INFO | ibmfl.party.party_protocol_handler                 | Handling async request in a separate thread\n",
      "2020-12-04 18:52:14,279 | 1.0.0 | INFO | ibmfl.connection.websockets_connection             | PartyRecvLoop : sent response\n",
      "2020-12-04 18:52:14,280 | 1.0.0 | INFO | ibmfl.party.party_protocol_handler                 | Received request from aggregator\n",
      "2020-12-04 18:52:14,281 | 1.0.0 | INFO | ibmfl.party.party_protocol_handler                 | Received request in with message_type:  7\n",
      "2020-12-04 18:52:14,282 | 1.0.0 | INFO | ibmfl.party.party_protocol_handler                 | Received request in PH 7\n",
      "x_train shape: (500, 28, 28, 1)\n",
      "500 train samples\n",
      "500 test samples\n",
      "2020-12-04 18:52:14,636 | 1.0.0 | INFO | ibmfl.party.training.local_training_handler        | Local model updated.\n",
      "2020-12-04 18:52:14,637 | 1.0.0 | INFO | ibmfl.party.training.local_training_handler        | Local training started...\n",
      "2020-12-04 18:52:14,637 | 1.0.0 | INFO | ibmfl.model.tensorflow_fl_model                    | Using default hyperparameters: epochs:1 batch_size:128\n",
      "Train on 500 samples\n",
      "500/500 [==============================] - 11s 22ms/sample - loss: 0.1515 - accuracy: 0.9560\n",
      "2020-12-04 18:52:25,571 | 1.0.0 | INFO | ibmfl.party.training.local_training_handler        | Local training done, generating model update...\n",
      "x_train shape: (500, 28, 28, 1)\n",
      "500 train samples\n",
      "500 test samples\n",
      "500/500 [==============================] - 2s 5ms/sample - loss: 0.4767 - accuracy: 0.8540\n",
      "2020-12-04 18:52:28,528 | 1.0.0 | INFO | ibmfl.party.training.local_training_handler        | {'loss': 0.47674156045913696, 'acc': 0.85, 'accuracy': 0.8539999723434448}\n",
      "2020-12-04 18:52:28,569 | 1.0.0 | INFO | ibmfl.party.party_protocol_handler                 | successfully finished async request\n",
      "2020-12-04 18:52:28,646 | 1.0.0 | INFO | ibmfl.connection.websockets_connection             | Sending serialized message to aggregator\n",
      "2020-12-04 18:52:28,647 | 1.0.0 | INFO | ibmfl.connection.websockets_connection             | PartySendLoop: Number of active messages ready to send: 1\n",
      "2020-12-04 18:52:29,951 | 1.0.0 | INFO | ibmfl.connection.websockets_connection             | Received serialized message as response: <ibmfl.message.message.Message object at 0x7f0f5ebf6c10>\n",
      "2020-12-04 18:52:30,005 | 1.0.0 | INFO | ibmfl.connection.websockets_connection             | PartySendLoop: Holding for message to send\n",
      "2020-12-04 18:52:36,516 | 1.0.0 | INFO | ibmfl.party.party_protocol_handler                 | Received request from aggregator\n",
      "2020-12-04 18:52:36,517 | 1.0.0 | INFO | ibmfl.party.party_protocol_handler                 | Received request in with message_type:  12\n",
      "2020-12-04 18:52:36,517 | 1.0.0 | INFO | ibmfl.party.party_protocol_handler                 | Received request in PH 12\n",
      "2020-12-04 18:52:36,524 | 1.0.0 | INFO | ibmfl.connection.websockets_connection             | PartyRecvLoop : sent response\n",
      "2020-12-04 18:52:37,579 | 1.0.0 | INFO | ibmfl.party.party_protocol_handler                 | Received request from aggregator\n",
      "2020-12-04 18:52:37,580 | 1.0.0 | INFO | ibmfl.party.party_protocol_handler                 | Received request in with message_type:  10\n",
      "2020-12-04 18:52:37,580 | 1.0.0 | INFO | ibmfl.party.party_protocol_handler                 | Received request in PH 10\n",
      "x_train shape: (500, 28, 28, 1)\n",
      "500 train samples\n",
      "500 test samples\n",
      "500/500 [==============================] - 3s 5ms/sample - loss: 0.4767 - accuracy: 0.8540\n",
      "2020-12-04 18:52:40,688 | 1.0.0 | INFO | ibmfl.party.training.local_training_handler        | {'loss': 0.47674156045913696, 'acc': 0.85, 'accuracy': 0.8539999723434448}\n",
      "2020-12-04 18:52:40,710 | 1.0.0 | INFO | ibmfl.connection.websockets_connection             | PartyRecvLoop : sent response\n",
      "2020-12-04 18:52:43,765 | 1.0.0 | INFO | ibmfl.party.party_protocol_handler                 | Received request from aggregator\n",
      "2020-12-04 18:52:43,766 | 1.0.0 | INFO | ibmfl.party.party_protocol_handler                 | Received request in with message_type:  14\n",
      "2020-12-04 18:52:43,767 | 1.0.0 | INFO | ibmfl.party.party_protocol_handler                 | Received request in PH 14\n",
      "2020-12-04 18:52:43,767 | 1.0.0 | INFO | ibmfl.party.party_protocol_handler                 | received a STOP request\n",
      "2020-12-04 18:52:43,768 | 1.0.0 | INFO | ibmfl.connection.websockets_connection             | PartyRecvLoop : sent response\n",
      "2020-12-04 18:52:43,769 | 1.0.0 | INFO | ibmfl.connection.websockets_connection             | PartyRecvLoop : Received STOP message\n",
      "2020-12-04 18:52:43,769 | 1.0.0 | INFO | ibmfl.connection.websockets_connection             | PartySendLoop: Number of active messages ready to send: 0\n"
     ]
    }
   ],
   "source": [
    "p.start()"
   ]
  },
  {
   "cell_type": "markdown",
   "metadata": {},
   "source": [
    "<a id = \"summary\"></a>\n",
    "## Summary\n",
    "\n",
    "Congratulations! You have learned to:\n",
    "\n",
    "1. Start a Federated Learning experiment\n",
    "2. Load a template model\n",
    "3. Create an RTS and launch the experiment job\n",
    "4. Load a dataset for training\n",
    "5. Define the data handler\n",
    "6. Configure the party\n",
    "7. Connect to the aggregator\n",
    "8. Train your Federated Learning model\n",
    "\n",
    "### Learn more\n",
    "\n",
    "- For more details about setting up Federated Learning, terminology, and running Federated Learning from the UI, see <a href = \"https://dataplatform.cloud.ibm.com/docs/content/wsj/analyze-data/fed-lea.html?audience=wdp\" target=\"_blank\" rel=\"noopener no referrer\">Federated Learning documentation</a> for Cloud.\n",
    "- For more information on a Keras model template, see their documentation <a href = \"https://www.tensorflow.org/tutorials/quickstart/advanced\" target=\"_blank\" rel=\"noopener no referrer\">here</a>."
   ]
  },
  {
   "cell_type": "markdown",
   "metadata": {},
   "source": [
    "# <hr>\n",
    "Copyright © 2020 IBM. This notebook and its source code are released under the terms of the MIT License.\n",
    "<br>\n",
    " ",
    "\n",
    "<div style=\"background:#F5F7FA; height:110px; padding: 2em; font-size:14px;\">\n",
    "<span style=\"font-size:18px;color:#152935;\">Love this notebook? </span>\n",
    "<span style=\"font-size:15px;color:#152935;float:right;margin-right:40px;\">Don't have an account yet?</span><br>\n",
    "<span style=\"color:#5A6872;\">Share it with your colleagues and help them discover the power of Watson Studio!</span>\n",
    "<span style=\"border: 1px solid #3d70b2;padding:8px;float:right;margin-right:40px; color:#3d70b2;\"><a href=\"https://ibm.co/wsnotebooks\" target=\"_blank\" style=\"color: #3d70b2;text-decoration: none;\">Sign Up</a></span><br>\n",
    "</div>"
   ]
  }
 ],
 "metadata": {
  "kernelspec": {
   "display_name": "Python 3.7",
   "language": "python",
   "name": "python3"
  },
  "language_info": {
   "codemirror_mode": {
    "name": "ipython",
    "version": 3
   },
   "file_extension": ".py",
   "mimetype": "text/x-python",
   "name": "python",
   "nbconvert_exporter": "python",
   "pygments_lexer": "ipython3",
   "version": "3.7.9"
  }
 },
 "nbformat": 4,
 "nbformat_minor": 4
}
