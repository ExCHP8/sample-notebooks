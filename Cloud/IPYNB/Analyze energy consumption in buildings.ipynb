{
 "cells": [
  {
   "cell_type": "markdown",
   "metadata": {},
   "source": [
    "\n",
    "# Analyze energy consumption in buildings\n",
    "\n",
    "This Python notebook shows you how to use analytics to determine the factors that contibute to energy inefficiency in buildings and to help develop strategies to reduce energy consumption and greenhouse gas emissions. \n",
    "\n",
    "This notebook runs on Python with Spark.\n",
    "\n",
    "You can learn more about statistical modeling and optimization methods that can be used to optimize energy consumption in buildings in <a href=\"http://www.informs-sim.org/wsc11papers/082.pdf\" target=\"_blank\" rel=\"noopener noreferrer\" >this article</a>. The article was written by a group of researchers from the following institutions: \n",
    "-  IBM T.J. Watson Research Center \n",
    "-  CUNY Institute for Urban Systems\n",
    "-  McMaster University. \n",
    "\n",
    "\n",
    "## Table of contents\n",
    "\n",
    "- [Get data](#get_data)\n",
    "- [Load data](#load_data)\n",
    "- [Access data](#access_data)\n",
    "- [Load libraries](#load_libraries)\n",
    "- [Model energy usage of buildings in kWh](#Model-energy-usage-in-kWh-of-buildings)\n",
    "  - [Prepare the data](#data_preparation)\n",
    "  - [Fit a linear regression model to the observed data](#linear_regression)\n",
    "  - [Visualize model accuracy](#visualize_model_accuracy)\n",
    "- [Detect buildings that consume energy inefficiently](#buildings_inefficient)\n",
    "  - [Consider all metrics when measuring energy inefficiencies](#consider_all_metrics)\n",
    "- [Export data and models to RStudio](#Export-data-and-models-to-RStudio)\n",
    "- [Summary](#summary)\n",
    "\n"
   ]
  },
  {
   "cell_type": "markdown",
   "metadata": {},
   "source": [
    "<a id=\"get_data\"></a>\n",
    "## Get data\n",
    "\n",
    "The notebook uses data sets created by BlocPower, a startup based in New York, which supports clean energy projects in the city. The data sets contain information on property names, property sizes, and their respective energy usage in kWh. By using  different metrics, such as plug-load consumption, air conditioning consumption, and usage of domestic gas and heating gas, you will learn how to use analytics to identify buildings that consume energy inefficiently.\n",
    "\n",
    "To get the energy comsumption data sets:\n",
    "\n",
    "1. Go to the <a href=\"https://github.com/IBMDataScience/SparkSummitDemo/tree/master/data\" target=\"_blank\" rel=\"noopener noreferrer\">BlocPower data sets</a> and then download the following data sets in CSV format:\n",
    "    * BlocPower_T.csv\n",
    "    * HDD-Features.csv\n",
    "    * CDD-HDD-Features.csv \n",
    "2. Save the CSV files to your computer.\n",
    "\n",
    "<a id=\"load_data\"></a>\n",
    "## Load data \n",
    "\n",
    "After you have saved the files to your local file system, load the data files to use in the notebook:\n",
    "\n",
    "1. On the notebook action bar, click the **Data** icon.\n",
    "2. Click **Add Source**, select **From file**, and browse to and load the following CSV files:\n",
    "    * BlocPower_T.csv\n",
    "    * HDD-Features.csv\n",
    "    * CDD-HDD-Features.csv   \n",
    "\n",
    "The data files are are stored in the Object Storage that is associated with your project."
   ]
  },
  {
   "cell_type": "markdown",
   "metadata": {},
   "source": [
    "<a id=\"access_data\"></a>\n",
    "## Access data\n",
    "\n",
    "To add the code to access the data files in Object Storage, click the **Code snippets** icon, select **Read data**, locate the data asset in your project, and then load it as a **sparkSessionDataFrame** in the empty cell below. Repeat these actions for each data file that you loaded.\n",
    "\n",
    "This function inserts the setup code for the preconfigured `SparkSession`. Then the data is loaded into a `SparkSession DataFrame`. The credentials for accessing the CSV file are included in the generated code.  "
   ]
  },
  {
   "cell_type": "markdown",
   "metadata": {},
   "source": [
    "Note: The `SparkSession DataFrames` that are created and loaded with data for you are given generic names. Give the DataFrame variables the following names:\n",
    "\n",
    "- `df2` for the BlocPower_t.csv file\n",
    "- `dfHDD` for the HDD-Features.csv file\n",
    "- `dfCH` for the CDD-HDD-Features.csv file\n",
    "\n",
    "Then, run each code cell to proceed."
   ]
  },
  {
   "cell_type": "code",
   "execution_count": null,
   "metadata": {},
   "outputs": [],
   "source": [
    "# Use Insert to code > SparkSession DataFrame to for BlocPower_t.csv file, and rename the data frame to df2.\n"
   ]
  },
  {
   "cell_type": "code",
   "execution_count": null,
   "metadata": {},
   "outputs": [],
   "source": [
    "# Use Insert to code > SparkSession DataFrame to for HDD-Features.csv file, and rename the data frame to dfHDD.\n"
   ]
  },
  {
   "cell_type": "code",
   "execution_count": null,
   "metadata": {},
   "outputs": [],
   "source": [
    "# Use Insert to code > SparkSession DataFrame to for CDD-HDD-Features.csv file, and rename the data frame to dfCH.\n"
   ]
  },
  {
   "cell_type": "markdown",
   "metadata": {},
   "source": [
    "<a id=\"load_libraries\"></a>\n",
    "## Load libraries\n",
    "\n",
    "The Spark and Python libraries that you need are preinstalled in the notebook environment and only need to be loaded.\n",
    "\n",
    "Run the following cell to load the libraries you will work with in this notebook:"
   ]
  },
  {
   "cell_type": "code",
   "execution_count": null,
   "metadata": {},
   "outputs": [],
   "source": [
    "import numpy as np\n",
    "import pandas as pd\n",
    "from pyspark.sql.functions import udf\n",
    "from pyspark.sql.types import DoubleType"
   ]
  },
  {
   "cell_type": "markdown",
   "metadata": {},
   "source": [
    "<a id=\"Model-energy-usage-in-kWh-of-buildings\"></a>\n",
    "## Model energy usage of buildings in kWh\n",
    "\n",
    "Now that your data is in memory, you can begin to explore and manipulate the data. By examining this data, you can understand patterns of energy usage and heat transfer as well as characteristics of building structures,  operations,  and  occupant  behavior  that  influence  energy consumption. Begin by inspecting the first few rows of the BlocPower data. Each row has the following columns:\n",
    "\n",
    "| Column Name                | Column Description                                                                    |\n",
    "| -------------------------- |:-------------------------------------------------------------------------------------:| \n",
    "| UTSUM_Electricity_Usage    | Shows the annual energy usage of each building in kWh                                 |\n",
    "| INFO_Year of Construction  | Shows the year the building was constructed                                           |\n",
    "| INFO_Number of Stories     | Shows the number of stories of each building                                          |\n",
    "| INFO_Total Square Feet     | Shows the the square footage of each building                                         | \n",
    "| PLEI_1_Quantity            | Shows the number of plugged-in equipment in each building, for example, microwaves and computers                       |\n",
    "| PLEI_3_Quantity            | Shows the number of plugged-in equipment in each building, similar to column  PLEI_1_Quantity                        |\n",
    "\n",
    "\n",
    "<a id=\"data_preparation\"></a>\n",
    "### Prepare the data \n",
    "\n",
    "To better consume the BlocPower data, it must be reformatted. The values in the first column, which show electricity usage, must be converted to actual numbers, for example, 117,870 kWh to 117870. In the fourth column, which shows the total square footage of each building, the commas must be removed from the values. You will notice too that there are some missing values.\n",
    "\n",
    "Run the next cell to show the first five rows of the BlocPower data:"
   ]
  },
  {
   "cell_type": "code",
   "execution_count": null,
   "metadata": {},
   "outputs": [],
   "source": [
    "df2.show(5)"
   ]
  },
  {
   "cell_type": "markdown",
   "metadata": {},
   "source": [
    "Run the following cell to define different functions that you can run to clean and prepare the data. For example, define functions to convert kWh values to actual numbers, to calculate the age of a building based on the year the building was constructed, to remove commas in returned values, and to interpret missing values in the PLEI columns as meaning that there is no plugged-in equipment."
   ]
  },
  {
   "cell_type": "code",
   "execution_count": null,
   "metadata": {},
   "outputs": [],
   "source": [
    "# define cleaning functions\n",
    "def energy(v): # reformat the values to get an actual number (e.g., 117,870 kWh to 117870)\n",
    "    if (v=='') or v==None: return np.nan\n",
    "    v = v.split(' ')[0].replace(',','')\n",
    "    return np.nan if(v=='') else float(v)\n",
    "def age(v): # computes the age of a buildings, given the year of construction\n",
    "    if (v=='') or v==None: return np.nan\n",
    "    v = v.encode('ascii','ignore')\n",
    "    return 2019.0-float(v) if(len(v)==4) else np.nan\n",
    "def stories(v):\n",
    "    if (v=='') or v==None: return np.nan\n",
    "    return float(v)\n",
    "def sqFeet(v): # get rid of commas \n",
    "    if (v=='') or v==None: return np.nan\n",
    "    v = v.replace(',','')\n",
    "    return np.nan if(v=='') else float(v) \n",
    "def plei(v): # in the PLEI columns, missing values can be interpeted as 0 plugged equipment\n",
    "    try:\n",
    "        vv = float(v)\n",
    "    except:\n",
    "        vv = 0.0\n",
    "    return vv \n",
    "# Define udf's to apply the defined function to the Spark DataFrame\n",
    "udfEnergy = udf(energy, DoubleType())\n",
    "udfAge = udf(age, DoubleType())\n",
    "udfStories = udf(stories, DoubleType())\n",
    "udfSqFeet = udf(sqFeet, DoubleType())\n",
    "udfPlei = udf(plei, DoubleType())"
   ]
  },
  {
   "cell_type": "markdown",
   "metadata": {},
   "source": [
    "Apply the data preparation functions, which you defined, to the data, and load the cleansed data to a `pandas` DataFrame:"
   ]
  },
  {
   "cell_type": "code",
   "execution_count": null,
   "metadata": {},
   "outputs": [],
   "source": [
    "dfN = df2.withColumn(\"UTSUM_Electricity_Usage\", udfEnergy(\"UTSUM_Electricity_Usage\")) \\\n",
    "         .withColumn(\"INFO_Year of Construction\", udfAge(\"INFO_Year of Construction\")) \\\n",
    "         .withColumn(\"INFO_Number of Stories\", udfStories(\"INFO_Number of Stories\")) \\\n",
    "         .withColumn(\"INFO_Total Square Feet\", udfSqFeet(\"INFO_Total Square Feet\")) \\\n",
    "         .withColumn(\"PLEI_1_Quantity\", udfPlei(\"PLEI_1_Quantity\")) \\\n",
    "         .withColumn(\"PLEI_3_Quantity\", udfPlei(\"PLEI_3_Quantity\")).cache()\n",
    "dfN = dfN.withColumnRenamed(\"UTSUM_Electricity_Usage\",\"energy\") \\\n",
    "           .withColumnRenamed(\"INFO_Year of Construction\",\"age\") \\\n",
    "           .withColumnRenamed(\"INFO_Number of Stories\",\"number_stories\") \\\n",
    "           .withColumnRenamed(\"INFO_Total Square Feet\",\"square_feet\") \\\n",
    "           .withColumnRenamed(\"PLEI_1_Quantity\",\"plei_1\") \\\n",
    "           .withColumnRenamed(\"PLEI_3_Quantity\",\"plei_3\")            "
   ]
  },
  {
   "cell_type": "markdown",
   "metadata": {},
   "source": [
    "Then compute the average of all the existing values in the energy consumption and buiding age columns, and insert these averages in the rows of the energy comsumption and building age columns that are missing values:"
   ]
  },
  {
   "cell_type": "code",
   "execution_count": null,
   "metadata": {},
   "outputs": [],
   "source": [
    "dfN.take(10)"
   ]
  },
  {
   "cell_type": "code",
   "execution_count": null,
   "metadata": {},
   "outputs": [],
   "source": [
    "# compute average of non-missing energy and age\n",
    "energy_mean = np.nanmean(np.asarray(dfN.select(\"energy\").rdd.map(lambda r: r[0]).collect()))\n",
    "age_mean = np.nanmean(np.asarray(dfN.select(\"age\").rdd.map(lambda r: r[0]).collect()))\n",
    "# fill missing values with the computed average\n",
    "dfN = dfN.na.fill({\"energy\": energy_mean, \"age\": age_mean})"
   ]
  },
  {
   "cell_type": "code",
   "execution_count": null,
   "metadata": {},
   "outputs": [],
   "source": [
    "# define Spark DataFrame to be written to our object store\n",
    "dfOut = dfN.select('energy', 'age', 'number_stories','square_feet','plei_1','plei_3')"
   ]
  },
  {
   "cell_type": "markdown",
   "metadata": {},
   "source": [
    "Now run the following cell to form a feature matrix and scale the columns:"
   ]
  },
  {
   "cell_type": "code",
   "execution_count": null,
   "metadata": {},
   "outputs": [],
   "source": [
    "# use the .toPandas() function to map Spark DataFrames to pandas DataFrames\n",
    "dfNp = dfN.toPandas()\n",
    "dfHDDp = dfHDD.toPandas()\n",
    "# concatenate two pandas DataFrames\n",
    "feat = pd.concat([dfNp, dfHDDp], axis=1)\n",
    "# get the column names of the concatenated DataFrame\n",
    "cols = feat.columns\n",
    "# scale data to prepare for regression model \n",
    "from sklearn import preprocessing\n",
    "scaler = preprocessing.MaxAbsScaler() \n",
    "feat = scaler.fit_transform(feat)\n",
    "# define a new DataFrame with the scaled data\n",
    "dfScaled = pd.DataFrame(feat,columns=cols)"
   ]
  },
  {
   "cell_type": "markdown",
   "metadata": {},
   "source": [
    "Plot the results and explore the correlations:"
   ]
  },
  {
   "cell_type": "code",
   "execution_count": null,
   "metadata": {},
   "outputs": [],
   "source": [
    "import matplotlib.pyplot as plt\n",
    "%matplotlib inline\n",
    "# import the scatter_matrix functionality\n",
    "from pandas.plotting import scatter_matrix\n",
    "\n",
    "plt.style.use('bmh')\n",
    "ff = scatter_matrix(dfScaled, diagonal='hist',figsize=(12,12))\n"
   ]
  },
  {
   "cell_type": "markdown",
   "metadata": {},
   "source": [
    "<a id=\"linear_regression\"></a>\n",
    "### Fit a linear regression model to the observed data\n",
    "\n",
    "Linear regression attempts to model the relationship between two variables by fitting a linear equation to the observed data.\n",
    "The energy usage (kWh) in buildings can be explained by considering the following building characteristics: \n",
    "+ Age of the building \n",
    "+ Square feet \n",
    "+ Number of stories \n",
    "+ Total number of plugged equipment\n",
    "\n",
    "The regression modeler takes those building characteristics, which you prepared and scaled in an earlier step, and calculates the association between the proposed predicted value and the observed energy usage of the building."
   ]
  },
  {
   "cell_type": "code",
   "execution_count": null,
   "metadata": {},
   "outputs": [],
   "source": [
    "# get a list of the features used to explain energy\n",
    "features = dfScaled.columns.tolist()\n",
    "response = ['energy']\n",
    "features.remove(response[0])\n",
    "# import regression solver\n",
    "from sklearn import linear_model\n",
    "# declare a linear regression model \n",
    "lr = linear_model.LinearRegression(fit_intercept=True)\n",
    "# define response variable: energy usage\n",
    "y = np.asarray(dfScaled[response]) \n",
    "# define features\n",
    "X = dfScaled[features]\n",
    "# fit regression model to the data\n",
    "regr = lr.fit(X,y)\n",
    "coefs = regr.coef_[0]\n",
    "# collect regression coefficients\n",
    "dataRegQ = []\n",
    "dataRegQ.append(('Intercept', regr.intercept_[0]))\n",
    "for i in range(len(features)):\n",
    "    dataRegQ.append((features[i],coefs[i]))\n",
    "# compute energy predictions using our fitted model     \n",
    "yh = regr.predict(X)\n",
    "# import package to compute the R-squared quality metric\n",
    "from sklearn.metrics import r2_score\n",
    "# print results\n",
    "print ('R-Squared: ', r2_score(y,yh))\n",
    "pd.DataFrame(dataRegQ,columns=['feature_name','coefficient']) #.head()"
   ]
  },
  {
   "cell_type": "markdown",
   "metadata": {},
   "source": [
    "<a id=\"visualize_model_accuracy\"></a>\n",
    "### Visualize model accuracy\n",
    "\n",
    "A scatter plot can be a helpful tool in determining the strength of the relationship between two variables.\n",
    "\n",
    "Run the following cell to create a scatter plot.\n",
    "\n",
    "The blue dots represent the observed energy usage versus the energy usage predicted by the trained model. The black dotted line is at 45 degrees and represents the perfect model. The closer the blue dots are to the black dotted line, the better the model fits the data.\n"
   ]
  },
  {
   "cell_type": "code",
   "execution_count": null,
   "metadata": {},
   "outputs": [],
   "source": [
    "fig, ax = plt.subplots()\n",
    "ax.scatter(y, yh)\n",
    "ax.plot([y.min(), y.max()], [y.min(), y.max()], 'k--', lw=4)\n",
    "ax.set_xlabel('Energy usage observed',fontsize=20)\n",
    "ax.set_ylabel('Energy usage predicted',fontsize=20)\n",
    "ax.axis([-0.1, 1.1, -0.1, 1.1])\n",
    "plt.gcf().set_size_inches( (6, 6) )\n",
    "plt.show()"
   ]
  },
  {
   "cell_type": "markdown",
   "metadata": {},
   "source": [
    "<a id=\"buildings_inefficient\"></a>\n",
    "## Detect buildings that consume energy inefficiently\n",
    "\n",
    "In this section, you will learn how to use engineered characteristics of heating and cooling systems in buildings to detect those buildings that consume energy inefficiently. Factors that influence high energy consumption include:\n",
    "+ Air conditioning\n",
    "+ High usage of plugged-in equipment, for example, microwaves, computers, refrigerators, and freezers\n",
    "+ Use of gas for domestic usage\n",
    "+ Use of gas for heating purposes\n",
    "\n",
    "Run the following cell to prepare the DataFrames to enable detecting and extracting those factors from the data set:"
   ]
  },
  {
   "cell_type": "code",
   "execution_count": null,
   "metadata": {},
   "outputs": [],
   "source": [
    "dfCH = dfCH.toPandas()\n",
    "# get the numerical features\n",
    "dfR = dfCH[['plug_load_consumption','ac_consumption','domestic_gas','heating_gas']]\n",
    "# scale features with the max value of each column\n",
    "dfR=dfR.apply(pd.to_numeric)\n",
    "dfN = dfR/dfR.max()\n",
    "# concatenate scaled features and buildings name\n",
    "dfCH_n = pd.concat((dfN, dfCH['Property Name']),1)"
   ]
  },
  {
   "cell_type": "markdown",
   "metadata": {},
   "source": [
    "Now run the following cell to only identify the buildings with inefficient air conditioning systems:"
   ]
  },
  {
   "cell_type": "code",
   "execution_count": null,
   "metadata": {},
   "outputs": [],
   "source": [
    "cname = 'ac_consumption' #'heating_gas'\n",
    "dfCH_n[dfCH_n[cname]>dfCH_n.quantile(0.95)[0]][['Property Name',cname]]"
   ]
  },
  {
   "cell_type": "markdown",
   "metadata": {},
   "source": [
    "<a id=\"consider_all_metrics\"></a>\n",
    "### Consider all metrics when measuring energy inefficiencies\n",
    "\n",
    "Up until this point in the notebook, you have used the air conditioning, plugged-in equipment, domestic gas, and heating gas metrics for analytics processing in isolation. By using k-means, you can train your model to consider all of the metrics combined. k-means clustering helps you identify groups of buildings that consume energy inefficiently.  \n",
    "\n",
    "Run the following cell to import the k-means libraries, prepare the input data set, and define clusters of data in the input data set (groups of buildings) that are similar to one another:\n"
   ]
  },
  {
   "cell_type": "code",
   "execution_count": null,
   "metadata": {},
   "outputs": [],
   "source": [
    "# import K-means and PCA library\n",
    "from sklearn.cluster import KMeans\n",
    "from sklearn.decomposition import PCA\n",
    "# declare PCA model with 4 components\n",
    "pca = PCA(n_components=2)\n",
    "pca.fit(dfN)\n",
    "featReduced = pca.fit_transform(dfN)\n",
    "# declare a K-means model with 4 clusters \n",
    "kmeans = KMeans(n_clusters=4, tol=0.00001, random_state=1)\n",
    "# run K-means with our data\n",
    "kmeans.fit(featReduced)\n",
    "# get the label for each building using the K-means model\n",
    "labels = kmeans.predict(featReduced)\n",
    "buildings = np.asarray(dfCH['Property Name'].values.tolist())"
   ]
  },
  {
   "cell_type": "markdown",
   "metadata": {},
   "source": [
    "The clustering model helps you to identify inefficient groups of buildings. Visualize the clusters by using two of the four dimensions and the k-means labels to color the observations:"
   ]
  },
  {
   "cell_type": "code",
   "execution_count": null,
   "metadata": {},
   "outputs": [],
   "source": [
    "# inefficiency dimensions: ['plug_load_consumption','ac_consumption','domestic_gas','heating_gas']\n",
    "x = dfCH_n['plug_load_consumption'] \n",
    "y = dfCH_n['heating_gas'] \n",
    "plt.scatter(x, y, s=225, c=labels, alpha=0.5)\n",
    "plt.gcf().set_size_inches( (7, 7) )\n",
    "plt.xlabel('Plugged-in equipment inefficiency',fontsize=15)\n",
    "plt.ylabel('Heating gas inefficiency',fontsize=15)\n",
    "tt = 'Buildings colored by cluster labels' \n",
    "plt.title(tt,fontsize=15)\n",
    "plt.show()"
   ]
  },
  {
   "cell_type": "markdown",
   "metadata": {},
   "source": [
    "The resulting scatter plot shows that most buildings are part of the purple cluster. The buildings with a brown, yellow, or light blue label are more energy inefficient than the ones that are part of the purple cluster.  "
   ]
  },
  {
   "cell_type": "markdown",
   "metadata": {},
   "source": [
    "Now recode the color labels into a binary variable where 1 is inefficient (the brown, yellow or light blue clusters) and 0 otherwise (the purple cluster):"
   ]
  },
  {
   "cell_type": "code",
   "execution_count": null,
   "metadata": {},
   "outputs": [],
   "source": [
    "# define binary variable to identify inefficient buildings\n",
    "label_binary = []\n",
    "for v in labels:\n",
    "    label_binary.append(0 if (v == 0) else 1)\n",
    "label_binary = np.asarray(label_binary)"
   ]
  },
  {
   "cell_type": "markdown",
   "metadata": {},
   "source": [
    "Now we split the data into training nd testing:"
   ]
  },
  {
   "cell_type": "code",
   "execution_count": null,
   "metadata": {},
   "outputs": [],
   "source": [
    "from sklearn.model_selection import train_test_split\n",
    "feat_tr, feat_te, lab_tr, lab_te = train_test_split(featReduced, label_binary, train_size=0.6, random_state=1337)"
   ]
  },
  {
   "cell_type": "markdown",
   "metadata": {},
   "source": [
    "Then run the following cell to train a classifier as well as show its accuracy of identifying inefficient buildings:"
   ]
  },
  {
   "cell_type": "code",
   "execution_count": null,
   "metadata": {},
   "outputs": [],
   "source": [
    "from sklearn.ensemble import RandomForestClassifier\n",
    "# declare a random forest model \n",
    "rfc = RandomForestClassifier(n_estimators=100)\n",
    "# fit model with our data\n",
    "rfc.fit(feat_tr, lab_tr)\n",
    "# compute accuracy of the trained model\n",
    "accuracy = rfc.score(feat_te, lab_te)\n",
    "# compute predictions using trained model\n",
    "y_pred = rfc.predict(feat_te)\n",
    "print (\"Model Accuracy: \", accuracy)"
   ]
  },
  {
   "cell_type": "markdown",
   "metadata": {},
   "source": [
    "Use a confusion matrix to analyze, summarize, and plot the results of the logistic regression model. A confusion metrix  reports the actual and predicted results of the regression model and thus allows more detailed analysis than calculating the model accuracy based on predictions only.\n",
    "\n",
    "Run the following cell to define the parameters of the confusion matrix:"
   ]
  },
  {
   "cell_type": "code",
   "execution_count": null,
   "metadata": {},
   "outputs": [],
   "source": [
    "def plot_confusion_matrix(cm, title='Confusion matrix', cmap=plt.cm.Blues):\n",
    "    plt.imshow(cm, interpolation='nearest', cmap=cmap)\n",
    "    plt.title(title)\n",
    "    plt.colorbar()\n",
    "    tick_marks = np.arange(2)\n",
    "    plt.xticks(tick_marks, ['efficient','inefficient'], rotation=0)\n",
    "    plt.yticks(tick_marks, ['efficient','inefficient'])\n",
    "    plt.tight_layout()\n",
    "    plt.ylabel('Actual label')\n",
    "    plt.xlabel('Predicted label')"
   ]
  },
  {
   "cell_type": "markdown",
   "metadata": {},
   "source": [
    "Then create the confusion matrix. In the first row of the confusion matrix, you will notice that the logistic regression model is very good at predicting efficient buildings; however the second row shows that the model is not very accurate at identifying inefficient buildings. The model predicted that only 8 of the 22 buildings were inefficient."
   ]
  },
  {
   "cell_type": "code",
   "execution_count": null,
   "metadata": {
    "scrolled": true
   },
   "outputs": [],
   "source": [
    "# import confusion matrix to explore model accuracy\n",
    "from sklearn.metrics import confusion_matrix\n",
    "# compute confusion matrix\n",
    "cm = confusion_matrix(lab_te, y_pred)\n",
    "np.set_printoptions(precision=2)\n",
    "print('Confusion matrix, without normalization')\n",
    "print(cm)\n",
    "plt.figure()\n",
    "plot_confusion_matrix(cm)"
   ]
  },
  {
   "cell_type": "markdown",
   "metadata": {},
   "source": [
    "<a id=\"export_rstudio\"></a>\n",
    "## Export data and models to RStudio\n",
    "\n",
    "If you want to create an interactive web application (a Shiny app) to visualize and share the results of your data analysis in RStudio, perform the following steps:\n",
    "\n",
    "1. In Watson Studio, open RStudio from the left navigation bar.\n",
    "2. Create a new R Markdown document. You might need to download some R packages.\n",
    "3. Copy the <a href=\"https://raw.githubusercontent.com/IBMDataScience/SparkSummitDemo/master/shinyDemo.Rmd\" target=\"_blank\" rel=\"noopener noreferrer\" >raw R code</a>, and replace the default content in the new R Markdown document by pasting the code into the file.\n",
    "5. Select lines 21 - 65, and run them to install all necessary packages.\n",
    "6. Click **Knit**, which is the button with the ball of yarn next to it.\n",
    "7. Click **Open in Browser** to interact with the app, and share the link with other users.\n"
   ]
  },
  {
   "cell_type": "markdown",
   "metadata": {
    "collapsed": true
   },
   "source": [
    "<a id=\"summary\"></a>\n",
    "## Summary\n",
    "\n",
    "In this notebook, you learned how to prepare and cleanse data to use in a linear regression model and how to visualize the accuracy of this model. You learned how to detect building energy inefficiencies by using individual metrics as well as how to use k-means to combine building metrics. You learned the difference between visualizing the results by using a scatter plot and a confusion matrix. In addition, you learned how to create an interactive dashboard in RStudio to interact with and share analysis results. "
   ]
  },
  {
   "cell_type": "markdown",
   "metadata": {
    "collapsed": true
   },
   "source": [
    "### Author\n",
    "**Jorge Castañón** is a data scientist at IBM Analytics, specializing in machine learning and text analytics using Apache Spark and Hadoop."
   ]
  },
  {
   "cell_type": "markdown",
   "metadata": {},
   "source": [
    "Copyright &copy; IBM Corp. 2017-2019. This notebook and its source code are released under the terms of the MIT License."
   ]
  },
  {
   "cell_type": "markdown",
   "metadata": {},
   "source": [
    "<div style=\"background:#F5F7FA; height:110px; padding: 2em; font-size:14px;\">\n",
    "<span style=\"font-size:18px;color:#152935;\">Love this notebook? </span>\n",
    "<span style=\"font-size:15px;color:#152935;float:right;margin-right:40px;\">Don't have an account yet?</span><br>\n",
    "<span style=\"color:#5A6872;\">Share it with your colleagues and help them discover the power of Watson Studio!</span>\n",
    "<span style=\"border: 1px solid #3d70b2;padding:8px;float:right;margin-right:40px; color:#3d70b2;\"><a href=\"https://ibm.co/wsnotebooks\" target=\"_blank\" style=\"color: #3d70b2;text-decoration: none;\">Sign Up</a></span><br>\n",
    "</div>"
   ]
  }
 ],
 "metadata": {
  "kernelspec": {
   "display_name": "Python 3.10 with Spark",
   "language": "python3",
   "name": "python310"
  },
  "language_info": {
   "codemirror_mode": {
    "name": "ipython",
    "version": 3
   },
   "file_extension": ".py",
   "mimetype": "text/x-python",
   "name": "python",
   "nbconvert_exporter": "python",
   "pygments_lexer": "ipython3",
   "version": "3.10.10"
  }
 },
 "nbformat": 4,
 "nbformat_minor": 1
}
