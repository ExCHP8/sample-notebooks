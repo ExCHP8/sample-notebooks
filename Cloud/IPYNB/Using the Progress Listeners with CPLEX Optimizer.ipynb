{
 "cells": [
  {
   "cell_type": "markdown",
   "metadata": {
    "render": true
   },
   "source": [
    "# Using the Progress Listeners with CPLEX Optimizer\n",
    "\n",
    "This tutorial includes everything you need to set up Decision Optimization engines, build a mathematical programming model, then use the progress listeners to monitor progress, capture intermediate solutions and stop the solve on your own criteria.\n",
    "\n",
    "**Table of contents:**\n",
    "\n",
    "*  [How Decision Optimization can help](#How-Decision-Optimization-can-help)\n",
    "*  [Use Decision Optimization](#Use-Decision-Optimization)\n",
    "    *  [Step 1: Set up the prescriptive model](#Step-1:-Set-up-the-prescriptive-model)\n",
    "    *  [Step 2: Monitoring CPLEX progress](#Step-2:-Monitoring-CPLEX-progress)\n",
    "    *  [Step 3: Aborting the search with a custom progress listener](#Step-3:-Aborting-the-search-with-a-custom-progress-listener)\n",
    "    *  [Step 4: Produce advancement charts](#Step-4:-Produce-advancement-charts)\n",
    "    *  [Variant: using matplotlib to plot a chart of gap vs. time](#Variant:-using-matplotlib-to-plot-a-chart-of-gap-vs.-time)\n",
    "*  [Summary](#Summary)\n",
    "****\n"
   ]
  },
  {
   "cell_type": "markdown",
   "metadata": {
    "render": true
   },
   "source": [
    "## How Decision Optimization can help\n",
    "\n",
    "* Prescriptive analytics (Decision Optimization) technology recommends actions that are based on desired outcomes.  It takes into account specific scenarios, resources, and knowledge of past and current events. With this insight, your organization can make better decisions and have greater control of business outcomes.  \n",
    "\n",
    "* Prescriptive analytics is the next step on the path to insight-based actions. It creates value through synergy with predictive analytics, which analyzes data to predict future outcomes.  \n",
    "\n",
    "* Prescriptive analytics takes that insight to the next level by suggesting the optimal way to handle that future situation. Organizations that can act fast in dynamic conditions and make superior decisions in uncertain environments gain a strong competitive advantage.  \n",
    "<br/>\n",
    "\n",
    "<u>With prescriptive analytics, you can:</u> \n",
    "\n",
    "* Automate the complex decisions and trade-offs to better manage your limited resources.\n",
    "* Take advantage of a future opportunity or mitigate a future risk.\n",
    "* Proactively update recommendations based on changing events.\n",
    "* Meet operational goals, increase customer loyalty, prevent threats and fraud, and optimize business processes.\n",
    "\n"
   ]
  },
  {
   "cell_type": "markdown",
   "metadata": {},
   "source": [
    "## Use Decision Optimization"
   ]
  },
  {
   "cell_type": "markdown",
   "metadata": {
    "render": true
   },
   "source": [
    "### Step 1: Set up the prescriptive model"
   ]
  },
  {
   "cell_type": "markdown",
   "metadata": {},
   "source": [
    "A simple geometric problem is used here to show you how you can leverage progress listeners in the DOcplex Mathematical Programming (MP) API. It is a Mixed Integer Programming (MIP) model.\n",
    "\n",
    "Progress listeners are designed to monitor the progress of complex MIP search in DOcplex MP, \n",
    "that is, linear programs with integer variables.\n",
    "\n",
    "This model is easily scalable, and thus is appropriate to demonstrate  the progress listener API, but any other scalable MIP model would do."
   ]
  },
  {
   "cell_type": "code",
   "execution_count": 1,
   "metadata": {},
   "outputs": [],
   "source": [
    "from docplex.mp.model import Model\n",
    "\n",
    "def build_hearts(r, **kwargs):\n",
    "    # initialize the model\n",
    "    mdl = Model('love_hearts_%d' % r, **kwargs)\n",
    "\n",
    "    # the dictionary of decision variables, one variable\n",
    "    # for each circle with i in (1 .. r) as the row and\n",
    "    # j in (1 .. i) as the position within the row    \n",
    "    idx = [(i, j) for i in range(1, r + 1) for j in range(1, i + 1)]\n",
    "    a = mdl.binary_var_dict(idx, name=lambda ij: \"a_%d_%d\" % ij)\n",
    "\n",
    "    # the constraints - enumerate all equilateral triangles\n",
    "    # and prevent any such triangles being formed by keeping\n",
    "    # the number of included circles at its vertexes below 3\n",
    "\n",
    "    # for each row except the last\n",
    "    for i in range(1, r):\n",
    "        # for each position in this row\n",
    "        for j in range(1, i + 1):\n",
    "            # for each triangle of side length (k) with its upper vertex at\n",
    "            # (i, j) and its sides parallel to those of the overall shape\n",
    "            for k in range(1, r - i + 1):\n",
    "                # the sets of 3 points at the same distances clockwise along the\n",
    "                # sides of these triangles form k equilateral triangles\n",
    "                for m in range(k):\n",
    "                    u, v, w = (i + m, j), (i + k, j + m), (i + k - m, j + k - m)\n",
    "                    mdl.add(a[u] + a[v] + a[w] <= 2)\n",
    "\n",
    "    mdl.maximize(mdl.sum(a))\n",
    "    return mdl"
   ]
  },
  {
   "cell_type": "markdown",
   "metadata": {},
   "source": [
    "First build a small instance of the 'hearts' program and print its characteristics."
   ]
  },
  {
   "cell_type": "code",
   "execution_count": 2,
   "metadata": {},
   "outputs": [
    {
     "name": "stdout",
     "output_type": "stream",
     "text": [
      "Model: love_hearts_5\n",
      " - number of variables: 15\n",
      "   - binary=15, integer=0, continuous=0\n",
      " - number of constraints: 35\n",
      "   - linear=35\n",
      " - parameters: defaults\n",
      " - objective: maximize\n",
      " - problem type is: MILP\n"
     ]
    }
   ],
   "source": [
    "m5 = build_hearts(5)\n",
    "m5.print_information()"
   ]
  },
  {
   "cell_type": "markdown",
   "metadata": {},
   "source": [
    "### Step 2: Monitoring CPLEX progress\n",
    "\n",
    "MIP search can take some time for large (or complex) problems. Setting the `log_output=True` in a solve() lets\n",
    "you display the CPLEX log, which provides lots of information. In certain cases, you might want to take control of what happens at intermediate points in the search, and this is what listeners are designed for.\n",
    "\n",
    "#### An introduction to progress listeners\n",
    "\n",
    "Progress listeners are objects, sub-classes of the `docplex.mp.progress.ProgressListener` class. Once a listener has been attached to a model instance (using `Model.add_progress_listener`), it receives method calls from within the CPLEX MIP search. The CPLEX code decides when listeners are called, and this baseline logic cannot be changed. \n",
    "However, progress listeners let you select certain types of events.\n",
    "\n",
    "First, you import the `docplex.mp.progress` module, which contains everything you need about progress listeners."
   ]
  },
  {
   "cell_type": "code",
   "execution_count": 3,
   "metadata": {},
   "outputs": [],
   "source": [
    "from docplex.mp.progress import *"
   ]
  },
  {
   "cell_type": "markdown",
   "metadata": {},
   "source": [
    "#### Monitoring MIP search progress\n",
    "\n",
    "The simplest class of listener is the `TextProgressListener`, which prints a message on the STDOUT each time it is called. See what this does on the small model."
   ]
  },
  {
   "cell_type": "code",
   "execution_count": 4,
   "metadata": {},
   "outputs": [],
   "source": [
    "# connect a listener to the model\n",
    "m5.add_progress_listener(TextProgressListener())"
   ]
  },
  {
   "cell_type": "markdown",
   "metadata": {
    "render": true
   },
   "source": [
    "#### Solve with Decision Optimization\n",
    "\n",
    "You must use an environment that has the full version of CPLEX (<i>DO + NLP Runtime xx.x on Python 3.x</i>). Otherwise, depending on the size of the problem, the solve stage might fail.\n",
    "\n",
    "Here, you solve with the ***clean_before_true*** flag set to True, as you want each solve to produce the same output. Without this flag, a second solve on the model would start from the first solve solution, and would not have the same output."
   ]
  },
  {
   "cell_type": "code",
   "execution_count": 5,
   "metadata": {},
   "outputs": [
    {
     "name": "stdout",
     "output_type": "stream",
     "text": [
      "  1+: Node=0 Left=1 Best Integer=5.0000, Best Bound=10.0000, gap=100.00%, ItCnt=21 [0.0s]\n",
      "  2+: Node=0 Left=1 Best Integer=6.0000, Best Bound=10.0000, gap=66.67%, ItCnt=21 [0.0s]\n",
      "  3+: Node=0 Left=1 Best Integer=6.0000, Best Bound=9.3266, gap=55.44%, ItCnt=33 [0.0s]\n",
      "  4+: Node=0 Left=1 Best Integer=7.0000, Best Bound=9.3266, gap=33.24%, ItCnt=33 [0.0s]\n",
      "  5+: Node=0 Left=1 Best Integer=7.0000, Best Bound=9.1900, gap=31.29%, ItCnt=40 [0.0s]\n",
      "  6+: Node=0 Left=1 Best Integer=8.0000, Best Bound=9.1900, gap=14.88%, ItCnt=40 [0.0s]\n",
      "  7+: Node=0 Left=1 Best Integer=8.0000, Best Bound=9.0233, gap=12.79%, ItCnt=53 [0.0s]\n"
     ]
    }
   ],
   "source": [
    "m5.solve(clean_before_solve=True);"
   ]
  },
  {
   "cell_type": "markdown",
   "metadata": {},
   "source": [
    "The listener prints one line each time it is called by CPLEX code; from this you can see that:\n",
    "\n",
    "   - the listener is called several times from the same node \n",
    "   - the listener is called several times at the same iteration \n",
    "   - the listener is called several times with the same objective \n",
    "   \n",
    "In each line, the '+' indicates that an intermediate solution is available at the time of the call. In this case, an intermediate solution was available at each call, but this is not always the case.\n",
    "Looking closer, you can also see that the listener reacts to events which improve either the objective or the best bound.\n",
    "This is due to the value of the _clock_ attribute of the listener.\n",
    "\n",
    "#### Listener clocks\n",
    "\n",
    "Clocks are values of the enumerated type `docplex.mp.progress.ProgressClock`, which defines types of events to listen to. Every listener has a clock, the default being `ProgressClock.Gap`, which reacts when an event satisfies the following conditions:\n",
    "\n",
    "   - an intermediate solution is available \n",
    "   - either the objective has improved _or_ the best bound has improved\n",
    "    \n",
    "You can see this with this model:"
   ]
  },
  {
   "cell_type": "code",
   "execution_count": 6,
   "metadata": {},
   "outputs": [
    {
     "name": "stdout",
     "output_type": "stream",
     "text": [
      "listener #1 has type 'TextProgressListener', clock=ProgressClock.Gap\n"
     ]
    }
   ],
   "source": [
    "for l, listener in enumerate(m5.iter_progress_listeners(), start=1):\n",
    "    print(\"listener #{0} has type '{1}', clock={2}\".format(l, listener.__class__.__name__, listener.clock))"
   ]
  },
  {
   "cell_type": "markdown",
   "metadata": {},
   "source": [
    "Now, you can experiment with a text progress listener listening to the `All` clock, that is the baseline clock that reacts to all calls from CPLEX. To do so, first clear all progress listeners and add a new one.\n",
    "\n",
    "Note that the constructor also accepts strings, interpreted as the clock name."
   ]
  },
  {
   "cell_type": "code",
   "execution_count": 7,
   "metadata": {},
   "outputs": [
    {
     "name": "stdout",
     "output_type": "stream",
     "text": [
      "  1+: Node=0 Left=1 Best Integer=5.0000, Best Bound=10.0000, gap=100.00%, ItCnt=21 [0.0s]\n",
      "  2+: Node=0 Left=1 Best Integer=5.0000, Best Bound=10.0000, gap=100.00%, ItCnt=21 [0.0s]\n",
      "  3+: Node=0 Left=1 Best Integer=6.0000, Best Bound=10.0000, gap=66.67%, ItCnt=21 [0.0s]\n",
      "  4+: Node=0 Left=1 Best Integer=6.0000, Best Bound=10.0000, gap=66.67%, ItCnt=33 [0.0s]\n",
      "  5+: Node=0 Left=1 Best Integer=6.0000, Best Bound=9.3266, gap=55.44%, ItCnt=33 [0.0s]\n",
      "  6+: Node=0 Left=1 Best Integer=7.0000, Best Bound=9.3266, gap=33.24%, ItCnt=33 [0.0s]\n",
      "  7+: Node=0 Left=1 Best Integer=7.0000, Best Bound=9.3266, gap=33.24%, ItCnt=40 [0.0s]\n",
      "  8+: Node=0 Left=1 Best Integer=7.0000, Best Bound=9.1900, gap=31.29%, ItCnt=40 [0.0s]\n",
      "  9+: Node=0 Left=1 Best Integer=8.0000, Best Bound=9.1900, gap=14.88%, ItCnt=40 [0.0s]\n",
      " 10+: Node=0 Left=1 Best Integer=8.0000, Best Bound=9.1900, gap=14.88%, ItCnt=47 [0.0s]\n",
      " 11+: Node=0 Left=1 Best Integer=8.0000, Best Bound=9.1067, gap=13.83%, ItCnt=47 [0.0s]\n",
      " 12+: Node=0 Left=1 Best Integer=8.0000, Best Bound=9.1067, gap=13.83%, ItCnt=53 [0.0s]\n",
      " 13+: Node=0 Left=1 Best Integer=8.0000, Best Bound=9.0233, gap=12.79%, ItCnt=53 [0.0s]\n",
      " 14+: Node=0 Left=1 Best Integer=8.0000, Best Bound=9.0233, gap=12.79%, ItCnt=56 [0.0s]\n"
     ]
    }
   ],
   "source": [
    "m5.clear_progress_listeners()\n",
    "m5.add_progress_listener(TextProgressListener(clock='all'))\n",
    "m5.solve(clean_before_solve=True);"
   ]
  },
  {
   "cell_type": "markdown",
   "metadata": {},
   "source": [
    "In this case, the listener is called more often, sometimes with identical objective and bound (see lines 3 and 4). This explains why the default clock is __Gap__, to focus on actual changes.\n",
    "\n",
    "Other possible values for the clock enumerated type are:\n",
    "\n",
    "   - __Solutions__: listens to all intermediate solutions, whether or not they improve the objective or best bound.\n",
    "   - __Objective__: listens to intermediate solutions, which improve the objective.\n",
    "   \n",
    "How exactly is improvement measured? A listener constructor can specify an _absdiff_ and _reldiff_ parameters which are interpreted as the minimal absolute (resp. relative) improvement to accept (or not) a call from CPLEX.\n",
    "\n",
    "You can see this here with a third `TextProgressListener` with clock set to 'objective' and an absolute diff of 1. You can expect this listener to react whenever the objective has improved by an amount greater than 1:"
   ]
  },
  {
   "cell_type": "code",
   "execution_count": 8,
   "metadata": {
    "scrolled": true
   },
   "outputs": [
    {
     "name": "stdout",
     "output_type": "stream",
     "text": [
      "  1+: Node=0 Left=1 Best Integer=5.0000, Best Bound=10.0000, gap=100.00%, ItCnt=21 [0.0s]\n",
      "  2+: Node=0 Left=1 Best Integer=6.0000, Best Bound=10.0000, gap=66.67%, ItCnt=21 [0.0s]\n",
      "  3+: Node=0 Left=1 Best Integer=7.0000, Best Bound=9.3266, gap=33.24%, ItCnt=33 [0.0s]\n",
      "  4+: Node=0 Left=1 Best Integer=8.0000, Best Bound=9.1900, gap=14.88%, ItCnt=40 [0.0s]\n"
     ]
    }
   ],
   "source": [
    "m5.clear_progress_listeners()\n",
    "m5.add_progress_listener(TextProgressListener(clock='objective', absdiff=1, reldiff=0))\n",
    "m5.solve(clean_before_solve=True);"
   ]
  },
  {
   "cell_type": "markdown",
   "metadata": {},
   "source": [
    "As expected, the listener accepted four events, with increasing objective values of 5, 6, 7 and 8."
   ]
  },
  {
   "cell_type": "markdown",
   "metadata": {},
   "source": [
    "#### Monitor progress: manage intermediate solutions"
   ]
  },
  {
   "cell_type": "markdown",
   "metadata": {},
   "source": [
    "This is done by another predefined listener class: `SolutionRecorder`. This type of listener is a subclass of the `SolutionListerer` class. Again, this listener contains a _clock_ parameter (default is __Gap__) which controls which events are accepted or not.\n",
    "\n",
    "The default behavior is to accept only solutions, which improve either the objective or the best bound."
   ]
  },
  {
   "cell_type": "code",
   "execution_count": 9,
   "metadata": {},
   "outputs": [],
   "source": [
    "from docplex.mp.progress import SolutionRecorder\n",
    "\n",
    "sol_recorder = SolutionRecorder()\n",
    "m5.clear_progress_listeners()\n",
    "m5.add_progress_listener(sol_recorder)"
   ]
  },
  {
   "cell_type": "markdown",
   "metadata": {},
   "source": [
    "Again, solve with the `clean_before_solve` flag set to `True` to ensure a deterministic behavior."
   ]
  },
  {
   "cell_type": "code",
   "execution_count": 10,
   "metadata": {},
   "outputs": [],
   "source": [
    "m5.solve(clean_before_solve=True);"
   ]
  },
  {
   "cell_type": "markdown",
   "metadata": {},
   "source": [
    "At the end of the solve, the recorder contains all the intermediate solutions.\n",
    "Now, you can display some information about these intermediate solutions."
   ]
  },
  {
   "cell_type": "code",
   "execution_count": 11,
   "metadata": {},
   "outputs": [
    {
     "name": "stdout",
     "output_type": "stream",
     "text": [
      "* The recorder contains 7 solutions\n",
      "  - solution #1, obj=5.0, non-zero-values=15, total=5.0\n",
      "  - solution #2, obj=6.0, non-zero-values=15, total=6.0\n",
      "  - solution #3, obj=6.0, non-zero-values=15, total=6.0\n",
      "  - solution #4, obj=7.0, non-zero-values=15, total=7.0\n",
      "  - solution #5, obj=7.0, non-zero-values=15, total=7.0\n",
      "  - solution #6, obj=8.0, non-zero-values=15, total=8.0\n",
      "  - solution #7, obj=8.0, non-zero-values=15, total=8.0\n"
     ]
    }
   ],
   "source": [
    "# utility function to display recorded solutions in a recorder.\n",
    "def display_recorded_solutions(rec):\n",
    "    print('* The recorder contains {} solutions'.format(rec.number_of_solutions))\n",
    "    for s, sol in enumerate(rec.iter_solutions(), start=1):\n",
    "        sumvals = sum(v for _, v in sol.iter_var_values())\n",
    "        print('  - solution #{0}, obj={1}, non-zero-values={2}, total={3}'.format(\n",
    "           s, sol.objective_value, sol.number_of_var_values, sumvals))\n",
    "        \n",
    "display_recorded_solutions(sol_recorder)"
   ]
  },
  {
   "cell_type": "markdown",
   "metadata": {},
   "source": [
    "Now, you can try a solution recorder with a different clock: __Objective__. This recorder will record only intermediate solutions which improve the objective, regardless of the best bound. Such changes occur less frequently than the Gap clock, so you can expect less solutions to be recorded."
   ]
  },
  {
   "cell_type": "code",
   "execution_count": 12,
   "metadata": {},
   "outputs": [
    {
     "name": "stdout",
     "output_type": "stream",
     "text": [
      "* The recorder contains 4 solutions\n",
      "  - solution #1, obj=5.0, non-zero-values=15, total=5.0\n",
      "  - solution #2, obj=6.0, non-zero-values=15, total=6.0\n",
      "  - solution #3, obj=7.0, non-zero-values=15, total=7.0\n",
      "  - solution #4, obj=8.0, non-zero-values=15, total=8.0\n"
     ]
    }
   ],
   "source": [
    "sol_recorder2 = SolutionRecorder(clock='objective')\n",
    "m5.clear_progress_listeners()\n",
    "m5.add_progress_listener(sol_recorder2)\n",
    "m5.solve(clean_before_solve=True)\n",
    "display_recorded_solutions(sol_recorder2)"
   ]
  },
  {
   "cell_type": "markdown",
   "metadata": {},
   "source": [
    "As expected, the 'objective' recorder stored only 4 solutions instead of 7. Only one solution with each objective is recorded, instead of several with the 'Gap' recorder."
   ]
  },
  {
   "cell_type": "markdown",
   "metadata": {},
   "source": [
    "### Step 3: Aborting the search with a custom progress listener\n",
    "\n",
    "MIP search can be time-consuming; in some cases, a 'good-enough' solution can be sufficient.\n",
    "For example, when the gap is converging very slowly, it might be a good idea to stop and use the last solution instead of waiting for a long time to prove optimality.\n",
    "\n",
    "Assume that you want to implement the following behavior: \n",
    "stop the search when the listener ha sbeen called N times without any improvement in the objective. This\n",
    "is not quite realistic, as one would rather use a time limit, but this may lead to non-deterministic behaviors.\n",
    "\n",
    "The first question to ask is: what clock do you listen to? As you want to stop as soon as \n",
    "elapsed time without improvement is greater than your limit, you can listen to the higher frequency clock, `All` clock.\n",
    "\n",
    "Second, as you do not need to report solutions, you can sub-class from `ProgressListener`, not from `SolutionListener`.\n",
    "\n",
    "What do you need to code this aborter? You need to know whether an incumbent solution is present, and what its objective value is, then check whether the objective has improved or not.\n",
    "If it has improved, you can store the value of the objective and the time (obtained through `ProgressData.time`).\n",
    "If not, you can check whether the elapsed time is greater than the limit, and if it is the case, call method `abort()`.\n",
    "\n",
    "The 'abort()' method must be called inside a 'notify_progress' call, otherwise it will have no effect.\n",
    "\n",
    "The code is as follows:"
   ]
  },
  {
   "cell_type": "code",
   "execution_count": 13,
   "metadata": {},
   "outputs": [],
   "source": [
    "from docplex.mp.progress import ProgressListener\n",
    "\n",
    "class AutomaticAborter(ProgressListener):\n",
    "    \"\"\" a simple implementation of an automatic search stopper.\n",
    "    \"\"\"\n",
    "    def __init__(self, max_no_improve_events=100):\n",
    "        super(AutomaticAborter, self).__init__(ProgressClock.All)\n",
    "        self.last_obj = None\n",
    "        self.nb_events_since_last_obj = 0\n",
    "        self.max_no_improve_events = max_no_improve_events\n",
    "        \n",
    "    def notify_start(self):\n",
    "        super(AutomaticAborter, self).notify_start()\n",
    "        self.last_obj = None\n",
    "        self.nb_events_since_last_obj = 0\n",
    "        \n",
    "    def is_improving(self, new_obj, eps=1e-4):\n",
    "        last_obj = self.last_obj\n",
    "        return last_obj is None or (abs(new_obj- last_obj) >= eps)\n",
    "            \n",
    "    def notify_progress(self, pdata):\n",
    "        super(AutomaticAborter, self).notify_progress(pdata)\n",
    "        if pdata.has_incumbent and self.is_improving(pdata.current_objective):\n",
    "            self.last_obj = pdata.current_objective\n",
    "            self.nb_events_since_last_obj = 0\n",
    "            print('----> #new objective={0}'.format(self.last_obj))\n",
    "        elif self.last_obj is not None:\n",
    "            # a non improving move\n",
    "            self.nb_events_since_last_obj += 1\n",
    "            if self.nb_events_since_last_obj >= self.max_no_improve_events:\n",
    "                print('!! aborting cplex, non_improving={0} >= max_no_improve: {1}'.format(self.nb_events_since_last_obj,\n",
    "                                                                             self.max_no_improve_events))\n",
    "                self.abort()\n",
    "            else:\n",
    "                print('----> nb non-improving events={0}/{1}'.format(self.nb_events_since_last_obj, self.max_no_improve_events))"
   ]
  },
  {
   "cell_type": "markdown",
   "metadata": {},
   "source": [
    "Now see the aborter used on a larger problem:"
   ]
  },
  {
   "cell_type": "code",
   "execution_count": 14,
   "metadata": {},
   "outputs": [
    {
     "name": "stdout",
     "output_type": "stream",
     "text": [
      "----> #new objective=13.0\n",
      "----> nb non-improving events=1/20\n",
      "----> #new objective=14.0\n",
      "----> nb non-improving events=1/20\n",
      "----> nb non-improving events=2/20\n",
      "----> #new objective=15.0\n",
      "----> nb non-improving events=1/20\n",
      "----> nb non-improving events=2/20\n",
      "----> nb non-improving events=3/20\n",
      "----> nb non-improving events=4/20\n",
      "----> #new objective=16.0\n",
      "----> nb non-improving events=1/20\n",
      "----> nb non-improving events=2/20\n",
      "----> nb non-improving events=3/20\n",
      "----> nb non-improving events=4/20\n",
      "----> nb non-improving events=5/20\n",
      "----> nb non-improving events=6/20\n",
      "----> nb non-improving events=7/20\n",
      "----> nb non-improving events=8/20\n",
      "----> nb non-improving events=9/20\n",
      "----> nb non-improving events=10/20\n",
      "----> nb non-improving events=11/20\n",
      "----> nb non-improving events=12/20\n",
      "----> nb non-improving events=13/20\n",
      "----> nb non-improving events=14/20\n",
      "----> nb non-improving events=15/20\n",
      "----> nb non-improving events=16/20\n",
      "----> nb non-improving events=17/20\n",
      "----> nb non-improving events=18/20\n",
      "----> nb non-improving events=19/20\n",
      "!! aborting cplex, non_improving=20 >= max_no_improve: 20\n"
     ]
    }
   ],
   "source": [
    "large_hearts = build_hearts(9)\n",
    "#large_hearts.add_progress_listener(TextProgressListener(clock='gap'))\n",
    "# maximum non-improving time is 4 seconds.\n",
    "large_hearts.add_progress_listener(AutomaticAborter(max_no_improve_events=20))\n",
    "# again use clean_before_solve to ensure deterministic run of this cell.\n",
    "large_hearts.solve(clean_before_solve=True, log_output=False);"
   ]
  },
  {
   "cell_type": "markdown",
   "metadata": {},
   "source": [
    "The solve has aborted, it returned the latest solution. You can see this in the solve details' status value."
   ]
  },
  {
   "cell_type": "code",
   "execution_count": 15,
   "metadata": {},
   "outputs": [
    {
     "name": "stdout",
     "output_type": "stream",
     "text": [
      "* solution has objective 17.0\n",
      "* solve status is 'aborted'\n"
     ]
    }
   ],
   "source": [
    "large_s = large_hearts.solution\n",
    "print('* solution has objective {0}'.format(large_s.objective_value))\n",
    "print(\"* solve status is '{}'\".format(large_hearts.solve_details.status))"
   ]
  },
  {
   "cell_type": "markdown",
   "metadata": {},
   "source": [
    "### Step 4: Produce advancement charts\n",
    "\n",
    "Progress listeners can also be used to generate visual charts to plot the advancement of the solve.\n",
    "For example, assume you want to plot the chart of the gap vs. time.\n",
    "In a first version, you will just print the value of the gap and time.\n",
    "What clock do you listen to? Here you can listen to the `Gap` clock, and do not need to report solution values,\n",
    "so you can use a sub-class of `ProgressListener`.\n",
    "\n",
    "As this listener has no internal data, there is no need to write a `notify_start` method.\n",
    "\n",
    "The `notify_progress` consists of printing a formatted message with the gap and time.\n",
    "\n",
    "The code is as follows:"
   ]
  },
  {
   "cell_type": "code",
   "execution_count": 16,
   "metadata": {},
   "outputs": [],
   "source": [
    "class MipGapPrinter(ProgressListener):\n",
    "  \n",
    "    def __init__(self):\n",
    "        ProgressListener.__init__(self, ProgressClock.Gap)\n",
    "    \n",
    "    def notify_progress(self, pdata):\n",
    "        gap = pdata.mip_gap\n",
    "        ms_time = 1000* pdata.time\n",
    "        print('-- new gap: {0:.1%}, time: {1:.0f} ms'.format(gap, ms_time))"
   ]
  },
  {
   "cell_type": "code",
   "execution_count": 17,
   "metadata": {},
   "outputs": [
    {
     "name": "stdout",
     "output_type": "stream",
     "text": [
      "-- new gap: 100.0%, time: 7 ms\n",
      "-- new gap: 93.5%, time: 12 ms\n",
      "-- new gap: 89.0%, time: 19 ms\n",
      "-- new gap: 74.5%, time: 19 ms\n",
      "-- new gap: 72.9%, time: 24 ms\n",
      "-- new gap: 71.8%, time: 32 ms\n",
      "-- new gap: 70.8%, time: 40 ms\n",
      "-- new gap: 69.9%, time: 44 ms\n",
      "-- new gap: 68.9%, time: 49 ms\n",
      "-- new gap: 67.8%, time: 57 ms\n",
      "-- new gap: 55.9%, time: 58 ms\n",
      "-- new gap: 55.1%, time: 85 ms\n",
      "-- new gap: 30.0%, time: 152 ms\n",
      "-- new gap: 24.3%, time: 175 ms\n",
      "-- new gap: 21.4%, time: 180 ms\n",
      "-- new gap: 19.0%, time: 184 ms\n",
      "-- new gap: 16.7%, time: 192 ms\n",
      "-- new gap: 14.3%, time: 196 ms\n",
      "-- new gap: 12.5%, time: 203 ms\n",
      "-- new gap: 10.7%, time: 206 ms\n",
      "-- new gap: 9.5%, time: 207 ms\n",
      "-- new gap: 8.3%, time: 212 ms\n",
      "-- new gap: 0.0%, time: 219 ms\n"
     ]
    }
   ],
   "source": [
    "m8 = build_hearts(8)\n",
    "m8.add_progress_listener(MipGapPrinter())\n",
    "m8.solve(clean_before_solve=True);"
   ]
  },
  {
   "cell_type": "markdown",
   "metadata": {},
   "source": [
    "### Variant: using matplotlib to plot a chart of gap vs. time\n",
    "\n",
    "In this variant, use `matplotlib` to chart the evolution of gap over time. The logic of the custom listener is exactly the same as with the gap printer, except that you call matplotlib.plot instead of printing a message."
   ]
  },
  {
   "cell_type": "code",
   "execution_count": 18,
   "metadata": {},
   "outputs": [],
   "source": [
    "import matplotlib.pyplot as plt\n",
    "%matplotlib inline\n"
   ]
  },
  {
   "cell_type": "code",
   "execution_count": 19,
   "metadata": {},
   "outputs": [],
   "source": [
    "from docplex.mp.progress import ProgressListener, ProgressClock\n",
    "from IPython import display\n",
    "\n",
    "class MipGapPlotter(ProgressListener):\n",
    "    \n",
    "    def __init__(self):\n",
    "        ProgressListener.__init__(self, ProgressClock.Gap)\n",
    "        plt.ion()\n",
    "        self.fig = plt.figure(figsize=(10,4))\n",
    "        self.ax = self.fig.add_subplot(1,1,1)\n",
    "    \n",
    "    def notify_start(self):\n",
    "        self.times =[]\n",
    "        self.gaps = []\n",
    "        #self.lines, = ax.plot([],[], 'o')\n",
    "        plt.xlabel('time (ms)')\n",
    "        plt.ylabel('gap (%)')\n",
    "        \n",
    "    def notify_progress(self, pdata):\n",
    "        gap = pdata.mip_gap\n",
    "        time = pdata.time\n",
    "        self.times.append(1000* time)\n",
    "        self.gaps.append(100*gap)\n",
    "        plt.plot(self.times, self.gaps, 'go-')\n",
    "        display.display(plt.gcf())\n",
    "        display.clear_output(wait=True)\n"
   ]
  },
  {
   "cell_type": "code",
   "execution_count": 20,
   "metadata": {},
   "outputs": [
    {
     "data": {
      "image/png": "[encoded data removed]",
      "text/plain": [
       "<Figure size 1000x400 with 1 Axes>"
      ]
     },
     "metadata": {},
     "output_type": "display_data"
    }
   ],
   "source": [
    "m9 = build_hearts(9)\n",
    "m9.add_progress_listener(MipGapPlotter())\n",
    "m9.solve(clean_before_solve=True);"
   ]
  },
  {
   "cell_type": "markdown",
   "metadata": {},
   "source": [
    "## Summary\n",
    "\n",
    "\n",
    "You learned how to set up and use the IBM Decision Optimization CPLEX Modeling for Python to formulate a Mathematical Programming model and track its progress."
   ]
  },
  {
   "cell_type": "markdown",
   "metadata": {
    "render": true
   },
   "source": [
    "#### References\n",
    "* <a href=\"https://rawgit.com/IBMDecisionOptimization/docplex-doc/master/docs/index.html\" target=\"_blank\" rel=\"noopener noreferrer\">Decision Optimization CPLEX Modeling for Python documentation</a>\n",
    "* <a href=\"https://dataplatform.cloud.ibm.com/docs/content/wsj/getting-started/welcome-main.html?context=cpdaas\" target=\"_blank\" rel=\"noopener noreferrer\">IBM Cloud Pak for Data as a Service documentation</a>\n",
    "* <a href=\"https://dataplatform.cloud.ibm.com/docs/content/wsj/getting-started/welcome-main.html?context=wx\" target=\"_blank\" rel=\"noopener noreferrer\">IBM watsonx.ai documentation</a>\n",
    "\n"
   ]
  },
  {
   "cell_type": "markdown",
   "metadata": {},
   "source": [
    "<hr>\n",
    "Copyright &copy; 2017-2024 IBM. This notebook and its source code are released under the terms of the MIT License."
   ]
  }
 ],
 "metadata": {
  "gist_id": "6011986",
  "kernelspec": {
   "display_name": "Python 3.10",
   "language": "python",
   "name": "python3"
  },
  "language_info": {
   "codemirror_mode": {
    "name": "ipython",
    "version": 3
   },
   "file_extension": ".py",
   "mimetype": "text/x-python",
   "name": "python",
   "nbconvert_exporter": "python",
   "pygments_lexer": "ipython3",
   "version": "3.10.13"
  }
 },
 "nbformat": 4,
 "nbformat_minor": 1
}
