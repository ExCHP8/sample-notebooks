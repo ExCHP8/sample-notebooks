{
 "cells": [
  {
   "cell_type": "markdown",
   "metadata": {},
   "source": [
    "# Analyzing Emotion and Tone of Financial Complaints with Watson NLP"
   ]
  },
  {
   "cell_type": "markdown",
   "metadata": {},
   "source": [
    "This notebook demonstrates how to analyze financial customer complaints using Watson NLP.\n",
    "\n",
    "The data that is used in this notebook is taken from the Consumer Complaint Database that is published by the Consumer Financial Protection Bureau (CFPB), an U.S. government agency. The Consumer Complaint Database is a collection of complaints about consumer financial products and services that the CFPB sent to companies for response.  A complaint contains a consumer’s narrative description of their experience if the consumer opts to share this information publicly and after the CFPB has taken steps to remove all personal information. In this notebook, you will focus on complaints that contain narrative descriptions to show how to use Watson NLP.\n",
    "\n",
    "The data is publicly available at https://www.consumerfinance.gov/data-research/consumer-complaints/.\n",
    "\n",
    "## What you'll learn in this notebook\n",
    "\n",
    "Watson NLP offers so-called blocks for various NLP tasks. This notebooks shows:\n",
    "\n",
    "- **Tone classification** with the _Tone classification model_ for English (`ensemble_classification-wf_en_tone-stock`). This workflow model classifies the tone of a document as *excited*, *frustrated*, *sad*, *polite*, *impolite*, *satisfied* and *sympathetic*.\n",
    "- **Emotion classification** with the _Emotion classification model_ for English (`ensemble_classification-wf_en_emotion-stock`). This workflow model classifies the emotion of a document into *anger*, *disgust*, *fear*, *joy* or *sadness*. \n",
    "\n",
    "\n",
    "\n",
    "## Table of Contents\n",
    "\n",
    "\n",
    "1.\t[Before you start](#beforeYouStart)\n",
    "2.\t[Load the complaints](#loadData)\n",
    "3.\t[Tone classification](#tone)\n",
    "4.\t[Emotion classification](#emotion)\n",
    "5.  [Summary](#summary)\n"
   ]
  },
  {
   "cell_type": "markdown",
   "metadata": {},
   "source": [
    "<a id=\"beforeYouStart\"></a>\n",
    "## Before you start\n",
    "\n",
    "You can step through the notebook execution cell by cell, by selecting Shift-Enter or you can execute the entire notebook by selecting **Cell -> Run All** from the menu. \n",
    "\n",
    "**Note:** If you have other notebooks currently running with the _Default Python 3.8 + Watson NLP XS_ environment, **stop their kernels** before running this notebook. All these notebooks share the same runtime environment, and if they are running in parallel, you may encounter memory issues. To stop the kernel of another notebook, open that notebook, and select _File > Stop Kernel_."
   ]
  },
  {
   "cell_type": "markdown",
   "metadata": {},
   "source": [
    "\n",
    "Begin by importing and initializing some helper libraries that are used throughout the notebook."
   ]
  },
  {
   "cell_type": "code",
   "execution_count": 1,
   "metadata": {},
   "outputs": [],
   "source": [
    "import os\n",
    "import pandas as pd\n",
    "# we want to show large text snippets to be able to explore the relevant text\n",
    "pd.options.display.max_colwidth = 400"
   ]
  },
  {
   "cell_type": "code",
   "execution_count": 2,
   "metadata": {},
   "outputs": [],
   "source": [
    "import watson_nlp"
   ]
  },
  {
   "cell_type": "markdown",
   "metadata": {},
   "source": [
    "<a id=\"loadData\"></a>\n",
    "## Load the complaints"
   ]
  },
  {
   "cell_type": "markdown",
   "metadata": {},
   "source": [
    "The data can be downloaded via an API from https://www.consumerfinance.gov/data-research/consumer-complaints/. For this notebook, the complaints for one month will be downloaded and only those that contain the consumer narrative text. The data is exported in CSV format. The URL to retrieve this data is:"
   ]
  },
  {
   "cell_type": "code",
   "execution_count": 3,
   "metadata": {},
   "outputs": [],
   "source": [
    "url = \"https://www.consumerfinance.gov/data-research/consumer-complaints/search/api/v1/?date_received_max=2021-03-30&date_received_min=2021-02-28&field=all&format=csv&has_narrative=true&no_aggs=true&size=18102\""
   ]
  },
  {
   "cell_type": "markdown",
   "metadata": {},
   "source": [
    "Read the data into a dataframe.\n",
    "\n",
    "You can find a detailed explanation of the available columns here: https://www.consumerfinance.gov/complaint/data-use/#:~:text=Types%20of%20complaint%20data%20we%20publish .\n",
    "\n",
    "In the analysis, you will focus on the *Product* column and the column with the complaint text *Consumer complaint narrative*."
   ]
  },
  {
   "cell_type": "code",
   "execution_count": 4,
   "metadata": {},
   "outputs": [
    {
     "data": {
      "text/html": [
       "<div>\n",
       "<style scoped>\n",
       "    .dataframe tbody tr th:only-of-type {\n",
       "        vertical-align: middle;\n",
       "    }\n",
       "\n",
       "    .dataframe tbody tr th {\n",
       "        vertical-align: top;\n",
       "    }\n",
       "\n",
       "    .dataframe thead th {\n",
       "        text-align: right;\n",
       "    }\n",
       "</style>\n",
       "<table border=\"1\" class=\"dataframe\">\n",
       "  <thead>\n",
       "    <tr style=\"text-align: right;\">\n",
       "      <th></th>\n",
       "      <th>Date received</th>\n",
       "      <th>Product</th>\n",
       "      <th>Sub-product</th>\n",
       "      <th>Issue</th>\n",
       "      <th>Sub-issue</th>\n",
       "      <th>Consumer complaint narrative</th>\n",
       "      <th>Company public response</th>\n",
       "      <th>Company</th>\n",
       "      <th>State</th>\n",
       "      <th>ZIP code</th>\n",
       "      <th>Tags</th>\n",
       "      <th>Consumer consent provided?</th>\n",
       "      <th>Submitted via</th>\n",
       "      <th>Date sent to company</th>\n",
       "      <th>Company response to consumer</th>\n",
       "      <th>Timely response?</th>\n",
       "      <th>Consumer disputed?</th>\n",
       "      <th>Complaint ID</th>\n",
       "    </tr>\n",
       "  </thead>\n",
       "  <tbody>\n",
       "    <tr>\n",
       "      <th>0</th>\n",
       "      <td>03/30/21</td>\n",
       "      <td>Debt collection</td>\n",
       "      <td>I do not know</td>\n",
       "      <td>Written notification about debt</td>\n",
       "      <td>Didn't receive notice of right to dispute</td>\n",
       "      <td>XXXX This should be deleted is because its not accurate. The DLA is an acronym for Date of Last Activity which translates to the last date you made a payment. ( you never did ) Under the Fair Credit Reporting Act everything on your credit report has to be accurate. \\nBusinesses are not permitted to publish full credit card numbers on receipts. The law also allows you to protect your Social Sec...</td>\n",
       "      <td>None</td>\n",
       "      <td>Castle Credit Co Holdings, LLC, Chicago, IL Branch</td>\n",
       "      <td>GA</td>\n",
       "      <td>30521</td>\n",
       "      <td>None</td>\n",
       "      <td>Consent provided</td>\n",
       "      <td>Web</td>\n",
       "      <td>04/02/21</td>\n",
       "      <td>Closed with explanation</td>\n",
       "      <td>Yes</td>\n",
       "      <td>NaN</td>\n",
       "      <td>4253389</td>\n",
       "    </tr>\n",
       "    <tr>\n",
       "      <th>1</th>\n",
       "      <td>03/17/21</td>\n",
       "      <td>Credit reporting, credit repair services, or other personal consumer reports</td>\n",
       "      <td>Credit reporting</td>\n",
       "      <td>Incorrect information on your report</td>\n",
       "      <td>Information belongs to someone else</td>\n",
       "      <td>There are numerous accounts listed on my credit report that I currently have no knowledge of. This was a result of mal practice or an error!</td>\n",
       "      <td>Company has responded to the consumer and the CFPB and chooses not to provide a public response</td>\n",
       "      <td>TRANSUNION INTERMEDIATE HOLDINGS, INC.</td>\n",
       "      <td>NY</td>\n",
       "      <td>10524</td>\n",
       "      <td>None</td>\n",
       "      <td>Consent provided</td>\n",
       "      <td>Web</td>\n",
       "      <td>03/17/21</td>\n",
       "      <td>Closed with explanation</td>\n",
       "      <td>Yes</td>\n",
       "      <td>NaN</td>\n",
       "      <td>4220958</td>\n",
       "    </tr>\n",
       "    <tr>\n",
       "      <th>2</th>\n",
       "      <td>03/18/21</td>\n",
       "      <td>Debt collection</td>\n",
       "      <td>Auto debt</td>\n",
       "      <td>Written notification about debt</td>\n",
       "      <td>Didn't receive enough information to verify debt</td>\n",
       "      <td>I XXXX XXXX entered into a consumer credit transaction with XXXX XXXX XXXX on XX/XX/2017. A consumer credit transaction in which a finance charge was involved. 15 usc 1605 defines a finance charge as the sum of all charges in a consumer credit transaction. The finance does not include cash but XXXX XXXX XXXX took cash. The finance is suppose to include insurance but XXXX XXXX XXXX made me purc...</td>\n",
       "      <td>None</td>\n",
       "      <td>CarMax, Inc.</td>\n",
       "      <td>CT</td>\n",
       "      <td>06511</td>\n",
       "      <td>None</td>\n",
       "      <td>Consent provided</td>\n",
       "      <td>Web</td>\n",
       "      <td>03/18/21</td>\n",
       "      <td>Closed with explanation</td>\n",
       "      <td>Yes</td>\n",
       "      <td>NaN</td>\n",
       "      <td>4226003</td>\n",
       "    </tr>\n",
       "  </tbody>\n",
       "</table>\n",
       "</div>"
      ],
      "text/plain": [
       "  Date received  \\\n",
       "0      03/30/21   \n",
       "1      03/17/21   \n",
       "2      03/18/21   \n",
       "\n",
       "                                                                        Product  \\\n",
       "0                                                               Debt collection   \n",
       "1  Credit reporting, credit repair services, or other personal consumer reports   \n",
       "2                                                               Debt collection   \n",
       "\n",
       "        Sub-product                                 Issue  \\\n",
       "0     I do not know       Written notification about debt   \n",
       "1  Credit reporting  Incorrect information on your report   \n",
       "2         Auto debt       Written notification about debt   \n",
       "\n",
       "                                          Sub-issue  \\\n",
       "0         Didn't receive notice of right to dispute   \n",
       "1               Information belongs to someone else   \n",
       "2  Didn't receive enough information to verify debt   \n",
       "\n",
       "                                                                                                                                                                                                                                                                                                                                                                                      Consumer complaint narrative  \\\n",
       "0  XXXX This should be deleted is because its not accurate. The DLA is an acronym for Date of Last Activity which translates to the last date you made a payment. ( you never did ) Under the Fair Credit Reporting Act everything on your credit report has to be accurate. \\nBusinesses are not permitted to publish full credit card numbers on receipts. The law also allows you to protect your Social Sec...   \n",
       "1                                                                                                                                                                                                                                                                     There are numerous accounts listed on my credit report that I currently have no knowledge of. This was a result of mal practice or an error!   \n",
       "2  I XXXX XXXX entered into a consumer credit transaction with XXXX XXXX XXXX on XX/XX/2017. A consumer credit transaction in which a finance charge was involved. 15 usc 1605 defines a finance charge as the sum of all charges in a consumer credit transaction. The finance does not include cash but XXXX XXXX XXXX took cash. The finance is suppose to include insurance but XXXX XXXX XXXX made me purc...   \n",
       "\n",
       "                                                                           Company public response  \\\n",
       "0                                                                                             None   \n",
       "1  Company has responded to the consumer and the CFPB and chooses not to provide a public response   \n",
       "2                                                                                             None   \n",
       "\n",
       "                                              Company State ZIP code  Tags  \\\n",
       "0  Castle Credit Co Holdings, LLC, Chicago, IL Branch    GA    30521  None   \n",
       "1              TRANSUNION INTERMEDIATE HOLDINGS, INC.    NY    10524  None   \n",
       "2                                        CarMax, Inc.    CT    06511  None   \n",
       "\n",
       "  Consumer consent provided? Submitted via Date sent to company  \\\n",
       "0           Consent provided           Web             04/02/21   \n",
       "1           Consent provided           Web             03/17/21   \n",
       "2           Consent provided           Web             03/18/21   \n",
       "\n",
       "  Company response to consumer Timely response?  Consumer disputed?  \\\n",
       "0      Closed with explanation              Yes                 NaN   \n",
       "1      Closed with explanation              Yes                 NaN   \n",
       "2      Closed with explanation              Yes                 NaN   \n",
       "\n",
       "   Complaint ID  \n",
       "0       4253389  \n",
       "1       4220958  \n",
       "2       4226003  "
      ]
     },
     "execution_count": 4,
     "metadata": {},
     "output_type": "execute_result"
    }
   ],
   "source": [
    "df_all = pd.read_csv(url)\n",
    "text_col = 'Consumer complaint narrative'\n",
    "\n",
    "# In this example, we take only the first 1000 complaints in the dataset for further analysis. \n",
    "# Set df to df_all to run on the complete dataset.\n",
    "df_small = df_all.head(1000)\n",
    "df = df_small\n",
    "df.head(3)"
   ]
  },
  {
   "cell_type": "markdown",
   "metadata": {},
   "source": [
    "You can look at all products that are available in the data set to do further analysis around these product groups."
   ]
  },
  {
   "cell_type": "code",
   "execution_count": 5,
   "metadata": {},
   "outputs": [
    {
     "data": {
      "text/plain": [
       "<AxesSubplot:>"
      ]
     },
     "execution_count": 5,
     "metadata": {},
     "output_type": "execute_result"
    },
    {
     "data": {
      "image/png": "[encoded data removed]",
      "text/plain": [
       "<Figure size 432x288 with 1 Axes>"
      ]
     },
     "metadata": {
      "needs_background": "light"
     },
     "output_type": "display_data"
    }
   ],
   "source": [
    "df['Product'].value_counts().sort_values().plot(kind='barh') "
   ]
  },
  {
   "cell_type": "markdown",
   "metadata": {},
   "source": [
    "<a id=\"tone\"></a>\n",
    "## Tone classification"
   ]
  },
  {
   "cell_type": "markdown",
   "metadata": {},
   "source": [
    "The tone classification model predicts the most prevalent tones of a document text. Available tones are *excited*, *frustrated*, *sad*, *polite*, *impolite*, *satisfied* and *sympathetic*. Each tone is assigned a confidence, so we can either use the highest-rated tone or we can assign several tones to a document e.g. by taking all tones whose confidence exceeds a certain threshold.\n",
    "\n",
    "In customer complaints, you would expect the tone to be *sad* or *frustrated*. Let's see if the analysis confirms this assumption."
   ]
  },
  {
   "cell_type": "markdown",
   "metadata": {},
   "source": [
    "Start with loading the tone workflow model for English:"
   ]
  },
  {
   "cell_type": "code",
   "execution_count": 6,
   "metadata": {},
   "outputs": [],
   "source": [
    "tone_model = watson_nlp.load(watson_nlp.download('ensemble_classification-wf_en_tone-stock'))"
   ]
  },
  {
   "cell_type": "markdown",
   "metadata": {},
   "source": [
    "Create a helper function to run the tone analysis on a single complaint. It will return all tones that have a confidence that is higher than 1/7."
   ]
  },
  {
   "cell_type": "code",
   "execution_count": 7,
   "metadata": {},
   "outputs": [],
   "source": [
    "def classify_tone(complaint_text):\n",
    "    # run the tone model \n",
    "    tone_result = tone_model.run(complaint_text)\n",
    "    tone_classes = [c.to_dict() for c in tone_result.classes]\n",
    "    tone_conf = [c['class_name'] for c in tone_classes if c['confidence'] > 0.14]\n",
    "    return tone_conf"
   ]
  },
  {
   "cell_type": "markdown",
   "metadata": {},
   "source": [
    "Run the tone classification on the dataframe and show the tones with the product and the complaint text. **Note:** This cell will run for several minutes."
   ]
  },
  {
   "cell_type": "code",
   "execution_count": 8,
   "metadata": {},
   "outputs": [
    {
     "data": {
      "text/html": [
       "<div>\n",
       "<style scoped>\n",
       "    .dataframe tbody tr th:only-of-type {\n",
       "        vertical-align: middle;\n",
       "    }\n",
       "\n",
       "    .dataframe tbody tr th {\n",
       "        vertical-align: top;\n",
       "    }\n",
       "\n",
       "    .dataframe thead th {\n",
       "        text-align: right;\n",
       "    }\n",
       "</style>\n",
       "<table border=\"1\" class=\"dataframe\">\n",
       "  <thead>\n",
       "    <tr style=\"text-align: right;\">\n",
       "      <th></th>\n",
       "      <th>Product</th>\n",
       "      <th>Consumer complaint narrative</th>\n",
       "      <th>Tones</th>\n",
       "    </tr>\n",
       "  </thead>\n",
       "  <tbody>\n",
       "    <tr>\n",
       "      <th>0</th>\n",
       "      <td>Debt collection</td>\n",
       "      <td>XXXX This should be deleted is because its not accurate. The DLA is an acronym for Date of Last Activity which translates to the last date you made a payment. ( you never did ) Under the Fair Credit Reporting Act everything on your credit report has to be accurate. \\nBusinesses are not permitted to publish full credit card numbers on receipts. The law also allows you to protect your Social Sec...</td>\n",
       "      <td>[frustrated, polite, sad]</td>\n",
       "    </tr>\n",
       "    <tr>\n",
       "      <th>1</th>\n",
       "      <td>Credit reporting, credit repair services, or other personal consumer reports</td>\n",
       "      <td>There are numerous accounts listed on my credit report that I currently have no knowledge of. This was a result of mal practice or an error!</td>\n",
       "      <td>[sad, polite]</td>\n",
       "    </tr>\n",
       "    <tr>\n",
       "      <th>2</th>\n",
       "      <td>Debt collection</td>\n",
       "      <td>I XXXX XXXX entered into a consumer credit transaction with XXXX XXXX XXXX on XX/XX/2017. A consumer credit transaction in which a finance charge was involved. 15 usc 1605 defines a finance charge as the sum of all charges in a consumer credit transaction. The finance does not include cash but XXXX XXXX XXXX took cash. The finance is suppose to include insurance but XXXX XXXX XXXX made me purc...</td>\n",
       "      <td>[polite]</td>\n",
       "    </tr>\n",
       "    <tr>\n",
       "      <th>3</th>\n",
       "      <td>Debt collection</td>\n",
       "      <td>I have a fraudulent account on my credit report that I have never heard of.</td>\n",
       "      <td>[polite, sad]</td>\n",
       "    </tr>\n",
       "    <tr>\n",
       "      <th>4</th>\n",
       "      <td>Payday loan, title loan, or personal loan</td>\n",
       "      <td>We have a Home Equity Line of Credit- which the bank now calls \" Personal Line of Credit '' even though the loan is attached to the house- and there is no line of credit anymore. There hasn't been for a couple years. We are both still on unemployment and have lost substantial income during this pandemic. I am in the process of starting my own XXXX XXXX XXXX and will be building it starting XX/...</td>\n",
       "      <td>[sad, frustrated]</td>\n",
       "    </tr>\n",
       "  </tbody>\n",
       "</table>\n",
       "</div>"
      ],
      "text/plain": [
       "                                                                        Product  \\\n",
       "0                                                               Debt collection   \n",
       "1  Credit reporting, credit repair services, or other personal consumer reports   \n",
       "2                                                               Debt collection   \n",
       "3                                                               Debt collection   \n",
       "4                                     Payday loan, title loan, or personal loan   \n",
       "\n",
       "                                                                                                                                                                                                                                                                                                                                                                                      Consumer complaint narrative  \\\n",
       "0  XXXX This should be deleted is because its not accurate. The DLA is an acronym for Date of Last Activity which translates to the last date you made a payment. ( you never did ) Under the Fair Credit Reporting Act everything on your credit report has to be accurate. \\nBusinesses are not permitted to publish full credit card numbers on receipts. The law also allows you to protect your Social Sec...   \n",
       "1                                                                                                                                                                                                                                                                     There are numerous accounts listed on my credit report that I currently have no knowledge of. This was a result of mal practice or an error!   \n",
       "2  I XXXX XXXX entered into a consumer credit transaction with XXXX XXXX XXXX on XX/XX/2017. A consumer credit transaction in which a finance charge was involved. 15 usc 1605 defines a finance charge as the sum of all charges in a consumer credit transaction. The finance does not include cash but XXXX XXXX XXXX took cash. The finance is suppose to include insurance but XXXX XXXX XXXX made me purc...   \n",
       "3                                                                                                                                                                                                                                                                                                                                      I have a fraudulent account on my credit report that I have never heard of.   \n",
       "4  We have a Home Equity Line of Credit- which the bank now calls \" Personal Line of Credit '' even though the loan is attached to the house- and there is no line of credit anymore. There hasn't been for a couple years. We are both still on unemployment and have lost substantial income during this pandemic. I am in the process of starting my own XXXX XXXX XXXX and will be building it starting XX/...   \n",
       "\n",
       "                       Tones  \n",
       "0  [frustrated, polite, sad]  \n",
       "1              [sad, polite]  \n",
       "2                   [polite]  \n",
       "3              [polite, sad]  \n",
       "4          [sad, frustrated]  "
      ]
     },
     "execution_count": 8,
     "metadata": {},
     "output_type": "execute_result"
    }
   ],
   "source": [
    "# run tone classification and create a dataframe holding the tones\n",
    "tone = df[text_col].apply(lambda text: classify_tone(text))\n",
    "tone_df = pd.DataFrame(tone)\n",
    "tone_df.rename(inplace=True, columns={text_col:'Tones'})\n",
    "# combine with our complaint dataframe\n",
    "text_tone_df = df[[\"Product\", text_col]].merge(tone_df, how='left', left_index=True, right_index=True)\n",
    "text_tone_df.head()"
   ]
  },
  {
   "cell_type": "markdown",
   "metadata": {},
   "source": [
    "### Display the tones of the complaints by product\n",
    "\n",
    "Use the `explode` function to transform the tones list to separate rows for each tone. That way, you can count the occurrences for each tone in a subsequent step."
   ]
  },
  {
   "cell_type": "code",
   "execution_count": 9,
   "metadata": {},
   "outputs": [
    {
     "data": {
      "text/plain": [
       "<matplotlib.legend.Legend at 0x7f2df05fad90>"
      ]
     },
     "execution_count": 9,
     "metadata": {},
     "output_type": "execute_result"
    },
    {
     "data": {
      "image/png": "[encoded data removed]",
      "text/plain": [
       "<Figure size 432x288 with 1 Axes>"
      ]
     },
     "metadata": {
      "needs_background": "light"
     },
     "output_type": "display_data"
    }
   ],
   "source": [
    "exp_tones = text_tone_df.explode('Tones')\n",
    "# Count tone occurrences and use the relative frequency. unstack() creates a column for each tone.\n",
    "unstacked = exp_tones.groupby('Product')['Tones'].value_counts(normalize=True).unstack()\n",
    "# Re-order columns, 'satisfied' and 'impolite' are not contained in our data\n",
    "unstacked = unstacked[['sad', 'frustrated', 'polite', 'excited', 'sympathetic']]\n",
    "# Plot a horizontal bar chart\n",
    "unstacked.plot.barh(stacked=True).legend(loc='center left', bbox_to_anchor=(1.0, 0.5))"
   ]
  },
  {
   "cell_type": "markdown",
   "metadata": {},
   "source": [
    "As expected, most complaints are classified as *sad* or *frustrated*, but still using a *polite* tone. There is no strong indicator that some products have a higher frustration rate than others."
   ]
  },
  {
   "cell_type": "markdown",
   "metadata": {},
   "source": [
    "<a id=\"emotion\"></a>\n",
    "## Emotion classification"
   ]
  },
  {
   "cell_type": "markdown",
   "metadata": {},
   "source": [
    "The emotion classification model classifies the emotion of a document text. Available emotions are *anger*, *disgust*, *fear*, *joy* and *sadness*. As for tones, each emotion is assigned a confidence score. This time you will concentrate on the emotion with the highest confidence score.\n",
    "\n",
    "You would expect *anger* and *sadness* to be the most prevalent emotions in the  complaint data set."
   ]
  },
  {
   "cell_type": "markdown",
   "metadata": {},
   "source": [
    "Start with loading the emotion workflow model for English:"
   ]
  },
  {
   "cell_type": "code",
   "execution_count": 10,
   "metadata": {},
   "outputs": [],
   "source": [
    "emotion_model = watson_nlp.load(watson_nlp.download('ensemble_classification-wf_en_emotion-stock'))"
   ]
  },
  {
   "cell_type": "markdown",
   "metadata": {},
   "source": [
    "Again, use a helper model to run the model on a single complaint. The classes are ordered by the confidence score. So you can use the first emotion as the prevalent emotion with the highest confidence."
   ]
  },
  {
   "cell_type": "code",
   "execution_count": 11,
   "metadata": {},
   "outputs": [],
   "source": [
    "def classify_emotion(complaint_text):\n",
    "    # run the emotion model \n",
    "    emotion_result = emotion_model.run(complaint_text)\n",
    "    # get the first emotion as the one with the highest confidence\n",
    "    top_emotion = emotion_result.classes[0].to_dict()['class_name']\n",
    "    return top_emotion"
   ]
  },
  {
   "cell_type": "markdown",
   "metadata": {},
   "source": [
    "Run the emotion classification on the dataframe and show the highest ranked emotion with the product and the complaint text. **Note:** This cell will run for several minutes."
   ]
  },
  {
   "cell_type": "code",
   "execution_count": 12,
   "metadata": {},
   "outputs": [
    {
     "data": {
      "text/html": [
       "<div>\n",
       "<style scoped>\n",
       "    .dataframe tbody tr th:only-of-type {\n",
       "        vertical-align: middle;\n",
       "    }\n",
       "\n",
       "    .dataframe tbody tr th {\n",
       "        vertical-align: top;\n",
       "    }\n",
       "\n",
       "    .dataframe thead th {\n",
       "        text-align: right;\n",
       "    }\n",
       "</style>\n",
       "<table border=\"1\" class=\"dataframe\">\n",
       "  <thead>\n",
       "    <tr style=\"text-align: right;\">\n",
       "      <th></th>\n",
       "      <th>Product</th>\n",
       "      <th>Consumer complaint narrative</th>\n",
       "      <th>Emotion</th>\n",
       "    </tr>\n",
       "  </thead>\n",
       "  <tbody>\n",
       "    <tr>\n",
       "      <th>0</th>\n",
       "      <td>Debt collection</td>\n",
       "      <td>XXXX This should be deleted is because its not accurate. The DLA is an acronym for Date of Last Activity which translates to the last date you made a payment. ( you never did ) Under the Fair Credit Reporting Act everything on your credit report has to be accurate. \\nBusinesses are not permitted to publish full credit card numbers on receipts. The law also allows you to protect your Social Sec...</td>\n",
       "      <td>sadness</td>\n",
       "    </tr>\n",
       "    <tr>\n",
       "      <th>1</th>\n",
       "      <td>Credit reporting, credit repair services, or other personal consumer reports</td>\n",
       "      <td>There are numerous accounts listed on my credit report that I currently have no knowledge of. This was a result of mal practice or an error!</td>\n",
       "      <td>sadness</td>\n",
       "    </tr>\n",
       "    <tr>\n",
       "      <th>2</th>\n",
       "      <td>Debt collection</td>\n",
       "      <td>I XXXX XXXX entered into a consumer credit transaction with XXXX XXXX XXXX on XX/XX/2017. A consumer credit transaction in which a finance charge was involved. 15 usc 1605 defines a finance charge as the sum of all charges in a consumer credit transaction. The finance does not include cash but XXXX XXXX XXXX took cash. The finance is suppose to include insurance but XXXX XXXX XXXX made me purc...</td>\n",
       "      <td>sadness</td>\n",
       "    </tr>\n",
       "  </tbody>\n",
       "</table>\n",
       "</div>"
      ],
      "text/plain": [
       "                                                                        Product  \\\n",
       "0                                                               Debt collection   \n",
       "1  Credit reporting, credit repair services, or other personal consumer reports   \n",
       "2                                                               Debt collection   \n",
       "\n",
       "                                                                                                                                                                                                                                                                                                                                                                                      Consumer complaint narrative  \\\n",
       "0  XXXX This should be deleted is because its not accurate. The DLA is an acronym for Date of Last Activity which translates to the last date you made a payment. ( you never did ) Under the Fair Credit Reporting Act everything on your credit report has to be accurate. \\nBusinesses are not permitted to publish full credit card numbers on receipts. The law also allows you to protect your Social Sec...   \n",
       "1                                                                                                                                                                                                                                                                     There are numerous accounts listed on my credit report that I currently have no knowledge of. This was a result of mal practice or an error!   \n",
       "2  I XXXX XXXX entered into a consumer credit transaction with XXXX XXXX XXXX on XX/XX/2017. A consumer credit transaction in which a finance charge was involved. 15 usc 1605 defines a finance charge as the sum of all charges in a consumer credit transaction. The finance does not include cash but XXXX XXXX XXXX took cash. The finance is suppose to include insurance but XXXX XXXX XXXX made me purc...   \n",
       "\n",
       "   Emotion  \n",
       "0  sadness  \n",
       "1  sadness  \n",
       "2  sadness  "
      ]
     },
     "execution_count": 12,
     "metadata": {},
     "output_type": "execute_result"
    }
   ],
   "source": [
    "# run emotion classification and create a dataframe holding the results\n",
    "emotion = df[text_col].apply(lambda text: classify_emotion(text))\n",
    "emotion_df = pd.DataFrame(emotion)\n",
    "emotion_df.rename(inplace=True, columns={text_col:'Emotion'})\n",
    "# combine with our complaint dataframe\n",
    "text_emotion_df = df[[\"Product\", text_col]].merge(emotion_df, how='left', left_index=True, right_index=True)\n",
    "text_emotion_df.head(3)"
   ]
  },
  {
   "cell_type": "markdown",
   "metadata": {},
   "source": [
    "### Display the emotion classification for each product group"
   ]
  },
  {
   "cell_type": "code",
   "execution_count": 13,
   "metadata": {},
   "outputs": [
    {
     "data": {
      "text/plain": [
       "<matplotlib.legend.Legend at 0x7f2ea84b1370>"
      ]
     },
     "execution_count": 13,
     "metadata": {},
     "output_type": "execute_result"
    },
    {
     "data": {
      "image/png": "[encoded data removed]",
      "text/plain": [
       "<Figure size 432x288 with 1 Axes>"
      ]
     },
     "metadata": {
      "needs_background": "light"
     },
     "output_type": "display_data"
    }
   ],
   "source": [
    "unstacked = text_emotion_df.groupby('Product')['Emotion'].value_counts(normalize=True).unstack()\n",
    "unstacked.plot.barh(stacked=True).legend(loc='center left',bbox_to_anchor=(1.0, 0.5))"
   ]
  },
  {
   "cell_type": "markdown",
   "metadata": {},
   "source": [
    "As expected, the most prevalent emotions in the complaints are sadness and anger. In contrast to the tones classification, we picked only the emotion with the highest confidence score and not multiple emotions with a score above a certain threshold. *Sadness* seems to be the 'stronger' emotion overall, with higher confidences than *anger*. Companies might have a look at products or complaints showing emotion *anger*, because the customers that created those complaints might be 'pissed-off' most."
   ]
  },
  {
   "cell_type": "markdown",
   "metadata": {},
   "source": [
    "<a id=\"summary\"></a>\n",
    "## Summary"
   ]
  },
  {
   "cell_type": "markdown",
   "metadata": {},
   "source": [
    "This notebook shows you how to use the Watson NLP library and how quickly and easily you can get started with Watson NLP by running the pretrained models for tone and emotion classification and entity extraction. You learned how easy you can extract custom terms using dictionaries."
   ]
  },
  {
   "cell_type": "markdown",
   "metadata": {},
   "source": [
    "### Authors\n",
    "Simone Zerfass IBM, Germany\n",
    "\n",
    "Alexander Lang IBM, Germany"
   ]
  },
  {
   "cell_type": "markdown",
   "metadata": {},
   "source": [
    "# <hr>\n",
    "Copyright © 2021 IBM. This notebook and its source code are released under the terms of the MIT License."
   ]
  }
 ],
 "metadata": {
  "kernelspec": {
   "display_name": "Python 3.8 Watson NLP",
   "language": "python",
   "name": "python3"
  },
  "language_info": {
   "codemirror_mode": {
    "name": "ipython",
    "version": 3
   },
   "file_extension": ".py",
   "mimetype": "text/x-python",
   "name": "python",
   "nbconvert_exporter": "python",
   "pygments_lexer": "ipython3",
   "version": "3.8.11"
  }
 },
 "nbformat": 4,
 "nbformat_minor": 4
}
