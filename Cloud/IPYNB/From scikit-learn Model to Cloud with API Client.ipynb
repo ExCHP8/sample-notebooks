{
 "cells": [
  {
   "cell_type": "markdown",
   "metadata": {},
   "source": [
    "<div style=\"background:#F5F7FA; height:100px; padding: 2em; font-size:14px;\">\n",
    "<span style=\"font-size:18px;color:#152935;\">Want to do more?</span><span style=\"border: 1px solid #3d70b2;padding: 15px;float:right;margin-right:40px; color:#3d70b2; \"><a href=\"https://ibm.co/wsnotebooks\" target=\"_blank\" style=\"color: #3d70b2;text-decoration: none;\">Sign Up</a></span><br>\n",
    "<span style=\"color:#5A6872;\"> Try out this notebook with your free trial of IBM Watson Studio.</span>\n",
    "</div>"
   ]
  },
  {
   "cell_type": "markdown",
   "metadata": {},
   "source": [
    "<table style=\"border: none\" align=\"left\">\n",
    "   <tr style=\"border: none\">\n",
    "      <th style=\"border: none\"><font face=\"verdana\" size=\"5\" color=\"black\"><b>From scikit-learn Model to Cloud with Watson Machine Learning client</b></th>\n",
    "      <th style=\"border: none\"><img src=\"https://github.com/pmservice/customer-satisfaction-prediction/blob/master/app/static/images/ml_icon_gray.png?raw=true\" alt=\"Watson Machine Learning icon\" height=\"40\" width=\"40\"></th>\n",
    "   </tr>\n",
    "   <tr style=\"border: none\">\n",
    "       <th style=\"border: none\"><img src=\"https://github.com/pmservice/wml-sample-models/raw/master/scikit-learn/hand-written-digits-recognition/images/numbers_banner-04.png\" width=\"600\" alt=\"Icon\"> </th>\n",
    "   </tr>\n",
    "</table>"
   ]
  },
  {
   "cell_type": "markdown",
   "metadata": {},
   "source": [
    "This notebook contains steps and code to work with <a href=\"https://pypi.python.org/pypi/watson-machine-learning-client\" target=\"_blank\" rel=\"noopener noreferrer\">watson-machine-learning-client</a> library available in PyPI repository. This notebook introduces commands for getting data and for basic data exploration, pipeline creation, model training and evaluation, model persistance to Watson Machine Learning repository, model deployment, and scoring.\n",
    "\n",
    "Some familiarity with Python is helpful. This notebook uses Python 3.5, Spark 2.1, scikit-learn, watson-machine-learning-client package.\n",
    "\n",
    "You will use a toy dataset available in scikit-learn, **sklearn.datasets.load_digits**, which contains hand-written digits images. Use the toy dataset to recognize hand-written digits.\n",
    "\n",
    "## Learning goals\n",
    "\n",
    "The learning goals of this notebook are:\n",
    "\n",
    "-  Load a sample dataset from scikit-learn.\n",
    "-  Explore data.\n",
    "-  Prepare data for training and evaluation.\n",
    "-  Create Scikit-learn machine learning pipeline.\n",
    "-  Train and evaluate a model.\n",
    "-  Persist a model in Watson Machine Learning repository.\n",
    "-  Deploy model for online scoring using client library.\n",
    "-  Score sample records using client library.\n",
    "\n",
    "\n",
    "## Contents\n",
    "\n",
    "This notebook contains the following parts:\n",
    "\n",
    "1.\t[Setup](#setup)\n",
    "2.\t[Load and explore data](#load)\n",
    "3.\t[Create scikit-learn model](#model)\n",
    "4.\t[Persist model](#persistence)\n",
    "5.\t[Deploy and score in a Cloud](#scoring)\n",
    "6.\t[Summary and next steps](#summary)"
   ]
  },
  {
   "cell_type": "markdown",
   "metadata": {},
   "source": [
    "<a id=\"setup\"></a>\n",
    "## 1. Setup\n",
    "\n",
    "Before you use the sample code in this notebook, you must perform the following setup task:\n",
    "\n",
    "-  Create a <a href=\"https://console.ng.bluemix.net/catalog/services/ibm-watson-machine-learning/\" target=\"_blank\" rel=\"noopener noreferrer\">Watson Machine Learning Service</a> instance (a free plan is offered). \n",
    "- Configure local python environment\n",
    "  + python 3.5\n",
    "  + scikit-learn 0.17.1\n",
    "  + watson-machine-learning-client"
   ]
  },
  {
   "cell_type": "markdown",
   "metadata": {},
   "source": [
    "**Tip**: You can install libraries from [PyPI](https://pypi.python.org/pypi) running cell below."
   ]
  },
  {
   "cell_type": "code",
   "execution_count": null,
   "metadata": {},
   "outputs": [],
   "source": [
    "!pip install watson-machine-learning-client --upgrade"
   ]
  },
  {
   "cell_type": "markdown",
   "metadata": {},
   "source": [
    "<a id=\"load\"></a>\n",
    "## 2. Load and explore data"
   ]
  },
  {
   "cell_type": "markdown",
   "metadata": {},
   "source": [
    "In this section you will load the data from scikit-learn sample datasets and perform a basic exploration."
   ]
  },
  {
   "cell_type": "code",
   "execution_count": 2,
   "metadata": {},
   "outputs": [],
   "source": [
    "import sklearn\n",
    "from sklearn import datasets\n",
    "\n",
    "digits = datasets.load_digits()"
   ]
  },
  {
   "cell_type": "markdown",
   "metadata": {},
   "source": [
    "Loaded toy dataset consists of 8x8 pixels images of hand-written digits."
   ]
  },
  {
   "cell_type": "markdown",
   "metadata": {},
   "source": [
    "Let's display first digit data and label using **data** and **target**."
   ]
  },
  {
   "cell_type": "code",
   "execution_count": 3,
   "metadata": {},
   "outputs": [
    {
     "name": "stdout",
     "output_type": "stream",
     "text": [
      "[[ 0.  0.  5. 13.  9.  1.  0.  0.]\n",
      " [ 0.  0. 13. 15. 10. 15.  5.  0.]\n",
      " [ 0.  3. 15.  2.  0. 11.  8.  0.]\n",
      " [ 0.  4. 12.  0.  0.  8.  8.  0.]\n",
      " [ 0.  5.  8.  0.  0.  9.  8.  0.]\n",
      " [ 0.  4. 11.  0.  1. 12.  7.  0.]\n",
      " [ 0.  2. 14.  5. 10. 12.  0.  0.]\n",
      " [ 0.  0.  6. 13. 10.  0.  0.  0.]]\n"
     ]
    }
   ],
   "source": [
    "print(digits.data[0].reshape((8, 8)))"
   ]
  },
  {
   "cell_type": "code",
   "execution_count": 4,
   "metadata": {},
   "outputs": [
    {
     "data": {
      "text/plain": [
       "0"
      ]
     },
     "execution_count": 4,
     "metadata": {},
     "output_type": "execute_result"
    }
   ],
   "source": [
    "digits.target[0]"
   ]
  },
  {
   "cell_type": "markdown",
   "metadata": {},
   "source": [
    "In next step you will count data examples."
   ]
  },
  {
   "cell_type": "code",
   "execution_count": 5,
   "metadata": {},
   "outputs": [
    {
     "name": "stdout",
     "output_type": "stream",
     "text": [
      "Number of samples: 1797\n"
     ]
    }
   ],
   "source": [
    "samples_count = len(digits.images)\n",
    "\n",
    "print(\"Number of samples: \" + str(samples_count))"
   ]
  },
  {
   "cell_type": "markdown",
   "metadata": {},
   "source": [
    "<a id=\"model\"></a>\n",
    "## 3. Create a Scikit-learn model\n",
    "\n",
    "In this section you will learn how to prepare data, create a Scikit-learn machine learning pipeline, and train a model."
   ]
  },
  {
   "cell_type": "markdown",
   "metadata": {},
   "source": [
    "### 3.1: Prepare data\n",
    "\n",
    "In this subsection you will split your data into: train, test, and score datasets."
   ]
  },
  {
   "cell_type": "code",
   "execution_count": 6,
   "metadata": {},
   "outputs": [
    {
     "name": "stdout",
     "output_type": "stream",
     "text": [
      "Number of training records: 1257\n",
      "Number of testing records : 360\n",
      "Number of scoring records : 180\n"
     ]
    }
   ],
   "source": [
    "train_data = digits.data[: int(0.7*samples_count)]\n",
    "train_labels = digits.target[: int(0.7*samples_count)]\n",
    "\n",
    "test_data = digits.data[int(0.7*samples_count): int(0.9*samples_count)]\n",
    "test_labels = digits.target[int(0.7*samples_count): int(0.9*samples_count)]\n",
    "\n",
    "score_data = digits.data[int(0.9*samples_count): ]\n",
    "\n",
    "print(\"Number of training records: \" + str(len(train_data)))\n",
    "print(\"Number of testing records : \" + str(len(test_data)))\n",
    "print(\"Number of scoring records : \" + str(len(score_data)))"
   ]
  },
  {
   "cell_type": "markdown",
   "metadata": {},
   "source": [
    "As you can see our data has been successfully split into three datasets: \n",
    "\n",
    "-  The train data set, which is the largest group, is used for training.\n",
    "-  The test data set will be used for model evaluation and is used to test the assumptions of the model.\n",
    "-  The score data set will be used for scoring in Cloud."
   ]
  },
  {
   "cell_type": "markdown",
   "metadata": {},
   "source": [
    "### 3.2: Create pipeline and train a model"
   ]
  },
  {
   "cell_type": "markdown",
   "metadata": {},
   "source": [
    "In this section you will create scikit-learn machine learning pipeline and then train the model."
   ]
  },
  {
   "cell_type": "markdown",
   "metadata": {},
   "source": [
    "In the first step you need to import the scikit-learn machine learning packages that will be needed in the subsequent steps."
   ]
  },
  {
   "cell_type": "code",
   "execution_count": 7,
   "metadata": {},
   "outputs": [],
   "source": [
    "from sklearn.pipeline import Pipeline\n",
    "from sklearn import preprocessing\n",
    "from sklearn import svm, metrics"
   ]
  },
  {
   "cell_type": "markdown",
   "metadata": {},
   "source": [
    "Standardize features by removing the mean and scaling to unit variance."
   ]
  },
  {
   "cell_type": "code",
   "execution_count": 8,
   "metadata": {},
   "outputs": [],
   "source": [
    "scaler = preprocessing.StandardScaler()"
   ]
  },
  {
   "cell_type": "markdown",
   "metadata": {},
   "source": [
    "Next, define estimators you want to use for classification. Support Vector Machines (SVM) with radial basis function as kernel is used in the following example."
   ]
  },
  {
   "cell_type": "code",
   "execution_count": 9,
   "metadata": {},
   "outputs": [],
   "source": [
    "clf = svm.SVC(kernel='rbf')"
   ]
  },
  {
   "cell_type": "markdown",
   "metadata": {},
   "source": [
    "Let's build the pipeline now. A pipeline consists of transformer and an estimator."
   ]
  },
  {
   "cell_type": "code",
   "execution_count": 10,
   "metadata": {},
   "outputs": [],
   "source": [
    "pipeline = Pipeline([('scaler', scaler), ('svc', clf)])"
   ]
  },
  {
   "cell_type": "markdown",
   "metadata": {},
   "source": [
    "Now, you can train your SVM model by using the previously defined **pipeline** and **train data**."
   ]
  },
  {
   "cell_type": "code",
   "execution_count": 11,
   "metadata": {},
   "outputs": [],
   "source": [
    "model = pipeline.fit(train_data, train_labels)"
   ]
  },
  {
   "cell_type": "markdown",
   "metadata": {},
   "source": [
    "You can check your **model quality** now. To evaluate the model, use **test data**."
   ]
  },
  {
   "cell_type": "code",
   "execution_count": 12,
   "metadata": {},
   "outputs": [
    {
     "name": "stdout",
     "output_type": "stream",
     "text": [
      "Evaluation report: \n",
      "\n",
      "             precision    recall  f1-score   support\n",
      "\n",
      "          0       1.00      0.97      0.99        37\n",
      "          1       0.97      0.97      0.97        34\n",
      "          2       1.00      0.97      0.99        36\n",
      "          3       1.00      0.94      0.97        35\n",
      "          4       0.78      0.97      0.87        37\n",
      "          5       0.97      0.97      0.97        38\n",
      "          6       0.97      0.86      0.91        36\n",
      "          7       0.92      0.97      0.94        35\n",
      "          8       0.91      0.89      0.90        35\n",
      "          9       0.97      0.92      0.94        37\n",
      "\n",
      "avg / total       0.95      0.94      0.95       360\n",
      "\n"
     ]
    }
   ],
   "source": [
    "predicted = model.predict(test_data)\n",
    "\n",
    "print(\"Evaluation report: \\n\\n%s\" % metrics.classification_report(test_labels, predicted))"
   ]
  },
  {
   "cell_type": "markdown",
   "metadata": {
    "collapsed": true
   },
   "source": [
    "You can tune your model now to achieve better accuracy. For simplicity of this example tuning section is omitted."
   ]
  },
  {
   "cell_type": "markdown",
   "metadata": {
    "collapsed": true
   },
   "source": [
    "<a id=\"persistence\"></a>\n",
    "## 4. Persist model"
   ]
  },
  {
   "cell_type": "markdown",
   "metadata": {},
   "source": [
    "In this section you will learn how to store your model in Watson Machine Learning repository by using commont python client."
   ]
  },
  {
   "cell_type": "markdown",
   "metadata": {},
   "source": [
    "**Tip**: You can check documentation for watson-machine-learning-client by visiting the <a href=\"https://wml-api-pyclient.mybluemix.net\" target=\"_blank\" rel=\"noopener noreferrer\">documentation webpage</a>."
   ]
  },
  {
   "cell_type": "markdown",
   "metadata": {},
   "source": [
    "### 4.1: Work with your instance"
   ]
  },
  {
   "cell_type": "markdown",
   "metadata": {
    "collapsed": true
   },
   "source": [
    "First, you must import client libraries."
   ]
  },
  {
   "cell_type": "code",
   "execution_count": null,
   "metadata": {},
   "outputs": [],
   "source": [
    "from watson_machine_learning_client import WatsonMachineLearningAPIClient"
   ]
  },
  {
   "cell_type": "markdown",
   "metadata": {
    "collapsed": true
   },
   "source": [
    "Authenticate to Watson Machine Learning service on IBM Cloud."
   ]
  },
  {
   "cell_type": "markdown",
   "metadata": {},
   "source": [
    "**Action**: Put authentication information from your instance of Watson Machine Learning service here.</div>"
   ]
  },
  {
   "cell_type": "code",
   "execution_count": 16,
   "metadata": {},
   "outputs": [],
   "source": [
    "wml_credentials={\n",
    "  \"url\": \"https://ibm-watson-ml.mybluemix.net\",\n",
    "  \"access_key\": \"***\",\n",
    "  \"username\": \"***\",\n",
    "  \"password\": \"***\",\n",
    "  \"instance_id\": \"***\"\n",
    "}"
   ]
  },
  {
   "cell_type": "markdown",
   "metadata": {
    "collapsed": true
   },
   "source": [
    "**Tip**: Authentication information can be found on **Service Credentials** tab of service instance created on IBM  Cloud. <BR>If you cannot see **instance_id** field in **Serice Credentials** generate new credentials by pressing **New credential (+)** button. "
   ]
  },
  {
   "cell_type": "markdown",
   "metadata": {},
   "source": [
    "#### Create API client by running below code."
   ]
  },
  {
   "cell_type": "code",
   "execution_count": 17,
   "metadata": {},
   "outputs": [],
   "source": [
    "client = WatsonMachineLearningAPIClient(wml_credentials)"
   ]
  },
  {
   "cell_type": "markdown",
   "metadata": {},
   "source": [
    "#### Get instance details."
   ]
  },
  {
   "cell_type": "code",
   "execution_count": 18,
   "metadata": {},
   "outputs": [
    {
     "name": "stdout",
     "output_type": "stream",
     "text": [
      "{\n",
      "  \"metadata\": {\n",
      "    \"created_at\": \"2018-02-19T14:57:53.275Z\",\n",
      "    \"url\": \"https://ibm-watson-ml.mybluemix.net/v3/wml_instances/8f11cfac-57ca-4a0c-9815-7abbd7a72491\",\n",
      "    \"modified_at\": \"2018-02-19T14:57:53.275Z\",\n",
      "    \"guid\": \"8f11cfac-57ca-4a0c-9815-7abbd7a72491\"\n",
      "  },\n",
      "  \"entity\": {\n",
      "    \"region\": \"us-south\",\n",
      "    \"account\": {\n",
      "      \"id\": \"e2cb778ce7da6d8945e99e5f02b48a43\",\n",
      "      \"type\": \"TRIAL\",\n",
      "      \"name\": \"Melanie Manley's Account\"\n",
      "    },\n",
      "    \"deployments\": {\n",
      "      \"url\": \"https://ibm-watson-ml.mybluemix.net/v3/wml_instances/8f11cfac-57ca-4a0c-9815-7abbd7a72491/deployments\"\n",
      "    },\n",
      "    \"source\": \"Bluemix\",\n",
      "    \"status\": \"Active\",\n",
      "    \"plan_id\": \"3f6acf43-ede8-413a-ac69-f8af3bb0cbfe\",\n",
      "    \"published_models\": {\n",
      "      \"url\": \"https://ibm-watson-ml.mybluemix.net/v3/wml_instances/8f11cfac-57ca-4a0c-9815-7abbd7a72491/published_models\"\n",
      "    },\n",
      "    \"organization_guid\": \"411fda6f-bb89-452d-98f2-fb852198f154\",\n",
      "    \"plan\": \"lite\",\n",
      "    \"space_guid\": \"f6ef3ba5-8f4e-4614-a10f-9bb95b1f072f\",\n",
      "    \"usage\": {\n",
      "      \"capacity_units\": {\n",
      "        \"current\": 1,\n",
      "        \"limit\": 180000000\n",
      "      },\n",
      "      \"expiration_date\": \"2018-04-01T00:00:00.000Z\",\n",
      "      \"model_count\": {\n",
      "        \"current\": 4,\n",
      "        \"limit\": 200\n",
      "      },\n",
      "      \"deployment_count\": {\n",
      "        \"current\": 1,\n",
      "        \"limit\": 5\n",
      "      },\n",
      "      \"computation_time\": {\n",
      "        \"current\": 0,\n",
      "        \"limit\": 180000\n",
      "      },\n",
      "      \"prediction_count\": {\n",
      "        \"current\": 2,\n",
      "        \"limit\": 5000\n",
      "      },\n",
      "      \"gpu_count\": {\n",
      "        \"current\": 0,\n",
      "        \"limit\": 8\n",
      "      }\n",
      "    },\n",
      "    \"owner\": {\n",
      "      \"country_code\": \"DEU\",\n",
      "      \"ibm_id\": \"31000098BV\",\n",
      "      \"beta_user\": true,\n",
      "      \"user_id\": \"8abd03a9-3b11-40c0-9a94-e87b48c79e07\",\n",
      "      \"email\": \"mjma@de.ibm.com\"\n",
      "    }\n",
      "  }\n",
      "}\n"
     ]
    }
   ],
   "source": [
    "import json\n",
    "\n",
    "instance_details = client.service_instance.get_details()\n",
    "print(json.dumps(instance_details, indent=2))"
   ]
  },
  {
   "cell_type": "markdown",
   "metadata": {},
   "source": [
    "### 4.2: Publish model"
   ]
  },
  {
   "cell_type": "markdown",
   "metadata": {},
   "source": [
    "#### Publish model in Watson Machine Learning repository on Cloud."
   ]
  },
  {
   "cell_type": "markdown",
   "metadata": {},
   "source": [
    "Define model name, autor name and email."
   ]
  },
  {
   "cell_type": "code",
   "execution_count": 21,
   "metadata": {},
   "outputs": [],
   "source": [
    "model_props = {client.repository.ModelMetaNames.AUTHOR_NAME: \"IBM\", \n",
    "               client.repository.ModelMetaNames.AUTHOR_EMAIL: \"ibm@ibm.com\",\n",
    "               client.repository.ModelMetaNames.NAME: \"LOCALLY created Digits prediction model\"}"
   ]
  },
  {
   "cell_type": "code",
   "execution_count": 22,
   "metadata": {},
   "outputs": [],
   "source": [
    "published_model = client.repository.store_model(model=model, meta_props=model_props, \\\n",
    "                                                training_data=train_data, training_target=train_labels)"
   ]
  },
  {
   "cell_type": "markdown",
   "metadata": {},
   "source": [
    "### 4.3: Get model details"
   ]
  },
  {
   "cell_type": "code",
   "execution_count": 23,
   "metadata": {},
   "outputs": [
    {
     "name": "stdout",
     "output_type": "stream",
     "text": [
      "{\n",
      "  \"metadata\": {\n",
      "    \"created_at\": \"2018-03-06T12:27:21.070Z\",\n",
      "    \"url\": \"https://ibm-watson-ml.mybluemix.net/v3/wml_instances/8f11cfac-57ca-4a0c-9815-7abbd7a72491/published_models/6ebd93c7-b902-4e04-9827-618b3b21eccc\",\n",
      "    \"modified_at\": \"2018-03-06T12:27:21.133Z\",\n",
      "    \"guid\": \"6ebd93c7-b902-4e04-9827-618b3b21eccc\"\n",
      "  },\n",
      "  \"entity\": {\n",
      "    \"latest_version\": {\n",
      "      \"created_at\": \"2018-03-06T12:27:21.133Z\",\n",
      "      \"url\": \"https://ibm-watson-ml.mybluemix.net/v3/ml_assets/models/6ebd93c7-b902-4e04-9827-618b3b21eccc/versions/6fcede0b-4c32-4fa3-9bb7-4d740ee7b685\",\n",
      "      \"guid\": \"6fcede0b-4c32-4fa3-9bb7-4d740ee7b685\"\n",
      "    },\n",
      "    \"runtime_environment\": \"python-3.5\",\n",
      "    \"name\": \"LOCALLY created Digits prediction model\",\n",
      "    \"learning_configuration_url\": \"https://ibm-watson-ml.mybluemix.net/v3/wml_instances/8f11cfac-57ca-4a0c-9815-7abbd7a72491/published_models/6ebd93c7-b902-4e04-9827-618b3b21eccc/learning_configuration\",\n",
      "    \"model_type\": \"scikit-learn-0.19\",\n",
      "    \"input_data_schema\": {\n",
      "      \"features\": {\n",
      "        \"fields\": [\n",
      "          {\n",
      "            \"type\": \"float\",\n",
      "            \"name\": \"f0\"\n",
      "          },\n",
      "          {\n",
      "            \"type\": \"float\",\n",
      "            \"name\": \"f1\"\n",
      "          },\n",
      "          {\n",
      "            \"type\": \"float\",\n",
      "            \"name\": \"f2\"\n",
      "          },\n",
      "          {\n",
      "            \"type\": \"float\",\n",
      "            \"name\": \"f3\"\n",
      "          },\n",
      "          {\n",
      "            \"type\": \"float\",\n",
      "            \"name\": \"f4\"\n",
      "          },\n",
      "          {\n",
      "            \"type\": \"float\",\n",
      "            \"name\": \"f5\"\n",
      "          },\n",
      "          {\n",
      "            \"type\": \"float\",\n",
      "            \"name\": \"f6\"\n",
      "          },\n",
      "          {\n",
      "            \"type\": \"float\",\n",
      "            \"name\": \"f7\"\n",
      "          },\n",
      "          {\n",
      "            \"type\": \"float\",\n",
      "            \"name\": \"f8\"\n",
      "          },\n",
      "          {\n",
      "            \"type\": \"float\",\n",
      "            \"name\": \"f9\"\n",
      "          },\n",
      "          {\n",
      "            \"type\": \"float\",\n",
      "            \"name\": \"f10\"\n",
      "          },\n",
      "          {\n",
      "            \"type\": \"float\",\n",
      "            \"name\": \"f11\"\n",
      "          },\n",
      "          {\n",
      "            \"type\": \"float\",\n",
      "            \"name\": \"f12\"\n",
      "          },\n",
      "          {\n",
      "            \"type\": \"float\",\n",
      "            \"name\": \"f13\"\n",
      "          },\n",
      "          {\n",
      "            \"type\": \"float\",\n",
      "            \"name\": \"f14\"\n",
      "          },\n",
      "          {\n",
      "            \"type\": \"float\",\n",
      "            \"name\": \"f15\"\n",
      "          },\n",
      "          {\n",
      "            \"type\": \"float\",\n",
      "            \"name\": \"f16\"\n",
      "          },\n",
      "          {\n",
      "            \"type\": \"float\",\n",
      "            \"name\": \"f17\"\n",
      "          },\n",
      "          {\n",
      "            \"type\": \"float\",\n",
      "            \"name\": \"f18\"\n",
      "          },\n",
      "          {\n",
      "            \"type\": \"float\",\n",
      "            \"name\": \"f19\"\n",
      "          },\n",
      "          {\n",
      "            \"type\": \"float\",\n",
      "            \"name\": \"f20\"\n",
      "          },\n",
      "          {\n",
      "            \"type\": \"float\",\n",
      "            \"name\": \"f21\"\n",
      "          },\n",
      "          {\n",
      "            \"type\": \"float\",\n",
      "            \"name\": \"f22\"\n",
      "          },\n",
      "          {\n",
      "            \"type\": \"float\",\n",
      "            \"name\": \"f23\"\n",
      "          },\n",
      "          {\n",
      "            \"type\": \"float\",\n",
      "            \"name\": \"f24\"\n",
      "          },\n",
      "          {\n",
      "            \"type\": \"float\",\n",
      "            \"name\": \"f25\"\n",
      "          },\n",
      "          {\n",
      "            \"type\": \"float\",\n",
      "            \"name\": \"f26\"\n",
      "          },\n",
      "          {\n",
      "            \"type\": \"float\",\n",
      "            \"name\": \"f27\"\n",
      "          },\n",
      "          {\n",
      "            \"type\": \"float\",\n",
      "            \"name\": \"f28\"\n",
      "          },\n",
      "          {\n",
      "            \"type\": \"float\",\n",
      "            \"name\": \"f29\"\n",
      "          },\n",
      "          {\n",
      "            \"type\": \"float\",\n",
      "            \"name\": \"f30\"\n",
      "          },\n",
      "          {\n",
      "            \"type\": \"float\",\n",
      "            \"name\": \"f31\"\n",
      "          },\n",
      "          {\n",
      "            \"type\": \"float\",\n",
      "            \"name\": \"f32\"\n",
      "          },\n",
      "          {\n",
      "            \"type\": \"float\",\n",
      "            \"name\": \"f33\"\n",
      "          },\n",
      "          {\n",
      "            \"type\": \"float\",\n",
      "            \"name\": \"f34\"\n",
      "          },\n",
      "          {\n",
      "            \"type\": \"float\",\n",
      "            \"name\": \"f35\"\n",
      "          },\n",
      "          {\n",
      "            \"type\": \"float\",\n",
      "            \"name\": \"f36\"\n",
      "          },\n",
      "          {\n",
      "            \"type\": \"float\",\n",
      "            \"name\": \"f37\"\n",
      "          },\n",
      "          {\n",
      "            \"type\": \"float\",\n",
      "            \"name\": \"f38\"\n",
      "          },\n",
      "          {\n",
      "            \"type\": \"float\",\n",
      "            \"name\": \"f39\"\n",
      "          },\n",
      "          {\n",
      "            \"type\": \"float\",\n",
      "            \"name\": \"f40\"\n",
      "          },\n",
      "          {\n",
      "            \"type\": \"float\",\n",
      "            \"name\": \"f41\"\n",
      "          },\n",
      "          {\n",
      "            \"type\": \"float\",\n",
      "            \"name\": \"f42\"\n",
      "          },\n",
      "          {\n",
      "            \"type\": \"float\",\n",
      "            \"name\": \"f43\"\n",
      "          },\n",
      "          {\n",
      "            \"type\": \"float\",\n",
      "            \"name\": \"f44\"\n",
      "          },\n",
      "          {\n",
      "            \"type\": \"float\",\n",
      "            \"name\": \"f45\"\n",
      "          },\n",
      "          {\n",
      "            \"type\": \"float\",\n",
      "            \"name\": \"f46\"\n",
      "          },\n",
      "          {\n",
      "            \"type\": \"float\",\n",
      "            \"name\": \"f47\"\n",
      "          },\n",
      "          {\n",
      "            \"type\": \"float\",\n",
      "            \"name\": \"f48\"\n",
      "          },\n",
      "          {\n",
      "            \"type\": \"float\",\n",
      "            \"name\": \"f49\"\n",
      "          },\n",
      "          {\n",
      "            \"type\": \"float\",\n",
      "            \"name\": \"f50\"\n",
      "          },\n",
      "          {\n",
      "            \"type\": \"float\",\n",
      "            \"name\": \"f51\"\n",
      "          },\n",
      "          {\n",
      "            \"type\": \"float\",\n",
      "            \"name\": \"f52\"\n",
      "          },\n",
      "          {\n",
      "            \"type\": \"float\",\n",
      "            \"name\": \"f53\"\n",
      "          },\n",
      "          {\n",
      "            \"type\": \"float\",\n",
      "            \"name\": \"f54\"\n",
      "          },\n",
      "          {\n",
      "            \"type\": \"float\",\n",
      "            \"name\": \"f55\"\n",
      "          },\n",
      "          {\n",
      "            \"type\": \"float\",\n",
      "            \"name\": \"f56\"\n",
      "          },\n",
      "          {\n",
      "            \"type\": \"float\",\n",
      "            \"name\": \"f57\"\n",
      "          },\n",
      "          {\n",
      "            \"type\": \"float\",\n",
      "            \"name\": \"f58\"\n",
      "          },\n",
      "          {\n",
      "            \"type\": \"float\",\n",
      "            \"name\": \"f59\"\n",
      "          },\n",
      "          {\n",
      "            \"type\": \"float\",\n",
      "            \"name\": \"f60\"\n",
      "          },\n",
      "          {\n",
      "            \"type\": \"float\",\n",
      "            \"name\": \"f61\"\n",
      "          },\n",
      "          {\n",
      "            \"type\": \"float\",\n",
      "            \"name\": \"f62\"\n",
      "          },\n",
      "          {\n",
      "            \"type\": \"float\",\n",
      "            \"name\": \"f63\"\n",
      "          }\n",
      "        ],\n",
      "        \"type\": \"ndarray\"\n",
      "      },\n",
      "      \"labels\": {\n",
      "        \"fields\": [\n",
      "          {\n",
      "            \"type\": \"int\",\n",
      "            \"name\": \"l1\"\n",
      "          }\n",
      "        ],\n",
      "        \"type\": \"ndarray\"\n",
      "      }\n",
      "    },\n",
      "    \"feedback_url\": \"https://ibm-watson-ml.mybluemix.net/v3/wml_instances/8f11cfac-57ca-4a0c-9815-7abbd7a72491/published_models/6ebd93c7-b902-4e04-9827-618b3b21eccc/feedback\",\n",
      "    \"label_col\": \"l1\",\n",
      "    \"deployments\": {\n",
      "      \"url\": \"https://ibm-watson-ml.mybluemix.net/v3/wml_instances/8f11cfac-57ca-4a0c-9815-7abbd7a72491/published_models/6ebd93c7-b902-4e04-9827-618b3b21eccc/deployments\",\n",
      "      \"count\": 0\n",
      "    },\n",
      "    \"training_data_schema\": {\n",
      "      \"features\": {\n",
      "        \"fields\": [\n",
      "          {\n",
      "            \"type\": \"float\",\n",
      "            \"name\": \"f0\"\n",
      "          },\n",
      "          {\n",
      "            \"type\": \"float\",\n",
      "            \"name\": \"f1\"\n",
      "          },\n",
      "          {\n",
      "            \"type\": \"float\",\n",
      "            \"name\": \"f2\"\n",
      "          },\n",
      "          {\n",
      "            \"type\": \"float\",\n",
      "            \"name\": \"f3\"\n",
      "          },\n",
      "          {\n",
      "            \"type\": \"float\",\n",
      "            \"name\": \"f4\"\n",
      "          },\n",
      "          {\n",
      "            \"type\": \"float\",\n",
      "            \"name\": \"f5\"\n",
      "          },\n",
      "          {\n",
      "            \"type\": \"float\",\n",
      "            \"name\": \"f6\"\n",
      "          },\n",
      "          {\n",
      "            \"type\": \"float\",\n",
      "            \"name\": \"f7\"\n",
      "          },\n",
      "          {\n",
      "            \"type\": \"float\",\n",
      "            \"name\": \"f8\"\n",
      "          },\n",
      "          {\n",
      "            \"type\": \"float\",\n",
      "            \"name\": \"f9\"\n",
      "          },\n",
      "          {\n",
      "            \"type\": \"float\",\n",
      "            \"name\": \"f10\"\n",
      "          },\n",
      "          {\n",
      "            \"type\": \"float\",\n",
      "            \"name\": \"f11\"\n",
      "          },\n",
      "          {\n",
      "            \"type\": \"float\",\n",
      "            \"name\": \"f12\"\n",
      "          },\n",
      "          {\n",
      "            \"type\": \"float\",\n",
      "            \"name\": \"f13\"\n",
      "          },\n",
      "          {\n",
      "            \"type\": \"float\",\n",
      "            \"name\": \"f14\"\n",
      "          },\n",
      "          {\n",
      "            \"type\": \"float\",\n",
      "            \"name\": \"f15\"\n",
      "          },\n",
      "          {\n",
      "            \"type\": \"float\",\n",
      "            \"name\": \"f16\"\n",
      "          },\n",
      "          {\n",
      "            \"type\": \"float\",\n",
      "            \"name\": \"f17\"\n",
      "          },\n",
      "          {\n",
      "            \"type\": \"float\",\n",
      "            \"name\": \"f18\"\n",
      "          },\n",
      "          {\n",
      "            \"type\": \"float\",\n",
      "            \"name\": \"f19\"\n",
      "          },\n",
      "          {\n",
      "            \"type\": \"float\",\n",
      "            \"name\": \"f20\"\n",
      "          },\n",
      "          {\n",
      "            \"type\": \"float\",\n",
      "            \"name\": \"f21\"\n",
      "          },\n",
      "          {\n",
      "            \"type\": \"float\",\n",
      "            \"name\": \"f22\"\n",
      "          },\n",
      "          {\n",
      "            \"type\": \"float\",\n",
      "            \"name\": \"f23\"\n",
      "          },\n",
      "          {\n",
      "            \"type\": \"float\",\n",
      "            \"name\": \"f24\"\n",
      "          },\n",
      "          {\n",
      "            \"type\": \"float\",\n",
      "            \"name\": \"f25\"\n",
      "          },\n",
      "          {\n",
      "            \"type\": \"float\",\n",
      "            \"name\": \"f26\"\n",
      "          },\n",
      "          {\n",
      "            \"type\": \"float\",\n",
      "            \"name\": \"f27\"\n",
      "          },\n",
      "          {\n",
      "            \"type\": \"float\",\n",
      "            \"name\": \"f28\"\n",
      "          },\n",
      "          {\n",
      "            \"type\": \"float\",\n",
      "            \"name\": \"f29\"\n",
      "          },\n",
      "          {\n",
      "            \"type\": \"float\",\n",
      "            \"name\": \"f30\"\n",
      "          },\n",
      "          {\n",
      "            \"type\": \"float\",\n",
      "            \"name\": \"f31\"\n",
      "          },\n",
      "          {\n",
      "            \"type\": \"float\",\n",
      "            \"name\": \"f32\"\n",
      "          },\n",
      "          {\n",
      "            \"type\": \"float\",\n",
      "            \"name\": \"f33\"\n",
      "          },\n",
      "          {\n",
      "            \"type\": \"float\",\n",
      "            \"name\": \"f34\"\n",
      "          },\n",
      "          {\n",
      "            \"type\": \"float\",\n",
      "            \"name\": \"f35\"\n",
      "          },\n",
      "          {\n",
      "            \"type\": \"float\",\n",
      "            \"name\": \"f36\"\n",
      "          },\n",
      "          {\n",
      "            \"type\": \"float\",\n",
      "            \"name\": \"f37\"\n",
      "          },\n",
      "          {\n",
      "            \"type\": \"float\",\n",
      "            \"name\": \"f38\"\n",
      "          },\n",
      "          {\n",
      "            \"type\": \"float\",\n",
      "            \"name\": \"f39\"\n",
      "          },\n",
      "          {\n",
      "            \"type\": \"float\",\n",
      "            \"name\": \"f40\"\n",
      "          },\n",
      "          {\n",
      "            \"type\": \"float\",\n",
      "            \"name\": \"f41\"\n",
      "          },\n",
      "          {\n",
      "            \"type\": \"float\",\n",
      "            \"name\": \"f42\"\n",
      "          },\n",
      "          {\n",
      "            \"type\": \"float\",\n",
      "            \"name\": \"f43\"\n",
      "          },\n",
      "          {\n",
      "            \"type\": \"float\",\n",
      "            \"name\": \"f44\"\n",
      "          },\n",
      "          {\n",
      "            \"type\": \"float\",\n",
      "            \"name\": \"f45\"\n",
      "          },\n",
      "          {\n",
      "            \"type\": \"float\",\n",
      "            \"name\": \"f46\"\n",
      "          },\n",
      "          {\n",
      "            \"type\": \"float\",\n",
      "            \"name\": \"f47\"\n",
      "          },\n",
      "          {\n",
      "            \"type\": \"float\",\n",
      "            \"name\": \"f48\"\n",
      "          },\n",
      "          {\n",
      "            \"type\": \"float\",\n",
      "            \"name\": \"f49\"\n",
      "          },\n",
      "          {\n",
      "            \"type\": \"float\",\n",
      "            \"name\": \"f50\"\n",
      "          },\n",
      "          {\n",
      "            \"type\": \"float\",\n",
      "            \"name\": \"f51\"\n",
      "          },\n",
      "          {\n",
      "            \"type\": \"float\",\n",
      "            \"name\": \"f52\"\n",
      "          },\n",
      "          {\n",
      "            \"type\": \"float\",\n",
      "            \"name\": \"f53\"\n",
      "          },\n",
      "          {\n",
      "            \"type\": \"float\",\n",
      "            \"name\": \"f54\"\n",
      "          },\n",
      "          {\n",
      "            \"type\": \"float\",\n",
      "            \"name\": \"f55\"\n",
      "          },\n",
      "          {\n",
      "            \"type\": \"float\",\n",
      "            \"name\": \"f56\"\n",
      "          },\n",
      "          {\n",
      "            \"type\": \"float\",\n",
      "            \"name\": \"f57\"\n",
      "          },\n",
      "          {\n",
      "            \"type\": \"float\",\n",
      "            \"name\": \"f58\"\n",
      "          },\n",
      "          {\n",
      "            \"type\": \"float\",\n",
      "            \"name\": \"f59\"\n",
      "          },\n",
      "          {\n",
      "            \"type\": \"float\",\n",
      "            \"name\": \"f60\"\n",
      "          },\n",
      "          {\n",
      "            \"type\": \"float\",\n",
      "            \"name\": \"f61\"\n",
      "          },\n",
      "          {\n",
      "            \"type\": \"float\",\n",
      "            \"name\": \"f62\"\n",
      "          },\n",
      "          {\n",
      "            \"type\": \"float\",\n",
      "            \"name\": \"f63\"\n",
      "          }\n",
      "        ],\n",
      "        \"type\": \"ndarray\"\n",
      "      },\n",
      "      \"labels\": {\n",
      "        \"fields\": [\n",
      "          {\n",
      "            \"type\": \"int\",\n",
      "            \"name\": \"l1\"\n",
      "          }\n",
      "        ],\n",
      "        \"type\": \"ndarray\"\n",
      "      }\n",
      "    },\n",
      "    \"learning_iterations_url\": \"https://ibm-watson-ml.mybluemix.net/v3/wml_instances/8f11cfac-57ca-4a0c-9815-7abbd7a72491/published_models/6ebd93c7-b902-4e04-9827-618b3b21eccc/learning_iterations\",\n",
      "    \"evaluation_metrics_url\": \"https://ibm-watson-ml.mybluemix.net/v3/wml_instances/8f11cfac-57ca-4a0c-9815-7abbd7a72491/published_models/6ebd93c7-b902-4e04-9827-618b3b21eccc/evaluation_metrics\",\n",
      "    \"author\": {\n",
      "      \"email\": \"ibm@ibm.com\",\n",
      "      \"name\": \"IBM\"\n",
      "    }\n",
      "  }\n",
      "}\n"
     ]
    }
   ],
   "source": [
    "published_model_uid = client.repository.get_model_uid(published_model)\n",
    "model_details = client.repository.get_details(published_model_uid)\n",
    "\n",
    "print(json.dumps(model_details, indent=2))"
   ]
  },
  {
   "cell_type": "markdown",
   "metadata": {},
   "source": [
    "#### Get all models"
   ]
  },
  {
   "cell_type": "code",
   "execution_count": 24,
   "metadata": {},
   "outputs": [
    {
     "name": "stdout",
     "output_type": "stream",
     "text": [
      "------------------------------------  ---------------------------------------  ------------------------  -----------------  -----\n",
      "GUID                                  NAME                                     CREATED                   FRAMEWORK          TYPE\n",
      "c19ea489-1674-4883-bcbd-68f0089ef7dc  Customer Churn Model                     2018-02-19T15:01:13.485Z  mllib-2.0          model\n",
      "d9083d24-67f6-418e-869d-4fe344f7d9e5  Customer Churn Model                     2018-02-20T07:20:03.989Z  mllib-2.1          model\n",
      "7bce0af2-3d3a-4163-9bce-f5303c729d07  Customer Churn Model                     2018-02-20T09:13:27.542Z  mllib-2.1          model\n",
      "1698755c-ae01-4ab9-80b3-4f5d4d92bcc3  VIOLATIONS_SCALA211_SPARK20              2018-02-20T13:25:01.431Z  mllib-2.1          model\n",
      "6ebd93c7-b902-4e04-9827-618b3b21eccc  LOCALLY created Digits prediction model  2018-03-06T12:27:21.070Z  scikit-learn-0.19  model\n",
      "------------------------------------  ---------------------------------------  ------------------------  -----------------  -----\n"
     ]
    }
   ],
   "source": [
    "models_details = client.repository.list_models()"
   ]
  },
  {
   "cell_type": "markdown",
   "metadata": {},
   "source": [
    "### 4.3: Load model"
   ]
  },
  {
   "cell_type": "markdown",
   "metadata": {},
   "source": [
    "In this subsection you will learn how to load back saved model from specified instance of Watson Machine Learning."
   ]
  },
  {
   "cell_type": "code",
   "execution_count": 25,
   "metadata": {},
   "outputs": [],
   "source": [
    "loaded_model = client.repository.load(published_model_uid)"
   ]
  },
  {
   "cell_type": "markdown",
   "metadata": {},
   "source": [
    "You can make predictions to check that model has been loaded correctly."
   ]
  },
  {
   "cell_type": "code",
   "execution_count": 26,
   "metadata": {},
   "outputs": [],
   "source": [
    "test_predictions = loaded_model.predict(test_data[:10])"
   ]
  },
  {
   "cell_type": "code",
   "execution_count": 27,
   "metadata": {},
   "outputs": [
    {
     "name": "stdout",
     "output_type": "stream",
     "text": [
      "[4 0 5 3 6 9 6 4 7 5]\n"
     ]
    }
   ],
   "source": [
    "print(test_predictions)"
   ]
  },
  {
   "cell_type": "markdown",
   "metadata": {},
   "source": [
    "As you can see you are able to make predictions, so model is loaded back correctly. You have already learned how save to and load the model from Watson Machine Learning repository."
   ]
  },
  {
   "cell_type": "markdown",
   "metadata": {},
   "source": [
    "### 4.4: Delete model"
   ]
  },
  {
   "cell_type": "markdown",
   "metadata": {},
   "source": [
    "You can delete published model from Watson Machine Learning repository using below code. The code is commented out at this stage since the model will be needed later for deployment."
   ]
  },
  {
   "cell_type": "code",
   "execution_count": null,
   "metadata": {},
   "outputs": [],
   "source": [
    "# client.repository.delete(published_model_uid)"
   ]
  },
  {
   "cell_type": "markdown",
   "metadata": {},
   "source": [
    "<a id=\"scoring\"></a>\n",
    "## 5. Deploy and score in a Cloud"
   ]
  },
  {
   "cell_type": "markdown",
   "metadata": {},
   "source": [
    "In this section you will learn how to create online scoring and to score a new data record by using the Watson Machine Learning Client."
   ]
  },
  {
   "cell_type": "markdown",
   "metadata": {},
   "source": [
    "### 5.1: Create model deployment"
   ]
  },
  {
   "cell_type": "markdown",
   "metadata": {},
   "source": [
    "#### Create online deployment for published model"
   ]
  },
  {
   "cell_type": "code",
   "execution_count": 28,
   "metadata": {},
   "outputs": [],
   "source": [
    "created_deployment = client.deployments.create(published_model_uid, \"Deployment of locally created scikit model\")"
   ]
  },
  {
   "cell_type": "markdown",
   "metadata": {},
   "source": [
    "**Note**: Here we use deployment url saved in published_model object. In next section we show how to retrive deployment url from Watson Mchine Learning instance."
   ]
  },
  {
   "cell_type": "markdown",
   "metadata": {},
   "source": [
    "Now you can print an online scoring endpoint. "
   ]
  },
  {
   "cell_type": "code",
   "execution_count": 29,
   "metadata": {},
   "outputs": [
    {
     "name": "stdout",
     "output_type": "stream",
     "text": [
      "https://ibm-watson-ml.mybluemix.net/v3/wml_instances/8f11cfac-57ca-4a0c-9815-7abbd7a72491/published_models/6ebd93c7-b902-4e04-9827-618b3b21eccc/deployments/2d8e45a3-a1e3-4395-b40e-0323e943bab4/online\n"
     ]
    }
   ],
   "source": [
    "scoring_endpoint = client.deployments.get_scoring_url(created_deployment)\n",
    "\n",
    "print(scoring_endpoint)"
   ]
  },
  {
   "cell_type": "markdown",
   "metadata": {},
   "source": [
    "### 5.2: Get deployments"
   ]
  },
  {
   "cell_type": "code",
   "execution_count": 30,
   "metadata": {},
   "outputs": [
    {
     "name": "stdout",
     "output_type": "stream",
     "text": [
      "{\n",
      "  \"resources\": [\n",
      "    {\n",
      "      \"metadata\": {\n",
      "        \"created_at\": \"2018-03-06T12:28:08.343Z\",\n",
      "        \"url\": \"https://ibm-watson-ml.mybluemix.net/v3/wml_instances/8f11cfac-57ca-4a0c-9815-7abbd7a72491/published_models/6ebd93c7-b902-4e04-9827-618b3b21eccc/deployments/2d8e45a3-a1e3-4395-b40e-0323e943bab4\",\n",
      "        \"modified_at\": \"2018-03-06T12:28:12.012Z\",\n",
      "        \"guid\": \"2d8e45a3-a1e3-4395-b40e-0323e943bab4\"\n",
      "      },\n",
      "      \"entity\": {\n",
      "        \"scoring_url\": \"https://ibm-watson-ml.mybluemix.net/v3/wml_instances/8f11cfac-57ca-4a0c-9815-7abbd7a72491/published_models/6ebd93c7-b902-4e04-9827-618b3b21eccc/deployments/2d8e45a3-a1e3-4395-b40e-0323e943bab4/online\",\n",
      "        \"runtime_environment\": \"python-3.5\",\n",
      "        \"published_model\": {\n",
      "          \"url\": \"https://ibm-watson-ml.mybluemix.net/v3/wml_instances/8f11cfac-57ca-4a0c-9815-7abbd7a72491/published_models/6ebd93c7-b902-4e04-9827-618b3b21eccc\",\n",
      "          \"name\": \"LOCALLY created Digits prediction model\",\n",
      "          \"author\": {\n",
      "            \"email\": \"ibm@ibm.com\",\n",
      "            \"name\": \"IBM\"\n",
      "          },\n",
      "          \"guid\": \"6ebd93c7-b902-4e04-9827-618b3b21eccc\",\n",
      "          \"created_at\": \"2018-03-06T12:28:08.315Z\"\n",
      "        },\n",
      "        \"name\": \"Deployment of locally created scikit model\",\n",
      "        \"description\": \"Model deployment\",\n",
      "        \"status_details\": {\n",
      "          \"status\": \"DEPLOY_SUCCESS\"\n",
      "        },\n",
      "        \"type\": \"online\",\n",
      "        \"model_type\": \"scikit-learn-0.19\",\n",
      "        \"status\": \"DEPLOY_SUCCESS\",\n",
      "        \"deployed_version\": {\n",
      "          \"url\": \"https://ibm-watson-ml.mybluemix.net/v3/ml_assets/models/6ebd93c7-b902-4e04-9827-618b3b21eccc/versions/6fcede0b-4c32-4fa3-9bb7-4d740ee7b685\",\n",
      "          \"guid\": \"6fcede0b-4c32-4fa3-9bb7-4d740ee7b685\"\n",
      "        }\n",
      "      }\n",
      "    },\n",
      "    {\n",
      "      \"metadata\": {\n",
      "        \"created_at\": \"2018-02-19T15:11:40.938Z\",\n",
      "        \"url\": \"https://ibm-watson-ml.mybluemix.net/v3/wml_instances/8f11cfac-57ca-4a0c-9815-7abbd7a72491/published_models/c19ea489-1674-4883-bcbd-68f0089ef7dc/deployments/bb3cb635-7d08-4115-9592-113ff94aabde\",\n",
      "        \"modified_at\": \"2018-02-19T15:12:01.871Z\",\n",
      "        \"guid\": \"bb3cb635-7d08-4115-9592-113ff94aabde\"\n",
      "      },\n",
      "      \"entity\": {\n",
      "        \"runtime_environment\": \"spark-2.0\",\n",
      "        \"status\": \"COMPLETED\",\n",
      "        \"name\": \"Customer Churn Prediction\",\n",
      "        \"description\": \"Batch Deployment\",\n",
      "        \"model_type\": \"mllib-2.0\",\n",
      "        \"deployed_version\": {\n",
      "          \"url\": \"https://ibm-watson-ml.mybluemix.net/v3/ml_assets/models/c19ea489-1674-4883-bcbd-68f0089ef7dc/versions/f23dbbcb-11a5-47ba-a109-78f0b6005475\",\n",
      "          \"guid\": \"f23dbbcb-11a5-47ba-a109-78f0b6005475\"\n",
      "        },\n",
      "        \"output\": {\n",
      "          \"connection\": {\n",
      "            \"secret_key\": \"572f8527a5f16f56e3431d13a479d6a42ed1956a5cc610fb\",\n",
      "            \"access_key\": \"736554a6d2344da5b8430f186ac33030\",\n",
      "            \"url\": \"https://s3-api.us-geo.objectstorage.softlayer.net\"\n",
      "          },\n",
      "          \"target\": {\n",
      "            \"fileformat\": \"csv\",\n",
      "            \"type\": \"cloudobjectstorage\",\n",
      "            \"filename\": \"result.csv\",\n",
      "            \"bucket\": \"batch-job-4516bf71-147b-4215-b259-0266d1f41423\",\n",
      "            \"firstlineheader\": \"true\"\n",
      "          }\n",
      "        },\n",
      "        \"spark_service\": {\n",
      "          \"credentials\": {\n",
      "            \"tenant_id_full\": \"cb2f9c82-58f4-46f2-9778-bfb6f75aebc1_f6ef3ba5-8f4e-4614-a10f-9bb95b1f072f\",\n",
      "            \"plan\": \"ibm.SparkService.PayGoPersonal\",\n",
      "            \"tenant_secret\": \"5eae9474-5095-4f05-a7e6-4b92b66b2737\",\n",
      "            \"tenant_id\": \"s778-bfb6f75aebc10f-9bb95b1f072f\",\n",
      "            \"cluster_master_url\": \"https://spark.bluemix.net\",\n",
      "            \"instance_id\": \"cb2f9c82-58f4-46f2-9778-bfb6f75aebc1\"\n",
      "          },\n",
      "          \"version\": \"2.0\"\n",
      "        },\n",
      "        \"status_message\": \"SUCCESS\",\n",
      "        \"input\": {\n",
      "          \"connection\": {\n",
      "            \"secret_key\": \"572f8527a5f16f56e3431d13a479d6a42ed1956a5cc610fb\",\n",
      "            \"access_key\": \"736554a6d2344da5b8430f186ac33030\",\n",
      "            \"url\": \"https://s3-api.us-geo.objectstorage.softlayer.net\"\n",
      "          },\n",
      "          \"source\": {\n",
      "            \"fileformat\": \"csv\",\n",
      "            \"inferschema\": 1,\n",
      "            \"type\": \"cloudobjectstorage\",\n",
      "            \"bucket\": \"batch-job-4516bf71-147b-4215-b259-0266d1f41423\",\n",
      "            \"filename\": \"scoreInput.csv\"\n",
      "          }\n",
      "        },\n",
      "        \"published_model\": {\n",
      "          \"url\": \"https://ibm-watson-ml.mybluemix.net/v3/wml_instances/8f11cfac-57ca-4a0c-9815-7abbd7a72491/published_models/c19ea489-1674-4883-bcbd-68f0089ef7dc\",\n",
      "          \"name\": \"Customer Churn Model\",\n",
      "          \"author\": {},\n",
      "          \"guid\": \"c19ea489-1674-4883-bcbd-68f0089ef7dc\",\n",
      "          \"created_at\": \"2018-02-19T15:11:40.900Z\"\n",
      "        },\n",
      "        \"status_details\": {\n",
      "          \"startDateTime\": \"2018-02-19T15:11:41Z\",\n",
      "          \"logFile\": \"SubmissionID = driver-20180219091143-0433-c4a6c11c-1e29-4e59-8ed2-db2aa317a435\",\n",
      "          \"completionCode\": \"200\",\n",
      "          \"status\": \"COMPLETED\",\n",
      "          \"queueDateTime\": \"2018-02-19T15:12:01Z\",\n",
      "          \"message\": \"SUCCESS\"\n",
      "        },\n",
      "        \"type\": \"batch\"\n",
      "      }\n",
      "    }\n",
      "  ],\n",
      "  \"count\": 2\n",
      "}\n"
     ]
    }
   ],
   "source": [
    "deployments = client.deployments.get_details()\n",
    "\n",
    "print(json.dumps(deployments, indent=2))"
   ]
  },
  {
   "cell_type": "markdown",
   "metadata": {},
   "source": [
    "You can get deployment_url by parsing deployment details for last deployed model."
   ]
  },
  {
   "cell_type": "code",
   "execution_count": 31,
   "metadata": {},
   "outputs": [
    {
     "name": "stdout",
     "output_type": "stream",
     "text": [
      "https://ibm-watson-ml.mybluemix.net/v3/wml_instances/8f11cfac-57ca-4a0c-9815-7abbd7a72491/published_models/6ebd93c7-b902-4e04-9827-618b3b21eccc/deployments/2d8e45a3-a1e3-4395-b40e-0323e943bab4\n"
     ]
    }
   ],
   "source": [
    "deployment_url = client.deployments.get_url(created_deployment)\n",
    "\n",
    "print(deployment_url)"
   ]
  },
  {
   "cell_type": "markdown",
   "metadata": {},
   "source": [
    "### 5.3: Score"
   ]
  },
  {
   "cell_type": "markdown",
   "metadata": {},
   "source": [
    "You can use below method to do test scoring request against deployed model."
   ]
  },
  {
   "cell_type": "markdown",
   "metadata": {},
   "source": [
    "**Action**: Prepare scoring payload with records to score."
   ]
  },
  {
   "cell_type": "code",
   "execution_count": 32,
   "metadata": {},
   "outputs": [],
   "source": [
    "scoring_payload = {\"values\": [list(score_data[0]), list(score_data[1])]}"
   ]
  },
  {
   "cell_type": "markdown",
   "metadata": {},
   "source": [
    "Use ``client.deployments.score()`` method to run scoring."
   ]
  },
  {
   "cell_type": "code",
   "execution_count": 33,
   "metadata": {},
   "outputs": [],
   "source": [
    "predictions = client.deployments.score(scoring_endpoint, scoring_payload)"
   ]
  },
  {
   "cell_type": "code",
   "execution_count": 34,
   "metadata": {},
   "outputs": [
    {
     "name": "stdout",
     "output_type": "stream",
     "text": [
      "{\n",
      "  \"fields\": [\n",
      "    \"prediction\"\n",
      "  ],\n",
      "  \"values\": [\n",
      "    [\n",
      "      5\n",
      "    ],\n",
      "    [\n",
      "      2\n",
      "    ]\n",
      "  ]\n",
      "}\n"
     ]
    }
   ],
   "source": [
    "print(json.dumps(predictions, indent=2))"
   ]
  },
  {
   "cell_type": "markdown",
   "metadata": {},
   "source": [
    "### 5.4: Delete deployment"
   ]
  },
  {
   "cell_type": "markdown",
   "metadata": {},
   "source": [
    "Use the following method to delete deployment."
   ]
  },
  {
   "cell_type": "code",
   "execution_count": 35,
   "metadata": {},
   "outputs": [],
   "source": [
    "client.deployments.delete(client.deployments.get_uid(created_deployment))"
   ]
  },
  {
   "cell_type": "markdown",
   "metadata": {},
   "source": [
    "You can check depoyments by running ``list`` method."
   ]
  },
  {
   "cell_type": "code",
   "execution_count": 36,
   "metadata": {},
   "outputs": [
    {
     "name": "stdout",
     "output_type": "stream",
     "text": [
      "------------------------------------  -------------------------  -----  ------------------------  ---------\n",
      "GUID                                  NAME                       TYPE   CREATED                   FRAMEWORK\n",
      "bb3cb635-7d08-4115-9592-113ff94aabde  Customer Churn Prediction  batch  2018-02-19T15:11:40.938Z  mllib-2.0\n",
      "------------------------------------  -------------------------  -----  ------------------------  ---------\n"
     ]
    }
   ],
   "source": [
    "client.deployments.list()"
   ]
  },
  {
   "cell_type": "markdown",
   "metadata": {},
   "source": [
    "### 5.5: Delete model"
   ]
  },
  {
   "cell_type": "code",
   "execution_count": 37,
   "metadata": {},
   "outputs": [],
   "source": [
    "client.repository.delete(published_model_uid)"
   ]
  },
  {
   "cell_type": "markdown",
   "metadata": {},
   "source": [
    "You can check your stored models by running below ``list`` method."
   ]
  },
  {
   "cell_type": "code",
   "execution_count": 38,
   "metadata": {},
   "outputs": [
    {
     "name": "stdout",
     "output_type": "stream",
     "text": [
      "------------------------------------  ---------------------------  ------------------------  ---------  -----\n",
      "GUID                                  NAME                         CREATED                   FRAMEWORK  TYPE\n",
      "c19ea489-1674-4883-bcbd-68f0089ef7dc  Customer Churn Model         2018-02-19T15:01:13.485Z  mllib-2.0  model\n",
      "d9083d24-67f6-418e-869d-4fe344f7d9e5  Customer Churn Model         2018-02-20T07:20:03.989Z  mllib-2.1  model\n",
      "7bce0af2-3d3a-4163-9bce-f5303c729d07  Customer Churn Model         2018-02-20T09:13:27.542Z  mllib-2.1  model\n",
      "1698755c-ae01-4ab9-80b3-4f5d4d92bcc3  VIOLATIONS_SCALA211_SPARK20  2018-02-20T13:25:01.431Z  mllib-2.1  model\n",
      "------------------------------------  ---------------------------  ------------------------  ---------  -----\n"
     ]
    }
   ],
   "source": [
    "client.repository.list_models()"
   ]
  },
  {
   "cell_type": "markdown",
   "metadata": {
    "collapsed": true
   },
   "source": [
    "<a id=\"summary\"></a>\n",
    "## 6. Summary and next steps     "
   ]
  },
  {
   "cell_type": "markdown",
   "metadata": {
    "collapsed": true
   },
   "source": [
    " You successfully completed this notebook! You learned how to use scikit-learn machine learning as well as Watson Machine Learning for model creation and deployment. Check out our _[Online Documentation](https://console.ng.bluemix.net/docs/services/PredictiveModeling/index.html?pos=2)_ for more samples, tutorials, documentation, how-tos, and blog posts. "
   ]
  },
  {
   "cell_type": "markdown",
   "metadata": {},
   "source": [
    "### Authors\n",
    "\n",
    "**Wojciech Sobala**, Data Scientist at IBM developing enterprise-level applications that substantially increases clients' ability to turn data into actionable knowledge."
   ]
  },
  {
   "cell_type": "markdown",
   "metadata": {},
   "source": [
    "Copyright © 2017, 2018 IBM. This notebook and its source code are released under the terms of the MIT License."
   ]
  }
 ],
 "metadata": {
  "kernelspec": {
   "display_name": "Python 3.5 with Spark 2.1",
   "language": "python",
   "name": "python3-spark21"
  },
  "language_info": {
   "codemirror_mode": {
    "name": "ipython",
    "version": 3
   },
   "file_extension": ".py",
   "mimetype": "text/x-python",
   "name": "python",
   "nbconvert_exporter": "python",
   "pygments_lexer": "ipython3",
   "version": "3.5.4"
  }
 },
 "nbformat": 4,
 "nbformat_minor": 1
}
