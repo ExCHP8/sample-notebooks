{
 "cells": [
  {
   "cell_type": "markdown",
   "metadata": {
    "pycharm": {
     "name": "#%% md\n"
    }
   },
   "source": [
    "![image](https://raw.githubusercontent.com/IBM/watson-machine-learning-samples/master/cloud/notebooks/headers/watsonx-Prompt_Lab-Notebook.png)\n",
    "# Use watsonx, and google `flan-t5-xxl` to generate advertising"
   ]
  },
  {
   "cell_type": "markdown",
   "metadata": {
    "pycharm": {
     "name": "#%% md\n"
    }
   },
   "source": [
    "#### Disclaimers\n",
    "\n",
    "- Foundational Model REST API that is used in this notebook is in `beta` state.\n",
    "- Use only Projects and Spaces that are available in watsonx context.\n",
    "\n",
    "\n",
    "## Notebook content\n",
    "\n",
    "This notebook contains the steps and code to demonstrate support of text generation in watsonx. It introduces commands for data generation and model testing.\n",
    "\n",
    "Some familiarity with Python is helpful. This notebook uses Python 3.10.\n",
    "\n",
    "\n",
    "## Learning goal\n",
    "\n",
    "The goal of this notebook is to demonstrate how to use `flan-t5-xxl` model to generate mail advertising\n",
    "\n",
    "\n",
    "## Contents\n",
    "\n",
    "This notebook contains the following parts:\n",
    "\n",
    "- [Setup](#setup)\n",
    "- [Data loading](#data)\n",
    "- [Foundation Models on watsonx](#models)\n",
    "- [Model testing](#predict)\n",
    "- [Summary](#summary)"
   ]
  },
  {
   "cell_type": "markdown",
   "metadata": {
    "pycharm": {
     "name": "#%% md\n"
    }
   },
   "source": [
    "<a id=\"setup\"></a>\n",
    "##  Set up the environment\n",
    "\n",
    "Before you use the sample code in this notebook, you must perform the following setup tasks:\n",
    "\n",
    "-  Create a <a href=\"https://console.ng.bluemix.net/catalog/services/ibm-watson-machine-learning/\" target=\"_blank\" rel=\"noopener no referrer\">Watson Machine Learning (WML) Service</a> instance (a free plan is offered and information about how to create the instance can be found <a href=\"https://dataplatform.cloud.ibm.com/docs/content/wsj/analyze-data/ml-service-instance.html?context=analytics\" target=\"_blank\" rel=\"noopener no referrer\">here</a>).\n"
   ]
  },
  {
   "cell_type": "markdown",
   "metadata": {
    "pycharm": {
     "name": "#%% md\n"
    }
   },
   "source": [
    "### Install and import the `datasets` and dependecies"
   ]
  },
  {
   "cell_type": "code",
   "execution_count": null,
   "metadata": {
    "pycharm": {
     "name": "#%%\n"
    }
   },
   "outputs": [],
   "source": [
    "!pip install requests | tail -n 1\n",
    "!pip install wget | tail -n 1\n",
    "!pip install ibm-cloud-sdk-core | tail -n 1\n",
    "!pip install wget | tail -n 1"
   ]
  },
  {
   "cell_type": "code",
   "execution_count": 18,
   "metadata": {
    "pycharm": {
     "name": "#%%\n"
    }
   },
   "outputs": [],
   "source": [
    "import os, getpass, json\n",
    "import requests\n",
    "from ibm_cloud_sdk_core import IAMTokenManager\n",
    "from ibm_cloud_sdk_core.authenticators import IAMAuthenticator, BearerTokenAuthenticator"
   ]
  },
  {
   "cell_type": "markdown",
   "metadata": {},
   "source": [
    "### Inferencing class\n",
    "This cell defines a class that makes a REST API call to the watsonx Foundation Model\n",
    "inferencing API that we will use to generate output from the provided input.\n",
    "The class takes the access token created in the previous step, and uses it to\n",
    "make a REST API call with input, model id and model parameters. The response\n",
    "from the API call is returned as the cell output."
   ]
  },
  {
   "cell_type": "markdown",
   "metadata": {},
   "source": [
    "**Action:** Provide Watson Machine Learning url to work with watsonx.ai."
   ]
  },
  {
   "cell_type": "code",
   "execution_count": 3,
   "metadata": {},
   "outputs": [
    {
     "name": "stdout",
     "output_type": "stream",
     "text": [
      "Please enter your WML endpoint url (hit enter): ········\n"
     ]
    }
   ],
   "source": [
    "endpoint_url = input(\"Please enter your WML endpoint url (hit enter): \")"
   ]
  },
  {
   "cell_type": "markdown",
   "metadata": {},
   "source": [
    "Define a `Prompt` class for prompts generation."
   ]
  },
  {
   "cell_type": "code",
   "execution_count": 4,
   "metadata": {},
   "outputs": [],
   "source": [
    "class Prompt:\n",
    "    def __init__(self, access_token, project_id):\n",
    "        self.access_token = access_token\n",
    "        self.project_id = project_id\n",
    "\n",
    "    def generate(self, input, model_id, parameters):\n",
    "        wml_url = f\"{endpoint_url}/ml/v1-beta/generation/text?version=2023-05-28\"\n",
    "        Headers = {\n",
    "            \"Authorization\": \"Bearer \" + self.access_token,\n",
    "            \"Content-Type\": \"application/json\",\n",
    "            \"Accept\": \"application/json\"\n",
    "        }\n",
    "        data = {\n",
    "            \"model_id\": model_id,\n",
    "            \"input\": input,\n",
    "            \"parameters\": parameters,\n",
    "            \"project_id\": self.project_id\n",
    "        }\n",
    "        response = requests.post(wml_url, json=data, headers=Headers)\n",
    "        if response.status_code == 200:\n",
    "            return response.json()[\"results\"][0]\n",
    "        else:\n",
    "            return response.text"
   ]
  },
  {
   "cell_type": "markdown",
   "metadata": {},
   "source": [
    "### watsonx API connection\n",
    "This cell defines the credentials required to work with watsonx API for Foundation\n",
    "Model inferencing.\n",
    "\n",
    "**Action:** Provide the IBM Cloud user API key. For details, see\n",
    "[documentation](https://cloud.ibm.com/docs/account?topic=account-userapikey&interface=ui)."
   ]
  },
  {
   "cell_type": "code",
   "execution_count": 5,
   "metadata": {},
   "outputs": [
    {
     "name": "stdout",
     "output_type": "stream",
     "text": [
      "Please enter your WML api key (hit enter): ········\n"
     ]
    }
   ],
   "source": [
    "access_token = IAMTokenManager(\n",
    "    apikey = getpass.getpass(\"Please enter your WML api key (hit enter): \"),\n",
    "    url = \"https://iam.cloud.ibm.com/identity/token\"\n",
    ").get_token()"
   ]
  },
  {
   "cell_type": "markdown",
   "metadata": {},
   "source": [
    "### Defining the project id\n",
    "The API requires project id that provides the context for the call. We will obtain\n",
    "the id from the project in which this notebook runs. Otherwise, please provide the project id."
   ]
  },
  {
   "cell_type": "code",
   "execution_count": 6,
   "metadata": {},
   "outputs": [
    {
     "name": "stdout",
     "output_type": "stream",
     "text": [
      "Please enter your project_id (hit enter): ········\n"
     ]
    }
   ],
   "source": [
    "try:\n",
    "    project_id = os.environ[\"PROJECT_ID\"]\n",
    "except KeyError:\n",
    "    project_id = getpass.getpass(\"Please enter your project_id (hit enter): \")"
   ]
  },
  {
   "cell_type": "markdown",
   "metadata": {},
   "source": [
    "<a id=\"data\"></a>\n",
    "## Advertising prompts"
   ]
  },
  {
   "cell_type": "markdown",
   "metadata": {},
   "source": [
    "#### Prepare advertising prompts."
   ]
  },
  {
   "cell_type": "markdown",
   "metadata": {},
   "source": [
    "Prepare credit card with cashback advertising."
   ]
  },
  {
   "cell_type": "code",
   "execution_count": 7,
   "metadata": {},
   "outputs": [],
   "source": [
    "ads = []\n",
    "\n",
    "ads.append(\"Generate banking advertising mail of a credit card with 10% cashback.\")"
   ]
  },
  {
   "cell_type": "markdown",
   "metadata": {},
   "source": [
    "Prepare savings account advertising."
   ]
  },
  {
   "cell_type": "code",
   "execution_count": 8,
   "metadata": {},
   "outputs": [],
   "source": [
    "ads.append(\"Generate banking advertising mail of a saving account with 8 percent interest.\")"
   ]
  },
  {
   "cell_type": "markdown",
   "metadata": {},
   "source": [
    "Prepare educational course advertising."
   ]
  },
  {
   "cell_type": "code",
   "execution_count": 9,
   "metadata": {},
   "outputs": [],
   "source": [
    "ads.append(\"Generate advertising mail of an online JAVA programming course.\")"
   ]
  },
  {
   "cell_type": "markdown",
   "metadata": {},
   "source": [
    "Prepare photo editing software advertising."
   ]
  },
  {
   "cell_type": "code",
   "execution_count": 10,
   "metadata": {},
   "outputs": [],
   "source": [
    "ads.append(\"Generate advertising mail of paid (10$ a month) photo editing software for professionals.\")"
   ]
  },
  {
   "cell_type": "markdown",
   "metadata": {},
   "source": [
    "Prepare healthy food catering advertising."
   ]
  },
  {
   "cell_type": "code",
   "execution_count": 11,
   "metadata": {},
   "outputs": [],
   "source": [
    "ads.append(\"Generate advertising mail of healthy food catering with a free first meal.\")"
   ]
  },
  {
   "cell_type": "markdown",
   "metadata": {},
   "source": [
    "<a id=\"models\"></a>\n",
    "## Foundation Models on watsonx"
   ]
  },
  {
   "cell_type": "markdown",
   "metadata": {},
   "source": [
    "#### List available models"
   ]
  },
  {
   "cell_type": "code",
   "execution_count": 12,
   "metadata": {},
   "outputs": [
    {
     "name": "stdout",
     "output_type": "stream",
     "text": [
      "['bigscience/mt0-xxl', 'eleutherai/gpt-neox-20b', 'google/flan-t5-xxl', 'google/flan-ul2', 'ibm/mpt-7b-instruct2']\n"
     ]
    }
   ],
   "source": [
    "models_json = requests.get(endpoint_url + '/ml/v1-beta/foundation_model_specs?version=2022-08-01&limit=50',\n",
    "                           headers={\n",
    "                                    'Authorization': f'Bearer {access_token}',\n",
    "                                    'Content-Type': 'application/json',\n",
    "                                    'Accept': 'application/json'\n",
    "                            }).json()\n",
    "models_ids = [m['model_id'] for m in models_json['resources']]\n",
    "print(models_ids)"
   ]
  },
  {
   "cell_type": "markdown",
   "metadata": {},
   "source": [
    "You need to specify `model_id` that will be used for inferencing:"
   ]
  },
  {
   "cell_type": "code",
   "execution_count": 13,
   "metadata": {},
   "outputs": [],
   "source": [
    "model_id = \"google/flan-t5-xxl\""
   ]
  },
  {
   "cell_type": "markdown",
   "metadata": {},
   "source": [
    "<a id=\"predict\"></a>\n",
    "##  Generate mail advertising"
   ]
  },
  {
   "cell_type": "markdown",
   "metadata": {},
   "source": [
    "### Defining the model parameters\n",
    "We need to provide a set of model parameters that will influence the\n",
    "result:"
   ]
  },
  {
   "cell_type": "code",
   "execution_count": 14,
   "metadata": {},
   "outputs": [],
   "source": [
    "parameters =  {\"decoding_method\": \"sample\",\n",
    "               \"temperature\": 0.3,\n",
    "               \"top_p\": 1,\n",
    "               \"top_k\": 50,\n",
    "               \"random_seed\": 33,\n",
    "               \"repetition_penalty\": 2,\n",
    "               \"min_new_tokens\": 50,\n",
    "               \"max_new_tokens\": 1024\n",
    "}"
   ]
  },
  {
   "cell_type": "markdown",
   "metadata": {},
   "source": [
    "### Generate mail advertising using `flan-t5-xxl` model.\n",
    "\n",
    "\n",
    "**Note:** You might need to adjust model `parameters` for different models or tasks, to do so please refer to <a href=\"https://ibm.github.io/watson-machine-learning-sdk/model.html#metanames.GenTextParamsMetaNames\" target=\"_blank\" rel=\"noopener no referrer\">documentation</a>."
   ]
  },
  {
   "cell_type": "markdown",
   "metadata": {},
   "source": [
    "Initialize the `Prompt` class.\n",
    "\n",
    "**Hint:** Your authentication token might expire, if so please regenerate the `access_token` and reinitialize the `Prompt` class."
   ]
  },
  {
   "cell_type": "code",
   "execution_count": 15,
   "metadata": {},
   "outputs": [],
   "source": [
    "prompt = Prompt(access_token, project_id)"
   ]
  },
  {
   "cell_type": "markdown",
   "metadata": {},
   "source": [
    "Get the docs summaries."
   ]
  },
  {
   "cell_type": "code",
   "execution_count": 16,
   "metadata": {},
   "outputs": [],
   "source": [
    "results_low_temperature = []\n",
    "\n",
    "for instruction in ads:\n",
    "    results_low_temperature.append(prompt.generate(instruction, model_id, parameters))"
   ]
  },
  {
   "cell_type": "markdown",
   "metadata": {},
   "source": [
    "Explore model outputs."
   ]
  },
  {
   "cell_type": "code",
   "execution_count": 19,
   "metadata": {},
   "outputs": [
    {
     "name": "stdout",
     "output_type": "stream",
     "text": [
      "[\n",
      "  {\n",
      "    \"generated_text\": \"The Bank of America Cash Rewards Credit Card offers a 10% cash back on all purchases. Earn points for every $1 you spend. Use your rewards to get travel, merchandise, and gift cards. Get rewarded for shopping online, at the gas pump, or anywhere else you shop.\",\n",
      "    \"generated_token_count\": 58,\n",
      "    \"input_token_count\": 16,\n",
      "    \"stop_reason\": \"EOS_TOKEN\",\n",
      "    \"seed\": 33\n",
      "  },\n",
      "  {\n",
      "    \"generated_text\": \"a saving account with 8 percent interest. if you're interested, please call us at 1-800-447-2337 or visit any of our banking centers. id#123456. cc#5feb3d\",\n",
      "    \"generated_token_count\": 53,\n",
      "    \"input_token_count\": 16,\n",
      "    \"stop_reason\": \"EOS_TOKEN\",\n",
      "    \"seed\": 33\n",
      "  },\n",
      "  {\n",
      "    \"generated_text\": \"Dear Sir/Madam, We are offering an online JAVA programming course. The course is designed by a team of experienced and qualified professionals. You can learn to program in Java and get certified in the process. Please visit our website for more information. Thank you,\",\n",
      "    \"generated_token_count\": 58,\n",
      "    \"input_token_count\": 14,\n",
      "    \"stop_reason\": \"EOS_TOKEN\",\n",
      "    \"seed\": 33\n",
      "  },\n",
      "  {\n",
      "    \"generated_text\": \"i have been using photoshop for years and it is great. however, i am looking for something that i can use to edit my photos. i have found a program that i think would be perfect for this. if you know of any please let me know.\",\n",
      "    \"generated_token_count\": 61,\n",
      "    \"input_token_count\": 17,\n",
      "    \"stop_reason\": \"EOS_TOKEN\",\n",
      "    \"seed\": 33\n",
      "  },\n",
      "  {\n",
      "    \"generated_text\": \"Healthy Food Catering is a new healthy food catering company. We are offering a free first meal to anyone who signs up for our service. For more information, please visit our website at www.healthyfoodcatering.com. Thank you for your time.\",\n",
      "    \"generated_token_count\": 55,\n",
      "    \"input_token_count\": 16,\n",
      "    \"stop_reason\": \"EOS_TOKEN\",\n",
      "    \"seed\": 33\n",
      "  }\n",
      "]\n"
     ]
    }
   ],
   "source": [
    "print(json.dumps(results_low_temperature, indent=2))"
   ]
  },
  {
   "cell_type": "markdown",
   "metadata": {},
   "source": [
    "You might also try to change model parameters to see whether it provides better ads. In following cell we changed the model temperature to 1.0 to let the model select words more creatively."
   ]
  },
  {
   "cell_type": "code",
   "execution_count": 20,
   "metadata": {},
   "outputs": [],
   "source": [
    "parameters_temp =  {\"decoding_method\": \"sample\",\n",
    "                    \"temperature\": 1.0,\n",
    "                    \"top_p\": 1,\n",
    "                    \"top_k\": 50,\n",
    "                    \"random_seed\": 33,\n",
    "                    \"repetition_penalty\": 2,\n",
    "                    \"min_new_tokens\": 50,\n",
    "                    \"max_new_tokens\": 1024\n",
    "}"
   ]
  },
  {
   "cell_type": "code",
   "execution_count": 21,
   "metadata": {},
   "outputs": [],
   "source": [
    "results_high_temperature = []\n",
    "\n",
    "for instruction in ads:\n",
    "    results_high_temperature.append(prompt.generate(instruction, model_id, parameters_temp))"
   ]
  },
  {
   "cell_type": "markdown",
   "metadata": {},
   "source": [
    "Explore model outputs."
   ]
  },
  {
   "cell_type": "code",
   "execution_count": 23,
   "metadata": {
    "scrolled": false
   },
   "outputs": [
    {
     "name": "stdout",
     "output_type": "stream",
     "text": [
      "[\n",
      "  {\n",
      "    \"generated_text\": \"From now on, enjoy some amazing advantages with Sainsbury's Premier 1 Cashback Card! Redeem your card at any one of our 200+ retailers and get 10% cash back! You need to apply for this incredible offer here. Don't delay\",\n",
      "    \"generated_token_count\": 53,\n",
      "    \"input_token_count\": 16,\n",
      "    \"stop_reason\": \"EOS_TOKEN\",\n",
      "    \"seed\": 33\n",
      "  },\n",
      "  {\n",
      "    \"generated_text\": \"From the Credit Union Board of Directors: All members who have been with our credit union for a year or more are eligible for an 8.00% interest checking account. To open yours, stop by any of our locations, apply on-line at www.rbcusa.com or by calling 1-800-457-5555. For over 100 years we've made banking easy.\",\n",
      "    \"generated_token_count\": 81,\n",
      "    \"input_token_count\": 16,\n",
      "    \"stop_reason\": \"EOS_TOKEN\",\n",
      "    \"seed\": 33\n",
      "  },\n",
      "  {\n",
      "    \"generated_text\": \"From the makers of JAVA: \\\"Avail yourself of our online course and learn the programming language from a pro-teacher and the best technical team on the web\\\". We have now launched an improved version of JAVA that has been designed by experts, with interactive lessons, assignments and quizzes to keep you in touch with JAVA as well as the latest enhancements in Oracle Java SE 6 Beta. The new java has many exciting features that I will describe to you but the most important one is security and support for future technologies. This version is the last release of JAVA 5.x and is intended for those JAVA programmers who have already become adept at using the new language and would like to update their knowledge. To enroll in this upgrade, please email : sales3(at)iknowitall (dot) com with your request. You can expect to receive the confirmation by return email. For more details on upgrade, click here : Upgrade page.\",\n",
      "    \"generated_token_count\": 209,\n",
      "    \"input_token_count\": 14,\n",
      "    \"stop_reason\": \"EOS_TOKEN\",\n",
      "    \"seed\": 33\n",
      "  },\n",
      "  {\n",
      "    \"generated_text\": \"Hi, The free version of our photo editor is available from the photo page. Thanks. jonny.wright@t-soft-systems.com www.t-soft-systems.com ...http://www.freewarefromdrf.com www.freewarefromdeveltower.com www.photoeditingapp.com We offer you best video and image editing software on the market. Our software has many powerful functions at low cost and will solve all your personal or business tasks in editing photographs and movies. Try it for 30 days absolutely free.\",\n",
      "    \"generated_token_count\": 122,\n",
      "    \"input_token_count\": 17,\n",
      "    \"stop_reason\": \"EOS_TOKEN\",\n",
      "    \"seed\": 33\n",
      "  },\n",
      "  {\n",
      "    \"generated_text\": \"From the makers of Fresh-n-Easy, now available in your area: The new Fresh-n-Easy Healthy Catering line is an evolution in quality fresh food. Our healthy meals taste great, are delivered to you on time and leave a positive impact on the environment by using green options that are in season year round. For free, get your first meal. For us, we believe eating well should be affordable, too. Call 1-877-696-0999 today for more details!\",\n",
      "    \"generated_token_count\": 106,\n",
      "    \"input_token_count\": 16,\n",
      "    \"stop_reason\": \"EOS_TOKEN\",\n",
      "    \"seed\": 33\n",
      "  }\n",
      "]\n"
     ]
    }
   ],
   "source": [
    "print(json.dumps(results_high_temperature, indent=2))"
   ]
  },
  {
   "cell_type": "markdown",
   "metadata": {},
   "source": [
    "You can also try changing the prompt and/or parameters to generate more detailed advertising. In the next cell, the photo editing software advertising prompt was transformed to provide more accurate results."
   ]
  },
  {
   "cell_type": "code",
   "execution_count": 24,
   "metadata": {},
   "outputs": [],
   "source": [
    "photo_software_prompt = \"Write an advertising e-mail of paid (9$ a month, first month free) photo editing software COOLSOFTWARE targeted for early professionals.\""
   ]
  },
  {
   "cell_type": "code",
   "execution_count": 25,
   "metadata": {},
   "outputs": [],
   "source": [
    "parameters_photo =  {\"decoding_method\": \"sample\",\n",
    "                    \"temperature\": 1.0,\n",
    "                    \"top_p\": 1,\n",
    "                    \"top_k\": 50,\n",
    "                    \"random_seed\": 33,\n",
    "                    \"repetition_penalty\": 2,\n",
    "                    \"min_new_tokens\": 200,\n",
    "                    \"max_new_tokens\": 1024\n",
    "}"
   ]
  },
  {
   "cell_type": "code",
   "execution_count": 26,
   "metadata": {},
   "outputs": [],
   "source": [
    "results_photo_soft = prompt.generate(photo_software_prompt, model_id, parameters_photo)"
   ]
  },
  {
   "cell_type": "code",
   "execution_count": 27,
   "metadata": {},
   "outputs": [
    {
     "name": "stdout",
     "output_type": "stream",
     "text": [
      "{\n",
      "  \"generated_text\": \"i discovered photography was my hobby - not profession. until now that is. with the introduction of new technology, there is no limit to what you can do with your photos. now, all you basic need for photo editing is this great software called pixlr xpress, which you may find at http://www.softeventsandmedia.com/?cat=265. i just wanted to let you know that there is an amazing deal for early photographers: you can get 1 month free. after that, the subscription goes up by 9 dollars every month. we are currently on sale, and if you are interested, you should order your copy right away. otherwise, you wont be in a position to try it out, because it is only available in demo version. a bit over 100 free samples are already available, though. you dont have to buy anything first, so grab your free trial right now. as soon as you try it out, youll be pleased to hear that the interface is extremely intuitive and its fairly easy to edit your photo with it.\",\n",
      "  \"generated_token_count\": 226,\n",
      "  \"input_token_count\": 26,\n",
      "  \"stop_reason\": \"EOS_TOKEN\",\n",
      "  \"seed\": 33\n",
      "}\n"
     ]
    }
   ],
   "source": [
    "print(json.dumps(results_photo_soft, indent=2))"
   ]
  },
  {
   "cell_type": "markdown",
   "metadata": {
    "pycharm": {
     "name": "#%% md\n"
    }
   },
   "source": [
    "<a id=\"summary\"></a>\n",
    "## Summary and next steps\n",
    "\n",
    " You successfully completed this notebook!.\n",
    " \n",
    " You learned how to generate mail advertising with Google's `flan-t5-xxl` on watsonx. \n",
    " \n",
    " Check out our _<a href=\"https://ibm.github.io/watson-machine-learning-sdk/samples.html\" target=\"_blank\" rel=\"noopener no referrer\">Online Documentation</a>_ for more samples, tutorials, documentation, how-tos, and blog posts. "
   ]
  },
  {
   "cell_type": "markdown",
   "metadata": {
    "pycharm": {
     "name": "#%% md\n"
    }
   },
   "source": [
    "### Authors\n",
    "\n",
    "**Szymon Kucharczyk**, Staff Software Engineer at Watson Machine Learning."
   ]
  },
  {
   "cell_type": "markdown",
   "metadata": {
    "pycharm": {
     "name": "#%% md\n"
    }
   },
   "source": [
    "Copyright © 2023 IBM. This notebook and its source code are released under the terms of the MIT License."
   ]
  }
 ],
 "metadata": {
  "kernelspec": {
   "display_name": "Python 3 (ipykernel)",
   "language": "python",
   "name": "python3"
  },
  "language_info": {
   "codemirror_mode": {
    "name": "ipython",
    "version": 3
   },
   "file_extension": ".py",
   "mimetype": "text/x-python",
   "name": "python",
   "nbconvert_exporter": "python",
   "pygments_lexer": "ipython3",
   "version": "3.10.12"
  }
 },
 "nbformat": 4,
 "nbformat_minor": 4
}
