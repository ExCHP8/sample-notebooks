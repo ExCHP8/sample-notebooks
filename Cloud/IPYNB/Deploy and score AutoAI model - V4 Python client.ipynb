{
 "cells": [
  {
   "cell_type": "markdown",
   "metadata": {},
   "source": [
    "<table style=\"border: none\" align=\"left\">\n",
    "   <tr style=\"border: none\">\n",
    "      <th style=\"border: none\"><font face=\"verdana\" size=\"5\" color=\"black\"><b>Deploy and score an AutoAI model using the V4 Python client</b></th>\n",
    "      <th style=\"border: none\"><img src=\"https://github.com/pmservice/customer-satisfaction-prediction/blob/master/app/static/images/ml_icon_gray.png?raw=true\" alt=\"Watson Machine Learning icon\" height=\"40\" width=\"40\"></th>\n",
    "   </tr>\n",
    "</table>"
   ]
  },
  {
   "cell_type": "markdown",
   "metadata": {},
   "source": [
    "This notebook will take you through the steps of using the Watson Machine Learning V4 Python client to deploy and score an AutoAI model made with the <a href=\"https://dataplatform.cloud.ibm.com/exchange/public/entry/view/50fa9246181026cd7ae2a5bc7ea444e6\" target=\"_blank\" rel=\"noopener noreferrer\">Bank Marketing</a> data set."
   ]
  },
  {
   "cell_type": "markdown",
   "metadata": {},
   "source": [
    "**<a href=\"https://dataplatform.cloud.ibm.com/docs/content/wsj/analyze-data/autoai-overview.html\" target=\"_blank\" rel=\"noopener noreferrer\">AutoAI</a>** is a tool on Watson Studio that automatically analyzes data and builds model pipelines with an uploaded data set. AutoAI employs algorithms to infer patterns from your data, prepare the data, and modify the data, all the while requiring minimal user input. The AutoAI process follows the following steps\n",
    "- Data preprocessing\n",
    "- Automated model selection\n",
    "- Automated feature engineering\n",
    "- Hyperparameter optimization\n",
    "\n",
    "Once the tool is finished building the model pipelines, it will list all the models on a leaderboard, ranked by a metric of the user's choosing such as accuracy, precision, or ROC-AUC (based on the prediction type)."
   ]
  },
  {
   "cell_type": "markdown",
   "metadata": {},
   "source": [
    "You will use the Bank Marketing data set available on the <a href=\"https://archive.ics.uci.edu/ml/datasets/Bank+Marketing\" target=\"_blank\" rel=\"noopener noreferrer\">UCI Machine Learning Repository</a>. This data deals with a Portuguese banking institution's marketing campaign, which used phone calls to determine whether customers would subscribe to a term deposit."
   ]
  },
  {
   "cell_type": "markdown",
   "metadata": {},
   "source": [
    "The notebook uses Python 3.6 and the Watson Machine Learning V4 Python client to manage the deployments."
   ]
  },
  {
   "cell_type": "markdown",
   "metadata": {},
   "source": [
    "## 1. Setting up\n"
   ]
  },
  {
   "cell_type": "markdown",
   "metadata": {},
   "source": [
    "**Action:** Before you proceed with the steps in this notebook, please ensure that you've completed the following:\n",
    "1. Get a <a href=\"https://cloud.ibm.com/catalog/services/machine-learning\" target=\"_blank\" rel=\"noopener noreferrer\">Watson Machine Learning (WML) Service</a> instance (a free plan is offered and information about how to create an instance can be found <a href=\"https://dataplatform.cloud.ibm.com/docs/content/wsj/analyze-data/wml-setup.html\" target=\"_blank\" rel=\"noopener noreferrer\">here</a>).\n",
    "1. Download the small <a href=\"https://dataplatform.cloud.ibm.com/exchange/public/entry/view/50fa9246181026cd7ae2a5bc7ea444e6\" target=\"_blank\" rel=\"noopener noreferrer\">Bank Marketing</a> data set from the Watson Studio Community.\n",
    "2. Load the .csv file as a Data Asset in your project by clicking **Add to Project** on your project page.\n",
    "3. In the next step, you will <a href=\"https://dataplatform.cloud.ibm.com/docs/content/wsj/analyze-data/autoai-build.html\" target=\"_blank\" rel=\"noopener noreferrer\">build an AutoAI model</a>."
   ]
  },
  {
   "cell_type": "markdown",
   "metadata": {},
   "source": [
    "## 2. Build an AutoAI model\n"
   ]
  },
  {
   "cell_type": "markdown",
   "metadata": {},
   "source": [
    "1. In your Watson Studio project, click **Add to project**. Then, click **AutoAI Experiment**.\n",
    "2. Make sure you have **From Sample** selected. Specify a name and description for your experiment and click **Create**.\n",
    "3. To add the training data, choose the Bank Marketing .csv file from your project. You'll now see an option to select the column to predict. \n",
    "4. Select the column named `y`. Based on analyzing a subset of the data set, AutoAI will choose a default model type: binary classification. \n",
    "5. Click **Run Experiment** to begin the model pipeline creation.\n",
    "6. When the pipeline generation process completes, you can view the leading model candidates and <a href=\"https://dataplatform.cloud.ibm.com/docs/content/wsj/analyze-data/autoai-view-results.html\" target=\"_blank\" rel=\"noopener noreferrer\">evaluate</a> them before saving a pipeline as a model. The default ranking metric for binary classification models is the area under the ROC curve, so with Ranking based on `ROC AUC`, select the top pipeline. Click **Save as model**. "
   ]
  },
  {
   "cell_type": "markdown",
   "metadata": {},
   "source": [
    "## 3. Deploy the model"
   ]
  },
  {
   "cell_type": "markdown",
   "metadata": {},
   "source": [
    "### Load the data"
   ]
  },
  {
   "cell_type": "markdown",
   "metadata": {},
   "source": [
    "1. Download the **Bank Marketing (add link)** Data Set from the Watson Studio Community.\n",
    "2. Load the .csv file into your notebook. Click the Data icon on the notebook action bar. Drop the file into the box or browse to select the file. The file is loaded to your object storage and appears in the Data Assets section of the project.\n",
    "3. To load the data into a DataFrame, click in the next code cell and select **Insert to code > Insert Pandas DataFrame** under the file name.\n",
    "4. Rename `df_data_x` to `df_data_1`.\n",
    "5. Run the cell."
   ]
  },
  {
   "cell_type": "code",
   "execution_count": 1,
   "metadata": {},
   "outputs": [
    {
     "data": {
      "text/html": [
       "<div>\n",
       "<style scoped>\n",
       "    .dataframe tbody tr th:only-of-type {\n",
       "        vertical-align: middle;\n",
       "    }\n",
       "\n",
       "    .dataframe tbody tr th {\n",
       "        vertical-align: top;\n",
       "    }\n",
       "\n",
       "    .dataframe thead th {\n",
       "        text-align: right;\n",
       "    }\n",
       "</style>\n",
       "<table border=\"1\" class=\"dataframe\">\n",
       "  <thead>\n",
       "    <tr style=\"text-align: right;\">\n",
       "      <th></th>\n",
       "      <th>age</th>\n",
       "      <th>job</th>\n",
       "      <th>marital</th>\n",
       "      <th>education</th>\n",
       "      <th>default</th>\n",
       "      <th>balance</th>\n",
       "      <th>housing</th>\n",
       "      <th>loan</th>\n",
       "      <th>contact</th>\n",
       "      <th>day</th>\n",
       "      <th>month</th>\n",
       "      <th>duration</th>\n",
       "      <th>campaign</th>\n",
       "      <th>pdays</th>\n",
       "      <th>previous</th>\n",
       "      <th>poutcome</th>\n",
       "      <th>y</th>\n",
       "    </tr>\n",
       "  </thead>\n",
       "  <tbody>\n",
       "    <tr>\n",
       "      <th>0</th>\n",
       "      <td>30</td>\n",
       "      <td>unemployed</td>\n",
       "      <td>married</td>\n",
       "      <td>primary</td>\n",
       "      <td>no</td>\n",
       "      <td>1787</td>\n",
       "      <td>no</td>\n",
       "      <td>no</td>\n",
       "      <td>cellular</td>\n",
       "      <td>19</td>\n",
       "      <td>oct</td>\n",
       "      <td>79</td>\n",
       "      <td>1</td>\n",
       "      <td>-1</td>\n",
       "      <td>0</td>\n",
       "      <td>unknown</td>\n",
       "      <td>no</td>\n",
       "    </tr>\n",
       "    <tr>\n",
       "      <th>1</th>\n",
       "      <td>33</td>\n",
       "      <td>services</td>\n",
       "      <td>married</td>\n",
       "      <td>secondary</td>\n",
       "      <td>no</td>\n",
       "      <td>4789</td>\n",
       "      <td>yes</td>\n",
       "      <td>yes</td>\n",
       "      <td>cellular</td>\n",
       "      <td>11</td>\n",
       "      <td>may</td>\n",
       "      <td>220</td>\n",
       "      <td>1</td>\n",
       "      <td>339</td>\n",
       "      <td>4</td>\n",
       "      <td>failure</td>\n",
       "      <td>no</td>\n",
       "    </tr>\n",
       "    <tr>\n",
       "      <th>2</th>\n",
       "      <td>35</td>\n",
       "      <td>management</td>\n",
       "      <td>single</td>\n",
       "      <td>tertiary</td>\n",
       "      <td>no</td>\n",
       "      <td>1350</td>\n",
       "      <td>yes</td>\n",
       "      <td>no</td>\n",
       "      <td>cellular</td>\n",
       "      <td>16</td>\n",
       "      <td>apr</td>\n",
       "      <td>185</td>\n",
       "      <td>1</td>\n",
       "      <td>330</td>\n",
       "      <td>1</td>\n",
       "      <td>failure</td>\n",
       "      <td>no</td>\n",
       "    </tr>\n",
       "    <tr>\n",
       "      <th>3</th>\n",
       "      <td>30</td>\n",
       "      <td>management</td>\n",
       "      <td>married</td>\n",
       "      <td>tertiary</td>\n",
       "      <td>no</td>\n",
       "      <td>1476</td>\n",
       "      <td>yes</td>\n",
       "      <td>yes</td>\n",
       "      <td>unknown</td>\n",
       "      <td>3</td>\n",
       "      <td>jun</td>\n",
       "      <td>199</td>\n",
       "      <td>4</td>\n",
       "      <td>-1</td>\n",
       "      <td>0</td>\n",
       "      <td>unknown</td>\n",
       "      <td>no</td>\n",
       "    </tr>\n",
       "    <tr>\n",
       "      <th>4</th>\n",
       "      <td>59</td>\n",
       "      <td>blue-collar</td>\n",
       "      <td>married</td>\n",
       "      <td>secondary</td>\n",
       "      <td>no</td>\n",
       "      <td>0</td>\n",
       "      <td>yes</td>\n",
       "      <td>no</td>\n",
       "      <td>unknown</td>\n",
       "      <td>5</td>\n",
       "      <td>may</td>\n",
       "      <td>226</td>\n",
       "      <td>1</td>\n",
       "      <td>-1</td>\n",
       "      <td>0</td>\n",
       "      <td>unknown</td>\n",
       "      <td>no</td>\n",
       "    </tr>\n",
       "  </tbody>\n",
       "</table>\n",
       "</div>"
      ],
      "text/plain": [
       "   age          job  marital  education default  balance housing loan  \\\n",
       "0   30   unemployed  married    primary      no     1787      no   no   \n",
       "1   33     services  married  secondary      no     4789     yes  yes   \n",
       "2   35   management   single   tertiary      no     1350     yes   no   \n",
       "3   30   management  married   tertiary      no     1476     yes  yes   \n",
       "4   59  blue-collar  married  secondary      no        0     yes   no   \n",
       "\n",
       "    contact  day month  duration  campaign  pdays  previous poutcome   y  \n",
       "0  cellular   19   oct        79         1     -1         0  unknown  no  \n",
       "1  cellular   11   may       220         1    339         4  failure  no  \n",
       "2  cellular   16   apr       185         1    330         1  failure  no  \n",
       "3   unknown    3   jun       199         4     -1         0  unknown  no  \n",
       "4   unknown    5   may       226         1     -1         0  unknown  no  "
      ]
     },
     "execution_count": 1,
     "metadata": {},
     "output_type": "execute_result"
    }
   ],
   "source": [
    "# Load Bank Marketing data as dataframe\n",
    "import types\n",
    "import pandas as pd\n",
    "from botocore.client import Config\n",
    "import ibm_boto3\n",
    "\n",
    "def __iter__(self): return 0\n",
    "\n",
    "# @hidden_cell\n",
    "# The following code accesses a file in your IBM Cloud Object Storage. It includes your credentials.\n",
    "# You might want to remove those credentials before you share your notebook.\n",
    "client_cf30deff925f4df28741f6b0a9ebdaab = ibm_boto3.client(service_name='s3',\n",
    "    ibm_api_key_id='***',\n",
    "    ibm_auth_endpoint=\"***\",\n",
    "    config=Config(signature_version='oauth'),\n",
    "    endpoint_url='h***')\n",
    "\n",
    "body = client_cf30deff925f4df28741f6b0a9ebdaab.get_object(Bucket='watsonstudioexamplenotebooks-donotdelete-pr-5atise9lcgbnvl',Key='bank-marketing-small.csv')['Body']\n",
    "# add missing __iter__ method, so pandas accepts body as file-like object\n",
    "if not hasattr(body, \"__iter__\"): body.__iter__ = types.MethodType( __iter__, body )\n",
    "\n",
    "df_data_1 = pd.read_csv(body)\n",
    "df_data_1.head()"
   ]
  },
  {
   "cell_type": "markdown",
   "metadata": {},
   "source": [
    "### V4 Python client"
   ]
  },
  {
   "cell_type": "markdown",
   "metadata": {},
   "source": [
    "In this section, you will learn how to use the V4 Python client to manage your model in the WML repository."
   ]
  },
  {
   "cell_type": "markdown",
   "metadata": {},
   "source": [
    "**Tip**: Authentication information (your credentials) can be found in the <a href=\"https://dataplatform.cloud.ibm.com/docs/content/wsj/analyze-data/ml-get-wml-credentials.html\" target=\"_blank\" rel=\"noopener noreferrer\">Service Credentials</a> tab of the service instance that you created on the IBM Cloud. <BR>If you cannot find the **instance_id** field in **Service Credentials**, click **New credential (+)** to generate new authentication information."
   ]
  },
  {
   "cell_type": "code",
   "execution_count": 2,
   "metadata": {},
   "outputs": [],
   "source": [
    " wml_credentials={\n",
    "  'url': 'https://ibm-watson-ml.mybluemix.net',\n",
    "  'apikey': '****',\n",
    "  'username': '****',\n",
    "  'password': '****',\n",
    "  'instance_id': '****'\n",
    "}"
   ]
  },
  {
   "cell_type": "markdown",
   "metadata": {},
   "source": [
    "**Tip:** You can find more information about the watson-machine-learning-client <a href=\"https://wml-api-pyclient-dev-v4.mybluemix.net/\" target=\"_blank\" rel=\"noopener noreferrer\">here</a>."
   ]
  },
  {
   "cell_type": "code",
   "execution_count": 4,
   "metadata": {},
   "outputs": [],
   "source": [
    "!rm -rf $PIP_BUILD/watson-machine-learning-client-v4"
   ]
  },
  {
   "cell_type": "code",
   "execution_count": null,
   "metadata": {},
   "outputs": [],
   "source": [
    "!pip install watson-machine-learning-client-v4"
   ]
  },
  {
   "cell_type": "markdown",
   "metadata": {},
   "source": [
    "First, import the `WatsonMachineLearningAPIClient` module."
   ]
  },
  {
   "cell_type": "code",
   "execution_count": 6,
   "metadata": {},
   "outputs": [],
   "source": [
    "from watson_machine_learning_client import WatsonMachineLearningAPIClient"
   ]
  },
  {
   "cell_type": "markdown",
   "metadata": {},
   "source": [
    "Instantiate the `WatsonMachineLearningAPIClient` object."
   ]
  },
  {
   "cell_type": "code",
   "execution_count": 7,
   "metadata": {},
   "outputs": [],
   "source": [
    "client = WatsonMachineLearningAPIClient(wml_credentials)"
   ]
  },
  {
   "cell_type": "markdown",
   "metadata": {},
   "source": [
    "You can see the list of models in the WML Repository by running the following cell."
   ]
  },
  {
   "cell_type": "code",
   "execution_count": 8,
   "metadata": {},
   "outputs": [
    {
     "name": "stdout",
     "output_type": "stream",
     "text": [
      "------------------------------------  -------------------------------------------------------  ------------------------  -----------------\n",
      "GUID                                  NAME                                                     CREATED                   TYPE\n",
      "53b90fb3-0d12-4d66-96c8-b4e4cf96a0ae  Customer churn Spark model                               2019-07-03T15:47:49.778Z  mllib_2.3\n",
      "ad24c140-f97a-49f2-b02c-f8ce44a58c27  Custom ARIMA estimator for sklearn pipeline              2019-07-03T01:04:34.000Z  scikit-learn_0.19\n",
      "5f1cfce9-01fe-466d-a9a6-0acf8f9d3352  Diet                                                     2019-06-21T10:16:55.901Z  do-docplex_12.9\n",
      "abcb8b9f-ea49-4274-b4c5-3b1aec281f0f  Diet                                                     2019-06-21T10:13:35.444Z  do-docplex_12.9\n",
      "0c83a866-fa91-44b4-ba53-d2ce231fdf48  bank marketing - P3 GradientBoostingClassifierEstimator  2019-06-06T18:07:33.500Z  wml-hybrid_0.1\n",
      "471b39cc-9c3b-4ff9-a8ea-0297efe0ca5d  Boston house price prediction                            2019-05-20T18:19:55.435Z  scikit-learn_0.19\n",
      "fc5462c8-7eb9-4dda-8b0a-947e2faa30da  WML Product Line Prediction Model                        2019-05-17T17:33:53.280Z  mllib_2.3\n",
      "a57e82a9-076e-4236-8bd2-7465e726c419  WML Product Line Prediction Model                        2019-05-17T17:28:36.436Z  mllib_2.3\n",
      "914b598b-f52e-4a87-bfed-2f4163eba25e  Boston house price prediction                            2019-05-13T21:11:04.134Z  scikit-learn_0.19\n",
      "43dbda1f-34f4-4396-9b57-942d96389440  Boston house price prediction                            2019-05-13T19:16:12.785Z  scikit-learn_0.19\n",
      "823aabf6-5621-49ed-9f0e-3dce7d17225f  Diet                                                     2019-05-09T17:42:10.480Z  do-docplex_12.9\n",
      "20da8eb9-36d3-4230-bf0c-ba4f7434080c  ML Contest - Label Prediction Model                      2019-05-07T16:43:17.660Z  scikit-learn_0.19\n",
      "6ee6777d-b716-49e8-acf0-1913fec902f3  ML Contest - ETA Prediction Model                        2019-05-07T16:43:16.067Z  scikit-learn_0.19\n",
      "3bb7e3ab-836a-4331-9676-7bcc07cc2d63  ML Contest - Assignee Prediction Model                   2019-05-07T16:43:14.432Z  scikit-learn_0.19\n",
      "0ffb0000-511b-443d-a4fe-3e076ce2381c  WML Product Line Prediction Model                        2019-04-26T17:19:09.806Z  mllib_2.3\n",
      "eecf9e06-24cc-4675-a84e-adcf863b0ec6  WML Product Line Prediction Model                        2019-04-26T16:57:07.470Z  mllib_2.3\n",
      "24f8c253-ab45-45fc-ab94-65ceba1f3dcc  WML Product Line Prediction Model                        2019-04-25T22:15:37.306Z  mllib_2.3\n",
      "d2f64a87-1803-4b3d-bef9-3352e07d823c  SPSS Car Price Regression model                          2019-04-23T22:11:45.591Z  spss-modeler_18.1\n",
      "9eabbb0d-aaaf-4f00-a7b4-609b8253c9ab  Time Series SPSS Model                                   2019-03-22T17:48:22.762Z  spss-modeler_18.1\n",
      "0de88973-a74f-46c7-9ce5-bb3a72457ebc  TensorFlow MNIST model                                   2019-03-15T18:27:25.136Z  tensorflow_1.5\n",
      "f72ed23b-a7dd-4668-8b18-60e55ae2a59a  Best Heart Drug Selection                                2019-03-12T23:47:20.528Z  mllib_2.3\n",
      "2660bd78-4ecb-4224-85d6-667b43eb3813  Sentiment Prediction Model                               2019-03-12T23:01:07.681Z  mllib_2.3\n",
      "93638ac0-a8ae-4cf7-a3b5-47e026ad5bcd  SPSS model for Churn prediction                          2019-03-12T12:59:13.803Z  spss-modeler_18.1\n",
      "4e7d708b-783c-4f82-95c2-90d02957031f  Customer churn Spark model                               2019-03-11T15:27:06.686Z  mllib_2.3\n",
      "56529f33-9bce-45f5-87f5-b6bc838b88a0  MNIST best model                                         2019-03-07T13:37:39.722Z  keras_2.1.3\n",
      "a59d7814-b8f9-4e13-b433-253364dec6ff  Customer churn Spark model                               2019-03-07T13:14:14.866Z  mllib_2.3\n",
      "5fb4a3c0-f18a-4936-ba15-294c13849167  Product line model                                       2019-03-06T14:24:29.324Z  mllib_2.3\n",
      "193f97a4-2a48-4be7-9497-11ccc58aebb3  My cool mnist model                                      2019-03-06T12:52:11.181Z  tensorflow_1.5\n",
      "2dcc72ce-16c2-4ad0-94c8-77f37317b47b  Boston house price prediction                            2019-03-06T11:45:30.727Z  scikit-learn_0.19\n",
      "f7982685-3040-4936-a7a4-d42aec6b2e1c  Boston house price prediction                            2019-03-06T11:32:56.270Z  scikit-learn_0.19\n",
      "c9dfebfa-0411-4e3e-a9c5-9a311444ed59  CHAID PMML model for Iris data                           2019-03-04T12:59:21.353Z  pmml_4.2\n",
      "c0e97a79-7db0-471e-afd8-f3e238fd16b6  XGBoost model for breast cancer                          2019-02-28T19:11:24.486Z  xgboost_0.80\n",
      "8008b47c-0f07-482c-8d2f-0b6940c824e5  SMS Spam prediction model                                2019-02-28T00:57:59.715Z  scikit-learn_0.19\n",
      "f2ea0716-7d1f-484a-8468-14f4b6ec7333  WML Product Line Prediction Model                        2019-02-27T13:50:04.630Z  mllib_2.3\n",
      "fe1f7f54-b66f-46ed-8785-9fa5d129e02e  SPSS model for Churn prediction                          2019-02-27T11:53:10.674Z  spss-modeler_18.1\n",
      "7bd8d8b7-bb2b-4e71-95e6-502fec50657f  SPSS model for Churn prediction                          2019-02-27T09:29:04.869Z  spss-modeler_18.1\n",
      "c4fbb8ff-0e1b-4c45-b155-85b07527ecc3  SPSS model for Churn prediction                          2019-02-26T13:13:42.222Z  spss-modeler_18.1\n",
      "8a245de4-7907-44fe-b67f-3cf1746d9eb4  CHAID PMML model for Iris data                           2019-02-25T13:09:14.754Z  pmml_4.2\n",
      "462931ef-bcf8-486c-8bcb-2b2c114cb20c  MNIST - compressed keras model                           2019-02-25T12:29:43.087Z  keras_2.1.3\n",
      "e349018e-a37c-4d26-bb86-01ce7f52bdaa  SMS Spam prediction model                                2019-02-13T15:52:39.177Z  scikit-learn_0.19\n",
      "0cc8a058-6b08-4ae5-84df-a62d49e0f4bf  SPSS XGBoost Tree Regression model_auto-opt              2019-02-12T19:00:25.866Z  spss-modeler_18.1\n",
      "67ee96bc-cb64-4ad0-8255-bf471df915bb  SMS Spam prediction model                                2019-02-12T02:48:36.432Z  scikit-learn_0.19\n",
      "9de866c9-bb52-4c19-b095-94c265530f46  Earthquake magnitude prediction model                    2019-02-11T16:41:38.817Z  keras_2.2.4\n",
      "f514ff10-8857-433c-89b0-280c708a6e26  Earthquake magnitude prediction model                    2019-02-11T16:31:26.540Z  keras_2.2.4\n",
      "e561751f-d7d9-4c6f-a7af-6677baf3d45f  Earthquake magnitude prediction model                    2019-02-07T00:21:53.515Z  keras_2.2.4\n",
      "f87ac4d9-7a05-435d-98eb-6eacd290e3cc  Earthquake magnitude prediction model                    2019-02-07T00:08:13.680Z  keras_2.2.4\n",
      "482e49ea-1207-45b8-bf57-89d57bc44678  SPSS XGBoost Regression Model - Car Price                2019-02-05T18:09:21.458Z  spss-modeler_18.1\n",
      "e0ef0258-ef7c-45f0-9466-3568e03fed65  SPSS (Auto) Regression Model - Car Price                 2019-01-30T23:18:33.433Z  spss-modeler_18.1\n",
      "afb7a22e-1e6c-4e29-a1da-5305a2f5a16b  WML Product Line Prediction Model                        2019-01-19T19:36:59.712Z  mllib_2.3\n",
      "61c9afb7-94ae-4c05-ad2b-dc734bb0f932  SPSS model for Churn prediction                          2019-01-18T10:28:30.837Z  spss-modeler_18.1\n",
      "------------------------------------  -------------------------------------------------------  ------------------------  -----------------\n",
      "Note: Only first 50 records were displayed. To display more use 'limit' parameter.\n"
     ]
    }
   ],
   "source": [
    "client.repository.list_models()"
   ]
  },
  {
   "cell_type": "markdown",
   "metadata": {},
   "source": [
    "**Action:** Find the AutoAI model you saved from the list of models above. Copy the GUID and paste it in the cell below."
   ]
  },
  {
   "cell_type": "code",
   "execution_count": 9,
   "metadata": {},
   "outputs": [],
   "source": [
    "# Note: Enter the saved AutoAI model's GUID here\n",
    "model_uid = '0c83a866-fa91-44b4-ba53-d2ce231fdf48'"
   ]
  },
  {
   "cell_type": "markdown",
   "metadata": {},
   "source": [
    "You'll now use the `model_uid` to create the deployment."
   ]
  },
  {
   "cell_type": "markdown",
   "metadata": {},
   "source": [
    "### Deploy"
   ]
  },
  {
   "cell_type": "markdown",
   "metadata": {},
   "source": [
    "Now, you can create a deployment of your AutoAI model using the V4 Python client."
   ]
  },
  {
   "cell_type": "code",
   "execution_count": 10,
   "metadata": {},
   "outputs": [],
   "source": [
    "# Deployment metadata.\n",
    "deploy_meta = {\n",
    "    client.deployments.ConfigurationMetaNames.NAME: \"AutoAI Deployment - bank marketing\",\n",
    "    client.deployments.ConfigurationMetaNames.ONLINE: {}\n",
    "}"
   ]
  },
  {
   "cell_type": "code",
   "execution_count": 11,
   "metadata": {},
   "outputs": [
    {
     "name": "stdout",
     "output_type": "stream",
     "text": [
      "\n",
      "\n",
      "#######################################################################################\n",
      "\n",
      "Synchronous deployment creation for uid: '0c83a866-fa91-44b4-ba53-d2ce231fdf48' started\n",
      "\n",
      "#######################################################################################\n",
      "\n",
      "\n",
      "initializing\n",
      "\n",
      "\n",
      "------------------------------------------------------------------------------------------------\n",
      "Successfully finished deployment creation, deployment_uid='a166c7f3-be1e-463a-962e-55512310d6af'\n",
      "------------------------------------------------------------------------------------------------\n",
      "\n",
      "\n"
     ]
    }
   ],
   "source": [
    "# Create the deployment.\n",
    "deploy_details = client.deployments.create(model_uid, meta_props=deploy_meta)"
   ]
  },
  {
   "cell_type": "markdown",
   "metadata": {},
   "source": [
    "Get the list of all the deployments."
   ]
  },
  {
   "cell_type": "code",
   "execution_count": 12,
   "metadata": {},
   "outputs": [
    {
     "name": "stdout",
     "output_type": "stream",
     "text": [
      "------------------------------------  -------------------------------------------------------  ------------  ------------------------  -------------\n",
      "GUID                                  NAME                                                     STATE         CREATED                   ARTIFACT_TYPE\n",
      "a166c7f3-be1e-463a-962e-55512310d6af  AutoAI Deployment - bank marketing                       initializing  2019-07-08T18:00:55+0000  model\n",
      "7985e484-4192-400e-82e5-3756d4600668  ARIMA model python function deployment                   ready         2019-07-03T20:33:40.817Z  function\n",
      "6aedb5b7-638a-4388-ab0d-45fecb3b7081  Customer Churn Prediction                                ready         2019-07-03T15:51:34.166Z  model\n",
      "cfcd5f9e-5b07-4bea-b57d-304c12254add  sklearn_pipeline_arima                                   ready         2019-07-03T01:06:29.302Z  model\n",
      "a217b1be-5a29-4f69-bcc1-dc1287b5c30a  AutoAI Deployment - bank marketing                       ready         2019-06-24T18:15:32+0000  model\n",
      "7b045679-07c9-4225-9116-c153c6359588  Virtual deployment of Boston model                       initializing  2019-05-20T18:20:14.124Z  model\n",
      "2b9a344c-2dbf-4568-920d-bb5b598d8273  Online scoring                                           ready         2019-05-17T17:34:23.382Z  model\n",
      "69aa4267-dc8c-4243-bc33-3ee7571c0ca4  Online scoring                                           ready         2019-05-17T17:29:35.859Z  model\n",
      "81911f93-50bb-4fec-a146-eb6f8519b79e  Virtual deployment of Boston model                       initializing  2019-05-13T21:11:07.340Z  model\n",
      "4431988f-678b-4f40-92b4-2dbe63ea54e2  Virtual deployment of Boston model                       initializing  2019-05-13T19:16:19.731Z  model\n",
      "31fdffd5-6a0a-459f-a160-7c4be26ddf15  ML Contest - Label Prediction Model deployment           ready         2019-05-07T16:48:56.694Z  model\n",
      "18fe2647-55e0-451a-8f51-0c3195223981  ML Contest - Issue ETA Prediction Model deployment       ready         2019-05-07T16:48:51.102Z  model\n",
      "5649340d-248b-4d34-a2d8-ed3e0316ea9b  ML Contest - Assignee Prediction Model deployment        ready         2019-05-07T16:48:45.286Z  model\n",
      "49055fc5-88f4-46ea-b17a-517d75f120ba  Online scoring                                           ready         2019-04-26T17:19:40.703Z  model\n",
      "7eb9b874-53b8-463c-bd19-058ee52e3e3d  Online scoring                                           ready         2019-04-26T17:07:07.833Z  model\n",
      "8b95a4dd-4b3f-4b36-bd3e-b58b59f100e2  Mnist model deployment                                   ready         2019-04-02T16:09:27.875Z  model\n",
      "451f5f1a-d1f5-4a90-a441-b2953053ae6f  Time Series model (SPSS) deployment                      ready         2019-03-28T19:00:49.524Z  model\n",
      "486a79af-ea0b-4e8e-8166-dc2bb43b6c98  TensorFlow MNIST model deployment                        ready         2019-03-15T18:27:34.468Z  model\n",
      "92991643-a229-4f9e-a70a-3e9de612942e  Sample SPSS model deployment                             ready         2019-03-12T12:59:15.857Z  model\n",
      "dce80b25-3d32-4005-b96b-9d9c80a7239a  MNIST keras deployment                                   failed        2019-03-07T13:37:41.529Z  model\n",
      "00edc46c-5df5-482e-936a-4d9f2e5fbc06  Product line model deployment                            ready         2019-03-06T14:30:35.086Z  model\n",
      "86da6500-18ff-4970-b3e4-7e335d4a08f9  Mnist model deployment                                   ready         2019-03-06T12:52:13.175Z  model\n",
      "d250df1b-6e43-4c69-98d2-10ff25b5d63d  Virtual deployment of Boston model                       ready         2019-03-06T11:45:33.176Z  model\n",
      "6d3cf6bb-db92-427c-8b52-9d050d7bfec8  Virtual deployment of Boston model                       ready         2019-03-06T11:32:59.110Z  model\n",
      "ded4770f-c2fe-4653-9ce2-0c79ecfa10be  Iris species prediction                                  ready         2019-03-04T12:59:23.413Z  model\n",
      "450f555b-1952-4ef1-90be-96a16f600345  Predict breast cancer                                    ready         2019-02-28T19:11:28.862Z  model\n",
      "dd987565-3e04-4179-9cf9-546710fbadcd  Web scraping python function deployment                  ready         2019-02-28T11:50:04.209Z  function\n",
      "984ffa92-1c82-4b54-bb56-f6f85e915227  Web scraping python function deployment                  ready         2019-02-27T17:50:16.907Z  function\n",
      "e5472c3f-c7d7-4a3e-9b20-44f03030373e  Web scraping python function deployment                  ready         2019-02-27T16:51:24.029Z  function\n",
      "304c671c-6a48-496d-b27b-3ad9888a0156  Online scoring                                           ready         2019-02-27T13:50:39.730Z  model\n",
      "18298746-41ec-4bac-928c-fc34e3708ca9  Sample SPSS model deployment                             ready         2019-02-27T11:53:13.523Z  model\n",
      "375d050d-1e3b-49e5-9f1d-655f28734ec7  Sample SPSS model deployment                             ready         2019-02-27T09:29:07.286Z  model\n",
      "2924aaaf-bddf-4567-8206-6972c163dfa4  Sample SPSS model deployment                             ready         2019-02-26T13:13:44.977Z  model\n",
      "feb87375-fca8-4b0c-8f2f-5c83a6e26115  Iris species prediction                                  ready         2019-02-25T13:09:17.454Z  model\n",
      "a0e16777-75ad-489a-a6db-5213619381a4  Keras MNIST model deployment through compressed file.    ready         2019-02-25T12:29:47.265Z  model\n",
      "5c5ebf10-c47a-4224-b35d-3646b0348af1  Web scraping python function deployment                  ready         2019-02-21T14:58:00.141Z  function\n",
      "b9efb426-845a-45e7-b591-85c4bdb1417c  SMS Spam prediction model deployment.                    ready         2019-02-13T15:52:48.108Z  model\n",
      "569fb590-41aa-433e-aeb4-89a9688a4a7b  Keras earthquake magnitude prediction model deployment.  ready         2019-02-11T16:41:49.568Z  model\n",
      "7b2ff02b-b6a7-4ef4-b0e6-6765b1c45766  Keras earthquake magnitude prediction model deployment.  ready         2019-02-07T00:21:58.175Z  model\n",
      "a738de63-d74e-454a-9dd7-f377c65420bc  Online scoring                                           ready         2019-01-19T19:49:21.391Z  model\n",
      "d8f43799-cf5c-499f-a9d3-42d2e398f337  Sample SPSS model deployment                             ready         2019-01-18T10:28:38.134Z  model\n",
      "12056c7c-6ff1-454d-b324-d1cf4b42c4fd  Iris species prediction                                  ready         2019-01-18T09:36:17.097Z  model\n",
      "a375c7bc-963d-4a9b-9896-7dbcdcaed78d  Web scraping python function deployment                  ready         2019-01-17T10:11:40.324Z  function\n",
      "a8b47a68-060c-4474-a5c0-15da3304063a  Product line model deployment                            ready         2019-01-17T10:02:44.991Z  model\n",
      "ada89546-d27c-4c32-953f-84f2238eb12a  Product line model deployment                            ready         2019-01-17T07:14:05.178Z  model\n",
      "902853d1-9ff6-40a7-8918-d6b7b39c3a4e  Web scraping python function deployment                  ready         2019-01-17T02:37:29.921Z  function\n",
      "3da0fb97-24b9-44d6-ac16-e97a0cf8dfcb  Keras MNIST model deployment through compressed file.    ready         2019-01-15T14:49:46.285Z  model\n",
      "------------------------------------  -------------------------------------------------------  ------------  ------------------------  -------------\n"
     ]
    }
   ],
   "source": [
    "client.deployments.list()"
   ]
  },
  {
   "cell_type": "markdown",
   "metadata": {},
   "source": [
    "The model has been successfully deployed."
   ]
  },
  {
   "cell_type": "code",
   "execution_count": 13,
   "metadata": {},
   "outputs": [
    {
     "name": "stdout",
     "output_type": "stream",
     "text": [
      "Deployment uid = a166c7f3-be1e-463a-962e-55512310d6af\n"
     ]
    }
   ],
   "source": [
    "# Deployment UID.\n",
    "deployment_uid = client.deployments.get_uid(deploy_details)\n",
    "print('Deployment uid = {}'.format(deployment_uid))"
   ]
  },
  {
   "cell_type": "markdown",
   "metadata": {},
   "source": [
    "## 4. Score the model"
   ]
  },
  {
   "cell_type": "markdown",
   "metadata": {},
   "source": [
    "In this notebook, you will learn how to score deployed models using the V4 Python client."
   ]
  },
  {
   "cell_type": "markdown",
   "metadata": {},
   "source": [
    "Use the following method to run a test scoring request against the deployed model using the V4 Python client."
   ]
  },
  {
   "cell_type": "markdown",
   "metadata": {},
   "source": [
    "Prepare the scoring payload with the records to score."
   ]
  },
  {
   "cell_type": "code",
   "execution_count": 14,
   "metadata": {},
   "outputs": [
    {
     "name": "stdout",
     "output_type": "stream",
     "text": [
      "{'scoring_input_data': [{'fields': ['age',\n",
      "                                    'job',\n",
      "                                    'marital',\n",
      "                                    'education',\n",
      "                                    'default',\n",
      "                                    'balance',\n",
      "                                    'housing',\n",
      "                                    'loan',\n",
      "                                    'contact',\n",
      "                                    'day',\n",
      "                                    'month',\n",
      "                                    'duration',\n",
      "                                    'campaign',\n",
      "                                    'pdays',\n",
      "                                    'previous',\n",
      "                                    'poutcome',\n",
      "                                    'y'],\n",
      "                         'values': [[30,\n",
      "                                     'unemployed',\n",
      "                                     'married',\n",
      "                                     'primary',\n",
      "                                     'no',\n",
      "                                     1787,\n",
      "                                     'no',\n",
      "                                     'no',\n",
      "                                     'cellular',\n",
      "                                     19,\n",
      "                                     'oct',\n",
      "                                     79,\n",
      "                                     1,\n",
      "                                     -1,\n",
      "                                     0,\n",
      "                                     'unknown',\n",
      "                                     'no'],\n",
      "                                    [20,\n",
      "                                     'student',\n",
      "                                     'single',\n",
      "                                     'secondary',\n",
      "                                     'no',\n",
      "                                     502,\n",
      "                                     'no',\n",
      "                                     'no',\n",
      "                                     'cellular',\n",
      "                                     30,\n",
      "                                     'apr',\n",
      "                                     261,\n",
      "                                     1,\n",
      "                                     -1,\n",
      "                                     0,\n",
      "                                     'unknown',\n",
      "                                     'yes']]}]}\n"
     ]
    }
   ],
   "source": [
    "# Prepare scoring payload.\n",
    "from pprint import pprint\n",
    "job_payload = {\n",
    "    client.deployments.ScoringMetaNames.INPUT_DATA: [{\n",
    "        'fields': ['age', 'job', 'marital', 'education', 'default', 'balance', 'housing',\n",
    "       'loan', 'contact', 'day', 'month', 'duration', 'campaign', 'pdays',\n",
    "       'previous', 'poutcome', 'y'],\n",
    "        'values': [[30, 'unemployed', 'married', 'primary', 'no', 1787, 'no', 'no', 'cellular', 19, 'oct', 79, 1, -1, 0, 'unknown', 'no'],\n",
    "                   [20, 'student', 'single', 'secondary', 'no', 502, 'no', 'no', 'cellular', 30, 'apr', 261, 1, -1, 0, 'unknown', 'yes']]\n",
    "    }]\n",
    "}\n",
    "pprint(job_payload)"
   ]
  },
  {
   "cell_type": "markdown",
   "metadata": {},
   "source": [
    "Finally, you can use this method to run the scoring."
   ]
  },
  {
   "cell_type": "code",
   "execution_count": 15,
   "metadata": {
    "scrolled": true
   },
   "outputs": [
    {
     "name": "stdout",
     "output_type": "stream",
     "text": [
      "{'predictions': [{'fields': ['prediction', 'probability'],\n",
      "                  'values': [[0.0, [0.9732180907567131, 0.02678190924328699]],\n",
      "                             [1.0,\n",
      "                              [0.24594307548171945, 0.7540569245182805]]]}]}\n"
     ]
    }
   ],
   "source": [
    "# Perform prediction and display the result.\n",
    "job_details = client.deployments.score(deployment_uid, job_payload)\n",
    "pprint(job_details)"
   ]
  },
  {
   "cell_type": "markdown",
   "metadata": {},
   "source": [
    "You can see that the first client is predicted to have **not been subscribed** a term deposit with a probability of 0.97. The second client is predicted to have been **subscribed** a term deposit with a probability of 0.75."
   ]
  },
  {
   "cell_type": "markdown",
   "metadata": {},
   "source": [
    "## 5. Summary and next steps"
   ]
  },
  {
   "cell_type": "markdown",
   "metadata": {},
   "source": [
    "You have successfully completed this notebook! \n",
    "\n",
    "You learned how to use deploy and score an AutoAI model using the V4 Python client. \n",
    "\n",
    "Check out our <a href=\"https://dataplatform.ibm.com/docs/content/analyze-data/wml-setup.html\" target=\"_blank\" rel=\"noopener no referrer\">Online Documentation</a> for more samples, tutorials, documentation, how-tos, and blog posts. "
   ]
  },
  {
   "cell_type": "markdown",
   "metadata": {},
   "source": [
    "### Citation\n",
    "\n",
    "Moro, S., Cortez, P., & Rita, P. (2014). A data-driven approach to predict the success of bank telemarketing. Decision Support Systems, 62, 22-31."
   ]
  },
  {
   "cell_type": "markdown",
   "metadata": {},
   "source": [
    "### Authors\n",
    "\n",
    "**Ananya Kaushik** is a Data Scientist at IBM."
   ]
  },
  {
   "cell_type": "markdown",
   "metadata": {},
   "source": [
    "Copyright © 2019 IBM. This notebook and its source code are released under the terms of the MIT License."
   ]
  },
  {
   "cell_type": "markdown",
   "metadata": {},
   "source": [
    "<div style='background:#F5F7FA; height:110px; padding: 2em; font-size:14px;'>\n",
    "<span style='font-size:18px;color:#152935;'>Love this notebook? </span>\n",
    "<span style='font-size:15px;color:#152935;float:right;margin-right:40px;'>Don't have an account yet?</span><br>\n",
    "<span style='color:#5A6872;'>Share it with your colleagues and help them discover the power of Watson Studio!</span>\n",
    "<span style='border: 1px solid #3d70b2;padding:8px;float:right;margin-right:40px; color:#3d70b2;'><a href='https://ibm.co/wsnotebooks' target='_blank' style='color: #3d70b2;text-decoration: none;'>Sign Up</a></span><br>\n",
    "</div>"
   ]
  }
 ],
 "metadata": {
  "kernelspec": {
   "display_name": "Python 3.6",
   "language": "python",
   "name": "python3"
  },
  "language_info": {
   "codemirror_mode": {
    "name": "ipython",
    "version": 3
   },
   "file_extension": ".py",
   "mimetype": "text/x-python",
   "name": "python",
   "nbconvert_exporter": "python",
   "pygments_lexer": "ipython3",
   "version": "3.6.8"
  }
 },
 "nbformat": 4,
 "nbformat_minor": 1
}
