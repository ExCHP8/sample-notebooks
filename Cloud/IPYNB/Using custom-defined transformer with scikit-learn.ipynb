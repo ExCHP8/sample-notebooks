{
 "cells": [
  {
   "cell_type": "markdown",
   "metadata": {},
   "source": [
    "<img src=\"https://github.com/pmservice/customer-satisfaction-prediction/blob/master/app/static/images/ml_icon_gray.png?raw=true\" align=\"center\" alt=\"Watson Machine Learning icon\" height=\"45\" width=\"45\"/>\n",
    "\n",
    "# Using custom-defined transformer in a scikit-learn model with Watson Machine Learning"
   ]
  },
  {
   "cell_type": "markdown",
   "metadata": {},
   "source": [
    "Building models with standard components is straightforward, but to use any custom component with your models in Watson Machine Learning, you need to package your custom component code in a source distribution package and store that package in your Watson Machine Learning repository with your model.\n",
    "\n",
    "Learn how to train a scikit-learn model that uses a custom-defined transformer and then use it with the Watson Machine Learning service. After the model is trained, persist the model and the custom-defined transformer to the Watson Machine Learning Repository, deploy and score it using the Watson Machine Learning python client.\n",
    "\n",
    "In this notebook, you will use the GNFUV data set that contains mobile sensor readings data about humidity and temperature from Unmanned Surface Vehicles in a test-bed in Athens to train a Scikit-Learn model to predict the temperature. \n",
    "\n",
    "Some familiarity with Python is helpful. This notebook uses Python 3.5 and scikit-learn-0.19.1. Learn more about custom components <a href=\"https://dataplatform.cloud.ibm.com/docs/content/analyze-data/ml-custom_libs_overview.html\" target=\"_blank\" rel=\"noopener noreferrer\">here</a>."
   ]
  },
  {
   "cell_type": "markdown",
   "metadata": {},
   "source": [
    "## Learning goals\n",
    "\n",
    "This notebooks focuses particularly on demonstrating how to use custom components in your model. You will learn how to:\n",
    "\n",
    "- train a model with a custom-defined transformer\n",
    "- persist the custom-defined transformer and the model in the Watson Machine Learning repository\n",
    "- deploy the model using the Watson Machine Learning Service\n",
    "- perform predictions using the deployed model\n",
    "\n",
    "## Contents\n",
    "1.\t[Set up](#setup)\n",
    "2.\t[Install a sample custom package for a scikit-learn model](#install_lib)\n",
    "3.  [Prepare training data](#load)\n",
    "3.\t[Train the scikit-learn model](#train)\n",
    "4.\t[Save the model and library to Watson Machine Learning Repository](#persistence)\n",
    "5.\t[Deploy and predict](#deploy)\n",
    "6.\t[Summary and next steps](#summary)\n"
   ]
  },
  {
   "cell_type": "markdown",
   "metadata": {},
   "source": [
    "<a id=\"setup\"></a>\n",
    "## 1. Set up\n",
    "\n",
    "Before you use the sample code in this notebook, you must perform the following setup tasks:\n",
    "\n",
    "-  Create a <a href=\"https://console.ng.bluemix.net/catalog/services/ibm-watson-machine-learning/\" target=\"_blank\" rel=\"noopener noreferrer\">Watson Machine Learning (WML) Service</a> instance (a free plan is offered and information about how to create the instance is <a href=\"https://dataplatform.ibm.com/docs/content/analyze-data/wml-setup.html\" target=\"_blank\" rel=\"noopener noreferrer\">here</a>.\n",
    "\n",
    "- Configure your local python environment:\n",
    "  + Python 3.5\n",
    "  + scikit-learn 0.19.1\n",
    "  + watson-machine-learning-client, version: 1.0.293 or above"
   ]
  },
  {
   "cell_type": "markdown",
   "metadata": {},
   "source": [
    "**Tip**: Run the cell below to install libraries from <a href=\"https://pypi.python.org/pypi\" target=\"_blank\" rel=\"noopener no referrer\">PyPI</a>."
   ]
  },
  {
   "cell_type": "code",
   "execution_count": 1,
   "metadata": {},
   "outputs": [],
   "source": [
    "!rm -rf $PIP_BUILD/watson-machine-learning-client"
   ]
  },
  {
   "cell_type": "code",
   "execution_count": null,
   "metadata": {},
   "outputs": [],
   "source": [
    "!pip install watson-machine-learning-client --upgrade"
   ]
  },
  {
   "cell_type": "markdown",
   "metadata": {},
   "source": [
    "<a id=\"install_lib\"></a>\n",
    "\n",
    "## 2. Install a sample custom package for a scikit-learn model"
   ]
  },
  {
   "cell_type": "markdown",
   "metadata": {},
   "source": [
    "The library `linalgnorm-0.1.zip` is a Python distributable package that contains the implementation of the user-defined Scikit-Learn transformer `LNormalizer` . <br>\n",
    "Any 3rd party libraries that are required for the custom transformer must be defined as the dependency for the corresponding library that contains the transformer implementation. \n",
    "\n",
    "Download the library and install it in the current notebook environment. "
   ]
  },
  {
   "cell_type": "code",
   "execution_count": 3,
   "metadata": {},
   "outputs": [],
   "source": [
    "import os\n",
    "\n",
    "if not os.path.exists(\"data/libs\"):\n",
    "    os.makedirs(\"data/libs\")\n",
    "    os.chdir(\"data/libs\")"
   ]
  },
  {
   "cell_type": "code",
   "execution_count": 4,
   "metadata": {
    "scrolled": true
   },
   "outputs": [
    {
     "name": "stdout",
     "output_type": "stream",
     "text": [
      "--2018-11-27 19:06:53--  https://github.com/pmservice/wml-sample-models/raw/master/scikit-learn/custom-transformer-temperature-prediction/libraries/linalgnorm-0.1.zip\n",
      "Resolving github.com (github.com)... 192.30.253.112, 192.30.253.113\n",
      "Connecting to github.com (github.com)|192.30.253.112|:443... connected.\n",
      "HTTP request sent, awaiting response... 302 Found\n",
      "Location: https://raw.githubusercontent.com/pmservice/wml-sample-models/master/scikit-learn/custom-transformer-temperature-prediction/libraries/linalgnorm-0.1.zip [following]\n",
      "--2018-11-27 19:06:54--  https://raw.githubusercontent.com/pmservice/wml-sample-models/master/scikit-learn/custom-transformer-temperature-prediction/libraries/linalgnorm-0.1.zip\n",
      "Resolving raw.githubusercontent.com (raw.githubusercontent.com)... 151.101.48.133\n",
      "Connecting to raw.githubusercontent.com (raw.githubusercontent.com)|151.101.48.133|:443... connected.\n",
      "HTTP request sent, awaiting response... 200 OK\n",
      "Length: 2550 (2.5K) [application/zip]\n",
      "Saving to: ‘linalgnorm-0.1.zip’\n",
      "\n",
      "100%[======================================>] 2,550       --.-K/s   in 0s      \n",
      "\n",
      "2018-11-27 19:06:54 (33.6 MB/s) - ‘linalgnorm-0.1.zip’ saved [2550/2550]\n",
      "\n"
     ]
    }
   ],
   "source": [
    "# download the library\n",
    "!wget https://github.com/pmservice/wml-sample-models/raw/master/scikit-learn/custom-transformer-temperature-prediction/libraries/linalgnorm-0.1.zip --output-document=linalgnorm-0.1.zip"
   ]
  },
  {
   "cell_type": "code",
   "execution_count": 5,
   "metadata": {},
   "outputs": [
    {
     "name": "stdout",
     "output_type": "stream",
     "text": [
      "total 8\r\n",
      "drwxr-x--- 3 dsxuser dsxuser 4096 Nov 27 18:38 \u001b[0m\u001b[01;34mdata\u001b[0m/\r\n",
      "-rw-r----- 1 dsxuser dsxuser 2550 Nov 27 19:06 linalgnorm-0.1.zip\r\n"
     ]
    }
   ],
   "source": [
    "ls -ltr"
   ]
  },
  {
   "cell_type": "markdown",
   "metadata": {},
   "source": [
    "Install the library using `pip` command."
   ]
  },
  {
   "cell_type": "code",
   "execution_count": null,
   "metadata": {},
   "outputs": [],
   "source": [
    "!pip install linalgnorm-0.1.zip"
   ]
  },
  {
   "cell_type": "markdown",
   "metadata": {},
   "source": [
    "<a id=\"load\"></a>\n",
    "## 3. Download the training data set and prepare the training data"
   ]
  },
  {
   "cell_type": "markdown",
   "metadata": {},
   "source": [
    "Download the GNFUV Unmanned Surface Vehicles Sensor Data into a directory called `dataset` using the `wget` command. You can also download the data set directly from the <a href=\"https://archive.ics.uci.edu/ml/machine-learning-databases/00452/GNFUV%20USV%20Dataset.zip\" target=\"_blank\" rel=\"noopener noreferrer\">UCI repository</a>. More details about the GNFUV data set can be found <a href=\"https://archive.ics.uci.edu/ml/datasets/GNFUV+Unmanned+Surface+Vehicles+Sensor+Data\" target=\"_blank\" rel=\"noopener noreferrer\">here</a>."
   ]
  },
  {
   "cell_type": "code",
   "execution_count": 7,
   "metadata": {},
   "outputs": [],
   "source": [
    "!rm -rf dataset\n",
    "!mkdir dataset"
   ]
  },
  {
   "cell_type": "code",
   "execution_count": 8,
   "metadata": {},
   "outputs": [
    {
     "name": "stdout",
     "output_type": "stream",
     "text": [
      "--2018-11-27 19:07:14--  https://archive.ics.uci.edu/ml/machine-learning-databases/00452/GNFUV%20USV%20Dataset.zip\n",
      "Resolving archive.ics.uci.edu (archive.ics.uci.edu)... 128.195.10.249\n",
      "Connecting to archive.ics.uci.edu (archive.ics.uci.edu)|128.195.10.249|:443... connected.\n",
      "HTTP request sent, awaiting response... 200 OK\n",
      "Length: 501978 (490K) [application/zip]\n",
      "Saving to: ‘dataset/gnfuv_dataset.zip’\n",
      "\n",
      "100%[======================================>] 501,978     1.24MB/s   in 0.4s   \n",
      "\n",
      "2018-11-27 19:07:15 (1.24 MB/s) - ‘dataset/gnfuv_dataset.zip’ saved [501978/501978]\n",
      "\n"
     ]
    }
   ],
   "source": [
    "!wget https://archive.ics.uci.edu/ml/machine-learning-databases/00452/GNFUV%20USV%20Dataset.zip --output-document=dataset/gnfuv_dataset.zip"
   ]
  },
  {
   "cell_type": "code",
   "execution_count": 9,
   "metadata": {},
   "outputs": [
    {
     "name": "stdout",
     "output_type": "stream",
     "text": [
      "/home/dsxuser/work/dataset\n"
     ]
    }
   ],
   "source": [
    "cd dataset"
   ]
  },
  {
   "cell_type": "code",
   "execution_count": 10,
   "metadata": {},
   "outputs": [
    {
     "name": "stdout",
     "output_type": "stream",
     "text": [
      "Archive:  gnfuv_dataset.zip\r\n",
      "  inflating: pi2/gnfuv-temp-exp1-55d487b85b-5g2xh_1.0.csv  \r\n",
      "  inflating: pi3/gnfuv-temp-exp1-55d487b85b-2bl8b_1.0.csv  \r\n",
      "  inflating: pi4/gnfuv-temp-exp1-55d487b85b-xcl97_1.0.csv  \r\n",
      "  inflating: pi5/gnfuv-temp-exp1-55d487b85b-5ztk8_1.0.csv  \r\n",
      "  inflating: README.pdf              \r\n"
     ]
    }
   ],
   "source": [
    "!unzip gnfuv_dataset.zip"
   ]
  },
  {
   "cell_type": "markdown",
   "metadata": {},
   "source": [
    "Create a pandas dataFrame based on the downloaded data set."
   ]
  },
  {
   "cell_type": "code",
   "execution_count": 11,
   "metadata": {},
   "outputs": [],
   "source": [
    "import json\n",
    "import pandas as pd\n",
    "import numpy as np\n",
    "import os\n",
    "from datetime import datetime\n",
    "from json import JSONDecodeError"
   ]
  },
  {
   "cell_type": "code",
   "execution_count": 12,
   "metadata": {},
   "outputs": [],
   "source": [
    "## Get all the entries\n",
    "home_dir = '.'\n",
    "pi_dirs = os.listdir(home_dir)\n",
    "\n",
    "data_list = []\n",
    "base_time = None\n",
    "columns = None\n",
    "\n",
    "for pi_dir in pi_dirs:\n",
    "    if 'pi' not in pi_dir:\n",
    "        continue\n",
    "    curr_dir = os.path.join(home_dir, pi_dir)\n",
    "    data_file = os.path.join(curr_dir, os.listdir(curr_dir)[0])\n",
    "    with open(data_file, 'r') as f:\n",
    "        line = f.readline().strip().replace(\"'\", '\"')\n",
    "        while line != '':\n",
    "            try:\n",
    "                input_json = json.loads(line)\n",
    "                sensor_datetime = datetime.fromtimestamp(input_json['time'])\n",
    "                if base_time is None:\n",
    "                    base_time = datetime(sensor_datetime.year, sensor_datetime.month, sensor_datetime.day, 0, 0, 0, 0)\n",
    "                input_json['time'] = (sensor_datetime - base_time).seconds\n",
    "                data_list.append(list(input_json.values()))\n",
    "                if columns is None:\n",
    "                    columns = list(input_json.keys())\n",
    "            except JSONDecodeError as je:\n",
    "                pass\n",
    "            line = f.readline().strip().replace(\"'\", '\"')\n",
    "\n",
    "data_df = pd.DataFrame(data_list, columns=columns)"
   ]
  },
  {
   "cell_type": "code",
   "execution_count": 13,
   "metadata": {},
   "outputs": [
    {
     "data": {
      "text/html": [
       "<div>\n",
       "<style scoped>\n",
       "    .dataframe tbody tr th:only-of-type {\n",
       "        vertical-align: middle;\n",
       "    }\n",
       "\n",
       "    .dataframe tbody tr th {\n",
       "        vertical-align: top;\n",
       "    }\n",
       "\n",
       "    .dataframe thead th {\n",
       "        text-align: right;\n",
       "    }\n",
       "</style>\n",
       "<table border=\"1\" class=\"dataframe\">\n",
       "  <thead>\n",
       "    <tr style=\"text-align: right;\">\n",
       "      <th></th>\n",
       "      <th>experiment</th>\n",
       "      <th>humidity</th>\n",
       "      <th>temperature</th>\n",
       "      <th>time</th>\n",
       "      <th>device</th>\n",
       "    </tr>\n",
       "  </thead>\n",
       "  <tbody>\n",
       "    <tr>\n",
       "      <th>0</th>\n",
       "      <td>1.0</td>\n",
       "      <td>21.0</td>\n",
       "      <td>40.0</td>\n",
       "      <td>62357</td>\n",
       "      <td>gnfuv-temp-exp1-55d487b85b-5g2xh</td>\n",
       "    </tr>\n",
       "    <tr>\n",
       "      <th>1</th>\n",
       "      <td>1.0</td>\n",
       "      <td>21.0</td>\n",
       "      <td>40.0</td>\n",
       "      <td>62371</td>\n",
       "      <td>gnfuv-temp-exp1-55d487b85b-5g2xh</td>\n",
       "    </tr>\n",
       "    <tr>\n",
       "      <th>2</th>\n",
       "      <td>1.0</td>\n",
       "      <td>21.0</td>\n",
       "      <td>40.0</td>\n",
       "      <td>62377</td>\n",
       "      <td>gnfuv-temp-exp1-55d487b85b-5g2xh</td>\n",
       "    </tr>\n",
       "    <tr>\n",
       "      <th>3</th>\n",
       "      <td>1.0</td>\n",
       "      <td>21.0</td>\n",
       "      <td>40.0</td>\n",
       "      <td>62383</td>\n",
       "      <td>gnfuv-temp-exp1-55d487b85b-5g2xh</td>\n",
       "    </tr>\n",
       "    <tr>\n",
       "      <th>4</th>\n",
       "      <td>1.0</td>\n",
       "      <td>22.0</td>\n",
       "      <td>40.0</td>\n",
       "      <td>62389</td>\n",
       "      <td>gnfuv-temp-exp1-55d487b85b-5g2xh</td>\n",
       "    </tr>\n",
       "  </tbody>\n",
       "</table>\n",
       "</div>"
      ],
      "text/plain": [
       "   experiment  humidity  temperature   time                            device\n",
       "0         1.0      21.0         40.0  62357  gnfuv-temp-exp1-55d487b85b-5g2xh\n",
       "1         1.0      21.0         40.0  62371  gnfuv-temp-exp1-55d487b85b-5g2xh\n",
       "2         1.0      21.0         40.0  62377  gnfuv-temp-exp1-55d487b85b-5g2xh\n",
       "3         1.0      21.0         40.0  62383  gnfuv-temp-exp1-55d487b85b-5g2xh\n",
       "4         1.0      22.0         40.0  62389  gnfuv-temp-exp1-55d487b85b-5g2xh"
      ]
     },
     "execution_count": 13,
     "metadata": {},
     "output_type": "execute_result"
    }
   ],
   "source": [
    "data_df.head()"
   ]
  },
  {
   "cell_type": "markdown",
   "metadata": {},
   "source": [
    "Create the training and test data sets from the downloaded GNFUV-USV data set."
   ]
  },
  {
   "cell_type": "code",
   "execution_count": 14,
   "metadata": {},
   "outputs": [
    {
     "name": "stderr",
     "output_type": "stream",
     "text": [
      "/opt/conda/envs/DSX-Python35/lib/python3.5/site-packages/sklearn/cross_validation.py:41: DeprecationWarning: This module was deprecated in version 0.18 in favor of the model_selection module into which all the refactored classes and functions are moved. Also note that the interface of the new CV iterators are different from that of this module. This module will be removed in 0.20.\n",
      "  \"This module will be removed in 0.20.\", DeprecationWarning)\n"
     ]
    }
   ],
   "source": [
    "from sklearn.preprocessing import MinMaxScaler\n",
    "from sklearn.cross_validation import train_test_split\n",
    "\n",
    "Y = data_df['temperature']\n",
    "X = data_df.drop('temperature', axis=1)\n",
    "\n",
    "X_train, X_test, y_train, y_test = train_test_split(X, Y, test_size=0.25, random_state=143)"
   ]
  },
  {
   "cell_type": "markdown",
   "metadata": {},
   "source": [
    "<a id=\"train\"></a>\n",
    "\n",
    "## 4. Train a model\n",
    "\n",
    "In this section, you will use the custom transformer as a stage in the Scikit-Learn `Pipeline` and train a model."
   ]
  },
  {
   "cell_type": "markdown",
   "metadata": {},
   "source": [
    "### 4.1 Import the custom transformer \n",
    "Import the custom transformer that has been defined in `linalgnorm-0.2.zip` and create an instance of it that will in turn be used as a stage in `sklearn.Pipeline`"
   ]
  },
  {
   "cell_type": "code",
   "execution_count": 15,
   "metadata": {},
   "outputs": [],
   "source": [
    "from linalg_norm.sklearn_transformers import LNormalizer"
   ]
  },
  {
   "cell_type": "code",
   "execution_count": 16,
   "metadata": {},
   "outputs": [],
   "source": [
    "lnorm_transf = LNormalizer()"
   ]
  },
  {
   "cell_type": "markdown",
   "metadata": {},
   "source": [
    "### 4.2 Import other objects required to train a model"
   ]
  },
  {
   "cell_type": "code",
   "execution_count": 17,
   "metadata": {},
   "outputs": [],
   "source": [
    "from sklearn.pipeline import Pipeline\n",
    "from sklearn.linear_model import LinearRegression"
   ]
  },
  {
   "cell_type": "markdown",
   "metadata": {},
   "source": [
    "Now, you can create a `Pipeline` with the user-defined transformer as one of the stages and train the model."
   ]
  },
  {
   "cell_type": "code",
   "execution_count": 18,
   "metadata": {},
   "outputs": [
    {
     "data": {
      "text/plain": [
       "Pipeline(memory=None,\n",
       "     steps=[('normalizer', LNormalizer(norm_ord=2)), ('regression_estimator', LinearRegression(copy_X=True, fit_intercept=True, n_jobs=1, normalize=False))])"
      ]
     },
     "execution_count": 18,
     "metadata": {},
     "output_type": "execute_result"
    }
   ],
   "source": [
    "skl_pipeline = Pipeline(steps=[('normalizer', lnorm_transf), ('regression_estimator', LinearRegression())])\n",
    "skl_pipeline.fit(X_train.loc[:, ['time', 'humidity']].values, y_train)"
   ]
  },
  {
   "cell_type": "code",
   "execution_count": 19,
   "metadata": {},
   "outputs": [
    {
     "name": "stdout",
     "output_type": "stream",
     "text": [
      "RMSE: 2.25278950030571\n"
     ]
    }
   ],
   "source": [
    "y_pred = skl_pipeline.predict(X_test.loc[:, ['time', 'humidity']].values)\n",
    "rmse = np.mean((np.round(y_pred) - y_test.values)**2)**0.5\n",
    "print('RMSE: {}'.format(rmse))"
   ]
  },
  {
   "cell_type": "markdown",
   "metadata": {},
   "source": [
    "<a id=\"persistence\"></a>\n",
    "\n",
    "## 5. Persist the model and custom library to Watson Machine Learning Repository\n",
    "\n",
    "In this section, you will use the `watson_machine_learning_client` to:\n",
    "- Save the library `linalgnorm-0.1.zip` in the Watson Machine Learning Repository by creating a Library resource.\n",
    "- Create a runtime resource that will be used to configure the online deployment runtime environment for a model.\n",
    "- Save the model to Watson Machine Learning Repository."
   ]
  },
  {
   "cell_type": "markdown",
   "metadata": {},
   "source": [
    "### 5.1 Work with the Watson Machine Learning service instance"
   ]
  },
  {
   "cell_type": "code",
   "execution_count": 20,
   "metadata": {},
   "outputs": [],
   "source": [
    "from watson_machine_learning_client import WatsonMachineLearningAPIClient"
   ]
  },
  {
   "cell_type": "markdown",
   "metadata": {},
   "source": [
    "Authenticate to the Watson Machine Learning service on IBM Cloud.\n",
    "\n",
    "Authentication information (your credentials) can be found in the <a href=\"https://console.bluemix.net/docs/services/service_credentials.html#service_credentials\" target=\"_blank\" rel=\"noopener noreferrer\">Service Credentials</a> tab of the service instance that you created on IBM Cloud. <BR>If you cannot see the **instance_id** field in **Service Credentials**, click **New credential (+)** to generate new authentication information. \n",
    "\n",
    "**Action**: Enter your Watson Machine Learning service instance credentials here.\n"
   ]
  },
  {
   "cell_type": "code",
   "execution_count": 21,
   "metadata": {},
   "outputs": [],
   "source": [
    "wml_credentials={\n",
    "  ADD YOUR CREDENTIALS HERE\n",
    "}"
   ]
  },
  {
   "cell_type": "markdown",
   "metadata": {},
   "source": [
    "Create Watson Machine Learning API client"
   ]
  },
  {
   "cell_type": "code",
   "execution_count": 22,
   "metadata": {},
   "outputs": [],
   "source": [
    "client = WatsonMachineLearningAPIClient(wml_credentials)"
   ]
  },
  {
   "cell_type": "markdown",
   "metadata": {},
   "source": [
    "### 5.2 Save the custom library in the Watson Machine Learning Repository"
   ]
  },
  {
   "cell_type": "code",
   "execution_count": 23,
   "metadata": {},
   "outputs": [
    {
     "name": "stdout",
     "output_type": "stream",
     "text": [
      "/home/dsxuser/work/data/libs\n"
     ]
    }
   ],
   "source": [
    "cd ~/work/data/libs "
   ]
  },
  {
   "cell_type": "markdown",
   "metadata": {},
   "source": [
    "Define the meta data required to create library resource and save the library. <br>\n",
    "\n",
    "The value for `client.runtimes.LibraryMetaNames.FILEPATH` meta data contains the library file name that must be saved to the Watson Machine Learning Repository."
   ]
  },
  {
   "cell_type": "code",
   "execution_count": 24,
   "metadata": {},
   "outputs": [
    {
     "name": "stdout",
     "output_type": "stream",
     "text": [
      "Custom Library UID: affcf4f9-a054-4a40-bcd3-537aa0550224\n"
     ]
    }
   ],
   "source": [
    "lib_meta = {\n",
    "        client.runtimes.LibraryMetaNames.NAME: \"K_Linag_norm_skl\",\n",
    "        client.runtimes.LibraryMetaNames.DESCRIPTION: \"K_Linag_norm_skl\",\n",
    "        client.runtimes.LibraryMetaNames.FILEPATH: \"linalgnorm-0.1.zip\",\n",
    "        client.runtimes.LibraryMetaNames.VERSION: \"1.3\",\n",
    "        client.runtimes.LibraryMetaNames.PLATFORM: {\"name\": \"python\", \"versions\": [\"3.5\"]}\n",
    "    }\n",
    "custom_library_details = client.runtimes.store_library(lib_meta)\n",
    "custom_library_uid = client.runtimes.get_library_uid(custom_library_details)\n",
    "print(\"Custom Library UID: \" + custom_library_uid)"
   ]
  },
  {
   "cell_type": "markdown",
   "metadata": {},
   "source": [
    "Display the details of the library resource that was created in the previous cell."
   ]
  },
  {
   "cell_type": "code",
   "execution_count": 25,
   "metadata": {},
   "outputs": [
    {
     "data": {
      "text/plain": [
       "{'entity': {'description': 'K_Linag_norm_skl',\n",
       "  'name': 'K_Linag_norm_skl',\n",
       "  'platform': {'name': 'python', 'versions': ['3.5']},\n",
       "  'version': '1.3'},\n",
       " 'metadata': {'created_at': '2018-11-27T19:08:30Z',\n",
       "  'guid': 'affcf4f9-a054-4a40-bcd3-537aa0550224',\n",
       "  'modified_at': '2018-11-27T19:08:31Z',\n",
       "  'url': 'https://us-south.ml.cloud.ibm.com/v4/libraries/affcf4f9-a054-4a40-bcd3-537aa0550224'}}"
      ]
     },
     "execution_count": 25,
     "metadata": {},
     "output_type": "execute_result"
    }
   ],
   "source": [
    "custom_library_details"
   ]
  },
  {
   "cell_type": "markdown",
   "metadata": {},
   "source": [
    "### 5.3 Create the runtime resource"
   ]
  },
  {
   "cell_type": "markdown",
   "metadata": {},
   "source": [
    "Define the meta data required to create the runtime resource and bind the library. This runtime resource will be used to configure the online deployment runtime environment for a model.\n",
    "\n",
    "The `client.runtimes.ConfigurationMetaNames.LIBRARIES_UIDS` meta data property is used to specify the list of library resource GUIDs that need to be part of the runtime."
   ]
  },
  {
   "cell_type": "code",
   "execution_count": 26,
   "metadata": {},
   "outputs": [],
   "source": [
    "runtimes_meta = {\n",
    "    client.runtimes.ConfigurationMetaNames.NAME: \"K_linalg_gnfuv1\", \n",
    "    client.runtimes.ConfigurationMetaNames.DESCRIPTION: \"skl linalg gnfuv model\", \n",
    "    client.runtimes.ConfigurationMetaNames.PLATFORM: { \"name\": \"python\", \"version\": \"3.5\" }, \n",
    "    client.runtimes.ConfigurationMetaNames.LIBRARIES_UIDS: [custom_library_uid]\n",
    "}"
   ]
  },
  {
   "cell_type": "markdown",
   "metadata": {},
   "source": [
    "**Alternate method:** Create library and runtime together by specifying the meta data property below:\n",
    "\n",
    "```\n",
    "client.runtimes.ConfigurationMetaNames.LIBRARIES_DEFINITIONS: [\n",
    "    LibraryDefinition(\"my_lib_1\", \"1.0\", \"/home/user/my_lib_1.zip\", description=\"t\", platform={\"name\": \"python\", \"versions\": [\"3.5\"]}), \n",
    "    LibraryDefinition(\"my_lib_2\", \"1.1\", \"/home/user/my_lib_2.zip\") ]\n",
    "```"
   ]
  },
  {
   "cell_type": "markdown",
   "metadata": {},
   "source": [
    "Create a runtime resource based on the meta data specified above and display the details."
   ]
  },
  {
   "cell_type": "code",
   "execution_count": 27,
   "metadata": {},
   "outputs": [
    {
     "data": {
      "text/plain": [
       "{'entity': {'content_url': 'https://us-south.ml.cloud.ibm.com/v4/runtimes/eb5723bf-be98-43d0-92fc-78a8eda93587/content',\n",
       "  'custom_libraries': [{'name': 'K_Linag_norm_skl',\n",
       "    'url': 'https://us-south.ml.cloud.ibm.com/v4/libraries/affcf4f9-a054-4a40-bcd3-537aa0550224',\n",
       "    'version': '1.3'}],\n",
       "  'description': 'skl linalg gnfuv model',\n",
       "  'name': 'K_linalg_gnfuv1',\n",
       "  'platform': {'name': 'python', 'version': '3.5'}},\n",
       " 'metadata': {'created_at': '2018-11-27T19:08:48.132Z',\n",
       "  'guid': 'eb5723bf-be98-43d0-92fc-78a8eda93587',\n",
       "  'url': 'https://us-south.ml.cloud.ibm.com/v4/runtimes/eb5723bf-be98-43d0-92fc-78a8eda93587'}}"
      ]
     },
     "execution_count": 27,
     "metadata": {},
     "output_type": "execute_result"
    }
   ],
   "source": [
    "runtime_details = client.runtimes.store(runtimes_meta)\n",
    "runtime_details"
   ]
  },
  {
   "cell_type": "markdown",
   "metadata": {},
   "source": [
    "Retrieve the URL and GUID information about the runtime resource you just created."
   ]
  },
  {
   "cell_type": "code",
   "execution_count": 28,
   "metadata": {},
   "outputs": [
    {
     "name": "stdout",
     "output_type": "stream",
     "text": [
      "Runtimes URL: https://us-south.ml.cloud.ibm.com/v4/runtimes/eb5723bf-be98-43d0-92fc-78a8eda93587\n",
      "Runtimes UID: eb5723bf-be98-43d0-92fc-78a8eda93587\n"
     ]
    }
   ],
   "source": [
    "runtime_url = client.runtimes.get_url(runtime_details)\n",
    "runtime_uid = client.runtimes.get_uid(runtime_details)\n",
    "print(\"Runtimes URL: \" + runtime_url)\n",
    "print(\"Runtimes UID: \" + runtime_uid)"
   ]
  },
  {
   "cell_type": "markdown",
   "metadata": {},
   "source": [
    "### 5.4 Save the model"
   ]
  },
  {
   "cell_type": "markdown",
   "metadata": {},
   "source": [
    "Define the meta data to save the trained model to the Watson Machine Learning Repository together with the information about the runtime resource required for the model. \n",
    "\n",
    "The `client.repository.ModelMetaNames.RUNTIME_UID` meta data property is used to specify the GUID of the Runtime resource that needs to be associated with the model ."
   ]
  },
  {
   "cell_type": "code",
   "execution_count": 29,
   "metadata": {},
   "outputs": [],
   "source": [
    "model_props = {client.repository.ModelMetaNames.NAME: \"cust norm linalg_norm gnfuv1\",\n",
    "               client.repository.ModelMetaNames.RUNTIME_UID: runtime_uid\n",
    "              }"
   ]
  },
  {
   "cell_type": "markdown",
   "metadata": {},
   "source": [
    "Save the model to the Watson Machine Learning repository and display its saved meta data. "
   ]
  },
  {
   "cell_type": "code",
   "execution_count": 30,
   "metadata": {},
   "outputs": [],
   "source": [
    "published_model = client.repository.store_model(model=skl_pipeline, meta_props=model_props)"
   ]
  },
  {
   "cell_type": "code",
   "execution_count": 31,
   "metadata": {},
   "outputs": [
    {
     "name": "stdout",
     "output_type": "stream",
     "text": [
      "{\n",
      "  \"entity\": {\n",
      "    \"learning_iterations_url\": \"https://us-south.ml.cloud.ibm.com/v3/wml_instances/d0755448-6eb4-425a-b35b-479be91ff2d5/published_models/a02808e9-450f-431f-9eee-161c3750e338/learning_iterations\",\n",
      "    \"tags\": [],\n",
      "    \"name\": \"cust norm linalg_norm gnfuv1\",\n",
      "    \"runtime\": {\n",
      "      \"url\": \"https://us-south.ml.cloud.ibm.com/v4/runtimes/eb5723bf-be98-43d0-92fc-78a8eda93587\"\n",
      "    },\n",
      "    \"model_type\": \"scikit-learn-0.19\",\n",
      "    \"runtime_environment\": \"python-3.5\",\n",
      "    \"deployments\": {\n",
      "      \"url\": \"https://us-south.ml.cloud.ibm.com/v3/wml_instances/d0755448-6eb4-425a-b35b-479be91ff2d5/published_models/a02808e9-450f-431f-9eee-161c3750e338/deployments\",\n",
      "      \"count\": 0\n",
      "    },\n",
      "    \"evaluation_metrics_url\": \"https://us-south.ml.cloud.ibm.com/v3/wml_instances/d0755448-6eb4-425a-b35b-479be91ff2d5/published_models/a02808e9-450f-431f-9eee-161c3750e338/evaluation_metrics\",\n",
      "    \"latest_version\": {\n",
      "      \"url\": \"https://us-south.ml.cloud.ibm.com/v3/ml_assets/models/a02808e9-450f-431f-9eee-161c3750e338/versions/eca8f83d-c0a9-4543-9391-9485b4c40fa7\",\n",
      "      \"guid\": \"eca8f83d-c0a9-4543-9391-9485b4c40fa7\",\n",
      "      \"created_at\": \"2018-11-27T19:08:57.064Z\"\n",
      "    },\n",
      "    \"learning_configuration_url\": \"https://us-south.ml.cloud.ibm.com/v3/wml_instances/d0755448-6eb4-425a-b35b-479be91ff2d5/published_models/a02808e9-450f-431f-9eee-161c3750e338/learning_configuration\",\n",
      "    \"feedback_url\": \"https://us-south.ml.cloud.ibm.com/v3/wml_instances/d0755448-6eb4-425a-b35b-479be91ff2d5/published_models/a02808e9-450f-431f-9eee-161c3750e338/feedback\"\n",
      "  },\n",
      "  \"metadata\": {\n",
      "    \"modified_at\": \"2018-11-27T19:08:57.064Z\",\n",
      "    \"url\": \"https://us-south.ml.cloud.ibm.com/v3/wml_instances/d0755448-6eb4-425a-b35b-479be91ff2d5/published_models/a02808e9-450f-431f-9eee-161c3750e338\",\n",
      "    \"guid\": \"a02808e9-450f-431f-9eee-161c3750e338\",\n",
      "    \"created_at\": \"2018-11-27T19:08:57.003Z\"\n",
      "  }\n",
      "}\n"
     ]
    }
   ],
   "source": [
    "published_model_uid = client.repository.get_model_uid(published_model)\n",
    "model_details = client.repository.get_details(published_model_uid)\n",
    "print(json.dumps(model_details, indent=2))"
   ]
  },
  {
   "cell_type": "markdown",
   "metadata": {},
   "source": [
    "<a id=\"deploy\"></a>\n",
    "\n",
    "## 6 Deploy and predict new input\n",
    "\n",
    "In this section, you will deploy the saved model that uses the custom transformer and perform predictions. You will use the Watson Machine Learning client to perform these tasks."
   ]
  },
  {
   "cell_type": "markdown",
   "metadata": {},
   "source": [
    "### 6.1 Deploy the model"
   ]
  },
  {
   "cell_type": "code",
   "execution_count": 32,
   "metadata": {},
   "outputs": [
    {
     "name": "stdout",
     "output_type": "stream",
     "text": [
      "\n",
      "\n",
      "#######################################################################################\n",
      "\n",
      "Synchronous deployment creation for uid: 'a02808e9-450f-431f-9eee-161c3750e338' started\n",
      "\n",
      "#######################################################################################\n",
      "\n",
      "\n",
      "INITIALIZING\n",
      "DEPLOY_IN_PROGRESS..\n",
      "DEPLOY_SUCCESS\n",
      "\n",
      "\n",
      "------------------------------------------------------------------------------------------------\n",
      "Successfully finished deployment creation, deployment_uid='b9fe6b28-7cbb-4ae0-867e-829592537414'\n",
      "------------------------------------------------------------------------------------------------\n",
      "\n",
      "\n"
     ]
    }
   ],
   "source": [
    "created_deployment = client.deployments.create(published_model_uid, name=\"k_linalg_gnfuv1_skl\")"
   ]
  },
  {
   "cell_type": "markdown",
   "metadata": {},
   "source": [
    "### 6.2 Predict using the deployed model"
   ]
  },
  {
   "cell_type": "markdown",
   "metadata": {},
   "source": [
    "Get the URL that is to be used for prediction. The prediction URL is obtained from the deployment details of the deployment created above."
   ]
  },
  {
   "cell_type": "code",
   "execution_count": 33,
   "metadata": {},
   "outputs": [
    {
     "name": "stdout",
     "output_type": "stream",
     "text": [
      "https://us-south.ml.cloud.ibm.com/v3/wml_instances/d0755448-6eb4-425a-b35b-479be91ff2d5/deployments/b9fe6b28-7cbb-4ae0-867e-829592537414/online\n"
     ]
    }
   ],
   "source": [
    "scoring_endpoint = client.deployments.get_scoring_url(created_deployment)\n",
    "print(scoring_endpoint)"
   ]
  },
  {
   "cell_type": "markdown",
   "metadata": {},
   "source": [
    "Prepare the payload for prediction. The payload contains the input records for which predictions has to be performed."
   ]
  },
  {
   "cell_type": "code",
   "execution_count": 34,
   "metadata": {},
   "outputs": [],
   "source": [
    "scoring_payload = {'fields': [\"time\", \"humidity\"], \n",
    "                   'values': [[79863, 47]]}"
   ]
  },
  {
   "cell_type": "markdown",
   "metadata": {},
   "source": [
    "Execute the method to perform online predictions and display the prediction results."
   ]
  },
  {
   "cell_type": "code",
   "execution_count": 35,
   "metadata": {},
   "outputs": [],
   "source": [
    "predictions = client.deployments.score(scoring_endpoint, scoring_payload)"
   ]
  },
  {
   "cell_type": "code",
   "execution_count": 36,
   "metadata": {},
   "outputs": [
    {
     "name": "stdout",
     "output_type": "stream",
     "text": [
      "{\n",
      "  \"values\": [\n",
      "    [\n",
      "      7.255360520393637\n",
      "    ]\n",
      "  ],\n",
      "  \"fields\": [\n",
      "    \"prediction\"\n",
      "  ]\n",
      "}\n"
     ]
    }
   ],
   "source": [
    "print(json.dumps(predictions, indent=2))"
   ]
  },
  {
   "cell_type": "markdown",
   "metadata": {},
   "source": [
    "### 6.3 Delete the deployments, libaries, models and runtimes"
   ]
  },
  {
   "cell_type": "markdown",
   "metadata": {},
   "source": [
    "Use the following method to delete the deployment."
   ]
  },
  {
   "cell_type": "code",
   "execution_count": 37,
   "metadata": {},
   "outputs": [],
   "source": [
    "client.deployments.delete(client.deployments.get_uid(created_deployment))"
   ]
  },
  {
   "cell_type": "markdown",
   "metadata": {},
   "source": [
    "Check that all your deployments are deleted."
   ]
  },
  {
   "cell_type": "code",
   "execution_count": null,
   "metadata": {},
   "outputs": [],
   "source": [
    "client.deployments.list()"
   ]
  },
  {
   "cell_type": "markdown",
   "metadata": {},
   "source": [
    "To delete the libraries, models and runtimes, get the GUID information using:"
   ]
  },
  {
   "cell_type": "code",
   "execution_count": null,
   "metadata": {},
   "outputs": [],
   "source": [
    "client.repository.list()"
   ]
  },
  {
   "cell_type": "markdown",
   "metadata": {},
   "source": [
    "Delete the library, model or runtime by passing in the appropriate GUID:"
   ]
  },
  {
   "cell_type": "code",
   "execution_count": null,
   "metadata": {},
   "outputs": [],
   "source": [
    "client.repository.delete('YOUR_GUID')"
   ]
  },
  {
   "cell_type": "markdown",
   "metadata": {},
   "source": [
    "<a id=\"summary\"></a>\n",
    "\n",
    "### 7. Summary\n",
    "\n",
    "You successfully completed this notebook! \n",
    " \n",
    "You learned how to use a scikit-learn model with custom transformer in Watson Machine Learning service to deploy and score.\n",
    "\n",
    "Check out our <a href=\"https://dataplatform.ibm.com/docs/content/analyze-data/wml-setup.html\" target=\"_blank\" rel=\"noopener noreferrer\">Online Documentation</a> for more samples, tutorials, documentation, how-tos, and blog posts. "
   ]
  },
  {
   "cell_type": "markdown",
   "metadata": {},
   "source": [
    "### Citations\n",
    "\n",
    "Dua, D. and Karra Taniskidou, E. (2017). <a href=\"http://archive.ics.uci.edu/ml\" target=\"_blank\" rel=\"noopener noreferrer\">UCI Machine Learning Repository.</a>. Irvine, CA: University of California, School of Information and Computer Science.\n",
    "\n",
    "Harth, N. Anagnostopoulos, C. (2018) Edge-centric Efficient Regression Analytics. In: 2018 IEEE International Conference on Edge Computing (EDGE), San Francisco, CA, USA, 02-07 Jul 2018 "
   ]
  },
  {
   "cell_type": "markdown",
   "metadata": {},
   "source": [
    "## Author\n",
    "\n",
    "**Krishnamurthy Arthanarisamy**, is a senior technical lead in IBM Watson Machine Learning team. Krishna works on developing cloud services that caters to different stages of machine learning and deep learning modeling life cycle."
   ]
  },
  {
   "cell_type": "markdown",
   "metadata": {},
   "source": [
    "<hr>\n",
    "Copyright © 2018 IBM. This notebook and its source code are released under the terms of the MIT License."
   ]
  },
  {
   "cell_type": "markdown",
   "metadata": {},
   "source": [
    "<div style=\"background:#F5F7FA; height:110px; padding: 2em; font-size:14px;\">\n",
    "<span style=\"font-size:18px;color:#152935;\">Love this notebook? </span>\n",
    "<span style=\"font-size:15px;color:#152935;float:right;margin-right:40px;\">Don't have an account yet?</span><br>\n",
    "<span style=\"color:#5A6872;\">Share it with your colleagues and help them discover the power of Watson Studio!</span>\n",
    "<span style=\"border: 1px solid #3d70b2;padding:8px;float:right;margin-right:40px; color:#3d70b2;\"><a href=\"https://ibm.co/wsnotebooks\" target=\"_blank\" style=\"color: #3d70b2;text-decoration: none;\">Sign Up</a></span><br>\n",
    "</div>"
   ]
  }
 ],
 "metadata": {
  "kernelspec": {
   "display_name": "Python 3.5",
   "language": "python",
   "name": "python3"
  },
  "language_info": {
   "codemirror_mode": {
    "name": "ipython",
    "version": 3
   },
   "file_extension": ".py",
   "mimetype": "text/x-python",
   "name": "python",
   "nbconvert_exporter": "python",
   "pygments_lexer": "ipython3",
   "version": "3.5.5"
  }
 },
 "nbformat": 4,
 "nbformat_minor": 1
}
