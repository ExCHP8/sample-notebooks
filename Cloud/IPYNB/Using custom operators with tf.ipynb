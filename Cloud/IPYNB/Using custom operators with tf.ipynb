{
 "cells": [
  {
   "cell_type": "markdown",
   "metadata": {},
   "source": [
    "<img src=\"https://github.com/pmservice/customer-satisfaction-prediction/blob/master/app/static/images/ml_icon_gray.png?raw=true\" align=\"center\" alt=\"\" height=\"45\" width=\"45\"/>"
   ]
  },
  {
   "cell_type": "markdown",
   "metadata": {},
   "source": [
    "# Using custom operators with tf.py_func with Watson Machine Learning\n"
   ]
  },
  {
   "cell_type": "markdown",
   "metadata": {},
   "source": [
    "Building models with standard components is straightforward, but to use any custom component with your models in Watson Machine Learning, you need to package your custom component code in a source distribution package and store that package in your Watson Machine Learning repository with your model.\n",
    "\n",
    "Learn how to define a custom operation using the tf.py_func operation in TensorFlow. The custom operation is then used in a LeNet network for handwritten character recognition which is trained on the MNIST data set. The trained model is persisted, deployed and scored using the Watson Machine Learning Service (WML) and the Watson Machine Learning Client.\n",
    "\n",
    "Some familiarity with Python is helpful. This notebook uses Python-3.5, numpy-1.14 and tensorflow-1.5. Learn more about custom components in the <a href=\"https://dataplatform.cloud.ibm.com/docs/content/analyze-data/ml-custom_libs_overview.html\" target=\"_blank\" rel=\"noopener noreferrer\">Watson Studio documentation</a>.\n",
    "\n",
    "## Learning goals\n",
    "\n",
    "This notebooks focuses particularly on demonstrating how to use custom components in your model. You will learn how to:\n",
    "\n",
    "-  define a custom operation and corresponding gradient using `tf.py_func`\n",
    "-  create a LeNet model using the defined custom operation\n",
    "-  train the model on the MNIST data set\n",
    "-  create a library containing the custom tensor operation\n",
    "-  persist the library and the model in Watson Machine Learning repository\n",
    "-  deploy the model using Watson Machine Learning Service\n",
    "-  perform some classifications using the deployed model\n",
    "\n",
    "\n",
    "## Contents\n",
    "\n",
    "This notebook contains the following parts:\n",
    "\n",
    "1.  [Set up](#setup)\n",
    "2.  [Create the operation for tf.py_func and download the library](#func)\n",
    "3.\t[Load data and initialize parameters](#load)\n",
    "4.\t[Create and train the LeNet model](#model)\n",
    "5.  [Save the LeNet model locally](#save)\n",
    "6.  [Save the custom library and model in the Watson Machine Learning repository](#lib_persistence)\n",
    "7.\t[Save the LeNet model to the Watson Machine Learning repository](#persistence)\n",
    "8.  [Deploy and perform prediction on the LeNet model](#Scoring)\n",
    "9.  [Summary](#summary)\n"
   ]
  },
  {
   "cell_type": "markdown",
   "metadata": {},
   "source": [
    "<a id=\"setup\"></a>\n",
    "## 1. Set up\n",
    "\n",
    "Before you use the sample code in this notebook, you must perform the following setup tasks:\n",
    "\n",
    "-  Create a <a href=\"https://console.ng.bluemix.net/catalog/services/ibm-watson-machine-learning/\" target=\"_blank\" rel=\"noopener noreferrer\">Watson Machine Learning (WML) Service</a> instance on IBM Cloud (a free plan is offered). Information on how to create the instance is available in the <a href=\"https://dataplatform.ibm.com/docs/content/analyze-data/wml-setup.html\" target=\"_blank\" rel=\"noopener noreferrer\">Watson Studio documentation</a>.\n",
    "- Configure your local python environment:\n",
    "  + Python 3.5\n",
    "  + TensorFlow 1.5\n",
    "  + watson-machine-learning-client, version: 1.0.293 or above\n"
   ]
  },
  {
   "cell_type": "code",
   "execution_count": 1,
   "metadata": {
    "scrolled": true
   },
   "outputs": [],
   "source": [
    "!rm -rf watson-machine-learning-client"
   ]
  },
  {
   "cell_type": "code",
   "execution_count": null,
   "metadata": {
    "scrolled": true
   },
   "outputs": [],
   "source": [
    "!pip install watson-machine-learning-client --upgrade"
   ]
  },
  {
   "cell_type": "markdown",
   "metadata": {},
   "source": [
    "<a id=\"func\"></a>\n",
    "## 2. Configure the tf.py_func function\n",
    "\n",
    "In this section, you will:\n",
    "- [Create a custom operation for the tf.py_func](createfunc)\n",
    "- [Download the Python libraries](downloadlib) that the tf.py_func needs"
   ]
  },
  {
   "cell_type": "markdown",
   "metadata": {},
   "source": [
    "### 2.1 Create a custom operation for tf.py_func<a id=\"createfunc\"></a>"
   ]
  },
  {
   "cell_type": "markdown",
   "metadata": {},
   "source": [
    "When you create a custom operation for tf.py_func, you also need to create the corresponding gradient function. TensorFlow maps any function passed to the tf.py_func under the `PyFunc` operation type. TensorFlow models perform gradient calculation during training. Hence, a user defined `tf.py_func` operation requires a corresponding gradient function to be defined and mapped to the `PyFunc` operation type. In this example, `reshape_grad` is the gradient function for the `tf.py_func` operation."
   ]
  },
  {
   "cell_type": "code",
   "execution_count": 3,
   "metadata": {},
   "outputs": [],
   "source": [
    "import tensorflow as tf\n",
    "import numpy as np\n",
    "from tensorflow.python.framework import ops \n",
    "\n",
    "def reshape_func(x):\n",
    "    return x.reshape((-1, 28, 28, 1)) \n",
    "\n",
    "def reshape_grad(op, grad):\n",
    "    x = op.inputs[0]\n",
    "\n",
    "    return grad\n",
    "\n",
    "def create_py_func_with_grads(op, inp, tout, stateful=True, name=None, grad=None):\n",
    "    grad_name = 'PyFuncGrad' + str(np.random.randint(0, 1e+8))\n",
    "\n",
    "    tf.RegisterGradient(grad_name)(grad)\n",
    "    g = tf.get_default_graph()\n",
    "\n",
    "    with g.gradient_override_map({\"PyFunc\": grad_name}):\n",
    "        return tf.py_func(op, inp, tout, stateful=stateful, name=name)\n"
   ]
  },
  {
   "cell_type": "markdown",
   "metadata": {},
   "source": [
    "### 2.2 Download a sample custom package for a TensorFlow model<a id=\"downloadlib\"></a>"
   ]
  },
  {
   "cell_type": "markdown",
   "metadata": {},
   "source": [
    "A Python-distributable library needs to be created to store and deploy models that use operations defined through `tf.py_func`. The library must contain an `initialize_py_func()` function, which defines the `tf.py_func` operation. The operation defined within this function must have the same name as the operation created during model definition and training. Also, the `initialize_py_func()` function must be referenceable using the top-level module name. For example, if the top-level module in the python distribution package is `my_top_module`, then `initialize_py_func()` must be referenceable as `my_top_module.initialize_py_func()`.\n",
    "\n",
    "Currently, only source-distributed libraries archived in `.zip` format are supported. Library distributions of type `wheels` and `eggs` are not supported.\n",
    "\n",
    "Any 3rd party libraries that are required for the custom transformer must be defined as the dependency for the corresponding library that contains the transformer implementation. "
   ]
  },
  {
   "cell_type": "markdown",
   "metadata": {},
   "source": [
    "Download the sample library `custom_reshape_pyfunc.zip`, which defines the reshape operation."
   ]
  },
  {
   "cell_type": "code",
   "execution_count": 4,
   "metadata": {},
   "outputs": [
    {
     "name": "stdout",
     "output_type": "stream",
     "text": [
      "--2018-11-27 19:33:09--  https://github.com/pmservice/wml-sample-models/raw/master/tensorflow/custom-op-hand-written-digit-recognition/libraries/custom_reshape_pyfunc-0.1.zip\n",
      "Resolving github.com (github.com)... 140.82.118.4, 140.82.118.3\n",
      "Connecting to github.com (github.com)|140.82.118.4|:443... connected.\n",
      "HTTP request sent, awaiting response... 302 Found\n",
      "Location: https://raw.githubusercontent.com/pmservice/wml-sample-models/master/tensorflow/custom-op-hand-written-digit-recognition/libraries/custom_reshape_pyfunc-0.1.zip [following]\n",
      "--2018-11-27 19:33:10--  https://raw.githubusercontent.com/pmservice/wml-sample-models/master/tensorflow/custom-op-hand-written-digit-recognition/libraries/custom_reshape_pyfunc-0.1.zip\n",
      "Resolving raw.githubusercontent.com (raw.githubusercontent.com)... 151.101.48.133\n",
      "Connecting to raw.githubusercontent.com (raw.githubusercontent.com)|151.101.48.133|:443... connected.\n",
      "HTTP request sent, awaiting response... 200 OK\n",
      "Length: 3138 (3.1K) [application/zip]\n",
      "Saving to: ‘custom_reshape_pyfunc.zip’\n",
      "\n",
      "100%[======================================>] 3,138       --.-K/s   in 0s      \n",
      "\n",
      "2018-11-27 19:33:10 (48.2 MB/s) - ‘custom_reshape_pyfunc.zip’ saved [3138/3138]\n",
      "\n"
     ]
    }
   ],
   "source": [
    "!wget https://github.com/pmservice/wml-sample-models/raw/master/tensorflow/custom-op-hand-written-digit-recognition/libraries/custom_reshape_pyfunc-0.1.zip --output-document=custom_reshape_pyfunc.zip"
   ]
  },
  {
   "cell_type": "markdown",
   "metadata": {},
   "source": [
    "<a id=\"load\"></a>\n",
    "## 3. Load the data and initialize parameters"
   ]
  },
  {
   "cell_type": "markdown",
   "metadata": {},
   "source": [
    "Download the <a href=\"http://yann.lecun.com/exdb/mnist/index.html\" target=\"_blank\" rel=\"noopener noreferrer\">MNIST data set</a> from Yann LeCun's homepage using the built-in TensorFlow library."
   ]
  },
  {
   "cell_type": "code",
   "execution_count": 5,
   "metadata": {},
   "outputs": [
    {
     "name": "stdout",
     "output_type": "stream",
     "text": [
      "Successfully downloaded train-images-idx3-ubyte.gz 9912422 bytes.\n",
      "Extracting MNIST_data/train-images-idx3-ubyte.gz\n",
      "Successfully downloaded train-labels-idx1-ubyte.gz 28881 bytes.\n",
      "Extracting MNIST_data/train-labels-idx1-ubyte.gz\n",
      "Successfully downloaded t10k-images-idx3-ubyte.gz 1648877 bytes.\n",
      "Extracting MNIST_data/t10k-images-idx3-ubyte.gz\n",
      "Successfully downloaded t10k-labels-idx1-ubyte.gz 4542 bytes.\n",
      "Extracting MNIST_data/t10k-labels-idx1-ubyte.gz\n"
     ]
    }
   ],
   "source": [
    "from tensorflow.examples.tutorials.mnist import input_data\n",
    "mnist = input_data.read_data_sets(\"MNIST_data/\", one_hot=True)"
   ]
  },
  {
   "cell_type": "markdown",
   "metadata": {},
   "source": [
    "Set the training and network parameters."
   ]
  },
  {
   "cell_type": "code",
   "execution_count": 6,
   "metadata": {},
   "outputs": [],
   "source": [
    "# Training Parameters\n",
    "learning_rate = 0.001\n",
    "training_iters = 10000\n",
    "batch_size = 128\n",
    "display_step = 10\n",
    "\n",
    "# Network Parameters\n",
    "n_input = 784 \n",
    "n_classes = 10 "
   ]
  },
  {
   "cell_type": "markdown",
   "metadata": {},
   "source": [
    "<a id=\"model\"></a>\n",
    "## 4. Create and train the LeNet model\n",
    "\n",
    "In this section, you will create the LeNet model and then train it."
   ]
  },
  {
   "cell_type": "markdown",
   "metadata": {},
   "source": [
    "Define the placeholders and the default layer configurations for the network."
   ]
  },
  {
   "cell_type": "code",
   "execution_count": 7,
   "metadata": {},
   "outputs": [],
   "source": [
    "# tf Graph input\n",
    "x = tf.placeholder(tf.float32, [None, n_input], name=\"x_input\")\n",
    "y = tf.placeholder(tf.float32, [None, n_classes])\n",
    "\n",
    "# Store layers weight & bias\n",
    "weights = {\n",
    "    # 5x5 conv, 1 input, 32 outputs\n",
    "    'wc1': tf.Variable(tf.random_normal([5, 5, 1, 32])),\n",
    "    # 5x5 conv, 32 inputs, 64 outputs\n",
    "    'wc2': tf.Variable(tf.random_normal([5, 5, 32, 64])),\n",
    "    # fully connected, 7*7*64 inputs, 1024 outputs\n",
    "    'wd1': tf.Variable(tf.random_normal([7*7*64, 1024])),\n",
    "    # 1024 inputs, 10 outputs (class prediction)\n",
    "    'out': tf.Variable(tf.random_normal([1024, n_classes]))\n",
    "}\n",
    "\n",
    "biases = {\n",
    "    'bc1': tf.Variable(tf.random_normal([32])),\n",
    "    'bc2': tf.Variable(tf.random_normal([64])),\n",
    "    'bd1': tf.Variable(tf.random_normal([1024])),\n",
    "    'out': tf.Variable(tf.random_normal([n_classes]))\n",
    "}"
   ]
  },
  {
   "cell_type": "markdown",
   "metadata": {},
   "source": [
    "The `create_py_func_with_grads` function defines a `tf.py_func` operation together with the corresponding gradient and returns the resulting tensor."
   ]
  },
  {
   "cell_type": "code",
   "execution_count": 8,
   "metadata": {},
   "outputs": [],
   "source": [
    "x_trans1 = create_py_func_with_grads(reshape_func, [x], tf.float32, False, name='ReshapeFunc', grad=reshape_grad)"
   ]
  },
  {
   "cell_type": "markdown",
   "metadata": {},
   "source": [
    "Build the model."
   ]
  },
  {
   "cell_type": "code",
   "execution_count": 9,
   "metadata": {},
   "outputs": [],
   "source": [
    "# Convolution Layer -1\n",
    "x_conv2d_l1 = tf.nn.conv2d(x_trans1, weights['wc1'], strides=[1, 1, 1, 1], padding='SAME')\n",
    "x_w_bias_l1 = tf.nn.bias_add(x_conv2d_l1, biases['bc1'])\n",
    "x_relu_l1 = tf.nn.relu(x_w_bias_l1)\n",
    "conv1_out = tf.nn.max_pool(x_relu_l1,\n",
    "                           ksize=[1, 2, 2, 1],\n",
    "                           strides=[1, 2, 2, 1],\n",
    "                           padding='SAME')\n",
    "\n",
    "\n",
    "# Convolution Layer -2\n",
    "x_conv2d_l2 = tf.nn.conv2d(conv1_out, weights['wc2'], strides=[1, 1, 1, 1], padding='SAME')\n",
    "x_w_bias_l2 = tf.nn.bias_add(x_conv2d_l2, biases['bc2'])\n",
    "x_relu_l2 = tf.nn.relu(x_w_bias_l2)\n",
    "conv2_out = tf.nn.max_pool(x_relu_l2,\n",
    "                           ksize=[1, 2, 2, 1],\n",
    "                           strides=[1, 2, 2, 1],\n",
    "                           padding='SAME')\n",
    "\n",
    "# Fully connected layer\n",
    "# Reshape conv2 output to fit fully connected layer input\n",
    "fc1 = tf.reshape(conv2_out, [-1, weights['wd1'].get_shape().as_list()[0]])\n",
    "fc1 = tf.add(tf.matmul(fc1, weights['wd1']), biases['bd1'])\n",
    "fc1 = tf.nn.relu(fc1)\n",
    "\n",
    "# Output, class prediction\n",
    "conv_out = tf.add(tf.matmul(fc1, weights['out']), biases['out'], name=\"output_tensor\")\n",
    "\n",
    "predictor = tf.argmax(conv_out, 1, name=\"predictor\")\n",
    "\n",
    "# Define loss and optimizer\n",
    "cost = tf.reduce_mean(tf.nn.softmax_cross_entropy_with_logits(logits=conv_out, labels=y))\n",
    "optimizer = tf.train.AdamOptimizer(learning_rate=learning_rate).minimize(cost)\n",
    "\n",
    "# To Evaluate model\n",
    "correct_pred = tf.equal(tf.argmax(conv_out, 1), tf.argmax(y, 1))\n",
    "accuracy = tf.reduce_mean(tf.cast(correct_pred, tf.float32))"
   ]
  },
  {
   "cell_type": "markdown",
   "metadata": {},
   "source": [
    "Train the model."
   ]
  },
  {
   "cell_type": "code",
   "execution_count": 10,
   "metadata": {},
   "outputs": [
    {
     "name": "stdout",
     "output_type": "stream",
     "text": [
      "Completed batch iteration: 128\n",
      "Completed batch iteration: 256\n",
      "Completed batch iteration: 384\n",
      "Completed batch iteration: 512\n",
      "Completed batch iteration: 640\n",
      "Completed batch iteration: 768\n",
      "Completed batch iteration: 896\n",
      "Completed batch iteration: 1024\n",
      "Completed batch iteration: 1152\n",
      "Completed batch iteration: 1280\n",
      "Iter 1280, Minibatch Loss= 28330.632812, Training Accuracy= 0.16406\n",
      "Completed batch iteration: 1408\n",
      "Completed batch iteration: 1536\n",
      "Completed batch iteration: 1664\n",
      "Completed batch iteration: 1792\n",
      "Completed batch iteration: 1920\n",
      "Completed batch iteration: 2048\n",
      "Completed batch iteration: 2176\n",
      "Completed batch iteration: 2304\n",
      "Completed batch iteration: 2432\n",
      "Completed batch iteration: 2560\n",
      "Iter 2560, Minibatch Loss= 11061.442383, Training Accuracy= 0.39062\n",
      "Completed batch iteration: 2688\n",
      "Completed batch iteration: 2816\n",
      "Completed batch iteration: 2944\n",
      "Completed batch iteration: 3072\n",
      "Completed batch iteration: 3200\n",
      "Completed batch iteration: 3328\n",
      "Completed batch iteration: 3456\n",
      "Completed batch iteration: 3584\n",
      "Completed batch iteration: 3712\n",
      "Completed batch iteration: 3840\n",
      "Iter 3840, Minibatch Loss= 7311.161621, Training Accuracy= 0.58594\n",
      "Completed batch iteration: 3968\n",
      "Completed batch iteration: 4096\n",
      "Completed batch iteration: 4224\n",
      "Completed batch iteration: 4352\n",
      "Completed batch iteration: 4480\n",
      "Completed batch iteration: 4608\n",
      "Completed batch iteration: 4736\n",
      "Completed batch iteration: 4864\n",
      "Completed batch iteration: 4992\n",
      "Completed batch iteration: 5120\n",
      "Iter 5120, Minibatch Loss= 3938.318848, Training Accuracy= 0.64062\n",
      "Completed batch iteration: 5248\n",
      "Completed batch iteration: 5376\n",
      "Completed batch iteration: 5504\n",
      "Completed batch iteration: 5632\n",
      "Completed batch iteration: 5760\n",
      "Completed batch iteration: 5888\n",
      "Completed batch iteration: 6016\n",
      "Completed batch iteration: 6144\n",
      "Completed batch iteration: 6272\n",
      "Completed batch iteration: 6400\n",
      "Iter 6400, Minibatch Loss= 3935.024902, Training Accuracy= 0.70312\n",
      "Completed batch iteration: 6528\n",
      "Completed batch iteration: 6656\n",
      "Completed batch iteration: 6784\n",
      "Completed batch iteration: 6912\n",
      "Completed batch iteration: 7040\n",
      "Completed batch iteration: 7168\n",
      "Completed batch iteration: 7296\n",
      "Completed batch iteration: 7424\n",
      "Completed batch iteration: 7552\n",
      "Completed batch iteration: 7680\n",
      "Iter 7680, Minibatch Loss= 2506.432617, Training Accuracy= 0.78125\n",
      "Completed batch iteration: 7808\n",
      "Completed batch iteration: 7936\n",
      "Completed batch iteration: 8064\n",
      "Completed batch iteration: 8192\n",
      "Completed batch iteration: 8320\n",
      "Completed batch iteration: 8448\n",
      "Completed batch iteration: 8576\n",
      "Completed batch iteration: 8704\n",
      "Completed batch iteration: 8832\n",
      "Completed batch iteration: 8960\n",
      "Iter 8960, Minibatch Loss= 2608.226074, Training Accuracy= 0.77344\n",
      "Completed batch iteration: 9088\n",
      "Completed batch iteration: 9216\n",
      "Completed batch iteration: 9344\n",
      "Completed batch iteration: 9472\n",
      "Completed batch iteration: 9600\n",
      "Completed batch iteration: 9728\n",
      "Completed batch iteration: 9856\n",
      "Completed batch iteration: 9984\n",
      "Model training finished!\n"
     ]
    }
   ],
   "source": [
    "# Initializing the variables\n",
    "init = tf.global_variables_initializer()\n",
    "# Launch the graph\n",
    "sess = tf.Session()\n",
    "sess.run(init)\n",
    "step = 1\n",
    "# Keep training until reach max iterations\n",
    "while step * batch_size < training_iters:\n",
    "    batch_x, batch_y = mnist.train.next_batch(batch_size)\n",
    "    # Run optimization op (backprop)\n",
    "    sess.run(optimizer, feed_dict={x: batch_x, y: batch_y})\n",
    "    print(\"Completed batch iteration: \" + str(step*batch_size) )\n",
    "    if step % display_step == 0:\n",
    "        # Calculate batch loss and accuracy\n",
    "        loss, acc = sess.run([cost, accuracy], feed_dict={x: batch_x,\n",
    "                                                          y: batch_y})\n",
    "    \n",
    "        print(\"Iter \" + str(step*batch_size) + \", Minibatch Loss= \" + \\\n",
    "              \"{:.6f}\".format(loss) + \", Training Accuracy= \" + \\\n",
    "              \"{:.5f}\".format(acc))\n",
    "    step += 1\n",
    "print(\"Model training finished!\")"
   ]
  },
  {
   "cell_type": "markdown",
   "metadata": {},
   "source": [
    "<a id=\"save\"></a>\n",
    "## 5. Save the LeNet model locally\n",
    "\n",
    "In this section, you will use `SavedModelBuilderSave` to save the model locally."
   ]
  },
  {
   "cell_type": "markdown",
   "metadata": {},
   "source": [
    "Remove the previously created directory."
   ]
  },
  {
   "cell_type": "code",
   "execution_count": 11,
   "metadata": {},
   "outputs": [],
   "source": [
    "import os, shutil\n",
    "save_path = './tf_model_mnist_test'\n",
    "# delete dir if directory exists\n",
    "if os.path.exists(save_path):\n",
    "    shutil.rmtree(save_path)"
   ]
  },
  {
   "cell_type": "markdown",
   "metadata": {},
   "source": [
    "Create `SignatureDef` metadata for the model."
   ]
  },
  {
   "cell_type": "code",
   "execution_count": 12,
   "metadata": {},
   "outputs": [
    {
     "name": "stdout",
     "output_type": "stream",
     "text": [
      "classification_signature content:\n",
      "inputs {\n",
      "  key: \"inputs\"\n",
      "  value {\n",
      "    name: \"x_input:0\"\n",
      "    dtype: DT_FLOAT\n",
      "    tensor_shape {\n",
      "      dim {\n",
      "        size: -1\n",
      "      }\n",
      "      dim {\n",
      "        size: 784\n",
      "      }\n",
      "    }\n",
      "  }\n",
      "}\n",
      "outputs {\n",
      "  key: \"classes\"\n",
      "  value {\n",
      "    name: \"predictor:0\"\n",
      "    dtype: DT_INT64\n",
      "    tensor_shape {\n",
      "      dim {\n",
      "        size: -1\n",
      "      }\n",
      "    }\n",
      "  }\n",
      "}\n",
      "method_name: \"tensorflow/serving/classify\"\n",
      "\n"
     ]
    }
   ],
   "source": [
    "classification_inputs = tf.saved_model.utils.build_tensor_info(x)\n",
    "classification_outputs_classes = tf.saved_model.utils.build_tensor_info(predictor)\n",
    "\n",
    "classification_signature = (\n",
    "      tf.saved_model.signature_def_utils.build_signature_def(\n",
    "          inputs={\n",
    "              tf.saved_model.signature_constants.CLASSIFY_INPUTS:\n",
    "                  classification_inputs\n",
    "          },\n",
    "          outputs={\n",
    "              tf.saved_model.signature_constants.CLASSIFY_OUTPUT_CLASSES:\n",
    "                  classification_outputs_classes\n",
    "          },\n",
    "          method_name=tf.saved_model.signature_constants.CLASSIFY_METHOD_NAME))\n",
    "\n",
    "print(\"classification_signature content:\")\n",
    "print(classification_signature)"
   ]
  },
  {
   "cell_type": "markdown",
   "metadata": {},
   "source": [
    "Use TensorFlow's `SavedModelBuilder` API to save the LeNet model locally."
   ]
  },
  {
   "cell_type": "code",
   "execution_count": 13,
   "metadata": {},
   "outputs": [
    {
     "name": "stdout",
     "output_type": "stream",
     "text": [
      "INFO:tensorflow:No assets to save.\n",
      "INFO:tensorflow:No assets to write.\n",
      "INFO:tensorflow:SavedModel written to: b'./tf_model_mnist_test/saved_model.pb'\n"
     ]
    },
    {
     "data": {
      "text/plain": [
       "b'./tf_model_mnist_test/saved_model.pb'"
      ]
     },
     "execution_count": 13,
     "metadata": {},
     "output_type": "execute_result"
    }
   ],
   "source": [
    "# Build the signature_def_map.\n",
    "\n",
    "builder = tf.saved_model.builder.SavedModelBuilder(save_path)\n",
    "legacy_init_op = tf.group(tf.tables_initializer(), name='legacy_init_op')\n",
    "builder.add_meta_graph_and_variables(\n",
    "      sess, [tf.saved_model.tag_constants.SERVING],\n",
    "      signature_def_map={\n",
    "          'predict_images': classification_signature,\n",
    "      },\n",
    "      legacy_init_op=legacy_init_op)\n",
    "\n",
    "builder.save()"
   ]
  },
  {
   "cell_type": "markdown",
   "metadata": {},
   "source": [
    "<a id=\"lib_persistence\"></a>\n",
    "## 6. Save the custom library and model in the Watson Machine Learning repository\n",
    "\n",
    "\n",
    "In this section, use the `watson_machine_learning_client` to:\n",
    "- Save the library `custom_reshape_pyfunc.zip` in the WML Repository by creating a library resource.\n",
    "- Create a runtime resource and bind the library resource to it. This runtime resource will be used to configure the online deployment runtime environment for a model.\n"
   ]
  },
  {
   "cell_type": "markdown",
   "metadata": {},
   "source": [
    "### 6.1 Save the library as a library artifact\n",
    "\n",
    "Authenticate to the Watson Machine Learning (WML) service on IBM Cloud.\n",
    "\n",
    "Authentication information (your credentials) can be found in the <a href=\"https://console.bluemix.net/docs/services/service_credentials.html#service_credentials\" target=\"_blank\" rel=\"noopener noreferrer\">Service Credentials</a> tab of the service instance that you created on IBM Cloud. \n",
    "If there are no credentials listed for your instance in **Service credentials**, click **New credential (+)** and enter the information required to generate new authentication information. \n",
    "\n",
    "**Action**: Enter your WML service instance credentials here."
   ]
  },
  {
   "cell_type": "code",
   "execution_count": 14,
   "metadata": {},
   "outputs": [],
   "source": [
    "wml_credentials={\n",
    "  ADD YOUR CREDENTIALS HERE\n",
    "}"
   ]
  },
  {
   "cell_type": "code",
   "execution_count": 15,
   "metadata": {},
   "outputs": [
    {
     "name": "stderr",
     "output_type": "stream",
     "text": [
      "/opt/conda/envs/DSX-Python35/lib/python3.5/site-packages/sklearn/cross_validation.py:41: DeprecationWarning: This module was deprecated in version 0.18 in favor of the model_selection module into which all the refactored classes and functions are moved. Also note that the interface of the new CV iterators are different from that of this module. This module will be removed in 0.20.\n",
      "  \"This module will be removed in 0.20.\", DeprecationWarning)\n",
      "2018-11-27 19:43:19,528 - watson_machine_learning_client.metanames - WARNING - 'AUTHOR_EMAIL' meta prop is deprecated. It will be ignored.\n"
     ]
    }
   ],
   "source": [
    "from watson_machine_learning_client import WatsonMachineLearningAPIClient"
   ]
  },
  {
   "cell_type": "code",
   "execution_count": 16,
   "metadata": {},
   "outputs": [],
   "source": [
    "client = WatsonMachineLearningAPIClient(wml_credentials)"
   ]
  },
  {
   "cell_type": "markdown",
   "metadata": {},
   "source": [
    "When you create the library metadata for storing the library in WML Repository, make sure that the value passed to `client.runtimes.LibraryMetaNames.NAME` key is the same as the value passed to the `name` parameter of `setup()` function in `setup.py` file which is used to build the library."
   ]
  },
  {
   "cell_type": "code",
   "execution_count": 17,
   "metadata": {},
   "outputs": [],
   "source": [
    "cust_lib_zip_path = \"custom_reshape_pyfunc.zip\""
   ]
  },
  {
   "cell_type": "code",
   "execution_count": 18,
   "metadata": {},
   "outputs": [],
   "source": [
    "lib_meta = {\n",
    "    client.runtimes.LibraryMetaNames.NAME: \"custom_reshape_pyfunc\",\n",
    "    client.runtimes.LibraryMetaNames.DESCRIPTION: \"A custom pyfunc lib which reshapes input\",\n",
    "    client.runtimes.LibraryMetaNames.FILEPATH: cust_lib_zip_path,\n",
    "    client.runtimes.LibraryMetaNames.VERSION: \"1.2\",\n",
    "    client.runtimes.LibraryMetaNames.PLATFORM: {\"name\": \"python\", \"versions\": [\"3.5\"]}\n",
    "}"
   ]
  },
  {
   "cell_type": "code",
   "execution_count": 19,
   "metadata": {},
   "outputs": [],
   "source": [
    "custom_library_details = client.runtimes.store_library(lib_meta)"
   ]
  },
  {
   "cell_type": "code",
   "execution_count": 20,
   "metadata": {},
   "outputs": [
    {
     "name": "stdout",
     "output_type": "stream",
     "text": [
      "------------------------------------  ---------------------  -------  --------------------  -------------  -----------------\n",
      "GUID                                  NAME                   VERSION  CREATED               PLATFORM NAME  PLATFORM VERSIONS\n",
      "26bf7bbf-feb7-4ece-9ee2-2f21cad18445  custom_reshape_pyfunc  1.2      2018-11-27T19:40:02Z  python         ['3.5']\n",
      "------------------------------------  ---------------------  -------  --------------------  -------------  -----------------\n"
     ]
    }
   ],
   "source": [
    "client.runtimes.list_libraries()"
   ]
  },
  {
   "cell_type": "code",
   "execution_count": 21,
   "metadata": {},
   "outputs": [],
   "source": [
    "custom_library_uid = client.runtimes.get_library_uid(custom_library_details)"
   ]
  },
  {
   "cell_type": "code",
   "execution_count": 22,
   "metadata": {},
   "outputs": [
    {
     "data": {
      "text/plain": [
       "'26bf7bbf-feb7-4ece-9ee2-2f21cad18445'"
      ]
     },
     "execution_count": 22,
     "metadata": {},
     "output_type": "execute_result"
    }
   ],
   "source": [
    "custom_library_uid"
   ]
  },
  {
   "cell_type": "markdown",
   "metadata": {},
   "source": [
    "### 6.2 Save the runtime resource artifact\n",
    "The runtime resource artifact contains references to a collection of all the custom libraries that need to be used together to deploy the model.\n",
    "When you create the metadata to store the runtime artifact, pass a list of library uids that need to be used to the `client.runtimes.ConfigurationMetaNames.LIBRARIES_UIDS` key."
   ]
  },
  {
   "cell_type": "code",
   "execution_count": 23,
   "metadata": {},
   "outputs": [],
   "source": [
    "runtime_meta = {\n",
    "    client.runtimes.ConfigurationMetaNames.NAME: 'runtime_mnist',\n",
    "    client.runtimes.ConfigurationMetaNames.DESCRIPTION: 'runtime spec - mnist',\n",
    "    client.runtimes.ConfigurationMetaNames.PLATFORM: {\n",
    "        \"name\": \"python\",\n",
    "        \"version\": \"3.5\"\n",
    "    },\n",
    "    client.runtimes.ConfigurationMetaNames.LIBRARIES_UIDS: [custom_library_uid]\n",
    "}\n",
    "runtime_details = client.runtimes.store(runtime_meta)"
   ]
  },
  {
   "cell_type": "code",
   "execution_count": 24,
   "metadata": {},
   "outputs": [
    {
     "data": {
      "text/plain": [
       "{'entity': {'content_url': 'https://us-south.ml.cloud.ibm.com/v4/runtimes/29189501-a005-46bc-9f5a-5ae9ab97893e/content',\n",
       "  'custom_libraries': [{'name': 'custom_reshape_pyfunc',\n",
       "    'url': 'https://us-south.ml.cloud.ibm.com/v4/libraries/26bf7bbf-feb7-4ece-9ee2-2f21cad18445',\n",
       "    'version': '1.2'}],\n",
       "  'description': 'runtime spec - mnist',\n",
       "  'name': 'runtime_mnist',\n",
       "  'platform': {'name': 'python', 'version': '3.5'}},\n",
       " 'metadata': {'created_at': '2018-11-27T19:41:02.825Z',\n",
       "  'guid': '29189501-a005-46bc-9f5a-5ae9ab97893e',\n",
       "  'url': 'https://us-south.ml.cloud.ibm.com/v4/runtimes/29189501-a005-46bc-9f5a-5ae9ab97893e'}}"
      ]
     },
     "execution_count": 24,
     "metadata": {},
     "output_type": "execute_result"
    }
   ],
   "source": [
    "runtime_details"
   ]
  },
  {
   "cell_type": "code",
   "execution_count": 25,
   "metadata": {},
   "outputs": [
    {
     "name": "stdout",
     "output_type": "stream",
     "text": [
      "29189501-a005-46bc-9f5a-5ae9ab97893e\n"
     ]
    }
   ],
   "source": [
    "custom_runtime_uid = client.runtimes.get_uid(runtime_details)\n",
    "print(custom_runtime_uid)"
   ]
  },
  {
   "cell_type": "markdown",
   "metadata": {},
   "source": [
    "<a id=\"persistence\"></a>\n",
    "## 7. Save the LeNet model to the Watson Machine Learning repository\n",
    "\n",
    "The model that needs to be saved in the repo needs to be of tar.gz format."
   ]
  },
  {
   "cell_type": "markdown",
   "metadata": {},
   "source": [
    "### 7.1 Create a model archive\n",
    "\n",
    "First, remove any existing model archive with the same name, then create a new one."
   ]
  },
  {
   "cell_type": "code",
   "execution_count": 26,
   "metadata": {},
   "outputs": [],
   "source": [
    "if os.path.exists('tf_mnist_pyfunc.tar.gz'):\n",
    "    os.remove('tf_mnist_pyfunc.tar.gz')"
   ]
  },
  {
   "cell_type": "code",
   "execution_count": 27,
   "metadata": {},
   "outputs": [
    {
     "name": "stdout",
     "output_type": "stream",
     "text": [
      "/home/dsxuser/work/tf_model_mnist_test\n"
     ]
    }
   ],
   "source": [
    "cd tf_model_mnist_test"
   ]
  },
  {
   "cell_type": "code",
   "execution_count": 28,
   "metadata": {},
   "outputs": [
    {
     "name": "stdout",
     "output_type": "stream",
     "text": [
      "saved_model.pb  \u001b[0m\u001b[01;34mvariables\u001b[0m/\r\n"
     ]
    }
   ],
   "source": [
    "ls"
   ]
  },
  {
   "cell_type": "code",
   "execution_count": 29,
   "metadata": {},
   "outputs": [
    {
     "name": "stdout",
     "output_type": "stream",
     "text": [
      "saved_model.pb\r\n",
      "variables/\r\n",
      "variables/variables.index\r\n",
      "variables/variables.data-00000-of-00001\r\n"
     ]
    }
   ],
   "source": [
    "!tar -cvf ../tf_mnist_pyfunc.tar *"
   ]
  },
  {
   "cell_type": "code",
   "execution_count": 30,
   "metadata": {},
   "outputs": [
    {
     "name": "stdout",
     "output_type": "stream",
     "text": [
      "/home/dsxuser/work\n"
     ]
    }
   ],
   "source": [
    "cd ../"
   ]
  },
  {
   "cell_type": "code",
   "execution_count": 31,
   "metadata": {},
   "outputs": [],
   "source": [
    "!gzip tf_mnist_pyfunc.tar"
   ]
  },
  {
   "cell_type": "code",
   "execution_count": 32,
   "metadata": {},
   "outputs": [],
   "source": [
    "model_path = 'tf_mnist_pyfunc.tar.gz'"
   ]
  },
  {
   "cell_type": "markdown",
   "metadata": {},
   "source": [
    "### 7.2 Save the model to the Watson Machine Learning repository\n",
    "Bind Runtime resource to the model and save the model to Watson Machine Learning repository. <br>\n",
    "`client.repository.ModelMetaNames.RUNTIME_UID` key value pair is added to the model metadata as a reference to the runtime artifact which stores the list of library artifact urls."
   ]
  },
  {
   "cell_type": "code",
   "execution_count": 33,
   "metadata": {},
   "outputs": [],
   "source": [
    "model_meta = {\n",
    "    client.repository.ModelMetaNames.AUTHOR_NAME: \"IBM\",\n",
    "    client.repository.ModelMetaNames.AUTHOR_EMAIL: \"ibm@ibm.com\",\n",
    "    client.repository.ModelMetaNames.NAME: \"cust_pyfunc_mnist\",\n",
    "    client.repository.ModelMetaNames.DESCRIPTION: \"cust MNIST with pyfunc\",\n",
    "    client.repository.ModelMetaNames.RUNTIME_UID: custom_runtime_uid,\n",
    "    client.repository.ModelMetaNames.FRAMEWORK_NAME: \"tensorflow\",\n",
    "    client.repository.ModelMetaNames.FRAMEWORK_VERSION: \"1.5\",\n",
    "    client.repository.ModelMetaNames.RUNTIME_NAME: \"python\",\n",
    "    client.repository.ModelMetaNames.RUNTIME_VERSION: \"3.5\"\n",
    "}\n",
    "model_details = client.repository.store_model(model=model_path, meta_props=model_meta)"
   ]
  },
  {
   "cell_type": "code",
   "execution_count": 34,
   "metadata": {},
   "outputs": [
    {
     "name": "stdout",
     "output_type": "stream",
     "text": [
      "ea074e3b-7e79-4a8f-80c3-2c4270ba1a16\n"
     ]
    }
   ],
   "source": [
    "model_uid = client.repository.get_model_uid(model_details)\n",
    "print(model_uid)"
   ]
  },
  {
   "cell_type": "code",
   "execution_count": 35,
   "metadata": {},
   "outputs": [
    {
     "data": {
      "text/plain": [
       "{'entity': {'author': {'name': 'IBM'},\n",
       "  'deployments': {'count': 0,\n",
       "   'url': 'https://us-south.ml.cloud.ibm.com/v3/wml_instances/d0755448-6eb4-425a-b35b-479be91ff2d5/published_models/ea074e3b-7e79-4a8f-80c3-2c4270ba1a16/deployments'},\n",
       "  'description': 'cust MNIST with pyfunc',\n",
       "  'evaluation_metrics_url': 'https://us-south.ml.cloud.ibm.com/v3/wml_instances/d0755448-6eb4-425a-b35b-479be91ff2d5/published_models/ea074e3b-7e79-4a8f-80c3-2c4270ba1a16/evaluation_metrics',\n",
       "  'feedback_url': 'https://us-south.ml.cloud.ibm.com/v3/wml_instances/d0755448-6eb4-425a-b35b-479be91ff2d5/published_models/ea074e3b-7e79-4a8f-80c3-2c4270ba1a16/feedback',\n",
       "  'latest_version': {'created_at': '2018-11-27T19:43:19.819Z',\n",
       "   'guid': 'ae10f293-25cc-4a36-b0d2-345f0cf2efa4',\n",
       "   'url': 'https://us-south.ml.cloud.ibm.com/v3/ml_assets/models/ea074e3b-7e79-4a8f-80c3-2c4270ba1a16/versions/ae10f293-25cc-4a36-b0d2-345f0cf2efa4'},\n",
       "  'learning_configuration_url': 'https://us-south.ml.cloud.ibm.com/v3/wml_instances/d0755448-6eb4-425a-b35b-479be91ff2d5/published_models/ea074e3b-7e79-4a8f-80c3-2c4270ba1a16/learning_configuration',\n",
       "  'learning_iterations_url': 'https://us-south.ml.cloud.ibm.com/v3/wml_instances/d0755448-6eb4-425a-b35b-479be91ff2d5/published_models/ea074e3b-7e79-4a8f-80c3-2c4270ba1a16/learning_iterations',\n",
       "  'model_type': 'tensorflow-1.5',\n",
       "  'name': 'cust_pyfunc_mnist',\n",
       "  'runtime': {'url': 'https://us-south.ml.cloud.ibm.com/v4/runtimes/29189501-a005-46bc-9f5a-5ae9ab97893e'},\n",
       "  'runtime_environment': 'python-3.5'},\n",
       " 'metadata': {'created_at': '2018-11-27T19:43:19.757Z',\n",
       "  'guid': 'ea074e3b-7e79-4a8f-80c3-2c4270ba1a16',\n",
       "  'modified_at': '2018-11-27T19:43:19.819Z',\n",
       "  'url': 'https://us-south.ml.cloud.ibm.com/v3/wml_instances/d0755448-6eb4-425a-b35b-479be91ff2d5/published_models/ea074e3b-7e79-4a8f-80c3-2c4270ba1a16'}}"
      ]
     },
     "execution_count": 35,
     "metadata": {},
     "output_type": "execute_result"
    }
   ],
   "source": [
    "model_details"
   ]
  },
  {
   "cell_type": "markdown",
   "metadata": {},
   "source": [
    "<a id='Scoring'></a>\n",
    "## 8. Deploy and perform prediction on the LeNet model\n",
    "\n",
    "In this section, you will:\n",
    "- Deploy the saved model that uses the custom transformer\n",
    "- Perform predictions\n",
    "You will use the WML client to perform these tasks."
   ]
  },
  {
   "cell_type": "markdown",
   "metadata": {},
   "source": [
    "### 8.1 Deploy the model"
   ]
  },
  {
   "cell_type": "code",
   "execution_count": 36,
   "metadata": {},
   "outputs": [
    {
     "name": "stdout",
     "output_type": "stream",
     "text": [
      "\n",
      "\n",
      "#######################################################################################\n",
      "\n",
      "Synchronous deployment creation for uid: 'ea074e3b-7e79-4a8f-80c3-2c4270ba1a16' started\n",
      "\n",
      "#######################################################################################\n",
      "\n",
      "\n",
      "INITIALIZING\n",
      "DEPLOY_IN_PROGRESS........................\n",
      "DEPLOY_SUCCESS\n",
      "\n",
      "\n",
      "------------------------------------------------------------------------------------------------\n",
      "Successfully finished deployment creation, deployment_uid='6de9fa5a-54f0-43f3-879e-7bd53cd225d8'\n",
      "------------------------------------------------------------------------------------------------\n",
      "\n",
      "\n"
     ]
    }
   ],
   "source": [
    "deployment_details = client.deployments.create(model_uid, \"Mnist model deployment\")"
   ]
  },
  {
   "cell_type": "markdown",
   "metadata": {},
   "source": [
    "### 8.2 Score the deployed model\n",
    "\n",
    "Get the scoring url for the model."
   ]
  },
  {
   "cell_type": "code",
   "execution_count": 37,
   "metadata": {},
   "outputs": [
    {
     "name": "stdout",
     "output_type": "stream",
     "text": [
      "https://us-south.ml.cloud.ibm.com/v3/wml_instances/d0755448-6eb4-425a-b35b-479be91ff2d5/deployments/6de9fa5a-54f0-43f3-879e-7bd53cd225d8/online\n"
     ]
    }
   ],
   "source": [
    "scoring_url = client.deployments.get_scoring_url(deployment_details)\n",
    "print(scoring_url)"
   ]
  },
  {
   "cell_type": "markdown",
   "metadata": {},
   "source": [
    "Prepare sample scoring data."
   ]
  },
  {
   "cell_type": "code",
   "execution_count": 38,
   "metadata": {},
   "outputs": [],
   "source": [
    "import matplotlib.pyplot as plt\n",
    "import numpy as np"
   ]
  },
  {
   "cell_type": "code",
   "execution_count": 39,
   "metadata": {},
   "outputs": [],
   "source": [
    "image = mnist.test.next_batch(1)[0].tolist()\n",
    "payload = {'values': image}"
   ]
  },
  {
   "cell_type": "code",
   "execution_count": 40,
   "metadata": {},
   "outputs": [
    {
     "data": {
      "text/plain": [
       "<matplotlib.image.AxesImage at 0x7f01407d6fd0>"
      ]
     },
     "execution_count": 40,
     "metadata": {},
     "output_type": "execute_result"
    },
    {
     "data": {
      "image/png": "[encoded data removed]",
      "text/plain": [
       "<matplotlib.figure.Figure at 0x7f0131117c50>"
      ]
     },
     "metadata": {},
     "output_type": "display_data"
    }
   ],
   "source": [
    "plt.subplot(1, 1, 1)\n",
    "plt.axis('off')\n",
    "plt.imshow((np.reshape(np.array(image), (28, 28)) * 255).astype(np.uint8), cmap=plt.cm.gray_r, interpolation='nearest')"
   ]
  },
  {
   "cell_type": "code",
   "execution_count": 41,
   "metadata": {},
   "outputs": [
    {
     "name": "stdout",
     "output_type": "stream",
     "text": [
      "Scoring result: [8]\n"
     ]
    }
   ],
   "source": [
    "predictions = client.deployments.score(scoring_url, payload)\n",
    "print('Scoring result: ' + str(predictions['values']))"
   ]
  },
  {
   "cell_type": "markdown",
   "metadata": {},
   "source": [
    "### 8.3 Delete the deployments, libaries, models and runtimes\n",
    "\n",
    "Use the following method to delete the deployment if it is no longer needed."
   ]
  },
  {
   "cell_type": "code",
   "execution_count": 42,
   "metadata": {},
   "outputs": [],
   "source": [
    "deployment_id = client.deployments.get_uid(deployment_details)"
   ]
  },
  {
   "cell_type": "code",
   "execution_count": 43,
   "metadata": {},
   "outputs": [],
   "source": [
    "client.deployments.delete(deployment_id)"
   ]
  },
  {
   "cell_type": "markdown",
   "metadata": {},
   "source": [
    "Check that all your deployments are deleted."
   ]
  },
  {
   "cell_type": "code",
   "execution_count": 44,
   "metadata": {},
   "outputs": [
    {
     "name": "stdout",
     "output_type": "stream",
     "text": [
      "----  ----  ----  -----  -------  ---------  -------------\n",
      "GUID  NAME  TYPE  STATE  CREATED  FRAMEWORK  ARTIFACT TYPE\n",
      "----  ----  ----  -----  -------  ---------  -------------\n"
     ]
    }
   ],
   "source": [
    "client.deployments.list()"
   ]
  },
  {
   "cell_type": "markdown",
   "metadata": {},
   "source": [
    "To delete the libraries, models and runtimes, get the GUID information using:"
   ]
  },
  {
   "cell_type": "code",
   "execution_count": null,
   "metadata": {},
   "outputs": [],
   "source": [
    "client.repository.list()"
   ]
  },
  {
   "cell_type": "markdown",
   "metadata": {},
   "source": [
    "Delete the library, model or runtime by passing in the appropriate GUID:"
   ]
  },
  {
   "cell_type": "code",
   "execution_count": null,
   "metadata": {},
   "outputs": [],
   "source": [
    "client.repository.delete('YOUR_GUID')"
   ]
  },
  {
   "cell_type": "markdown",
   "metadata": {},
   "source": [
    "<a id=\"summary\"></a>\n",
    "## 9. Summary\n",
    "\n",
    "In this notebook we learnt how to create a custom Python operation using TensorFlow's `tf.py_func` and used it on the LeNet model for MNIST.\n",
    "\n",
    "We also learned how to use the `watson-machine-learning-client` to store a library created to use the same operation into theWML Repository.\n",
    "\n",
    "Finally, we stored our custom LeNet model with references to the created library into WML Repository, and this model could be deployed and scored later using the WML Service."
   ]
  },
  {
   "cell_type": "markdown",
   "metadata": {},
   "source": [
    "To explore the functionalities of Watson Studio further, check out our <a href=\"https://dataplatform.ibm.com/docs/content/analyze-data/wml-setup.html\" target=\"_blank\" rel=\"noopener noreferrer\">Online Documentation</a> for more samples, tutorials, documentation, how-tos, and blog posts."
   ]
  },
  {
   "cell_type": "markdown",
   "metadata": {},
   "source": [
    "### References\n",
    "Y. LeCun, L. Bottou, Y. Bengio, and P. Haffner. \"Gradient-based learning applied to document recognition.\" Proceedings of the IEEE, 86(11):2278-2324, November 1998.\n",
    "\n",
    "Creative Commons Zero v1.0 Universal License: The code in section [2.1 Create a custom operation for tf.py_func](#2.1-Create-a-custom-operation-for-tf.py_func) is based on the following:\n",
    "- https://github.com/tensorflow/tensorflow/issues/1095\n",
    "- https://gist.github.com/harpone/3453185b41d8d985356cbe5e57d67342"
   ]
  },
  {
   "cell_type": "markdown",
   "metadata": {},
   "source": [
    "### Author\n",
    "**Srikrishna S Bhat**, M. Tech, is a Software Engineer at IBM Watson Machine Learning Team"
   ]
  },
  {
   "cell_type": "markdown",
   "metadata": {},
   "source": [
    "<hr>\n",
    "Copyright © 2018 IBM. This notebook and its source code are released under the terms of the MIT License."
   ]
  },
  {
   "cell_type": "markdown",
   "metadata": {},
   "source": [
    "<div style=\"background:#F5F7FA; height:110px; padding: 2em; font-size:14px;\">\n",
    "<span style=\"font-size:18px;color:#152935;\">Love this notebook? </span>\n",
    "<span style=\"font-size:15px;color:#152935;float:right;margin-right:40px;\">Don't have an account yet?</span><br>\n",
    "<span style=\"color:#5A6872;\">Share it with your colleagues and help them discover the power of Watson Studio!</span>\n",
    "<span style=\"border: 1px solid #3d70b2;padding:8px;float:right;margin-right:40px; color:#3d70b2;\"><a href=\"https://ibm.co/wsnotebooks\" target=\"_blank\" style=\"color: #3d70b2;text-decoration: none;\">Sign Up</a></span><br>\n",
    "</div>"
   ]
  }
 ],
 "metadata": {
  "kernelspec": {
   "display_name": "Python 3.5",
   "language": "python",
   "name": "python3"
  },
  "language_info": {
   "codemirror_mode": {
    "name": "ipython",
    "version": 3
   },
   "file_extension": ".py",
   "mimetype": "text/x-python",
   "name": "python",
   "nbconvert_exporter": "python",
   "pygments_lexer": "ipython3",
   "version": "3.5.5"
  }
 },
 "nbformat": 4,
 "nbformat_minor": 1
}
