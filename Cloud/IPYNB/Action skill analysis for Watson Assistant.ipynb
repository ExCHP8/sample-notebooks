{
 "cells": [
  {
   "cell_type": "markdown",
   "metadata": {
    "collapsed": true
   },
   "source": [
    "# Action skill analysis for Watson Assistant\n",
    "\n",
    "## Introduction\n",
    "Action Skill Analysis for Watson Assistant (WA) is intended for use by chatbot designers, developers and data scientists who would like to experiment with and improve their existing action skill design.  \n",
    "\n",
    "This notebook assumes familiarity with the Watson Assistant product as well as concepts involved in action skill design such as intent, entities, and utterances.   "
   ]
  },
  {
   "cell_type": "markdown",
   "metadata": {},
   "source": [
    "[Link to Source Repository](https://github.com/watson-developer-cloud/assistant-skill-analysis)"
   ]
  },
  {
   "cell_type": "markdown",
   "metadata": {},
   "source": [
    "### Import dependencies"
   ]
  },
  {
   "cell_type": "code",
   "execution_count": 1,
   "metadata": {},
   "outputs": [
    {
     "name": "stdout",
     "output_type": "stream",
     "text": [
      "Looking in indexes: https://pypi.python.org/simple\n",
      "Collecting assistant-skill-analysis>=2.0.1\n",
      "  Downloading assistant_skill_analysis-2.0.1-py3-none-any.whl (84 kB)\n",
      "\u001b[K     |████████████████████████████████| 84 kB 3.7 MB/s  eta 0:00:01\n",
      "\u001b[?25hCollecting spacy~=2.3.2\n",
      "  Downloading spacy-2.3.7-cp39-cp39-manylinux_2_17_x86_64.manylinux2014_x86_64.whl (10.3 MB)\n",
      "\u001b[K     |████████████████████████████████| 10.3 MB 15.1 MB/s eta 0:00:01\n",
      "\u001b[?25hRequirement already satisfied: pandas in /opt/conda/envs/Python-3.9/lib/python3.9/site-packages (from assistant-skill-analysis>=2.0.1) (1.3.4)\n",
      "Requirement already satisfied: numpy>=1.15.1 in /opt/conda/envs/Python-3.9/lib/python3.9/site-packages (from assistant-skill-analysis>=2.0.1) (1.20.3)\n",
      "Requirement already satisfied: matplotlib in /opt/conda/envs/Python-3.9/lib/python3.9/site-packages (from assistant-skill-analysis>=2.0.1) (3.5.0)\n",
      "Requirement already satisfied: jupyter in /opt/conda/envs/Python-3.9/lib/python3.9/site-packages (from assistant-skill-analysis>=2.0.1) (1.0.0)\n",
      "Requirement already satisfied: scikit-learn>=0.21 in /opt/conda/envs/Python-3.9/lib/python3.9/site-packages (from assistant-skill-analysis>=2.0.1) (1.0.2)\n",
      "Requirement already satisfied: scipy>=1.2.0 in /opt/conda/envs/Python-3.9/lib/python3.9/site-packages (from assistant-skill-analysis>=2.0.1) (1.7.3)\n",
      "Collecting ibm-watson>=4.5.0\n",
      "  Downloading ibm-watson-6.0.0.tar.gz (338 kB)\n",
      "\u001b[K     |████████████████████████████████| 338 kB 95.3 MB/s eta 0:00:01\n",
      "\u001b[?25h  Installing build dependencies ... \u001b[?25ldone\n",
      "\u001b[?25h  Getting requirements to build wheel ... \u001b[?25ldone\n",
      "\u001b[?25h    Preparing wheel metadata ... \u001b[?25ldone\n",
      "\u001b[?25hRequirement already satisfied: seaborn in /opt/conda/envs/Python-3.9/lib/python3.9/site-packages (from assistant-skill-analysis>=2.0.1) (0.11.2)\n",
      "Requirement already satisfied: tabulate in /opt/conda/envs/Python-3.9/lib/python3.9/site-packages (from assistant-skill-analysis>=2.0.1) (0.8.9)\n",
      "Collecting nltk\n",
      "  Downloading nltk-3.7-py3-none-any.whl (1.5 MB)\n",
      "\u001b[K     |████████████████████████████████| 1.5 MB 82.9 MB/s eta 0:00:01\n",
      "\u001b[?25hRequirement already satisfied: ibm-cos-sdk>=2.11.0 in /opt/conda/envs/Python-3.9/lib/python3.9/site-packages (from assistant-skill-analysis>=2.0.1) (2.11.0)\n",
      "Requirement already satisfied: ibm-cos-sdk-s3transfer==2.11.0 in /opt/conda/envs/Python-3.9/lib/python3.9/site-packages (from ibm-cos-sdk>=2.11.0->assistant-skill-analysis>=2.0.1) (2.11.0)\n",
      "Requirement already satisfied: ibm-cos-sdk-core==2.11.0 in /opt/conda/envs/Python-3.9/lib/python3.9/site-packages (from ibm-cos-sdk>=2.11.0->assistant-skill-analysis>=2.0.1) (2.11.0)\n",
      "Requirement already satisfied: jmespath<1.0.0,>=0.7.1 in /opt/conda/envs/Python-3.9/lib/python3.9/site-packages (from ibm-cos-sdk>=2.11.0->assistant-skill-analysis>=2.0.1) (0.10.0)\n",
      "Requirement already satisfied: requests<3.0,>=2.26 in /opt/conda/envs/Python-3.9/lib/python3.9/site-packages (from ibm-cos-sdk-core==2.11.0->ibm-cos-sdk>=2.11.0->assistant-skill-analysis>=2.0.1) (2.26.0)\n",
      "Requirement already satisfied: urllib3<1.27,>=1.26.7 in /opt/conda/envs/Python-3.9/lib/python3.9/site-packages (from ibm-cos-sdk-core==2.11.0->ibm-cos-sdk>=2.11.0->assistant-skill-analysis>=2.0.1) (1.26.7)\n",
      "Requirement already satisfied: python-dateutil<3.0.0,>=2.1 in /opt/conda/envs/Python-3.9/lib/python3.9/site-packages (from ibm-cos-sdk-core==2.11.0->ibm-cos-sdk>=2.11.0->assistant-skill-analysis>=2.0.1) (2.8.2)\n",
      "Requirement already satisfied: ibm-cloud-sdk-core==3.*,>=3.3.6 in /opt/conda/envs/Python-3.9/lib/python3.9/site-packages (from ibm-watson>=4.5.0->assistant-skill-analysis>=2.0.1) (3.10.1)\n",
      "Collecting websocket-client==1.1.0\n",
      "  Downloading websocket_client-1.1.0-py2.py3-none-any.whl (68 kB)\n",
      "\u001b[K     |████████████████████████████████| 68 kB 13.9 MB/s eta 0:00:01\n",
      "\u001b[?25hRequirement already satisfied: PyJWT<3.0.0,>=2.0.1 in /opt/conda/envs/Python-3.9/lib/python3.9/site-packages (from ibm-cloud-sdk-core==3.*,>=3.3.6->ibm-watson>=4.5.0->assistant-skill-analysis>=2.0.1) (2.4.0)\n",
      "Requirement already satisfied: six>=1.5 in /opt/conda/envs/Python-3.9/lib/python3.9/site-packages (from python-dateutil<3.0.0,>=2.1->ibm-cos-sdk-core==2.11.0->ibm-cos-sdk>=2.11.0->assistant-skill-analysis>=2.0.1) (1.15.0)\n",
      "Requirement already satisfied: certifi>=2017.4.17 in /opt/conda/envs/Python-3.9/lib/python3.9/site-packages (from requests<3.0,>=2.26->ibm-cos-sdk-core==2.11.0->ibm-cos-sdk>=2.11.0->assistant-skill-analysis>=2.0.1) (2022.6.15)\n",
      "Requirement already satisfied: charset-normalizer~=2.0.0 in /opt/conda/envs/Python-3.9/lib/python3.9/site-packages (from requests<3.0,>=2.26->ibm-cos-sdk-core==2.11.0->ibm-cos-sdk>=2.11.0->assistant-skill-analysis>=2.0.1) (2.0.4)\n",
      "Requirement already satisfied: idna<4,>=2.5 in /opt/conda/envs/Python-3.9/lib/python3.9/site-packages (from requests<3.0,>=2.26->ibm-cos-sdk-core==2.11.0->ibm-cos-sdk>=2.11.0->assistant-skill-analysis>=2.0.1) (3.3)\n",
      "Requirement already satisfied: joblib>=0.11 in /opt/conda/envs/Python-3.9/lib/python3.9/site-packages (from scikit-learn>=0.21->assistant-skill-analysis>=2.0.1) (0.17.0)\n",
      "Requirement already satisfied: threadpoolctl>=2.0.0 in /opt/conda/envs/Python-3.9/lib/python3.9/site-packages (from scikit-learn>=0.21->assistant-skill-analysis>=2.0.1) (2.2.0)\n",
      "Collecting wasabi<1.1.0,>=0.4.0\n",
      "  Downloading wasabi-0.10.1-py3-none-any.whl (26 kB)\n",
      "Collecting thinc<7.5.0,>=7.4.1\n",
      "  Downloading thinc-7.4.5-cp39-cp39-manylinux2014_x86_64.whl (1.1 MB)\n",
      "\u001b[K     |████████████████████████████████| 1.1 MB 87.3 MB/s eta 0:00:01\n",
      "\u001b[?25hCollecting srsly<1.1.0,>=1.0.2\n",
      "  Downloading srsly-1.0.5-cp39-cp39-manylinux2014_x86_64.whl (184 kB)\n",
      "\u001b[K     |████████████████████████████████| 184 kB 87.4 MB/s eta 0:00:01\n",
      "\u001b[?25hRequirement already satisfied: setuptools in /opt/conda/envs/Python-3.9/lib/python3.9/site-packages (from spacy~=2.3.2->assistant-skill-analysis>=2.0.1) (58.0.4)\n",
      "Collecting blis<0.8.0,>=0.4.0\n",
      "  Downloading blis-0.7.8-cp39-cp39-manylinux_2_17_x86_64.manylinux2014_x86_64.whl (10.2 MB)\n",
      "\u001b[K     |████████████████████████████████| 10.2 MB 92.9 MB/s eta 0:00:01\n",
      "\u001b[?25hCollecting catalogue<1.1.0,>=0.0.7\n",
      "  Downloading catalogue-1.0.0-py2.py3-none-any.whl (7.7 kB)\n",
      "Collecting cymem<2.1.0,>=2.0.2\n",
      "  Downloading cymem-2.0.6-cp39-cp39-manylinux_2_17_x86_64.manylinux2014_x86_64.whl (35 kB)\n",
      "Requirement already satisfied: tqdm<5.0.0,>=4.38.0 in /opt/conda/envs/Python-3.9/lib/python3.9/site-packages (from spacy~=2.3.2->assistant-skill-analysis>=2.0.1) (4.62.3)\n",
      "Collecting plac<1.2.0,>=0.9.6\n",
      "  Downloading plac-1.1.3-py2.py3-none-any.whl (20 kB)\n",
      "Collecting preshed<3.1.0,>=3.0.2\n",
      "  Downloading preshed-3.0.6-cp39-cp39-manylinux_2_5_x86_64.manylinux1_x86_64.manylinux_2_17_x86_64.manylinux2014_x86_64.whl (128 kB)\n",
      "\u001b[K     |████████████████████████████████| 128 kB 11.7 MB/s eta 0:00:01\n",
      "\u001b[?25hCollecting murmurhash<1.1.0,>=0.28.0\n",
      "  Downloading murmurhash-1.0.7-cp39-cp39-manylinux_2_5_x86_64.manylinux1_x86_64.manylinux_2_17_x86_64.manylinux2014_x86_64.whl (21 kB)\n",
      "Requirement already satisfied: ipywidgets in /opt/conda/envs/Python-3.9/lib/python3.9/site-packages (from jupyter->assistant-skill-analysis>=2.0.1) (7.6.5)\n",
      "Requirement already satisfied: jupyter-console in /opt/conda/envs/Python-3.9/lib/python3.9/site-packages (from jupyter->assistant-skill-analysis>=2.0.1) (6.4.0)\n",
      "Requirement already satisfied: ipykernel in /opt/conda/envs/Python-3.9/lib/python3.9/site-packages (from jupyter->assistant-skill-analysis>=2.0.1) (6.4.1)\n",
      "Requirement already satisfied: notebook in /opt/conda/envs/Python-3.9/lib/python3.9/site-packages (from jupyter->assistant-skill-analysis>=2.0.1) (6.4.11)\n",
      "Requirement already satisfied: qtconsole in /opt/conda/envs/Python-3.9/lib/python3.9/site-packages (from jupyter->assistant-skill-analysis>=2.0.1) (5.1.1)\n",
      "Requirement already satisfied: nbconvert in /opt/conda/envs/Python-3.9/lib/python3.9/site-packages (from jupyter->assistant-skill-analysis>=2.0.1) (6.1.0)\n",
      "Requirement already satisfied: ipython-genutils in /opt/conda/envs/Python-3.9/lib/python3.9/site-packages (from ipykernel->jupyter->assistant-skill-analysis>=2.0.1) (0.2.0)\n",
      "Requirement already satisfied: debugpy<2.0,>=1.0.0 in /opt/conda/envs/Python-3.9/lib/python3.9/site-packages (from ipykernel->jupyter->assistant-skill-analysis>=2.0.1) (1.5.1)\n",
      "Requirement already satisfied: traitlets<6.0,>=4.1.0 in /opt/conda/envs/Python-3.9/lib/python3.9/site-packages (from ipykernel->jupyter->assistant-skill-analysis>=2.0.1) (5.1.1)\n",
      "Requirement already satisfied: matplotlib-inline<0.2.0,>=0.1.0 in /opt/conda/envs/Python-3.9/lib/python3.9/site-packages (from ipykernel->jupyter->assistant-skill-analysis>=2.0.1) (0.1.2)\n",
      "Requirement already satisfied: ipython<8.0,>=7.23.1 in /opt/conda/envs/Python-3.9/lib/python3.9/site-packages (from ipykernel->jupyter->assistant-skill-analysis>=2.0.1) (7.29.0)\n",
      "Requirement already satisfied: jupyter-client<8.0 in /opt/conda/envs/Python-3.9/lib/python3.9/site-packages (from ipykernel->jupyter->assistant-skill-analysis>=2.0.1) (7.0.6)\n",
      "Requirement already satisfied: tornado<7.0,>=4.2 in /opt/conda/envs/Python-3.9/lib/python3.9/site-packages (from ipykernel->jupyter->assistant-skill-analysis>=2.0.1) (6.1)\n",
      "Requirement already satisfied: decorator in /opt/conda/envs/Python-3.9/lib/python3.9/site-packages (from ipython<8.0,>=7.23.1->ipykernel->jupyter->assistant-skill-analysis>=2.0.1) (5.1.0)\n",
      "Requirement already satisfied: pygments in /opt/conda/envs/Python-3.9/lib/python3.9/site-packages (from ipython<8.0,>=7.23.1->ipykernel->jupyter->assistant-skill-analysis>=2.0.1) (2.10.0)\n",
      "Requirement already satisfied: pickleshare in /opt/conda/envs/Python-3.9/lib/python3.9/site-packages (from ipython<8.0,>=7.23.1->ipykernel->jupyter->assistant-skill-analysis>=2.0.1) (0.7.5)\n",
      "Requirement already satisfied: jedi>=0.16 in /opt/conda/envs/Python-3.9/lib/python3.9/site-packages (from ipython<8.0,>=7.23.1->ipykernel->jupyter->assistant-skill-analysis>=2.0.1) (0.18.0)\n",
      "Requirement already satisfied: backcall in /opt/conda/envs/Python-3.9/lib/python3.9/site-packages (from ipython<8.0,>=7.23.1->ipykernel->jupyter->assistant-skill-analysis>=2.0.1) (0.2.0)\n",
      "Requirement already satisfied: pexpect>4.3 in /opt/conda/envs/Python-3.9/lib/python3.9/site-packages (from ipython<8.0,>=7.23.1->ipykernel->jupyter->assistant-skill-analysis>=2.0.1) (4.8.0)\n",
      "Requirement already satisfied: prompt-toolkit!=3.0.0,!=3.0.1,<3.1.0,>=2.0.0 in /opt/conda/envs/Python-3.9/lib/python3.9/site-packages (from ipython<8.0,>=7.23.1->ipykernel->jupyter->assistant-skill-analysis>=2.0.1) (3.0.20)\n",
      "Requirement already satisfied: parso<0.9.0,>=0.8.0 in /opt/conda/envs/Python-3.9/lib/python3.9/site-packages (from jedi>=0.16->ipython<8.0,>=7.23.1->ipykernel->jupyter->assistant-skill-analysis>=2.0.1) (0.8.3)\n",
      "Requirement already satisfied: entrypoints in /opt/conda/envs/Python-3.9/lib/python3.9/site-packages (from jupyter-client<8.0->ipykernel->jupyter->assistant-skill-analysis>=2.0.1) (0.3)\n",
      "Requirement already satisfied: jupyter-core>=4.6.0 in /opt/conda/envs/Python-3.9/lib/python3.9/site-packages (from jupyter-client<8.0->ipykernel->jupyter->assistant-skill-analysis>=2.0.1) (4.9.1)\n",
      "Requirement already satisfied: pyzmq>=13 in /opt/conda/envs/Python-3.9/lib/python3.9/site-packages (from jupyter-client<8.0->ipykernel->jupyter->assistant-skill-analysis>=2.0.1) (22.3.0)\n",
      "Requirement already satisfied: nest-asyncio>=1.5 in /opt/conda/envs/Python-3.9/lib/python3.9/site-packages (from jupyter-client<8.0->ipykernel->jupyter->assistant-skill-analysis>=2.0.1) (1.5.1)\n",
      "Requirement already satisfied: ptyprocess>=0.5 in /opt/conda/envs/Python-3.9/lib/python3.9/site-packages (from pexpect>4.3->ipython<8.0,>=7.23.1->ipykernel->jupyter->assistant-skill-analysis>=2.0.1) (0.7.0)\n",
      "Requirement already satisfied: wcwidth in /opt/conda/envs/Python-3.9/lib/python3.9/site-packages (from prompt-toolkit!=3.0.0,!=3.0.1,<3.1.0,>=2.0.0->ipython<8.0,>=7.23.1->ipykernel->jupyter->assistant-skill-analysis>=2.0.1) (0.2.5)\n",
      "Requirement already satisfied: widgetsnbextension~=3.5.0 in /opt/conda/envs/Python-3.9/lib/python3.9/site-packages (from ipywidgets->jupyter->assistant-skill-analysis>=2.0.1) (3.5.1)\n",
      "Requirement already satisfied: jupyterlab-widgets>=1.0.0 in /opt/conda/envs/Python-3.9/lib/python3.9/site-packages (from ipywidgets->jupyter->assistant-skill-analysis>=2.0.1) (1.0.0)\n",
      "Requirement already satisfied: nbformat>=4.2.0 in /opt/conda/envs/Python-3.9/lib/python3.9/site-packages (from ipywidgets->jupyter->assistant-skill-analysis>=2.0.1) (5.1.3)\n",
      "Requirement already satisfied: jsonschema!=2.5.0,>=2.4 in /opt/conda/envs/Python-3.9/lib/python3.9/site-packages (from nbformat>=4.2.0->ipywidgets->jupyter->assistant-skill-analysis>=2.0.1) (3.2.0)\n",
      "Requirement already satisfied: pyrsistent>=0.14.0 in /opt/conda/envs/Python-3.9/lib/python3.9/site-packages (from jsonschema!=2.5.0,>=2.4->nbformat>=4.2.0->ipywidgets->jupyter->assistant-skill-analysis>=2.0.1) (0.18.0)\n",
      "Requirement already satisfied: attrs>=17.4.0 in /opt/conda/envs/Python-3.9/lib/python3.9/site-packages (from jsonschema!=2.5.0,>=2.4->nbformat>=4.2.0->ipywidgets->jupyter->assistant-skill-analysis>=2.0.1) (21.2.0)\n",
      "Requirement already satisfied: terminado>=0.8.3 in /opt/conda/envs/Python-3.9/lib/python3.9/site-packages (from notebook->jupyter->assistant-skill-analysis>=2.0.1) (0.9.4)\n",
      "Requirement already satisfied: prometheus-client in /opt/conda/envs/Python-3.9/lib/python3.9/site-packages (from notebook->jupyter->assistant-skill-analysis>=2.0.1) (0.12.0)\n",
      "Requirement already satisfied: jinja2 in /opt/conda/envs/Python-3.9/lib/python3.9/site-packages (from notebook->jupyter->assistant-skill-analysis>=2.0.1) (3.0.2)\n",
      "Requirement already satisfied: argon2-cffi in /opt/conda/envs/Python-3.9/lib/python3.9/site-packages (from notebook->jupyter->assistant-skill-analysis>=2.0.1) (20.1.0)\n",
      "Requirement already satisfied: Send2Trash>=1.8.0 in /opt/conda/envs/Python-3.9/lib/python3.9/site-packages (from notebook->jupyter->assistant-skill-analysis>=2.0.1) (1.8.0)\n",
      "Requirement already satisfied: nbclient<0.6.0,>=0.5.0 in /opt/conda/envs/Python-3.9/lib/python3.9/site-packages (from nbconvert->jupyter->assistant-skill-analysis>=2.0.1) (0.5.3)\n",
      "Requirement already satisfied: jupyterlab-pygments in /opt/conda/envs/Python-3.9/lib/python3.9/site-packages (from nbconvert->jupyter->assistant-skill-analysis>=2.0.1) (0.1.2)\n",
      "Requirement already satisfied: mistune<2,>=0.8.1 in /opt/conda/envs/Python-3.9/lib/python3.9/site-packages (from nbconvert->jupyter->assistant-skill-analysis>=2.0.1) (0.8.4)\n",
      "Requirement already satisfied: pandocfilters>=1.4.1 in /opt/conda/envs/Python-3.9/lib/python3.9/site-packages (from nbconvert->jupyter->assistant-skill-analysis>=2.0.1) (1.4.3)\n",
      "Requirement already satisfied: testpath in /opt/conda/envs/Python-3.9/lib/python3.9/site-packages (from nbconvert->jupyter->assistant-skill-analysis>=2.0.1) (0.5.0)\n",
      "Requirement already satisfied: bleach in /opt/conda/envs/Python-3.9/lib/python3.9/site-packages (from nbconvert->jupyter->assistant-skill-analysis>=2.0.1) (4.0.0)\n",
      "Requirement already satisfied: defusedxml in /opt/conda/envs/Python-3.9/lib/python3.9/site-packages (from nbconvert->jupyter->assistant-skill-analysis>=2.0.1) (0.7.1)\n",
      "Requirement already satisfied: MarkupSafe>=2.0 in /opt/conda/envs/Python-3.9/lib/python3.9/site-packages (from jinja2->notebook->jupyter->assistant-skill-analysis>=2.0.1) (2.0.1)\n",
      "Requirement already satisfied: async-generator in /opt/conda/envs/Python-3.9/lib/python3.9/site-packages (from nbclient<0.6.0,>=0.5.0->nbconvert->jupyter->assistant-skill-analysis>=2.0.1) (1.10)\n",
      "Requirement already satisfied: cffi>=1.0.0 in /opt/conda/envs/Python-3.9/lib/python3.9/site-packages (from argon2-cffi->notebook->jupyter->assistant-skill-analysis>=2.0.1) (1.14.6)\n",
      "Requirement already satisfied: pycparser in /opt/conda/envs/Python-3.9/lib/python3.9/site-packages (from cffi>=1.0.0->argon2-cffi->notebook->jupyter->assistant-skill-analysis>=2.0.1) (2.21)\n",
      "Requirement already satisfied: packaging in /opt/conda/envs/Python-3.9/lib/python3.9/site-packages (from bleach->nbconvert->jupyter->assistant-skill-analysis>=2.0.1) (21.3)\n",
      "Requirement already satisfied: webencodings in /opt/conda/envs/Python-3.9/lib/python3.9/site-packages (from bleach->nbconvert->jupyter->assistant-skill-analysis>=2.0.1) (0.5.1)\n",
      "Requirement already satisfied: cycler>=0.10 in /opt/conda/envs/Python-3.9/lib/python3.9/site-packages (from matplotlib->assistant-skill-analysis>=2.0.1) (0.11.0)\n",
      "Requirement already satisfied: fonttools>=4.22.0 in /opt/conda/envs/Python-3.9/lib/python3.9/site-packages (from matplotlib->assistant-skill-analysis>=2.0.1) (4.25.0)\n",
      "Requirement already satisfied: pyparsing>=2.2.1 in /opt/conda/envs/Python-3.9/lib/python3.9/site-packages (from matplotlib->assistant-skill-analysis>=2.0.1) (3.0.4)\n",
      "Requirement already satisfied: pillow>=6.2.0 in /opt/conda/envs/Python-3.9/lib/python3.9/site-packages (from matplotlib->assistant-skill-analysis>=2.0.1) (9.0.1)\n",
      "Requirement already satisfied: kiwisolver>=1.0.1 in /opt/conda/envs/Python-3.9/lib/python3.9/site-packages (from matplotlib->assistant-skill-analysis>=2.0.1) (1.3.1)\n",
      "Requirement already satisfied: regex>=2021.8.3 in /opt/conda/envs/Python-3.9/lib/python3.9/site-packages (from nltk->assistant-skill-analysis>=2.0.1) (2021.11.2)\n",
      "Requirement already satisfied: click in /opt/conda/envs/Python-3.9/lib/python3.9/site-packages (from nltk->assistant-skill-analysis>=2.0.1) (8.0.4)\n",
      "Requirement already satisfied: pytz>=2017.3 in /opt/conda/envs/Python-3.9/lib/python3.9/site-packages (from pandas->assistant-skill-analysis>=2.0.1) (2021.3)\n",
      "Requirement already satisfied: qtpy in /opt/conda/envs/Python-3.9/lib/python3.9/site-packages (from qtconsole->jupyter->assistant-skill-analysis>=2.0.1) (1.10.0)\n",
      "Building wheels for collected packages: ibm-watson\n",
      "  Building wheel for ibm-watson (PEP 517) ... \u001b[?25ldone\n",
      "\u001b[?25h  Created wheel for ibm-watson: filename=ibm_watson-6.0.0-py3-none-any.whl size=336791 sha256=994014fe58e89863da903ccf58f5bf756a5ab355cbf497896614169059513fc5\n",
      "  Stored in directory: /tmp/wsuser/.cache/pip/wheels/d1/cd/2c/b423c19d8590c90ff21522a4be4b88b30e574b6f6a2b8cb557\n",
      "Successfully built ibm-watson\n",
      "Installing collected packages: murmurhash, cymem, wasabi, srsly, preshed, plac, catalogue, blis, websocket-client, thinc, spacy, nltk, ibm-watson, assistant-skill-analysis\n",
      "Successfully installed assistant-skill-analysis-2.0.1 blis-0.7.8 catalogue-1.0.0 cymem-2.0.6 ibm-watson-6.0.0 murmurhash-1.0.7 nltk-3.7 plac-1.1.3 preshed-3.0.6 spacy-2.3.7 srsly-1.0.5 thinc-7.4.5 wasabi-0.10.1 websocket-client-1.1.0\n"
     ]
    }
   ],
   "source": [
    "!pip install --index-url https://pypi.python.org/simple  -U \"assistant-skill-analysis>=2.0.1\""
   ]
  },
  {
   "cell_type": "code",
   "execution_count": 2,
   "metadata": {},
   "outputs": [
    {
     "name": "stderr",
     "output_type": "stream",
     "text": [
      "[nltk_data] Downloading package stopwords to /home/wsuser/nltk_data...\n",
      "[nltk_data]   Unzipping corpora/stopwords.zip.\n",
      "[nltk_data] Downloading package punkt to /home/wsuser/nltk_data...\n",
      "[nltk_data]   Unzipping tokenizers/punkt.zip.\n"
     ]
    }
   ],
   "source": [
    "# visualize\n",
    "\n",
    "from IPython.display import Markdown, display, HTML\n",
    "import warnings\n",
    "warnings.filterwarnings('ignore')\n",
    "\n",
    "# Standard python libraries\n",
    "import sys, os\n",
    "import json\n",
    "import importlib\n",
    "from collections import Counter\n",
    "\n",
    "# External python libraries\n",
    "import pandas as pd\n",
    "import numpy as np\n",
    "import nltk\n",
    "nltk.download('stopwords')\n",
    "nltk.download('punkt')\n",
    "import ibm_watson\n",
    "\n",
    "# Internal python libraries\n",
    "from assistant_skill_analysis.utils import skills_util, lang_utils\n",
    "from assistant_skill_analysis.highlighting import highlighter\n",
    "from assistant_skill_analysis.data_analysis import summary_generator\n",
    "from assistant_skill_analysis.data_analysis import divergence_analyzer\n",
    "from assistant_skill_analysis.data_analysis import similarity_analyzer\n",
    "from assistant_skill_analysis.term_analysis import chi2_analyzer\n",
    "from assistant_skill_analysis.term_analysis import keyword_analyzer\n",
    "from assistant_skill_analysis.term_analysis import entity_analyzer\n",
    "from assistant_skill_analysis.confidence_analysis import confidence_analyzer\n",
    "from assistant_skill_analysis.inferencing import inferencer\n",
    "from assistant_skill_analysis.experimentation import data_manipulator"
   ]
  },
  {
   "cell_type": "markdown",
   "metadata": {},
   "source": [
    "### Assistant Settings\n",
    "Please set values for the variables in the cell below to configure this notebook.\n",
    "\n",
    "- **LANGUAGE_CODE:** language code correspond to your workspace data, supported languages: **en, fr, de, es, cs, it, pt**\n",
    "\n",
    "- **ASSISTANT_ID:** id of the Watson Assistant service instance\n",
    "\n",
    "- **iam_apikey:** IAM access tokens for the assistant instance\n",
    "\n",
    "- **data center:** hosted location of the Watson Assistant service instance. \n",
    "\n",
    "Reference: https://cloud.ibm.com/apidocs/assistant-v2#authentication\n"
   ]
  },
  {
   "cell_type": "code",
   "execution_count": 52,
   "metadata": {},
   "outputs": [
    {
     "name": "stdout",
     "output_type": "stream",
     "text": [
      "Please enter apikey: ········\n",
      "Please enter assistant-id: ········\n"
     ]
    }
   ],
   "source": [
    "# language\n",
    "\n",
    "LANGUAGE_CODE = \"en\"\n",
    "\n",
    "lang_util = lang_utils.LanguageUtility(LANGUAGE_CODE)\n",
    "\n",
    "# apikey and assisant ID: By default we only need the IAM API Key & assisant ID\n",
    "\n",
    "# If you run the notebook regularly you can uncomment the two lines below\n",
    "# & comment out the line after it\n",
    "#iam_apikey = '###'\n",
    "#ASSISTANT_ID = '###'\n",
    "\n",
    "iam_apikey, _, ASSISTANT_ID = skills_util.input_credentials(input_apikey=True,input_workspace_id=False,input_assistant_id=True)\n",
    "\n",
    "# If you do not have IAM based API Keys\n",
    "# but have access to a Username, Password\n",
    "# You can use username and password for authentication purpose and comment out iam_apikey\n",
    "# username = 'apikey'\n",
    "# password = '###'\n",
    "\n",
    "\n",
    "# choose a datacenter to use\n",
    "datacenters = {\n",
    "    'dallas': ('https://api.us-south.assistant.watson.cloud.ibm.com', 'https://iam.cloud.ibm.com/identity/token'),\n",
    "    'washington': ('https://api.us-east.assistant.watson.cloud.ibm.com',     'https://iam.cloud.ibm.com/identity/token'),\n",
    "    'frankfurt' : ('https://api.eu-de.assistant.watson.cloud.ibm.com',     'https://iam.cloud.ibm.com/identity/token'),\n",
    "    'sydney'    : ('https://api.au-syd.assistant.watson.cloud.ibm.com',     'https://iam.cloud.ibm.com/identity/token'),\n",
    "    'tokyo'     : ('https://api.jp-tok.assistant.watson.cloud.ibm.com',     'https://iam.cloud.ibm.com/identity/token'),\n",
    "    'london'    : ('https://api.eu-gb.assistant.watson.cloud.ibm.com',     'https://iam.cloud.ibm.com/identity/token'),\n",
    "}\n",
    "\n",
    "URL, authenticator_url = datacenters['dallas']"
   ]
  },
  {
   "cell_type": "markdown",
   "metadata": {},
   "source": [
    "## Table of contents\n",
    "\n",
    "1. [Part 1: Prepare the training data](#part1)<br>\n",
    "2. [Part 2: Prepare the test data](#part2)<br>\n",
    "3. [Part 3: Perform advanced analysis](#part3)<br>\n",
    "4. [Part 4: Summary](#part4)<br>"
   ]
  },
  {
   "cell_type": "markdown",
   "metadata": {},
   "source": [
    "<a id='part1'></a>\n",
    "# Part 1: Prepare the training data\n",
    "1.1 [Set up access to the training data](#part1.1)<br>\n",
    "1.2 [Process the action skill training data](#part1.2)<br>\n",
    "1.3 [Analyze data distribution](#part1.3)<br>\n",
    "1.4 [Perform a correlation analysis](#part1.4)<br>\n",
    "1.5 [Visualize terms using a heat map](#part1.5)<br>\n",
    "1.6 [Ambiguity in the training data](#part1.6)<br>"
   ]
  },
  {
   "cell_type": "markdown",
   "metadata": {},
   "source": [
    "<a id='part1.1'></a>\n",
    "## 1.1 Set up access to the training data"
   ]
  },
  {
   "cell_type": "markdown",
   "metadata": {},
   "source": [
    "### 1.1.1 Download sample data\n",
    "\n",
    "The sample data used in this notebook are:\n",
    "\n",
    "- [Customer-Care-Sample-Skill-action.json](https://github.com/IBMDataScience/sample-notebooks/blob/master/Files/Customer-Care-Sample-Skill-action.json), a data with sample customer comments/utterances.\n",
    "- [test_set.csv](https://github.com/IBMDataScience/sample-notebooks/blob/master/Files/test_set.csv), a new test set of utterances to check the WA analysis model.\n",
    "\n",
    "Please download the files and upload them into your COS bucket or replace the files with your own data."
   ]
  },
  {
   "cell_type": "code",
   "execution_count": 18,
   "metadata": {},
   "outputs": [],
   "source": [
    "from botocore.client import Config\n",
    "import ibm_boto3\n",
    "\n",
    "# Please download the workspace json from UI, then upload it to your COS storage\n",
    "ENDPOINT_URL = 'https://s3.us-east.cloud-object-storage.appdomain.cloud' # change this based on the region of your cos bucket \n",
    "\n",
    "\n",
    "# please fill in the details here:\n",
    "COS_API_KEY_ID = ''\n",
    "RESOURCE_INSTANCE_ID = ''\n",
    "IBM_COS_BUCKET = ''\n",
    "IBM_COS_FILE_KEY = 'Customer-Care-Sample-Skill-action.json'\n",
    "\n",
    "\n",
    "cos_client = ibm_boto3.client(service_name='s3',\n",
    "    ibm_api_key_id=COS_API_KEY_ID,\n",
    "    ibm_service_instance_id = RESOURCE_INSTANCE_ID,\n",
    "    config=Config(signature_version='oauth'),\n",
    "    endpoint_url=ENDPOINT_URL)\n",
    "\n",
    "body = cos_client.get_object(Bucket=IBM_COS_BUCKET,Key=IBM_COS_FILE_KEY)['Body']\n"
   ]
  },
  {
   "cell_type": "code",
   "execution_count": 19,
   "metadata": {},
   "outputs": [
    {
     "data": {
      "text/markdown": [
       "### Sample of Utterances & Intents"
      ],
      "text/plain": [
       "<IPython.core.display.Markdown object>"
      ]
     },
     "metadata": {},
     "output_type": "display_data"
    },
    {
     "data": {
      "text/html": [
       "<table border=\"1\" class=\"dataframe\">\n",
       "  <thead>\n",
       "    <tr style=\"text-align: right;\">\n",
       "      <th>utterance</th>\n",
       "      <th>intent</th>\n",
       "      <th>tokens</th>\n",
       "    </tr>\n",
       "  </thead>\n",
       "  <tbody>\n",
       "    <tr>\n",
       "      <td>i prefer a face to face visit</td>\n",
       "      <td>Schedule An Appointment</td>\n",
       "      <td>[i, prefer, a, face, to, face, visit]</td>\n",
       "    </tr>\n",
       "    <tr>\n",
       "      <td>what is the opening time for the washington store</td>\n",
       "      <td>What are your hours?</td>\n",
       "      <td>[what, is, the, open, time, for, the, washington, store]</td>\n",
       "    </tr>\n",
       "    <tr>\n",
       "      <td>i need help with find a store</td>\n",
       "      <td>Where are you located?</td>\n",
       "      <td>[i, need, help, with, find, a, store]</td>\n",
       "    </tr>\n",
       "    <tr>\n",
       "      <td>what time do you close on sunday</td>\n",
       "      <td>What are your hours?</td>\n",
       "      <td>[what, time, do, you, close, on, sunday]</td>\n",
       "    </tr>\n",
       "    <tr>\n",
       "      <td>please suggest route from times square</td>\n",
       "      <td>Where are you located?</td>\n",
       "      <td>[pleas, suggest, rout, from, time, squar]</td>\n",
       "    </tr>\n",
       "    <tr>\n",
       "      <td>when can i meet with one of your employees at your store</td>\n",
       "      <td>Schedule An Appointment</td>\n",
       "      <td>[when, can, i, meet, with, one, of, your, employe, at, your, store]</td>\n",
       "    </tr>\n",
       "    <tr>\n",
       "      <td>thanks</td>\n",
       "      <td>Thank you</td>\n",
       "      <td>[thank]</td>\n",
       "    </tr>\n",
       "    <tr>\n",
       "      <td>bye</td>\n",
       "      <td>Goodbye</td>\n",
       "      <td>[bye]</td>\n",
       "    </tr>\n",
       "    <tr>\n",
       "      <td>does the store in the city center opens till 8pm on weekends</td>\n",
       "      <td>What are your hours?</td>\n",
       "      <td>[doe, the, store, in, the, citi, center, open, till, 8pm, on, weekend]</td>\n",
       "    </tr>\n",
       "    <tr>\n",
       "      <td>will you open for christmas</td>\n",
       "      <td>What are your hours?</td>\n",
       "      <td>[will, you, open, for, christma]</td>\n",
       "    </tr>\n",
       "  </tbody>\n",
       "</table>"
      ],
      "text/plain": [
       "<IPython.core.display.HTML object>"
      ]
     },
     "metadata": {},
     "output_type": "display_data"
    }
   ],
   "source": [
    "# load workspace json\n",
    "workspace_json = json.loads(body.read())\n",
    "\n",
    "# Extract user workspace\n",
    "workspace_pd, workspace_vocabulary, entity_details, intent_to_action_mapping = skills_util.extract_workspace_data(workspace_json, language_util=lang_util)\n",
    "entities_list = [item['entity'] for item in entity_details]\n",
    "\n",
    "\n",
    "display(Markdown(\"### Sample of Utterances & Intents\"))\n",
    "display(HTML(workspace_pd.sample(n = len(workspace_pd) if len(workspace_pd)<10 else 10)\n",
    "             .to_html(index=False)))"
   ]
  },
  {
   "cell_type": "markdown",
   "metadata": {},
   "source": [
    "<a id='part1.2'></a>\n",
    "## 1.2 Process the action skill training data\n",
    "\n",
    "Generate summary statistics related to the given skill and workspace."
   ]
  },
  {
   "cell_type": "code",
   "execution_count": 20,
   "metadata": {},
   "outputs": [
    {
     "data": {
      "text/markdown": [
       "### Summary Statistics"
      ],
      "text/plain": [
       "<IPython.core.display.Markdown object>"
      ]
     },
     "metadata": {},
     "output_type": "display_data"
    },
    {
     "data": {
      "text/html": [
       "<div>\n",
       "<style scoped>\n",
       "    .dataframe tbody tr th:only-of-type {\n",
       "        vertical-align: middle;\n",
       "    }\n",
       "\n",
       "    .dataframe tbody tr th {\n",
       "        vertical-align: top;\n",
       "    }\n",
       "\n",
       "    .dataframe thead th {\n",
       "        text-align: right;\n",
       "    }\n",
       "</style>\n",
       "<table border=\"1\" class=\"dataframe\">\n",
       "  <thead>\n",
       "    <tr style=\"text-align: right;\">\n",
       "      <th></th>\n",
       "      <th>Data Characteristic</th>\n",
       "      <th>Value</th>\n",
       "    </tr>\n",
       "  </thead>\n",
       "  <tbody>\n",
       "    <tr>\n",
       "      <th>1</th>\n",
       "      <td>Total User Examples</td>\n",
       "      <td>117</td>\n",
       "    </tr>\n",
       "    <tr>\n",
       "      <th>2</th>\n",
       "      <td>Unique Intents</td>\n",
       "      <td>7</td>\n",
       "    </tr>\n",
       "    <tr>\n",
       "      <th>3</th>\n",
       "      <td>Average User Examples per Intent</td>\n",
       "      <td>17</td>\n",
       "    </tr>\n",
       "    <tr>\n",
       "      <th>4</th>\n",
       "      <td>Standard Deviation from Average</td>\n",
       "      <td>14</td>\n",
       "    </tr>\n",
       "    <tr>\n",
       "      <th>5</th>\n",
       "      <td>Total Number of Entities</td>\n",
       "      <td>7</td>\n",
       "    </tr>\n",
       "  </tbody>\n",
       "</table>\n",
       "</div>"
      ],
      "text/plain": [
       "                Data Characteristic  Value\n",
       "1               Total User Examples    117\n",
       "2                    Unique Intents      7\n",
       "3  Average User Examples per Intent     17\n",
       "4   Standard Deviation from Average     14\n",
       "5          Total Number of Entities      7"
      ]
     },
     "metadata": {},
     "output_type": "display_data"
    }
   ],
   "source": [
    "summary_generator.generate_summary_statistics(workspace_pd, entities_list)"
   ]
  },
  {
   "cell_type": "markdown",
   "metadata": {},
   "source": [
    "<a id='part1.3'></a>\n",
    "## 1.3 Analyze the data distribution\n",
    "\n",
    "- [Analyze class imbalance](#imbalance)\n",
    "- [List the distribution of user examples by intent](#distribution)\n",
    "- [Actions for class imbalance](#actionimbalance)"
   ]
  },
  {
   "cell_type": "markdown",
   "metadata": {},
   "source": [
    "### Analyze class imbalance<a id='imbalance'></a>\n",
    "\n",
    "Analyze whether the data set contains class imbalance by checking whether the largest intent contains less than double the number of user examples contained in the smallest intent. If there is an imbalance it does not necessarily indicate an issue; but you should review the [actions](#actionimbalance) section below."
   ]
  },
  {
   "cell_type": "code",
   "execution_count": 21,
   "metadata": {},
   "outputs": [
    {
     "data": {
      "text/markdown": [
       "### <font style='color:rgb(165, 34, 34);'> Class Imbalance Detected         </font>"
      ],
      "text/plain": [
       "<IPython.core.display.Markdown object>"
      ]
     },
     "metadata": {},
     "output_type": "display_data"
    },
    {
     "data": {
      "text/markdown": [
       "- Data could be potentially biased towards intents with more user         examples"
      ],
      "text/plain": [
       "<IPython.core.display.Markdown object>"
      ]
     },
     "metadata": {},
     "output_type": "display_data"
    },
    {
     "data": {
      "text/markdown": [
       "- E.g. Intent < What are your hours? > has < 47 > user examples while intent < Fallback > has         just < 5 > user examples "
      ],
      "text/plain": [
       "<IPython.core.display.Markdown object>"
      ]
     },
     "metadata": {},
     "output_type": "display_data"
    }
   ],
   "source": [
    "class_imb_flag = summary_generator.class_imbalance_analysis(workspace_pd)"
   ]
  },
  {
   "cell_type": "markdown",
   "metadata": {},
   "source": [
    "### List the distribution of user examples by intent<a id='distribution'></a>\n",
    "Display the distribution of intents versus the number of examples per intent (sorted by the number of examples per intent) below. Ideally you should not have large variations in terms of number of user examples for various intents. "
   ]
  },
  {
   "cell_type": "code",
   "execution_count": 22,
   "metadata": {},
   "outputs": [
    {
     "data": {
      "text/markdown": [
       "## <p style=\"text-align: center;\">Sorted Distribution of User Examples                      per Intent</p>"
      ],
      "text/plain": [
       "<IPython.core.display.Markdown object>"
      ]
     },
     "metadata": {},
     "output_type": "display_data"
    },
    {
     "data": {
      "image/png": "[encoded data removed]",
      "text/plain": [
       "<Figure size 1080x720 with 1 Axes>"
      ]
     },
     "metadata": {},
     "output_type": "display_data"
    }
   ],
   "source": [
    "summary_generator.scatter_plot_intent_dist(workspace_pd)"
   ]
  },
  {
   "cell_type": "code",
   "execution_count": 23,
   "metadata": {},
   "outputs": [
    {
     "data": {
      "text/markdown": [
       "### Sorted Distribution of User Examples per Intent"
      ],
      "text/plain": [
       "<IPython.core.display.Markdown object>"
      ]
     },
     "metadata": {},
     "output_type": "display_data"
    },
    {
     "data": {
      "text/html": [
       "<div>\n",
       "<style scoped>\n",
       "    .dataframe tbody tr th:only-of-type {\n",
       "        vertical-align: middle;\n",
       "    }\n",
       "\n",
       "    .dataframe tbody tr th {\n",
       "        vertical-align: top;\n",
       "    }\n",
       "\n",
       "    .dataframe thead th {\n",
       "        text-align: right;\n",
       "    }\n",
       "</style>\n",
       "<table border=\"1\" class=\"dataframe\">\n",
       "  <thead>\n",
       "    <tr style=\"text-align: right;\">\n",
       "      <th></th>\n",
       "      <th>Intent</th>\n",
       "      <th>Number of User Examples</th>\n",
       "    </tr>\n",
       "  </thead>\n",
       "  <tbody>\n",
       "    <tr>\n",
       "      <th>1</th>\n",
       "      <td>Fallback</td>\n",
       "      <td>5</td>\n",
       "    </tr>\n",
       "    <tr>\n",
       "      <th>2</th>\n",
       "      <td>Goodbye</td>\n",
       "      <td>6</td>\n",
       "    </tr>\n",
       "    <tr>\n",
       "      <th>3</th>\n",
       "      <td>What can I do?</td>\n",
       "      <td>8</td>\n",
       "    </tr>\n",
       "    <tr>\n",
       "      <th>4</th>\n",
       "      <td>Thank you</td>\n",
       "      <td>8</td>\n",
       "    </tr>\n",
       "    <tr>\n",
       "      <th>5</th>\n",
       "      <td>Schedule An Appointment</td>\n",
       "      <td>20</td>\n",
       "    </tr>\n",
       "    <tr>\n",
       "      <th>6</th>\n",
       "      <td>Where are you located?</td>\n",
       "      <td>23</td>\n",
       "    </tr>\n",
       "    <tr>\n",
       "      <th>7</th>\n",
       "      <td>What are your hours?</td>\n",
       "      <td>47</td>\n",
       "    </tr>\n",
       "  </tbody>\n",
       "</table>\n",
       "</div>"
      ],
      "text/plain": [
       "                    Intent  Number of User Examples\n",
       "1                 Fallback                        5\n",
       "2                  Goodbye                        6\n",
       "3           What can I do?                        8\n",
       "4                Thank you                        8\n",
       "5  Schedule An Appointment                       20\n",
       "6   Where are you located?                       23\n",
       "7     What are your hours?                       47"
      ]
     },
     "metadata": {},
     "output_type": "display_data"
    }
   ],
   "source": [
    "summary_generator.show_user_examples_per_intent(workspace_pd)"
   ]
  },
  {
   "cell_type": "markdown",
   "metadata": {},
   "source": [
    "### Actions for class imbalance<a id='actionimbalance'></a>\n",
    "\n",
    "Class imbalance will not always lead to lower accuracy, which means that all intents (classes) do not need to have the same number of examples.\n",
    "\n",
    "Given a hypothetical chatbot related to banking:<br>\n",
    "\n",
    "- For intents like `updateBankAccount` and `addNewAccountHolder` where the semantics difference between them is subtler, the number of examples per intent needs to be somewhat balanced otherwise the classifier might favor the intent with the higher number of examples.\n",
    "- For intents like `greetings` that are semantically distinct from other intents like `updateBankAccount`, it may be acceptable for it to have fewer examples per intent and still be easy for the intent detector to classify.\n",
    "\n",
    "\n",
    "\n",
    "If the intent classification accuracy is lower than expected during testing, you should re-examine the distribution analysis.  \n",
    "\n",
    "With regard to sorted distribution of examples per intent, if the sorted number of user examples varies a lot across different intents, it can be a potential source of bias for intent detection. Large imbalances in general should be avoided. This can potentially lead to lower accuracy. If your graph displays this characteristic, this could be a source of error.\n",
    "\n",
    "For further guidance on adding more examples to help balance out your distribution, refer to \n",
    "<a href=\"https://cloud.ibm.com/docs/services/assistant?topic=assistant-intent-recommendations#intent-recommendations-get-example-recommendations\" target=\"_blank\" rel=\"noopener no referrer\">Intent Example Recommendation</a>."
   ]
  },
  {
   "cell_type": "markdown",
   "metadata": {},
   "source": [
    "<a id='part1.4'></a>\n",
    "## 1.4  Perform correlation analysis\n",
    "\n",
    "- [Retrieve the most correlated unigrams and bigrams for each intent](#retrieve)\n",
    "- [Actions for anomalous correlations](#anomalous)"
   ]
  },
  {
   "cell_type": "markdown",
   "metadata": {},
   "source": [
    "### Retrieve the most correlated unigrams and bigrams for each intent<a id='retrieve'></a>\n",
    "\n",
    "Perform a chi square significance test using count features to determine the terms that are most correlated with each intent in the data set. \n",
    "\n",
    "A `unigram` is a single word, while a `bigram` is two consecutive words from within the training data. For example, if you have a sentence like `Thank you for your service`, each of the words in the sentence are considered unigrams while terms like `Thank you`, `your service` are considered bigrams.\n",
    "\n",
    "Terms such as `hi`, `hello` correlated with a `greeting` intent are reasonable. But terms such as `table`, `chair` correlated with the `greeting` intent are anomalous. A scan of the most correlated unigrams & bigrams for each intent can help you spot potential anomalies within your training data.\n",
    "\n",
    "**Note**: We ignore the following common words (\\\"stop words\\\") from consideration `an, a, in, on, be, or, of, a, and, can, is, to, the, i`"
   ]
  },
  {
   "cell_type": "code",
   "execution_count": 24,
   "metadata": {},
   "outputs": [
    {
     "data": {
      "text/markdown": [
       "## Chi-squared Analysis"
      ],
      "text/plain": [
       "<IPython.core.display.Markdown object>"
      ]
     },
     "metadata": {},
     "output_type": "display_data"
    },
    {
     "data": {
      "text/html": [
       "<div>\n",
       "<style scoped>\n",
       "    .dataframe tbody tr th:only-of-type {\n",
       "        vertical-align: middle;\n",
       "    }\n",
       "\n",
       "    .dataframe tbody tr th {\n",
       "        vertical-align: top;\n",
       "    }\n",
       "\n",
       "    .dataframe thead th {\n",
       "        text-align: right;\n",
       "    }\n",
       "</style>\n",
       "<table border=\"1\" class=\"dataframe\">\n",
       "  <thead>\n",
       "    <tr style=\"text-align: right;\">\n",
       "      <th></th>\n",
       "      <th>Intent</th>\n",
       "      <th>Correlated Unigrams</th>\n",
       "      <th>Correlated Bigrams</th>\n",
       "    </tr>\n",
       "  </thead>\n",
       "  <tbody>\n",
       "    <tr>\n",
       "      <th>1</th>\n",
       "      <td>What are your hours?</td>\n",
       "      <td>time, close, hour, are, open</td>\n",
       "      <td>what time, what are, store open, you close, you open</td>\n",
       "    </tr>\n",
       "    <tr>\n",
       "      <th>2</th>\n",
       "      <td>Where are you located?</td>\n",
       "      <td>pleas, locat, where, find, get</td>\n",
       "      <td>find store, where are, get your, give me, how do</td>\n",
       "    </tr>\n",
       "    <tr>\n",
       "      <th>3</th>\n",
       "      <td>Schedule An Appointment</td>\n",
       "      <td>my, meet, face, make, appoint</td>\n",
       "      <td>come for, d like, like make, face face, make appoint</td>\n",
       "    </tr>\n",
       "    <tr>\n",
       "      <th>4</th>\n",
       "      <td>Thank you</td>\n",
       "      <td>mani, it, much, appreci, thank</td>\n",
       "      <td>you veri, mani thank, appreci it, much appreci, thank you</td>\n",
       "    </tr>\n",
       "    <tr>\n",
       "      <th>5</th>\n",
       "      <td>What can I do?</td>\n",
       "      <td>me, decid, say, assist, help</td>\n",
       "      <td>what do, what say, you assist, you help, help me</td>\n",
       "    </tr>\n",
       "    <tr>\n",
       "      <th>6</th>\n",
       "      <td>Goodbye</td>\n",
       "      <td>ciao, good, see, ya, bye</td>\n",
       "      <td>good bye, see ya, so long</td>\n",
       "    </tr>\n",
       "    <tr>\n",
       "      <th>7</th>\n",
       "      <td>Fallback</td>\n",
       "      <td>call, connect, human, speak, agent</td>\n",
       "      <td>agent help, call agent, connect agent, speak human, like speak</td>\n",
       "    </tr>\n",
       "  </tbody>\n",
       "</table>\n",
       "</div>"
      ],
      "text/plain": [
       "                    Intent                 Correlated Unigrams  \\\n",
       "1     What are your hours?        time, close, hour, are, open   \n",
       "2   Where are you located?      pleas, locat, where, find, get   \n",
       "3  Schedule An Appointment       my, meet, face, make, appoint   \n",
       "4                Thank you      mani, it, much, appreci, thank   \n",
       "5           What can I do?        me, decid, say, assist, help   \n",
       "6                  Goodbye            ciao, good, see, ya, bye   \n",
       "7                 Fallback  call, connect, human, speak, agent   \n",
       "\n",
       "                                               Correlated Bigrams  \n",
       "1            what time, what are, store open, you close, you open  \n",
       "2                find store, where are, get your, give me, how do  \n",
       "3            come for, d like, like make, face face, make appoint  \n",
       "4       you veri, mani thank, appreci it, much appreci, thank you  \n",
       "5                what do, what say, you assist, you help, help me  \n",
       "6                                       good bye, see ya, so long  \n",
       "7  agent help, call agent, connect agent, speak human, like speak  "
      ]
     },
     "metadata": {},
     "output_type": "display_data"
    }
   ],
   "source": [
    "unigram_intent_dict, bigram_intent_dict = chi2_analyzer.get_chi2_analysis(workspace_pd, lang_util=lang_util)"
   ]
  },
  {
   "cell_type": "markdown",
   "metadata": {},
   "source": [
    "### Actions for anomalous correlations<a id='anomalous'></a>\n",
    "\n",
    "If you identify unusual or anomalous correlated terms such as: numbers, names and so on, which should not be correlated with an intent, consider the following:\n",
    "  \n",
    "- **Case 1** : If you see names appearing amongst correlated unigrams or bigrams, add more variation of names so no specific names will be correlated  \n",
    "- **Case 2** : If you see specific numbers like 1234 amongst correlated unigrams or bigrams and these are not helpful to the use case, remove or mask these numbers from the examples\n",
    "- **Case 3** : If you see terms which should never be correlated to that specific intent, consider adding or removing terms/examples so that domain specific terms are correlated with the correct intent"
   ]
  },
  {
   "cell_type": "markdown",
   "metadata": {},
   "source": [
    "<a id='part1.5'></a>\n",
    "## 1.5 Visualize terms using a heat map\n",
    "\n",
    "- [Display term analysis for a custom intent list](#customintent)\n",
    "- [Actions for anomalous terms in the heat map](#heatmap)\n",
    "\n",
    "A heat map of terms is a method to visualize terms or words that frequently occur within each intent. Rows are the terms, and columns are the intents. \n",
    "\n",
    "The code below displays the top 30 intents with the highest number of user examples in the analysis. This number can be changed if needed."
   ]
  },
  {
   "cell_type": "code",
   "execution_count": 25,
   "metadata": {},
   "outputs": [
    {
     "data": {
      "text/markdown": [
       "## <p style=\"text-align: center;\"> Token Frequency per Intent </p>"
      ],
      "text/plain": [
       "<IPython.core.display.Markdown object>"
      ]
     },
     "metadata": {},
     "output_type": "display_data"
    },
    {
     "data": {
      "image/png": "[encoded data removed]",
      "text/plain": [
       "<Figure size 1440x1440 with 2 Axes>"
      ]
     },
     "metadata": {},
     "output_type": "display_data"
    }
   ],
   "source": [
    "INTENTS_TO_DISPLAY = 30  # Total number of intents for display\n",
    "MAX_TERMS_DISPLAY = 30  # Total number of terms to display\n",
    "\n",
    "intent_list = []\n",
    "keyword_analyzer.seaborn_heatmap(workspace_pd, lang_util, INTENTS_TO_DISPLAY, MAX_TERMS_DISPLAY, intent_list)"
   ]
  },
  {
   "cell_type": "markdown",
   "metadata": {},
   "source": [
    "### Display term analysis for a custom intent list<a id='customintent'></a>\n",
    "\n",
    "If you wish to see term analysis for specific intents, feel free to add those intents to the intent list. This generates a custom term heatmap. The code below displays the top 20 terms, but this can be changed if needed."
   ]
  },
  {
   "cell_type": "code",
   "execution_count": 26,
   "metadata": {},
   "outputs": [
    {
     "data": {
      "text/markdown": [
       "## <p style=\"text-align: center;\"> Token Frequency per Intent </p>"
      ],
      "text/plain": [
       "<IPython.core.display.Markdown object>"
      ]
     },
     "metadata": {},
     "output_type": "display_data"
    },
    {
     "data": {
      "image/png": "[encoded data removed]",
      "text/plain": [
       "<Figure size 1440x1440 with 2 Axes>"
      ]
     },
     "metadata": {},
     "output_type": "display_data"
    }
   ],
   "source": [
    "intent_list = workspace_pd['intent'].unique().tolist()\n",
    "# intent_list = []\n",
    "MAX_TERMS_DISPLAY = 20  # Total number of terms to display\n",
    "\n",
    "if intent_list: \n",
    "    keyword_analyzer.seaborn_heatmap(workspace_pd, lang_util, INTENTS_TO_DISPLAY, MAX_TERMS_DISPLAY, intent_list)"
   ]
  },
  {
   "cell_type": "markdown",
   "metadata": {},
   "source": [
    "### Actions for anomalous terms in the heat map<a id='heatmap'></a>\n",
    "\n",
    "If you notice any terms or words which should not be frequently present within an intent, consider modifying examples in that intent."
   ]
  },
  {
   "cell_type": "markdown",
   "metadata": {},
   "source": [
    "<a id='part1.6'></a>\n",
    "## 1.6 Ambiguity in the training data\n",
    "\n",
    "- [Uncover ambiguous utterances across intents](#uncover)\n",
    "- [Actions for ambiguity in the training data](#ambiguityaction)\n",
    "\n",
    "Run the code blocks below to uncover possibly ambiguous terms based on feature correlation.\n",
    "\n",
    "Based on the chi-square analysis above, generate intent pairs which have overlapping correlated unigrams and bigrams.\n",
    "This allows you to get a glimpse of which unigrams or bigrams might cause potential confusion with intent detection:"
   ]
  },
  {
   "cell_type": "markdown",
   "metadata": {},
   "source": [
    "#### A. Top intent pairs with overlapping correlated unigrams"
   ]
  },
  {
   "cell_type": "code",
   "execution_count": 27,
   "metadata": {},
   "outputs": [
    {
     "data": {
      "text/markdown": [
       "There is no ambiguity based on top 5 key terms in chi2 analysis"
      ],
      "text/plain": [
       "<IPython.core.display.Markdown object>"
      ]
     },
     "metadata": {},
     "output_type": "display_data"
    }
   ],
   "source": [
    "ambiguous_unigram_df = chi2_analyzer.get_confusing_key_terms(unigram_intent_dict)"
   ]
  },
  {
   "cell_type": "markdown",
   "metadata": {},
   "source": [
    "#### B. Top intent pairs with overlapping correlated bigrams"
   ]
  },
  {
   "cell_type": "code",
   "execution_count": 28,
   "metadata": {},
   "outputs": [
    {
     "data": {
      "text/markdown": [
       "There is no ambiguity based on top 5 key terms in chi2 analysis"
      ],
      "text/plain": [
       "<IPython.core.display.Markdown object>"
      ]
     },
     "metadata": {},
     "output_type": "display_data"
    }
   ],
   "source": [
    "ambiguous_bigram_df = chi2_analyzer.get_confusing_key_terms(bigram_intent_dict)"
   ]
  },
  {
   "cell_type": "markdown",
   "metadata": {},
   "source": [
    "#### C. Overlap checker for specific intents"
   ]
  },
  {
   "cell_type": "code",
   "execution_count": 29,
   "metadata": {},
   "outputs": [],
   "source": [
    "# Add specific intent or intent pairs for which you would like to see overlap\n",
    "intent1 = 'Where are you located?'\n",
    "intent2 = 'Fallback'\n",
    "chi2_analyzer.chi2_overlap_check(ambiguous_unigram_df,ambiguous_bigram_df,intent1,intent2)"
   ]
  },
  {
   "cell_type": "markdown",
   "metadata": {},
   "source": [
    "### Uncover ambiguous utterances across intents<a id='uncover'></a>\n",
    "The following analysis shows user examples that are similar but fall under different intents.  "
   ]
  },
  {
   "cell_type": "code",
   "execution_count": 30,
   "metadata": {},
   "outputs": [
    {
     "data": {
      "text/markdown": [
       "### There are no similar utterances within different Intent"
      ],
      "text/plain": [
       "<IPython.core.display.Markdown object>"
      ]
     },
     "metadata": {},
     "output_type": "display_data"
    }
   ],
   "source": [
    "similar_utterance_diff_intent_pd = similarity_analyzer.ambiguous_examples_analysis(workspace_pd, lang_util)"
   ]
  },
  {
   "cell_type": "markdown",
   "metadata": {},
   "source": [
    "### Actions for ambiguity in the training data<a id='ambiguityaction'></a>\n",
    "\n",
    "**Ambiguous intent pairs**  \n",
    "If you see terms which are correlated with more than 1 intent, review if this seems anomalous based on the use case for that intent. If it seems reasonable, it is probably not an issue.  \n",
    "\n",
    "**Ambiguous utterances across intents** \n",
    "- **Duplicate utterances**: For duplicate or almost identical utterances, remove those that seem unnecessary.\n",
    "- **Similar utterances**: For similar utterances, review the use case for those intents and make sure that they are not accidental additions caused by human error when the training data was created.  \n",
    "\n",
    "For more information about entity, refer to the <a href=\"https://cloud.ibm.com/docs/services/assistant/services/assistant?topic=assistant-entities\" target=\"_blank\" rel=\"noopener no referrer\">Entity Documentation</a>.\n",
    "\n",
    "For more in-depth analysis related to possible conflicts in your training data across intents, try the conflict detection feature in Watson Assistant. Refer to <br> <a href=\"https://cloud.ibm.com/docs/services/assistant?topic=assistant-intents#intents-resolve-conflicts\" target=\"_blank\" rel=\"noopener no referrer\">Conflict Resolution Documentation</a>."
   ]
  },
  {
   "cell_type": "markdown",
   "metadata": {},
   "source": [
    "<a id='part2'></a>\n",
    "# Part 2: Prepare the test data\n",
    "\n",
    "Analyze your existing Watson Assistant Action Skill with the help of a test set.\n",
    "\n",
    "2.1. [Obtain test data from Cloud Object Storage](#cos)<br>\n",
    "2.2. [Evaluate the test data](#evaluate) <br>\n",
    "2.3. [Analyze the test data](#testanalysis) <br>"
   ]
  },
  {
   "cell_type": "markdown",
   "metadata": {},
   "source": [
    "## 2.1 Obtain test data from Cloud Object Storage<a id='cos'></a>\n",
    "\n",
    "Upload a test set in tsv format. Each line in the file should have only `User_Input<tab>Intent`  \n",
    "\n",
    "For example:\n",
    "```\n",
    "hello how are you<tab>Greeting  \n",
    "I would like to talk to a human<tab>AgentHandoff  \n",
    "```"
   ]
  },
  {
   "cell_type": "code",
   "execution_count": 34,
   "metadata": {},
   "outputs": [
    {
     "data": {
      "text/markdown": [
       "### Random Test Sample"
      ],
      "text/plain": [
       "<IPython.core.display.Markdown object>"
      ]
     },
     "metadata": {},
     "output_type": "display_data"
    },
    {
     "data": {
      "text/html": [
       "<table border=\"1\" class=\"dataframe\">\n",
       "  <thead>\n",
       "    <tr style=\"text-align: right;\">\n",
       "      <th>utterance</th>\n",
       "      <th>intent</th>\n",
       "      <th>tokens</th>\n",
       "    </tr>\n",
       "  </thead>\n",
       "  <tbody>\n",
       "    <tr>\n",
       "      <td>i prefer a face to face visit  customer care appointments</td>\n",
       "      <td>SYSTEM_OUT_OF_DOMAIN</td>\n",
       "      <td>[i, prefer, a, face, to, face, visit, custom, care, appoint]</td>\n",
       "    </tr>\n",
       "    <tr>\n",
       "      <td>are you open on sunday  customer care store hours</td>\n",
       "      <td>SYSTEM_OUT_OF_DOMAIN</td>\n",
       "      <td>[are, you, open, on, sunday, custom, care, store, hour]</td>\n",
       "    </tr>\n",
       "    <tr>\n",
       "      <td>are you open on sundays   and if so what are the hours   customer care store hours</td>\n",
       "      <td>SYSTEM_OUT_OF_DOMAIN</td>\n",
       "      <td>[are, you, open, on, sunday, and, if, so, what, are, the, hour, custom, care, store, hour]</td>\n",
       "    </tr>\n",
       "    <tr>\n",
       "      <td>what are your hours  customer care store hours</td>\n",
       "      <td>SYSTEM_OUT_OF_DOMAIN</td>\n",
       "      <td>[what, are, your, hour, custom, care, store, hour]</td>\n",
       "    </tr>\n",
       "    <tr>\n",
       "      <td>find store  customer care store location</td>\n",
       "      <td>SYSTEM_OUT_OF_DOMAIN</td>\n",
       "      <td>[find, store, custom, care, store, locat]</td>\n",
       "    </tr>\n",
       "    <tr>\n",
       "      <td>cancel the request  cancel</td>\n",
       "      <td>SYSTEM_OUT_OF_DOMAIN</td>\n",
       "      <td>[cancel, the, request, cancel]</td>\n",
       "    </tr>\n",
       "    <tr>\n",
       "      <td>hey twin  general greetings</td>\n",
       "      <td>SYSTEM_OUT_OF_DOMAIN</td>\n",
       "      <td>[hey, twin, general, greet]</td>\n",
       "    </tr>\n",
       "    <tr>\n",
       "      <td>thank you  thanks</td>\n",
       "      <td>SYSTEM_OUT_OF_DOMAIN</td>\n",
       "      <td>[thank, you, thank]</td>\n",
       "    </tr>\n",
       "    <tr>\n",
       "      <td>do not want a robot   general connect to agent</td>\n",
       "      <td>SYSTEM_OUT_OF_DOMAIN</td>\n",
       "      <td>[do, not, want, a, robot, general, connect, to, agent]</td>\n",
       "    </tr>\n",
       "    <tr>\n",
       "      <td>what time are you closing today   customer care store hours</td>\n",
       "      <td>SYSTEM_OUT_OF_DOMAIN</td>\n",
       "      <td>[what, time, are, you, close, today, custom, care, store, hour]</td>\n",
       "    </tr>\n",
       "  </tbody>\n",
       "</table>"
      ],
      "text/plain": [
       "<IPython.core.display.HTML object>"
      ]
     },
     "metadata": {},
     "output_type": "display_data"
    }
   ],
   "source": [
    "# this will re-use the previous cos bucket credentials\n",
    "# please upload your test set to your COS bucket and input the file name here to download it\n",
    "\n",
    "IBM_COS_FILE_KEY_TEST_SET = 'test_set.csv'\n",
    "body = cos_client.get_object(Bucket=IBM_COS_BUCKET,Key=IBM_COS_FILE_KEY_TEST_SET)['Body']\n",
    "\n",
    "#Separator: Use '\\t' for tab separated data, ',' for comma separated data\n",
    "separator = \"\\t\"\n",
    "\n",
    "\n",
    "test_df = skills_util.process_test_set(body, lang_util, separator, cos=True)\n",
    "\n",
    "display(Markdown(\"### Random Test Sample\"))\n",
    "display(HTML(test_df.sample(n=min(10, len(test_df))).to_html(index=False)))"
   ]
  },
  {
   "cell_type": "markdown",
   "metadata": {},
   "source": [
    "## 2.2 Evaluate the test data<a id='evaluate'></a>\n",
    "These steps can take time if you have a large test set.  \n",
    "\n",
    "**<font color=red>Note</font>**: You will be charged for calls made from this notebook based on your Watson Assistant plan. The user_id will be the same for all message calls."
   ]
  },
  {
   "cell_type": "code",
   "execution_count": 35,
   "metadata": {},
   "outputs": [],
   "source": [
    "# Change Assistant API version if needed\n",
    "# Find Latest --> https://cloud.ibm.com/apidocs/assistant-v2#versioning\n",
    "API_VERSION = '2021-11-27'\n",
    "\n",
    "# For ICP(IBM Cloud Private), you can disable SSL verification by changing this to True\n",
    "DISABLE_SSL_VERTIFICATION = False \n",
    "\n",
    "conversation = skills_util.retrieve_conversation(iam_apikey=iam_apikey,\n",
    "                                                 url=URL,\n",
    "                                                 api_version=API_VERSION,\n",
    "                                                 authenticator_url=authenticator_url,\n",
    "                                                 sdk_version=\"V2\", # DO NOT CHANGE THIS ARG\n",
    "                                                )\n",
    "\n",
    "\n",
    "# conversation = skills_util.retrieve_conversation(username=username,\n",
    "#                                              password=password,                                                       \n",
    "#                                              url=URL,\n",
    "#                                              api_version=API_VERSION,\n",
    "#                                              sdk_version=\"V2\", # DO NOT CHANGE THIS ARG\n",
    "#                                              )\n",
    "\n",
    "\n",
    "conversation.set_disable_ssl_verification(DISABLE_SSL_VERTIFICATION)"
   ]
  },
  {
   "cell_type": "code",
   "execution_count": 36,
   "metadata": {},
   "outputs": [
    {
     "name": "stderr",
     "output_type": "stream",
     "text": [
      "100%|██████████| 53/53 [00:02<00:00, 23.59it/s]\n"
     ]
    }
   ],
   "source": [
    "THREAD_NUM = min(4, os.cpu_count() if os.cpu_count() else 1)\n",
    "\n",
    "full_results = inferencer.inference(conversation,\n",
    "                                    test_df,\n",
    "                                    max_thread=THREAD_NUM, \n",
    "                                    assistant_id=ASSISTANT_ID,\n",
    "                                    intent_to_action_mapping=intent_to_action_mapping\n",
    "                                   )"
   ]
  },
  {
   "cell_type": "markdown",
   "metadata": {},
   "source": [
    "<a id='part2.1'></a>\n",
    "## 2.3 Analyze the test data<a id='testanalysis'></a>\n",
    "\n",
    "- [Display an overview of the test data](#overview)\n",
    "- [Compare the test data and the training data](#compare)\n",
    "- [Determine the overall accuracy on the test set](#accuracy)\n",
    "- [Analyze the errors](#errors)"
   ]
  },
  {
   "cell_type": "markdown",
   "metadata": {},
   "source": [
    "### Display an overview of the test data<a id='overview'></a>"
   ]
  },
  {
   "cell_type": "code",
   "execution_count": 37,
   "metadata": {},
   "outputs": [
    {
     "data": {
      "text/markdown": [
       "### Summary Statistics"
      ],
      "text/plain": [
       "<IPython.core.display.Markdown object>"
      ]
     },
     "metadata": {},
     "output_type": "display_data"
    },
    {
     "data": {
      "text/html": [
       "<div>\n",
       "<style scoped>\n",
       "    .dataframe tbody tr th:only-of-type {\n",
       "        vertical-align: middle;\n",
       "    }\n",
       "\n",
       "    .dataframe tbody tr th {\n",
       "        vertical-align: top;\n",
       "    }\n",
       "\n",
       "    .dataframe thead th {\n",
       "        text-align: right;\n",
       "    }\n",
       "</style>\n",
       "<table border=\"1\" class=\"dataframe\">\n",
       "  <thead>\n",
       "    <tr style=\"text-align: right;\">\n",
       "      <th></th>\n",
       "      <th>Data Characteristic</th>\n",
       "      <th>Value</th>\n",
       "    </tr>\n",
       "  </thead>\n",
       "  <tbody>\n",
       "    <tr>\n",
       "      <th>1</th>\n",
       "      <td>Total User Examples</td>\n",
       "      <td>53</td>\n",
       "    </tr>\n",
       "    <tr>\n",
       "      <th>2</th>\n",
       "      <td>Unique Intents</td>\n",
       "      <td>1</td>\n",
       "    </tr>\n",
       "    <tr>\n",
       "      <th>3</th>\n",
       "      <td>Average User Examples per Intent</td>\n",
       "      <td>53</td>\n",
       "    </tr>\n",
       "    <tr>\n",
       "      <th>4</th>\n",
       "      <td>Standard Deviation from Average</td>\n",
       "      <td>0</td>\n",
       "    </tr>\n",
       "    <tr>\n",
       "      <th>5</th>\n",
       "      <td>Total Number of Entities</td>\n",
       "      <td>0</td>\n",
       "    </tr>\n",
       "  </tbody>\n",
       "</table>\n",
       "</div>"
      ],
      "text/plain": [
       "                Data Characteristic  Value\n",
       "1               Total User Examples     53\n",
       "2                    Unique Intents      1\n",
       "3  Average User Examples per Intent     53\n",
       "4   Standard Deviation from Average      0\n",
       "5          Total Number of Entities      0"
      ]
     },
     "metadata": {},
     "output_type": "display_data"
    },
    {
     "data": {
      "text/markdown": [
       "### Sorted Distribution of User Examples per Intent"
      ],
      "text/plain": [
       "<IPython.core.display.Markdown object>"
      ]
     },
     "metadata": {},
     "output_type": "display_data"
    },
    {
     "data": {
      "text/html": [
       "<div>\n",
       "<style scoped>\n",
       "    .dataframe tbody tr th:only-of-type {\n",
       "        vertical-align: middle;\n",
       "    }\n",
       "\n",
       "    .dataframe tbody tr th {\n",
       "        vertical-align: top;\n",
       "    }\n",
       "\n",
       "    .dataframe thead th {\n",
       "        text-align: right;\n",
       "    }\n",
       "</style>\n",
       "<table border=\"1\" class=\"dataframe\">\n",
       "  <thead>\n",
       "    <tr style=\"text-align: right;\">\n",
       "      <th></th>\n",
       "      <th>Intent</th>\n",
       "      <th>Number of User Examples</th>\n",
       "    </tr>\n",
       "  </thead>\n",
       "  <tbody>\n",
       "    <tr>\n",
       "      <th>1</th>\n",
       "      <td>SYSTEM_OUT_OF_DOMAIN</td>\n",
       "      <td>53</td>\n",
       "    </tr>\n",
       "  </tbody>\n",
       "</table>\n",
       "</div>"
      ],
      "text/plain": [
       "                 Intent  Number of User Examples\n",
       "1  SYSTEM_OUT_OF_DOMAIN                       53"
      ]
     },
     "metadata": {},
     "output_type": "display_data"
    }
   ],
   "source": [
    "summary_generator.generate_summary_statistics(test_df)\n",
    "summary_generator.show_user_examples_per_intent(test_df)"
   ]
  },
  {
   "cell_type": "markdown",
   "metadata": {},
   "source": [
    "### Compare the test data and the training data<a id='compare'></a>\n",
    "\n",
    "Ideally the test and training data distributions should be similar. The following metrics can help identify gaps between the test set and the training set:\n",
    "\n",
    "**1.**  The distribution of user examples per intent for the test data should be comparable to the training data   \n",
    "**2.**  The average length of user examples for test and training data should be comparable to the training data <br>\n",
    "**3.**  The vocabulary and phrasing of utterances in the test data should be comparable to the training data\n",
    "\n",
    "If your test data comprises of examples labelled from your logs, and the training data comprises of examples created by human subject matter experts, there may be discrepancies between what the virtual assistant designers thought the end users would type and the way they actually type in production. Thus, if you find discrepancies in this section, consider changing your design to resemble the way in which end users use your system more closely.\n",
    "\n",
    "**<font color=red>Note</font>**: You will be charged for calls made from this notebook  based on your WA plan. The user_id will be the same for all message calls."
   ]
  },
  {
   "cell_type": "code",
   "execution_count": 38,
   "metadata": {},
   "outputs": [
    {
     "data": {
      "text/markdown": [
       "## Test Data Evaluation"
      ],
      "text/plain": [
       "<IPython.core.display.Markdown object>"
      ]
     },
     "metadata": {},
     "output_type": "display_data"
    },
    {
     "data": {
      "text/markdown": [
       "### Missing Intents in Test Data"
      ],
      "text/plain": [
       "<IPython.core.display.Markdown object>"
      ]
     },
     "metadata": {},
     "output_type": "display_data"
    },
    {
     "data": {
      "text/html": [
       "<div>\n",
       "<style scoped>\n",
       "    .dataframe tbody tr th:only-of-type {\n",
       "        vertical-align: middle;\n",
       "    }\n",
       "\n",
       "    .dataframe tbody tr th {\n",
       "        vertical-align: top;\n",
       "    }\n",
       "\n",
       "    .dataframe thead th {\n",
       "        text-align: right;\n",
       "    }\n",
       "</style>\n",
       "<table border=\"1\" class=\"dataframe\">\n",
       "  <thead>\n",
       "    <tr style=\"text-align: right;\">\n",
       "      <th></th>\n",
       "      <th>Missing Intents in Test Set</th>\n",
       "    </tr>\n",
       "  </thead>\n",
       "  <tbody>\n",
       "    <tr>\n",
       "      <th>1</th>\n",
       "      <td>What are your hours?</td>\n",
       "    </tr>\n",
       "    <tr>\n",
       "      <th>2</th>\n",
       "      <td>Where are you located?</td>\n",
       "    </tr>\n",
       "    <tr>\n",
       "      <th>3</th>\n",
       "      <td>Schedule An Appointment</td>\n",
       "    </tr>\n",
       "    <tr>\n",
       "      <th>4</th>\n",
       "      <td>Thank you</td>\n",
       "    </tr>\n",
       "    <tr>\n",
       "      <th>5</th>\n",
       "      <td>What can I do?</td>\n",
       "    </tr>\n",
       "    <tr>\n",
       "      <th>6</th>\n",
       "      <td>Goodbye</td>\n",
       "    </tr>\n",
       "    <tr>\n",
       "      <th>7</th>\n",
       "      <td>Fallback</td>\n",
       "    </tr>\n",
       "  </tbody>\n",
       "</table>\n",
       "</div>"
      ],
      "text/plain": [
       "  Missing Intents in Test Set \n",
       "1         What are your hours?\n",
       "2       Where are you located?\n",
       "3      Schedule An Appointment\n",
       "4                    Thank you\n",
       "5               What can I do?\n",
       "6                      Goodbye\n",
       "7                     Fallback"
      ]
     },
     "metadata": {},
     "output_type": "display_data"
    },
    {
     "data": {
      "text/markdown": [
       "### Test Data Example Length"
      ],
      "text/plain": [
       "<IPython.core.display.Markdown object>"
      ]
     },
     "metadata": {},
     "output_type": "display_data"
    },
    {
     "data": {
      "text/markdown": [
       "Average length of user examples is comparable"
      ],
      "text/plain": [
       "<IPython.core.display.Markdown object>"
      ]
     },
     "metadata": {},
     "output_type": "display_data"
    },
    {
     "data": {
      "text/markdown": [
       "### Vocabulary Size Test vs Train"
      ],
      "text/plain": [
       "<IPython.core.display.Markdown object>"
      ]
     },
     "metadata": {},
     "output_type": "display_data"
    },
    {
     "data": {
      "text/html": [
       "<div>\n",
       "<style scoped>\n",
       "    .dataframe tbody tr th:only-of-type {\n",
       "        vertical-align: middle;\n",
       "    }\n",
       "\n",
       "    .dataframe tbody tr th {\n",
       "        vertical-align: top;\n",
       "    }\n",
       "\n",
       "    .dataframe thead th {\n",
       "        text-align: right;\n",
       "    }\n",
       "</style>\n",
       "<table border=\"1\" class=\"dataframe\">\n",
       "  <thead>\n",
       "    <tr style=\"text-align: right;\">\n",
       "      <th></th>\n",
       "      <th>Train Vocabulary Size</th>\n",
       "      <th>Test Vocabulary Size</th>\n",
       "      <th>% Test Set Vocabulary not found in Train</th>\n",
       "    </tr>\n",
       "  </thead>\n",
       "  <tbody>\n",
       "    <tr>\n",
       "      <th>1</th>\n",
       "      <td>158</td>\n",
       "      <td>134</td>\n",
       "      <td>35.07</td>\n",
       "    </tr>\n",
       "  </tbody>\n",
       "</table>\n",
       "</div>"
      ],
      "text/plain": [
       "   Train Vocabulary Size  Test Vocabulary Size  \\\n",
       "1                    158                   134   \n",
       "\n",
       "   % Test Set Vocabulary not found in Train  \n",
       "1                                     35.07  "
      ]
     },
     "metadata": {},
     "output_type": "display_data"
    },
    {
     "data": {
      "text/markdown": [
       "   "
      ],
      "text/plain": [
       "<IPython.core.display.Markdown object>"
      ]
     },
     "metadata": {},
     "output_type": "display_data"
    }
   ],
   "source": [
    "divergence_analyzer.analyze_train_test_diff(workspace_pd, test_df, full_results)"
   ]
  },
  {
   "cell_type": "markdown",
   "metadata": {},
   "source": [
    "### Determine the overall accuracy on the test set<a id='accuracy'></a>"
   ]
  },
  {
   "cell_type": "code",
   "execution_count": 39,
   "metadata": {},
   "outputs": [
    {
     "data": {
      "text/markdown": [
       "### Accuracy on Test Data: 77.36 %"
      ],
      "text/plain": [
       "<IPython.core.display.Markdown object>"
      ]
     },
     "metadata": {},
     "output_type": "display_data"
    }
   ],
   "source": [
    "results = full_results[['correct_intent', 'top_confidence','top_intent','utterance']]\n",
    "accuracy = inferencer.calculate_accuracy(results)\n",
    "display(Markdown(\"### Accuracy on Test Data: {} %\".format(accuracy)))"
   ]
  },
  {
   "cell_type": "markdown",
   "metadata": {},
   "source": [
    "### Analyze the errors<a id='errors'></a>\n",
    "\n",
    "This section gives you an overview of the errors made by the intent classifier on the test set.  \n",
    "\n",
    "**Note**: `System Out of Domain` labels are assigned to user examples which get classified with confidence scores less than 0.2 as Watson Assistant considers them to be irrelevant."
   ]
  },
  {
   "cell_type": "code",
   "execution_count": 40,
   "metadata": {},
   "outputs": [
    {
     "data": {
      "text/markdown": [
       "### Intent Detection Mistakes"
      ],
      "text/plain": [
       "<IPython.core.display.Markdown object>"
      ]
     },
     "metadata": {},
     "output_type": "display_data"
    },
    {
     "data": {
      "text/markdown": [
       "Number of Test Errors: 12"
      ],
      "text/plain": [
       "<IPython.core.display.Markdown object>"
      ]
     },
     "metadata": {},
     "output_type": "display_data"
    },
    {
     "data": {
      "text/html": [
       "<div>\n",
       "<style scoped>\n",
       "    .dataframe tbody tr th:only-of-type {\n",
       "        vertical-align: middle;\n",
       "    }\n",
       "\n",
       "    .dataframe tbody tr th {\n",
       "        vertical-align: top;\n",
       "    }\n",
       "\n",
       "    .dataframe thead th {\n",
       "        text-align: right;\n",
       "    }\n",
       "</style>\n",
       "<table border=\"1\" class=\"dataframe\">\n",
       "  <thead>\n",
       "    <tr style=\"text-align: right;\">\n",
       "      <th></th>\n",
       "      <th>correct_intent</th>\n",
       "      <th>top_confidence</th>\n",
       "      <th>top_intent</th>\n",
       "      <th>utterance</th>\n",
       "    </tr>\n",
       "    <tr>\n",
       "      <th>Test Example Index</th>\n",
       "      <th></th>\n",
       "      <th></th>\n",
       "      <th></th>\n",
       "      <th></th>\n",
       "    </tr>\n",
       "  </thead>\n",
       "  <tbody>\n",
       "    <tr>\n",
       "      <th>2</th>\n",
       "      <td>SYSTEM_OUT_OF_DOMAIN</td>\n",
       "      <td>0.205000</td>\n",
       "      <td>Fallback</td>\n",
       "      <td>ciao  goodbye</td>\n",
       "    </tr>\n",
       "    <tr>\n",
       "      <th>23</th>\n",
       "      <td>SYSTEM_OUT_OF_DOMAIN</td>\n",
       "      <td>0.306629</td>\n",
       "      <td>Fallback</td>\n",
       "      <td>can you help  help</td>\n",
       "    </tr>\n",
       "    <tr>\n",
       "      <th>24</th>\n",
       "      <td>SYSTEM_OUT_OF_DOMAIN</td>\n",
       "      <td>0.344230</td>\n",
       "      <td>Fallback</td>\n",
       "      <td>help  help</td>\n",
       "    </tr>\n",
       "    <tr>\n",
       "      <th>31</th>\n",
       "      <td>SYSTEM_OUT_OF_DOMAIN</td>\n",
       "      <td>1.000000</td>\n",
       "      <td>Fallback</td>\n",
       "      <td>can i talk to someone   general connect to agent</td>\n",
       "    </tr>\n",
       "    <tr>\n",
       "      <th>32</th>\n",
       "      <td>SYSTEM_OUT_OF_DOMAIN</td>\n",
       "      <td>1.000000</td>\n",
       "      <td>Fallback</td>\n",
       "      <td>please connect me to a live agent  general connect to agent</td>\n",
       "    </tr>\n",
       "    <tr>\n",
       "      <th>33</th>\n",
       "      <td>SYSTEM_OUT_OF_DOMAIN</td>\n",
       "      <td>1.000000</td>\n",
       "      <td>Fallback</td>\n",
       "      <td>where is the closest agent   general connect to agent</td>\n",
       "    </tr>\n",
       "    <tr>\n",
       "      <th>34</th>\n",
       "      <td>SYSTEM_OUT_OF_DOMAIN</td>\n",
       "      <td>1.000000</td>\n",
       "      <td>Fallback</td>\n",
       "      <td>please assist me to get to an agent  general connect to agent</td>\n",
       "    </tr>\n",
       "    <tr>\n",
       "      <th>35</th>\n",
       "      <td>SYSTEM_OUT_OF_DOMAIN</td>\n",
       "      <td>1.000000</td>\n",
       "      <td>Fallback</td>\n",
       "      <td>can i speak with somebody   general connect to agent</td>\n",
       "    </tr>\n",
       "    <tr>\n",
       "      <th>37</th>\n",
       "      <td>SYSTEM_OUT_OF_DOMAIN</td>\n",
       "      <td>1.000000</td>\n",
       "      <td>Fallback</td>\n",
       "      <td>i want to speak to a human  general connect to agent</td>\n",
       "    </tr>\n",
       "    <tr>\n",
       "      <th>38</th>\n",
       "      <td>SYSTEM_OUT_OF_DOMAIN</td>\n",
       "      <td>0.460920</td>\n",
       "      <td>Fallback</td>\n",
       "      <td>representative  general connect to agent</td>\n",
       "    </tr>\n",
       "    <tr>\n",
       "      <th>39</th>\n",
       "      <td>SYSTEM_OUT_OF_DOMAIN</td>\n",
       "      <td>1.000000</td>\n",
       "      <td>Fallback</td>\n",
       "      <td>can i connect to an agent   general connect to agent</td>\n",
       "    </tr>\n",
       "    <tr>\n",
       "      <th>40</th>\n",
       "      <td>SYSTEM_OUT_OF_DOMAIN</td>\n",
       "      <td>0.494145</td>\n",
       "      <td>Fallback</td>\n",
       "      <td>can you please transition my conversation to a human  general connect to agent</td>\n",
       "    </tr>\n",
       "  </tbody>\n",
       "</table>\n",
       "</div>"
      ],
      "text/plain": [
       "                          correct_intent  top_confidence top_intent  \\\n",
       "Test Example Index                                                    \n",
       "2                   SYSTEM_OUT_OF_DOMAIN        0.205000   Fallback   \n",
       "23                  SYSTEM_OUT_OF_DOMAIN        0.306629   Fallback   \n",
       "24                  SYSTEM_OUT_OF_DOMAIN        0.344230   Fallback   \n",
       "31                  SYSTEM_OUT_OF_DOMAIN        1.000000   Fallback   \n",
       "32                  SYSTEM_OUT_OF_DOMAIN        1.000000   Fallback   \n",
       "33                  SYSTEM_OUT_OF_DOMAIN        1.000000   Fallback   \n",
       "34                  SYSTEM_OUT_OF_DOMAIN        1.000000   Fallback   \n",
       "35                  SYSTEM_OUT_OF_DOMAIN        1.000000   Fallback   \n",
       "37                  SYSTEM_OUT_OF_DOMAIN        1.000000   Fallback   \n",
       "38                  SYSTEM_OUT_OF_DOMAIN        0.460920   Fallback   \n",
       "39                  SYSTEM_OUT_OF_DOMAIN        1.000000   Fallback   \n",
       "40                  SYSTEM_OUT_OF_DOMAIN        0.494145   Fallback   \n",
       "\n",
       "                                                                                          utterance  \n",
       "Test Example Index                                                                                   \n",
       "2                                                                                    ciao  goodbye   \n",
       "23                                                                              can you help  help   \n",
       "24                                                                                      help  help   \n",
       "31                                                can i talk to someone   general connect to agent   \n",
       "32                                     please connect me to a live agent  general connect to agent   \n",
       "33                                           where is the closest agent   general connect to agent   \n",
       "34                                   please assist me to get to an agent  general connect to agent   \n",
       "35                                            can i speak with somebody   general connect to agent   \n",
       "37                                            i want to speak to a human  general connect to agent   \n",
       "38                                                        representative  general connect to agent   \n",
       "39                                            can i connect to an agent   general connect to agent   \n",
       "40                  can you please transition my conversation to a human  general connect to agent   "
      ]
     },
     "metadata": {},
     "output_type": "display_data"
    }
   ],
   "source": [
    "wrongs_df = inferencer.calculate_mistakes(results)\n",
    "display(Markdown(\"### Intent Detection Mistakes\"))\n",
    "display(Markdown(\"Number of Test Errors: {}\".format(len(wrongs_df))))\n",
    "\n",
    "with pd.option_context('max_colwidth', 250):\n",
    "    if not wrongs_df.empty:\n",
    "        display(wrongs_df)"
   ]
  },
  {
   "cell_type": "markdown",
   "metadata": {},
   "source": [
    "<a id='part3'></a>\n",
    "# Part 3: Perform advanced analysis\n",
    "\n",
    "3.1 [Perform analysis using confidence thresholds](#part3.1)<br>\n",
    "3.2 [Highlighting term importance](#part3.2)<br>\n",
    "3.3 [Analyzing abnormal confidence levels](#part3.3)<br>\n"
   ]
  },
  {
   "cell_type": "markdown",
   "metadata": {},
   "source": [
    "<a id='part3.1'></a>\n",
    "## 3.1 Perform analysis using  confidence thresholds\n",
    "\n",
    "This analysis illustrates how a confidence threshold is used to determine which data considered irrelevant or out of domain can be used for analysis. "
   ]
  },
  {
   "cell_type": "code",
   "execution_count": 41,
   "metadata": {},
   "outputs": [
    {
     "data": {
      "text/markdown": [
       "### Threshold Metrics"
      ],
      "text/plain": [
       "<IPython.core.display.Markdown object>"
      ]
     },
     "metadata": {},
     "output_type": "display_data"
    },
    {
     "data": {
      "text/markdown": [
       "We calculate metrics for responses where the top intent has a confidence above the         threshold specified on the x-axis.  "
      ],
      "text/plain": [
       "<IPython.core.display.Markdown object>"
      ]
     },
     "metadata": {},
     "output_type": "display_data"
    },
    {
     "data": {
      "text/markdown": [
       "We consider examples which are within the scope of the chatbot's problem formulation as          on topic or in domain and those examples which are outside the scope of the problem to be          out of domain or irrelevant"
      ],
      "text/plain": [
       "<IPython.core.display.Markdown object>"
      ]
     },
     "metadata": {},
     "output_type": "display_data"
    },
    {
     "data": {
      "text/markdown": [
       "#### 1) Thresholded On Topic Accuracy (TOA)"
      ],
      "text/plain": [
       "<IPython.core.display.Markdown object>"
      ]
     },
     "metadata": {},
     "output_type": "display_data"
    },
    {
     "data": {
      "text/markdown": [
       "x-axis: Confidence threshold used || y-axis: Intent Detection Accuracy for On Topic utterances"
      ],
      "text/plain": [
       "<IPython.core.display.Markdown object>"
      ]
     },
     "metadata": {},
     "output_type": "display_data"
    },
    {
     "data": {
      "text/markdown": [
       "#### 2)  Bot Coverage %"
      ],
      "text/plain": [
       "<IPython.core.display.Markdown object>"
      ]
     },
     "metadata": {},
     "output_type": "display_data"
    },
    {
     "data": {
      "text/markdown": [
       "x-axis: Confidence threshold used || y-axis: Fraction of All utterances above the threshold"
      ],
      "text/plain": [
       "<IPython.core.display.Markdown object>"
      ]
     },
     "metadata": {},
     "output_type": "display_data"
    },
    {
     "data": {
      "text/markdown": [
       "#### 3) False Acceptance Rate for Out of Domain Examples (FAR)"
      ],
      "text/plain": [
       "<IPython.core.display.Markdown object>"
      ]
     },
     "metadata": {},
     "output_type": "display_data"
    },
    {
     "data": {
      "text/markdown": [
       "x-axis: Confidence threshold used || y-axis: Fraction of Out of Domain utterances falsely considered on topic"
      ],
      "text/plain": [
       "<IPython.core.display.Markdown object>"
      ]
     },
     "metadata": {},
     "output_type": "display_data"
    },
    {
     "data": {
      "text/markdown": [
       "#### Note: Default acceptance threshold for Watson Assistant is set at 0.2.        Utterances with top intent confidence < 0.2 will be considered irrelevant"
      ],
      "text/plain": [
       "<IPython.core.display.Markdown object>"
      ]
     },
     "metadata": {},
     "output_type": "display_data"
    },
    {
     "data": {
      "text/markdown": [
       "**Inadequate Data Points**: No analysis will be conducted"
      ],
      "text/plain": [
       "<IPython.core.display.Markdown object>"
      ]
     },
     "metadata": {},
     "output_type": "display_data"
    }
   ],
   "source": [
    "analysis_df= confidence_analyzer.analysis(results,None)"
   ]
  },
  {
   "cell_type": "markdown",
   "metadata": {},
   "source": [
    "<a id='part3.2'></a>\n",
    "## 3.2 Highlight term importance\n",
    "\n",
    "This intent can be ground-truth or an incorrectly predicted intent. It provides term level insights about which terms the classifier thought were important in relation to that specific intent.\n",
    "\n",
    "Even if the system predicts an intent correctly, the terms which the intent classifier thought were important may not be as expected by human insight. Human insight might suggest that the intent classifier is focusing on the wrong terms.  \n",
    "\n",
    "The score of each term in the following highlighted images can be viewed as importance factor of that term for that specific intent. The larger the score, the more important the term."
   ]
  },
  {
   "cell_type": "markdown",
   "metadata": {},
   "source": [
    "You can get the highlighted images for either wrongly-predicted utterances or utterances where the classifier returned a low confidence.   \n",
    "\n",
    "**<font color=red>Note</font>**: You will be charged for calls made from this notebook  based on your WA plan. The user_id will be the same for all message calls."
   ]
  },
  {
   "cell_type": "code",
   "execution_count": 42,
   "metadata": {},
   "outputs": [
    {
     "data": {
      "text/markdown": [
       "### Identified 1 problematic utterances "
      ],
      "text/plain": [
       "<IPython.core.display.Markdown object>"
      ]
     },
     "metadata": {},
     "output_type": "display_data"
    },
    {
     "data": {
      "text/markdown": [
       "  "
      ],
      "text/plain": [
       "<IPython.core.display.Markdown object>"
      ]
     },
     "metadata": {},
     "output_type": "display_data"
    },
    {
     "name": "stderr",
     "output_type": "stream",
     "text": [
      "100%|██████████| 8/8 [00:00<00:00, 24.16it/s]\n"
     ]
    },
    {
     "data": {
      "text/markdown": [
       "   "
      ],
      "text/plain": [
       "<IPython.core.display.Markdown object>"
      ]
     },
     "metadata": {},
     "output_type": "display_data"
    },
    {
     "data": {
      "text/markdown": [
       "1 examples are shown below:"
      ],
      "text/plain": [
       "<IPython.core.display.Markdown object>"
      ]
     },
     "metadata": {},
     "output_type": "display_data"
    },
    {
     "data": {
      "text/html": [
       "<div>\n",
       "<style scoped>\n",
       "    .dataframe tbody tr th:only-of-type {\n",
       "        vertical-align: middle;\n",
       "    }\n",
       "\n",
       "    .dataframe tbody tr th {\n",
       "        vertical-align: top;\n",
       "    }\n",
       "\n",
       "    .dataframe thead th {\n",
       "        text-align: right;\n",
       "    }\n",
       "</style>\n",
       "<table border=\"1\" class=\"dataframe\">\n",
       "  <thead>\n",
       "    <tr style=\"text-align: right;\">\n",
       "      <th></th>\n",
       "      <th>Characteristic</th>\n",
       "      <th>Value</th>\n",
       "    </tr>\n",
       "  </thead>\n",
       "  <tbody>\n",
       "    <tr>\n",
       "      <th>1</th>\n",
       "      <td>Test Set Index</td>\n",
       "      <td>0</td>\n",
       "    </tr>\n",
       "    <tr>\n",
       "      <th>2</th>\n",
       "      <td>Utterance</td>\n",
       "      <td>what can i do to talk to someone</td>\n",
       "    </tr>\n",
       "    <tr>\n",
       "      <th>3</th>\n",
       "      <td>Actual Intent</td>\n",
       "      <td>Schedule An Appointment</td>\n",
       "    </tr>\n",
       "    <tr>\n",
       "      <th>4</th>\n",
       "      <td>Predicted Intent</td>\n",
       "      <td>Fallback</td>\n",
       "    </tr>\n",
       "    <tr>\n",
       "      <th>5</th>\n",
       "      <td>Confidence</td>\n",
       "      <td>0.204452</td>\n",
       "    </tr>\n",
       "  </tbody>\n",
       "</table>\n",
       "</div>"
      ],
      "text/plain": [
       "     Characteristic                             Value\n",
       "1    Test Set Index                                 0\n",
       "2         Utterance  what can i do to talk to someone\n",
       "3     Actual Intent           Schedule An Appointment\n",
       "4  Predicted Intent                          Fallback\n",
       "5        Confidence                          0.204452"
      ]
     },
     "metadata": {},
     "output_type": "display_data"
    },
    {
     "data": {
      "image/png": "[encoded data removed]",
      "text/plain": [
       "<Figure size 144x360 with 2 Axes>"
      ]
     },
     "metadata": {},
     "output_type": "display_data"
    }
   ],
   "source": [
    "# Pick an example from section 1 which was misclassified\n",
    "# Add the example and correct intent for the example\n",
    "utterance = \"what can i do to talk to someone\"  # input example\n",
    "intent = \"Schedule An Appointment\"  # input an intent in your workspace which you are interested in.\n",
    "\n",
    "\n",
    "inference_results = inferencer.inference(conversation=conversation, \n",
    "                                         test_data=pd.DataFrame({'utterance':[utterance], \n",
    "                                                                 'intent':[intent]}), \n",
    "                                         max_thread = 1, \n",
    "                                         assistant_id=ASSISTANT_ID,\n",
    "                                         intent_to_action_mapping=intent_to_action_mapping,\n",
    "                                        )\n",
    "\n",
    "highlighter.get_highlights_in_batch_multi_thread(conversation=conversation, \n",
    "                                                 full_results=inference_results, \n",
    "                                                 output_folder=None,\n",
    "                                                 confidence_threshold=1,\n",
    "                                                 show_worst_k=1,\n",
    "                                                 lang_util=lang_util,\n",
    "                                                 assistant_id=ASSISTANT_ID,\n",
    "                                                 intent_to_action_mapping=intent_to_action_mapping,\n",
    "                                                )"
   ]
  },
  {
   "cell_type": "markdown",
   "metadata": {},
   "source": [
    "In the section below you analyze your test results and produce highlighting for the top 25 problematic utterances which were either mistakes or had confidences below the threshold that was set.    \n",
    "\n",
    "**<font color=red>Note</font>**: You will be charged for calls made from this notebook  based on your WA plan. The user_id will be the same for all message calls."
   ]
  },
  {
   "cell_type": "code",
   "execution_count": 43,
   "metadata": {},
   "outputs": [
    {
     "data": {
      "text/markdown": [
       "### Identified 12 problematic utterances "
      ],
      "text/plain": [
       "<IPython.core.display.Markdown object>"
      ]
     },
     "metadata": {},
     "output_type": "display_data"
    },
    {
     "data": {
      "text/markdown": [
       "  "
      ],
      "text/plain": [
       "<IPython.core.display.Markdown object>"
      ]
     },
     "metadata": {},
     "output_type": "display_data"
    },
    {
     "name": "stderr",
     "output_type": "stream",
     "text": [
      "100%|██████████| 97/97 [00:02<00:00, 33.54it/s]\n"
     ]
    },
    {
     "data": {
      "text/markdown": [
       "   "
      ],
      "text/plain": [
       "<IPython.core.display.Markdown object>"
      ]
     },
     "metadata": {},
     "output_type": "display_data"
    },
    {
     "data": {
      "text/markdown": [
       "25 examples are shown below:"
      ],
      "text/plain": [
       "<IPython.core.display.Markdown object>"
      ]
     },
     "metadata": {},
     "output_type": "display_data"
    },
    {
     "data": {
      "text/html": [
       "<div>\n",
       "<style scoped>\n",
       "    .dataframe tbody tr th:only-of-type {\n",
       "        vertical-align: middle;\n",
       "    }\n",
       "\n",
       "    .dataframe tbody tr th {\n",
       "        vertical-align: top;\n",
       "    }\n",
       "\n",
       "    .dataframe thead th {\n",
       "        text-align: right;\n",
       "    }\n",
       "</style>\n",
       "<table border=\"1\" class=\"dataframe\">\n",
       "  <thead>\n",
       "    <tr style=\"text-align: right;\">\n",
       "      <th></th>\n",
       "      <th>Characteristic</th>\n",
       "      <th>Value</th>\n",
       "    </tr>\n",
       "  </thead>\n",
       "  <tbody>\n",
       "    <tr>\n",
       "      <th>1</th>\n",
       "      <td>Test Set Index</td>\n",
       "      <td>31</td>\n",
       "    </tr>\n",
       "    <tr>\n",
       "      <th>2</th>\n",
       "      <td>Utterance</td>\n",
       "      <td>can i talk to someone   general connect to agent</td>\n",
       "    </tr>\n",
       "    <tr>\n",
       "      <th>3</th>\n",
       "      <td>Actual Intent</td>\n",
       "      <td>SYSTEM_OUT_OF_DOMAIN</td>\n",
       "    </tr>\n",
       "    <tr>\n",
       "      <th>4</th>\n",
       "      <td>Predicted Intent</td>\n",
       "      <td>Fallback</td>\n",
       "    </tr>\n",
       "    <tr>\n",
       "      <th>5</th>\n",
       "      <td>Confidence</td>\n",
       "      <td>1.0</td>\n",
       "    </tr>\n",
       "  </tbody>\n",
       "</table>\n",
       "</div>"
      ],
      "text/plain": [
       "     Characteristic                                              Value\n",
       "1    Test Set Index                                                 31\n",
       "2         Utterance  can i talk to someone   general connect to agent \n",
       "3     Actual Intent                               SYSTEM_OUT_OF_DOMAIN\n",
       "4  Predicted Intent                                           Fallback\n",
       "5        Confidence                                                1.0"
      ]
     },
     "metadata": {},
     "output_type": "display_data"
    },
    {
     "data": {
      "image/png": "[encoded data removed]",
      "text/plain": [
       "<Figure size 144x360 with 2 Axes>"
      ]
     },
     "metadata": {},
     "output_type": "display_data"
    },
    {
     "data": {
      "text/html": [
       "<div>\n",
       "<style scoped>\n",
       "    .dataframe tbody tr th:only-of-type {\n",
       "        vertical-align: middle;\n",
       "    }\n",
       "\n",
       "    .dataframe tbody tr th {\n",
       "        vertical-align: top;\n",
       "    }\n",
       "\n",
       "    .dataframe thead th {\n",
       "        text-align: right;\n",
       "    }\n",
       "</style>\n",
       "<table border=\"1\" class=\"dataframe\">\n",
       "  <thead>\n",
       "    <tr style=\"text-align: right;\">\n",
       "      <th></th>\n",
       "      <th>Characteristic</th>\n",
       "      <th>Value</th>\n",
       "    </tr>\n",
       "  </thead>\n",
       "  <tbody>\n",
       "    <tr>\n",
       "      <th>1</th>\n",
       "      <td>Test Set Index</td>\n",
       "      <td>32</td>\n",
       "    </tr>\n",
       "    <tr>\n",
       "      <th>2</th>\n",
       "      <td>Utterance</td>\n",
       "      <td>please connect me to a live agent  general connect to agent</td>\n",
       "    </tr>\n",
       "    <tr>\n",
       "      <th>3</th>\n",
       "      <td>Actual Intent</td>\n",
       "      <td>SYSTEM_OUT_OF_DOMAIN</td>\n",
       "    </tr>\n",
       "    <tr>\n",
       "      <th>4</th>\n",
       "      <td>Predicted Intent</td>\n",
       "      <td>Fallback</td>\n",
       "    </tr>\n",
       "    <tr>\n",
       "      <th>5</th>\n",
       "      <td>Confidence</td>\n",
       "      <td>1.0</td>\n",
       "    </tr>\n",
       "  </tbody>\n",
       "</table>\n",
       "</div>"
      ],
      "text/plain": [
       "     Characteristic  \\\n",
       "1    Test Set Index   \n",
       "2         Utterance   \n",
       "3     Actual Intent   \n",
       "4  Predicted Intent   \n",
       "5        Confidence   \n",
       "\n",
       "                                                          Value  \n",
       "1                                                            32  \n",
       "2  please connect me to a live agent  general connect to agent   \n",
       "3                                          SYSTEM_OUT_OF_DOMAIN  \n",
       "4                                                      Fallback  \n",
       "5                                                           1.0  "
      ]
     },
     "metadata": {},
     "output_type": "display_data"
    },
    {
     "data": {
      "image/png": "[encoded data removed]",
      "text/plain": [
       "<Figure size 144x360 with 2 Axes>"
      ]
     },
     "metadata": {},
     "output_type": "display_data"
    },
    {
     "data": {
      "text/html": [
       "<div>\n",
       "<style scoped>\n",
       "    .dataframe tbody tr th:only-of-type {\n",
       "        vertical-align: middle;\n",
       "    }\n",
       "\n",
       "    .dataframe tbody tr th {\n",
       "        vertical-align: top;\n",
       "    }\n",
       "\n",
       "    .dataframe thead th {\n",
       "        text-align: right;\n",
       "    }\n",
       "</style>\n",
       "<table border=\"1\" class=\"dataframe\">\n",
       "  <thead>\n",
       "    <tr style=\"text-align: right;\">\n",
       "      <th></th>\n",
       "      <th>Characteristic</th>\n",
       "      <th>Value</th>\n",
       "    </tr>\n",
       "  </thead>\n",
       "  <tbody>\n",
       "    <tr>\n",
       "      <th>1</th>\n",
       "      <td>Test Set Index</td>\n",
       "      <td>33</td>\n",
       "    </tr>\n",
       "    <tr>\n",
       "      <th>2</th>\n",
       "      <td>Utterance</td>\n",
       "      <td>where is the closest agent   general connect to agent</td>\n",
       "    </tr>\n",
       "    <tr>\n",
       "      <th>3</th>\n",
       "      <td>Actual Intent</td>\n",
       "      <td>SYSTEM_OUT_OF_DOMAIN</td>\n",
       "    </tr>\n",
       "    <tr>\n",
       "      <th>4</th>\n",
       "      <td>Predicted Intent</td>\n",
       "      <td>Fallback</td>\n",
       "    </tr>\n",
       "    <tr>\n",
       "      <th>5</th>\n",
       "      <td>Confidence</td>\n",
       "      <td>1.0</td>\n",
       "    </tr>\n",
       "  </tbody>\n",
       "</table>\n",
       "</div>"
      ],
      "text/plain": [
       "     Characteristic                                                   Value\n",
       "1    Test Set Index                                                      33\n",
       "2         Utterance  where is the closest agent   general connect to agent \n",
       "3     Actual Intent                                    SYSTEM_OUT_OF_DOMAIN\n",
       "4  Predicted Intent                                                Fallback\n",
       "5        Confidence                                                     1.0"
      ]
     },
     "metadata": {},
     "output_type": "display_data"
    },
    {
     "data": {
      "image/png": "[encoded data removed]",
      "text/plain": [
       "<Figure size 144x360 with 2 Axes>"
      ]
     },
     "metadata": {},
     "output_type": "display_data"
    },
    {
     "data": {
      "text/html": [
       "<div>\n",
       "<style scoped>\n",
       "    .dataframe tbody tr th:only-of-type {\n",
       "        vertical-align: middle;\n",
       "    }\n",
       "\n",
       "    .dataframe tbody tr th {\n",
       "        vertical-align: top;\n",
       "    }\n",
       "\n",
       "    .dataframe thead th {\n",
       "        text-align: right;\n",
       "    }\n",
       "</style>\n",
       "<table border=\"1\" class=\"dataframe\">\n",
       "  <thead>\n",
       "    <tr style=\"text-align: right;\">\n",
       "      <th></th>\n",
       "      <th>Characteristic</th>\n",
       "      <th>Value</th>\n",
       "    </tr>\n",
       "  </thead>\n",
       "  <tbody>\n",
       "    <tr>\n",
       "      <th>1</th>\n",
       "      <td>Test Set Index</td>\n",
       "      <td>34</td>\n",
       "    </tr>\n",
       "    <tr>\n",
       "      <th>2</th>\n",
       "      <td>Utterance</td>\n",
       "      <td>please assist me to get to an agent  general connect to agent</td>\n",
       "    </tr>\n",
       "    <tr>\n",
       "      <th>3</th>\n",
       "      <td>Actual Intent</td>\n",
       "      <td>SYSTEM_OUT_OF_DOMAIN</td>\n",
       "    </tr>\n",
       "    <tr>\n",
       "      <th>4</th>\n",
       "      <td>Predicted Intent</td>\n",
       "      <td>Fallback</td>\n",
       "    </tr>\n",
       "    <tr>\n",
       "      <th>5</th>\n",
       "      <td>Confidence</td>\n",
       "      <td>1.0</td>\n",
       "    </tr>\n",
       "  </tbody>\n",
       "</table>\n",
       "</div>"
      ],
      "text/plain": [
       "     Characteristic  \\\n",
       "1    Test Set Index   \n",
       "2         Utterance   \n",
       "3     Actual Intent   \n",
       "4  Predicted Intent   \n",
       "5        Confidence   \n",
       "\n",
       "                                                            Value  \n",
       "1                                                              34  \n",
       "2  please assist me to get to an agent  general connect to agent   \n",
       "3                                            SYSTEM_OUT_OF_DOMAIN  \n",
       "4                                                        Fallback  \n",
       "5                                                             1.0  "
      ]
     },
     "metadata": {},
     "output_type": "display_data"
    },
    {
     "data": {
      "image/png": "[encoded data removed]",
      "text/plain": [
       "<Figure size 144x360 with 2 Axes>"
      ]
     },
     "metadata": {},
     "output_type": "display_data"
    },
    {
     "data": {
      "text/html": [
       "<div>\n",
       "<style scoped>\n",
       "    .dataframe tbody tr th:only-of-type {\n",
       "        vertical-align: middle;\n",
       "    }\n",
       "\n",
       "    .dataframe tbody tr th {\n",
       "        vertical-align: top;\n",
       "    }\n",
       "\n",
       "    .dataframe thead th {\n",
       "        text-align: right;\n",
       "    }\n",
       "</style>\n",
       "<table border=\"1\" class=\"dataframe\">\n",
       "  <thead>\n",
       "    <tr style=\"text-align: right;\">\n",
       "      <th></th>\n",
       "      <th>Characteristic</th>\n",
       "      <th>Value</th>\n",
       "    </tr>\n",
       "  </thead>\n",
       "  <tbody>\n",
       "    <tr>\n",
       "      <th>1</th>\n",
       "      <td>Test Set Index</td>\n",
       "      <td>35</td>\n",
       "    </tr>\n",
       "    <tr>\n",
       "      <th>2</th>\n",
       "      <td>Utterance</td>\n",
       "      <td>can i speak with somebody   general connect to agent</td>\n",
       "    </tr>\n",
       "    <tr>\n",
       "      <th>3</th>\n",
       "      <td>Actual Intent</td>\n",
       "      <td>SYSTEM_OUT_OF_DOMAIN</td>\n",
       "    </tr>\n",
       "    <tr>\n",
       "      <th>4</th>\n",
       "      <td>Predicted Intent</td>\n",
       "      <td>Fallback</td>\n",
       "    </tr>\n",
       "    <tr>\n",
       "      <th>5</th>\n",
       "      <td>Confidence</td>\n",
       "      <td>1.0</td>\n",
       "    </tr>\n",
       "  </tbody>\n",
       "</table>\n",
       "</div>"
      ],
      "text/plain": [
       "     Characteristic                                                  Value\n",
       "1    Test Set Index                                                     35\n",
       "2         Utterance  can i speak with somebody   general connect to agent \n",
       "3     Actual Intent                                   SYSTEM_OUT_OF_DOMAIN\n",
       "4  Predicted Intent                                               Fallback\n",
       "5        Confidence                                                    1.0"
      ]
     },
     "metadata": {},
     "output_type": "display_data"
    },
    {
     "data": {
      "image/png": "[encoded data removed]",
      "text/plain": [
       "<Figure size 144x360 with 2 Axes>"
      ]
     },
     "metadata": {},
     "output_type": "display_data"
    },
    {
     "data": {
      "text/html": [
       "<div>\n",
       "<style scoped>\n",
       "    .dataframe tbody tr th:only-of-type {\n",
       "        vertical-align: middle;\n",
       "    }\n",
       "\n",
       "    .dataframe tbody tr th {\n",
       "        vertical-align: top;\n",
       "    }\n",
       "\n",
       "    .dataframe thead th {\n",
       "        text-align: right;\n",
       "    }\n",
       "</style>\n",
       "<table border=\"1\" class=\"dataframe\">\n",
       "  <thead>\n",
       "    <tr style=\"text-align: right;\">\n",
       "      <th></th>\n",
       "      <th>Characteristic</th>\n",
       "      <th>Value</th>\n",
       "    </tr>\n",
       "  </thead>\n",
       "  <tbody>\n",
       "    <tr>\n",
       "      <th>1</th>\n",
       "      <td>Test Set Index</td>\n",
       "      <td>37</td>\n",
       "    </tr>\n",
       "    <tr>\n",
       "      <th>2</th>\n",
       "      <td>Utterance</td>\n",
       "      <td>i want to speak to a human  general connect to agent</td>\n",
       "    </tr>\n",
       "    <tr>\n",
       "      <th>3</th>\n",
       "      <td>Actual Intent</td>\n",
       "      <td>SYSTEM_OUT_OF_DOMAIN</td>\n",
       "    </tr>\n",
       "    <tr>\n",
       "      <th>4</th>\n",
       "      <td>Predicted Intent</td>\n",
       "      <td>Fallback</td>\n",
       "    </tr>\n",
       "    <tr>\n",
       "      <th>5</th>\n",
       "      <td>Confidence</td>\n",
       "      <td>1.0</td>\n",
       "    </tr>\n",
       "  </tbody>\n",
       "</table>\n",
       "</div>"
      ],
      "text/plain": [
       "     Characteristic                                                  Value\n",
       "1    Test Set Index                                                     37\n",
       "2         Utterance  i want to speak to a human  general connect to agent \n",
       "3     Actual Intent                                   SYSTEM_OUT_OF_DOMAIN\n",
       "4  Predicted Intent                                               Fallback\n",
       "5        Confidence                                                    1.0"
      ]
     },
     "metadata": {},
     "output_type": "display_data"
    },
    {
     "data": {
      "image/png": "[encoded data removed]",
      "text/plain": [
       "<Figure size 144x360 with 2 Axes>"
      ]
     },
     "metadata": {},
     "output_type": "display_data"
    },
    {
     "data": {
      "text/html": [
       "<div>\n",
       "<style scoped>\n",
       "    .dataframe tbody tr th:only-of-type {\n",
       "        vertical-align: middle;\n",
       "    }\n",
       "\n",
       "    .dataframe tbody tr th {\n",
       "        vertical-align: top;\n",
       "    }\n",
       "\n",
       "    .dataframe thead th {\n",
       "        text-align: right;\n",
       "    }\n",
       "</style>\n",
       "<table border=\"1\" class=\"dataframe\">\n",
       "  <thead>\n",
       "    <tr style=\"text-align: right;\">\n",
       "      <th></th>\n",
       "      <th>Characteristic</th>\n",
       "      <th>Value</th>\n",
       "    </tr>\n",
       "  </thead>\n",
       "  <tbody>\n",
       "    <tr>\n",
       "      <th>1</th>\n",
       "      <td>Test Set Index</td>\n",
       "      <td>39</td>\n",
       "    </tr>\n",
       "    <tr>\n",
       "      <th>2</th>\n",
       "      <td>Utterance</td>\n",
       "      <td>can i connect to an agent   general connect to agent</td>\n",
       "    </tr>\n",
       "    <tr>\n",
       "      <th>3</th>\n",
       "      <td>Actual Intent</td>\n",
       "      <td>SYSTEM_OUT_OF_DOMAIN</td>\n",
       "    </tr>\n",
       "    <tr>\n",
       "      <th>4</th>\n",
       "      <td>Predicted Intent</td>\n",
       "      <td>Fallback</td>\n",
       "    </tr>\n",
       "    <tr>\n",
       "      <th>5</th>\n",
       "      <td>Confidence</td>\n",
       "      <td>1.0</td>\n",
       "    </tr>\n",
       "  </tbody>\n",
       "</table>\n",
       "</div>"
      ],
      "text/plain": [
       "     Characteristic                                                  Value\n",
       "1    Test Set Index                                                     39\n",
       "2         Utterance  can i connect to an agent   general connect to agent \n",
       "3     Actual Intent                                   SYSTEM_OUT_OF_DOMAIN\n",
       "4  Predicted Intent                                               Fallback\n",
       "5        Confidence                                                    1.0"
      ]
     },
     "metadata": {},
     "output_type": "display_data"
    },
    {
     "data": {
      "image/png": "[encoded data removed]",
      "text/plain": [
       "<Figure size 144x360 with 2 Axes>"
      ]
     },
     "metadata": {},
     "output_type": "display_data"
    },
    {
     "data": {
      "text/html": [
       "<div>\n",
       "<style scoped>\n",
       "    .dataframe tbody tr th:only-of-type {\n",
       "        vertical-align: middle;\n",
       "    }\n",
       "\n",
       "    .dataframe tbody tr th {\n",
       "        vertical-align: top;\n",
       "    }\n",
       "\n",
       "    .dataframe thead th {\n",
       "        text-align: right;\n",
       "    }\n",
       "</style>\n",
       "<table border=\"1\" class=\"dataframe\">\n",
       "  <thead>\n",
       "    <tr style=\"text-align: right;\">\n",
       "      <th></th>\n",
       "      <th>Characteristic</th>\n",
       "      <th>Value</th>\n",
       "    </tr>\n",
       "  </thead>\n",
       "  <tbody>\n",
       "    <tr>\n",
       "      <th>1</th>\n",
       "      <td>Test Set Index</td>\n",
       "      <td>40</td>\n",
       "    </tr>\n",
       "    <tr>\n",
       "      <th>2</th>\n",
       "      <td>Utterance</td>\n",
       "      <td>can you please transition my conversation to a human  general connect to agent</td>\n",
       "    </tr>\n",
       "    <tr>\n",
       "      <th>3</th>\n",
       "      <td>Actual Intent</td>\n",
       "      <td>SYSTEM_OUT_OF_DOMAIN</td>\n",
       "    </tr>\n",
       "    <tr>\n",
       "      <th>4</th>\n",
       "      <td>Predicted Intent</td>\n",
       "      <td>Fallback</td>\n",
       "    </tr>\n",
       "    <tr>\n",
       "      <th>5</th>\n",
       "      <td>Confidence</td>\n",
       "      <td>0.494145</td>\n",
       "    </tr>\n",
       "  </tbody>\n",
       "</table>\n",
       "</div>"
      ],
      "text/plain": [
       "     Characteristic  \\\n",
       "1    Test Set Index   \n",
       "2         Utterance   \n",
       "3     Actual Intent   \n",
       "4  Predicted Intent   \n",
       "5        Confidence   \n",
       "\n",
       "                                                                             Value  \n",
       "1                                                                               40  \n",
       "2  can you please transition my conversation to a human  general connect to agent   \n",
       "3                                                             SYSTEM_OUT_OF_DOMAIN  \n",
       "4                                                                         Fallback  \n",
       "5                                                                         0.494145  "
      ]
     },
     "metadata": {},
     "output_type": "display_data"
    },
    {
     "data": {
      "image/png": "[encoded data removed]",
      "text/plain": [
       "<Figure size 144x360 with 2 Axes>"
      ]
     },
     "metadata": {},
     "output_type": "display_data"
    },
    {
     "data": {
      "text/html": [
       "<div>\n",
       "<style scoped>\n",
       "    .dataframe tbody tr th:only-of-type {\n",
       "        vertical-align: middle;\n",
       "    }\n",
       "\n",
       "    .dataframe tbody tr th {\n",
       "        vertical-align: top;\n",
       "    }\n",
       "\n",
       "    .dataframe thead th {\n",
       "        text-align: right;\n",
       "    }\n",
       "</style>\n",
       "<table border=\"1\" class=\"dataframe\">\n",
       "  <thead>\n",
       "    <tr style=\"text-align: right;\">\n",
       "      <th></th>\n",
       "      <th>Characteristic</th>\n",
       "      <th>Value</th>\n",
       "    </tr>\n",
       "  </thead>\n",
       "  <tbody>\n",
       "    <tr>\n",
       "      <th>1</th>\n",
       "      <td>Test Set Index</td>\n",
       "      <td>38</td>\n",
       "    </tr>\n",
       "    <tr>\n",
       "      <th>2</th>\n",
       "      <td>Utterance</td>\n",
       "      <td>representative  general connect to agent</td>\n",
       "    </tr>\n",
       "    <tr>\n",
       "      <th>3</th>\n",
       "      <td>Actual Intent</td>\n",
       "      <td>SYSTEM_OUT_OF_DOMAIN</td>\n",
       "    </tr>\n",
       "    <tr>\n",
       "      <th>4</th>\n",
       "      <td>Predicted Intent</td>\n",
       "      <td>Fallback</td>\n",
       "    </tr>\n",
       "    <tr>\n",
       "      <th>5</th>\n",
       "      <td>Confidence</td>\n",
       "      <td>0.46092</td>\n",
       "    </tr>\n",
       "  </tbody>\n",
       "</table>\n",
       "</div>"
      ],
      "text/plain": [
       "     Characteristic                                      Value\n",
       "1    Test Set Index                                         38\n",
       "2         Utterance  representative  general connect to agent \n",
       "3     Actual Intent                       SYSTEM_OUT_OF_DOMAIN\n",
       "4  Predicted Intent                                   Fallback\n",
       "5        Confidence                                    0.46092"
      ]
     },
     "metadata": {},
     "output_type": "display_data"
    },
    {
     "data": {
      "image/png": "[encoded data removed]",
      "text/plain": [
       "<Figure size 144x360 with 2 Axes>"
      ]
     },
     "metadata": {},
     "output_type": "display_data"
    },
    {
     "data": {
      "text/html": [
       "<div>\n",
       "<style scoped>\n",
       "    .dataframe tbody tr th:only-of-type {\n",
       "        vertical-align: middle;\n",
       "    }\n",
       "\n",
       "    .dataframe tbody tr th {\n",
       "        vertical-align: top;\n",
       "    }\n",
       "\n",
       "    .dataframe thead th {\n",
       "        text-align: right;\n",
       "    }\n",
       "</style>\n",
       "<table border=\"1\" class=\"dataframe\">\n",
       "  <thead>\n",
       "    <tr style=\"text-align: right;\">\n",
       "      <th></th>\n",
       "      <th>Characteristic</th>\n",
       "      <th>Value</th>\n",
       "    </tr>\n",
       "  </thead>\n",
       "  <tbody>\n",
       "    <tr>\n",
       "      <th>1</th>\n",
       "      <td>Test Set Index</td>\n",
       "      <td>24</td>\n",
       "    </tr>\n",
       "    <tr>\n",
       "      <th>2</th>\n",
       "      <td>Utterance</td>\n",
       "      <td>help  help</td>\n",
       "    </tr>\n",
       "    <tr>\n",
       "      <th>3</th>\n",
       "      <td>Actual Intent</td>\n",
       "      <td>SYSTEM_OUT_OF_DOMAIN</td>\n",
       "    </tr>\n",
       "    <tr>\n",
       "      <th>4</th>\n",
       "      <td>Predicted Intent</td>\n",
       "      <td>Fallback</td>\n",
       "    </tr>\n",
       "    <tr>\n",
       "      <th>5</th>\n",
       "      <td>Confidence</td>\n",
       "      <td>0.34423</td>\n",
       "    </tr>\n",
       "  </tbody>\n",
       "</table>\n",
       "</div>"
      ],
      "text/plain": [
       "     Characteristic                 Value\n",
       "1    Test Set Index                    24\n",
       "2         Utterance           help  help \n",
       "3     Actual Intent  SYSTEM_OUT_OF_DOMAIN\n",
       "4  Predicted Intent              Fallback\n",
       "5        Confidence               0.34423"
      ]
     },
     "metadata": {},
     "output_type": "display_data"
    },
    {
     "data": {
      "image/png": "[encoded data removed]",
      "text/plain": [
       "<Figure size 144x360 with 2 Axes>"
      ]
     },
     "metadata": {},
     "output_type": "display_data"
    },
    {
     "data": {
      "text/html": [
       "<div>\n",
       "<style scoped>\n",
       "    .dataframe tbody tr th:only-of-type {\n",
       "        vertical-align: middle;\n",
       "    }\n",
       "\n",
       "    .dataframe tbody tr th {\n",
       "        vertical-align: top;\n",
       "    }\n",
       "\n",
       "    .dataframe thead th {\n",
       "        text-align: right;\n",
       "    }\n",
       "</style>\n",
       "<table border=\"1\" class=\"dataframe\">\n",
       "  <thead>\n",
       "    <tr style=\"text-align: right;\">\n",
       "      <th></th>\n",
       "      <th>Characteristic</th>\n",
       "      <th>Value</th>\n",
       "    </tr>\n",
       "  </thead>\n",
       "  <tbody>\n",
       "    <tr>\n",
       "      <th>1</th>\n",
       "      <td>Test Set Index</td>\n",
       "      <td>23</td>\n",
       "    </tr>\n",
       "    <tr>\n",
       "      <th>2</th>\n",
       "      <td>Utterance</td>\n",
       "      <td>can you help  help</td>\n",
       "    </tr>\n",
       "    <tr>\n",
       "      <th>3</th>\n",
       "      <td>Actual Intent</td>\n",
       "      <td>SYSTEM_OUT_OF_DOMAIN</td>\n",
       "    </tr>\n",
       "    <tr>\n",
       "      <th>4</th>\n",
       "      <td>Predicted Intent</td>\n",
       "      <td>Fallback</td>\n",
       "    </tr>\n",
       "    <tr>\n",
       "      <th>5</th>\n",
       "      <td>Confidence</td>\n",
       "      <td>0.306629</td>\n",
       "    </tr>\n",
       "  </tbody>\n",
       "</table>\n",
       "</div>"
      ],
      "text/plain": [
       "     Characteristic                 Value\n",
       "1    Test Set Index                    23\n",
       "2         Utterance   can you help  help \n",
       "3     Actual Intent  SYSTEM_OUT_OF_DOMAIN\n",
       "4  Predicted Intent              Fallback\n",
       "5        Confidence              0.306629"
      ]
     },
     "metadata": {},
     "output_type": "display_data"
    },
    {
     "data": {
      "image/png": "[encoded data removed]",
      "text/plain": [
       "<Figure size 144x360 with 2 Axes>"
      ]
     },
     "metadata": {},
     "output_type": "display_data"
    },
    {
     "data": {
      "text/html": [
       "<div>\n",
       "<style scoped>\n",
       "    .dataframe tbody tr th:only-of-type {\n",
       "        vertical-align: middle;\n",
       "    }\n",
       "\n",
       "    .dataframe tbody tr th {\n",
       "        vertical-align: top;\n",
       "    }\n",
       "\n",
       "    .dataframe thead th {\n",
       "        text-align: right;\n",
       "    }\n",
       "</style>\n",
       "<table border=\"1\" class=\"dataframe\">\n",
       "  <thead>\n",
       "    <tr style=\"text-align: right;\">\n",
       "      <th></th>\n",
       "      <th>Characteristic</th>\n",
       "      <th>Value</th>\n",
       "    </tr>\n",
       "  </thead>\n",
       "  <tbody>\n",
       "    <tr>\n",
       "      <th>1</th>\n",
       "      <td>Test Set Index</td>\n",
       "      <td>2</td>\n",
       "    </tr>\n",
       "    <tr>\n",
       "      <th>2</th>\n",
       "      <td>Utterance</td>\n",
       "      <td>ciao  goodbye</td>\n",
       "    </tr>\n",
       "    <tr>\n",
       "      <th>3</th>\n",
       "      <td>Actual Intent</td>\n",
       "      <td>SYSTEM_OUT_OF_DOMAIN</td>\n",
       "    </tr>\n",
       "    <tr>\n",
       "      <th>4</th>\n",
       "      <td>Predicted Intent</td>\n",
       "      <td>Fallback</td>\n",
       "    </tr>\n",
       "    <tr>\n",
       "      <th>5</th>\n",
       "      <td>Confidence</td>\n",
       "      <td>0.205</td>\n",
       "    </tr>\n",
       "  </tbody>\n",
       "</table>\n",
       "</div>"
      ],
      "text/plain": [
       "     Characteristic                 Value\n",
       "1    Test Set Index                     2\n",
       "2         Utterance        ciao  goodbye \n",
       "3     Actual Intent  SYSTEM_OUT_OF_DOMAIN\n",
       "4  Predicted Intent              Fallback\n",
       "5        Confidence                 0.205"
      ]
     },
     "metadata": {},
     "output_type": "display_data"
    },
    {
     "data": {
      "image/png": "[encoded data removed]",
      "text/plain": [
       "<Figure size 144x360 with 2 Axes>"
      ]
     },
     "metadata": {},
     "output_type": "display_data"
    }
   ],
   "source": [
    "# The output folder for generated images\n",
    "# Note modify this if you want the generated images to be stored in a different directory\n",
    "\n",
    "highlighting_output_folder = './highlighting_images/'\n",
    "if not os.path.exists(highlighting_output_folder):\n",
    "    os.mkdir(highlighting_output_folder)\n",
    "\n",
    "# The threshold the prediction needs to achieve below which  \n",
    "# it will be considered as `out of domain` or `offtopic` utterances. \n",
    "threshold = 0.2\n",
    "\n",
    "# Maximum number of test set examples whose highlighting analysis will be conducted\n",
    "K=25\n",
    "highlighter.get_highlights_in_batch_multi_thread(conversation=conversation, \n",
    "                                                 full_results=full_results, \n",
    "                                                 output_folder=highlighting_output_folder,\n",
    "                                                 confidence_threshold=threshold,\n",
    "                                                 show_worst_k=K,\n",
    "                                                 lang_util=lang_util,\n",
    "                                                 assistant_id=ASSISTANT_ID,\n",
    "                                                 intent_to_action_mapping=intent_to_action_mapping,\n",
    "                                                )"
   ]
  },
  {
   "cell_type": "markdown",
   "metadata": {},
   "source": [
    "<a id='part3.3'></a>\n",
    "## 3.3 Analyze abnormal confidence levels\n",
    "Every test utterance is classified as a specific intent with a specific confidence by the Watson Assistant intent classifier. It is expected that model would be confident when it correctly predicts examples and not highly confident when it incorrectly predicts examples. \n",
    "\n",
    "But this is not always true. This can be because there are anomalies in the design. Examples that are predicted correctly with low confidence and the examples that are predicted incorrectly with high confidence are cases which need to be reviewed."
   ]
  },
  {
   "cell_type": "code",
   "execution_count": 44,
   "metadata": {},
   "outputs": [],
   "source": [
    "correct_thresh, wrong_thresh = 0.3, 0.7\n",
    "correct_with_low_conf_list, incorrect_with_high_conf_list = confidence_analyzer.abnormal_conf(\n",
    "    full_results, correct_thresh, wrong_thresh)"
   ]
  },
  {
   "cell_type": "code",
   "execution_count": 47,
   "metadata": {},
   "outputs": [],
   "source": [
    "if len(correct_with_low_conf_list) > 0:\n",
    "    display(Markdown(\"#### Examples correctedly predicted with low confidence\"))\n",
    "    with pd.option_context('max_colwidth', 250):\n",
    "        display(HTML(correct_with_low_conf_list.to_html(index=False)))"
   ]
  },
  {
   "cell_type": "code",
   "execution_count": 48,
   "metadata": {},
   "outputs": [],
   "source": [
    "if len(incorrect_with_high_conf_list) > 0:\n",
    "    display(Markdown(\"#### Examples incorrectedly predicted with high confidence\"))\n",
    "    with pd.option_context('max_colwidth', 250):\n",
    "        display(HTML(incorrect_with_high_conf_list.to_html(index=False)))"
   ]
  },
  {
   "cell_type": "markdown",
   "metadata": {},
   "source": [
    "### Actions to take when you have examples of abnormal confidence\n",
    "\n",
    "If there are examples which are incorrectly classified with high confidence for specific intents, it may indicate an issue in the design of those specific intents because the user examples provided for that intent may be overlapping with the design of other intents.\n",
    "\n",
    "If intent A seems to always get misclassified as intent B with high confidence or gets correctly predicted with low confidence, consider using intent conflict detection. For more information, refer to the <a href=\"https://cloud.ibm.com/docs/services/assistant?topic=assistant-intents#intents-resolve-conflicts\" target=\"_blank\" rel=\"noopener no referrer\">Conflict Resolution Documentation</a>.\n",
    "\n",
    "Also consider whether those two intents need to be two separate intents or whether they need to be merged. If they can't be merged, then consider adding more user examples which distinguish intent A specifically from intent B."
   ]
  },
  {
   "cell_type": "markdown",
   "metadata": {},
   "source": [
    "<a id='part4'></a>\n",
    "## Part 4: Summary\n",
    "Congratulations! You have successfully completed the action skill analysis training. <br>\n",
    "This notebook is designed to improve our action skill analysis in an iterative fashion. Use it to tackle one aspect of your action skill at a time and start over for another aspect later for continuous improvement."
   ]
  },
  {
   "cell_type": "markdown",
   "metadata": {},
   "source": [
    "##  Glossary\n",
    "\n",
    "**True Positives (TP):** True Positive measures the number of correctly predicted positive values meaning that predicted class is the same as the actual class which is the target intent.\n",
    "\n",
    "**True Negatives (TN):** True Negative measures the number of correctly predicted negative values meaning that the predicted class is the same as the actual class which is not the target intent.\n",
    "\n",
    "**False Positives (FP):** False Positive measures the number of incorrectly predicted positive values meaning that the predicted class is the target intent but the actual class is not the target intent.  \n",
    "\n",
    "**False Negatives (FN):** False Negatives measures the number of incorrectly predicted negative values meaning that the predicted class is not the target intent but the actual class is the target intent. \n",
    "\n",
    "**Accuracy:** Accuracy measures the ratio of corrected predicted user examples out of all user examples.   \n",
    "Accuracy = (TP + TN) / (TP + TN + FP + FN)  \n",
    "\n",
    "**Precision:** Precision measures the ratio of correctly predicted positive observations out of total predicted positive observations.   \n",
    "Precision = TP / (TP + FP)  \n",
    "\n",
    "**Recall:** Recall measures the ratio of correctly predicted positive observations out of all observations of the target intent.  \n",
    "Recall = TP / (TP + FN)\n",
    "\n",
    "**F1 Score:** F1 Score is the harmonic average of Precision and Recall.  \n",
    "F1 = 2 \\* (Precision \\* Recall)/ (Precision + Recall)\n",
    "\n",
    "For more information related to Watson Assistant, refer to the <a href=\"https://cloud.ibm.com/docs/services/assistant\" target=\"_blank\" rel=\"noopener no referrer\">Watson Assistant Documentation</a>."
   ]
  },
  {
   "cell_type": "markdown",
   "metadata": {},
   "source": [
    "# <hr>\n",
    "Copyright © 2022 IBM. This notebook and its source code are released under the terms of the MIT License."
   ]
  }
 ],
 "metadata": {
  "kernelspec": {
   "display_name": "Python 3.9",
   "language": "python",
   "name": "python3"
  },
  "language_info": {
   "codemirror_mode": {
    "name": "ipython",
    "version": 3
   },
   "file_extension": ".py",
   "mimetype": "text/x-python",
   "name": "python",
   "nbconvert_exporter": "python",
   "pygments_lexer": "ipython3",
   "version": "3.9.12"
  }
 },
 "nbformat": 4,
 "nbformat_minor": 1
}
