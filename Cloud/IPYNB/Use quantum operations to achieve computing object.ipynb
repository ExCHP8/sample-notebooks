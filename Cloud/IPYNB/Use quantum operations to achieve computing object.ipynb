{
 "cells": [
  {
   "cell_type": "markdown",
   "metadata": {},
   "source": [
    "# Use quantum operations to achieve computing objectives"
   ]
  },
  {
   "cell_type": "markdown",
   "metadata": {},
   "source": [
    "\n",
    "The purpose of this notebook article is to demonstrate using quantum operations to achieve computing objectives. The term *quantum operation* refers to a higher level method that may be implemented with one or many low-level quantum gates.  More generally, the goal is to demonstrate the notion that quantum algorithms use quantum operations to implement constraints that coerce qubits from representing any possible outcomes to representing the outcomes that satisfy the constraints.\n",
    "\n",
    "Using John Preskill's terminology, we now have \"noisy intermediate scale quantum\" (NISQ) computers that can obtain a desired outcome with high probablility, i.e. where the desired outcome rises well above the noise that can occur within the current early-stage quantum computing devices. In this notebook article, we will implement a classical computing algorithm in order to see how differently it is done in quantum computing, and we will see that the desired outcome occurs by far the most frequently.  However, note that the emphasis is on understanding how the quantum operations achieve an easily understood result, and so there is no quantum computing speedup in this case.\n",
    "\n",
    "In this notebook article, we will create a **quantum circuit** that uses quantum operations to perform **addition** of two single bit numbers. This problem reduces to developing quantum operation sequences that perform a classical 'XOR' operation to calculate the least significant bit and a classical 'AND' operation to calculate the most significant bit of the answer. This can be seen in the two columns of the expected answers below:\n",
    "\n",
    "$0+0=00$<br/>\n",
    "$0+1=01$<br/>\n",
    "$1+0=01$<br/>\n",
    "$1+1=10$<br/>"
   ]
  },
  {
   "cell_type": "markdown",
   "metadata": {},
   "source": [
    "### Table of contents\n",
    "\n",
    "1. [Install and import Qiskit](#install)\n",
    "2. [The memory model for this quantum circuit](#memory)\n",
    "3. [Initialize and input the quantum circuit](#initial)\n",
    "4. [Performing 'XOR' with Quantum Operations](#xor)\n",
    "5. [Performing 'AND' with Quantum Operations](#and)\n",
    "6. [Simulate the quantum circuit](#simulate)\n",
    "7. [Run the experiment on a real IBM Q quantum computer](#run)\n",
    "8. [Conclusion](#conclusion)"
   ]
  },
  {
   "cell_type": "markdown",
   "metadata": {},
   "source": [
    "## 1. Install and import Qiskit<a id=\"install\"></a>\n",
    "\n",
    "The Quantum Information Science development kit, or Qiskit, is a library and framework for either connecting to and running quantum computing programs on a real IBM Q quantum computer or simulating them on the user's classical computing environment. The first cell below contains code to run once to get Qiskit installed. The second cell below should be run any time the notebook starts to import the parts of Qiskit relevant to this notebook's operations."
   ]
  },
  {
   "cell_type": "code",
   "execution_count": 1,
   "metadata": {},
   "outputs": [],
   "source": [
    "# !pip install --user qiskit"
   ]
  },
  {
   "cell_type": "code",
   "execution_count": 2,
   "metadata": {},
   "outputs": [],
   "source": [
    "# Import the Qiskit\n",
    "from qiskit import QuantumCircuit, ClassicalRegister, QuantumRegister, QISKitError\n",
    "from qiskit import execute, IBMQ, Aer\n",
    "from qiskit.backends.ibmq import least_busy"
   ]
  },
  {
   "cell_type": "markdown",
   "metadata": {},
   "source": [
    "## 2. The memory model for this quantum circuit<a id=\"memory\"></a>\n",
    "\n",
    "This notebook uses qubits $q_0$ and $q_1$ for the inputs. \n",
    "\n",
    "Qubit $q_2$ will be used for the least significant bit of the answer, and qubit $q_3$ will be for the most significant bit."
   ]
  },
  {
   "cell_type": "code",
   "execution_count": 3,
   "metadata": {},
   "outputs": [],
   "source": [
    "num_qubits = 4\n",
    "\n",
    "# Create a Quantum Register with the desired number of qubits.\n",
    "q = QuantumRegister(num_qubits)\n",
    "# Create a Classical Register with the same number of classical computing bits.\n",
    "c = ClassicalRegister(num_qubits)"
   ]
  },
  {
   "cell_type": "markdown",
   "metadata": {},
   "source": [
    "## 3. Initialize and input the quantum circuit <a id=\"initial\"></a>\n",
    "\n",
    "The following cell creates the quantum circuit with the quantum and classical registers. Then, it assigns the input to qubits $q_0$ and $q_1$.\n",
    "\n",
    "The ground state |$0\\rangle$ is the default, so an X gate is used on qubits that must start in the excited state |$1\\rangle$.\n",
    "The X gate performs a $\\pi$ radian rotation about the $X$-axis, which rotates |$0\\rangle$ (a.k.a. |+$z\\rangle$) through the $Y$-axis to |$1\\rangle$ (a.k.a. |-$z\\rangle$). The X gate is sometimes called a NOT gate, but note that it performs a $\\pi$ radian rotation that happens to perform a classical NOT, or bit flip, only when the qubit is in |$0\\rangle$ or |$1\\rangle$ state. **To change the input**, comment out the X gate operation on any qubits that should be |$0\\rangle$ and ensure the X gate is not commented on any qubits that should be initialized to |$1\\rangle$. "
   ]
  },
  {
   "cell_type": "code",
   "execution_count": 4,
   "metadata": {},
   "outputs": [
    {
     "data": {
      "text/plain": [
       "<qiskit.extensions.standard.x.XGate at 0x7f84a5a27390>"
      ]
     },
     "execution_count": 4,
     "metadata": {},
     "output_type": "execute_result"
    }
   ],
   "source": [
    "# Create the initial quantum circuit with the quantum and classical registers\n",
    "qc = QuantumCircuit(q, c)\n",
    "\n",
    "# INPUT: Default qubit values are ground state |0>. Uncomment to flip either or both to excited state |1> \n",
    "qc.x(q[0])\n",
    "qc.x(q[1])"
   ]
  },
  {
   "cell_type": "markdown",
   "metadata": {},
   "source": [
    "## 4. Performing 'XOR' with quantum operations<a id=\"xor\"></a>\n",
    "\n",
    "An 'XOR' can be performed with two quantum operations. The inputs of the 'XOR' come from qubits $q_0$ and $q_1$, and the output of the 'XOR' will go to qubit $q_2$. The output qubit, $q_2$, starts in the ground state, |$0\\rangle$. \n",
    "\n",
    "We first apply a controlled-not operation with $q_2$ as the target of the control and with $q_0$ as the source. The controlled-not is also called CNOT, or CX. This operation negates the target if the source is excited (|$1\\rangle$). By itself, this operation changes $q_2$ from |$0\\rangle$ to |$1\\rangle$ if $q_0$ is |$1\\rangle$, and it leaves $q_2$ unchanged if $q_0$ is |$0\\rangle$.\n",
    "\n",
    "Next, we apply a CNOT with qubit $q_2$ as the target and with $q_1$ as the source. If $q_1$ is |$0\\rangle$, then $q_2$ is unchanged from the effect of the CNOT with $q_0$. Therefore, we have:\n",
    "\n",
    "$q_0$=|$0\\rangle$ $q_1$=|$0\\rangle$ results in $q_2$=|$0\\rangle$\n",
    "\n",
    "$q_0$=|$1\\rangle$ $q_1$=|$0\\rangle$ results in $q_2$=|$1\\rangle$\n",
    "\n",
    "However, if $q_1$ is |$1\\rangle$, then $q_2$ is inverted relative to the effect of the CNOT with $q_0$. Therefore, we have: \n",
    "\n",
    "$q_0$=|$0\\rangle$ $q_1$=|$1\\rangle$ results in $q_2$=|$1\\rangle$\n",
    "\n",
    "$q_0$=|$1\\rangle$ $q_1$=|$1\\rangle$ results in $q_2$=|$0\\rangle$\n",
    "\n",
    "This concludes the method for performing 'XOR' with quantum operation, which calculates the least significant bit of the single bit addition result."
   ]
  },
  {
   "cell_type": "code",
   "execution_count": 5,
   "metadata": {},
   "outputs": [
    {
     "data": {
      "text/plain": [
       "<qiskit.extensions.standard.cx.CnotGate at 0x7f84a5a27748>"
      ]
     },
     "execution_count": 5,
     "metadata": {},
     "output_type": "execute_result"
    }
   ],
   "source": [
    "# CNOT (controlled-not): source qubit 0 flips target qubit 2 if the source qubit 0 is 1\n",
    "qc.cx(q[0], q[2])\n",
    "# CNOT (controlled-not): source qubit 1 flips target qubit 2 if the source qubit 1 is 1\n",
    "qc.cx(q[1], q[2])"
   ]
  },
  {
   "cell_type": "markdown",
   "metadata": {},
   "source": [
    "## 5. Performing 'AND' with quantum operations<a id=\"and\"></a>\n",
    "\n",
    "An 'AND' can be performed with three quantum operations. The inputs of the 'AND' come from qubits $q_0$ and $q_1$, and the output of the 'AND' will go to qubit $q_3$. The output qubit, $q_3$, starts in the ground state, |$0\\rangle$. \n",
    "\n",
    "**Operation 1.** We target qubit $q_3$ with a controlled-Hadamard operation that is controlled by the source qubit $q_0$. This changes the target $q_3$ from  |$0\\rangle$ to |+$x\\rangle$ if the source $q_0$ is |$1\\rangle$. The operation looks like this on the Bloch sphere:\n",
    "\n",
    "<img src=\"https://github.com/IBMDataScience/sample-notebooks/raw/master/Files/ANDonBlochSphereI.png\" alt=\"Controlled Hadamard on Qubit 3 if Qubit 0 is 1\" style=\"width: 30%;height: 30%\"/>"
   ]
  },
  {
   "cell_type": "markdown",
   "metadata": {},
   "source": [
    "**Operation 2.** Next, we target qubit $q_3$ with a controlled-Z operation that is controlled by the source qubit $q_1$. This changes the phase of the target $q_3$ by rotating $\\pi$ radians around $Z$-axis if the source qubit $q_1$ is |$1\\rangle$. The operation looks like this on the Bloch sphere:\n",
    "\n",
    "<img src=\"https://github.com/IBMDataScience/sample-notebooks/raw/master/Files/ANDonBlochSphereII.png\" alt=\"Controlled Z Phase Change on Qubit 3 if Qubit 1 is 1\" style=\"width: 40%;height: 40%\"/>\n",
    "\n",
    "The following are the results so far:\n",
    "* For input $q_1$ $q_0$ = |$0\\rangle$ |$0\\rangle$, $q_3$ is not changed from |$0\\rangle$\n",
    "* For input $q_1$ $q_0$ = |$0\\rangle$ |$1\\rangle$, $q_3$ only changed to |+$x\\rangle$\n",
    "* For input $q_1$ $q_0$ = |$1\\rangle$ |$0\\rangle$, $q_3$ is at |$0\\rangle$ because $q_0$ did not rotate it, and $q_1$ requests a $Z$-axis phase rotation, but |$0\\rangle$ is along the $Z$-axis, so rotating it does nothing.\n",
    "* For input $q_1$ $q_0$ = |$1\\rangle$ |$1\\rangle$, $q_3$ is |-$x\\rangle$ due to $\\pi$ phase rotation from |+$x\\rangle$"
   ]
  },
  {
   "cell_type": "markdown",
   "metadata": {},
   "source": [
    "**Operation 3.** Finally, we target $q_3$ with a controlled-Hadamard operation that is controlled by the source qubit $q_0$. Note above that when input $q_0$ is |$0\\rangle$, $q_3$ is already in the correct state of |$0\\rangle$. Therefore, we only take a further action if $q_0$ is |$1\\rangle$.\n",
    "\n",
    "When $q_0$ is |$1\\rangle$, then the controlled-Hadamard operation maps the $X$-axis to the $Z$-axis, so |+$x\\rangle$ is converted to |+$z\\rangle$=|$0\\rangle$ and |-$x\\rangle$ is converted to |-$z\\rangle$=|$1\\rangle$. The operation looks like this on the Bloch sphere:\n",
    "\n",
    "<img src=\"https://github.com/IBMDataScience/sample-notebooks/raw/master/Files/ANDonBlochSphereIII.png\" alt=\"A Second Controlled Hadamard if Qubit 0 is 1\" style=\"width: 40%;height: 40%\"/>\n",
    "\n",
    "This concludes the method for performing 'AND' with quantum operation, which calculates the most significant bit of the single bit addition result."
   ]
  },
  {
   "cell_type": "code",
   "execution_count": 6,
   "metadata": {},
   "outputs": [
    {
     "data": {
      "text/plain": [
       "<qiskit.extensions.standard.ch.CHGate at 0x7f84a5a27ac8>"
      ]
     },
     "execution_count": 6,
     "metadata": {},
     "output_type": "execute_result"
    }
   ],
   "source": [
    "# 1. We target q3 with a controlled-Hadamard operation, controlled by source q0, which changes q3 from |0> to |+x> if q0 is 1.\n",
    "qc.ch(q[0], q[3])\n",
    "# 2. We target q3 with a controlled-Z operation, controlled by q1, which changes q3's phase (rotating by pi around the Z-axis) if q1 is 1.\n",
    "qc.cz(q[1], q[3])\n",
    "# 3. We target q3 with a controlled-Hadamard, controlled by source q0. If q0 is |1>, then q3 changes to |1> if q1 was also |1> and |0> otherwise \n",
    "qc.ch(q[0], q[3])"
   ]
  },
  {
   "cell_type": "markdown",
   "metadata": {},
   "source": [
    "## 6. Perform the measurement<a id=\"perform\"></a>\n",
    "We use the code below to measure the state of the qubits, giving a classical computing answer."
   ]
  },
  {
   "cell_type": "code",
   "execution_count": 7,
   "metadata": {},
   "outputs": [
    {
     "data": {
      "text/plain": [
       "<qiskit._instructionset.InstructionSet at 0x7f84d00f30b8>"
      ]
     },
     "execution_count": 7,
     "metadata": {},
     "output_type": "execute_result"
    }
   ],
   "source": [
    "# Collapse superpositions into an answer\n",
    "qc.measure(q, c)"
   ]
  },
  {
   "cell_type": "markdown",
   "metadata": {},
   "source": [
    "## 7. Simulate the quantum circuit<a id=\"simulate\"></a>\n",
    "On a simulator, we execute the quantum circuit that defines the input, performs the processing, and measures the output. Then, we render the output in the notebook user interface."
   ]
  },
  {
   "cell_type": "code",
   "execution_count": 8,
   "metadata": {},
   "outputs": [
    {
     "name": "stdout",
     "output_type": "stream",
     "text": [
      "Data Result: {'counts': {'1011': 1024}, 'snapshots': {}}\n"
     ]
    }
   ],
   "source": [
    "# Execute the quantum circuit that defines the input, performs the proessing, and measures the output\n",
    "simulator = Aer.get_backend('qasm_simulator')\n",
    "job = execute(qc, simulator)\n",
    "\n",
    "# Render the output in the notebook user interface\n",
    "result = job.result()\n",
    "print(\"Data Result:\", result.get_data(qc))"
   ]
  },
  {
   "cell_type": "markdown",
   "metadata": {},
   "source": [
    "Based on the initialization in cell 5 above, the simulator always produces the result '10' (2) in qubits $q_3$ and $q_2$."
   ]
  },
  {
   "cell_type": "markdown",
   "metadata": {},
   "source": [
    "## 8. Run the experiment on a real IBM Q quantum computer<a id=\"run\"></a>\n",
    "Now we will set up to run on a real IBM Q quantum computer. The first cell below contains code that only has to run once per Python run-time to get it to work with your IBM Q Experience account. The second cell should be run once per notebook session to load the user's IBM Q quantum computer access token."
   ]
  },
  {
   "cell_type": "code",
   "execution_count": 9,
   "metadata": {},
   "outputs": [],
   "source": [
    "# This only has to be run once per Python run-time to get it to work with your IBM Q Experience account\n",
    "# In the IBM Q Composer, click your avatar (top right), select My Account, click Advanced.\n",
    "# If the API Token field is empty, click Regenerate. \n",
    "# Press Copy API Token in the composer, and then paste the result into the token string literal value below\n",
    "# Uncomment the lines to run them, which only has to be done once.\n",
    "\n",
    "#token = ''\n",
    "#IBMQ.save_account(token)"
   ]
  },
  {
   "cell_type": "code",
   "execution_count": 10,
   "metadata": {},
   "outputs": [],
   "source": [
    "# This loads the user's API access key, which was previously saved in a one-time setup above.\n",
    "IBMQ.load_accounts()"
   ]
  },
  {
   "cell_type": "markdown",
   "metadata": {},
   "source": [
    "Obtain a real IBM Q quantum computer that is available to run the job, then compile and execute on it. The commented code let's you obtain the least busy IBM Q quantum computer, or a specific other device. The uncommented line requests a particular 5 qubit IBM Q device."
   ]
  },
  {
   "cell_type": "code",
   "execution_count": 11,
   "metadata": {},
   "outputs": [
    {
     "name": "stdout",
     "output_type": "stream",
     "text": [
      "Running on device:  ibmqx4\n",
      "experiment:  COMPLETED\n"
     ]
    }
   ],
   "source": [
    "result_counts = {}\n",
    "\n",
    "try:\n",
    "    # Obtain an available quantum computer\n",
    "    ibmq_backends = IBMQ.backends()\n",
    "    #device = least_busy(IBMQ.backends(simulator=False))\n",
    "    device = IBMQ.get_backend('ibmqx4')\n",
    "    #device = IBMQ.get_backend('ibmq_16_melbourne')\n",
    "    print(\"Running on device: \", device)\n",
    "\n",
    "    # Compile and execute the Quantum circuit on the quantum computer\n",
    "    job_exp = execute(qc, device, shots=1024, max_credits=10)\n",
    "    result_exp = job_exp.result()\n",
    "\n",
    "    # Render the output in the notebook user interface\n",
    "    print(\"experiment: \", result_exp)\n",
    "    result_counts = result_exp.get_counts(qc)\n",
    "except:\n",
    "    print(\"All devices are currently unavailable.\")"
   ]
  },
  {
   "cell_type": "markdown",
   "metadata": {},
   "source": [
    "In the results, the qubits are in the order $q_3$, $q_2$, $q_1$, and $q_0$, so we tally the outcomes based on the first two qubits as they are the output qubits. \n",
    "\n",
    "There are four possible outcomes for the two output qubits: 00, 01, 10, and 11. The expected outcome is 10. With 1024 shots, the noise outcome would be on the order of 256 shots per possible outcome. \n",
    "\n",
    "In the frequencies list and bar chart below, one can see that, by far, the **correct final state of the output qubits occurs more frequently than all other possible outcomes combined**. A most frequently occurring quantum computing outcome is precisely what a quantum experimentalist would investigate first within their real world application."
   ]
  },
  {
   "cell_type": "code",
   "execution_count": 12,
   "metadata": {},
   "outputs": [
    {
     "name": "stdout",
     "output_type": "stream",
     "text": [
      "{'00': 263, '10': 590, '01': 91, '11': 80}\n"
     ]
    }
   ],
   "source": [
    "result_frequencies = {'00':0, '01':0, '10':0, '11':0 }\n",
    "    \n",
    "for key in result_counts.keys():\n",
    "    freq_key = key[0:2]\n",
    "    result_frequencies[freq_key] = result_frequencies[freq_key] + result_counts[key]\n",
    "        \n",
    "print(result_frequencies) "
   ]
  },
  {
   "cell_type": "code",
   "execution_count": 14,
   "metadata": {},
   "outputs": [
    {
     "data": {
      "image/png": "[encoded data removed]",
      "text/plain": [
       "<matplotlib.figure.Figure at 0x7f84917475c0>"
      ]
     },
     "metadata": {},
     "output_type": "display_data"
    }
   ],
   "source": [
    "import matplotlib.pyplot as plt\n",
    "\n",
    "D = result_frequencies\n",
    "\n",
    "plt.bar(range(len(D)), list(D.values()), align='center')\n",
    "plt.xticks(range(len(D)), list(D.keys()))\n",
    "plt.show()"
   ]
  },
  {
   "cell_type": "markdown",
   "metadata": {},
   "source": [
    "## 9. Conclusion<a id=\"conclusion\"></a>\n",
    "\n",
    "In this notebook, we have demonstrated how quantum algorithms use quantum operations to coerce qubits into representing the outcome or outcomes that satisfy the constraints of a problem. In the case of quantum addition of two qubits initialized with classical bit values, one output qubit had to satisfy the constraint of being excited if and only if the two input qubits differed, and a second output qubit had to satisfy the constraint of being excited if and only if both input qubits were excited. Not only did we simulate this quantum circuit, we ran it on a real IBM Q quantum computer. When we did, we witnessed the fact that in the NISQ era, one plus one is most probably two!\n",
    "\n",
    "Finally, note that the quantum logical AND method we built above is also signicant because one can append an X gate, which performs a logical NOT, resulting in a NAND operation. In classical cmputing, the NAND operation is a universal gate that can be used to build all other classical computing circuits. **Therefore, any classical computing solution can be expressed... and we have only used 4 points of the Bloch sphere representing the total expressive power available to each qubit of a quantum computer.**"
   ]
  },
  {
   "cell_type": "markdown",
   "metadata": {},
   "source": [
    "### Citations\n",
    "\n",
    "1. <a href=\"https://qiskit.org/\">Qiskit</a>. An open-source quantum computing framework for leveraging today's quantum processors in research, education, and business."
   ]
  },
  {
   "cell_type": "markdown",
   "metadata": {},
   "source": [
    "### Acknowledgements\n",
    "\n",
    "The author gratefully acknowledges the thorough reviews and feedback by Luuk Ament and Robert Loredo."
   ]
  },
  {
   "cell_type": "markdown",
   "metadata": {},
   "source": [
    "### Author\n",
    "**John M. Boyer, Ph.D.**<br/>\n",
    "Distinguished Engineer and Master Inventor <br/>\n",
    "IBM Global Chief Data Office"
   ]
  },
  {
   "cell_type": "markdown",
   "metadata": {},
   "source": [
    "Copyright © 2017, 2018 IBM. This notebook and its source code are released under the terms of the MIT License."
   ]
  },
  {
   "cell_type": "markdown",
   "metadata": {},
   "source": [
    "<div style=\"background:#F5F7FA; height:110px; padding: 2em; font-size:14px;\">\n",
    "<span style=\"font-size:18px;color:#152935;\">Love this notebook? </span>\n",
    "<span style=\"font-size:15px;color:#152935;float:right;margin-right:40px;\">Don't have an account yet?</span><br>\n",
    "<span style=\"color:#5A6872;\">Share it with your colleagues and help them discover the power of Watson Studio!</span>\n",
    "<span style=\"border: 1px solid #3d70b2;padding:8px;float:right;margin-right:40px; color:#3d70b2;\"><a href=\"https://ibm.co/wsnotebooks\" target=\"_blank\" style=\"color: #3d70b2;text-decoration: none;\">Sign Up</a></span><br>\n",
    "</div>"
   ]
  }
 ],
 "metadata": {
  "kernelspec": {
   "display_name": "Python 3.5",
   "language": "python",
   "name": "python3"
  },
  "language_info": {
   "codemirror_mode": {
    "name": "ipython",
    "version": 3
   },
   "file_extension": ".py",
   "mimetype": "text/x-python",
   "name": "python",
   "nbconvert_exporter": "python",
   "pygments_lexer": "ipython3",
   "version": "3.5.5"
  }
 },
 "nbformat": 4,
 "nbformat_minor": 2
}
