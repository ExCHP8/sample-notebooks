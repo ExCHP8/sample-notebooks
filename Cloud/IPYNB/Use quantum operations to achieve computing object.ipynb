{
 "cells": [
  {
   "cell_type": "markdown",
   "metadata": {},
   "source": [
    "# Use quantum operations to achieve computing objectives"
   ]
  },
  {
   "cell_type": "markdown",
   "metadata": {},
   "source": [
    "\n",
    "The purpose of this notebook article is to demonstrate using quantum operations to achieve computing objectives. The term *quantum operation* refers to a higher level method that may be implemented with one or many low-level quantum gates.  More generally, the goal is to demonstrate the notion that quantum algorithms use quantum operations to implement constraints that coerce qubits from representing any possible outcomes to representing the outcomes that satisfy the constraints.\n",
    "\n",
    "Using John Preskill's terminology, we now have \"noisy intermediate scale quantum\" (NISQ) computers that can obtain a desired outcome with high probablility, i.e. where the desired outcome rises well above the noise that can occur within the current early-stage quantum computing devices. In this notebook article, we will implement a classical computing algorithm in order to see how differently it is done in quantum computing, and we will see that the desired outcome occurs by far the most frequently.  However, note that the emphasis is on understanding how the quantum operations achieve an easily understood result, and so there is no quantum computing speedup in this case.\n",
    "\n",
    "In this notebook article, we will create a **quantum circuit** that uses quantum operations to perform **addition** of two single bit numbers. This problem reduces to developing quantum operation sequences that perform a classical 'XOR' operation to calculate the least significant bit and a classical 'AND' operation to calculate the most significant bit of the answer. This can be seen in the two columns of the expected answers below:\n",
    "\n",
    "$0+0=00$<br/>\n",
    "$0+1=01$<br/>\n",
    "$1+0=01$<br/>\n",
    "$1+1=10$<br/>"
   ]
  },
  {
   "cell_type": "markdown",
   "metadata": {},
   "source": [
    "### Table of contents\n",
    "\n",
    "1. [Install and import Qiskit](#install)\n",
    "2. [The memory model for this quantum circuit](#memory)\n",
    "3. [Initialize and input the quantum circuit](#initial)\n",
    "4. [Performing 'XOR' with Quantum Operations](#xor)\n",
    "5. [Performing 'AND' with Quantum Operations](#and)\n",
    "6. [Simulate the quantum circuit](#simulate)\n",
    "7. [Run the experiment on a real IBM Q quantum computer](#run)\n",
    "8. [Conclusion](#conclusion)"
   ]
  },
  {
   "cell_type": "markdown",
   "metadata": {},
   "source": [
    "## 1. Install and import Qiskit<a id=\"install\"></a>\n",
    "\n",
    "The Quantum Information Science development kit, or Qiskit, is a library and framework for either connecting to and running quantum computing programs on a real IBM Q quantum computer or simulating them on the user's classical computing environment. The first cell below contains code to run once to get Qiskit installed. The second cell below should be run any time the notebook starts to import the parts of Qiskit relevant to this notebook's operations."
   ]
  },
  {
   "cell_type": "code",
   "execution_count": 1,
   "metadata": {},
   "outputs": [
    {
     "name": "stdout",
     "output_type": "stream",
     "text": [
      "/opt/conda/envs/Python-3.7-main/lib/python3.7/site-packages/secretstorage/dhcrypto.py:16: CryptographyDeprecationWarning: int_from_bytes is deprecated, use int.from_bytes instead\n",
      "  from cryptography.utils import int_from_bytes\n",
      "/opt/conda/envs/Python-3.7-main/lib/python3.7/site-packages/secretstorage/util.py:25: CryptographyDeprecationWarning: int_from_bytes is deprecated, use int.from_bytes instead\n",
      "  from cryptography.utils import int_from_bytes\n",
      "Requirement already satisfied: qiskit in /home/wsuser/.local/lib/python3.7/site-packages (0.27.0)\n",
      "Requirement already satisfied: qiskit-aer==0.8.2 in /home/wsuser/.local/lib/python3.7/site-packages (from qiskit) (0.8.2)\n",
      "Requirement already satisfied: qiskit-terra==0.17.4 in /home/wsuser/.local/lib/python3.7/site-packages (from qiskit) (0.17.4)\n",
      "Requirement already satisfied: qiskit-ignis==0.6.0 in /home/wsuser/.local/lib/python3.7/site-packages (from qiskit) (0.6.0)\n",
      "Requirement already satisfied: qiskit-aqua==0.9.2 in /home/wsuser/.local/lib/python3.7/site-packages (from qiskit) (0.9.2)\n",
      "Requirement already satisfied: qiskit-ibmq-provider==0.14.0 in /home/wsuser/.local/lib/python3.7/site-packages (from qiskit) (0.14.0)\n",
      "Requirement already satisfied: scipy>=1.0 in /opt/conda/envs/Python-3.7-main/lib/python3.7/site-packages (from qiskit-aer==0.8.2->qiskit) (1.5.0)\n",
      "Requirement already satisfied: pybind11>=2.6 in /home/wsuser/.local/lib/python3.7/site-packages (from qiskit-aer==0.8.2->qiskit) (2.6.2)\n",
      "Requirement already satisfied: numpy>=1.16.3 in /opt/conda/envs/Python-3.7-main/lib/python3.7/site-packages (from qiskit-aer==0.8.2->qiskit) (1.18.5)\n",
      "Requirement already satisfied: python-dateutil>=2.8.0 in /opt/conda/envs/Python-3.7-main/lib/python3.7/site-packages (from qiskit-terra==0.17.4->qiskit) (2.8.1)\n",
      "Requirement already satisfied: python-constraint>=1.4 in /home/wsuser/.local/lib/python3.7/site-packages (from qiskit-terra==0.17.4->qiskit) (1.4.0)\n",
      "Requirement already satisfied: jsonschema>=2.6 in /opt/conda/envs/Python-3.7-main/lib/python3.7/site-packages (from qiskit-terra==0.17.4->qiskit) (3.2.0)\n",
      "Requirement already satisfied: fastjsonschema>=2.10 in /home/wsuser/.local/lib/python3.7/site-packages (from qiskit-terra==0.17.4->qiskit) (2.15.1)\n",
      "Requirement already satisfied: retworkx>=0.8.0 in /home/wsuser/.local/lib/python3.7/site-packages (from qiskit-terra==0.17.4->qiskit) (0.9.0)\n",
      "Requirement already satisfied: sympy>=1.3 in /opt/conda/envs/Python-3.7-main/lib/python3.7/site-packages (from qiskit-terra==0.17.4->qiskit) (1.6.2)\n",
      "Requirement already satisfied: psutil>=5 in /home/wsuser/.local/lib/python3.7/site-packages (from qiskit-terra==0.17.4->qiskit) (5.8.0)\n",
      "Requirement already satisfied: ply>=3.10 in /home/wsuser/.local/lib/python3.7/site-packages (from qiskit-terra==0.17.4->qiskit) (3.11)\n",
      "Requirement already satisfied: dill>=0.3 in /opt/conda/envs/Python-3.7-main/lib/python3.7/site-packages (from qiskit-terra==0.17.4->qiskit) (0.3.0)\n",
      "Requirement already satisfied: setuptools>=40.1.0 in /opt/conda/envs/Python-3.7-main/lib/python3.7/site-packages (from qiskit-ignis==0.6.0->qiskit) (47.3.1.post20200622)\n",
      "Requirement already satisfied: pandas in /opt/conda/envs/Python-3.7-main/lib/python3.7/site-packages (from qiskit-aqua==0.9.2->qiskit) (1.0.5)\n",
      "Requirement already satisfied: docplex<=2.20.204; sys_platform != \"darwin\" in /opt/conda/envs/Python-3.7-main/lib/python3.7/site-packages (from qiskit-aqua==0.9.2->qiskit) (2.20.204)\n",
      "Requirement already satisfied: h5py in /opt/conda/envs/Python-3.7-main/lib/python3.7/site-packages (from qiskit-aqua==0.9.2->qiskit) (2.10.0)\n",
      "Requirement already satisfied: fastdtw<=0.3.4 in /home/wsuser/.local/lib/python3.7/site-packages (from qiskit-aqua==0.9.2->qiskit) (0.3.4)\n",
      "Requirement already satisfied: quandl in /home/wsuser/.local/lib/python3.7/site-packages (from qiskit-aqua==0.9.2->qiskit) (3.6.1)\n",
      "Requirement already satisfied: yfinance in /home/wsuser/.local/lib/python3.7/site-packages (from qiskit-aqua==0.9.2->qiskit) (0.1.59)\n",
      "Requirement already satisfied: scikit-learn>=0.20.0 in /opt/conda/envs/Python-3.7-main/lib/python3.7/site-packages (from qiskit-aqua==0.9.2->qiskit) (0.23.1)\n",
      "Requirement already satisfied: dlx<=1.0.4 in /home/wsuser/.local/lib/python3.7/site-packages (from qiskit-aqua==0.9.2->qiskit) (1.0.4)\n",
      "Requirement already satisfied: requests>=2.19 in /opt/conda/envs/Python-3.7-main/lib/python3.7/site-packages (from qiskit-ibmq-provider==0.14.0->qiskit) (2.24.0)\n",
      "Requirement already satisfied: requests-ntlm>=1.1.0 in /home/wsuser/.local/lib/python3.7/site-packages (from qiskit-ibmq-provider==0.14.0->qiskit) (1.1.0)\n",
      "Requirement already satisfied: websocket-client>=1.0.1 in /home/wsuser/.local/lib/python3.7/site-packages (from qiskit-ibmq-provider==0.14.0->qiskit) (1.1.0)\n",
      "Requirement already satisfied: urllib3>=1.21.1 in /opt/conda/envs/Python-3.7-main/lib/python3.7/site-packages (from qiskit-ibmq-provider==0.14.0->qiskit) (1.25.9)\n",
      "Requirement already satisfied: six>=1.5 in /opt/conda/envs/Python-3.7-main/lib/python3.7/site-packages (from python-dateutil>=2.8.0->qiskit-terra==0.17.4->qiskit) (1.15.0)\n",
      "Requirement already satisfied: importlib-metadata; python_version < \"3.8\" in /opt/conda/envs/Python-3.7-main/lib/python3.7/site-packages (from jsonschema>=2.6->qiskit-terra==0.17.4->qiskit) (1.6.1)\n",
      "Requirement already satisfied: attrs>=17.4.0 in /opt/conda/envs/Python-3.7-main/lib/python3.7/site-packages (from jsonschema>=2.6->qiskit-terra==0.17.4->qiskit) (19.3.0)\n",
      "Requirement already satisfied: pyrsistent>=0.14.0 in /opt/conda/envs/Python-3.7-main/lib/python3.7/site-packages (from jsonschema>=2.6->qiskit-terra==0.17.4->qiskit) (0.16.0)\n",
      "Requirement already satisfied: mpmath>=0.19 in /opt/conda/envs/Python-3.7-main/lib/python3.7/site-packages (from sympy>=1.3->qiskit-terra==0.17.4->qiskit) (1.1.0)\n",
      "Requirement already satisfied: pytz>=2017.2 in /opt/conda/envs/Python-3.7-main/lib/python3.7/site-packages (from pandas->qiskit-aqua==0.9.2->qiskit) (2020.1)\n",
      "Requirement already satisfied: inflection>=0.3.1 in /home/wsuser/.local/lib/python3.7/site-packages (from quandl->qiskit-aqua==0.9.2->qiskit) (0.5.1)\n",
      "Requirement already satisfied: more-itertools in /opt/conda/envs/Python-3.7-main/lib/python3.7/site-packages (from quandl->qiskit-aqua==0.9.2->qiskit) (8.4.0)\n",
      "Requirement already satisfied: lxml>=4.5.1 in /opt/conda/envs/Python-3.7-main/lib/python3.7/site-packages (from yfinance->qiskit-aqua==0.9.2->qiskit) (4.6.3)\n",
      "Requirement already satisfied: multitasking>=0.0.7 in /home/wsuser/.local/lib/python3.7/site-packages (from yfinance->qiskit-aqua==0.9.2->qiskit) (0.0.9)\n",
      "Requirement already satisfied: threadpoolctl>=2.0.0 in /opt/conda/envs/Python-3.7-main/lib/python3.7/site-packages (from scikit-learn>=0.20.0->qiskit-aqua==0.9.2->qiskit) (2.1.0)\n",
      "Requirement already satisfied: joblib>=0.11 in /opt/conda/envs/Python-3.7-main/lib/python3.7/site-packages (from scikit-learn>=0.20.0->qiskit-aqua==0.9.2->qiskit) (0.16.0)\n",
      "Requirement already satisfied: certifi>=2017.4.17 in /opt/conda/envs/Python-3.7-main/lib/python3.7/site-packages (from requests>=2.19->qiskit-ibmq-provider==0.14.0->qiskit) (2021.5.30)\n",
      "Requirement already satisfied: chardet<4,>=3.0.2 in /opt/conda/envs/Python-3.7-main/lib/python3.7/site-packages (from requests>=2.19->qiskit-ibmq-provider==0.14.0->qiskit) (3.0.4)\n",
      "Requirement already satisfied: idna<3,>=2.5 in /opt/conda/envs/Python-3.7-main/lib/python3.7/site-packages (from requests>=2.19->qiskit-ibmq-provider==0.14.0->qiskit) (2.9)\n",
      "Requirement already satisfied: ntlm-auth>=1.0.2 in /home/wsuser/.local/lib/python3.7/site-packages (from requests-ntlm>=1.1.0->qiskit-ibmq-provider==0.14.0->qiskit) (1.5.0)\n",
      "Requirement already satisfied: cryptography>=1.3 in /opt/conda/envs/Python-3.7-main/lib/python3.7/site-packages (from requests-ntlm>=1.1.0->qiskit-ibmq-provider==0.14.0->qiskit) (3.4.7)\n",
      "Requirement already satisfied: zipp>=0.5 in /opt/conda/envs/Python-3.7-main/lib/python3.7/site-packages (from importlib-metadata; python_version < \"3.8\"->jsonschema>=2.6->qiskit-terra==0.17.4->qiskit) (3.1.0)\n",
      "Requirement already satisfied: cffi>=1.12 in /opt/conda/envs/Python-3.7-main/lib/python3.7/site-packages (from cryptography>=1.3->requests-ntlm>=1.1.0->qiskit-ibmq-provider==0.14.0->qiskit) (1.14.0)\n",
      "Requirement already satisfied: pycparser in /opt/conda/envs/Python-3.7-main/lib/python3.7/site-packages (from cffi>=1.12->cryptography>=1.3->requests-ntlm>=1.1.0->qiskit-ibmq-provider==0.14.0->qiskit) (2.20)\n"
     ]
    }
   ],
   "source": [
    "!pip install --user qiskit"
   ]
  },
  {
   "cell_type": "code",
   "execution_count": 2,
   "metadata": {},
   "outputs": [],
   "source": [
    "# Import the Qiskit\n",
    "from qiskit import QuantumCircuit, ClassicalRegister, QuantumRegister, QiskitError\n",
    "from qiskit import execute, IBMQ, Aer\n",
    "from qiskit.providers.ibmq import least_busy"
   ]
  },
  {
   "cell_type": "markdown",
   "metadata": {},
   "source": [
    "## 2. The memory model for this quantum circuit<a id=\"memory\"></a>\n",
    "\n",
    "This notebook uses qubits $q_0$ and $q_1$ for the inputs. \n",
    "\n",
    "Qubit $q_2$ will be used for the least significant bit of the answer, and qubit $q_3$ will be for the most significant bit."
   ]
  },
  {
   "cell_type": "code",
   "execution_count": 3,
   "metadata": {},
   "outputs": [],
   "source": [
    "num_qubits = 4\n",
    "\n",
    "# Create a Quantum Register with the desired number of qubits.\n",
    "q = QuantumRegister(num_qubits)\n",
    "# Create a Classical Register with the same number of classical computing bits.\n",
    "c = ClassicalRegister(num_qubits)"
   ]
  },
  {
   "cell_type": "markdown",
   "metadata": {},
   "source": [
    "## 3. Initialize and input the quantum circuit <a id=\"initial\"></a>\n",
    "\n",
    "The following cell creates the quantum circuit with the quantum and classical registers. Then, it assigns the input to qubits $q_0$ and $q_1$.\n",
    "\n",
    "The ground state |$0\\rangle$ is the default, so an X gate is used on qubits that must start in the excited state |$1\\rangle$.\n",
    "The X gate performs a $\\pi$ radian rotation about the $X$-axis, which rotates |$0\\rangle$ (a.k.a. |+$z\\rangle$) through the $Y$-axis to |$1\\rangle$ (a.k.a. |-$z\\rangle$). The X gate is sometimes called a NOT gate, but note that it performs a $\\pi$ radian rotation that happens to perform a classical NOT, or bit flip, only when the qubit is in |$0\\rangle$ or |$1\\rangle$ state. **To change the input**, comment out the X gate operation on any qubits that should be |$0\\rangle$ and ensure the X gate is not commented on any qubits that should be initialized to |$1\\rangle$. "
   ]
  },
  {
   "cell_type": "code",
   "execution_count": 4,
   "metadata": {},
   "outputs": [
    {
     "data": {
      "text/plain": [
       "<qiskit.circuit.instructionset.InstructionSet at 0x7f1d685ba990>"
      ]
     },
     "execution_count": 4,
     "metadata": {},
     "output_type": "execute_result"
    }
   ],
   "source": [
    "# Create the initial quantum circuit with the quantum and classical registers\n",
    "qc = QuantumCircuit(q, c)\n",
    "\n",
    "# INPUT: Default qubit values are ground state |0>. Uncomment to flip either or both to excited state |1> \n",
    "qc.x(q[0])\n",
    "qc.x(q[1])"
   ]
  },
  {
   "cell_type": "markdown",
   "metadata": {},
   "source": [
    "## 4. Performing 'XOR' with quantum operations<a id=\"xor\"></a>\n",
    "\n",
    "An 'XOR' can be performed with two quantum operations. The inputs of the 'XOR' come from qubits $q_0$ and $q_1$, and the output of the 'XOR' will go to qubit $q_2$. The output qubit, $q_2$, starts in the ground state, |$0\\rangle$. \n",
    "\n",
    "We first apply a controlled-not operation with $q_2$ as the target of the control and with $q_0$ as the source. The controlled-not is also called CNOT, or CX. This operation negates the target if the source is excited (|$1\\rangle$). By itself, this operation changes $q_2$ from |$0\\rangle$ to |$1\\rangle$ if $q_0$ is |$1\\rangle$, and it leaves $q_2$ unchanged if $q_0$ is |$0\\rangle$.\n",
    "\n",
    "Next, we apply a CNOT with qubit $q_2$ as the target and with $q_1$ as the source. If $q_1$ is |$0\\rangle$, then $q_2$ is unchanged from the effect of the CNOT with $q_0$. Therefore, we have:\n",
    "\n",
    "$q_0$=|$0\\rangle$ $q_1$=|$0\\rangle$ results in $q_2$=|$0\\rangle$\n",
    "\n",
    "$q_0$=|$1\\rangle$ $q_1$=|$0\\rangle$ results in $q_2$=|$1\\rangle$\n",
    "\n",
    "However, if $q_1$ is |$1\\rangle$, then $q_2$ is inverted relative to the effect of the CNOT with $q_0$. Therefore, we have: \n",
    "\n",
    "$q_0$=|$0\\rangle$ $q_1$=|$1\\rangle$ results in $q_2$=|$1\\rangle$\n",
    "\n",
    "$q_0$=|$1\\rangle$ $q_1$=|$1\\rangle$ results in $q_2$=|$0\\rangle$\n",
    "\n",
    "This concludes the method for performing 'XOR' with quantum operation, which calculates the least significant bit of the single bit addition result."
   ]
  },
  {
   "cell_type": "code",
   "execution_count": 5,
   "metadata": {},
   "outputs": [
    {
     "data": {
      "text/plain": [
       "<qiskit.circuit.instructionset.InstructionSet at 0x7f1d685ca5d0>"
      ]
     },
     "execution_count": 5,
     "metadata": {},
     "output_type": "execute_result"
    }
   ],
   "source": [
    "# CNOT (controlled-not): source qubit 0 flips target qubit 2 if the source qubit 0 is 1\n",
    "qc.cx(q[0], q[2])\n",
    "# CNOT (controlled-not): source qubit 1 flips target qubit 2 if the source qubit 1 is 1\n",
    "qc.cx(q[1], q[2])"
   ]
  },
  {
   "cell_type": "markdown",
   "metadata": {},
   "source": [
    "## 5. Performing 'AND' with quantum operations<a id=\"and\"></a>\n",
    "\n",
    "An 'AND' can be performed with three quantum operations. The inputs of the 'AND' come from qubits $q_0$ and $q_1$, and the output of the 'AND' will go to qubit $q_3$. The output qubit, $q_3$, starts in the ground state, |$0\\rangle$. \n",
    "\n",
    "**Operation 1.** We target qubit $q_3$ with a controlled-Hadamard operation that is controlled by the source qubit $q_0$. This changes the target $q_3$ from  |$0\\rangle$ to |+$x\\rangle$ if the source $q_0$ is |$1\\rangle$. The operation looks like this on the Bloch sphere:\n",
    "\n",
    "<img src=\"https://github.com/IBMDataScience/sample-notebooks/raw/master/Files/ANDonBlochSphereI.png\" alt=\"Controlled Hadamard on Qubit 3 if Qubit 0 is 1\" style=\"width: 30%;height: 30%\"/>"
   ]
  },
  {
   "cell_type": "markdown",
   "metadata": {},
   "source": [
    "**Operation 2.** Next, we target qubit $q_3$ with a controlled-Z operation that is controlled by the source qubit $q_1$. This changes the phase of the target $q_3$ by rotating $\\pi$ radians around $Z$-axis if the source qubit $q_1$ is |$1\\rangle$. The operation looks like this on the Bloch sphere:\n",
    "\n",
    "<img src=\"https://github.com/IBMDataScience/sample-notebooks/raw/master/Files/ANDonBlochSphereII.png\" alt=\"Controlled Z Phase Change on Qubit 3 if Qubit 1 is 1\" style=\"width: 40%;height: 40%\"/>\n",
    "\n",
    "The following are the results so far:\n",
    "* For input $q_1$ $q_0$ = |$0\\rangle$ |$0\\rangle$, $q_3$ is not changed from |$0\\rangle$\n",
    "* For input $q_1$ $q_0$ = |$0\\rangle$ |$1\\rangle$, $q_3$ only changed to |+$x\\rangle$\n",
    "* For input $q_1$ $q_0$ = |$1\\rangle$ |$0\\rangle$, $q_3$ is at |$0\\rangle$ because $q_0$ did not rotate it, and $q_1$ requests a $Z$-axis phase rotation, but |$0\\rangle$ is along the $Z$-axis, so rotating it does nothing.\n",
    "* For input $q_1$ $q_0$ = |$1\\rangle$ |$1\\rangle$, $q_3$ is |-$x\\rangle$ due to $\\pi$ phase rotation from |+$x\\rangle$"
   ]
  },
  {
   "cell_type": "markdown",
   "metadata": {},
   "source": [
    "**Operation 3.** Finally, we target $q_3$ with a controlled-Hadamard operation that is controlled by the source qubit $q_0$. Note above that when input $q_0$ is |$0\\rangle$, $q_3$ is already in the correct state of |$0\\rangle$. Therefore, we only take a further action if $q_0$ is |$1\\rangle$.\n",
    "\n",
    "When $q_0$ is |$1\\rangle$, then the controlled-Hadamard operation maps the $X$-axis to the $Z$-axis, so |+$x\\rangle$ is converted to |+$z\\rangle$=|$0\\rangle$ and |-$x\\rangle$ is converted to |-$z\\rangle$=|$1\\rangle$. The operation looks like this on the Bloch sphere:\n",
    "\n",
    "<img src=\"https://github.com/IBMDataScience/sample-notebooks/raw/master/Files/ANDonBlochSphereIII.png\" alt=\"A Second Controlled Hadamard if Qubit 0 is 1\" style=\"width: 40%;height: 40%\"/>\n",
    "\n",
    "This concludes the method for performing 'AND' with quantum operation, which calculates the most significant bit of the single bit addition result."
   ]
  },
  {
   "cell_type": "code",
   "execution_count": 6,
   "metadata": {},
   "outputs": [
    {
     "data": {
      "text/plain": [
       "<qiskit.circuit.instructionset.InstructionSet at 0x7f1d685caf10>"
      ]
     },
     "execution_count": 6,
     "metadata": {},
     "output_type": "execute_result"
    }
   ],
   "source": [
    "# 1. We target q3 with a controlled-Hadamard operation, controlled by source q0, which changes q3 from |0> to |+x> if q0 is 1.\n",
    "qc.ch(q[0], q[3])\n",
    "# 2. We target q3 with a controlled-Z operation, controlled by q1, which changes q3's phase (rotating by pi around the Z-axis) if q1 is 1.\n",
    "qc.cz(q[1], q[3])\n",
    "# 3. We target q3 with a controlled-Hadamard, controlled by source q0. If q0 is |1>, then q3 changes to |1> if q1 was also |1> and |0> otherwise \n",
    "qc.ch(q[0], q[3])"
   ]
  },
  {
   "cell_type": "markdown",
   "metadata": {},
   "source": [
    "## 6. Perform the measurement<a id=\"perform\"></a>\n",
    "We use the code below to measure the state of the qubits, giving a classical computing answer."
   ]
  },
  {
   "cell_type": "code",
   "execution_count": 7,
   "metadata": {},
   "outputs": [
    {
     "data": {
      "text/plain": [
       "<qiskit.circuit.instructionset.InstructionSet at 0x7f1d685ba790>"
      ]
     },
     "execution_count": 7,
     "metadata": {},
     "output_type": "execute_result"
    }
   ],
   "source": [
    "# Collapse superpositions into an answer\n",
    "qc.measure(q, c)"
   ]
  },
  {
   "cell_type": "markdown",
   "metadata": {},
   "source": [
    "## 7. Simulate the quantum circuit<a id=\"simulate\"></a>\n",
    "On a simulator, we execute the quantum circuit that defines the input, performs the processing, and measures the output. Then, we render the output in the notebook user interface."
   ]
  },
  {
   "cell_type": "code",
   "execution_count": 8,
   "metadata": {},
   "outputs": [
    {
     "name": "stdout",
     "output_type": "stream",
     "text": [
      "Data Result: {'counts': {'0xb': 1024}}\n"
     ]
    }
   ],
   "source": [
    "# Execute the quantum circuit that defines the input, performs the proessing, and measures the output\n",
    "simulator = Aer.get_backend('qasm_simulator')\n",
    "job = execute(qc, simulator)\n",
    "\n",
    "# Render the output in the notebook user interface\n",
    "result = job.result()\n",
    "print(\"Data Result:\", result.data(qc))"
   ]
  },
  {
   "cell_type": "markdown",
   "metadata": {},
   "source": [
    "Based on the initialization in cell 5 above, the simulator always produces the result '10' (2) in qubits $q_3$ and $q_2$."
   ]
  },
  {
   "cell_type": "markdown",
   "metadata": {},
   "source": [
    "## 8. Run the experiment on a real IBM Q quantum computer<a id=\"run\"></a>\n",
    "Now we will set up to run on a real IBM Q quantum computer. The first cell below contains code that only has to run once per Python run-time to get it to work with your IBM Q Experience account. The second cell should be run once per notebook session to load the user's IBM Q quantum computer access token."
   ]
  },
  {
   "cell_type": "code",
   "execution_count": 9,
   "metadata": {},
   "outputs": [],
   "source": [
    "# This only has to be run once per Python run-time to get it to work with your IBM Q Experience account\n",
    "# In the IBM Q Composer, click your avatar (top right), select My Account, click Advanced.\n",
    "# If the API Token field is empty, click Regenerate. \n",
    "# Press Copy API Token in the composer, and then paste the result into the token string literal value below\n",
    "# Uncomment the lines to run them, which only has to be done once.\n",
    "\n",
    "token = ''\n",
    "IBMQ.save_account(token, overwrite=True)"
   ]
  },
  {
   "cell_type": "code",
   "execution_count": 10,
   "metadata": {},
   "outputs": [],
   "source": [
    "# This loads the user's API access key, which was previously saved in a one-time setup above.\n",
    "my_provider = IBMQ.load_account()"
   ]
  },
  {
   "cell_type": "markdown",
   "metadata": {},
   "source": [
    "Obtain a real IBM Q quantum computer that is available to run the job, then compile and execute on it. The commented code let's you obtain the least busy IBM Q quantum computer, or a specific other device. The uncommented line requests a particular 5 qubit IBM Q device."
   ]
  },
  {
   "cell_type": "code",
   "execution_count": 12,
   "metadata": {},
   "outputs": [
    {
     "name": "stdout",
     "output_type": "stream",
     "text": [
      "Running on device:  ibmqx2\n",
      "experiment:  Result(backend_name='ibmqx2', backend_version='2.3.6', qobj_id='6c5f7a88-2cd8-4cb3-8b8d-0de6f6872592', job_id='60df8172ffeef7322e8b5703', success=True, results=[ExperimentResult(shots=1024, success=True, meas_level=2, data=ExperimentResultData(counts={'0x0': 16, '0x1': 10, '0x2': 58, '0x3': 69, '0x4': 12, '0x5': 13, '0x6': 40, '0x7': 23, '0x8': 22, '0x9': 38, '0xa': 201, '0xb': 426, '0xc': 3, '0xd': 9, '0xe': 34, '0xf': 50}), header=QobjExperimentHeader(clbit_labels=[['c0', 0], ['c0', 1], ['c0', 2], ['c0', 3]], creg_sizes=[['c0', 4]], global_phase=2.356194490192345, memory_slots=4, metadata={}, n_qubits=5, name='circuit-0', qreg_sizes=[['q', 5]], qubit_labels=[['q', 0], ['q', 1], ['q', 2], ['q', 3], ['q', 4]]), memory=False)], date=2021-07-02 21:13:32+00:00, status=Successful completion, status=QobjHeader(backend_name='ibmqx2', backend_version='2.3.6'), time_taken=3.8815619945526123, execution_id='5981b112-db7a-11eb-bcb3-ac1f6b91f43c', client_version={'qiskit': '0.27.0'})\n"
     ]
    }
   ],
   "source": [
    "result_counts = {}\n",
    "\n",
    "try:\n",
    "    # Obtain an available quantum computer\n",
    "    ibmq_backends = my_provider.backends()\n",
    "    ibmq_backends = [i for i in ibmq_backends if 'imulator' not in i.name()]\n",
    "    #device = least_busy(IBMQ.backends(simulator=False))\n",
    "    device = least_busy(ibmq_backends)\n",
    "    #device = IBMQ.get_backend('ibmq_16_melbourne')\n",
    "    print(\"Running on device: \", device)\n",
    "\n",
    "    # Compile and execute the Quantum circuit on the quantum computer\n",
    "    job_exp = execute(qc, device, shots=1024, max_credits=10)\n",
    "    result_exp = job_exp.result()\n",
    "\n",
    "    # Render the output in the notebook user interface\n",
    "    print(\"experiment: \", result_exp)\n",
    "    result_counts = result_exp.get_counts(qc)\n",
    "except Exception as e:\n",
    "    print(f\"Exception occurred: {e}\")"
   ]
  },
  {
   "cell_type": "markdown",
   "metadata": {},
   "source": [
    "In the results, the qubits are in the order $q_3$, $q_2$, $q_1$, and $q_0$, so we tally the outcomes based on the first two qubits as they are the output qubits. \n",
    "\n",
    "There are four possible outcomes for the two output qubits: 00, 01, 10, and 11. The expected outcome is 10. With 1024 shots, the noise outcome would be on the order of 256 shots per possible outcome. \n",
    "\n",
    "In the frequencies list and bar chart below, one can see that, by far, the **correct final state of the output qubits occurs more frequently than all other possible outcomes combined**. A most frequently occurring quantum computing outcome is precisely what a quantum experimentalist would investigate first within their real world application."
   ]
  },
  {
   "cell_type": "markdown",
   "metadata": {},
   "source": [
    "<div class=\"alert alert-block alert-warning\">Please wait until the quantum computer previous cell completes its run before running the following code.</div>\n",
    "</div>"
   ]
  },
  {
   "cell_type": "code",
   "execution_count": 13,
   "metadata": {},
   "outputs": [
    {
     "name": "stdout",
     "output_type": "stream",
     "text": [
      "{'00': 153, '01': 88, '10': 687, '11': 96}\n"
     ]
    }
   ],
   "source": [
    "result_frequencies = {'00':0, '01':0, '10':0, '11':0 }\n",
    "    \n",
    "for key in result_counts.keys():\n",
    "    freq_key = key[0:2]\n",
    "    result_frequencies[freq_key] = result_frequencies[freq_key] + result_counts[key]\n",
    "        \n",
    "print(result_frequencies) "
   ]
  },
  {
   "cell_type": "code",
   "execution_count": 14,
   "metadata": {},
   "outputs": [
    {
     "data": {
      "image/png": "[encoded data removed]",
      "text/plain": [
       "<Figure size 432x288 with 1 Axes>"
      ]
     },
     "metadata": {
      "needs_background": "light"
     },
     "output_type": "display_data"
    }
   ],
   "source": [
    "import matplotlib.pyplot as plt\n",
    "\n",
    "D = result_frequencies\n",
    "\n",
    "plt.bar(range(len(D)), list(D.values()), align='center')\n",
    "plt.xticks(range(len(D)), list(D.keys()))\n",
    "plt.show()"
   ]
  },
  {
   "cell_type": "markdown",
   "metadata": {},
   "source": [
    "## 9. Conclusion<a id=\"conclusion\"></a>\n",
    "\n",
    "In this notebook, we have demonstrated how quantum algorithms use quantum operations to coerce qubits into representing the outcome or outcomes that satisfy the constraints of a problem. In the case of quantum addition of two qubits initialized with classical bit values, one output qubit had to satisfy the constraint of being excited if and only if the two input qubits differed, and a second output qubit had to satisfy the constraint of being excited if and only if both input qubits were excited. Not only did we simulate this quantum circuit, we ran it on a real IBM Q quantum computer. When we did, we witnessed the fact that in the NISQ era, one plus one is most probably two!\n",
    "\n",
    "Finally, note that the quantum logical AND method we built above is also signicant because one can append an X gate, which performs a logical NOT, resulting in a NAND operation. In classical cmputing, the NAND operation is a universal gate that can be used to build all other classical computing circuits. **Therefore, any classical computing solution can be expressed... and we have only used 4 points of the Bloch sphere representing the total expressive power available to each qubit of a quantum computer.**"
   ]
  },
  {
   "cell_type": "markdown",
   "metadata": {},
   "source": [
    "### Citations\n",
    "\n",
    "1. <a href=\"https://qiskit.org/\">Qiskit</a>. An open-source quantum computing framework for leveraging today's quantum processors in research, education, and business."
   ]
  },
  {
   "cell_type": "markdown",
   "metadata": {},
   "source": [
    "### Acknowledgements\n",
    "\n",
    "The author gratefully acknowledges the thorough reviews and feedback by Luuk Ament and Robert Loredo."
   ]
  },
  {
   "cell_type": "markdown",
   "metadata": {},
   "source": [
    "### Author\n",
    "**John M. Boyer, Ph.D.**<br/>\n",
    "Distinguished Engineer and Master Inventor <br/>\n",
    "IBM Global Chief Data Office"
   ]
  },
  {
   "cell_type": "markdown",
   "metadata": {},
   "source": [
    "Copyright © 2020 IBM. This notebook and its source code are released under the terms of the MIT License."
   ]
  }
 ],
 "metadata": {
  "kernelspec": {
   "display_name": "Python 3.7",
   "language": "python",
   "name": "python3"
  },
  "language_info": {
   "codemirror_mode": {
    "name": "ipython",
    "version": 3
   },
   "file_extension": ".py",
   "mimetype": "text/x-python",
   "name": "python",
   "nbconvert_exporter": "python",
   "pygments_lexer": "ipython3",
   "version": "3.7.10"
  }
 },
 "nbformat": 4,
 "nbformat_minor": 2
}
