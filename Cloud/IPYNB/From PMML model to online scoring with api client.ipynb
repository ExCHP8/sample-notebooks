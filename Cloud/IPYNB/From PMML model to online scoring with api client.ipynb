{
 "cells": [
  {
   "cell_type": "markdown",
   "metadata": {},
   "source": [
    "<div style=\"background:#F5F7FA; height:100px; padding: 2em; font-size:14px;\">\n",
    "<span style=\"font-size:18px;color:#152935;\">Want to do more?</span><span style=\"border: 1px solid #3d70b2;padding: 15px;float:right;margin-right:40px; color:#3d70b2; \"><a href=\"https://ibm.co/wsnotebooks\" target=\"_blank\" style=\"color: #3d70b2;text-decoration: none;\">Sign Up</a></span><br>\n",
    "<span style=\"color:#5A6872;\"> Try out this notebook with your free trial of IBM Watson Studio.</span>\n",
    "</div>"
   ]
  },
  {
   "cell_type": "markdown",
   "metadata": {},
   "source": [
    "<table style=\"border: none\" align=\"left\">\n",
    "   <tr style=\"border: none\">\n",
    "      <th style=\"border: none\"><font face=\"verdana\" size=\"5\" color=\"black\"><b>Predict Iris Species with IBM Watson Machine Learning</b></th>\n",
    "      <th style=\"border: none\"><img src=\"https://github.com/pmservice/customer-satisfaction-prediction/blob/master/app/static/images/ml_icon_gray.png?raw=true\" alt=\"Watson Machine Learning icon\" height=\"40\" width=\"40\"></th>\n",
    "  <tr style=\"border: none\">\n",
    "       <th style=\"border: none\"><img src=\"https://github.com/pmservice/wml-sample-models/blob/master/spark/customer-satisfaction-prediction/images/users_banner_2-03.png?raw=true\" width=\"600\" alt=\"Icon\"> </th>\n",
    "   </tr>\n",
    "</table>"
   ]
  },
  {
   "cell_type": "markdown",
   "metadata": {},
   "source": [
    "This notebook contains steps which describe from storing sample Predictive Model Markup Language (PMML) model to starting scoring new data. \n",
    "\n",
    "Some familiarity with python is helpful. This notebook uses Python 3.5 with Spark 2.1.\n",
    "\n",
    "You will use an **Iris** data set, which details measurements of iris perianth. Use the details of this data set to predict the iris species.\n",
    "\n",
    "## Learning goals\n",
    "\n",
    "The learning goals of this notebook are:\n",
    "\n",
    "-  Work with the Watson Machine Learning (WML) instance\n",
    "-  Deploy the PMML model online\n",
    "-  Score with the deployed model\n",
    "\n",
    "\n",
    "## Contents\n",
    "\n",
    "This notebook contains the following parts:\n",
    "\n",
    "1.\t[Setup](#setup)\n",
    "2.\t[Work with service instance](#instance) \n",
    "3.\t[Persist, deploy and score in an IBM Cloud](#scoring)\n",
    "4.\t[Summary and next steps](#summary)"
   ]
  },
  {
   "cell_type": "markdown",
   "metadata": {},
   "source": [
    "<a id=\"setup\"></a>\n",
    "## 1. Setup\n",
    "\n",
    "Before you use the sample code in this notebook, you must perform the following setup tasks:\n",
    "\n",
    "-  Create a <a href=\"https://console.ng.bluemix.net/catalog/services/ibm-watson-machine-learning/\" target=\"_blank\" rel=\"noopener noreferrer\">Watson Machine Learning Service</a> instance required for model storing and deployment (a free plan is offered)\n",
    "-  **Not required on Watson Studio**: Install the <a href=\"https://pypi.python.org/pypi?%3Aaction=search&term=watson-machine-learning-client&submit=search\" target=\"_blank\" rel=\"noopener noreferrer\">Watson-machine-learning-client</a> "
   ]
  },
  {
   "cell_type": "markdown",
   "metadata": {},
   "source": [
    "<a id=\"instance\"></a>\n",
    "## 2. Working with the instance"
   ]
  },
  {
   "cell_type": "markdown",
   "metadata": {},
   "source": [
    "In this section you will learn how to get details of your instance."
   ]
  },
  {
   "cell_type": "markdown",
   "metadata": {},
   "source": [
    "Install python API client from pypi."
   ]
  },
  {
   "cell_type": "code",
   "execution_count": null,
   "metadata": {},
   "outputs": [],
   "source": [
    "!pip install watson-machine-learning-client --upgrade"
   ]
  },
  {
   "cell_type": "markdown",
   "metadata": {},
   "source": [
    "**Tip:** If the above install fails due to `AssertionError: Multiple .dist-info ...`, uninstall the client library and remove the build directory with the commands below. \n",
    "\n",
    "Then run the `!pip install` again."
   ]
  },
  {
   "cell_type": "code",
   "execution_count": 9,
   "metadata": {},
   "outputs": [],
   "source": [
    "#!rm -rf /tmp/<directory-id-found-in-error>/pip-build/watson-machine-learning-client`\n",
    "\n",
    "# where, for example, directory-id is: `s130-c0573632d58e90-35c9a7ecf27a`"
   ]
  },
  {
   "cell_type": "markdown",
   "metadata": {},
   "source": [
    "**Action**: Enter your Watson Machine Learning service credentials from your IBM Cloud instance here."
   ]
  },
  {
   "cell_type": "code",
   "execution_count": 11,
   "metadata": {},
   "outputs": [],
   "source": [
    "wml_credentials = {\n",
    "  \"url\": \"***\",\n",
    "  \"access_key\": \"***\",\n",
    "  \"username\": \"***\",\n",
    "  \"password\": \"***\",\n",
    "  \"instance_id\": \"***\"\n",
    "}"
   ]
  },
  {
   "cell_type": "code",
   "execution_count": 12,
   "metadata": {},
   "outputs": [],
   "source": [
    "from watson_machine_learning_client import WatsonMachineLearningAPIClient"
   ]
  },
  {
   "cell_type": "code",
   "execution_count": 13,
   "metadata": {},
   "outputs": [],
   "source": [
    "wml_client = WatsonMachineLearningAPIClient(wml_credentials)"
   ]
  },
  {
   "cell_type": "markdown",
   "metadata": {},
   "source": [
    "Details about your Watson Machine Learning service are available in `instance_details`."
   ]
  },
  {
   "cell_type": "code",
   "execution_count": null,
   "metadata": {},
   "outputs": [],
   "source": [
    "print(wml_client.instance_details)"
   ]
  },
  {
   "cell_type": "markdown",
   "metadata": {},
   "source": [
    "Get a list of the stored models for your WML instance:"
   ]
  },
  {
   "cell_type": "code",
   "execution_count": 15,
   "metadata": {},
   "outputs": [
    {
     "name": "stdout",
     "output_type": "stream",
     "text": [
      "------------------------------------  ---------------------------------  ------------------------  ---------  -----\n",
      "GUID                                  NAME                               CREATED                   FRAMEWORK  TYPE\n",
      "c19ea489-1674-4883-bcbd-68f0089ef7dc  Customer Churn Model               2018-02-19T15:01:13.485Z  mllib-2.0  model\n",
      "d9083d24-67f6-418e-869d-4fe344f7d9e5  Customer Churn Model               2018-02-20T07:20:03.989Z  mllib-2.1  model\n",
      "7bce0af2-3d3a-4163-9bce-f5303c729d07  Customer Churn Model               2018-02-20T09:13:27.542Z  mllib-2.1  model\n",
      "1698755c-ae01-4ab9-80b3-4f5d4d92bcc3  VIOLATIONS_SCALA211_SPARK20        2018-02-20T13:25:01.431Z  mllib-2.1  model\n",
      "5f90e9ff-a9b3-46ad-bcc4-87d1ad6c9e7b  WML Product Line Prediction Model  2018-03-07T09:34:44.756Z  mllib-2.1  model\n",
      "6765fc11-7c92-4132-90b4-b287a664d80e  WML Product Line Prediction Model  2018-03-07T09:50:24.003Z  mllib-2.1  model\n",
      "c6f5af23-37fb-4e5f-b00e-76d87e3b7b34  WML Product Line Prediction Model  2018-03-07T10:19:11.215Z  mllib-2.1  model\n",
      "------------------------------------  ---------------------------------  ------------------------  ---------  -----\n"
     ]
    }
   ],
   "source": [
    "wml_client.repository.list_models()"
   ]
  },
  {
   "cell_type": "markdown",
   "metadata": {},
   "source": [
    "Get a list of the deployed models for your WML instance:"
   ]
  },
  {
   "cell_type": "code",
   "execution_count": 16,
   "metadata": {},
   "outputs": [
    {
     "name": "stdout",
     "output_type": "stream",
     "text": [
      "------------------------------------  -------------------------  ------  ------------------------  ---------\n",
      "GUID                                  NAME                       TYPE    CREATED                   FRAMEWORK\n",
      "0c198739-0366-4733-96f5-0555e06d1390  Online scoring             online  2018-03-07T10:19:32.512Z  mllib-2.1\n",
      "bb3cb635-7d08-4115-9592-113ff94aabde  Customer Churn Prediction  batch   2018-02-19T15:11:40.938Z  mllib-2.0\n",
      "e3ee585e-d514-42cc-ba6a-74f1ff27a2b5  Online scoring             online  2018-03-07T09:37:09.140Z  mllib-2.1\n",
      "ff347d25-500c-4adb-bd4c-96e73cba521b  Online scoring             online  2018-03-07T09:50:41.518Z  mllib-2.1\n",
      "------------------------------------  -------------------------  ------  ------------------------  ---------\n"
     ]
    }
   ],
   "source": [
    "wml_client.deployments.list()"
   ]
  },
  {
   "cell_type": "markdown",
   "metadata": {},
   "source": [
    "<a id=\"scoring\"></a>\n",
    "## 3. Persist, deploy and score model in a Cloud"
   ]
  },
  {
   "cell_type": "markdown",
   "metadata": {},
   "source": [
    "In this section you will use the python API client for the Watson Machine Learning service to learn how to create an online deployment and to score a new data record.\n",
    "For more information, see the <a href=\"http://wml-api-pyclient.mybluemix.net/\" target=\"_blank\" rel=\"noopener noreferrer\">Python API client documentation</a>."
   ]
  },
  {
   "cell_type": "markdown",
   "metadata": {},
   "source": [
    "### 3.1: Persist model"
   ]
  },
  {
   "cell_type": "markdown",
   "metadata": {},
   "source": [
    "**Action**: Download the sample PMML model from the git project using `wget`."
   ]
  },
  {
   "cell_type": "code",
   "execution_count": 18,
   "metadata": {},
   "outputs": [],
   "source": [
    "import wget, os\n",
    "\n",
    "sample_dir = 'pmml_sample_model'\n",
    "if not os.path.isdir(sample_dir):\n",
    "    os.mkdir(sample_dir)\n",
    "    \n",
    "filename=os.path.join(sample_dir, 'iris_chaid.xml')\n",
    "if not os.path.isfile(filename):\n",
    "    filename = wget.download('https://github.com/pmservice/wml-sample-models/raw/master/pmml/iris-species/model/iris_chaid.xml', out=sample_dir)"
   ]
  },
  {
   "cell_type": "markdown",
   "metadata": {},
   "source": [
    "Store the downloaded file in the Watson Machine Learning repository."
   ]
  },
  {
   "cell_type": "code",
   "execution_count": 19,
   "metadata": {},
   "outputs": [
    {
     "name": "stdout",
     "output_type": "stream",
     "text": [
      "------------------------------------  ---------------------------------  ------------------------  ---------  -----\n",
      "GUID                                  NAME                               CREATED                   FRAMEWORK  TYPE\n",
      "c19ea489-1674-4883-bcbd-68f0089ef7dc  Customer Churn Model               2018-02-19T15:01:13.485Z  mllib-2.0  model\n",
      "d9083d24-67f6-418e-869d-4fe344f7d9e5  Customer Churn Model               2018-02-20T07:20:03.989Z  mllib-2.1  model\n",
      "7bce0af2-3d3a-4163-9bce-f5303c729d07  Customer Churn Model               2018-02-20T09:13:27.542Z  mllib-2.1  model\n",
      "1698755c-ae01-4ab9-80b3-4f5d4d92bcc3  VIOLATIONS_SCALA211_SPARK20        2018-02-20T13:25:01.431Z  mllib-2.1  model\n",
      "5f90e9ff-a9b3-46ad-bcc4-87d1ad6c9e7b  WML Product Line Prediction Model  2018-03-07T09:34:44.756Z  mllib-2.1  model\n",
      "6765fc11-7c92-4132-90b4-b287a664d80e  WML Product Line Prediction Model  2018-03-07T09:50:24.003Z  mllib-2.1  model\n",
      "c6f5af23-37fb-4e5f-b00e-76d87e3b7b34  WML Product Line Prediction Model  2018-03-07T10:19:11.215Z  mllib-2.1  model\n",
      "789cde6f-464a-45ce-b159-36619be36ec3  CHAID PMML model for Iris data     2018-03-08T12:37:16.897Z  pmml-4.2   model\n",
      "------------------------------------  ---------------------------------  ------------------------  ---------  -----\n"
     ]
    }
   ],
   "source": [
    "props_pmml = {wml_client.repository.ModelMetaNames.NAME: 'CHAID PMML model for Iris data',\n",
    "              wml_client.repository.ModelMetaNames.AUTHOR_NAME: \"IBM\", \n",
    "              wml_client.repository.ModelMetaNames.AUTHOR_EMAIL: \"ibm@ibm.com\", \n",
    "              wml_client.repository.ModelMetaNames.FRAMEWORK_NAME: \"pmml\", \n",
    "              wml_client.repository.ModelMetaNames.FRAMEWORK_VERSION: \"4.2\"}\n",
    "\n",
    "model_details = wml_client.repository.store_model(filename, props_pmml)\n",
    "wml_client.repository.list_models()"
   ]
  },
  {
   "cell_type": "markdown",
   "metadata": {},
   "source": [
    "**Note:** You can see that the model is successfully stored in the Watson Machine Learning Service."
   ]
  },
  {
   "cell_type": "markdown",
   "metadata": {},
   "source": [
    "### 3.2: Create online deployment"
   ]
  },
  {
   "cell_type": "markdown",
   "metadata": {},
   "source": [
    "Use the commands below to create the online deployment for the stored model."
   ]
  },
  {
   "cell_type": "code",
   "execution_count": 20,
   "metadata": {},
   "outputs": [
    {
     "name": "stdout",
     "output_type": "stream",
     "text": [
      "------------------------------------  -------------------------  ------  ------------------------  ---------\n",
      "GUID                                  NAME                       TYPE    CREATED                   FRAMEWORK\n",
      "0c198739-0366-4733-96f5-0555e06d1390  Online scoring             online  2018-03-07T10:19:32.512Z  mllib-2.1\n",
      "25df3a17-ae3b-44e8-acb0-8943f6b75a61  Iris species prediction    online  2018-03-08T12:37:25.062Z  pmml-4.2\n",
      "bb3cb635-7d08-4115-9592-113ff94aabde  Customer Churn Prediction  batch   2018-02-19T15:11:40.938Z  mllib-2.0\n",
      "e3ee585e-d514-42cc-ba6a-74f1ff27a2b5  Online scoring             online  2018-03-07T09:37:09.140Z  mllib-2.1\n",
      "ff347d25-500c-4adb-bd4c-96e73cba521b  Online scoring             online  2018-03-07T09:50:41.518Z  mllib-2.1\n",
      "------------------------------------  -------------------------  ------  ------------------------  ---------\n"
     ]
    }
   ],
   "source": [
    "model_uid = wml_client.repository.get_model_uid(model_details)\n",
    "model_deployment = wml_client.deployments.create(model_uid, name = 'Iris species prediction')\n",
    "\n",
    "wml_client.deployments.list()"
   ]
  },
  {
   "cell_type": "markdown",
   "metadata": {},
   "source": [
    "### 3.3: Scoring"
   ]
  },
  {
   "cell_type": "markdown",
   "metadata": {},
   "source": [
    "Check the online scoring endpoint by sending a sample record using the python API client."
   ]
  },
  {
   "cell_type": "code",
   "execution_count": 21,
   "metadata": {},
   "outputs": [
    {
     "name": "stdout",
     "output_type": "stream",
     "text": [
      "https://ibm-watson-ml.mybluemix.net/v3/wml_instances/8f11cfac-57ca-4a0c-9815-7abbd7a72491/published_models/789cde6f-464a-45ce-b159-36619be36ec3/deployments/25df3a17-ae3b-44e8-acb0-8943f6b75a61/online\n"
     ]
    }
   ],
   "source": [
    "model_scoring_url = wml_client.deployments.get_scoring_url(model_deployment)\n",
    "\n",
    "print(model_scoring_url)"
   ]
  },
  {
   "cell_type": "markdown",
   "metadata": {},
   "source": [
    "You can see that the scoring url is available for sending scoring requests."
   ]
  },
  {
   "cell_type": "code",
   "execution_count": 22,
   "metadata": {},
   "outputs": [
    {
     "name": "stdout",
     "output_type": "stream",
     "text": [
      "{'fields': ['PredictedValue', 'Confidence'], 'values': [['setosa', 1.0]]}\n"
     ]
    }
   ],
   "source": [
    "scoring_data = {'fields': ['Sepal.Length', 'Sepal.Width', 'Petal.Length', 'Petal.Width'], 'values': [[5.1, 3.5, 1.4, 0.2]]}\n",
    "predictions = wml_client.deployments.score(model_scoring_url, scoring_data) \n",
    "\n",
    "print(predictions)"
   ]
  },
  {
   "cell_type": "markdown",
   "metadata": {},
   "source": [
    "As we can see this is the Iris Setosa flower."
   ]
  },
  {
   "cell_type": "markdown",
   "metadata": {
    "collapsed": true
   },
   "source": [
    "<a id=\"summary\"></a>\n",
    "## 4. Summary and next steps     "
   ]
  },
  {
   "cell_type": "markdown",
   "metadata": {
    "collapsed": true
   },
   "source": [
    "You successfully completed this notebook! You learned how to use Watson Machine Learning for PMML model deployment and scoring. Check out our <a href=\"https://console.ng.bluemix.net/docs/services/PredictiveModeling/index.html?pos=2\" target=\"_blank\" rel=\"noopener noreferrer\">Online Documentation</a> (for more samples, tutorials, documentation, how-tos, and blog posts). "
   ]
  },
  {
   "cell_type": "markdown",
   "metadata": {},
   "source": [
    "### Citations\n",
    "\n",
    "Dua, D. and Karra Taniskidou, E. (2017). UCI Machine Learning Repository [http://archive.ics.uci.edu/ml]. Irvine, CA: University of California, School of Information and Computer Science. "
   ]
  },
  {
   "cell_type": "markdown",
   "metadata": {},
   "source": [
    "### Authors\n",
    "\n",
    "**Wojciech Sobala**, Data Scientist in IBM."
   ]
  },
  {
   "cell_type": "markdown",
   "metadata": {},
   "source": [
    "Copyright © 2018 IBM. This notebook and its source code are released under the terms of the MIT License."
   ]
  }
 ],
 "metadata": {
  "kernelspec": {
   "display_name": "Python 3.5 with Spark 2.1",
   "language": "python",
   "name": "python3-spark21"
  },
  "language_info": {
   "codemirror_mode": {
    "name": "ipython",
    "version": 3
   },
   "file_extension": ".py",
   "mimetype": "text/x-python",
   "name": "python",
   "nbconvert_exporter": "python",
   "pygments_lexer": "ipython3",
   "version": "3.5.4"
  }
 },
 "nbformat": 4,
 "nbformat_minor": 1
}
