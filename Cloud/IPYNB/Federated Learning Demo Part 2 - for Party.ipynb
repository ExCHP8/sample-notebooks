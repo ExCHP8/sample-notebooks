{
 "cells": [
  {
   "cell_type": "markdown",
   "metadata": {
    "id": "19ae639982f1495b8165d987f13bce99"
   },
   "source": [
    "# Part 2 - WML Federated Learning with MNIST for Party "
   ]
  },
  {
   "cell_type": "markdown",
   "metadata": {},
   "source": [
    "### Learning Goals\n",
    "\n",
    "When you complete the Part 2 - WML Federated Learning with MNIST for Party, you should know how to:\n",
    "\n",
    "- Load the data that you intend to use in the Federated Learning experiment.\n",
    "- Install IBM Federated Learning libraries.\n",
    "- Define a data handler. For more details on data handlers, see <a href = \"https://dataplatform.cloud.ibm.com/docs/content/wsj/analyze-data/fl-cus-dh.html?audience=wdp&context=cpdaas\" target=\"_blank\" rel=\"noopener no referrer\">Customizing the data handler</a>.\n",
    "- Configure the party to train data with the aggregator."
   ]
  },
  {
   "cell_type": "markdown",
   "metadata": {},
   "source": [
    "<div class=\"alert alert-block alert-info\">This notebook is intended to be run by the administrator or connecting party of the Federated Learning experiment.\n",
    "</div>"
   ]
  },
  {
   "cell_type": "markdown",
   "metadata": {},
   "source": [
    "## Table of Contents\n",
    "\n",
    "1. [Load the data](#load)<br>\n",
    "2. [Install Federated Learning libraries](#install)<br>\n",
    "3. [Define a Data Handler](#data-handler)<br>\n",
    "4. [Configure the party](#config)<br>\n",
    "5. [Train with Federated Learning](#train)<br>\n",
    "6. [Summary](#summary)"
   ]
  },
  {
   "cell_type": "markdown",
   "metadata": {},
   "source": [
    "<div class=\"alert alert-block alert-warning\">Before you run this notebook, you must have already run <a href = \"https://dataplatform.cloud.ibm.com/exchange/public/entry/view/029d77a73d72a4134c81383d6f020f6f?context=cpdaas\">Part 1 - WML Federated Learning with MNIST for Admin</a>). If you have not, open the notebook and run through that notebook first.\n",
    "</div>"
   ]
  },
  {
   "cell_type": "markdown",
   "metadata": {},
   "source": [
    "<a id = \"load\"></a>\n",
    "## 1. Load the data"
   ]
  },
  {
   "cell_type": "markdown",
   "metadata": {},
   "source": [
    "### Paste Variables From Admin Notebook"
   ]
  },
  {
   "cell_type": "markdown",
   "metadata": {},
   "source": [
    "Paste in the ID credentials you got from the end of the Part 1 notebook. If you have not run through Part 1, open the notebook and run through it first."
   ]
  },
  {
   "cell_type": "code",
   "execution_count": null,
   "metadata": {},
   "outputs": [],
   "source": [
    "WML_SERVICES_HOST = 'us-south.ml.cloud.ibm.com'\n",
    "IAM_APIKEY = 'YSphJMmHWd8YtCVYw-zRMBomwQzrSCzSruBlNJarCyQK'\n",
    "RTS_ID = 'c7bcdcc5-9687-4cdf-a331-33e8d2ec3753'\n",
    "TRAINING_ID = 'a2a7d25e-765e-43df-9e38-9b7d662e6b67'"
   ]
  },
  {
   "cell_type": "markdown",
   "metadata": {},
   "source": [
    "<a id = \"1.1\"></a>\n",
    "### 1.1 Download MNIST handwritten digits dataset"
   ]
  },
  {
   "cell_type": "markdown",
   "metadata": {},
   "source": [
    "As the party, you must provide the dataset that you will use to train the Federated Learning model. In this tutorial, a dataset is provided by default, the MNIST handwritten digits dataset."
   ]
  },
  {
   "cell_type": "code",
   "execution_count": null,
   "metadata": {},
   "outputs": [],
   "source": [
    "import requests\n",
    "\n",
    "dataset_resp = requests.get(\"https://api.dataplatform.cloud.ibm.com/v2/gallery-assets/entries/903188bb984a30f38bb889102a1baae5/data\",\n",
    "                            allow_redirects=True)\n",
    "\n",
    "f = open('MNIST-pkl.zip', 'wb')\n",
    "f.write(dataset_resp.content)\n",
    "f.close()"
   ]
  },
  {
   "cell_type": "code",
   "execution_count": null,
   "metadata": {},
   "outputs": [],
   "source": [
    "import zipfile\n",
    "import os\n",
    "\n",
    "with zipfile.ZipFile(\"MNIST-pkl.zip\",\"r\") as file:\n",
    "    file.extractall()\n",
    "    \n",
    "!ls -lh"
   ]
  },
  {
   "cell_type": "markdown",
   "metadata": {},
   "source": [
    "<a id = \"install\"></a>\n",
    "## 2. Install Federated Learning libraries"
   ]
  },
  {
   "cell_type": "markdown",
   "metadata": {},
   "source": [
    "In this section, we will install the necessary libraries and other packages to call for Federated Learning with the Python client."
   ]
  },
  {
   "cell_type": "markdown",
   "metadata": {
    "id": "d12541158d2941aa8d36c7af3f50c400"
   },
   "source": [
    "<a id = \"2.1\"></a>\n",
    "### 2.1 Install the IBM WML SDK with FL"
   ]
  },
  {
   "cell_type": "markdown",
   "metadata": {},
   "source": [
    "This installs the IBM Watson Machine Learning CLI along with the whole software development package with Federated Learning."
   ]
  },
  {
   "cell_type": "code",
   "execution_count": null,
   "metadata": {
    "id": "1fecb295722240438dbb382170cb1a12",
    "scrolled": true
   },
   "outputs": [],
   "source": [
    "!pip install --upgrade ibm-watson-machine-learning"
   ]
  },
  {
   "cell_type": "markdown",
   "metadata": {
    "id": "80198527deb74dfab1f4b2600a51e344"
   },
   "source": [
    "<a id = \"2.2\"></a>\n",
    "### 2.2 Install the libraries"
   ]
  },
  {
   "cell_type": "code",
   "execution_count": null,
   "metadata": {
    "id": "f092aeb16f18424c84eb50126fed75da"
   },
   "outputs": [],
   "source": [
    "!pip install environs parse websockets jsonpickle pandas pytest pyYAML requests pathlib2 psutil setproctitle tabulate lz4 opencv-python gym ray==0.8.0 cloudpickle==1.3.0 image"
   ]
  },
  {
   "cell_type": "markdown",
   "metadata": {
    "id": "721c642e41b54f879269867f2208c6ae"
   },
   "source": [
    "<a id = \"2.3\"></a>\n",
    "### 2.3 Install the frameworks"
   ]
  },
  {
   "cell_type": "code",
   "execution_count": null,
   "metadata": {
    "id": "6056804b9fe547579f3286eeab33fa9b"
   },
   "outputs": [],
   "source": [
    "!pip install tensorflow==2.1.0 scikit-learn==0.23.1 keras==2.2.4 numpy==1.17.4 scipy==1.4.1 "
   ]
  },
  {
   "cell_type": "markdown",
   "metadata": {
    "id": "067cf8c1-772c-40f5-8e5c-df0d4a971544"
   },
   "source": [
    "<a id = \"2.4\"></a>\n",
    "### 2.4 Import the Party"
   ]
  },
  {
   "cell_type": "markdown",
   "metadata": {},
   "source": [
    "The following code imports the package for the party, and ensures that it is loaded."
   ]
  },
  {
   "cell_type": "code",
   "execution_count": null,
   "metadata": {
    "id": "1ce53fb92ee04920ad35fb4060faa586"
   },
   "outputs": [],
   "source": [
    "import ibmfl.party_env_validator\n",
    "from ibmfl.party.party import Party"
   ]
  },
  {
   "cell_type": "markdown",
   "metadata": {
    "id": "cc7a31c3db4b4b56997f7287e49cf8f4"
   },
   "source": [
    "<a id = \"data-handler\"></a>\n",
    "## 3. Define a Data Handler"
   ]
  },
  {
   "cell_type": "markdown",
   "metadata": {},
   "source": [
    "The party should run a data handler to ensure that their datasets are in compatible format and consistent. In this tutorial, an example data handler for the MNIST dataset is provided. \n",
    "\n",
    "For more details on data handlers, see <a href = \"https://dataplatform.cloud.ibm.com/docs/content/wsj/analyze-data/fl-cus-dh.html?audience=wdp&context=cpdaas\" target=\"_blank\" rel=\"noopener no referrer\">Customizing the data handler</a>.\n",
    "\n",
    "This data handler is written to the local working directory of this notebook"
   ]
  },
  {
   "cell_type": "code",
   "execution_count": null,
   "metadata": {
    "id": "7560ec21701e460d844563df08854f73"
   },
   "outputs": [],
   "source": [
    "import requests\n",
    "data_handler_content_resp = requests.get(\"https://github.com/IBMDataScience/sample-notebooks/raw/master/Files/mnist_keras_data_handler.py\",\n",
    "                                  headers={\"Content-Type\": \"application/octet-stream\"},\n",
    "                                      allow_redirects=True)\n",
    "\n",
    "f = open('mnist_keras_data_handler.py', 'wb')\n",
    "f.write(data_handler_content_resp.content)\n",
    "f.close()"
   ]
  },
  {
   "cell_type": "markdown",
   "metadata": {
    "id": "7e29d269ecd74ca79655c17412f87752"
   },
   "source": [
    "### Verify Data Handler Exists"
   ]
  },
  {
   "cell_type": "code",
   "execution_count": null,
   "metadata": {
    "id": "4efb89dbfece41608639b7d0ab83f279"
   },
   "outputs": [],
   "source": [
    "!ls -lh"
   ]
  },
  {
   "cell_type": "markdown",
   "metadata": {
    "id": "7791702cf85e4be28653a6bdb64abb87"
   },
   "source": [
    "<a id = \"config\"></a>\n",
    "## 4. Configure the party"
   ]
  },
  {
   "cell_type": "markdown",
   "metadata": {},
   "source": [
    "Each party must run their party configuration file to call out to the aggregator. Here is an example of a party configuration.\n",
    "\n",
    "Because you had already defined the training ID, RTS ID and data handler in the previous sections of this notebook, and the local training and protocol handler are all defined by the SDK, you will only need to define the information for the dataset file under `[\"data\"][\"info\"]`. \n",
    "\n",
    "In this tutorial, the data path is already defined as we have loaded the examplar MNIST dataset from previous sections."
   ]
  },
  {
   "cell_type": "code",
   "execution_count": null,
   "metadata": {
    "id": "b083f5c03e764e5193ae15ecfc24df63"
   },
   "outputs": [],
   "source": [
    "from pathlib import Path\n",
    "working_dir = !pwd\n",
    "pwd = working_dir[0]\n",
    "\n",
    "party_config = {\n",
    "  \"aggregator\": {\n",
    "    \"ip\": WML_SERVICES_HOST + \"/ml/v4/trainings/\" + TRAINING_ID\n",
    "  },\n",
    "  \"connection\": {\n",
    "    \"info\": {\n",
    "      \"id\": RTS_ID,\n",
    "    }\n",
    "  },\n",
    "  \"data\": {\n",
    "    \"info\": {\n",
    "      \"train_file\": \"/mnist-keras-train.pkl\",\n",
    "      \"test_file\": \"/mnist-keras-test.pkl\"\n",
    "    },\n",
    "    \"name\": \"MnistTFDataHandler\",\n",
    "    \"path\": pwd + \"/mnist_keras_data_handler.py\"\n",
    "  },\n",
    "  \"local_training\": {\n",
    "    \"name\": \"LocalTrainingHandler\",\n",
    "    \"path\": \"ibmfl.party.training.local_training_handler\"\n",
    "  },\n",
    "  \"protocol_handler\": {\n",
    "    \"name\": \"PartyProtocolHandler\",\n",
    "    \"path\": \"ibmfl.party.party_protocol_handler\"\n",
    "  }\n",
    "}"
   ]
  },
  {
   "cell_type": "code",
   "execution_count": null,
   "metadata": {
    "id": "e92d174f-522c-403d-bfad-bb16190c64d1"
   },
   "outputs": [],
   "source": [
    "print(party_config)"
   ]
  },
  {
   "cell_type": "markdown",
   "metadata": {},
   "source": [
    "<a id = \"train\"></a>\n",
    "## 5. Connect and train with Federated Learning"
   ]
  },
  {
   "cell_type": "markdown",
   "metadata": {},
   "source": [
    "Here you can finally connect to the aggregator to begin training."
   ]
  },
  {
   "cell_type": "markdown",
   "metadata": {
    "id": "6111242523164548854a1a265d5db2f4"
   },
   "source": [
    "#### Obtain Cloud Authentication Token"
   ]
  },
  {
   "cell_type": "code",
   "execution_count": null,
   "metadata": {
    "id": "de4ddbde4035474485c76c4c614d73a1"
   },
   "outputs": [],
   "source": [
    "from ibm_watson_machine_learning import APIClient\n",
    "\n",
    "\n",
    "wml_credentials = {\n",
    "    \"apikey\": IAM_APIKEY,\n",
    "    \"url\": \"https://\" + WML_SERVICES_HOST\n",
    "}\n",
    "\n",
    "wml_client = APIClient(wml_credentials)\n",
    "IAMTOKEN = \"Bearer \" + wml_client.wml_token\n",
    "print(IAMTOKEN)\n"
   ]
  },
  {
   "cell_type": "markdown",
   "metadata": {
    "id": "21bb9c095dff42118cd38067820224ed"
   },
   "source": [
    "### 5.1 Establish Connection To Aggregator"
   ]
  },
  {
   "cell_type": "code",
   "execution_count": null,
   "metadata": {
    "id": "f462b534-c22c-4498-9042-2ee8b8849241"
   },
   "outputs": [],
   "source": [
    "p = Party( config_dict = party_config, token = IAMTOKEN )"
   ]
  },
  {
   "cell_type": "markdown",
   "metadata": {
    "id": "cf6b997e6b204bdd81a34f4bf0b3eb6a"
   },
   "source": [
    "After the message \"Received Heartbeat from Aggregator\" appears, then the Party is ready to start."
   ]
  },
  {
   "cell_type": "markdown",
   "metadata": {
    "id": "eef7c3935db04ce2a78e87d361a3e455"
   },
   "source": [
    "### 5.2 Start Training"
   ]
  },
  {
   "cell_type": "code",
   "execution_count": null,
   "metadata": {
    "id": "77a8683b-7b8e-44d8-a475-c653b560c131"
   },
   "outputs": [],
   "source": [
    "p.start()"
   ]
  },
  {
   "cell_type": "markdown",
   "metadata": {},
   "source": [
    "<a id = \"summary\"></a>\n",
    "## Summary\n",
    "\n",
    "Congratulations! You have learned to:\n",
    "\n",
    "1. Start a Federated Learning experiment\n",
    "2. Load a template model\n",
    "3. Create an RTS and launch the experiment job\n",
    "4. Load a dataset for training\n",
    "5. Define the data handler\n",
    "6. Configure the party\n",
    "7. Connect to the aggregator\n",
    "8. Train your Federated Learning model\n",
    "\n",
    "### Learn more\n",
    "\n",
    "- For more details about setting up Federated Learning, terminology, and running Federated Learning from the UI, see <a href = \"https://dataplatform.cloud.ibm.com/docs/content/wsj/analyze-data/fed-lea.html?audience=wdp\" target=\"_blank\" rel=\"noopener no referrer\">Federated Learning documentation</a> for Cloud.\n",
    "- For more information on a Keras model template, see their documentation <a href = \"https://www.tensorflow.org/tutorials/quickstart/advanced\" target=\"_blank\" rel=\"noopener no referrer\">here</a>."
   ]
  },
  {
   "cell_type": "markdown",
   "metadata": {},
   "source": [
    "# <hr>\n",
    "Copyright © 2020 IBM. This notebook and its source code are released under the terms of the MIT License.\n",
    "<br>\n",
    " ",
    "\n",
    "<div style=\"background:#F5F7FA; height:110px; padding: 2em; font-size:14px;\">\n",
    "<span style=\"font-size:18px;color:#152935;\">Love this notebook? </span>\n",
    "<span style=\"font-size:15px;color:#152935;float:right;margin-right:40px;\">Don't have an account yet?</span><br>\n",
    "<span style=\"color:#5A6872;\">Share it with your colleagues and help them discover the power of Watson Studio!</span>\n",
    "<span style=\"border: 1px solid #3d70b2;padding:8px;float:right;margin-right:40px; color:#3d70b2;\"><a href=\"https://ibm.co/wsnotebooks\" target=\"_blank\" style=\"color: #3d70b2;text-decoration: none;\">Sign Up</a></span><br>\n",
    "</div>"
   ]
  }
 ],
 "metadata": {
  "kernelspec": {
   "display_name": "Python 3.7",
   "language": "python",
   "name": "python3"
  },
  "language_info": {
   "codemirror_mode": {
    "name": "ipython",
    "version": 3
   },
   "file_extension": ".py",
   "mimetype": "text/x-python",
   "name": "python",
   "nbconvert_exporter": "python",
   "pygments_lexer": "ipython3",
   "version": "3.7.11"
  }
 },
 "nbformat": 4,
 "nbformat_minor": 4
}
