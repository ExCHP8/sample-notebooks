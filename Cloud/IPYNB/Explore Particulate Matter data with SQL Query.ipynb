{
 "cells": [
  {
   "cell_type": "markdown",
   "metadata": {},
   "source": [
    "# Explore particulate matter data using IBM Cloud SQL Query <br>\n",
    "\n",
    "\n",
    "\n",
    "<div class=\"pull-left\"><left><img style=\"float: right;\" src=\"http://developer.ibm.com/clouddataservices/wp-content/uploads/sites/85/2018/01/ibm-cloud-object-storage-logo-small.png\" width=\"100\" margin=50></left></div>\n",
    "<div style=\"text-align:center\">\n",
    "<b>IBM Cloud SQL Query</b> is IBM's <b>serverless SQL</b> service on data in <b>Cloud Object Storage</b>. It allows you to run ANSI SQL on Parquet, CSV and  JSON data sets. It is based on Apache Spark SQL as the query engine in the background. This means you do <b>not</b> have to provision and manage your own Apache Spark instance and think about resources you need to request, but a simple Python client (like the IBM Watson Studio Notebook) is sufficient. <br><br></div>\n",
    "This notebook is an introduction to using the SQL Query API to run SQL statements in a programmatic way. It uses the <a href=\"https://github.com/IBM-Cloud/sql-query-clients/tree/master/Python\" target=\"_blank\" rel=\"noopener noreferrer\">ibmcloudsql</a> Python library for this purpose. The notebook also demonstrates how you can combine SQL Query with visualization libraries such as <b>PixieDust, folium</b> or <b>matplotlib</b> to explore particulate matter data. \n",
    "\n",
    "The notebook works with Python 3.5. and the visualization has been verified to work the Firefox.  \n",
    "\n",
    "## Table of contents\n",
    "1. [Set up the libraries](#setup)<br>\n",
    "2. [Configure SQL Query](#configure)<br>\n",
    "3. [About the particulate matter data ](#data)<br>\n",
    "4. [Explore the particulate matter data](#sql)<br>\n",
    "    4.1 [Understand data and schema](#sqlsimple)<br>\n",
    "    4.2 [Use geo spatial library to find sensors near by](#sqlspatial)<br>\n",
    "    4.3 [Explore humidity to validate particulate matter measurements](#sqlexplore)<br>\n",
    "    4.4 [Cleanse Data to filter out valid measurements ](#sqlcleansing)<br>\n",
    "5. [Next steps](#nextsteps)<br>\n"
   ]
  },
  {
   "cell_type": "markdown",
   "metadata": {},
   "source": [
    "## <a id=\"setup\"></a> 1. Set up the libraries\n",
    " \n",
    "This notebook needs several Python libraries. If the library is not pre-installed you have to install it first. Pre-installed libraries only need to be imported.\n",
    "\n",
    "\n",
    "**ibmcloudsql** - is an IBM-provided Python library which provides a Python wrapper around the SQL Query REST API.\n",
    "\n",
    "**getpass** - is an open source Python library which provides a way to prompt the user for a value, usually a password, without echoing what they type to the console. \n",
    "\n",
    "**pandas** - is an open source, BSD-licensed library providing high-performance, easy-to-use data structures and data analysis tools for the Python programming language.\n"
   ]
  },
  {
   "cell_type": "code",
   "execution_count": null,
   "metadata": {},
   "outputs": [],
   "source": [
    "!conda install pyarrow\n",
    "!pip -q install ibmcloudsql"
   ]
  },
  {
   "cell_type": "code",
   "execution_count": 2,
   "metadata": {},
   "outputs": [],
   "source": [
    "import ibmcloudsql\n",
    "import getpass\n",
    "import pandas as pd\n",
    "import urllib.parse\n",
    "from IPython.display import display as dp  "
   ]
  },
  {
   "cell_type": "markdown",
   "metadata": {},
   "source": [
    " ## <a id=\"configure\"></a> 2. Configure SQL Query\n",
    "\n",
    "1. Get an **API key** for your IBM Cloud account. Log on to the IBM Cloud console and go to <a href=\"https://console.bluemix.net/iam/#/apikeys\" target=\"_blank\">Manage > Security > Platform API Keys</a> give the key a custom name and click the **Create** button. In the next dialog click **Show** and copy the key to your clipboard and paste it below in this notebook.\n",
    "2. Get the **instance CRN** for your SQL Query instance. Go to  <a href=\"https://console.bluemix.net/dashboard/apps\" target=\"_blank\">IBM Cloud console dashboard</a>. Make sure you have **All Resources** selected as resource group. In the section **Services** you can see your instance of SQL Query. Select the SQL Query that you want to use. In the SQL Query dashboard page that opens up there is a section called **REST API** with a button labelled **Instance CRN**. Click the button to copy the CRN into your clipboard and paste it into the cell below.\n",
    "3. You need to specify the location on Cloud Object Storage where your `query results` should be written. Go to the UI for your IBM Cloud Object Storage instance and list the buckets. From the pull down menu of the bucket you want to use to store your query results, select \"Bucket SQL URL\"  and copy the  **URL** (format `cos://<endpoint>/<bucket>/[<prefix>]`).  \n",
    "<br/>"
   ]
  },
  {
   "cell_type": "code",
   "execution_count": null,
   "metadata": {},
   "outputs": [],
   "source": [
    "\n",
    "#enter your IBM Cloud platform apikey \n",
    "apikey=getpass.getpass('Enter IBM Cloud API Key (leave empty to use previous one): ') or apikey\n",
    "\n",
    "#Enter your instance crn\n",
    "instancecrn_encoded=input('Enter SQL Query Instance CRN (leave empty to use previous one): ') or instancecrn_encoded\n",
    "\n",
    "#Decode the crn \n",
    "instancecrn=urllib.parse.unquote(instancecrn_encoded)\n",
    "print(instancecrn)\n",
    "\n",
    "#Enter your target url \n",
    "targeturl=input('Enter target URL for SQL results (leave empty to use ): ') or targeturl\n",
    " "
   ]
  },
  {
   "cell_type": "markdown",
   "metadata": {},
   "source": [
    "### 2.1 Configure ibmcloudsql.SQLQuery and log on to IBM Cloud\n",
    "\n",
    "ibmcloudsql.SQLQuery is the class which wraps the REST API. You configure it with the parameters required to log on to the IBM Cloud and talk to the SQL Query service instance created upfront. You then log on to the IBM Cloud. "
   ]
  },
  {
   "cell_type": "code",
   "execution_count": 5,
   "metadata": {},
   "outputs": [],
   "source": [
    "sqlClient = ibmcloudsql.SQLQuery(apikey, instancecrn, targeturl, client_info='SQL Query Particulate Matter Data Exploration and Cleansing Notebook')\n",
    "sqlClient.logon()"
   ]
  },
  {
   "cell_type": "markdown",
   "metadata": {},
   "source": [
    "### 2.2 Get the link to the SQL Query Instance UI\n",
    "\n",
    "You have logged on to IBM Cloud now and the output from the cell below provides you the link to your SQL Query Instance UI.\n",
    "\n",
    "In the joblist you will find not only the queries you submitted using the UI but also the jobs you will submit using the REST API in the next steps. \n",
    "\n",
    "For each query you submitted you can investigate the result as well as the query details which may help when you want to debug your SQL. "
   ]
  },
  {
   "cell_type": "code",
   "execution_count": 6,
   "metadata": {},
   "outputs": [
    {
     "name": "stdout",
     "output_type": "stream",
     "text": [
      "\n",
      "Your SQL Query web console link:\n",
      "\n",
      "https://sql.ng.bluemix.net/sqlquery/?instance_crn=crn:v1:bluemix:public:sql-query:us-south:a/e2cb778ce7da6d8945e99e5f02b48a43:6dfbbb81-bbfb-4609-8c9a-1ec9c40e8067::\n"
     ]
    }
   ],
   "source": [
    "print('\\nYour SQL Query web console link:\\n')\n",
    "sqlClient.sql_ui_link() "
   ]
  },
  {
   "cell_type": "markdown",
   "metadata": {},
   "source": [
    "## <a id=\"data\"></a> 3. About the particulate matter data from the Open Knowledge Lab Stuttgart \n",
    " \n",
    "In 2015 the <a href=\"https://codefor.de/stuttgart/\" target=\"_blank\">Open Knowledge Lab Stuttgart</a> (OK Lab) started an effort to collect particulate matter data with low budget sensors. The OK Lab provides installation instructions for sensor cards which use the sensor types dht22 (measuring temperature and humidity) and sds011 (measuring particles less than 10 µm (P1)and less than 2.5 µm (P2) in μg/m³). In most cases these two sensor types are installed in the same location. More than 4000 sensor cards have now been installed all over Germany. The data from the sensors are collected and the OK Lab Stuttgart makes them publicly available. \n",
    "\n",
    "IBM has made the these data available on IBM Cloud Object Storage as .csv and .parquet files accessible via SQL Query using these naming conventions: \n",
    "\n",
    "    oklabdata/csv/<sensor_type>/<yyyy>/<sensor_type>-<yyyy>-<mm>.csv \n",
    "    oklabdata/parquet/<sensor_type>/<yyyy>/<mm>/part-....snappy.parquet  \n",
    "    \n",
    "In the following you will focus on data collected by these two sensor types in 2017/07. "
   ]
  },
  {
   "cell_type": "markdown",
   "metadata": {},
   "source": [
    "## <a id=\"sql\"></a> 4. Explore particulate matter data \n",
    "\n",
    "In this section, you will:\n",
    "\n",
    "- [4.1 Understand the data schema](sqlsimple)\n",
    "- [4.2 Use the geospatial library to find sensors](sqlspatial)\n",
    "- [4.3 Explore humidity to validate particulate matter measurements](sqlexplore)\n",
    "- [4.4 Cleanse the data to filter out valid measurements](sqlcleansing)"
   ]
  },
  {
   "cell_type": "markdown",
   "metadata": {},
   "source": [
    "### <a id=\"sqlsimple\"></a> 4.1 Understand the data schema \n",
    "\n",
    "**Number of installed dht22 sensors in 2017/07** "
   ]
  },
  {
   "cell_type": "code",
   "execution_count": 7,
   "metadata": {},
   "outputs": [
    {
     "data": {
      "text/html": [
       "<div>\n",
       "<style scoped>\n",
       "    .dataframe tbody tr th:only-of-type {\n",
       "        vertical-align: middle;\n",
       "    }\n",
       "\n",
       "    .dataframe tbody tr th {\n",
       "        vertical-align: top;\n",
       "    }\n",
       "\n",
       "    .dataframe thead th {\n",
       "        text-align: right;\n",
       "    }\n",
       "</style>\n",
       "<table border=\"1\" class=\"dataframe\">\n",
       "  <thead>\n",
       "    <tr style=\"text-align: right;\">\n",
       "      <th></th>\n",
       "      <th>count_sids_dht22</th>\n",
       "    </tr>\n",
       "  </thead>\n",
       "  <tbody>\n",
       "    <tr>\n",
       "      <th>0</th>\n",
       "      <td>1489</td>\n",
       "    </tr>\n",
       "  </tbody>\n",
       "</table>\n",
       "</div>"
      ],
      "text/plain": [
       "   count_sids_dht22\n",
       "0              1489"
      ]
     },
     "metadata": {},
     "output_type": "display_data"
    }
   ],
   "source": [
    "\n",
    "sql=\"\"\"\n",
    "SELECT COUNT(sid_dht22) as count_sids_dht22 \n",
    "FROM (SELECT DISTINCT sensor_id as sid_dht22 \n",
    "FROM cos://us-geo/sql/oklabdata/parquet/dht22/2017/07/  STORED AS PARQUET)\n",
    "\"\"\"\n",
    "\n",
    "result_df = sqlClient.run_sql(sql)\n",
    "if isinstance(result_df, str):\n",
    "    print(result_df)\n",
    "else:\n",
    "    dp(result_df.head(2))"
   ]
  },
  {
   "cell_type": "markdown",
   "metadata": {},
   "source": [
    "**Number of installed sds011 sensors in 2017/07** "
   ]
  },
  {
   "cell_type": "code",
   "execution_count": 8,
   "metadata": {
    "pixiedust": {
     "displayParams": {
      "handlerId": "tableView"
     }
    },
    "scrolled": true
   },
   "outputs": [
    {
     "data": {
      "text/html": [
       "<div>\n",
       "<style scoped>\n",
       "    .dataframe tbody tr th:only-of-type {\n",
       "        vertical-align: middle;\n",
       "    }\n",
       "\n",
       "    .dataframe tbody tr th {\n",
       "        vertical-align: top;\n",
       "    }\n",
       "\n",
       "    .dataframe thead th {\n",
       "        text-align: right;\n",
       "    }\n",
       "</style>\n",
       "<table border=\"1\" class=\"dataframe\">\n",
       "  <thead>\n",
       "    <tr style=\"text-align: right;\">\n",
       "      <th></th>\n",
       "      <th>count_sids_sds011</th>\n",
       "    </tr>\n",
       "  </thead>\n",
       "  <tbody>\n",
       "    <tr>\n",
       "      <th>0</th>\n",
       "      <td>1813</td>\n",
       "    </tr>\n",
       "  </tbody>\n",
       "</table>\n",
       "</div>"
      ],
      "text/plain": [
       "   count_sids_sds011\n",
       "0               1813"
      ]
     },
     "metadata": {},
     "output_type": "display_data"
    }
   ],
   "source": [
    "sql=\"\"\"\n",
    "SELECT COUNT(sid_sds011) as count_sids_sds011 \n",
    "FROM (SELECT DISTINCT sensor_id as sid_sds011 FROM cos://us-geo/sql/oklabdata/parquet/sds011/2017/07/ STORED AS PARQUET)\"\"\" \n",
    "result_df = sqlClient.run_sql(sql)\n",
    "\n",
    "if isinstance(result_df, str):\n",
    "    print(result_df)\n",
    "else:\n",
    "    dp(result_df.head(2))"
   ]
  },
  {
   "cell_type": "markdown",
   "metadata": {},
   "source": [
    "**DHT22 schema**"
   ]
  },
  {
   "cell_type": "code",
   "execution_count": 9,
   "metadata": {
    "scrolled": true
   },
   "outputs": [
    {
     "data": {
      "text/html": [
       "<div>\n",
       "<style scoped>\n",
       "    .dataframe tbody tr th:only-of-type {\n",
       "        vertical-align: middle;\n",
       "    }\n",
       "\n",
       "    .dataframe tbody tr th {\n",
       "        vertical-align: top;\n",
       "    }\n",
       "\n",
       "    .dataframe thead th {\n",
       "        text-align: right;\n",
       "    }\n",
       "</style>\n",
       "<table border=\"1\" class=\"dataframe\">\n",
       "  <thead>\n",
       "    <tr style=\"text-align: right;\">\n",
       "      <th></th>\n",
       "      <th>sensor_id</th>\n",
       "      <th>sensor_type</th>\n",
       "      <th>location</th>\n",
       "      <th>lat</th>\n",
       "      <th>lon</th>\n",
       "      <th>timestamp</th>\n",
       "      <th>temperature</th>\n",
       "      <th>humidity</th>\n",
       "    </tr>\n",
       "  </thead>\n",
       "  <tbody>\n",
       "    <tr>\n",
       "      <th>0</th>\n",
       "      <td>1193</td>\n",
       "      <td>DHT22</td>\n",
       "      <td>585</td>\n",
       "      <td>51.193</td>\n",
       "      <td>7.076</td>\n",
       "      <td>2017-07-27T00:00:03.000Z</td>\n",
       "      <td>18.3</td>\n",
       "      <td>99.9</td>\n",
       "    </tr>\n",
       "    <tr>\n",
       "      <th>1</th>\n",
       "      <td>1193</td>\n",
       "      <td>DHT22</td>\n",
       "      <td>585</td>\n",
       "      <td>51.193</td>\n",
       "      <td>7.076</td>\n",
       "      <td>2017-07-27T00:00:07.000Z</td>\n",
       "      <td>18.3</td>\n",
       "      <td>99.9</td>\n",
       "    </tr>\n",
       "    <tr>\n",
       "      <th>2</th>\n",
       "      <td>1193</td>\n",
       "      <td>DHT22</td>\n",
       "      <td>585</td>\n",
       "      <td>51.193</td>\n",
       "      <td>7.076</td>\n",
       "      <td>2017-07-27T00:00:11.000Z</td>\n",
       "      <td>18.3</td>\n",
       "      <td>99.9</td>\n",
       "    </tr>\n",
       "    <tr>\n",
       "      <th>3</th>\n",
       "      <td>1193</td>\n",
       "      <td>DHT22</td>\n",
       "      <td>585</td>\n",
       "      <td>51.193</td>\n",
       "      <td>7.076</td>\n",
       "      <td>2017-07-27T00:00:16.000Z</td>\n",
       "      <td>18.3</td>\n",
       "      <td>99.9</td>\n",
       "    </tr>\n",
       "    <tr>\n",
       "      <th>4</th>\n",
       "      <td>1193</td>\n",
       "      <td>DHT22</td>\n",
       "      <td>585</td>\n",
       "      <td>51.193</td>\n",
       "      <td>7.076</td>\n",
       "      <td>2017-07-27T00:00:20.000Z</td>\n",
       "      <td>18.3</td>\n",
       "      <td>99.9</td>\n",
       "    </tr>\n",
       "  </tbody>\n",
       "</table>\n",
       "</div>"
      ],
      "text/plain": [
       "   sensor_id sensor_type  location     lat    lon                 timestamp  \\\n",
       "0       1193       DHT22       585  51.193  7.076  2017-07-27T00:00:03.000Z   \n",
       "1       1193       DHT22       585  51.193  7.076  2017-07-27T00:00:07.000Z   \n",
       "2       1193       DHT22       585  51.193  7.076  2017-07-27T00:00:11.000Z   \n",
       "3       1193       DHT22       585  51.193  7.076  2017-07-27T00:00:16.000Z   \n",
       "4       1193       DHT22       585  51.193  7.076  2017-07-27T00:00:20.000Z   \n",
       "\n",
       "   temperature  humidity  \n",
       "0         18.3      99.9  \n",
       "1         18.3      99.9  \n",
       "2         18.3      99.9  \n",
       "3         18.3      99.9  \n",
       "4         18.3      99.9  "
      ]
     },
     "metadata": {},
     "output_type": "display_data"
    }
   ],
   "source": [
    "sql='SELECT * FROM cos://us-geo/sql/oklabdata/parquet/dht22/2017/07/ STORED AS PARQUET LIMIT 5' \n",
    "result_df = sqlClient.run_sql(sql)\n",
    "if isinstance(result_df, str):\n",
    "    print(result_df)\n",
    "else:\n",
    "    dp(result_df.head(5))"
   ]
  },
  {
   "cell_type": "code",
   "execution_count": 10,
   "metadata": {},
   "outputs": [
    {
     "data": {
      "text/plain": [
       "sensor_id        int64\n",
       "sensor_type     object\n",
       "location         int64\n",
       "lat            float64\n",
       "lon            float64\n",
       "timestamp       object\n",
       "temperature    float64\n",
       "humidity       float64\n",
       "dtype: object"
      ]
     },
     "execution_count": 10,
     "metadata": {},
     "output_type": "execute_result"
    }
   ],
   "source": [
    "result_df.dtypes"
   ]
  },
  {
   "cell_type": "markdown",
   "metadata": {},
   "source": [
    "**SDS011 schema**"
   ]
  },
  {
   "cell_type": "code",
   "execution_count": 11,
   "metadata": {
    "scrolled": true
   },
   "outputs": [
    {
     "data": {
      "text/html": [
       "<div>\n",
       "<style scoped>\n",
       "    .dataframe tbody tr th:only-of-type {\n",
       "        vertical-align: middle;\n",
       "    }\n",
       "\n",
       "    .dataframe tbody tr th {\n",
       "        vertical-align: top;\n",
       "    }\n",
       "\n",
       "    .dataframe thead th {\n",
       "        text-align: right;\n",
       "    }\n",
       "</style>\n",
       "<table border=\"1\" class=\"dataframe\">\n",
       "  <thead>\n",
       "    <tr style=\"text-align: right;\">\n",
       "      <th></th>\n",
       "      <th>sensor_id</th>\n",
       "      <th>sensor_type</th>\n",
       "      <th>location</th>\n",
       "      <th>lat</th>\n",
       "      <th>lon</th>\n",
       "      <th>timestamp</th>\n",
       "      <th>P1</th>\n",
       "      <th>durP1</th>\n",
       "      <th>ratioP1</th>\n",
       "      <th>P2</th>\n",
       "      <th>durP2</th>\n",
       "      <th>ratioP2</th>\n",
       "    </tr>\n",
       "  </thead>\n",
       "  <tbody>\n",
       "    <tr>\n",
       "      <th>0</th>\n",
       "      <td>1192</td>\n",
       "      <td>SDS011</td>\n",
       "      <td>585</td>\n",
       "      <td>51.193</td>\n",
       "      <td>7.076</td>\n",
       "      <td>2017-07-27T00:00:03.000Z</td>\n",
       "      <td>11.53</td>\n",
       "      <td>NaN</td>\n",
       "      <td>NaN</td>\n",
       "      <td>10.33</td>\n",
       "      <td>NaN</td>\n",
       "      <td>NaN</td>\n",
       "    </tr>\n",
       "    <tr>\n",
       "      <th>1</th>\n",
       "      <td>1192</td>\n",
       "      <td>SDS011</td>\n",
       "      <td>585</td>\n",
       "      <td>51.193</td>\n",
       "      <td>7.076</td>\n",
       "      <td>2017-07-27T00:00:07.000Z</td>\n",
       "      <td>11.73</td>\n",
       "      <td>NaN</td>\n",
       "      <td>NaN</td>\n",
       "      <td>10.43</td>\n",
       "      <td>NaN</td>\n",
       "      <td>NaN</td>\n",
       "    </tr>\n",
       "    <tr>\n",
       "      <th>2</th>\n",
       "      <td>1192</td>\n",
       "      <td>SDS011</td>\n",
       "      <td>585</td>\n",
       "      <td>51.193</td>\n",
       "      <td>7.076</td>\n",
       "      <td>2017-07-27T00:00:11.000Z</td>\n",
       "      <td>12.05</td>\n",
       "      <td>NaN</td>\n",
       "      <td>NaN</td>\n",
       "      <td>10.70</td>\n",
       "      <td>NaN</td>\n",
       "      <td>NaN</td>\n",
       "    </tr>\n",
       "    <tr>\n",
       "      <th>3</th>\n",
       "      <td>1192</td>\n",
       "      <td>SDS011</td>\n",
       "      <td>585</td>\n",
       "      <td>51.193</td>\n",
       "      <td>7.076</td>\n",
       "      <td>2017-07-27T00:00:15.000Z</td>\n",
       "      <td>12.20</td>\n",
       "      <td>NaN</td>\n",
       "      <td>NaN</td>\n",
       "      <td>10.80</td>\n",
       "      <td>NaN</td>\n",
       "      <td>NaN</td>\n",
       "    </tr>\n",
       "    <tr>\n",
       "      <th>4</th>\n",
       "      <td>1192</td>\n",
       "      <td>SDS011</td>\n",
       "      <td>585</td>\n",
       "      <td>51.193</td>\n",
       "      <td>7.076</td>\n",
       "      <td>2017-07-27T00:00:20.000Z</td>\n",
       "      <td>12.10</td>\n",
       "      <td>NaN</td>\n",
       "      <td>NaN</td>\n",
       "      <td>10.80</td>\n",
       "      <td>NaN</td>\n",
       "      <td>NaN</td>\n",
       "    </tr>\n",
       "  </tbody>\n",
       "</table>\n",
       "</div>"
      ],
      "text/plain": [
       "   sensor_id sensor_type  location     lat    lon                 timestamp  \\\n",
       "0       1192      SDS011       585  51.193  7.076  2017-07-27T00:00:03.000Z   \n",
       "1       1192      SDS011       585  51.193  7.076  2017-07-27T00:00:07.000Z   \n",
       "2       1192      SDS011       585  51.193  7.076  2017-07-27T00:00:11.000Z   \n",
       "3       1192      SDS011       585  51.193  7.076  2017-07-27T00:00:15.000Z   \n",
       "4       1192      SDS011       585  51.193  7.076  2017-07-27T00:00:20.000Z   \n",
       "\n",
       "      P1  durP1  ratioP1     P2  durP2  ratioP2  \n",
       "0  11.53    NaN      NaN  10.33    NaN      NaN  \n",
       "1  11.73    NaN      NaN  10.43    NaN      NaN  \n",
       "2  12.05    NaN      NaN  10.70    NaN      NaN  \n",
       "3  12.20    NaN      NaN  10.80    NaN      NaN  \n",
       "4  12.10    NaN      NaN  10.80    NaN      NaN  "
      ]
     },
     "metadata": {},
     "output_type": "display_data"
    }
   ],
   "source": [
    "sql='SELECT * FROM cos://us-geo/sql/oklabdata/parquet/sds011/2017/07/ STORED AS PARQUET LIMIT 5' \n",
    "result_df = sqlClient.run_sql(sql)\n",
    "\n",
    "if isinstance(result_df, str):\n",
    "    print(result_df)\n",
    "else:\n",
    "    dp(result_df.head(5))"
   ]
  },
  {
   "cell_type": "code",
   "execution_count": 12,
   "metadata": {
    "scrolled": true
   },
   "outputs": [
    {
     "data": {
      "text/plain": [
       "sensor_id        int64\n",
       "sensor_type     object\n",
       "location         int64\n",
       "lat            float64\n",
       "lon            float64\n",
       "timestamp       object\n",
       "P1             float64\n",
       "durP1          float64\n",
       "ratioP1        float64\n",
       "P2             float64\n",
       "durP2          float64\n",
       "ratioP2        float64\n",
       "dtype: object"
      ]
     },
     "execution_count": 12,
     "metadata": {},
     "output_type": "execute_result"
    }
   ],
   "source": [
    "result_df.dtypes"
   ]
  },
  {
   "cell_type": "markdown",
   "metadata": {},
   "source": [
    "### <a id=\"sqlspatial\"></a> 4.2  Use the geospatial library to find sensors \n",
    "\n",
    "SQL Query supports a **geospatial library**. You use this library to find the sensors close to a given location. \n",
    "\n",
    "- <a href=\"https://console.stage1.bluemix.net/docs/services/sql-query/sql-query.html#overview\" target=\"_blank\" rel=\"noopener noreferrer\">SQL query overview</a> provides information about which geospatial functions you can use with SQLQuery  \n",
    "- <a href=\"https://console.stage1.bluemix.net/docs/services/sql-query/geospatial.html#geospatial-analytic\"  target=\"_blank\" rel=\"noopener noreferrer\">Geospatial analytics</a> provides samples that use geospatial functions\n",
    "\n",
    "We used the geo coordinates of Stuttgart. But you can of course get the geo coordinates for your home location and figure out if there are sensors in your area.\n",
    "\n",
    "\n",
    "Longitude of Stuttgart: 9.1829321\n",
    "\n",
    "Latitude of Stuttgart: 48.7758459\n"
   ]
  },
  {
   "cell_type": "markdown",
   "metadata": {},
   "source": [
    "#### Find sds011 sensors close to this geolocation"
   ]
  },
  {
   "cell_type": "code",
   "execution_count": 13,
   "metadata": {},
   "outputs": [
    {
     "data": {
      "text/html": [
       "<div>\n",
       "<style scoped>\n",
       "    .dataframe tbody tr th:only-of-type {\n",
       "        vertical-align: middle;\n",
       "    }\n",
       "\n",
       "    .dataframe tbody tr th {\n",
       "        vertical-align: top;\n",
       "    }\n",
       "\n",
       "    .dataframe thead th {\n",
       "        text-align: right;\n",
       "    }\n",
       "</style>\n",
       "<table border=\"1\" class=\"dataframe\">\n",
       "  <thead>\n",
       "    <tr style=\"text-align: right;\">\n",
       "      <th></th>\n",
       "      <th>sensor_id</th>\n",
       "      <th>distance</th>\n",
       "      <th>location</th>\n",
       "      <th>lon</th>\n",
       "      <th>lat</th>\n",
       "    </tr>\n",
       "  </thead>\n",
       "  <tbody>\n",
       "    <tr>\n",
       "      <th>0</th>\n",
       "      <td>809</td>\n",
       "      <td>454.208121</td>\n",
       "      <td>387</td>\n",
       "      <td>9.185</td>\n",
       "      <td>48.772</td>\n",
       "    </tr>\n",
       "    <tr>\n",
       "      <th>1</th>\n",
       "      <td>649</td>\n",
       "      <td>582.152972</td>\n",
       "      <td>309</td>\n",
       "      <td>9.175</td>\n",
       "      <td>48.776</td>\n",
       "    </tr>\n",
       "    <tr>\n",
       "      <th>2</th>\n",
       "      <td>795</td>\n",
       "      <td>655.159898</td>\n",
       "      <td>381</td>\n",
       "      <td>9.188</td>\n",
       "      <td>48.771</td>\n",
       "    </tr>\n",
       "    <tr>\n",
       "      <th>3</th>\n",
       "      <td>164</td>\n",
       "      <td>727.843825</td>\n",
       "      <td>72</td>\n",
       "      <td>9.174</td>\n",
       "      <td>48.773</td>\n",
       "    </tr>\n",
       "    <tr>\n",
       "      <th>4</th>\n",
       "      <td>962</td>\n",
       "      <td>782.876813</td>\n",
       "      <td>469</td>\n",
       "      <td>9.177</td>\n",
       "      <td>48.770</td>\n",
       "    </tr>\n",
       "  </tbody>\n",
       "</table>\n",
       "</div>"
      ],
      "text/plain": [
       "   sensor_id    distance  location    lon     lat\n",
       "0        809  454.208121       387  9.185  48.772\n",
       "1        649  582.152972       309  9.175  48.776\n",
       "2        795  655.159898       381  9.188  48.771\n",
       "3        164  727.843825        72  9.174  48.773\n",
       "4        962  782.876813       469  9.177  48.770"
      ]
     },
     "metadata": {},
     "output_type": "display_data"
    }
   ],
   "source": [
    "sql=\"\"\"\n",
    "WITH prefiltered AS \n",
    "     (SELECT s.sensor_id sensor_id, s.lon lon, s.lat lat, MAX(s.lon) max_lon, MAX(s.lat) max_lat , s.location location\n",
    "      FROM cos://us-geo/sql/oklabdata/parquet/sds011/2017/07/ STORED AS PARQUET s\n",
    "      WHERE isnotnull(s.lon) AND isnotnull(s.lon)GROUP BY s.sensor_id, s.lon, s.lat, s.location\n",
    "     )\n",
    "SELECT sensor_id, ST_Distance(ST_Point(max_lon, max_lat), ST_Point(9.1829321, 48.7758459)) AS distance , location as location, max_lon as lon, max_lat as lat \n",
    "FROM prefiltered \n",
    "WHERE ST_Distance(ST_Point(max_lon, max_lat), ST_Point(9.1829321, 48.7758459)) <= 1000.0 \n",
    "ORDER BY distance asc\"\"\"\n",
    "\n",
    "\n",
    "sds011_sensors = sqlClient.run_sql(sql)\n",
    "\n",
    "if isinstance( sds011_sensors, str):\n",
    "    print(sds011_sensors)\n",
    "else:\n",
    "    dp( sds011_sensors.head(5))"
   ]
  },
  {
   "cell_type": "markdown",
   "metadata": {},
   "source": [
    "#### Show location information for the sds011 sensors \n",
    "\n",
    "**Note:** You use the visualization library **folium** to this, but first you must install it and import it."
   ]
  },
  {
   "cell_type": "code",
   "execution_count": 14,
   "metadata": {},
   "outputs": [
    {
     "data": {
      "text/html": [
       "<div style=\"width:100%;\"><div style=\"position:relative;width:100%;height:0;padding-bottom:60%;\"><iframe src=\"data:text/html;charset=utf-8;base64,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\" style=\"position:absolute;width:100%;height:100%;left:0;top:0;border:none !important;\" allowfullscreen webkitallowfullscreen mozallowfullscreen></iframe></div></div>"
      ],
      "text/plain": [
       "<folium.folium.Map at 0x7f84daae5b00>"
      ]
     },
     "execution_count": 14,
     "metadata": {},
     "output_type": "execute_result"
    }
   ],
   "source": [
    "# install and import folium library \n",
    "\n",
    "!pip -q install folium\n",
    "import folium \n",
    " \n",
    "# Create a map of the Stuttgart area including location latitude = 48.7758459, longitude = 9.1829321\n",
    "m = folium.Map(location=[48.7758459, 9.1829321], zoom_start=15)\n",
    "\n",
    "# Add a circle marker to the map at location latitude = 48.7758459, longitude = 9.1829321\n",
    "\n",
    "marker=folium.CircleMarker(location=[48.7758459, 9.1829321])\n",
    "marker.add_to(m) \n",
    "\n",
    "# Add markers to the map where sensors of type sds011 within a 1000 meter distance to location [48.7758459, 9.182932] 1are installed\n",
    "\n",
    "for i in range(0,len(sds011_sensors)):\n",
    "    marker=folium.Marker([sds011_sensors.iloc[i]['lat'],  sds011_sensors.iloc[i]['lon']], popup=str( sds011_sensors.iloc[i]['sensor_id']),icon=folium.Icon(color='blue'))\n",
    "    marker.add_to(m)\n",
    "\n",
    "\n",
    "m "
   ]
  },
  {
   "cell_type": "markdown",
   "metadata": {},
   "source": [
    "#### Find dht22 sensors close to this geolocation"
   ]
  },
  {
   "cell_type": "code",
   "execution_count": 15,
   "metadata": {},
   "outputs": [
    {
     "data": {
      "text/html": [
       "<div>\n",
       "<style scoped>\n",
       "    .dataframe tbody tr th:only-of-type {\n",
       "        vertical-align: middle;\n",
       "    }\n",
       "\n",
       "    .dataframe tbody tr th {\n",
       "        vertical-align: top;\n",
       "    }\n",
       "\n",
       "    .dataframe thead th {\n",
       "        text-align: right;\n",
       "    }\n",
       "</style>\n",
       "<table border=\"1\" class=\"dataframe\">\n",
       "  <thead>\n",
       "    <tr style=\"text-align: right;\">\n",
       "      <th></th>\n",
       "      <th>sensor_id</th>\n",
       "      <th>distance</th>\n",
       "      <th>location</th>\n",
       "      <th>lon</th>\n",
       "      <th>lat</th>\n",
       "    </tr>\n",
       "  </thead>\n",
       "  <tbody>\n",
       "    <tr>\n",
       "      <th>0</th>\n",
       "      <td>810</td>\n",
       "      <td>454.208121</td>\n",
       "      <td>387</td>\n",
       "      <td>9.185</td>\n",
       "      <td>48.772</td>\n",
       "    </tr>\n",
       "    <tr>\n",
       "      <th>1</th>\n",
       "      <td>650</td>\n",
       "      <td>582.152972</td>\n",
       "      <td>309</td>\n",
       "      <td>9.175</td>\n",
       "      <td>48.776</td>\n",
       "    </tr>\n",
       "    <tr>\n",
       "      <th>2</th>\n",
       "      <td>796</td>\n",
       "      <td>655.159898</td>\n",
       "      <td>381</td>\n",
       "      <td>9.188</td>\n",
       "      <td>48.771</td>\n",
       "    </tr>\n",
       "    <tr>\n",
       "      <th>3</th>\n",
       "      <td>165</td>\n",
       "      <td>727.843825</td>\n",
       "      <td>72</td>\n",
       "      <td>9.174</td>\n",
       "      <td>48.773</td>\n",
       "    </tr>\n",
       "    <tr>\n",
       "      <th>4</th>\n",
       "      <td>963</td>\n",
       "      <td>782.876813</td>\n",
       "      <td>469</td>\n",
       "      <td>9.177</td>\n",
       "      <td>48.770</td>\n",
       "    </tr>\n",
       "  </tbody>\n",
       "</table>\n",
       "</div>"
      ],
      "text/plain": [
       "   sensor_id    distance  location    lon     lat\n",
       "0        810  454.208121       387  9.185  48.772\n",
       "1        650  582.152972       309  9.175  48.776\n",
       "2        796  655.159898       381  9.188  48.771\n",
       "3        165  727.843825        72  9.174  48.773\n",
       "4        963  782.876813       469  9.177  48.770"
      ]
     },
     "metadata": {},
     "output_type": "display_data"
    }
   ],
   "source": [
    "sql=\"\"\"\n",
    "WITH prefiltered AS \n",
    "     (SELECT d.sensor_id sensor_id, d.lon lon, d.lat lat, MAX(d.lon) max_lon, MAX(d.lat) max_lat , d.location location\n",
    "      FROM cos://us-geo/sql/oklabdata/parquet/dht22/2017/07/ STORED AS PARQUET d\n",
    "      WHERE isnotnull(d.lon) AND isnotnull(d.lon)GROUP BY d.sensor_id, d.lon, d.lat, d.location\n",
    "     )\n",
    "SELECT sensor_id, ST_Distance(ST_Point(max_lon, max_lat), ST_Point(9.1829321, 48.7758459)) AS distance , location as location, max_lon as lon, max_lat as lat \n",
    "FROM prefiltered \n",
    "WHERE ST_Distance(ST_Point(max_lon, max_lat), ST_Point(9.1829321, 48.7758459)) <= 1000.0 \n",
    "ORDER BY distance asc\"\"\"\n",
    "\n",
    "\n",
    "dht22_sensors = sqlClient.run_sql(sql)\n",
    "\n",
    "if isinstance(dht22_sensors , str):\n",
    "    print(dht22_sensors)\n",
    "else:\n",
    "    dp(dht22_sensors.head(5))"
   ]
  },
  {
   "cell_type": "markdown",
   "metadata": {},
   "source": [
    "#### Show location information for the dht22 sensors"
   ]
  },
  {
   "cell_type": "code",
   "execution_count": 16,
   "metadata": {},
   "outputs": [
    {
     "data": {
      "text/html": [
       "<div style=\"width:100%;\"><div style=\"position:relative;width:100%;height:0;padding-bottom:60%;\"><iframe src=\"data:text/html;charset=utf-8;base64,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\" style=\"position:absolute;width:100%;height:100%;left:0;top:0;border:none !important;\" allowfullscreen webkitallowfullscreen mozallowfullscreen></iframe></div></div>"
      ],
      "text/plain": [
       "<folium.folium.Map at 0x7f84daae5b00>"
      ]
     },
     "execution_count": 16,
     "metadata": {},
     "output_type": "execute_result"
    }
   ],
   "source": [
    "# Add markers to the map where sensors of type dht22 within a 1000 meter distance to location [48.7758459, 9.182932] are installed\n",
    "\n",
    "for i in range(0,len(dht22_sensors)):\n",
    "    marker=folium.Marker([dht22_sensors.iloc[i]['lat'], dht22_sensors.iloc[i]['lon']], popup=str(dht22_sensors.iloc[i]['sensor_id']), icon=folium.Icon(color='red'))\n",
    "    marker.add_to(m)\n",
    "\n",
    "m "
   ]
  },
  {
   "cell_type": "markdown",
   "metadata": {},
   "source": [
    "Let's work with the sensors <b>sensor_id 809</b> (sds011) and <b>sensor_id 810 </b> (dht22) which are closest to the geolocation and installed in the same <b>location 387</b>.\n",
    "For data visualization, you will use the matplotlib and Pixiedust libraries. "
   ]
  },
  {
   "cell_type": "markdown",
   "metadata": {},
   "source": [
    "### <a id=\"sqlexplore\"></a> 4.3 Explore humidity to validate particulate matter measurements\n",
    "\n",
    "The sds011 sensor data sheet states that it operates correctly when the humidity is less than 70%. When the humidity is higher it will condense as water at the particles and the particles will appear larger than they in fact are.\n",
    "\n",
    "So let's have a look at the hourly minimal, maximal, and average humidity values for different days in July. "
   ]
  },
  {
   "cell_type": "code",
   "execution_count": 17,
   "metadata": {},
   "outputs": [],
   "source": [
    "sql=\"\"\"\n",
    "SELECT min(d.humidity) as min_hum , max(d.humidity) max_hum, avg(d.humidity) avg_hum, hour(d.timestamp) AS hour, datediff('2017-07-31', d.timestamp) day  \n",
    "FROM cos://us-geo/sql/oklabdata/parquet/dht22/2017/07/ STORED AS PARQUET d \n",
    "WHERE  d.sensor_id=810 \n",
    "GROUP BY day, hour\n",
    "ORDER BY day, hour asc\"\"\"\n",
    "\n",
    "dht22_201707_810_df = sqlClient.run_sql(sql)"
   ]
  },
  {
   "cell_type": "markdown",
   "metadata": {},
   "source": [
    "#### Visualize the humidity changes during the course of the day in July 2017\n",
    "\n",
    "The matplotlib visualization library requires a matrix as input format. So in the next steps you will convert the dataframe into a matrix, which you can then use to visualize the humidity value changes during the day in July 2017. "
   ]
  },
  {
   "cell_type": "code",
   "execution_count": 18,
   "metadata": {},
   "outputs": [],
   "source": [
    "dht22_201707_810_df2=dht22_201707_810_df.set_index(['day','hour'], drop = True)\n",
    "del dht22_201707_810_df2[\"max_hum\"]\n",
    "del dht22_201707_810_df2[\"min_hum\"]\n"
   ]
  },
  {
   "cell_type": "code",
   "execution_count": 19,
   "metadata": {},
   "outputs": [],
   "source": [
    "import numpy as np\n",
    "humMatrix =  np.zeros(shape=(31,24))\n",
    "\n",
    "for i in range(31):\n",
    "    for j in range(24): \n",
    "            humMatrix[i,j] = dht22_201707_810_df2.loc[(i,j),:]\n",
    "         \n",
    "        "
   ]
  },
  {
   "cell_type": "markdown",
   "metadata": {},
   "source": [
    "Refer to the <a href=\"ttps://matplotlib.org/examples/color/colormaps_reference.html\" target=\"_blank\" rel=\"noopener noreferrer\">matplotlib colormaps reference</a> to see which color maps can be used with cmap in `imshow()`."
   ]
  },
  {
   "cell_type": "code",
   "execution_count": 20,
   "metadata": {},
   "outputs": [
    {
     "data": {
      "text/plain": [
       "<matplotlib.colorbar.Colorbar at 0x7f84ae52da20>"
      ]
     },
     "execution_count": 20,
     "metadata": {},
     "output_type": "execute_result"
    }
   ],
   "source": [
    "import matplotlib.pyplot as plt \n",
    "plt.imshow(humMatrix,cmap='YlGnBu', aspect='auto')\n",
    "plt.title('Humidity  Stuttgart July 2018')\n",
    "plt.colorbar()"
   ]
  },
  {
   "cell_type": "code",
   "execution_count": 21,
   "metadata": {
    "scrolled": true
   },
   "outputs": [
    {
     "data": {
      "text/plain": [
       "<mpl_toolkits.mplot3d.art3d.Poly3DCollection at 0x7f84ae47a390>"
      ]
     },
     "execution_count": 21,
     "metadata": {},
     "output_type": "execute_result"
    },
    {
     "data": {
      "image/png": "[encoded data removed]",
      "text/plain": [
       "<matplotlib.figure.Figure at 0x7f84ae4b4240>"
      ]
     },
     "metadata": {},
     "output_type": "display_data"
    }
   ],
   "source": [
    "from mpl_toolkits.mplot3d import Axes3D\n",
    "\n",
    "x,y = np.mgrid[0:31,0:24]\n",
    "\n",
    "fig = plt.figure()\n",
    "ax = Axes3D(fig)\n",
    "ax.plot_surface(x,y,humMatrix, rstride=1,cstride=1,cmap='YlGnBu')"
   ]
  },
  {
   "cell_type": "markdown",
   "metadata": {},
   "source": [
    "It turns out that the humidity during the night is very high. So you can expect valid particulate matter measurements only during the day. Also there are some rainy days that may have to be excluded from the particulate matter measurements to ensure that you analyse only valid data. \n",
    "\n",
    "To confirm the observation for the average humidity let's have a look a specific day(s) in July but not only at the average humidity but also at the minimal and maximal humidity. \n",
    "\n",
    "Use the visualization library PixieDust to do this. \n",
    "\n",
    "<b>PixieDust</b> is an open source helper library that works as an add-on to Jupyter notebooks, mainly used for visualization here. "
   ]
  },
  {
   "cell_type": "code",
   "execution_count": 22,
   "metadata": {},
   "outputs": [
    {
     "name": "stdout",
     "output_type": "stream",
     "text": [
      "Pixiedust database opened successfully\n",
      "Table VERSION_TRACKER created successfully\n",
      "Table METRICS_TRACKER created successfully\n",
      "\n",
      "Share anonymous install statistics? (opt-out instructions)\n",
      "\n",
      "PixieDust will record metadata on its environment the next time the package is installed or updated. The data is anonymized and aggregated to help plan for future releases, and records only the following values:\n",
      "\n",
      "{\n",
      "   \"data_sent\": currentDate,\n",
      "   \"runtime\": \"python\",\n",
      "   \"application_version\": currentPixiedustVersion,\n",
      "   \"space_id\": nonIdentifyingUniqueId,\n",
      "   \"config\": {\n",
      "       \"repository_id\": \"https://github.com/ibm-watson-data-lab/pixiedust\",\n",
      "       \"target_runtimes\": [\"Data Science Experience\"],\n",
      "       \"event_id\": \"web\",\n",
      "       \"event_organizer\": \"dev-journeys\"\n",
      "   }\n",
      "}\n",
      "You can opt out by calling pixiedust.optOut() in a new cell.\n"
     ]
    },
    {
     "data": {
      "text/html": [
       "\n",
       "        <div style=\"margin:10px\">\n",
       "            <a href=\"https://github.com/ibm-watson-data-lab/pixiedust\" target=\"_new\">\n",
       "                <img src=\"https://github.com/ibm-watson-data-lab/pixiedust/raw/master/docs/_static/pd_icon32.png\" style=\"float:left;margin-right:10px\"/>\n",
       "            </a>\n",
       "            <span>Pixiedust version 1.1.12</span>\n",
       "        </div>\n",
       "        "
      ],
      "text/plain": [
       "<IPython.core.display.HTML object>"
      ]
     },
     "metadata": {},
     "output_type": "display_data"
    },
    {
     "name": "stdout",
     "output_type": "stream",
     "text": [
      "Pixiedust runtime updated. Please restart kernel\n",
      "Table USER_PREFERENCES created successfully\n",
      "Table service_connections created successfully\n"
     ]
    },
    {
     "data": {
      "text/html": [
       "<div>Warning: You are not running the latest version of PixieDust. Current is 1.1.12, Latest is 1.1.14</div>"
      ],
      "text/plain": [
       "<IPython.core.display.HTML object>"
      ]
     },
     "metadata": {},
     "output_type": "display_data"
    },
    {
     "data": {
      "text/html": [
       "\n",
       "                <div>Please copy and run the following command in a new cell to upgrade: <span style=\"background-color:#ececec;font-family:monospace;padding:0 5px\">!pip install --user --upgrade pixiedust</span></div>\n",
       "            "
      ],
      "text/plain": [
       "<IPython.core.display.HTML object>"
      ]
     },
     "metadata": {},
     "output_type": "display_data"
    },
    {
     "data": {
      "text/html": [
       "<div>Please restart kernel after upgrading.</div>"
      ],
      "text/plain": [
       "<IPython.core.display.HTML object>"
      ]
     },
     "metadata": {},
     "output_type": "display_data"
    }
   ],
   "source": [
    "from pixiedust.display import * "
   ]
  },
  {
   "cell_type": "code",
   "execution_count": null,
   "metadata": {
    "pixiedust": {
     "displayParams": {
      "handlerId": "lineChart",
      "keyFields": "hour",
      "title": "Stuttgart - Humidity 2018/07/28",
      "valueFields": "min_hum,max_hum,avg_hum"
     }
    },
    "scrolled": false
   },
   "outputs": [
    {
     "data": {
      "text/html": [
       "<style type=\"text/css\">.pd_warning{display:none;}</style><div class=\"pd_warning\"><em>Hey, there's something awesome here! To see it, open this notebook outside GitHub, in a viewer like Jupyter</em></div>\n",
       "        <div class=\"pd_save is-viewer-good\" style=\"padding-right:10px;text-align: center;line-height:initial !important;font-size: xx-large;font-weight: 500;color: coral;\">\n",
       "            Stuttgart - Humidity 2018/07/28\n",
       "        </div>\n",
       "    <div id=\"chartFigure4dd3bf3c\" class=\"pd_save is-viewer-good\" style=\"overflow-x:auto\">\n",
       "            \n",
       "                    \n",
       "                            <center><img style=\"max-width:initial !important\" src=\"data:image/png;base64,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\" class=\"pd_save\"></center>\n",
       "                        \n",
       "                    \n",
       "                \n",
       "        </div>"
      ],
      "text/plain": [
       "<IPython.core.display.HTML object>"
      ]
     },
     "metadata": {},
     "output_type": "display_data"
    }
   ],
   "source": [
    "sql=\"\"\"\n",
    "SELECT min(d.humidity) as min_hum , max(d.humidity) max_hum, avg(d.humidity) avg_hum, hour(d.timestamp) AS hour \n",
    "FROM cos://us-geo/sql/oklabdata/parquet/dht22/2017/07/ STORED AS PARQUET d \n",
    "WHERE date(d.timestamp)=to_date(\"2017-07-28\") and d.sensor_id=810 \n",
    "GROUP BY hour\"\"\"\n",
    "\n",
    "dht22_201707_810_df = sqlClient.run_sql(sql)\n",
    "\n",
    "if isinstance(dht22_201707_810_df, str):\n",
    "    print(dht22_201707_810_df)\n",
    "else:\n",
    "    display(dht22_201707_810_df)"
   ]
  },
  {
   "cell_type": "markdown",
   "metadata": {},
   "source": [
    "### <a id=\"sqlcleansing\"></a> 4.4  Cleanse the data to filter out valid measurements  \n",
    "\n",
    "The previous queries have shown that you have to filter out the valid P1, P2 measurements. Only the when the humidity is less than 70% can you rely on the particulate matter measurements. So let's cleanse the data and have another look at the particulate matter measurements in July. \n",
    " \n",
    "To do this, first filter out all timestamps for the dht22 sensor in location 387 where humidity <= 70 % was measured. Then find the particulate matter measurements that match in terms of time (10 second interval) for the sds011 sensor in the same location (temporal join). "
   ]
  },
  {
   "cell_type": "code",
   "execution_count": 24,
   "metadata": {
    "pixiedust": {
     "displayParams": {
      "handlerId": "lineChart",
      "keyFields": "hour",
      "tableFields": "hour",
      "title": "Stuttgart - Particulate Matter 2017/07/28  (on cleansed data)",
      "valueFields": "avg_p1,avg_p2"
     }
    }
   },
   "outputs": [],
   "source": [
    "sql=\"\"\"\n",
    "WITH  hlt70 AS \n",
    "    (SELECT timestamp as ts_hlt70 FROM cos://us-geo/sql/oklabdata/parquet/dht22/2017/07/ STORED AS PARQUET \n",
    "     WHERE location=387  and humidity <= 70\n",
    "     ) \n",
    "SELECT avg(sds011.p1) as avg_p1,  max(sds011.p1) as max_p1,\n",
    "       avg(sds011.p2) as avg_p2,  max(sds011.p2) as  max_p2, \n",
    "       hour(sds011.timestamp) as hour , datediff('2017-07-31', sds011.timestamp) as  day \n",
    "FROM cos://us-geo/sql/oklabdata/parquet/sds011/2017/07/  STORED AS PARQUET sds011 , hlt70  \n",
    "WHERE  sds011.location=387 and \n",
    "       (to_unix_timestamp(sds011.timestamp) - 10 < to_unix_timestamp(hlt70.ts_hlt70)) and \n",
    "       (to_unix_timestamp(hlt70.ts_hlt70) < to_unix_timestamp(sds011.timestamp) + 10) \n",
    "GROUP BY day, hour \n",
    "ORDER BY day, hour asc\"\"\" \n",
    "\n",
    "sds011_201707_809 = sqlClient.run_sql(sql)\n"
   ]
  },
  {
   "cell_type": "code",
   "execution_count": 25,
   "metadata": {},
   "outputs": [],
   "source": [
    "sds011_201707_809_df=sds011_201707_809.set_index(['day','hour'], drop = True)\n"
   ]
  },
  {
   "cell_type": "code",
   "execution_count": 26,
   "metadata": {},
   "outputs": [],
   "source": [
    "del sds011_201707_809_df[\"max_p1\"] \n",
    "del sds011_201707_809_df[\"max_p2\"] \n",
    "del sds011_201707_809_df[\"avg_p2\"] "
   ]
  },
  {
   "cell_type": "code",
   "execution_count": 27,
   "metadata": {},
   "outputs": [
    {
     "data": {
      "text/plain": [
       "<matplotlib.colorbar.Colorbar at 0x7f849ebe0ba8>"
      ]
     },
     "execution_count": 27,
     "metadata": {},
     "output_type": "execute_result"
    },
    {
     "name": "stderr",
     "output_type": "stream",
     "text": [
      "/opt/conda/envs/DSX-Python35/lib/python3.5/site-packages/matplotlib/font_manager.py:1316: UserWarning: findfont: Font family ['serif'] not found. Falling back to DejaVu Sans\n",
      "  (prop.get_family(), self.defaultFamily[fontext]))\n"
     ]
    },
    {
     "data": {
      "image/png": "[encoded data removed]",
      "text/plain": [
       "<matplotlib.figure.Figure at 0x7f849ea59d30>"
      ]
     },
     "metadata": {},
     "output_type": "display_data"
    }
   ],
   "source": [
    "finedustMatrix =  np.zeros(shape=(31,24))\n",
    "\n",
    "for i in range(31):\n",
    "    for j in range(24):\n",
    "        if (i,j) in sds011_201707_809_df.index:  \n",
    "            finedustMatrix[i,j] = sds011_201707_809_df.loc[(i,j),:]\n",
    "        else: \n",
    "            finedustMatrix[i,j] = -1\n",
    "\n",
    "plt.imshow(finedustMatrix,cmap='Oranges', aspect='auto')\n",
    "plt.title('Average fine dust values of P10 in Stuttgart July 2018')\n",
    "plt.colorbar()"
   ]
  },
  {
   "cell_type": "markdown",
   "metadata": {},
   "source": [
    "## 7. Next steps<a id=\"nextsteps\"></a>\n",
    "\n",
    "Of course there are other ways to deal with the humidity issue. For example:\n",
    "\n",
    "- You can try to correct the particulate measurement data to make the measurements during periods of high humidity usable for the further evaluation.\n",
    "- You may want to look for outliers indicating that the sensor is not working correctly anymore. \n",
    "- Last but not least one may to want to compare the data with official measurements close by to gain trust in the data.\n",
    "\n",
    "After you have completed the data preparation step you can dive deeper into data analysis using, for example, Watson Studio with Watson Machine Learning.\n"
   ]
  },
  {
   "cell_type": "markdown",
   "metadata": {},
   "source": [
    "### Citation\n",
    "OK Lab Stuttgart particulate matter data - <a href=\"https://creativecommons.org/licenses/by/3.0/de/\" target=\"_blank\" rel=\"noopener noreferrer\">Creative Commons DE 3.0 Lizenz (CC BY 3.0 DE)</a>."
   ]
  },
  {
   "cell_type": "markdown",
   "metadata": {},
   "source": [
    "### Author\n",
    "**Dr. Ute Schuerfeld** is a software developer for IBM Cloud SQL Query at IBM, Germany. "
   ]
  },
  {
   "cell_type": "markdown",
   "metadata": {},
   "source": [
    "Copyright © 2018 IBM. This notebook and its source code are released under the terms of the MIT License."
   ]
  },
  {
   "cell_type": "markdown",
   "metadata": {},
   "source": [
    "<div style=\"background:#F5F7FA; height:110px; padding: 2em; font-size:14px;\">\n",
    "<span style=\"font-size:18px;color:#152935;\">Love this notebook? </span>\n",
    "<span style=\"font-size:15px;color:#152935;float:right;margin-right:40px;\">Don't have an account yet?</span><br>\n",
    "<span style=\"color:#5A6872;\">Share it with your colleagues and help them discover the power of Watson Studio!</span>\n",
    "<span style=\"border: 1px solid #3d70b2;padding:8px;float:right;margin-right:40px; color:#3d70b2;\"><a href=\"https://ibm.co/wsnotebooks\" target=\"_blank\" style=\"color: #3d70b2;text-decoration: none;\">Sign Up</a></span><br>\n",
    "</div>"
   ]
  }
 ],
 "metadata": {
  "kernelspec": {
   "display_name": "Python 3.5",
   "language": "python",
   "name": "python3"
  },
  "language_info": {
   "codemirror_mode": {
    "name": "ipython",
    "version": 3
   },
   "file_extension": ".py",
   "mimetype": "text/x-python",
   "name": "python",
   "nbconvert_exporter": "python",
   "pygments_lexer": "ipython3",
   "version": "3.5.5"
  }
 },
 "nbformat": 4,
 "nbformat_minor": 1
}
