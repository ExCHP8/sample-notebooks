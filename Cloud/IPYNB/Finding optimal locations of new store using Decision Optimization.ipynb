{
 "cells": [
  {
   "cell_type": "markdown",
   "metadata": {
    "render": false
   },
   "source": [
    "# Finding Optimal Locations for New Stores\n",
    "\n",
    "This notebook is an example of how **Decision Optimization** can help to prescribe decisions for a complex constrained problem.\n",
    "\n",
    "When you finish this notebook, you'll have a foundational knowledge of _Prescriptive Analytics_.\n",
    "\n",
    ">This notebook requires the Commercial Edition of CPLEX engines, which is included in the Default Python 3.5 XS + Beta of DO in Watson Studio.\n",
    "\n",
    "Table of contents:\n",
    "\n",
    "-  [Describe the business problem](#Describe-the-business-problem)\n",
    "*  [How decision optimization (prescriptive analytics) can help](#How--decision-optimization-can-help)\n",
    "*  [Use decision optimization](#Use-decision-optimization)\n",
    "    *  [Step 1: Download the library](#Step-1:-Download-the-library)\n",
    "    *  [Step 2: Set up the engines](#Step-2:-Set-up-the-prescriptive-engine)\n",
    "    -  [Step 3: Model the data](#Step-3:-Model-the-data)\n",
    "    *  [Step 4: Prepare the data](#Step-4:-Prepare-the-data)\n",
    "    -  [Step 5: Set up the prescriptive model](#Step-5:-Set-up-the-prescriptive-model)\n",
    "        * [Define the decision variables](#Define-the-decision-variables)\n",
    "        * [Express the business constraints](#Express-the-business-constraints)\n",
    "        * [Express the objective](#Express-the-objective)\n",
    "        * [Solve with the Decision Optimization solve service](#Solve-with-the-Decision-Optimization-solve-service)\n",
    "    *  [Step 6: Investigate the solution and run an example analysis](#Step-6:-Investigate-the-solution-and-then-run-an-example-analysis)\n",
    "*  [Summary](#Summary)\n",
    "\n",
    "****"
   ]
  },
  {
   "cell_type": "markdown",
   "metadata": {
    "render": false
   },
   "source": [
    "## Describe the business problem\n",
    "\n",
    "* A fictional Coffee Company plans to open N shops in the near future and needs to determine where they should be located knowing the following:\n",
    "    * Most of the customers of this coffee brewer enjoy reading and borrowing books, so the goal is to locate those shops in such a way that all the city public libraries are within minimal walking distance.\n",
    "* We use <a href=\"https://data.cityofchicago.org\" target=\"_blank\" rel=\"noopener noreferrer\">Chicago open data</a> for this example.\n",
    "* We implement a <a href=\"https://en.wikipedia.org/wiki/K-medians_clustering\" target=\"_blank\" rel=\"noopener noreferrer\">K-Median model</a> to get the optimal location of our future shops."
   ]
  },
  {
   "cell_type": "markdown",
   "metadata": {
    "render": false
   },
   "source": [
    "## How  decision optimization can help\n",
    "\n",
    "* Prescriptive analytics (decision optimization) technology recommends actions that are based on desired outcomes.  It takes into account specific scenarios, resources, and knowledge of past and current events. With this insight, your organization can make better decisions and have greater control of business outcomes.  \n",
    "\n",
    "* Prescriptive analytics is the next step on the path to insight-based actions. It creates value through synergy with predictive analytics, which analyzes data to predict future outcomes.  \n",
    "\n",
    "* Prescriptive analytics takes that insight to the next level by suggesting the optimal way to handle that future situation. Organizations that can act fast in dynamic conditions and make superior decisions in uncertain environments gain a strong competitive advantage.  \n",
    "<br/>\n",
    "\n",
    "With prescriptive analytics, you can: \n",
    "\n",
    "* Automate the complex decisions and trade-offs to better manage your limited resources.\n",
    "* Take advantage of a future opportunity or mitigate a future risk.\n",
    "* Proactively update recommendations based on changing events.\n",
    "* Meet operational goals, increase customer loyalty, prevent threats and fraud, and optimize business processes."
   ]
  },
  {
   "cell_type": "markdown",
   "metadata": {},
   "source": [
    "## Use decision optimization"
   ]
  },
  {
   "cell_type": "markdown",
   "metadata": {},
   "source": [
    "### Step 1: Import the docplex package \n",
    "\n",
    "This package is presintalled on Watson Studio."
   ]
  },
  {
   "cell_type": "code",
   "execution_count": 1,
   "metadata": {},
   "outputs": [],
   "source": [
    "import sys\n",
    "import docplex.mp"
   ]
  },
  {
   "cell_type": "markdown",
   "metadata": {},
   "source": [
    "<i>Note that the more global package docplex contains another subpackage docplex.cp that is dedicated to Constraint Programming, another branch of optimization.</i>"
   ]
  },
  {
   "cell_type": "markdown",
   "metadata": {
    "render": false
   },
   "source": [
    "### Step 2: Model the data\n",
    "\n",
    "- The data for this problem is quite simple: it is composed of the list of public libraries and their geographical locations.\n",
    "- The data is acquired from <a href=\"https://data.cityofchicago.org\" target=\"_blank\" rel=\"noopener noreferrer\">Chicago open data</a> as a JSON file, which is in the following format:\n",
    "<code>\n",
    "data\" : [ [ 1, \"13BFA4C7-78CE-4D83-B53D-B57C60B701CF\", 1, 1441918880, \"885709\", 1441918880, \"885709\", null, \"Albany Park\", \"M, W: 10AM-6PM;  TU, TH: 12PM-8PM; F, SA: 9AM-5PM; SU: Closed\", \"Yes\", \"Yes \", \"3401 W. Foster Avenue\", \"CHICAGO\", \"IL\", \"60625\", \"(773) 539-5450\", [ \"http://www.chipublib.org/locations/1/\", null ], [ null, \"41.975456\", \"-87.71409\", null, false ] ]\n",
    "</code>\n",
    "This code snippet represents library \"**3401 W. Foster Avenue**\" located at **41.975456, -87.71409**\n"
   ]
  },
  {
   "cell_type": "markdown",
   "metadata": {
    "render": false
   },
   "source": [
    "### Step 3: Prepare the data\n",
    "We need to collect the list of public libraries locations and keep their names, latitudes, and longitudes."
   ]
  },
  {
   "cell_type": "code",
   "execution_count": 2,
   "metadata": {},
   "outputs": [],
   "source": [
    "# Store longitude, latitude and street crossing name of each public library location.\n",
    "class XPoint(object):\n",
    "    def __init__(self, x, y):\n",
    "        self.x = x\n",
    "        self.y = y\n",
    "    def __str__(self):\n",
    "        return \"P(%g_%g)\" % (self.x, self.y)\n",
    "\n",
    "class NamedPoint(XPoint):\n",
    "    def __init__(self, name, x, y):\n",
    "        XPoint.__init__(self, x, y)\n",
    "        self.name = name\n",
    "    def __str__(self):\n",
    "        return self.name"
   ]
  },
  {
   "cell_type": "markdown",
   "metadata": {
    "render": false
   },
   "source": [
    "#### Define how to compute the earth distance between 2 points\n",
    "To easily compute distance between 2 points, we use the Python package <a href=\"https://pypi.python.org/pypi/geopy\" target=\"_blank\" rel=\"noopener noreferrer\">geopy</a>"
   ]
  },
  {
   "cell_type": "code",
   "execution_count": 3,
   "metadata": {},
   "outputs": [],
   "source": [
    "try:\n",
    "    import geopy.distance\n",
    "except:\n",
    "    if hasattr(sys, 'real_prefix'):\n",
    "        #we are in a virtual env.\n",
    "        !pip install geopy \n",
    "    else:\n",
    "        !pip install --user geopy"
   ]
  },
  {
   "cell_type": "code",
   "execution_count": 4,
   "metadata": {},
   "outputs": [],
   "source": [
    "# Simple distance computation between 2 locations.\n",
    "from geopy.distance import great_circle\n",
    " \n",
    "def get_distance(p1, p2):\n",
    "    return great_circle((p1.y, p1.x), (p2.y, p2.x)).miles"
   ]
  },
  {
   "cell_type": "markdown",
   "metadata": {
    "render": false
   },
   "source": [
    "#### Declare the list of libraries\n",
    "Parse the JSON file to get the list of libraries and store them as Python elements."
   ]
  },
  {
   "cell_type": "code",
   "execution_count": 5,
   "metadata": {
    "render": false
   },
   "outputs": [],
   "source": [
    "def build_libraries_from_url(url, name_pos, lat_long_pos):\n",
    "    import requests\n",
    "    import json\n",
    "\n",
    "    r = requests.get(url)\n",
    "    myjson = json.loads(r.text, parse_constant='utf-8')\n",
    "    myjson = myjson['data']\n",
    "\n",
    "    libraries = []\n",
    "    k = 1\n",
    "    for location in myjson:\n",
    "        uname = location[name_pos]\n",
    "        try:\n",
    "            latitude = float(location[lat_long_pos][1])\n",
    "            longitude = float(location[lat_long_pos][2])\n",
    "        except TypeError:\n",
    "            latitude = longitude = None\n",
    "        try:\n",
    "            name = str(uname)\n",
    "        except:\n",
    "            name = \"???\"\n",
    "        name = \"P_%s_%d\" % (name, k)\n",
    "        if latitude and longitude:\n",
    "            cp = NamedPoint(name, longitude, latitude)\n",
    "            libraries.append(cp)\n",
    "            k += 1\n",
    "    return libraries"
   ]
  },
  {
   "cell_type": "code",
   "execution_count": 6,
   "metadata": {},
   "outputs": [],
   "source": [
    "libraries = build_libraries_from_url('https://data.cityofchicago.org/api/views/x8fc-8rcq/rows.json?accessType=DOWNLOAD',\n",
    "                                   name_pos=10,\n",
    "                                   lat_long_pos=16)"
   ]
  },
  {
   "cell_type": "code",
   "execution_count": 7,
   "metadata": {
    "render": false
   },
   "outputs": [
    {
     "name": "stdout",
     "output_type": "stream",
     "text": [
      "There are 81 public libraries in Chicago\n"
     ]
    }
   ],
   "source": [
    "print(\"There are %d public libraries in Chicago\" % (len(libraries)))"
   ]
  },
  {
   "cell_type": "markdown",
   "metadata": {},
   "source": [
    "#### Define number of shops to open\n",
    "Create a constant that indicates how many coffee shops we would like to open."
   ]
  },
  {
   "cell_type": "code",
   "execution_count": 8,
   "metadata": {
    "render": false
   },
   "outputs": [
    {
     "name": "stdout",
     "output_type": "stream",
     "text": [
      "We would like to open 5 coffee shops\n"
     ]
    }
   ],
   "source": [
    "nb_shops = 5\n",
    "print(\"We would like to open %d coffee shops\" % nb_shops)"
   ]
  },
  {
   "cell_type": "markdown",
   "metadata": {
    "render": false
   },
   "source": [
    "#### Validate the data by displaying them\n",
    "We will use the <a href=\"https://folium.readthedocs.org/en/latest/quickstart.html#getting-started\" target=\"_blank\" rel=\"noopener noreferrer\">folium</a> library to display a map with markers."
   ]
  },
  {
   "cell_type": "code",
   "execution_count": null,
   "metadata": {},
   "outputs": [],
   "source": [
    "try:\n",
    "    import folium\n",
    "except:\n",
    "    if hasattr(sys, 'real_prefix'):\n",
    "        #we are in a virtual env.\n",
    "        !pip install folium \n",
    "    else:\n",
    "        !pip install folium"
   ]
  },
  {
   "cell_type": "code",
   "execution_count": 10,
   "metadata": {
    "scrolled": true
   },
   "outputs": [
    {
     "data": {
      "text/html": [
       "<div style=\"width:100%;\"><div style=\"position:relative;width:100%;height:0;padding-bottom:60%;\"><iframe src=\"data:text/html;charset=utf-8;base64,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\" style=\"position:absolute;width:100%;height:100%;left:0;top:0;border:none !important;\" allowfullscreen webkitallowfullscreen mozallowfullscreen></iframe></div></div>"
      ],
      "text/plain": [
       "<folium.folium.Map at 0x7f0ec23c8438>"
      ]
     },
     "execution_count": 10,
     "metadata": {},
     "output_type": "execute_result"
    }
   ],
   "source": [
    "import folium\n",
    "map_osm = folium.Map(location=[41.878, -87.629], zoom_start=11)\n",
    "for library in libraries:\n",
    "    lt = library.y\n",
    "    lg = library.x\n",
    "    folium.Marker([lt, lg]).add_to(map_osm)\n",
    "map_osm"
   ]
  },
  {
   "cell_type": "markdown",
   "metadata": {},
   "source": [
    "After running the above code, the data is displayed but it is impossible to determine where to ideally open the coffee shops by just looking at the map.\n",
    "\n",
    "Let's set up DOcplex to write and solve an optimization model that will help us determine where to locate the coffee shops in an optimal way."
   ]
  },
  {
   "cell_type": "markdown",
   "metadata": {},
   "source": [
    "### Step 4: Set up the prescriptive model"
   ]
  },
  {
   "cell_type": "code",
   "execution_count": 11,
   "metadata": {},
   "outputs": [
    {
     "name": "stdout",
     "output_type": "stream",
     "text": [
      "* system is: Linux 64bit\n",
      "* Python is present, version is 3.5.5\n",
      "* docplex is present, version is (2, 8, 125)\n",
      "* CPLEX wrapper is present, version is 12.8.0.0, located at: /opt/conda/envs/DSX-Python35/lib/python3.5/site-packages\n"
     ]
    }
   ],
   "source": [
    "from docplex.mp.environment import Environment\n",
    "env = Environment()\n",
    "env.print_information()"
   ]
  },
  {
   "cell_type": "markdown",
   "metadata": {},
   "source": [
    "#### Create the DOcplex model\n",
    "The model contains all the business constraints and defines the objective."
   ]
  },
  {
   "cell_type": "code",
   "execution_count": 12,
   "metadata": {},
   "outputs": [
    {
     "name": "stderr",
     "output_type": "stream",
     "text": [
      "/opt/conda/envs/DSX-Python35/lib/python3.5/site-packages/docplex/mp/model.py:14: Warning: These editions of DOcplex and CPLEX for Watson Studio are in beta.\n",
      "  warnings.warn('These editions of DOcplex and CPLEX for Watson Studio are in beta.', Warning)\n"
     ]
    }
   ],
   "source": [
    "from docplex.mp.model import Model\n",
    "\n",
    "mdl = Model(\"coffee shops\")"
   ]
  },
  {
   "cell_type": "markdown",
   "metadata": {},
   "source": [
    "#### Define the decision variables"
   ]
  },
  {
   "cell_type": "code",
   "execution_count": 13,
   "metadata": {},
   "outputs": [],
   "source": [
    "BIGNUM = 999999999\n",
    "\n",
    "# Ensure unique points\n",
    "libraries = set(libraries)\n",
    "# For simplicity, let's consider that coffee shops candidate locations are the same as libraries locations.\n",
    "# That is: any library location can also be selected as a coffee shop.\n",
    "coffeeshop_locations = libraries\n",
    "\n",
    "# Decision vars\n",
    "# Binary vars indicating which coffee shop locations will be actually selected\n",
    "coffeeshop_vars = mdl.binary_var_dict(coffeeshop_locations, name=\"is_coffeeshop\")\n",
    "#\n",
    "# Binary vars representing the \"assigned\" libraries for each coffee shop\n",
    "link_vars = mdl.binary_var_matrix(coffeeshop_locations, libraries, \"link\")"
   ]
  },
  {
   "cell_type": "markdown",
   "metadata": {},
   "source": [
    "#### Express the business constraints\n",
    "First constraint: if the distance is suspect, it needs to be excluded from the problem."
   ]
  },
  {
   "cell_type": "code",
   "execution_count": 14,
   "metadata": {},
   "outputs": [],
   "source": [
    "for c_loc in coffeeshop_locations:\n",
    "    for b in libraries:\n",
    "        if get_distance(c_loc, b) >= BIGNUM:\n",
    "            mdl.add_constraint(link_vars[c_loc, b] == 0, \"ct_forbid_{0!s}_{1!s}\".format(c_loc, b))"
   ]
  },
  {
   "cell_type": "markdown",
   "metadata": {},
   "source": [
    "Second constraint: each library must be linked to a coffee shop that is open."
   ]
  },
  {
   "cell_type": "code",
   "execution_count": 15,
   "metadata": {},
   "outputs": [
    {
     "name": "stdout",
     "output_type": "stream",
     "text": [
      "Model: coffee shops\n",
      " - number of variables: 6642\n",
      "   - binary=6642, integer=0, continuous=0\n",
      " - number of constraints: 6561\n",
      "   - linear=6561\n",
      " - parameters: defaults\n"
     ]
    }
   ],
   "source": [
    "mdl.add_constraints(link_vars[c_loc, b] <= coffeeshop_vars[c_loc]\n",
    "                   for b in libraries\n",
    "                   for c_loc in coffeeshop_locations)\n",
    "mdl.print_information()"
   ]
  },
  {
   "cell_type": "markdown",
   "metadata": {},
   "source": [
    "Third constraint: each library is linked to exactly one coffee shop."
   ]
  },
  {
   "cell_type": "code",
   "execution_count": 16,
   "metadata": {},
   "outputs": [
    {
     "name": "stdout",
     "output_type": "stream",
     "text": [
      "Model: coffee shops\n",
      " - number of variables: 6642\n",
      "   - binary=6642, integer=0, continuous=0\n",
      " - number of constraints: 6642\n",
      "   - linear=6642\n",
      " - parameters: defaults\n"
     ]
    }
   ],
   "source": [
    "mdl.add_constraints(mdl.sum(link_vars[c_loc, b] for c_loc in coffeeshop_locations) == 1\n",
    "                   for b in libraries)\n",
    "mdl.print_information()"
   ]
  },
  {
   "cell_type": "markdown",
   "metadata": {},
   "source": [
    "Fourth constraint: there is a fixed number of coffee shops to open."
   ]
  },
  {
   "cell_type": "code",
   "execution_count": 17,
   "metadata": {},
   "outputs": [
    {
     "name": "stdout",
     "output_type": "stream",
     "text": [
      "Model: coffee shops\n",
      " - number of variables: 6642\n",
      "   - binary=6642, integer=0, continuous=0\n",
      " - number of constraints: 6643\n",
      "   - linear=6643\n",
      " - parameters: defaults\n"
     ]
    }
   ],
   "source": [
    "# Total nb of open coffee shops\n",
    "mdl.add_constraint(mdl.sum(coffeeshop_vars[c_loc] for c_loc in coffeeshop_locations) == nb_shops)\n",
    "\n",
    "# Print model information\n",
    "mdl.print_information()"
   ]
  },
  {
   "cell_type": "markdown",
   "metadata": {},
   "source": [
    "#### Express the objective\n",
    "\n",
    "The objective is to minimize the total distance from libraries to coffee shops so that a book reader always gets to our coffee shop easily.\n"
   ]
  },
  {
   "cell_type": "code",
   "execution_count": 18,
   "metadata": {},
   "outputs": [],
   "source": [
    "# Minimize total distance from points to hubs\n",
    "total_distance = mdl.sum(link_vars[c_loc, b] * get_distance(c_loc, b) for c_loc in coffeeshop_locations for b in libraries)\n",
    "mdl.minimize(total_distance)"
   ]
  },
  {
   "cell_type": "markdown",
   "metadata": {},
   "source": [
    "#### Solve with the Decision Optimization solve service\n",
    "\n",
    "Solve the model."
   ]
  },
  {
   "cell_type": "code",
   "execution_count": 19,
   "metadata": {},
   "outputs": [
    {
     "name": "stdout",
     "output_type": "stream",
     "text": [
      "# coffee shops locations = 81\n",
      "# coffee shops           = 5\n"
     ]
    }
   ],
   "source": [
    "print(\"# coffee shops locations = %d\" % len(coffeeshop_locations))\n",
    "print(\"# coffee shops           = %d\" % nb_shops)\n",
    "\n",
    "assert mdl.solve(), \"!!! Solve of the model fails\""
   ]
  },
  {
   "cell_type": "markdown",
   "metadata": {
    "render": false
   },
   "source": [
    "### Step 6: Investigate the solution and then run an example analysis\n",
    "\n",
    "The solution can be analyzed by displaying the location of the coffee shops on a map."
   ]
  },
  {
   "cell_type": "code",
   "execution_count": 20,
   "metadata": {
    "render": false
   },
   "outputs": [
    {
     "name": "stdout",
     "output_type": "stream",
     "text": [
      "Total distance = 210.953\n",
      "# coffee shops  = 5\n",
      "new coffee shop: P_4455 N. Lincoln Ave._66\n",
      "new coffee shop: P_2111 W. 47th St._8\n",
      "new coffee shop: P_9525 S. Halsted St._80\n",
      "new coffee shop: P_6 S. Hoyne Ave._48\n",
      "new coffee shop: P_6100 W. Irving Park Rd._6\n"
     ]
    }
   ],
   "source": [
    "total_distance = mdl.objective_value\n",
    "open_coffeeshops = [c_loc for c_loc in coffeeshop_locations if coffeeshop_vars[c_loc].solution_value == 1]\n",
    "not_coffeeshops = [c_loc for c_loc in coffeeshop_locations if c_loc not in open_coffeeshops]\n",
    "edges = [(c_loc, b) for b in libraries for c_loc in coffeeshop_locations if int(link_vars[c_loc, b]) == 1]\n",
    "\n",
    "print(\"Total distance = %g\" % total_distance)\n",
    "print(\"# coffee shops  = {0}\".format(len(open_coffeeshops)))\n",
    "for c in open_coffeeshops:\n",
    "    print(\"new coffee shop: {0!s}\".format(c))"
   ]
  },
  {
   "cell_type": "markdown",
   "metadata": {},
   "source": [
    "#### Displaying the solution\n",
    "Coffee shops are highlighted in red."
   ]
  },
  {
   "cell_type": "code",
   "execution_count": 21,
   "metadata": {},
   "outputs": [
    {
     "data": {
      "text/html": [
       "<div style=\"width:100%;\"><div style=\"position:relative;width:100%;height:0;padding-bottom:60%;\"><iframe src=\"data:text/html;charset=utf-8;base64,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\" style=\"position:absolute;width:100%;height:100%;left:0;top:0;border:none !important;\" allowfullscreen webkitallowfullscreen mozallowfullscreen></iframe></div></div>"
      ],
      "text/plain": [
       "<folium.folium.Map at 0x7f0eab08fe48>"
      ]
     },
     "execution_count": 21,
     "metadata": {},
     "output_type": "execute_result"
    }
   ],
   "source": [
    "import folium\n",
    "map_osm = folium.Map(location=[41.878, -87.629], zoom_start=11)\n",
    "for coffeeshop in open_coffeeshops:\n",
    "    lt = coffeeshop.y\n",
    "    lg = coffeeshop.x\n",
    "    folium.Marker([lt, lg], icon=folium.Icon(color='red',icon='info-sign')).add_to(map_osm)\n",
    "    \n",
    "for b in libraries:\n",
    "    if b not in open_coffeeshops:\n",
    "        lt = b.y\n",
    "        lg = b.x\n",
    "        folium.Marker([lt, lg]).add_to(map_osm)\n",
    "    \n",
    "\n",
    "for (c, b) in edges:\n",
    "    coordinates = [[c.y, c.x], [b.y, b.x]]\n",
    "    map_osm.add_child(folium.PolyLine(coordinates, color='#FF0000', weight=5))\n",
    "\n",
    "map_osm"
   ]
  },
  {
   "cell_type": "markdown",
   "metadata": {
    "collapsed": true
   },
   "source": [
    "## Summary\n",
    "\n",
    "You have learned how to set up, formulate and solve an optimization model using Decision Optimization in Watson Studio."
   ]
  },
  {
   "cell_type": "markdown",
   "metadata": {
    "collapsed": true
   },
   "source": [
    "#### References\n",
    "* <a href=\"https://rawgit.com/IBMDecisionOptimization/docplex-doc/master/docs/index.html\" target=\"_blank\" rel=\"noopener noreferrer\">Decision Optimization CPLEX Modeling for Python documentation</a>\n",
    "* <a href=\"https://dataplatform.cloud.ibm.com/docs/content/getting-started/welcome-main.html?audience=wdp&context=wdp\" target=\"_blank\" rel=\"noopener noreferrer\">Watson Studio documentation</a>"
   ]
  },
  {
   "cell_type": "markdown",
   "metadata": {},
   "source": [
    "Copyright © 2017-2019 IBM. This notebook and its source code are released under the terms of the MIT License."
   ]
  },
  {
   "cell_type": "markdown",
   "metadata": {},
   "source": [
    "<div style=\"background:#F5F7FA; height:110px; padding: 2em; font-size:14px;\">\n",
    "<span style=\"font-size:18px;color:#152935;\">Love this notebook? </span>\n",
    "<span style=\"font-size:15px;color:#152935;float:right;margin-right:40px;\">Don't have an account yet?</span><br>\n",
    "<span style=\"color:#5A6872;\">Share it with your colleagues and help them discover the power of Watson Studio!</span>\n",
    "<span style=\"border: 1px solid #3d70b2;padding:8px;float:right;margin-right:40px; color:#3d70b2;\"><a href=\"https://ibm.co/wsnotebooks\" target=\"_blank\" style=\"color: #3d70b2;text-decoration: none;\">Sign Up</a></span><br>\n",
    "</div>\n"
   ]
  }
 ],
 "metadata": {
  "celltoolbar": "Dashboard",
  "kernelspec": {
   "display_name": "Python 3.5",
   "language": "python",
   "name": "python3"
  },
  "language_info": {
   "codemirror_mode": {
    "name": "ipython",
    "version": 3
   },
   "file_extension": ".py",
   "mimetype": "text/x-python",
   "name": "python",
   "nbconvert_exporter": "python",
   "pygments_lexer": "ipython3",
   "version": "3.5.5"
  }
 },
 "nbformat": 4,
 "nbformat_minor": 1
}
