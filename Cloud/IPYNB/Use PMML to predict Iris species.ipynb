{
 "cells": [
  {
   "cell_type": "markdown",
   "metadata": {},
   "source": [
    "<table style=\"border: none\" align=\"left\">\n",
    "   <tr style=\"border: none\">\n",
    "      <th style=\"border: none\"><font face=\"verdana\" size=\"5\" color=\"black\"><b>Persist, Deploy, and Score a PMML model to Predict Iris Species</b></th>\n",
    "      <th style=\"border: none\"><img src=\"https://github.com/pmservice/customer-satisfaction-prediction/blob/master/app/static/images/ml_icon_gray.png?raw=true\" alt=\"Watson Machine Learning icon\" height=\"40\" width=\"40\"></th>\n",
    "  <tr style=\"border: none\">\n",
    "       <th style=\"border: none\"><img src=\"https://github.com/pmservice/wml-sample-models/blob/master/spark/customer-satisfaction-prediction/images/users_banner_2-03.png?raw=true\" width=\"600\" alt=\"Icon\"> </th>\n",
    "   </tr>\n",
    "</table>"
   ]
  },
  {
   "cell_type": "markdown",
   "metadata": {},
   "source": [
    "This notebook demonstrates how to store a sample Predictive Model Markup Language (PMML) model and score test data. \n",
    "\n",
    "Some familiarity with python is helpful. This notebook is compatible with Python 3.5.\n",
    "\n",
    "You will use the **Iris** data set to predict the species of an iris flower. This data set contains measurements of the iris perianth flower. \n",
    "\n",
    "## Learning goals\n",
    "\n",
    "You will learn how to:\n",
    "\n",
    "-  Set up the Watson Machine Learning (WML) instance.\n",
    "-  Deploy a PMML model.\n",
    "-  Score the deployed model.\n",
    "\n",
    "\n",
    "## Contents\n",
    "\n",
    "1.\t[Set up the environment](#setup)\n",
    "2.\t[Persist, deploy, and score a PMML model in the Watson Machine Learning (WML) repository](#scoring)\n",
    "3.\t[Summary and next steps](#summary)"
   ]
  },
  {
   "cell_type": "markdown",
   "metadata": {},
   "source": [
    "<a id=\"setup\"></a>\n",
    "## 1. Set up the environment\n",
    "\n",
    "Before you use the sample code in this notebook, you must perform the following setup tasks:\n",
    "\n",
    "-  Create a <a href=\"https://console.ng.bluemix.net/catalog/services/ibm-watson-machine-learning/\" target=\"_blank\" rel=\"noopener no referrer\">Watson Machine Learning (WML) Service</a> instance (a free plan is offered and information about how to create the instance can be found <a href=\"https://dataplatform.ibm.com/docs/content/analyze-data/wml-setup.html\" target=\"_blank\" rel=\"noopener no referrer\">here</a>).\n",
    "-  Install the <a href=\"https://pypi.python.org/pypi?%3Aaction=search&term=watson-machine-learning-client&submit=search\" target=\"_blank\" rel=\"noopener no referrer\">watson-machine-learning-client</a> (**not required on Watson Studio**)."
   ]
  },
  {
   "cell_type": "markdown",
   "metadata": {},
   "source": [
    "\n",
    "### 1.1 Set up the WML service instance"
   ]
  },
  {
   "cell_type": "markdown",
   "metadata": {},
   "source": [
    "In this subsection, you will learn how to set up and obtain details of your WML service instance."
   ]
  },
  {
   "cell_type": "markdown",
   "metadata": {},
   "source": [
    "#### Install the `watson-machine-learning-client` package from pypi\n",
    "**Note:** `watson-machine-learning-client` documentation can be found <a href=\"http://wml-api-pyclient.mybluemix.net/\" target=\"_blank\" rel=\"noopener no referrer\">here</a>."
   ]
  },
  {
   "cell_type": "code",
   "execution_count": 1,
   "metadata": {},
   "outputs": [],
   "source": [
    "!rm -rf $PIP_BUILD/watson-machine-learning-client"
   ]
  },
  {
   "cell_type": "code",
   "execution_count": null,
   "metadata": {},
   "outputs": [],
   "source": [
    "#Install the WML client if required.\n",
    "!pip install --upgrade watson-machine-learning-client "
   ]
  },
  {
   "cell_type": "markdown",
   "metadata": {},
   "source": [
    "Authenticate the WML service on the IBM Cloud.\n",
    "\n",
    "**Tip**: Authentication information (your credentials) can be found in the <a href=\"https://console.bluemix.net/docs/services/service_credentials.html#service_credentials\" target=\"_blank\" rel=\"noopener no referrer\">Service Credentials</a> tab of the service instance that you created on the IBM Cloud. <BR>If you cannot find the **instance_id** field in **Service Credentials**, click **New credential (+)** to generate new authentication information. \n",
    "\n",
    "**Action**: Enter your WML service instance credentials in the following cell."
   ]
  },
  {
   "cell_type": "code",
   "execution_count": 3,
   "metadata": {},
   "outputs": [],
   "source": [
    "# Enter your credentials here.\n",
    "wml_credentials = {\n",
    "    'url': 'https://ibm-watson-ml.mybluemix.net',\n",
    "    'username': '***',\n",
    "    'password': '***',\n",
    "    'instance_id': '***'\n",
    "}"
   ]
  },
  {
   "cell_type": "code",
   "execution_count": null,
   "metadata": {},
   "outputs": [],
   "source": [
    "from watson_machine_learning_client import WatsonMachineLearningAPIClient"
   ]
  },
  {
   "cell_type": "code",
   "execution_count": 6,
   "metadata": {},
   "outputs": [],
   "source": [
    "wml_client = WatsonMachineLearningAPIClient(wml_credentials)"
   ]
  },
  {
   "cell_type": "markdown",
   "metadata": {},
   "source": [
    "You cand check the details of your Watson Machine Learning service by calling the `service_instance.details` attribute."
   ]
  },
  {
   "cell_type": "code",
   "execution_count": 7,
   "metadata": {},
   "outputs": [
    {
     "name": "stdout",
     "output_type": "stream",
     "text": [
      "{'metadata': {'created_at': '2018-12-10T08:05:26.901Z', 'url': 'https://us-south.ml.cloud.ibm.com/v3/wml_instances/b4b6c696-172c-4164-8049-c0b621dbf3c9', 'modified_at': '2018-12-10T08:05:26.901Z', 'guid': 'b4b6c696-172c-4164-8049-c0b621dbf3c9'}, 'entity': {'deployments': {'url': 'https://us-south.ml.cloud.ibm.com/v3/wml_instances/b4b6c696-172c-4164-8049-c0b621dbf3c9/deployments'}, 'status': 'Active', 'account': {'name': \"Jihyoung Kim's Account\", 'type': 'PAYG', 'id': '4512e0f7a54c74e3c3742a68d5641ddb'}, 'owner': {'ibm_id': '310000SXE7', 'country_code': 'USA', 'email': 'jihyoungkim@us.ibm.com', 'beta_user': True, 'user_id': 'b811bd0c-9771-4b3f-b86e-2d76bdd4105f'}, 'source': 'Bluemix', 'published_models': {'url': 'https://us-south.ml.cloud.ibm.com/v3/wml_instances/b4b6c696-172c-4164-8049-c0b621dbf3c9/published_models'}, 'plan': 'standard', 'usage': {'gpu_count_k80': {'limit': 48, 'current': 0}, 'model_count': {'limit': 1000, 'current': 25}, 'gpu_count_v100': {'limit': 34, 'current': 0}, 'gpu_count_p100': {'limit': 14, 'current': 0}, 'computation_time': {'current': 0}, 'prediction_count': {'current': 0}, 'capacity_units': {'current': 0}, 'deployment_count': {'limit': 1000, 'current': -2}, 'expiration_date': '2019-04-01T00:00:00.000Z'}, 'space_guid': 'N/A', 'organization_guid': 'N/A', 'region': 'us-south', 'tags': None, 'plan_id': '0f2a3c2c-456b-40f3-9b19-726d2740b11c'}}\n"
     ]
    }
   ],
   "source": [
    "# List information about your WML service instance.\n",
    "print(wml_client.service_instance.details)"
   ]
  },
  {
   "cell_type": "markdown",
   "metadata": {},
   "source": [
    "Obtain information about the stored models in your WML instance."
   ]
  },
  {
   "cell_type": "code",
   "execution_count": 8,
   "metadata": {},
   "outputs": [
    {
     "name": "stdout",
     "output_type": "stream",
     "text": [
      "------------------------------------  -------------------------------------------  ------------------------  -----------------\n",
      "GUID                                  NAME                                         CREATED                   FRAMEWORK\n",
      "c0e97a79-7db0-471e-afd8-f3e238fd16b6  XGBoost model for breast cancer              2019-02-28T19:11:24.484Z  scikit-learn-0.19\n",
      "8008b47c-0f07-482c-8d2f-0b6940c824e5  SMS Spam prediction model                    2019-02-28T00:57:59.713Z  scikit-learn-0.19\n",
      "f2ea0716-7d1f-484a-8468-14f4b6ec7333  WML Product Line Prediction Model            2019-02-27T13:50:04.628Z  mllib-2.3\n",
      "fe1f7f54-b66f-46ed-8785-9fa5d129e02e  SPSS model for Churn prediction              2019-02-27T11:53:10.672Z  spss-modeler-18.1\n",
      "7bd8d8b7-bb2b-4e71-95e6-502fec50657f  SPSS model for Churn prediction              2019-02-27T09:29:04.867Z  spss-modeler-18.1\n",
      "c4fbb8ff-0e1b-4c45-b155-85b07527ecc3  SPSS model for Churn prediction              2019-02-26T13:13:42.220Z  spss-modeler-18.1\n",
      "8a245de4-7907-44fe-b67f-3cf1746d9eb4  CHAID PMML model for Iris data               2019-02-25T13:09:14.752Z  pmml-4.2\n",
      "462931ef-bcf8-486c-8bcb-2b2c114cb20c  MNIST - compressed keras model               2019-02-25T12:29:43.085Z  tensorflow-1.5\n",
      "e349018e-a37c-4d26-bb86-01ce7f52bdaa  SMS Spam prediction model                    2019-02-13T15:52:39.175Z  scikit-learn-0.19\n",
      "0cc8a058-6b08-4ae5-84df-a62d49e0f4bf  SPSS XGBoost Tree Regression model_auto-opt  2019-02-12T19:00:25.864Z  spss-modeler-18.1\n",
      "67ee96bc-cb64-4ad0-8255-bf471df915bb  SMS Spam prediction model                    2019-02-12T02:48:36.430Z  scikit-learn-0.19\n",
      "9de866c9-bb52-4c19-b095-94c265530f46  Earthquake magnitude prediction model        2019-02-11T16:41:38.815Z  tensorflow-1.12\n",
      "f514ff10-8857-433c-89b0-280c708a6e26  Earthquake magnitude prediction model        2019-02-11T16:31:26.538Z  tensorflow-1.12\n",
      "e561751f-d7d9-4c6f-a7af-6677baf3d45f  Earthquake magnitude prediction model        2019-02-07T00:21:53.513Z  tensorflow-1.12\n",
      "f87ac4d9-7a05-435d-98eb-6eacd290e3cc  Earthquake magnitude prediction model        2019-02-07T00:08:13.678Z  tensorflow-1.12\n",
      "482e49ea-1207-45b8-bf57-89d57bc44678  SPSS XGBoost Regression Model - Car Price    2019-02-05T18:09:21.456Z  spss-modeler-18.1\n",
      "e0ef0258-ef7c-45f0-9466-3568e03fed65  SPSS (Auto) Regression Model - Car Price     2019-01-30T23:18:33.431Z  spss-modeler-18.1\n",
      "afb7a22e-1e6c-4e29-a1da-5305a2f5a16b  WML Product Line Prediction Model            2019-01-19T19:36:59.710Z  mllib-2.3\n",
      "61c9afb7-94ae-4c05-ad2b-dc734bb0f932  SPSS model for Churn prediction              2019-01-18T10:28:30.835Z  spss-modeler-18.1\n",
      "52e8d90f-482a-4358-8889-979ecb5f35c0  CHAID PMML model for Iris data               2019-01-18T09:36:11.392Z  pmml-4.2\n",
      "47b21e40-eba3-4cda-b7d2-cb9a2d31d12d  Customer churn Spark model                   2019-01-18T06:45:13.422Z  mllib-2.3\n",
      "f5eb38e5-2b04-4da0-bf14-3edafe554be8  Customer churn Spark model                   2019-01-18T02:18:45.291Z  mllib-2.3\n",
      "e772e16f-936f-4f20-849d-259ea80b1e87  Product line model                           2019-01-17T09:57:27.972Z  mllib-2.3\n",
      "afed5f15-80e0-4dce-8cac-d2bfcdab8a4d  Product line model                           2019-01-17T06:55:55.312Z  mllib-2.3\n",
      "95bfca55-0c53-43d2-86ed-5c770f403ee6  MNIST - compressed keras model               2019-01-15T14:49:42.639Z  tensorflow-1.5\n",
      "------------------------------------  -------------------------------------------  ------------------------  -----------------\n"
     ]
    }
   ],
   "source": [
    "# List information about the stored models.\n",
    "wml_client.repository.list_models()"
   ]
  },
  {
   "cell_type": "markdown",
   "metadata": {},
   "source": [
    "List deployed models in your WML service instance."
   ]
  },
  {
   "cell_type": "code",
   "execution_count": 9,
   "metadata": {
    "scrolled": false
   },
   "outputs": [
    {
     "name": "stdout",
     "output_type": "stream",
     "text": [
      "------------------------------------  -------------------------------------------------------  ------  --------------  ------------------------  -----------------  -------------\n",
      "GUID                                  NAME                                                     TYPE    STATE           CREATED                   FRAMEWORK          ARTIFACT TYPE\n",
      "450f555b-1952-4ef1-90be-96a16f600345  Predict breast cancer                                    online  DEPLOY_SUCCESS  2019-02-28T19:11:28.862Z  scikit-learn-0.19  model\n",
      "dd987565-3e04-4179-9cf9-546710fbadcd  Web scraping python function deployment                  online  DEPLOY_SUCCESS  2019-02-28T11:50:04.209Z  n/a                function\n",
      "984ffa92-1c82-4b54-bb56-f6f85e915227  Web scraping python function deployment                  online  DEPLOY_SUCCESS  2019-02-27T17:50:16.907Z  n/a                function\n",
      "e5472c3f-c7d7-4a3e-9b20-44f03030373e  Web scraping python function deployment                  online  DEPLOY_SUCCESS  2019-02-27T16:51:24.029Z  n/a                function\n",
      "304c671c-6a48-496d-b27b-3ad9888a0156  Online scoring                                           online  DEPLOY_SUCCESS  2019-02-27T13:50:39.730Z  mllib-2.3          model\n",
      "18298746-41ec-4bac-928c-fc34e3708ca9  Sample SPSS model deployment                             online  DEPLOY_SUCCESS  2019-02-27T11:53:13.523Z  spss-modeler-18.1  model\n",
      "375d050d-1e3b-49e5-9f1d-655f28734ec7  Sample SPSS model deployment                             online  DEPLOY_SUCCESS  2019-02-27T09:29:07.286Z  spss-modeler-18.1  model\n",
      "2924aaaf-bddf-4567-8206-6972c163dfa4  Sample SPSS model deployment                             online  DEPLOY_SUCCESS  2019-02-26T13:13:44.977Z  spss-modeler-18.1  model\n",
      "feb87375-fca8-4b0c-8f2f-5c83a6e26115  Iris species prediction                                  online  DEPLOY_SUCCESS  2019-02-25T13:09:17.454Z  pmml-4.2           model\n",
      "a0e16777-75ad-489a-a6db-5213619381a4  Keras MNIST model deployment through compressed file.    online  DEPLOY_SUCCESS  2019-02-25T12:29:47.265Z  tensorflow-1.5     model\n",
      "5c5ebf10-c47a-4224-b35d-3646b0348af1  Web scraping python function deployment                  online  DEPLOY_SUCCESS  2019-02-21T14:58:00.141Z  n/a                function\n",
      "b9efb426-845a-45e7-b591-85c4bdb1417c  SMS Spam prediction model deployment.                    online  DEPLOY_SUCCESS  2019-02-13T15:52:48.108Z  scikit-learn-0.19  model\n",
      "569fb590-41aa-433e-aeb4-89a9688a4a7b  Keras earthquake magnitude prediction model deployment.  online  DEPLOY_SUCCESS  2019-02-11T16:41:49.568Z  tensorflow-1.12    model\n",
      "7b2ff02b-b6a7-4ef4-b0e6-6765b1c45766  Keras earthquake magnitude prediction model deployment.  online  DEPLOY_SUCCESS  2019-02-07T00:21:58.175Z  tensorflow-1.12    model\n",
      "a738de63-d74e-454a-9dd7-f377c65420bc  Online scoring                                           online  DEPLOY_SUCCESS  2019-01-19T19:49:21.391Z  mllib-2.3          model\n",
      "d8f43799-cf5c-499f-a9d3-42d2e398f337  Sample SPSS model deployment                             online  DEPLOY_SUCCESS  2019-01-18T10:28:38.134Z  spss-modeler-18.1  model\n",
      "12056c7c-6ff1-454d-b324-d1cf4b42c4fd  Iris species prediction                                  online  DEPLOY_SUCCESS  2019-01-18T09:36:17.097Z  pmml-4.2           model\n",
      "a375c7bc-963d-4a9b-9896-7dbcdcaed78d  Web scraping python function deployment                  online  DEPLOY_SUCCESS  2019-01-17T10:11:40.324Z  n/a                function\n",
      "a8b47a68-060c-4474-a5c0-15da3304063a  Product line model deployment                            online  DEPLOY_SUCCESS  2019-01-17T10:02:44.991Z  mllib-2.3          model\n",
      "ada89546-d27c-4c32-953f-84f2238eb12a  Product line model deployment                            online  DEPLOY_SUCCESS  2019-01-17T07:14:05.178Z  mllib-2.3          model\n",
      "902853d1-9ff6-40a7-8918-d6b7b39c3a4e  Web scraping python function deployment                  online  DEPLOY_SUCCESS  2019-01-17T02:37:29.921Z  n/a                function\n",
      "3da0fb97-24b9-44d6-ac16-e97a0cf8dfcb  Keras MNIST model deployment through compressed file.    online  DEPLOY_SUCCESS  2019-01-15T14:49:46.285Z  tensorflow-1.5     model\n",
      "------------------------------------  -------------------------------------------------------  ------  --------------  ------------------------  -----------------  -------------\n"
     ]
    }
   ],
   "source": [
    "# List the deployed models.\n",
    "wml_client.deployments.list()"
   ]
  },
  {
   "cell_type": "markdown",
   "metadata": {},
   "source": [
    "<a id=\"scoring\"></a>\n",
    "## 2. Persist, deploy, and score a PMML model in the Watson Machine Learning (WML) repository"
   ]
  },
  {
   "cell_type": "markdown",
   "metadata": {},
   "source": [
    "In this section, you will use the Python API client for the WML service to create an online deployment and score the PMML model with a new data record.\n",
    "\n",
    "For more information, please refer to the <a href=\"http://wml-api-pyclient.mybluemix.net/\" target=\"_blank\" rel=\"noopener no referrer\">Python API client documentation</a>.\n",
    "\n",
    "- [2.1 Persist a PMML model](#persist)\n",
    "- [2.2 Create an online deployment](#deploy)\n",
    "- [2.3 Score a test data record](#score)\n"
   ]
  },
  {
   "cell_type": "markdown",
   "metadata": {},
   "source": [
    "### 2.1 Persist a PMML model<a id=\"persist\"></a>"
   ]
  },
  {
   "cell_type": "markdown",
   "metadata": {},
   "source": [
    "**Action**: Use `wget` to download the sample PMML model, `iris_chaid.xml` from the <a href=\"https://github.com/pmservice/wml-sample-models\" target=\"_blank\" rel=\"noopener no referrer\">Git repository</a>.  \n",
    "**Note:** You may need to install the `wget` package. To install the `wget` package, run the following command. "
   ]
  },
  {
   "cell_type": "code",
   "execution_count": null,
   "metadata": {},
   "outputs": [],
   "source": [
    "!pip install --upgrade wget"
   ]
  },
  {
   "cell_type": "code",
   "execution_count": 11,
   "metadata": {},
   "outputs": [],
   "source": [
    "# Download the sample PMML model and the 'iris_chaid.xml' file from the Github repo.\n",
    "import wget\n",
    "import os\n",
    "\n",
    "sample_dir = 'pmml_sample_model'\n",
    "if not os.path.isdir(sample_dir):\n",
    "    os.mkdir(sample_dir)\n",
    "    \n",
    "filename=os.path.join(sample_dir, 'iris_chaid.xml')\n",
    "if not os.path.isfile(filename):\n",
    "    filename = wget.download('https://github.com/pmservice/wml-sample-models/raw/master/pmml/iris-species/model/iris_chaid.xml', out=sample_dir)"
   ]
  },
  {
   "cell_type": "markdown",
   "metadata": {},
   "source": [
    "Store the downloaded file as *CHAID PMML model for Iris data* in the WML service repository, then list all the files stored in the repository."
   ]
  },
  {
   "cell_type": "code",
   "execution_count": 12,
   "metadata": {},
   "outputs": [
    {
     "name": "stdout",
     "output_type": "stream",
     "text": [
      "------------------------------------  -------------------------------------------  ------------------------  -----------------\n",
      "GUID                                  NAME                                         CREATED                   FRAMEWORK\n",
      "c9dfebfa-0411-4e3e-a9c5-9a311444ed59  CHAID PMML model for Iris data               2019-03-04T12:59:21.351Z  pmml-4.2\n",
      "c0e97a79-7db0-471e-afd8-f3e238fd16b6  XGBoost model for breast cancer              2019-02-28T19:11:24.484Z  scikit-learn-0.19\n",
      "8008b47c-0f07-482c-8d2f-0b6940c824e5  SMS Spam prediction model                    2019-02-28T00:57:59.713Z  scikit-learn-0.19\n",
      "f2ea0716-7d1f-484a-8468-14f4b6ec7333  WML Product Line Prediction Model            2019-02-27T13:50:04.628Z  mllib-2.3\n",
      "fe1f7f54-b66f-46ed-8785-9fa5d129e02e  SPSS model for Churn prediction              2019-02-27T11:53:10.672Z  spss-modeler-18.1\n",
      "7bd8d8b7-bb2b-4e71-95e6-502fec50657f  SPSS model for Churn prediction              2019-02-27T09:29:04.867Z  spss-modeler-18.1\n",
      "c4fbb8ff-0e1b-4c45-b155-85b07527ecc3  SPSS model for Churn prediction              2019-02-26T13:13:42.220Z  spss-modeler-18.1\n",
      "8a245de4-7907-44fe-b67f-3cf1746d9eb4  CHAID PMML model for Iris data               2019-02-25T13:09:14.752Z  pmml-4.2\n",
      "462931ef-bcf8-486c-8bcb-2b2c114cb20c  MNIST - compressed keras model               2019-02-25T12:29:43.085Z  tensorflow-1.5\n",
      "e349018e-a37c-4d26-bb86-01ce7f52bdaa  SMS Spam prediction model                    2019-02-13T15:52:39.175Z  scikit-learn-0.19\n",
      "0cc8a058-6b08-4ae5-84df-a62d49e0f4bf  SPSS XGBoost Tree Regression model_auto-opt  2019-02-12T19:00:25.864Z  spss-modeler-18.1\n",
      "67ee96bc-cb64-4ad0-8255-bf471df915bb  SMS Spam prediction model                    2019-02-12T02:48:36.430Z  scikit-learn-0.19\n",
      "9de866c9-bb52-4c19-b095-94c265530f46  Earthquake magnitude prediction model        2019-02-11T16:41:38.815Z  tensorflow-1.12\n",
      "f514ff10-8857-433c-89b0-280c708a6e26  Earthquake magnitude prediction model        2019-02-11T16:31:26.538Z  tensorflow-1.12\n",
      "e561751f-d7d9-4c6f-a7af-6677baf3d45f  Earthquake magnitude prediction model        2019-02-07T00:21:53.513Z  tensorflow-1.12\n",
      "f87ac4d9-7a05-435d-98eb-6eacd290e3cc  Earthquake magnitude prediction model        2019-02-07T00:08:13.678Z  tensorflow-1.12\n",
      "482e49ea-1207-45b8-bf57-89d57bc44678  SPSS XGBoost Regression Model - Car Price    2019-02-05T18:09:21.456Z  spss-modeler-18.1\n",
      "e0ef0258-ef7c-45f0-9466-3568e03fed65  SPSS (Auto) Regression Model - Car Price     2019-01-30T23:18:33.431Z  spss-modeler-18.1\n",
      "afb7a22e-1e6c-4e29-a1da-5305a2f5a16b  WML Product Line Prediction Model            2019-01-19T19:36:59.710Z  mllib-2.3\n",
      "61c9afb7-94ae-4c05-ad2b-dc734bb0f932  SPSS model for Churn prediction              2019-01-18T10:28:30.835Z  spss-modeler-18.1\n",
      "52e8d90f-482a-4358-8889-979ecb5f35c0  CHAID PMML model for Iris data               2019-01-18T09:36:11.392Z  pmml-4.2\n",
      "47b21e40-eba3-4cda-b7d2-cb9a2d31d12d  Customer churn Spark model                   2019-01-18T06:45:13.422Z  mllib-2.3\n",
      "f5eb38e5-2b04-4da0-bf14-3edafe554be8  Customer churn Spark model                   2019-01-18T02:18:45.291Z  mllib-2.3\n",
      "e772e16f-936f-4f20-849d-259ea80b1e87  Product line model                           2019-01-17T09:57:27.972Z  mllib-2.3\n",
      "afed5f15-80e0-4dce-8cac-d2bfcdab8a4d  Product line model                           2019-01-17T06:55:55.312Z  mllib-2.3\n",
      "95bfca55-0c53-43d2-86ed-5c770f403ee6  MNIST - compressed keras model               2019-01-15T14:49:42.639Z  tensorflow-1.5\n",
      "------------------------------------  -------------------------------------------  ------------------------  -----------------\n"
     ]
    }
   ],
   "source": [
    "# Save the downloaded file to the WML repository.\n",
    "props_pmml = {\n",
    "    wml_client.repository.ModelMetaNames.NAME: 'CHAID PMML model for Iris data',\n",
    "    wml_client.repository.ModelMetaNames.AUTHOR_NAME: 'IBM', \n",
    "    wml_client.repository.ModelMetaNames.FRAMEWORK_NAME: 'pmml', \n",
    "    wml_client.repository.ModelMetaNames.FRAMEWORK_VERSION: '4.2'\n",
    "}\n",
    "\n",
    "model_details = wml_client.repository.store_model(filename, props_pmml)\n",
    "wml_client.repository.list_models()"
   ]
  },
  {
   "cell_type": "markdown",
   "metadata": {},
   "source": [
    "**Note:** From the list of downloaded files, you can see that model is successfully stored in the WML repository."
   ]
  },
  {
   "cell_type": "markdown",
   "metadata": {},
   "source": [
    "### 2.2 Create an online deployment<a id=\"deploy\"></a>"
   ]
  },
  {
   "cell_type": "markdown",
   "metadata": {},
   "source": [
    "Now, create an online deployment, *Iris species prediction*, for the stored model, and list all the online deployments for the model."
   ]
  },
  {
   "cell_type": "code",
   "execution_count": 13,
   "metadata": {},
   "outputs": [
    {
     "name": "stdout",
     "output_type": "stream",
     "text": [
      "\n",
      "\n",
      "#######################################################################################\n",
      "\n",
      "Synchronous deployment creation for uid: 'c9dfebfa-0411-4e3e-a9c5-9a311444ed59' started\n",
      "\n",
      "#######################################################################################\n",
      "\n",
      "\n",
      "INITIALIZING\n",
      "DEPLOY_SUCCESS\n",
      "\n",
      "\n",
      "------------------------------------------------------------------------------------------------\n",
      "Successfully finished deployment creation, deployment_uid='ded4770f-c2fe-4653-9ce2-0c79ecfa10be'\n",
      "------------------------------------------------------------------------------------------------\n",
      "\n",
      "\n",
      "------------------------------------  -------------------------------------------------------  ------  --------------  ------------------------  -----------------  -------------\n",
      "GUID                                  NAME                                                     TYPE    STATE           CREATED                   FRAMEWORK          ARTIFACT TYPE\n",
      "ded4770f-c2fe-4653-9ce2-0c79ecfa10be  Iris species prediction                                  online  DEPLOY_SUCCESS  2019-03-04T12:59:23.413Z  pmml-4.2           model\n",
      "450f555b-1952-4ef1-90be-96a16f600345  Predict breast cancer                                    online  DEPLOY_SUCCESS  2019-02-28T19:11:28.862Z  scikit-learn-0.19  model\n",
      "dd987565-3e04-4179-9cf9-546710fbadcd  Web scraping python function deployment                  online  DEPLOY_SUCCESS  2019-02-28T11:50:04.209Z  n/a                function\n",
      "984ffa92-1c82-4b54-bb56-f6f85e915227  Web scraping python function deployment                  online  DEPLOY_SUCCESS  2019-02-27T17:50:16.907Z  n/a                function\n",
      "e5472c3f-c7d7-4a3e-9b20-44f03030373e  Web scraping python function deployment                  online  DEPLOY_SUCCESS  2019-02-27T16:51:24.029Z  n/a                function\n",
      "304c671c-6a48-496d-b27b-3ad9888a0156  Online scoring                                           online  DEPLOY_SUCCESS  2019-02-27T13:50:39.730Z  mllib-2.3          model\n",
      "18298746-41ec-4bac-928c-fc34e3708ca9  Sample SPSS model deployment                             online  DEPLOY_SUCCESS  2019-02-27T11:53:13.523Z  spss-modeler-18.1  model\n",
      "375d050d-1e3b-49e5-9f1d-655f28734ec7  Sample SPSS model deployment                             online  DEPLOY_SUCCESS  2019-02-27T09:29:07.286Z  spss-modeler-18.1  model\n",
      "2924aaaf-bddf-4567-8206-6972c163dfa4  Sample SPSS model deployment                             online  DEPLOY_SUCCESS  2019-02-26T13:13:44.977Z  spss-modeler-18.1  model\n",
      "feb87375-fca8-4b0c-8f2f-5c83a6e26115  Iris species prediction                                  online  DEPLOY_SUCCESS  2019-02-25T13:09:17.454Z  pmml-4.2           model\n",
      "a0e16777-75ad-489a-a6db-5213619381a4  Keras MNIST model deployment through compressed file.    online  DEPLOY_SUCCESS  2019-02-25T12:29:47.265Z  tensorflow-1.5     model\n",
      "5c5ebf10-c47a-4224-b35d-3646b0348af1  Web scraping python function deployment                  online  DEPLOY_SUCCESS  2019-02-21T14:58:00.141Z  n/a                function\n",
      "b9efb426-845a-45e7-b591-85c4bdb1417c  SMS Spam prediction model deployment.                    online  DEPLOY_SUCCESS  2019-02-13T15:52:48.108Z  scikit-learn-0.19  model\n",
      "569fb590-41aa-433e-aeb4-89a9688a4a7b  Keras earthquake magnitude prediction model deployment.  online  DEPLOY_SUCCESS  2019-02-11T16:41:49.568Z  tensorflow-1.12    model\n",
      "7b2ff02b-b6a7-4ef4-b0e6-6765b1c45766  Keras earthquake magnitude prediction model deployment.  online  DEPLOY_SUCCESS  2019-02-07T00:21:58.175Z  tensorflow-1.12    model\n",
      "a738de63-d74e-454a-9dd7-f377c65420bc  Online scoring                                           online  DEPLOY_SUCCESS  2019-01-19T19:49:21.391Z  mllib-2.3          model\n",
      "d8f43799-cf5c-499f-a9d3-42d2e398f337  Sample SPSS model deployment                             online  DEPLOY_SUCCESS  2019-01-18T10:28:38.134Z  spss-modeler-18.1  model\n",
      "12056c7c-6ff1-454d-b324-d1cf4b42c4fd  Iris species prediction                                  online  DEPLOY_SUCCESS  2019-01-18T09:36:17.097Z  pmml-4.2           model\n",
      "a375c7bc-963d-4a9b-9896-7dbcdcaed78d  Web scraping python function deployment                  online  DEPLOY_SUCCESS  2019-01-17T10:11:40.324Z  n/a                function\n",
      "a8b47a68-060c-4474-a5c0-15da3304063a  Product line model deployment                            online  DEPLOY_SUCCESS  2019-01-17T10:02:44.991Z  mllib-2.3          model\n",
      "ada89546-d27c-4c32-953f-84f2238eb12a  Product line model deployment                            online  DEPLOY_SUCCESS  2019-01-17T07:14:05.178Z  mllib-2.3          model\n",
      "902853d1-9ff6-40a7-8918-d6b7b39c3a4e  Web scraping python function deployment                  online  DEPLOY_SUCCESS  2019-01-17T02:37:29.921Z  n/a                function\n",
      "3da0fb97-24b9-44d6-ac16-e97a0cf8dfcb  Keras MNIST model deployment through compressed file.    online  DEPLOY_SUCCESS  2019-01-15T14:49:46.285Z  tensorflow-1.5     model\n",
      "------------------------------------  -------------------------------------------------------  ------  --------------  ------------------------  -----------------  -------------\n"
     ]
    }
   ],
   "source": [
    "# Create an online deployment.\n",
    "model_uid = wml_client.repository.get_model_uid(model_details)\n",
    "model_deployment = wml_client.deployments.create(model_uid, name='Iris species prediction')\n",
    "\n",
    "wml_client.deployments.list()"
   ]
  },
  {
   "cell_type": "markdown",
   "metadata": {},
   "source": [
    "**Note:** From the list of deployed models, you can see that model was  successfully created."
   ]
  },
  {
   "cell_type": "markdown",
   "metadata": {},
   "source": [
    "### 2.3 Score a test data record<a id=\"score\"></a>"
   ]
  },
  {
   "cell_type": "markdown",
   "metadata": {},
   "source": [
    "Send a sample record using the Python API client to check if the online scoring endpoint is available."
   ]
  },
  {
   "cell_type": "code",
   "execution_count": null,
   "metadata": {},
   "outputs": [],
   "source": [
    "# Verify the online scoring endpoint.\n",
    "model_scoring_url = wml_client.deployments.get_scoring_url(model_deployment)\n",
    "\n",
    "print(model_scoring_url)"
   ]
  },
  {
   "cell_type": "markdown",
   "metadata": {},
   "source": [
    "You can see that the endpoint url is available for sending scoring requests.\n",
    "\n",
    "Now, you can score data and predict the species of iris flower."
   ]
  },
  {
   "cell_type": "code",
   "execution_count": 15,
   "metadata": {},
   "outputs": [
    {
     "name": "stdout",
     "output_type": "stream",
     "text": [
      "{'fields': [['$R-Species', '$RC-Species', '$RP-Species', '$RP-setosa', '$RP-versicolor', '$RP-virginica', '$RI-Species']], 'values': [['setosa', 1.0, 1.0, 1.0, 0.0, 0.0, '1']]}\n"
     ]
    }
   ],
   "source": [
    "# Score data and predict species of flower.\n",
    "scoring_data = {\n",
    "    'fields': ['Sepal.Length', 'Sepal.Width', 'Petal.Length', 'Petal.Width'], \n",
    "    'values': [[5.1, 3.5, 1.4, 0.2]]\n",
    "}\n",
    "predictions = wml_client.deployments.score(model_scoring_url, scoring_data) \n",
    "\n",
    "print(predictions)"
   ]
  },
  {
   "cell_type": "markdown",
   "metadata": {},
   "source": [
    "As we can see from the prediction, this is the Iris Setosa flower."
   ]
  },
  {
   "cell_type": "markdown",
   "metadata": {
    "collapsed": true
   },
   "source": [
    "<a id=\"summary\"></a>\n",
    "## 3. Summary and next steps     "
   ]
  },
  {
   "cell_type": "markdown",
   "metadata": {
    "collapsed": true
   },
   "source": [
    "You successfully completed this notebook! You learned how to use Watson Machine Learning for PMML model deployment and scoring. \n",
    "\n",
    "Check out our <a href=\"https://dataplatform.ibm.com/docs/content/analyze-data/wml-setup.html\" target=\"_blank\" rel=\"noopener no referrer\">documentation</a> for more samples, tutorials, documentation, how-tos, and blog posts. "
   ]
  },
  {
   "cell_type": "markdown",
   "metadata": {},
   "source": [
    "### Citation\n",
    "\n",
    "Dua, D. and Karra Taniskidou, E. (2017). [UCI Machine Learning Repository](http://archive.ics.uci.edu/ml). Irvine, CA: University of California, School of Information and Computer Science.\n"
   ]
  },
  {
   "cell_type": "markdown",
   "metadata": {},
   "source": [
    "### Authors\n",
    "\n",
    "**Wojciech Sobala** is a Data Scientist at IBM.  \n",
    "**Jihyoung Kim**, Ph.D., is a Data Scientist at IBM who strives to make data science easy for everyone through Watson Studio."
   ]
  },
  {
   "cell_type": "markdown",
   "metadata": {},
   "source": [
    "Copyright © 2018, 2019 IBM. This notebook and its source code are released under the terms of the MIT License."
   ]
  },
  {
   "cell_type": "markdown",
   "metadata": {},
   "source": [
    "<div style=\"background:#F5F7FA; height:110px; padding: 2em; font-size:14px;\">\n",
    "<span style=\"font-size:18px;color:#152935;\">Love this notebook? </span>\n",
    "<span style=\"font-size:15px;color:#152935;float:right;margin-right:40px;\">Don't have an account yet?</span><br>\n",
    "<span style=\"color:#5A6872;\">Share it with your colleagues and help them discover the power of Watson Studio!</span>\n",
    "<span style=\"border: 1px solid #3d70b2;padding:8px;float:right;margin-right:40px; color:#3d70b2;\"><a href=\"https://ibm.co/wsnotebooks\" target=\"_blank\" style=\"color: #3d70b2;text-decoration: none;\">Sign Up</a></span><br>\n",
    "</div>"
   ]
  }
 ],
 "metadata": {
  "kernelspec": {
   "display_name": "Python 3.5",
   "language": "python",
   "name": "python3"
  },
  "language_info": {
   "codemirror_mode": {
    "name": "ipython",
    "version": 3
   },
   "file_extension": ".py",
   "mimetype": "text/x-python",
   "name": "python",
   "nbconvert_exporter": "python",
   "pygments_lexer": "ipython3",
   "version": "3.5.5"
  }
 },
 "nbformat": 4,
 "nbformat_minor": 1
}
