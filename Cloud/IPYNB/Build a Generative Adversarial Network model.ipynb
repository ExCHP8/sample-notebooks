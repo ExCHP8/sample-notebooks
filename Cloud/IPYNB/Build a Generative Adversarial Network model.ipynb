{
 "cells": [
  {
   "cell_type": "markdown",
   "metadata": {},
   "source": [
    "<table style=\"border: none\" align=\"left\">\n",
    "   <tr style=\"border: none\">\n",
    "      <th style=\"border: none\"><font face=\"verdana\" size=\"5\" color=\"black\"><b>Build a Generative Adversarial Network model using WML Training Service</b></font></font></th>\n",
    "      <th style=\"border: none\"><img src=\"https://github.com/pmservice/customer-satisfaction-prediction/blob/master/app/static/images/ml_icon_gray.png?raw=true\" alt=\"Watson Machine Learning icon\" height=\"40\" width=\"40\"></th>\n",
    "   </tr> \n",
    "   <tr style=\"border: none\">\n",
    "       <td style=\"border: none\"><img src=\"https://github.com/pmservice/wml-sample-models/raw/master/scikit-learn/hand-written-digits-recognition/images/numbers_banner-04.png\" width=\"600\" alt=\"Icon\"></td>\n",
    "   </tr>\n",
    "</table>"
   ]
  },
  {
   "cell_type": "markdown",
   "metadata": {},
   "source": [
    "This notebook demonstrates how to build a `Generative Adversarial Network (GAN)` Model in Keras and deploy the model in the `Watson Machine Learning (WML)` repository. \n",
    "\n",
    "GANs were proposed by Ian J. Goodfellow et al., in 2014. GANs are unsupervised learning models based on Deep Learning. A GAN consists of two models, the `Generative` model and the `Adversarial` model.\n",
    "\n",
    "The `Generative` model can be thought of as analogous to a team of counterfeiters trying  to  produce  fake  currency  and  use  it  without  detection.  On the other hand, the  `Discriminative` model is analogous to the police trying to detect the counterfeit currency[1](#cite). \n",
    "\n",
    "Competition in this game drives both teams to improve their methods until the counterfeits are indistinguishable from the genuine articles. You can check the details of GAN <a href=\"https://papers.nips.cc/paper/5423-generative-adversarial-nets.pdf\" target=\"_blank\" rel=\"noopener noreferrer\">here</a>.\n",
    "\n",
    "In this notebook, `Fashion MNIST` data set is used to generate counterfeit images. `Fashion MNIST` consists of a `training` set of `60,000` images and a `test` set of `10,000` images. \n",
    "\n",
    "Each image is a `28x28` grayscale image associated with a label from 10 classes. You can find about `Fashion MNIST` <a href=\"https://github.com/zalandoresearch/fashion-mnist\" target=\"_blank\" rel=\"noopener noreferrer\">here</a>.\n",
    "\n",
    "This notebook covers the following items: \n",
    "\n",
    "- Obtain data.\n",
    "- Persist training definitions in the Watson Machine Learning repository.\n",
    "- Train a GAN model.\n",
    "- Deploy the trained GAN model.\n",
    "- Score the trained model.\n",
    "\n",
    "Some familiarity with Python is helpful. This notebook is compatible with Python 3.6 and uses <a href=\"https://dataplatform.cloud.ibm.com/docs/content/analyze-data/environments-parent.html\" target=\"_blank\" rel=\"noopener no referrer\">Watson Studio environments.</a>\n",
    "\n",
    "\n",
    "## Learning goals\n",
    "\n",
    "In this notebook, you will learn how to:\n",
    "\n",
    "-  Set up Watson Machine Learning training service to train a GAN model written in Keras.\n",
    "-  Save the trained GAN model in the Watson Machine Learning repository.\n",
    "-  Deploy the trained GAN model online and score it.\n",
    "\n",
    "\n",
    "## Contents\n",
    "\n",
    "1. [Set up the environment](#setup)\n",
    "2. [Explore data](#data)\n",
    "3. [Create training definitions](#model)\n",
    "4. [Train the GAN model](#train)\n",
    "5. [Save the GAN model](#save)\n",
    "6. [Deploy the GAN model](#deploy)\n",
    "7. [Score the GAN model](#score)\n",
    "8. [Summary and next steps](#summary)"
   ]
  },
  {
   "cell_type": "markdown",
   "metadata": {},
   "source": [
    "<a id=\"setup\"></a>\n",
    "## 1. Set up the environment\n",
    "\n",
    "Before proceeding to the following sections, please perform the following setup tasks:\n",
    "\n",
    "-  Create a <a href=\"https://cloud.ibm.com/catalog/services/machine-learning\" target=\"_blank\" rel=\"noopener no referrer\">Watson Machine Learning (WML) Service</a> instance (a free plan is offered and information about how to create the instance can be found <a href=\"https://dataplatform.ibm.com/docs/content/analyze-data/wml-setup.html\" target=\"_blank\" rel=\"noopener no referrer\">here</a>).\n",
    "-  Create a <a href=\"https://cloud.ibm.com/catalog/services/cloud-object-storage\" target=\"_blank\" rel=\"noopener no referrer\">Cloud Object Storage (COS)</a> instance (a lite plan is offered and information about how to order storage can be found <a href=\"https://cloud.ibm.com/docs/services/cloud-object-storage/basics?topic=cloud-object-storage-provision#order-storage\" target=\"_blank\" rel=\"noopener no referrer\">here</a>). <br/>**Note: When using Watson Studio, you already have a COS instance associated with the project you are running the notebook in.**\n",
    "- Create new credentials with HMAC: \n",
    "    - Go to your COS dashboard.\n",
    "    - In the **Service credentials** tab, click **New Credential (+)**.\n",
    "    - Add the inline configuration parameter: {\"HMAC\":true}, click **Add**. (For more information, see <a href=\"https://cloud.ibm.com/docs/services/cloud-object-storage/hmac?topic=cloud-object-storage-hmac#using-hmac-credentials\" target=\"_blank\" rel=\"noopener no referrer\">HMAC</a>.)\n",
    "\n",
    "    This configuration parameter adds the following section to the instance credentials, (for use later in this notebook):\n",
    "    ```\n",
    "      \"cos_hmac_keys\": {\n",
    "            \"access_key_id\": \"-------\",\n",
    "            \"secret_access_key\": \"-------\"\n",
    "       }\n",
    "    ```\n",
    "\n",
    "In this section, you will learn how to:\n",
    "\n",
    "- [1.1 Set up the Cloud Object Storage (COS) service](#cos)\n",
    "- [1.2 Download Fashion MNIST data files and upload them to the COS buckets](#mnist)\n",
    "- [1.3 Set up the Watson Machine Learning (WML) instance](#wml)"
   ]
  },
  {
   "cell_type": "markdown",
   "metadata": {},
   "source": [
    "### 1.1 Set up the Cloud Object Storage (COS) service <a id=\"cos\"></a>"
   ]
  },
  {
   "cell_type": "markdown",
   "metadata": {},
   "source": [
    "Install the IBM boto package. This package allows Python developers to manage Cloud Object Storage (COS)."
   ]
  },
  {
   "cell_type": "markdown",
   "metadata": {},
   "source": [
    "**Tip:** If `ibm_boto3` is not preinstalled in your environment, run the following command to install it: "
   ]
  },
  {
   "cell_type": "code",
   "execution_count": null,
   "metadata": {},
   "outputs": [],
   "source": [
    "# Run the command if ibm_boto3 is not installed.\n",
    "!pip install --upgrade ibm-cos-sdk"
   ]
  },
  {
   "cell_type": "code",
   "execution_count": 2,
   "metadata": {},
   "outputs": [],
   "source": [
    "# Import the boto module.\n",
    "import ibm_boto3\n",
    "from ibm_botocore.client import Config"
   ]
  },
  {
   "cell_type": "markdown",
   "metadata": {},
   "source": [
    "Enter your COS credentials in the following cell. \n",
    "\n",
    "You can find these credentials in your COS instance dashboard under the **Service credentials** tab.\n",
    "\n",
    "**Note:** The HMAC key described in [set up the environment](#setup) is included in these credentials."
   ]
  },
  {
   "cell_type": "code",
   "execution_count": 3,
   "metadata": {},
   "outputs": [],
   "source": [
    "cos_credentials = {\n",
    "    'apikey': '***',\n",
    "    'cos_hmac_keys': {\n",
    "        'access_key_id': '***',\n",
    "        'secret_access_key': '***'\n",
    "    },\n",
    "    'endpoints': 'https://cos-service.bluemix.net/endpoints',\n",
    "    'iam_apikey_description': 'Auto generated apikey during resource-key operation for Instance',\n",
    "    'iam_apikey_name': 'auto-generated-apikey',\n",
    "    'iam_role_crn': 'crn:v1:bluemix:public:iam::::serviceRole:Writer',\n",
    "    'iam_serviceid_crn': 'crn:v1:bluemix:public:iam-identity:',\n",
    "    'resource_instance_id': 'crn:v1:bluemix:public:cloud-object-storage:global:'\n",
    "}"
   ]
  },
  {
   "cell_type": "markdown",
   "metadata": {},
   "source": [
    "Define the endpoint.\n",
    "\n",
    "To do this, go to the **Endpoint** tab in the COS instance's dashboard to get the endpoint information, then copy-and-paste it in the cell below:"
   ]
  },
  {
   "cell_type": "code",
   "execution_count": 4,
   "metadata": {},
   "outputs": [],
   "source": [
    "# Define endpoint information.\n",
    "service_endpoint = 'https://s3-api.us-geo.objectstorage.softlayer.net'"
   ]
  },
  {
   "cell_type": "markdown",
   "metadata": {},
   "source": [
    "You also need the IBM Cloud authorization endpoint to be able to create COS resource object."
   ]
  },
  {
   "cell_type": "code",
   "execution_count": 5,
   "metadata": {},
   "outputs": [],
   "source": [
    "# Define the authorization endpoint.\n",
    "auth_endpoint = 'https://iam.bluemix.net/oidc/token'"
   ]
  },
  {
   "cell_type": "markdown",
   "metadata": {},
   "source": [
    "Create a Boto resource to be able to write data to COS."
   ]
  },
  {
   "cell_type": "code",
   "execution_count": 6,
   "metadata": {},
   "outputs": [],
   "source": [
    "# Create a COS resource.\n",
    "cos = ibm_boto3.resource(\n",
    "    's3',\n",
    "     ibm_api_key_id=cos_credentials['apikey'],\n",
    "     ibm_service_instance_id=cos_credentials['resource_instance_id'],\n",
    "     ibm_auth_endpoint=auth_endpoint,\n",
    "     config=Config(signature_version='oauth'),\n",
    "     endpoint_url=service_endpoint\n",
    ")"
   ]
  },
  {
   "cell_type": "markdown",
   "metadata": {},
   "source": [
    "Create two buckets, which you will use to store training data and training results.\n",
    "\n",
    "**Note:** The bucket names must be unique."
   ]
  },
  {
   "cell_type": "code",
   "execution_count": 7,
   "metadata": {},
   "outputs": [
    {
     "name": "stdout",
     "output_type": "stream",
     "text": [
      "Creating bucket \"gan-training-data-4069b46a-fdfb-4637-a98a-2ec0f3ef4b24\"...\n",
      "Creating bucket \"gan-training-results-4069b46a-fdfb-4637-a98a-2ec0f3ef4b24\"...\n"
     ]
    }
   ],
   "source": [
    "from uuid import uuid4\n",
    "\n",
    "bucket_uid = str(uuid4())\n",
    "buckets = ['gan-training-data-' + bucket_uid, 'gan-training-results-' + bucket_uid]\n",
    "\n",
    "for bucket in buckets:\n",
    "    if not cos.Bucket(bucket) in cos.buckets.all():\n",
    "        print('Creating bucket \"{}\"...'.format(bucket))\n",
    "        try:\n",
    "            cos.create_bucket(Bucket=bucket)\n",
    "        except ibm_boto3.exceptions.ibm_botocore.client.ClientError as e:\n",
    "            print('Error: {}.'.format(e.response['Error']['Message']))"
   ]
  },
  {
   "cell_type": "markdown",
   "metadata": {},
   "source": [
    "Now, you should have 2 buckets."
   ]
  },
  {
   "cell_type": "code",
   "execution_count": 8,
   "metadata": {},
   "outputs": [
    {
     "name": "stdout",
     "output_type": "stream",
     "text": [
      "['gan-training-data-4069b46a-fdfb-4637-a98a-2ec0f3ef4b24', 'gan-training-results-4069b46a-fdfb-4637-a98a-2ec0f3ef4b24']\n"
     ]
    }
   ],
   "source": [
    "# Display a list of created buckets.\n",
    "print([x.name for x in list(cos.buckets.all()) if x.name.startswith('gan-training')])"
   ]
  },
  {
   "cell_type": "markdown",
   "metadata": {},
   "source": [
    "### 1.2 Download the Fashion MNIST training data files and upload them to the COS buckets <a id=\"mnist\"></a>"
   ]
  },
  {
   "cell_type": "markdown",
   "metadata": {},
   "source": [
    "Download the training data and upload it to the 'training-data' bucket.\n",
    "\n",
    "First, create a list of links for the training data set. Although there are 4 files in the Fashion MNIST dataset, `training images`, `labels of the training images`, `test images`, and `labels for test images`, only the `training images` will be used in this notebook.\n",
    "\n",
    "This is because of the nature of unsupervised learning of `GANs`. The goal of `GANs` is to generate fake images as close as possible to the real images. Hence, `labels` and `test images` are not required.\n",
    "\n",
    "**Tip**: The Fashion MNIST data set that you are downloading from the link in the following cell are basically the same one in Keras that will be explored in section [2. Explore data](#data)."
   ]
  },
  {
   "cell_type": "code",
   "execution_count": 9,
   "metadata": {},
   "outputs": [],
   "source": [
    "# Create a list of links.\n",
    "data_links = [\n",
    "    'https://github.com/zalandoresearch/fashion-mnist/blob/master/data/fashion/train-images-idx3-ubyte.gz?raw=true' # Training set images\n",
    "]"
   ]
  },
  {
   "cell_type": "markdown",
   "metadata": {},
   "source": [
    "The code in the next cell uploads files from links to your COS."
   ]
  },
  {
   "cell_type": "code",
   "execution_count": 10,
   "metadata": {},
   "outputs": [
    {
     "name": "stdout",
     "output_type": "stream",
     "text": [
      "Uploading data train-images-idx3-ubyte.gz...\n",
      "train-images-idx3-ubyte.gz is uploaded.\n"
     ]
    }
   ],
   "source": [
    "# Upload files from the links to COS\n",
    "from urllib.request import urlopen\n",
    "\n",
    "bucket_obj = cos.Bucket(buckets[0])\n",
    "\n",
    "for data_link in data_links:\n",
    "    filename = data_link.split('/')[-1].split('?')[0]\n",
    "    print('Uploading data {}...'.format(filename))\n",
    "    with urlopen(data_link) as data:\n",
    "        bucket_obj.upload_fileobj(data, filename)\n",
    "        print('{} is uploaded.'.format(filename))"
   ]
  },
  {
   "cell_type": "markdown",
   "metadata": {},
   "source": [
    "Have a look at the list of the created buckets and each bucket's content."
   ]
  },
  {
   "cell_type": "code",
   "execution_count": 11,
   "metadata": {},
   "outputs": [
    {
     "name": "stdout",
     "output_type": "stream",
     "text": [
      "gan-training-data-4069b46a-fdfb-4637-a98a-2ec0f3ef4b24\n",
      "\tFile: train-images-idx3-ubyte.gz, 25802.62 kB\n",
      "gan-training-results-4069b46a-fdfb-4637-a98a-2ec0f3ef4b24\n"
     ]
    }
   ],
   "source": [
    "for bucket_name in buckets:\n",
    "    print(bucket_name)\n",
    "    bucket_obj = cos.Bucket(bucket_name)\n",
    "    for obj in bucket_obj.objects.all():\n",
    "        print('\\tFile: {}, {:4.2f} kB'.format(obj.key, obj.size/1024))"
   ]
  },
  {
   "cell_type": "markdown",
   "metadata": {},
   "source": [
    "You are done with COS and ready to train your model!"
   ]
  },
  {
   "cell_type": "markdown",
   "metadata": {},
   "source": [
    "### 1.3 Set up the Watson Machine Learning (WML) instance <a id=\"wml\"></a>"
   ]
  },
  {
   "cell_type": "markdown",
   "metadata": {},
   "source": [
    "Import the modules you need to set up your WML instance.\n",
    "\n",
    "**Hint:** You may also need to install `wget` using the following command: `!pip install --upgrade wget`"
   ]
  },
  {
   "cell_type": "code",
   "execution_count": null,
   "metadata": {},
   "outputs": [],
   "source": [
    "!pip install --upgrade wget"
   ]
  },
  {
   "cell_type": "code",
   "execution_count": 13,
   "metadata": {},
   "outputs": [],
   "source": [
    "import json\n",
    "import os\n",
    "import wget"
   ]
  },
  {
   "cell_type": "markdown",
   "metadata": {},
   "source": [
    "Authenticate the Watson Machine Learning (WML) service on the IBM Cloud.\n",
    "\n",
    "**Tip**: Authentication information (your credentials) can be found in the <a href=\"https://console.bluemix.net/docs/services/service_credentials.html#service_credentials\" target=\"_blank\" rel=\"noopener noreferrer\">Service credentials</a> tab of the service instance that you created on the IBM Cloud. \n",
    "If there are no credentials listed for your instance in **Service credentials**, click **New credential (+)** and enter the information required to generate new authentication information. \n",
    "\n",
    "**Action**: Enter your WML service instance credentials in the following cell."
   ]
  },
  {
   "cell_type": "code",
   "execution_count": 15,
   "metadata": {},
   "outputs": [],
   "source": [
    "wml_credentials = {\n",
    "    'username': '***',\n",
    "    'password': '***',\n",
    "    'instance_id': '***',\n",
    "    'url': 'https://ibm-watson-ml.mybluemix.net'\n",
    "}"
   ]
  },
  {
   "cell_type": "markdown",
   "metadata": {},
   "source": [
    "#### Install the `watson-machine-learning-client` package from pypi."
   ]
  },
  {
   "cell_type": "markdown",
   "metadata": {},
   "source": [
    "**Note:** `watson-machine-learning-client` documentation can be found <a href=\"http://wml-api-pyclient.mybluemix.net/\" target=\"_blank\" rel=\"noopener noreferrer\">here</a>."
   ]
  },
  {
   "cell_type": "code",
   "execution_count": 15,
   "metadata": {},
   "outputs": [],
   "source": [
    "!rm -rf $PIP_BUILD/watson-machine-learning-client"
   ]
  },
  {
   "cell_type": "code",
   "execution_count": null,
   "metadata": {},
   "outputs": [],
   "source": [
    "!pip install --upgrade watson-machine-learning-client"
   ]
  },
  {
   "cell_type": "markdown",
   "metadata": {},
   "source": [
    "#### Import the `watson-machine-learning-client` module and authenticate the service instance."
   ]
  },
  {
   "cell_type": "code",
   "execution_count": 17,
   "metadata": {},
   "outputs": [],
   "source": [
    "from watson_machine_learning_client import WatsonMachineLearningAPIClient\n",
    "\n",
    "client = WatsonMachineLearningAPIClient(wml_credentials)"
   ]
  },
  {
   "cell_type": "markdown",
   "metadata": {},
   "source": [
    "## 2. Explore data <a id=\"data\"></a>"
   ]
  },
  {
   "cell_type": "markdown",
   "metadata": {},
   "source": [
    "In this section, you will plot some images in the `Fashion MNIST` data set.\n",
    "\n",
    "First, import the required modules."
   ]
  },
  {
   "cell_type": "code",
   "execution_count": 18,
   "metadata": {},
   "outputs": [],
   "source": [
    "from keras.datasets import fashion_mnist\n",
    "import matplotlib.pyplot as plt\n",
    "import numpy as np"
   ]
  },
  {
   "cell_type": "markdown",
   "metadata": {},
   "source": [
    "Load the data set. `X_train` and the `training images` mentioned in section [1.2 Download the Fashion MNIST training data files and upload them to the COS buckets](#mnist) are the same."
   ]
  },
  {
   "cell_type": "code",
   "execution_count": 19,
   "metadata": {},
   "outputs": [
    {
     "name": "stdout",
     "output_type": "stream",
     "text": [
      "Downloading data from http://fashion-mnist.s3-website.eu-central-1.amazonaws.com/train-labels-idx1-ubyte.gz\n",
      "32768/29515 [=================================] - 0s 4us/step\n",
      "Downloading data from http://fashion-mnist.s3-website.eu-central-1.amazonaws.com/train-images-idx3-ubyte.gz\n",
      "26427392/26421880 [==============================] - 2s 0us/step\n",
      "Downloading data from http://fashion-mnist.s3-website.eu-central-1.amazonaws.com/t10k-labels-idx1-ubyte.gz\n",
      "8192/5148 [===============================================] - 0s 0us/step\n",
      "Downloading data from http://fashion-mnist.s3-website.eu-central-1.amazonaws.com/t10k-images-idx3-ubyte.gz\n",
      "4423680/4422102 [==============================] - 1s 0us/step\n"
     ]
    }
   ],
   "source": [
    "(X_train, y_train), (X_test, y_test) = fashion_mnist.load_data()"
   ]
  },
  {
   "cell_type": "code",
   "execution_count": 20,
   "metadata": {},
   "outputs": [
    {
     "name": "stdout",
     "output_type": "stream",
     "text": [
      "Train data set dimension: (60000, 28, 28)\n",
      "Test data set dimension: (10000, 28, 28)\n",
      "Train label dimension: (60000,)\n",
      "Test label dimension: (10000,)\n"
     ]
    }
   ],
   "source": [
    "print('Train data set dimension: {}'.format(X_train.shape))\n",
    "print('Test data set dimension: {}'.format(X_test.shape))\n",
    "print('Train label dimension: {}'.format(y_train.shape))\n",
    "print('Test label dimension: {}'.format(y_test.shape))"
   ]
  },
  {
   "cell_type": "markdown",
   "metadata": {},
   "source": [
    "According to `Zalando Research`, there are 10 classes in the data set.\n",
    "\n",
    "The following are the class names:\n",
    "1. T-shirt/top\n",
    "2. Trouser\n",
    "3. Pullover\n",
    "4. Dress\n",
    "5. Coat\n",
    "6. Sandal\n",
    "7. Shirt\n",
    "8. Sneaker\n",
    "9. Bag\n",
    "10. Ankle boot"
   ]
  },
  {
   "cell_type": "code",
   "execution_count": 21,
   "metadata": {},
   "outputs": [],
   "source": [
    "class_names = ['T-shirt/top', 'Trouser', 'Pullover', 'Dress', 'Coat', \n",
    "               'Sandal', 'Shirt', 'Sneaker', 'Bag', 'Ankle boot']\n",
    "\n",
    "def plot_images(X_train, y_train, class_names, row_num, col_num, figsize=(10, 10)):\n",
    "    plt.figure(figsize=figsize)\n",
    "    for i in range(row_num * col_num):\n",
    "        plt.subplot(row_num, col_num, i + 1)\n",
    "        plt.xticks([])\n",
    "        plt.yticks([])\n",
    "        plt.grid(False)\n",
    "        plt.imshow(X_train[i], cmap=plt.cm.binary)\n",
    "        plt.xlabel(class_names[y_train[i]])"
   ]
  },
  {
   "cell_type": "code",
   "execution_count": 22,
   "metadata": {},
   "outputs": [
    {
     "data": {
      "image/png": "[encoded data removed]",
      "text/plain": [
       "<Figure size 720x720 with 25 Axes>"
      ]
     },
     "metadata": {},
     "output_type": "display_data"
    }
   ],
   "source": [
    "plot_images(X_train, y_train, class_names, 5, 5)"
   ]
  },
  {
   "cell_type": "markdown",
   "metadata": {},
   "source": [
    "<a id=\"model\"></a>\n",
    "## 3. Create the training definitions\n",
    "\n",
    "In this section, you will:\n",
    "\n",
    "- [3.1 Create the training definition metadata](#prep)\n",
    "- [3.2 Get the sample model definition content files from Git](#get)\n",
    "- [3.3 Store the training definitions in the WML repository](#store)\n",
    "\n"
   ]
  },
  {
   "cell_type": "markdown",
   "metadata": {},
   "source": [
    "### 3.1 Create the training definition metadata<a id=\"prep\"></a>"
   ]
  },
  {
   "cell_type": "code",
   "execution_count": 23,
   "metadata": {},
   "outputs": [],
   "source": [
    "model_definition_metadata = {\n",
    "    client.repository.DefinitionMetaNames.NAME: 'gan_training',\n",
    "    client.repository.DefinitionMetaNames.DESCRIPTION: 'gan_training-definition',\n",
    "    client.repository.DefinitionMetaNames.AUTHOR_NAME: 'Jihyoung Kim',\n",
    "    client.repository.DefinitionMetaNames.FRAMEWORK_NAME: 'tensorflow',\n",
    "    client.repository.DefinitionMetaNames.FRAMEWORK_VERSION: '1.13',\n",
    "    client.repository.DefinitionMetaNames.RUNTIME_NAME: 'python',\n",
    "    client.repository.DefinitionMetaNames.RUNTIME_VERSION: '3.6',\n",
    "    client.repository.DefinitionMetaNames.EXECUTION_COMMAND: 'python3 gan_fashion_mnist.py --epochs 30000'\n",
    "}"
   ]
  },
  {
   "cell_type": "markdown",
   "metadata": {},
   "source": [
    "### 3.2 Get the sample model definition content file from Git (after legal checklist approval) <a id=\"get\"></a>"
   ]
  },
  {
   "cell_type": "code",
   "execution_count": 24,
   "metadata": {},
   "outputs": [
    {
     "name": "stdout",
     "output_type": "stream",
     "text": [
      "gan_fashion_mnist.zip\n"
     ]
    }
   ],
   "source": [
    "filename = 'gan_fashion_mnist.zip'\n",
    "\n",
    "if not os.path.isfile(filename):\n",
    "    filename = wget.download('https://github.com/IBMDataScience/sample-notebooks/raw/master/Files/gan_fashion_mnist.zip')\n",
    "    \n",
    "print(filename)"
   ]
  },
  {
   "cell_type": "code",
   "execution_count": 25,
   "metadata": {},
   "outputs": [
    {
     "name": "stdout",
     "output_type": "stream",
     "text": [
      "gan_fashion_mnist.zip\r\n"
     ]
    }
   ],
   "source": [
    "!ls"
   ]
  },
  {
   "cell_type": "markdown",
   "metadata": {},
   "source": [
    "### 3.3 Store the training definition in the WML repository<a id=\"store\"></a>"
   ]
  },
  {
   "cell_type": "code",
   "execution_count": 26,
   "metadata": {},
   "outputs": [],
   "source": [
    "definition_details = client.repository.store_definition(filename, model_definition_metadata)"
   ]
  },
  {
   "cell_type": "code",
   "execution_count": 27,
   "metadata": {},
   "outputs": [],
   "source": [
    "definition_uid = client.repository.get_definition_uid(definition_details)"
   ]
  },
  {
   "cell_type": "code",
   "execution_count": 28,
   "metadata": {},
   "outputs": [
    {
     "name": "stdout",
     "output_type": "stream",
     "text": [
      "a17caf43-9eb3-43e2-b9a4-d8a2b74c7e5b\n"
     ]
    }
   ],
   "source": [
    "# Display the training definition uid.\n",
    "print(definition_uid)"
   ]
  },
  {
   "cell_type": "markdown",
   "metadata": {},
   "source": [
    "## 4. Train the GAN model<a id=\"train\"></a>\n",
    "\n",
    "In this section, you will learn how to:\n",
    "- [4.1 Configure training metadata](#meta)\n",
    "- [4.2 Train the model in the background](#backg)\n",
    "- [4.3 Monitor the training log](#log)\n",
    "- [4.4 Cancel the training run](#cancel)\n"
   ]
  },
  {
   "cell_type": "markdown",
   "metadata": {},
   "source": [
    "### 4.1 Configure training metadata<a id=\"meta\"></a>\n",
    "\n",
    "- `TRAINING_DATA_REFERENCE` - references the uploaded training data.\n",
    "- `TRAINING_RESULTS_REFERENCE` - location where the trained model will be saved.\n",
    "\n",
    "**Note**: Your COS credentials are referenced in this code.\n"
   ]
  },
  {
   "cell_type": "code",
   "execution_count": 29,
   "metadata": {},
   "outputs": [],
   "source": [
    "# Configure the training metadata for the TRAINING_DATA_REFERENCE and TRAINING_RESULTS_REFERENCE.\n",
    "training_configuration_metadata = {\n",
    "    client.training.ConfigurationMetaNames.NAME: 'gan_training', \n",
    "    client.training.ConfigurationMetaNames.AUTHOR_NAME: 'Jihyoung Kim',              \n",
    "    client.training.ConfigurationMetaNames.DESCRIPTION: 'gan_training_definition',\n",
    "    client.training.ConfigurationMetaNames.COMPUTE_CONFIGURATION: {'name': 'v100'},\n",
    "    client.training.ConfigurationMetaNames.TRAINING_DATA_REFERENCE: {\n",
    "        'connection': {\n",
    "            'endpoint_url': service_endpoint,\n",
    "            'access_key_id': cos_credentials['cos_hmac_keys']['access_key_id'],\n",
    "            'secret_access_key': cos_credentials['cos_hmac_keys']['secret_access_key']\n",
    "        },\n",
    "        'source': {\n",
    "            'bucket': buckets[0]\n",
    "        },\n",
    "        'type': 's3'\n",
    "    },\n",
    "    client.training.ConfigurationMetaNames.TRAINING_RESULTS_REFERENCE: {\n",
    "        'connection': {\n",
    "            'endpoint_url': service_endpoint,\n",
    "            'access_key_id': cos_credentials['cos_hmac_keys']['access_key_id'],\n",
    "            'secret_access_key': cos_credentials['cos_hmac_keys']['secret_access_key']\n",
    "        },\n",
    "        'target': {\n",
    "            'bucket': buckets[1]\n",
    "        },\n",
    "        'type': 's3'\n",
    "    }\n",
    "}"
   ]
  },
  {
   "cell_type": "markdown",
   "metadata": {},
   "source": [
    "### 4.2 Train the model in the background<a id=\"backg\"></a>\n",
    "\n",
    "To run the training in the **background**, please set the optional parameter `asynchronous` as `True` (or remove it). In this case, the parameter has been removed. \n",
    "\n",
    "**Note:** To run the training in **active** mode, please set the optional parameter `asynchronous` as `False`."
   ]
  },
  {
   "cell_type": "code",
   "execution_count": 30,
   "metadata": {},
   "outputs": [],
   "source": [
    "training_run_details = client.training.run(definition_uid, training_configuration_metadata)"
   ]
  },
  {
   "cell_type": "code",
   "execution_count": 31,
   "metadata": {},
   "outputs": [],
   "source": [
    "training_run_guid_async = client.training.get_run_uid(training_run_details)"
   ]
  },
  {
   "cell_type": "markdown",
   "metadata": {},
   "source": [
    "Check the status of the training run by calling the method the next cell:"
   ]
  },
  {
   "cell_type": "code",
   "execution_count": 32,
   "metadata": {
    "scrolled": true
   },
   "outputs": [
    {
     "name": "stdout",
     "output_type": "stream",
     "text": [
      "{\n",
      "  \"state\": \"pending\",\n",
      "  \"submitted_at\": \"2019-10-21T12:37:28.427Z\",\n",
      "  \"message\": \"training-RyOtjwTWg: Submitted\",\n",
      "  \"metrics\": [],\n",
      "  \"current_at\": \"2019-10-21T12:37:30.968Z\"\n",
      "}\n"
     ]
    }
   ],
   "source": [
    "# Get training run status.\n",
    "status = client.training.get_status(training_run_guid_async)\n",
    "print(json.dumps(status, indent=2))"
   ]
  },
  {
   "cell_type": "markdown",
   "metadata": {},
   "source": [
    "### 4.3  Monitor the training log<a id=\"log\"></a>"
   ]
  },
  {
   "cell_type": "markdown",
   "metadata": {},
   "source": [
    "Run the cell below to monitor the training log."
   ]
  },
  {
   "cell_type": "code",
   "execution_count": 33,
   "metadata": {},
   "outputs": [],
   "source": [
    "from time import time"
   ]
  },
  {
   "cell_type": "code",
   "execution_count": 34,
   "metadata": {
    "scrolled": true
   },
   "outputs": [
    {
     "name": "stdout",
     "output_type": "stream",
     "text": [
      "\n",
      "\n",
      "####################################################\n",
      "\n",
      "Log monitor started for training run: model-bp53xi4q\n",
      "\n",
      "####################################################\n",
      "\n",
      "\n",
      "training-RyOtjwTWg: Training with training/test data at:\n",
      "\n",
      "training-RyOtjwTWg:   DATA_DIR: /mnt/data/gan-training-data-4069b46a-fdfb-4637-a98a-2ec0f3ef4b24\n",
      "\n",
      "training-RyOtjwTWg:   MODEL_DIR: /job/model-code\n",
      "\n",
      "training-RyOtjwTWg:   TRAINING_JOB: \n",
      "\n",
      "training-RyOtjwTWg:   TRAINING_COMMAND: python3 gan_fashion_mnist.py --epochs 30000\n",
      "\n",
      "training-RyOtjwTWg: Storing trained model at:\n",
      "\n",
      "training-RyOtjwTWg:   RESULT_DIR: /mnt/results/gan-training-results-4069b46a-fdfb-4637-a98a-2ec0f3ef4b24/training-RyOtjwTWg\n",
      "\n",
      "training-RyOtjwTWg: Mon Oct 21 12:37:42 UTC 2019: Running Tensorflow job\n",
      "\n",
      "training-RyOtjwTWg: Collecting idx2numpy\n",
      "\n",
      "training-RyOtjwTWg:   Downloading https://files.pythonhosted.org/packages/23/6b/abab4652eb249f432c62431907c8de32bdcedb5abdf869ff86653efff981/idx2numpy-1.2.2.tar.gz\n",
      "\n",
      "training-RyOtjwTWg: Requirement already satisfied: numpy in /opt/conda/lib/python3.6/site-packages (from idx2numpy) (1.17.2)\n",
      "\n",
      "training-RyOtjwTWg: Requirement already satisfied: six in /opt/conda/lib/python3.6/site-packages (from idx2numpy) (1.11.0)\n",
      "\n",
      "training-RyOtjwTWg: Building wheels for collected packages: idx2numpy\n",
      "\n",
      "training-RyOtjwTWg:   Building wheel for idx2numpy (setup.py): started\n",
      "\n",
      "training-RyOtjwTWg:   Building wheel for idx2numpy (setup.py): finished with status 'done'\n",
      "\n",
      "training-RyOtjwTWg:   Created wheel for idx2numpy: filename=idx2numpy-1.2.2-cp36-none-any.whl size=8032 sha256=f844e0fa183515ae01d597a245d1e74bdf514268a195ad84471f75dcb98fb730\n",
      "\n",
      "training-RyOtjwTWg:   Stored in directory: /home/gpuuser/.cache/pip/wheels/7a/b5/69/3e0757b3086607e95db70661798fdf98a77a0bb79c54e1f320\n",
      "\n",
      "training-RyOtjwTWg: Successfully built idx2numpy\n",
      "\n",
      "training-RyOtjwTWg: Installing collected packages: idx2numpy\n",
      "\n",
      "training-RyOtjwTWg: Successfully installed idx2numpy-1.2.2\n",
      "\n",
      "training-RyOtjwTWg: /opt/conda/lib/python3.6/site-packages/h5py/__init__.py:36: FutureWarning: Conversion of the second argument of issubdtype from `float` to `np.floating` is deprecated. In future, it will be treated as `np.float64 == np.dtype(float).type`.\n",
      "\n",
      "training-RyOtjwTWg:   from ._conv import register_converters as _register_converters\n",
      "\n",
      "training-RyOtjwTWg: Using TensorFlow backend.\n",
      "\n",
      "training-RyOtjwTWg: WARNING:tensorflow:From /opt/conda/lib/python3.6/site-packages/tensorflow/python/framework/op_def_library.py:263: colocate_with (from tensorflow.python.framework.ops) is deprecated and will be removed in a future version.\n",
      "\n",
      "training-RyOtjwTWg: Instructions for updating:\n",
      "\n",
      "training-RyOtjwTWg: Colocations handled automatically by placer.\n",
      "\n",
      "training-RyOtjwTWg: WARNING:tensorflow:From /opt/conda/lib/python3.6/site-packages/keras/backend/tensorflow_backend.py:3144: calling dropout (from tensorflow.python.ops.nn_ops) with keep_prob is deprecated and will be removed in a future version.\n",
      "\n",
      "training-RyOtjwTWg: Instructions for updating:\n",
      "\n",
      "training-RyOtjwTWg: Please use `rate` instead of `keep_prob`. Rate should be set to `rate = 1 - keep_prob`.\n",
      "\n",
      "training-RyOtjwTWg: 2019-10-21 12:37:54.989905: I tensorflow/core/platform/cpu_feature_guard.cc:141] Your CPU supports instructions that this TensorFlow binary was not compiled to use: AVX2 FMA\n",
      "\n",
      "training-RyOtjwTWg: 2019-10-21 12:37:55.391846: I tensorflow/compiler/xla/service/service.cc:150] XLA service 0x55627c9c7db0 executing computations on platform CUDA. Devices:\n",
      "\n",
      "training-RyOtjwTWg: 2019-10-21 12:37:55.391886: I tensorflow/compiler/xla/service/service.cc:158]   StreamExecutor device (0): Tesla V100-PCIE-16GB, Compute Capability 7.0\n",
      "\n",
      "training-RyOtjwTWg: 2019-10-21 12:37:55.394365: I tensorflow/core/platform/profile_utils/cpu_utils.cc:94] CPU Frequency: 2599875000 Hz\n",
      "\n",
      "training-RyOtjwTWg: 2019-10-21 12:37:55.397668: I tensorflow/compiler/xla/service/service.cc:150] XLA service 0x55627d08bb90 executing computations on platform Host. Devices:\n",
      "\n",
      "training-RyOtjwTWg: 2019-10-21 12:37:55.397711: I tensorflow/compiler/xla/service/service.cc:158]   StreamExecutor device (0): <undefined>, <undefined>\n",
      "\n",
      "training-RyOtjwTWg: 2019-10-21 12:37:55.397867: I tensorflow/core/common_runtime/gpu/gpu_device.cc:1433] Found device 0 with properties: \n",
      "\n",
      "training-RyOtjwTWg: name: Tesla V100-PCIE-16GB major: 7 minor: 0 memoryClockRate(GHz): 1.38\n",
      "\n",
      "training-RyOtjwTWg: pciBusID: 0000:81:00.0\n",
      "\n",
      "training-RyOtjwTWg: totalMemory: 15.78GiB freeMemory: 15.47GiB\n",
      "\n",
      "training-RyOtjwTWg: 2019-10-21 12:37:55.397890: I tensorflow/core/common_runtime/gpu/gpu_device.cc:1512] Adding visible gpu devices: 0\n",
      "\n",
      "training-RyOtjwTWg: 2019-10-21 12:37:55.399343: I tensorflow/core/common_runtime/gpu/gpu_device.cc:984] Device interconnect StreamExecutor with strength 1 edge matrix:\n",
      "\n",
      "training-RyOtjwTWg: 2019-10-21 12:37:55.399359: I tensorflow/core/common_runtime/gpu/gpu_device.cc:990]      0 \n",
      "\n",
      "training-RyOtjwTWg: 2019-10-21 12:37:55.399367: I tensorflow/core/common_runtime/gpu/gpu_device.cc:1003] 0:   N \n",
      "\n",
      "training-RyOtjwTWg: 2019-10-21 12:37:55.399464: I tensorflow/core/common_runtime/gpu/gpu_device.cc:1115] Created TensorFlow device (/job:localhost/replica:0/task:0/device:GPU:0 with 15051 MB memory) -> physical GPU (device: 0, name: Tesla V100-PCIE-16GB, pci bus id: 0000:81:00.0, compute capability: 7.0)\n",
      "\n",
      "training-RyOtjwTWg: 2019-10-21 12:37:56.397743: I tensorflow/stream_executor/dso_loader.cc:152] successfully opened CUDA library libcublas.so.10.0 locally\n",
      "\n",
      "training-RyOtjwTWg: WARNING:tensorflow:From /opt/conda/lib/python3.6/site-packages/tensorflow/python/ops/math_ops.py:3066: to_int32 (from tensorflow.python.ops.math_ops) is deprecated and will be removed in a future version.\n",
      "\n",
      "training-RyOtjwTWg: Instructions for updating:\n",
      "\n",
      "training-RyOtjwTWg: Use tf.cast instead.\n",
      "\n",
      "training-RyOtjwTWg: \n",
      "training-RyOtjwTWg: \n",
      "training-RyOtjwTWg: \n",
      "training-RyOtjwTWg: \n",
      "training-RyOtjwTWg: \n",
      "training-RyOtjwTWg: \n",
      "training-RyOtjwTWg: \n",
      "training-RyOtjwTWg: \n",
      "training-RyOtjwTWg: \n",
      "training-RyOtjwTWg: \n",
      "training-RyOtjwTWg: \n",
      "training-RyOtjwTWg: \n",
      "training-RyOtjwTWg: \n",
      "training-RyOtjwTWg: \n",
      "training-RyOtjwTWg: \n",
      "training-RyOtjwTWg: \n",
      "training-RyOtjwTWg: \n",
      "training-RyOtjwTWg: \n",
      "training-RyOtjwTWg: \n",
      "training-RyOtjwTWg: \n",
      "training-RyOtjwTWg: \n",
      "training-RyOtjwTWg: \n",
      "training-RyOtjwTWg: \n",
      "training-RyOtjwTWg: \n",
      "training-RyOtjwTWg: \n",
      "training-RyOtjwTWg: \n",
      "training-RyOtjwTWg: \n",
      "training-RyOtjwTWg: \n",
      "training-RyOtjwTWg: \n",
      "training-RyOtjwTWg: \n",
      "training-RyOtjwTWg: \n",
      "training-RyOtjwTWg: \n",
      "training-RyOtjwTWg: \n",
      "training-RyOtjwTWg: \n",
      "training-RyOtjwTWg: \n",
      "training-RyOtjwTWg: \n",
      "training-RyOtjwTWg: \n",
      "training-RyOtjwTWg: Extracting /mnt/data/gan-training-data-4069b46a-fdfb-4637-a98a-2ec0f3ef4b24/train-images-idx3-ubyte.gz\n",
      "\n",
      "training-RyOtjwTWg: Model file path: /mnt/results/gan-training-results-4069b46a-fdfb-4637-a98a-2ec0f3ef4b24/training-RyOtjwTWg/model/gan.h5\n",
      "\n",
      "training-RyOtjwTWg: \n",
      "training-RyOtjwTWg: \n",
      "training-RyOtjwTWg: \n",
      "training-RyOtjwTWg: \n",
      "training-RyOtjwTWg: \n",
      "training-RyOtjwTWg: \n",
      "training-RyOtjwTWg: \n",
      "training-RyOtjwTWg: \n",
      "training-RyOtjwTWg: \n",
      "training-RyOtjwTWg: \n",
      "\n",
      "\n",
      "-----------------\n",
      "Log monitor done.\n",
      "-----------------\n",
      "\n",
      "\n"
     ]
    }
   ],
   "source": [
    "ts = time()\n",
    "client.training.monitor_logs(training_run_guid_async)\n",
    "te = time()"
   ]
  },
  {
   "cell_type": "code",
   "execution_count": 35,
   "metadata": {},
   "outputs": [
    {
     "name": "stdout",
     "output_type": "stream",
     "text": [
      "Time elapsed: 8.83 min\n"
     ]
    }
   ],
   "source": [
    "print('Time elapsed: {:.2f} min'.format((te - ts) / 60))"
   ]
  },
  {
   "cell_type": "markdown",
   "metadata": {},
   "source": [
    "### 4.4 Cancel the training run<a id=\"cancel\"></a>"
   ]
  },
  {
   "cell_type": "markdown",
   "metadata": {},
   "source": [
    "You can cancel the training run by calling the method below."
   ]
  },
  {
   "cell_type": "raw",
   "metadata": {},
   "source": [
    "client.training.cancel(training_run_guid_async)"
   ]
  },
  {
   "cell_type": "markdown",
   "metadata": {},
   "source": [
    "<a id=\"save\"></a>\n",
    "## 5. Save the GAN model"
   ]
  },
  {
   "cell_type": "markdown",
   "metadata": {},
   "source": [
    "#### Call this method to the save the trained model in the WML repository."
   ]
  },
  {
   "cell_type": "code",
   "execution_count": 36,
   "metadata": {},
   "outputs": [],
   "source": [
    "# Save model to WML repository.\n",
    "saved_model_details = client.repository.store_model(\n",
    "    training_run_guid_async, {'name': 'Fashion MNIST GAN model'}\n",
    ")"
   ]
  },
  {
   "cell_type": "code",
   "execution_count": 37,
   "metadata": {},
   "outputs": [
    {
     "name": "stdout",
     "output_type": "stream",
     "text": [
      "Url: https://us-south.ml.cloud.ibm.com/v3/wml_instances/b4b6c696-172c-4164-8049-c0b621dbf3c9/published_models/ee208b67-c766-4d5a-a3fd-3cb8c39ca3d2\n"
     ]
    }
   ],
   "source": [
    "# Display location of saved model.\n",
    "print('Url: {}'.format(client.repository.get_model_url(saved_model_details)))"
   ]
  },
  {
   "cell_type": "markdown",
   "metadata": {},
   "source": [
    "**Tip:** Run the code below to extract the stored model uid from the dictionary."
   ]
  },
  {
   "cell_type": "code",
   "execution_count": 38,
   "metadata": {},
   "outputs": [
    {
     "name": "stdout",
     "output_type": "stream",
     "text": [
      "Saved model uid: ee208b67-c766-4d5a-a3fd-3cb8c39ca3d2\n"
     ]
    }
   ],
   "source": [
    "# Get and display model uid.\n",
    "model_uid = client.repository.get_model_uid(saved_model_details)\n",
    "print('Saved model uid: {}'.format(model_uid))"
   ]
  },
  {
   "cell_type": "markdown",
   "metadata": {},
   "source": [
    "#### List the stored models."
   ]
  },
  {
   "cell_type": "raw",
   "metadata": {},
   "source": [
    "client.repository.list_models()"
   ]
  },
  {
   "cell_type": "markdown",
   "metadata": {},
   "source": [
    "#### Delete the training run and its results."
   ]
  },
  {
   "cell_type": "markdown",
   "metadata": {},
   "source": [
    "Run the code in the cell below to delete train runs and results:"
   ]
  },
  {
   "cell_type": "raw",
   "metadata": {},
   "source": [
    "client.training.delete(training_run_uid_async)"
   ]
  },
  {
   "cell_type": "markdown",
   "metadata": {},
   "source": [
    "## 6. Deploy the GAN model<a id=\"deploy\"></a>"
   ]
  },
  {
   "cell_type": "markdown",
   "metadata": {},
   "source": [
    "Run the code in the following cell to deploy the stored model as a web service (online):"
   ]
  },
  {
   "cell_type": "code",
   "execution_count": 39,
   "metadata": {},
   "outputs": [
    {
     "name": "stdout",
     "output_type": "stream",
     "text": [
      "\n",
      "\n",
      "#######################################################################################\n",
      "\n",
      "Synchronous deployment creation for uid: 'ee208b67-c766-4d5a-a3fd-3cb8c39ca3d2' started\n",
      "\n",
      "#######################################################################################\n",
      "\n",
      "\n",
      "INITIALIZING\n",
      "DEPLOY_IN_PROGRESS\n",
      "DEPLOY_SUCCESS\n",
      "\n",
      "\n",
      "------------------------------------------------------------------------------------------------\n",
      "Successfully finished deployment creation, deployment_uid='1067d3db-d48c-4743-a83c-c207793209b7'\n",
      "------------------------------------------------------------------------------------------------\n",
      "\n",
      "\n"
     ]
    }
   ],
   "source": [
    "# Create online deployment.\n",
    "deployment_details = client.deployments.create(model_uid, 'Fashion MNIST GAN model deployment')"
   ]
  },
  {
   "cell_type": "markdown",
   "metadata": {
    "collapsed": true
   },
   "source": [
    "## 7. Score the GAN model<a id=\"score\"></a>\n",
    "\n",
    "Now, extract the url endpoint and scoring_url which will be used to send scoring requests.\n",
    "\n",
    "Since `GANs` are `unsupervised` models, the results of scoring (prediction) are the `generated (fake) images` from the `generator`."
   ]
  },
  {
   "cell_type": "code",
   "execution_count": null,
   "metadata": {},
   "outputs": [],
   "source": [
    "#  Extract endpoint url and display it.\n",
    "scoring_url = client.deployments.get_scoring_url(deployment_details)\n",
    "print(scoring_url)"
   ]
  },
  {
   "cell_type": "markdown",
   "metadata": {},
   "source": [
    "For scoring, 25 images will be generated. Hence, generate a 25x100 matrix with random float numbers between 0 and 1."
   ]
  },
  {
   "cell_type": "code",
   "execution_count": 41,
   "metadata": {},
   "outputs": [
    {
     "data": {
      "text/plain": [
       "(25, 100)"
      ]
     },
     "execution_count": 41,
     "metadata": {},
     "output_type": "execute_result"
    }
   ],
   "source": [
    "col_num = 5\n",
    "row_num = 5\n",
    "payload = np.random.normal(0, 1, (row_num * col_num, 100))\n",
    "payload.shape"
   ]
  },
  {
   "cell_type": "markdown",
   "metadata": {},
   "source": [
    "Send the data to the `scoring_url` to generate `fake images`."
   ]
  },
  {
   "cell_type": "code",
   "execution_count": 42,
   "metadata": {},
   "outputs": [],
   "source": [
    "pred = client.deployments.score(scoring_url, {'values': payload.tolist()})"
   ]
  },
  {
   "cell_type": "code",
   "execution_count": 43,
   "metadata": {},
   "outputs": [],
   "source": [
    "generated_images = 0.5 * np.array(pred['values']) + 0.5"
   ]
  },
  {
   "cell_type": "markdown",
   "metadata": {},
   "source": [
    "You can see the generated `fake` images by the `generator` in the below cell."
   ]
  },
  {
   "cell_type": "code",
   "execution_count": 44,
   "metadata": {},
   "outputs": [
    {
     "data": {
      "image/png": "[encoded data removed]",
      "text/plain": [
       "<Figure size 720x720 with 25 Axes>"
      ]
     },
     "metadata": {},
     "output_type": "display_data"
    }
   ],
   "source": [
    "plt.figure(figsize=(10, 10))\n",
    "for i in range(row_num * col_num):\n",
    "    plt.subplot(row_num, col_num, i + 1)\n",
    "    plt.xticks([])\n",
    "    plt.yticks([])\n",
    "    plt.grid(False)\n",
    "    plt.imshow(generated_images[i, :, :, 0], cmap=plt.cm.binary)"
   ]
  },
  {
   "cell_type": "markdown",
   "metadata": {
    "collapsed": true
   },
   "source": [
    "<a id=\"summary\"></a>\n",
    "## 8. Summary and next steps     "
   ]
  },
  {
   "cell_type": "markdown",
   "metadata": {
    "collapsed": true
   },
   "source": [
    "You successfully completed this notebook! \n",
    " \n",
    "You have learned how to:\n",
    "- Train a `Generative Adversarial Network (GAN)` model in Keras using the `Watson Machine Learning (WML)` training service.\n",
    "- Deploy the `Generative Adversarial Network (GAN)` model in the `Watson Machine Learning (WML)` repository.\n",
    " \n",
    "Check out our <a href=\"https://dataplatform.ibm.com/docs/content/analyze-data/wml-setup.html\" target=\"_blank\" rel=\"noopener noreferrer\">Online Documentation</a> for a <a href=\"https://dataplatform.ibm.com/docs/content/analyze-data/ml-python-mnist-tutorial.html\" target=\"_blank\" rel=\"noopener noreferrer\">tutorial</a> and more samples, documentation, how-tos, and blog posts. "
   ]
  },
  {
   "cell_type": "markdown",
   "metadata": {},
   "source": [
    "### Citations <a id=\"cite\"></a>\n",
    "1. *Ian J. Goodfellow et al.*, **Generative Adversarial Nets**, Advances in neural information processing systems, 2014.\n",
    "2. *Zalando Research*, **Fashion MNIST**."
   ]
  },
  {
   "cell_type": "markdown",
   "metadata": {},
   "source": [
    "### Authors\n",
    "\n",
    "**Jihyoung Kim**, Ph.D., is a Data Scientist at IBM who strives to make data science easy for everyone through Watson Studio."
   ]
  },
  {
   "cell_type": "markdown",
   "metadata": {},
   "source": [
    "Copyright © 2019 IBM. This notebook and its source code are released under the terms of the MIT License."
   ]
  },
  {
   "cell_type": "markdown",
   "metadata": {},
   "source": [
    "<div style=\"background:#F5F7FA; height:110px; padding: 2em; font-size:14px;\">\n",
    "<span style=\"font-size:18px;color:#152935;\">Love this notebook? </span>\n",
    "<span style=\"font-size:15px;color:#152935;float:right;margin-right:40px;\">Don't have an account yet?</span><br>\n",
    "<span style=\"color:#5A6872;\">Share it with your colleagues and help them discover the power of Watson Studio!</span>\n",
    "<span style=\"border: 1px solid #3d70b2;padding:8px;float:right;margin-right:40px; color:#3d70b2;\"><a href=\"https://ibm.co/wsnotebooks\" target=\"_blank\" style=\"color: #3d70b2;text-decoration: none;\">Sign Up</a></span><br>\n",
    "</div>"
   ]
  }
 ],
 "metadata": {
  "kernelspec": {
   "display_name": "Python 3.6",
   "language": "python",
   "name": "python3"
  },
  "language_info": {
   "codemirror_mode": {
    "name": "ipython",
    "version": 3
   },
   "file_extension": ".py",
   "mimetype": "text/x-python",
   "name": "python",
   "nbconvert_exporter": "python",
   "pygments_lexer": "ipython3",
   "version": "3.6.8"
  }
 },
 "nbformat": 4,
 "nbformat_minor": 1
}
