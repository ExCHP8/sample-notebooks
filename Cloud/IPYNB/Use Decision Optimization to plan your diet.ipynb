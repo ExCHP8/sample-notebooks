{
 "cells": [
  {
   "cell_type": "markdown",
   "metadata": {},
   "source": [
    "# Use Decision Optimization to plan your diet with `ibm-watsonx-ai`\n",
    "\n",
    "This notebook facilitates Decision Optimization and Watson Machine Learning services. It contains steps and code to work with [ibm-watsonx-ai](https://pypi.org/project/ibm-watsonx-ai) library available in PyPI repository. It also introduces commands for getting model and training data, persisting model, deploying model and scoring it.\n",
    "\n",
    "Some familiarity with Python is helpful."
   ]
  },
  {
   "cell_type": "markdown",
   "metadata": {
    "pycharm": {
     "name": "#%% md\n"
    }
   },
   "source": [
    "## Learning goals\n",
    "\n",
    "The learning goals of this notebook are:\n",
    "\n",
    "-  Load a Decision Optimization model into a Watson Machine Learning repository.\n",
    "-  Prepare data for training and evaluation.\n",
    "-  Create a Watson Machine Learning job.\n",
    "-  Persist a Decision Optimization model in a Watson Machine Learning repository.\n",
    "-  Deploy a model for batch scoring using watsonx.ai API."
   ]
  },
  {
   "cell_type": "markdown",
   "metadata": {
    "pycharm": {
     "name": "#%% md\n"
    }
   },
   "source": [
    "## Contents\n",
    "\n",
    "This notebook contains the following parts:\n",
    "\n",
    "1. [Set up the environment](#setup)\n",
    "2. [Download externally created Decision Optimization model and data](#download)\n",
    "3. [Persist externally created Decision Optimization model](#persistence)\n",
    "4. [Deploy in a Cloud](#deploy)\n",
    "5. [Create job](#job)\n",
    "6. [Clean up](#cleanup)\n",
    "7. [Summary and next steps](#summary)\n",
    "\n"
   ]
  },
  {
   "cell_type": "markdown",
   "metadata": {},
   "source": [
    "<a id=\"setup\"></a>\n",
    "## 1. Set up the environment\n",
    "\n",
    "Before you use the sample code in this notebook, you must:\n",
    "\n",
    "- create a <a href=\"https://cloud.ibm.com/catalog?category=ai\" target=\"_blank\" rel=\"noopener noreferrer\">Watson Machine Learning (WML) Service</a> instance. A free plan is offered and information about how to create the instance can be found at <a href=\"https://dataplatform.cloud.ibm.com/docs/content/wsj/analyze-data/ml-overview.html?context=cpdaas\" target=\"_blank\" rel=\"noopener noreferrer\"> https://dataplatform.cloud.ibm.com/docs/content/wsj/analyze-data/ml-overview.html?context=cpdaas.</a>"
   ]
  },
  {
   "cell_type": "markdown",
   "metadata": {},
   "source": [
    "Install and then import the watsonx.ai client library.\n",
    "\n",
    "**Note:** `ibm-watsonx-ai` documentation can be found <a href=\"https://ibm.github.io/watsonx-ai-python-sdk/\" target=\"_blank\" rel=\"noopener no referrer\">here</a>."
   ]
  },
  {
   "cell_type": "code",
   "execution_count": 1,
   "metadata": {},
   "outputs": [
    {
     "name": "stdout",
     "output_type": "stream",
     "text": [
      "Requirement already satisfied: ibm-watsonx-ai in /opt/conda/envs/Python-RT23.1/lib/python3.10/site-packages (1.0.11)\n",
      "Requirement already satisfied: requests in /opt/conda/envs/Python-RT23.1/lib/python3.10/site-packages (from ibm-watsonx-ai) (2.31.0)\n",
      "Requirement already satisfied: urllib3 in /opt/conda/envs/Python-RT23.1/lib/python3.10/site-packages (from ibm-watsonx-ai) (1.26.19)\n",
      "Requirement already satisfied: pandas<2.2.0,>=0.24.2 in /opt/conda/envs/Python-RT23.1/lib/python3.10/site-packages (from ibm-watsonx-ai) (1.5.3)\n",
      "Requirement already satisfied: certifi in /opt/conda/envs/Python-RT23.1/lib/python3.10/site-packages (from ibm-watsonx-ai) (2024.7.4)\n",
      "Requirement already satisfied: lomond in /opt/conda/envs/Python-RT23.1/lib/python3.10/site-packages (from ibm-watsonx-ai) (0.3.3)\n",
      "Requirement already satisfied: tabulate in /opt/conda/envs/Python-RT23.1/lib/python3.10/site-packages (from ibm-watsonx-ai) (0.8.10)\n",
      "Requirement already satisfied: packaging in /opt/conda/envs/Python-RT23.1/lib/python3.10/site-packages (from ibm-watsonx-ai) (23.0)\n",
      "Requirement already satisfied: ibm-cos-sdk<2.14.0,>=2.12.0 in /opt/conda/envs/Python-RT23.1/lib/python3.10/site-packages (from ibm-watsonx-ai) (2.12.0)\n",
      "Requirement already satisfied: importlib-metadata in /opt/conda/envs/Python-RT23.1/lib/python3.10/site-packages (from ibm-watsonx-ai) (6.0.0)\n",
      "Requirement already satisfied: ibm-cos-sdk-core==2.12.0 in /opt/conda/envs/Python-RT23.1/lib/python3.10/site-packages (from ibm-cos-sdk<2.14.0,>=2.12.0->ibm-watsonx-ai) (2.12.0)\n",
      "Requirement already satisfied: ibm-cos-sdk-s3transfer==2.12.0 in /opt/conda/envs/Python-RT23.1/lib/python3.10/site-packages (from ibm-cos-sdk<2.14.0,>=2.12.0->ibm-watsonx-ai) (2.12.0)\n",
      "Requirement already satisfied: jmespath<1.0.0,>=0.10.0 in /opt/conda/envs/Python-RT23.1/lib/python3.10/site-packages (from ibm-cos-sdk<2.14.0,>=2.12.0->ibm-watsonx-ai) (0.10.0)\n",
      "Requirement already satisfied: python-dateutil<3.0.0,>=2.8.2 in /opt/conda/envs/Python-RT23.1/lib/python3.10/site-packages (from ibm-cos-sdk-core==2.12.0->ibm-cos-sdk<2.14.0,>=2.12.0->ibm-watsonx-ai) (2.8.2)\n",
      "Requirement already satisfied: pytz>=2020.1 in /opt/conda/envs/Python-RT23.1/lib/python3.10/site-packages (from pandas<2.2.0,>=0.24.2->ibm-watsonx-ai) (2022.7)\n",
      "Requirement already satisfied: numpy>=1.21.0 in /opt/conda/envs/Python-RT23.1/lib/python3.10/site-packages (from pandas<2.2.0,>=0.24.2->ibm-watsonx-ai) (1.23.5)\n",
      "Requirement already satisfied: charset-normalizer<4,>=2 in /opt/conda/envs/Python-RT23.1/lib/python3.10/site-packages (from requests->ibm-watsonx-ai) (2.0.4)\n",
      "Requirement already satisfied: idna<4,>=2.5 in /opt/conda/envs/Python-RT23.1/lib/python3.10/site-packages (from requests->ibm-watsonx-ai) (3.7)\n",
      "Requirement already satisfied: zipp>=0.5 in /opt/conda/envs/Python-RT23.1/lib/python3.10/site-packages (from importlib-metadata->ibm-watsonx-ai) (3.11.0)\n",
      "Requirement already satisfied: six>=1.10.0 in /opt/conda/envs/Python-RT23.1/lib/python3.10/site-packages (from lomond->ibm-watsonx-ai) (1.16.0)\n"
     ]
    }
   ],
   "source": [
    "# Install watsonx.ai client API\n",
    "\n",
    "!pip install ibm-watsonx-ai"
   ]
  },
  {
   "cell_type": "code",
   "execution_count": 2,
   "metadata": {
    "scrolled": true
   },
   "outputs": [
    {
     "name": "stdout",
     "output_type": "stream",
     "text": [
      "Collecting wget\n",
      "  Downloading wget-3.2.zip (10 kB)\n",
      "  Preparing metadata (setup.py) ... \u001b[?25ldone\n",
      "\u001b[?25hBuilding wheels for collected packages: wget\n",
      "  Building wheel for wget (setup.py) ... \u001b[?25ldone\n",
      "\u001b[?25h  Created wheel for wget: filename=wget-3.2-py3-none-any.whl size=9656 sha256=94781e98f20ff3486dfb46693a806619de1491bbc8b0b421145dc3332bbc2fc8\n",
      "  Stored in directory: /tmp/wsuser/.cache/pip/wheels/8b/f1/7f/5c94f0a7a505ca1c81cd1d9208ae2064675d97582078e6c769\n",
      "Successfully built wget\n",
      "Installing collected packages: wget\n",
      "Successfully installed wget-3.2\n"
     ]
    }
   ],
   "source": [
    "!pip install -U wget"
   ]
  },
  {
   "cell_type": "code",
   "execution_count": 3,
   "metadata": {},
   "outputs": [],
   "source": [
    "from ibm_watsonx_ai import APIClient\n",
    "from ibm_watsonx_ai import Credentials"
   ]
  },
  {
   "cell_type": "markdown",
   "metadata": {},
   "source": [
    "### Create a client instance\n",
    "\n",
    "Use your IBM Cloud API key. You can find information on how to get your API key <a href=\"https://dataplatform.cloud.ibm.com/docs/content/DO/WML_Deployment/DeployModelRest.html?audience=wdp&context=cpdaas#tasktask_deploymodelREST__prereq_el2_nft_bhb\">here</a> and the instance URL <a href=\"https://cloud.ibm.com/apidocs/machine-learning#endpoint-url\">here</a>."
   ]
  },
  {
   "cell_type": "code",
   "execution_count": 4,
   "metadata": {},
   "outputs": [],
   "source": [
    "# Instantiate a client using credentials\n",
    "credentials = Credentials(\n",
    "      api_key = \"<API_key>\",\n",
    "      url = \"<instance_url>\"\n",
    ")\n",
    "\n",
    "client = APIClient(credentials)"
   ]
  },
  {
   "cell_type": "markdown",
   "metadata": {},
   "source": [
    "### Working with spaces\n",
    "\n",
    "First of all, you need to create a space that will be used for your work. If you do not have space already created, you can use [Deployment Spaces Dashboard](https://dataplatform.cloud.ibm.com/ml-runtime/spaces?context=cpdaas) to create one.\n",
    "\n",
    "- Click New deployment space\n",
    "- Create an empty space\n",
    "- Select Cloud Object Storage\n",
    "- Select Watson Machine Learning instance and press Create\n",
    "\n",
    "**Tip**: You can also use SDK to prepare the space for your work. More information can be found [here](https://github.com/IBM/watson-machine-learning-samples/blob/master/cloud/notebooks/python_sdk/instance-management/Space%20management.ipynb)."
   ]
  },
  {
   "cell_type": "code",
   "execution_count": 5,
   "metadata": {},
   "outputs": [],
   "source": [
    "# Find the space ID\n",
    "\n",
    "space_name = \"<space_name>\"\n",
    "\n",
    "space_id = [x['metadata']['id'] for x in client.spaces.get_details()['resources'] if x['entity']['name'] == space_name][0]\n",
    "\n",
    "client = APIClient(credentials, space_id = space_id)"
   ]
  },
  {
   "cell_type": "markdown",
   "metadata": {
    "pycharm": {
     "name": "#%% md\n"
    }
   },
   "source": [
    "\n",
    "<a id=\"download\"></a>\n",
    "## 2. Download externally created Decision Optimization model and data\n",
    "\n",
    "\n",
    "In this section, you will download externally created Decision Optimization model and data used for training it.\n",
    "\n",
    "\n",
    "**Action**: Get your Decision Optimization model."
   ]
  },
  {
   "cell_type": "code",
   "execution_count": 6,
   "metadata": {
    "pycharm": {
     "name": "#%%\n"
    }
   },
   "outputs": [],
   "source": [
    "import os\n",
    "import wget\n",
    "model_path = 'do-model.tar.gz'\n",
    "if not os.path.isfile(model_path):\n",
    "    wget.download(\"https://github.com/IBM/watson-machine-learning-samples/raw/master/cloud/models/decision_optimization/do-model.tar.gz\")"
   ]
  },
  {
   "cell_type": "markdown",
   "metadata": {},
   "source": [
    "\n",
    "<a id=\"persistence\"></a>\n",
    "## 3. Persist externally created Decision Optimization model"
   ]
  },
  {
   "cell_type": "markdown",
   "metadata": {},
   "source": [
    "In this section, you will learn how to store your model in Watson Machine Learning repository by using the watsonx.ai Client.\n"
   ]
  },
  {
   "cell_type": "markdown",
   "metadata": {},
   "source": [
    "### 3.1 Publish model\n"
   ]
  },
  {
   "cell_type": "markdown",
   "metadata": {},
   "source": [
    "#### Publish model in Watson Machine Learning repository on Cloud."
   ]
  },
  {
   "cell_type": "markdown",
   "metadata": {},
   "source": [
    "Define model name, autor name and email.\n"
   ]
  },
  {
   "cell_type": "markdown",
   "metadata": {
    "pycharm": {
     "name": "#%% md\n"
    }
   },
   "source": [
    "Get software specification for Decision Optimization model"
   ]
  },
  {
   "cell_type": "code",
   "execution_count": 7,
   "metadata": {
    "pycharm": {
     "name": "#%%\n"
    }
   },
   "outputs": [],
   "source": [
    "sofware_spec_id = client.software_specifications.get_id_by_name(\"do_22.1\")"
   ]
  },
  {
   "cell_type": "markdown",
   "metadata": {
    "pycharm": {
     "name": "#%% md\n"
    }
   },
   "source": [
    "Output data schema for storing model in WML repository"
   ]
  },
  {
   "cell_type": "code",
   "execution_count": 8,
   "metadata": {
    "pycharm": {
     "name": "#%%\n"
    }
   },
   "outputs": [],
   "source": [
    "output_data_schema = [{'id': 'stest',\n",
    "                       'type': 'list',\n",
    "                       'fields': [{'name': 'age', 'type': 'float'},\n",
    "                                  {'name': 'sex', 'type': 'float'},\n",
    "                                  {'name': 'cp', 'type': 'float'},\n",
    "                                  {'name': 'restbp', 'type': 'float'},\n",
    "                                  {'name': 'chol', 'type': 'float'},\n",
    "                                  {'name': 'fbs', 'type': 'float'},\n",
    "                                  {'name': 'restecg', 'type': 'float'},\n",
    "                                  {'name': 'thalach', 'type': 'float'},\n",
    "                                  {'name': 'exang', 'type': 'float'},\n",
    "                                  {'name': 'oldpeak', 'type': 'float'},\n",
    "                                  {'name': 'slope', 'type': 'float'},\n",
    "                                  {'name': 'ca', 'type': 'float'},\n",
    "                                  {'name': 'thal', 'type': 'float'}]\n",
    "                      },\n",
    "                      {'id': 'teste2',\n",
    "                       'type': 'test',\n",
    "                       'fields': [{'name': 'age', 'type': 'float'},\n",
    "                                  {'name': 'sex', 'type': 'float'},\n",
    "                                  {'name': 'cp', 'type': 'float'},\n",
    "                                  {'name': 'restbp', 'type': 'float'},\n",
    "                                  {'name': 'chol', 'type': 'float'},\n",
    "                                  {'name': 'fbs', 'type': 'float'},\n",
    "                                  {'name': 'restecg', 'type': 'float'},\n",
    "                                  {'name': 'thalach', 'type': 'float'},\n",
    "                                  {'name': 'exang', 'type': 'float'},\n",
    "                                  {'name': 'oldpeak', 'type': 'float'},\n",
    "                                  {'name': 'slope', 'type': 'float'},\n",
    "                                  {'name': 'ca', 'type': 'float'},\n",
    "                                  {'name': 'thal', 'type': 'float'}]\n",
    "                      }]"
   ]
  },
  {
   "cell_type": "code",
   "execution_count": 9,
   "metadata": {
    "pycharm": {
     "name": "#%%\n"
    }
   },
   "outputs": [],
   "source": [
    "model_meta_props = {\n",
    "                        client.repository.ModelMetaNames.NAME: \"LOCALLY created DO model\",\n",
    "                        client.repository.ModelMetaNames.TYPE: \"do-docplex_22.1\",\n",
    "                        client.repository.ModelMetaNames.SOFTWARE_SPEC_ID: sofware_spec_id,\n",
    "                        client.repository.ModelMetaNames.OUTPUT_DATA_SCHEMA: output_data_schema\n",
    "                    }\n",
    "published_model = client.repository.store_model(model=model_path, meta_props=model_meta_props)"
   ]
  },
  {
   "cell_type": "markdown",
   "metadata": {},
   "source": [
    "**Note:** You can see that model is successfully stored in Watson Machine Learning Service."
   ]
  },
  {
   "cell_type": "markdown",
   "metadata": {},
   "source": [
    "### 3.2 Get model details\n"
   ]
  },
  {
   "cell_type": "code",
   "execution_count": 10,
   "metadata": {},
   "outputs": [
    {
     "name": "stdout",
     "output_type": "stream",
     "text": [
      "{\n",
      "  \"entity\": {\n",
      "    \"hybrid_pipeline_software_specs\": [],\n",
      "    \"schemas\": {\n",
      "      \"input\": [],\n",
      "      \"output\": [\n",
      "        {\n",
      "          \"fields\": [\n",
      "            {\n",
      "              \"name\": \"age\",\n",
      "              \"type\": \"float\"\n",
      "            },\n",
      "            {\n",
      "              \"name\": \"sex\",\n",
      "              \"type\": \"float\"\n",
      "            },\n",
      "            {\n",
      "              \"name\": \"cp\",\n",
      "              \"type\": \"float\"\n",
      "            },\n",
      "            {\n",
      "              \"name\": \"restbp\",\n",
      "              \"type\": \"float\"\n",
      "            },\n",
      "            {\n",
      "              \"name\": \"chol\",\n",
      "              \"type\": \"float\"\n",
      "            },\n",
      "            {\n",
      "              \"name\": \"fbs\",\n",
      "              \"type\": \"float\"\n",
      "            },\n",
      "            {\n",
      "              \"name\": \"restecg\",\n",
      "              \"type\": \"float\"\n",
      "            },\n",
      "            {\n",
      "              \"name\": \"thalach\",\n",
      "              \"type\": \"float\"\n",
      "            },\n",
      "            {\n",
      "              \"name\": \"exang\",\n",
      "              \"type\": \"float\"\n",
      "            },\n",
      "            {\n",
      "              \"name\": \"oldpeak\",\n",
      "              \"type\": \"float\"\n",
      "            },\n",
      "            {\n",
      "              \"name\": \"slope\",\n",
      "              \"type\": \"float\"\n",
      "            },\n",
      "            {\n",
      "              \"name\": \"ca\",\n",
      "              \"type\": \"float\"\n",
      "            },\n",
      "            {\n",
      "              \"name\": \"thal\",\n",
      "              \"type\": \"float\"\n",
      "            }\n",
      "          ],\n",
      "          \"id\": \"stest\",\n",
      "          \"type\": \"list\"\n",
      "        },\n",
      "        {\n",
      "          \"fields\": [\n",
      "            {\n",
      "              \"name\": \"age\",\n",
      "              \"type\": \"float\"\n",
      "            },\n",
      "            {\n",
      "              \"name\": \"sex\",\n",
      "              \"type\": \"float\"\n",
      "            },\n",
      "            {\n",
      "              \"name\": \"cp\",\n",
      "              \"type\": \"float\"\n",
      "            },\n",
      "            {\n",
      "              \"name\": \"restbp\",\n",
      "              \"type\": \"float\"\n",
      "            },\n",
      "            {\n",
      "              \"name\": \"chol\",\n",
      "              \"type\": \"float\"\n",
      "            },\n",
      "            {\n",
      "              \"name\": \"fbs\",\n",
      "              \"type\": \"float\"\n",
      "            },\n",
      "            {\n",
      "              \"name\": \"restecg\",\n",
      "              \"type\": \"float\"\n",
      "            },\n",
      "            {\n",
      "              \"name\": \"thalach\",\n",
      "              \"type\": \"float\"\n",
      "            },\n",
      "            {\n",
      "              \"name\": \"exang\",\n",
      "              \"type\": \"float\"\n",
      "            },\n",
      "            {\n",
      "              \"name\": \"oldpeak\",\n",
      "              \"type\": \"float\"\n",
      "            },\n",
      "            {\n",
      "              \"name\": \"slope\",\n",
      "              \"type\": \"float\"\n",
      "            },\n",
      "            {\n",
      "              \"name\": \"ca\",\n",
      "              \"type\": \"float\"\n",
      "            },\n",
      "            {\n",
      "              \"name\": \"thal\",\n",
      "              \"type\": \"float\"\n",
      "            }\n",
      "          ],\n",
      "          \"id\": \"teste2\",\n",
      "          \"type\": \"test\"\n",
      "        }\n",
      "      ]\n",
      "    },\n",
      "    \"software_spec\": {\n",
      "      \"id\": \"e51999ba-6452-5f1f-8287-17228b88b652\",\n",
      "      \"name\": \"do_22.1\"\n",
      "    },\n",
      "    \"type\": \"do-docplex_22.1\"\n",
      "  },\n",
      "  \"metadata\": {\n",
      "    \"created_at\": \"2024-09-02T13:21:53.097Z\",\n",
      "    \"id\": \"515fa384-5c14-4c30-ab74-d62893058997\",\n",
      "    \"modified_at\": \"2024-09-02T13:21:55.396Z\",\n",
      "    \"name\": \"LOCALLY created DO model\",\n",
      "    \"owner\": \"IBMid-270006YQEG\",\n",
      "    \"resource_key\": \"ebb51133-5460-4b9d-8c08-46d3dfc31c94\",\n",
      "    \"space_id\": \"b7bdf976-c858-49d4-8016-294f73aec947\"\n",
      "  },\n",
      "  \"system\": {\n",
      "    \"warnings\": []\n",
      "  }\n",
      "}\n"
     ]
    }
   ],
   "source": [
    "import json\n",
    "\n",
    "published_model_uid = client.repository.get_model_id(published_model)\n",
    "model_details = client.repository.get_details(published_model_uid)\n",
    "print(json.dumps(model_details, indent=2))"
   ]
  },
  {
   "cell_type": "markdown",
   "metadata": {},
   "source": [
    "### 3.3 Get all models"
   ]
  },
  {
   "cell_type": "code",
   "execution_count": 11,
   "metadata": {
    "pycharm": {
     "name": "#%%\n"
    }
   },
   "outputs": [
    {
     "data": {
      "text/html": [
       "<div>\n",
       "<style scoped>\n",
       "    .dataframe tbody tr th:only-of-type {\n",
       "        vertical-align: middle;\n",
       "    }\n",
       "\n",
       "    .dataframe tbody tr th {\n",
       "        vertical-align: top;\n",
       "    }\n",
       "\n",
       "    .dataframe thead th {\n",
       "        text-align: right;\n",
       "    }\n",
       "</style>\n",
       "<table border=\"1\" class=\"dataframe\">\n",
       "  <thead>\n",
       "    <tr style=\"text-align: right;\">\n",
       "      <th></th>\n",
       "      <th>ID</th>\n",
       "      <th>NAME</th>\n",
       "      <th>CREATED</th>\n",
       "      <th>TYPE</th>\n",
       "      <th>SPEC_STATE</th>\n",
       "      <th>SPEC_REPLACEMENT</th>\n",
       "    </tr>\n",
       "  </thead>\n",
       "  <tbody>\n",
       "    <tr>\n",
       "      <th>0</th>\n",
       "      <td>515fa384-5c14-4c30-ab74-d62893058997</td>\n",
       "      <td>LOCALLY created DO model</td>\n",
       "      <td>2024-09-02T13:21:53.002Z</td>\n",
       "      <td>do-docplex_22.1</td>\n",
       "      <td>supported</td>\n",
       "      <td></td>\n",
       "    </tr>\n",
       "  </tbody>\n",
       "</table>\n",
       "</div>"
      ],
      "text/plain": [
       "                                     ID                      NAME  \\\n",
       "0  515fa384-5c14-4c30-ab74-d62893058997  LOCALLY created DO model   \n",
       "\n",
       "                    CREATED             TYPE SPEC_STATE SPEC_REPLACEMENT  \n",
       "0  2024-09-02T13:21:53.002Z  do-docplex_22.1  supported                   "
      ]
     },
     "execution_count": 11,
     "metadata": {},
     "output_type": "execute_result"
    }
   ],
   "source": [
    "client.repository.list_models()"
   ]
  },
  {
   "cell_type": "markdown",
   "metadata": {},
   "source": [
    "<a id=\"deploy\"></a>\n",
    "## 4. Deploy in a Cloud\n",
    "In this section you will learn how to create batch deployment to create job using the watsonx.ai Client.\n",
    "\n",
    "You can use commands bellow to create batch deployment for stored model (web service).\n"
   ]
  },
  {
   "cell_type": "markdown",
   "metadata": {},
   "source": [
    "### 4.1 Create model deployment\n"
   ]
  },
  {
   "cell_type": "code",
   "execution_count": 12,
   "metadata": {
    "pycharm": {
     "name": "#%%\n"
    }
   },
   "outputs": [
    {
     "name": "stdout",
     "output_type": "stream",
     "text": [
      "\n",
      "\n",
      "######################################################################################\n",
      "\n",
      "Synchronous deployment creation for id: '515fa384-5c14-4c30-ab74-d62893058997' started\n",
      "\n",
      "######################################################################################\n",
      "\n",
      "\n",
      "ready.\n",
      "\n",
      "\n",
      "-----------------------------------------------------------------------------------------------\n",
      "Successfully finished deployment creation, deployment_id='4b549e44-6d12-4885-b19e-78136c0058a2'\n",
      "-----------------------------------------------------------------------------------------------\n",
      "\n",
      "\n"
     ]
    }
   ],
   "source": [
    "meta_data = {\n",
    "    client.deployments.ConfigurationMetaNames.NAME: \"deployment_DO\",\n",
    "    client.deployments.ConfigurationMetaNames.BATCH: {},\n",
    "    client.deployments.ConfigurationMetaNames.HARDWARE_SPEC: {\"name\": \"S\", \"num_nodes\": 1}\n",
    "\n",
    "}\n",
    "deployment_details = client.deployments.create(published_model_uid, meta_props=meta_data)"
   ]
  },
  {
   "cell_type": "markdown",
   "metadata": {},
   "source": [
    "**Note**: Here we use deployment url saved in published_model object. In next section, we show how to retrive deployment url from Watson Machine Learning instance.\n"
   ]
  },
  {
   "cell_type": "code",
   "execution_count": 13,
   "metadata": {},
   "outputs": [],
   "source": [
    "deployment_uid = client.deployments.get_id(deployment_details)"
   ]
  },
  {
   "cell_type": "markdown",
   "metadata": {},
   "source": [
    "Now, you can list all deployments."
   ]
  },
  {
   "cell_type": "code",
   "execution_count": 14,
   "metadata": {
    "pycharm": {
     "name": "#%%\n"
    }
   },
   "outputs": [
    {
     "data": {
      "text/html": [
       "<div>\n",
       "<style scoped>\n",
       "    .dataframe tbody tr th:only-of-type {\n",
       "        vertical-align: middle;\n",
       "    }\n",
       "\n",
       "    .dataframe tbody tr th {\n",
       "        vertical-align: top;\n",
       "    }\n",
       "\n",
       "    .dataframe thead th {\n",
       "        text-align: right;\n",
       "    }\n",
       "</style>\n",
       "<table border=\"1\" class=\"dataframe\">\n",
       "  <thead>\n",
       "    <tr style=\"text-align: right;\">\n",
       "      <th></th>\n",
       "      <th>ID</th>\n",
       "      <th>NAME</th>\n",
       "      <th>STATE</th>\n",
       "      <th>CREATED</th>\n",
       "      <th>ARTIFACT_TYPE</th>\n",
       "      <th>SPEC_STATE</th>\n",
       "      <th>SPEC_REPLACEMENT</th>\n",
       "    </tr>\n",
       "  </thead>\n",
       "  <tbody>\n",
       "    <tr>\n",
       "      <th>0</th>\n",
       "      <td>4b549e44-6d12-4885-b19e-78136c0058a2</td>\n",
       "      <td>deployment_DO</td>\n",
       "      <td>ready</td>\n",
       "      <td>2024-09-02T13:21:57.126Z</td>\n",
       "      <td>do</td>\n",
       "      <td>supported</td>\n",
       "      <td></td>\n",
       "    </tr>\n",
       "  </tbody>\n",
       "</table>\n",
       "</div>"
      ],
      "text/plain": [
       "                                     ID           NAME  STATE  \\\n",
       "0  4b549e44-6d12-4885-b19e-78136c0058a2  deployment_DO  ready   \n",
       "\n",
       "                    CREATED ARTIFACT_TYPE SPEC_STATE SPEC_REPLACEMENT  \n",
       "0  2024-09-02T13:21:57.126Z            do  supported                   "
      ]
     },
     "execution_count": 14,
     "metadata": {},
     "output_type": "execute_result"
    }
   ],
   "source": [
    "client.deployments.list()"
   ]
  },
  {
   "cell_type": "markdown",
   "metadata": {},
   "source": [
    "### 4.2 Get deployment details\n"
   ]
  },
  {
   "cell_type": "code",
   "execution_count": 15,
   "metadata": {
    "pycharm": {
     "name": "#%%\n"
    }
   },
   "outputs": [
    {
     "data": {
      "text/plain": [
       "{'entity': {'asset': {'id': '515fa384-5c14-4c30-ab74-d62893058997'},\n",
       "  'batch': {},\n",
       "  'custom': {},\n",
       "  'deployed_asset_type': 'do',\n",
       "  'hardware_spec': {'id': 'e7ed1d6c-2e89-42d7-aed5-863b972c1d2b',\n",
       "   'name': 'S',\n",
       "   'num_nodes': 1},\n",
       "  'name': 'deployment_DO',\n",
       "  'space_id': 'b7bdf976-c858-49d4-8016-294f73aec947',\n",
       "  'status': {'state': 'ready'}},\n",
       " 'metadata': {'created_at': '2024-09-02T13:21:57.126Z',\n",
       "  'id': '4b549e44-6d12-4885-b19e-78136c0058a2',\n",
       "  'modified_at': '2024-09-02T13:21:57.126Z',\n",
       "  'name': 'deployment_DO',\n",
       "  'owner': 'IBMid-270006YQEG',\n",
       "  'space_id': 'b7bdf976-c858-49d4-8016-294f73aec947'}}"
      ]
     },
     "execution_count": 15,
     "metadata": {},
     "output_type": "execute_result"
    }
   ],
   "source": [
    "client.deployments.get_details(deployment_uid)"
   ]
  },
  {
   "cell_type": "markdown",
   "metadata": {},
   "source": [
    "<a id=\"job\"></a>\n",
    "## 5. Create job\n",
    "\n",
    "You can create job to web-service deployment using `create_job` method."
   ]
  },
  {
   "cell_type": "markdown",
   "metadata": {},
   "source": [
    "Prepare test data "
   ]
  },
  {
   "cell_type": "code",
   "execution_count": 16,
   "metadata": {},
   "outputs": [],
   "source": [
    "# Import pandas library \n",
    "import pandas as pd \n",
    "  \n",
    "# Initialize list of lists \n",
    "diet_food = pd.DataFrame([ [\"Roasted Chicken\", 0.84, 0, 10],\n",
    "                [\"Spaghetti W/ Sauce\", 0.78, 0, 10],\n",
    "                [\"Tomato,Red,Ripe,Raw\", 0.27, 0, 10],\n",
    "                [\"Apple,Raw,W/Skin\", 0.24, 0, 10],\n",
    "                [\"Grapes\", 0.32, 0, 10],\n",
    "                [\"Chocolate Chip Cookies\", 0.03, 0, 10],\n",
    "                [\"Lowfat Milk\", 0.23, 0, 10],\n",
    "                [\"Raisin Brn\", 0.34, 0, 10],\n",
    "                [\"Hotdog\", 0.31, 0, 10]] , columns = [\"name\",\"unit_cost\",\"qmin\",\"qmax\"])\n",
    "\n",
    "diet_food_nutrients = pd.DataFrame([\n",
    "                [\"Spaghetti W/ Sauce\", 358.2, 80.2, 2.3, 3055.2, 11.6, 58.3, 8.2],\n",
    "                [\"Roasted Chicken\", 277.4, 21.9, 1.8, 77.4, 0, 0, 42.2],\n",
    "                [\"Tomato,Red,Ripe,Raw\", 25.8, 6.2, 0.6, 766.3, 1.4, 5.7, 1],\n",
    "                [\"Apple,Raw,W/Skin\", 81.4, 9.7, 0.2, 73.1, 3.7, 21, 0.3],\n",
    "                [\"Grapes\", 15.1, 3.4, 0.1, 24, 0.2, 4.1, 0.2],\n",
    "                [\"Chocolate Chip Cookies\", 78.1, 6.2, 0.4, 101.8, 0, 9.3, 0.9],\n",
    "                [\"Lowfat Milk\", 121.2, 296.7, 0.1, 500.2, 0, 11.7, 8.1],\n",
    "                [\"Raisin Brn\", 115.1, 12.9, 16.8, 1250.2, 4, 27.9, 4],\n",
    "                [\"Hotdog\", 242.1, 23.5, 2.3, 0, 0, 18, 10.4 ]\n",
    "            ] , columns = [\"Food\",\"Calories\",\"Calcium\",\"Iron\",\"Vit_A\",\"Dietary_Fiber\",\"Carbohydrates\",\"Protein\"])\n",
    "\n",
    "diet_nutrients = pd.DataFrame([\n",
    "                [\"Calories\", 2000, 2500],\n",
    "                [\"Calcium\", 800, 1600],\n",
    "                [\"Iron\", 10, 30],\n",
    "                [\"Vit_A\", 5000, 50000],\n",
    "                [\"Dietary_Fiber\", 25, 100],\n",
    "                [\"Carbohydrates\", 0, 300],\n",
    "                [\"Protein\", 50, 100]\n",
    "            ], columns = [\"name\",\"qmin\",\"qmax\"])"
   ]
  },
  {
   "cell_type": "code",
   "execution_count": 17,
   "metadata": {},
   "outputs": [],
   "source": [
    "job_payload_ref = {\n",
    "    client.deployments.DecisionOptimizationMetaNames.INPUT_DATA: [\n",
    "        {\n",
    "            \"id\": \"diet_food.csv\",\n",
    "            \"values\": diet_food\n",
    "        },\n",
    "        {\n",
    "            \"id\": \"diet_food_nutrients.csv\",\n",
    "            \"values\": diet_food_nutrients\n",
    "        },\n",
    "        {\n",
    "            \"id\": \"diet_nutrients.csv\",\n",
    "            \"values\": diet_nutrients\n",
    "        }\n",
    "    ],\n",
    "    client.deployments.DecisionOptimizationMetaNames.OUTPUT_DATA: [\n",
    "        {\n",
    "            \"id\": \".*.csv\"\n",
    "        }\n",
    "    ]\n",
    "}"
   ]
  },
  {
   "cell_type": "markdown",
   "metadata": {},
   "source": [
    "Create job using watsonx.ai client"
   ]
  },
  {
   "cell_type": "code",
   "execution_count": 18,
   "metadata": {},
   "outputs": [],
   "source": [
    "job = client.deployments.create_job(deployment_uid, meta_props=job_payload_ref)"
   ]
  },
  {
   "cell_type": "markdown",
   "metadata": {},
   "source": [
    "Checking created job status and calculated KPI."
   ]
  },
  {
   "cell_type": "code",
   "execution_count": 19,
   "metadata": {},
   "outputs": [
    {
     "name": "stdout",
     "output_type": "stream",
     "text": [
      "KPI: 2000.0\n"
     ]
    }
   ],
   "source": [
    "import time\n",
    "\n",
    "job_id = client.deployments.get_job_id(job)\n",
    "\n",
    "elapsed_time = 0\n",
    "while client.deployments.get_job_status(job_id).get('state') != 'completed' and elapsed_time < 300:\n",
    "    elapsed_time += 10\n",
    "    time.sleep(10)\n",
    "if client.deployments.get_job_status(job_id).get('state') == 'completed':\n",
    "    job_details_do = client.deployments.get_job_details(job_id)\n",
    "    kpi = job_details_do['entity']['decision_optimization']['solve_state']['details']['KPI.Total Calories']\n",
    "    print(f\"KPI: {kpi}\")\n",
    "else:\n",
    "    print(\"Job hasn't completed successfully in 5 minutes.\")"
   ]
  },
  {
   "cell_type": "markdown",
   "metadata": {},
   "source": [
    "<a id=\"cleanup\"></a>\n",
    "## 6. Clean up"
   ]
  },
  {
   "cell_type": "markdown",
   "metadata": {},
   "source": [
    "If you want to clean up all created assets:\n",
    "- experiments\n",
    "- trainings\n",
    "- pipelines\n",
    "- model definitions\n",
    "- models\n",
    "- functions\n",
    "- deployments\n",
    "\n",
    "follow up this sample [notebook](https://github.com/IBM/watson-machine-learning-samples/blob/master/cloud/notebooks/python_sdk/instance-management/Machine%20Learning%20artifacts%20management.ipynb)."
   ]
  },
  {
   "cell_type": "markdown",
   "metadata": {},
   "source": [
    "<a id=\"summary\"></a>\n",
    "## 7. Summary and next steps"
   ]
  },
  {
   "cell_type": "markdown",
   "metadata": {},
   "source": [
    "You've successfully completed this notebook!\n",
    "\n",
    "You've learned how to:\n",
    "\n",
    "- work with the watsonx.ai client\n",
    "- upload your model on Watson Machine Learning\n",
    "- create a deployment\n",
    "- create and monitor a job with inline data for your deployed model\n",
    "\n",
    "Check out our online documentation for more samples, tutorials and documentation:\n",
    "* <a href=\"https://dataplatform.cloud.ibm.com/docs/content/wsj/getting-started/welcome-main.html?context=cpdaas\" target=\"_blank\" rel=\"noopener noreferrer\">IBM Cloud Pak for Data as a Service documentation</a>\n",
    "* <a href=\"https://dataplatform.cloud.ibm.com/docs/content/wsj/getting-started/welcome-main.html?context=wx\" target=\"_blank\" rel=\"noopener noreferrer\">IBM watsonx.ai documentation</a>"
   ]
  },
  {
   "cell_type": "markdown",
   "metadata": {},
   "source": [
    "### Authors\n",
    "\n",
    "**Wojciech Jargielo**, Software Engineer"
   ]
  },
  {
   "cell_type": "markdown",
   "metadata": {},
   "source": [
    "<hr>\n",
    "Copyright © 2020-2024 IBM. This notebook and its source code are released under the terms of the MIT License."
   ]
  }
 ],
 "metadata": {
  "kernelspec": {
   "display_name": "Python 3.10",
   "language": "python",
   "name": "python3"
  },
  "language_info": {
   "codemirror_mode": {
    "name": "ipython",
    "version": 3
   },
   "file_extension": ".py",
   "mimetype": "text/x-python",
   "name": "python",
   "nbconvert_exporter": "python",
   "pygments_lexer": "ipython3",
   "version": "3.10.14"
  },
  "pycharm": {
   "stem_cell": {
    "cell_type": "raw",
    "metadata": {
     "collapsed": false
    },
    "source": []
   }
  }
 },
 "nbformat": 4,
 "nbformat_minor": 4
}
