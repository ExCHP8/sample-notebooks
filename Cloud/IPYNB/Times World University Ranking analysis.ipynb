{
 "cells": [
  {
   "cell_type": "markdown",
   "metadata": {},
   "source": [
    "<div style=\"background:#F5F7FA; height:100px; padding: 2em; font-size:14px;\">\n",
    "<span style=\"font-size:18px;color:#152935;\">Want to do more?</span><span style=\"border: 1px solid #3d70b2;padding: 15px;float:right;margin-right:40px; color:#3d70b2; \"><a href=\"https://ibm.co/wsnotebooks\" target=\"_blank\" style=\"color: #3d70b2;text-decoration: none;\">Sign Up</a></span><br>\n",
    "<span style=\"color:#5A6872;\"> Try out this notebook with your free trial of IBM Watson Studio.</span>\n",
    "</div>"
   ]
  },
  {
   "cell_type": "markdown",
   "metadata": {},
   "source": [
    "# Analyze the Times Higher Education World University Rankings for 2016"
   ]
  },
  {
   "cell_type": "markdown",
   "metadata": {},
   "source": [
    "### This notebook uses Times Higher Education (THE) World University rankings for 2016 data to analyze the following: \n",
    "- How the performance of the universities across different indicators is evaluated\n",
    "- Which and where are the best universities\n",
    "- What makes these universities stand out from the rest\n",
    "\n",
    "This notebook runs on Python 3."
   ]
  },
  {
   "cell_type": "markdown",
   "metadata": {},
   "source": [
    "## Table of contents\n",
    "1. [Import the libraries](#libraries)\n",
    "2. [Import the dataset](#dataset)\n",
    "3. [Tidy up the data](#tidy)\n",
    "4. [Analyze the ranking data](#rank)\n",
    "5. [Analyze the performance indicators](#performance)\n",
    "6. [Remove outliers](#outliers)\n",
    "7. [Correlation between the different indicators](#correlation)\n",
    "8. [Next steps](#nextsteps)"
   ]
  },
  {
   "cell_type": "markdown",
   "metadata": {},
   "source": [
    "## 1. Import the libraries<a id=\"libraries\"></a>"
   ]
  },
  {
   "cell_type": "code",
   "execution_count": null,
   "metadata": {},
   "outputs": [],
   "source": [
    "# Import libraries and suppress warnings\n",
    "import pandas as pd\n",
    "import numpy as np\n",
    "import matplotlib.pyplot as plt\n",
    "import seaborn as sns\n",
    "import warnings\n",
    "%matplotlib inline\n",
    "warnings.filterwarnings('ignore')"
   ]
  },
  {
   "cell_type": "markdown",
   "metadata": {},
   "source": [
    "## 2. Import the dataset<a id=\"dataset\"></a>\n",
    "\n",
    "Download the THE World University Ranking 2016 dataset as follows:\n",
    "1. Go <a href=\"https://www.kaggle.com/mylesoneill/world-university-rankings/data\" target=\"_blank\" rel=\"noopener no referrer\">Kaggle: World University Rankings</a>, log in, and then download `timesData.csv` to your computer.\n",
    "3. Load the `timesData.csv` file into your notebook. Click the **Data** icon on the notebook action bar. Drop each file into the box or browse to select the file. The file is loaded to your object storage and appears in the Data Assets section of the project. For more information, see <a href=\"https://datascience.ibm.com/docs/content/analyze-data/load-and-access-data.html\" target=\"_blank\" rel=\"noopener noreferrer\">Load and access data</a>.\n",
    "4. To load the data from the `timesData.csv` file into a Pandas DataFrame, click in the next code cell, click the **Code Snippets** icon -> **Read data**, and browse your project to locate the dataset. Then select **Load as** > **Pandas DataFrame**.\n",
    "6. Run the cell."
   ]
  },
  {
   "cell_type": "code",
   "execution_count": null,
   "metadata": {},
   "outputs": [],
   "source": [
    "# empty cell\n",
    "\n"
   ]
  },
  {
   "cell_type": "markdown",
   "metadata": {},
   "source": [
    "We will consider the year 2016 for our analysis because according to the detailed methodology <a href=\"https://www.timeshighereducation.com/news/ranking-methodology-2016\" target=\"_blank\" rel=\"noopener no referrer\">here</a>, the underlying data for calculating rankings changed in 2016."
   ]
  },
  {
   "cell_type": "code",
   "execution_count": null,
   "metadata": {},
   "outputs": [],
   "source": [
    "df1 = df_data_1[df_data_1['year'] == 2016]"
   ]
  },
  {
   "cell_type": "code",
   "execution_count": null,
   "metadata": {},
   "outputs": [],
   "source": [
    "# Lets get a brief overview of the data\n",
    "df1.info()"
   ]
  },
  {
   "cell_type": "markdown",
   "metadata": {},
   "source": [
    "As we can see, the THE dataset captures a lot of information about each university, but note these two observations:\n",
    "- Many columns which should be of type `int`,`float` are instead of type `object`, which means we need to examine them more closely before doing any analysis\n",
    "- Data is missing from some columns\n",
    "\n",
    "Let's have a look at the data:"
   ]
  },
  {
   "cell_type": "code",
   "execution_count": null,
   "metadata": {},
   "outputs": [],
   "source": [
    "df1.describe()"
   ]
  },
  {
   "cell_type": "markdown",
   "metadata": {},
   "source": [
    "## 3. Tidy up the data<a id=\"tidy\"></a>\n",
    "\n",
    "If a value for the indicator **income** is not provided, we assign it a value of  <i>20</i>. This is in line with THE methodology explained <a href=\"https://www.timeshighereducation.com/news/ranking-methodology-2016#survey-answer\" target=\"_blank\" rel=\"noopener no referrer\">here</a>: \n",
    "\n",
    "<i>On the rare occasions when a particular data point is not provided – which affects only low-weighted indicators such as industrial income – we enter a low estimate between the average value of the indicators and the lowest value reported: the 25th percentile of the other indicators. By doing this, we avoid penalising an institution too harshly with a “zero” value for data that it overlooks or does not provide, but we do not reward it for withholding them.</i>"
   ]
  },
  {
   "cell_type": "code",
   "execution_count": null,
   "metadata": {},
   "outputs": [],
   "source": [
    "for x in range(len(df1)):\n",
    "    idx = df1.iloc[x].name\n",
    "    inc = df1['income'].iloc[x]\n",
    "    students = df1['num_students'].iloc[x]\n",
    "    int_students = df1['international_students'].iloc[x]\n",
    "    fmr = df1['female_male_ratio'].iloc[x]\n",
    "    \n",
    "    # Convert '-' to NaN in income\n",
    "    if \"-\" in inc:\n",
    "        df1.at[idx, 'income'] = 20 # Arbitrary low value\n",
    "    \n",
    "    # Format the numbers properly\n",
    "    if type(students) != float:\n",
    "        students1 = students.replace(\",\", \"\")\n",
    "        df1.at[idx, 'num_students'] = students1\n",
    "        \n",
    "    # Remove the '%' sign \n",
    "    if int_students and type(int_students) != float:\n",
    "        int_students1 = int_students.replace(\"%\", \"\")\n",
    "        df1.at[idx, 'international_students'] = int_students1\n",
    "        \n",
    "    # Convert ratios of the form '43:57' to decimal ratios and convert '-' to NaN\n",
    "    if type(fmr) != float:\n",
    "        if \":\" in fmr:\n",
    "            arr2 = [float(x) for x in fmr.split() if x.isdigit()]\n",
    "            if arr2[0] != 0 and arr2[1] != 0:\n",
    "                ratio1 = arr2[0]/arr2[1]\n",
    "                df1.at[idx, 'female_male_ratio'] = ratio1\n",
    "            else:\n",
    "                df1.at[idx, 'female_male_ratio'] = 100.0 # One university has all female students         \n",
    "        else:\n",
    "            df1.at[idx, 'female_male_ratio'] = np.NaN\n",
    "            \n"
   ]
  },
  {
   "cell_type": "code",
   "execution_count": null,
   "metadata": {},
   "outputs": [],
   "source": [
    "# Let's change the type of each of the columns to float, for easier analysis.\n",
    "df1['international'] = df1['international'].astype(float)\n",
    "df1['income'] = df1['income'].astype(float)\n",
    "df1['num_students'] = df1['num_students'].astype(float)\n",
    "df1['international_students'] = df1['international_students'].astype(float)\n",
    "df1['female_male_ratio'] = df1['female_male_ratio'].astype(float)"
   ]
  },
  {
   "cell_type": "markdown",
   "metadata": {},
   "source": [
    "## 4. Analyze the ranking data<a id=\"rank\"></a>\n",
    "\n",
    "To calculate the final score for a university, different performance indicators have been given different weighting by THE. Let's analyze the data and do the following:\n",
    "- Calculate how many types of ranks we have currently\n",
    "- Calculate the total score for each entry based on the formula provided by THE\n",
    "- Sort the universities by the new score\n",
    "- Calculate how many universities have an equal score\n",
    "- Find out which are the best universities in the world according to THE\n",
    "- Visualize which countries have the best universities"
   ]
  },
  {
   "cell_type": "markdown",
   "metadata": {},
   "source": [
    "<b>Calculate how many types of ranks we have currently:</b>"
   ]
  },
  {
   "cell_type": "code",
   "execution_count": null,
   "metadata": {
    "scrolled": false
   },
   "outputs": [],
   "source": [
    "rank_int = [x for x in df1[\"world_rank\"] if x.isdigit()]\n",
    "rank_eq = [x for x in df1[\"world_rank\"] if \"=\" in x]\n",
    "rank_hyph = [x for x in df1[\"world_rank\"] if \"-\" in x]\n",
    "print(\"Simple numeric ranks \", len(rank_int))\n",
    "print(\"Ranks with = sign \", len(rank_eq))\n",
    "print(\"Ranks with - sign \", len(rank_hyph))\n",
    "\n",
    "print(sorted(set(rank_hyph)))"
   ]
  },
  {
   "cell_type": "markdown",
   "metadata": {},
   "source": [
    "Only the top 200 universities are actually given ranks. The rest are grouped into classes.\n",
    "Some universities are ranked equally."
   ]
  },
  {
   "cell_type": "markdown",
   "metadata": {},
   "source": [
    "<b>Calculate the total score for each entry based on the formula provided by THE:</b>"
   ]
  },
  {
   "cell_type": "code",
   "execution_count": null,
   "metadata": {},
   "outputs": [],
   "source": [
    "for x in range(len(df1)):\n",
    "    idx = df1.iloc[x].name  \n",
    "    new_score = df1.loc[idx,\"teaching\"]*0.3 + df1.loc[idx,\"research\"]*0.3 + df1.loc[idx,\"citations\"]*0.3 + df1.loc[idx,\"international\"]*0.075 + df1.loc[idx,\"income\"]*0.025\n",
    "    df1.at[idx, 'total_score'] = new_score\n",
    "    "
   ]
  },
  {
   "cell_type": "markdown",
   "metadata": {},
   "source": [
    "<b>Sort the universities by the new score:</b>"
   ]
  },
  {
   "cell_type": "code",
   "execution_count": null,
   "metadata": {},
   "outputs": [],
   "source": [
    "df1.sort_values('total_score', ascending=False, inplace=True)"
   ]
  },
  {
   "cell_type": "markdown",
   "metadata": {},
   "source": [
    "<b>Calculate how many universities have an equal score:</b>"
   ]
  },
  {
   "cell_type": "code",
   "execution_count": null,
   "metadata": {},
   "outputs": [],
   "source": [
    "dups = df1[\"total_score\"].value_counts()\n",
    "dups[dups > 1]"
   ]
  },
  {
   "cell_type": "code",
   "execution_count": null,
   "metadata": {},
   "outputs": [],
   "source": [
    "df1.iloc[:, 0] = np.arange(1, 801)"
   ]
  },
  {
   "cell_type": "markdown",
   "metadata": {},
   "source": [
    "Increase the rank of one of the universities having equal score by 0.1. This is to enable further analysis, and also to ensure that equally scored universities are not ranked differently (for example, 39 and 40)."
   ]
  },
  {
   "cell_type": "code",
   "execution_count": null,
   "metadata": {},
   "outputs": [],
   "source": [
    "arr1 = []\n",
    "\n",
    "for x in range(len(df1)):\n",
    "    rank = x + 1\n",
    "    score = df1['total_score'].iloc[x]\n",
    "    idx = df1.iloc[x].name    \n",
    "    if score not in arr1:\n",
    "        arr1.append(score)\n",
    "    else:\n",
    "        rank1 = rank + 0.1\n",
    "        df1.at[idx, 'world_rank'] = rank1\n"
   ]
  },
  {
   "cell_type": "markdown",
   "metadata": {},
   "source": [
    "<b>Now let's see which are the best universities in the world according to THE:</b>"
   ]
  },
  {
   "cell_type": "code",
   "execution_count": null,
   "metadata": {
    "scrolled": true
   },
   "outputs": [],
   "source": [
    "df1[df1[\"world_rank\"] <= 10].sort_values([\"world_rank\"])"
   ]
  },
  {
   "cell_type": "markdown",
   "metadata": {},
   "source": [
    "All of them have a very high score in <b>research</b>, <b>teaching</b> and <b>citations</b>."
   ]
  },
  {
   "cell_type": "markdown",
   "metadata": {},
   "source": [
    "<b>Visualize which countries have the best universities:</b>"
   ]
  },
  {
   "cell_type": "code",
   "execution_count": null,
   "metadata": {},
   "outputs": [],
   "source": [
    "df1[\"country\"][df1[\"world_rank\"] < 200].value_counts().plot(kind='bar',color='gold')"
   ]
  },
  {
   "cell_type": "markdown",
   "metadata": {},
   "source": [
    "The US and UK lead the list by far, followed by Germany.\n",
    "\n",
    "Take a new look at the data we now have:"
   ]
  },
  {
   "cell_type": "code",
   "execution_count": null,
   "metadata": {
    "scrolled": true
   },
   "outputs": [],
   "source": [
    "df1.describe()"
   ]
  },
  {
   "cell_type": "markdown",
   "metadata": {},
   "source": [
    "## 5. Analyze the performance indicators<a id=\"performance\"></a>\n",
    "\n",
    "Analyze the relationship between ranking and these performance indicators:\n",
    "- Citations\n",
    "- Research\n",
    "- Teaching\n",
    "- Income\n",
    "- International\n",
    "- Number of students\n",
    "- Student to staff ratio\n",
    "- International students\n",
    "- Female to male student ration"
   ]
  },
  {
   "cell_type": "code",
   "execution_count": null,
   "metadata": {},
   "outputs": [],
   "source": [
    "cols = [\"citations\", \"research\", \"teaching\", \"income\", \"international\", \"num_students\", \"student_staff_ratio\", \"international_students\", \"female_male_ratio\"]\n",
    "for col in cols:\n",
    "    df2 = df1[pd.notnull(df1[col])]\n",
    "    plt.figure()\n",
    "    plt.plot(df2[\"world_rank\"], df2[col], \"o\")\n",
    "    plt.xlabel(\"Rank\", fontsize=12)\n",
    "    plt.ylabel(col, fontsize=12)"
   ]
  },
  {
   "cell_type": "markdown",
   "metadata": {},
   "source": [
    "## 6. Remove outliers<a id=\"outlier\"></a>\n",
    "\n",
    "Based on the graphs above, we can clearly see some outliers in the data. These are:\n",
    "- Universities with huge number of students\n",
    "- A female-only university\n",
    "\n",
    "Remove the outliers before proceeding:"
   ]
  },
  {
   "cell_type": "code",
   "execution_count": null,
   "metadata": {},
   "outputs": [],
   "source": [
    "df1[df1[\"num_students\"] > 200000].sort_values([\"num_students\"], ascending=[False])"
   ]
  },
  {
   "cell_type": "code",
   "execution_count": null,
   "metadata": {},
   "outputs": [],
   "source": [
    "df1[df1[\"student_staff_ratio\"] > 100].sort_values([\"student_staff_ratio\"], ascending=[False])"
   ]
  },
  {
   "cell_type": "code",
   "execution_count": null,
   "metadata": {},
   "outputs": [],
   "source": [
    "df1[df1[\"international_students\"] > 80].sort_values([\"international_students\"], ascending=[False])"
   ]
  },
  {
   "cell_type": "code",
   "execution_count": null,
   "metadata": {},
   "outputs": [],
   "source": [
    "df1[df1[\"female_male_ratio\"] > 90].sort_values([\"female_male_ratio\"], ascending=[False])"
   ]
  },
  {
   "cell_type": "code",
   "execution_count": null,
   "metadata": {},
   "outputs": [],
   "source": [
    "drop_idx = [2413, 2430, 2562, 2411, 2227]\n",
    "df1 = df1.drop(drop_idx, axis=0)"
   ]
  },
  {
   "cell_type": "markdown",
   "metadata": {},
   "source": [
    "## 7. Correlation between the different indicators<a id=\"correlation\"></a>\n",
    "Now we can look at the correlation between ranking score and performance indicators."
   ]
  },
  {
   "cell_type": "code",
   "execution_count": null,
   "metadata": {},
   "outputs": [],
   "source": [
    "corrmat = df1.corr()\n",
    "f, ax = plt.subplots(figsize=(12, 7))\n",
    "sns.heatmap(corrmat, vmax=.5, square=True);"
   ]
  },
  {
   "cell_type": "markdown",
   "metadata": {},
   "source": [
    "This is a helpful graph! A number of observations here:\n",
    "-  The rank of a university is most negatively correlated to the <b>citation</b> score, that is, the higher the citation score, the better the rank.\n",
    "-  The citation score is highly correlated with <b>teaching</b>/<b>research</b>, which is expected.\n",
    "-  <b>international_students</b> is highly correlated to <b>teaching</b>/<b>research</b>. Again, this is expected, because international students are attracted by a university's research and faculty reputation.\n",
    "-  <b>international_students</b> is highly correlated to <b>international</b>, which represents the international outlook of the university (including staff and international research collaborations).\n",
    "-  <b>num_students</b> is highly correlated to <b>student_staff_ratio</b>. Of course, the greater the number of students, the greater the student_staff_ratio.\n",
    "-  <b>student_staff_ratio</b> is slightly negatively correlated to <b>teaching</b>. Teaching quality suffers if there is a higher number of students per teacher.\n",
    "-  <b>research</b> is correlated to <b>income</b>. Because <b>income</b> is a measure of how much <i>\"research income an institution earns from industry\"</i>, hence better the research, more the income\n",
    "-  An interesting slight negative correlation between <b>female_male_ratio</b> and <b>income</b>, which means more males study in higher income universities. As income is directly correlated to the quality of research, this seems to suggest that more males are into research (across disciplines) than females."
   ]
  },
  {
   "cell_type": "markdown",
   "metadata": {},
   "source": [
    "However, the highest correlation is between <b>teaching</b> and <b>research</b>. This is an expected correlation, but THE considers teaching and research to be different indicators when calculating the final score and gives them equal weighting. \n",
    "What if we simply omit the research score and double the weighting for teaching? Do the scores change by much?"
   ]
  },
  {
   "cell_type": "code",
   "execution_count": null,
   "metadata": {},
   "outputs": [],
   "source": [
    "mod_score = []\n",
    "\n",
    "for x in range(len(df1)):\n",
    "    idx = df1.iloc[x].name  \n",
    "    new_score = df1.loc[idx,\"teaching\"]*0.6 + df1.loc[idx,\"citations\"]*0.3 + df1.loc[idx,\"international\"]*0.075 + df1.loc[idx,\"income\"]*0.025\n",
    "    mod_score.append(new_score)"
   ]
  },
  {
   "cell_type": "code",
   "execution_count": null,
   "metadata": {},
   "outputs": [],
   "source": [
    "df1['total_score'] = df1['total_score'].astype(float)\n",
    "np.corrcoef(mod_score, df1[\"total_score\"])[0,1]"
   ]
  },
  {
   "cell_type": "markdown",
   "metadata": {
    "collapsed": true
   },
   "source": [
    "There is still a 99% correlation! It seems THE can save itself some work and make its surveys simpler by removing the research parameter because this parameter does not significantly alter the score/rankings."
   ]
  },
  {
   "cell_type": "markdown",
   "metadata": {},
   "source": [
    "## 8. Next steps <a id=\"nextsteps\"></a>"
   ]
  },
  {
   "cell_type": "markdown",
   "metadata": {},
   "source": [
    "Here are some suggestions about how we could further analyze the ranking data:\n",
    "- Explore the relationship between research and citation; does a high research score always mean a high citation score?\n",
    "- Explore the gender ratio and research score; are there actually less females in research fields? Filter out science universities from the list and check the gender ratio.\n",
    "- Compare the rankings to the 2017 rankings.\n",
    "- Correlate the rankings to the countries' education budget. This requires you to get the country expenditure details."
   ]
  },
  {
   "cell_type": "markdown",
   "metadata": {},
   "source": [
    "### Citations\n",
    "- <a href=\"https://www.timeshighereducation.com/world-university-rankings\" target=\"_blank\" rel=\"noopener no referrer\">THE world university rankings</a>\n",
    "- <a href=\"https://www.timeshighereducation.com/news/ranking-methodology-2016\" target=\"_blank\" rel=\"noopener no referrer\">THE world university ranking methodology 2016</a>\n",
    "- <a href=\"https://www.kaggle.com/mylesoneill/world-university-rankings/data\" target=\"_blank\" rel=\"noopener no referrer\">World University Rankings:\n",
    "Investigate the best universities in the world</a>"
   ]
  },
  {
   "cell_type": "markdown",
   "metadata": {},
   "source": [
    "### Author\n",
    "**Vaibhav Mathur** is an QA Specialist at IBM, India."
   ]
  },
  {
   "cell_type": "markdown",
   "metadata": {},
   "source": [
    "Copyright © IBM Corp. 2017, 2018. This notebook and its source code are released under the terms of the MIT License."
   ]
  }
 ],
 "metadata": {
  "kernelspec": {
   "display_name": "Python 3.10",
   "language": "python",
   "name": "python3"
  },
  "language_info": {
   "codemirror_mode": {
    "name": "ipython",
    "version": 3
   },
   "file_extension": ".py",
   "mimetype": "text/x-python",
   "name": "python",
   "nbconvert_exporter": "python",
   "pygments_lexer": "ipython3",
   "version": "3.10.13"
  },
  "widgets": {
   "state": {},
   "version": "1.1.2"
  }
 },
 "nbformat": 4,
 "nbformat_minor": 1
}
