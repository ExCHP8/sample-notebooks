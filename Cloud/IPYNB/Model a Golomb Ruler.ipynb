{
 "cells": [
  {
   "cell_type": "markdown",
   "metadata": {},
   "source": [
    "<div style=\"background:#F5F7FA; height:100px; padding: 2em; font-size:14px;\">\n",
    "<span style=\"font-size:18px;color:#152935;\">Want to do more?</span><span style=\"border: 1px solid #3d70b2;padding: 15px;float:right;margin-right:40px; color:#3d70b2; \"><a href=\"https://ibm.co/wsnotebooks\" target=\"_blank\" style=\"color: #3d70b2;text-decoration: none;\">Sign Up</a></span><br>\n",
    "<span style=\"color:#5A6872;\"> Try out this notebook with your free trial of IBM Watson Studio.</span>\n",
    "</div>\n"
   ]
  },
  {
   "cell_type": "markdown",
   "metadata": {},
   "source": [
    "# Model a Golomb ruler problem by using decision optimization\n",
    "\n",
    "Decision optimization is used for planning decisions, scheduling, and helping you make a data-based decision when large numbers of options are up for consideration.\n",
    "\n",
    "This Python notebook shows you how to set up a decision optimization engine and create a constraint programming model that calculates and outputs a Golomb ruler.\n",
    "\n",
    "In this notebook, you will model the Golomb ruler problem by using the <a href=\"https://rawgit.com/IBMDecisionOptimization/docplex-doc/master/docs/index.html\" target=\"_blank\" rel=\"noopener noreferrer\">Decision Optimization for Python</a> API and solve it in IBM Decision Optimization on Cloud.\n",
    "\n",
    "This notebook runs on Python 2.0 or Python 3.5 with Spark 2.1.\n",
    "\n",
    "Table of contents:\n",
    "\n",
    "-  [What is a Golomb ruler?](#golomb_ruler)\n",
    "*  [How can decision optimization solve a problem](#decision_optimization)\n",
    "*  [Model a Golomb ruler problem](#model_problem)\n",
    "    *  [Step 1: Load library](#load_library)\n",
    "    *  [Step 2: Set up the optimization engine](#set_up_prescriptive_engine)\n",
    "    -  [Step 3: Model the input data](#model_data)\n",
    "    -  [Step 4: Define the optimization model](#define_prescriptive_model)\n",
    "        * [Define the decision variables](#define_variables)\n",
    "        * [Express the business constraints](#express_constraints)\n",
    "        * [Express the objective](#express_objective)\n",
    "        * [Solve the model](#solve_model)\n",
    "    *  [Step 5: Output the results](#output_results)\n",
    "*  [Summary](#summary)\n",
    "****"
   ]
  },
  {
   "cell_type": "markdown",
   "metadata": {},
   "source": [
    "<a id=\"golomb_ruler\"></a>\n",
    "## What is a Golomb ruler?\n",
    "\n",
    "A Golomb ruler is a sequence of non-negative integers such that the difference of two integer pairs in all sequences is distinct. Golomb rulers are used in many applications, including radio astronomy, information theory, and decision optimization to measure the distance between objects. \n",
    "\n",
    "For example:\n",
    "    \n",
    "-  In selecting radio frequencies to reduce the effects of intermodulation interference\n",
    "-  In detecting and correcting errors in radio astronomy\n",
    "-  In designing conference rooms, to maximize the number of possible configurations with a minimum of partitions\n",
    "-  For positioning radio telescopes for optimal performance using the minimum number of telescopes on the least amount of land\n",
    "-  For optimal positioning of x-ray sensors   \n",
    "\n",
    "The following examples show Golomb rulers of the order 4, and length 6 and 11.\n",
    "\n",
    "<br/>\n",
    "<img src=\"https://upload.wikimedia.org/wikipedia/commons/thumb/0/05/Golomb_Ruler-4.svg/220px-Golomb_Ruler-4.svg.png\" align=\"left\">\n",
    "<img src=\"https://upload.wikimedia.org/wikipedia/commons/thumb/5/52/Golomb_ruler_conference_room.svg/300px-Golomb_ruler_conference_room.svg.png\" align=\"middle\">\n"
   ]
  },
  {
   "cell_type": "markdown",
   "metadata": {},
   "source": [
    "<a id=\"decision_optimization\"></a>\n",
    "## How can decision optimization solve a problem?\n",
    "\n",
    "In decision optimization, actions are recommended based on the outcomes you desire, taking into account specific scenarios, resources, and knowledge of past and current events. Analyzing data to predict future outcomes and suggesting the optimal way to handle future outcomes can help you to make better decisions in uncertain situations and gain a strong competitive advantage.\n",
    "\n",
    " \n",
    "Examples where decision otimization modeling can help:\n",
    "\n",
    "-  Automating complex decisions and trade-offs to better manage limited resources\n",
    "-  Taking advantage of a future opportunity or mitigating a future risk\n",
    "-  Proactively updating recommendations based on changing events\n",
    "-  Meeting operational goals, increasing customer loyalty, preventing threats and fraud, and optimizing business processes\n"
   ]
  },
  {
   "cell_type": "markdown",
   "metadata": {},
   "source": [
    "<a id=\"model_problem\"></a>\n",
    "## Model a Golomb ruler problem\n",
    "\n",
    "Constraint programming is a technology that is used in solving complex decision optimization problems. Constraint programming is a programming paradigm that allows you to express a problem by using:\n",
    "\n",
    "-  The unknowns of the problem - the *variables*\n",
    "-  The constraints or rules of the problem, the mathematical expressions that link the variables - the *constraints*\n",
    "-  What you optimize - the *objective function*\n",
    "\n",
    "\n",
    "All this information, plus some configuration parameters, is aggregated into a single object called a *model*. \n",
    "\n",
    "In this notebook, you will learn how to solve a Golomb ruler problem with IBM Constraint Programming Optimizer, using the *DOcplex* Python modeling API."
   ]
  },
  {
   "cell_type": "markdown",
   "metadata": {},
   "source": [
    "<a id=\"load_library\"></a>\n",
    "### Step 1: Load library\n",
    "\n",
    "Run the following code to install the Decision Optimization CPLEX Modeling library.  The *DOcplex* library contains the two modeling packages, Mathematical Programming and Constraint Programming."
   ]
  },
  {
   "cell_type": "code",
   "execution_count": null,
   "metadata": {
    "scrolled": true
   },
   "outputs": [],
   "source": [
    "import sys\n",
    "try:\n",
    "    import docplex.cp\n",
    "except:\n",
    "    if hasattr(sys, 'real_prefix'):\n",
    "        #we are in a virtual env.\n",
    "        !pip install docplex\n",
    "    else:\n",
    "        !pip install --user docplex"
   ]
  },
  {
   "cell_type": "markdown",
   "metadata": {},
   "source": [
    "Note that the global `docplex` package contains the subpackage `docplex.mp` that is dedicated to Mathematical Programming, another branch of optimization."
   ]
  },
  {
   "cell_type": "markdown",
   "metadata": {},
   "source": [
    "<a id=\"set_up_prescriptive_engine\"></a>\n",
    "### Step 2: Set up the optimization engine\n",
    "\n",
    "DOcplexcloud includes a web service, DropSolve, where you can drag and drop problem files, download results, and manage your jobs in the queue.\n",
    "\n",
    "To use the DropSolve service:\n",
    "\n",
    "-  Register for the [DOcplexcloud 30 days free trial](https://developer.ibm.com/docloud).\n",
    "-  Get your [access credentials (the base URL and access key)](http://developer.ibm.com/docloud/docs/api-key/).\n",
    "\n",
    "Add the URL and API key to the following cell and run it:"
   ]
  },
  {
   "cell_type": "code",
   "execution_count": 2,
   "metadata": {},
   "outputs": [],
   "source": [
    "# Initialize IBM Decision Optimization credentials\n",
    "SVC_URL = \"\" #ENTER URL HERE\n",
    "SVC_KEY = \"\" # ENTER KEY HERE"
   ]
  },
  {
   "cell_type": "markdown",
   "metadata": {},
   "source": [
    "Now, import the required modeling functions that are provided by the *docplex.cp* package:"
   ]
  },
  {
   "cell_type": "code",
   "execution_count": 3,
   "metadata": {},
   "outputs": [],
   "source": [
    "# Import Constraint Programming modelization functions\n",
    "from docplex.cp.model import *"
   ]
  },
  {
   "cell_type": "markdown",
   "metadata": {},
   "source": [
    "<a id=\"model_data\"></a>\n",
    "### Step 3: Model the input data\n",
    "\n",
    "The first thing to define is the input data to the model. In the case of the Golomb ruler problem, there is only one input,  which is the order of the ruler, that is, the number of marks on the ruler: \n"
   ]
  },
  {
   "cell_type": "code",
   "execution_count": 4,
   "metadata": {},
   "outputs": [],
   "source": [
    "# Define required number of marks on the ruler\n",
    "ORDER = 7"
   ]
  },
  {
   "cell_type": "markdown",
   "metadata": {},
   "source": [
    "<a id=\"define_prescriptive_model\"></a>\n",
    "### Step 4: Define the optimization model\n",
    "\n",
    "The optimization model is represented by a container that is filled with the different model elements, in this case, the variables, constraints, and the objective function. The container is a Python model object.\n",
    "\n",
    "Run the following cell to create a Python model object:"
   ]
  },
  {
   "cell_type": "code",
   "execution_count": 5,
   "metadata": {},
   "outputs": [],
   "source": [
    "# Create model object\n",
    "mdl = CpoModel()"
   ]
  },
  {
   "cell_type": "markdown",
   "metadata": {},
   "source": [
    "<a id=\"define_variables\"></a>\n",
    "#### Define the decision variables\n",
    "\n",
    "Now define the variables of the model. As the expected problem result is the list of mark positions, the simplest choice is to create one integer variable to represent the position of each mark on the ruler.\n",
    "\n",
    "Each variable has a set of possible values called its *domain*. To reduce the search space, it is important to reduce this domain as far as possible. For the domain, you can estimate that the maximum distance between two adjacent marks is the order of the ruler minus one. Then the maximal position of a mark is `(ORDER - 1)²`. Each variable domain is then limited to an interval `[0..(ORDER - 1)²]`.\n",
    "\n",
    "You can define a list of integer variables by using the `integer_var_list()`. Run the following cell to define one variable for each mark:"
   ]
  },
  {
   "cell_type": "code",
   "execution_count": 6,
   "metadata": {},
   "outputs": [],
   "source": [
    "# Create array of variables corresponding to ruler marks\n",
    "marks = integer_var_list(ORDER, 0, (ORDER - 1) ** 2, \"M\")"
   ]
  },
  {
   "cell_type": "markdown",
   "metadata": {},
   "source": [
    "<a id=\"express_constraints\"></a>\n",
    "#### Express the business constraints\n",
    "\n",
    "For a Golomb ruler, you need to express that all possible distances between two marks are different. To do this, create an array that contains all these distances:"
   ]
  },
  {
   "cell_type": "code",
   "execution_count": 7,
   "metadata": {},
   "outputs": [],
   "source": [
    "# Create an array with all distances between all marks\n",
    "dist = [marks[i] - marks[j] for i in range(1, ORDER) for j in range(0, i)]"
   ]
  },
  {
   "cell_type": "markdown",
   "metadata": {},
   "source": [
    "In the computation, you used the `-` operator to express the difference between variables. Using this operator might appear strange because the variables are not instanciated at that time. The Python operator is overloaded to construct a constraint programming expression instead of attempting to compute the arithmetic difference. All of the standard Python operators `(<, >, <=, >=, ==, !=, +, -, /, *, &, |, //, **,...)` can be used for operations between constraint programming objects. \n",
    "\n",
    "To force the distances to be different, use the `all_diff()` constraint:"
   ]
  },
  {
   "cell_type": "code",
   "execution_count": 8,
   "metadata": {},
   "outputs": [],
   "source": [
    "# Force all distances to be different\n",
    "mdl.add(all_diff(dist))"
   ]
  },
  {
   "cell_type": "markdown",
   "metadata": {},
   "source": [
    "The `mdl.add(...)` function is necessary to express that the constraint is to be added to the model."
   ]
  },
  {
   "cell_type": "markdown",
   "metadata": {},
   "source": [
    "##### Remove symmetries\n",
    "\n",
    "Although the `all_diff()` constraint is enough to solve the model, it does not differentiate between all possible permutations of the different mark positions that could be solutions to the problem, for example, `0-1-4-6, 4-6-1-0, 6-0-1-4`, and so on. Because  there is a factorial magnitude of such permutations, the search space is drastically reduced by removing them.\n",
    "\n",
    "To reduce the permutations, run the next cell to force an order between marks, for example, the order of their index:"
   ]
  },
  {
   "cell_type": "code",
   "execution_count": 9,
   "metadata": {},
   "outputs": [],
   "source": [
    "# Avoid symmetric solutions by ordering marks\n",
    "for i in range(1, ORDER):\n",
    "    mdl.add(marks[i] > marks[i - 1])"
   ]
  },
  {
   "cell_type": "markdown",
   "metadata": {},
   "source": [
    "You know that the first mark of the ruler is zero:"
   ]
  },
  {
   "cell_type": "code",
   "execution_count": 10,
   "metadata": {},
   "outputs": [],
   "source": [
    "# Force first mark position to zero\n",
    "mdl.add(marks[0] == 0)"
   ]
  },
  {
   "cell_type": "markdown",
   "metadata": {},
   "source": [
    "##### Avoid mirror solutions\n",
    "\n",
    "Each optimal solution has a mirror, with all mark distances in the reverse order, for example, `0-1-4-6` and `0-2-5-6`. \n",
    "The following constraint ensures that the reverse order won't occur: "
   ]
  },
  {
   "cell_type": "code",
   "execution_count": 11,
   "metadata": {},
   "outputs": [],
   "source": [
    "# Avoid mirror solution\n",
    "mdl.add((marks[1] - marks[0]) < (marks[ORDER - 1] - marks[ORDER - 2]))"
   ]
  },
  {
   "cell_type": "markdown",
   "metadata": {},
   "source": [
    "<a id=\"express_objective\"></a>\n",
    "#### Express the objective\n",
    "\n",
    "You don't only want the marks to be as close together as possible. More specifically, you want to find the shortest possible ruler for a given number of marks. Such a ruler is called optimal.\n",
    "\n",
    "As the marks are ordered, you can express this by minimizing the position of the last mark:"
   ]
  },
  {
   "cell_type": "code",
   "execution_count": 12,
   "metadata": {},
   "outputs": [],
   "source": [
    "# Minimize ruler size\n",
    "mdl.add(minimize(marks[ORDER - 1]))"
   ]
  },
  {
   "cell_type": "markdown",
   "metadata": {},
   "source": [
    "If the marks are not ordered, you would run the following code instead:<br>\n",
    "<code>   mdl.add(minimize(max(marks)))</code><br>"
   ]
  },
  {
   "cell_type": "markdown",
   "metadata": {},
   "source": [
    "<a id=\"solve_model\"></a>\n",
    "#### Solve the model \n",
    "\n",
    "You have finished defining the model. Now, it's time to solve it by using the Decision Optimization on Cloud DropSolve service.\n",
    "\n",
    "Run the following cell to solve the model:"
   ]
  },
  {
   "cell_type": "code",
   "execution_count": null,
   "metadata": {},
   "outputs": [],
   "source": [
    "# Solve the model\n",
    "print(\"Solving model....\")\n",
    "msol = mdl.solve(url=SVC_URL, key=SVC_KEY, TimeLimit=10)"
   ]
  },
  {
   "cell_type": "markdown",
   "metadata": {},
   "source": [
    "<a id=\"output_results\"></a>\n",
    "### Step 5: Output the results\n",
    "\n",
    "The quickest way to output what was found by the DropSolve service is to call the method `print_solution()` as follows:"
   ]
  },
  {
   "cell_type": "code",
   "execution_count": 14,
   "metadata": {},
   "outputs": [
    {
     "name": "stdout",
     "output_type": "stream",
     "text": [
      "Solution: \n",
      "-------------------------------------------------------------------------------\n",
      "Model constraints: 9, variables: integer: 7, interval: 0, sequence: 0\n",
      "Solve status: Optimal\n",
      "Solve time: 4.25 sec\n",
      "-------------------------------------------------------------------------------\n",
      "Objective values: (25,)\n",
      "M0: 0\n",
      "M1: 1\n",
      "M2: 4\n",
      "M3: 10\n",
      "M4: 18\n",
      "M5: 23\n",
      "M6: 25\n"
     ]
    }
   ],
   "source": [
    "# Print solution\n",
    "print(\"Solution: \")\n",
    "msol.print_solution()"
   ]
  },
  {
   "cell_type": "markdown",
   "metadata": {},
   "source": [
    "However, this output is very generic and simply prints the value of all the model variables, the objective value, and some other solving information.\n",
    "\n",
    "You can generate more specific output by writing code that accesses various elements of the solution: "
   ]
  },
  {
   "cell_type": "code",
   "execution_count": 15,
   "metadata": {},
   "outputs": [
    {
     "name": "stdout",
     "output_type": "stream",
     "text": [
      "Solution: Optimal\n",
      "Position of ruler marks:  0 1 4 10 18 23 25\n",
      "Solve time: 4.25s\n"
     ]
    }
   ],
   "source": [
    "# Print solution\n",
    "from sys import stdout\n",
    "if msol:\n",
    "    # Print found solution\n",
    "    stdout.write(\"Solution: \" + msol.get_solve_status() + \"\\n\")\n",
    "    stdout.write(\"Position of ruler marks: \")\n",
    "    for v in marks:\n",
    "        stdout.write(\" \" + str(msol[v]))\n",
    "    stdout.write(\"\\n\")\n",
    "    stdout.write(\"Solve time: \" + str(round(msol.get_solve_time(), 2)) + \"s\\n\")\n",
    "else:\n",
    "    # No solution found\n",
    "    stdout.write(\"No solution found. Search status: \" + msol.get_solve_status() + \"\\n\")"
   ]
  },
  {
   "cell_type": "markdown",
   "metadata": {},
   "source": [
    "Another possibility, for example, is  to simulate a real ruler using characters, as follows:"
   ]
  },
  {
   "cell_type": "code",
   "execution_count": 16,
   "metadata": {},
   "outputs": [
    {
     "name": "stdout",
     "output_type": "stream",
     "text": [
      "Ruler: ++--+-----+-------+----+-+\n"
     ]
    }
   ],
   "source": [
    "# Print solution as a ruler\n",
    "if msol:\n",
    "    stdout.write(\"Ruler: +\")\n",
    "    for i in range(1, ORDER):\n",
    "        stdout.write('-' * (msol[marks[i]] - msol[marks[i - 1]] - 1) + '+')\n",
    "    stdout.write(\"\\n\")"
   ]
  },
  {
   "cell_type": "markdown",
   "metadata": {},
   "source": [
    "<a id=\"summary\"></a>\n",
    "## Summary\n",
    "\n",
    "You learned how to set up and use IBM Decision Optimization CPLEX Modeling for Python to formulate a constraint programming model for a Golomb ruler problem and how to solve the problem with IBM Decision Optimization on Cloud."
   ]
  },
  {
   "cell_type": "markdown",
   "metadata": {},
   "source": [
    "### References\n",
    "\n",
    "\n",
    "* <a href=\"https://rawgit.com/IBMDecisionOptimization/docplex-doc/master/docs/index.html\" target=\"_blank\" rel=\"noopener noreferrer\">The latest PyPi library</a>\n",
    "* <a href=\"https://github.com/IBMDecisionOptimization/docplex-examples\" target=\"_blank\" rel=\"noopener noreferrer\">Modeling examples for download</a>\n",
    "* <a href=\"https://rawgit.com/IBMDecisionOptimization/docplex-doc/master/docs/index.html\" target=\"_blank\" rel=\"noopener noreferrer\">CPLEX Modeling for Python documentation</a>\n",
    "* <a href=\"https://developer.ibm.com/docloud/\" target=\"_blank\" rel=\"noopener noreferrer\">Decision Optimization on Cloud</a>\n",
    "* Need help with DOcplex or want to report a bug? Go <a href=\"https://developer.ibm.com/answers/smartspace/docloud\" target=\"_blank\" rel=\"noopener noreferrer\">here</a>\n",
    "* Contact us at `dofeedback@wwpdl.vnet.ibm.com`"
   ]
  },
  {
   "cell_type": "markdown",
   "metadata": {},
   "source": [
    "### Author\n",
    "\n",
    "**Olivier Oudot**, Ph.D. in Logical Programming and IBM Master Inventor, joined the development team of the IBM Constraint Programming Optimizer in 2010 after a career of software development in military, space, and telecommunications areas. He worked on performance measurements for the CPO solver before developing its Python interface, part of `docplex` initiative (docplex.cp).\n"
   ]
  },
  {
   "cell_type": "markdown",
   "metadata": {},
   "source": [
    "Copyright © 2017, 2018 IBM. This notebook and its source code are released under the terms of the MIT License."
   ]
  }
 ],
 "metadata": {
  "kernelspec": {
   "display_name": "Python 3.5 with Spark 2.1",
   "language": "python",
   "name": "python3-spark21"
  },
  "language_info": {
   "codemirror_mode": {
    "name": "ipython",
    "version": 3
   },
   "file_extension": ".py",
   "mimetype": "text/x-python",
   "name": "python",
   "nbconvert_exporter": "python",
   "pygments_lexer": "ipython3",
   "version": "3.5.4"
  }
 },
 "nbformat": 4,
 "nbformat_minor": 1
}
