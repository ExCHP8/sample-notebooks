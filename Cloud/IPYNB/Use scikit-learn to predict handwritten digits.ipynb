{
 "cells": [
  {
   "cell_type": "markdown",
   "metadata": {},
   "source": [
    "<table style='border: none' align='left'>\n",
    "   <tr style='border: none'>\n",
    "      <th style='border: none'><font face='verdana' size='5' color='black'><b>Use scikit-learn to predict hand-written digits</b></th>\n",
    "      <th style='border: none'><img src='https://github.com/pmservice/customer-satisfaction-prediction/blob/master/app/static/images/ml_icon_gray.png?raw=true' alt='Watson Machine Learning icon' height='40' width='40'></th>\n",
    "   </tr>\n",
    "   <tr style='border: none'>\n",
    "       <th style='border: none'><img src='https://github.com/pmservice/wml-sample-models/raw/master/scikit-learn/hand-written-digits-recognition/images/numbers_banner-04.png' width='600' alt='Icon'> </th>\n",
    "   </tr>\n",
    "</table>"
   ]
  },
  {
   "cell_type": "markdown",
   "metadata": {},
   "source": [
    "This notebook demonstrates how to utilize the <a href=\"https://pypi.python.org/pypi/watson-machine-learning-client\" target=\"_blank\" rel=\"noopener noreferrer\">watson-machine-learning-client</a> package in order to save, deploy, and score a predictive model.\n",
    "\n",
    "Some familiarity with Python is helpful. This notebook uses Python 3.6, scikit-learn, and the Watson Machine Learning (WML) API client (`watson-machine-learning-client`).\n",
    "\n",
    "You will use the sample data set of hand-written digit images, **sklearn.datasets.load_digits**, which is available in scikit-learn to recognize hand-written digits.\n",
    "\n",
    "## Learning goals\n",
    "\n",
    "In this notebook, you will learn how to:\n",
    "\n",
    "-  Load a sample data set from ``scikit-learn``.\n",
    "-  Explore data.\n",
    "-  Split data for training and evaluation.\n",
    "-  Create a scikit-learn machine learning pipeline.\n",
    "-  Train and evaluate a model.\n",
    "-  Store the model in the Watson Machine Learning (WML) repository.\n",
    "-  Deploy the model for online scoringin the Watson Machine Learning (WML) repository.\n",
    "-  Score test records.\n",
    "\n",
    "\n",
    "## Contents\n",
    "\n",
    "1.\t[Set up the environment](#setup)\n",
    "2.\t[Load and explore data](#load)\n",
    "3.\t[Create a scikit-learn model](#model)\n",
    "4.\t[Save, load, and delete a model in the WML repository](#persistence)\n",
    "5.\t[Deploy and score data in the WML repository](#scoring)\n",
    "6.\t[Summary and next steps](#summary)"
   ]
  },
  {
   "cell_type": "markdown",
   "metadata": {},
   "source": [
    "<a id='setup'></a>\n",
    "## 1. Set up the environment\n",
    "\n",
    "Before you use the sample code in this notebook, you must perform the following setup tasks:\n",
    "\n",
    "-  Create a <a href=\"https://cloud.ibm.com/catalog/services/machine-learning\" target=\"_blank\" rel=\"noopener no referrer\">Watson Machine Learning (WML) Service</a> instance (a free plan is offered and information about how to create the instance can be found <a href=\"https://dataplatform.ibm.com/docs/content/analyze-data/wml-setup.html\" target=\"_blank\" rel=\"noopener no referrer\">here</a>)\n",
    "\n",
    "- Configure your local python environment:\n",
    "  + python 3.6\n",
    "  + scikit-learn 0.19.1\n",
    "  + watson-machine-learning-client"
   ]
  },
  {
   "cell_type": "markdown",
   "metadata": {},
   "source": [
    "**Tip**: Run the cell below to install packages from <a href='https://pypi.python.org/pypi' target='_blank' rel='noopener no referrer'>PyPI</a>."
   ]
  },
  {
   "cell_type": "code",
   "execution_count": 1,
   "metadata": {},
   "outputs": [],
   "source": [
    "# Remove current wml package files.\n",
    "!rm -rf $PIP_BUILD/watson-machine-learning-client"
   ]
  },
  {
   "cell_type": "code",
   "execution_count": null,
   "metadata": {},
   "outputs": [],
   "source": [
    "# Install watson-machine-learning-client required for online deployment and scoring.\n",
    "!pip install --user watson-machine-learning-client --upgrade"
   ]
  },
  {
   "cell_type": "markdown",
   "metadata": {},
   "source": [
    "<a id='load'></a>\n",
    "## 2. Load and explore data"
   ]
  },
  {
   "cell_type": "markdown",
   "metadata": {},
   "source": [
    "In this section, you will load the data from scikit-learn sample data sets and perform basic exploratory data analysis (EDA)."
   ]
  },
  {
   "cell_type": "code",
   "execution_count": null,
   "metadata": {},
   "outputs": [],
   "source": [
    "!pip install scikit-learn==0.19.1"
   ]
  },
  {
   "cell_type": "code",
   "execution_count": 4,
   "metadata": {},
   "outputs": [
    {
     "name": "stdout",
     "output_type": "stream",
     "text": [
      "Optical Recognition of Handwritten Digits Data Set\n",
      "===================================================\n",
      "\n",
      "Notes\n",
      "-----\n",
      "Data Set Characteristics:\n",
      "    :Number of Instances: 5620\n",
      "    :Number of Attributes: 64\n",
      "    :Attribute Information: 8x8 image of integer pixels in the range 0..16.\n",
      "    :Missing Attribute Values: None\n",
      "    :Creator: E. Alpaydin (alpaydin '@' boun.edu.tr)\n",
      "    :Date: July; 1998\n",
      "\n",
      "This is a copy of the test set of the UCI ML hand-written digits datasets\n",
      "http://archive.ics.uci.edu/ml/datasets/Optical+Recognition+of+Handwritten+Digits\n",
      "\n",
      "The data set contains images of hand-written digits: 10 classes where\n",
      "each class refers to a digit.\n",
      "\n",
      "Preprocessing programs made available by NIST were used to extract\n",
      "normalized bitmaps of handwritten digits from a preprinted form. From a\n",
      "total of 43 people, 30 contributed to the training set and different 13\n",
      "to the test set. 32x32 bitmaps are divided into nonoverlapping blocks of\n",
      "4x4 and the number of on pixels are counted in each block. This generates\n",
      "an input matrix of 8x8 where each element is an integer in the range\n",
      "0..16. This reduces dimensionality and gives invariance to small\n",
      "distortions.\n",
      "\n",
      "For info on NIST preprocessing routines, see M. D. Garris, J. L. Blue, G.\n",
      "T. Candela, D. L. Dimmick, J. Geist, P. J. Grother, S. A. Janet, and C.\n",
      "L. Wilson, NIST Form-Based Handprint Recognition System, NISTIR 5469,\n",
      "1994.\n",
      "\n",
      "References\n",
      "----------\n",
      "  - C. Kaynak (1995) Methods of Combining Multiple Classifiers and Their\n",
      "    Applications to Handwritten Digit Recognition, MSc Thesis, Institute of\n",
      "    Graduate Studies in Science and Engineering, Bogazici University.\n",
      "  - E. Alpaydin, C. Kaynak (1998) Cascading Classifiers, Kybernetika.\n",
      "  - Ken Tang and Ponnuthurai N. Suganthan and Xi Yao and A. Kai Qin.\n",
      "    Linear dimensionalityreduction using relevance weighted LDA. School of\n",
      "    Electrical and Electronic Engineering Nanyang Technological University.\n",
      "    2005.\n",
      "  - Claudio Gentile. A New Approximate Maximal Margin Classification\n",
      "    Algorithm. NIPS. 2000.\n",
      "\n"
     ]
    }
   ],
   "source": [
    "# Load the data.\n",
    "import sklearn\n",
    "from sklearn import datasets\n",
    "\n",
    "# Description of the Digits Data set.\n",
    "digits = datasets.load_digits()\n",
    "print(digits.DESCR)"
   ]
  },
  {
   "cell_type": "markdown",
   "metadata": {},
   "source": [
    "The sample data set consists of 8x8 pixel images of hand-written digits."
   ]
  },
  {
   "cell_type": "code",
   "execution_count": 5,
   "metadata": {},
   "outputs": [
    {
     "data": {
      "text/plain": [
       "(1797, 64)"
      ]
     },
     "execution_count": 5,
     "metadata": {},
     "output_type": "execute_result"
    }
   ],
   "source": [
    "digits.data.shape"
   ]
  },
  {
   "cell_type": "markdown",
   "metadata": {},
   "source": [
    "Display the first digit data and label using **data** and **target**. The hand-written digit shown below is an 8x8 pixel image represented by an array."
   ]
  },
  {
   "cell_type": "code",
   "execution_count": 6,
   "metadata": {},
   "outputs": [
    {
     "name": "stdout",
     "output_type": "stream",
     "text": [
      "[[ 0.  0.  5. 13.  9.  1.  0.  0.]\n",
      " [ 0.  0. 13. 15. 10. 15.  5.  0.]\n",
      " [ 0.  3. 15.  2.  0. 11.  8.  0.]\n",
      " [ 0.  4. 12.  0.  0.  8.  8.  0.]\n",
      " [ 0.  5.  8.  0.  0.  9.  8.  0.]\n",
      " [ 0.  4. 11.  0.  1. 12.  7.  0.]\n",
      " [ 0.  2. 14.  5. 10. 12.  0.  0.]\n",
      " [ 0.  0.  6. 13. 10.  0.  0.  0.]]\n"
     ]
    }
   ],
   "source": [
    "print(digits.data[0].reshape((8, 8)))"
   ]
  },
  {
   "cell_type": "code",
   "execution_count": 7,
   "metadata": {},
   "outputs": [
    {
     "data": {
      "text/plain": [
       "0"
      ]
     },
     "execution_count": 7,
     "metadata": {},
     "output_type": "execute_result"
    }
   ],
   "source": [
    "digits.target[0]"
   ]
  },
  {
   "cell_type": "code",
   "execution_count": 8,
   "metadata": {},
   "outputs": [],
   "source": [
    "import matplotlib.pyplot as plt\n",
    "import numpy as np"
   ]
  },
  {
   "cell_type": "code",
   "execution_count": 9,
   "metadata": {},
   "outputs": [
    {
     "data": {
      "image/png": "[encoded data removed]",
      "text/plain": [
       "<Figure size 1080x360 with 10 Axes>"
      ]
     },
     "metadata": {
      "needs_background": "light"
     },
     "output_type": "display_data"
    }
   ],
   "source": [
    "# Visualize some digits from the data set.\n",
    "f, ((ax1, ax2, ax3, ax4, ax5), (ax6, ax7, ax8, ax9, ax10)) = plt.subplots(2, 5, figsize=(15,5))\n",
    "ax = [ax1, ax2, ax3, ax4, ax5, ax6, ax7, ax8, ax9, ax10]\n",
    "\n",
    "for i in range (len(ax)):\n",
    "    plt.gray()\n",
    "    ax[i].matshow(digits.images[i])"
   ]
  },
  {
   "cell_type": "code",
   "execution_count": 10,
   "metadata": {},
   "outputs": [
    {
     "data": {
      "text/plain": [
       "array([0, 1, 2, 3, 4, 5, 6, 7, 8, 9])"
      ]
     },
     "execution_count": 10,
     "metadata": {},
     "output_type": "execute_result"
    }
   ],
   "source": [
    "# Labels for the written digits displayed above.\n",
    "digits.target[:10]"
   ]
  },
  {
   "cell_type": "markdown",
   "metadata": {},
   "source": [
    "In the next step, count the data examples."
   ]
  },
  {
   "cell_type": "code",
   "execution_count": 11,
   "metadata": {
    "scrolled": true
   },
   "outputs": [
    {
     "name": "stdout",
     "output_type": "stream",
     "text": [
      "Number of samples: 1797\n"
     ]
    }
   ],
   "source": [
    "# Calculate the number of samples.\n",
    "samples_count = len(digits.images)\n",
    "\n",
    "print('Number of samples: ' + str(samples_count))"
   ]
  },
  {
   "cell_type": "markdown",
   "metadata": {},
   "source": [
    "<a id='model'></a>\n",
    "## 3. Create a scikit-learn model\n",
    "\n",
    "In this section you learn how to:\n",
    "- [3.1 Split data](#prep)\n",
    "- [3.2 Create a scikit-learn machine learning pipeline](#pipe)\n",
    "- [3.3 Train a model](#train)"
   ]
  },
  {
   "cell_type": "markdown",
   "metadata": {},
   "source": [
    "### 3.1 Split data<a id='prep'></a>\n",
    "\n",
    "In this subsection you will split your data into: \n",
    "- Train data set\n",
    "- Test data set\n",
    "- Score data sets"
   ]
  },
  {
   "cell_type": "code",
   "execution_count": 12,
   "metadata": {},
   "outputs": [
    {
     "name": "stdout",
     "output_type": "stream",
     "text": [
      "Number of training records: 1257\n",
      "Number of testing records : 360\n",
      "Number of scoring records : 180\n"
     ]
    }
   ],
   "source": [
    "# Split the data into data sets and display the number of records for each data set.\n",
    "train_data = digits.data[: int(0.7*samples_count)]\n",
    "train_labels = digits.target[: int(0.7*samples_count)]\n",
    "\n",
    "test_data = digits.data[int(0.7*samples_count): int(0.9*samples_count)]\n",
    "test_labels = digits.target[int(0.7*samples_count): int(0.9*samples_count)]\n",
    "\n",
    "score_data = digits.data[int(0.9*samples_count): ]\n",
    "\n",
    "print('Number of training records: ' + str(len(train_data)))\n",
    "print('Number of testing records : ' + str(len(test_data)))\n",
    "print('Number of scoring records : ' + str(len(score_data)))"
   ]
  },
  {
   "cell_type": "markdown",
   "metadata": {},
   "source": [
    "Your data has been successfully split into three data sets: \n",
    "\n",
    "-  The train data set, which is the largest group, is used for training.\n",
    "-  The test data set will be used for model evaluation and is used to test the assumptions of the model.\n",
    "-  The score data set will be used for scoring in Cloud."
   ]
  },
  {
   "cell_type": "markdown",
   "metadata": {},
   "source": [
    "### 3.2 Create a scikit-learn machine learning pipeline<a id='pipe'></a>"
   ]
  },
  {
   "cell_type": "markdown",
   "metadata": {},
   "source": [
    "In this section, you will create a scikit-learn machine learning pipeline and then train the model."
   ]
  },
  {
   "cell_type": "markdown",
   "metadata": {},
   "source": [
    "First, import the scikit-learn machine learning modules that are needed in the subsequent steps."
   ]
  },
  {
   "cell_type": "code",
   "execution_count": 13,
   "metadata": {},
   "outputs": [],
   "source": [
    "# Import scikit-learn packages.\n",
    "from sklearn.pipeline import Pipeline\n",
    "from sklearn import preprocessing\n",
    "from sklearn import svm, metrics"
   ]
  },
  {
   "cell_type": "markdown",
   "metadata": {},
   "source": [
    "Standardize the features by removing the mean and scaling to unit variance."
   ]
  },
  {
   "cell_type": "code",
   "execution_count": 14,
   "metadata": {},
   "outputs": [],
   "source": [
    "scaler = preprocessing.StandardScaler()"
   ]
  },
  {
   "cell_type": "markdown",
   "metadata": {},
   "source": [
    "Next, define the estimators you want to use for classification. The following example uses Support Vector Machines (SVM) with the radial basis function (used for non-linear data) as kernel."
   ]
  },
  {
   "cell_type": "code",
   "execution_count": 15,
   "metadata": {},
   "outputs": [],
   "source": [
    "clf = svm.SVC(kernel='rbf')"
   ]
  },
  {
   "cell_type": "markdown",
   "metadata": {},
   "source": [
    "Build the pipeline. A pipeline consists of transformer and an estimator."
   ]
  },
  {
   "cell_type": "code",
   "execution_count": 16,
   "metadata": {},
   "outputs": [],
   "source": [
    "pipeline = Pipeline([('scaler', scaler), ('svc', clf)])"
   ]
  },
  {
   "cell_type": "markdown",
   "metadata": {},
   "source": [
    "### 3.3 Train a model<a id='train'></a>"
   ]
  },
  {
   "cell_type": "markdown",
   "metadata": {},
   "source": [
    "Now, you can use the **pipeline** and **train data** you defined previously to train your SVM model."
   ]
  },
  {
   "cell_type": "code",
   "execution_count": 17,
   "metadata": {},
   "outputs": [],
   "source": [
    "model = pipeline.fit(train_data, train_labels)"
   ]
  },
  {
   "cell_type": "markdown",
   "metadata": {},
   "source": [
    "Use **test data** to generate an evaluation report to check your **model quality**."
   ]
  },
  {
   "cell_type": "code",
   "execution_count": 18,
   "metadata": {},
   "outputs": [
    {
     "name": "stdout",
     "output_type": "stream",
     "text": [
      "Evaluation report: \n",
      "\n",
      "             precision    recall  f1-score   support\n",
      "\n",
      "          0       1.00      0.97      0.99        37\n",
      "          1       0.97      0.97      0.97        34\n",
      "          2       1.00      0.97      0.99        36\n",
      "          3       1.00      0.94      0.97        35\n",
      "          4       0.78      0.97      0.87        37\n",
      "          5       0.97      0.97      0.97        38\n",
      "          6       0.97      0.86      0.91        36\n",
      "          7       0.92      0.97      0.94        35\n",
      "          8       0.91      0.89      0.90        35\n",
      "          9       0.97      0.92      0.94        37\n",
      "\n",
      "avg / total       0.95      0.94      0.95       360\n",
      "\n"
     ]
    }
   ],
   "source": [
    "# Evaluate your model.\n",
    "predicted = model.predict(test_data)\n",
    "\n",
    "print('Evaluation report: \\n\\n%s' % metrics.classification_report(test_labels, predicted))"
   ]
  },
  {
   "cell_type": "markdown",
   "metadata": {
    "collapsed": true
   },
   "source": [
    "**Note:** You can tune your model, or try creating classification models to achieve better accuracy. For simplicity of this example, the tuning section and model selection are omitted."
   ]
  },
  {
   "cell_type": "markdown",
   "metadata": {
    "collapsed": true
   },
   "source": [
    "<a id='persistence'></a>\n",
    "## 4. Save, load, and delete a model in the WML repository"
   ]
  },
  {
   "cell_type": "markdown",
   "metadata": {},
   "source": [
    "In this section, you will learn how to use the `watson-machine-learning-client` package to manage your model in the WML repository.\n",
    "\n",
    "- [4.1 Set up the WML instance](#work)\n",
    "- [4.2 Save the model in the WML repository](#save)\n",
    "- [4.3 Load a model from the WML repository](#load_model)\n",
    "- [4.4 Delete a model from the WML repository](#delete)"
   ]
  },
  {
   "cell_type": "markdown",
   "metadata": {},
   "source": [
    "**Tip**: You can find more information about the watson-machine-learning-client <a href=\"https://console.bluemix.net/docs/services/service_credentials.html#service_credentials\" target=\"_blank\" rel=\"noopener no referrer\">here</a>[](https://wml-api-pyclient.mybluemix.net)."
   ]
  },
  {
   "cell_type": "markdown",
   "metadata": {},
   "source": [
    "### 4.1 Set up the WML instance<a id='work'></a>"
   ]
  },
  {
   "cell_type": "markdown",
   "metadata": {
    "collapsed": true
   },
   "source": [
    "First, import required modules."
   ]
  },
  {
   "cell_type": "code",
   "execution_count": 19,
   "metadata": {},
   "outputs": [],
   "source": [
    "from watson_machine_learning_client import WatsonMachineLearningAPIClient"
   ]
  },
  {
   "cell_type": "markdown",
   "metadata": {},
   "source": [
    "**Note**: A deprecation warning is returned from scikit-learn package that does not impact watson machine learning client functionalities.\n",
    "Authenticate to the Watson Machine Learning service on the IBM Cloud.\n",
    "\n",
    "**Tip**: Authentication information (your credentials) can be found in the <a href=\"https://dataplatform.cloud.ibm.com/docs/content/wsj/analyze-data/ml-get-wml-credentials.html\" target=\"_blank\" rel=\"noopener no referrer\">Service credentials</a> tab of the service instance that you created on the IBM Cloud. <BR>If you cannot find the **instance_id** field in **Service Credentials**, click **New credential (+)** to generate new authentication information. \n",
    "\n",
    "**Action**: Enter your Watson Machine Learning service instance credentials here.\n"
   ]
  },
  {
   "cell_type": "code",
   "execution_count": 20,
   "metadata": {},
   "outputs": [],
   "source": [
    "wml_credentials = {\n",
    "    \"apikey\": \"***\",\n",
    "    \"instance_id\": \"***\",\n",
    "    \"password\": \"***\",\n",
    "    \"url\": \"https://ibm-watson-ml.mybluemix.net\",\n",
    "    \"username\": \"***\"\n",
    "}"
   ]
  },
  {
   "cell_type": "markdown",
   "metadata": {},
   "source": [
    "#### Instantiate the WML API client object. "
   ]
  },
  {
   "cell_type": "code",
   "execution_count": 22,
   "metadata": {},
   "outputs": [],
   "source": [
    "client = WatsonMachineLearningAPIClient(wml_credentials)"
   ]
  },
  {
   "cell_type": "markdown",
   "metadata": {},
   "source": [
    "#### Get instance details."
   ]
  },
  {
   "cell_type": "code",
   "execution_count": 23,
   "metadata": {},
   "outputs": [],
   "source": [
    "import json\n",
    "\n",
    "instance_details = client.service_instance.get_details()"
   ]
  },
  {
   "cell_type": "markdown",
   "metadata": {},
   "source": [
    "### 4.2 Save the model in the WML repository<a id='save'></a>"
   ]
  },
  {
   "cell_type": "markdown",
   "metadata": {},
   "source": [
    "Define the model name when saving the model in the WML repository."
   ]
  },
  {
   "cell_type": "code",
   "execution_count": 24,
   "metadata": {},
   "outputs": [],
   "source": [
    "published_model = client.repository.store_model(model=model, meta_props={'name':'Digits prediction model'}, \\\n",
    "                                                training_data=train_data, training_target=train_labels)"
   ]
  },
  {
   "cell_type": "markdown",
   "metadata": {},
   "source": [
    "#### Get information about a specific model in the WML repository."
   ]
  },
  {
   "cell_type": "code",
   "execution_count": 25,
   "metadata": {},
   "outputs": [
    {
     "name": "stdout",
     "output_type": "stream",
     "text": [
      "{\n",
      "  \"metadata\": {\n",
      "    \"guid\": \"bd774b79-1bb7-4396-9edf-d7acb57a3fe0\",\n",
      "    \"url\": \"https://us-south.ml.cloud.ibm.com/v3/wml_instances/b4b6c696-172c-4164-8049-c0b621dbf3c9/published_models/bd774b79-1bb7-4396-9edf-d7acb57a3fe0\",\n",
      "    \"created_at\": \"2019-07-08T20:29:03.612Z\",\n",
      "    \"modified_at\": \"2019-07-08T20:29:03.697Z\"\n",
      "  },\n",
      "  \"entity\": {\n",
      "    \"runtime_environment\": \"python-3.6\",\n",
      "    \"learning_configuration_url\": \"https://us-south.ml.cloud.ibm.com/v3/wml_instances/b4b6c696-172c-4164-8049-c0b621dbf3c9/published_models/bd774b79-1bb7-4396-9edf-d7acb57a3fe0/learning_configuration\",\n",
      "    \"name\": \"Digits prediction model\",\n",
      "    \"label_col\": \"l1\",\n",
      "    \"learning_iterations_url\": \"https://us-south.ml.cloud.ibm.com/v3/wml_instances/b4b6c696-172c-4164-8049-c0b621dbf3c9/published_models/bd774b79-1bb7-4396-9edf-d7acb57a3fe0/learning_iterations\",\n",
      "    \"training_data_schema\": {\n",
      "      \"features\": {\n",
      "        \"type\": \"ndarray\",\n",
      "        \"fields\": [\n",
      "          {\n",
      "            \"name\": \"f0\",\n",
      "            \"type\": \"float\"\n",
      "          },\n",
      "          {\n",
      "            \"name\": \"f1\",\n",
      "            \"type\": \"float\"\n",
      "          },\n",
      "          {\n",
      "            \"name\": \"f2\",\n",
      "            \"type\": \"float\"\n",
      "          },\n",
      "          {\n",
      "            \"name\": \"f3\",\n",
      "            \"type\": \"float\"\n",
      "          },\n",
      "          {\n",
      "            \"name\": \"f4\",\n",
      "            \"type\": \"float\"\n",
      "          },\n",
      "          {\n",
      "            \"name\": \"f5\",\n",
      "            \"type\": \"float\"\n",
      "          },\n",
      "          {\n",
      "            \"name\": \"f6\",\n",
      "            \"type\": \"float\"\n",
      "          },\n",
      "          {\n",
      "            \"name\": \"f7\",\n",
      "            \"type\": \"float\"\n",
      "          },\n",
      "          {\n",
      "            \"name\": \"f8\",\n",
      "            \"type\": \"float\"\n",
      "          },\n",
      "          {\n",
      "            \"name\": \"f9\",\n",
      "            \"type\": \"float\"\n",
      "          },\n",
      "          {\n",
      "            \"name\": \"f10\",\n",
      "            \"type\": \"float\"\n",
      "          },\n",
      "          {\n",
      "            \"name\": \"f11\",\n",
      "            \"type\": \"float\"\n",
      "          },\n",
      "          {\n",
      "            \"name\": \"f12\",\n",
      "            \"type\": \"float\"\n",
      "          },\n",
      "          {\n",
      "            \"name\": \"f13\",\n",
      "            \"type\": \"float\"\n",
      "          },\n",
      "          {\n",
      "            \"name\": \"f14\",\n",
      "            \"type\": \"float\"\n",
      "          },\n",
      "          {\n",
      "            \"name\": \"f15\",\n",
      "            \"type\": \"float\"\n",
      "          },\n",
      "          {\n",
      "            \"name\": \"f16\",\n",
      "            \"type\": \"float\"\n",
      "          },\n",
      "          {\n",
      "            \"name\": \"f17\",\n",
      "            \"type\": \"float\"\n",
      "          },\n",
      "          {\n",
      "            \"name\": \"f18\",\n",
      "            \"type\": \"float\"\n",
      "          },\n",
      "          {\n",
      "            \"name\": \"f19\",\n",
      "            \"type\": \"float\"\n",
      "          },\n",
      "          {\n",
      "            \"name\": \"f20\",\n",
      "            \"type\": \"float\"\n",
      "          },\n",
      "          {\n",
      "            \"name\": \"f21\",\n",
      "            \"type\": \"float\"\n",
      "          },\n",
      "          {\n",
      "            \"name\": \"f22\",\n",
      "            \"type\": \"float\"\n",
      "          },\n",
      "          {\n",
      "            \"name\": \"f23\",\n",
      "            \"type\": \"float\"\n",
      "          },\n",
      "          {\n",
      "            \"name\": \"f24\",\n",
      "            \"type\": \"float\"\n",
      "          },\n",
      "          {\n",
      "            \"name\": \"f25\",\n",
      "            \"type\": \"float\"\n",
      "          },\n",
      "          {\n",
      "            \"name\": \"f26\",\n",
      "            \"type\": \"float\"\n",
      "          },\n",
      "          {\n",
      "            \"name\": \"f27\",\n",
      "            \"type\": \"float\"\n",
      "          },\n",
      "          {\n",
      "            \"name\": \"f28\",\n",
      "            \"type\": \"float\"\n",
      "          },\n",
      "          {\n",
      "            \"name\": \"f29\",\n",
      "            \"type\": \"float\"\n",
      "          },\n",
      "          {\n",
      "            \"name\": \"f30\",\n",
      "            \"type\": \"float\"\n",
      "          },\n",
      "          {\n",
      "            \"name\": \"f31\",\n",
      "            \"type\": \"float\"\n",
      "          },\n",
      "          {\n",
      "            \"name\": \"f32\",\n",
      "            \"type\": \"float\"\n",
      "          },\n",
      "          {\n",
      "            \"name\": \"f33\",\n",
      "            \"type\": \"float\"\n",
      "          },\n",
      "          {\n",
      "            \"name\": \"f34\",\n",
      "            \"type\": \"float\"\n",
      "          },\n",
      "          {\n",
      "            \"name\": \"f35\",\n",
      "            \"type\": \"float\"\n",
      "          },\n",
      "          {\n",
      "            \"name\": \"f36\",\n",
      "            \"type\": \"float\"\n",
      "          },\n",
      "          {\n",
      "            \"name\": \"f37\",\n",
      "            \"type\": \"float\"\n",
      "          },\n",
      "          {\n",
      "            \"name\": \"f38\",\n",
      "            \"type\": \"float\"\n",
      "          },\n",
      "          {\n",
      "            \"name\": \"f39\",\n",
      "            \"type\": \"float\"\n",
      "          },\n",
      "          {\n",
      "            \"name\": \"f40\",\n",
      "            \"type\": \"float\"\n",
      "          },\n",
      "          {\n",
      "            \"name\": \"f41\",\n",
      "            \"type\": \"float\"\n",
      "          },\n",
      "          {\n",
      "            \"name\": \"f42\",\n",
      "            \"type\": \"float\"\n",
      "          },\n",
      "          {\n",
      "            \"name\": \"f43\",\n",
      "            \"type\": \"float\"\n",
      "          },\n",
      "          {\n",
      "            \"name\": \"f44\",\n",
      "            \"type\": \"float\"\n",
      "          },\n",
      "          {\n",
      "            \"name\": \"f45\",\n",
      "            \"type\": \"float\"\n",
      "          },\n",
      "          {\n",
      "            \"name\": \"f46\",\n",
      "            \"type\": \"float\"\n",
      "          },\n",
      "          {\n",
      "            \"name\": \"f47\",\n",
      "            \"type\": \"float\"\n",
      "          },\n",
      "          {\n",
      "            \"name\": \"f48\",\n",
      "            \"type\": \"float\"\n",
      "          },\n",
      "          {\n",
      "            \"name\": \"f49\",\n",
      "            \"type\": \"float\"\n",
      "          },\n",
      "          {\n",
      "            \"name\": \"f50\",\n",
      "            \"type\": \"float\"\n",
      "          },\n",
      "          {\n",
      "            \"name\": \"f51\",\n",
      "            \"type\": \"float\"\n",
      "          },\n",
      "          {\n",
      "            \"name\": \"f52\",\n",
      "            \"type\": \"float\"\n",
      "          },\n",
      "          {\n",
      "            \"name\": \"f53\",\n",
      "            \"type\": \"float\"\n",
      "          },\n",
      "          {\n",
      "            \"name\": \"f54\",\n",
      "            \"type\": \"float\"\n",
      "          },\n",
      "          {\n",
      "            \"name\": \"f55\",\n",
      "            \"type\": \"float\"\n",
      "          },\n",
      "          {\n",
      "            \"name\": \"f56\",\n",
      "            \"type\": \"float\"\n",
      "          },\n",
      "          {\n",
      "            \"name\": \"f57\",\n",
      "            \"type\": \"float\"\n",
      "          },\n",
      "          {\n",
      "            \"name\": \"f58\",\n",
      "            \"type\": \"float\"\n",
      "          },\n",
      "          {\n",
      "            \"name\": \"f59\",\n",
      "            \"type\": \"float\"\n",
      "          },\n",
      "          {\n",
      "            \"name\": \"f60\",\n",
      "            \"type\": \"float\"\n",
      "          },\n",
      "          {\n",
      "            \"name\": \"f61\",\n",
      "            \"type\": \"float\"\n",
      "          },\n",
      "          {\n",
      "            \"name\": \"f62\",\n",
      "            \"type\": \"float\"\n",
      "          },\n",
      "          {\n",
      "            \"name\": \"f63\",\n",
      "            \"type\": \"float\"\n",
      "          }\n",
      "        ]\n",
      "      },\n",
      "      \"labels\": {\n",
      "        \"type\": \"ndarray\",\n",
      "        \"fields\": [\n",
      "          {\n",
      "            \"name\": \"l1\",\n",
      "            \"type\": \"int\"\n",
      "          }\n",
      "        ]\n",
      "      }\n",
      "    },\n",
      "    \"feedback_url\": \"https://us-south.ml.cloud.ibm.com/v3/wml_instances/b4b6c696-172c-4164-8049-c0b621dbf3c9/published_models/bd774b79-1bb7-4396-9edf-d7acb57a3fe0/feedback\",\n",
      "    \"latest_version\": {\n",
      "      \"url\": \"https://us-south.ml.cloud.ibm.com/v3/ml_assets/models/bd774b79-1bb7-4396-9edf-d7acb57a3fe0/versions/d9961940-8905-45b8-8f00-a5fa2857e057\",\n",
      "      \"guid\": \"d9961940-8905-45b8-8f00-a5fa2857e057\",\n",
      "      \"created_at\": \"2019-07-08T20:29:03.697Z\"\n",
      "    },\n",
      "    \"model_type\": \"scikit-learn-0.19\",\n",
      "    \"deployments\": {\n",
      "      \"count\": 0,\n",
      "      \"url\": \"https://us-south.ml.cloud.ibm.com/v3/wml_instances/b4b6c696-172c-4164-8049-c0b621dbf3c9/published_models/bd774b79-1bb7-4396-9edf-d7acb57a3fe0/deployments\"\n",
      "    },\n",
      "    \"evaluation_metrics_url\": \"https://us-south.ml.cloud.ibm.com/v3/wml_instances/b4b6c696-172c-4164-8049-c0b621dbf3c9/published_models/bd774b79-1bb7-4396-9edf-d7acb57a3fe0/evaluation_metrics\",\n",
      "    \"input_data_schema\": {\n",
      "      \"features\": {\n",
      "        \"type\": \"ndarray\",\n",
      "        \"fields\": [\n",
      "          {\n",
      "            \"name\": \"f0\",\n",
      "            \"type\": \"float\"\n",
      "          },\n",
      "          {\n",
      "            \"name\": \"f1\",\n",
      "            \"type\": \"float\"\n",
      "          },\n",
      "          {\n",
      "            \"name\": \"f2\",\n",
      "            \"type\": \"float\"\n",
      "          },\n",
      "          {\n",
      "            \"name\": \"f3\",\n",
      "            \"type\": \"float\"\n",
      "          },\n",
      "          {\n",
      "            \"name\": \"f4\",\n",
      "            \"type\": \"float\"\n",
      "          },\n",
      "          {\n",
      "            \"name\": \"f5\",\n",
      "            \"type\": \"float\"\n",
      "          },\n",
      "          {\n",
      "            \"name\": \"f6\",\n",
      "            \"type\": \"float\"\n",
      "          },\n",
      "          {\n",
      "            \"name\": \"f7\",\n",
      "            \"type\": \"float\"\n",
      "          },\n",
      "          {\n",
      "            \"name\": \"f8\",\n",
      "            \"type\": \"float\"\n",
      "          },\n",
      "          {\n",
      "            \"name\": \"f9\",\n",
      "            \"type\": \"float\"\n",
      "          },\n",
      "          {\n",
      "            \"name\": \"f10\",\n",
      "            \"type\": \"float\"\n",
      "          },\n",
      "          {\n",
      "            \"name\": \"f11\",\n",
      "            \"type\": \"float\"\n",
      "          },\n",
      "          {\n",
      "            \"name\": \"f12\",\n",
      "            \"type\": \"float\"\n",
      "          },\n",
      "          {\n",
      "            \"name\": \"f13\",\n",
      "            \"type\": \"float\"\n",
      "          },\n",
      "          {\n",
      "            \"name\": \"f14\",\n",
      "            \"type\": \"float\"\n",
      "          },\n",
      "          {\n",
      "            \"name\": \"f15\",\n",
      "            \"type\": \"float\"\n",
      "          },\n",
      "          {\n",
      "            \"name\": \"f16\",\n",
      "            \"type\": \"float\"\n",
      "          },\n",
      "          {\n",
      "            \"name\": \"f17\",\n",
      "            \"type\": \"float\"\n",
      "          },\n",
      "          {\n",
      "            \"name\": \"f18\",\n",
      "            \"type\": \"float\"\n",
      "          },\n",
      "          {\n",
      "            \"name\": \"f19\",\n",
      "            \"type\": \"float\"\n",
      "          },\n",
      "          {\n",
      "            \"name\": \"f20\",\n",
      "            \"type\": \"float\"\n",
      "          },\n",
      "          {\n",
      "            \"name\": \"f21\",\n",
      "            \"type\": \"float\"\n",
      "          },\n",
      "          {\n",
      "            \"name\": \"f22\",\n",
      "            \"type\": \"float\"\n",
      "          },\n",
      "          {\n",
      "            \"name\": \"f23\",\n",
      "            \"type\": \"float\"\n",
      "          },\n",
      "          {\n",
      "            \"name\": \"f24\",\n",
      "            \"type\": \"float\"\n",
      "          },\n",
      "          {\n",
      "            \"name\": \"f25\",\n",
      "            \"type\": \"float\"\n",
      "          },\n",
      "          {\n",
      "            \"name\": \"f26\",\n",
      "            \"type\": \"float\"\n",
      "          },\n",
      "          {\n",
      "            \"name\": \"f27\",\n",
      "            \"type\": \"float\"\n",
      "          },\n",
      "          {\n",
      "            \"name\": \"f28\",\n",
      "            \"type\": \"float\"\n",
      "          },\n",
      "          {\n",
      "            \"name\": \"f29\",\n",
      "            \"type\": \"float\"\n",
      "          },\n",
      "          {\n",
      "            \"name\": \"f30\",\n",
      "            \"type\": \"float\"\n",
      "          },\n",
      "          {\n",
      "            \"name\": \"f31\",\n",
      "            \"type\": \"float\"\n",
      "          },\n",
      "          {\n",
      "            \"name\": \"f32\",\n",
      "            \"type\": \"float\"\n",
      "          },\n",
      "          {\n",
      "            \"name\": \"f33\",\n",
      "            \"type\": \"float\"\n",
      "          },\n",
      "          {\n",
      "            \"name\": \"f34\",\n",
      "            \"type\": \"float\"\n",
      "          },\n",
      "          {\n",
      "            \"name\": \"f35\",\n",
      "            \"type\": \"float\"\n",
      "          },\n",
      "          {\n",
      "            \"name\": \"f36\",\n",
      "            \"type\": \"float\"\n",
      "          },\n",
      "          {\n",
      "            \"name\": \"f37\",\n",
      "            \"type\": \"float\"\n",
      "          },\n",
      "          {\n",
      "            \"name\": \"f38\",\n",
      "            \"type\": \"float\"\n",
      "          },\n",
      "          {\n",
      "            \"name\": \"f39\",\n",
      "            \"type\": \"float\"\n",
      "          },\n",
      "          {\n",
      "            \"name\": \"f40\",\n",
      "            \"type\": \"float\"\n",
      "          },\n",
      "          {\n",
      "            \"name\": \"f41\",\n",
      "            \"type\": \"float\"\n",
      "          },\n",
      "          {\n",
      "            \"name\": \"f42\",\n",
      "            \"type\": \"float\"\n",
      "          },\n",
      "          {\n",
      "            \"name\": \"f43\",\n",
      "            \"type\": \"float\"\n",
      "          },\n",
      "          {\n",
      "            \"name\": \"f44\",\n",
      "            \"type\": \"float\"\n",
      "          },\n",
      "          {\n",
      "            \"name\": \"f45\",\n",
      "            \"type\": \"float\"\n",
      "          },\n",
      "          {\n",
      "            \"name\": \"f46\",\n",
      "            \"type\": \"float\"\n",
      "          },\n",
      "          {\n",
      "            \"name\": \"f47\",\n",
      "            \"type\": \"float\"\n",
      "          },\n",
      "          {\n",
      "            \"name\": \"f48\",\n",
      "            \"type\": \"float\"\n",
      "          },\n",
      "          {\n",
      "            \"name\": \"f49\",\n",
      "            \"type\": \"float\"\n",
      "          },\n",
      "          {\n",
      "            \"name\": \"f50\",\n",
      "            \"type\": \"float\"\n",
      "          },\n",
      "          {\n",
      "            \"name\": \"f51\",\n",
      "            \"type\": \"float\"\n",
      "          },\n",
      "          {\n",
      "            \"name\": \"f52\",\n",
      "            \"type\": \"float\"\n",
      "          },\n",
      "          {\n",
      "            \"name\": \"f53\",\n",
      "            \"type\": \"float\"\n",
      "          },\n",
      "          {\n",
      "            \"name\": \"f54\",\n",
      "            \"type\": \"float\"\n",
      "          },\n",
      "          {\n",
      "            \"name\": \"f55\",\n",
      "            \"type\": \"float\"\n",
      "          },\n",
      "          {\n",
      "            \"name\": \"f56\",\n",
      "            \"type\": \"float\"\n",
      "          },\n",
      "          {\n",
      "            \"name\": \"f57\",\n",
      "            \"type\": \"float\"\n",
      "          },\n",
      "          {\n",
      "            \"name\": \"f58\",\n",
      "            \"type\": \"float\"\n",
      "          },\n",
      "          {\n",
      "            \"name\": \"f59\",\n",
      "            \"type\": \"float\"\n",
      "          },\n",
      "          {\n",
      "            \"name\": \"f60\",\n",
      "            \"type\": \"float\"\n",
      "          },\n",
      "          {\n",
      "            \"name\": \"f61\",\n",
      "            \"type\": \"float\"\n",
      "          },\n",
      "          {\n",
      "            \"name\": \"f62\",\n",
      "            \"type\": \"float\"\n",
      "          },\n",
      "          {\n",
      "            \"name\": \"f63\",\n",
      "            \"type\": \"float\"\n",
      "          }\n",
      "        ]\n",
      "      },\n",
      "      \"labels\": {\n",
      "        \"type\": \"ndarray\",\n",
      "        \"fields\": [\n",
      "          {\n",
      "            \"name\": \"l1\",\n",
      "            \"type\": \"int\"\n",
      "          }\n",
      "        ]\n",
      "      }\n",
      "    }\n",
      "  }\n",
      "}\n"
     ]
    }
   ],
   "source": [
    "published_model_uid = client.repository.get_model_uid(published_model)\n",
    "model_details = client.repository.get_details(published_model_uid)\n",
    "\n",
    "print(json.dumps(model_details, indent=2))"
   ]
  },
  {
   "cell_type": "markdown",
   "metadata": {},
   "source": [
    "#### Get information of all the models in the WML repository."
   ]
  },
  {
   "cell_type": "code",
   "execution_count": 26,
   "metadata": {},
   "outputs": [
    {
     "name": "stdout",
     "output_type": "stream",
     "text": [
      "------------------------------------  -------------------------------------------  ------------------------  -----------------\n",
      "GUID                                  NAME                                         CREATED                   FRAMEWORK\n",
      "bd774b79-1bb7-4396-9edf-d7acb57a3fe0  Digits prediction model                      2019-07-08T20:29:03.612Z  scikit-learn-0.19\n",
      "53b90fb3-0d12-4d66-96c8-b4e4cf96a0ae  Customer churn Spark model                   2019-07-03T15:47:49.776Z  mllib-2.3\n",
      "ad24c140-f97a-49f2-b02c-f8ce44a58c27  Custom ARIMA estimator for sklearn pipeline  2019-07-03T01:04:33.998Z  scikit-learn-0.19\n",
      "471b39cc-9c3b-4ff9-a8ea-0297efe0ca5d  Boston house price prediction                2019-05-20T18:19:55.433Z  scikit-learn-0.19\n",
      "fc5462c8-7eb9-4dda-8b0a-947e2faa30da  WML Product Line Prediction Model            2019-05-17T17:33:53.278Z  mllib-2.3\n",
      "a57e82a9-076e-4236-8bd2-7465e726c419  WML Product Line Prediction Model            2019-05-17T17:28:36.434Z  mllib-2.3\n",
      "914b598b-f52e-4a87-bfed-2f4163eba25e  Boston house price prediction                2019-05-13T21:11:04.132Z  scikit-learn-0.19\n",
      "43dbda1f-34f4-4396-9b57-942d96389440  Boston house price prediction                2019-05-13T19:16:12.783Z  scikit-learn-0.19\n",
      "20da8eb9-36d3-4230-bf0c-ba4f7434080c  ML Contest - Label Prediction Model          2019-05-07T16:43:17.658Z  scikit-learn-0.19\n",
      "6ee6777d-b716-49e8-acf0-1913fec902f3  ML Contest - ETA Prediction Model            2019-05-07T16:43:16.065Z  scikit-learn-0.19\n",
      "3bb7e3ab-836a-4331-9676-7bcc07cc2d63  ML Contest - Assignee Prediction Model       2019-05-07T16:43:14.430Z  scikit-learn-0.19\n",
      "0ffb0000-511b-443d-a4fe-3e076ce2381c  WML Product Line Prediction Model            2019-04-26T17:19:09.804Z  mllib-2.3\n",
      "eecf9e06-24cc-4675-a84e-adcf863b0ec6  WML Product Line Prediction Model            2019-04-26T16:57:07.468Z  mllib-2.3\n",
      "24f8c253-ab45-45fc-ab94-65ceba1f3dcc  WML Product Line Prediction Model            2019-04-25T22:15:37.304Z  mllib-2.3\n",
      "9eabbb0d-aaaf-4f00-a7b4-609b8253c9ab  Time Series SPSS Model                       2019-03-22T17:48:22.760Z  spss-modeler-18.1\n",
      "0de88973-a74f-46c7-9ce5-bb3a72457ebc  TensorFlow MNIST model                       2019-03-15T18:27:25.134Z  tensorflow-1.5\n",
      "f72ed23b-a7dd-4668-8b18-60e55ae2a59a  Best Heart Drug Selection                    2019-03-12T23:47:20.526Z  mllib-2.3\n",
      "2660bd78-4ecb-4224-85d6-667b43eb3813  Sentiment Prediction Model                   2019-03-12T23:01:07.679Z  mllib-2.3\n",
      "93638ac0-a8ae-4cf7-a3b5-47e026ad5bcd  SPSS model for Churn prediction              2019-03-12T12:59:13.801Z  spss-modeler-18.1\n",
      "4e7d708b-783c-4f82-95c2-90d02957031f  Customer churn Spark model                   2019-03-11T15:27:06.684Z  mllib-2.3\n",
      "56529f33-9bce-45f5-87f5-b6bc838b88a0  MNIST best model                             2019-03-07T13:37:39.720Z  tensorflow-1.5\n",
      "a59d7814-b8f9-4e13-b433-253364dec6ff  Customer churn Spark model                   2019-03-07T13:14:14.864Z  mllib-2.3\n",
      "5fb4a3c0-f18a-4936-ba15-294c13849167  Product line model                           2019-03-06T14:24:29.322Z  mllib-2.3\n",
      "193f97a4-2a48-4be7-9497-11ccc58aebb3  My cool mnist model                          2019-03-06T12:52:11.179Z  tensorflow-1.5\n",
      "2dcc72ce-16c2-4ad0-94c8-77f37317b47b  Boston house price prediction                2019-03-06T11:45:30.725Z  scikit-learn-0.19\n",
      "f7982685-3040-4936-a7a4-d42aec6b2e1c  Boston house price prediction                2019-03-06T11:32:56.268Z  scikit-learn-0.19\n",
      "c9dfebfa-0411-4e3e-a9c5-9a311444ed59  CHAID PMML model for Iris data               2019-03-04T12:59:21.351Z  pmml-4.2\n",
      "c0e97a79-7db0-471e-afd8-f3e238fd16b6  XGBoost model for breast cancer              2019-02-28T19:11:24.484Z  scikit-learn-0.19\n",
      "8008b47c-0f07-482c-8d2f-0b6940c824e5  SMS Spam prediction model                    2019-02-28T00:57:59.713Z  scikit-learn-0.19\n",
      "f2ea0716-7d1f-484a-8468-14f4b6ec7333  WML Product Line Prediction Model            2019-02-27T13:50:04.628Z  mllib-2.3\n",
      "fe1f7f54-b66f-46ed-8785-9fa5d129e02e  SPSS model for Churn prediction              2019-02-27T11:53:10.672Z  spss-modeler-18.1\n",
      "7bd8d8b7-bb2b-4e71-95e6-502fec50657f  SPSS model for Churn prediction              2019-02-27T09:29:04.867Z  spss-modeler-18.1\n",
      "c4fbb8ff-0e1b-4c45-b155-85b07527ecc3  SPSS model for Churn prediction              2019-02-26T13:13:42.220Z  spss-modeler-18.1\n",
      "8a245de4-7907-44fe-b67f-3cf1746d9eb4  CHAID PMML model for Iris data               2019-02-25T13:09:14.752Z  pmml-4.2\n",
      "462931ef-bcf8-486c-8bcb-2b2c114cb20c  MNIST - compressed keras model               2019-02-25T12:29:43.085Z  tensorflow-1.5\n",
      "e349018e-a37c-4d26-bb86-01ce7f52bdaa  SMS Spam prediction model                    2019-02-13T15:52:39.175Z  scikit-learn-0.19\n",
      "0cc8a058-6b08-4ae5-84df-a62d49e0f4bf  SPSS XGBoost Tree Regression model_auto-opt  2019-02-12T19:00:25.864Z  spss-modeler-18.1\n",
      "67ee96bc-cb64-4ad0-8255-bf471df915bb  SMS Spam prediction model                    2019-02-12T02:48:36.430Z  scikit-learn-0.19\n",
      "9de866c9-bb52-4c19-b095-94c265530f46  Earthquake magnitude prediction model        2019-02-11T16:41:38.815Z  tensorflow-1.12\n",
      "f514ff10-8857-433c-89b0-280c708a6e26  Earthquake magnitude prediction model        2019-02-11T16:31:26.538Z  tensorflow-1.12\n",
      "e561751f-d7d9-4c6f-a7af-6677baf3d45f  Earthquake magnitude prediction model        2019-02-07T00:21:53.513Z  tensorflow-1.12\n",
      "f87ac4d9-7a05-435d-98eb-6eacd290e3cc  Earthquake magnitude prediction model        2019-02-07T00:08:13.678Z  tensorflow-1.12\n",
      "482e49ea-1207-45b8-bf57-89d57bc44678  SPSS XGBoost Regression Model - Car Price    2019-02-05T18:09:21.456Z  spss-modeler-18.1\n",
      "e0ef0258-ef7c-45f0-9466-3568e03fed65  SPSS (Auto) Regression Model - Car Price     2019-01-30T23:18:33.431Z  spss-modeler-18.1\n",
      "afb7a22e-1e6c-4e29-a1da-5305a2f5a16b  WML Product Line Prediction Model            2019-01-19T19:36:59.710Z  mllib-2.3\n",
      "61c9afb7-94ae-4c05-ad2b-dc734bb0f932  SPSS model for Churn prediction              2019-01-18T10:28:30.835Z  spss-modeler-18.1\n",
      "52e8d90f-482a-4358-8889-979ecb5f35c0  CHAID PMML model for Iris data               2019-01-18T09:36:11.392Z  pmml-4.2\n",
      "47b21e40-eba3-4cda-b7d2-cb9a2d31d12d  Customer churn Spark model                   2019-01-18T06:45:13.422Z  mllib-2.3\n",
      "f5eb38e5-2b04-4da0-bf14-3edafe554be8  Customer churn Spark model                   2019-01-18T02:18:45.291Z  mllib-2.3\n",
      "e772e16f-936f-4f20-849d-259ea80b1e87  Product line model                           2019-01-17T09:57:27.972Z  mllib-2.3\n",
      "------------------------------------  -------------------------------------------  ------------------------  -----------------\n",
      "Note: Only first 50 records were displayed. To display more use 'limit' parameter.\n"
     ]
    }
   ],
   "source": [
    "models_details = client.repository.list_models()"
   ]
  },
  {
   "cell_type": "markdown",
   "metadata": {},
   "source": [
    "### 4.3 Load a model from the WML repository<a id='load_model'></a>"
   ]
  },
  {
   "cell_type": "markdown",
   "metadata": {},
   "source": [
    "In this subsection, you will learn how to load a saved model from a specific WML instance."
   ]
  },
  {
   "cell_type": "code",
   "execution_count": 27,
   "metadata": {},
   "outputs": [],
   "source": [
    "loaded_model = client.repository.load(published_model_uid)"
   ]
  },
  {
   "cell_type": "markdown",
   "metadata": {},
   "source": [
    "Make test predictions to check that the model has been loaded correctly."
   ]
  },
  {
   "cell_type": "code",
   "execution_count": 28,
   "metadata": {},
   "outputs": [],
   "source": [
    "test_predictions = loaded_model.predict(test_data[:10])"
   ]
  },
  {
   "cell_type": "code",
   "execution_count": 29,
   "metadata": {},
   "outputs": [
    {
     "name": "stdout",
     "output_type": "stream",
     "text": [
      "[4 0 5 3 6 9 6 4 7 5]\n"
     ]
    }
   ],
   "source": [
    "# The predictions made by the model.\n",
    "print(test_predictions)"
   ]
  },
  {
   "cell_type": "code",
   "execution_count": 30,
   "metadata": {},
   "outputs": [
    {
     "data": {
      "image/png": "[encoded data removed]",
      "text/plain": [
       "<Figure size 1080x360 with 10 Axes>"
      ]
     },
     "metadata": {
      "needs_background": "light"
     },
     "output_type": "display_data"
    }
   ],
   "source": [
    "# Visualize the test set images used for the prediction.\n",
    "f, ((ax1, ax2, ax3, ax4, ax5), (ax6, ax7, ax8, ax9, ax10)) = plt.subplots(2, 5, figsize=(15,5))\n",
    "ax = [ax1, ax2, ax3, ax4, ax5, ax6, ax7, ax8, ax9, ax10]\n",
    "\n",
    "for i in range (len(ax)):\n",
    "    plt.gray()\n",
    "    ax[i].matshow(test_data[i].reshape((8, 8)))"
   ]
  },
  {
   "cell_type": "code",
   "execution_count": 31,
   "metadata": {},
   "outputs": [
    {
     "data": {
      "text/plain": [
       "array([4, 0, 5, 3, 6, 9, 6, 1, 7, 5])"
      ]
     },
     "execution_count": 31,
     "metadata": {},
     "output_type": "execute_result"
    }
   ],
   "source": [
    "# The correct labels for the digits above.\n",
    "test_labels[:10]"
   ]
  },
  {
   "cell_type": "markdown",
   "metadata": {},
   "source": [
    "As you can see, you are able to make predictions which means that the model has loaded correctly. You have now learned how save and load the model in/from the WML repository."
   ]
  },
  {
   "cell_type": "markdown",
   "metadata": {},
   "source": [
    "### 4.4 Delete a model from the WML repository<a id='delete'></a>"
   ]
  },
  {
   "cell_type": "markdown",
   "metadata": {},
   "source": [
    "The code in the following cell deletes a published model from the WML repository. The code is not executable at this stage because you still need the model for deployment."
   ]
  },
  {
   "cell_type": "raw",
   "metadata": {},
   "source": [
    "client.repository.delete(published_model_uid)"
   ]
  },
  {
   "cell_type": "markdown",
   "metadata": {},
   "source": [
    "<a id='scoring'></a>\n",
    "## 5. Deploy and score data in the WML repository"
   ]
  },
  {
   "cell_type": "markdown",
   "metadata": {},
   "source": [
    "In this section, you will learn how to use the WML API client to perform online scoring and score a test data record.\n",
    "\n",
    "- [5.1 Create an online deployment for the published model](#create)\n",
    "- [5.2 Get deployments](#getdeploy)\n",
    "- [5.3 Score data](#score)\n",
    "- [5.4 Delete the deployment](#deldeploy)\n",
    "- [5.5 Delete the model](#delmodel)\n"
   ]
  },
  {
   "cell_type": "markdown",
   "metadata": {},
   "source": [
    "### 5.1 Create an online deployment for the published model<a id='create'></a>"
   ]
  },
  {
   "cell_type": "code",
   "execution_count": 32,
   "metadata": {},
   "outputs": [
    {
     "name": "stdout",
     "output_type": "stream",
     "text": [
      "\n",
      "\n",
      "#######################################################################################\n",
      "\n",
      "Synchronous deployment creation for uid: 'bd774b79-1bb7-4396-9edf-d7acb57a3fe0' started\n",
      "\n",
      "#######################################################################################\n",
      "\n",
      "\n",
      "INITIALIZING\n",
      "DEPLOY_SUCCESS\n",
      "\n",
      "\n",
      "------------------------------------------------------------------------------------------------\n",
      "Successfully finished deployment creation, deployment_uid='ef8e0308-07ef-468a-bb72-06b2e9c4d4b8'\n",
      "------------------------------------------------------------------------------------------------\n",
      "\n",
      "\n"
     ]
    }
   ],
   "source": [
    "created_deployment = client.deployments.create(published_model_uid, 'Deployment of scikit model')"
   ]
  },
  {
   "cell_type": "markdown",
   "metadata": {},
   "source": [
    "**Note**: You use the deployment url saved in published_model_uid object. The next section shows you how to retrieve the deployment url from the WML instance."
   ]
  },
  {
   "cell_type": "markdown",
   "metadata": {},
   "source": [
    "Now, you can define and print an online scoring endpoint. "
   ]
  },
  {
   "cell_type": "markdown",
   "metadata": {},
   "source": [
    "### 5.2 Get deployments<a id='getdeploy'></a>"
   ]
  },
  {
   "cell_type": "code",
   "execution_count": 34,
   "metadata": {},
   "outputs": [],
   "source": [
    "deployments = client.deployments.get_details()"
   ]
  },
  {
   "cell_type": "markdown",
   "metadata": {},
   "source": [
    "You can get the deployment_url by parsing the deployment details for the last deployed model."
   ]
  },
  {
   "cell_type": "markdown",
   "metadata": {},
   "source": [
    "### 5.3 Score data<a id='score'></a>"
   ]
  },
  {
   "cell_type": "markdown",
   "metadata": {},
   "source": [
    "Use the following method to run a test scoring request against the deployed model."
   ]
  },
  {
   "cell_type": "markdown",
   "metadata": {},
   "source": [
    "**Action**: Prepare scoring payload with the records to score."
   ]
  },
  {
   "cell_type": "code",
   "execution_count": 36,
   "metadata": {},
   "outputs": [],
   "source": [
    "scoring_payload = {'values': [list(score_data[0]), list(score_data[1])]}"
   ]
  },
  {
   "cell_type": "markdown",
   "metadata": {},
   "source": [
    "Use the ``client.deployments.score()`` method to run the scoring."
   ]
  },
  {
   "cell_type": "code",
   "execution_count": 37,
   "metadata": {},
   "outputs": [],
   "source": [
    "predictions = client.deployments.score(scoring_endpoint, scoring_payload)"
   ]
  },
  {
   "cell_type": "code",
   "execution_count": 38,
   "metadata": {},
   "outputs": [
    {
     "name": "stdout",
     "output_type": "stream",
     "text": [
      "{\n",
      "  \"fields\": [\n",
      "    \"prediction\"\n",
      "  ],\n",
      "  \"values\": [\n",
      "    [\n",
      "      5\n",
      "    ],\n",
      "    [\n",
      "      2\n",
      "    ]\n",
      "  ]\n",
      "}\n"
     ]
    }
   ],
   "source": [
    "print(json.dumps(predictions, indent=2))"
   ]
  },
  {
   "cell_type": "markdown",
   "metadata": {},
   "source": [
    "### 5.4 Delete the deployment<a id='deldeploy'></a>"
   ]
  },
  {
   "cell_type": "markdown",
   "metadata": {},
   "source": [
    "Use the following method to delete the deployment."
   ]
  },
  {
   "cell_type": "code",
   "execution_count": 39,
   "metadata": {},
   "outputs": [
    {
     "data": {
      "text/plain": [
       "'SUCCESS'"
      ]
     },
     "execution_count": 39,
     "metadata": {},
     "output_type": "execute_result"
    }
   ],
   "source": [
    "client.deployments.delete(client.deployments.get_uid(created_deployment))"
   ]
  },
  {
   "cell_type": "markdown",
   "metadata": {},
   "source": [
    "You can check that your deployment was deleted by generating a list of your saved deployments:"
   ]
  },
  {
   "cell_type": "code",
   "execution_count": 40,
   "metadata": {},
   "outputs": [
    {
     "name": "stdout",
     "output_type": "stream",
     "text": [
      "------------------------------------  -------------------------------------------------------  -------  ------------------  ------------------------  -----------------  -------------\n",
      "GUID                                  NAME                                                     TYPE     STATE               CREATED                   FRAMEWORK          ARTIFACT TYPE\n",
      "7985e484-4192-400e-82e5-3756d4600668  ARIMA model python function deployment                   online   DEPLOY_SUCCESS      2019-07-03T20:33:40.817Z  n/a                function\n",
      "6aedb5b7-638a-4388-ab0d-45fecb3b7081  Customer Churn Prediction                                online   DEPLOY_SUCCESS      2019-07-03T15:51:34.166Z  mllib-2.3          model\n",
      "cfcd5f9e-5b07-4bea-b57d-304c12254add  sklearn_pipeline_arima                                   online   DEPLOY_SUCCESS      2019-07-03T01:06:29.302Z  scikit-learn-0.19  model\n",
      "7b045679-07c9-4225-9116-c153c6359588  Virtual deployment of Boston model                       virtual  DEPLOY_IN_PROGRESS  2019-05-20T18:20:14.124Z  scikit-learn-0.19  model\n",
      "2b9a344c-2dbf-4568-920d-bb5b598d8273  Online scoring                                           online   DEPLOY_SUCCESS      2019-05-17T17:34:23.382Z  mllib-2.3          model\n",
      "69aa4267-dc8c-4243-bc33-3ee7571c0ca4  Online scoring                                           online   DEPLOY_SUCCESS      2019-05-17T17:29:35.859Z  mllib-2.3          model\n",
      "81911f93-50bb-4fec-a146-eb6f8519b79e  Virtual deployment of Boston model                       virtual  DEPLOY_IN_PROGRESS  2019-05-13T21:11:07.340Z  scikit-learn-0.19  model\n",
      "4431988f-678b-4f40-92b4-2dbe63ea54e2  Virtual deployment of Boston model                       virtual  DEPLOY_IN_PROGRESS  2019-05-13T19:16:19.731Z  scikit-learn-0.19  model\n",
      "31fdffd5-6a0a-459f-a160-7c4be26ddf15  ML Contest - Label Prediction Model deployment           online   DEPLOY_SUCCESS      2019-05-07T16:48:56.694Z  scikit-learn-0.19  model\n",
      "18fe2647-55e0-451a-8f51-0c3195223981  ML Contest - Issue ETA Prediction Model deployment       online   DEPLOY_SUCCESS      2019-05-07T16:48:51.102Z  scikit-learn-0.19  model\n",
      "5649340d-248b-4d34-a2d8-ed3e0316ea9b  ML Contest - Assignee Prediction Model deployment        online   DEPLOY_SUCCESS      2019-05-07T16:48:45.286Z  scikit-learn-0.19  model\n",
      "49055fc5-88f4-46ea-b17a-517d75f120ba  Online scoring                                           online   DEPLOY_SUCCESS      2019-04-26T17:19:40.703Z  mllib-2.3          model\n",
      "7eb9b874-53b8-463c-bd19-058ee52e3e3d  Online scoring                                           online   DEPLOY_SUCCESS      2019-04-26T17:07:07.833Z  mllib-2.3          model\n",
      "8b95a4dd-4b3f-4b36-bd3e-b58b59f100e2  Mnist model deployment                                   online   DEPLOY_SUCCESS      2019-04-02T16:09:27.875Z  tensorflow-1.5     model\n",
      "451f5f1a-d1f5-4a90-a441-b2953053ae6f  Time Series model (SPSS) deployment                      online   DEPLOY_SUCCESS      2019-03-28T19:00:49.524Z  spss-modeler-18.1  model\n",
      "486a79af-ea0b-4e8e-8166-dc2bb43b6c98  TensorFlow MNIST model deployment                        online   DEPLOY_SUCCESS      2019-03-15T18:27:34.468Z  tensorflow-1.5     model\n",
      "92991643-a229-4f9e-a70a-3e9de612942e  Sample SPSS model deployment                             online   DEPLOY_SUCCESS      2019-03-12T12:59:15.857Z  spss-modeler-18.1  model\n",
      "dce80b25-3d32-4005-b96b-9d9c80a7239a  MNIST keras deployment                                   online   DEPLOY_FAILURE      2019-03-07T13:37:41.529Z  tensorflow-1.5     model\n",
      "00edc46c-5df5-482e-936a-4d9f2e5fbc06  Product line model deployment                            online   DEPLOY_SUCCESS      2019-03-06T14:30:35.086Z  mllib-2.3          model\n",
      "86da6500-18ff-4970-b3e4-7e335d4a08f9  Mnist model deployment                                   online   DEPLOY_SUCCESS      2019-03-06T12:52:13.175Z  tensorflow-1.5     model\n",
      "d250df1b-6e43-4c69-98d2-10ff25b5d63d  Virtual deployment of Boston model                       virtual  DEPLOY_SUCCESS      2019-03-06T11:45:33.176Z  scikit-learn-0.19  model\n",
      "6d3cf6bb-db92-427c-8b52-9d050d7bfec8  Virtual deployment of Boston model                       virtual  DEPLOY_SUCCESS      2019-03-06T11:32:59.110Z  scikit-learn-0.19  model\n",
      "ded4770f-c2fe-4653-9ce2-0c79ecfa10be  Iris species prediction                                  online   DEPLOY_SUCCESS      2019-03-04T12:59:23.413Z  pmml-4.2           model\n",
      "450f555b-1952-4ef1-90be-96a16f600345  Predict breast cancer                                    online   DEPLOY_SUCCESS      2019-02-28T19:11:28.862Z  scikit-learn-0.19  model\n",
      "dd987565-3e04-4179-9cf9-546710fbadcd  Web scraping python function deployment                  online   DEPLOY_SUCCESS      2019-02-28T11:50:04.209Z  n/a                function\n",
      "984ffa92-1c82-4b54-bb56-f6f85e915227  Web scraping python function deployment                  online   DEPLOY_SUCCESS      2019-02-27T17:50:16.907Z  n/a                function\n",
      "e5472c3f-c7d7-4a3e-9b20-44f03030373e  Web scraping python function deployment                  online   DEPLOY_SUCCESS      2019-02-27T16:51:24.029Z  n/a                function\n",
      "304c671c-6a48-496d-b27b-3ad9888a0156  Online scoring                                           online   DEPLOY_SUCCESS      2019-02-27T13:50:39.730Z  mllib-2.3          model\n",
      "18298746-41ec-4bac-928c-fc34e3708ca9  Sample SPSS model deployment                             online   DEPLOY_SUCCESS      2019-02-27T11:53:13.523Z  spss-modeler-18.1  model\n",
      "375d050d-1e3b-49e5-9f1d-655f28734ec7  Sample SPSS model deployment                             online   DEPLOY_SUCCESS      2019-02-27T09:29:07.286Z  spss-modeler-18.1  model\n",
      "2924aaaf-bddf-4567-8206-6972c163dfa4  Sample SPSS model deployment                             online   DEPLOY_SUCCESS      2019-02-26T13:13:44.977Z  spss-modeler-18.1  model\n",
      "feb87375-fca8-4b0c-8f2f-5c83a6e26115  Iris species prediction                                  online   DEPLOY_SUCCESS      2019-02-25T13:09:17.454Z  pmml-4.2           model\n",
      "a0e16777-75ad-489a-a6db-5213619381a4  Keras MNIST model deployment through compressed file.    online   DEPLOY_SUCCESS      2019-02-25T12:29:47.265Z  tensorflow-1.5     model\n",
      "5c5ebf10-c47a-4224-b35d-3646b0348af1  Web scraping python function deployment                  online   DEPLOY_SUCCESS      2019-02-21T14:58:00.141Z  n/a                function\n",
      "b9efb426-845a-45e7-b591-85c4bdb1417c  SMS Spam prediction model deployment.                    online   DEPLOY_SUCCESS      2019-02-13T15:52:48.108Z  scikit-learn-0.19  model\n",
      "569fb590-41aa-433e-aeb4-89a9688a4a7b  Keras earthquake magnitude prediction model deployment.  online   DEPLOY_SUCCESS      2019-02-11T16:41:49.568Z  tensorflow-1.12    model\n",
      "7b2ff02b-b6a7-4ef4-b0e6-6765b1c45766  Keras earthquake magnitude prediction model deployment.  online   DEPLOY_SUCCESS      2019-02-07T00:21:58.175Z  tensorflow-1.12    model\n",
      "a738de63-d74e-454a-9dd7-f377c65420bc  Online scoring                                           online   DEPLOY_SUCCESS      2019-01-19T19:49:21.391Z  mllib-2.3          model\n",
      "d8f43799-cf5c-499f-a9d3-42d2e398f337  Sample SPSS model deployment                             online   DEPLOY_SUCCESS      2019-01-18T10:28:38.134Z  spss-modeler-18.1  model\n",
      "12056c7c-6ff1-454d-b324-d1cf4b42c4fd  Iris species prediction                                  online   DEPLOY_SUCCESS      2019-01-18T09:36:17.097Z  pmml-4.2           model\n",
      "a375c7bc-963d-4a9b-9896-7dbcdcaed78d  Web scraping python function deployment                  online   DEPLOY_SUCCESS      2019-01-17T10:11:40.324Z  n/a                function\n",
      "a8b47a68-060c-4474-a5c0-15da3304063a  Product line model deployment                            online   DEPLOY_SUCCESS      2019-01-17T10:02:44.991Z  mllib-2.3          model\n",
      "ada89546-d27c-4c32-953f-84f2238eb12a  Product line model deployment                            online   DEPLOY_SUCCESS      2019-01-17T07:14:05.178Z  mllib-2.3          model\n",
      "902853d1-9ff6-40a7-8918-d6b7b39c3a4e  Web scraping python function deployment                  online   DEPLOY_SUCCESS      2019-01-17T02:37:29.921Z  n/a                function\n",
      "3da0fb97-24b9-44d6-ac16-e97a0cf8dfcb  Keras MNIST model deployment through compressed file.    online   DEPLOY_SUCCESS      2019-01-15T14:49:46.285Z  tensorflow-1.5     model\n",
      "------------------------------------  -------------------------------------------------------  -------  ------------------  ------------------------  -----------------  -------------\n"
     ]
    }
   ],
   "source": [
    "client.deployments.list()"
   ]
  },
  {
   "cell_type": "markdown",
   "metadata": {},
   "source": [
    "### 5.5 Delete the model<a id='delmodel'></a>"
   ]
  },
  {
   "cell_type": "code",
   "execution_count": 41,
   "metadata": {},
   "outputs": [
    {
     "data": {
      "text/plain": [
       "'SUCCESS'"
      ]
     },
     "execution_count": 41,
     "metadata": {},
     "output_type": "execute_result"
    }
   ],
   "source": [
    "client.repository.delete(published_model_uid)"
   ]
  },
  {
   "cell_type": "markdown",
   "metadata": {},
   "source": [
    "You can check that your model was deleted by generating a list of your saved models:"
   ]
  },
  {
   "cell_type": "code",
   "execution_count": 42,
   "metadata": {},
   "outputs": [
    {
     "name": "stdout",
     "output_type": "stream",
     "text": [
      "------------------------------------  -------------------------------------------  ------------------------  -----------------\n",
      "GUID                                  NAME                                         CREATED                   FRAMEWORK\n",
      "53b90fb3-0d12-4d66-96c8-b4e4cf96a0ae  Customer churn Spark model                   2019-07-03T15:47:49.776Z  mllib-2.3\n",
      "ad24c140-f97a-49f2-b02c-f8ce44a58c27  Custom ARIMA estimator for sklearn pipeline  2019-07-03T01:04:33.998Z  scikit-learn-0.19\n",
      "471b39cc-9c3b-4ff9-a8ea-0297efe0ca5d  Boston house price prediction                2019-05-20T18:19:55.433Z  scikit-learn-0.19\n",
      "fc5462c8-7eb9-4dda-8b0a-947e2faa30da  WML Product Line Prediction Model            2019-05-17T17:33:53.278Z  mllib-2.3\n",
      "a57e82a9-076e-4236-8bd2-7465e726c419  WML Product Line Prediction Model            2019-05-17T17:28:36.434Z  mllib-2.3\n",
      "914b598b-f52e-4a87-bfed-2f4163eba25e  Boston house price prediction                2019-05-13T21:11:04.132Z  scikit-learn-0.19\n",
      "43dbda1f-34f4-4396-9b57-942d96389440  Boston house price prediction                2019-05-13T19:16:12.783Z  scikit-learn-0.19\n",
      "20da8eb9-36d3-4230-bf0c-ba4f7434080c  ML Contest - Label Prediction Model          2019-05-07T16:43:17.658Z  scikit-learn-0.19\n",
      "6ee6777d-b716-49e8-acf0-1913fec902f3  ML Contest - ETA Prediction Model            2019-05-07T16:43:16.065Z  scikit-learn-0.19\n",
      "3bb7e3ab-836a-4331-9676-7bcc07cc2d63  ML Contest - Assignee Prediction Model       2019-05-07T16:43:14.430Z  scikit-learn-0.19\n",
      "0ffb0000-511b-443d-a4fe-3e076ce2381c  WML Product Line Prediction Model            2019-04-26T17:19:09.804Z  mllib-2.3\n",
      "eecf9e06-24cc-4675-a84e-adcf863b0ec6  WML Product Line Prediction Model            2019-04-26T16:57:07.468Z  mllib-2.3\n",
      "24f8c253-ab45-45fc-ab94-65ceba1f3dcc  WML Product Line Prediction Model            2019-04-25T22:15:37.304Z  mllib-2.3\n",
      "9eabbb0d-aaaf-4f00-a7b4-609b8253c9ab  Time Series SPSS Model                       2019-03-22T17:48:22.760Z  spss-modeler-18.1\n",
      "0de88973-a74f-46c7-9ce5-bb3a72457ebc  TensorFlow MNIST model                       2019-03-15T18:27:25.134Z  tensorflow-1.5\n",
      "f72ed23b-a7dd-4668-8b18-60e55ae2a59a  Best Heart Drug Selection                    2019-03-12T23:47:20.526Z  mllib-2.3\n",
      "2660bd78-4ecb-4224-85d6-667b43eb3813  Sentiment Prediction Model                   2019-03-12T23:01:07.679Z  mllib-2.3\n",
      "93638ac0-a8ae-4cf7-a3b5-47e026ad5bcd  SPSS model for Churn prediction              2019-03-12T12:59:13.801Z  spss-modeler-18.1\n",
      "4e7d708b-783c-4f82-95c2-90d02957031f  Customer churn Spark model                   2019-03-11T15:27:06.684Z  mllib-2.3\n",
      "56529f33-9bce-45f5-87f5-b6bc838b88a0  MNIST best model                             2019-03-07T13:37:39.720Z  tensorflow-1.5\n",
      "a59d7814-b8f9-4e13-b433-253364dec6ff  Customer churn Spark model                   2019-03-07T13:14:14.864Z  mllib-2.3\n",
      "5fb4a3c0-f18a-4936-ba15-294c13849167  Product line model                           2019-03-06T14:24:29.322Z  mllib-2.3\n",
      "193f97a4-2a48-4be7-9497-11ccc58aebb3  My cool mnist model                          2019-03-06T12:52:11.179Z  tensorflow-1.5\n",
      "2dcc72ce-16c2-4ad0-94c8-77f37317b47b  Boston house price prediction                2019-03-06T11:45:30.725Z  scikit-learn-0.19\n",
      "f7982685-3040-4936-a7a4-d42aec6b2e1c  Boston house price prediction                2019-03-06T11:32:56.268Z  scikit-learn-0.19\n",
      "c9dfebfa-0411-4e3e-a9c5-9a311444ed59  CHAID PMML model for Iris data               2019-03-04T12:59:21.351Z  pmml-4.2\n",
      "c0e97a79-7db0-471e-afd8-f3e238fd16b6  XGBoost model for breast cancer              2019-02-28T19:11:24.484Z  scikit-learn-0.19\n",
      "8008b47c-0f07-482c-8d2f-0b6940c824e5  SMS Spam prediction model                    2019-02-28T00:57:59.713Z  scikit-learn-0.19\n",
      "f2ea0716-7d1f-484a-8468-14f4b6ec7333  WML Product Line Prediction Model            2019-02-27T13:50:04.628Z  mllib-2.3\n",
      "fe1f7f54-b66f-46ed-8785-9fa5d129e02e  SPSS model for Churn prediction              2019-02-27T11:53:10.672Z  spss-modeler-18.1\n",
      "7bd8d8b7-bb2b-4e71-95e6-502fec50657f  SPSS model for Churn prediction              2019-02-27T09:29:04.867Z  spss-modeler-18.1\n",
      "c4fbb8ff-0e1b-4c45-b155-85b07527ecc3  SPSS model for Churn prediction              2019-02-26T13:13:42.220Z  spss-modeler-18.1\n",
      "8a245de4-7907-44fe-b67f-3cf1746d9eb4  CHAID PMML model for Iris data               2019-02-25T13:09:14.752Z  pmml-4.2\n",
      "462931ef-bcf8-486c-8bcb-2b2c114cb20c  MNIST - compressed keras model               2019-02-25T12:29:43.085Z  tensorflow-1.5\n",
      "e349018e-a37c-4d26-bb86-01ce7f52bdaa  SMS Spam prediction model                    2019-02-13T15:52:39.175Z  scikit-learn-0.19\n",
      "0cc8a058-6b08-4ae5-84df-a62d49e0f4bf  SPSS XGBoost Tree Regression model_auto-opt  2019-02-12T19:00:25.864Z  spss-modeler-18.1\n",
      "67ee96bc-cb64-4ad0-8255-bf471df915bb  SMS Spam prediction model                    2019-02-12T02:48:36.430Z  scikit-learn-0.19\n",
      "9de866c9-bb52-4c19-b095-94c265530f46  Earthquake magnitude prediction model        2019-02-11T16:41:38.815Z  tensorflow-1.12\n",
      "f514ff10-8857-433c-89b0-280c708a6e26  Earthquake magnitude prediction model        2019-02-11T16:31:26.538Z  tensorflow-1.12\n",
      "e561751f-d7d9-4c6f-a7af-6677baf3d45f  Earthquake magnitude prediction model        2019-02-07T00:21:53.513Z  tensorflow-1.12\n",
      "f87ac4d9-7a05-435d-98eb-6eacd290e3cc  Earthquake magnitude prediction model        2019-02-07T00:08:13.678Z  tensorflow-1.12\n",
      "482e49ea-1207-45b8-bf57-89d57bc44678  SPSS XGBoost Regression Model - Car Price    2019-02-05T18:09:21.456Z  spss-modeler-18.1\n",
      "e0ef0258-ef7c-45f0-9466-3568e03fed65  SPSS (Auto) Regression Model - Car Price     2019-01-30T23:18:33.431Z  spss-modeler-18.1\n",
      "afb7a22e-1e6c-4e29-a1da-5305a2f5a16b  WML Product Line Prediction Model            2019-01-19T19:36:59.710Z  mllib-2.3\n",
      "61c9afb7-94ae-4c05-ad2b-dc734bb0f932  SPSS model for Churn prediction              2019-01-18T10:28:30.835Z  spss-modeler-18.1\n",
      "52e8d90f-482a-4358-8889-979ecb5f35c0  CHAID PMML model for Iris data               2019-01-18T09:36:11.392Z  pmml-4.2\n",
      "47b21e40-eba3-4cda-b7d2-cb9a2d31d12d  Customer churn Spark model                   2019-01-18T06:45:13.422Z  mllib-2.3\n",
      "f5eb38e5-2b04-4da0-bf14-3edafe554be8  Customer churn Spark model                   2019-01-18T02:18:45.291Z  mllib-2.3\n",
      "e772e16f-936f-4f20-849d-259ea80b1e87  Product line model                           2019-01-17T09:57:27.972Z  mllib-2.3\n",
      "afed5f15-80e0-4dce-8cac-d2bfcdab8a4d  Product line model                           2019-01-17T06:55:55.312Z  mllib-2.3\n",
      "------------------------------------  -------------------------------------------  ------------------------  -----------------\n",
      "Note: Only first 50 records were displayed. To display more use 'limit' parameter.\n"
     ]
    }
   ],
   "source": [
    "client.repository.list_models()"
   ]
  },
  {
   "cell_type": "markdown",
   "metadata": {
    "collapsed": true
   },
   "source": [
    "<a id='summary'></a>\n",
    "## 6. Summary and next steps     "
   ]
  },
  {
   "cell_type": "markdown",
   "metadata": {
    "collapsed": true
   },
   "source": [
    "You successfully completed this notebook! \n",
    " \n",
    "You learned how to use scikit-learn machine learning as well as Watson Machine Learning (WML) API client for model creation and deployment. \n",
    "\n",
    "Check out our <a href=\"https://dataplatform.ibm.com/docs/content/analyze-data/wml-setup.html\" target=\"_blank\" rel=\"noopener noreferrer\">Online Documentation</a> for more samples, tutorials, documentation, how-tos, and blog posts. "
   ]
  },
  {
   "cell_type": "markdown",
   "metadata": {},
   "source": [
    "### Authors\n",
    "\n",
    "**Wojciech Sobala** is a Data Scientist at IBM developing enterprise-level applications that substantially increases clients' ability to turn data into actionable knowledge.  \n",
    "**Ananya Kaushik** is a Data Scientist at IBM."
   ]
  },
  {
   "cell_type": "markdown",
   "metadata": {},
   "source": [
    "Copyright © 2017-2019 IBM. This notebook and its source code are released under the terms of the MIT License."
   ]
  },
  {
   "cell_type": "markdown",
   "metadata": {},
   "source": [
    "<div style='background:#F5F7FA; height:110px; padding: 2em; font-size:14px;'>\n",
    "<span style='font-size:18px;color:#152935;'>Love this notebook? </span>\n",
    "<span style='font-size:15px;color:#152935;float:right;margin-right:40px;'>Don't have an account yet?</span><br>\n",
    "<span style='color:#5A6872;'>Share it with your colleagues and help them discover the power of Watson Studio!</span>\n",
    "<span style='border: 1px solid #3d70b2;padding:8px;float:right;margin-right:40px; color:#3d70b2;'><a href='https://ibm.co/wsnotebooks' target='_blank' style='color: #3d70b2;text-decoration: none;'>Sign Up</a></span><br>\n",
    "</div>"
   ]
  }
 ],
 "metadata": {
  "kernelspec": {
   "display_name": "Python 3.6",
   "language": "python",
   "name": "python3"
  },
  "language_info": {
   "codemirror_mode": {
    "name": "ipython",
    "version": 3
   },
   "file_extension": ".py",
   "mimetype": "text/x-python",
   "name": "python",
   "nbconvert_exporter": "python",
   "pygments_lexer": "ipython3",
   "version": "3.6.8"
  }
 },
 "nbformat": 4,
 "nbformat_minor": 1
}
