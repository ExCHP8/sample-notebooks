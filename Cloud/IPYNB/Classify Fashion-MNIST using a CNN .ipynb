{
 "cells": [
  {
   "cell_type": "markdown",
   "metadata": {},
   "source": [
    "# Classify the Fashion-MNIST data set using a CNN in a GPU powered notebook\n",
    "\n",
    "This notebook guides you through the basic steps in constructing a Convolutional Neural Network with the Keras and TensorFlow libraries in IBM Watson Studio, including training the model directly in the notebook using a GPU environment. In the notebook, you will learn how to save the model for future inference, deploy it and score it using the IBM Watson Machine Learning service.\n",
    "\n",
    "Some familiarity with Python is recommended. This notebook runs on Python 3.6 with Tensorflow 1.12.\n",
    "\n",
    "## Contents\n",
    "\n",
    "\n",
    "1.\t[Fashion-MNIST data set](#dataset)\n",
    "2.\t[Import the data sets](#importdata)\n",
    "3.\t[Prepare the data sets](#preparedata)\n",
    "4.\t[Define the neural network](#neuralNetwork)\n",
    "5.\t[Train the network](#train)\n",
    "6.\t[Save and Deploy](#deploy)\n",
    "7.\t[Summary](#summary)"
   ]
  },
  {
   "cell_type": "markdown",
   "metadata": {},
   "source": [
    "<a id=\"dataset\"></a>\n",
    "<div><img src=\"https://github.com/zalandoresearch/fashion-mnist/raw/master/doc/img/fashion-mnist-sprite.png\", width=450, height=450, align = 'right', style=\"margin:10px 35px\"></div>\n",
    "\n",
    "## 1. Fashion MNIST data set\n",
    "You might already have heard of the original <a href=\"http://yann.lecun.com/exdb/mnist/\" target=\"_blank\" rel=\"noopener no referrer\">MNIST data set</a> which contains many handwritten digits. The Fashion-MNIST data set, which you will use in this notebook, is a replacement of the original data set of handwritten digits, which has been overused and is no longer representative for benchmarking machine learning algorithms. The Fashion MNIST data set contains images of Zalando articles. It comprises a training set of 60,000 images and a test set of 10,000 images. Each example in the training and test sets is a 28x28 grayscale image, associated with a label from 10 classes. The first column consists of the class labels (as you can see in the following section) and represents the article of clothing. The remaining columns contain the pixel-values of the associated image. You can read more about the data set <a href=\"https://github.com/zalandoresearch/fashion-mnist\" target=\"_blank\" rel=\"noopener no referrer\">here</a>.\n",
    "\n",
    "### Labels\n",
    "\n",
    "Each training and test example is assigned to one of the following labels:\n",
    "\n",
    "| **Label** | **Description** |\n",
    "|:----------|:----------------|\n",
    "|0 \t        |T-shirt/top      |\n",
    "|1 \t        |Trouser          |\n",
    "|2          |Pullover         |\n",
    "|3 \t        |Dress            |\n",
    "|4 \t        |Coat             |\n",
    "|5 \t        |Sandal           |\n",
    "|6 \t        |Shirt            |\n",
    "|7 \t        |Sneaker          |\n",
    "|8          |Bag              |\n",
    "|9          |Ankle boot       |\n"
   ]
  },
  {
   "cell_type": "markdown",
   "metadata": {},
   "source": [
    "<a id=\"importdata\"></a>\n",
    "\n",
    "## 2. Import the data sets\n",
    "To get the Fashion-MNIST training and test data sets:\n",
    "\n",
    "- Go to [this link](https://www.kaggle.com/zalando-research/fashionmnist) and then download the following data sets in CSV format:\n",
    "\n",
    "    - `fashion-mnist_train.csv`\n",
    "    - `fashion-mnist_test.csv`\n",
    "    \n",
    "- Save the CSV files to your local file system.\n",
    "\n",
    "- Load the data files to use in the notebook:\n",
    "\n",
    "   - On the notebook action bar, click the Data icon.\n",
    "   - Click **Add Source**, select **From file**, and browse to and then load the two NMIST data sets you saved to your local file system.\n",
    "\n",
    "The data files are listed on the Files tab and are stored in object storage."
   ]
  },
  {
   "cell_type": "markdown",
   "metadata": {},
   "source": [
    "### Insert code to access the training data set\n",
    "To access the training data in the `fashion-mnist_train.csv` file in your notebook, select the following empty cell, click **Insert to code** below the train CSV file, and then **Insert pandas DataFrame**. After the code is loaded, run the cell to read the CSV file.\n",
    "\n",
    "**Note**: The name of the returned dataframe will be something like df_data_1. Rename it to **train_df**. The variable **train_df** is used through out the remaining notebook to represent the training data set."
   ]
  },
  {
   "cell_type": "code",
   "execution_count": 1,
   "metadata": {},
   "outputs": [
    {
     "data": {
      "text/html": [
       "<div>\n",
       "<style scoped>\n",
       "    .dataframe tbody tr th:only-of-type {\n",
       "        vertical-align: middle;\n",
       "    }\n",
       "\n",
       "    .dataframe tbody tr th {\n",
       "        vertical-align: top;\n",
       "    }\n",
       "\n",
       "    .dataframe thead th {\n",
       "        text-align: right;\n",
       "    }\n",
       "</style>\n",
       "<table border=\"1\" class=\"dataframe\">\n",
       "  <thead>\n",
       "    <tr style=\"text-align: right;\">\n",
       "      <th></th>\n",
       "      <th>label</th>\n",
       "      <th>pixel1</th>\n",
       "      <th>pixel2</th>\n",
       "      <th>pixel3</th>\n",
       "      <th>pixel4</th>\n",
       "      <th>pixel5</th>\n",
       "      <th>pixel6</th>\n",
       "      <th>pixel7</th>\n",
       "      <th>pixel8</th>\n",
       "      <th>pixel9</th>\n",
       "      <th>...</th>\n",
       "      <th>pixel775</th>\n",
       "      <th>pixel776</th>\n",
       "      <th>pixel777</th>\n",
       "      <th>pixel778</th>\n",
       "      <th>pixel779</th>\n",
       "      <th>pixel780</th>\n",
       "      <th>pixel781</th>\n",
       "      <th>pixel782</th>\n",
       "      <th>pixel783</th>\n",
       "      <th>pixel784</th>\n",
       "    </tr>\n",
       "  </thead>\n",
       "  <tbody>\n",
       "    <tr>\n",
       "      <th>0</th>\n",
       "      <td>2</td>\n",
       "      <td>0</td>\n",
       "      <td>0</td>\n",
       "      <td>0</td>\n",
       "      <td>0</td>\n",
       "      <td>0</td>\n",
       "      <td>0</td>\n",
       "      <td>0</td>\n",
       "      <td>0</td>\n",
       "      <td>0</td>\n",
       "      <td>...</td>\n",
       "      <td>0</td>\n",
       "      <td>0</td>\n",
       "      <td>0</td>\n",
       "      <td>0</td>\n",
       "      <td>0</td>\n",
       "      <td>0</td>\n",
       "      <td>0</td>\n",
       "      <td>0</td>\n",
       "      <td>0</td>\n",
       "      <td>0</td>\n",
       "    </tr>\n",
       "    <tr>\n",
       "      <th>1</th>\n",
       "      <td>9</td>\n",
       "      <td>0</td>\n",
       "      <td>0</td>\n",
       "      <td>0</td>\n",
       "      <td>0</td>\n",
       "      <td>0</td>\n",
       "      <td>0</td>\n",
       "      <td>0</td>\n",
       "      <td>0</td>\n",
       "      <td>0</td>\n",
       "      <td>...</td>\n",
       "      <td>0</td>\n",
       "      <td>0</td>\n",
       "      <td>0</td>\n",
       "      <td>0</td>\n",
       "      <td>0</td>\n",
       "      <td>0</td>\n",
       "      <td>0</td>\n",
       "      <td>0</td>\n",
       "      <td>0</td>\n",
       "      <td>0</td>\n",
       "    </tr>\n",
       "    <tr>\n",
       "      <th>2</th>\n",
       "      <td>6</td>\n",
       "      <td>0</td>\n",
       "      <td>0</td>\n",
       "      <td>0</td>\n",
       "      <td>0</td>\n",
       "      <td>0</td>\n",
       "      <td>0</td>\n",
       "      <td>0</td>\n",
       "      <td>5</td>\n",
       "      <td>0</td>\n",
       "      <td>...</td>\n",
       "      <td>0</td>\n",
       "      <td>0</td>\n",
       "      <td>0</td>\n",
       "      <td>30</td>\n",
       "      <td>43</td>\n",
       "      <td>0</td>\n",
       "      <td>0</td>\n",
       "      <td>0</td>\n",
       "      <td>0</td>\n",
       "      <td>0</td>\n",
       "    </tr>\n",
       "    <tr>\n",
       "      <th>3</th>\n",
       "      <td>0</td>\n",
       "      <td>0</td>\n",
       "      <td>0</td>\n",
       "      <td>0</td>\n",
       "      <td>1</td>\n",
       "      <td>2</td>\n",
       "      <td>0</td>\n",
       "      <td>0</td>\n",
       "      <td>0</td>\n",
       "      <td>0</td>\n",
       "      <td>...</td>\n",
       "      <td>3</td>\n",
       "      <td>0</td>\n",
       "      <td>0</td>\n",
       "      <td>0</td>\n",
       "      <td>0</td>\n",
       "      <td>1</td>\n",
       "      <td>0</td>\n",
       "      <td>0</td>\n",
       "      <td>0</td>\n",
       "      <td>0</td>\n",
       "    </tr>\n",
       "    <tr>\n",
       "      <th>4</th>\n",
       "      <td>3</td>\n",
       "      <td>0</td>\n",
       "      <td>0</td>\n",
       "      <td>0</td>\n",
       "      <td>0</td>\n",
       "      <td>0</td>\n",
       "      <td>0</td>\n",
       "      <td>0</td>\n",
       "      <td>0</td>\n",
       "      <td>0</td>\n",
       "      <td>...</td>\n",
       "      <td>0</td>\n",
       "      <td>0</td>\n",
       "      <td>0</td>\n",
       "      <td>0</td>\n",
       "      <td>0</td>\n",
       "      <td>0</td>\n",
       "      <td>0</td>\n",
       "      <td>0</td>\n",
       "      <td>0</td>\n",
       "      <td>0</td>\n",
       "    </tr>\n",
       "  </tbody>\n",
       "</table>\n",
       "<p>5 rows × 785 columns</p>\n",
       "</div>"
      ],
      "text/plain": [
       "   label  pixel1  pixel2  pixel3  pixel4  pixel5  pixel6  pixel7  pixel8  \\\n",
       "0      2       0       0       0       0       0       0       0       0   \n",
       "1      9       0       0       0       0       0       0       0       0   \n",
       "2      6       0       0       0       0       0       0       0       5   \n",
       "3      0       0       0       0       1       2       0       0       0   \n",
       "4      3       0       0       0       0       0       0       0       0   \n",
       "\n",
       "   pixel9    ...     pixel775  pixel776  pixel777  pixel778  pixel779  \\\n",
       "0       0    ...            0         0         0         0         0   \n",
       "1       0    ...            0         0         0         0         0   \n",
       "2       0    ...            0         0         0        30        43   \n",
       "3       0    ...            3         0         0         0         0   \n",
       "4       0    ...            0         0         0         0         0   \n",
       "\n",
       "   pixel780  pixel781  pixel782  pixel783  pixel784  \n",
       "0         0         0         0         0         0  \n",
       "1         0         0         0         0         0  \n",
       "2         0         0         0         0         0  \n",
       "3         1         0         0         0         0  \n",
       "4         0         0         0         0         0  \n",
       "\n",
       "[5 rows x 785 columns]"
      ]
     },
     "execution_count": 1,
     "metadata": {},
     "output_type": "execute_result"
    }
   ],
   "source": []
  },
  {
   "cell_type": "markdown",
   "metadata": {},
   "source": [
    "### Insert code to access the test data set\n",
    "\n",
    "To access the test data in the `fashion-mnist_test.csv` file in your notebook, select the following empty cell, click **Insert to code** below the test CSV file, and then **Insert pandas DataFrame**. After the code is loaded, run the cell to read the CSV file.\n",
    "\n",
    "**Note**: The name of the returned dataframe will be something like df_data_1. Rename it to **test_df**. The variable **test_df** is used through out the remaining notebook to represent the test data set."
   ]
  },
  {
   "cell_type": "code",
   "execution_count": 2,
   "metadata": {},
   "outputs": [
    {
     "data": {
      "text/html": [
       "<div>\n",
       "<style scoped>\n",
       "    .dataframe tbody tr th:only-of-type {\n",
       "        vertical-align: middle;\n",
       "    }\n",
       "\n",
       "    .dataframe tbody tr th {\n",
       "        vertical-align: top;\n",
       "    }\n",
       "\n",
       "    .dataframe thead th {\n",
       "        text-align: right;\n",
       "    }\n",
       "</style>\n",
       "<table border=\"1\" class=\"dataframe\">\n",
       "  <thead>\n",
       "    <tr style=\"text-align: right;\">\n",
       "      <th></th>\n",
       "      <th>label</th>\n",
       "      <th>pixel1</th>\n",
       "      <th>pixel2</th>\n",
       "      <th>pixel3</th>\n",
       "      <th>pixel4</th>\n",
       "      <th>pixel5</th>\n",
       "      <th>pixel6</th>\n",
       "      <th>pixel7</th>\n",
       "      <th>pixel8</th>\n",
       "      <th>pixel9</th>\n",
       "      <th>...</th>\n",
       "      <th>pixel775</th>\n",
       "      <th>pixel776</th>\n",
       "      <th>pixel777</th>\n",
       "      <th>pixel778</th>\n",
       "      <th>pixel779</th>\n",
       "      <th>pixel780</th>\n",
       "      <th>pixel781</th>\n",
       "      <th>pixel782</th>\n",
       "      <th>pixel783</th>\n",
       "      <th>pixel784</th>\n",
       "    </tr>\n",
       "  </thead>\n",
       "  <tbody>\n",
       "    <tr>\n",
       "      <th>0</th>\n",
       "      <td>0</td>\n",
       "      <td>0</td>\n",
       "      <td>0</td>\n",
       "      <td>0</td>\n",
       "      <td>0</td>\n",
       "      <td>0</td>\n",
       "      <td>0</td>\n",
       "      <td>0</td>\n",
       "      <td>9</td>\n",
       "      <td>8</td>\n",
       "      <td>...</td>\n",
       "      <td>103</td>\n",
       "      <td>87</td>\n",
       "      <td>56</td>\n",
       "      <td>0</td>\n",
       "      <td>0</td>\n",
       "      <td>0</td>\n",
       "      <td>0</td>\n",
       "      <td>0</td>\n",
       "      <td>0</td>\n",
       "      <td>0</td>\n",
       "    </tr>\n",
       "    <tr>\n",
       "      <th>1</th>\n",
       "      <td>1</td>\n",
       "      <td>0</td>\n",
       "      <td>0</td>\n",
       "      <td>0</td>\n",
       "      <td>0</td>\n",
       "      <td>0</td>\n",
       "      <td>0</td>\n",
       "      <td>0</td>\n",
       "      <td>0</td>\n",
       "      <td>0</td>\n",
       "      <td>...</td>\n",
       "      <td>34</td>\n",
       "      <td>0</td>\n",
       "      <td>0</td>\n",
       "      <td>0</td>\n",
       "      <td>0</td>\n",
       "      <td>0</td>\n",
       "      <td>0</td>\n",
       "      <td>0</td>\n",
       "      <td>0</td>\n",
       "      <td>0</td>\n",
       "    </tr>\n",
       "    <tr>\n",
       "      <th>2</th>\n",
       "      <td>2</td>\n",
       "      <td>0</td>\n",
       "      <td>0</td>\n",
       "      <td>0</td>\n",
       "      <td>0</td>\n",
       "      <td>0</td>\n",
       "      <td>0</td>\n",
       "      <td>14</td>\n",
       "      <td>53</td>\n",
       "      <td>99</td>\n",
       "      <td>...</td>\n",
       "      <td>0</td>\n",
       "      <td>0</td>\n",
       "      <td>0</td>\n",
       "      <td>0</td>\n",
       "      <td>63</td>\n",
       "      <td>53</td>\n",
       "      <td>31</td>\n",
       "      <td>0</td>\n",
       "      <td>0</td>\n",
       "      <td>0</td>\n",
       "    </tr>\n",
       "    <tr>\n",
       "      <th>3</th>\n",
       "      <td>2</td>\n",
       "      <td>0</td>\n",
       "      <td>0</td>\n",
       "      <td>0</td>\n",
       "      <td>0</td>\n",
       "      <td>0</td>\n",
       "      <td>0</td>\n",
       "      <td>0</td>\n",
       "      <td>0</td>\n",
       "      <td>0</td>\n",
       "      <td>...</td>\n",
       "      <td>137</td>\n",
       "      <td>126</td>\n",
       "      <td>140</td>\n",
       "      <td>0</td>\n",
       "      <td>133</td>\n",
       "      <td>224</td>\n",
       "      <td>222</td>\n",
       "      <td>56</td>\n",
       "      <td>0</td>\n",
       "      <td>0</td>\n",
       "    </tr>\n",
       "    <tr>\n",
       "      <th>4</th>\n",
       "      <td>3</td>\n",
       "      <td>0</td>\n",
       "      <td>0</td>\n",
       "      <td>0</td>\n",
       "      <td>0</td>\n",
       "      <td>0</td>\n",
       "      <td>0</td>\n",
       "      <td>0</td>\n",
       "      <td>0</td>\n",
       "      <td>0</td>\n",
       "      <td>...</td>\n",
       "      <td>0</td>\n",
       "      <td>0</td>\n",
       "      <td>0</td>\n",
       "      <td>0</td>\n",
       "      <td>0</td>\n",
       "      <td>0</td>\n",
       "      <td>0</td>\n",
       "      <td>0</td>\n",
       "      <td>0</td>\n",
       "      <td>0</td>\n",
       "    </tr>\n",
       "  </tbody>\n",
       "</table>\n",
       "<p>5 rows × 785 columns</p>\n",
       "</div>"
      ],
      "text/plain": [
       "   label  pixel1  pixel2  pixel3  pixel4  pixel5  pixel6  pixel7  pixel8  \\\n",
       "0      0       0       0       0       0       0       0       0       9   \n",
       "1      1       0       0       0       0       0       0       0       0   \n",
       "2      2       0       0       0       0       0       0      14      53   \n",
       "3      2       0       0       0       0       0       0       0       0   \n",
       "4      3       0       0       0       0       0       0       0       0   \n",
       "\n",
       "   pixel9    ...     pixel775  pixel776  pixel777  pixel778  pixel779  \\\n",
       "0       8    ...          103        87        56         0         0   \n",
       "1       0    ...           34         0         0         0         0   \n",
       "2      99    ...            0         0         0         0        63   \n",
       "3       0    ...          137       126       140         0       133   \n",
       "4       0    ...            0         0         0         0         0   \n",
       "\n",
       "   pixel780  pixel781  pixel782  pixel783  pixel784  \n",
       "0         0         0         0         0         0  \n",
       "1         0         0         0         0         0  \n",
       "2        53        31         0         0         0  \n",
       "3       224       222        56         0         0  \n",
       "4         0         0         0         0         0  \n",
       "\n",
       "[5 rows x 785 columns]"
      ]
     },
     "execution_count": 2,
     "metadata": {},
     "output_type": "execute_result"
    }
   ],
   "source": []
  },
  {
   "cell_type": "markdown",
   "metadata": {},
   "source": [
    "<a id=\"preparedata\"></a>\n",
    "## 3. Prepare the data sets\n",
    "Let's begin the data preparation by normalizing the data dimensions so that they are of approximately the same scale.  Before you can start with this, you need to import the libraries you will be using and then extract the data from the previously loaded data frames into numpy arrays."
   ]
  },
  {
   "cell_type": "code",
   "execution_count": 3,
   "metadata": {},
   "outputs": [],
   "source": [
    "import numpy as np\n",
    "from sklearn.model_selection import train_test_split\n",
    "\n",
    "train_data = np.array(train_df, dtype='float32')\n",
    "test_data = np.array(test_df, dtype='float32')\n",
    "\n",
    "x_train = train_data[:, 1:] / 255\n",
    "y_train = train_data[:, 0]\n",
    "\n",
    "x_test = test_data[:, 1:] / 255\n",
    "y_test = test_data[:, 0]"
   ]
  },
  {
   "cell_type": "markdown",
   "metadata": {},
   "source": [
    "### Split into training, validation and test data sets\n",
    "Split the training data set comprising 60,000 images of different articles of clothing into a training set and a validation set. The training set should contain 80% of the training data set and the validation set 20%."
   ]
  },
  {
   "cell_type": "code",
   "execution_count": 4,
   "metadata": {},
   "outputs": [
    {
     "name": "stdout",
     "output_type": "stream",
     "text": [
      "Shape of the training data set (Features): (48000, 784)\n",
      "Shape of the training data set (Labels): (48000,)\n",
      "Shape of the validation data set (Features): (12000, 784)\n",
      "Shape of the validation data set (Labels): (12000,)\n"
     ]
    }
   ],
   "source": [
    "x_train, x_validate, y_train, y_validate = train_test_split(\n",
    "    x_train, y_train, test_size = 0.2, random_state=44)\n",
    "print(\"Shape of the training data set (Features): {}\".format(x_train.shape))\n",
    "print(\"Shape of the training data set (Labels): {}\".format(y_train.shape))\n",
    "print(\"Shape of the validation data set (Features): {}\".format(x_validate.shape))\n",
    "print(\"Shape of the validation data set (Labels): {}\".format(y_validate.shape))"
   ]
  },
  {
   "cell_type": "markdown",
   "metadata": {},
   "source": [
    "### Visualize a few articles\n",
    "Use the imshow() function in the matplotlib library to visualize the greyscale images."
   ]
  },
  {
   "cell_type": "code",
   "execution_count": 7,
   "metadata": {},
   "outputs": [
    {
     "data": {
      "text/plain": [
       "<function matplotlib.pyplot.show>"
      ]
     },
     "execution_count": 7,
     "metadata": {},
     "output_type": "execute_result"
    },
    {
     "data": {
      "image/png": "[encoded data removed]",
      "text/plain": [
       "<matplotlib.figure.Figure at 0x2b23743f0ac8>"
      ]
     },
     "metadata": {},
     "output_type": "display_data"
    }
   ],
   "source": [
    "import matplotlib.pyplot as plt\n",
    "image = x_train[10, :].reshape((28,28))\n",
    "plt.imshow(image)\n",
    "plt.show"
   ]
  },
  {
   "cell_type": "code",
   "execution_count": 6,
   "metadata": {},
   "outputs": [
    {
     "data": {
      "text/plain": [
       "<function matplotlib.pyplot.show>"
      ]
     },
     "execution_count": 6,
     "metadata": {},
     "output_type": "execute_result"
    },
    {
     "data": {
      "image/png": "[encoded data removed]",
      "text/plain": [
       "<matplotlib.figure.Figure at 0x2b2374377c50>"
      ]
     },
     "metadata": {},
     "output_type": "display_data"
    }
   ],
   "source": [
    "image = x_train[40000, :].reshape((28,28))\n",
    "plt.imshow(image)\n",
    "plt.show"
   ]
  },
  {
   "cell_type": "markdown",
   "metadata": {},
   "source": [
    "<a id=\"neuralNetwork\"></a>\n",
    "\n",
    "## 4. Define the neural network\n",
    "\n",
    "Now you will learn how to create a Convolution Neural Network that recognizes Zalando articles in images. Convolutional Neural Networks, or commonly known as CNNs, are class of deep neural networks that is primarily used for visual recognition tasks. In this notebook, you will create a simple CNN based classification model. You will use the Keras framework to build the model. <a href=\"https://keras.io/\" >Keras</a> is a high-level neural networks API, written in Python.\n",
    "\n",
    "Import the Keras library and then reshape the data sets."
   ]
  },
  {
   "cell_type": "code",
   "execution_count": 8,
   "metadata": {},
   "outputs": [
    {
     "name": "stderr",
     "output_type": "stream",
     "text": [
      "Using TensorFlow backend.\n"
     ]
    }
   ],
   "source": [
    "import keras\n",
    "from keras.models import Sequential\n",
    "from keras.layers import Conv2D, MaxPool2D, Dense, Flatten, Dropout\n",
    "from keras.optimizers import Adam\n",
    "from keras.callbacks import Callback\n",
    "\n",
    "im_rows = 28\n",
    "im_cols = 28\n",
    "im_shape = (im_rows, im_cols, 1)\n",
    "x_train = x_train.reshape(x_train.shape[0], *im_shape)\n",
    "x_test = x_test.reshape(x_test.shape[0], *im_shape)\n",
    "x_validate = x_validate.reshape(x_validate.shape[0], *im_shape)"
   ]
  },
  {
   "cell_type": "markdown",
   "metadata": {},
   "source": [
    "### Define the various layers in the network\n",
    "The CNN model you create will have a convolution layer followed by a pooling layer and then a dropout layer. The output of the dropout layer is flattened into a fully connected layer. The last layer is a dense layer with Softmax activation that classifies the 10 categories of the clothing data images in the Fashion-MNIST data set."
   ]
  },
  {
   "cell_type": "code",
   "execution_count": 9,
   "metadata": {},
   "outputs": [],
   "source": [
    "cnn_model = Sequential([\n",
    "    Conv2D(filters=32, kernel_size=(3,3), activation='relu', input_shape=im_shape),\n",
    "    MaxPool2D(pool_size=(2,2)),\n",
    "    Dropout(0.2),\n",
    "    Flatten(),\n",
    "    Dense(32, activation='relu'),\n",
    "    Dense(10, activation='softmax')\n",
    "])"
   ]
  },
  {
   "cell_type": "markdown",
   "metadata": {},
   "source": [
    "Before you can start training the model, you need to compile it. For this you will use the model.compile() function. Specify a loss function, an optimizer and the metrics."
   ]
  },
  {
   "cell_type": "code",
   "execution_count": 10,
   "metadata": {},
   "outputs": [],
   "source": [
    "cnn_model.compile(\n",
    "    loss='sparse_categorical_crossentropy',\n",
    "    optimizer=Adam(lr=0.001),\n",
    "    metrics=['accuracy']\n",
    ")"
   ]
  },
  {
   "cell_type": "markdown",
   "metadata": {},
   "source": [
    "<a id=\"train\" ></a>\n",
    "## 5. Train the neural network\n",
    "The following code cell starts the model training process, also referred to as model fitting. You will train the model in batches of 200 images in 20 epochs."
   ]
  },
  {
   "cell_type": "code",
   "execution_count": 11,
   "metadata": {
    "scrolled": true
   },
   "outputs": [
    {
     "name": "stdout",
     "output_type": "stream",
     "text": [
      "Train on 48000 samples, validate on 12000 samples\n",
      "Epoch 1/20\n",
      "48000/48000 [==============================] - 33s 678us/step - loss: 0.6211 - acc: 0.7834 - val_loss: 0.4333 - val_acc: 0.8477\n",
      "Epoch 2/20\n",
      "48000/48000 [==============================] - 33s 688us/step - loss: 0.4038 - acc: 0.8598 - val_loss: 0.3842 - val_acc: 0.8606\n",
      "Epoch 3/20\n",
      "48000/48000 [==============================] - 31s 648us/step - loss: 0.3607 - acc: 0.8751 - val_loss: 0.3565 - val_acc: 0.8718\n",
      "Epoch 4/20\n",
      "48000/48000 [==============================] - 31s 654us/step - loss: 0.3324 - acc: 0.8833 - val_loss: 0.3318 - val_acc: 0.8840\n",
      "Epoch 5/20\n",
      "48000/48000 [==============================] - 32s 665us/step - loss: 0.3119 - acc: 0.8907 - val_loss: 0.3170 - val_acc: 0.8874\n",
      "Epoch 6/20\n",
      "48000/48000 [==============================] - 32s 664us/step - loss: 0.2962 - acc: 0.8963 - val_loss: 0.3038 - val_acc: 0.8937\n",
      "Epoch 7/20\n",
      "48000/48000 [==============================] - 33s 696us/step - loss: 0.2856 - acc: 0.8999 - val_loss: 0.2896 - val_acc: 0.8966\n",
      "Epoch 8/20\n",
      "48000/48000 [==============================] - 35s 727us/step - loss: 0.2724 - acc: 0.9039 - val_loss: 0.2930 - val_acc: 0.8934\n",
      "Epoch 9/20\n",
      "48000/48000 [==============================] - 32s 669us/step - loss: 0.2643 - acc: 0.9059 - val_loss: 0.2776 - val_acc: 0.9019\n",
      "Epoch 10/20\n",
      "48000/48000 [==============================] - 31s 654us/step - loss: 0.2538 - acc: 0.9094 - val_loss: 0.2810 - val_acc: 0.9004\n",
      "Epoch 11/20\n",
      "48000/48000 [==============================] - 32s 668us/step - loss: 0.2475 - acc: 0.9112 - val_loss: 0.2771 - val_acc: 0.9013\n",
      "Epoch 12/20\n",
      "48000/48000 [==============================] - 32s 667us/step - loss: 0.2425 - acc: 0.9127 - val_loss: 0.2805 - val_acc: 0.8987\n",
      "Epoch 13/20\n",
      "48000/48000 [==============================] - 32s 663us/step - loss: 0.2353 - acc: 0.9141 - val_loss: 0.2655 - val_acc: 0.9063\n",
      "Epoch 14/20\n",
      "48000/48000 [==============================] - 33s 694us/step - loss: 0.2279 - acc: 0.9172 - val_loss: 0.2701 - val_acc: 0.9048\n",
      "Epoch 15/20\n",
      "48000/48000 [==============================] - 32s 660us/step - loss: 0.2203 - acc: 0.9216 - val_loss: 0.2649 - val_acc: 0.9040\n",
      "Epoch 16/20\n",
      "48000/48000 [==============================] - 33s 687us/step - loss: 0.2174 - acc: 0.9212 - val_loss: 0.2549 - val_acc: 0.9112\n",
      "Epoch 17/20\n",
      "48000/48000 [==============================] - 32s 671us/step - loss: 0.2104 - acc: 0.9240 - val_loss: 0.2558 - val_acc: 0.9102\n",
      "Epoch 18/20\n",
      "48000/48000 [==============================] - 32s 658us/step - loss: 0.2090 - acc: 0.9245 - val_loss: 0.2710 - val_acc: 0.9052\n",
      "Epoch 19/20\n",
      "48000/48000 [==============================] - 31s 644us/step - loss: 0.2017 - acc: 0.9265 - val_loss: 0.2609 - val_acc: 0.9085\n",
      "Epoch 20/20\n",
      "48000/48000 [==============================] - 32s 663us/step - loss: 0.1998 - acc: 0.9278 - val_loss: 0.2547 - val_acc: 0.9118\n"
     ]
    },
    {
     "data": {
      "text/plain": [
       "<keras.callbacks.History at 0x2b237fdd5a90>"
      ]
     },
     "execution_count": 11,
     "metadata": {},
     "output_type": "execute_result"
    }
   ],
   "source": [
    "cnn_model.fit(\n",
    "    x_train, y_train, batch_size=200,\n",
    "    epochs=20, verbose=1,\n",
    "    validation_data=(x_validate, y_validate)\n",
    ")"
   ]
  },
  {
   "cell_type": "markdown",
   "metadata": {},
   "source": [
    "### Test accuracy\n",
    "Test the accuracy of the model. You will see that the model has an accuracy of over 91%."
   ]
  },
  {
   "cell_type": "code",
   "execution_count": 12,
   "metadata": {},
   "outputs": [
    {
     "name": "stdout",
     "output_type": "stream",
     "text": [
      "\n",
      " Test accuracy: 0.9146\n"
     ]
    }
   ],
   "source": [
    "score = cnn_model.evaluate(x_test, y_test, verbose=0)\n",
    "print('\\n', 'Test accuracy:', score[1])"
   ]
  },
  {
   "cell_type": "markdown",
   "metadata": {},
   "source": [
    "### Visualize the predictions\n",
    "You can see how well your model is performing by taking a few images from the test data set and testing how well they are recognized by the model. For this test, you will use image number 100 and 200 from the test data set. You will also visualize the images to see which articles are represented."
   ]
  },
  {
   "cell_type": "code",
   "execution_count": 13,
   "metadata": {},
   "outputs": [
    {
     "name": "stdout",
     "output_type": "stream",
     "text": [
      "\n",
      " Model predicts the label: [9]\n"
     ]
    },
    {
     "data": {
      "image/png": "[encoded data removed]",
      "text/plain": [
       "<matplotlib.figure.Figure at 0x2b2383f9b780>"
      ]
     },
     "metadata": {},
     "output_type": "display_data"
    }
   ],
   "source": [
    "test_img = x_test[100,:].reshape((28,28))\n",
    "plt.imshow(test_img)\n",
    "test_img = test_img.reshape(1, *im_shape)\n",
    "print('\\n', 'Model predicts the label:', cnn_model.predict_classes(test_img))"
   ]
  },
  {
   "cell_type": "code",
   "execution_count": 14,
   "metadata": {},
   "outputs": [
    {
     "name": "stdout",
     "output_type": "stream",
     "text": [
      "\n",
      " Model predicts the label: [0]\n"
     ]
    },
    {
     "data": {
      "image/png": "[encoded data removed]",
      "text/plain": [
       "<matplotlib.figure.Figure at 0x2b2383f8ec88>"
      ]
     },
     "metadata": {},
     "output_type": "display_data"
    }
   ],
   "source": [
    "test_img = x_test[200,:].reshape((28,28))\n",
    "plt.imshow(test_img)\n",
    "test_img = test_img.reshape(1, *im_shape)\n",
    "print('\\n', 'Model predicts the label:', cnn_model.predict_classes(test_img))"
   ]
  },
  {
   "cell_type": "markdown",
   "metadata": {},
   "source": [
    "If you check the table with labels, and compare that with the visualizations you see, it looks like the model is predicting clothing articles very well. You have successfully built a CNN with over 90% accuracy."
   ]
  },
  {
   "cell_type": "markdown",
   "metadata": {},
   "source": [
    "<a id=\"deploy\" ></a>\n",
    "# 6. Deploy the model\n",
    "\n",
    "Now you can deploy this model in the Cloud and get a scoring endpoint. To deploy the model created in this notebook, you need an instance of IBM Watson Machine Learning service. You can see if a Watson Machine Learning service instance is already associated with your project by clicking the **Services** menu in Watson Studio and selecting **Watson Services**. If no service exists, create a [Watson Machine Learning service instance](https://console.ng.bluemix.net/catalog/services/ibm-watson-machine-learning/). \n",
    "\n",
    "\n",
    "To get the service credentials:\n",
    "1. From the **Services** menu in Watson Studio, open **Watson Services** in a new browser tab. (This opens the Watson Services page in Watson Studio.)\n",
    "2. In the Machine Learning section, click the service instance for which you want to retrieve credentials. (This opens the service details page in IBM Cloud for the Watson Machine Learning service instance.)\n",
    "3. Click **Service credentials**. If there are no service credentials yet, click the **New credential**.\n",
    "4. Under the **ACTION** menu, click **View credentials**.\n",
    "5. Copy the credentials into the following cell."
   ]
  },
  {
   "cell_type": "code",
   "execution_count": null,
   "metadata": {},
   "outputs": [],
   "source": [
    "wml_credentials = {\n",
    "  \"instance_id\": \"***\",\n",
    "  \"password\": \"***\",\n",
    "  \"url\": \"https://ibm-watson-ml.mybluemix.net\",\n",
    "  \"username\": \"***\",\n",
    "}"
   ]
  },
  {
   "cell_type": "markdown",
   "metadata": {},
   "source": [
    "Import the watson-machine-learning-client and authenticate to the service instance."
   ]
  },
  {
   "cell_type": "code",
   "execution_count": 16,
   "metadata": {},
   "outputs": [
    {
     "name": "stderr",
     "output_type": "stream",
     "text": [
      "/opt/conda/envs/DSX-Python35/lib/python3.5/site-packages/sklearn/cross_validation.py:41: DeprecationWarning: This module was deprecated in version 0.18 in favor of the model_selection module into which all the refactored classes and functions are moved. Also note that the interface of the new CV iterators are different from that of this module. This module will be removed in 0.20.\n",
      "  \"This module will be removed in 0.20.\", DeprecationWarning)\n"
     ]
    }
   ],
   "source": [
    "from watson_machine_learning_client import WatsonMachineLearningAPIClient\n",
    "client = WatsonMachineLearningAPIClient(wml_credentials)"
   ]
  },
  {
   "cell_type": "markdown",
   "metadata": {},
   "source": [
    "### Store the trained model in the WML repository\n",
    "You have  connected to the Watson Machine Learning repository using the Python package and your credentials. Publishing the model will save the model to your repository."
   ]
  },
  {
   "cell_type": "code",
   "execution_count": 17,
   "metadata": {},
   "outputs": [
    {
     "name": "stdout",
     "output_type": "stream",
     "text": [
      "keras_fashion_mnist.h5\r\n"
     ]
    }
   ],
   "source": [
    "cnn_model.save(\"keras_fashion_mnist.h5\")\n",
    "!tar -cvf keras_fashion_mnist.tar keras_fashion_mnist.h5\n",
    "!gzip -f keras_fashion_mnist.tar\n",
    "model_tar_gz = \"keras_fashion_mnist.tar.gz\"\n",
    "\n",
    "metadata = {\n",
    "        client.repository.ModelMetaNames.AUTHOR_NAME: \"Sumit Goyal\",\n",
    "        client.repository.ModelMetaNames.NAME: 'Fashion MNIST with Keras',\n",
    "        client.repository.ModelMetaNames.FRAMEWORK_NAME: 'tensorflow',\n",
    "        client.repository.ModelMetaNames.FRAMEWORK_VERSION: '1.12',\n",
    "        client.repository.ModelMetaNames.RUNTIME_NAME: 'python',\n",
    "        client.repository.ModelMetaNames.RUNTIME_VERSION: '3.5',\n",
    "        client.repository.ModelMetaNames.FRAMEWORK_LIBRARIES: [\n",
    "         {\"name\": \"keras\", \"version\": \"2.2.4\"}\n",
    "    ]\n",
    "}\n",
    "stored_model_details = client.repository.store_model(model_tar_gz, meta_props=metadata, training_data=None)"
   ]
  },
  {
   "cell_type": "markdown",
   "metadata": {},
   "source": [
    "### Create the online deployment\n",
    "Now you will deploy the stored model as a web service."
   ]
  },
  {
   "cell_type": "code",
   "execution_count": 18,
   "metadata": {
    "scrolled": true
   },
   "outputs": [
    {
     "name": "stdout",
     "output_type": "stream",
     "text": [
      "\n",
      "\n",
      "#######################################################################################\n",
      "\n",
      "Synchronous deployment creation for uid: '64890483-8565-4187-9ffb-d9a9e9e1c19c' started\n",
      "\n",
      "#######################################################################################\n",
      "\n",
      "\n",
      "INITIALIZING\n",
      "DEPLOY_IN_PROGRESS....\n",
      "DEPLOY_SUCCESS\n",
      "\n",
      "\n",
      "------------------------------------------------------------------------------------------------\n",
      "Successfully finished deployment creation, deployment_uid='6457d1b2-02be-49fc-99bb-5cebda1a72ec'\n",
      "------------------------------------------------------------------------------------------------\n",
      "\n",
      "\n"
     ]
    }
   ],
   "source": [
    "created_deployment = client.deployments.create(stored_model_details['metadata']['guid'], \"Fashion MNIST with Keras\")"
   ]
  },
  {
   "cell_type": "markdown",
   "metadata": {},
   "source": [
    "\n",
    "\n",
    "Now you can define and print an online scoring endpoint.\n"
   ]
  },
  {
   "cell_type": "code",
   "execution_count": 19,
   "metadata": {},
   "outputs": [
    {
     "name": "stdout",
     "output_type": "stream",
     "text": [
      "https://us-south.ml.cloud.ibm.com/v3/wml_instances/d0755448-6eb4-425a-b35b-479be91ff2d5/deployments/6457d1b2-02be-49fc-99bb-5cebda1a72ec/online\n"
     ]
    }
   ],
   "source": [
    "scoring_endpoint = client.deployments.get_scoring_url(created_deployment)\n",
    "print(scoring_endpoint)"
   ]
  },
  {
   "cell_type": "markdown",
   "metadata": {},
   "source": [
    "### Score data\n",
    "Use the following method to run a test scoring request against the deployed model."
   ]
  },
  {
   "cell_type": "code",
   "execution_count": 20,
   "metadata": {},
   "outputs": [],
   "source": [
    "score_data = x_test[100].tolist()\n",
    "scoring_payload = {'values': [score_data]}"
   ]
  },
  {
   "cell_type": "markdown",
   "metadata": {},
   "source": [
    "Use the client.deployments.score() method to run the scoring."
   ]
  },
  {
   "cell_type": "code",
   "execution_count": 21,
   "metadata": {},
   "outputs": [
    {
     "name": "stdout",
     "output_type": "stream",
     "text": [
      "{\n",
      "  \"fields\": [\n",
      "    \"prediction\",\n",
      "    \"prediction_classes\",\n",
      "    \"probability\"\n",
      "  ],\n",
      "  \"values\": [\n",
      "    [\n",
      "      [\n",
      "        7.270510860024615e-09,\n",
      "        1.3821493949350838e-09,\n",
      "        2.81070750007828e-10,\n",
      "        3.7340086578296905e-10,\n",
      "        1.4445512563909801e-09,\n",
      "        7.075181201798841e-06,\n",
      "        3.2576448205645647e-09,\n",
      "        0.0015834043733775616,\n",
      "        1.2300204161874717e-06,\n",
      "        0.9984083771705627\n",
      "      ],\n",
      "      9,\n",
      "      [\n",
      "        7.270510860024615e-09,\n",
      "        1.3821493949350838e-09,\n",
      "        2.81070750007828e-10,\n",
      "        3.7340086578296905e-10,\n",
      "        1.4445512563909801e-09,\n",
      "        7.075181201798841e-06,\n",
      "        3.2576448205645647e-09,\n",
      "        0.0015834043733775616,\n",
      "        1.2300204161874717e-06,\n",
      "        0.9984083771705627\n",
      "      ]\n",
      "    ]\n",
      "  ]\n",
      "}\n"
     ]
    }
   ],
   "source": [
    "import json\n",
    "predictions = client.deployments.score(scoring_endpoint, scoring_payload)\n",
    "print(json.dumps(predictions, indent=2))"
   ]
  },
  {
   "cell_type": "markdown",
   "metadata": {},
   "source": [
    "<a id=\"summary\"></a>\n",
    "## 7. Summary\n",
    "\n",
    "You learned how to prepare the Fashion-MNIST data set and how to build and train a Convolutional Neural Network by using the Keras and TensorFlow libraries. By running your notebook in a GPU environment, you could do all the model training and testing directly in your notebook; you didn't have to switch to the IBM Machine Learning service to train your model. In the last section of the notebook, you learned how to save and deploy the model in the Watson Machine Learning service."
   ]
  },
  {
   "cell_type": "markdown",
   "metadata": {},
   "source": [
    "### Author\n",
    "\n",
    "**Sumit Goyal** is a software engineer in the Watson Studio development team at IBM in Germany. He holds a degree in Automation and Industrial IT and is passionate about data analysis, machine learning and the ecosystem for data science."
   ]
  },
  {
   "cell_type": "markdown",
   "metadata": {},
   "source": [
    "### License - Fashion-MNIST\n",
    "\n",
    "The Fashion-MNIST data set is licensed under the MIT License (MIT) Copyright © [2017] Zalando SE, https://tech.zalando.com \n",
    "\n",
    "THE SOFTWARE IS PROVIDED “AS IS”, WITHOUT WARRANTY OF ANY KIND, EXPRESS OR IMPLIED, INCLUDING BUT NOT LIMITED TO THE WARRANTIES OF MERCHANTABILITY, FITNESS FOR A PARTICULAR PURPOSE AND NONINFRINGEMENT. IN NO EVENT SHALL THE AUTHORS OR COPYRIGHT HOLDERS BE LIABLE FOR ANY CLAIM, DAMAGES OR OTHER LIABILITY, WHETHER IN AN ACTION OF CONTRACT, TORT OR OTHERWISE, ARISING FROM, OUT OF OR IN CONNECTION WITH THE SOFTWARE OR THE USE OR OTHER DEALINGS IN THE SOFTWARE. "
   ]
  },
  {
   "cell_type": "markdown",
   "metadata": {},
   "source": [
    "<hr>\n",
    "Copyright © 2018. This notebook and its source code are released under the terms of the MIT License."
   ]
  },
  {
   "cell_type": "markdown",
   "metadata": {},
   "source": [
    "<div style=\"background:#F5F7FA; height:110px; padding: 2em; font-size:14px;\">\n",
    "<span style=\"font-size:18px;color:#152935;\">Love this notebook? </span>\n",
    "<span style=\"font-size:15px;color:#152935;float:right;margin-right:40px;\">Don't have an account yet?</span><br>\n",
    "<span style=\"color:#5A6872;\">Share it with your colleagues and help them discover the power of Watson Studio!</span>\n",
    "<span style=\"border: 1px solid #3d70b2;padding:8px;float:right;margin-right:40px; color:#3d70b2;\"><a href=\"https://ibm.co/wsnotebooks\" target=\"_blank\" style=\"color: #3d70b2;text-decoration: none;\">Sign Up</a></span><br>\n",
    "</div>"
   ]
  }
 ],
 "metadata": {
  "kernelspec": {
   "display_name": "Python 3.5",
   "language": "python",
   "name": "python3"
  },
  "language_info": {
   "codemirror_mode": {
    "name": "ipython",
    "version": 3
   },
   "file_extension": ".py",
   "mimetype": "text/x-python",
   "name": "python",
   "nbconvert_exporter": "python",
   "pygments_lexer": "ipython3",
   "version": "3.5.5"
  }
 },
 "nbformat": 4,
 "nbformat_minor": 1
}
