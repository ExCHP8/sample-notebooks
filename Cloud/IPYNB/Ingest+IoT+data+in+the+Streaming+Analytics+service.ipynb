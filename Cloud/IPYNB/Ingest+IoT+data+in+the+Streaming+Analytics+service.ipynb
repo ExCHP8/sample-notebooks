{
 "cells": [
  {
   "cell_type": "markdown",
   "metadata": {},
   "source": [
    "# Process events from the Watson IoT Platform in a Streams Python application\n",
    "\n",
    "If you have data being sent from an Internet of Things device to the Watson IoT platform, you can perform advanced analytics on such data using Python and the Streaming Analytics service.  This notebook shows a simple Python Streams application that connects to the Watson IoT platform to retrieve data sent there by an Edgent application.\n"
   ]
  },
  {
   "cell_type": "markdown",
   "metadata": {},
   "source": [
    "## Table of contents\n",
    "\n",
    "1. [Prerequisites](#setup)<br>\n",
    "    1.1 [Option 1: Automatically deploy and configure the services](#setup1)<br>\n",
    "    1.2 [Option 2: Manual deployment](#setup2)<br>\n",
    "    1.3 [Run a sample Edgent application to generate data](#setup3)<br>\n",
    "    1.4 [Install the required version of the streamsx package](#setup4)<br>\n",
    "2. [Create and submit the Streams application](#streams)<br>\n",
    "    2.1 [Get your Streaming analytics service credentials](#step21)<br>\n",
    "    2.2 [Define helper functions](#step22)<br>\n",
    "    2.3 [Create the Streams application](#step23)<br>\n",
    "    2.4 [Send a response for each event](#step24)<br>\n",
    "    2.5 [Submit the `Topology` to the Streaming Analytics service](step25)<br>\n",
    "3.\t[Visualize data](#view)<br>\n",
    "4.  [Stop the application](#stop)<br>\n",
    "5. [Summary and next steps](#summary)<br>"
   ]
  },
  {
   "cell_type": "markdown",
   "metadata": {},
   "source": [
    "<a id=\"setup\"></a>\n",
    "## 1. Setup\n",
    "\n",
    "This notebook requires you to have the Streaming Analytics service and the Watson IoT Platform service. You can set up and connect the services manually or use the automatic option if it applies to you. This notebook is a companion to the <a href=\"https://developer.ibm.com/recipes/tutorials/connect-apache-edgent-to-the-streaming-analytics-service-using-the-watson-iot-platform/\" target=\"_blank\">Connect Apache Edgent running on Raspberry Pi to the Streaming Analytics service recipe</a>. It will show you a  Python Streams application that receives IoT device events from the Watson IoT platform. This is a Python version of the Java application demonstrated in that recipe. \n",
    " \n",
    "Therefore, you must complete the steps in this section to create the following:\n",
    "- An instance of the Watson IoT platform and the Streaming Analytics service\n",
    "- An Edgent application or other application that is registered with and sending events to the Watson IoT platform.\n",
    "- `IotPlatformBluemix` or `IotPlatform`  application running in your Streams instance."
   ]
  },
  {
   "cell_type": "markdown",
   "metadata": {},
   "source": [
    "<a id=\"setup1\"></a>\n",
    "### 1.1 Option 1: Automatically deploy and configure the services\n",
    "\n",
    "You can use this option if:\n",
    "- You do not have the services service created in IBM Cloud, or\n",
    "- You have both services created and would like to use automatic configuration. If so, you need to rename the services to match the names expected by the configuration script before starting the process:\n",
    "   - Rename the Streaming Analtyics service to *Streaming-Analytics* \n",
    "   - Rename the Watson IoT Platform to *Internet-of-Things-Platform*.\n",
    "   *These names must match exactly as indicated here*.\n",
    "\n",
    " 1. Click the **Deploy to IBM Cloud** button to deploy the services automatically. \n",
    "    [![Deploy To IBM Cloud](https://developer.ibm.com/streamsdev/wp-content/uploads/sites/15/2017/11/deploy-to-ibm-cloud-small.png)](https://bluemix.net/deploy?repository=https://github.com/IBMStreams/streamsx.iot.starterkit.git)\n",
    " 2. Once the deployment is finished, go to your IBM Cloud dashboard as shown below. Click the newly deployed app under \"Cloud Foundry Apps\". This will take you to the application page.\n",
    "    ![app dashboard](https://developer.ibm.com/streamsdev/wp-content/uploads/sites/15/2018/01/app-dashboard.png)\n",
    "\n",
    "    Set up a username and password for the starter kit by following these instructions:\n",
    "    - Click **Runtime** > **Environment variables**.\n",
    "    - Under **User defined**, create a username and password for your starter kit by adding 2 variables called `KIT_OWNER` (username) and `KIT_PASSWORD` (password). Names must be exactly as shown here.  Click **Save**.\n",
    "    - Click **Visit app URL** to go to the starter kit home page and log in with the username and password you just created.\n",
    "    These steps are illustrated below.\n",
    "    ![setusername](https://raw.githubusercontent.com/IBMStreams/streamsx.iot.starterkit/master/img/env.png)\n",
    "\n",
    " 3. Clicking **Visit App URL** will take you to the home page of your starter kit. Log in using the `KIT_OWNER` and `KIT_PASSWORD` as username and password. Now you can access the needed credentials.\n",
    "    To finish the automatic setup: \n",
    "\n",
    "    1. Go to the home page of the starter kit:\n",
    "    1. Go to \"Tools\" and click \"Submit IotPlatform Job\".\n",
    "    1. Download the `device.cfg` file: Click **View All Credentials**, then under **Edgent Credentials**, select **Download Device.cfg**. Save this file locally."
   ]
  },
  {
   "cell_type": "markdown",
   "metadata": {},
   "source": [
    "<a id=\"setup2\"></a>\n",
    "### 1.2 Option 2: Manual deployment \n",
    "\n",
    "If you have not already done so, create instances of the <a href=\"https://console.bluemix.net/catalog/services/streaming-analytics\" target=\"_blank\">Streaming Analytics service</a> and the <a href=\"https://console.bluemix.net/catalog/services/internet-of-things-platform\" target=\"_blank\">Watson IoT Platform</a> service. \n",
    "\n",
    "Next, follow the <a href=\"https://developer.ibm.com/streamsdev/docs/setup-instructions-connecting-edgent-streams-applications-watson-iot-platform\" target=\"_blank\">instructions in this post</a>.\n",
    "After completing the steps in the above article, you will get:\n",
    " - A registered device on the Watson IoT Platform and a `device.cfg` file with the information for the device.\n",
    " - The `IotPlatformBluemix` application running in your Streaming Analytics application."
   ]
  },
  {
   "cell_type": "markdown",
   "metadata": {},
   "source": [
    "<a id=\"setup3\"></a>\n",
    "### 1.3 Run a sample Edgent application to generate data \n",
    "\n",
    "he `IotpSensors` application in Edgent generates the data that will be processed in this notebook.\n",
    "To run the application and start generating data:\n",
    "\n",
    "1. [Download and unpack Edgent](https://edgent.apache.org/docs/downloads)\n",
    "1. For Edgent 1.1.0 and greater, edit the file $EDGENT/java8/scripts/connectors/iotp/runiotpsensors.sh to uncomment the line:\n",
    "   `USE_OLD_EVENT_FORMAT=-Dcom.ibm.iotf.enableCustomFormat=false.`\n",
    "   \n",
    "1. Run the sample script, using the device.cfg file you created earlier\n",
    "```\n",
    "cd $EDGENT/java8/scripts/connectors/iotp/\n",
    "./runiotpsensors.sh path_to_device_cfg:\n",
    "```\n",
    "\n",
    "You should see output like this:\n",
    "```\n",
    "\"when\":\"2017-07-11T20:04:31Z\",\"time\":1499803471283}\n",
    "Jul 11, 2017 4:04:31 PM com.ibm.iotf.client.AbstractClient connect\n",
    "INFO: pool-1-thread-19-IotpSensors: Successfully connected to the IBM Watson IoT Platform\n",
    "{\"name\":\"B\",\"reading\":{\"N\":4,\"MIN\":-2.525664438740216,\"MAX\":-1.7670767522693176,\"MEAN\":-2.0834865122722173,\"STDDEV\":0.3294944133737305}}\n",
    "```\n",
    "Now you are ready to process those events in Streams.\n"
   ]
  },
  {
   "cell_type": "markdown",
   "metadata": {},
   "source": [
    "<a id=\"setup4\"></a>\n",
    "### 1.4 Install the required version of the streamsx package\n",
    "This notebook requires version 1.7 or later of the streamsx package.  \n",
    "Run the cell below to determine which version is installed. "
   ]
  },
  {
   "cell_type": "code",
   "execution_count": 1,
   "metadata": {
    "scrolled": true
   },
   "outputs": [
    {
     "name": "stdout",
     "output_type": "stream",
     "text": [
      "---\r\n",
      "Metadata-Version: 2.0\r\n",
      "Name: streamsx\r\n",
      "Version: 1.6.0\r\n",
      "Summary: IBM Streams Python Support\r\n",
      "Home-page: https://github.com/IBMStreams/pypi.streamsx\r\n",
      "Author: IBM Streams @ github.com\r\n",
      "Author-email: debrunne@us.ibm.com\r\n",
      "Installer: pip\r\n",
      "License: UNKNOWN\r\n",
      "Location: /usr/local/src/conda3_runtime.v22/4.1.1/lib/python3.5/site-packages\r\n",
      "Requires: enum34, requests, future, dill\r\n",
      "Classifiers:\r\n",
      "  Development Status :: 5 - Production/Stable\r\n",
      "  License :: OSI Approved :: Apache Software License\r\n",
      "  Programming Language :: Python :: 2\r\n",
      "  Programming Language :: Python :: 2.7\r\n",
      "  Programming Language :: Python :: 3\r\n",
      "  Programming Language :: Python :: 3.5\r\n"
     ]
    }
   ],
   "source": [
    "!pip show streamsx"
   ]
  },
  {
   "cell_type": "markdown",
   "metadata": {},
   "source": [
    "After running the above cell, you will see output like this:\n",
    "```\n",
    "---\n",
    "Metadata-Version: 2.0\n",
    "Name: streamsx\n",
    "Version: 1.7.4\n",
    "....\n",
    "```\n",
    "If `Version` is not at or greater than 1.7, uncomment and run the following cell."
   ]
  },
  {
   "cell_type": "code",
   "execution_count": null,
   "metadata": {
    "scrolled": true
   },
   "outputs": [],
   "source": [
    "#Comment out the line below if needed\n",
    "#!pip install --upgrade streamsx"
   ]
  },
  {
   "cell_type": "markdown",
   "metadata": {},
   "source": [
    "<a id=\"streams\"></a>\n",
    "## 2. Create and submit the Streams application\n",
    "\n",
    "To create and submit your Streams application you must perform these steps:\n",
    "\n",
    "1. [Get your Streaming analytics service credentials](#step21)<br>\n",
    "1. [Define helper functions](#step22)<br>\n",
    "1. [Create the Streams application](#step23)<br>\n",
    "1. [Send a response for each event](#step24)<br>\n",
    "1. [Submit the `Topology` to the Streaming Analytics service](step25)<br>\n",
    "\n",
    "<a id=\"step21\"></a>\n",
    "### 2.1 Get your Streaming analytics service credentials\n",
    "Before you create an app with this notebook, you must first provide the information that your streaming app needs to access the service. You can find this information on the Streaming Analytics service dashboard. It includes the service name, the service credentials, and the connection URL for the service. \n",
    "In the next cell you have to enter your service credentials. To copy your service credentials, open the Streaming Analytics service dashboard click **Service Credentials**, then **View Credentials**, and finally click the Copy icon.\n",
    "\n",
    "<img src='https://github.com/orzade/streamsx-notebooks/blob/master/copyservicecredentials.png?raw=true' alt=\"Copy your service credentials\" title=\"Streaming Analytics catalog - Copy your service credentials\"></img>\n",
    "\n",
    "Then paste those credentials where indicated in the cell below."
   ]
  },
  {
   "cell_type": "code",
   "execution_count": 3,
   "metadata": {
    "collapsed": true,
    "scrolled": true
   },
   "outputs": [],
   "source": [
    "import json\n",
    "\n",
    "#Set up access to Streaming Analytics service\n",
    "\n",
    "def get_service_name():\n",
    "    ## change the service name here, it would be Streaming Analytics in the screenshot above,\n",
    "    # and \"Streaming-Analytics\" if you used the IoT starter kit\n",
    "    service_name = \"Streaming Analytics\" \n",
    "    return service_name\n",
    "def get_credentials():\n",
    "    credentials = \"\"\"enter_your_service_credentials_here\"\"\"\n",
    " \n",
    "    return credentials\n",
    "\n",
    "\n",
    "\"\"\"Submit the topology to the Streaming analytics service\n",
    "\"\"\"\n",
    "def submit_to_service(topo):\n",
    "    service_name = get_service_name()\n",
    "    credentials = get_credentials()\n",
    "    vs={'streaming-analytics': [{'name': service_name, 'credentials': json.loads (credentials)}]}\n",
    "    cfg = {}\n",
    "    cfg[ConfigParams.VCAP_SERVICES] = vs\n",
    "    cfg[ConfigParams.SERVICE_NAME] = service_name\n",
    "    return submit('STREAMING_ANALYTICS_SERVICE', topo, cfg)\n"
   ]
  },
  {
   "cell_type": "markdown",
   "metadata": {},
   "source": [
    "<a id=\"step22\"></a>\n",
    "### 2.2 Define helper functions\n",
    "\n",
    "\n",
    "These are some utilities that will be used by your Streams application. \n",
    "\n",
    "The `get_event_data` function parses the data from an event you received. \n",
    "\n",
    "The `get_cmd` helper function will build the command tuple that is sent back to the Edgent application. The commands are JSON and have the following format:\n",
    "```\n",
    "{\n",
    " 'deviceId': \"id of device receiving the command\",\n",
    "  'typeId': \"typeId of receiving device\",\n",
    "  'cmdId': \"some id\",\n",
    " 'jsonString': {'d':{command payload as JSON object}}\n",
    "}\n",
    "```\n",
    "You can get the device and type id by using the data from an event you received, the incoming tuple contains the event to which you are responding.\n",
    "\n",
    "Run the following cell to define these functions.\n"
   ]
  },
  {
   "cell_type": "code",
   "execution_count": 4,
   "metadata": {
    "collapsed": true,
    "scrolled": true
   },
   "outputs": [],
   "source": [
    "import json\n",
    "import math\n",
    "from streamsx.topology.topology import Topology\n",
    "from streamsx.topology.context import *\n",
    "from streamsx.rest import StreamingAnalyticsConnection\n",
    "from streamsx.topology import schema\n",
    "import random\n",
    "\n",
    "\n",
    "\"\"\"\n",
    "This function will build the command tuple that is sent back\n",
    "to the Edgent application. \n",
    "The commands are JSON, and the format is:\n",
    "\n",
    "{\n",
    " 'deviceId': \"id of device receiving the command\",\n",
    "  'typeId': \"typeId of receiving device\",\n",
    "  'cmdId': \"some id\",\n",
    " 'jsonString': {'d':{command payload as JSON object}}\n",
    "}\n",
    "One way to get the device and type id is to use the data from an event we received\n",
    "the incoming tuple contains the event we are responding to\n",
    "\"\"\"\n",
    "def get_cmd(tuple):\n",
    "    #build the message you wish to send as a dictionary\n",
    "    payload = {}\n",
    "\n",
    "    payload[\"action\"] = \"Lights\"\n",
    "    payload[\"msg\"] = \"Message to Edgent from Streams\\n:Alert code: 249\"\n",
    "\n",
    "    command_data =  {}\n",
    "    command_data [\"d\"] = payload\n",
    "\n",
    "    #convert the whole payload to json\n",
    "    command_as_json = json.dumps(command_data)\n",
    "\n",
    "    #build the command metadata. The device id and device type are on the tuple, but you could also specify them manually\n",
    "    device_cmd ={}\n",
    "    device_cmd[\"typeId\"] = tuple[\"typeId\"]\n",
    "    device_cmd[\"cmdId\"] = \"display\"\n",
    "    device_cmd[\"deviceId\"] = tuple[\"deviceId\"]\n",
    "\n",
    "    device_cmd[\"jsonString\"] = command_as_json\n",
    "    return device_cmd\n",
    "\n",
    "\"\"\"Parse the data from an event we received\"\"\"\n",
    "def get_event_data(tuple):\n",
    "    payload_json = tuple[\"jsonString\"]\n",
    "    payload = json.loads(payload_json)\n",
    "    return payload[\"d\"]\n",
    "\n"
   ]
  },
  {
   "cell_type": "markdown",
   "metadata": {},
   "source": [
    "<a id=\"step23\"></a>\n",
    "### 2.3 Create the Streams application\n",
    "\n",
    "This application is going to process events from an IoT device running an Apache Edgent application. The application has a range sensor that determines the physical distance of an object from the sensor.  It will send events whenever an object is less than 4m away from the sensor. It sends the average, maximum, minimum, and standard deviation (STDDEV) of the distance of the object for the last 10 readings. The events are of the form:\n",
    "```\n",
    "{\"name\":\"A\",\"reading\":{\"N\":2,\"MIN\":-2.384453313010427,\"MAX\":-2.0927794927623795,\"MEAN\":-2.2386164028864033,\"STDDEV\":0.20624453619198055}}\n",
    "```\n",
    "The Streams application will connect to the IoT platform to retrieve and print the events. Then it will also send a command back to the device to turn on the lights on the sensor. \n",
    "\n",
    "#### Create the Streams `Topology`\n",
    "\n",
    "Streams applications are directed graphs with data moving from one operation to the next. A Streams application written in Python is called a `Topology`. The `Topology` we are creating will start by ingesting the events from the device and printing them:\n"
   ]
  },
  {
   "cell_type": "code",
   "execution_count": 5,
   "metadata": {
    "scrolled": false
   },
   "outputs": [
    {
     "data": {
      "text/plain": [
       "<streamsx.topology.topology.Sink at 0x7fdfe1456c50>"
      ]
     },
     "execution_count": 5,
     "metadata": {},
     "output_type": "execute_result"
    }
   ],
   "source": [
    "from streamsx.topology.topology import Topology\n",
    "\n",
    "from streamsx.rest import StreamsConnection\n",
    "from streamsx.topology import schema\n",
    "import json\n",
    " #define needed variables\n",
    "COMMANDS_TOPIC = \"streamsx/iot/device/commands/send\" #topic to publish commands to\n",
    "EVENTS_TOPIC = \"streamsx/iot/device/events\" #topic to subscribe to for events\n",
    "incoming_schema =  schema.StreamSchema(\"tuple <rstring typeId, rstring deviceId, rstring eventId,rstring jsonString>\")\n",
    "cmd_schema = schema.StreamSchema('tuple<rstring typeId, rstring deviceId, rstring cmdId, rstring jsonString>')\n",
    "\n",
    "#Topology object is the Streams application graph\n",
    "topology = Topology('ReadingsFromIot')\n",
    "\n",
    "#Subscribe to  events\n",
    "events = topology.subscribe(EVENTS_TOPIC, incoming_schema,\"AllEventsAsJSON\")\n",
    "sensor_events = events.filter(lambda tuple: tuple[\"eventId\"] == \"sensors\",\"SensorEventsAsJSON\")\n",
    "readings = sensor_events.map(get_event_data,\"ReadingsStream\")\n",
    "#print out readings\n",
    "readings.print()\n"
   ]
  },
  {
   "cell_type": "markdown",
   "metadata": {},
   "source": [
    "<a id=\"step24\"></a>\n",
    "### 2.4 Send a response for each event\n",
    "\n",
    "Next, you will create a stream of commands to send back to the device. This is a very simple scenario, since you are not performing any major analysis but simply sending a response back for each event. Typically, you could do more complex analysis, or connect to a database, etc. \n"
   ]
  },
  {
   "cell_type": "code",
   "execution_count": 6,
   "metadata": {
    "scrolled": true
   },
   "outputs": [
    {
     "data": {
      "text/plain": [
       "<streamsx.topology.topology.Sink at 0x7fdff02e8e48>"
      ]
     },
     "execution_count": 6,
     "metadata": {},
     "output_type": "execute_result"
    }
   ],
   "source": [
    "\n",
    "#send a command\n",
    "cmd_stream = sensor_events.map(get_cmd, \"CommandsAsJSON\")\n",
    "#convert the commands stream to a SPL structured schema\n",
    "commands_to_publish = cmd_stream.map(lambda x : (x[\"typeId\"],x[\"deviceId\"],x[\"cmdId\"],x[\"jsonString\"],), schema = cmd_schema, name=\"CommandsToPublish\")\n",
    "\n",
    "commands_to_publish.publish(COMMANDS_TOPIC, cmd_schema)\n",
    "\n"
   ]
  },
  {
   "cell_type": "markdown",
   "metadata": {},
   "source": [
    "<a id=\"step25\"></a>\n",
    "### 2.5 Submit the `Topology` to the Streaming Analytics service\n",
    "\n",
    "Finally, run the following cell to submit the Streams topology to your Streaming Analytics service:"
   ]
  },
  {
   "cell_type": "code",
   "execution_count": null,
   "metadata": {
    "collapsed": true,
    "scrolled": true
   },
   "outputs": [],
   "source": [
    "result = submit_to_service(topology)\n",
    "print(\"Submitted job to the service, job id = \" + str(result.job.id))\n"
   ]
  },
  {
   "cell_type": "markdown",
   "metadata": {},
   "source": [
    "<a id=\"view\"></a>\n",
    "## 3. View the data\n",
    "\n",
    "You can view both events received from the Edgent application to the console as well as the commands sent back to Edgent.\n",
    "\n",
    "Since this application prints the received events from the Edgent application to the console, you can check the log viewer in the Streams Console to see the events received from the Edgent application. You can also view the output of the Edgent application to see that it does receive the commands from Streams. You can see messages like this:\n",
    "```\n",
    "Message to Edgent from Streams:\n",
    "Alert code: 249\n",
    "{\"name\":\"B\",\"reading\":{\"N\":50,\"MIN\":-2.762152936700155,\"MAX\":5.7895310031906675,\"MEAN\":2.239131357345944,\"STDDEV\":2.199931362960884}}\n",
    "Message to Edgent from Streams:\n",
    "Alert code: 249\n",
    "{\"name\":\"B\",\"reading\":{\"N\":50,\"MIN\":-2.762152936700155,\"MAX\":5.7895310031906675,\"MEAN\":2.127842287474011,\"STDDEV\":2.2555865482121846}}\n",
    "```\n"
   ]
  },
  {
   "cell_type": "markdown",
   "metadata": {},
   "source": [
    "<a id=\"stop\"></a>\n",
    "## 4. Stop the application\n",
    "From the Streams Console, cancel this application and the `IoTPlatform` job, otherwise, they can run indefinitely, consuming resources in your service. If you cancel the job, you must [re-run cell 2.5](#step25)."
   ]
  },
  {
   "cell_type": "markdown",
   "metadata": {},
   "source": [
    "<a id=\"summary\"></a>\n",
    "## 5. Summary and next steps\n",
    "\n",
    "Now that you have a basic Python application ingesting IoT data and running in the Streaming Analytics service, you can:\n",
    "\n",
    "- Try the \"Detect Malfunctioning Sensors\" notebook:\n",
    "    - <a href=\"https://www.youtube.com/watch?v=PDTSws6zULI\" target=\"_blank\" rel=\"noopener noreferrer\">Watch the demo video on Youtube</a>, then \n",
    "    - <a href=\"https://dataplatform.ibm.com/exchange/public/entry/view/ec0aa15c6ab928b9b43ac0109d4395f1\" target=\"_blank\">Try the notebook out yourself</a>.\n",
    "- Learn more about developing Streaming Analytics applications in Python: \n",
    "  - Take the <a href=\"https://developer.ibm.com/courses/all/streaming-analytics-basics-python-developers/\" target=\"_blank\">Streaming Analytics for Python developers course</a> on developerWorks.\n",
    "  - <a href=\"http://ibmstreams.github.io/streamsx.documentation/docs/python/1.6/python-appapi-devguide/\" target=\"_blank\">Consult the Streams Python API Developer Guide</a>.\n",
    "- For more Edgent and IoTP documentation, you can check out the <a href=\"http://edgent.incubator.apache.org/docs/quickstart.html\" target=\"_blank\" rel=\"noopener noreferrer\">Edgent to Quickstart guide</a>.\n",
    "- Visit <a href=\"https://developer.ibm.com/streamsdev/\" target=\"_blank\">Streamsdev, the Streams developer community</a>, for more useful resources about Streams.\n",
    "\n",
    "Happy Streaming!\n",
    "\n",
    " "
   ]
  },
  {
   "cell_type": "markdown",
   "metadata": {
    "collapsed": true
   },
   "source": [
    "<a id=\"authors\"></a> \n",
    "### Author\n",
    "\n",
    "**Natasha D'Silva** is a software developer at IBM Canada who specializes in streaming technology and cloud solutions.\n",
    "\n",
    "<hr>\n",
    "Copyright &copy; IBM Corp. 2018. This notebook and its source code are released under the terms of the Apache 2.0 License."
   ]
  }
 ],
 "metadata": {
  "anaconda-cloud": {},
  "kernelspec": {
   "display_name": "Python 3.5 (Experimental) with Spark 2.0",
   "language": "python",
   "name": "python3-spark20"
  },
  "language_info": {
   "codemirror_mode": {
    "name": "ipython",
    "version": 3
   },
   "file_extension": ".py",
   "mimetype": "text/x-python",
   "name": "python",
   "nbconvert_exporter": "python",
   "pygments_lexer": "ipython3",
   "version": "3.5.2"
  }
 },
 "nbformat": 4,
 "nbformat_minor": 1
}
