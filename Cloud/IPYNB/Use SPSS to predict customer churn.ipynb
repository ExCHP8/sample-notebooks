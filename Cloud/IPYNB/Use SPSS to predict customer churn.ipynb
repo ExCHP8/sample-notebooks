{
 "cells": [
  {
   "cell_type": "markdown",
   "metadata": {},
   "source": [
    "<table style=\"border: none\" align=\"left\">\n",
    "   <tr style=\"border: none\">\n",
    "      <th style=\"border: none\"><font face=\"verdana\" size=\"5\" color=\"black\"><b>Use SPSS to predict customer churn</b></th>\n",
    "      <th style=\"border: none\"><img src=\"https://github.com/pmservice/customer-satisfaction-prediction/blob/master/app/static/images/ml_icon_gray.png?raw=true\" alt=\"Watson Machine Learning icon\" height=\"40\" width=\"40\"></th>\n",
    "  <tr style=\"border: none\">\n",
    "       <th style=\"border: none\"><img src=\"https://github.com/pmservice/wml-sample-models/blob/master/spark/customer-satisfaction-prediction/images/users_banner_2-03.png?raw=true\" width=\"600\" alt=\"Icon\"> </th>\n",
    "   </tr>\n",
    "</table>"
   ]
  },
  {
   "cell_type": "markdown",
   "metadata": {},
   "source": [
    "This notebook shows you how to deploy a sample SPSS stream, and start scoring new data. \n",
    "\n",
    "Some familiarity with bash is helpful. This notebook uses Python 3.\n",
    "\n",
    "In this notebook, you will import and use a model that was trained on a **Telco Customer Churn** data set, which contains anonymous data about customers of a telecommunication company. Use the details of this data set to predict customer churn, which is critical information for a business because it's easier to retain existing customers than to acquire new ones.\n",
    "\n",
    "## Learning goals\n",
    "\n",
    "In this notebook you learn how to:\n",
    "\n",
    "-  Work with a Watson Machine Learning instance\n",
    "-  Deploy the SPSS model online\n",
    "-  Use the deployed model to score data\n",
    "\n",
    "\n",
    "## Contents\n",
    "\n",
    "1.\t[Set up the environment](#setup)\n",
    "2.\t[Work with the WML service instance](#instance) \n",
    "3.\t[Persist, deploy and score in the IBM Cloud](#scoring)\n",
    "4.\t[Summary](#summary)"
   ]
  },
  {
   "cell_type": "markdown",
   "metadata": {},
   "source": [
    "<a id=\"setup\"></a>\n",
    "## 1. Set up\n",
    "\n",
    "Before you use the sample code in this notebook, you must perform the following setup tasks:\n",
    "\n",
    "-  Create a <a href=\"https://console.ng.bluemix.net/catalog/services/machine-learning/\" target=\"_blank\" rel=\"noopener no referrer\">Watson Machine Learning (WML) Service</a> instance (a free plan is offered and information about how to create the instance is <a href=\"https://dataplatform.ibm.com/docs/content/analyze-data/wml-setup.html\" target=\"_blank\" rel=\"noopener no referrer\">here</a>).\n",
    "\n",
    "-   Install <a href=\"https://pypi.python.org/pypi?%3Aaction=search&term=watson-machine-learning-client&submit=search\" target=\"_blank\" rel=\"noopener no referrer\">watson-machine-learning-client</a> (not required on Watson Studio)."
   ]
  },
  {
   "cell_type": "markdown",
   "metadata": {},
   "source": [
    "Install the Python API client from pypi."
   ]
  },
  {
   "cell_type": "code",
   "execution_count": null,
   "metadata": {},
   "outputs": [],
   "source": [
    "!rm -rf $PIP_BUILD/watson-machine-learning-client"
   ]
  },
  {
   "cell_type": "code",
   "execution_count": null,
   "metadata": {},
   "outputs": [],
   "source": [
    "!pip install watson-machine-learning-client --upgrade"
   ]
  },
  {
   "cell_type": "markdown",
   "metadata": {},
   "source": [
    "<a id=\"instance\"></a>\n",
    "## 2. Work with the WML service instance"
   ]
  },
  {
   "cell_type": "markdown",
   "metadata": {},
   "source": [
    "Authenticate to the Watson Machine Learning service on IBM Cloud.\n",
    "\n",
    "**Tip**: Authentication information (your credentials) can be found in the [Service Credentials](https://console.bluemix.net/docs/services/service_credentials.html#service_credentials) tab of the service instance that you created on IBM Cloud. <BR>If you cannot see the **instance_id** field in **Service Credentials**, click **New credential (+)** to generate new authentication information. \n",
    "\n",
    "**Action**: Enter your Watson Machine Learning service instance credentials here."
   ]
  },
  {
   "cell_type": "code",
   "execution_count": 1,
   "metadata": {},
   "outputs": [],
   "source": [
    "wml_credentials = {\n",
    "  \"instance_id\": \"***\",\n",
    "  \"password\": \"***\",\n",
    "  \"url\": \"https://ibm-watson-ml.mybluemix.net\",\n",
    "  \"username\": \"***\"\n",
    "}"
   ]
  },
  {
   "cell_type": "markdown",
   "metadata": {},
   "source": [
    "Import the `watson-machine-learning-client` and authenticate to the service instance."
   ]
  },
  {
   "cell_type": "code",
   "execution_count": 2,
   "metadata": {},
   "outputs": [
    {
     "name": "stderr",
     "output_type": "stream",
     "text": [
      "2018-10-01 22:10:33,104 - watson_machine_learning_client.metanames - WARNING - 'AUTHOR_EMAIL' meta prop is deprecated. It will be ignored.\n"
     ]
    }
   ],
   "source": [
    "from watson_machine_learning_client import WatsonMachineLearningAPIClient"
   ]
  },
  {
   "cell_type": "code",
   "execution_count": 3,
   "metadata": {},
   "outputs": [],
   "source": [
    "client = WatsonMachineLearningAPIClient(wml_credentials)"
   ]
  },
  {
   "cell_type": "markdown",
   "metadata": {},
   "source": [
    "Details about your Watson Machine Learning service are available in ``service_instance.details``."
   ]
  },
  {
   "cell_type": "code",
   "execution_count": 4,
   "metadata": {},
   "outputs": [],
   "source": [
    "instance_details = client.service_instance.details"
   ]
  },
  {
   "cell_type": "markdown",
   "metadata": {},
   "source": [
    "Get a list of stored models for the WML instance."
   ]
  },
  {
   "cell_type": "code",
   "execution_count": 5,
   "metadata": {},
   "outputs": [
    {
     "name": "stdout",
     "output_type": "stream",
     "text": [
      "----  ----  -------  ---------\n",
      "GUID  NAME  CREATED  FRAMEWORK\n",
      "----  ----  -------  ---------\n"
     ]
    }
   ],
   "source": [
    "client.repository.list_models()"
   ]
  },
  {
   "cell_type": "markdown",
   "metadata": {},
   "source": [
    "Get a list of deployed models."
   ]
  },
  {
   "cell_type": "code",
   "execution_count": 6,
   "metadata": {},
   "outputs": [
    {
     "name": "stdout",
     "output_type": "stream",
     "text": [
      "----  ----  ----  -----  -------  ---------  -------------\n",
      "GUID  NAME  TYPE  STATE  CREATED  FRAMEWORK  ARTIFACT TYPE\n",
      "----  ----  ----  -----  -------  ---------  -------------\n"
     ]
    }
   ],
   "source": [
    "client.deployments.list()"
   ]
  },
  {
   "cell_type": "markdown",
   "metadata": {},
   "source": [
    "<a id=\"scoring\"></a>\n",
    "## 3. Persist, deploy and score model in a Cloud"
   ]
  },
  {
   "cell_type": "markdown",
   "metadata": {},
   "source": [
    "In this section you will learn how to:\n",
    "- [3.1 Download and save an SPSS sample model](#save)\n",
    "- [3.2 Use the WML REST API to create an online deployment](#create)\n",
    "- [3.3 Score a new data record](#score)\n",
    "\n",
    "For more information about REST APIs, see the <a href=\"http://watson-ml-api.mybluemix.net/\" target=\"_blank\" rel=\"noopener no referrer\">Swagger Documentation</a>."
   ]
  },
  {
   "cell_type": "markdown",
   "metadata": {},
   "source": [
    "### 3.1 Download and save the SPSS model<a id=\"save\"></a>"
   ]
  },
  {
   "cell_type": "markdown",
   "metadata": {},
   "source": [
    "Download the SPSS sample model from the Git project."
   ]
  },
  {
   "cell_type": "markdown",
   "metadata": {},
   "source": [
    "**Note:** You may need to install the `wget` package. To do this run: "
   ]
  },
  {
   "cell_type": "code",
   "execution_count": 7,
   "metadata": {},
   "outputs": [
    {
     "name": "stdout",
     "output_type": "stream",
     "text": [
      "Collecting wget\n",
      "  Downloading https://files.pythonhosted.org/packages/47/6a/62e288da7bcda82b935ff0c6cfe542970f04e29c756b0e147251b2fb251f/wget-3.2.zip\n",
      "Building wheels for collected packages: wget\n",
      "  Running setup.py bdist_wheel for wget ... \u001b[?25ldone\n",
      "\u001b[?25h  Stored in directory: /home/dsxuser/.cache/pip/wheels/40/15/30/7d8f7cea2902b4db79e3fea550d7d7b85ecb27ef992b618f3f\n",
      "Successfully built wget\n",
      "Installing collected packages: wget\n",
      "Successfully installed wget-3.2\n"
     ]
    }
   ],
   "source": [
    "!pip install wget"
   ]
  },
  {
   "cell_type": "code",
   "execution_count": 8,
   "metadata": {},
   "outputs": [
    {
     "name": "stdout",
     "output_type": "stream",
     "text": [
      "spss_sample_model/customer-satisfaction-prediction.str\n"
     ]
    }
   ],
   "source": [
    "# Download the sample SPSS model.\n",
    "import os, wget\n",
    "\n",
    "sample_dir = 'spss_sample_model'\n",
    "if not os.path.isdir(sample_dir):\n",
    "    os.mkdir(sample_dir)\n",
    "\n",
    "filename=os.path.join(sample_dir, 'customer-satisfaction-prediction.str')\n",
    "if not os.path.isfile(filename):\n",
    "    filename = wget.download('https://github.com/pmservice/wml-sample-models/raw/master/spss/customer-satisfaction-prediction/model/customer-satisfaction-prediction.str',\\\n",
    "                             out=sample_dir)\n",
    "print(filename)"
   ]
  },
  {
   "cell_type": "markdown",
   "metadata": {},
   "source": [
    "Save the SPSS sample model to your WML instance."
   ]
  },
  {
   "cell_type": "code",
   "execution_count": 9,
   "metadata": {},
   "outputs": [],
   "source": [
    "# Save the SPSS model to the WML repository.\n",
    "props_spss = {client.repository.ModelMetaNames.NAME: 'SPSS model for Churn prediction',\n",
    "              client.repository.ModelMetaNames.AUTHOR_NAME: \"IBM\", \n",
    "              client.repository.ModelMetaNames.FRAMEWORK_NAME: \"spss-modeler\", \n",
    "              client.repository.ModelMetaNames.FRAMEWORK_VERSION: \"18.1\"}\n",
    "\n",
    "model_details = client.repository.store_model(filename, props_spss)"
   ]
  },
  {
   "cell_type": "markdown",
   "metadata": {},
   "source": [
    "Get details of all the models saved in the repository."
   ]
  },
  {
   "cell_type": "code",
   "execution_count": 10,
   "metadata": {},
   "outputs": [
    {
     "name": "stdout",
     "output_type": "stream",
     "text": [
      "{'entity': {'runtime_environment': 'None Provided', 'learning_configuration_url': 'https://us-south.ml.cloud.ibm.com/v3/wml_instances/d0755448-6eb4-425a-b35b-479be91ff2d5/published_models/704a23ce-711f-40f6-be0c-a289df74dbe8/learning_configuration', 'name': 'SPSS model for Churn prediction', 'feedback_url': 'https://us-south.ml.cloud.ibm.com/v3/wml_instances/d0755448-6eb4-425a-b35b-479be91ff2d5/published_models/704a23ce-711f-40f6-be0c-a289df74dbe8/feedback', 'model_type': 'spss-modeler-18.1', 'latest_version': {'guid': 'bc5d186f-d762-485a-a375-0c1a468d4dbd', 'created_at': '2018-10-01T22:10:33.455Z', 'url': 'https://us-south.ml.cloud.ibm.com/v3/ml_assets/models/704a23ce-711f-40f6-be0c-a289df74dbe8/versions/bc5d186f-d762-485a-a375-0c1a468d4dbd'}, 'evaluation_metrics_url': 'https://us-south.ml.cloud.ibm.com/v3/wml_instances/d0755448-6eb4-425a-b35b-479be91ff2d5/published_models/704a23ce-711f-40f6-be0c-a289df74dbe8/evaluation_metrics', 'author': {'name': 'IBM'}, 'deployments': {'url': 'https://us-south.ml.cloud.ibm.com/v3/wml_instances/d0755448-6eb4-425a-b35b-479be91ff2d5/published_models/704a23ce-711f-40f6-be0c-a289df74dbe8/deployments', 'count': 0}, 'learning_iterations_url': 'https://us-south.ml.cloud.ibm.com/v3/wml_instances/d0755448-6eb4-425a-b35b-479be91ff2d5/published_models/704a23ce-711f-40f6-be0c-a289df74dbe8/learning_iterations'}, 'metadata': {'guid': '704a23ce-711f-40f6-be0c-a289df74dbe8', 'modified_at': '2018-10-01T22:10:33.455Z', 'created_at': '2018-10-01T22:10:33.398Z', 'url': 'https://us-south.ml.cloud.ibm.com/v3/wml_instances/d0755448-6eb4-425a-b35b-479be91ff2d5/published_models/704a23ce-711f-40f6-be0c-a289df74dbe8'}}\n"
     ]
    }
   ],
   "source": [
    "# List models in the repository.\n",
    "print(model_details)"
   ]
  },
  {
   "cell_type": "markdown",
   "metadata": {},
   "source": [
    "### 3.2 Create the online deployment<a id=\"create\"></a>"
   ]
  },
  {
   "cell_type": "markdown",
   "metadata": {},
   "source": [
    "Use the commands below to create the online deployment."
   ]
  },
  {
   "cell_type": "code",
   "execution_count": 11,
   "metadata": {},
   "outputs": [
    {
     "name": "stdout",
     "output_type": "stream",
     "text": [
      "\n",
      "\n",
      "#######################################################################################\n",
      "\n",
      "Synchronous deployment creation for uid: '704a23ce-711f-40f6-be0c-a289df74dbe8' started\n",
      "\n",
      "#######################################################################################\n",
      "\n",
      "\n",
      "INITIALIZING\n",
      "DEPLOY_IN_PROGRESS...........\n",
      "DEPLOY_SUCCESS\n",
      "\n",
      "\n",
      "------------------------------------------------------------------------------------------------\n",
      "Successfully finished deployment creation, deployment_uid='25df1087-19ea-4c40-a550-366ad8fe3430'\n",
      "------------------------------------------------------------------------------------------------\n",
      "\n",
      "\n"
     ]
    }
   ],
   "source": [
    "model_uid = client.repository.get_model_uid(model_details)\n",
    "model_deployment = client.deployments.create(model_uid, \"Sample SPSS model deployment\")"
   ]
  },
  {
   "cell_type": "markdown",
   "metadata": {},
   "source": [
    "Now check details about your deployments."
   ]
  },
  {
   "cell_type": "code",
   "execution_count": 12,
   "metadata": {},
   "outputs": [
    {
     "name": "stdout",
     "output_type": "stream",
     "text": [
      "{'entity': {'runtime_environment': 'None Provided', 'model_type': 'spss-modeler-18.1', 'description': 'Description of deployment', 'name': 'Sample SPSS model deployment', 'type': 'online', 'deployed_version': {'guid': 'bc5d186f-d762-485a-a375-0c1a468d4dbd', 'url': 'https://ibm-watson-ml.mybluemix.net/v3/ml_assets/models/704a23ce-711f-40f6-be0c-a289df74dbe8/versions/bc5d186f-d762-485a-a375-0c1a468d4dbd'}, 'status': 'DEPLOY_SUCCESS', 'status_details': {'status': 'DEPLOY_SUCCESS'}, 'scoring_url': 'https://ibm-watson-ml.mybluemix.net/v3/wml_instances/d0755448-6eb4-425a-b35b-479be91ff2d5/deployments/25df1087-19ea-4c40-a550-366ad8fe3430/online', 'deployable_asset': {'guid': '704a23ce-711f-40f6-be0c-a289df74dbe8', 'created_at': '2018-10-01T22:11:47.168Z', 'url': 'https://ibm-watson-ml.mybluemix.net/v3/wml_instances/d0755448-6eb4-425a-b35b-479be91ff2d5/published_models/704a23ce-711f-40f6-be0c-a289df74dbe8', 'name': 'SPSS model for Churn prediction', 'type': 'model'}}, 'metadata': {'guid': '25df1087-19ea-4c40-a550-366ad8fe3430', 'modified_at': '2018-10-01T22:11:47.514Z', 'created_at': '2018-10-01T22:11:47.249Z', 'url': 'https://ibm-watson-ml.mybluemix.net/v3/wml_instances/d0755448-6eb4-425a-b35b-479be91ff2d5/deployments/25df1087-19ea-4c40-a550-366ad8fe3430'}}\n"
     ]
    }
   ],
   "source": [
    "deployment_uid = client.deployments.get_uid(model_deployment)\n",
    "print(client.deployments.get_details(deployment_uid))"
   ]
  },
  {
   "cell_type": "markdown",
   "metadata": {},
   "source": [
    "### 3.3 Score a new data record<a id=\"score\"></a>"
   ]
  },
  {
   "cell_type": "markdown",
   "metadata": {},
   "source": [
    "Use the following commands to get the scoring endpoint, `scoring_url`, for your deployed model."
   ]
  },
  {
   "cell_type": "code",
   "execution_count": 13,
   "metadata": {},
   "outputs": [
    {
     "name": "stdout",
     "output_type": "stream",
     "text": [
      "https://ibm-watson-ml.mybluemix.net/v3/wml_instances/d0755448-6eb4-425a-b35b-479be91ff2d5/deployments/25df1087-19ea-4c40-a550-366ad8fe3430/online\n"
     ]
    }
   ],
   "source": [
    "# Get scoring endpoint.\n",
    "scoring_url = client.deployments.get_scoring_url(model_deployment)\n",
    "print(scoring_url)"
   ]
  },
  {
   "cell_type": "markdown",
   "metadata": {},
   "source": [
    "Use the client `score` method to score data about a customer."
   ]
  },
  {
   "cell_type": "code",
   "execution_count": 14,
   "metadata": {},
   "outputs": [
    {
     "name": "stdout",
     "output_type": "stream",
     "text": [
      "{'values': [['3638-WEABW', 'No', 'No', 0.0526309571556145]], 'fields': ['customerID', 'Churn', 'Predicted Churn', 'Probability of Churn']}\n"
     ]
    }
   ],
   "source": [
    "scoring_payload = {\"fields\":[\"customerID\",\"gender\",\"SeniorCitizen\",\"Partner\",\"Dependents\",\"tenure\",\"PhoneService\",\"MultipleLines\",\"InternetService\",\"OnlineSecurity\",\"OnlineBackup\",\"DeviceProtection\",\"TechSupport\",\"StreamingTV\",\"StreamingMovies\",\"Contract\",\"PaperlessBilling\",\"PaymentMethod\",\"MonthlyCharges\",\"TotalCharges\",\"Churn\",\"SampleWeight\"],\"values\":[[\"3638-WEABW\",\"Female\",0,\"Yes\",\"No\",58,\"Yes\",\"Yes\",\"DSL\",\"No\",\"Yes\",\"No\",\"Yes\",\"No\",\"No\",\"Two year\",\"Yes\",\"Credit card (automatic)\",59.9,3505.1,\"No\",2.768]]}\n",
    "prediction = client.deployments.score(scoring_url, scoring_payload)\n",
    "\n",
    "print(prediction)"
   ]
  },
  {
   "cell_type": "markdown",
   "metadata": {},
   "source": [
    "As you can see this sample telco customer is satisfied (\"Predicted Churn\", \"No\")."
   ]
  },
  {
   "cell_type": "markdown",
   "metadata": {},
   "source": [
    "Now you can see your model in the list of stored models for the WML instance."
   ]
  },
  {
   "cell_type": "code",
   "execution_count": 15,
   "metadata": {},
   "outputs": [
    {
     "name": "stdout",
     "output_type": "stream",
     "text": [
      "------------------------------------  -------------------------------  ------------------------  -----------------\n",
      "GUID                                  NAME                             CREATED                   FRAMEWORK\n",
      "704a23ce-711f-40f6-be0c-a289df74dbe8  SPSS model for Churn prediction  2018-10-01T22:10:33.398Z  spss-modeler-18.1\n",
      "------------------------------------  -------------------------------  ------------------------  -----------------\n"
     ]
    }
   ],
   "source": [
    "client.repository.list_models()"
   ]
  },
  {
   "cell_type": "markdown",
   "metadata": {},
   "source": [
    "Get a list of deployed models."
   ]
  },
  {
   "cell_type": "code",
   "execution_count": 16,
   "metadata": {},
   "outputs": [
    {
     "name": "stdout",
     "output_type": "stream",
     "text": [
      "------------------------------------  ----------------------------  ------  --------------  ------------------------  -----------------  -------------\n",
      "GUID                                  NAME                          TYPE    STATE           CREATED                   FRAMEWORK          ARTIFACT TYPE\n",
      "25df1087-19ea-4c40-a550-366ad8fe3430  Sample SPSS model deployment  online  DEPLOY_SUCCESS  2018-10-01T22:11:47.249Z  spss-modeler-18.1  model\n",
      "------------------------------------  ----------------------------  ------  --------------  ------------------------  -----------------  -------------\n"
     ]
    }
   ],
   "source": [
    "client.deployments.list()"
   ]
  },
  {
   "cell_type": "markdown",
   "metadata": {
    "collapsed": true
   },
   "source": [
    "<a id=\"summary\"></a>\n",
    "## 4. Summary     "
   ]
  },
  {
   "cell_type": "markdown",
   "metadata": {
    "collapsed": true
   },
   "source": [
    "You successfully completed this notebook! You learned how to use Watson Machine Learning for SPSS model deployment and scoring. \n",
    "\n",
    "Check out our <a href=\"https://dataplatform.ibm.com/docs/content/analyze-data/wml-setup.html\" target=\"_blank\" rel=\"noopener noreferrer\">Online Documentation</a> for more samples, tutorials, documentation, how-tos, and blog posts."
   ]
  },
  {
   "cell_type": "markdown",
   "metadata": {},
   "source": [
    "### Author\n",
    "\n",
    "**Lukasz Cmielowski, PhD,** is an Automation Architect and Data Scientist at IBM with a track record of developing enterprise-level applications that substantially increase the clients' ability to turn data into actionable knowledge."
   ]
  },
  {
   "cell_type": "markdown",
   "metadata": {},
   "source": [
    "Copyright © 2017, 2018 IBM. This notebook and its source code are released under the terms of the MIT License."
   ]
  },
  {
   "cell_type": "markdown",
   "metadata": {},
   "source": [
    "<div style=\"background:#F5F7FA; height:110px; padding: 2em; font-size:14px;\">\n",
    "<span style=\"font-size:18px;color:#152935;\">Love this notebook? </span>\n",
    "<span style=\"font-size:15px;color:#152935;float:right;margin-right:40px;\">Don't have an account yet?</span><br>\n",
    "<span style=\"color:#5A6872;\">Share it with your colleagues and help them discover the power of Watson Studio!</span>\n",
    "<span style=\"border: 1px solid #3d70b2;padding:8px;float:right;margin-right:40px; color:#3d70b2;\"><a href=\"https://ibm.co/wsnotebooks\" target=\"_blank\" style=\"color: #3d70b2;text-decoration: none;\">Sign Up</a></span><br>\n",
    "</div>"
   ]
  }
 ],
 "metadata": {
  "kernelspec": {
   "display_name": "Python 3.5",
   "language": "python",
   "name": "python3"
  },
  "language_info": {
   "codemirror_mode": {
    "name": "ipython",
    "version": 3
   },
   "file_extension": ".py",
   "mimetype": "text/x-python",
   "name": "python",
   "nbconvert_exporter": "python",
   "pygments_lexer": "ipython3",
   "version": "3.5.5"
  }
 },
 "nbformat": 4,
 "nbformat_minor": 1
}
