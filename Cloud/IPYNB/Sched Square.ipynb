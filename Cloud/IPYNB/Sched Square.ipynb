{
 "cells": [
  {
   "cell_type": "markdown",
   "metadata": {},
   "source": [
    "# Sched Square\n",
    "\n",
    "This tutorial includes everything you need to set up decision optimization engines, build constraint programming models. \n",
    "\n",
    "\n",
    "Table of contents:\n",
    "\n",
    "-  [Describe the business problem](#Describe-the-business-problem)\n",
    "*  [How decision optimization (prescriptive analytics) can help](#How--decision-optimization-can-help)\n",
    "*  [Use decision optimization](#Use-decision-optimization)\n",
    "    *  [Step 1: Model the Data](#Step-1:-Model-the-data)\n",
    "    *  [Step 2: Set up the prescriptive model](#Step-2:-Set-up-the-prescriptive-model)\n",
    "        * [Define the decision variables](#Define-the-decision-variables)\n",
    "        * [Express the business constraints](#Express-the-business-constraints)\n",
    "        * [Express the search phase](#Express-the-search-phase)\n",
    "        * [Solve with Decision Optimization solve service](#Solve-with-Decision-Optimization-solve-service)\n",
    "    *  [Step 3: Investigate the solution and run an example analysis](#Step-3:-Investigate-the-solution-and-then-run-an-example-analysis)\n",
    "*  [Summary](#Summary)\n",
    "****"
   ]
  },
  {
   "cell_type": "markdown",
   "metadata": {},
   "source": [
    "### Describe the business problem\n",
    "\n",
    "* The aim of the square example is to place a set of small squares of different sizes into a large square."
   ]
  },
  {
   "cell_type": "markdown",
   "metadata": {},
   "source": [
    "*****\n",
    "## How  decision optimization can help\n",
    "* Prescriptive analytics technology recommends actions based on desired outcomes, taking into account specific scenarios, resources, and knowledge of past and current events. This insight can help your organization make better decisions and have greater control of business outcomes.  \n",
    "\n",
    "* Prescriptive analytics is the next step on the path to insight-based actions. It creates value through synergy with predictive analytics, which analyzes data to predict future outcomes.  \n",
    "\n",
    "* Prescriptive analytics takes that insight to the next level by suggesting the optimal way to handle that future situation. Organizations that can act fast in dynamic conditions and make superior decisions in uncertain environments gain a strong competitive advantage.  \n",
    "<br/>\n",
    "\n",
    "+ For example:\n",
    "    + Automate complex decisions and trade-offs to better manage limited resources.\n",
    "    + Take advantage of a future opportunity or mitigate a future risk.\n",
    "    + Proactively update recommendations based on changing events.\n",
    "    + Meet operational goals, increase customer loyalty, prevent threats and fraud, and optimize business processes.\n"
   ]
  },
  {
   "cell_type": "markdown",
   "metadata": {},
   "source": [
    "## Use decision optimization"
   ]
  },
  {
   "cell_type": "markdown",
   "metadata": {},
   "source": [
    "### Step 1: Model the data"
   ]
  },
  {
   "cell_type": "code",
   "execution_count": 1,
   "metadata": {},
   "outputs": [],
   "source": [
    "from docplex.cp.model import *"
   ]
  },
  {
   "cell_type": "markdown",
   "metadata": {},
   "source": [
    "Size of the englobing square"
   ]
  },
  {
   "cell_type": "code",
   "execution_count": 2,
   "metadata": {},
   "outputs": [],
   "source": [
    "SIZE_SQUARE = 112"
   ]
  },
  {
   "cell_type": "markdown",
   "metadata": {},
   "source": [
    "Sizes of the sub-squares"
   ]
  },
  {
   "cell_type": "code",
   "execution_count": 3,
   "metadata": {},
   "outputs": [],
   "source": [
    "SIZE_SUBSQUARE = [50, 42, 37, 35, 33, 29, 27, 25, 24, 19, 18, 17, 16, 15, 11, 9, 8, 7, 6, 4, 2]"
   ]
  },
  {
   "cell_type": "markdown",
   "metadata": {},
   "source": [
    "### Step 2: Set up the prescriptive model"
   ]
  },
  {
   "cell_type": "code",
   "execution_count": 4,
   "metadata": {},
   "outputs": [],
   "source": [
    "mdl = CpoModel(name=\"SchedSquare\")"
   ]
  },
  {
   "cell_type": "markdown",
   "metadata": {},
   "source": [
    "#### Define the decision variables\n",
    "##### Create array of variables for sub-squares"
   ]
  },
  {
   "cell_type": "code",
   "execution_count": 5,
   "metadata": {},
   "outputs": [],
   "source": [
    "x = []\n",
    "y = []\n",
    "rx = pulse((0, 0), 0)\n",
    "ry = pulse((0, 0), 0)\n",
    "\n",
    "for i in range(len(SIZE_SUBSQUARE)):\n",
    "    sq = SIZE_SUBSQUARE[i]\n",
    "    vx = interval_var(size=sq, name=\"X\" + str(i))\n",
    "    vx.set_end((0, SIZE_SQUARE))\n",
    "    x.append(vx)\n",
    "    rx += pulse(vx, sq)\n",
    "\n",
    "    vy = interval_var(size=sq, name=\"Y\" + str(i))\n",
    "    vy.set_end((0, SIZE_SQUARE))\n",
    "    y.append(vy)\n",
    "    ry += pulse(vy, sq)"
   ]
  },
  {
   "cell_type": "markdown",
   "metadata": {},
   "source": [
    "#### Express the business constraints\n",
    "##### Create dependencies between variables"
   ]
  },
  {
   "cell_type": "code",
   "execution_count": 6,
   "metadata": {},
   "outputs": [],
   "source": [
    "for i in range(len(SIZE_SUBSQUARE)):\n",
    "    for j in range(i):\n",
    "        mdl.add((end_of(x[i]) <= start_of(x[j]))\n",
    "                | (end_of(x[j]) <= start_of(x[i]))\n",
    "                | (end_of(y[i]) <= start_of(y[j]))\n",
    "                | (end_of(y[j]) <= start_of(y[i])))"
   ]
  },
  {
   "cell_type": "markdown",
   "metadata": {},
   "source": [
    "##### Set other constraints"
   ]
  },
  {
   "cell_type": "code",
   "execution_count": 7,
   "metadata": {},
   "outputs": [],
   "source": [
    "mdl.add(always_in(rx, (0, SIZE_SQUARE), SIZE_SQUARE, SIZE_SQUARE))\n",
    "mdl.add(always_in(ry, (0, SIZE_SQUARE), SIZE_SQUARE, SIZE_SQUARE))"
   ]
  },
  {
   "cell_type": "markdown",
   "metadata": {},
   "source": [
    "#### Express the search phase"
   ]
  },
  {
   "cell_type": "code",
   "execution_count": 8,
   "metadata": {},
   "outputs": [],
   "source": [
    "mdl.set_search_phases([search_phase(x), search_phase(y)])"
   ]
  },
  {
   "cell_type": "markdown",
   "metadata": {},
   "source": [
    "#### Solve with Decision Optimization solve service"
   ]
  },
  {
   "cell_type": "code",
   "execution_count": 9,
   "metadata": {},
   "outputs": [],
   "source": [
    "msol = mdl.solve(TimeLimit=20)"
   ]
  },
  {
   "cell_type": "markdown",
   "metadata": {},
   "source": [
    "### Step 3: Investigate the solution and then run an example analysis"
   ]
  },
  {
   "cell_type": "markdown",
   "metadata": {},
   "source": [
    "#### Print Solution"
   ]
  },
  {
   "cell_type": "code",
   "execution_count": 10,
   "metadata": {},
   "outputs": [
    {
     "name": "stdout",
     "output_type": "stream",
     "text": [
      "Solution: \n",
      "-------------------------------------------------------------------------------\n",
      "Model constraints: 212, variables: integer: 0, interval: 42, sequence: 0\n",
      "Solve status: Feasible, Fail status: SearchHasNotFailed\n",
      "Search status: SearchCompleted, stop cause: SearchHasNotBeenStopped\n",
      "Solve time: 15.22 sec\n",
      "-------------------------------------------------------------------------------\n",
      "\n",
      "X0: (start=62, end=112, size=50, length=50)\n",
      "X1: (start=0, end=42, size=42, length=42)\n",
      "X2: (start=42, end=79, size=37, length=37)\n",
      "X3: (start=27, end=62, size=35, length=35)\n",
      "X4: (start=79, end=112, size=33, length=33)\n",
      "X5: (start=83, end=112, size=29, length=29)\n",
      "X6: (start=0, end=27, size=27, length=27)\n",
      "X7: (start=58, end=83, size=25, length=25)\n",
      "X8: (start=0, end=24, size=24, length=24)\n",
      "X9: (start=0, end=19, size=19, length=19)\n",
      "X10: (start=24, end=42, size=18, length=18)\n",
      "X11: (start=30, end=47, size=17, length=17)\n",
      "X12: (start=42, end=58, size=16, length=16)\n",
      "X13: (start=47, end=62, size=15, length=15)\n",
      "X14: (start=19, end=30, size=11, length=11)\n",
      "X15: (start=49, end=58, size=9, length=9)\n",
      "X16: (start=19, end=27, size=8, length=8)\n",
      "X17: (start=42, end=49, size=7, length=7)\n",
      "X18: (start=24, end=30, size=6, length=6)\n",
      "X19: (start=79, end=83, size=4, length=4)\n",
      "X20: (start=47, end=49, size=2, length=2)\n",
      "Y0: (start=0, end=50, size=50, length=50)\n",
      "Y1: (start=70, end=112, size=42, length=42)\n",
      "Y2: (start=75, end=112, size=37, length=37)\n",
      "Y3: (start=0, end=35, size=35, length=35)\n",
      "Y4: (start=79, end=112, size=33, length=33)\n",
      "Y5: (start=50, end=79, size=29, length=29)\n",
      "Y6: (start=0, end=27, size=27, length=27)\n",
      "Y7: (start=50, end=75, size=25, length=25)\n",
      "Y8: (start=46, end=70, size=24, length=24)\n",
      "Y9: (start=27, end=46, size=19, length=19)\n",
      "Y10: (start=52, end=70, size=18, length=18)\n",
      "Y11: (start=35, end=52, size=17, length=17)\n",
      "Y12: (start=59, end=75, size=16, length=16)\n",
      "Y13: (start=35, end=50, size=15, length=15)\n",
      "Y14: (start=35, end=46, size=11, length=11)\n",
      "Y15: (start=50, end=59, size=9, length=9)\n",
      "Y16: (start=27, end=35, size=8, length=8)\n",
      "Y17: (start=52, end=59, size=7, length=7)\n",
      "Y18: (start=46, end=52, size=6, length=6)\n",
      "Y19: (start=75, end=79, size=4, length=4)\n",
      "Y20: (start=50, end=52, size=2, length=2)\n"
     ]
    }
   ],
   "source": [
    "print(\"Solution: \")\n",
    "msol.print_solution()"
   ]
  },
  {
   "cell_type": "markdown",
   "metadata": {},
   "source": [
    "#### Import graphical tools"
   ]
  },
  {
   "cell_type": "code",
   "execution_count": 11,
   "metadata": {},
   "outputs": [],
   "source": [
    "import docplex.cp.utils_visu as visu\n",
    "import matplotlib.pyplot as plt"
   ]
  },
  {
   "cell_type": "markdown",
   "metadata": {},
   "source": [
    "*You can set __POP\\_UP\\_GRAPHIC=True__ if you prefer a pop up graphic window instead of an inline one.*"
   ]
  },
  {
   "cell_type": "code",
   "execution_count": 12,
   "metadata": {},
   "outputs": [],
   "source": [
    "POP_UP_GRAPHIC=False"
   ]
  },
  {
   "cell_type": "code",
   "execution_count": 13,
   "metadata": {},
   "outputs": [
    {
     "name": "stdout",
     "output_type": "stream",
     "text": [
      "Plotting squares....\n"
     ]
    },
    {
     "data": {
      "image/png": "[encoded data removed]",
      "text/plain": [
       "<matplotlib.figure.Figure at 0x7f1a80677668>"
      ]
     },
     "metadata": {},
     "output_type": "display_data"
    }
   ],
   "source": [
    "if msol and visu.is_visu_enabled():\n",
    "    import matplotlib.cm as cm\n",
    "    from matplotlib.patches import Polygon\n",
    "    \n",
    "    if not POP_UP_GRAPHIC:\n",
    "        %matplotlib inline\n",
    "    \n",
    "    # Plot external square\n",
    "    print(\"Plotting squares....\")\n",
    "    fig, ax = plt.subplots()\n",
    "    plt.plot((0, 0), (0, SIZE_SQUARE), (SIZE_SQUARE, SIZE_SQUARE), (SIZE_SQUARE, 0))\n",
    "    for i in range(len(SIZE_SUBSQUARE)):\n",
    "        # Display square i\n",
    "        (sx, sy) = (msol.get_var_solution(x[i]), msol.get_var_solution(y[i]))\n",
    "        (sx1, sx2, sy1, sy2) = (sx.get_start(), sx.get_end(), sy.get_start(), sy.get_end())\n",
    "        poly = Polygon([(sx1, sy1), (sx1, sy2), (sx2, sy2), (sx2, sy1)], fc=cm.Set2(float(i) / len(SIZE_SUBSQUARE)))\n",
    "        ax.add_patch(poly)\n",
    "        # Display identifier of square i at its center\n",
    "        ax.text(float(sx1 + sx2) / 2, float(sy1 + sy2) / 2, str(SIZE_SUBSQUARE[i]), ha='center', va='center')\n",
    "    plt.margins(0)\n",
    "    plt.show()"
   ]
  },
  {
   "cell_type": "markdown",
   "metadata": {},
   "source": [
    "## Summary\n",
    "\n",
    "You have learned how to set up and use the IBM Decision Optimization CPLEX Modeling for Python to formulate and solve a Constraint Programming model."
   ]
  },
  {
   "cell_type": "markdown",
   "metadata": {},
   "source": [
    "#### References\n",
    "* <a href=\"https://rawgit.com/IBMDecisionOptimization/docplex-doc/master/docs/index.html\" target=\"_blank\" rel=\"noopener noreferrer\">Decision Optimization CPLEX Modeling for Python documentation</a>\n",
    "* <a href=\"https://dataplatform.cloud.ibm.com/docs/content/wsj/getting-started/welcome-main.html\" target=\"_blank\" rel=\"noopener noreferrer\">Watson Studio documentation</a>"
   ]
  },
  {
   "cell_type": "markdown",
   "metadata": {},
   "source": [
    "<hr>\n",
    "Copyright © 2017-2019. This notebook and its source code are released under the terms of the MIT License."
   ]
  },
  {
   "cell_type": "markdown",
   "metadata": {},
   "source": [
    "<div style=\"background:#F5F7FA; height:110px; padding: 2em; font-size:14px;\">\n",
    "<span style=\"font-size:18px;color:#152935;\">Love this notebook? </span>\n",
    "<span style=\"font-size:15px;color:#152935;float:right;margin-right:40px;\">Don't have an account yet?</span><br>\n",
    "<span style=\"color:#5A6872;\">Share it with your colleagues and help them discover the power of Watson Studio!</span>\n",
    "<span style=\"border: 1px solid #3d70b2;padding:8px;float:right;margin-right:40px; color:#3d70b2;\"><a href=\"https://ibm.co/wsnotebooks\" target=\"_blank\" style=\"color: #3d70b2;text-decoration: none;\">Sign Up</a></span><br>\n",
    "</div>"
   ]
  }
 ],
 "metadata": {
  "kernelspec": {
   "display_name": "Python 3.5",
   "language": "python",
   "name": "python3"
  },
  "language_info": {
   "codemirror_mode": {
    "name": "ipython",
    "version": 3
   },
   "file_extension": ".py",
   "mimetype": "text/x-python",
   "name": "python",
   "nbconvert_exporter": "python",
   "pygments_lexer": "ipython3",
   "version": "3.5.5"
  }
 },
 "nbformat": 4,
 "nbformat_minor": 1
}
