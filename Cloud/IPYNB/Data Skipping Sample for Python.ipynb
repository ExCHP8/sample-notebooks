{
 "cells": [
  {
   "cell_type": "markdown",
   "metadata": {},
   "source": [
    "# Data Skipping Sample for Python"
   ]
  },
  {
   "cell_type": "markdown",
   "metadata": {},
   "source": [
    "[Data skipping](https://cloud.ibm.com/docs/services/AnalyticsEngine?topic=AnalyticsEngine-data-skipping&locale=en) can significantly boost the performance of SQL queries by skipping over irrelevant data objects or files based on a summary metadata associated with each object.\n",
    "\n",
    "For every column in the object, the summary metadata might include minimum and maximum values, a list or bloom filter of the appearing values, or other metadata which succinctly represents the data in that column. This metadata is used during query evaluation to skip over objects which have no relevant data.\n",
    "\n",
    "All Spark native data formats are supported, including Parquet, ORC, CSV, JSON and Avro. Data skipping is a performance optimization feature which means that using data skipping does not affect the content of the query results.\n",
    "\n",
    "To use this feature, you need to create indexes on one or more columns of the data set. After this is done, Spark SQL queries can benefit from data skipping. In general, you should index the columns which are queried most often in the WHERE clause."
   ]
  },
  {
   "cell_type": "markdown",
   "metadata": {},
   "source": [
    "### Table of Contents:\n",
    "* [1. Setup the environment](#cell0)\n",
    "* [2. Creating a sample dataset](#cell1)\n",
    "* [3. Setup the DataSkipping library](#cell2)\n",
    "    * [3.1 Indexing a dataset](#cell2.1)\n",
    "* [4. Using the data skipping indexes ](#cell3)\n",
    "    * [4.1 Running queries](#cell3.2)\n",
    "* [Authors](#authors)"
   ]
  },
  {
   "cell_type": "markdown",
   "metadata": {},
   "source": [
    "<a id=\"cell0\"></a>\n",
    "## Setup the environment"
   ]
  },
  {
   "cell_type": "code",
   "execution_count": 1,
   "metadata": {},
   "outputs": [
    {
     "name": "stdout",
     "output_type": "stream",
     "text": [
      "Waiting for a Spark session to start...\n",
      "Spark Initialization Done! ApplicationId = app-20200506210714-0000\n",
      "KERNEL_ID = b6ee6de9-9b19-4176-b068-76c352a33a2b\n"
     ]
    }
   ],
   "source": [
    "from metaindex import MetaIndexManager"
   ]
  },
  {
   "cell_type": "markdown",
   "metadata": {},
   "source": [
    "**Optional:** set log level to DEBUG for the metaindex package to view the skipped objects."
   ]
  },
  {
   "cell_type": "code",
   "execution_count": 2,
   "metadata": {},
   "outputs": [],
   "source": [
    "log4jLogger = spark.sparkContext._jvm.org.apache.log4j\n",
    "log4jLogger.LogManager.getLogger('com.ibm.metaindex.search').setLevel(log4jLogger.Level.DEBUG)"
   ]
  },
  {
   "cell_type": "markdown",
   "metadata": {},
   "source": [
    "### Configure Stocator\n",
    "For more info on how to config credentials see [here](https://github.com/CODAIT/stocator)\n",
    "\n",
    "See [here](https://cloud.ibm.com/docs/services/cloud-object-storage?topic=cloud-object-storage-endpoints) for the list of endpoints.\n",
    "If you are in Cloud, make sure you choose the private endpoint of your bucket."
   ]
  },
  {
   "cell_type": "code",
   "execution_count": 3,
   "metadata": {},
   "outputs": [],
   "source": [
    "hconf = spark.sparkContext._jsc.hadoopConfiguration()\n",
    "hconf.set(\"fs.cos.service.endpoint\" ,\"https://s3.private.us-south.cloud-object-storage.appdomain.cloud\")\n",
    "hconf.set(\"fs.cos.service.access.key\", \"\")\n",
    "hconf.set(\"fs.cos.service.secret.key\",\"\")"
   ]
  },
  {
   "cell_type": "markdown",
   "metadata": {},
   "source": [
    "<a id=\"cell1\"></a>\n",
    "## Creating a sample dataset"
   ]
  },
  {
   "cell_type": "markdown",
   "metadata": {},
   "source": [
    "Create a sample dataset consisting of 2 rows each row in a different object to demonstrate data skipping.\n",
    "Please replace `dataset_location` with a location to save the sample dataset."
   ]
  },
  {
   "cell_type": "code",
   "execution_count": 4,
   "metadata": {},
   "outputs": [],
   "source": [
    "from pyspark.sql.types import *\n",
    "\n",
    "dataset_location = \"cos://<mybucket>.service/tmp/sampleskipping\" # i.e. dataset_location = cos://guytestssouth.service/tmp/sampleskipping \n",
    "\n",
    "dfSchema = StructType([StructField(\"dt\", StringType(), True), StructField(\"temp\", DoubleType(), True),\\\n",
    "                      StructField(\"city\", StringType(), True), StructField(\"vid\", StringType(), True)]) \n",
    "\n",
    "data = [(\"2017-07-07\", 20.0, \"Tel-Aviv\", \"a\"), (\"2017-07-08\", 30.0, \"Jerusalem\", \"b\")]\n",
    "\n",
    "df = spark.createDataFrame(data, schema=dfSchema) \n",
    "\n",
    "# use partitionBy to make sure we have two objects\n",
    "df.write.partitionBy(\"dt\").mode(\"overwrite\").parquet(dataset_location)"
   ]
  },
  {
   "cell_type": "markdown",
   "metadata": {},
   "source": [
    "<a id=\"cell2\"></a>\n",
    "## Setup the DataSkipping library\n",
    "In this example, we will set the JVM wide parameter to a base path to store all of the indexes. \n",
    "\n",
    "Metadata can be stored on the same storage system as the data however, not under the same path. For more configuration options, see [Data skipping configuration options](https://cloud.ibm.com/docs/services/AnalyticsEngine?topic=AnalyticsEngine-data-skipping-config-options&locale=en).\n",
    "Please replace `md_base_location` with a location to save the sample dataset"
   ]
  },
  {
   "cell_type": "code",
   "execution_count": 5,
   "metadata": {},
   "outputs": [],
   "source": [
    "md_base_location = \"cos://<mybucket>.service/tmp/sampleskippingmetadata\" # e.g. md_base_location = cos://guytestssouth.service/tmp/sampleskipping \n",
    "MetaIndexManager.setDefaultMetaDataStore(spark, 'com.ibm.metaindex.metadata.metadatastore.parquet.Parquet')\n",
    "md_backend_config = dict([('spark.ibm.metaindex.parquet.mdlocation', md_base_location),\n",
    "(\"spark.ibm.metaindex.parquet.mdlocation.type\", \"EXPLICIT_BASE_PATH_LOCATION\")])\n",
    "MetaIndexManager.setConf(spark, md_backend_config)"
   ]
  },
  {
   "cell_type": "markdown",
   "metadata": {},
   "source": [
    "<a id=\"cell2.1\"></a>\n",
    "### Indexing a dataset\n",
    "\n",
    "Skip this step if the data set is already indexed.\n",
    "\n",
    "When creating a data skipping index on a data set, first decide which columns to index, then choose an index type for each column.\n",
    "These choices are workload and data dependent. Typically, choose columns to which predicates are applied in many queries.\n",
    "Currently the following index types are supported:\n",
    "1. Min/max – stores the minimum and maximum values for a column. Applies to all types except complex types.\n",
    "2. Value list – stores the list of values appearing in a column. Applies to all types except complex types.\n",
    "3. Bloom Filter – stores bloom filter with false positive probability of 1%. Applies to ByteType, StringType, LongType, IntegerType, and ShortType.\n",
    "\n",
    "\n",
    "- Choose value list if the number of distinct values in an object is typically much smaller than the total number of values in that object\n",
    "- Bloom filters are recommended for columns with high cardinality.\n",
    "- (otherwise the index can get as big as that column in the data set)."
   ]
  },
  {
   "cell_type": "code",
   "execution_count": 6,
   "metadata": {},
   "outputs": [
    {
     "name": "stdout",
     "output_type": "stream",
     "text": [
      "finished indexing\n"
     ]
    }
   ],
   "source": [
    "md_backend = 'com.ibm.metaindex.metadata.metadatastore.parquet.ParquetMetadataBackend'\n",
    "reader = spark.read.format(\"parquet\")\n",
    "im = MetaIndexManager(spark, dataset_location, md_backend)\n",
    "\n",
    "# remove existing index first\n",
    "if im.isIndexed():\n",
    "\tim.removeIndex()\n",
    "    \n",
    "# indexing\n",
    "im.indexBuilder()\\\n",
    "  .addMinMaxIndex(\"temp\")\\\n",
    "  .addValueListIndex(\"city\")\\\n",
    "  .addBloomFilterIndex(\"vid\")\\\n",
    "  .build(reader)\n",
    "\n",
    "print(\"finished indexing\")"
   ]
  },
  {
   "cell_type": "markdown",
   "metadata": {},
   "source": [
    "Note that each of the index types has a corresponding method in the indexBuilder class of the form:\n",
    "\n",
    "`add[IndexType]Index(<index_params>)`\n",
    "\n",
    "For example:\n",
    "\n",
    "`addMinMaxIndex(col: String)`\n",
    "\n",
    "`addValueListIndex(col: String)`\n",
    "\n",
    "`addBloomFilterIndex(col: String)`"
   ]
  },
  {
   "cell_type": "markdown",
   "metadata": {},
   "source": [
    "**(optional)** to refresh an indexed dataset use"
   ]
  },
  {
   "cell_type": "code",
   "execution_count": 7,
   "metadata": {},
   "outputs": [
    {
     "name": "stdout",
     "output_type": "stream",
     "text": [
      "+-------+-----------------+-------------------+\n",
      "|status |new_entries_added|old_entries_removed|\n",
      "+-------+-----------------+-------------------+\n",
      "|SUCCESS|0                |0                  |\n",
      "+-------+-----------------+-------------------+\n",
      "\n"
     ]
    }
   ],
   "source": [
    "im.refreshIndex(reader).show(10, False)"
   ]
  },
  {
   "cell_type": "markdown",
   "metadata": {},
   "source": [
    "view index status"
   ]
  },
  {
   "cell_type": "code",
   "execution_count": 8,
   "metadata": {},
   "outputs": [
    {
     "name": "stdout",
     "output_type": "stream",
     "text": [
      "+-------------------------+--------------------------------------------------------------------------------------------------------------------------------------------------+\n",
      "|Data Skipping Index Stats|cloud-object-storage-my-cos-standard-9f6/tmp/sampleskipping                                                                                       |\n",
      "+-------------------------+--------------------------------------------------------------------------------------------------------------------------------------------------+\n",
      "|Status                   |Up to date                                                                                                                                        |\n",
      "|Total objects indexed    |2                                                                                                                                                 |\n",
      "|# Metadata properties    |                                                                                                                                                  |\n",
      "|Metadata location        |cos://cloud-object-storage-my-cos-standard-9f6.service/tmp/sampleskippingmetadata/f27f950c965e8c9f6544d358f57a58daaef569172e0f0c9e8457c307589b3585|\n",
      "|# Index information      |                                                                                                                                                  |\n",
      "|# Index type             |Columns                                                                                                                                           |\n",
      "|minmax                   |temp                                                                                                                                              |\n",
      "|bloomfilter              |vid                                                                                                                                               |\n",
      "|valuelist                |city                                                                                                                                              |\n",
      "+-------------------------+--------------------------------------------------------------------------------------------------------------------------------------------------+\n",
      "\n"
     ]
    }
   ],
   "source": [
    "im.indexStats(reader).show(10, False)"
   ]
  },
  {
   "cell_type": "markdown",
   "metadata": {},
   "source": [
    "<a id=\"cell3\"></a>\n",
    "## Using the data skipping indexes "
   ]
  },
  {
   "cell_type": "markdown",
   "metadata": {},
   "source": [
    "### Injecting the data skipping rule and enabling data skipping\n",
    "the rule injection should be done only once per Spark session."
   ]
  },
  {
   "cell_type": "code",
   "execution_count": 9,
   "metadata": {},
   "outputs": [],
   "source": [
    "# inject the data skipping rule\n",
    "MetaIndexManager.injectDataSkippingRule(spark)\n",
    "\n",
    "# enable data skipping\n",
    "MetaIndexManager.enableFiltering(spark)\n",
    "\n",
    "# you can disable the data skipping any time by running: \n",
    "# MetaIndexManager.disableFiltering(spark)`"
   ]
  },
  {
   "cell_type": "markdown",
   "metadata": {},
   "source": [
    "<a id=\"cell3.2\"></a>\n",
    "### Running queries"
   ]
  },
  {
   "cell_type": "markdown",
   "metadata": {},
   "source": [
    "#### Load the dataframe"
   ]
  },
  {
   "cell_type": "code",
   "execution_count": 10,
   "metadata": {},
   "outputs": [],
   "source": [
    "df = reader.load(dataset_location)\n",
    "df.createOrReplaceTempView(\"metergen\")"
   ]
  },
  {
   "cell_type": "markdown",
   "metadata": {},
   "source": [
    "Example query which uses the min/max index:"
   ]
  },
  {
   "cell_type": "code",
   "execution_count": 11,
   "metadata": {},
   "outputs": [
    {
     "name": "stdout",
     "output_type": "stream",
     "text": [
      "+--------+\n",
      "|count(1)|\n",
      "+--------+\n",
      "|       1|\n",
      "+--------+\n",
      "\n"
     ]
    }
   ],
   "source": [
    "spark.sql(\"select count(*) from metergen where temp < 30\").show()"
   ]
  },
  {
   "cell_type": "markdown",
   "metadata": {},
   "source": [
    "View the data skipping statistics as follows."
   ]
  },
  {
   "cell_type": "code",
   "execution_count": 12,
   "metadata": {},
   "outputs": [
    {
     "name": "stdout",
     "output_type": "stream",
     "text": [
      "+-------+-----------+-------------+------------+-----------+----------+\n",
      "|status |isSkippable|skipped_Bytes|skipped_Objs|total_Bytes|total_Objs|\n",
      "+-------+-----------+-------------+------------+-----------+----------+\n",
      "|SUCCESS|true       |869          |1           |1729       |2         |\n",
      "+-------+-----------+-------------+------------+-----------+----------+\n",
      "\n"
     ]
    }
   ],
   "source": [
    "MetaIndexManager.getLatestQueryAggregatedStats(spark).show(10, False)"
   ]
  },
  {
   "cell_type": "markdown",
   "metadata": {},
   "source": [
    "**Optional:** clear the stats for the next query (otherwise, stats will acummulate)\n"
   ]
  },
  {
   "cell_type": "code",
   "execution_count": 13,
   "metadata": {},
   "outputs": [],
   "source": [
    "MetaIndexManager.clearStats(spark)"
   ]
  },
  {
   "cell_type": "markdown",
   "metadata": {},
   "source": [
    "Example query which uses value list index:"
   ]
  },
  {
   "cell_type": "code",
   "execution_count": 14,
   "metadata": {},
   "outputs": [
    {
     "name": "stdout",
     "output_type": "stream",
     "text": [
      "+--------+\n",
      "|count(1)|\n",
      "+--------+\n",
      "|       1|\n",
      "+--------+\n",
      "\n"
     ]
    }
   ],
   "source": [
    "spark.sql(\"select count(*) from metergen where city IN ('Jerusalem', 'Ramat-Gan')\").show()"
   ]
  },
  {
   "cell_type": "markdown",
   "metadata": {},
   "source": [
    "View the data skipping statistics:"
   ]
  },
  {
   "cell_type": "code",
   "execution_count": 15,
   "metadata": {},
   "outputs": [
    {
     "name": "stdout",
     "output_type": "stream",
     "text": [
      "+-------+-----------+-------------+------------+-----------+----------+\n",
      "| status|isSkippable|skipped_Bytes|skipped_Objs|total_Bytes|total_Objs|\n",
      "+-------+-----------+-------------+------------+-----------+----------+\n",
      "|SUCCESS|       true|          860|           1|       1729|         2|\n",
      "+-------+-----------+-------------+------------+-----------+----------+\n",
      "\n"
     ]
    }
   ],
   "source": [
    "MetaIndexManager.getLatestQueryAggregatedStats(spark).show()"
   ]
  },
  {
   "cell_type": "markdown",
   "metadata": {},
   "source": [
    "**Optional:** clear the stats for the next query (otherwise, stats will acummulate)"
   ]
  },
  {
   "cell_type": "code",
   "execution_count": 16,
   "metadata": {},
   "outputs": [],
   "source": [
    "MetaIndexManager.clearStats(spark)"
   ]
  },
  {
   "cell_type": "markdown",
   "metadata": {},
   "source": [
    "Example query which uses bloom filter index."
   ]
  },
  {
   "cell_type": "code",
   "execution_count": 17,
   "metadata": {},
   "outputs": [
    {
     "name": "stdout",
     "output_type": "stream",
     "text": [
      "+--------+\n",
      "|count(1)|\n",
      "+--------+\n",
      "|       0|\n",
      "+--------+\n",
      "\n"
     ]
    }
   ],
   "source": [
    "spark.sql(\"select count(*) from metergen where vid = 'abc'\").show()"
   ]
  },
  {
   "cell_type": "markdown",
   "metadata": {},
   "source": [
    "### View the data skipping statistics"
   ]
  },
  {
   "cell_type": "code",
   "execution_count": 18,
   "metadata": {},
   "outputs": [
    {
     "name": "stdout",
     "output_type": "stream",
     "text": [
      "+-------+-----------+-------------+------------+-----------+----------+\n",
      "| status|isSkippable|skipped_Bytes|skipped_Objs|total_Bytes|total_Objs|\n",
      "+-------+-----------+-------------+------------+-----------+----------+\n",
      "|SUCCESS|       true|         1729|           2|       1729|         2|\n",
      "+-------+-----------+-------------+------------+-----------+----------+\n",
      "\n"
     ]
    }
   ],
   "source": [
    "MetaIndexManager.getLatestQueryAggregatedStats(spark).show()"
   ]
  },
  {
   "cell_type": "markdown",
   "metadata": {},
   "source": [
    "**Optional:** clear the stats for the next query (otherwise, stats will acummulate)"
   ]
  },
  {
   "cell_type": "code",
   "execution_count": 19,
   "metadata": {},
   "outputs": [],
   "source": [
    "MetaIndexManager.clearStats(spark)"
   ]
  },
  {
   "cell_type": "markdown",
   "metadata": {},
   "source": [
    "<a id=\"authors\"></a> \n",
    "### Authors"
   ]
  },
  {
   "cell_type": "markdown",
   "metadata": {},
   "source": [
    "**Guy Khazma**, Cloud Data Researcher of IBM.\n",
    "\n",
    "Copyright © 2020 IBM. This notebook and its source code are released under the terms of the MIT License."
   ]
  },
  {
   "cell_type": "markdown",
   "metadata": {},
   "source": [
    "<div style=\"background:#F5F7FA; height:110px; padding: 2em; font-size:14px;\">\n",
    "<span style=\"font-size:18px;color:#152935;\">Love this notebook? </span>\n",
    "<span style=\"font-size:15px;color:#152935;float:right;margin-right:40px;\">Don't have an account yet?</span><br>\n",
    "<span style=\"color:#5A6872;\">Share it with your colleagues and help them discover the power of Watson Studio!</span>\n",
    "<span style=\"border: 1px solid #3d70b2;padding:8px;float:right;margin-right:40px; color:#3d70b2;\"><a href=\"https://ibm.co/wsnotebooks\" target=\"_blank\" style=\"color: #3d70b2;text-decoration: none;\">Sign Up</a></span><br>\n",
    "</div>"
   ]
  }
 ],
 "metadata": {
  "kernelspec": {
   "display_name": "Python 3.6 with Spark",
   "language": "python3",
   "name": "python36"
  },
  "language_info": {
   "codemirror_mode": {
    "name": "ipython",
    "version": 3
   },
   "file_extension": ".py",
   "mimetype": "text/x-python",
   "name": "python",
   "nbconvert_exporter": "python",
   "pygments_lexer": "ipython3",
   "version": "3.6.8"
  }
 },
 "nbformat": 4,
 "nbformat_minor": 1
}
