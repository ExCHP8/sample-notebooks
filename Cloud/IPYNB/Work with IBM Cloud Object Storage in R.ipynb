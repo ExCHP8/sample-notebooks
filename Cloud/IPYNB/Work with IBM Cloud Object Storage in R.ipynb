{
 "cells": [
  {
   "cell_type": "markdown",
   "metadata": {},
   "source": [
    "<div style=\"background:#F5F7FA; height:100px; padding: 2em; font-size:14px;\">\n",
    "<span style=\"font-size:18px;color:#152935;\">Want to do more?</span><span style=\"border: 1px solid #3d70b2;padding: 15px;float:right;margin-right:40px; color:#3d70b2; \"><a href=\"https://ibm.co/wsnotebooks\" target=\"_blank\" style=\"color: #3d70b2;text-decoration: none;\">Sign Up</a></span><br>\n",
    "<span style=\"color:#5A6872;\"> Try out this notebook with your free trial of IBM Watson Studio.</span>\n",
    "</div>"
   ]
  },
  {
   "cell_type": "markdown",
   "metadata": {},
   "source": [
    "<div><img src=\"https://www.ibm.com/blogs/bluemix/wp-content/uploads/2016/11/new-object-storage-card.png\", width=370, height=370, align = 'right'> \n",
    "\n",
    "<img src=\"https://upload.wikimedia.org/wikipedia/commons/thumb/5/51/IBM_logo.svg/640px-IBM_logo.svg.png\", width = 90, height = 90, align = 'right', style=\"margin:0px 25px\"></div>\n",
    "\n",
    "# Work with IBM Cloud Object Storage in R\n",
    "\n",
    "This notebook walks you through working with objects and buckets in IBM Cloud Object Storage (COS) using the R programming language.\n",
    "\n",
    "This notebook runs on R with Spark 2.1.\n",
    "________\n",
    "\n",
    "## Table of contents\n",
    "1. [IBM Cloud Object Storage and S3](#cos)\n",
    "2. [Getting requests right](#requests)\n",
    "3. [Bucket operations](#bucket)\n",
    "4. [Conclusion](#conclusion)\n",
    "_______"
   ]
  },
  {
   "cell_type": "markdown",
   "metadata": {},
   "source": [
    "## 1. IBM Cloud Object Storage (COS) and S3<a id=\"cos\"></a>\n",
    "\n",
    "##### What is COS exactly?\n",
    "If you're using IBM Watson or Watson Studio, chances are you are using <a href=\"https://console.bluemix.net/docs/services/cloud-object-storage/about-cos.html#about-ibm-cloud-object-storage\" target=\"_blank\" rel=\"noopener noreferrer\">IBM Cloud Object Storage (COS)</a> as well. COS is a flexible, durable, secure and affordable storage solution that supports a subset of the popular <a href=\"https://en.wikipedia.org/wiki/Amazon_S3\" target=\"_blank\" rel=\"noopener noreferrer\">S3 API</a>.  \n",
    "______"
   ]
  },
  {
   "cell_type": "markdown",
   "metadata": {},
   "source": [
    "## 2. Getting requests right<a id=\"requests\"></a>\n",
    "\n",
    "1. [Authenticate with HMAC keys](#hmac)\n",
    "2. [Create new service credentials with HMAC keys](#hmaccredentials)\n",
    "3. [Load libraries and define credentials](#loadlibraries)\n",
    "4. [Formulate a canonical request](#canonical)\n",
    "5. [Create a string to sign](#createstring)\n",
    "6. [Create the signature](#createsignature)\n",
    "\n",
    "Making requests using the AWS Signature V4 template is no trivial task. We're going to use the `aws.s3` and `aws.signature` libraries from the <a href=\"https://cloudyr.github.io/\" target=\"_blank\" rel=\"noopener noreferrer\">cloudyr</a> project to do the heavy lifting for us. The creators of these packages specifically designed them to allow access to S3-based services.\n",
    "\n",
    "Making requests is a 4-step process, the gory details of which can be found <a href=\"https://docs.aws.amazon.com/general/latest/gr/signature-version-4.html\" target=\"_blank\" rel=\"noopener noreferrer\">here</a>. Feel free to dive in as deep as you like. When you are ready to get started, come back to this notebook."
   ]
  },
  {
   "cell_type": "markdown",
   "metadata": {},
   "source": [
    "### 2.1 Authenticate with HMAC keys<a id=\"hmac\"></a>\n",
    "Before making any requests via REST we need to procure a set of secret and access keys for authentication. From the COS documentation:\n",
    "\n",
    "> In addition to <a href=\"https://console.bluemix.net/docs/services/cloud-object-storage/iam/overview.html#getting-started-with-iam\" target=\"_blank\" rel=\"noopener noreferrer\">IAM token-based authentication</a>, it is also possible to authenticate using a signature created from a pair of access and secret keys. This is functionally identical to the AWS Signature Version 4, and the <a href=\"https://en.wikipedia.org/wiki/Hash-based_message_authentication_code\" target=\"_blank\" rel=\"noopener noreferrer\">HMAC Keys</a> provided by IBM COS should work with the majority of S3-compatible libraries and tools.\n",
    "\n",
    "These keys aren't included in your credentials by default, so you'll need to configure a new set that does possess them."
   ]
  },
  {
   "cell_type": "markdown",
   "metadata": {},
   "source": [
    "### 2.2 Create new service credentials with HMAC keys<a id=\"hmaccredentials\"></a>\n",
    "\n",
    "Use the following steps to create a service credential that includes HMAC keys <a href=\"https://console.bluemix.net/docs/services/cloud-object-storage/iam/service-credentials.html#service-credentials\" target=\"_blank\" rel=\"noopener noreferrer\">(source)</a>:\n",
    "\n",
    "1. Log in to IBM Cloud and open up your dashboard.\n",
    "2. Under Resource Group make sure to select **All Resources**, then navigate to your Cloud Object Storage service instance.\n",
    "3. In the side navigation, click **Service Credentials**.\n",
    "* Click _'New credential +'_ and provide the necessary information. \n",
    "4. To generate HMAC credentials, specify the following in the **Add Inline Configuration Parameters (Optional)** field: `{\"HMAC\":true}`\n",
    "5. Click **Add** to generate service credential.\n",
    "\n",
    "Before you click **Add** it should look something like this:\n",
    "\n",
    "<div><img src=\"https://raw.githubusercontent.com/kurlare/airbnbFinder/master/addHmacCos.png\", width = 450, height = 450></div>\n",
    "\n",
    "The HMAC keys are located in the `cos_hmac_keys` field in your credentials and are called:\n",
    "- `access_key_id` and \n",
    "- `secret_access_key`, respectively.  \n",
    "\n",
    "____________"
   ]
  },
  {
   "cell_type": "markdown",
   "metadata": {},
   "source": [
    "### 2.3 Load libraries and define credentials<a id=\"loadlibraries\"></a>\n",
    "\n",
    "Start off by loading these libraries and defining your credentials in a hidden cell. You can do this using `#@hidden_cell` at the beginning of a line in a code cell. \n",
    "\n",
    "**Note:**  It is best practice to not leave your HMAC credentials in notebooks or scripts. You can source them from a `credentials.R` file stored in a private repo on GitHub or on the file system in your Watson Studio account. \n",
    "You could also set them as OS level environment variables. If you want to add them directly to the notebook at least add the '#@hidden_cell' tag to the top of your code cell with credentials in it. This will hide that cell when sharing the notebook from Watson Studio. It should look like this:\n",
    "\n",
    "<div><img src=\"https://raw.githubusercontent.com/kurlare/airbnbFinder/master/hidden_cell.png\", width = 400, height = 400></div>"
   ]
  },
  {
   "cell_type": "code",
   "execution_count": 1,
   "metadata": {},
   "outputs": [],
   "source": [
    "\n",
    "## Install required libraries\n",
    "suppressWarnings(suppressMessages(install.packages(\"aws.s3\", repos = c(\"cloudyr\" = \"http://cloudyr.github.io/drat\"))))\n",
    "suppressWarnings(suppressMessages(install.packages('readr')))\n",
    "library(aws.s3)\n",
    "library(aws.signature)\n",
    "library(readr)\n",
    "\n",
    "## Put your credentials here (with caution, of course), and add the hidden cell tag to the first line of this code cell.\n",
    "#access_key_id <- \"<yourAccessKeyIdHere>\"\n",
    "#secret_access_key <-\"<yourSecretAccessKeyHere>\""
   ]
  },
  {
   "cell_type": "markdown",
   "metadata": {},
   "source": [
    "### 2.4 Formulate a canonical request<a id=\"canonical\"></a>\n",
    "AWS V4 signatures require a canonical or 'standardized' request that gets incorporated into the signature."
   ]
  },
  {
   "cell_type": "code",
   "execution_count": 2,
   "metadata": {},
   "outputs": [],
   "source": [
    "## Define the headers necessary to create a standardized (canonical) request\n",
    "hdrs <- list(`Content-Type` = \"application/x-www-form-urlencoded; charset=utf-8\", \n",
    "             Host = \"s3-api.us-geo.objectstorage.softlayer.net\",\n",
    "             `x-amz-date` = format(Sys.time(), \"%Y%m%dT%H%M%SZ\", tz = \"UTC\"))\n",
    "\n",
    "## Formulate the canonical request \n",
    "cr <- canonical_request(verb = \"GET\",\n",
    "                        canonical_uri = \"\",\n",
    "                        query_args = list(),\n",
    "                        canonical_headers = hdrs,\n",
    "                        request_body = \"\")"
   ]
  },
  {
   "cell_type": "markdown",
   "metadata": {},
   "source": [
    "### 2.5 Create a string to sign<a id=\"createstring\"></a>\n",
    "Take the hash of the canonical request and combine it with metadata about your request.  "
   ]
  },
  {
   "cell_type": "code",
   "execution_count": 3,
   "metadata": {},
   "outputs": [],
   "source": [
    "## Formulate a unique string to sign using the hash of your canonical request\n",
    "sts <- string_to_sign(algorithm = \"AWS4-HMAC-SHA256\", \n",
    "                      datetime = format(Sys.time(), \"%Y%m%dT%H%M%SZ\", tz = \"UTC\"),\n",
    "                      region = 'us-standard',\n",
    "                      service = 's3',\n",
    "                      request_hash = cr$hash)"
   ]
  },
  {
   "cell_type": "markdown",
   "metadata": {},
   "source": [
    "### 2.6 Create the signature<a id=\"createsignature\"></a>\n",
    "Create your signature with the secret access key and the string to sign."
   ]
  },
  {
   "cell_type": "code",
   "execution_count": 4,
   "metadata": {},
   "outputs": [
    {
     "name": "stderr",
     "output_type": "stream",
     "text": [
      "Checking for credentials in user-supplied values\n",
      "Using user-supplied value for AWS Secret Access Key\n",
      "Using user-supplied value for AWS Region ('us-standard')\n"
     ]
    }
   ],
   "source": [
    "signature <- signature_v4(secret = secret_access_key,\n",
    "                          region = \"us-standard\",\n",
    "                          service = \"s3\",\n",
    "                          string_to_sign = sts,\n",
    "                          verbose = T)"
   ]
  },
  {
   "cell_type": "markdown",
   "metadata": {
    "collapsed": true
   },
   "source": [
    "____________\n",
    "\n",
    "## 3. Bucket operations<a id=\"bucket\"></a>\n",
    "\n",
    "1. [List buckets](#listbuckets)\n",
    "2. [Create a bucket](#createbucket)\n",
    "3. [Putting objects](#putobjects)\n",
    "4. [Getting objects](#getobjects)\n",
    "5. [Delete an Object](#deleteobject)\n",
    "6. [Delete buckets](#deletebucket)\n",
    "\n",
    "Now that authentication is out of the way we can freely access and work with our COS. You start by listing the buckets in your COS instance. Then you create a new bucket, put an object in it, get that object from it and delete the bucket. To do all of this we'll be using the `s3HTTP()` function from the `aws.s3` package.  \n",
    "\n",
    "Check out the <a href=\"https://github.com/cloudyr/aws.s3/blob/master/R/s3HTTP.R\" target=\"_blank\" rel=\"noopener noreferrer\">source code on GitHub</a> to get a better idea of what's going on behind the scenes. \n",
    "\n",
    "Another important resource to keep at your fingertips is the <a href=\"https://ibm-public-cos.github.io/crs-docs/api-reference\" target=\"_blank\" rel=\"noopener noreferrer\">API Reference</a> for IBM COS.\n",
    "\n",
    "With that being said, let's get started."
   ]
  },
  {
   "cell_type": "markdown",
   "metadata": {
    "collapsed": true
   },
   "source": [
    "### 3.1 List buckets<a id=\"listbuckets\"></a>\n",
    "Getting a list of buckets is pretty easy - we just specify that the base URL is Softlayer instead of AWS and use the `GET` verb."
   ]
  },
  {
   "cell_type": "code",
   "execution_count": 5,
   "metadata": {},
   "outputs": [
    {
     "name": "stderr",
     "output_type": "stream",
     "text": [
      "Checking for credentials in user-supplied values\n",
      "Using user-supplied value for AWS Access Key ID\n",
      "Using user-supplied value for AWS Secret Access Key\n",
      "Using default value for AWS Region ('us-east-1')\n",
      "S3 Request URL: https://s3-api.us-geo.objectstorage.softlayer.net/\n",
      "Executing request with AWS credentials\n",
      "Parsing AWS API response\n",
      "Success: (200) OK\n"
     ]
    },
    {
     "data": {
      "text/html": [
       "<table>\n",
       "<thead><tr><th></th><th scope=col>Name</th><th scope=col>CreationDate</th></tr></thead>\n",
       "<tbody>\n",
       "\t<tr><th scope=row>Bucket</th><td>anewbucketincos327021909a809fasdf                              </td><td>2018-01-07T01:52:23.171Z                                       </td></tr>\n",
       "\t<tr><th scope=row>Bucket1</th><td>environments7b356c53a936495c832a4fefc034d644                   </td><td>2017-12-08T16:15:16.902Z                                       </td></tr>\n",
       "\t<tr><th scope=row>Bucket2</th><td>forecastingknowledgebase-sy0xtlfrz-catalog-77673589            </td><td>2017-11-02T19:59:42.510Z                                       </td></tr>\n",
       "\t<tr><th scope=row>Bucket3</th><td>forecastingretailsalesandrevenub1e0d23e2fe34b9fb6142ef19530baec</td><td>2017-11-02T19:43:37.545Z                                       </td></tr>\n",
       "\t<tr><th scope=row>Bucket4</th><td>heylookanewbucketabc123doremeezas1231                          </td><td>2018-01-19T13:12:48.985Z                                       </td></tr>\n",
       "\t<tr><th scope=row>Bucket5</th><td>industrial-wdp                                                 </td><td>2017-10-23T20:03:48.927Z                                       </td></tr>\n",
       "</tbody>\n",
       "</table>\n"
      ],
      "text/latex": [
       "\\begin{tabular}{r|ll}\n",
       "  & Name & CreationDate\\\\\n",
       "\\hline\n",
       "\tBucket & anewbucketincos327021909a809fasdf                               & 2018-01-07T01:52:23.171Z                                       \\\\\n",
       "\tBucket1 & environments7b356c53a936495c832a4fefc034d644                    & 2017-12-08T16:15:16.902Z                                       \\\\\n",
       "\tBucket2 & forecastingknowledgebase-sy0xtlfrz-catalog-77673589             & 2017-11-02T19:59:42.510Z                                       \\\\\n",
       "\tBucket3 & forecastingretailsalesandrevenub1e0d23e2fe34b9fb6142ef19530baec & 2017-11-02T19:43:37.545Z                                       \\\\\n",
       "\tBucket4 & heylookanewbucketabc123doremeezas1231                           & 2018-01-19T13:12:48.985Z                                       \\\\\n",
       "\tBucket5 & industrial-wdp                                                  & 2017-10-23T20:03:48.927Z                                       \\\\\n",
       "\\end{tabular}\n"
      ],
      "text/plain": [
       "        Name                                                           \n",
       "Bucket  anewbucketincos327021909a809fasdf                              \n",
       "Bucket1 environments7b356c53a936495c832a4fefc034d644                   \n",
       "Bucket2 forecastingknowledgebase-sy0xtlfrz-catalog-77673589            \n",
       "Bucket3 forecastingretailsalesandrevenub1e0d23e2fe34b9fb6142ef19530baec\n",
       "Bucket4 heylookanewbucketabc123doremeezas1231                          \n",
       "Bucket5 industrial-wdp                                                 \n",
       "        CreationDate            \n",
       "Bucket  2018-01-07T01:52:23.171Z\n",
       "Bucket1 2017-12-08T16:15:16.902Z\n",
       "Bucket2 2017-11-02T19:59:42.510Z\n",
       "Bucket3 2017-11-02T19:43:37.545Z\n",
       "Bucket4 2018-01-19T13:12:48.985Z\n",
       "Bucket5 2017-10-23T20:03:48.927Z"
      ]
     },
     "metadata": {},
     "output_type": "display_data"
    }
   ],
   "source": [
    "## Make the request, pointing at the IBM COS url instead of Amazon.\n",
    "## Simple Bucket list\n",
    "listOfBuckets <- s3HTTP(verb = \"GET\",\n",
    "                       url_style = \"path\",\n",
    "                       base_url = \"s3-api.us-geo.objectstorage.softlayer.net\", \n",
    "                       key = access_key_id, \n",
    "                       secret = secret_access_key,\n",
    "                       verbose = T)\n",
    "\n",
    "## To see the complete list, uncomment the next line and execute the cell again.\n",
    "## listOfBuckets\n",
    "\n",
    "## Show the list of buckets as a dataframe\n",
    "cosBucketsDF <- do.call(rbind.data.frame, listOfBuckets$Buckets)\n",
    "head(cosBucketsDF)"
   ]
  },
  {
   "cell_type": "markdown",
   "metadata": {},
   "source": [
    "### 3.2 Create a new bucket <a id=\"createbucket\"></a>\n",
    "This is also pretty straightforward.  Specify the new bucket name in the `bucket` parameter, making sure to override any region defaults by setting `check_region` to `FALSE` and `region` to _'us-standard'_. "
   ]
  },
  {
   "cell_type": "code",
   "execution_count": 7,
   "metadata": {},
   "outputs": [
    {
     "name": "stderr",
     "output_type": "stream",
     "text": [
      "Checking for credentials in user-supplied values\n",
      "Using user-supplied value for AWS Access Key ID\n",
      "Using user-supplied value for AWS Secret Access Key\n",
      "Using user-supplied value for AWS Region ('us-standard')\n",
      "S3 Request URL: https://s3-api.us-geo.objectstorage.softlayer.net/heylookanewbucketabc123doremeezas123m/\n",
      "Executing request with AWS credentials\n",
      "Parsing AWS API response\n",
      "Success: (200) OK\n"
     ]
    }
   ],
   "source": [
    "## Specify the bucket name in the 'bucket' parameter. \n",
    "createBucket <- s3HTTP(verb = \"PUT\",  ## Changed to PUT\n",
    "                       bucket = \"heylookanewbucketabc123doremeezas123m\",  ## Name of bucket we want to create\n",
    "                       path = \"\", \n",
    "                       url_style = \"path\",\n",
    "                       base_url = \"s3-api.us-geo.objectstorage.softlayer.net\", \n",
    "                       key = access_key_id, \n",
    "                       secret = secret_access_key,\n",
    "                       verbose = T, \n",
    "                       check_region = F,  ## Don't want to get mixed up with Amazon \n",
    "                       region = 'us-standard')  ## ^^"
   ]
  },
  {
   "cell_type": "markdown",
   "metadata": {},
   "source": [
    "A response status of 200 means we successfully created the bucket!  Let's check our list of buckets to make sure it's there:"
   ]
  },
  {
   "cell_type": "code",
   "execution_count": 8,
   "metadata": {
    "scrolled": true
   },
   "outputs": [
    {
     "name": "stderr",
     "output_type": "stream",
     "text": [
      "Checking for credentials in user-supplied values\n",
      "Using user-supplied value for AWS Access Key ID\n",
      "Using user-supplied value for AWS Secret Access Key\n",
      "Using default value for AWS Region ('us-east-1')\n",
      "S3 Request URL: https://s3-api.us-geo.objectstorage.softlayer.net/\n",
      "Executing request with AWS credentials\n",
      "Parsing AWS API response\n",
      "Success: (200) OK\n"
     ]
    },
    {
     "data": {
      "text/html": [
       "<table>\n",
       "<thead><tr><th></th><th scope=col>Name</th><th scope=col>CreationDate</th></tr></thead>\n",
       "<tbody>\n",
       "\t<tr><th scope=row>Bucket4</th><td>heylookanewbucketabc123doremeezas1231</td><td>2018-01-19T13:12:48.985Z             </td></tr>\n",
       "\t<tr><th scope=row>Bucket5</th><td>heylookanewbucketabc123doremeezas123m</td><td>2018-01-22T12:38:30.731Z             </td></tr>\n",
       "</tbody>\n",
       "</table>\n"
      ],
      "text/latex": [
       "\\begin{tabular}{r|ll}\n",
       "  & Name & CreationDate\\\\\n",
       "\\hline\n",
       "\tBucket4 & heylookanewbucketabc123doremeezas1231 & 2018-01-19T13:12:48.985Z             \\\\\n",
       "\tBucket5 & heylookanewbucketabc123doremeezas123m & 2018-01-22T12:38:30.731Z             \\\\\n",
       "\\end{tabular}\n"
      ],
      "text/plain": [
       "        Name                                  CreationDate            \n",
       "Bucket4 heylookanewbucketabc123doremeezas1231 2018-01-19T13:12:48.985Z\n",
       "Bucket5 heylookanewbucketabc123doremeezas123m 2018-01-22T12:38:30.731Z"
      ]
     },
     "metadata": {},
     "output_type": "display_data"
    }
   ],
   "source": [
    "## Same as before\n",
    "listOfBuckets <- s3HTTP(verb = \"GET\",\n",
    "                       bucket = \"\", \n",
    "                       path = \"\", \n",
    "                       url_style = \"path\",\n",
    "                       base_url = \"s3-api.us-geo.objectstorage.softlayer.net\", \n",
    "                       key = access_key_id, \n",
    "                       secret = secret_access_key,\n",
    "                       verbose = T)\n",
    "\n",
    "## Convert to dataframe and subset by the index of the new bucket\n",
    "cosBucketsDF <- do.call(rbind.data.frame, listOfBuckets$Buckets)\n",
    "cosBucketsDF[grep(\"heylookanewbucket\", cosBucketsDF$Name), ]"
   ]
  },
  {
   "cell_type": "markdown",
   "metadata": {},
   "source": [
    "Excellent, there it is!  An empty bucket is just waiting for an object to be put in it.  Let's fulfill its existential purpose. "
   ]
  },
  {
   "cell_type": "markdown",
   "metadata": {},
   "source": [
    "### 3.3 Putting objects<a id=\"putobjects\"></a>\n",
    "First we need an object. You like cars, don't you? Good, `mtcars` it is. To upload the file to COS we'll need use the path in the request body and the size in the headers. From the docs:\n",
    "\n",
    "> _A PUT given a path to an object uploads the request body as an object. A SHA256 hash of the object is a required header._\n",
    "\n",
    "Let's get those pieces first."
   ]
  },
  {
   "cell_type": "code",
   "execution_count": 9,
   "metadata": {},
   "outputs": [
    {
     "data": {
      "text/html": [
       "'Path to mtcars CSV on DSX file system: /gpfs/global_fs01/sym_shared/YPProdSpark/user/s77d-6ed078e6642df3-0c02e4901db6/notebook/work/mtcars.csv'"
      ],
      "text/latex": [
       "'Path to mtcars CSV on DSX file system: /gpfs/global\\_fs01/sym\\_shared/YPProdSpark/user/s77d-6ed078e6642df3-0c02e4901db6/notebook/work/mtcars.csv'"
      ],
      "text/markdown": [
       "'Path to mtcars CSV on DSX file system: /gpfs/global_fs01/sym_shared/YPProdSpark/user/s77d-6ed078e6642df3-0c02e4901db6/notebook/work/mtcars.csv'"
      ],
      "text/plain": [
       "[1] \"Path to mtcars CSV on DSX file system: /gpfs/global_fs01/sym_shared/YPProdSpark/user/s77d-6ed078e6642df3-0c02e4901db6/notebook/work/mtcars.csv\""
      ]
     },
     "metadata": {},
     "output_type": "display_data"
    },
    {
     "data": {
      "text/html": [
       "<span style=white-space:pre-wrap>'Content length of mtcars CSV in bytes:  1783'</span>"
      ],
      "text/latex": [
       "'Content length of mtcars CSV in bytes:  1783'"
      ],
      "text/markdown": [
       "<span style=white-space:pre-wrap>'Content length of mtcars CSV in bytes:  1783'</span>"
      ],
      "text/plain": [
       "[1] \"Content length of mtcars CSV in bytes:  1783\""
      ]
     },
     "metadata": {},
     "output_type": "display_data"
    }
   ],
   "source": [
    "## Write data from base R to CSV file \n",
    "write.csv(datasets::mtcars, file = \"mtcars.csv\")\n",
    "\n",
    "## Path to mtcars.csv\n",
    "mtcarsPath <- paste0(getwd(), \"/mtcars.csv\")\n",
    "\n",
    "## Length of file in bytes\n",
    "contentLength <- file.size(mtcarsPath)\n",
    "\n",
    "paste(\"Path to mtcars CSV on DSX file system:\", mtcarsPath)\n",
    "paste(\"Content length of mtcars CSV in bytes: \", contentLength)"
   ]
  },
  {
   "cell_type": "markdown",
   "metadata": {},
   "source": [
    "To make the PUT request, specify the bucket you want to use, add _server side encryption_ and _content length_ to the `headers` parameter, and the path to the file in `request_body`:"
   ]
  },
  {
   "cell_type": "code",
   "execution_count": 10,
   "metadata": {},
   "outputs": [
    {
     "name": "stderr",
     "output_type": "stream",
     "text": [
      "Checking for credentials in user-supplied values\n",
      "Using user-supplied value for AWS Access Key ID\n",
      "Using user-supplied value for AWS Secret Access Key\n",
      "Using user-supplied value for AWS Region ('us-standard')\n",
      "S3 Request URL: https://s3-api.us-geo.objectstorage.softlayer.net/heylookanewbucketabc123doremeezas123m/mtcars.csv\n",
      "Executing request with AWS credentials\n",
      "Parsing AWS API response\n",
      "Success: (200) OK\n"
     ]
    }
   ],
   "source": [
    "## Put objects in COS\n",
    "putObjectInCOS <- s3HTTP(verb = \"PUT\", \n",
    "                         bucket = \"heylookanewbucketabc123doremeezas123m\", ## Specify the bucket to use\n",
    "                         path = paste0(\"/\", 'mtcars.csv'), ## Give object a name in COS\n",
    "                         headers = list(`x-amz-server-side-encryption` = 'AES256',  ## Server side encryption header\n",
    "                                        `Content-Length` = contentLength),  ## Content Length header\n",
    "                         request_body = mtcarsPath,  ## Point to the file we want to upload\n",
    "                         url_style = \"path\",\n",
    "                         base_url = \"s3-api.us-geo.objectstorage.softlayer.net\", \n",
    "                         key = access_key_id, \n",
    "                         secret = secret_access_key, \n",
    "                         verbose = T, \n",
    "                         check_region = F, \n",
    "                         region = 'us-standard')"
   ]
  },
  {
   "cell_type": "markdown",
   "metadata": {},
   "source": [
    "How about we check the contents of that bucket to verify that the mtcars CSV is in it?  We'll display it as a dataframe since that is easier to see."
   ]
  },
  {
   "cell_type": "code",
   "execution_count": 11,
   "metadata": {},
   "outputs": [
    {
     "name": "stderr",
     "output_type": "stream",
     "text": [
      "Checking for credentials in user-supplied values\n",
      "Using user-supplied value for AWS Access Key ID\n",
      "Using user-supplied value for AWS Secret Access Key\n",
      "Using user-supplied value for AWS Region ('us-standard')\n",
      "S3 Request URL: https://s3-api.us-geo.objectstorage.softlayer.net/heylookanewbucketabc123doremeezas123m/\n",
      "Executing request with AWS credentials\n",
      "Parsing AWS API response\n",
      "Success: (200) OK\n"
     ]
    },
    {
     "data": {
      "text/html": [
       "<table>\n",
       "<thead><tr><th></th><th scope=col>ID</th><th scope=col>DisplayName</th></tr></thead>\n",
       "<tbody>\n",
       "\t<tr><th scope=row>Key</th><td>mtcars.csv                          </td><td>mtcars.csv                          </td></tr>\n",
       "\t<tr><th scope=row>LastModified</th><td>2018-01-22T12:38:52.133Z            </td><td>2018-01-22T12:38:52.133Z            </td></tr>\n",
       "\t<tr><th scope=row>ETag</th><td>\"6463474bfe6973a81dc7cbc4a71e8dd1\"  </td><td>\"6463474bfe6973a81dc7cbc4a71e8dd1\"  </td></tr>\n",
       "\t<tr><th scope=row>Size</th><td>1783                                </td><td>1783                                </td></tr>\n",
       "\t<tr><th scope=row>Owner</th><td>77673589-cd36-433e-94af-7a2609d3f74d</td><td>77673589-cd36-433e-94af-7a2609d3f74d</td></tr>\n",
       "\t<tr><th scope=row>StorageClass</th><td>STANDARD                            </td><td>STANDARD                            </td></tr>\n",
       "</tbody>\n",
       "</table>\n"
      ],
      "text/latex": [
       "\\begin{tabular}{r|ll}\n",
       "  & ID & DisplayName\\\\\n",
       "\\hline\n",
       "\tKey & mtcars.csv                           & mtcars.csv                          \\\\\n",
       "\tLastModified & 2018-01-22T12:38:52.133Z             & 2018-01-22T12:38:52.133Z            \\\\\n",
       "\tETag & \"6463474bfe6973a81dc7cbc4a71e8dd1\"   & \"6463474bfe6973a81dc7cbc4a71e8dd1\"  \\\\\n",
       "\tSize & 1783                                 & 1783                                \\\\\n",
       "\tOwner & 77673589-cd36-433e-94af-7a2609d3f74d & 77673589-cd36-433e-94af-7a2609d3f74d\\\\\n",
       "\tStorageClass & STANDARD                             & STANDARD                            \\\\\n",
       "\\end{tabular}\n"
      ],
      "text/plain": [
       "             ID                                  \n",
       "Key          mtcars.csv                          \n",
       "LastModified 2018-01-22T12:38:52.133Z            \n",
       "ETag         \"6463474bfe6973a81dc7cbc4a71e8dd1\"  \n",
       "Size         1783                                \n",
       "Owner        77673589-cd36-433e-94af-7a2609d3f74d\n",
       "StorageClass STANDARD                            \n",
       "             DisplayName                         \n",
       "Key          mtcars.csv                          \n",
       "LastModified 2018-01-22T12:38:52.133Z            \n",
       "ETag         \"6463474bfe6973a81dc7cbc4a71e8dd1\"  \n",
       "Size         1783                                \n",
       "Owner        77673589-cd36-433e-94af-7a2609d3f74d\n",
       "StorageClass STANDARD                            "
      ]
     },
     "metadata": {},
     "output_type": "display_data"
    }
   ],
   "source": [
    "## List the contents of a specific bucket in COS\n",
    "listOfBucketContents <- s3HTTP(verb = \"GET\", \n",
    "                               bucket = \"heylookanewbucketabc123doremeezas123m\",\n",
    "                               url_style = \"path\",\n",
    "                               base_url = \"s3-api.us-geo.objectstorage.softlayer.net\", \n",
    "                               key = access_key_id, \n",
    "                               secret = secret_access_key, \n",
    "                               verbose = T, \n",
    "                               check_region = F, \n",
    "                               region = 'us-standard')\n",
    "\n",
    "cosBucketContentsDF <- do.call(rbind.data.frame, listOfBucketContents$Contents)\n",
    "cosBucketContentsDF"
   ]
  },
  {
   "cell_type": "markdown",
   "metadata": {},
   "source": [
    "Success!\n",
    "________"
   ]
  },
  {
   "cell_type": "markdown",
   "metadata": {},
   "source": [
    "### 3.4 Getting objects<a id=\"getobjects\"></a>\n",
    "Now grab that mtcars CSV from COS and put it back in a dataframe. Use the `path` parameter to specify the object you want from the bucket."
   ]
  },
  {
   "cell_type": "code",
   "execution_count": 12,
   "metadata": {},
   "outputs": [
    {
     "name": "stderr",
     "output_type": "stream",
     "text": [
      "Checking for credentials in user-supplied values\n",
      "Using user-supplied value for AWS Access Key ID\n",
      "Using user-supplied value for AWS Secret Access Key\n",
      "Using user-supplied value for AWS Region ('us-standard')\n",
      "S3 Request URL: https://s3-api.us-geo.objectstorage.softlayer.net/heylookanewbucketabc123doremeezas123m/mtcars.csv\n",
      "Executing request with AWS credentials\n",
      "Parsing AWS API response\n",
      "Success: (200) OK\n"
     ]
    },
    {
     "data": {
      "text/plain": [
       "Response [https://s3-api.us-geo.objectstorage.softlayer.net/heylookanewbucketabc123doremeezas123m/mtcars.csv]\n",
       "  Date: 2018-01-22 12:39\n",
       "  Status: 200\n",
       "  Content-Type: text/csv\n",
       "  Size: 1.78 kB\n",
       "\"\",\"mpg\",\"cyl\",\"disp\",\"hp\",\"drat\",\"wt\",\"qsec\",\"vs\",\"am\",\"gear\",\"carb\"\n",
       "\"Mazda RX4\",21,6,160,110,3.9,2.62,16.46,0,1,4,4\n",
       "\"Mazda RX4 Wag\",21,6,160,110,3.9,2.875,17.02,0,1,4,4\n",
       "\"Datsun 710\",22.8,4,108,93,3.85,2.32,18.61,1,1,4,1\n",
       "\"Hornet 4 Drive\",21.4,6,258,110,3.08,3.215,19.44,1,0,3,1\n",
       "\"Hornet Sportabout\",18.7,8,360,175,3.15,3.44,17.02,0,0,3,2\n",
       "\"Valiant\",18.1,6,225,105,2.76,3.46,20.22,1,0,3,1\n",
       "\"Duster 360\",14.3,8,360,245,3.21,3.57,15.84,0,0,3,4\n",
       "\"Merc 240D\",24.4,4,146.7,62,3.69,3.19,20,1,0,4,2\n",
       "\"Merc 230\",22.8,4,140.8,95,3.92,3.15,22.9,1,0,4,2\n",
       "..."
      ]
     },
     "metadata": {},
     "output_type": "display_data"
    }
   ],
   "source": [
    "## Specify the bucket name and the path to the object in the 'path' parameter.\n",
    "mtCarsObject <- s3HTTP(verb = \"GET\",\n",
    "                       bucket = \"heylookanewbucketabc123doremeezas123m\",\n",
    "                       path = \"/mtcars.csv\",\n",
    "                       url_style = \"path\",\n",
    "                       base_url = \"s3-api.us-geo.objectstorage.softlayer.net\", \n",
    "                       key = access_key_id, \n",
    "                       secret = secret_access_key, \n",
    "                       verbose = T, \n",
    "                       check_region = F, \n",
    "                       region = 'us-standard')\n",
    "\n",
    "mtCarsObject"
   ]
  },
  {
   "cell_type": "markdown",
   "metadata": {},
   "source": [
    "Convert that response back to a dataframe."
   ]
  },
  {
   "cell_type": "code",
   "execution_count": 13,
   "metadata": {},
   "outputs": [
    {
     "name": "stderr",
     "output_type": "stream",
     "text": [
      "Warning message:\n",
      "“Missing column names filled in: 'X1' [1]”Warning message:\n",
      "“Setting row names on a tibble is deprecated.”"
     ]
    },
    {
     "data": {
      "text/html": [
       "<table>\n",
       "<thead><tr><th></th><th scope=col>mpg</th><th scope=col>cyl</th><th scope=col>disp</th><th scope=col>hp</th><th scope=col>drat</th><th scope=col>wt</th><th scope=col>qsec</th><th scope=col>vs</th><th scope=col>am</th><th scope=col>gear</th><th scope=col>carb</th></tr></thead>\n",
       "<tbody>\n",
       "\t<tr><th scope=row>Mazda RX4</th><td>21.0 </td><td>6    </td><td>160.0</td><td>110  </td><td>3.90 </td><td>2.620</td><td>16.46</td><td>0    </td><td>1    </td><td>4    </td><td>4    </td></tr>\n",
       "\t<tr><th scope=row>Mazda RX4 Wag</th><td>21.0 </td><td>6    </td><td>160.0</td><td>110  </td><td>3.90 </td><td>2.875</td><td>17.02</td><td>0    </td><td>1    </td><td>4    </td><td>4    </td></tr>\n",
       "\t<tr><th scope=row>Datsun 710</th><td>22.8 </td><td>4    </td><td>108.0</td><td> 93  </td><td>3.85 </td><td>2.320</td><td>18.61</td><td>1    </td><td>1    </td><td>4    </td><td>1    </td></tr>\n",
       "\t<tr><th scope=row>Hornet 4 Drive</th><td>21.4 </td><td>6    </td><td>258.0</td><td>110  </td><td>3.08 </td><td>3.215</td><td>19.44</td><td>1    </td><td>0    </td><td>3    </td><td>1    </td></tr>\n",
       "\t<tr><th scope=row>Hornet Sportabout</th><td>18.7 </td><td>8    </td><td>360.0</td><td>175  </td><td>3.15 </td><td>3.440</td><td>17.02</td><td>0    </td><td>0    </td><td>3    </td><td>2    </td></tr>\n",
       "\t<tr><th scope=row>Valiant</th><td>18.1 </td><td>6    </td><td>225.0</td><td>105  </td><td>2.76 </td><td>3.460</td><td>20.22</td><td>1    </td><td>0    </td><td>3    </td><td>1    </td></tr>\n",
       "\t<tr><th scope=row>Duster 360</th><td>14.3 </td><td>8    </td><td>360.0</td><td>245  </td><td>3.21 </td><td>3.570</td><td>15.84</td><td>0    </td><td>0    </td><td>3    </td><td>4    </td></tr>\n",
       "\t<tr><th scope=row>Merc 240D</th><td>24.4 </td><td>4    </td><td>146.7</td><td> 62  </td><td>3.69 </td><td>3.190</td><td>20.00</td><td>1    </td><td>0    </td><td>4    </td><td>2    </td></tr>\n",
       "\t<tr><th scope=row>Merc 230</th><td>22.8 </td><td>4    </td><td>140.8</td><td> 95  </td><td>3.92 </td><td>3.150</td><td>22.90</td><td>1    </td><td>0    </td><td>4    </td><td>2    </td></tr>\n",
       "\t<tr><th scope=row>Merc 280</th><td>19.2 </td><td>6    </td><td>167.6</td><td>123  </td><td>3.92 </td><td>3.440</td><td>18.30</td><td>1    </td><td>0    </td><td>4    </td><td>4    </td></tr>\n",
       "\t<tr><th scope=row>Merc 280C</th><td>17.8 </td><td>6    </td><td>167.6</td><td>123  </td><td>3.92 </td><td>3.440</td><td>18.90</td><td>1    </td><td>0    </td><td>4    </td><td>4    </td></tr>\n",
       "\t<tr><th scope=row>Merc 450SE</th><td>16.4 </td><td>8    </td><td>275.8</td><td>180  </td><td>3.07 </td><td>4.070</td><td>17.40</td><td>0    </td><td>0    </td><td>3    </td><td>3    </td></tr>\n",
       "\t<tr><th scope=row>Merc 450SL</th><td>17.3 </td><td>8    </td><td>275.8</td><td>180  </td><td>3.07 </td><td>3.730</td><td>17.60</td><td>0    </td><td>0    </td><td>3    </td><td>3    </td></tr>\n",
       "\t<tr><th scope=row>Merc 450SLC</th><td>15.2 </td><td>8    </td><td>275.8</td><td>180  </td><td>3.07 </td><td>3.780</td><td>18.00</td><td>0    </td><td>0    </td><td>3    </td><td>3    </td></tr>\n",
       "\t<tr><th scope=row>Cadillac Fleetwood</th><td>10.4 </td><td>8    </td><td>472.0</td><td>205  </td><td>2.93 </td><td>5.250</td><td>17.98</td><td>0    </td><td>0    </td><td>3    </td><td>4    </td></tr>\n",
       "\t<tr><th scope=row>Lincoln Continental</th><td>10.4 </td><td>8    </td><td>460.0</td><td>215  </td><td>3.00 </td><td>5.424</td><td>17.82</td><td>0    </td><td>0    </td><td>3    </td><td>4    </td></tr>\n",
       "\t<tr><th scope=row>Chrysler Imperial</th><td>14.7 </td><td>8    </td><td>440.0</td><td>230  </td><td>3.23 </td><td>5.345</td><td>17.42</td><td>0    </td><td>0    </td><td>3    </td><td>4    </td></tr>\n",
       "\t<tr><th scope=row>Fiat 128</th><td>32.4 </td><td>4    </td><td> 78.7</td><td> 66  </td><td>4.08 </td><td>2.200</td><td>19.47</td><td>1    </td><td>1    </td><td>4    </td><td>1    </td></tr>\n",
       "\t<tr><th scope=row>Honda Civic</th><td>30.4 </td><td>4    </td><td> 75.7</td><td> 52  </td><td>4.93 </td><td>1.615</td><td>18.52</td><td>1    </td><td>1    </td><td>4    </td><td>2    </td></tr>\n",
       "\t<tr><th scope=row>Toyota Corolla</th><td>33.9 </td><td>4    </td><td> 71.1</td><td> 65  </td><td>4.22 </td><td>1.835</td><td>19.90</td><td>1    </td><td>1    </td><td>4    </td><td>1    </td></tr>\n",
       "\t<tr><th scope=row>Toyota Corona</th><td>21.5 </td><td>4    </td><td>120.1</td><td> 97  </td><td>3.70 </td><td>2.465</td><td>20.01</td><td>1    </td><td>0    </td><td>3    </td><td>1    </td></tr>\n",
       "\t<tr><th scope=row>Dodge Challenger</th><td>15.5 </td><td>8    </td><td>318.0</td><td>150  </td><td>2.76 </td><td>3.520</td><td>16.87</td><td>0    </td><td>0    </td><td>3    </td><td>2    </td></tr>\n",
       "\t<tr><th scope=row>AMC Javelin</th><td>15.2 </td><td>8    </td><td>304.0</td><td>150  </td><td>3.15 </td><td>3.435</td><td>17.30</td><td>0    </td><td>0    </td><td>3    </td><td>2    </td></tr>\n",
       "\t<tr><th scope=row>Camaro Z28</th><td>13.3 </td><td>8    </td><td>350.0</td><td>245  </td><td>3.73 </td><td>3.840</td><td>15.41</td><td>0    </td><td>0    </td><td>3    </td><td>4    </td></tr>\n",
       "\t<tr><th scope=row>Pontiac Firebird</th><td>19.2 </td><td>8    </td><td>400.0</td><td>175  </td><td>3.08 </td><td>3.845</td><td>17.05</td><td>0    </td><td>0    </td><td>3    </td><td>2    </td></tr>\n",
       "\t<tr><th scope=row>Fiat X1-9</th><td>27.3 </td><td>4    </td><td> 79.0</td><td> 66  </td><td>4.08 </td><td>1.935</td><td>18.90</td><td>1    </td><td>1    </td><td>4    </td><td>1    </td></tr>\n",
       "\t<tr><th scope=row>Porsche 914-2</th><td>26.0 </td><td>4    </td><td>120.3</td><td> 91  </td><td>4.43 </td><td>2.140</td><td>16.70</td><td>0    </td><td>1    </td><td>5    </td><td>2    </td></tr>\n",
       "\t<tr><th scope=row>Lotus Europa</th><td>30.4 </td><td>4    </td><td> 95.1</td><td>113  </td><td>3.77 </td><td>1.513</td><td>16.90</td><td>1    </td><td>1    </td><td>5    </td><td>2    </td></tr>\n",
       "\t<tr><th scope=row>Ford Pantera L</th><td>15.8 </td><td>8    </td><td>351.0</td><td>264  </td><td>4.22 </td><td>3.170</td><td>14.50</td><td>0    </td><td>1    </td><td>5    </td><td>4    </td></tr>\n",
       "\t<tr><th scope=row>Ferrari Dino</th><td>19.7 </td><td>6    </td><td>145.0</td><td>175  </td><td>3.62 </td><td>2.770</td><td>15.50</td><td>0    </td><td>1    </td><td>5    </td><td>6    </td></tr>\n",
       "\t<tr><th scope=row>Maserati Bora</th><td>15.0 </td><td>8    </td><td>301.0</td><td>335  </td><td>3.54 </td><td>3.570</td><td>14.60</td><td>0    </td><td>1    </td><td>5    </td><td>8    </td></tr>\n",
       "\t<tr><th scope=row>Volvo 142E</th><td>21.4 </td><td>4    </td><td>121.0</td><td>109  </td><td>4.11 </td><td>2.780</td><td>18.60</td><td>1    </td><td>1    </td><td>4    </td><td>2    </td></tr>\n",
       "</tbody>\n",
       "</table>\n"
      ],
      "text/latex": [
       "\\begin{tabular}{r|lllllllllll}\n",
       "  & mpg & cyl & disp & hp & drat & wt & qsec & vs & am & gear & carb\\\\\n",
       "\\hline\n",
       "\tMazda RX4 & 21.0  & 6     & 160.0 & 110   & 3.90  & 2.620 & 16.46 & 0     & 1     & 4     & 4    \\\\\n",
       "\tMazda RX4 Wag & 21.0  & 6     & 160.0 & 110   & 3.90  & 2.875 & 17.02 & 0     & 1     & 4     & 4    \\\\\n",
       "\tDatsun 710 & 22.8  & 4     & 108.0 &  93   & 3.85  & 2.320 & 18.61 & 1     & 1     & 4     & 1    \\\\\n",
       "\tHornet 4 Drive & 21.4  & 6     & 258.0 & 110   & 3.08  & 3.215 & 19.44 & 1     & 0     & 3     & 1    \\\\\n",
       "\tHornet Sportabout & 18.7  & 8     & 360.0 & 175   & 3.15  & 3.440 & 17.02 & 0     & 0     & 3     & 2    \\\\\n",
       "\tValiant & 18.1  & 6     & 225.0 & 105   & 2.76  & 3.460 & 20.22 & 1     & 0     & 3     & 1    \\\\\n",
       "\tDuster 360 & 14.3  & 8     & 360.0 & 245   & 3.21  & 3.570 & 15.84 & 0     & 0     & 3     & 4    \\\\\n",
       "\tMerc 240D & 24.4  & 4     & 146.7 &  62   & 3.69  & 3.190 & 20.00 & 1     & 0     & 4     & 2    \\\\\n",
       "\tMerc 230 & 22.8  & 4     & 140.8 &  95   & 3.92  & 3.150 & 22.90 & 1     & 0     & 4     & 2    \\\\\n",
       "\tMerc 280 & 19.2  & 6     & 167.6 & 123   & 3.92  & 3.440 & 18.30 & 1     & 0     & 4     & 4    \\\\\n",
       "\tMerc 280C & 17.8  & 6     & 167.6 & 123   & 3.92  & 3.440 & 18.90 & 1     & 0     & 4     & 4    \\\\\n",
       "\tMerc 450SE & 16.4  & 8     & 275.8 & 180   & 3.07  & 4.070 & 17.40 & 0     & 0     & 3     & 3    \\\\\n",
       "\tMerc 450SL & 17.3  & 8     & 275.8 & 180   & 3.07  & 3.730 & 17.60 & 0     & 0     & 3     & 3    \\\\\n",
       "\tMerc 450SLC & 15.2  & 8     & 275.8 & 180   & 3.07  & 3.780 & 18.00 & 0     & 0     & 3     & 3    \\\\\n",
       "\tCadillac Fleetwood & 10.4  & 8     & 472.0 & 205   & 2.93  & 5.250 & 17.98 & 0     & 0     & 3     & 4    \\\\\n",
       "\tLincoln Continental & 10.4  & 8     & 460.0 & 215   & 3.00  & 5.424 & 17.82 & 0     & 0     & 3     & 4    \\\\\n",
       "\tChrysler Imperial & 14.7  & 8     & 440.0 & 230   & 3.23  & 5.345 & 17.42 & 0     & 0     & 3     & 4    \\\\\n",
       "\tFiat 128 & 32.4  & 4     &  78.7 &  66   & 4.08  & 2.200 & 19.47 & 1     & 1     & 4     & 1    \\\\\n",
       "\tHonda Civic & 30.4  & 4     &  75.7 &  52   & 4.93  & 1.615 & 18.52 & 1     & 1     & 4     & 2    \\\\\n",
       "\tToyota Corolla & 33.9  & 4     &  71.1 &  65   & 4.22  & 1.835 & 19.90 & 1     & 1     & 4     & 1    \\\\\n",
       "\tToyota Corona & 21.5  & 4     & 120.1 &  97   & 3.70  & 2.465 & 20.01 & 1     & 0     & 3     & 1    \\\\\n",
       "\tDodge Challenger & 15.5  & 8     & 318.0 & 150   & 2.76  & 3.520 & 16.87 & 0     & 0     & 3     & 2    \\\\\n",
       "\tAMC Javelin & 15.2  & 8     & 304.0 & 150   & 3.15  & 3.435 & 17.30 & 0     & 0     & 3     & 2    \\\\\n",
       "\tCamaro Z28 & 13.3  & 8     & 350.0 & 245   & 3.73  & 3.840 & 15.41 & 0     & 0     & 3     & 4    \\\\\n",
       "\tPontiac Firebird & 19.2  & 8     & 400.0 & 175   & 3.08  & 3.845 & 17.05 & 0     & 0     & 3     & 2    \\\\\n",
       "\tFiat X1-9 & 27.3  & 4     &  79.0 &  66   & 4.08  & 1.935 & 18.90 & 1     & 1     & 4     & 1    \\\\\n",
       "\tPorsche 914-2 & 26.0  & 4     & 120.3 &  91   & 4.43  & 2.140 & 16.70 & 0     & 1     & 5     & 2    \\\\\n",
       "\tLotus Europa & 30.4  & 4     &  95.1 & 113   & 3.77  & 1.513 & 16.90 & 1     & 1     & 5     & 2    \\\\\n",
       "\tFord Pantera L & 15.8  & 8     & 351.0 & 264   & 4.22  & 3.170 & 14.50 & 0     & 1     & 5     & 4    \\\\\n",
       "\tFerrari Dino & 19.7  & 6     & 145.0 & 175   & 3.62  & 2.770 & 15.50 & 0     & 1     & 5     & 6    \\\\\n",
       "\tMaserati Bora & 15.0  & 8     & 301.0 & 335   & 3.54  & 3.570 & 14.60 & 0     & 1     & 5     & 8    \\\\\n",
       "\tVolvo 142E & 21.4  & 4     & 121.0 & 109   & 4.11  & 2.780 & 18.60 & 1     & 1     & 4     & 2    \\\\\n",
       "\\end{tabular}\n"
      ],
      "text/plain": [
       "                    mpg  cyl disp  hp  drat wt    qsec  vs am gear carb\n",
       "Mazda RX4           21.0 6   160.0 110 3.90 2.620 16.46 0  1  4    4   \n",
       "Mazda RX4 Wag       21.0 6   160.0 110 3.90 2.875 17.02 0  1  4    4   \n",
       "Datsun 710          22.8 4   108.0  93 3.85 2.320 18.61 1  1  4    1   \n",
       "Hornet 4 Drive      21.4 6   258.0 110 3.08 3.215 19.44 1  0  3    1   \n",
       "Hornet Sportabout   18.7 8   360.0 175 3.15 3.440 17.02 0  0  3    2   \n",
       "Valiant             18.1 6   225.0 105 2.76 3.460 20.22 1  0  3    1   \n",
       "Duster 360          14.3 8   360.0 245 3.21 3.570 15.84 0  0  3    4   \n",
       "Merc 240D           24.4 4   146.7  62 3.69 3.190 20.00 1  0  4    2   \n",
       "Merc 230            22.8 4   140.8  95 3.92 3.150 22.90 1  0  4    2   \n",
       "Merc 280            19.2 6   167.6 123 3.92 3.440 18.30 1  0  4    4   \n",
       "Merc 280C           17.8 6   167.6 123 3.92 3.440 18.90 1  0  4    4   \n",
       "Merc 450SE          16.4 8   275.8 180 3.07 4.070 17.40 0  0  3    3   \n",
       "Merc 450SL          17.3 8   275.8 180 3.07 3.730 17.60 0  0  3    3   \n",
       "Merc 450SLC         15.2 8   275.8 180 3.07 3.780 18.00 0  0  3    3   \n",
       "Cadillac Fleetwood  10.4 8   472.0 205 2.93 5.250 17.98 0  0  3    4   \n",
       "Lincoln Continental 10.4 8   460.0 215 3.00 5.424 17.82 0  0  3    4   \n",
       "Chrysler Imperial   14.7 8   440.0 230 3.23 5.345 17.42 0  0  3    4   \n",
       "Fiat 128            32.4 4    78.7  66 4.08 2.200 19.47 1  1  4    1   \n",
       "Honda Civic         30.4 4    75.7  52 4.93 1.615 18.52 1  1  4    2   \n",
       "Toyota Corolla      33.9 4    71.1  65 4.22 1.835 19.90 1  1  4    1   \n",
       "Toyota Corona       21.5 4   120.1  97 3.70 2.465 20.01 1  0  3    1   \n",
       "Dodge Challenger    15.5 8   318.0 150 2.76 3.520 16.87 0  0  3    2   \n",
       "AMC Javelin         15.2 8   304.0 150 3.15 3.435 17.30 0  0  3    2   \n",
       "Camaro Z28          13.3 8   350.0 245 3.73 3.840 15.41 0  0  3    4   \n",
       "Pontiac Firebird    19.2 8   400.0 175 3.08 3.845 17.05 0  0  3    2   \n",
       "Fiat X1-9           27.3 4    79.0  66 4.08 1.935 18.90 1  1  4    1   \n",
       "Porsche 914-2       26.0 4   120.3  91 4.43 2.140 16.70 0  1  5    2   \n",
       "Lotus Europa        30.4 4    95.1 113 3.77 1.513 16.90 1  1  5    2   \n",
       "Ford Pantera L      15.8 8   351.0 264 4.22 3.170 14.50 0  1  5    4   \n",
       "Ferrari Dino        19.7 6   145.0 175 3.62 2.770 15.50 0  1  5    6   \n",
       "Maserati Bora       15.0 8   301.0 335 3.54 3.570 14.60 0  1  5    8   \n",
       "Volvo 142E          21.4 4   121.0 109 4.11 2.780 18.60 1  1  4    2   "
      ]
     },
     "metadata": {},
     "output_type": "display_data"
    }
   ],
   "source": [
    "## Convert to DF\n",
    "mtcarsDF <- suppressMessages(httr::content(mtCarsObject))\n",
    "\n",
    "## First column contains row names\n",
    "mtcarsDF <- data.frame(tibble::column_to_rownames(mtcarsDF, var = 'X1'))\n",
    "\n",
    "mtcarsDF"
   ]
  },
  {
   "cell_type": "markdown",
   "metadata": {},
   "source": [
    "__________\n",
    "\n",
    "### 3.5  Delete an object<a id=\"deleteobject\"></a>\n",
    "A bucket must be emptied before it can be deleted. \n",
    "To delete a bucket, change the verb parameter to `DELETE`, then specify the bucket name and object name (don't forget the slash). The remainder of the parameters are the same as creating a bucket or getting an object.\n",
    "\n",
    "**Note:** If you request to delete a non-empty bucket the server responds with `409 Conflict`.  "
   ]
  },
  {
   "cell_type": "code",
   "execution_count": 14,
   "metadata": {},
   "outputs": [
    {
     "name": "stderr",
     "output_type": "stream",
     "text": [
      "Checking for credentials in user-supplied values\n",
      "Using user-supplied value for AWS Access Key ID\n",
      "Using user-supplied value for AWS Secret Access Key\n",
      "Using user-supplied value for AWS Region ('us-standard')\n",
      "S3 Request URL: https://s3-api.us-geo.objectstorage.softlayer.net/heylookanewbucketabc123doremeezas123m/mtcars.csv\n",
      "Executing request with AWS credentials\n"
     ]
    },
    {
     "data": {
      "text/html": [
       "TRUE"
      ],
      "text/latex": [
       "TRUE"
      ],
      "text/markdown": [
       "TRUE"
      ],
      "text/plain": [
       "[1] TRUE\n",
       "attr(,\"date\")\n",
       "[1] \"Mon, 22 Jan 2018 12:40:23 GMT\"\n",
       "attr(,\"x-clv-request-id\")\n",
       "[1] \"bf91e010-cc34-4685-816c-e644546062d8\"\n",
       "attr(,\"server\")\n",
       "[1] \"Cleversafe/3.12.1.28\"\n",
       "attr(,\"x-clv-s3-version\")\n",
       "[1] \"2.5\"\n",
       "attr(,\"x-amz-request-id\")\n",
       "[1] \"bf91e010-cc34-4685-816c-e644546062d8\""
      ]
     },
     "metadata": {},
     "output_type": "display_data"
    }
   ],
   "source": [
    "## Delete mtcars.csv from COS\n",
    "deleteObject <- s3HTTP(verb = \"DELETE\",\n",
    "                       bucket = \"heylookanewbucketabc123doremeezas123m\",\n",
    "                       path = \"/mtcars.csv\",\n",
    "                       base_url = \"s3-api.us-geo.objectstorage.softlayer.net\", \n",
    "                       key = access_key_id, \n",
    "                       secret = secret_access_key, \n",
    "                       check_region = F,\n",
    "                       verbose = T,\n",
    "                       region = 'us-standard')\n",
    "\n",
    "deleteObject"
   ]
  },
  {
   "cell_type": "markdown",
   "metadata": {},
   "source": [
    "### 3.6 Delete bucket<a id=\"deletebucket\"></a>\n",
    "If that worked, we should be able to delete the bucket now. \n",
    "The only change here is to leave the `path` parameter empty."
   ]
  },
  {
   "cell_type": "code",
   "execution_count": 15,
   "metadata": {},
   "outputs": [
    {
     "name": "stderr",
     "output_type": "stream",
     "text": [
      "Checking for credentials in user-supplied values\n",
      "Using user-supplied value for AWS Access Key ID\n",
      "Using user-supplied value for AWS Secret Access Key\n",
      "Using user-supplied value for AWS Region ('us-standard')\n",
      "S3 Request URL: https://s3-api.us-geo.objectstorage.softlayer.net/heylookanewbucketabc123doremeezas123m/\n",
      "Executing request with AWS credentials\n"
     ]
    },
    {
     "data": {
      "text/html": [
       "TRUE"
      ],
      "text/latex": [
       "TRUE"
      ],
      "text/markdown": [
       "TRUE"
      ],
      "text/plain": [
       "[1] TRUE\n",
       "attr(,\"date\")\n",
       "[1] \"Mon, 22 Jan 2018 12:40:28 GMT\"\n",
       "attr(,\"x-clv-request-id\")\n",
       "[1] \"3be2e131-6fc3-4376-ad85-c05c2d6a800d\"\n",
       "attr(,\"server\")\n",
       "[1] \"Cleversafe/3.12.1.28\"\n",
       "attr(,\"x-clv-s3-version\")\n",
       "[1] \"2.5\"\n",
       "attr(,\"x-amz-request-id\")\n",
       "[1] \"3be2e131-6fc3-4376-ad85-c05c2d6a800d\""
      ]
     },
     "metadata": {},
     "output_type": "display_data"
    }
   ],
   "source": [
    "## Delete bucket from COS\n",
    "deleteBucket <- s3HTTP(verb = \"DELETE\",\n",
    "                       bucket = \"heylookanewbucketabc123doremeezas123m\",\n",
    "                       path = \"\",\n",
    "                       base_url = \"s3-api.us-geo.objectstorage.softlayer.net\", \n",
    "                       key = access_key_id, \n",
    "                       secret = secret_access_key, \n",
    "                       check_region = F,\n",
    "                       verbose = T,\n",
    "                       region = 'us-standard')\n",
    "\n",
    "deleteBucket"
   ]
  },
  {
   "cell_type": "markdown",
   "metadata": {},
   "source": [
    "Looks like it worked, but just to confirm lets list the buckets one more time and see if the one we had created is there."
   ]
  },
  {
   "cell_type": "code",
   "execution_count": 16,
   "metadata": {},
   "outputs": [
    {
     "name": "stderr",
     "output_type": "stream",
     "text": [
      "Checking for credentials in user-supplied values\n",
      "Using user-supplied value for AWS Access Key ID\n",
      "Using user-supplied value for AWS Secret Access Key\n",
      "Using default value for AWS Region ('us-east-1')\n",
      "S3 Request URL: https://s3-api.us-geo.objectstorage.softlayer.net/\n",
      "Executing request with AWS credentials\n",
      "Parsing AWS API response\n",
      "Success: (200) OK\n"
     ]
    },
    {
     "data": {
      "text/html": [
       "<table>\n",
       "<thead><tr><th></th><th scope=col>Name</th><th scope=col>CreationDate</th></tr></thead>\n",
       "<tbody>\n",
       "\t<tr><th scope=row>Bucket4</th><td>heylookanewbucketabc123doremeezas1231</td><td>2018-01-19T13:12:48.985Z             </td></tr>\n",
       "</tbody>\n",
       "</table>\n"
      ],
      "text/latex": [
       "\\begin{tabular}{r|ll}\n",
       "  & Name & CreationDate\\\\\n",
       "\\hline\n",
       "\tBucket4 & heylookanewbucketabc123doremeezas1231 & 2018-01-19T13:12:48.985Z             \\\\\n",
       "\\end{tabular}\n"
      ],
      "text/plain": [
       "        Name                                  CreationDate            \n",
       "Bucket4 heylookanewbucketabc123doremeezas1231 2018-01-19T13:12:48.985Z"
      ]
     },
     "metadata": {},
     "output_type": "display_data"
    }
   ],
   "source": [
    "## As before, list buckets\n",
    "listOfBuckets <- s3HTTP(verb = \"GET\",\n",
    "                       bucket = \"\", \n",
    "                       path = \"\", \n",
    "                       url_style = \"path\",\n",
    "                       base_url = \"s3-api.us-geo.objectstorage.softlayer.net\", \n",
    "                       key = access_key_id, \n",
    "                       secret = secret_access_key,\n",
    "                       verbose = T)\n",
    "\n",
    "## Convert to dataframe and subset by the index of the new bucket\n",
    "cosBucketsDF <- do.call(rbind.data.frame, listOfBuckets$Buckets)\n",
    "cosBucketsDF[grep(\"heylookanewbucket\", cosBucketsDF$Name), ]"
   ]
  },
  {
   "cell_type": "markdown",
   "metadata": {},
   "source": [
    "It's gone!  "
   ]
  },
  {
   "cell_type": "markdown",
   "metadata": {},
   "source": [
    "_________\n",
    "\n",
    "## 4. Conclusion and next steps<a id=\"conclusion\"></a>\n",
    "In this notebook you've learned how to access IBM Cloud Object Storage using the S3 API in R. We've covered the basic operations, but there's plenty more you can do. See the <a href=\"https://ibm-public-cos.github.io/crs-docs/api-reference\" target=\"_blank\" rel=\"noopener noreferrer\">API Reference</a> for details.\n",
    "\n",
    "In a future notebook I hope to show you how you can save any **ar**bitrary R object to COS - models, time series, the works.  For now it will suffice that the door has been opened for R users to enjoy their COS instance. Thanks for reading.\n",
    "\n",
    "Questions?  Email me at <rafi.kurlansik@ibm.com>.\n",
    "_______"
   ]
  },
  {
   "cell_type": "markdown",
   "metadata": {},
   "source": [
    "### Author\n",
    "**Rafi Kurlansik** is an Open Source Solutions Engineer specializing in big data technologies, such as Hadoop and Spark. He's responsible for developing and delivering demonstrations of IBM tech to both enterprise clients and the larger analytics community. Kurlansik has hands-on experience with machine learning, natural language processing, data visualization, and dashboard development. If you're wondering where he comes down on the biggest data science debate of our day, Rafi is, in his own words, \"an avid R fan, especially RStudio!\""
   ]
  },
  {
   "cell_type": "markdown",
   "metadata": {},
   "source": [
    "Copyright © IBM Corp. 2018. This notebook and its source code are released under the terms of the MIT License."
   ]
  },
  {
   "cell_type": "markdown",
   "metadata": {},
   "source": [
    "<div><br><img src=\"https://softwarereviews.s3.amazonaws.com/production/logos/offerings/2300/original/a47d3df4-fdec-4ad5-bb6e-86f9a0aacebcIBm_logo.png?1490823906\" width = 400 height = 400>\n",
    "</div><br>"
   ]
  }
 ],
 "metadata": {
  "kernelspec": {
   "display_name": "R with Spark 2.1",
   "language": "R",
   "name": "r-spark21"
  },
  "language_info": {
   "codemirror_mode": "r",
   "file_extension": ".r",
   "mimetype": "text/x-r-source",
   "name": "R",
   "pygments_lexer": "r",
   "version": "3.3.2"
  }
 },
 "nbformat": 4,
 "nbformat_minor": 1
}
