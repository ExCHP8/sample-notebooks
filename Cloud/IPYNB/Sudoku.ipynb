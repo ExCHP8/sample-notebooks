{
 "cells": [
  {
   "cell_type": "markdown",
   "metadata": {},
   "source": [
    "# Sudoku\n",
    "\n",
    "This tutorial includes everything you need to set up decision optimization engines, build constraint programming models.\n",
    "\n",
    "\n",
    "Table of contents:\n",
    "\n",
    "-  [Describe the business problem](#Describe-the-business-problem)\n",
    "*  [How decision optimization (prescriptive analytics) can help](#How--decision-optimization-can-help)\n",
    "*  [Use decision optimization](#Use-decision-optimization)\n",
    "    *  [Step 1: Model the Data](#Step-1:-Model-the-data)\n",
    "    *  [Step 2: Set up the prescriptive model](#Step-2:-Set-up-the-prescriptive-model)\n",
    "        * [Define the decision variables](#Define-the-decision-variables)\n",
    "        * [Express the business constraints](#Express-the-business-constraints)\n",
    "        * [Express the objective](#Express-the-objective)\n",
    "        * [Solve with Decision Optimization solve service](#Solve-with-Decision-Optimization-solve-service)\n",
    "    *  [Step 3: Investigate the solution and run an example analysis](#Step-3:-Investigate-the-solution-and-then-run-an-example-analysis)\n",
    "*  [Summary](#Summary)\n",
    "****"
   ]
  },
  {
   "cell_type": "markdown",
   "metadata": {},
   "source": [
    "### Describe the business problem\n",
    "\n",
    "* Sudoku is a logic-based, combinatorial number-placement puzzle.\n",
    "* The objective is to fill a 9x9 grid with digits so that each column, each row,\n",
    "and each of the nine 3x3 sub-grids that compose the grid contains all of the digits from 1 to 9.\n",
    "* The puzzle setter provides a partially completed grid, which for a well-posed puzzle has a unique solution."
   ]
  },
  {
   "cell_type": "markdown",
   "metadata": {},
   "source": [
    "#### References\n",
    "* See <a href=\"https://en.wikipedia.org/wiki/Sudoku\" target=\"_blank\" rel=\"noopener noreferrer\">https://en.wikipedia.org/wiki/Sudoku</a> for details."
   ]
  },
  {
   "cell_type": "markdown",
   "metadata": {},
   "source": [
    "*****\n",
    "## How  decision optimization can help\n",
    "* Prescriptive analytics technology recommends actions based on desired outcomes, taking into account specific scenarios, resources, and knowledge of past and current events. This insight can help your organization make better decisions and have greater control of business outcomes.  \n",
    "\n",
    "* Prescriptive analytics is the next step on the path to insight-based actions. It creates value through synergy with predictive analytics, which analyzes data to predict future outcomes.  \n",
    "\n",
    "* Prescriptive analytics takes that insight to the next level by suggesting the optimal way to handle that future situation. Organizations that can act fast in dynamic conditions and make superior decisions in uncertain environments gain a strong competitive advantage.  \n",
    "<br/>\n",
    "\n",
    "+ For example:\n",
    "    + Automate complex decisions and trade-offs to better manage limited resources.\n",
    "    + Take advantage of a future opportunity or mitigate a future risk.\n",
    "    + Proactively update recommendations based on changing events.\n",
    "    + Meet operational goals, increase customer loyalty, prevent threats and fraud, and optimize business processes.\n"
   ]
  },
  {
   "cell_type": "markdown",
   "metadata": {},
   "source": [
    "## Use decision optimization"
   ]
  },
  {
   "cell_type": "markdown",
   "metadata": {},
   "source": [
    "### Step 1: Model the data"
   ]
  },
  {
   "cell_type": "markdown",
   "metadata": {},
   "source": [
    "First import some of the packages you need to use."
   ]
  },
  {
   "cell_type": "code",
   "execution_count": 1,
   "metadata": {},
   "outputs": [],
   "source": [
    "from docplex.cp.model import *\n",
    "from sys import stdout"
   ]
  },
  {
   "cell_type": "markdown",
   "metadata": {},
   "source": [
    "#### Grid range"
   ]
  },
  {
   "cell_type": "code",
   "execution_count": 2,
   "metadata": {},
   "outputs": [],
   "source": [
    "GRNG = range(9)"
   ]
  },
  {
   "cell_type": "markdown",
   "metadata": {},
   "source": [
    "#### Different problems"
   ]
  },
  {
   "cell_type": "markdown",
   "metadata": {},
   "source": [
    "_zero means cell to be filled with appropriate value_"
   ]
  },
  {
   "cell_type": "code",
   "execution_count": 3,
   "metadata": {},
   "outputs": [],
   "source": [
    "SUDOKU_PROBLEM_1 = ( (0, 0, 0,  0, 9, 0,  1, 0, 0),\n",
    "                     (2, 8, 0,  0, 0, 5,  0, 0, 0),\n",
    "                     (7, 0, 0,  0, 0, 6,  4, 0, 0),\n",
    "                     (8, 0, 5,  0, 0, 3,  0, 0, 6),\n",
    "                     (0, 0, 1,  0, 0, 4,  0, 0, 0),\n",
    "                     (0, 7, 0,  2, 0, 0,  0, 0, 0),\n",
    "                     (3, 0, 0,  0, 0, 1,  0, 8, 0),\n",
    "                     (0, 0, 0,  0, 0, 0,  0, 5, 0),\n",
    "                     (0, 9, 0,  0, 0, 0,  0, 7, 0),\n",
    "                   )\n",
    "\n",
    "SUDOKU_PROBLEM_2 = ( (0, 7, 0,  0, 0, 0,  0, 4, 9),\n",
    "                     (0, 0, 0,  4, 0, 0,  0, 0, 0),\n",
    "                     (4, 0, 3,  5, 0, 7,  0, 0, 8),\n",
    "                     (0, 0, 7,  2, 5, 0,  4, 0, 0),\n",
    "                     (0, 0, 0,  0, 0, 0,  8, 0, 0),\n",
    "                     (0, 0, 4,  0, 3, 0,  5, 9, 2),\n",
    "                     (6, 1, 8,  0, 0, 0,  0, 0, 5),\n",
    "                     (0, 9, 0,  1, 0, 0,  0, 3, 0),\n",
    "                     (0, 0, 5,  0, 0, 0,  0, 0, 7),\n",
    "                   )\n",
    "\n",
    "SUDOKU_PROBLEM_3 = ( (0, 0, 0,  0, 0, 6,  0, 0, 0),\n",
    "                     (0, 5, 9,  0, 0, 0,  0, 0, 8),\n",
    "                     (2, 0, 0,  0, 0, 8,  0, 0, 0),\n",
    "                     (0, 4, 5,  0, 0, 0,  0, 0, 0),\n",
    "                     (0, 0, 3,  0, 0, 0,  0, 0, 0),\n",
    "                     (0, 0, 6,  0, 0, 3,  0, 5, 4),\n",
    "                     (0, 0, 0,  3, 2, 5,  0, 0, 6),\n",
    "                     (0, 0, 0,  0, 0, 0,  0, 0, 0),\n",
    "                     (0, 0, 0,  0, 0, 0,  0, 0, 0)\n",
    "                    )"
   ]
  },
  {
   "cell_type": "code",
   "execution_count": 4,
   "metadata": {},
   "outputs": [],
   "source": [
    "try:\n",
    "    import numpy as np\n",
    "    import matplotlib.pyplot as plt\n",
    "    VISU_ENABLED = True\n",
    "except ImportError:\n",
    "    VISU_ENABLED = False"
   ]
  },
  {
   "cell_type": "code",
   "execution_count": 5,
   "metadata": {},
   "outputs": [],
   "source": [
    "def print_grid(grid):\n",
    "    \"\"\" Print Sudoku grid \"\"\"\n",
    "    for l in GRNG:\n",
    "        if (l > 0) and (l % 3 == 0):\n",
    "           stdout.write('\\n')\n",
    "        for c in GRNG:\n",
    "            v = grid[l][c]\n",
    "            stdout.write('   ' if (c % 3 == 0) else ' ')\n",
    "            stdout.write(str(v) if v > 0 else '.')\n",
    "        stdout.write('\\n')"
   ]
  },
  {
   "cell_type": "code",
   "execution_count": 6,
   "metadata": {},
   "outputs": [],
   "source": [
    "def draw_grid(values):\n",
    "    %matplotlib inline\n",
    "    fig, ax = plt.subplots(figsize =(4,4))\n",
    "    min_val, max_val = 0, 9\n",
    "    R =  range(0,9)\n",
    "    for l in R:\n",
    "        for c in R:\n",
    "            v = values[c][l]\n",
    "            s = \" \"\n",
    "            if v > 0:\n",
    "                s = str(v)\n",
    "            ax.text(l+0.5,8.5-c, s, va='center', ha='center')\n",
    "        ax.set_xlim(min_val, max_val)\n",
    "    ax.set_ylim(min_val, max_val)\n",
    "    ax.set_xticks(np.arange(max_val))\n",
    "    ax.set_yticks(np.arange(max_val))\n",
    "    ax.grid()\n",
    "    plt.show()"
   ]
  },
  {
   "cell_type": "code",
   "execution_count": 7,
   "metadata": {},
   "outputs": [],
   "source": [
    "def display_grid(grid, name):\n",
    "    stdout.write(name)\n",
    "    stdout.write(\":\\n\")\n",
    "    if VISU_ENABLED:\n",
    "        draw_grid(grid)\n",
    "    else:\n",
    "        print_grid(grid)"
   ]
  },
  {
   "cell_type": "code",
   "execution_count": 8,
   "metadata": {},
   "outputs": [
    {
     "name": "stdout",
     "output_type": "stream",
     "text": [
      "PROBLEM 1:\n"
     ]
    },
    {
     "data": {
      "image/png": "[encoded data removed]",
      "text/plain": [
       "<matplotlib.figure.Figure at 0x7f2c2915d2b0>"
      ]
     },
     "metadata": {},
     "output_type": "display_data"
    },
    {
     "name": "stdout",
     "output_type": "stream",
     "text": [
      "PROBLEM 2:\n"
     ]
    },
    {
     "data": {
      "image/png": "[encoded data removed]",
      "text/plain": [
       "<matplotlib.figure.Figure at 0x7f2c2915d198>"
      ]
     },
     "metadata": {},
     "output_type": "display_data"
    },
    {
     "name": "stdout",
     "output_type": "stream",
     "text": [
      "PROBLEM 3:\n"
     ]
    },
    {
     "data": {
      "image/png": "[encoded data removed]",
      "text/plain": [
       "<matplotlib.figure.Figure at 0x7f2c2911b240>"
      ]
     },
     "metadata": {},
     "output_type": "display_data"
    }
   ],
   "source": [
    "display_grid(SUDOKU_PROBLEM_1, \"PROBLEM 1\")\n",
    "display_grid(SUDOKU_PROBLEM_2, \"PROBLEM 2\")\n",
    "display_grid(SUDOKU_PROBLEM_3, \"PROBLEM 3\")"
   ]
  },
  {
   "cell_type": "markdown",
   "metadata": {},
   "source": [
    "#### Choose your preferred problem (SUDOKU_PROBLEM_1 or SUDOKU_PROBLEM_2 or SUDOKU_PROBLEM_3)\n",
    "If you change the problem, ensure to re-run all cells below this one."
   ]
  },
  {
   "cell_type": "code",
   "execution_count": 9,
   "metadata": {},
   "outputs": [],
   "source": [
    "problem = SUDOKU_PROBLEM_3"
   ]
  },
  {
   "cell_type": "markdown",
   "metadata": {},
   "source": [
    "### Step 2: Set up the prescriptive model"
   ]
  },
  {
   "cell_type": "code",
   "execution_count": 10,
   "metadata": {},
   "outputs": [],
   "source": [
    "mdl = CpoModel(name=\"Sudoku\")"
   ]
  },
  {
   "cell_type": "markdown",
   "metadata": {},
   "source": [
    "#### Define the decision variables"
   ]
  },
  {
   "cell_type": "code",
   "execution_count": 11,
   "metadata": {},
   "outputs": [],
   "source": [
    "grid = [[integer_var(min=1, max=9, name=\"C\" + str(l) + str(c)) for l in GRNG] for c in GRNG]"
   ]
  },
  {
   "cell_type": "markdown",
   "metadata": {},
   "source": [
    "#### Express the business constraints"
   ]
  },
  {
   "cell_type": "markdown",
   "metadata": {},
   "source": [
    "Add alldiff constraints for lines"
   ]
  },
  {
   "cell_type": "code",
   "execution_count": 12,
   "metadata": {},
   "outputs": [],
   "source": [
    "for l in GRNG:\n",
    "    mdl.add(all_diff([grid[l][c] for c in GRNG]))"
   ]
  },
  {
   "cell_type": "markdown",
   "metadata": {},
   "source": [
    "Add alldiff constraints for columns"
   ]
  },
  {
   "cell_type": "code",
   "execution_count": 13,
   "metadata": {},
   "outputs": [],
   "source": [
    "for c in GRNG:\n",
    "    mdl.add(all_diff([grid[l][c] for l in GRNG]))"
   ]
  },
  {
   "cell_type": "markdown",
   "metadata": {},
   "source": [
    "Add alldiff constraints for sub-squares"
   ]
  },
  {
   "cell_type": "code",
   "execution_count": 14,
   "metadata": {},
   "outputs": [],
   "source": [
    "ssrng = range(0, 9, 3)\n",
    "for sl in ssrng:\n",
    "    for sc in ssrng:\n",
    "        mdl.add(all_diff([grid[l][c] for l in range(sl, sl + 3) for c in range(sc, sc + 3)]))"
   ]
  },
  {
   "cell_type": "markdown",
   "metadata": {},
   "source": [
    "Initialize known cells"
   ]
  },
  {
   "cell_type": "code",
   "execution_count": 15,
   "metadata": {},
   "outputs": [],
   "source": [
    "for l in GRNG:\n",
    "    for c in GRNG:\n",
    "        v = problem[l][c]\n",
    "        if v > 0:\n",
    "            grid[l][c].set_domain((v, v))"
   ]
  },
  {
   "cell_type": "markdown",
   "metadata": {},
   "source": [
    "#### Solve with Decision Optimization solve service"
   ]
  },
  {
   "cell_type": "code",
   "execution_count": 16,
   "metadata": {},
   "outputs": [
    {
     "name": "stdout",
     "output_type": "stream",
     "text": [
      "\n",
      "Solving model....\n"
     ]
    }
   ],
   "source": [
    "print(\"\\nSolving model....\")\n",
    "msol = mdl.solve(TimeLimit=10)"
   ]
  },
  {
   "cell_type": "markdown",
   "metadata": {},
   "source": [
    "### Step 4: Investigate the solution and then run an example analysis"
   ]
  },
  {
   "cell_type": "code",
   "execution_count": 17,
   "metadata": {},
   "outputs": [
    {
     "name": "stdout",
     "output_type": "stream",
     "text": [
      "Initial problem:\n"
     ]
    },
    {
     "data": {
      "image/png": "[encoded data removed]",
      "text/plain": [
       "<matplotlib.figure.Figure at 0x7f2c21617470>"
      ]
     },
     "metadata": {},
     "output_type": "display_data"
    },
    {
     "name": "stdout",
     "output_type": "stream",
     "text": [
      "Solve time: 0.13495445251464844\n",
      "Solution:\n"
     ]
    },
    {
     "data": {
      "image/png": "[encoded data removed]",
      "text/plain": [
       "<matplotlib.figure.Figure at 0x7f2c21525ba8>"
      ]
     },
     "metadata": {},
     "output_type": "display_data"
    }
   ],
   "source": [
    "display_grid(problem, \"Initial problem\")\n",
    "if msol:\n",
    "    sol = [[msol[grid[l][c]] for c in GRNG] for l in GRNG]\n",
    "    stdout.write(\"Solve time: \" + str(msol.get_solve_time()) + \"\\n\")\n",
    "    display_grid(sol, \"Solution\")\n",
    "else:\n",
    "    stdout.write(\"No solution found\\n\")"
   ]
  },
  {
   "cell_type": "markdown",
   "metadata": {},
   "source": [
    "## Summary\n",
    "\n",
    "You learned how to set up and use the IBM Decision Optimization CPLEX Modeling for Python to formulate and solve a Constraint Programming model."
   ]
  },
  {
   "cell_type": "markdown",
   "metadata": {},
   "source": [
    "#### References\n",
    "* <a href=\"https://rawgit.com/IBMDecisionOptimization/docplex-doc/master/docs/index.html\" target=\"_blank\" rel=\"noopener noreferrer\">Decision Optimization CPLEX Modeling for Python documentation</a>\n",
    "* <a href=\"https://dataplatform.cloud.ibm.com/docs/content/getting-started/welcome-main.html?audience=wdp&context=wdp\" target=\"_blank\" rel=\"noopener noreferrer\">Watson Studio documentation</a>\n",
    "* Need help with DOcplex or to report a bug? Go to <a href=\"https://developer.ibm.com/answers/smartspace/docloud\" target=\"_blank\" rel=\"noopener noreferrer\">https://developer.ibm.com/answers/smartspace/docloud</a>\n",
    " Contact us at dofeedback@wwpdl.vnet.ibm.com"
   ]
  },
  {
   "cell_type": "markdown",
   "metadata": {},
   "source": [
    "<hr>\n",
    "Copyright © 2017, 2018. This notebook and its source code are released under the terms of the MIT License."
   ]
  },
  {
   "cell_type": "markdown",
   "metadata": {},
   "source": [
    "<div style=\"background:#F5F7FA; height:110px; padding: 2em; font-size:14px;\">\n",
    "<span style=\"font-size:18px;color:#152935;\">Love this notebook? </span>\n",
    "<span style=\"font-size:15px;color:#152935;float:right;margin-right:40px;\">Don't have an account yet?</span><br>\n",
    "<span style=\"color:#5A6872;\">Share it with your colleagues and help them discover the power of Watson Studio!</span>\n",
    "<span style=\"border: 1px solid #3d70b2;padding:8px;float:right;margin-right:40px; color:#3d70b2;\"><a href=\"https://ibm.co/wsnotebooks\" target=\"_blank\" style=\"color: #3d70b2;text-decoration: none;\">Sign Up</a></span><br>\n",
    "</div>"
   ]
  }
 ],
 "metadata": {
  "kernelspec": {
   "display_name": "Python 3.5",
   "language": "python",
   "name": "python3"
  },
  "language_info": {
   "codemirror_mode": {
    "name": "ipython",
    "version": 3
   },
   "file_extension": ".py",
   "mimetype": "text/x-python",
   "name": "python",
   "nbconvert_exporter": "python",
   "pygments_lexer": "ipython3",
   "version": "3.5.5"
  }
 },
 "nbformat": 4,
 "nbformat_minor": 1
}
