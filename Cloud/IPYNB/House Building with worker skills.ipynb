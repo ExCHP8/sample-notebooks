{
 "cells": [
  {
   "cell_type": "markdown",
   "metadata": {},
   "source": [
    "\n",
    "# House Building with worker skills\n",
    "\n",
    "This tutorial includes everything you need to set up Decision Optimization engines, build constraint programming models.\n",
    "\n",
    "**Table of contents:**\n",
    "\n",
    "-  [Describe the business problem](#Describe-the-business-problem)\n",
    "*  [How Decision Optimization can help](#How-Decision-Optimization-can-help)\n",
    "*  [Use Decision Optimization](#Use-Decision-Optimization)\n",
    "    *  [Step 1: Set up the prescriptive engine](#Step-1:-Set-up-the-prescriptive-engine)\n",
    "    -  [Step 2: Model the Data](#Step-2:-Model-the-data)\n",
    "    -  [Step 3: Set up the prescriptive model](#Step-3:-Set-up-the-prescriptive-model)\n",
    "        * [Define the decision variables](#Define-the-decision-variables)\n",
    "        * [Express the business constraints](#Express-the-business-constraints)\n",
    "        * [Express the objective](#Express-the-objective)\n",
    "        * [Solve the model](#Solve-the-model)\n",
    "    *  [Step 4: Investigate the solution and run an example analysis](#Step-4:-Investigate-the-solution-and-run-an-example-analysis)\n",
    "*  [Summary](#Summary)\n",
    "****"
   ]
  },
  {
   "cell_type": "markdown",
   "metadata": {},
   "source": [
    "### Describe the business problem\n",
    "\n",
    "* This is a problem of building five houses in different locations; the masonry, roofing, painting, etc. must be scheduled. Some tasks must necessarily take place before others and these requirements are expressed through precedence constraints.\n",
    "\n",
    "* There are three workers, and each worker has a given skill level for each task. Each task requires one worker; the worker assigned must have a non-null skill level for the task. A worker can be assigned to only one task at a time.\n",
    "\n",
    "* Each house has a deadline. \n",
    "\n",
    "* The objective is to maximize the skill levels of the workers assigned to the tasks."
   ]
  },
  {
   "cell_type": "markdown",
   "metadata": {},
   "source": [
    "*****\n",
    "## How Decision Optimization can help\n",
    "* Prescriptive analytics (Decision Optimization) technology recommends actions based on desired outcomes, taking into account specific scenarios, resources, and knowledge of past and current events. This insight can help your organization make better decisions and have greater control of business outcomes.  \n",
    "\n",
    "* Prescriptive analytics is the next step on the path to insight-based actions. It creates value through synergy with predictive analytics, which analyzes data to predict future outcomes.  \n",
    "\n",
    "* Prescriptive analytics takes that insight to the next level by suggesting the optimal way to handle that future situation. Organizations that can act fast in dynamic conditions and make superior decisions in uncertain environments gain a strong competitive advantage.  \n",
    "<br/>\n",
    "\n",
    "+ For example:\n",
    "    + Automate complex decisions and trade-offs to better manage limited resources.\n",
    "    + Take advantage of a future opportunity or mitigate a future risk.\n",
    "    + Proactively update recommendations based on changing events.\n",
    "    + Meet operational goals, increase customer loyalty, prevent threats and fraud, and optimize business processes.\n"
   ]
  },
  {
   "cell_type": "markdown",
   "metadata": {},
   "source": [
    "<h2>About Detailed Scheduling concepts</h2>\n",
    "<p>\n",
    "<ul>\n",
    "<li> Scheduling consists of assigning start and completion times to a set of activities while satisfying different types of constraints (resource availability, precedence relationships, … ) and optimizing some criteria (minimizing tardiness, …)\n",
    "<!-- <img src = \"./house_building_utils/activity.png\" > -->\n",
    "<img src = \"https://github.com/IBMDecisionOptimization/docplex-examples/blob/master/examples/cp/jupyter/house_building_utils/activity.PNG?raw=true \" >\n",
    "<li> Time is considered as a continuous dimension: domain of possible start/completion times for an activity is potentially very large\n",
    "<li>Besides start and completion times of activities, other types of decision variables are often involved in real industrial scheduling problems (resource allocation, optional activities …)\n",
    "</ul>"
   ]
  },
  {
   "cell_type": "markdown",
   "metadata": {},
   "source": [
    "## Use Decision Optimization"
   ]
  },
  {
   "cell_type": "markdown",
   "metadata": {},
   "source": [
    "### Step 1: Set up the prescriptive engine"
   ]
  },
  {
   "cell_type": "markdown",
   "metadata": {},
   "source": [
    "For display of the solution, ensure that last version of matplotlib is available:"
   ]
  },
  {
   "cell_type": "code",
   "execution_count": 1,
   "metadata": {},
   "outputs": [],
   "source": [
    "try:\n",
    "   import matplotlib\n",
    "   if matplotlib.__version__ < \"1.4.3\":\n",
    "        !pip install --upgrade matplotlib\n",
    "except:\n",
    "   !pip install --user matplotlib"
   ]
  },
  {
   "cell_type": "markdown",
   "metadata": {},
   "source": [
    "Now, import all required modeling functions that are provided by the Constraint Programming <i>docplex.cp</i> package. "
   ]
  },
  {
   "cell_type": "code",
   "execution_count": 2,
   "metadata": {},
   "outputs": [],
   "source": [
    "from docplex.cp.model import CpoModel\n",
    "from sys import stdout\n",
    "from collections import namedtuple"
   ]
  },
  {
   "cell_type": "markdown",
   "metadata": {},
   "source": [
    "### Step 2: Model the data"
   ]
  },
  {
   "cell_type": "markdown",
   "metadata": {},
   "source": [
    "Planning contains the number of houses and the max amount of periods (<i>days</i>) for our schedule."
   ]
  },
  {
   "cell_type": "code",
   "execution_count": 3,
   "metadata": {},
   "outputs": [],
   "source": [
    "NB_HOUSES = 5\n",
    "MAX_AMOUNT_OF_PERIODS = 318\n",
    "HOUSES = range(1, NB_HOUSES + 1)"
   ]
  },
  {
   "cell_type": "markdown",
   "metadata": {},
   "source": [
    "All tasks must start and end between 0 and the max amount of periods."
   ]
  },
  {
   "cell_type": "code",
   "execution_count": 4,
   "metadata": {},
   "outputs": [],
   "source": [
    "period_domain = (0, MAX_AMOUNT_OF_PERIODS)"
   ]
  },
  {
   "cell_type": "markdown",
   "metadata": {},
   "source": [
    "For each task type in the house building project, the following table shows the duration of the task in days along with the tasks that must be finished before the task can start. A worker can only work on one task at a time; each task, once started, may not be interrupted.\n",
    "<p>\n",
    "\n",
    "| *Task* | *Duration* | *Preceding tasks* |\n",
    "|---|---|---|\n",
    "| masonry \t| 35 |\t|\n",
    "| carpentry | 15 | masonry |\n",
    "| plumbing \t| 40 | masonry |\n",
    "| ceiling \t| 15 | masonry |\n",
    "| roofing \t| 5  | carpentry |\n",
    "| painting \t| 10 | ceiling |\n",
    "| windows \t| 5  | roofing |\n",
    "| facade \t| 10 | roofing, plumbing |\n",
    "| garden \t| 5  | roofing, plumbing |\n",
    "| moving \t| 5  | windows, facade, garden, painting | "
   ]
  },
  {
   "cell_type": "markdown",
   "metadata": {},
   "source": [
    "##### Tasks' durations"
   ]
  },
  {
   "cell_type": "code",
   "execution_count": 5,
   "metadata": {},
   "outputs": [],
   "source": [
    "Task = (namedtuple(\"Task\", [\"name\", \"duration\"]))\n",
    "TASKS = {Task(\"masonry\",   35),\n",
    "         Task(\"carpentry\", 15),\n",
    "         Task(\"plumbing\",  40),\n",
    "         Task(\"ceiling\",   15),\n",
    "         Task(\"roofing\",    5),\n",
    "         Task(\"painting\",  10),\n",
    "         Task(\"windows\",    5),\n",
    "         Task(\"facade\",    10),\n",
    "         Task(\"garden\",     5),\n",
    "         Task(\"moving\",     5)\n",
    "        }"
   ]
  },
  {
   "cell_type": "markdown",
   "metadata": {},
   "source": [
    "##### Task precedences"
   ]
  },
  {
   "cell_type": "code",
   "execution_count": 6,
   "metadata": {},
   "outputs": [],
   "source": [
    "TaskPrecedence = (namedtuple(\"TaskPrecedence\", [\"beforeTask\", \"afterTask\"]))\n",
    "TASK_PRECEDENCES = {TaskPrecedence(\"masonry\",   \"carpentry\"),\n",
    "                    TaskPrecedence(\"masonry\",   \"plumbing\"),\n",
    "                    TaskPrecedence(\"masonry\",   \"ceiling\"),\n",
    "                    TaskPrecedence(\"carpentry\", \"roofing\"),\n",
    "                    TaskPrecedence(\"ceiling\",   \"painting\"),\n",
    "                    TaskPrecedence(\"roofing\",   \"windows\"),\n",
    "                    TaskPrecedence(\"roofing\",   \"facade\"),\n",
    "                    TaskPrecedence(\"plumbing\",  \"facade\"),\n",
    "                    TaskPrecedence(\"roofing\",   \"garden\"),\n",
    "                    TaskPrecedence(\"plumbing\",  \"garden\"),\n",
    "                    TaskPrecedence(\"windows\",   \"moving\"),\n",
    "                    TaskPrecedence(\"facade\",    \"moving\"),\n",
    "                    TaskPrecedence(\"garden\",    \"moving\"),\n",
    "                    TaskPrecedence(\"painting\",  \"moving\")\n",
    "                   }"
   ]
  },
  {
   "cell_type": "markdown",
   "metadata": {},
   "source": [
    "There are three workers with varying skill levels in regard to the ten tasks. If a worker has a skill level of zero for a task, he may not be assigned to the task.\n",
    "<p>\n",
    "\n",
    "| *Task* | *Joe* | *Jack* | *Jim* |\n",
    "|---|---|---|---|\n",
    "|masonry   |9 |\t5 |\t0|\n",
    "|carpentry |7 |\t0 |\t5|\n",
    "|plumbing  |0 |\t7 |\t0|\n",
    "|ceiling   |5 |\t8 |\t0|\n",
    "|roofing   |6 |\t7 |\t0|\n",
    "|painting  |0 |\t9 |\t6|\n",
    "|windows   |8 |\t0 |\t5|\n",
    "|façade    |5 |\t5 |\t0|\n",
    "|garden    |5 |\t5 |\t9|\n",
    "|moving    |6 |\t0 |\t8|"
   ]
  },
  {
   "cell_type": "markdown",
   "metadata": {},
   "source": [
    "##### Workers Names"
   ]
  },
  {
   "cell_type": "code",
   "execution_count": 7,
   "metadata": {},
   "outputs": [],
   "source": [
    "WORKERS = {\"Joe\", \"Jack\", \"Jim\"}"
   ]
  },
  {
   "cell_type": "markdown",
   "metadata": {},
   "source": [
    "##### Workers Name and level for each of there skill"
   ]
  },
  {
   "cell_type": "code",
   "execution_count": 8,
   "metadata": {},
   "outputs": [],
   "source": [
    "Skill = (namedtuple(\"Skill\", [\"worker\", \"task\", \"level\"]))\n",
    "SKILLS = {Skill(\"Joe\",  \"masonry\",   9),\n",
    "          Skill(\"Joe\",  \"carpentry\", 7),\n",
    "          Skill(\"Joe\",  \"ceiling\",   5),\n",
    "          Skill(\"Joe\",  \"roofing\",   6),\n",
    "          Skill(\"Joe\",  \"windows\",   8),\n",
    "          Skill(\"Joe\",  \"facade\",    5),\n",
    "          Skill(\"Joe\",  \"garden\",    5),\n",
    "          Skill(\"Joe\",  \"moving\",    6),\n",
    "          Skill(\"Jack\", \"masonry\",   5),\n",
    "          Skill(\"Jack\", \"plumbing\",  7),\n",
    "          Skill(\"Jack\", \"ceiling\",   8),\n",
    "          Skill(\"Jack\", \"roofing\",   7),\n",
    "          Skill(\"Jack\", \"painting\",  9),\n",
    "          Skill(\"Jack\", \"facade\",    5),\n",
    "          Skill(\"Jack\", \"garden\",    5),\n",
    "          Skill(\"Jim\",  \"carpentry\", 5),\n",
    "          Skill(\"Jim\",  \"painting\",  6),\n",
    "          Skill(\"Jim\",  \"windows\",   5),\n",
    "          Skill(\"Jim\",  \"garden\",    9),\n",
    "          Skill(\"Jim\",  \"moving\",    8)\n",
    "          }"
   ]
  },
  {
   "cell_type": "markdown",
   "metadata": {},
   "source": [
    "##### Utility functions"
   ]
  },
  {
   "cell_type": "markdown",
   "metadata": {},
   "source": [
    "find_tasks: returns the task it refers to in the TASKS vector"
   ]
  },
  {
   "cell_type": "code",
   "execution_count": 9,
   "metadata": {},
   "outputs": [],
   "source": [
    "def find_tasks(name):\n",
    "    return next(t for t in TASKS if t.name == name)"
   ]
  },
  {
   "cell_type": "markdown",
   "metadata": {},
   "source": [
    "find_skills: returns the skill it refers to in the SKILLS vector"
   ]
  },
  {
   "cell_type": "code",
   "execution_count": 10,
   "metadata": {},
   "outputs": [],
   "source": [
    "def find_skills(worker, task):\n",
    "    return next(s for s in SKILLS if (s.worker == worker) and (s.task == task))"
   ]
  },
  {
   "cell_type": "markdown",
   "metadata": {},
   "source": [
    "find_max_level_skill: returns the tuple \"skill\" where the level is themaximum for a given task"
   ]
  },
  {
   "cell_type": "code",
   "execution_count": 11,
   "metadata": {},
   "outputs": [],
   "source": [
    "def find_max_level_skill(task):\n",
    "    st = [s for s in SKILLS if s.task == task]\n",
    "    return next(sk for sk in st if sk.level == max([s.level for s in st]))"
   ]
  },
  {
   "cell_type": "markdown",
   "metadata": {},
   "source": [
    "### Step 3: Set up the prescriptive model"
   ]
  },
  {
   "cell_type": "markdown",
   "metadata": {},
   "source": [
    "<h3>Create the model container</h3>\n",
    "<p>\n",
    "The model is represented by a Python object that is filled with the different model elements (variables, constraints, objective function, etc). The first thing to do is then to create such an object:"
   ]
  },
  {
   "cell_type": "code",
   "execution_count": 12,
   "metadata": {},
   "outputs": [],
   "source": [
    "mdl = CpoModel(name=\"HouseBuilding\")"
   ]
  },
  {
   "cell_type": "markdown",
   "metadata": {},
   "source": [
    "#### Define the decision variables"
   ]
  },
  {
   "cell_type": "markdown",
   "metadata": {},
   "source": [
    "<h5><i><font color=blue>Concept: interval variable</font></i></h5>\n",
    "<p>\n",
    "<ul>\n",
    "<li> What for?<br>\n",
    "<blockquote> Modeling an interval of time during which a particular property holds <br>\n",
    "(an activity executes, a resource is idle, a tank must be non-empty, …)</blockquote> \n",
    "<li> Example:<br>\n",
    "<blockquote><code><font color=green>interval_var(start=(0,1000), end=(0,1000), size=(10,20))</font></code>\n",
    "</blockquote> \n",
    "<!-- <img src = \"./house_building_utils/intervalVar.png\" > -->\n",
    "<img src = \"https://github.com/IBMDecisionOptimization/docplex-examples/blob/master/examples/cp/jupyter/house_building_utils/intervalVar.PNG?raw=true\" >\n",
    "<li>Properties:\n",
    "<ul>\n",
    "<li>The **value** of an interval variable is an integer interval [start,end) \n",
    "<li>**Domain**  of possible values: [0,10), [1,11), [2,12),...[990,1000), [0,11),[1,12),...\n",
    "<li>Domain of interval variables is represented **compactly** in CP Optimizer (a few bounds: smin, smax, emin, emax, szmin, szmax)\n",
    "</ul>\n",
    "</ul>"
   ]
  },
  {
   "cell_type": "markdown",
   "metadata": {},
   "source": [
    "For each house, an interval variable is created for each task.<br>\n",
    "This interval must start and end inside the period_domain and its duration is set as the value stated in TASKS definition."
   ]
  },
  {
   "cell_type": "code",
   "execution_count": 13,
   "metadata": {},
   "outputs": [],
   "source": [
    "tasks = {}   # dict of interval variable for each house and task\n",
    "for house in HOUSES:\n",
    "    for task in TASKS:\n",
    "        tasks[(house, task)] = mdl.interval_var(start=period_domain,\n",
    "                                                end=period_domain,\n",
    "                                                size=task.duration,\n",
    "                                                name=\"house {} task {}\".format(house, task))"
   ]
  },
  {
   "cell_type": "markdown",
   "metadata": {},
   "source": [
    "<h5><i><font color=blue>Concept: optional interval variable</font></i></h5>\n",
    "<p>\n",
    "<ul>\n",
    "<li>Interval variables can be defined as being <strong>optional</strong> that is, it is part of the decisions of the problem to decide whether the interval will be <strong>present</strong> or <strong>absent</strong> in the solution<br><br>\n",
    "<li> What for?<br>\n",
    "<blockquote> Modeling optional activities, alternative execution modes for activities, and … most of the discrete decisions in a schedule</blockquote> \n",
    "<li> Example:<br>\n",
    "<blockquote><code><font color=green>interval_var(</font><font color=red>optional=True</font><font color=green>, start=(0,1000), end=(0,1000), size=(10,20))</font></code>\n",
    "</blockquote> \n",
    "<li>Properties:\n",
    "<ul>\n",
    "<li>An optional interval variable has an additional possible value in its domain (absence value)\n",
    "<li><strong>Optionality</strong> is a powerful property that you must learn to leverage in your models\n",
    "</ul>\n",
    "</ul>"
   ]
  },
  {
   "cell_type": "markdown",
   "metadata": {},
   "source": [
    "For each house, an __optional__ interval variable is created for each skill.<br>\n",
    "Skill being a tuple (worker, task, level), this means that for each house, an __optional__ interval variable is created for each couple worker-task such that the skill level of this worker for this task is > 0.<p>\n",
    "The \"**set_optional()**\" specifier allows a choice between different variables, thus between different couples house-skill.\n",
    "This means that the engine decides if the interval will be present or absent in the solution."
   ]
  },
  {
   "cell_type": "code",
   "execution_count": 14,
   "metadata": {},
   "outputs": [],
   "source": [
    "wtasks = {}  # dict of interval variable for each house and skill\n",
    "for house in HOUSES:\n",
    "    for skill in SKILLS:\n",
    "        iv = mdl.interval_var(name='H' + str(house) + '-' + skill.task + '(' + skill.worker + ')')\n",
    "        iv.set_optional()\n",
    "        wtasks[(house, skill)] = iv"
   ]
  },
  {
   "cell_type": "markdown",
   "metadata": {},
   "source": [
    "#### Express the business constraints"
   ]
  },
  {
   "cell_type": "markdown",
   "metadata": {},
   "source": [
    "<h5>Temporal constraints</h5>"
   ]
  },
  {
   "cell_type": "markdown",
   "metadata": {},
   "source": [
    "<h5><i><font color=blue>Concept: precedence constraint</font></i></h5>\n",
    "<p>\n",
    "<ul>\n",
    "<li> What for?<br>\n",
    "<ul>\n",
    "<li>Modeling temporal constraints between interval variables\n",
    "<li>Modeling constant or variable minimal delays\n",
    "</ul>\n",
    "<li>Properties\n",
    "<blockquote>Semantic of the constraints handles optionality (as for all constraints in CP Optimizer).<br>\n",
    "Example of endBeforeStart:<br>\n",
    "<code><font color=green>end_before_start(a,b,z)</font></code><br>\n",
    "present(a) <font color=red>AND</font> present(b)  &Implies;  end(a)+z &LessSlantEqual; start(b) \n",
    "</blockquote>\n",
    "<ul>"
   ]
  },
  {
   "cell_type": "markdown",
   "metadata": {},
   "source": [
    "The tasks in the model have precedence constraints that are added to the model."
   ]
  },
  {
   "cell_type": "code",
   "execution_count": 15,
   "metadata": {},
   "outputs": [],
   "source": [
    "for h in HOUSES:\n",
    "    for p in TASK_PRECEDENCES:\n",
    "        mdl.add(mdl.end_before_start(tasks[(h, find_tasks(p.beforeTask))], tasks[(h, find_tasks(p.afterTask))]))"
   ]
  },
  {
   "cell_type": "markdown",
   "metadata": {},
   "source": [
    "<h5>Alternative workers</h5>"
   ]
  },
  {
   "cell_type": "markdown",
   "metadata": {},
   "source": [
    "<h5><i><font color=blue>Concept: alternative constraint</font></i></h5>\n",
    "<p>\n",
    "<ul>\n",
    "<li> What for?<br>\n",
    "<ul>\n",
    "<li>Modeling alternative resource/modes/recipes \n",
    "<li>In general modeling a discrete selection in the schedule \n",
    "</ul>\n",
    "<li> Example:<br>\n",
    "<blockquote><code><font color=green>alternative(a,[b1,...,bn])</font></code>\n",
    "</blockquote> \n",
    "<!-- <img src = \"./house_building_utils/alternative.png\" > -->\n",
    "<img src = \"https://github.com/IBMDecisionOptimization/docplex-examples/blob/master/examples/cp/jupyter/house_building_utils/alternative.PNG?raw=true\" >\n",
    "<li>Remark: Master interval variable **a** can of course be optional\n",
    "</ul>"
   ]
  },
  {
   "cell_type": "markdown",
   "metadata": {},
   "source": [
    "To constrain the solution so that exactly one of the interval variables wtasks associated with a given task of a given house is to be present in the solution, an \"**alternative**\" constraint is used."
   ]
  },
  {
   "cell_type": "code",
   "execution_count": 16,
   "metadata": {},
   "outputs": [],
   "source": [
    "for h in HOUSES:\n",
    "    for t in TASKS:\n",
    "        mdl.add(mdl.alternative(tasks[(h, t)], [wtasks[(h, s)] for s in SKILLS if (s.task == t.name)], 1))"
   ]
  },
  {
   "cell_type": "markdown",
   "metadata": {},
   "source": [
    "<h5>No overlap constraint</h5>"
   ]
  },
  {
   "cell_type": "markdown",
   "metadata": {},
   "source": [
    "<h5><i><font color=blue>Concept: No-overlap constraint</font></i></h5>\n",
    "<p>\n",
    "<ul>\n",
    "<li> Constraint noOverlap schedules a group of interval variables in such a way that they do not overlap in time.\n",
    "<li> Absent interval variables are ignored.\n",
    "<li>It is possible to constrain minimum delays between intervals using transition matrix.\n",
    "<li>It is possible to constraint the first, last in the sequence or next or preceding interval\n",
    "</ul>\n",
    "<!-- <img src = \"./house_building_utils/noOverlap.png\" > -->\n",
    "<img src = \"https://github.com/IBMDecisionOptimization/docplex-examples/blob/master/examples/cp/jupyter/house_building_utils/noOverlap.PNG?raw=true\" >"
   ]
  },
  {
   "cell_type": "markdown",
   "metadata": {},
   "source": [
    "To add the constraints that a given worker can be assigned only one task at a given moment in time, a  **noOverlap** constraint is used."
   ]
  },
  {
   "cell_type": "code",
   "execution_count": 17,
   "metadata": {},
   "outputs": [],
   "source": [
    "for w in WORKERS:\n",
    "    mdl.add(mdl.no_overlap([wtasks[(h, s)] for h in HOUSES for s in SKILLS if s.worker == w]))"
   ]
  },
  {
   "cell_type": "markdown",
   "metadata": {},
   "source": [
    "#### Express the objective"
   ]
  },
  {
   "cell_type": "markdown",
   "metadata": {},
   "source": [
    "The presence of an interval variable in tasks in the solution must be accounted for in the objective. Thus for each of these possible tasks, the cost is incremented by the product of the skill level and the expression representing the presence of the interval variable in the solution.<p>\n",
    "The objective of this problem is to maximize the skill level used for all the tasks."
   ]
  },
  {
   "cell_type": "code",
   "execution_count": 18,
   "metadata": {},
   "outputs": [],
   "source": [
    "obj = mdl.sum([s.level * mdl.presence_of(wtasks[(h, s)]) for s in SKILLS for h in HOUSES])\n",
    "mdl.add(mdl.maximize(obj))"
   ]
  },
  {
   "cell_type": "markdown",
   "metadata": {},
   "source": [
    "#### Solve the model\n",
    "The model is now completely defined. It is time to solve it !"
   ]
  },
  {
   "cell_type": "code",
   "execution_count": 19,
   "metadata": {},
   "outputs": [
    {
     "name": "stdout",
     "output_type": "stream",
     "text": [
      "\n",
      "Solving model....\n",
      " ! --------------------------------------------------- CP Optimizer 22.1.1.0 --\n",
      " ! Maximization problem - 153 variables, 123 constraints\n",
      " ! TimeLimit            = 10\n",
      " ! Initial process time : 0.02s (0.02s extraction + 0.00s propagation)\n",
      " !  . Log search space  : 330.1 (before), 330.1 (after)\n",
      " !  . Memory usage      : 894.1 kB (before), 894.1 kB (after)\n",
      " ! Using parallel search with 32 workers.\n",
      " ! ----------------------------------------------------------------------------\n",
      " !          Best Branches  Non-fixed    W       Branch decision\n",
      "                        0        153                 -\n",
      " + New bound is 385\n",
      " ! Using iterative diving.\n",
      " ! Using temporal relaxation.\n",
      "                        0        153    1            -\n",
      " + New bound is 372\n",
      " *           340      221  3.06s        1      (gap is 9.41%)\n",
      " *           341      331  3.06s        1      (gap is 9.09%)\n",
      " *           342      445  3.06s        1      (gap is 8.77%)\n",
      "             342     1000         23    1       170 != startOf(H2-ceiling(Joe))\n",
      "             342     2000         19    1   F          presenceOf(H4-ceiling(Joe))\n",
      " *           344      503  3.06s        2      (gap is 8.14%)\n",
      " *           345      613  3.06s        2      (gap is 7.83%)\n",
      " *           347      723  3.06s        2      (gap is 7.20%)\n",
      "             347     1000         60    2       105  = startOf(H2-carpentry(Joe))\n",
      "             347     2000         30    2             !presenceOf(H5-painting(Jim))\n",
      "             347     1000         40    3        85  = startOf(H4-ceiling(Jack))\n",
      "             347     2000          2    3             !presenceOf(H2-windows(Jim))\n",
      "             347     1000          2    4   F   280  = startOf(H4-facade(Jack))\n",
      "             347     2000          2    4   F          presenceOf(H2-facade(Jack))\n",
      " *           349     2527  3.06s        4      (gap is 6.59%)\n",
      "             349     1000          2    5       285  = startOf(H1-facade(Joe))\n",
      "             349     2000          2    5   F          presenceOf(H1-roofing(Joe))\n",
      "             349     1000          2    6              presenceOf(H4-masonry(Jack))\n",
      " ! Time = 3.06s, Average fail depth = 20, Memory usage = 11.8 MB\n",
      " ! Current bound is 372 (gap is 6.59%)\n",
      " !          Best Branches  Non-fixed    W       Branch decision\n",
      "             349     2000          2    6   F         !presenceOf(H4-roofing(Joe))\n",
      "             349     1000          2    7   F   300  = startOf(H1-moving(Jim))\n",
      "             349     2000          2    7       285 != startOf(H1-roofing(Jack))\n",
      "             349     3000         19    7       290  = startOf(H1-windows(Joe))\n",
      "             349     1000          2    8       255  = startOf(H3-moving(Jim))\n",
      "             349     2000          2    8             !presenceOf(H1-painting(Jim))\n",
      "             349     1000          2    9       290 != startOf(H2-moving(Joe))\n",
      "             349     2000          2    9   F          presenceOf(H1-roofing(Joe))\n",
      "             349     1000          2   10       140  = startOf(H4-masonry(Joe))\n",
      "             349     2000          2   10       280  = startOf(H1-windows(Joe))\n",
      "             349     1000          2   11              presenceOf(H4-moving(Joe))\n",
      "             349     2000          2   11       195 != startOf(H2-roofing(Joe))\n",
      "             349     1000          2   12       210  = startOf(H5-facade(Joe))\n",
      "             349     2000         12   12   F         !presenceOf(H2-roofing(Joe))\n",
      "             349     1000          2   13       175  = startOf(H2-plumbing(Jack))\n",
      "             349     2000          2   13   F          presenceOf(H3-ceiling(Joe))\n",
      "             349     1000          5   14       120  = startOf(H1-ceiling(Joe))\n",
      "             349     2000          2   14              presenceOf(H4-carpentry(Jim))\n",
      "             349     1000         36   15        70  = startOf(H2-masonry(Joe))\n",
      " *           350     1922  3.09s       15      (gap is 6.29%)\n",
      " ! Time = 3.09s, Average fail depth = 26, Memory usage = 21.7 MB\n",
      " ! Current bound is 372 (gap is 6.29%)\n",
      " !          Best Branches  Non-fixed    W       Branch decision\n",
      "             350     2000          2   15       150  = startOf(H5-plumbing(Jack))\n",
      "             350     1000         62   16              presenceOf(H5-windows(Jim))\n",
      "             350     2000          2   16   F          presenceOf(H2-ceiling(Jack))\n",
      "             350     1000          2   17       270 != startOf(H2-roofing(Jack))\n",
      "             350     2000          2   17             !presenceOf(H4-masonry(Jack))\n",
      " *           351     2086  3.09s       17      (gap is 5.98%)\n",
      "             351     1000         52   18             !presenceOf(H2-roofing(Joe))\n",
      "             351     1000         16   19       230  = startOf(H3-plumbing(Jack))\n",
      "             351     2000          2   19       290 != startOf(H4-painting(Jack))\n",
      "             351     1000          2   20       135  = startOf(H2-painting(Jim))\n",
      "             351     1000          2   21       135  = startOf(H1-ceiling(Joe))\n",
      "             351     2000          2   21   F         !presenceOf(H2-garden(Jim))\n",
      "             351     1000          2   22              presenceOf(H3-roofing(Jack))\n",
      "             351     2000          2   22   F   300  = startOf(H3-moving(Jim))\n",
      "             351     1000          2   23   F         !presenceOf(H2-roofing(Joe))\n",
      "             351     2000          2   23              presenceOf(H4-masonry(Joe))\n",
      "             351     1000          2   24       280  = startOf(H4-moving(Jim))\n",
      "             351     2000          2   24   F          presenceOf(H2-windows(Jim))\n",
      "             351     3000         47    1   F         !presenceOf(H5-roofing(Jack))\n",
      "             351     4000         38    1   F          presenceOf(H5-facade(Jack))\n",
      " ! Time = 5.04s, Average fail depth = 20, Memory usage = 32.9 MB\n",
      " ! Current bound is 372 (gap is 5.98%)\n",
      " !          Best Branches  Non-fixed    W       Branch decision\n",
      "             351     3000         40    2             !presenceOf(H5-ceiling(Joe))\n",
      "             351     4000         51    2   F          presenceOf(H1-facade(Jack))\n",
      "             351     3000         45    3       150  = startOf(H4-facade(Jack))\n",
      "             351     4000         21    3   F   293  = startOf(H5-facade(Joe))\n",
      "             351     3000          2    4       285  = startOf(H2-roofing(Jack))\n",
      "             351     4000         58    4   F          presenceOf(H3-painting(Jim))\n",
      "             351     3000         17    5              presenceOf(H1-ceiling(Joe))\n",
      "             351     4000          2    5   F   310  = startOf(H4-moving(Jim))\n",
      "             351     4000         19    7   F   290  = startOf(H4-facade(Jack))\n",
      "             351     5000         19    7   F         !presenceOf(H4-facade(Joe))\n",
      "             351     6000         21    7       175  = startOf(H3-windows(Joe))\n",
      "             351     7000         19    7             !presenceOf(H4-facade(Jack))\n",
      "             351     3000         47    8       140  = startOf(H2-plumbing(Jack))\n",
      "             351     4000         44    8   F         !presenceOf(H5-painting(Jim))\n",
      "             351     3000         41    9        50  = startOf(H4-carpentry(Jim))\n",
      "             351     4000         39    9   F          presenceOf(H2-facade(Jack))\n",
      "             351     3000         41   10   F          presenceOf(H3-facade(Joe))\n",
      "             351     3000         51   12       150  = startOf(H4-roofing(Joe))\n",
      "             351     4000         47   12   F          presenceOf(H3-moving(Joe))\n",
      "             351     3000          2   14       270 != startOf(H2-roofing(Jack))\n",
      " ! Time = 5.04s, Average fail depth = 20, Memory usage = 32.8 MB\n",
      " ! Current bound is 372 (gap is 5.98%)\n",
      " !          Best Branches  Non-fixed    W       Branch decision\n",
      "             351     3000         35   16       260 != startOf(H3-facade(Joe))\n",
      "             351     4000          2   16              presenceOf(H4-windows(Jim))\n",
      "             351     3000         58   17       285  = startOf(H2-roofing(Jack))\n",
      "             351     4000         58   17       155  = startOf(H1-painting(Jack))\n",
      "             351     2000         47   18             !presenceOf(H5-facade(Jack))\n",
      "             351     3000          2   18   F         !presenceOf(H3-ceiling(Jack))\n",
      "             351     3000         21   19       295 != startOf(H2-windows(Joe))\n",
      "             351     4000          2   19   F   310  = startOf(H5-moving(Jim))\n",
      "             351     2000          5   20   F          presenceOf(H2-painting(Jim))\n",
      "             351     3000          2   22   F         !presenceOf(H1-roofing(Jack))\n",
      "             351     4000          2   22              presenceOf(H3-painting(Jim))\n",
      "             351     3000         58   23   F          presenceOf(H1-ceiling(Joe))\n",
      "             351     4000         58   23       290 != startOf(H5-roofing(Jack))\n",
      "             351     3000         58   24   F         !presenceOf(H2-painting(Jim))\n",
      "             351     4000         47   24   F         !presenceOf(H3-garden(Jim))\n",
      "             351     5000         23    5   F          presenceOf(H5-painting(Jim))\n",
      "             351     3000          2    6   F          presenceOf(H4-ceiling(Jack))\n",
      "             351     4000         47    6   F         !presenceOf(H1-roofing(Jack))\n",
      "             351     4000          2   10             !presenceOf(H4-painting(Jim))\n",
      "             351     3000          2   11             !presenceOf(H4-painting(Jim))\n",
      " ! Time = 5.04s, Average fail depth = 22, Memory usage = 32.9 MB\n",
      " ! Current bound is 372 (gap is 5.98%)\n",
      " !          Best Branches  Non-fixed    W       Branch decision\n",
      "             351     4000         58   11       170  = startOf(H4-roofing(Joe))\n",
      "             351     3000          2   13   F         !presenceOf(H2-roofing(Jack))\n",
      "             351     4000         21   13       155  = startOf(H1-ceiling(Joe))\n",
      "             351     5000          2   13   F   305  = startOf(H5-moving(Jim))\n",
      "             351     4000          2   14             !presenceOf(H3-painting(Jim))\n",
      " *           355     2746  5.04s       15      (gap is 4.79%)\n",
      "             355     3000          2   15   F          presenceOf(H4-painting(Jack))\n",
      "             355     4000        103   15   F          presenceOf(H3-roofing(Jack))\n",
      "             355     5000        103   15             !presenceOf(H2-painting(Jack))\n",
      "             355     5000          2   16       285  = startOf(H1-facade(Joe))\n",
      "             355     4000         51   18   F         !presenceOf(H3-ceiling(Joe))\n",
      "             355     5000         19   19       295 != startOf(H4-garden(Jim))\n",
      "             355     6000         19   19       275 != startOf(H3-facade(Joe))\n",
      "             355     3000          5   20   F          presenceOf(H2-painting(Jim))\n",
      "             355     3000          2   21       165 != startOf(H1-roofing(Joe))\n",
      "             355     4000         47   21       160  = startOf(H3-roofing(Joe))\n",
      " *           360     4045  5.04s       22      (gap is 3.33%)\n",
      "             360     5000         34    1       170  = startOf(H5-plumbing(Jack))\n",
      "             360     6000         34    1       285 != startOf(H2-windows(Joe))\n",
      "             360     7000         36    1       205  = startOf(H2-roofing(Joe))\n",
      " ! Time = 7.00s, Average fail depth = 25, Memory usage = 33.6 MB\n",
      " ! Current bound is 372 (gap is 3.33%)\n",
      " !          Best Branches  Non-fixed    W       Branch decision\n",
      "             360     5000         47    2       255 != startOf(H2-plumbing(Jack))\n",
      "             360     6000         59    2       140  = startOf(H3-roofing(Joe))\n",
      "             360     5000         58    4   F          presenceOf(H1-windows(Jim))\n",
      "             360     6000          2    4   F   310  = startOf(H2-moving(Jim))\n",
      "             360     6000         58    5   F          presenceOf(H1-ceiling(Jack))\n",
      "             360     5000         49    6       165 != startOf(H5-roofing(Joe))\n",
      "             360     6000         58    6       280 != startOf(H4-roofing(Jack))\n",
      "             360     8000         19    7       245 != startOf(H2-garden(Jim))\n",
      "             360     9000         56    7       165 != startOf(H3-roofing(Joe))\n",
      "             360     5000          2    8   F         !presenceOf(H1-windows(Joe))\n",
      "             360     5000          2    9   F          presenceOf(H4-roofing(Joe))\n",
      "             360     6000         62    9              presenceOf(H3-moving(Joe))\n",
      "             360     5000         47   10   F         !presenceOf(H4-garden(Jim))\n",
      "             360     6000         47   10             !presenceOf(H4-painting(Jim))\n",
      "             360     5000         34   11             !presenceOf(H4-facade(Jack))\n",
      "             360     6000         36   11   F          presenceOf(H2-painting(Jim))\n",
      "             360     7000         17   11       205  = startOf(H3-garden(Jim))\n",
      "             360     5000          2   12   F         !presenceOf(H1-painting(Jim))\n",
      "             360     6000         58   12   F          presenceOf(H3-painting(Jim))\n",
      "             360     6000          2   13   F         !presenceOf(H5-painting(Jim))\n",
      " ! Time = 7.00s, Average fail depth = 25, Memory usage = 33.6 MB\n",
      " ! Current bound is 372 (gap is 3.33%)\n",
      " !          Best Branches  Non-fixed    W       Branch decision\n",
      "             360     7000         48   13       130  = startOf(H3-roofing(Joe))\n",
      "             360     5000         58   14       195  = startOf(H5-plumbing(Jack))\n",
      "             360     6000         57   14   F         !presenceOf(H4-roofing(Joe))\n",
      "             360     6000        103   15   F          presenceOf(H1-painting(Jack))\n",
      "             360     7000        103   15   F         !presenceOf(H4-windows(Joe))\n",
      "             360     6000          2   16             !presenceOf(H4-moving(Joe))\n",
      "             360     7000         25   16       280 != startOf(H5-windows(Joe))\n",
      "             360     8000         23   16       265 != startOf(H5-facade(Joe))\n",
      "             360     5000         53   17       160  = startOf(H4-roofing(Joe))\n",
      "             360     5000         40   18              presenceOf(H2-ceiling(Joe))\n",
      "             360     6000         58   18             !presenceOf(H5-ceiling(Joe))\n",
      "             360     7000         23   19       185  = startOf(H3-roofing(Joe))\n",
      "             360     8000          2   19   F          presenceOf(H2-facade(Joe))\n",
      "             360     4000         58   20   F         !presenceOf(H5-roofing(Joe))\n",
      "             360     5000         54   20             !presenceOf(H2-garden(Jim))\n",
      "             360     6000         40   20   F          presenceOf(H5-painting(Jim))\n",
      "             360     5000         63   21              presenceOf(H4-roofing(Jack))\n",
      "             360     5000         53   22       120  = startOf(H1-roofing(Joe))\n",
      "             360     5000         58   23             !presenceOf(H3-windows(Joe))\n",
      "             360     6000        103   23   F          presenceOf(H5-ceiling(Jack))\n",
      " ! Time = 7.00s, Average fail depth = 25, Memory usage = 33.6 MB\n",
      " ! Current bound is 372 (gap is 3.33%)\n",
      " !          Best Branches  Non-fixed    W       Branch decision\n",
      "             360     5000         32   24   F          presenceOf(H3-garden(Jack))\n",
      "             360     6000         32   24   F         !presenceOf(H2-roofing(Joe))\n",
      "             360     5000          2    3   F          presenceOf(H2-windows(Jim))\n",
      "             360     7000          2    5   F         !presenceOf(H1-roofing(Joe))\n",
      "             360     6000         41    8   F          presenceOf(H4-roofing(Jack))\n",
      "             360     7000          2    8   F          presenceOf(H1-painting(Jim))\n",
      "             360     6000          2   21              presenceOf(H2-facade(Joe))\n",
      "             360     7000         66   21       180  = startOf(H1-roofing(Joe))\n",
      "             360     8000         44    1       165  = startOf(H3-plumbing(Jack))\n",
      "             360     9000         29    1       205 != startOf(H2-facade(Joe))\n",
      "             360     7000         51    2         0  = startOf(H5-masonry(Joe))\n",
      "             360     6000         52    3   F          presenceOf(H2-windows(Jim))\n",
      "             360     7000         52    3              presenceOf(H4-ceiling(Jack))\n",
      "             360     7000          2    4       155 != startOf(H5-ceiling(Joe))\n",
      "             360     8000         58    4   F          presenceOf(H4-roofing(Jack))\n",
      "             360     8000          2    5   F   310  = startOf(H4-moving(Jim))\n",
      "             360     7000         41    6             !presenceOf(H1-masonry(Jack))\n",
      "             360     8000         43    6   F         !presenceOf(H4-painting(Jim))\n",
      "             360    10000         59    7   F          presenceOf(H5-painting(Jim))\n",
      "             360    11000         55    7       190 != startOf(H5-plumbing(Jack))\n",
      " ! Time = 8.86s, Average fail depth = 26, Memory usage = 33.8 MB\n",
      " ! Current bound is 372 (gap is 3.33%)\n",
      " !          Best Branches  Non-fixed    W       Branch decision\n",
      "             360    12000         52    7   F         !presenceOf(H3-painting(Jim))\n",
      "             360     8000         59    8       175  = startOf(H3-painting(Jim))\n",
      "             360     9000         55    8             !presenceOf(H2-ceiling(Joe))\n",
      "             360     7000         52    9   F          presenceOf(H4-garden(Jack))\n",
      "             360     8000         38    9   F          presenceOf(H5-facade(Jack))\n",
      "             360     7000         47   10   F          presenceOf(H5-painting(Jim))\n",
      "             360     8000         39   10   F   290  = startOf(H3-painting(Jack))\n",
      "             360     9000         10   10       300 != startOf(H4-garden(Jim))\n",
      "             360     8000         22   11       270  = startOf(H1-painting(Jack))\n",
      "             360     9000         25   11   F          presenceOf(H3-roofing(Joe))\n",
      "             360    10000         64   11   F         !presenceOf(H3-carpentry(Joe))\n",
      "             360     7000         58   12       155  = startOf(H5-roofing(Joe))\n",
      "             360     8000         57   13             !presenceOf(H4-ceiling(Jack))\n",
      "             360     9000         66   13       240  = startOf(H3-carpentry(Joe))\n",
      "             360     7000         49   14   F          presenceOf(H2-ceiling(Joe))\n",
      "             360     8000          2   14        70  = startOf(H2-masonry(Joe))\n",
      "             360     9000          2   14        85  = startOf(H1-carpentry(Jim))\n",
      "             360     8000        103   15              presenceOf(H3-roofing(Joe))\n",
      "             360     9000         59   15   F         !presenceOf(H5-masonry(Joe))\n",
      "             360     9000         23   16              presenceOf(H3-carpentry(Joe))\n",
      " ! Time = 8.88s, Average fail depth = 26, Memory usage = 33.8 MB\n",
      " ! Current bound is 372 (gap is 3.33%)\n",
      " !          Best Branches  Non-fixed    W       Branch decision\n",
      "             360    10000        103   16   F          presenceOf(H4-ceiling(Jack))\n",
      "             360    11000        104   16   F          presenceOf(H4-ceiling(Jack))\n",
      "             360     6000         70   17             !presenceOf(H3-carpentry(Jim))\n",
      "             360     7000         69   17              presenceOf(H2-roofing(Jack))\n",
      "             360     8000         37   17   F          presenceOf(H2-masonry(Jack))\n",
      "             360     7000         58   18   F         !presenceOf(H4-painting(Jim))\n",
      "             360     8000         58   18   F          presenceOf(H3-ceiling(Jack))\n",
      "             360     9000          2   19   F          presenceOf(H4-ceiling(Joe))\n",
      "             360    10000          2   19       220 != startOf(H5-plumbing(Jack))\n",
      "             360     7000         58   20   F          presenceOf(H5-roofing(Jack))\n",
      "             360     8000         58   20       275 != startOf(H5-roofing(Jack))\n",
      "             360     8000         58   21   F          presenceOf(H2-painting(Jim))\n",
      "             360     9000         42   21       290 != startOf(H3-painting(Jack))\n",
      "             360     6000         61   22   F          presenceOf(H4-ceiling(Joe))\n",
      "             360     7000         57   22       135 != startOf(H2-roofing(Joe))\n",
      "             360     7000         58   23       170  = startOf(H1-garden(Jim))\n",
      "             360     8000         58   23       270  = startOf(H1-roofing(Jack))\n",
      "             360     7000         38   24       150 != startOf(H1-roofing(Joe))\n",
      "             360     8000         47   24             !presenceOf(H4-roofing(Joe))\n",
      "             360     8000          2    2         0  = startOf(H5-masonry(Jack))\n",
      " ! Time = 8.88s, Average fail depth = 27, Memory usage = 34.0 MB\n",
      " ! Current bound is 372 (gap is 3.33%)\n",
      " !          Best Branches  Non-fixed    W       Branch decision\n",
      "             360     9000          2    5             !presenceOf(H5-windows(Jim))\n",
      "             360     8000          2   12   F         !presenceOf(H3-ceiling(Jack))\n",
      "             360    11000          2   19   F          presenceOf(H2-facade(Joe))\n",
      "             360    10000         29    1       215  = startOf(H2-moving(Jim))\n",
      " ! ----------------------------------------------------------------------------\n",
      " ! Search terminated by limit, 11 solutions found.\n",
      " ! Best objective         : 360 (gap is 3.33%)\n",
      " ! Best bound             : 372\n",
      " ! ----------------------------------------------------------------------------\n",
      " ! Number of branches     : 603674\n",
      " ! Number of fails        : 112650\n",
      " ! Total memory usage     : 29.6 MB (29.5 MB CP Optimizer + 0.1 MB Concert)\n",
      " ! Time spent in solve    : 10.25s (10.24s engine + 0.02s extraction)\n",
      " ! Search speed (br. / s) : 58952.5\n",
      " ! ----------------------------------------------------------------------------\n"
     ]
    }
   ],
   "source": [
    "# Solve the model\n",
    "print(\"\\nSolving model....\")\n",
    "msol = mdl.solve(TimeLimit=10)"
   ]
  },
  {
   "cell_type": "markdown",
   "metadata": {},
   "source": [
    "### Step 4: Investigate the solution and run an example analysis"
   ]
  },
  {
   "cell_type": "code",
   "execution_count": 20,
   "metadata": {},
   "outputs": [
    {
     "name": "stdout",
     "output_type": "stream",
     "text": [
      "Solve status: Feasible\n",
      "Solve time: 10.25\n",
      "\n",
      "List of tasks in increasing start order:\n",
      "From 0 to 35, masonry in house 1\n",
      "From 0 to 35, masonry in house 2\n",
      "From 35 to 50, ceiling in house 1\n",
      "From 35 to 50, carpentry in house 2\n",
      "From 35 to 70, masonry in house 3\n",
      "From 50 to 60, painting in house 1\n",
      "From 50 to 65, ceiling in house 2\n",
      "From 65 to 75, painting in house 2\n",
      "From 65 to 105, plumbing in house 2\n",
      "From 70 to 105, masonry in house 5\n",
      "From 105 to 120, ceiling in house 3\n",
      "From 105 to 140, masonry in house 4\n",
      "From 120 to 160, plumbing in house 1\n",
      "From 120 to 130, painting in house 3\n",
      "From 140 to 155, ceiling in house 5\n",
      "From 155 to 170, carpentry in house 3\n",
      "From 155 to 165, painting in house 5\n",
      "From 160 to 200, plumbing in house 5\n",
      "From 170 to 185, carpentry in house 1\n",
      "From 185 to 200, ceiling in house 4\n",
      "From 200 to 240, plumbing in house 3\n",
      "From 200 to 215, carpentry in house 5\n",
      "From 215 to 230, carpentry in house 4\n",
      "From 230 to 235, roofing in house 5\n",
      "From 235 to 240, windows in house 5\n",
      "From 235 to 240, garden in house 5\n",
      "From 240 to 245, roofing in house 3\n",
      "From 243 to 253, facade in house 5\n",
      "From 245 to 250, roofing in house 2\n",
      "From 245 to 250, garden in house 3\n",
      "From 250 to 255, garden in house 2\n",
      "From 250 to 255, roofing in house 4\n",
      "From 253 to 258, windows in house 3\n",
      "From 255 to 260, roofing in house 1\n",
      "From 258 to 263, windows in house 4\n",
      "From 260 to 265, garden in house 1\n",
      "From 260 to 300, plumbing in house 4\n",
      "From 263 to 268, windows in house 2\n",
      "From 268 to 273, windows in house 1\n",
      "From 273 to 283, facade in house 3\n",
      "From 283 to 293, facade in house 2\n",
      "From 283 to 288, moving in house 3\n",
      "From 288 to 293, moving in house 5\n",
      "From 293 to 303, facade in house 1\n",
      "From 293 to 298, moving in house 2\n",
      "From 300 to 310, painting in house 4\n",
      "From 300 to 305, garden in house 4\n",
      "From 303 to 313, facade in house 4\n",
      "From 305 to 310, moving in house 1\n",
      "From 313 to 318, moving in house 4\n"
     ]
    }
   ],
   "source": [
    "print(\"Solve status: \" + msol.get_solve_status())\n",
    "if msol.is_solution():\n",
    "    stdout.write(\"Solve time: \" + str(msol.get_solve_time()) + \"\\n\")\n",
    "    # Sort tasks in increasing begin order\n",
    "    ltasks = []\n",
    "    for hs in HOUSES:\n",
    "        for tsk in TASKS:\n",
    "            (beg, end, dur) = msol[tasks[(hs, tsk)]]\n",
    "            ltasks.append((hs, tsk, beg, end, dur))\n",
    "    ltasks = sorted(ltasks, key = lambda x : x[2])\n",
    "    # Print solution\n",
    "    print(\"\\nList of tasks in increasing start order:\")\n",
    "    for tsk in ltasks:\n",
    "        print(\"From \" + str(tsk[2]) + \" to \" + str(tsk[3]) + \", \" + tsk[1].name + \" in house \" + str(tsk[0]))\n",
    "else:\n",
    "    stdout.write(\"No solution found\\n\")"
   ]
  },
  {
   "cell_type": "markdown",
   "metadata": {},
   "source": [
    "#### Import graphical tools"
   ]
  },
  {
   "cell_type": "markdown",
   "metadata": {},
   "source": [
    "*You can set __POP\\_UP\\_GRAPHIC=True__ if you prefer a pop up graphic window instead of an inline one.*"
   ]
  },
  {
   "cell_type": "code",
   "execution_count": 21,
   "metadata": {},
   "outputs": [],
   "source": [
    "POP_UP_GRAPHIC=False"
   ]
  },
  {
   "cell_type": "code",
   "execution_count": 22,
   "metadata": {},
   "outputs": [],
   "source": [
    "import docplex.cp.utils_visu as visu\n",
    "import matplotlib.pyplot as plt\n",
    "if not POP_UP_GRAPHIC:\n",
    "    %matplotlib inline\n",
    "#Change the plot size\n",
    "from pylab import rcParams\n",
    "rcParams['figure.figsize'] = 15, 3"
   ]
  },
  {
   "cell_type": "markdown",
   "metadata": {},
   "source": [
    "#### Draw solution"
   ]
  },
  {
   "cell_type": "markdown",
   "metadata": {},
   "source": [
    "#### Useful functions "
   ]
  },
  {
   "cell_type": "markdown",
   "metadata": {},
   "source": [
    "To facilitate the display of tasks names, keep only the first n characters."
   ]
  },
  {
   "cell_type": "code",
   "execution_count": 23,
   "metadata": {},
   "outputs": [],
   "source": [
    "def compact_name(name,n): return name[:n]"
   ]
  },
  {
   "cell_type": "code",
   "execution_count": 24,
   "metadata": {},
   "outputs": [
    {
     "data": {
      "image/png": "[encoded data removed]",
      "text/plain": [
       "<Figure size 1500x300 with 1 Axes>"
      ]
     },
     "metadata": {},
     "output_type": "display_data"
    }
   ],
   "source": [
    "if msol and visu.is_visu_enabled():\n",
    "    workers_colors = {}\n",
    "    workers_colors[\"Joe\"] = 'lightblue'\n",
    "    workers_colors[\"Jack\"] = 'violet'\n",
    "    workers_colors[\"Jim\"] = 'lightgreen'\n",
    "    visu.timeline('Solution per houses', 0, MAX_AMOUNT_OF_PERIODS)\n",
    "    for h in HOUSES:\n",
    "        visu.sequence(name=\"house \" + str(h))\n",
    "        for s in SKILLS:\n",
    "            wt = msol.get_var_solution(wtasks[(h,s)])\n",
    "            if wt.is_present():\n",
    "                color = workers_colors[s.worker]\n",
    "                wtname = compact_name(s.task,2)\n",
    "                visu.interval(wt, color, wtname)\n",
    "    visu.show()"
   ]
  },
  {
   "cell_type": "markdown",
   "metadata": {},
   "source": [
    "The purpose of this function is to compact the names of the different tasks to make the graphical display more readable. </p>\n",
    "For example \"H3-garden\" becomes \"G3\""
   ]
  },
  {
   "cell_type": "code",
   "execution_count": 25,
   "metadata": {},
   "outputs": [],
   "source": [
    "def compact_house_task(name):\n",
    "    loc, task = name[1:].split('-', 1)\n",
    "    return task[0].upper() + loc"
   ]
  },
  {
   "cell_type": "markdown",
   "metadata": {},
   "source": [
    "A green color is used in the display when the task is using the most skilled worker. A red color is used in the display when the task does not use the most skilled worker."
   ]
  },
  {
   "cell_type": "code",
   "execution_count": 26,
   "metadata": {},
   "outputs": [
    {
     "data": {
      "image/png": "[encoded data removed]",
      "text/plain": [
       "<Figure size 1500x300 with 1 Axes>"
      ]
     },
     "metadata": {},
     "output_type": "display_data"
    }
   ],
   "source": [
    "if msol and visu.is_visu_enabled():\n",
    "    visu.timeline('Solution per workers', 0, MAX_AMOUNT_OF_PERIODS)\n",
    "    for w in WORKERS:\n",
    "        visu.sequence(name=w)\n",
    "        for h in HOUSES:\n",
    "            for s in SKILLS:\n",
    "                if s.worker == w:\n",
    "                    wt = msol.get_var_solution(wtasks[(h,s)])\n",
    "                    if wt.is_present():\n",
    "                        ml = find_max_level_skill(s.task).level\n",
    "                        if s.level == ml:\n",
    "                            color = 'lightgreen'\n",
    "                        else:\n",
    "                            color = 'salmon'\n",
    "                        wtname = compact_house_task(wt.get_name())\n",
    "                        visu.interval(wt, color, wtname)\n",
    "    visu.show()"
   ]
  },
  {
   "cell_type": "markdown",
   "metadata": {},
   "source": [
    "<h4>Going further with Constraint Programming</h4>\n",
    "\n",
    "The last available installable package is available on Pypi here: <a href=\"https://pypi.python.org/pypi/docplex\" target=\"_blank\" rel=\"noopener noreferrer\">https://pypi.python.org/pypi/docplex</a>\n",
    "\n",
    "A complete set of modeling examples can be downloaded here: <a href=\"https://github.com/IBMDecisionOptimization/docplex-examples\" target=\"_blank\" rel=\"noopener noreferrer\">https://github.com/IBMDecisionOptimization/docplex-examples</a>  "
   ]
  },
  {
   "cell_type": "markdown",
   "metadata": {},
   "source": [
    "## Summary\n",
    "\n",
    "You have learned how to set up and use the IBM Decision Optimization CPLEX Modeling for Python to build and solve a Constraint Programming model."
   ]
  },
  {
   "cell_type": "markdown",
   "metadata": {},
   "source": [
    "#### References\n",
    "* <a href=\"https://rawgit.com/IBMDecisionOptimization/docplex-doc/master/docs/index.html\" target=\"_blank\" rel=\"noopener noreferrer\">Decision Optimization CPLEX Modeling for Python documentation</a>\n",
    "* <a href=\"https://dataplatform.cloud.ibm.com/docs/content/wsj/getting-started/welcome-main.html?context=cpdaas\" target=\"_blank\" rel=\"noopener noreferrer\">IBM Cloud Pak for Data as a Service documentation</a>\n",
    "* <a href=\"https://dataplatform.cloud.ibm.com/docs/content/wsj/getting-started/welcome-main.html?context=wx\" target=\"_blank\" rel=\"noopener noreferrer\">IBM watsonx.ai documentation</a>\n"
   ]
  },
  {
   "cell_type": "markdown",
   "metadata": {},
   "source": [
    "<hr>\n",
    "Copyright © 2017-2024. This notebook and its source code are released under the terms of the MIT License."
   ]
  }
 ],
 "metadata": {
  "kernelspec": {
   "display_name": "Python 3.10",
   "language": "python",
   "name": "python3"
  },
  "language_info": {
   "codemirror_mode": {
    "name": "ipython",
    "version": 3
   },
   "file_extension": ".py",
   "mimetype": "text/x-python",
   "name": "python",
   "nbconvert_exporter": "python",
   "pygments_lexer": "ipython3",
   "version": "3.10.13"
  }
 },
 "nbformat": 4,
 "nbformat_minor": 1
}
