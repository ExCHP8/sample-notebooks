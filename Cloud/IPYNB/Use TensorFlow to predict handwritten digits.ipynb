{
 "cells": [
  {
   "cell_type": "markdown",
   "metadata": {},
   "source": [
    "<table style=\"border: none\" align=\"left\">\n",
    "   <tr style=\"border: none\">\n",
    "      <th style=\"border: none\"><font face=\"verdana\" size=\"4\" color=\"black\"><b>Use TensorFlow to predict handwritten digits</b></font></font></th>\n",
    "      <th style=\"border: none\"><img src=\"https://github.com/pmservice/customer-satisfaction-prediction/blob/master/app/static/images/ml_icon_gray.png?raw=true\" alt=\"Watson Machine Learning icon\" height=\"40\" width=\"40\"></th>\n",
    "   </tr> \n",
    "   <tr style=\"border: none\">\n",
    "       <td style=\"border: none\"><img src=\"https://github.com/pmservice/wml-sample-models/raw/master/scikit-learn/hand-written-digits-recognition/images/numbers_banner-04.png\" width=\"600\" alt=\"Icon\"></td>\n",
    "   </tr>\n",
    "</table>"
   ]
  },
  {
   "cell_type": "markdown",
   "metadata": {},
   "source": [
    "This notebook contains steps and code to demonstrate Deep Learning model training and scoring in the Watson Machine Learning service. This notebook introduces commands for getting data, training_definition persistance to Watson Machine Learning repository, model training, deployment and scoring.\n",
    "\n",
    "Some familiarity with Python is helpful. This notebook uses Python 3.6 and <a href=\"https://dataplatform.cloud.ibm.com/docs/content/analyze-data/environments-parent.html\" target=\"_blank\" rel=\"noopener no referrer\">Watson Studio environments.</a>\n",
    "\n",
    "\n",
    "## Learning goals\n",
    "\n",
    "In this notebook, you will learn how to:\n",
    "\n",
    "-  Work with Watson Machine Learning experiments to train Deep Learning models (Tensorflow)\n",
    "-  Save trained models in the Watson Machine Learning repository\n",
    "-  Deploy a trained model online and score\n",
    "\n",
    "\n",
    "## Contents\n",
    "\n",
    "1.\t[Set up](#setup)\n",
    "2.\t[Create the training definitions](#model)\n",
    "3.  [Train the model](#train)\n",
    "3.\t[Save the model](#save)\n",
    "4.\t[Create the online deployment](#deploy)\n",
    "5.\t[Score data](#score)\n",
    "6.\t[Summary and next steps](#summary)"
   ]
  },
  {
   "cell_type": "markdown",
   "metadata": {},
   "source": [
    "<a id=\"setup\"></a>\n",
    "## 1. Set up\n",
    "\n",
    "Before you use the sample code in this notebook, you must perform the following setup tasks:\n",
    "\n",
    "-  Create a <a href=\"https://cloud.ibm.com/catalog/services/machine-learning\" target=\"_blank\" rel=\"noopener no referrer\">Watson Machine Learning (WML) Service</a> instance (a free plan is offered and information about how to create the instance is <a href=\"https://dataplatform.ibm.com/docs/content/analyze-data/wml-setup.html\" target=\"_blank\" rel=\"noopener no referrer\">here</a>).\n",
    "-  Create a <a href=\"https://cloud.ibm.com/catalog/services/cloud-object-storage\" target=\"_blank\" rel=\"noopener no referrer\">Cloud Object Storage (COS)</a> instance (a lite plan is offered and information about COS is <a href=\"https://dataplatform.cloud.ibm.com/docs/content/wsj/analyze-data/ml_dlaas_object_store.html?audience=wdp\" target=\"_blank\" rel=\"noopener no referrer\">here</a>). <br/>**Note: When using Watson Studio, you already have a COS instance associated with the project you are running the notebook in.**\n",
    "- Create new credentials with HMAC: \n",
    "    - Go to your COS dashboard.\n",
    "    - In the **Service credentials** tab, click **New Credential+**.\n",
    "    - Add the inline configuration parameter: {\"HMAC\":true}, click **Add**. (For more information, see <a href=\"https://dataplatform.cloud.ibm.com/docs/content/wsj/analyze-data/ml_dlaas_object_store.html#createcredentials\" target=\"_blank\" rel=\"noopener no referrer\">HMAC</a>.)\n",
    "\n",
    "    This configuration parameter adds the following section to the instance credentials, (for use later in this notebook):\n",
    "    ```\n",
    "      \"cos_hmac_keys\": {\n",
    "            \"access_key_id\": \"-------\",\n",
    "            \"secret_access_key\": \"-------\"\n",
    "       }\n",
    "    ```"
   ]
  },
  {
   "cell_type": "markdown",
   "metadata": {},
   "source": [
    "### 1.1 Work with Cloud Object Storage  (COS)"
   ]
  },
  {
   "cell_type": "markdown",
   "metadata": {},
   "source": [
    "Install the boto library. This library allows Python developers to manage Cloud Object Storage (COS)."
   ]
  },
  {
   "cell_type": "markdown",
   "metadata": {},
   "source": [
    "**Tip:** If `ibm_boto3` is not preinstalled in you environment, run the following command to install it: "
   ]
  },
  {
   "cell_type": "code",
   "execution_count": null,
   "metadata": {},
   "outputs": [],
   "source": [
    "# Run the command if ibm_boto3 is not installed.\n",
    "!pip install ibm-cos-sdk"
   ]
  },
  {
   "cell_type": "code",
   "execution_count": 2,
   "metadata": {},
   "outputs": [],
   "source": [
    "# Install the boto library.\n",
    "import ibm_boto3\n",
    "from ibm_botocore.client import Config"
   ]
  },
  {
   "cell_type": "markdown",
   "metadata": {},
   "source": [
    "Enter your COS credentials in the following cell. \n",
    "\n",
    "You can find these credentials in your COS instance dashboard under the **Service credentials** tab.\n",
    "\n",
    "**Note:** the HMAC key, described in [set up the environment](#setup) is included in these credentials."
   ]
  },
  {
   "cell_type": "code",
   "execution_count": 3,
   "metadata": {},
   "outputs": [],
   "source": [
    "cos_credentials = {\n",
    "  \"apikey\": \"***\",\n",
    "  \"cos_hmac_keys\": {\n",
    "    \"access_key_id\": \"***\",\n",
    "    \"secret_access_key\": \"***\"\n",
    "  },\n",
    "  \"endpoints\": \"***\",\n",
    "  \"iam_apikey_description\": \"***\",\n",
    "  \"iam_apikey_name\": \"***\",\n",
    "  \"iam_role_crn\": \"***\",\n",
    "  \"iam_serviceid_crn\": \"***\",\n",
    "  \"resource_instance_id\": \"***\"\n",
    "}"
   ]
  },
  {
   "cell_type": "markdown",
   "metadata": {},
   "source": [
    "Define the endpoint.\n",
    "\n",
    "To do this, go to the **Endpoint** tab in the COS instance's dashboard to get the endpoint information, then enter it in the cell below:"
   ]
  },
  {
   "cell_type": "code",
   "execution_count": 5,
   "metadata": {},
   "outputs": [],
   "source": [
    "# Define endpoint information.\n",
    "service_endpoint = 'https://s3-api.us-geo.objectstorage.softlayer.net'"
   ]
  },
  {
   "cell_type": "markdown",
   "metadata": {},
   "source": [
    "You also need the IBM Cloud authorization endpoint to be able to create COS resource object."
   ]
  },
  {
   "cell_type": "code",
   "execution_count": 6,
   "metadata": {},
   "outputs": [],
   "source": [
    "# Define the authorization endpoint.\n",
    "auth_endpoint = 'https://iam.bluemix.net/oidc/token'"
   ]
  },
  {
   "cell_type": "markdown",
   "metadata": {},
   "source": [
    "Create a Boto resource to be able to write data to COS."
   ]
  },
  {
   "cell_type": "code",
   "execution_count": 7,
   "metadata": {},
   "outputs": [],
   "source": [
    "# Create a COS resource.\n",
    "cos = ibm_boto3.resource('s3',\n",
    "                         ibm_api_key_id=cos_credentials['apikey'],\n",
    "                         ibm_service_instance_id=cos_credentials['resource_instance_id'],\n",
    "                         ibm_auth_endpoint=auth_endpoint,\n",
    "                         config=Config(signature_version='oauth'),\n",
    "                         endpoint_url=service_endpoint)"
   ]
  },
  {
   "cell_type": "markdown",
   "metadata": {},
   "source": [
    "Create two buckets, which you will use to store training data and training results.\n",
    "\n",
    "**Note:** The bucket names must be unique."
   ]
  },
  {
   "cell_type": "code",
   "execution_count": 8,
   "metadata": {},
   "outputs": [
    {
     "name": "stdout",
     "output_type": "stream",
     "text": [
      "Creating bucket \"training-data-54fca992-9e0a-4b5b-8c88-211c8487fe80\"...\n",
      "Creating bucket \"training-results-54fca992-9e0a-4b5b-8c88-211c8487fe80\"...\n"
     ]
    }
   ],
   "source": [
    "from uuid import uuid4\n",
    "\n",
    "bucket_uid = str(uuid4())\n",
    "buckets = ['training-data-' + bucket_uid, 'training-results-' + bucket_uid]\n",
    "\n",
    "for bucket in buckets:\n",
    "    if not cos.Bucket(bucket) in cos.buckets.all():\n",
    "        print('Creating bucket \"{}\"...'.format(bucket))\n",
    "        try:\n",
    "            cos.create_bucket(Bucket=bucket)\n",
    "        except ibm_boto3.exceptions.ibm_botocore.client.ClientError as e:\n",
    "            print('Error: {}.'.format(e.response['Error']['Message']))"
   ]
  },
  {
   "cell_type": "markdown",
   "metadata": {},
   "source": [
    "Now you should have 2 buckets."
   ]
  },
  {
   "cell_type": "code",
   "execution_count": 9,
   "metadata": {},
   "outputs": [
    {
     "name": "stdout",
     "output_type": "stream",
     "text": [
      "[s3.Bucket(name='ananyadoc-donotdelete-pr-e8qrksvnxfjml5'), s3.Bucket(name='ananyafirst-donotdelete-pr-qwlzno4acd5flp'), s3.Bucket(name='style-data-example-34a650af-8427-4830-a449-b501b21e7555'), s3.Bucket(name='style-results-example-34a650af-8427-4830-a449-b501b21e7555'), s3.Bucket(name='training-data-54fca992-9e0a-4b5b-8c88-211c8487fe80'), s3.Bucket(name='training-results-54fca992-9e0a-4b5b-8c88-211c8487fe80')]\n"
     ]
    }
   ],
   "source": [
    "# Display a list of created buckets.\n",
    "print(list(cos.buckets.all()))"
   ]
  },
  {
   "cell_type": "markdown",
   "metadata": {},
   "source": [
    "### 1.2 Download the training data and upload it to the COS buckets"
   ]
  },
  {
   "cell_type": "markdown",
   "metadata": {},
   "source": [
    "Download the training data and upload it to the 'training-data' bucket.\n",
    "First, create a list of links for the training data set."
   ]
  },
  {
   "cell_type": "code",
   "execution_count": 10,
   "metadata": {},
   "outputs": [],
   "source": [
    "# Create a list of links.\n",
    "data_links = ['http://yann.lecun.com/exdb/mnist/train-images-idx3-ubyte.gz',\n",
    "              'http://yann.lecun.com/exdb/mnist/train-labels-idx1-ubyte.gz',\n",
    "              'http://yann.lecun.com/exdb/mnist/t10k-images-idx3-ubyte.gz',\n",
    "              'http://yann.lecun.com/exdb/mnist/t10k-labels-idx1-ubyte.gz']"
   ]
  },
  {
   "cell_type": "markdown",
   "metadata": {},
   "source": [
    "The code in the next cell uploads files from links to your COS."
   ]
  },
  {
   "cell_type": "code",
   "execution_count": 11,
   "metadata": {},
   "outputs": [
    {
     "name": "stdout",
     "output_type": "stream",
     "text": [
      "Uploading data train-images-idx3-ubyte.gz...\n",
      "train-images-idx3-ubyte.gz is uploaded.\n",
      "Uploading data train-labels-idx1-ubyte.gz...\n",
      "train-labels-idx1-ubyte.gz is uploaded.\n",
      "Uploading data t10k-images-idx3-ubyte.gz...\n",
      "t10k-images-idx3-ubyte.gz is uploaded.\n",
      "Uploading data t10k-labels-idx1-ubyte.gz...\n",
      "t10k-labels-idx1-ubyte.gz is uploaded.\n"
     ]
    }
   ],
   "source": [
    "# Upload files from the links to COS\n",
    "from urllib.request import urlopen\n",
    "\n",
    "bucket_obj = cos.Bucket(buckets[0])\n",
    "\n",
    "for data_link in data_links:\n",
    "    filename=data_link.split('/')[-1]\n",
    "    print('Uploading data {}...'.format(filename))\n",
    "    with urlopen(data_link) as data:\n",
    "        bucket_obj.upload_fileobj(data, filename)\n",
    "        print('{} is uploaded.'.format(filename))"
   ]
  },
  {
   "cell_type": "markdown",
   "metadata": {},
   "source": [
    "Have a look at the list of the created buckets and their contents."
   ]
  },
  {
   "cell_type": "code",
   "execution_count": 12,
   "metadata": {},
   "outputs": [
    {
     "name": "stdout",
     "output_type": "stream",
     "text": [
      "training-data-54fca992-9e0a-4b5b-8c88-211c8487fe80\n",
      "  File: t10k-images-idx3-ubyte.gz, 1610.23kB\n",
      "  File: t10k-labels-idx1-ubyte.gz, 4.44kB\n",
      "  File: train-images-idx3-ubyte.gz, 9680.10kB\n",
      "  File: train-labels-idx1-ubyte.gz, 28.20kB\n",
      "training-results-54fca992-9e0a-4b5b-8c88-211c8487fe80\n"
     ]
    }
   ],
   "source": [
    "for bucket_name in buckets:\n",
    "    print(bucket_name)\n",
    "    bucket_obj = cos.Bucket(bucket_name)\n",
    "    for obj in bucket_obj.objects.all():\n",
    "        print(\"  File: {}, {:4.2f}kB\".format(obj.key, obj.size/1024))"
   ]
  },
  {
   "cell_type": "markdown",
   "metadata": {},
   "source": [
    "You are done with COS, and you are ready to train your model!"
   ]
  },
  {
   "cell_type": "markdown",
   "metadata": {},
   "source": [
    "### 1.3. Work with the WML service instance"
   ]
  },
  {
   "cell_type": "markdown",
   "metadata": {},
   "source": [
    "Import the libraries you need to work with your WML instance.\n",
    "\n",
    "**Hint:** You may also need to install `wget` using the following command `!pip install wget`"
   ]
  },
  {
   "cell_type": "code",
   "execution_count": null,
   "metadata": {},
   "outputs": [],
   "source": [
    "!pip install --upgrade wget"
   ]
  },
  {
   "cell_type": "code",
   "execution_count": 14,
   "metadata": {},
   "outputs": [],
   "source": [
    "import urllib3, requests, json, base64, time, os, wget"
   ]
  },
  {
   "cell_type": "code",
   "execution_count": null,
   "metadata": {},
   "outputs": [],
   "source": [
    "!pip install dask --upgrade"
   ]
  },
  {
   "cell_type": "markdown",
   "metadata": {},
   "source": [
    "Authenticate to the Watson Machine Learning (WML) service on IBM Cloud.\n",
    "\n",
    "**Tip**: Authentication information (your credentials) can be found in the <a href=\"https://dataplatform.cloud.ibm.com/docs/content/wsj/analyze-data/ml-get-wml-credentials.html\" target=\"_blank\" rel=\"noopener noreferrer\">Service credentials</a> tab of the service instance that you created on IBM Cloud. \n",
    "If there are no credentials listed for your instance in **Service credentials**, click **New credential (+)** and enter the information required to generate new authentication information. \n",
    "\n",
    "**Action**: Enter your WML service instance credentials here."
   ]
  },
  {
   "cell_type": "code",
   "execution_count": 16,
   "metadata": {},
   "outputs": [],
   "source": [
    "wml_credentials = {\n",
    "    \"apikey\": \"***\",\n",
    "    \"instance_id\": \"***\",\n",
    "    \"password\": \"***\",\n",
    "    \"url\": \"https://ibm-watson-ml.mybluemix.net\",\n",
    "    \"username\": \"***\"\n",
    "}"
   ]
  },
  {
   "cell_type": "markdown",
   "metadata": {},
   "source": [
    "#### Install the `watson-machine-learning-client` library from pypi."
   ]
  },
  {
   "cell_type": "code",
   "execution_count": 18,
   "metadata": {},
   "outputs": [],
   "source": [
    "!rm -rf $PIP_BUILD/watson-machine-learning-client"
   ]
  },
  {
   "cell_type": "code",
   "execution_count": null,
   "metadata": {},
   "outputs": [],
   "source": [
    "!pip install watson-machine-learning-client --upgrade"
   ]
  },
  {
   "cell_type": "markdown",
   "metadata": {},
   "source": [
    "#### Import the `watson-machine-learning-client` and authenticate to the service instance."
   ]
  },
  {
   "cell_type": "code",
   "execution_count": 20,
   "metadata": {},
   "outputs": [],
   "source": [
    "from watson_machine_learning_client import WatsonMachineLearningAPIClient"
   ]
  },
  {
   "cell_type": "markdown",
   "metadata": {},
   "source": [
    "**Note:** A deprecation warning is returned from scikit-learn package that does not impact watson machine learning client functionalities."
   ]
  },
  {
   "cell_type": "code",
   "execution_count": 21,
   "metadata": {},
   "outputs": [],
   "source": [
    "client = WatsonMachineLearningAPIClient(wml_credentials)"
   ]
  },
  {
   "cell_type": "code",
   "execution_count": 22,
   "metadata": {},
   "outputs": [
    {
     "name": "stdout",
     "output_type": "stream",
     "text": [
      "1.0.371\n"
     ]
    }
   ],
   "source": [
    "# Display the client version number.\n",
    "print(client.version)"
   ]
  },
  {
   "cell_type": "markdown",
   "metadata": {},
   "source": [
    "**Note:** `watson-machine-learning-client` documentation can be found <a href=\"http://wml-api-pyclient.mybluemix.net/\" target=\"_blank\" rel=\"noopener noreferrer\">here</a>."
   ]
  },
  {
   "cell_type": "markdown",
   "metadata": {},
   "source": [
    "<a id=\"model\"></a>\n",
    "## 2. Create the training definitions\n",
    "\n",
    "In this section you:\n",
    "\n",
    "- [2.1 Prepare the training definition metadata](#prep)\n",
    "- [2.2 Get the sample model definition content files from Git](#get)\n",
    "- [2.3 Store the training definition in the WML repository](#store)\n",
    "\n"
   ]
  },
  {
   "cell_type": "markdown",
   "metadata": {},
   "source": [
    "### 2.1 Prepare the training definition metadata<a id=\"prep\"></a>"
   ]
  },
  {
   "cell_type": "code",
   "execution_count": 23,
   "metadata": {},
   "outputs": [],
   "source": [
    "model_definition_metadata = {\n",
    "            client.repository.DefinitionMetaNames.NAME: \"My definition name\",\n",
    "            client.repository.DefinitionMetaNames.DESCRIPTION: \"My description\",\n",
    "            client.repository.DefinitionMetaNames.AUTHOR_NAME: \"John Smith\",\n",
    "            client.repository.DefinitionMetaNames.FRAMEWORK_NAME: \"tensorflow\",\n",
    "            client.repository.DefinitionMetaNames.FRAMEWORK_VERSION: \"1.5\",\n",
    "            client.repository.DefinitionMetaNames.RUNTIME_NAME: \"python\",\n",
    "            client.repository.DefinitionMetaNames.RUNTIME_VERSION: \"3.6\",\n",
    "            client.repository.DefinitionMetaNames.EXECUTION_COMMAND: \"python3 tensorflow_mnist_softmax.py --trainingIters 20\"\n",
    "            }"
   ]
  },
  {
   "cell_type": "markdown",
   "metadata": {},
   "source": [
    "### 2.2 Get the sample model definition content file from Git <a id=\"get\"></a>"
   ]
  },
  {
   "cell_type": "code",
   "execution_count": 24,
   "metadata": {},
   "outputs": [
    {
     "name": "stdout",
     "output_type": "stream",
     "text": [
      "tf-softmax-model.zip\n"
     ]
    }
   ],
   "source": [
    "filename='tf-softmax-model.zip'\n",
    "\n",
    "if not os.path.isfile(filename):\n",
    "    filename = wget.download('https://github.com/pmservice/wml-sample-models/raw/master/tensorflow/hand-written-digit-recognition/definition/tf-softmax-model.zip')\n",
    "    \n",
    "print(filename)"
   ]
  },
  {
   "cell_type": "markdown",
   "metadata": {},
   "source": [
    "### 2.3 Store the training definition in the WML repository<a id=\"store\"></a>"
   ]
  },
  {
   "cell_type": "code",
   "execution_count": 25,
   "metadata": {},
   "outputs": [],
   "source": [
    "definition_details = client.repository.store_definition(filename, model_definition_metadata)"
   ]
  },
  {
   "cell_type": "code",
   "execution_count": 26,
   "metadata": {},
   "outputs": [],
   "source": [
    "definition_uid = client.repository.get_definition_uid(definition_details)"
   ]
  },
  {
   "cell_type": "code",
   "execution_count": 27,
   "metadata": {},
   "outputs": [
    {
     "name": "stdout",
     "output_type": "stream",
     "text": [
      "8c86777d-9543-4605-9fb5-882c371de20c\n"
     ]
    }
   ],
   "source": [
    "# Display the training definition uid.\n",
    "print(definition_uid)"
   ]
  },
  {
   "cell_type": "markdown",
   "metadata": {},
   "source": [
    "## 3. Train the model<a id=\"train\"></a>\n",
    "\n",
    "In this section, learn how to:\n",
    "- [3.1 Enter training configuration metadata](#meta)\n",
    "- [3.2 Train the model in the background](#backg)\n",
    "- [3.3 Monitor the training log](#log)\n",
    "- [3.4 Cancel the training run](#cancel)\n"
   ]
  },
  {
   "cell_type": "markdown",
   "metadata": {},
   "source": [
    "### 3.1 Enter training configuration metadata<a id=\"meta\"></a>\n",
    "\n",
    "- `TRAINING_DATA_REFERENCE` - references the uploaded training data.\n",
    "- `TRAINING_RESULTS_REFERENCE` - location where trained model will be saved.\n",
    "\n",
    "**Note** Your COS credentials are referenced in this code.\n"
   ]
  },
  {
   "cell_type": "code",
   "execution_count": 28,
   "metadata": {},
   "outputs": [],
   "source": [
    "# Configure the training metadata for the TRAINING_DATA_REFERENCE and TRAINING_RESULTS_REFERENCE.\n",
    "training_configuration_metadata = {\n",
    "            client.training.ConfigurationMetaNames.NAME: \"Hand-written Digit Recognition\", \n",
    "            client.training.ConfigurationMetaNames.AUTHOR_NAME: \"John Smith\",              \n",
    "            client.training.ConfigurationMetaNames.DESCRIPTION: \"Hand-written Digit Recognition training\",\n",
    "            client.training.ConfigurationMetaNames.COMPUTE_CONFIGURATION: {\"name\": \"k80\"},\n",
    "            client.training.ConfigurationMetaNames.TRAINING_DATA_REFERENCE: {\n",
    "                    \"connection\": {\n",
    "                        \"endpoint_url\": service_endpoint,\n",
    "                        \"access_key_id\": cos_credentials['cos_hmac_keys']['access_key_id'],\n",
    "                        \"secret_access_key\": cos_credentials['cos_hmac_keys']['secret_access_key']\n",
    "                    },\n",
    "                    \"source\": {\n",
    "                        \"bucket\": buckets[0],\n",
    "                    },\n",
    "                    \"type\": \"s3\"\n",
    "                },\n",
    "            client.training.ConfigurationMetaNames.TRAINING_RESULTS_REFERENCE: {\n",
    "                \"connection\": {\n",
    "                    \"endpoint_url\": service_endpoint,\n",
    "                    \"access_key_id\": cos_credentials['cos_hmac_keys']['access_key_id'],\n",
    "                    \"secret_access_key\": cos_credentials['cos_hmac_keys']['secret_access_key']\n",
    "                },\n",
    "                \"target\": {\n",
    "                    \"bucket\": buckets[1],\n",
    "                },\n",
    "                \"type\": \"s3\"\n",
    "            },\n",
    "        }"
   ]
  },
  {
   "cell_type": "markdown",
   "metadata": {},
   "source": [
    "### 3.2 Train the model in the background<a id=\"backg\"></a>\n",
    "\n",
    "To run the training in the **background**, set the optional parameter `asynchronous=True` (or remove it). In this case the parameter has been removed. \n",
    "\n",
    "**Note:** To run the training in **active** mode, set `asynchronous=False`."
   ]
  },
  {
   "cell_type": "code",
   "execution_count": 29,
   "metadata": {},
   "outputs": [],
   "source": [
    "training_run_details = client.training.run(definition_uid, training_configuration_metadata)"
   ]
  },
  {
   "cell_type": "code",
   "execution_count": 30,
   "metadata": {},
   "outputs": [],
   "source": [
    "training_run_guid_async = client.training.get_run_uid(training_run_details)"
   ]
  },
  {
   "cell_type": "markdown",
   "metadata": {},
   "source": [
    "Check the status of the training run by calling the method the next cell:"
   ]
  },
  {
   "cell_type": "code",
   "execution_count": 31,
   "metadata": {},
   "outputs": [],
   "source": [
    "def poll_training_status(client, run_uid):\n",
    "    import time\n",
    "    while True:\n",
    "        status = client.training.get_status(run_uid)\n",
    "        state = status['state']\n",
    "        print('state:', state)\n",
    "        if state == 'completed' or 'fail' in state:\n",
    "            return status\n",
    "        time.sleep(5)"
   ]
  },
  {
   "cell_type": "code",
   "execution_count": 32,
   "metadata": {
    "scrolled": false
   },
   "outputs": [
    {
     "name": "stdout",
     "output_type": "stream",
     "text": [
      "state: pending\n",
      "state: pending\n",
      "state: pending\n",
      "state: pending\n",
      "state: pending\n",
      "state: pending\n",
      "state: pending\n",
      "state: pending\n",
      "state: pending\n",
      "state: pending\n",
      "state: pending\n",
      "state: pending\n",
      "state: pending\n",
      "state: pending\n",
      "state: running\n",
      "state: running\n",
      "state: running\n",
      "state: running\n",
      "state: running\n",
      "state: running\n",
      "state: running\n",
      "state: running\n",
      "state: running\n",
      "state: running\n",
      "state: running\n",
      "state: running\n",
      "state: running\n",
      "state: running\n",
      "state: running\n",
      "state: running\n",
      "state: running\n",
      "state: running\n",
      "state: running\n",
      "state: running\n",
      "state: running\n",
      "state: running\n",
      "state: completed\n",
      "{\n",
      "  \"state\": \"completed\",\n",
      "  \"finished_at\": \"2019-07-15T22:42:40.775Z\",\n",
      "  \"submitted_at\": \"2019-07-15T22:40:30.805Z\",\n",
      "  \"running_at\": \"2019-07-15T22:40:39.510Z\",\n",
      "  \"message\": \"training-5-zeBqSWg: \",\n",
      "  \"metrics\": [],\n",
      "  \"current_at\": \"2019-07-15T22:43:35.360Z\"\n",
      "}\n"
     ]
    }
   ],
   "source": [
    "# Get training run status.\n",
    "run_details = poll_training_status(client, training_run_guid_async)\n",
    "print(json.dumps(run_details, indent=2))"
   ]
  },
  {
   "cell_type": "markdown",
   "metadata": {},
   "source": [
    "### 3.3  Monitor the training log<a id=\"log\"></a>"
   ]
  },
  {
   "cell_type": "markdown",
   "metadata": {},
   "source": [
    "Run the cell below to monitor the training log."
   ]
  },
  {
   "cell_type": "code",
   "execution_count": 33,
   "metadata": {
    "scrolled": true
   },
   "outputs": [
    {
     "name": "stdout",
     "output_type": "stream",
     "text": [
      "\n",
      "\n",
      "####################################################\n",
      "\n",
      "Log monitor started for training run: model-x3ze651b\n",
      "\n",
      "####################################################\n",
      "\n",
      "\n",
      "Training with training/test data at:\n",
      "  DATA_DIR: /mnt/data/training-data-54fca992-9e0a-4b5b-8c88-211c8487fe80\n",
      "  MODEL_DIR: /job/model-code\n",
      "  TRAINING_JOB: \n",
      "  TRAINING_COMMAND: python3 tensorflow_mnist_softmax.py --trainingIters 20\n",
      "Storing trained model at:\n",
      "  RESULT_DIR: /mnt/results/training-results-54fca992-9e0a-4b5b-8c88-211c8487fe80/training-5-zeBqSWg\n",
      "Mon Jul 15 22:40:42 UTC 2019: Running Tensorflow job\n",
      "/usr/local/lib/python3.5/dist-packages/h5py/__init__.py:36: FutureWarning: Conversion of the second argument of issubdtype from `float` to `np.floating` is deprecated. In future, it will be treated as `np.float64 == np.dtype(float).type`.\n",
      "  from ._conv import register_converters as _register_converters\n",
      "WARNING:tensorflow:From tensorflow_mnist_softmax.py:66: softmax_cross_entropy_with_logits (from tensorflow.python.ops.nn_ops) is deprecated and will be removed in a future version.\n",
      "Instructions for updating:\n",
      "\n",
      "Future major versions of TensorFlow will allow gradients to flow\n",
      "into the labels input on backprop by default.\n",
      "\n",
      "See tf.nn.softmax_cross_entropy_with_logits_v2.\n",
      "\n",
      "2019-07-15 22:40:46.616689: I tensorflow/core/platform/cpu_feature_guard.cc:137] Your CPU supports instructions that this TensorFlow binary was not compiled to use: SSE4.1 SSE4.2 AVX AVX2 FMA\n",
      "2019-07-15 22:40:49.335677: I tensorflow/core/common_runtime/gpu/gpu_device.cc:1105] Found device 0 with properties: \n",
      "name: Tesla K80 major: 3 minor: 7 memoryClockRate(GHz): 0.8235\n",
      "pciBusID: 0000:83:00.0\n",
      "totalMemory: 11.17GiB freeMemory: 11.11GiB\n",
      "2019-07-15 22:40:49.335725: I tensorflow/core/common_runtime/gpu/gpu_device.cc:1195] Creating TensorFlow device (/device:GPU:0) -> (device: 0, name: Tesla K80, pci bus id: 0000:83:00.0, compute capability: 3.7)\n",
      "Start model training\n",
      "Optimization Finished!\n",
      "Testing Accuracy:  0.9198\n",
      "classification_signature content:\n",
      "inputs {\n",
      "  key: \"inputs\"\n",
      "  value {\n",
      "    name: \"Placeholder:0\"\n",
      "    dtype: DT_FLOAT\n",
      "    tensor_shape {\n",
      "      dim {\n",
      "        size: -1\n",
      "      }\n",
      "      dim {\n",
      "        size: 784\n",
      "      }\n",
      "    }\n",
      "  }\n",
      "}\n",
      "outputs {\n",
      "  key: \"classes\"\n",
      "  value {\n",
      "    name: \"predictor:0\"\n",
      "    dtype: DT_INT64\n",
      "    tensor_shape {\n",
      "      dim {\n",
      "        size: -1\n",
      "      }\n",
      "    }\n",
      "  }\n",
      "}\n",
      "method_name: \"tensorflow/serving/classify\"\n",
      "\n",
      "\n",
      "\n",
      "\n",
      "-----------------\n",
      "Log monitor done.\n",
      "-----------------\n",
      "\n",
      "\n"
     ]
    }
   ],
   "source": [
    "client.training.monitor_logs(training_run_guid_async)"
   ]
  },
  {
   "cell_type": "markdown",
   "metadata": {},
   "source": [
    "### 3.4 Cancel the training run<a id=\"cancel\"></a>"
   ]
  },
  {
   "cell_type": "markdown",
   "metadata": {},
   "source": [
    "You can cancel the training run by calling the method below."
   ]
  },
  {
   "cell_type": "code",
   "execution_count": 34,
   "metadata": {},
   "outputs": [],
   "source": [
    "# client.training.cancel(training_run_guid_async)"
   ]
  },
  {
   "cell_type": "markdown",
   "metadata": {},
   "source": [
    "<a id=\"save\"></a>\n",
    "## 4. Save the model"
   ]
  },
  {
   "cell_type": "markdown",
   "metadata": {},
   "source": [
    "#### Call this method to the save model to the WML repository."
   ]
  },
  {
   "cell_type": "code",
   "execution_count": 35,
   "metadata": {},
   "outputs": [],
   "source": [
    "# Save model to WML repository.\n",
    "saved_model_details = client.repository.store_model(training_run_guid_async, {\"name\": \"My cool mnist model\"})"
   ]
  },
  {
   "cell_type": "code",
   "execution_count": 36,
   "metadata": {},
   "outputs": [
    {
     "name": "stdout",
     "output_type": "stream",
     "text": [
      "Url: https://us-south.ml.cloud.ibm.com/v3/wml_instances/b4b6c696-172c-4164-8049-c0b621dbf3c9/published_models/a3911972-6e2e-4848-b6d0-929b3d2b3bef\n"
     ]
    }
   ],
   "source": [
    "# Display location of saved model.\n",
    "print(\"Url: \" + client.repository.get_model_url(saved_model_details))"
   ]
  },
  {
   "cell_type": "markdown",
   "metadata": {},
   "source": [
    "**Tip:** Run the code below to extract the stored model uid from the dictionary."
   ]
  },
  {
   "cell_type": "code",
   "execution_count": 37,
   "metadata": {},
   "outputs": [
    {
     "name": "stdout",
     "output_type": "stream",
     "text": [
      "Saved model uid: a3911972-6e2e-4848-b6d0-929b3d2b3bef\n"
     ]
    }
   ],
   "source": [
    "# Get and display model uid.\n",
    "model_uid = client.repository.get_model_uid(saved_model_details)\n",
    "print(\"Saved model uid: \" + model_uid)"
   ]
  },
  {
   "cell_type": "markdown",
   "metadata": {},
   "source": [
    "#### List the stored models."
   ]
  },
  {
   "cell_type": "code",
   "execution_count": 38,
   "metadata": {},
   "outputs": [
    {
     "name": "stdout",
     "output_type": "stream",
     "text": [
      "------------------------------------  -------------------------------------------  ------------------------  -----------------\n",
      "GUID                                  NAME                                         CREATED                   FRAMEWORK\n",
      "a3911972-6e2e-4848-b6d0-929b3d2b3bef  My cool mnist model                          2019-07-15T22:43:37.781Z  tensorflow-1.5\n",
      "e50219e6-ee2a-4925-95d1-1335c8090d7e  Saved MNIST model                            2019-07-15T22:18:27.000Z  tensorflow-1.5\n",
      "0a6e97eb-46ed-4760-b99f-b71971dfb475  Boston house price prediction                2019-07-12T22:57:51.116Z  scikit-learn-0.19\n",
      "f4151059-39ec-4b78-999a-42bd731d6c52  WML Product Line Prediction Model            2019-07-10T22:30:00.696Z  mllib-2.3\n",
      "ced711d3-eb7f-489a-a99d-3f3a18d6ea7b  WML Product Line Prediction Model            2019-07-10T17:35:25.935Z  mllib-2.3\n",
      "5dbf06c3-8325-4cee-957b-1dd7b7769087  WML Product Line Prediction Model            2019-07-10T17:31:18.644Z  mllib-2.3\n",
      "ad24c140-f97a-49f2-b02c-f8ce44a58c27  Custom ARIMA estimator for sklearn pipeline  2019-07-03T01:04:33.998Z  scikit-learn-0.19\n",
      "fc5462c8-7eb9-4dda-8b0a-947e2faa30da  WML Product Line Prediction Model            2019-05-17T17:33:53.278Z  mllib-2.3\n",
      "a57e82a9-076e-4236-8bd2-7465e726c419  WML Product Line Prediction Model            2019-05-17T17:28:36.434Z  mllib-2.3\n",
      "20da8eb9-36d3-4230-bf0c-ba4f7434080c  ML Contest - Label Prediction Model          2019-05-07T16:43:17.658Z  scikit-learn-0.19\n",
      "6ee6777d-b716-49e8-acf0-1913fec902f3  ML Contest - ETA Prediction Model            2019-05-07T16:43:16.065Z  scikit-learn-0.19\n",
      "3bb7e3ab-836a-4331-9676-7bcc07cc2d63  ML Contest - Assignee Prediction Model       2019-05-07T16:43:14.430Z  scikit-learn-0.19\n",
      "0ffb0000-511b-443d-a4fe-3e076ce2381c  WML Product Line Prediction Model            2019-04-26T17:19:09.804Z  mllib-2.3\n",
      "eecf9e06-24cc-4675-a84e-adcf863b0ec6  WML Product Line Prediction Model            2019-04-26T16:57:07.468Z  mllib-2.3\n",
      "24f8c253-ab45-45fc-ab94-65ceba1f3dcc  WML Product Line Prediction Model            2019-04-25T22:15:37.304Z  mllib-2.3\n",
      "9eabbb0d-aaaf-4f00-a7b4-609b8253c9ab  Time Series SPSS Model                       2019-03-22T17:48:22.760Z  spss-modeler-18.1\n",
      "0de88973-a74f-46c7-9ce5-bb3a72457ebc  TensorFlow MNIST model                       2019-03-15T18:27:25.134Z  tensorflow-1.5\n",
      "f72ed23b-a7dd-4668-8b18-60e55ae2a59a  Best Heart Drug Selection                    2019-03-12T23:47:20.526Z  mllib-2.3\n",
      "2660bd78-4ecb-4224-85d6-667b43eb3813  Sentiment Prediction Model                   2019-03-12T23:01:07.679Z  mllib-2.3\n",
      "93638ac0-a8ae-4cf7-a3b5-47e026ad5bcd  SPSS model for Churn prediction              2019-03-12T12:59:13.801Z  spss-modeler-18.1\n",
      "4e7d708b-783c-4f82-95c2-90d02957031f  Customer churn Spark model                   2019-03-11T15:27:06.684Z  mllib-2.3\n",
      "56529f33-9bce-45f5-87f5-b6bc838b88a0  MNIST best model                             2019-03-07T13:37:39.720Z  tensorflow-1.5\n",
      "a59d7814-b8f9-4e13-b433-253364dec6ff  Customer churn Spark model                   2019-03-07T13:14:14.864Z  mllib-2.3\n",
      "5fb4a3c0-f18a-4936-ba15-294c13849167  Product line model                           2019-03-06T14:24:29.322Z  mllib-2.3\n",
      "193f97a4-2a48-4be7-9497-11ccc58aebb3  My cool mnist model                          2019-03-06T12:52:11.179Z  tensorflow-1.5\n",
      "2dcc72ce-16c2-4ad0-94c8-77f37317b47b  Boston house price prediction                2019-03-06T11:45:30.725Z  scikit-learn-0.19\n",
      "f7982685-3040-4936-a7a4-d42aec6b2e1c  Boston house price prediction                2019-03-06T11:32:56.268Z  scikit-learn-0.19\n",
      "c9dfebfa-0411-4e3e-a9c5-9a311444ed59  CHAID PMML model for Iris data               2019-03-04T12:59:21.351Z  pmml-4.2\n",
      "c0e97a79-7db0-471e-afd8-f3e238fd16b6  XGBoost model for breast cancer              2019-02-28T19:11:24.484Z  scikit-learn-0.19\n",
      "8008b47c-0f07-482c-8d2f-0b6940c824e5  SMS Spam prediction model                    2019-02-28T00:57:59.713Z  scikit-learn-0.19\n",
      "f2ea0716-7d1f-484a-8468-14f4b6ec7333  WML Product Line Prediction Model            2019-02-27T13:50:04.628Z  mllib-2.3\n",
      "fe1f7f54-b66f-46ed-8785-9fa5d129e02e  SPSS model for Churn prediction              2019-02-27T11:53:10.672Z  spss-modeler-18.1\n",
      "7bd8d8b7-bb2b-4e71-95e6-502fec50657f  SPSS model for Churn prediction              2019-02-27T09:29:04.867Z  spss-modeler-18.1\n",
      "c4fbb8ff-0e1b-4c45-b155-85b07527ecc3  SPSS model for Churn prediction              2019-02-26T13:13:42.220Z  spss-modeler-18.1\n",
      "8a245de4-7907-44fe-b67f-3cf1746d9eb4  CHAID PMML model for Iris data               2019-02-25T13:09:14.752Z  pmml-4.2\n",
      "462931ef-bcf8-486c-8bcb-2b2c114cb20c  MNIST - compressed keras model               2019-02-25T12:29:43.085Z  tensorflow-1.5\n",
      "e349018e-a37c-4d26-bb86-01ce7f52bdaa  SMS Spam prediction model                    2019-02-13T15:52:39.175Z  scikit-learn-0.19\n",
      "0cc8a058-6b08-4ae5-84df-a62d49e0f4bf  SPSS XGBoost Tree Regression model_auto-opt  2019-02-12T19:00:25.864Z  spss-modeler-18.1\n",
      "67ee96bc-cb64-4ad0-8255-bf471df915bb  SMS Spam prediction model                    2019-02-12T02:48:36.430Z  scikit-learn-0.19\n",
      "9de866c9-bb52-4c19-b095-94c265530f46  Earthquake magnitude prediction model        2019-02-11T16:41:38.815Z  tensorflow-1.12\n",
      "f514ff10-8857-433c-89b0-280c708a6e26  Earthquake magnitude prediction model        2019-02-11T16:31:26.538Z  tensorflow-1.12\n",
      "e561751f-d7d9-4c6f-a7af-6677baf3d45f  Earthquake magnitude prediction model        2019-02-07T00:21:53.513Z  tensorflow-1.12\n",
      "f87ac4d9-7a05-435d-98eb-6eacd290e3cc  Earthquake magnitude prediction model        2019-02-07T00:08:13.678Z  tensorflow-1.12\n",
      "482e49ea-1207-45b8-bf57-89d57bc44678  SPSS XGBoost Regression Model - Car Price    2019-02-05T18:09:21.456Z  spss-modeler-18.1\n",
      "e0ef0258-ef7c-45f0-9466-3568e03fed65  SPSS (Auto) Regression Model - Car Price     2019-01-30T23:18:33.431Z  spss-modeler-18.1\n",
      "afb7a22e-1e6c-4e29-a1da-5305a2f5a16b  WML Product Line Prediction Model            2019-01-19T19:36:59.710Z  mllib-2.3\n",
      "61c9afb7-94ae-4c05-ad2b-dc734bb0f932  SPSS model for Churn prediction              2019-01-18T10:28:30.835Z  spss-modeler-18.1\n",
      "52e8d90f-482a-4358-8889-979ecb5f35c0  CHAID PMML model for Iris data               2019-01-18T09:36:11.392Z  pmml-4.2\n",
      "47b21e40-eba3-4cda-b7d2-cb9a2d31d12d  Customer churn Spark model                   2019-01-18T06:45:13.422Z  mllib-2.3\n",
      "f5eb38e5-2b04-4da0-bf14-3edafe554be8  Customer churn Spark model                   2019-01-18T02:18:45.291Z  mllib-2.3\n",
      "------------------------------------  -------------------------------------------  ------------------------  -----------------\n",
      "Note: Only first 50 records were displayed. To display more use 'limit' parameter.\n"
     ]
    }
   ],
   "source": [
    "client.repository.list_models()"
   ]
  },
  {
   "cell_type": "markdown",
   "metadata": {},
   "source": [
    "#### Delete the training run and its results."
   ]
  },
  {
   "cell_type": "markdown",
   "metadata": {},
   "source": [
    "Run the code in the cell below to delete train runs and results:"
   ]
  },
  {
   "cell_type": "code",
   "execution_count": 39,
   "metadata": {},
   "outputs": [],
   "source": [
    "# client.training.delete(training_run_guid_async)"
   ]
  },
  {
   "cell_type": "markdown",
   "metadata": {},
   "source": [
    "## 5. Create the online deployment<a id=\"deploy\"></a>"
   ]
  },
  {
   "cell_type": "markdown",
   "metadata": {},
   "source": [
    "Run the code in the following cell to deploy the stored model as a web service (online):"
   ]
  },
  {
   "cell_type": "code",
   "execution_count": 40,
   "metadata": {},
   "outputs": [
    {
     "name": "stdout",
     "output_type": "stream",
     "text": [
      "\n",
      "\n",
      "#######################################################################################\n",
      "\n",
      "Synchronous deployment creation for uid: 'a3911972-6e2e-4848-b6d0-929b3d2b3bef' started\n",
      "\n",
      "#######################################################################################\n",
      "\n",
      "\n",
      "INITIALIZING\n",
      "DEPLOY_SUCCESS\n",
      "\n",
      "\n",
      "------------------------------------------------------------------------------------------------\n",
      "Successfully finished deployment creation, deployment_uid='a6169e85-7a6c-4a9b-90d2-52bfeb42ca88'\n",
      "------------------------------------------------------------------------------------------------\n",
      "\n",
      "\n"
     ]
    }
   ],
   "source": [
    "# Create online deployment.\n",
    "deployment_details = client.deployments.create(model_uid, \"Mnist model deployment\")"
   ]
  },
  {
   "cell_type": "markdown",
   "metadata": {
    "collapsed": true
   },
   "source": [
    "## 6. Score data<a id=\"score\"></a>\n",
    "\n",
    "Now, extract the url endpoint, scoring_url, which will be used to send scoring requests."
   ]
  },
  {
   "cell_type": "markdown",
   "metadata": {},
   "source": [
    "Prepare sample scoring data to score deployed model."
   ]
  },
  {
   "cell_type": "code",
   "execution_count": 42,
   "metadata": {},
   "outputs": [],
   "source": [
    "image1 = [0.000,0.000,0.000,0.000,0.000,0.000,0.000,0.000,0.000,0.000,0.000,0.000,0.000,0.000,0.000,0.000,0.000,0.000,0.000,0.000,0.000,0.000,0.000,0.000,0.000,0.000,0.000,0.000,0.000,0.000,0.000,0.000,0.000,0.000,0.000,0.000,0.000,0.000,0.000,0.000,0.000,0.000,0.000,0.000,0.000,0.000,0.000,0.000,0.000,0.000,0.000,0.000,0.000,0.000,0.000,0.000,0.000,0.000,0.000,0.000,0.000,0.000,0.000,0.000,0.000,0.000,0.000,0.000,0.000,0.000,0.000,0.000,0.000,0.000,0.000,0.000,0.000,0.000,0.000,0.000,0.000,0.000,0.000,0.000,0.000,0.000,0.000,0.000,0.000,0.000,0.000,0.000,0.000,0.000,0.000,0.000,0.000,0.000,0.000,0.000,0.000,0.000,0.000,0.000,0.000,0.000,0.000,0.000,0.000,0.000,0.000,0.000,0.000,0.000,0.000,0.000,0.000,0.000,0.000,0.000,0.000,0.000,0.000,0.000,0.000,0.000,0.000,0.000,0.000,0.000,0.000,0.000,0.000,0.000,0.000,0.000,0.000,0.000,0.000,0.000,0.000,0.000,0.000,0.000,0.000,0.000,0.000,0.000,0.000,0.000,0.000,0.000,0.639,0.757,0.596,0.361,0.200,0.200,0.200,0.200,0.122,0.000,0.000,0.000,0.000,0.000,0.000,0.000,0.000,0.000,0.000,0.000,0.000,0.000,0.000,0.000,0.000,0.000,0.000,0.082,0.875,0.992,0.988,0.992,0.988,0.992,0.988,0.992,0.753,0.322,0.000,0.000,0.000,0.000,0.000,0.000,0.000,0.000,0.000,0.000,0.000,0.000,0.000,0.000,0.000,0.000,0.000,0.200,0.992,0.400,0.000,0.082,0.400,0.243,0.400,0.400,0.239,0.718,0.157,0.000,0.000,0.000,0.000,0.000,0.000,0.000,0.000,0.000,0.000,0.000,0.000,0.000,0.000,0.000,0.000,0.200,0.988,0.400,0.000,0.000,0.000,0.000,0.000,0.000,0.000,0.239,0.000,0.000,0.000,0.000,0.000,0.000,0.000,0.000,0.000,0.000,0.000,0.000,0.000,0.000,0.000,0.000,0.000,0.200,0.992,0.400,0.000,0.000,0.000,0.000,0.000,0.000,0.000,0.000,0.000,0.000,0.000,0.000,0.000,0.000,0.000,0.000,0.000,0.000,0.000,0.000,0.000,0.000,0.000,0.000,0.000,0.361,0.988,0.400,0.000,0.000,0.000,0.000,0.000,0.000,0.000,0.000,0.000,0.000,0.000,0.000,0.000,0.000,0.000,0.000,0.000,0.000,0.000,0.000,0.000,0.000,0.000,0.000,0.000,0.678,0.992,0.400,0.000,0.000,0.000,0.000,0.000,0.000,0.000,0.000,0.000,0.000,0.000,0.000,0.000,0.000,0.000,0.000,0.000,0.000,0.000,0.000,0.000,0.000,0.000,0.000,0.000,0.992,0.988,0.875,0.796,0.796,0.796,0.322,0.000,0.000,0.000,0.000,0.000,0.000,0.000,0.000,0.000,0.000,0.000,0.000,0.000,0.000,0.000,0.000,0.000,0.000,0.000,0.000,0.482,0.996,0.992,0.878,0.796,0.796,0.875,0.996,0.278,0.000,0.000,0.000,0.000,0.000,0.000,0.000,0.000,0.000,0.000,0.000,0.000,0.000,0.000,0.000,0.000,0.000,0.000,0.161,0.953,0.992,0.510,0.078,0.000,0.000,0.078,0.992,0.910,0.161,0.000,0.000,0.000,0.000,0.000,0.000,0.000,0.000,0.000,0.000,0.000,0.000,0.000,0.000,0.000,0.000,0.000,0.596,0.992,0.718,0.000,0.000,0.000,0.000,0.000,0.518,0.992,0.400,0.000,0.000,0.000,0.000,0.000,0.000,0.000,0.000,0.000,0.000,0.000,0.000,0.000,0.000,0.000,0.000,0.000,0.200,0.592,0.078,0.000,0.000,0.000,0.000,0.000,0.200,0.988,0.400,0.000,0.000,0.000,0.000,0.000,0.000,0.000,0.000,0.000,0.000,0.000,0.000,0.000,0.000,0.000,0.000,0.000,0.082,0.000,0.000,0.000,0.000,0.000,0.000,0.000,0.443,0.992,0.400,0.000,0.000,0.000,0.000,0.000,0.000,0.000,0.000,0.000,0.000,0.000,0.000,0.000,0.000,0.000,0.000,0.322,0.718,0.000,0.000,0.000,0.000,0.000,0.000,0.000,0.757,0.988,0.400,0.000,0.000,0.000,0.000,0.000,0.000,0.000,0.000,0.000,0.000,0.000,0.000,0.000,0.000,0.000,0.000,0.796,0.718,0.000,0.000,0.000,0.000,0.000,0.000,0.082,0.996,0.992,0.161,0.000,0.000,0.000,0.000,0.000,0.000,0.000,0.000,0.000,0.000,0.000,0.000,0.000,0.000,0.000,0.082,0.875,0.400,0.000,0.000,0.000,0.000,0.000,0.082,0.796,0.992,0.510,0.000,0.000,0.000,0.000,0.000,0.000,0.000,0.000,0.000,0.000,0.000,0.000,0.000,0.000,0.000,0.000,0.000,0.800,0.482,0.000,0.000,0.000,0.000,0.161,0.678,0.992,0.796,0.078,0.000,0.000,0.000,0.000,0.000,0.000,0.000,0.000,0.000,0.000,0.000,0.000,0.000,0.000,0.000,0.000,0.000,0.635,0.875,0.400,0.082,0.400,0.639,0.953,0.992,0.671,0.078,0.000,0.000,0.000,0.000,0.000,0.000,0.000,0.000,0.000,0.000,0.000,0.000,0.000,0.000,0.000,0.000,0.000,0.000,0.161,0.918,0.992,1.000,0.992,1.000,0.675,0.322,0.000,0.000,0.000,0.000,0.000,0.000,0.000,0.000,0.000,0.000,0.000,0.000,0.000,0.000,0.000,0.000,0.000,0.000,0.000,0.000,0.000,0.118,0.514,0.753,0.435,0.196,0.039,0.000,0.000,0.000,0.000,0.000,0.000,0.000,0.000,0.000,0.000,0.000,0.000,0.000,0.000,0.000,0.000,0.000,0.000,0.000,0.000,0.000,0.000,0.000,0.000,0.000,0.000,0.000,0.000,0.000,0.000,0.000,0.000,0.000,0.000,0.000,0.000,0.000,0.000,0.000,0.000,0.000,0.000,0.000,0.000,0.000,0.000,0.000,0.000,0.000,0.000,0.000,0.000,0.000,0.000,0.000,0.000,0.000,0.000,0.000,0.000,0.000,0.000,0.000,0.000,0.000,0.000,0.000,0.000,0.000,0.000,0.000,0.000,0.000,0.000,0.000,0.000,0.000,0.000,0.000,0.000,0.000,0.000,0.000,0.000,0.000,0.000,0.000,0.000,0.000,0.000,0.000,0.000,0.000,0.000,0.000,0.000,0.000]\n",
    "image2 = [0.000,0.000,0.000,0.000,0.000,0.000,0.000,0.000,0.000,0.000,0.000,0.000,0.000,0.000,0.000,0.000,0.000,0.000,0.000,0.000,0.000,0.000,0.000,0.000,0.000,0.000,0.000,0.000,0.000,0.000,0.000,0.000,0.000,0.000,0.000,0.000,0.000,0.000,0.000,0.000,0.000,0.000,0.000,0.000,0.000,0.000,0.000,0.000,0.000,0.000,0.000,0.000,0.000,0.000,0.000,0.000,0.000,0.000,0.000,0.000,0.000,0.000,0.000,0.000,0.000,0.000,0.000,0.000,0.000,0.000,0.000,0.000,0.000,0.000,0.000,0.000,0.000,0.000,0.000,0.000,0.000,0.000,0.000,0.000,0.000,0.000,0.000,0.000,0.000,0.000,0.000,0.000,0.000,0.000,0.000,0.000,0.000,0.000,0.000,0.000,0.000,0.000,0.000,0.000,0.000,0.000,0.000,0.000,0.000,0.000,0.000,0.000,0.000,0.000,0.000,0.000,0.000,0.000,0.000,0.000,0.000,0.000,0.000,0.000,0.000,0.000,0.000,0.000,0.000,0.000,0.000,0.000,0.000,0.000,0.000,0.000,0.000,0.000,0.000,0.000,0.000,0.000,0.000,0.000,0.000,0.000,0.000,0.000,0.000,0.000,0.196,0.878,0.000,0.000,0.000,0.000,0.000,0.000,0.000,0.275,0.114,0.000,0.000,0.000,0.000,0.000,0.000,0.000,0.000,0.000,0.000,0.000,0.000,0.000,0.000,0.000,0.000,0.000,0.475,0.906,0.000,0.000,0.000,0.000,0.000,0.000,0.000,0.580,0.659,0.000,0.000,0.000,0.000,0.000,0.000,0.000,0.000,0.000,0.000,0.000,0.000,0.000,0.000,0.000,0.000,0.016,0.765,0.906,0.000,0.000,0.000,0.000,0.000,0.000,0.000,0.376,0.824,0.043,0.000,0.000,0.000,0.000,0.000,0.000,0.000,0.000,0.000,0.000,0.000,0.000,0.000,0.000,0.000,0.271,0.988,0.525,0.000,0.000,0.000,0.000,0.000,0.000,0.000,0.447,0.988,0.082,0.000,0.000,0.000,0.000,0.000,0.000,0.000,0.000,0.000,0.000,0.000,0.000,0.000,0.000,0.176,0.925,0.851,0.047,0.000,0.000,0.000,0.000,0.000,0.000,0.000,0.753,0.988,0.082,0.000,0.000,0.000,0.000,0.000,0.000,0.000,0.000,0.000,0.000,0.000,0.000,0.000,0.000,0.659,0.969,0.208,0.000,0.000,0.000,0.000,0.000,0.000,0.000,0.071,1.000,0.992,0.082,0.000,0.000,0.000,0.000,0.000,0.000,0.000,0.000,0.000,0.000,0.000,0.000,0.000,0.329,0.949,0.827,0.000,0.000,0.000,0.000,0.000,0.000,0.000,0.000,0.553,0.992,0.741,0.020,0.000,0.000,0.000,0.000,0.000,0.000,0.000,0.000,0.000,0.000,0.000,0.000,0.000,0.663,0.988,0.416,0.000,0.000,0.000,0.000,0.000,0.000,0.000,0.125,0.910,0.980,0.259,0.000,0.000,0.000,0.000,0.000,0.000,0.000,0.000,0.000,0.000,0.000,0.000,0.000,0.059,0.882,0.988,0.000,0.000,0.000,0.000,0.000,0.000,0.000,0.000,0.525,0.988,0.827,0.000,0.000,0.000,0.000,0.000,0.000,0.000,0.000,0.000,0.000,0.000,0.000,0.000,0.000,0.086,0.988,0.643,0.000,0.000,0.000,0.000,0.000,0.000,0.000,0.000,0.663,0.988,0.655,0.000,0.000,0.000,0.000,0.000,0.000,0.000,0.000,0.000,0.000,0.000,0.000,0.000,0.000,0.035,0.800,0.820,0.071,0.000,0.000,0.000,0.000,0.000,0.000,0.086,0.992,0.992,0.420,0.000,0.000,0.000,0.000,0.000,0.000,0.000,0.000,0.000,0.000,0.000,0.000,0.000,0.000,0.000,0.663,0.988,0.780,0.333,0.333,0.333,0.333,0.506,0.643,0.765,0.988,0.988,0.416,0.000,0.000,0.000,0.000,0.000,0.000,0.000,0.000,0.000,0.000,0.000,0.000,0.000,0.000,0.000,0.161,0.667,0.961,0.988,0.988,0.988,0.988,0.910,0.906,0.984,0.988,0.988,0.035,0.000,0.000,0.000,0.000,0.000,0.000,0.000,0.000,0.000,0.000,0.000,0.000,0.000,0.000,0.000,0.000,0.000,0.192,0.329,0.329,0.329,0.329,0.000,0.000,0.631,0.988,0.988,0.000,0.000,0.000,0.000,0.000,0.000,0.000,0.000,0.000,0.000,0.000,0.000,0.000,0.000,0.000,0.000,0.000,0.000,0.000,0.000,0.000,0.000,0.000,0.000,0.000,0.498,0.988,0.988,0.176,0.000,0.000,0.000,0.000,0.000,0.000,0.000,0.000,0.000,0.000,0.000,0.000,0.000,0.000,0.000,0.000,0.000,0.000,0.000,0.000,0.000,0.000,0.000,0.000,0.502,0.992,0.992,0.000,0.000,0.000,0.000,0.000,0.000,0.000,0.000,0.000,0.000,0.000,0.000,0.000,0.000,0.000,0.000,0.000,0.000,0.000,0.000,0.000,0.000,0.000,0.000,0.000,0.498,0.988,0.988,0.000,0.000,0.000,0.000,0.000,0.000,0.000,0.000,0.000,0.000,0.000,0.000,0.000,0.000,0.000,0.000,0.000,0.000,0.000,0.000,0.000,0.000,0.000,0.000,0.000,0.529,0.988,0.957,0.000,0.000,0.000,0.000,0.000,0.000,0.000,0.000,0.000,0.000,0.000,0.000,0.000,0.000,0.000,0.000,0.000,0.000,0.000,0.000,0.000,0.000,0.000,0.000,0.000,0.910,0.925,0.435,0.000,0.000,0.000,0.000,0.000,0.000,0.000,0.000,0.000,0.000,0.000,0.000,0.000,0.000,0.000,0.000,0.000,0.000,0.000,0.000,0.000,0.000,0.000,0.000,0.000,0.702,0.259,0.000,0.000,0.000,0.000,0.000,0.000,0.000,0.000,0.000,0.000,0.000,0.000,0.000,0.000,0.000,0.000,0.000,0.000,0.000,0.000,0.000,0.000,0.000,0.000,0.000,0.000,0.000,0.000,0.000,0.000,0.000,0.000,0.000,0.000,0.000,0.000,0.000,0.000,0.000,0.000,0.000,0.000,0.000,0.000,0.000,0.000,0.000,0.000,0.000,0.000,0.000,0.000,0.000,0.000,0.000,0.000,0.000,0.000,0.000,0.000,0.000,0.000,0.000,0.000,0.000,0.000,0.000,0.000,0.000,0.000,0.000,0.000,0.000,0.000,0.000,0.000,0.000,0.000,0.000,0.000,0.000,0.000,0.000,0.000,0.000,0.000,0.000,0.000,0.000,0.000,0.000,0.000,0.000,0.000]"
   ]
  },
  {
   "cell_type": "code",
   "execution_count": 43,
   "metadata": {},
   "outputs": [],
   "source": [
    "%matplotlib inline\n",
    "import matplotlib.pyplot as plt\n",
    "import numpy as np"
   ]
  },
  {
   "cell_type": "code",
   "execution_count": 44,
   "metadata": {
    "scrolled": true
   },
   "outputs": [
    {
     "data": {
      "image/png": "[encoded data removed]",
      "text/plain": [
       "<Figure size 432x288 with 2 Axes>"
      ]
     },
     "metadata": {
      "needs_background": "light"
     },
     "output_type": "display_data"
    }
   ],
   "source": [
    "for i, image in enumerate([image1, image2]):\n",
    "    plt.subplot(2, 2, i + 1)\n",
    "    plt.axis('off')\n",
    "    plt.imshow( (np.reshape(image, (28, 28)) * 255).astype(np.uint8), cmap=plt.cm.gray_r, interpolation='nearest')"
   ]
  },
  {
   "cell_type": "markdown",
   "metadata": {},
   "source": [
    "Build a scoring dictionary consisting of two digits and send it to the deployed model to get predictions."
   ]
  },
  {
   "cell_type": "code",
   "execution_count": 45,
   "metadata": {},
   "outputs": [],
   "source": [
    "# Build scoring dictionary which has two digits (image1 and image29.\n",
    "scoring_data = {'values': [image1, image2]}"
   ]
  },
  {
   "cell_type": "code",
   "execution_count": 46,
   "metadata": {},
   "outputs": [
    {
     "name": "stdout",
     "output_type": "stream",
     "text": [
      "Scoring result: {'values': [5, 4]}\n"
     ]
    }
   ],
   "source": [
    "# send scoring dictionary to deployed model to get predictions\n",
    "predictions = client.deployments.score(scoring_url, scoring_data)\n",
    "print(\"Scoring result: \" + str(predictions))"
   ]
  },
  {
   "cell_type": "markdown",
   "metadata": {
    "collapsed": true
   },
   "source": [
    "<a id=\"summary\"></a>\n",
    "## 6. Summary and next steps     "
   ]
  },
  {
   "cell_type": "markdown",
   "metadata": {
    "collapsed": true
   },
   "source": [
    "You successfully completed this notebook! \n",
    " \n",
    "You learned how to use `watson-machine-learning-client` to train and score TensorFlow models. \n",
    " \n",
    "Check out our <a href=\"https://dataplatform.ibm.com/docs/content/analyze-data/wml-setup.html\" target=\"_blank\" rel=\"noopener noreferrer\">Online Documentation</a> for a <a href=\"https://dataplatform.ibm.com/docs/content/analyze-data/ml-python-mnist-tutorial.html\" target=\"_blank\" rel=\"noopener noreferrer\">tutorial</a> and more samples, documentation, how-tos, and blog posts. "
   ]
  },
  {
   "cell_type": "markdown",
   "metadata": {},
   "source": [
    "### Citations\n",
    "Y. LeCun, L. Bottou, Y. Bengio, and P. Haffner. \"Gradient-based learning applied to document recognition.\" Proceedings of the IEEE, 86(11):2278-2324, November 1998."
   ]
  },
  {
   "cell_type": "markdown",
   "metadata": {},
   "source": [
    "### Authors\n",
    "\n",
    "**Lukasz Cmielowski**, PhD, is a Automation Architect and Data Scientist at IBM with a track record of developing enterprise-level applications that substantially increase the clients' ability to turn data into actionable knowledge."
   ]
  },
  {
   "cell_type": "markdown",
   "metadata": {},
   "source": [
    "Copyright © 2017, 2019 IBM. This notebook and its source code are released under the terms of the MIT License."
   ]
  },
  {
   "cell_type": "markdown",
   "metadata": {},
   "source": [
    "<div style=\"background:#F5F7FA; height:110px; padding: 2em; font-size:14px;\">\n",
    "<span style=\"font-size:18px;color:#152935;\">Love this notebook? </span>\n",
    "<span style=\"font-size:15px;color:#152935;float:right;margin-right:40px;\">Don't have an account yet?</span><br>\n",
    "<span style=\"color:#5A6872;\">Share it with your colleagues and help them discover the power of Watson Studio!</span>\n",
    "<span style=\"border: 1px solid #3d70b2;padding:8px;float:right;margin-right:40px; color:#3d70b2;\"><a href=\"https://ibm.co/wsnotebooks\" target=\"_blank\" style=\"color: #3d70b2;text-decoration: none;\">Sign Up</a></span><br>\n",
    "</div>"
   ]
  }
 ],
 "metadata": {
  "kernelspec": {
   "display_name": "Python 3.6",
   "language": "python",
   "name": "python3"
  },
  "language_info": {
   "codemirror_mode": {
    "name": "ipython",
    "version": 3
   },
   "file_extension": ".py",
   "mimetype": "text/x-python",
   "name": "python",
   "nbconvert_exporter": "python",
   "pygments_lexer": "ipython3",
   "version": "3.6.8"
  }
 },
 "nbformat": 4,
 "nbformat_minor": 1
}
