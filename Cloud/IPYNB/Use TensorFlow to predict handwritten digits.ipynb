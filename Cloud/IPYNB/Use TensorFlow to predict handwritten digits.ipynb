{
 "cells": [
  {
   "cell_type": "markdown",
   "metadata": {},
   "source": [
    "<table style=\"border: none\" align=\"left\">\n",
    "   <tr style=\"border: none\">\n",
    "      <th style=\"border: none\"><font face=\"verdana\" size=\"5\" color=\"black\"><b>Use TensorFlow to predict handwritten digits</b></font></font></th>\n",
    "      <th style=\"border: none\"><img src=\"https://github.com/pmservice/customer-satisfaction-prediction/blob/master/app/static/images/ml_icon_gray.png?raw=true\" alt=\"Watson Machine Learning icon\" height=\"40\" width=\"40\"></th>\n",
    "   </tr> \n",
    "   <tr style=\"border: none\">\n",
    "       <td style=\"border: none\"><img src=\"https://github.com/pmservice/wml-sample-models/raw/master/scikit-learn/hand-written-digits-recognition/images/numbers_banner-04.png\" width=\"600\" alt=\"Icon\"></td>\n",
    "   </tr>\n",
    "</table>"
   ]
  },
  {
   "cell_type": "markdown",
   "metadata": {},
   "source": [
    "This notebook demonstrates how to train and score a Deep Learning model in the Watson Machine Learning (WML) repository.\n",
    "\n",
    "This notebook contains code for the following items: \n",
    "\n",
    "- Obtain data.\n",
    "- Persist training definitions in the Watson Machine Learning repository.\n",
    "- Train a Deep Learning model.\n",
    "- Deploy a trained model.\n",
    "- Score the trained model.\n",
    "\n",
    "Some familiarity with Python is helpful. This notebook is compatible with Python 3.5 and uses <a href=\"https://dataplatform.cloud.ibm.com/docs/content/analyze-data/environments-parent.html\" target=\"_blank\" rel=\"noopener no referrer\">Watson Studio environments.</a>\n",
    "\n",
    "\n",
    "## Learning goals\n",
    "\n",
    "In this notebook, you will learn how to:\n",
    "\n",
    "-  Set up Watson Machine Learning experiments to train Deep Learning (Tensorflow) models.\n",
    "-  Save trained models in the Watson Machine Learning repository.\n",
    "-  Deploy a trained model online and score it.\n",
    "\n",
    "\n",
    "## Contents\n",
    "\n",
    "1.\t[Set up the environment](#setup)\n",
    "2.\t[Explore data](#data)\n",
    "3.  [Create training definitions](#model)\n",
    "4.  [Train a model](#train)\n",
    "5.\t[Save the model](#save)\n",
    "6.\t[Create an online deployment](#deploy)\n",
    "7.\t[Score data](#score)\n",
    "8.\t[Summary and next steps](#summary)"
   ]
  },
  {
   "cell_type": "markdown",
   "metadata": {},
   "source": [
    "<a id=\"setup\"></a>\n",
    "## 1. Set up the environment\n",
    "\n",
    "Before you use the sample code in this notebook, you must perform the following setup tasks:\n",
    "\n",
    "-  Create a <a href=\"https://console.ng.bluemix.net/catalog/services/ibm-watson-machine-learning/\" target=\"_blank\" rel=\"noopener no referrer\">Watson Machine Learning (WML) Service</a> instance (a free plan is offered and information about how to create the instance can be found <a href=\"https://dataplatform.ibm.com/docs/content/analyze-data/wml-setup.html\" target=\"_blank\" rel=\"noopener no referrer\">here</a>).\n",
    "-  Create a <a href=\"https://console.bluemix.net/catalog/infrastructure/cloud-object-storage\" target=\"_blank\" rel=\"noopener no referrer\">Cloud Object Storage (COS)</a> instance (a lite plan is offered and information about how to order storage can be found <a href=\"https://console.bluemix.net/docs/services/cloud-object-storage/basics/order-storage.html#order-storage\" target=\"_blank\" rel=\"noopener no referrer\">here</a>). <br/>**Note: When using Watson Studio, you already have a COS instance associated with the project you are running the notebook in.**\n",
    "- Create new credentials with HMAC: \n",
    "    - Go to your COS dashboard.\n",
    "    - In the **Service credentials** tab, click **New Credential (+)**.\n",
    "    - Add the inline configuration parameter: {\"HMAC\":true}, click **Add**. (For more information, see <a href=\"https://console.bluemix.net/docs/services/cloud-object-storage/hmac/credentials.html#using-hmac-credentials\" target=\"_blank\" rel=\"noopener no referrer\">HMAC</a>.)\n",
    "\n",
    "    This configuration parameter adds the following section to the instance credentials, (for use later in this notebook):\n",
    "    ```\n",
    "      \"cos_hmac_keys\": {\n",
    "            \"access_key_id\": \"-------\",\n",
    "            \"secret_access_key\": \"-------\"\n",
    "       }\n",
    "    ```\n",
    "\n",
    "In this section, you learn how to:\n",
    "\n",
    "- [1.1 Set up the Cloud Object Storage (COS) service](#cos)\n",
    "- [1.2 Download MNIST data files and upload them to the COS buckets](#mnist)\n",
    "- [1.3 Set up the Watson Machine Learning (WML) instance](#wml)"
   ]
  },
  {
   "cell_type": "markdown",
   "metadata": {},
   "source": [
    "### 1.1 Set up the Cloud Object Storage (COS) service <a id=\"cos\"></a>"
   ]
  },
  {
   "cell_type": "markdown",
   "metadata": {},
   "source": [
    "Install the IBM boto package. This package allows Python developers to manage Cloud Object Storage (COS)."
   ]
  },
  {
   "cell_type": "markdown",
   "metadata": {},
   "source": [
    "**Tip:** If `ibm_boto3` is not preinstalled in your environment, run the following command to install it: "
   ]
  },
  {
   "cell_type": "code",
   "execution_count": null,
   "metadata": {},
   "outputs": [],
   "source": [
    "# Run the command if ibm_boto3 is not installed.\n",
    "!pip install --upgrade ibm-cos-sdk"
   ]
  },
  {
   "cell_type": "code",
   "execution_count": 2,
   "metadata": {},
   "outputs": [],
   "source": [
    "# Import the boto module.\n",
    "import ibm_boto3\n",
    "from ibm_botocore.client import Config"
   ]
  },
  {
   "cell_type": "markdown",
   "metadata": {},
   "source": [
    "Enter your COS credentials in the following cell. \n",
    "\n",
    "You can find these credentials in your COS instance dashboard under the **Service credentials** tab.\n",
    "\n",
    "**Note:** The HMAC key described in [set up the environment](#setup) is included in these credentials."
   ]
  },
  {
   "cell_type": "code",
   "execution_count": 3,
   "metadata": {},
   "outputs": [],
   "source": [
    "cos_credentials = {\n",
    "    'apikey': '***',\n",
    "    'cos_hmac_keys': {\n",
    "        'access_key_id': '***',\n",
    "        'secret_access_key': '***'\n",
    "    },\n",
    "    'endpoints': 'https://cos-service.bluemix.net/endpoints',\n",
    "    'iam_apikey_description': 'Auto generated apikey during resource-key operation for Instance - crn:v1:bluemix:public:cloud-object-storage:global:a/07a95aa44e6124e8b320b70cf88033fa:876e5285-4bef-4cf3-a89b-595e19648c7c::',\n",
    "    'iam_apikey_name': 'auto-generated-apikey-19a79dae-6a58-4b4f-878f-6839b711523f',\n",
    "    'iam_role_crn': 'crn:v1:bluemix:public:iam::::serviceRole:Writer',\n",
    "    'iam_serviceid_crn': 'crn:v1:bluemix:public:iam-identity::a/07a95aa44e6124e8b320b70cf88033fa::serviceid:ServiceId-3f2cccee-61ec-4147-8732-9f58479ba26a',\n",
    "    'resource_instance_id': 'crn:v1:bluemix:public:cloud-object-storage:global:a/07a95aa44e6124e8b320b70cf88033fa:876e5285-4bef-4cf3-a89b-595e19648c7c::'\n",
    "}"
   ]
  },
  {
   "cell_type": "markdown",
   "metadata": {},
   "source": [
    "Define the endpoint.\n",
    "\n",
    "To do this, go to the **Endpoint** tab in the COS instance's dashboard to get the endpoint information, then copy-and-paste it in the cell below:"
   ]
  },
  {
   "cell_type": "code",
   "execution_count": 5,
   "metadata": {},
   "outputs": [],
   "source": [
    "# Define endpoint information.\n",
    "service_endpoint = 'https://s3-api.us-geo.objectstorage.softlayer.net'"
   ]
  },
  {
   "cell_type": "markdown",
   "metadata": {},
   "source": [
    "You also need the IBM Cloud authorization endpoint to be able to create COS resource object."
   ]
  },
  {
   "cell_type": "code",
   "execution_count": 6,
   "metadata": {},
   "outputs": [],
   "source": [
    "# Define the authorization endpoint.\n",
    "auth_endpoint = 'https://iam.bluemix.net/oidc/token'"
   ]
  },
  {
   "cell_type": "markdown",
   "metadata": {},
   "source": [
    "Create a Boto resource to be able to write data to COS."
   ]
  },
  {
   "cell_type": "code",
   "execution_count": 7,
   "metadata": {},
   "outputs": [],
   "source": [
    "# Create a COS resource.\n",
    "cos = ibm_boto3.resource(\n",
    "    's3',\n",
    "     ibm_api_key_id=cos_credentials['apikey'],\n",
    "     ibm_service_instance_id=cos_credentials['resource_instance_id'],\n",
    "     ibm_auth_endpoint=auth_endpoint,\n",
    "     config=Config(signature_version='oauth'),\n",
    "     endpoint_url=service_endpoint\n",
    ")"
   ]
  },
  {
   "cell_type": "markdown",
   "metadata": {},
   "source": [
    "Create two buckets, which you will use to store training data and training results.\n",
    "\n",
    "**Note:** The bucket names must be unique."
   ]
  },
  {
   "cell_type": "code",
   "execution_count": 8,
   "metadata": {},
   "outputs": [
    {
     "name": "stdout",
     "output_type": "stream",
     "text": [
      "Creating bucket \"training-data-ce6d44c1-19d5-47ed-aca7-6b45a62150c8\"...\n",
      "Creating bucket \"training-results-ce6d44c1-19d5-47ed-aca7-6b45a62150c8\"...\n"
     ]
    }
   ],
   "source": [
    "from uuid import uuid4\n",
    "\n",
    "bucket_uid = str(uuid4())\n",
    "buckets = ['training-data-' + bucket_uid, 'training-results-' + bucket_uid]\n",
    "\n",
    "for bucket in buckets:\n",
    "    if not cos.Bucket(bucket) in cos.buckets.all():\n",
    "        print('Creating bucket \"{}\"...'.format(bucket))\n",
    "        try:\n",
    "            cos.create_bucket(Bucket=bucket)\n",
    "        except ibm_boto3.exceptions.ibm_botocore.client.ClientError as e:\n",
    "            print('Error: {}.'.format(e.response['Error']['Message']))"
   ]
  },
  {
   "cell_type": "markdown",
   "metadata": {},
   "source": [
    "Now, you should have 2 buckets."
   ]
  },
  {
   "cell_type": "code",
   "execution_count": 9,
   "metadata": {},
   "outputs": [
    {
     "name": "stdout",
     "output_type": "stream",
     "text": [
      "[s3.Bucket(name='9fff2508-60c5-4e75-835b-210aa00ff010-style-data'), s3.Bucket(name='9fff2508-60c5-4e75-835b-210aa00ff010-style-results'), s3.Bucket(name='aiopenscalepythonclient-donotdelete-pr-hp7rm9ptqfgzw7'), s3.Bucket(name='aiopenscaletutorial-donotdelete-pr-uwusxqgchfwz2j'), s3.Bucket(name='aispheredemo-donotdelete-pr-s7lhzejm05qqne'), s3.Bucket(name='aispherescenario-datacatalog-sydghgvlq'), s3.Bucket(name='ale-kupa-in'), s3.Bucket(name='aparbuganalysis-donotdelete-pr-u8wdjkxlhda3sz'), s3.Bucket(name='batch-job-3c4e33a1-e7e5-4ef8-acd3-9f873d7d3d3f'), s3.Bucket(name='cars4you-train-data'), s3.Bucket(name='cifar-keras-nnm-input'), s3.Bucket(name='coreml-donotdelete-pr-5lprxel1c6jrfp'), s3.Bucket(name='coreml-mnist-input-data'), s3.Bucket(name='creditcardfraud545b518d4ec34681aa7e8e8680b486d5'), s3.Bucket(name='datasphereworkshops-donotdelete-pr-xfdm0p7mjo5ms6'), s3.Bucket(name='externalenginesopenscale-donotdelete-pr-osaesm54pzkuww'), s3.Bucket(name='lab4openscale-donotdelete-pr-sil3pgv0o8bhct'), s3.Bucket(name='labs4openscale-donotdelete-pr-lhzkuprwnyy0lj'), s3.Bucket(name='mnist-keras-data-example'), s3.Bucket(name='mnist-keras-data-example2018-06-01-19-36'), s3.Bucket(name='mnist-keras-results-example'), s3.Bucket(name='mnist-keras-results-example2018-06-01-19-36'), s3.Bucket(name='style-data-example'), s3.Bucket(name='style-data-example-workshops'), s3.Bucket(name='style-results-example'), s3.Bucket(name='style-results-example-workshops'), s3.Bucket(name='testformodel-donotdelete-pr-7hltg99m0db5l1'), s3.Bucket(name='train-data-experiment-2018-03-28-09-34'), s3.Bucket(name='train-data-experiment-2018-05-30-14-26'), s3.Bucket(name='train-data-experiment-2018-08-16-13-11'), s3.Bucket(name='train-data-experiment-2018-12-10-02-39'), s3.Bucket(name='train-data-experiment-2018-12-10-02-41'), s3.Bucket(name='train-data-experiment-2018-12-10-08-10'), s3.Bucket(name='train-data-experiment-2018-12-17-18-13'), s3.Bucket(name='train-result-experiment-2018-03-28-09-34'), s3.Bucket(name='train-result-experiment-2018-05-30-14-26'), s3.Bucket(name='train-result-experiment-2018-08-16-13-11'), s3.Bucket(name='train-result-experiment-2018-12-10-02-39'), s3.Bucket(name='train-result-experiment-2018-12-10-02-41'), s3.Bucket(name='train-result-experiment-2018-12-10-08-10'), s3.Bucket(name='train-result-experiment-2018-12-17-18-13'), s3.Bucket(name='training-data-38a61fd8-a250-4a82-9277-ef51f88bfadb'), s3.Bucket(name='training-data-47687ebc-1597-4cdb-b692-51600c0fa77e'), s3.Bucket(name='training-data-48fd7940-f87c-437e-974f-78bc3ce675cf'), s3.Bucket(name='training-data-72a8aecc-64f2-4729-9fa9-753b3c776228'), s3.Bucket(name='training-data-948ab92b-1b32-4d1d-b9f5-d1e747265af7'), s3.Bucket(name='training-data-ce6d44c1-19d5-47ed-aca7-6b45a62150c8'), s3.Bucket(name='training-data-eacf90dc-f69a-437c-8f43-5d36aa59abf4'), s3.Bucket(name='training-results-38a61fd8-a250-4a82-9277-ef51f88bfadb'), s3.Bucket(name='training-results-47687ebc-1597-4cdb-b692-51600c0fa77e'), s3.Bucket(name='training-results-48fd7940-f87c-437e-974f-78bc3ce675cf'), s3.Bucket(name='training-results-72a8aecc-64f2-4729-9fa9-753b3c776228'), s3.Bucket(name='training-results-948ab92b-1b32-4d1d-b9f5-d1e747265af7'), s3.Bucket(name='training-results-ce6d44c1-19d5-47ed-aca7-6b45a62150c8'), s3.Bucket(name='training-results-eacf90dc-f69a-437c-8f43-5d36aa59abf4'), s3.Bucket(name='trickingneuralnetworkssecurityrob-donotdelete-pr-telxthukazexd4'), s3.Bucket(name='wml-test-yp-qa-lc-data-2018-09-15-17-50-59'), s3.Bucket(name='wml-test-yp-qa-lc-data-2018-09-17-09-25-23'), s3.Bucket(name='wml-test-yp-qa-lc-data-2018-09-17-11-12-06'), s3.Bucket(name='wml-test-yp-qa-lc-results-2018-09-15-17-50-59'), s3.Bucket(name='wml-test-yp-qa-lc-results-2018-09-17-09-25-23'), s3.Bucket(name='wml-test-yp-qa-lc-results-2018-09-17-11-12-06'), s3.Bucket(name='xxx-donotdelete-pr-ly02ysmxmvyqcr')]\n"
     ]
    }
   ],
   "source": [
    "# Display a list of created buckets.\n",
    "print(list(cos.buckets.all()))"
   ]
  },
  {
   "cell_type": "markdown",
   "metadata": {},
   "source": [
    "### 1.2 Download the MNIST training data files and upload them to the COS buckets <a id=\"mnist\"></a>"
   ]
  },
  {
   "cell_type": "markdown",
   "metadata": {},
   "source": [
    "Download the training data and upload it to the 'training-data' bucket.\n",
    "First, create a list of links for the training data set.\n",
    "\n",
    "**Tip**: The MNIST data sets that you are downloading from the links in the following cell are basically the same ones in the ``python-mnist`` package."
   ]
  },
  {
   "cell_type": "code",
   "execution_count": 10,
   "metadata": {},
   "outputs": [],
   "source": [
    "# Create a list of links.\n",
    "data_links = ['http://yann.lecun.com/exdb/mnist/train-images-idx3-ubyte.gz', # Training set images\n",
    "              'http://yann.lecun.com/exdb/mnist/train-labels-idx1-ubyte.gz', # Training set labels\n",
    "              'http://yann.lecun.com/exdb/mnist/t10k-images-idx3-ubyte.gz',  # Test set images\n",
    "              'http://yann.lecun.com/exdb/mnist/t10k-labels-idx1-ubyte.gz']  # Test set labels"
   ]
  },
  {
   "cell_type": "markdown",
   "metadata": {},
   "source": [
    "The code in the next cell uploads files from links to your COS."
   ]
  },
  {
   "cell_type": "code",
   "execution_count": 11,
   "metadata": {},
   "outputs": [
    {
     "name": "stdout",
     "output_type": "stream",
     "text": [
      "Uploading data train-images-idx3-ubyte.gz...\n",
      "train-images-idx3-ubyte.gz is uploaded.\n",
      "Uploading data train-labels-idx1-ubyte.gz...\n",
      "train-labels-idx1-ubyte.gz is uploaded.\n",
      "Uploading data t10k-images-idx3-ubyte.gz...\n",
      "t10k-images-idx3-ubyte.gz is uploaded.\n",
      "Uploading data t10k-labels-idx1-ubyte.gz...\n",
      "t10k-labels-idx1-ubyte.gz is uploaded.\n"
     ]
    }
   ],
   "source": [
    "# Upload files from the links to COS\n",
    "from urllib.request import urlopen\n",
    "\n",
    "bucket_obj = cos.Bucket(buckets[0])\n",
    "\n",
    "for data_link in data_links:\n",
    "    filename=data_link.split('/')[-1]\n",
    "    print('Uploading data {}...'.format(filename))\n",
    "    with urlopen(data_link) as data:\n",
    "        bucket_obj.upload_fileobj(data, filename)\n",
    "        print('{} is uploaded.'.format(filename))"
   ]
  },
  {
   "cell_type": "markdown",
   "metadata": {},
   "source": [
    "Have a look at the list of the created buckets and each bucket's content."
   ]
  },
  {
   "cell_type": "code",
   "execution_count": 12,
   "metadata": {},
   "outputs": [
    {
     "name": "stdout",
     "output_type": "stream",
     "text": [
      "training-data-ce6d44c1-19d5-47ed-aca7-6b45a62150c8\n",
      "  File: t10k-images-idx3-ubyte.gz, 1610.23kB\n",
      "  File: t10k-labels-idx1-ubyte.gz, 4.44kB\n",
      "  File: train-images-idx3-ubyte.gz, 9680.10kB\n",
      "  File: train-labels-idx1-ubyte.gz, 28.20kB\n",
      "training-results-ce6d44c1-19d5-47ed-aca7-6b45a62150c8\n"
     ]
    }
   ],
   "source": [
    "for bucket_name in buckets:\n",
    "    print(bucket_name)\n",
    "    bucket_obj = cos.Bucket(bucket_name)\n",
    "    for obj in bucket_obj.objects.all():\n",
    "        print('  File: {}, {:4.2f}kB'.format(obj.key, obj.size/1024))"
   ]
  },
  {
   "cell_type": "markdown",
   "metadata": {},
   "source": [
    "You are done with COS and ready to train your model!"
   ]
  },
  {
   "cell_type": "markdown",
   "metadata": {},
   "source": [
    "### 1.3 Set up the Watson Machine Learning (WML) instance <a id=\"wml\"></a>"
   ]
  },
  {
   "cell_type": "markdown",
   "metadata": {},
   "source": [
    "Import the modules you need to set up your WML instance.\n",
    "\n",
    "**Hint:** You may also need to install `wget` using the following command: `!pip install --upgrade wget`"
   ]
  },
  {
   "cell_type": "code",
   "execution_count": null,
   "metadata": {},
   "outputs": [],
   "source": [
    "!pip install --upgrade wget"
   ]
  },
  {
   "cell_type": "code",
   "execution_count": 14,
   "metadata": {},
   "outputs": [],
   "source": [
    "import urllib3\n",
    "import json\n",
    "import os\n",
    "import wget"
   ]
  },
  {
   "cell_type": "markdown",
   "metadata": {},
   "source": [
    "Authenticate the Watson Machine Learning (WML) service on the IBM Cloud.\n",
    "\n",
    "**Tip**: Authentication information (your credentials) can be found in the <a href=\"https://console.bluemix.net/docs/services/service_credentials.html#service_credentials\" target=\"_blank\" rel=\"noopener noreferrer\">Service credentials</a> tab of the service instance that you created on the IBM Cloud. \n",
    "If there are no credentials listed for your instance in **Service credentials**, click **New credential (+)** and enter the information required to generate new authentication information. \n",
    "\n",
    "**Action**: Enter your WML service instance credentials in the following cell."
   ]
  },
  {
   "cell_type": "code",
   "execution_count": 15,
   "metadata": {},
   "outputs": [],
   "source": [
    "wml_credentials = {\n",
    "    'username': '***',\n",
    "    'password': '***',\n",
    "    'instance_id': '***',\n",
    "    'url': 'https://ibm-watson-ml.mybluemix.net'\n",
    "}"
   ]
  },
  {
   "cell_type": "markdown",
   "metadata": {},
   "source": [
    "#### Install the `watson-machine-learning-client` package from pypi."
   ]
  },
  {
   "cell_type": "markdown",
   "metadata": {},
   "source": [
    "**Note:** `watson-machine-learning-client` documentation can be found <a href=\"http://wml-api-pyclient.mybluemix.net/\" target=\"_blank\" rel=\"noopener noreferrer\">here</a>."
   ]
  },
  {
   "cell_type": "code",
   "execution_count": 17,
   "metadata": {},
   "outputs": [],
   "source": [
    "!rm -rf $PIP_BUILD/watson-machine-learning-client"
   ]
  },
  {
   "cell_type": "code",
   "execution_count": null,
   "metadata": {},
   "outputs": [],
   "source": [
    "!pip install --upgrade watson-machine-learning-client"
   ]
  },
  {
   "cell_type": "markdown",
   "metadata": {},
   "source": [
    "#### Import the `watson-machine-learning-client` and authenticate the service instance."
   ]
  },
  {
   "cell_type": "code",
   "execution_count": null,
   "metadata": {},
   "outputs": [],
   "source": [
    "from watson_machine_learning_client import WatsonMachineLearningAPIClient"
   ]
  },
  {
   "cell_type": "markdown",
   "metadata": {},
   "source": [
    "**Note:** You might see deprecation warning(s) from scikit-learn package that does (do) not impact watson machine learning client functionality."
   ]
  },
  {
   "cell_type": "code",
   "execution_count": 20,
   "metadata": {},
   "outputs": [],
   "source": [
    "client = WatsonMachineLearningAPIClient(wml_credentials)"
   ]
  },
  {
   "cell_type": "markdown",
   "metadata": {},
   "source": [
    "<a id=\"data\"></a>\n",
    "## 2. Explore data\n",
    "\n",
    "In this section, you will check how the input data look like. You need `python-mnist` and `matplotlib` packages to see how each data point looks like."
   ]
  },
  {
   "cell_type": "markdown",
   "metadata": {},
   "source": [
    "First, download all image data sets and label files."
   ]
  },
  {
   "cell_type": "code",
   "execution_count": 21,
   "metadata": {},
   "outputs": [],
   "source": [
    "for d in data_links:\n",
    "    wget.download(d)"
   ]
  },
  {
   "cell_type": "markdown",
   "metadata": {},
   "source": [
    "Check if the all files are successfully downloaded to the local file system by running **ls** (shell command)."
   ]
  },
  {
   "cell_type": "code",
   "execution_count": 22,
   "metadata": {},
   "outputs": [
    {
     "name": "stdout",
     "output_type": "stream",
     "text": [
      "2dcc72ce-16c2-4ad0-94c8-77f37317b47b  t10k-labels-idx1-ubyte.gz\r\n",
      "f7982685-3040-4936-a7a4-d42aec6b2e1c  train-images-idx3-ubyte.gz\r\n",
      "t10k-images-idx3-ubyte.gz\t      train-labels-idx1-ubyte.gz\r\n"
     ]
    }
   ],
   "source": [
    "!ls"
   ]
  },
  {
   "cell_type": "markdown",
   "metadata": {},
   "source": [
    "Decompress all downloaded files."
   ]
  },
  {
   "cell_type": "code",
   "execution_count": 23,
   "metadata": {},
   "outputs": [],
   "source": [
    "!gzip -df *.gz"
   ]
  },
  {
   "cell_type": "markdown",
   "metadata": {},
   "source": [
    "According to section [1.2 Download the training data and upload it to the COS buckets](#mnist), the downloaded files above can be found in ``python-mnist`` package.\n",
    "\n",
    "Install python-mnist package in order to view each image in the data sets."
   ]
  },
  {
   "cell_type": "code",
   "execution_count": null,
   "metadata": {},
   "outputs": [],
   "source": [
    "!pip install --upgrade python-mnist"
   ]
  },
  {
   "cell_type": "markdown",
   "metadata": {},
   "source": [
    "Import MNIST module from mnist package and load the training data set."
   ]
  },
  {
   "cell_type": "code",
   "execution_count": 25,
   "metadata": {},
   "outputs": [],
   "source": [
    "from mnist import MNIST\n",
    "\n",
    "mndata = MNIST('')\n",
    "train_images, train_labels = mndata.load_training()"
   ]
  },
  {
   "cell_type": "markdown",
   "metadata": {},
   "source": [
    "Import `matplotlib` and `numpy` to see how handwritten digits look like."
   ]
  },
  {
   "cell_type": "code",
   "execution_count": 26,
   "metadata": {},
   "outputs": [],
   "source": [
    "import matplotlib.pyplot as plt\n",
    "import numpy as np\n",
    "%matplotlib inline"
   ]
  },
  {
   "cell_type": "markdown",
   "metadata": {},
   "source": [
    "A function that displays images and labels."
   ]
  },
  {
   "cell_type": "code",
   "execution_count": 27,
   "metadata": {},
   "outputs": [],
   "source": [
    "def display_digits(images, labels, length, title):\n",
    "    images_and_labels = list(zip(images, labels))\n",
    "    for index, (image, label) in enumerate(images_and_labels[:length]):\n",
    "        plt.subplot(length, length, index + 1)\n",
    "        plt.axis('off')\n",
    "        plt.imshow((np.reshape(np.array(image)/255, (28, 28)) * 255).astype(np.uint8), cmap=plt.cm.gray_r, interpolation='nearest')\n",
    "        plt.title(title + ': %i' % label)\n",
    "        plt.tight_layout()"
   ]
  },
  {
   "cell_type": "code",
   "execution_count": 28,
   "metadata": {},
   "outputs": [
    {
     "data": {
      "image/png": "[encoded data removed]",
      "text/plain": [
       "<matplotlib.figure.Figure at 0x7f9629d29940>"
      ]
     },
     "metadata": {},
     "output_type": "display_data"
    }
   ],
   "source": [
    "display_digits(train_images, train_labels, 3, 'Training')"
   ]
  },
  {
   "cell_type": "markdown",
   "metadata": {},
   "source": [
    "<a id=\"model\"></a>\n",
    "## 3. Create the training definitions\n",
    "\n",
    "In this section you:\n",
    "\n",
    "- [3.1 Create the training definition metadata](#prep)\n",
    "- [3.2 Get the sample model definition content files from Git](#get)\n",
    "- [3.3 Store the training definitions in the WML repository](#store)\n",
    "\n"
   ]
  },
  {
   "cell_type": "markdown",
   "metadata": {},
   "source": [
    "### 3.1 Create the training definition metadata<a id=\"prep\"></a>"
   ]
  },
  {
   "cell_type": "code",
   "execution_count": 29,
   "metadata": {},
   "outputs": [],
   "source": [
    "model_definition_metadata = {\n",
    "    client.repository.DefinitionMetaNames.NAME: 'My definition name',\n",
    "    client.repository.DefinitionMetaNames.DESCRIPTION: 'My description',\n",
    "    client.repository.DefinitionMetaNames.AUTHOR_NAME: 'John Smith',\n",
    "    client.repository.DefinitionMetaNames.FRAMEWORK_NAME: 'tensorflow',\n",
    "    client.repository.DefinitionMetaNames.FRAMEWORK_VERSION: '1.5',\n",
    "    client.repository.DefinitionMetaNames.RUNTIME_NAME: 'python',\n",
    "    client.repository.DefinitionMetaNames.RUNTIME_VERSION: '3.5',\n",
    "    client.repository.DefinitionMetaNames.EXECUTION_COMMAND: 'python3 tensorflow_mnist_softmax.py --trainingIters 20'\n",
    "}"
   ]
  },
  {
   "cell_type": "markdown",
   "metadata": {},
   "source": [
    "### 3.2 Get the sample model definition content file from Git <a id=\"get\"></a>"
   ]
  },
  {
   "cell_type": "code",
   "execution_count": 30,
   "metadata": {},
   "outputs": [
    {
     "name": "stdout",
     "output_type": "stream",
     "text": [
      "tf-softmax-model.zip\n"
     ]
    }
   ],
   "source": [
    "filename='tf-softmax-model.zip'\n",
    "\n",
    "if not os.path.isfile(filename):\n",
    "    filename = wget.download('https://github.com/pmservice/wml-sample-models/raw/master/tensorflow/hand-written-digit-recognition/definition/tf-softmax-model.zip')\n",
    "    \n",
    "print(filename)"
   ]
  },
  {
   "cell_type": "markdown",
   "metadata": {},
   "source": [
    "### 3.3 Store the training definition in the WML repository<a id=\"store\"></a>"
   ]
  },
  {
   "cell_type": "code",
   "execution_count": 31,
   "metadata": {},
   "outputs": [],
   "source": [
    "definition_details = client.repository.store_definition(filename, model_definition_metadata)"
   ]
  },
  {
   "cell_type": "code",
   "execution_count": 32,
   "metadata": {},
   "outputs": [],
   "source": [
    "definition_uid = client.repository.get_definition_uid(definition_details)"
   ]
  },
  {
   "cell_type": "code",
   "execution_count": 33,
   "metadata": {},
   "outputs": [
    {
     "name": "stdout",
     "output_type": "stream",
     "text": [
      "607e8219-48ca-4546-9e5f-482c4c502433\n"
     ]
    }
   ],
   "source": [
    "# Display the training definition uid.\n",
    "print(definition_uid)"
   ]
  },
  {
   "cell_type": "markdown",
   "metadata": {},
   "source": [
    "## 4. Train a model<a id=\"train\"></a>\n",
    "\n",
    "In this section, you will learn how to:\n",
    "- [4.1 Configure training metadata](#meta)\n",
    "- [4.2 Train the model in the background](#backg)\n",
    "- [4.3 Monitor the training log](#log)\n",
    "- [4.4 Cancel the training run](#cancel)\n"
   ]
  },
  {
   "cell_type": "markdown",
   "metadata": {},
   "source": [
    "### 4.1 Configure training metadata<a id=\"meta\"></a>\n",
    "\n",
    "- `TRAINING_DATA_REFERENCE` - references the uploaded training data.\n",
    "- `TRAINING_RESULTS_REFERENCE` - location where the trained model will be saved.\n",
    "\n",
    "**Note**: Your COS credentials are referenced in this code.\n"
   ]
  },
  {
   "cell_type": "code",
   "execution_count": 34,
   "metadata": {},
   "outputs": [],
   "source": [
    "# Configure the training metadata for the TRAINING_DATA_REFERENCE and TRAINING_RESULTS_REFERENCE.\n",
    "training_configuration_metadata = {\n",
    "    client.training.ConfigurationMetaNames.NAME: 'Hand-written Digit Recognition', \n",
    "    client.training.ConfigurationMetaNames.AUTHOR_NAME: 'John Smith',              \n",
    "    client.training.ConfigurationMetaNames.DESCRIPTION: 'Hand-written Digit Recognition training',\n",
    "    client.training.ConfigurationMetaNames.COMPUTE_CONFIGURATION: {'name': 'k80'},\n",
    "    client.training.ConfigurationMetaNames.TRAINING_DATA_REFERENCE: {\n",
    "        'connection': {\n",
    "            'endpoint_url': service_endpoint,\n",
    "            'access_key_id': cos_credentials['cos_hmac_keys']['access_key_id'],\n",
    "            'secret_access_key': cos_credentials['cos_hmac_keys']['secret_access_key']\n",
    "        },\n",
    "        'source': {\n",
    "            'bucket': buckets[0]\n",
    "        },\n",
    "        'type': 's3'\n",
    "    },\n",
    "    client.training.ConfigurationMetaNames.TRAINING_RESULTS_REFERENCE: {\n",
    "        'connection': {\n",
    "            'endpoint_url': service_endpoint,\n",
    "            'access_key_id': cos_credentials['cos_hmac_keys']['access_key_id'],\n",
    "            'secret_access_key': cos_credentials['cos_hmac_keys']['secret_access_key']\n",
    "        },\n",
    "        'target': {\n",
    "            'bucket': buckets[1]\n",
    "        },\n",
    "        'type': 's3'\n",
    "    }\n",
    "}"
   ]
  },
  {
   "cell_type": "markdown",
   "metadata": {},
   "source": [
    "### 4.2 Train the model in the background<a id=\"backg\"></a>\n",
    "\n",
    "To run the training in the **background**, please set the optional parameter `asynchronous` as `True` (or remove it). In this case, the parameter has been removed. \n",
    "\n",
    "**Note:** To run the training in **active** mode, please set the optional parameter `asynchronous` as `False`."
   ]
  },
  {
   "cell_type": "code",
   "execution_count": 35,
   "metadata": {},
   "outputs": [],
   "source": [
    "training_run_details = client.training.run(definition_uid, training_configuration_metadata)"
   ]
  },
  {
   "cell_type": "code",
   "execution_count": 36,
   "metadata": {},
   "outputs": [],
   "source": [
    "training_run_guid_async = client.training.get_run_uid(training_run_details)"
   ]
  },
  {
   "cell_type": "markdown",
   "metadata": {},
   "source": [
    "Check the status of the training run by calling the method the next cell:"
   ]
  },
  {
   "cell_type": "code",
   "execution_count": 37,
   "metadata": {
    "scrolled": true
   },
   "outputs": [
    {
     "name": "stdout",
     "output_type": "stream",
     "text": [
      "{\n",
      "  \"metrics\": [],\n",
      "  \"state\": \"pending\",\n",
      "  \"message\": \"training-g73NScjmg: Submitted\",\n",
      "  \"current_at\": \"2019-03-06T12:17:58.808Z\",\n",
      "  \"submitted_at\": \"2019-03-06T12:17:55.581Z\"\n",
      "}\n"
     ]
    }
   ],
   "source": [
    "# Get training run status.\n",
    "status = client.training.get_status(training_run_guid_async)\n",
    "print(json.dumps(status, indent=2))"
   ]
  },
  {
   "cell_type": "markdown",
   "metadata": {},
   "source": [
    "### 4.3  Monitor the training log<a id=\"log\"></a>"
   ]
  },
  {
   "cell_type": "markdown",
   "metadata": {},
   "source": [
    "Run the cell below to monitor the training log."
   ]
  },
  {
   "cell_type": "code",
   "execution_count": 38,
   "metadata": {
    "scrolled": true
   },
   "outputs": [
    {
     "name": "stdout",
     "output_type": "stream",
     "text": [
      "\n",
      "\n",
      "####################################################\n",
      "\n",
      "Log monitor started for training run: model-n4zbjfqo\n",
      "\n",
      "####################################################\n",
      "\n",
      "\n",
      "training-g73NScjmg: \n",
      "training-g73NScjmg: \n",
      "training-g73NScjmg: \n",
      "training-g73NScjmg: \n",
      "training-g73NScjmg: \n",
      "training-g73NScjmg: \n",
      "training-g73NScjmg: \n",
      "training-g73NScjmg: Training with training/test data at:\n",
      "\n",
      "training-g73NScjmg:   DATA_DIR: /mnt/data/training-data-ce6d44c1-19d5-47ed-aca7-6b45a62150c8\n",
      "\n",
      "training-g73NScjmg:   MODEL_DIR: /job/model-code\n",
      "\n",
      "training-g73NScjmg:   TRAINING_JOB: \n",
      "\n",
      "training-g73NScjmg:   TRAINING_COMMAND: python3 tensorflow_mnist_softmax.py --trainingIters 20\n",
      "\n",
      "training-g73NScjmg: Storing trained model at:\n",
      "\n",
      "training-g73NScjmg:   RESULT_DIR: /mnt/results/training-results-ce6d44c1-19d5-47ed-aca7-6b45a62150c8/training-g73NScjmg\n",
      "\n",
      "training-g73NScjmg: Wed Mar  6 12:50:03 UTC 2019: Running Tensorflow job\n",
      "\n",
      "training-g73NScjmg: \n",
      "training-g73NScjmg: \n",
      "training-g73NScjmg: /usr/local/lib/python3.5/dist-packages/h5py/__init__.py:36: FutureWarning: Conversion of the second argument of issubdtype from `float` to `np.floating` is deprecated. In future, it will be treated as `np.float64 == np.dtype(float).type`.\n",
      "\n",
      "training-g73NScjmg:   from ._conv import register_converters as _register_converters\n",
      "\n",
      "training-g73NScjmg: WARNING:tensorflow:From tensorflow_mnist_softmax.py:66: softmax_cross_entropy_with_logits (from tensorflow.python.ops.nn_ops) is deprecated and will be removed in a future version.\n",
      "\n",
      "training-g73NScjmg: Instructions for updating:\n",
      "\n",
      "training-g73NScjmg: \n",
      "\n",
      "training-g73NScjmg: Future major versions of TensorFlow will allow gradients to flow\n",
      "\n",
      "training-g73NScjmg: into the labels input on backprop by default.\n",
      "\n",
      "training-g73NScjmg: \n",
      "\n",
      "training-g73NScjmg: See tf.nn.softmax_cross_entropy_with_logits_v2.\n",
      "\n",
      "training-g73NScjmg: \n",
      "\n",
      "training-g73NScjmg: 2019-03-06 12:50:08.549842: I tensorflow/core/platform/cpu_feature_guard.cc:137] Your CPU supports instructions that this TensorFlow binary was not compiled to use: SSE4.1 SSE4.2 AVX AVX2 FMA\n",
      "\n",
      "training-g73NScjmg: 2019-03-06 12:50:08.767545: I tensorflow/core/common_runtime/gpu/gpu_device.cc:1105] Found device 0 with properties: \n",
      "\n",
      "training-g73NScjmg: name: Tesla K80 major: 3 minor: 7 memoryClockRate(GHz): 0.8235\n",
      "\n",
      "training-g73NScjmg: pciBusID: 0000:87:00.0\n",
      "\n",
      "training-g73NScjmg: totalMemory: 11.92GiB freeMemory: 11.85GiB\n",
      "\n",
      "training-g73NScjmg: 2019-03-06 12:50:08.767582: I tensorflow/core/common_runtime/gpu/gpu_device.cc:1195] Creating TensorFlow device (/device:GPU:0) -> (device: 0, name: Tesla K80, pci bus id: 0000:87:00.0, compute capability: 3.7)\n",
      "\n",
      "training-g73NScjmg: Start model training\n",
      "\n",
      "training-g73NScjmg: Optimization Finished!\n",
      "\n",
      "training-g73NScjmg: Testing Accuracy:  0.9211\n",
      "\n",
      "training-g73NScjmg: classification_signature content:\n",
      "\n",
      "training-g73NScjmg:   key: \"inputs\"\n",
      "\n",
      "training-g73NScjmg:   value {\n",
      "\n",
      "training-g73NScjmg:     dtype: DT_FLOAT\n",
      "\n",
      "training-g73NScjmg:       dim {\n",
      "\n",
      "training-g73NScjmg:         size: -1\n",
      "\n",
      "training-g73NScjmg:       }\n",
      "\n",
      "training-g73NScjmg:       dim {\n",
      "\n",
      "training-g73NScjmg:         size: 784\n",
      "\n",
      "training-g73NScjmg:       }\n",
      "\n",
      "training-g73NScjmg:     }\n",
      "\n",
      "training-g73NScjmg:   }\n",
      "\n",
      "training-g73NScjmg: }\n",
      "\n",
      "training-g73NScjmg: outputs {\n",
      "\n",
      "training-g73NScjmg:   key: \"classes\"\n",
      "\n",
      "training-g73NScjmg:   value {\n",
      "\n",
      "training-g73NScjmg:     name: \"predictor:0\"\n",
      "\n",
      "training-g73NScjmg:     dtype: DT_INT64\n",
      "\n",
      "training-g73NScjmg:     tensor_shape {\n",
      "\n",
      "training-g73NScjmg:       dim {\n",
      "\n",
      "training-g73NScjmg:         size: -1\n",
      "\n",
      "training-g73NScjmg:       }\n",
      "\n",
      "training-g73NScjmg:     }\n",
      "\n",
      "training-g73NScjmg:   }\n",
      "\n",
      "training-g73NScjmg: }\n",
      "\n",
      "training-g73NScjmg: method_name: \"tensorflow/serving/classify\"\n",
      "\n",
      "training-g73NScjmg: \n",
      "\n",
      "training-g73NScjmg: \n",
      "training-g73NScjmg: \n",
      "training-g73NScjmg: \n",
      "training-g73NScjmg: \n",
      "training-g73NScjmg: \n",
      "training-g73NScjmg: \n",
      "training-g73NScjmg: \n",
      "training-g73NScjmg: \n",
      "training-g73NScjmg: \n",
      "training-g73NScjmg: \n",
      "\n",
      "\n",
      "-----------------\n",
      "Log monitor done.\n",
      "-----------------\n",
      "\n",
      "\n"
     ]
    }
   ],
   "source": [
    "client.training.monitor_logs(training_run_guid_async)"
   ]
  },
  {
   "cell_type": "markdown",
   "metadata": {},
   "source": [
    "### 4.4 Cancel the training run<a id=\"cancel\"></a>"
   ]
  },
  {
   "cell_type": "markdown",
   "metadata": {},
   "source": [
    "You can cancel the training run by calling the method below."
   ]
  },
  {
   "cell_type": "raw",
   "metadata": {},
   "source": [
    "client.training.cancel(training_run_guid_async)"
   ]
  },
  {
   "cell_type": "markdown",
   "metadata": {},
   "source": [
    "<a id=\"save\"></a>\n",
    "## 5. Save the model"
   ]
  },
  {
   "cell_type": "markdown",
   "metadata": {},
   "source": [
    "#### Call this method to the save the trained model in the WML repository."
   ]
  },
  {
   "cell_type": "code",
   "execution_count": 39,
   "metadata": {},
   "outputs": [],
   "source": [
    "# Save model to WML repository.\n",
    "saved_model_details = client.repository.store_model(training_run_guid_async, {\"name\": \"My cool mnist model\"})"
   ]
  },
  {
   "cell_type": "code",
   "execution_count": 40,
   "metadata": {},
   "outputs": [
    {
     "name": "stdout",
     "output_type": "stream",
     "text": [
      "Url: https://us-south.ml.cloud.ibm.com/v3/wml_instances/b4b6c696-172c-4164-8049-c0b621dbf3c9/published_models/193f97a4-2a48-4be7-9497-11ccc58aebb3\n"
     ]
    }
   ],
   "source": [
    "# Display location of saved model.\n",
    "print('Url: ' + client.repository.get_model_url(saved_model_details))"
   ]
  },
  {
   "cell_type": "markdown",
   "metadata": {},
   "source": [
    "**Tip:** Run the code below to extract the stored model uid from the dictionary."
   ]
  },
  {
   "cell_type": "code",
   "execution_count": 41,
   "metadata": {},
   "outputs": [
    {
     "name": "stdout",
     "output_type": "stream",
     "text": [
      "Saved model uid: 193f97a4-2a48-4be7-9497-11ccc58aebb3\n"
     ]
    }
   ],
   "source": [
    "# Get and display model uid.\n",
    "model_uid = client.repository.get_model_uid(saved_model_details)\n",
    "print('Saved model uid: ' + model_uid)"
   ]
  },
  {
   "cell_type": "markdown",
   "metadata": {},
   "source": [
    "#### List the stored models."
   ]
  },
  {
   "cell_type": "code",
   "execution_count": 42,
   "metadata": {},
   "outputs": [
    {
     "name": "stdout",
     "output_type": "stream",
     "text": [
      "------------------------------------  -------------------------------------------  ------------------------  -----------------\n",
      "GUID                                  NAME                                         CREATED                   FRAMEWORK\n",
      "193f97a4-2a48-4be7-9497-11ccc58aebb3  My cool mnist model                          2019-03-06T12:52:11.179Z  tensorflow-1.5\n",
      "2dcc72ce-16c2-4ad0-94c8-77f37317b47b  Boston house price prediction                2019-03-06T11:45:30.725Z  scikit-learn-0.19\n",
      "f7982685-3040-4936-a7a4-d42aec6b2e1c  Boston house price prediction                2019-03-06T11:32:56.268Z  scikit-learn-0.19\n",
      "c9dfebfa-0411-4e3e-a9c5-9a311444ed59  CHAID PMML model for Iris data               2019-03-04T12:59:21.351Z  pmml-4.2\n",
      "c0e97a79-7db0-471e-afd8-f3e238fd16b6  XGBoost model for breast cancer              2019-02-28T19:11:24.484Z  scikit-learn-0.19\n",
      "8008b47c-0f07-482c-8d2f-0b6940c824e5  SMS Spam prediction model                    2019-02-28T00:57:59.713Z  scikit-learn-0.19\n",
      "f2ea0716-7d1f-484a-8468-14f4b6ec7333  WML Product Line Prediction Model            2019-02-27T13:50:04.628Z  mllib-2.3\n",
      "fe1f7f54-b66f-46ed-8785-9fa5d129e02e  SPSS model for Churn prediction              2019-02-27T11:53:10.672Z  spss-modeler-18.1\n",
      "7bd8d8b7-bb2b-4e71-95e6-502fec50657f  SPSS model for Churn prediction              2019-02-27T09:29:04.867Z  spss-modeler-18.1\n",
      "c4fbb8ff-0e1b-4c45-b155-85b07527ecc3  SPSS model for Churn prediction              2019-02-26T13:13:42.220Z  spss-modeler-18.1\n",
      "8a245de4-7907-44fe-b67f-3cf1746d9eb4  CHAID PMML model for Iris data               2019-02-25T13:09:14.752Z  pmml-4.2\n",
      "462931ef-bcf8-486c-8bcb-2b2c114cb20c  MNIST - compressed keras model               2019-02-25T12:29:43.085Z  tensorflow-1.5\n",
      "e349018e-a37c-4d26-bb86-01ce7f52bdaa  SMS Spam prediction model                    2019-02-13T15:52:39.175Z  scikit-learn-0.19\n",
      "0cc8a058-6b08-4ae5-84df-a62d49e0f4bf  SPSS XGBoost Tree Regression model_auto-opt  2019-02-12T19:00:25.864Z  spss-modeler-18.1\n",
      "67ee96bc-cb64-4ad0-8255-bf471df915bb  SMS Spam prediction model                    2019-02-12T02:48:36.430Z  scikit-learn-0.19\n",
      "9de866c9-bb52-4c19-b095-94c265530f46  Earthquake magnitude prediction model        2019-02-11T16:41:38.815Z  tensorflow-1.12\n",
      "f514ff10-8857-433c-89b0-280c708a6e26  Earthquake magnitude prediction model        2019-02-11T16:31:26.538Z  tensorflow-1.12\n",
      "e561751f-d7d9-4c6f-a7af-6677baf3d45f  Earthquake magnitude prediction model        2019-02-07T00:21:53.513Z  tensorflow-1.12\n",
      "f87ac4d9-7a05-435d-98eb-6eacd290e3cc  Earthquake magnitude prediction model        2019-02-07T00:08:13.678Z  tensorflow-1.12\n",
      "482e49ea-1207-45b8-bf57-89d57bc44678  SPSS XGBoost Regression Model - Car Price    2019-02-05T18:09:21.456Z  spss-modeler-18.1\n",
      "e0ef0258-ef7c-45f0-9466-3568e03fed65  SPSS (Auto) Regression Model - Car Price     2019-01-30T23:18:33.431Z  spss-modeler-18.1\n",
      "afb7a22e-1e6c-4e29-a1da-5305a2f5a16b  WML Product Line Prediction Model            2019-01-19T19:36:59.710Z  mllib-2.3\n",
      "61c9afb7-94ae-4c05-ad2b-dc734bb0f932  SPSS model for Churn prediction              2019-01-18T10:28:30.835Z  spss-modeler-18.1\n",
      "52e8d90f-482a-4358-8889-979ecb5f35c0  CHAID PMML model for Iris data               2019-01-18T09:36:11.392Z  pmml-4.2\n",
      "47b21e40-eba3-4cda-b7d2-cb9a2d31d12d  Customer churn Spark model                   2019-01-18T06:45:13.422Z  mllib-2.3\n",
      "f5eb38e5-2b04-4da0-bf14-3edafe554be8  Customer churn Spark model                   2019-01-18T02:18:45.291Z  mllib-2.3\n",
      "e772e16f-936f-4f20-849d-259ea80b1e87  Product line model                           2019-01-17T09:57:27.972Z  mllib-2.3\n",
      "afed5f15-80e0-4dce-8cac-d2bfcdab8a4d  Product line model                           2019-01-17T06:55:55.312Z  mllib-2.3\n",
      "95bfca55-0c53-43d2-86ed-5c770f403ee6  MNIST - compressed keras model               2019-01-15T14:49:42.639Z  tensorflow-1.5\n",
      "------------------------------------  -------------------------------------------  ------------------------  -----------------\n"
     ]
    }
   ],
   "source": [
    "client.repository.list_models()"
   ]
  },
  {
   "cell_type": "markdown",
   "metadata": {},
   "source": [
    "#### Delete the training run and its results."
   ]
  },
  {
   "cell_type": "markdown",
   "metadata": {},
   "source": [
    "Run the code in the cell below to delete train runs and results:"
   ]
  },
  {
   "cell_type": "raw",
   "metadata": {},
   "source": [
    "client.training.delete(training_run_uid_async)"
   ]
  },
  {
   "cell_type": "markdown",
   "metadata": {},
   "source": [
    "## 6. Create an online deployment<a id=\"deploy\"></a>"
   ]
  },
  {
   "cell_type": "markdown",
   "metadata": {},
   "source": [
    "Run the code in the following cell to deploy the stored model as a web service (online):"
   ]
  },
  {
   "cell_type": "code",
   "execution_count": 43,
   "metadata": {},
   "outputs": [
    {
     "name": "stdout",
     "output_type": "stream",
     "text": [
      "------------------------------------  -------------------------------------------------------  -------  --------------  ------------------------  -----------------  -------------\n",
      "GUID                                  NAME                                                     TYPE     STATE           CREATED                   FRAMEWORK          ARTIFACT TYPE\n",
      "d250df1b-6e43-4c69-98d2-10ff25b5d63d  Virtual deployment of Boston model                       virtual  DEPLOY_SUCCESS  2019-03-06T11:45:33.176Z  scikit-learn-0.19  model\n",
      "6d3cf6bb-db92-427c-8b52-9d050d7bfec8  Virtual deployment of Boston model                       virtual  DEPLOY_SUCCESS  2019-03-06T11:32:59.110Z  scikit-learn-0.19  model\n",
      "ded4770f-c2fe-4653-9ce2-0c79ecfa10be  Iris species prediction                                  online   DEPLOY_SUCCESS  2019-03-04T12:59:23.413Z  pmml-4.2           model\n",
      "450f555b-1952-4ef1-90be-96a16f600345  Predict breast cancer                                    online   DEPLOY_SUCCESS  2019-02-28T19:11:28.862Z  scikit-learn-0.19  model\n",
      "dd987565-3e04-4179-9cf9-546710fbadcd  Web scraping python function deployment                  online   DEPLOY_SUCCESS  2019-02-28T11:50:04.209Z  n/a                function\n",
      "984ffa92-1c82-4b54-bb56-f6f85e915227  Web scraping python function deployment                  online   DEPLOY_SUCCESS  2019-02-27T17:50:16.907Z  n/a                function\n",
      "e5472c3f-c7d7-4a3e-9b20-44f03030373e  Web scraping python function deployment                  online   DEPLOY_SUCCESS  2019-02-27T16:51:24.029Z  n/a                function\n",
      "304c671c-6a48-496d-b27b-3ad9888a0156  Online scoring                                           online   DEPLOY_SUCCESS  2019-02-27T13:50:39.730Z  mllib-2.3          model\n",
      "18298746-41ec-4bac-928c-fc34e3708ca9  Sample SPSS model deployment                             online   DEPLOY_SUCCESS  2019-02-27T11:53:13.523Z  spss-modeler-18.1  model\n",
      "375d050d-1e3b-49e5-9f1d-655f28734ec7  Sample SPSS model deployment                             online   DEPLOY_SUCCESS  2019-02-27T09:29:07.286Z  spss-modeler-18.1  model\n",
      "2924aaaf-bddf-4567-8206-6972c163dfa4  Sample SPSS model deployment                             online   DEPLOY_SUCCESS  2019-02-26T13:13:44.977Z  spss-modeler-18.1  model\n",
      "feb87375-fca8-4b0c-8f2f-5c83a6e26115  Iris species prediction                                  online   DEPLOY_SUCCESS  2019-02-25T13:09:17.454Z  pmml-4.2           model\n",
      "a0e16777-75ad-489a-a6db-5213619381a4  Keras MNIST model deployment through compressed file.    online   DEPLOY_SUCCESS  2019-02-25T12:29:47.265Z  tensorflow-1.5     model\n",
      "5c5ebf10-c47a-4224-b35d-3646b0348af1  Web scraping python function deployment                  online   DEPLOY_SUCCESS  2019-02-21T14:58:00.141Z  n/a                function\n",
      "b9efb426-845a-45e7-b591-85c4bdb1417c  SMS Spam prediction model deployment.                    online   DEPLOY_SUCCESS  2019-02-13T15:52:48.108Z  scikit-learn-0.19  model\n",
      "569fb590-41aa-433e-aeb4-89a9688a4a7b  Keras earthquake magnitude prediction model deployment.  online   DEPLOY_SUCCESS  2019-02-11T16:41:49.568Z  tensorflow-1.12    model\n",
      "7b2ff02b-b6a7-4ef4-b0e6-6765b1c45766  Keras earthquake magnitude prediction model deployment.  online   DEPLOY_SUCCESS  2019-02-07T00:21:58.175Z  tensorflow-1.12    model\n",
      "a738de63-d74e-454a-9dd7-f377c65420bc  Online scoring                                           online   DEPLOY_SUCCESS  2019-01-19T19:49:21.391Z  mllib-2.3          model\n",
      "d8f43799-cf5c-499f-a9d3-42d2e398f337  Sample SPSS model deployment                             online   DEPLOY_SUCCESS  2019-01-18T10:28:38.134Z  spss-modeler-18.1  model\n",
      "12056c7c-6ff1-454d-b324-d1cf4b42c4fd  Iris species prediction                                  online   DEPLOY_SUCCESS  2019-01-18T09:36:17.097Z  pmml-4.2           model\n",
      "a375c7bc-963d-4a9b-9896-7dbcdcaed78d  Web scraping python function deployment                  online   DEPLOY_SUCCESS  2019-01-17T10:11:40.324Z  n/a                function\n",
      "a8b47a68-060c-4474-a5c0-15da3304063a  Product line model deployment                            online   DEPLOY_SUCCESS  2019-01-17T10:02:44.991Z  mllib-2.3          model\n",
      "ada89546-d27c-4c32-953f-84f2238eb12a  Product line model deployment                            online   DEPLOY_SUCCESS  2019-01-17T07:14:05.178Z  mllib-2.3          model\n",
      "902853d1-9ff6-40a7-8918-d6b7b39c3a4e  Web scraping python function deployment                  online   DEPLOY_SUCCESS  2019-01-17T02:37:29.921Z  n/a                function\n",
      "3da0fb97-24b9-44d6-ac16-e97a0cf8dfcb  Keras MNIST model deployment through compressed file.    online   DEPLOY_SUCCESS  2019-01-15T14:49:46.285Z  tensorflow-1.5     model\n",
      "------------------------------------  -------------------------------------------------------  -------  --------------  ------------------------  -----------------  -------------\n"
     ]
    }
   ],
   "source": [
    "client.deployments.list()"
   ]
  },
  {
   "cell_type": "code",
   "execution_count": 44,
   "metadata": {},
   "outputs": [
    {
     "name": "stdout",
     "output_type": "stream",
     "text": [
      "\n",
      "\n",
      "#######################################################################################\n",
      "\n",
      "Synchronous deployment creation for uid: '193f97a4-2a48-4be7-9497-11ccc58aebb3' started\n",
      "\n",
      "#######################################################################################\n",
      "\n",
      "\n",
      "INITIALIZING\n",
      "DEPLOY_SUCCESS\n",
      "\n",
      "\n",
      "------------------------------------------------------------------------------------------------\n",
      "Successfully finished deployment creation, deployment_uid='86da6500-18ff-4970-b3e4-7e335d4a08f9'\n",
      "------------------------------------------------------------------------------------------------\n",
      "\n",
      "\n"
     ]
    }
   ],
   "source": [
    "# Create online deployment.\n",
    "deployment_details = client.deployments.create(model_uid, 'Mnist model deployment')"
   ]
  },
  {
   "cell_type": "markdown",
   "metadata": {
    "collapsed": true
   },
   "source": [
    "## 7. Score data<a id=\"score\"></a>\n",
    "\n",
    "Now, extract the url endpoint and scoring_url which will be used to send scoring requests."
   ]
  },
  {
   "cell_type": "code",
   "execution_count": null,
   "metadata": {},
   "outputs": [],
   "source": [
    "#  Extract endpoint url and display it.\n",
    "scoring_url = client.deployments.get_scoring_url(deployment_details)\n",
    "print(scoring_url)"
   ]
  },
  {
   "cell_type": "markdown",
   "metadata": {},
   "source": [
    "Prepare sample scoring data to score deployed model. You will use again the `python-mnist` package that we used before."
   ]
  },
  {
   "cell_type": "code",
   "execution_count": 46,
   "metadata": {},
   "outputs": [],
   "source": [
    "test_images, test_labels = mndata.load_testing()\n",
    "test_length = 3"
   ]
  },
  {
   "cell_type": "markdown",
   "metadata": {},
   "source": [
    "The `display_digits` function introduced in section [2. Explore data](#data) will be used again to display test images."
   ]
  },
  {
   "cell_type": "code",
   "execution_count": 47,
   "metadata": {},
   "outputs": [
    {
     "data": {
      "image/png": "[encoded data removed]",
      "text/plain": [
       "<matplotlib.figure.Figure at 0x7f9627af1da0>"
      ]
     },
     "metadata": {},
     "output_type": "display_data"
    }
   ],
   "source": [
    "display_digits(test_images, test_labels, test_length, 'Testing')"
   ]
  },
  {
   "cell_type": "markdown",
   "metadata": {},
   "source": [
    "Build a scoring dictionary consisting of two digits and send it to the deployed model to get predictions."
   ]
  },
  {
   "cell_type": "code",
   "execution_count": 48,
   "metadata": {},
   "outputs": [],
   "source": [
    "# Build scoring dictionary which has three digits.\n",
    "scoring_data = {'values': test_images[:test_length]}"
   ]
  },
  {
   "cell_type": "code",
   "execution_count": 49,
   "metadata": {},
   "outputs": [
    {
     "name": "stdout",
     "output_type": "stream",
     "text": [
      "Scoring result: {'values': [7, 2, 1]}\n"
     ]
    }
   ],
   "source": [
    "# Send scoring dictionary to deployed model to get predictions.\n",
    "predictions = client.deployments.score(scoring_url, scoring_data)\n",
    "print('Scoring result: ' + str(predictions))"
   ]
  },
  {
   "cell_type": "markdown",
   "metadata": {
    "collapsed": true
   },
   "source": [
    "<a id=\"summary\"></a>\n",
    "## 8. Summary and next steps     "
   ]
  },
  {
   "cell_type": "markdown",
   "metadata": {
    "collapsed": true
   },
   "source": [
    "You successfully completed this notebook! \n",
    " \n",
    "You learned how to use the Watson Machine Learning API client (`watson-machine-learning-client`) to train and score a TensorFlow model. \n",
    " \n",
    "Check out our <a href=\"https://dataplatform.ibm.com/docs/content/analyze-data/wml-setup.html\" target=\"_blank\" rel=\"noopener noreferrer\">Online Documentation</a> for a <a href=\"https://dataplatform.ibm.com/docs/content/analyze-data/ml-python-mnist-tutorial.html\" target=\"_blank\" rel=\"noopener noreferrer\">tutorial</a> and more samples, documentation, how-tos, and blog posts. "
   ]
  },
  {
   "cell_type": "markdown",
   "metadata": {},
   "source": [
    "### Citation\n",
    "Y. LeCun, L. Bottou, Y. Bengio, and P. Haffner. \"Gradient-based learning applied to document recognition.\" Proceedings of the IEEE, 86(11):2278-2324, November 1998."
   ]
  },
  {
   "cell_type": "markdown",
   "metadata": {},
   "source": [
    "### Authors\n",
    "\n",
    "**Lukasz Cmielowski**, Ph.D., is a Automation Architect and Data Scientist at IBM with a track record of developing enterprise-level applications that substantially increase the clients' ability to turn data into actionable knowledge.  \n",
    "**Jihyoung Kim**, Ph.D., is a Data Scientist at IBM who strives to make data science easy for everyone through Watson Studio."
   ]
  },
  {
   "cell_type": "markdown",
   "metadata": {},
   "source": [
    "Copyright © 2017-2019 IBM. This notebook and its source code are released under the terms of the MIT License."
   ]
  },
  {
   "cell_type": "markdown",
   "metadata": {},
   "source": [
    "<div style=\"background:#F5F7FA; height:110px; padding: 2em; font-size:14px;\">\n",
    "<span style=\"font-size:18px;color:#152935;\">Love this notebook? </span>\n",
    "<span style=\"font-size:15px;color:#152935;float:right;margin-right:40px;\">Don't have an account yet?</span><br>\n",
    "<span style=\"color:#5A6872;\">Share it with your colleagues and help them discover the power of Watson Studio!</span>\n",
    "<span style=\"border: 1px solid #3d70b2;padding:8px;float:right;margin-right:40px; color:#3d70b2;\"><a href=\"https://ibm.co/wsnotebooks\" target=\"_blank\" style=\"color: #3d70b2;text-decoration: none;\">Sign Up</a></span><br>\n",
    "</div>"
   ]
  }
 ],
 "metadata": {
  "kernelspec": {
   "display_name": "Python 3.5",
   "language": "python",
   "name": "python3"
  },
  "language_info": {
   "codemirror_mode": {
    "name": "ipython",
    "version": 3
   },
   "file_extension": ".py",
   "mimetype": "text/x-python",
   "name": "python",
   "nbconvert_exporter": "python",
   "pygments_lexer": "ipython3",
   "version": "3.5.5"
  }
 },
 "nbformat": 4,
 "nbformat_minor": 1
}
