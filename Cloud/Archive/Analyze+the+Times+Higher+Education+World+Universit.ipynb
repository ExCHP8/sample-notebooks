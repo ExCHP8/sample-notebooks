{
 "cells": [
  {
   "cell_type": "markdown",
   "metadata": {},
   "source": [
    "# Analyze the Times Higher Education World University Rankings for 2016"
   ]
  },
  {
   "cell_type": "markdown",
   "metadata": {},
   "source": [
    "\n",
    "![THE logo](http://trinitynews.ie/wp/wp-content/uploads/2014/10/Times-Higher-Education-Ranking-Pic1.jpg)"
   ]
  },
  {
   "cell_type": "markdown",
   "metadata": {},
   "source": [
    "This notebook uses Times Higher Education (THE) World University rankings for 2016 data to analyze the following: \n",
    "- How the performance of the universities across different indicators is evaluated\n",
    "- Which and where are the best universities\n",
    "- What makes these universities stand out from the rest\n",
    "\n",
    "This notebook runs on Python 2 with Spark 2.0."
   ]
  },
  {
   "cell_type": "markdown",
   "metadata": {},
   "source": [
    "## Table of contents\n",
    "1. [Import the libraries](#libraries)\n",
    "2. [Import the dataset](#dataset)\n",
    "3. [Tidy up the data](#tidy)\n",
    "4. [Analyze the ranking data](#rank)\n",
    "5. [Analyze the performance indicators](#performance)\n",
    "6. [Remove outliers](#outliers)\n",
    "7. [Correlation between the different indicators](#correlation)\n",
    "8. [Next steps](#nextsteps)"
   ]
  },
  {
   "cell_type": "markdown",
   "metadata": {},
   "source": [
    "## 1. Import the libraries<a id=\"libraries\"></a>"
   ]
  },
  {
   "cell_type": "code",
   "execution_count": 18,
   "metadata": {
    "collapsed": true
   },
   "outputs": [],
   "source": [
    "# Import libraries and suppress warnings\n",
    "import pandas as pd\n",
    "import numpy as np\n",
    "import matplotlib.pyplot as plt\n",
    "import seaborn as sns\n",
    "import warnings\n",
    "%matplotlib inline\n",
    "warnings.filterwarnings('ignore')"
   ]
  },
  {
   "cell_type": "markdown",
   "metadata": {},
   "source": [
    "## 2. Import the dataset<a id=\"dataset\"></a>\n",
    "\n",
    "Download the THE World University Ranking 2016 dataset as follows:\n",
    "1. Go <a href=\"https://www.kaggle.com/mylesoneill/world-university-rankings/data\" target=\"_blank\" rel=\"noopener no referrer\">Kaggle: World University Rankings</a>, log in, and then download `timesData.csv` to your computer.\n",
    "3. Load the `timesData.csv` file into your notebook. Click the **Data** icon on the notebook action bar. Drop each file into the box or browse to select the file. The file is loaded to your object storage and appears in the Data Assets section of the project. For more information, see <a href=\"https://datascience.ibm.com/docs/content/analyze-data/load-and-access-data.html\" target=\"_blank\" rel=\"noopener noreferrer\">Load and access data</a>.\n",
    "4. To load the data from the `timesData.csv` file into a R DataFrame, click in the next code cell and select **Insert to code > Insert Pandas DataFrame** under the file name.\n",
    "6. Run the cell."
   ]
  },
  {
   "cell_type": "code",
   "execution_count": 19,
   "metadata": {},
   "outputs": [
    {
     "data": {
      "text/html": [
       "<div>\n",
       "<table border=\"1\" class=\"dataframe\">\n",
       "  <thead>\n",
       "    <tr style=\"text-align: right;\">\n",
       "      <th></th>\n",
       "      <th>world_rank</th>\n",
       "      <th>university_name</th>\n",
       "      <th>country</th>\n",
       "      <th>teaching</th>\n",
       "      <th>international</th>\n",
       "      <th>research</th>\n",
       "      <th>citations</th>\n",
       "      <th>income</th>\n",
       "      <th>total_score</th>\n",
       "      <th>num_students</th>\n",
       "      <th>student_staff_ratio</th>\n",
       "      <th>international_students</th>\n",
       "      <th>female_male_ratio</th>\n",
       "      <th>year</th>\n",
       "    </tr>\n",
       "  </thead>\n",
       "  <tbody>\n",
       "    <tr>\n",
       "      <th>0</th>\n",
       "      <td>1</td>\n",
       "      <td>Harvard University</td>\n",
       "      <td>United States of America</td>\n",
       "      <td>99.7</td>\n",
       "      <td>72.4</td>\n",
       "      <td>98.7</td>\n",
       "      <td>98.8</td>\n",
       "      <td>34.5</td>\n",
       "      <td>96.1</td>\n",
       "      <td>20,152</td>\n",
       "      <td>8.9</td>\n",
       "      <td>25%</td>\n",
       "      <td>NaN</td>\n",
       "      <td>2011</td>\n",
       "    </tr>\n",
       "    <tr>\n",
       "      <th>1</th>\n",
       "      <td>2</td>\n",
       "      <td>California Institute of Technology</td>\n",
       "      <td>United States of America</td>\n",
       "      <td>97.7</td>\n",
       "      <td>54.6</td>\n",
       "      <td>98.0</td>\n",
       "      <td>99.9</td>\n",
       "      <td>83.7</td>\n",
       "      <td>96.0</td>\n",
       "      <td>2,243</td>\n",
       "      <td>6.9</td>\n",
       "      <td>27%</td>\n",
       "      <td>33 : 67</td>\n",
       "      <td>2011</td>\n",
       "    </tr>\n",
       "    <tr>\n",
       "      <th>2</th>\n",
       "      <td>3</td>\n",
       "      <td>Massachusetts Institute of Technology</td>\n",
       "      <td>United States of America</td>\n",
       "      <td>97.8</td>\n",
       "      <td>82.3</td>\n",
       "      <td>91.4</td>\n",
       "      <td>99.9</td>\n",
       "      <td>87.5</td>\n",
       "      <td>95.6</td>\n",
       "      <td>11,074</td>\n",
       "      <td>9.0</td>\n",
       "      <td>33%</td>\n",
       "      <td>37 : 63</td>\n",
       "      <td>2011</td>\n",
       "    </tr>\n",
       "    <tr>\n",
       "      <th>3</th>\n",
       "      <td>4</td>\n",
       "      <td>Stanford University</td>\n",
       "      <td>United States of America</td>\n",
       "      <td>98.3</td>\n",
       "      <td>29.5</td>\n",
       "      <td>98.1</td>\n",
       "      <td>99.2</td>\n",
       "      <td>64.3</td>\n",
       "      <td>94.3</td>\n",
       "      <td>15,596</td>\n",
       "      <td>7.8</td>\n",
       "      <td>22%</td>\n",
       "      <td>42 : 58</td>\n",
       "      <td>2011</td>\n",
       "    </tr>\n",
       "    <tr>\n",
       "      <th>4</th>\n",
       "      <td>5</td>\n",
       "      <td>Princeton University</td>\n",
       "      <td>United States of America</td>\n",
       "      <td>90.9</td>\n",
       "      <td>70.3</td>\n",
       "      <td>95.4</td>\n",
       "      <td>99.9</td>\n",
       "      <td>-</td>\n",
       "      <td>94.2</td>\n",
       "      <td>7,929</td>\n",
       "      <td>8.4</td>\n",
       "      <td>27%</td>\n",
       "      <td>45 : 55</td>\n",
       "      <td>2011</td>\n",
       "    </tr>\n",
       "  </tbody>\n",
       "</table>\n",
       "</div>"
      ],
      "text/plain": [
       "  world_rank                        university_name                   country  \\\n",
       "0          1                     Harvard University  United States of America   \n",
       "1          2     California Institute of Technology  United States of America   \n",
       "2          3  Massachusetts Institute of Technology  United States of America   \n",
       "3          4                    Stanford University  United States of America   \n",
       "4          5                   Princeton University  United States of America   \n",
       "\n",
       "   teaching international  research  citations income total_score  \\\n",
       "0      99.7          72.4      98.7       98.8   34.5        96.1   \n",
       "1      97.7          54.6      98.0       99.9   83.7        96.0   \n",
       "2      97.8          82.3      91.4       99.9   87.5        95.6   \n",
       "3      98.3          29.5      98.1       99.2   64.3        94.3   \n",
       "4      90.9          70.3      95.4       99.9      -        94.2   \n",
       "\n",
       "  num_students  student_staff_ratio international_students female_male_ratio  \\\n",
       "0       20,152                  8.9                    25%               NaN   \n",
       "1        2,243                  6.9                    27%           33 : 67   \n",
       "2       11,074                  9.0                    33%           37 : 63   \n",
       "3       15,596                  7.8                    22%           42 : 58   \n",
       "4        7,929                  8.4                    27%           45 : 55   \n",
       "\n",
       "   year  \n",
       "0  2011  \n",
       "1  2011  \n",
       "2  2011  \n",
       "3  2011  \n",
       "4  2011  "
      ]
     },
     "execution_count": 19,
     "metadata": {},
     "output_type": "execute_result"
    }
   ],
   "source": [
    "# Removed code for importing the csv file"
   ]
  },
  {
   "cell_type": "markdown",
   "metadata": {},
   "source": [
    "We will consider the year 2016 for our analysis because according to the detailed methodology <a href=\"https://www.timeshighereducation.com/news/ranking-methodology-2016\" target=\"_blank\" rel=\"noopener no referrer\">here</a>, the underlying data for calculating rankings changed in 2016."
   ]
  },
  {
   "cell_type": "code",
   "execution_count": 20,
   "metadata": {
    "collapsed": true
   },
   "outputs": [],
   "source": [
    "df1 = df_data_1[df_data_1['year'] == 2016]"
   ]
  },
  {
   "cell_type": "code",
   "execution_count": 21,
   "metadata": {},
   "outputs": [
    {
     "name": "stdout",
     "output_type": "stream",
     "text": [
      "<class 'pandas.core.frame.DataFrame'>\n",
      "Int64Index: 800 entries, 1803 to 2602\n",
      "Data columns (total 14 columns):\n",
      "world_rank                800 non-null object\n",
      "university_name           800 non-null object\n",
      "country                   800 non-null object\n",
      "teaching                  800 non-null float64\n",
      "international             800 non-null object\n",
      "research                  800 non-null float64\n",
      "citations                 800 non-null float64\n",
      "income                    800 non-null object\n",
      "total_score               800 non-null object\n",
      "num_students              793 non-null object\n",
      "student_staff_ratio       793 non-null float64\n",
      "international_students    790 non-null object\n",
      "female_male_ratio         739 non-null object\n",
      "year                      800 non-null int64\n",
      "dtypes: float64(4), int64(1), object(9)\n",
      "memory usage: 93.8+ KB\n"
     ]
    }
   ],
   "source": [
    "# Lets get a brief overview of the data\n",
    "df1.info()"
   ]
  },
  {
   "cell_type": "markdown",
   "metadata": {},
   "source": [
    "As we can see, the THE dataset captures a lot of information about each university, but note these two observations:\n",
    "- Many columns which should be of type `int`,`float` are instead of type `object`, which means we need to examine them more closely before doing any analysis\n",
    "- Data is missing from some columns\n",
    "\n",
    "Let's have a look at the data:"
   ]
  },
  {
   "cell_type": "code",
   "execution_count": 22,
   "metadata": {},
   "outputs": [
    {
     "data": {
      "text/html": [
       "<div>\n",
       "<table border=\"1\" class=\"dataframe\">\n",
       "  <thead>\n",
       "    <tr style=\"text-align: right;\">\n",
       "      <th></th>\n",
       "      <th>teaching</th>\n",
       "      <th>research</th>\n",
       "      <th>citations</th>\n",
       "      <th>student_staff_ratio</th>\n",
       "      <th>year</th>\n",
       "    </tr>\n",
       "  </thead>\n",
       "  <tbody>\n",
       "    <tr>\n",
       "      <th>count</th>\n",
       "      <td>800.0000</td>\n",
       "      <td>800.000000</td>\n",
       "      <td>800.00000</td>\n",
       "      <td>793.000000</td>\n",
       "      <td>800</td>\n",
       "    </tr>\n",
       "    <tr>\n",
       "      <th>mean</th>\n",
       "      <td>31.5840</td>\n",
       "      <td>28.128625</td>\n",
       "      <td>51.30975</td>\n",
       "      <td>19.116393</td>\n",
       "      <td>2016</td>\n",
       "    </tr>\n",
       "    <tr>\n",
       "      <th>std</th>\n",
       "      <td>14.9854</td>\n",
       "      <td>19.532270</td>\n",
       "      <td>27.04544</td>\n",
       "      <td>12.522003</td>\n",
       "      <td>0</td>\n",
       "    </tr>\n",
       "    <tr>\n",
       "      <th>min</th>\n",
       "      <td>9.9000</td>\n",
       "      <td>2.900000</td>\n",
       "      <td>1.20000</td>\n",
       "      <td>0.600000</td>\n",
       "      <td>2016</td>\n",
       "    </tr>\n",
       "    <tr>\n",
       "      <th>25%</th>\n",
       "      <td>21.0000</td>\n",
       "      <td>14.350000</td>\n",
       "      <td>27.52500</td>\n",
       "      <td>12.300000</td>\n",
       "      <td>2016</td>\n",
       "    </tr>\n",
       "    <tr>\n",
       "      <th>50%</th>\n",
       "      <td>27.0000</td>\n",
       "      <td>22.100000</td>\n",
       "      <td>50.30000</td>\n",
       "      <td>16.600000</td>\n",
       "      <td>2016</td>\n",
       "    </tr>\n",
       "    <tr>\n",
       "      <th>75%</th>\n",
       "      <td>37.5000</td>\n",
       "      <td>35.525000</td>\n",
       "      <td>74.90000</td>\n",
       "      <td>22.400000</td>\n",
       "      <td>2016</td>\n",
       "    </tr>\n",
       "    <tr>\n",
       "      <th>max</th>\n",
       "      <td>95.6000</td>\n",
       "      <td>99.000000</td>\n",
       "      <td>100.00000</td>\n",
       "      <td>162.600000</td>\n",
       "      <td>2016</td>\n",
       "    </tr>\n",
       "  </tbody>\n",
       "</table>\n",
       "</div>"
      ],
      "text/plain": [
       "       teaching    research  citations  student_staff_ratio  year\n",
       "count  800.0000  800.000000  800.00000           793.000000   800\n",
       "mean    31.5840   28.128625   51.30975            19.116393  2016\n",
       "std     14.9854   19.532270   27.04544            12.522003     0\n",
       "min      9.9000    2.900000    1.20000             0.600000  2016\n",
       "25%     21.0000   14.350000   27.52500            12.300000  2016\n",
       "50%     27.0000   22.100000   50.30000            16.600000  2016\n",
       "75%     37.5000   35.525000   74.90000            22.400000  2016\n",
       "max     95.6000   99.000000  100.00000           162.600000  2016"
      ]
     },
     "execution_count": 22,
     "metadata": {},
     "output_type": "execute_result"
    }
   ],
   "source": [
    "df1.describe()"
   ]
  },
  {
   "cell_type": "markdown",
   "metadata": {},
   "source": [
    "## 3. Tidy up the data<a id=\"tidy\"></a>\n",
    "\n",
    "If a value for the indicator **income** is not provided, we assign it a value of  <i>20</i>. This is in line with THE methodology explained <a href=\"https://www.timeshighereducation.com/news/ranking-methodology-2016#survey-answer\" target=\"_blank\" rel=\"noopener no referrer\">here</a>: \n",
    "\n",
    "<i>On the rare occasions when a particular data point is not provided – which affects only low-weighted indicators such as industrial income – we enter a low estimate between the average value of the indicators and the lowest value reported: the 25th percentile of the other indicators. By doing this, we avoid penalising an institution too harshly with a “zero” value for data that it overlooks or does not provide, but we do not reward it for withholding them.</i>"
   ]
  },
  {
   "cell_type": "code",
   "execution_count": 23,
   "metadata": {
    "collapsed": true
   },
   "outputs": [],
   "source": [
    "for x in range(len(df1)):\n",
    "    idx = df1.iloc[x].name\n",
    "    inc = df1['income'].iloc[x]\n",
    "    students = df1['num_students'].iloc[x]\n",
    "    int_students = df1['international_students'].iloc[x]\n",
    "    fmr = df1['female_male_ratio'].iloc[x]\n",
    "    \n",
    "    # Convert '-' to NaN in income\n",
    "    if \"-\" in inc:\n",
    "        df1.set_value(idx, 'income', 20) # Arbitrary low value\n",
    "    \n",
    "    # Format the numbers properly\n",
    "    if type(students) != float:\n",
    "        students1 = students.replace(\",\", \"\")\n",
    "        df1.set_value(idx, 'num_students', students1)\n",
    "        \n",
    "    # Remove the '%' sign \n",
    "    if int_students and type(int_students) != float:\n",
    "        int_students1 = int_students.replace(\"%\", \"\")\n",
    "        df1.set_value(idx, 'international_students', int_students1)\n",
    "        \n",
    "    # Convert ratios of the form '43:57' to decimal ratios and convert '-' to NaN\n",
    "    if type(fmr) != float:\n",
    "        if \":\" in fmr:\n",
    "            arr2 = [float(x) for x in fmr.split() if x.isdigit()]\n",
    "            if arr2[0] != 0 and arr2[1] != 0:\n",
    "                ratio1 = arr2[0]/arr2[1]\n",
    "                df1.set_value(idx, 'female_male_ratio', ratio1)\n",
    "            else:\n",
    "                df1.set_value(idx, 'female_male_ratio', 100.0) # One university has all female students         \n",
    "        else:\n",
    "            df1.set_value(idx, 'female_male_ratio', np.NaN)\n",
    "            \n"
   ]
  },
  {
   "cell_type": "code",
   "execution_count": 24,
   "metadata": {
    "collapsed": true
   },
   "outputs": [],
   "source": [
    "# Lets change the type of each of the columns to float, for easier analysis.\n",
    "df1['international'] = df1['international'].astype(float)\n",
    "df1['income'] = df1['income'].astype(float)\n",
    "df1['num_students'] = df1['num_students'].astype(float)\n",
    "df1['international_students'] = df1['international_students'].astype(float)\n",
    "df1['female_male_ratio'] = df1['female_male_ratio'].astype(float)"
   ]
  },
  {
   "cell_type": "markdown",
   "metadata": {},
   "source": [
    "## 4. Analyze the ranking data<a id=\"rank\"></a>\n",
    "\n",
    "To calculate the final score for a university, different performance indicators have been given different weighting by THE. Let's analyze the data and do the following:\n",
    "- Calculate how many types of ranks we have currently\n",
    "- Calculate the total score for each entry based on the formula provided by THE\n",
    "- Sort the universities by the new score\n",
    "- Calculate how many universities have an equal score\n",
    "- Find out which are the best universities in the world according to THE\n",
    "- Visualize which countries have the best universities"
   ]
  },
  {
   "cell_type": "markdown",
   "metadata": {},
   "source": [
    "<b>Calculate how many types of ranks we have currently:</b>"
   ]
  },
  {
   "cell_type": "code",
   "execution_count": 25,
   "metadata": {
    "scrolled": false
   },
   "outputs": [
    {
     "name": "stdout",
     "output_type": "stream",
     "text": [
      "Simple numeric ranks  111\n",
      "Ranks with = sign  89\n",
      "Ranks with - sign  600\n",
      "['201-250', '251-300', '301-350', '351-400', '401-500', '501-600', '601-800']\n"
     ]
    }
   ],
   "source": [
    "rank_int = [x for x in df1[\"world_rank\"] if x.isdigit()]\n",
    "rank_eq = [x for x in df1[\"world_rank\"] if \"=\" in x]\n",
    "rank_hyph = [x for x in df1[\"world_rank\"] if \"-\" in x]\n",
    "print \"Simple numeric ranks \", len(rank_int)\n",
    "print \"Ranks with = sign \", len(rank_eq)\n",
    "print \"Ranks with - sign \", len(rank_hyph)\n",
    "\n",
    "print sorted(set(rank_hyph))"
   ]
  },
  {
   "cell_type": "markdown",
   "metadata": {},
   "source": [
    "Only the top 200 universities are actually given ranks. The rest are grouped into classes.\n",
    "Some universities are ranked equally."
   ]
  },
  {
   "cell_type": "markdown",
   "metadata": {},
   "source": [
    "<b>Calculate the total score for each entry based on the formula provided by THE:</b>"
   ]
  },
  {
   "cell_type": "code",
   "execution_count": 26,
   "metadata": {
    "collapsed": true
   },
   "outputs": [],
   "source": [
    "for x in range(len(df1)):\n",
    "    idx = df1.iloc[x].name  \n",
    "    new_score = df1.loc[idx,\"teaching\"]*0.3 + df1.loc[idx,\"research\"]*0.3 + df1.loc[idx,\"citations\"]*0.3 + df1.loc[idx,\"international\"]*0.075 + df1.loc[idx,\"income\"]*0.025\n",
    "    df1.set_value(idx, 'total_score', new_score)\n",
    "    "
   ]
  },
  {
   "cell_type": "markdown",
   "metadata": {},
   "source": [
    "<b>Sort the universities by the new score:</b>"
   ]
  },
  {
   "cell_type": "code",
   "execution_count": 27,
   "metadata": {
    "collapsed": true
   },
   "outputs": [],
   "source": [
    "df1.sort_values('total_score', ascending=False, inplace=True)"
   ]
  },
  {
   "cell_type": "markdown",
   "metadata": {},
   "source": [
    "<b>Calculate how many universities have an equal score:</b>"
   ]
  },
  {
   "cell_type": "code",
   "execution_count": 28,
   "metadata": {},
   "outputs": [
    {
     "data": {
      "text/plain": [
       "17.8725    2\n",
       "27.0150    2\n",
       "17.1500    2\n",
       "14.2075    2\n",
       "33.4925    2\n",
       "50.0725    2\n",
       "20.6725    2\n",
       "Name: total_score, dtype: int64"
      ]
     },
     "execution_count": 28,
     "metadata": {},
     "output_type": "execute_result"
    }
   ],
   "source": [
    "dups = df1[\"total_score\"].value_counts()\n",
    "dups[dups > 1]"
   ]
  },
  {
   "cell_type": "code",
   "execution_count": 32,
   "metadata": {
    "collapsed": true
   },
   "outputs": [],
   "source": [
    "df1.iloc[:, 0] = np.arange(1, 801)"
   ]
  },
  {
   "cell_type": "markdown",
   "metadata": {},
   "source": [
    "Increase the rank of one of the universities having equal score by 0.1. This is to enable further analysis, and also to ensure that equally scored universities are not ranked differently (for example, 39 and 40)."
   ]
  },
  {
   "cell_type": "code",
   "execution_count": 33,
   "metadata": {
    "collapsed": true
   },
   "outputs": [],
   "source": [
    "arr1 = []\n",
    "\n",
    "for x in range(len(df1)):\n",
    "    rank = x + 1\n",
    "    score = df1['total_score'].iloc[x]\n",
    "    idx = df1.iloc[x].name    \n",
    "    if score not in arr1:\n",
    "        arr1.append(score)\n",
    "    else:\n",
    "        rank1 = rank + 0.1\n",
    "        df1.set_value(idx, 'world_rank', rank1)\n"
   ]
  },
  {
   "cell_type": "markdown",
   "metadata": {},
   "source": [
    "<b>Now let's see which are the best universities in the world according to THE:</b>"
   ]
  },
  {
   "cell_type": "code",
   "execution_count": 34,
   "metadata": {
    "scrolled": true
   },
   "outputs": [
    {
     "data": {
      "text/html": [
       "<div>\n",
       "<table border=\"1\" class=\"dataframe\">\n",
       "  <thead>\n",
       "    <tr style=\"text-align: right;\">\n",
       "      <th></th>\n",
       "      <th>world_rank</th>\n",
       "      <th>university_name</th>\n",
       "      <th>country</th>\n",
       "      <th>teaching</th>\n",
       "      <th>international</th>\n",
       "      <th>research</th>\n",
       "      <th>citations</th>\n",
       "      <th>income</th>\n",
       "      <th>total_score</th>\n",
       "      <th>num_students</th>\n",
       "      <th>student_staff_ratio</th>\n",
       "      <th>international_students</th>\n",
       "      <th>female_male_ratio</th>\n",
       "      <th>year</th>\n",
       "    </tr>\n",
       "  </thead>\n",
       "  <tbody>\n",
       "    <tr>\n",
       "      <th>1803</th>\n",
       "      <td>1</td>\n",
       "      <td>California Institute of Technology</td>\n",
       "      <td>United States of America</td>\n",
       "      <td>95.6</td>\n",
       "      <td>64.0</td>\n",
       "      <td>97.6</td>\n",
       "      <td>99.8</td>\n",
       "      <td>97.8</td>\n",
       "      <td>95.145</td>\n",
       "      <td>2243</td>\n",
       "      <td>6.9</td>\n",
       "      <td>27</td>\n",
       "      <td>0.492537</td>\n",
       "      <td>2016</td>\n",
       "    </tr>\n",
       "    <tr>\n",
       "      <th>1804</th>\n",
       "      <td>2</td>\n",
       "      <td>University of Oxford</td>\n",
       "      <td>United Kingdom</td>\n",
       "      <td>86.5</td>\n",
       "      <td>94.4</td>\n",
       "      <td>98.9</td>\n",
       "      <td>98.8</td>\n",
       "      <td>73.1</td>\n",
       "      <td>94.1675</td>\n",
       "      <td>19919</td>\n",
       "      <td>11.6</td>\n",
       "      <td>34</td>\n",
       "      <td>0.851852</td>\n",
       "      <td>2016</td>\n",
       "    </tr>\n",
       "    <tr>\n",
       "      <th>1805</th>\n",
       "      <td>3</td>\n",
       "      <td>Stanford University</td>\n",
       "      <td>United States of America</td>\n",
       "      <td>92.5</td>\n",
       "      <td>76.3</td>\n",
       "      <td>96.2</td>\n",
       "      <td>99.9</td>\n",
       "      <td>63.3</td>\n",
       "      <td>93.885</td>\n",
       "      <td>15596</td>\n",
       "      <td>7.8</td>\n",
       "      <td>22</td>\n",
       "      <td>0.724138</td>\n",
       "      <td>2016</td>\n",
       "    </tr>\n",
       "    <tr>\n",
       "      <th>1806</th>\n",
       "      <td>4</td>\n",
       "      <td>University of Cambridge</td>\n",
       "      <td>United Kingdom</td>\n",
       "      <td>88.2</td>\n",
       "      <td>91.5</td>\n",
       "      <td>96.7</td>\n",
       "      <td>97.0</td>\n",
       "      <td>55.0</td>\n",
       "      <td>92.8075</td>\n",
       "      <td>18812</td>\n",
       "      <td>11.8</td>\n",
       "      <td>34</td>\n",
       "      <td>0.851852</td>\n",
       "      <td>2016</td>\n",
       "    </tr>\n",
       "    <tr>\n",
       "      <th>1807</th>\n",
       "      <td>5</td>\n",
       "      <td>Massachusetts Institute of Technology</td>\n",
       "      <td>United States of America</td>\n",
       "      <td>89.4</td>\n",
       "      <td>84.0</td>\n",
       "      <td>88.6</td>\n",
       "      <td>99.7</td>\n",
       "      <td>95.4</td>\n",
       "      <td>91.995</td>\n",
       "      <td>11074</td>\n",
       "      <td>9.0</td>\n",
       "      <td>33</td>\n",
       "      <td>0.587302</td>\n",
       "      <td>2016</td>\n",
       "    </tr>\n",
       "    <tr>\n",
       "      <th>1808</th>\n",
       "      <td>6</td>\n",
       "      <td>Harvard University</td>\n",
       "      <td>United States of America</td>\n",
       "      <td>83.6</td>\n",
       "      <td>77.2</td>\n",
       "      <td>99.0</td>\n",
       "      <td>99.8</td>\n",
       "      <td>45.2</td>\n",
       "      <td>91.64</td>\n",
       "      <td>20152</td>\n",
       "      <td>8.9</td>\n",
       "      <td>25</td>\n",
       "      <td>NaN</td>\n",
       "      <td>2016</td>\n",
       "    </tr>\n",
       "    <tr>\n",
       "      <th>1809</th>\n",
       "      <td>7</td>\n",
       "      <td>Princeton University</td>\n",
       "      <td>United States of America</td>\n",
       "      <td>85.1</td>\n",
       "      <td>78.5</td>\n",
       "      <td>91.9</td>\n",
       "      <td>99.3</td>\n",
       "      <td>52.1</td>\n",
       "      <td>90.08</td>\n",
       "      <td>7929</td>\n",
       "      <td>8.4</td>\n",
       "      <td>27</td>\n",
       "      <td>0.818182</td>\n",
       "      <td>2016</td>\n",
       "    </tr>\n",
       "    <tr>\n",
       "      <th>1810</th>\n",
       "      <td>8</td>\n",
       "      <td>Imperial College London</td>\n",
       "      <td>United Kingdom</td>\n",
       "      <td>83.3</td>\n",
       "      <td>96.0</td>\n",
       "      <td>88.5</td>\n",
       "      <td>96.7</td>\n",
       "      <td>53.7</td>\n",
       "      <td>89.0925</td>\n",
       "      <td>15060</td>\n",
       "      <td>11.7</td>\n",
       "      <td>51</td>\n",
       "      <td>0.587302</td>\n",
       "      <td>2016</td>\n",
       "    </tr>\n",
       "    <tr>\n",
       "      <th>1811</th>\n",
       "      <td>9</td>\n",
       "      <td>ETH Zurich – Swiss Federal Institute of Techno...</td>\n",
       "      <td>Switzerland</td>\n",
       "      <td>77.0</td>\n",
       "      <td>97.9</td>\n",
       "      <td>95.0</td>\n",
       "      <td>91.1</td>\n",
       "      <td>80.0</td>\n",
       "      <td>88.2725</td>\n",
       "      <td>18178</td>\n",
       "      <td>14.7</td>\n",
       "      <td>37</td>\n",
       "      <td>0.449275</td>\n",
       "      <td>2016</td>\n",
       "    </tr>\n",
       "    <tr>\n",
       "      <th>1812</th>\n",
       "      <td>10</td>\n",
       "      <td>University of Chicago</td>\n",
       "      <td>United States of America</td>\n",
       "      <td>85.7</td>\n",
       "      <td>65.0</td>\n",
       "      <td>88.9</td>\n",
       "      <td>99.2</td>\n",
       "      <td>36.6</td>\n",
       "      <td>87.93</td>\n",
       "      <td>14221</td>\n",
       "      <td>6.9</td>\n",
       "      <td>21</td>\n",
       "      <td>0.724138</td>\n",
       "      <td>2016</td>\n",
       "    </tr>\n",
       "  </tbody>\n",
       "</table>\n",
       "</div>"
      ],
      "text/plain": [
       "      world_rank                                    university_name  \\\n",
       "1803           1                 California Institute of Technology   \n",
       "1804           2                               University of Oxford   \n",
       "1805           3                                Stanford University   \n",
       "1806           4                            University of Cambridge   \n",
       "1807           5              Massachusetts Institute of Technology   \n",
       "1808           6                                 Harvard University   \n",
       "1809           7                               Princeton University   \n",
       "1810           8                            Imperial College London   \n",
       "1811           9  ETH Zurich – Swiss Federal Institute of Techno...   \n",
       "1812          10                              University of Chicago   \n",
       "\n",
       "                       country  teaching  international  research  citations  \\\n",
       "1803  United States of America      95.6           64.0      97.6       99.8   \n",
       "1804            United Kingdom      86.5           94.4      98.9       98.8   \n",
       "1805  United States of America      92.5           76.3      96.2       99.9   \n",
       "1806            United Kingdom      88.2           91.5      96.7       97.0   \n",
       "1807  United States of America      89.4           84.0      88.6       99.7   \n",
       "1808  United States of America      83.6           77.2      99.0       99.8   \n",
       "1809  United States of America      85.1           78.5      91.9       99.3   \n",
       "1810            United Kingdom      83.3           96.0      88.5       96.7   \n",
       "1811               Switzerland      77.0           97.9      95.0       91.1   \n",
       "1812  United States of America      85.7           65.0      88.9       99.2   \n",
       "\n",
       "      income total_score  num_students  student_staff_ratio  \\\n",
       "1803    97.8      95.145          2243                  6.9   \n",
       "1804    73.1     94.1675         19919                 11.6   \n",
       "1805    63.3      93.885         15596                  7.8   \n",
       "1806    55.0     92.8075         18812                 11.8   \n",
       "1807    95.4      91.995         11074                  9.0   \n",
       "1808    45.2       91.64         20152                  8.9   \n",
       "1809    52.1       90.08          7929                  8.4   \n",
       "1810    53.7     89.0925         15060                 11.7   \n",
       "1811    80.0     88.2725         18178                 14.7   \n",
       "1812    36.6       87.93         14221                  6.9   \n",
       "\n",
       "      international_students  female_male_ratio  year  \n",
       "1803                      27           0.492537  2016  \n",
       "1804                      34           0.851852  2016  \n",
       "1805                      22           0.724138  2016  \n",
       "1806                      34           0.851852  2016  \n",
       "1807                      33           0.587302  2016  \n",
       "1808                      25                NaN  2016  \n",
       "1809                      27           0.818182  2016  \n",
       "1810                      51           0.587302  2016  \n",
       "1811                      37           0.449275  2016  \n",
       "1812                      21           0.724138  2016  "
      ]
     },
     "execution_count": 34,
     "metadata": {},
     "output_type": "execute_result"
    }
   ],
   "source": [
    "df1[df1[\"world_rank\"] <= 10].sort_values([\"world_rank\"])"
   ]
  },
  {
   "cell_type": "markdown",
   "metadata": {},
   "source": [
    "All of them have a very high score in <b>research</b>, <b>teaching</b> and <b>citations</b>."
   ]
  },
  {
   "cell_type": "markdown",
   "metadata": {},
   "source": [
    "<b>Visualize which countries have the best universities:</b>"
   ]
  },
  {
   "cell_type": "code",
   "execution_count": 35,
   "metadata": {},
   "outputs": [
    {
     "data": {
      "text/plain": [
       "<matplotlib.axes._subplots.AxesSubplot at 0x7f5444ab5d50>"
      ]
     },
     "execution_count": 35,
     "metadata": {},
     "output_type": "execute_result"
    },
    {
     "data": {
      "image/png": "[encoded data removed]",
      "text/plain": [
       "<matplotlib.figure.Figure at 0x7f5444ac0cd0>"
      ]
     },
     "metadata": {},
     "output_type": "display_data"
    }
   ],
   "source": [
    "df1[\"country\"][df1[\"world_rank\"] < 200].value_counts().plot(kind='bar',color='gold')"
   ]
  },
  {
   "cell_type": "markdown",
   "metadata": {},
   "source": [
    "The US and UK lead the list by far, followed by Germany.\n",
    "\n",
    "Take a new look at the data we now have:"
   ]
  },
  {
   "cell_type": "code",
   "execution_count": 36,
   "metadata": {
    "scrolled": true
   },
   "outputs": [
    {
     "data": {
      "text/html": [
       "<div>\n",
       "<table border=\"1\" class=\"dataframe\">\n",
       "  <thead>\n",
       "    <tr style=\"text-align: right;\">\n",
       "      <th></th>\n",
       "      <th>world_rank</th>\n",
       "      <th>teaching</th>\n",
       "      <th>international</th>\n",
       "      <th>research</th>\n",
       "      <th>citations</th>\n",
       "      <th>income</th>\n",
       "      <th>num_students</th>\n",
       "      <th>student_staff_ratio</th>\n",
       "      <th>international_students</th>\n",
       "      <th>female_male_ratio</th>\n",
       "      <th>year</th>\n",
       "    </tr>\n",
       "  </thead>\n",
       "  <tbody>\n",
       "    <tr>\n",
       "      <th>count</th>\n",
       "      <td>800.0000</td>\n",
       "      <td>800.0000</td>\n",
       "      <td>800.000000</td>\n",
       "      <td>800.000000</td>\n",
       "      <td>800.00000</td>\n",
       "      <td>800.000000</td>\n",
       "      <td>793.000000</td>\n",
       "      <td>793.000000</td>\n",
       "      <td>790.000000</td>\n",
       "      <td>736.000000</td>\n",
       "      <td>800</td>\n",
       "    </tr>\n",
       "    <tr>\n",
       "      <th>mean</th>\n",
       "      <td>400.5000</td>\n",
       "      <td>31.5840</td>\n",
       "      <td>48.500375</td>\n",
       "      <td>28.128625</td>\n",
       "      <td>51.30975</td>\n",
       "      <td>45.626875</td>\n",
       "      <td>24161.264817</td>\n",
       "      <td>19.116393</td>\n",
       "      <td>12.702532</td>\n",
       "      <td>1.216970</td>\n",
       "      <td>2016</td>\n",
       "    </tr>\n",
       "    <tr>\n",
       "      <th>std</th>\n",
       "      <td>231.0844</td>\n",
       "      <td>14.9854</td>\n",
       "      <td>23.690816</td>\n",
       "      <td>19.532270</td>\n",
       "      <td>27.04544</td>\n",
       "      <td>20.872462</td>\n",
       "      <td>22569.224842</td>\n",
       "      <td>12.522003</td>\n",
       "      <td>10.676075</td>\n",
       "      <td>3.676528</td>\n",
       "      <td>0</td>\n",
       "    </tr>\n",
       "    <tr>\n",
       "      <th>min</th>\n",
       "      <td>1.0000</td>\n",
       "      <td>9.9000</td>\n",
       "      <td>7.100000</td>\n",
       "      <td>2.900000</td>\n",
       "      <td>1.20000</td>\n",
       "      <td>20.000000</td>\n",
       "      <td>462.000000</td>\n",
       "      <td>0.600000</td>\n",
       "      <td>0.000000</td>\n",
       "      <td>0.010101</td>\n",
       "      <td>2016</td>\n",
       "    </tr>\n",
       "    <tr>\n",
       "      <th>25%</th>\n",
       "      <td>200.7500</td>\n",
       "      <td>21.0000</td>\n",
       "      <td>29.450000</td>\n",
       "      <td>14.350000</td>\n",
       "      <td>27.52500</td>\n",
       "      <td>30.900000</td>\n",
       "      <td>12331.000000</td>\n",
       "      <td>12.300000</td>\n",
       "      <td>5.000000</td>\n",
       "      <td>0.818182</td>\n",
       "      <td>2016</td>\n",
       "    </tr>\n",
       "    <tr>\n",
       "      <th>50%</th>\n",
       "      <td>400.5000</td>\n",
       "      <td>27.0000</td>\n",
       "      <td>45.700000</td>\n",
       "      <td>22.100000</td>\n",
       "      <td>50.30000</td>\n",
       "      <td>37.700000</td>\n",
       "      <td>20174.000000</td>\n",
       "      <td>16.600000</td>\n",
       "      <td>10.000000</td>\n",
       "      <td>1.083333</td>\n",
       "      <td>2016</td>\n",
       "    </tr>\n",
       "    <tr>\n",
       "      <th>75%</th>\n",
       "      <td>600.2500</td>\n",
       "      <td>37.5000</td>\n",
       "      <td>65.450000</td>\n",
       "      <td>35.525000</td>\n",
       "      <td>74.90000</td>\n",
       "      <td>53.700000</td>\n",
       "      <td>29700.000000</td>\n",
       "      <td>22.400000</td>\n",
       "      <td>18.000000</td>\n",
       "      <td>1.325581</td>\n",
       "      <td>2016</td>\n",
       "    </tr>\n",
       "    <tr>\n",
       "      <th>max</th>\n",
       "      <td>800.0000</td>\n",
       "      <td>95.6000</td>\n",
       "      <td>99.900000</td>\n",
       "      <td>99.000000</td>\n",
       "      <td>100.00000</td>\n",
       "      <td>100.000000</td>\n",
       "      <td>379231.000000</td>\n",
       "      <td>162.600000</td>\n",
       "      <td>82.000000</td>\n",
       "      <td>100.000000</td>\n",
       "      <td>2016</td>\n",
       "    </tr>\n",
       "  </tbody>\n",
       "</table>\n",
       "</div>"
      ],
      "text/plain": [
       "       world_rank  teaching  international    research  citations      income  \\\n",
       "count    800.0000  800.0000     800.000000  800.000000  800.00000  800.000000   \n",
       "mean     400.5000   31.5840      48.500375   28.128625   51.30975   45.626875   \n",
       "std      231.0844   14.9854      23.690816   19.532270   27.04544   20.872462   \n",
       "min        1.0000    9.9000       7.100000    2.900000    1.20000   20.000000   \n",
       "25%      200.7500   21.0000      29.450000   14.350000   27.52500   30.900000   \n",
       "50%      400.5000   27.0000      45.700000   22.100000   50.30000   37.700000   \n",
       "75%      600.2500   37.5000      65.450000   35.525000   74.90000   53.700000   \n",
       "max      800.0000   95.6000      99.900000   99.000000  100.00000  100.000000   \n",
       "\n",
       "        num_students  student_staff_ratio  international_students  \\\n",
       "count     793.000000           793.000000              790.000000   \n",
       "mean    24161.264817            19.116393               12.702532   \n",
       "std     22569.224842            12.522003               10.676075   \n",
       "min       462.000000             0.600000                0.000000   \n",
       "25%     12331.000000            12.300000                5.000000   \n",
       "50%     20174.000000            16.600000               10.000000   \n",
       "75%     29700.000000            22.400000               18.000000   \n",
       "max    379231.000000           162.600000               82.000000   \n",
       "\n",
       "       female_male_ratio  year  \n",
       "count         736.000000   800  \n",
       "mean            1.216970  2016  \n",
       "std             3.676528     0  \n",
       "min             0.010101  2016  \n",
       "25%             0.818182  2016  \n",
       "50%             1.083333  2016  \n",
       "75%             1.325581  2016  \n",
       "max           100.000000  2016  "
      ]
     },
     "execution_count": 36,
     "metadata": {},
     "output_type": "execute_result"
    }
   ],
   "source": [
    "df1.describe()"
   ]
  },
  {
   "cell_type": "markdown",
   "metadata": {},
   "source": [
    "## 5. Analyze the performance indicators<a id=\"performance\"></a>\n",
    "\n",
    "Analyze the relationship between ranking and these performance indicators:\n",
    "- Citations\n",
    "- Research\n",
    "- Teaching\n",
    "- Income\n",
    "- International\n",
    "- Number of students\n",
    "- Student to staff ratio\n",
    "- International students\n",
    "- Female to male student ration"
   ]
  },
  {
   "cell_type": "code",
   "execution_count": 37,
   "metadata": {},
   "outputs": [
    {
     "data": {
      "image/png": "[encoded data removed]",
      "text/plain": [
       "<matplotlib.figure.Figure at 0x7f5444aa5d10>"
      ]
     },
     "metadata": {},
     "output_type": "display_data"
    },
    {
     "data": {
      "image/png": "[encoded data removed]",
      "text/plain": [
       "<matplotlib.figure.Figure at 0x7f5444aa5610>"
      ]
     },
     "metadata": {},
     "output_type": "display_data"
    },
    {
     "data": {
      "image/png": "[encoded data removed]",
      "text/plain": [
       "<matplotlib.figure.Figure at 0x7f5444906810>"
      ]
     },
     "metadata": {},
     "output_type": "display_data"
    },
    {
     "data": {
      "image/png": "[encoded data removed]",
      "text/plain": [
       "<matplotlib.figure.Figure at 0x7f54448d6e90>"
      ]
     },
     "metadata": {},
     "output_type": "display_data"
    },
    {
     "data": {
      "image/png": "[encoded data removed]",
      "text/plain": [
       "<matplotlib.figure.Figure at 0x7f54448abb90>"
      ]
     },
     "metadata": {},
     "output_type": "display_data"
    },
    {
     "data": {
      "image/png": "[encoded data removed]",
      "text/plain": [
       "<matplotlib.figure.Figure at 0x7f5444874690>"
      ]
     },
     "metadata": {},
     "output_type": "display_data"
    },
    {
     "data": {
      "image/png": "[encoded data removed]",
      "text/plain": [
       "<matplotlib.figure.Figure at 0x7f54447bed50>"
      ]
     },
     "metadata": {},
     "output_type": "display_data"
    },
    {
     "data": {
      "image/png": "[encoded data removed]",
      "text/plain": [
       "<matplotlib.figure.Figure at 0x7f54447a3050>"
      ]
     },
     "metadata": {},
     "output_type": "display_data"
    },
    {
     "data": {
      "image/png": "[encoded data removed]",
      "text/plain": [
       "<matplotlib.figure.Figure at 0x7f54447711d0>"
      ]
     },
     "metadata": {},
     "output_type": "display_data"
    }
   ],
   "source": [
    "cols = [\"citations\", \"research\", \"teaching\", \"income\", \"international\", \"num_students\", \"student_staff_ratio\", \"international_students\", \"female_male_ratio\"]\n",
    "for col in cols:\n",
    "    df2 = df1[pd.notnull(df1[col])]\n",
    "    plt.figure()\n",
    "    plt.plot(df2[\"world_rank\"], df2[col], \"o\")\n",
    "    plt.xlabel(\"Rank\", fontsize=12)\n",
    "    plt.ylabel(col, fontsize=12)"
   ]
  },
  {
   "cell_type": "markdown",
   "metadata": {},
   "source": [
    "## 6. Remove outliers<a id=\"outlier\"></a>\n",
    "\n",
    "Based on the graphs above, we can clearly see some outliers in the data. These are:\n",
    "- Universities with huge number of students\n",
    "- A female-only university\n",
    "\n",
    "Remove the outliers before proceeding:"
   ]
  },
  {
   "cell_type": "code",
   "execution_count": 38,
   "metadata": {},
   "outputs": [
    {
     "data": {
      "text/html": [
       "<div>\n",
       "<table border=\"1\" class=\"dataframe\">\n",
       "  <thead>\n",
       "    <tr style=\"text-align: right;\">\n",
       "      <th></th>\n",
       "      <th>world_rank</th>\n",
       "      <th>university_name</th>\n",
       "      <th>country</th>\n",
       "      <th>teaching</th>\n",
       "      <th>international</th>\n",
       "      <th>research</th>\n",
       "      <th>citations</th>\n",
       "      <th>income</th>\n",
       "      <th>total_score</th>\n",
       "      <th>num_students</th>\n",
       "      <th>student_staff_ratio</th>\n",
       "      <th>international_students</th>\n",
       "      <th>female_male_ratio</th>\n",
       "      <th>year</th>\n",
       "    </tr>\n",
       "  </thead>\n",
       "  <tbody>\n",
       "    <tr>\n",
       "      <th>2413</th>\n",
       "      <td>741</td>\n",
       "      <td>Anadolu University</td>\n",
       "      <td>Turkey</td>\n",
       "      <td>12.2</td>\n",
       "      <td>14.3</td>\n",
       "      <td>22.6</td>\n",
       "      <td>10.9</td>\n",
       "      <td>100.0</td>\n",
       "      <td>17.2825</td>\n",
       "      <td>379231</td>\n",
       "      <td>162.6</td>\n",
       "      <td>1</td>\n",
       "      <td>3.545455</td>\n",
       "      <td>2016</td>\n",
       "    </tr>\n",
       "    <tr>\n",
       "      <th>2430</th>\n",
       "      <td>765</td>\n",
       "      <td>Cairo University</td>\n",
       "      <td>Egypt</td>\n",
       "      <td>18.9</td>\n",
       "      <td>31.0</td>\n",
       "      <td>11.1</td>\n",
       "      <td>11.9</td>\n",
       "      <td>30.3</td>\n",
       "      <td>15.6525</td>\n",
       "      <td>231941</td>\n",
       "      <td>39.1</td>\n",
       "      <td>3</td>\n",
       "      <td>0.886792</td>\n",
       "      <td>2016</td>\n",
       "    </tr>\n",
       "  </tbody>\n",
       "</table>\n",
       "</div>"
      ],
      "text/plain": [
       "      world_rank     university_name country  teaching  international  \\\n",
       "2413         741  Anadolu University  Turkey      12.2           14.3   \n",
       "2430         765    Cairo University   Egypt      18.9           31.0   \n",
       "\n",
       "      research  citations  income total_score  num_students  \\\n",
       "2413      22.6       10.9   100.0     17.2825        379231   \n",
       "2430      11.1       11.9    30.3     15.6525        231941   \n",
       "\n",
       "      student_staff_ratio  international_students  female_male_ratio  year  \n",
       "2413                162.6                       1           3.545455  2016  \n",
       "2430                 39.1                       3           0.886792  2016  "
      ]
     },
     "execution_count": 38,
     "metadata": {},
     "output_type": "execute_result"
    }
   ],
   "source": [
    "df1[df1[\"num_students\"] > 200000].sort_values([\"num_students\"], ascending=[False])"
   ]
  },
  {
   "cell_type": "code",
   "execution_count": 39,
   "metadata": {},
   "outputs": [
    {
     "data": {
      "text/html": [
       "<div>\n",
       "<table border=\"1\" class=\"dataframe\">\n",
       "  <thead>\n",
       "    <tr style=\"text-align: right;\">\n",
       "      <th></th>\n",
       "      <th>world_rank</th>\n",
       "      <th>university_name</th>\n",
       "      <th>country</th>\n",
       "      <th>teaching</th>\n",
       "      <th>international</th>\n",
       "      <th>research</th>\n",
       "      <th>citations</th>\n",
       "      <th>income</th>\n",
       "      <th>total_score</th>\n",
       "      <th>num_students</th>\n",
       "      <th>student_staff_ratio</th>\n",
       "      <th>international_students</th>\n",
       "      <th>female_male_ratio</th>\n",
       "      <th>year</th>\n",
       "    </tr>\n",
       "  </thead>\n",
       "  <tbody>\n",
       "    <tr>\n",
       "      <th>2413</th>\n",
       "      <td>741</td>\n",
       "      <td>Anadolu University</td>\n",
       "      <td>Turkey</td>\n",
       "      <td>12.2</td>\n",
       "      <td>14.3</td>\n",
       "      <td>22.6</td>\n",
       "      <td>10.9</td>\n",
       "      <td>100.0</td>\n",
       "      <td>17.2825</td>\n",
       "      <td>379231</td>\n",
       "      <td>162.6</td>\n",
       "      <td>1</td>\n",
       "      <td>3.545455</td>\n",
       "      <td>2016</td>\n",
       "    </tr>\n",
       "    <tr>\n",
       "      <th>2562</th>\n",
       "      <td>783</td>\n",
       "      <td>University of South Africa</td>\n",
       "      <td>South Africa</td>\n",
       "      <td>18.4</td>\n",
       "      <td>28.7</td>\n",
       "      <td>11.3</td>\n",
       "      <td>9.4</td>\n",
       "      <td>28.8</td>\n",
       "      <td>14.6025</td>\n",
       "      <td>197102</td>\n",
       "      <td>108.5</td>\n",
       "      <td>9</td>\n",
       "      <td>1.857143</td>\n",
       "      <td>2016</td>\n",
       "    </tr>\n",
       "  </tbody>\n",
       "</table>\n",
       "</div>"
      ],
      "text/plain": [
       "      world_rank             university_name       country  teaching  \\\n",
       "2413         741          Anadolu University        Turkey      12.2   \n",
       "2562         783  University of South Africa  South Africa      18.4   \n",
       "\n",
       "      international  research  citations  income total_score  num_students  \\\n",
       "2413           14.3      22.6       10.9   100.0     17.2825        379231   \n",
       "2562           28.7      11.3        9.4    28.8     14.6025        197102   \n",
       "\n",
       "      student_staff_ratio  international_students  female_male_ratio  year  \n",
       "2413                162.6                       1           3.545455  2016  \n",
       "2562                108.5                       9           1.857143  2016  "
      ]
     },
     "execution_count": 39,
     "metadata": {},
     "output_type": "execute_result"
    }
   ],
   "source": [
    "df1[df1[\"student_staff_ratio\"] > 100].sort_values([\"student_staff_ratio\"], ascending=[False])"
   ]
  },
  {
   "cell_type": "code",
   "execution_count": 40,
   "metadata": {},
   "outputs": [
    {
     "data": {
      "text/html": [
       "<div>\n",
       "<table border=\"1\" class=\"dataframe\">\n",
       "  <thead>\n",
       "    <tr style=\"text-align: right;\">\n",
       "      <th></th>\n",
       "      <th>world_rank</th>\n",
       "      <th>university_name</th>\n",
       "      <th>country</th>\n",
       "      <th>teaching</th>\n",
       "      <th>international</th>\n",
       "      <th>research</th>\n",
       "      <th>citations</th>\n",
       "      <th>income</th>\n",
       "      <th>total_score</th>\n",
       "      <th>num_students</th>\n",
       "      <th>student_staff_ratio</th>\n",
       "      <th>international_students</th>\n",
       "      <th>female_male_ratio</th>\n",
       "      <th>year</th>\n",
       "    </tr>\n",
       "  </thead>\n",
       "  <tbody>\n",
       "    <tr>\n",
       "      <th>2411</th>\n",
       "      <td>720</td>\n",
       "      <td>American University of Sharjah</td>\n",
       "      <td>United Arab Emirates</td>\n",
       "      <td>12.4</td>\n",
       "      <td>95.6</td>\n",
       "      <td>10.6</td>\n",
       "      <td>13.3</td>\n",
       "      <td>33.3</td>\n",
       "      <td>18.8925</td>\n",
       "      <td>5226</td>\n",
       "      <td>14.1</td>\n",
       "      <td>82</td>\n",
       "      <td>0.923077</td>\n",
       "      <td>2016</td>\n",
       "    </tr>\n",
       "  </tbody>\n",
       "</table>\n",
       "</div>"
      ],
      "text/plain": [
       "      world_rank                 university_name               country  \\\n",
       "2411         720  American University of Sharjah  United Arab Emirates   \n",
       "\n",
       "      teaching  international  research  citations  income total_score  \\\n",
       "2411      12.4           95.6      10.6       13.3    33.3     18.8925   \n",
       "\n",
       "      num_students  student_staff_ratio  international_students  \\\n",
       "2411          5226                 14.1                      82   \n",
       "\n",
       "      female_male_ratio  year  \n",
       "2411           0.923077  2016  "
      ]
     },
     "execution_count": 40,
     "metadata": {},
     "output_type": "execute_result"
    }
   ],
   "source": [
    "df1[df1[\"international_students\"] > 80].sort_values([\"international_students\"], ascending=[False])"
   ]
  },
  {
   "cell_type": "code",
   "execution_count": 41,
   "metadata": {},
   "outputs": [
    {
     "data": {
      "text/html": [
       "<div>\n",
       "<table border=\"1\" class=\"dataframe\">\n",
       "  <thead>\n",
       "    <tr style=\"text-align: right;\">\n",
       "      <th></th>\n",
       "      <th>world_rank</th>\n",
       "      <th>university_name</th>\n",
       "      <th>country</th>\n",
       "      <th>teaching</th>\n",
       "      <th>international</th>\n",
       "      <th>research</th>\n",
       "      <th>citations</th>\n",
       "      <th>income</th>\n",
       "      <th>total_score</th>\n",
       "      <th>num_students</th>\n",
       "      <th>student_staff_ratio</th>\n",
       "      <th>international_students</th>\n",
       "      <th>female_male_ratio</th>\n",
       "      <th>year</th>\n",
       "    </tr>\n",
       "  </thead>\n",
       "  <tbody>\n",
       "    <tr>\n",
       "      <th>2227</th>\n",
       "      <td>460</td>\n",
       "      <td>Ewha Womans University</td>\n",
       "      <td>South Korea</td>\n",
       "      <td>23.9</td>\n",
       "      <td>34.3</td>\n",
       "      <td>18.3</td>\n",
       "      <td>50.4</td>\n",
       "      <td>57.6</td>\n",
       "      <td>31.7925</td>\n",
       "      <td>17625</td>\n",
       "      <td>14.4</td>\n",
       "      <td>6</td>\n",
       "      <td>100</td>\n",
       "      <td>2016</td>\n",
       "    </tr>\n",
       "  </tbody>\n",
       "</table>\n",
       "</div>"
      ],
      "text/plain": [
       "      world_rank         university_name      country  teaching  \\\n",
       "2227         460  Ewha Womans University  South Korea      23.9   \n",
       "\n",
       "      international  research  citations  income total_score  num_students  \\\n",
       "2227           34.3      18.3       50.4    57.6     31.7925         17625   \n",
       "\n",
       "      student_staff_ratio  international_students  female_male_ratio  year  \n",
       "2227                 14.4                       6                100  2016  "
      ]
     },
     "execution_count": 41,
     "metadata": {},
     "output_type": "execute_result"
    }
   ],
   "source": [
    "df1[df1[\"female_male_ratio\"] > 90].sort_values([\"female_male_ratio\"], ascending=[False])"
   ]
  },
  {
   "cell_type": "code",
   "execution_count": 42,
   "metadata": {
    "collapsed": true
   },
   "outputs": [],
   "source": [
    "drop_idx = [2413, 2430, 2562, 2411, 2227]\n",
    "df1 = df1.drop(drop_idx, axis=0)"
   ]
  },
  {
   "cell_type": "markdown",
   "metadata": {},
   "source": [
    "## 7. Correlation between the different indicators<a id=\"correlation\"></a>\n",
    "Now we can look at the correlation between ranking score and performance indicators."
   ]
  },
  {
   "cell_type": "code",
   "execution_count": 24,
   "metadata": {},
   "outputs": [
    {
     "data": {
      "image/png": "[encoded data removed]",
      "text/plain": [
       "<matplotlib.figure.Figure at 0x7fd0782a5550>"
      ]
     },
     "metadata": {},
     "output_type": "display_data"
    }
   ],
   "source": [
    "corrmat = df1.corr()\n",
    "f, ax = plt.subplots(figsize=(12, 7))\n",
    "sns.heatmap(corrmat, vmax=.5, square=True);"
   ]
  },
  {
   "cell_type": "markdown",
   "metadata": {},
   "source": [
    "This is a helpful graph! A number of observations here:\n",
    "-  The rank of a university is most negatively correlated to the <b>citation</b> score, that is, the higher the citation score, the better the rank.\n",
    "-  The citation score is highly correlated with <b>teaching</b>/<b>research</b>, which is expected.\n",
    "-  <b>international_students</b> is highly correlated to <b>teaching</b>/<b>research</b>. Again, this is expected, because international students are attracted by a university's research and faculty reputation.\n",
    "-  <b>international_students</b> is highly correlated to <b>international</b>, which represents the international outlook of the university (including staff and international research collaborations).\n",
    "-  <b>num_students</b> is highly correlated to <b>student_staff_ratio</b>. Of course, the greater the number of students, the greater the student_staff_ratio.\n",
    "-  <b>student_staff_ratio</b> is slightly negatively correlated to <b>teaching</b>. Teaching quality suffers if there is a higher number of students per teacher.\n",
    "-  <b>research</b> is correlated to <b>income</b>. Because <b>income</b> is a measure of how much <i>\"research income an institution earns from industry\"</i>, hence better the research, more the income\n",
    "-  An interesting slight negative correlation between <b>female_male_ratio</b> and <b>income</b>, which means more males study in higher income universities. As income is directly correlated to the quality of research, this seems to suggest that more males are into research (across disciplines) than females."
   ]
  },
  {
   "cell_type": "markdown",
   "metadata": {},
   "source": [
    "However, the highest correlation is between <b>teaching</b> and <b>research</b>. This is an expected correlation, but THE considers teaching and research to be different indicators when calculating the final score and gives them equal weighting. \n",
    "What if we simply omit the research score and double the weighting for teaching? Do the scores change by much?"
   ]
  },
  {
   "cell_type": "code",
   "execution_count": 25,
   "metadata": {
    "collapsed": true
   },
   "outputs": [],
   "source": [
    "mod_score = []\n",
    "\n",
    "for x in range(len(df1)):\n",
    "    idx = df1.iloc[x].name  \n",
    "    new_score = df1.loc[idx,\"teaching\"]*0.6 + df1.loc[idx,\"citations\"]*0.3 + df1.loc[idx,\"international\"]*0.075 + df1.loc[idx,\"income\"]*0.025\n",
    "    mod_score.append(new_score)"
   ]
  },
  {
   "cell_type": "code",
   "execution_count": 26,
   "metadata": {},
   "outputs": [
    {
     "data": {
      "text/plain": [
       "0.99109033999375939"
      ]
     },
     "execution_count": 26,
     "metadata": {},
     "output_type": "execute_result"
    }
   ],
   "source": [
    "df1['total_score'] = df1['total_score'].astype(float)\n",
    "np.corrcoef(mod_score, df1[\"total_score\"])[0,1]"
   ]
  },
  {
   "cell_type": "markdown",
   "metadata": {
    "collapsed": true
   },
   "source": [
    "There is still a 99% correlation! It seems THE can save itself some work and make its surveys simpler by removing the research parameter because this parameter does not significantly alter the score/rankings."
   ]
  },
  {
   "cell_type": "markdown",
   "metadata": {},
   "source": [
    "## 8. Next steps <a id=\"nextsteps\"></a>"
   ]
  },
  {
   "cell_type": "markdown",
   "metadata": {},
   "source": [
    "Here are some suggestions about how we could further analyze the ranking data:\n",
    "- Explore the relationship between research and citation; does a high research score always mean a high citation score?\n",
    "- Explore the gender ratio and research score; are there actually less females in research fields? Filter out science universities from the list and check the gender ratio.\n",
    "- Compare the rankings to the 2017 rankings.\n",
    "- Correlate the rankings to the countries' education budget. This requires you to get the country expenditure details."
   ]
  },
  {
   "cell_type": "markdown",
   "metadata": {},
   "source": [
    "### Citations\n",
    "- <a href=\"https://www.timeshighereducation.com/world-university-rankings\" target=\"_blank\" rel=\"noopener no referrer\">THE world university rankings</a>\n",
    "- <a href=\"https://www.timeshighereducation.com/news/ranking-methodology-2016\" target=\"_blank\" rel=\"noopener no referrer\">THE world university ranking methodology 2016</a>\n",
    "- <a href=\"https://www.kaggle.com/mylesoneill/world-university-rankings/data\" target=\"_blank\" rel=\"noopener no referrer\">World University Rankings:\n",
    "Investigate the best universities in the world</a>"
   ]
  },
  {
   "cell_type": "markdown",
   "metadata": {},
   "source": [
    "### Author\n",
    "**Vaibhav Mathur** is an QA Specialist at IBM, India."
   ]
  },
  {
   "cell_type": "markdown",
   "metadata": {},
   "source": [
    "Copyright © IBM Corp. 2017. This notebook and its source code are released under the terms of the MIT License."
   ]
  }
 ],
 "metadata": {
  "kernelspec": {
   "display_name": "Python 2 with Spark 2.0",
   "language": "python",
   "name": "python2-spark20"
  },
  "language_info": {
   "codemirror_mode": {
    "name": "ipython",
    "version": 2
   },
   "file_extension": ".py",
   "mimetype": "text/x-python",
   "name": "python",
   "nbconvert_exporter": "python",
   "pygments_lexer": "ipython2",
   "version": "2.7.11"
  },
  "widgets": {
   "state": {},
   "version": "1.1.2"
  }
 },
 "nbformat": 4,
 "nbformat_minor": 1
}
