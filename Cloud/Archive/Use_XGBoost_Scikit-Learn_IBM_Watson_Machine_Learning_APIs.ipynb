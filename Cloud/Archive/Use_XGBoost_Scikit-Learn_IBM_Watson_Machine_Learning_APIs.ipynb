{
 "cells": [
  {
   "cell_type": "markdown",
   "metadata": {},
   "source": [
    "<div style=\"background:#F5F7FA; height:100px; padding: 2em; font-size:14px;\">\n",
    "<span style=\"font-size:18px;color:#152935;\">Want to do more?</span><span style=\"border: 1px solid #3d70b2;padding: 15px;float:right;margin-right:40px; color:#3d70b2; \"><a href=\"https://ibm.co/wsnotebooks\" target=\"_blank\" style=\"color: #3d70b2;text-decoration: none;\">Sign Up</a></span><br>\n",
    "<span style=\"color:#5A6872;\"> Try out this notebook with your free trial of IBM Watson Studio.</span>\n",
    "</div>"
   ]
  },
  {
   "cell_type": "markdown",
   "metadata": {},
   "source": [
    "<table style=\"border: none\" align=\"left\">\n",
    "   <tr style=\"border: none\">\n",
    "      <th style=\"text-align: left;border: none\"><font face=\"verdana\" size=\"5\" color=\"black\"><b>Train and deploy a heart disease prediction model using XGBoost and IBM Watson Machine Learning APIs</b></th>\n",
    "      <th style=\"border: none\"><img src=\"https://github.com/pmservice/customer-satisfaction-prediction/blob/master/app/static/images/ml_icon_gray.png?raw=true\" alt=\"Watson Machine Learning icon\" height=\"40\" width=\"40\"></th>\n",
    "   </tr>\n",
    "   <tr style=\"border: none\">\n",
    "       <th style=\"border: none\"><img src=\"https://github.com/pmservice/drug-selection/raw/master/images/heart_banner.png\" width=\"600\" alt=\"Icon\"> </th>\n",
    "   </tr>\n",
    "</table>"
   ]
  },
  {
   "cell_type": "markdown",
   "metadata": {},
   "source": [
    "This notebook demonstrates how to train a model using the XGBoost library to classify whether a person has heart disease or not. In addition to training, the notebook also explains how to persist a trained model to IBM Watson Machine Learning repository, deploy the model as a REST service and to predict using the deployed model using the REST APIs.  \n",
    "\n",
    "In order to train and test the heart disease prediction model, you will be using an open source data set published in the University of California, Irvine (UCI) Machine Learning Repository. \n",
    "\n",
    "This notebook uses Python 3.5 runtime, XGBoost 0.6 and Scikit-Learn 0.17."
   ]
  },
  {
   "cell_type": "markdown",
   "metadata": {},
   "source": [
    "## Learning goals\n",
    "\n",
    "The learning goals of this notebook are:\n",
    "\n",
    "-  Load a CSV file into Pandas DataFrame.\n",
    "-  Prepare data for training and evaluation.\n",
    "-  Create DMatrix from a Pandas DataFrame.\n",
    "-  Create, train and evaluate a XGBoost model.\n",
    "-  Vizualize a decision trees used by the model.\n",
    "-  Vizualize the importance of features that were used to train the model.\n",
    "-  Persist a model in Watson Machine Learning repository using Python client library.\n",
    "-  Deploy a model for online scoring using the Watson Machine Learning's REST APIs\n",
    "-  Score a sample scoring data using the Watson Machine Learning's REST APIs.\n",
    "\n"
   ]
  },
  {
   "cell_type": "markdown",
   "metadata": {},
   "source": [
    "## Table of contents\n",
    "This notebook contains the following sections:\n",
    "\n",
    "1.\t[Setup](#setup)\n",
    "2.\t[Load and explore data](#load)\n",
    "3.\t[Create XGBoost model](#model)\n",
    "4.\t[Persist model](#persistence)\n",
    "5.\t[Deploy and score in a Cloud](#scoring)\n",
    "6.\t[Summary and next steps](#summary)"
   ]
  },
  {
   "cell_type": "markdown",
   "metadata": {},
   "source": [
    "<a id=\"setup\"></a>\n",
    "## 1. Setup\n",
    "\n",
    "Before you execute the sample code in this notebook, you must perform the following setup tasks:\n",
    "\n",
    "-  Create a [Watson Machine Learning Service](https://console.ng.bluemix.net/catalog/services/ibm-watson-machine-learning/) instance (a free plan is offered). \n",
    "-  Download **Heart Disease Data Set** data in the Notebook's local filesystem\n",
    "-  Make sure that you are using a Spark 2.0 kernel.\n",
    "\n",
    "### Download Heart Disease Data Set  to Notebook's local filesystem\n",
    "Heart Disease Data Set is a freely available data set on the UCI Machine Learning Repository portal.\n",
    "\n",
    "1.  The **Heart Disease Data Set** is hosted [here](http://archive.ics.uci.edu/ml/machine-learning-databases/heart-disease/processed.cleveland.data).\n",
    "2.  In the following cell, replace the `link_to_data` variable value with the URL mentioned above.\n"
   ]
  },
  {
   "cell_type": "markdown",
   "metadata": {},
   "source": [
    "In order to download the data from UCI Machine Learning Repository, use the `wget` library. Please install this library if have you have not installed it already. Use the following command to install the `wget` library: `!pip install wget --user` "
   ]
  },
  {
   "cell_type": "code",
   "execution_count": null,
   "metadata": {},
   "outputs": [],
   "source": [
    "!pip install wget --user"
   ]
  },
  {
   "cell_type": "markdown",
   "metadata": {},
   "source": [
    "Now, the code in the cell below downloads the data set and saves it in the local filesystem. The name of downloaded file containing the data will be displayed in the output of this cell."
   ]
  },
  {
   "cell_type": "code",
   "execution_count": 3,
   "metadata": {},
   "outputs": [
    {
     "name": "stdout",
     "output_type": "stream",
     "text": [
      "processed.cleveland (2).data\n"
     ]
    }
   ],
   "source": [
    "import wget\n",
    "\n",
    "link_to_data = 'http://archive.ics.uci.edu/ml/machine-learning-databases/heart-disease/processed.cleveland.data'\n",
    "ClevelandDataSet = wget.download(link_to_data)\n",
    "\n",
    "print(ClevelandDataSet)"
   ]
  },
  {
   "cell_type": "markdown",
   "metadata": {},
   "source": [
    "The .csv file, **processed.cleveland.data**, that contains the heart disease data set is now availble on your local gpfs filesystem. "
   ]
  },
  {
   "cell_type": "markdown",
   "metadata": {},
   "source": [
    "The downloaded data set contains the following attributes pertaining to heart disease.\n",
    "\n",
    "### Data set Details:\n",
    "1. age - age in years\n",
    "2. sex - sex(1 =  male; 0 = female)\n",
    "3. cp - chest pain type (1 = typical angina; 2 = atypical angina; 3 = non-anginal pain; 4 = asymptomatic)\n",
    "4. trestbps - resting blood pressure (in mm Hg on admission to the hospital)\n",
    "5. chol - serum cholestoral in mg/dl\n",
    "6. fbs - fasting blood sugar > 120 mg/dl (1 = true; 0 = false)\n",
    "7. restecg - resting electrocardiographic results (0 = normal; 1 = having ST-T; 2 = hypertrophy)\n",
    "8. thalach - maximum heart rate achieved\n",
    "9. exang - exercise induced angina (1 = yes; 0 = no)\n",
    "10. oldpeak - ST depression induced by exercise relative to rest\n",
    "11. slope - the slope of the peak exercise ST segment (1 = upsloping; 2 = flat; 3 = downsloping)\n",
    "12. ca - number of major vessels (0-3) colored by flourosopy\n",
    "13. thal - 3 = normal; 6 = fixed defect; 7 = reversable defect\n",
    "14. num - the predicted attribute - diagnosis of heart disease (angiographic disease status) (Value 0 = < 50% diameter narrowing; Value 1 = > 50% diameter narrowing)\n"
   ]
  },
  {
   "cell_type": "markdown",
   "metadata": {},
   "source": [
    "<a id=\"load\"></a>\n",
    "## 2. Load and explore data"
   ]
  },
  {
   "cell_type": "markdown",
   "metadata": {},
   "source": [
    "In this section you will load the data as a Pandas data frame and perform a basic exploration.\n"
   ]
  },
  {
   "cell_type": "markdown",
   "metadata": {},
   "source": [
    "Load the data in the .csv file, **processed.cleveland.data**, into a Pandas data frame by running the following code:"
   ]
  },
  {
   "cell_type": "code",
   "execution_count": 4,
   "metadata": {},
   "outputs": [],
   "source": [
    "import pandas as pd"
   ]
  },
  {
   "cell_type": "code",
   "execution_count": 5,
   "metadata": {},
   "outputs": [
    {
     "data": {
      "text/html": [
       "<div>\n",
       "<style scoped>\n",
       "    .dataframe tbody tr th:only-of-type {\n",
       "        vertical-align: middle;\n",
       "    }\n",
       "\n",
       "    .dataframe tbody tr th {\n",
       "        vertical-align: top;\n",
       "    }\n",
       "\n",
       "    .dataframe thead th {\n",
       "        text-align: right;\n",
       "    }\n",
       "</style>\n",
       "<table border=\"1\" class=\"dataframe\">\n",
       "  <thead>\n",
       "    <tr style=\"text-align: right;\">\n",
       "      <th></th>\n",
       "      <th>age</th>\n",
       "      <th>sex</th>\n",
       "      <th>cp</th>\n",
       "      <th>restbp</th>\n",
       "      <th>chol</th>\n",
       "      <th>fbs</th>\n",
       "      <th>restecg</th>\n",
       "      <th>thalach</th>\n",
       "      <th>exang</th>\n",
       "      <th>oldpeak</th>\n",
       "      <th>slope</th>\n",
       "      <th>ca</th>\n",
       "      <th>thal</th>\n",
       "      <th>num</th>\n",
       "    </tr>\n",
       "  </thead>\n",
       "  <tbody>\n",
       "    <tr>\n",
       "      <th>0</th>\n",
       "      <td>63.0</td>\n",
       "      <td>1.0</td>\n",
       "      <td>1.0</td>\n",
       "      <td>145.0</td>\n",
       "      <td>233.0</td>\n",
       "      <td>1.0</td>\n",
       "      <td>2.0</td>\n",
       "      <td>150.0</td>\n",
       "      <td>0.0</td>\n",
       "      <td>2.3</td>\n",
       "      <td>3.0</td>\n",
       "      <td>0.0</td>\n",
       "      <td>6.0</td>\n",
       "      <td>0</td>\n",
       "    </tr>\n",
       "    <tr>\n",
       "      <th>1</th>\n",
       "      <td>67.0</td>\n",
       "      <td>1.0</td>\n",
       "      <td>4.0</td>\n",
       "      <td>160.0</td>\n",
       "      <td>286.0</td>\n",
       "      <td>0.0</td>\n",
       "      <td>2.0</td>\n",
       "      <td>108.0</td>\n",
       "      <td>1.0</td>\n",
       "      <td>1.5</td>\n",
       "      <td>2.0</td>\n",
       "      <td>3.0</td>\n",
       "      <td>3.0</td>\n",
       "      <td>2</td>\n",
       "    </tr>\n",
       "    <tr>\n",
       "      <th>2</th>\n",
       "      <td>67.0</td>\n",
       "      <td>1.0</td>\n",
       "      <td>4.0</td>\n",
       "      <td>120.0</td>\n",
       "      <td>229.0</td>\n",
       "      <td>0.0</td>\n",
       "      <td>2.0</td>\n",
       "      <td>129.0</td>\n",
       "      <td>1.0</td>\n",
       "      <td>2.6</td>\n",
       "      <td>2.0</td>\n",
       "      <td>2.0</td>\n",
       "      <td>7.0</td>\n",
       "      <td>1</td>\n",
       "    </tr>\n",
       "    <tr>\n",
       "      <th>3</th>\n",
       "      <td>37.0</td>\n",
       "      <td>1.0</td>\n",
       "      <td>3.0</td>\n",
       "      <td>130.0</td>\n",
       "      <td>250.0</td>\n",
       "      <td>0.0</td>\n",
       "      <td>0.0</td>\n",
       "      <td>187.0</td>\n",
       "      <td>0.0</td>\n",
       "      <td>3.5</td>\n",
       "      <td>3.0</td>\n",
       "      <td>0.0</td>\n",
       "      <td>3.0</td>\n",
       "      <td>0</td>\n",
       "    </tr>\n",
       "    <tr>\n",
       "      <th>4</th>\n",
       "      <td>41.0</td>\n",
       "      <td>0.0</td>\n",
       "      <td>2.0</td>\n",
       "      <td>130.0</td>\n",
       "      <td>204.0</td>\n",
       "      <td>0.0</td>\n",
       "      <td>2.0</td>\n",
       "      <td>172.0</td>\n",
       "      <td>0.0</td>\n",
       "      <td>1.4</td>\n",
       "      <td>1.0</td>\n",
       "      <td>0.0</td>\n",
       "      <td>3.0</td>\n",
       "      <td>0</td>\n",
       "    </tr>\n",
       "  </tbody>\n",
       "</table>\n",
       "</div>"
      ],
      "text/plain": [
       "    age  sex   cp  restbp   chol  fbs  restecg  thalach  exang  oldpeak  \\\n",
       "0  63.0  1.0  1.0   145.0  233.0  1.0      2.0    150.0    0.0      2.3   \n",
       "1  67.0  1.0  4.0   160.0  286.0  0.0      2.0    108.0    1.0      1.5   \n",
       "2  67.0  1.0  4.0   120.0  229.0  0.0      2.0    129.0    1.0      2.6   \n",
       "3  37.0  1.0  3.0   130.0  250.0  0.0      0.0    187.0    0.0      3.5   \n",
       "4  41.0  0.0  2.0   130.0  204.0  0.0      2.0    172.0    0.0      1.4   \n",
       "\n",
       "   slope   ca  thal  num  \n",
       "0    3.0  0.0   6.0    0  \n",
       "1    2.0  3.0   3.0    2  \n",
       "2    2.0  2.0   7.0    1  \n",
       "3    3.0  0.0   3.0    0  \n",
       "4    1.0  0.0   3.0    0  "
      ]
     },
     "execution_count": 5,
     "metadata": {},
     "output_type": "execute_result"
    }
   ],
   "source": [
    "col_names = ['age','sex','cp','restbp','chol','fbs','restecg','thalach','exang','oldpeak','slope','ca','thal','num']\n",
    "\n",
    "heart_data_df = pd.read_csv(ClevelandDataSet, sep=',', header=None, names=col_names, na_filter= True, na_values= {'ca': '?', 'thal': '?'})\n",
    "heart_data_df.head()"
   ]
  },
  {
   "cell_type": "markdown",
   "metadata": {},
   "source": [
    "Let us see how many attributes and samples we have in this data set"
   ]
  },
  {
   "cell_type": "code",
   "execution_count": 6,
   "metadata": {},
   "outputs": [
    {
     "name": "stdout",
     "output_type": "stream",
     "text": [
      "No. of Sample data = 303\n",
      "No. of Attributes  = 14\n"
     ]
    }
   ],
   "source": [
    "(samples, attributes) = heart_data_df.shape\n",
    "print(\"No. of Sample data =\", samples )\n",
    "print(\"No. of Attributes  =\", attributes)"
   ]
  },
  {
   "cell_type": "markdown",
   "metadata": {},
   "source": [
    "We have 303 rows of sample data with 14 columns of data per sample."
   ]
  },
  {
   "cell_type": "markdown",
   "metadata": {},
   "source": [
    "<a id=\"create\"></a>\n",
    "## 3. Create an XGBoost model"
   ]
  },
  {
   "cell_type": "markdown",
   "metadata": {},
   "source": [
    "In recent years, ensemble learning models took the lead and became popular among machine learning practitioners.\n",
    "\n",
    "Ensemble learning model employs multiple machine learning algorithms to overcome the potential weaknesses of a single model. For example, if you are going to pick a destination for your next vacation, you probably ask your family and friends, read reviews and blog posts. Based on all the information you have gathered, you make your final decision.\n",
    "\n",
    "This phenomenon is referred as the Wisdom of Crowds (WOC) in social sciences and it states that averaging the answers (prediction or probability) of a group will often result better than the answer of one of its members. The idea is that the collective knowledge of diverse and independent individuals will exceed the knowledge of any one of those individuals, helping to eliminate the noise.\n",
    "\n",
    "XGBoost is an open source library for ensemble based algorithms. It can be used for classification, regression and ranking type of problems. XGBoost supports multiple languages, such as C++, Python, R, and Java. \n",
    "\n",
    "The Python library of XGBoost supports the following API interfaces to train and predict a model, also referred to as a `Booster`: \n",
    "- XGBoost's native APIs pertaining to the `xgboost` package, such as `xgboost.train()` or `xgboost.Booster`\n",
    "- Scikit-Learn based Wrapper APIs: `xgboost.sklearn.XGBClassifier` and `xgboost.sklearn.XGBRegressor`\n",
    "\n",
    "Details about using the scikit-learn based Wrapper APIs to create and predict an XGBoost model is explained in the the [Classify tumors with machine learning](https://apsportal.ibm.com/exchange/public/entry/view/ac820b22cc976f5cf6487260f4c8d9c8) notebook.\n",
    "\n",
    "In this section you will learn how to train and test an XGBoost model using XGBoost's native python APIs. "
   ]
  },
  {
   "cell_type": "markdown",
   "metadata": {},
   "source": [
    "First, you must import the required libraries."
   ]
  },
  {
   "cell_type": "code",
   "execution_count": null,
   "metadata": {},
   "outputs": [],
   "source": [
    "import xgboost as xgb\n",
    "\n",
    "import pandas as pd\n",
    "\n",
    "from sklearn import cross_validation\n",
    "from sklearn.metrics import accuracy_score\n",
    "\n",
    "from matplotlib import pyplot\n",
    "import pprint\n",
    "%matplotlib inline"
   ]
  },
  {
   "cell_type": "markdown",
   "metadata": {},
   "source": [
    "### 3.1: Prepare data"
   ]
  },
  {
   "cell_type": "markdown",
   "metadata": {},
   "source": [
    "In this section, clean and transform the data in the Pandas data frame into the data that can be given as input for training the model. \n"
   ]
  },
  {
   "cell_type": "markdown",
   "metadata": {},
   "source": [
    "#### 3.1.1: Cleanse the data\n",
    "First, check if there are any null data in our dataset and remove the corresponding rows."
   ]
  },
  {
   "cell_type": "code",
   "execution_count": 8,
   "metadata": {},
   "outputs": [
    {
     "name": "stdout",
     "output_type": "stream",
     "text": [
      "List of features with their corresponding count of null values : \n",
      "---------------------------------------------------------------- \n",
      "age        0\n",
      "sex        0\n",
      "cp         0\n",
      "restbp     0\n",
      "chol       0\n",
      "fbs        0\n",
      "restecg    0\n",
      "thalach    0\n",
      "exang      0\n",
      "oldpeak    0\n",
      "slope      0\n",
      "ca         4\n",
      "thal       2\n",
      "num        0\n",
      "dtype: int64\n"
     ]
    }
   ],
   "source": [
    "print(\"List of features with their corresponding count of null values : \")\n",
    "print(\"---------------------------------------------------------------- \")\n",
    "print(heart_data_df.isnull().sum())"
   ]
  },
  {
   "cell_type": "markdown",
   "metadata": {},
   "source": [
    "From the output of the above cell, there are 6 occurrences where there are null values. The rows containing these null values can be removed so that the data set does not have any incomplete data. The cell below contains the command to remove the rows that contain these null values."
   ]
  },
  {
   "cell_type": "code",
   "execution_count": 9,
   "metadata": {},
   "outputs": [],
   "source": [
    "heart_data_df = heart_data_df.dropna(how='any',axis=0)"
   ]
  },
  {
   "cell_type": "markdown",
   "metadata": {},
   "source": [
    "#### 3.1.2: Prepare the target data and feature columns"
   ]
  },
  {
   "cell_type": "markdown",
   "metadata": {},
   "source": [
    "In this section, transform the existing data frame to derive the target data that contains the prediction value for the corresponding sample data. \n",
    "\n",
    "The goal of the model here is to predict whether a patient has a heart problem. Although the data set currently available does not have this information, this information can be derived from the `num` attribute. The `num` column and its values pertain to the number of major vessels with more than 50% narrowing (values- 0,1,2,3 or 4) for the corresponding sample data. \n",
    "\n",
    "Therefore, the target column `diagnosed` can derived in the following way: \n",
    "- 'diagnosed' is '0' when 'num' = 0 , indicating normal heart functioning \n",
    "- 'diagnosed' is '1' when 'num' > 0 , indicating a heart problem.\n"
   ]
  },
  {
   "cell_type": "code",
   "execution_count": 10,
   "metadata": {},
   "outputs": [],
   "source": [
    "\n",
    "heart_data_df['diagnosed'] = heart_data_df['num'].map(lambda d: 1 if d > 0 else 0)"
   ]
  },
  {
   "cell_type": "markdown",
   "metadata": {},
   "source": [
    "The next step is to select the attributes in the current data set that can be used for training the model. Here, all the attributes other than `num` attribute are chosen as the features."
   ]
  },
  {
   "cell_type": "code",
   "execution_count": 11,
   "metadata": {},
   "outputs": [],
   "source": [
    "feature_cols = ['age','sex','cp','restbp','chol','fbs','restecg','thalach','exang','oldpeak','slope','ca','thal']\n",
    "features_df = heart_data_df[feature_cols]"
   ]
  },
  {
   "cell_type": "markdown",
   "metadata": {},
   "source": [
    "#### 3.1.3: Split the data set for training and testing"
   ]
  },
  {
   "cell_type": "markdown",
   "metadata": {},
   "source": [
    "As the target and feature columns has been defined, you can now split the data set into two sets that will be used for training the model and for testing the trained model. "
   ]
  },
  {
   "cell_type": "code",
   "execution_count": 12,
   "metadata": {},
   "outputs": [],
   "source": [
    "heart_train, heart_test, target_train, target_test = cross_validation.train_test_split(features_df, heart_data_df.loc[:,'diagnosed'], test_size=0.33, random_state=0)\n"
   ]
  },
  {
   "cell_type": "markdown",
   "metadata": {},
   "source": [
    "#### 3.1.4: Construct DMatix objects "
   ]
  },
  {
   "cell_type": "markdown",
   "metadata": {
    "collapsed": true
   },
   "source": [
    "DMatrix is the data interface provided by the XGBoost library. The training data and test data are converted as DMatrix objects to perform training and to make predictions. The DMatrix objects can be created from various data formats, such as Numpy arrays, Pandas data frames, or a Scipy sparse array. For more information about the DMatrix interface, see [Python Package Introduction](http://xgboost.readthedocs.io/en/latest/python/python_intro.html)."
   ]
  },
  {
   "cell_type": "markdown",
   "metadata": {},
   "source": [
    "Next, prepare the **DMatrix** objects for training and testing based on the training and test data that was split above"
   ]
  },
  {
   "cell_type": "code",
   "execution_count": 13,
   "metadata": {},
   "outputs": [],
   "source": [
    "dm_train = xgb.DMatrix(heart_train, label=target_train)\n",
    "dm_test = xgb.DMatrix(heart_test)"
   ]
  },
  {
   "cell_type": "markdown",
   "metadata": {},
   "source": [
    "### 3.2: Create XGBoost model (Booster)"
   ]
  },
  {
   "cell_type": "markdown",
   "metadata": {},
   "source": [
    "Set the parameters of the Booster that we are about to create and train."
   ]
  },
  {
   "cell_type": "code",
   "execution_count": 14,
   "metadata": {},
   "outputs": [],
   "source": [
    "param = {'objective':'multi:softmax', 'max_depth':2, 'eta':0.8, 'num_class': 2, 'eval_metric': 'auc', 'silent':1 }"
   ]
  },
  {
   "cell_type": "markdown",
   "metadata": {},
   "source": [
    "Create a Booster by using the training data set, which is in the form of a DMatrix object."
   ]
  },
  {
   "cell_type": "code",
   "execution_count": 15,
   "metadata": {},
   "outputs": [],
   "source": [
    "xgb_model = xgb.train(param, dm_train)"
   ]
  },
  {
   "cell_type": "markdown",
   "metadata": {},
   "source": [
    "Make predictions on test data and evaluate the model."
   ]
  },
  {
   "cell_type": "code",
   "execution_count": 16,
   "metadata": {},
   "outputs": [
    {
     "name": "stdout",
     "output_type": "stream",
     "text": [
      "[0. 0. 1. 0. 0. 1. 0. 1. 0. 0. 1. 0. 1. 1. 0. 0. 1. 0. 1. 1. 1. 1. 0. 1.\n",
      " 1. 1. 0. 0. 0. 0. 1. 0. 1. 1. 0. 1. 0. 1. 1. 0. 0. 1. 0. 0. 0. 1. 1. 0.\n",
      " 0. 0. 1. 1. 1. 0. 1. 1. 0. 1. 0. 0. 1. 0. 1. 0. 0. 0. 0. 1. 0. 0. 1. 0.\n",
      " 0. 1. 0. 0. 1. 1. 1. 1. 0. 1. 1. 0. 0. 1. 0. 0. 0. 1. 1. 1. 1. 1. 0. 0.\n",
      " 1. 0. 1.]\n"
     ]
    }
   ],
   "source": [
    "y_predict = xgb_model.predict(dm_test)\n",
    "print(y_predict)"
   ]
  },
  {
   "cell_type": "markdown",
   "metadata": {},
   "source": [
    "Evaluate the performance of the model using the predicted data."
   ]
  },
  {
   "cell_type": "code",
   "execution_count": 17,
   "metadata": {},
   "outputs": [
    {
     "name": "stdout",
     "output_type": "stream",
     "text": [
      "Accuracy: 0.8181818181818182\n"
     ]
    }
   ],
   "source": [
    "accuracy = accuracy_score(target_test, y_predict)\n",
    "print(\"Accuracy: \" +  str(accuracy))"
   ]
  },
  {
   "cell_type": "markdown",
   "metadata": {},
   "source": [
    "To understand the model better, XGBoost provides APIs that you can use to get insights about the trees used for training the model and the importance of the features in constructing the Booster."
   ]
  },
  {
   "cell_type": "markdown",
   "metadata": {},
   "source": [
    "To plot graphs you must use the commands in the following cell to set up the notebook for plotting the graphs."
   ]
  },
  {
   "cell_type": "code",
   "execution_count": 18,
   "metadata": {},
   "outputs": [],
   "source": [
    "import matplotlib.pyplot as plt\n",
    "%matplotlib inline"
   ]
  },
  {
   "cell_type": "markdown",
   "metadata": {},
   "source": [
    "The following cell contains the command to plot the graph depicting the importance of features."
   ]
  },
  {
   "cell_type": "code",
   "execution_count": 19,
   "metadata": {},
   "outputs": [
    {
     "data": {
      "text/plain": [
       "<matplotlib.axes._subplots.AxesSubplot at 0x7f493f38f438>"
      ]
     },
     "execution_count": 19,
     "metadata": {},
     "output_type": "execute_result"
    },
    {
     "data": {
      "image/png": "[encoded data removed]",
      "text/plain": [
       "<matplotlib.figure.Figure at 0x7f49642b6dd8>"
      ]
     },
     "metadata": {},
     "output_type": "display_data"
    }
   ],
   "source": [
    "xgb.plot_importance(xgb_model)"
   ]
  },
  {
   "cell_type": "markdown",
   "metadata": {},
   "source": [
    "To visualize the decision trees that are trained by XGBoost, that is, the XGBoost model you must first install the `graphviz` package. The `graphviz` Python package is installed in the notebook environment by running the following cell: "
   ]
  },
  {
   "cell_type": "code",
   "execution_count": 20,
   "metadata": {},
   "outputs": [
    {
     "name": "stdout",
     "output_type": "stream",
     "text": [
      "Requirement already satisfied: graphviz in /gpfs/global_fs01/sym_shared/YPProdSpark/user/s778-bfb6f75aebc10f-9bb95b1f072f/.local/lib/python3.5/site-packages\r\n"
     ]
    }
   ],
   "source": [
    "!pip install graphviz"
   ]
  },
  {
   "cell_type": "code",
   "execution_count": 21,
   "metadata": {},
   "outputs": [
    {
     "data": {
      "text/plain": [
       "<matplotlib.axes._subplots.AxesSubplot at 0x7f493f3a0d30>"
      ]
     },
     "execution_count": 21,
     "metadata": {},
     "output_type": "execute_result"
    },
    {
     "data": {
      "image/png": "[encoded data removed]",
      "text/plain": [
       "<matplotlib.figure.Figure at 0x7f493f3385c0>"
      ]
     },
     "metadata": {},
     "output_type": "display_data"
    }
   ],
   "source": [
    "xgb.plot_tree(xgb_model, num_trees=1)"
   ]
  },
  {
   "cell_type": "markdown",
   "metadata": {},
   "source": [
    "<a id=\"persistence\"></a>\n",
    "## 4. Persist the model"
   ]
  },
  {
   "cell_type": "markdown",
   "metadata": {},
   "source": [
    "In this section store the XGBoost model in the Watson Machine Learning repository by using Watson Machine Learning repository service Python client libraries."
   ]
  },
  {
   "cell_type": "code",
   "execution_count": 22,
   "metadata": {},
   "outputs": [],
   "source": [
    "from repository.mlrepository import MetaNames\n",
    "from repository.mlrepository import MetaProps\n",
    "from repository.mlrepositoryclient import MLRepositoryClient\n",
    "from repository.mlrepositoryartifact import MLRepositoryArtifact"
   ]
  },
  {
   "cell_type": "markdown",
   "metadata": {},
   "source": [
    "Authenticate to Watson Machine Learning service on Bluemix. \n",
    "\n",
    "\n",
    "\n",
    "**Action**: Put authentication information from your instance of Watson Machine Learning service in the following cell. \n",
    "<br>\n",
    "<br>\n",
    "**Tip**: service_path, user and password can be found on **Service Credentials** tab of service instance created in Bluemix. If you cannot see **instance_id** field in **Serice Credentials** generate new credentials by pressing **New credential (+)** button. \n"
   ]
  },
  {
   "cell_type": "code",
   "execution_count": 23,
   "metadata": {},
   "outputs": [],
   "source": [
    "wml_credentials = {\n",
    "  \"url\": \"https://ibm-watson-ml.mybluemix.net\",\n",
    "  \"access_key\": \"XXXXXXXXXXXXXX\",\n",
    "  \"username\": \"XXXXXXXXXXX\",\n",
    "  \"password\": \"XXXXXXXXXXX\",\n",
    "  \"instance_id\": \"XXXXXXXXXXXX\"\n",
    "}\n"
   ]
  },
  {
   "cell_type": "code",
   "execution_count": 24,
   "metadata": {},
   "outputs": [],
   "source": [
    "ml_repository_client = MLRepositoryClient(wml_credentials['url'])\n",
    "ml_repository_client.authorize(wml_credentials['username'], wml_credentials['password'])"
   ]
  },
  {
   "cell_type": "markdown",
   "metadata": {},
   "source": [
    "### 4.1: Save a XGBoost model in the Machine Learning Repository\n",
    "\n",
    "In this subsection you will learn how to save a model artifact to your Watson Machine Learning instance by using the Watson Machine Learing repository Python client package.\n",
    "\n",
    "Create an artifact and save it to the machine learning repository by running the following cells:"
   ]
  },
  {
   "cell_type": "code",
   "execution_count": 25,
   "metadata": {},
   "outputs": [],
   "source": [
    "# Check if props is mandatory\n",
    "props1 = MetaProps({MetaNames.AUTHOR_NAME:\"YOUR_name\", MetaNames.AUTHOR_EMAIL:\"Your_email@email.com\"})\n",
    "\n",
    "model_artifact = MLRepositoryArtifact(xgb_model, name='XGB_Heart_Disease_Detection', meta_props=props1)\n",
    "\n",
    "saved_model = ml_repository_client.models.save(model_artifact)\n"
   ]
  },
  {
   "cell_type": "code",
   "execution_count": 26,
   "metadata": {},
   "outputs": [
    {
     "name": "stdout",
     "output_type": "stream",
     "text": [
      "{'authorEmail': 'Your_email@email.com',\n",
      " 'authorName': 'YOUR_name',\n",
      " 'creationTime': datetime.datetime(2018, 3, 13, 0, 56, 16, 573000, tzinfo=tzutc()),\n",
      " 'lastUpdated': datetime.datetime(2018, 3, 13, 0, 56, 16, 769000, tzinfo=tzutc()),\n",
      " 'modelType': 'xgboost-model-0.6',\n",
      " 'modelVersionHref': 'https://ibm-watson-ml.mybluemix.net/v2/artifacts/models/7be7365e-73fb-432d-8464-c7f059395714/versions/639c0962-41d4-4b1a-bbc3-4621abc95177',\n",
      " 'pipelineVersionHref': None,\n",
      " 'runtime': 'python-3.5',\n",
      " 'trainingDataRef': {},\n",
      " 'version': '639c0962-41d4-4b1a-bbc3-4621abc95177'}\n"
     ]
    }
   ],
   "source": [
    "saved_model_meta = saved_model.meta.get()\n",
    "pprint.pprint(saved_model_meta)"
   ]
  },
  {
   "cell_type": "markdown",
   "metadata": {},
   "source": [
    "#### 4.2 Load the Booster from the saved model"
   ]
  },
  {
   "cell_type": "code",
   "execution_count": 27,
   "metadata": {},
   "outputs": [
    {
     "data": {
      "text/plain": [
       "'https://ibm-watson-ml.mybluemix.net/v2/artifacts/models/7be7365e-73fb-432d-8464-c7f059395714/versions/639c0962-41d4-4b1a-bbc3-4621abc95177'"
      ]
     },
     "execution_count": 27,
     "metadata": {},
     "output_type": "execute_result"
    }
   ],
   "source": [
    "saved_model_meta['modelVersionHref']"
   ]
  },
  {
   "cell_type": "code",
   "execution_count": 28,
   "metadata": {},
   "outputs": [
    {
     "name": "stdout",
     "output_type": "stream",
     "text": [
      "Type of model: <class 'xgboost.core.Booster'>\n"
     ]
    }
   ],
   "source": [
    "loaded_artifact = ml_repository_client.models.version_from_href(saved_model_meta['modelVersionHref'])\n",
    "loaded_xgb_model = loaded_artifact.model_instance()\n",
    "print(\"Type of model: \" + str(type(loaded_xgb_model)))"
   ]
  },
  {
   "cell_type": "code",
   "execution_count": 29,
   "metadata": {},
   "outputs": [
    {
     "name": "stdout",
     "output_type": "stream",
     "text": [
      "[0. 0. 1. 0. 0. 1. 0. 1. 0. 0. 1. 0. 1. 1. 0. 0. 1. 0. 1. 1. 1. 1. 0. 1.\n",
      " 1. 1. 0. 0. 0. 0. 1. 0. 1. 1. 0. 1. 0. 1. 1. 0. 0. 1. 0. 0. 0. 1. 1. 0.\n",
      " 0. 0. 1. 1. 1. 0. 1. 1. 0. 1. 0. 0. 1. 0. 1. 0. 0. 0. 0. 1. 0. 0. 1. 0.\n",
      " 0. 1. 0. 0. 1. 1. 1. 1. 0. 1. 1. 0. 0. 1. 0. 0. 0. 1. 1. 1. 1. 1. 0. 0.\n",
      " 1. 0. 1.]\n"
     ]
    }
   ],
   "source": [
    "y_lpredict = loaded_xgb_model.predict(dm_test)\n",
    "print(y_lpredict)"
   ]
  },
  {
   "cell_type": "markdown",
   "metadata": {},
   "source": [
    "#### 4.3 Load the Booster as a XGBRegressor\n",
    "Watson Machine Learning Repository's Python client provides an option to load the XGBoost model i.e Booster as a Scikit-Learn wrapper - XGBRegressor. The command in cell below is used to for this purpose"
   ]
  },
  {
   "cell_type": "code",
   "execution_count": 30,
   "metadata": {},
   "outputs": [],
   "source": [
    "loaded_artifact = ml_repository_client.models.version_from_href(saved_model_meta['modelVersionHref'])\n",
    "loaded_xgb_regressor = loaded_artifact.model_instance(as_type=\"XGBRegressor\")"
   ]
  },
  {
   "cell_type": "code",
   "execution_count": 31,
   "metadata": {},
   "outputs": [
    {
     "name": "stdout",
     "output_type": "stream",
     "text": [
      "Type of model: <class 'xgboost.sklearn.XGBRegressor'>\n"
     ]
    }
   ],
   "source": [
    "print(\"Type of model: \" + str(type(loaded_xgb_regressor)))"
   ]
  },
  {
   "cell_type": "code",
   "execution_count": 32,
   "metadata": {},
   "outputs": [
    {
     "name": "stdout",
     "output_type": "stream",
     "text": [
      "[0. 0. 1. 0. 0. 1. 0. 1. 0. 0. 1. 0. 1. 1. 0. 0. 1. 0. 1. 1. 1. 1. 0. 1.\n",
      " 1. 1. 0. 0. 0. 0. 1. 0. 1. 1. 0. 1. 0. 1. 1. 0. 0. 1. 0. 0. 0. 1. 1. 0.\n",
      " 0. 0. 1. 1. 1. 0. 1. 1. 0. 1. 0. 0. 1. 0. 1. 0. 0. 0. 0. 1. 0. 0. 1. 0.\n",
      " 0. 1. 0. 0. 1. 1. 1. 1. 0. 1. 1. 0. 0. 1. 0. 0. 0. 1. 1. 1. 1. 1. 0. 0.\n",
      " 1. 0. 1.]\n"
     ]
    }
   ],
   "source": [
    "y_pred_xgb_reg = loaded_xgb_regressor.predict(heart_test)\n",
    "print(y_pred_xgb_reg)"
   ]
  },
  {
   "cell_type": "markdown",
   "metadata": {},
   "source": [
    "<a id=\"scoring\"></a>\n",
    "## 5. Deploy and score in a Cloud"
   ]
  },
  {
   "cell_type": "markdown",
   "metadata": {},
   "source": [
    "To access the Watson Machine Learning REST APIs we require a Watson Machine Learning access token. \n",
    "\n",
    "To create the WML access token, run the commands in the following cell:"
   ]
  },
  {
   "cell_type": "code",
   "execution_count": 33,
   "metadata": {},
   "outputs": [],
   "source": [
    "import urllib3, requests, json\n",
    "\n",
    "headers = urllib3.util.make_headers(basic_auth='{}:{}'.format(wml_credentials['username'], wml_credentials['password']))\n",
    "url = '{}/v3/identity/token'.format(wml_credentials['url'])\n",
    "response = requests.get(url, headers=headers)\n",
    "mltoken = json.loads(response.text).get('token')\n",
    "header = {'Content-Type': 'application/json', 'Authorization': 'Bearer ' + mltoken}"
   ]
  },
  {
   "cell_type": "markdown",
   "metadata": {},
   "source": [
    "### 5.1: Deploy the model and create online scoring endpoint"
   ]
  },
  {
   "cell_type": "markdown",
   "metadata": {},
   "source": [
    "Get the `published_models` URL from instance details."
   ]
  },
  {
   "cell_type": "code",
   "execution_count": 34,
   "metadata": {},
   "outputs": [
    {
     "name": "stdout",
     "output_type": "stream",
     "text": [
      "<Response [200]>\n",
      "{\"metadata\":{\"guid\":\"cf5982b8-38ce-436a-af7d-f495cd0c9816\",\"url\":\"https://ibm-watson-ml.mybluemix.net/v3/wml_instances/cf5982b8-38ce-436a-af7d-f495cd0c9816\",\"created_at\":\"2017-06-26T13:32:44.087Z\",\"modified_at\":\"2018-03-13T00:56:16.642Z\"},\"entity\":{\"source\":\"Bluemix\",\"published_models\":{\"url\":\"https://ibm-watson-ml.mybluemix.net/v3/wml_instances/cf5982b8-38ce-436a-af7d-f495cd0c9816/published_models\"},\"usage\":{\"expiration_date\":\"2018-04-01T00:00:00.000Z\",\"computation_time\":{\"limit\":180000,\"current\":0},\"model_count\":{\"limit\":200,\"current\":14},\"prediction_count\":{\"limit\":5000,\"current\":0},\"gpu_count\":{\"limit\":8,\"current\":0},\"capacity_units\":{\"limit\":180000000,\"current\":0},\"deployment_count\":{\"limit\":5,\"current\":1}},\"plan_id\":\"3f6acf43-ede8-413a-ac69-f8af3bb0cbfe\",\"status\":\"Active\",\"organization_guid\":\"3226d717-cfa4-46bf-95c0-89e57b3c8474\",\"region\":\"us-south\",\"account\":{\"id\":\"502400815\",\"name\":\"Wendy Switzer's Account\",\"type\":\"TRIAL\"},\"owner\":{\"ibm_id\":\"310001M145\",\"email\":\"wswitzer@ca.ibm.com\",\"user_id\":\"84b7ac72-b67a-49b8-856c-e8cdcd57ae4c\",\"country_code\":\"CAN\",\"beta_user\":true},\"deployments\":{\"url\":\"https://ibm-watson-ml.mybluemix.net/v3/wml_instances/cf5982b8-38ce-436a-af7d-f495cd0c9816/deployments\"},\"space_guid\":\"70425f43-dcdf-4f97-abb6-772f4e1cd93d\",\"plan\":\"lite\"}}\n"
     ]
    }
   ],
   "source": [
    "endpoint_instance = wml_credentials['url'] + \"/v3/wml_instances/\" + wml_credentials['instance_id']\n",
    "header = {'Content-Type': 'application/json', 'Authorization': 'Bearer ' + mltoken} \n",
    "\n",
    "response_get_instance = requests.get(endpoint_instance, headers=header)\n",
    "print(response_get_instance)\n",
    "print(response_get_instance.text)"
   ]
  },
  {
   "cell_type": "code",
   "execution_count": 35,
   "metadata": {
    "scrolled": false
   },
   "outputs": [
    {
     "name": "stdout",
     "output_type": "stream",
     "text": [
      "https://ibm-watson-ml.mybluemix.net/v3/wml_instances/cf5982b8-38ce-436a-af7d-f495cd0c9816/published_models\n"
     ]
    }
   ],
   "source": [
    "endpoint_published_models = json.loads(response_get_instance.text).get('entity').get('published_models').get('url')\n",
    "print(endpoint_published_models)"
   ]
  },
  {
   "cell_type": "markdown",
   "metadata": {},
   "source": [
    "Execute the following sample code that uses the `published_models` endpoint to get the deployments URL.\n",
    "\n",
    "Get the list of published models."
   ]
  },
  {
   "cell_type": "code",
   "execution_count": 36,
   "metadata": {},
   "outputs": [
    {
     "name": "stdout",
     "output_type": "stream",
     "text": [
      "<Response [200]>\n",
      "{\"limit\":1000,\"resources\":[{\"metadata\":{\"guid\":\"e4328a28-ec1c-48a6-a2c6-0fc5773cebb0\",\"url\":\"https://ibm-watson-ml.mybluemix.net/v3/wml_instances/cf5982b8-38ce-436a-af7d-f495cd0c9816/published_models/e4328a28-ec1c-48a6-a2c6-0fc5773cebb0\",\"created_at\":\"2017-12-12T15:51:27.590Z\",\"modified_at\":\"2017-12-12T15:51:27.737Z\"},\"entity\":{\"runtime_environment\":\"spark-2.0\",\"learning_configuration_url\":\"https://ibm-watson-ml.mybluemix.net/v3/wml_instances/cf5982b8-38ce-436a-af7d-f495cd0c9816/published_models/e4328a28-ec1c-48a6-a2c6-0fc5773cebb0/learning_configuration\",\"author\":{},\"name\":\"VIOLATIONS_SCALA211_SPARK20\",\"label_col\":\"INSPECTION_STATUS\",\"learning_iterations_url\":\"https://ibm-watson-ml.mybluemix.net/v3/wml_instances/cf5982b8-38ce-436a-af7d-f495cd0c9816/published_models/e4328a28-ec1c-48a6-a2c6-0fc5773cebb0/learning_iterations\",\"training_data_schema\":{\"type\":\"struct\",\"fields\":[{\"name\":\"VIOLATION_CODE\",\"type\":\"string\",\"nullable\":true,\"metadata\":{}},{\"name\":\"VIOLATION_DESCRIPTION\",\"type\":\"string\",\"nullable\":true,\"metadata\":{}},{\"name\":\"INSPECTION_STATUS\",\"type\":\"string\",\"nullable\":true,\"metadata\":{}},{\"name\":\"INSPECTOR_ID\",\"type\":\"string\",\"nullable\":true,\"metadata\":{}},{\"name\":\"INSPECTION_CATEGORY\",\"type\":\"string\",\"nullable\":true,\"metadata\":{}},{\"name\":\"DEPARTMENT_BUREAU\",\"type\":\"string\",\"nullable\":true,\"metadata\":{}},{\"name\":\"LATITUDE\",\"type\":\"double\",\"nullable\":true,\"metadata\":{}},{\"name\":\"LONGITUDE\",\"type\":\"double\",\"nullable\":true,\"metadata\":{}}]},\"feedback_url\":\"https://ibm-watson-ml.mybluemix.net/v3/wml_instances/cf5982b8-38ce-436a-af7d-f495cd0c9816/published_models/e4328a28-ec1c-48a6-a2c6-0fc5773cebb0/feedback\",\"latest_version\":{\"url\":\"https://ibm-watson-ml.mybluemix.net/v3/ml_assets/models/e4328a28-ec1c-48a6-a2c6-0fc5773cebb0/versions/0cdb961d-d032-483b-b20e-fb132327fa5a\",\"guid\":\"0cdb961d-d032-483b-b20e-fb132327fa5a\",\"created_at\":\"2017-12-12T15:51:27.737Z\"},\"model_type\":\"mllib-2.0\",\"deployments\":{\"count\":0,\"url\":\"https://ibm-watson-ml.mybluemix.net/v3/wml_instances/cf5982b8-38ce-436a-af7d-f495cd0c9816/published_models/e4328a28-ec1c-48a6-a2c6-0fc5773cebb0/deployments\"},\"evaluation_metrics_url\":\"https://ibm-watson-ml.mybluemix.net/v3/wml_instances/cf5982b8-38ce-436a-af7d-f495cd0c9816/published_models/e4328a28-ec1c-48a6-a2c6-0fc5773cebb0/evaluation_metrics\",\"input_data_schema\":{\"type\":\"struct\",\"fields\":[{\"name\":\"VIOLATION_CODE\",\"type\":\"string\",\"nullable\":true,\"metadata\":{}},{\"name\":\"VIOLATION_DESCRIPTION\",\"type\":\"string\",\"nullable\":true,\"metadata\":{}},{\"name\":\"INSPECTOR_ID\",\"type\":\"string\",\"nullable\":true,\"metadata\":{}},{\"name\":\"INSPECTION_CATEGORY\",\"type\":\"string\",\"nullable\":true,\"metadata\":{}},{\"name\":\"DEPARTMENT_BUREAU\",\"type\":\"string\",\"nullable\":true,\"metadata\":{}},{\"name\":\"LATITUDE\",\"type\":\"double\",\"nullable\":true,\"metadata\":{}},{\"name\":\"LONGITUDE\",\"type\":\"double\",\"nullable\":true,\"metadata\":{}}]}}},{\"metadata\":{\"guid\":\"0c2abe61-7e3b-4af9-8e94-25a5f09535cf\",\"url\":\"https://ibm-watson-ml.mybluemix.net/v3/wml_instances/cf5982b8-38ce-436a-af7d-f495cd0c9816/published_models/0c2abe61-7e3b-4af9-8e94-25a5f09535cf\",\"created_at\":\"2017-12-12T18:40:34.590Z\",\"modified_at\":\"2017-12-12T18:40:35.071Z\"},\"entity\":{\"runtime_environment\":\"spark-2.0\",\"learning_configuration_url\":\"https://ibm-watson-ml.mybluemix.net/v3/wml_instances/cf5982b8-38ce-436a-af7d-f495cd0c9816/published_models/0c2abe61-7e3b-4af9-8e94-25a5f09535cf/learning_configuration\",\"author\":{},\"name\":\"VIOLATIONS_SCALA211_SPARK20\",\"label_col\":\"INSPECTION_STATUS\",\"learning_iterations_url\":\"https://ibm-watson-ml.mybluemix.net/v3/wml_instances/cf5982b8-38ce-436a-af7d-f495cd0c9816/published_models/0c2abe61-7e3b-4af9-8e94-25a5f09535cf/learning_iterations\",\"training_data_schema\":{\"type\":\"struct\",\"fields\":[{\"name\":\"VIOLATION_CODE\",\"type\":\"string\",\"nullable\":true,\"metadata\":{}},{\"name\":\"VIOLATION_DESCRIPTION\",\"type\":\"string\",\"nullable\":true,\"metadata\":{}},{\"name\":\"INSPECTION_STATUS\",\"type\":\"string\",\"nullable\":true,\"metadata\":{}},{\"name\":\"INSPECTOR_ID\",\"type\":\"string\",\"nullable\":true,\"metadata\":{}},{\"name\":\"INSPECTION_CATEGORY\",\"type\":\"string\",\"nullable\":true,\"metadata\":{}},{\"name\":\"DEPARTMENT_BUREAU\",\"type\":\"string\",\"nullable\":true,\"metadata\":{}},{\"name\":\"LATITUDE\",\"type\":\"double\",\"nullable\":true,\"metadata\":{}},{\"name\":\"LONGITUDE\",\"type\":\"double\",\"nullable\":true,\"metadata\":{}}]},\"feedback_url\":\"https://ibm-watson-ml.mybluemix.net/v3/wml_instances/cf5982b8-38ce-436a-af7d-f495cd0c9816/published_models/0c2abe61-7e3b-4af9-8e94-25a5f09535cf/feedback\",\"latest_version\":{\"url\":\"https://ibm-watson-ml.mybluemix.net/v3/ml_assets/models/0c2abe61-7e3b-4af9-8e94-25a5f09535cf/versions/d5011b73-7e55-40c6-9855-045da250dc8e\",\"guid\":\"d5011b73-7e55-40c6-9855-045da250dc8e\",\"created_at\":\"2017-12-12T18:40:35.071Z\"},\"model_type\":\"mllib-2.0\",\"deployments\":{\"count\":0,\"url\":\"https://ibm-watson-ml.mybluemix.net/v3/wml_instances/cf5982b8-38ce-436a-af7d-f495cd0c9816/published_models/0c2abe61-7e3b-4af9-8e94-25a5f09535cf/deployments\"},\"evaluation_metrics_url\":\"https://ibm-watson-ml.mybluemix.net/v3/wml_instances/cf5982b8-38ce-436a-af7d-f495cd0c9816/published_models/0c2abe61-7e3b-4af9-8e94-25a5f09535cf/evaluation_metrics\",\"input_data_schema\":{\"type\":\"struct\",\"fields\":[{\"name\":\"VIOLATION_CODE\",\"type\":\"string\",\"nullable\":true,\"metadata\":{}},{\"name\":\"VIOLATION_DESCRIPTION\",\"type\":\"string\",\"nullable\":true,\"metadata\":{}},{\"name\":\"INSPECTOR_ID\",\"type\":\"string\",\"nullable\":true,\"metadata\":{}},{\"name\":\"INSPECTION_CATEGORY\",\"type\":\"string\",\"nullable\":true,\"metadata\":{}},{\"name\":\"DEPARTMENT_BUREAU\",\"type\":\"string\",\"nullable\":true,\"metadata\":{}},{\"name\":\"LATITUDE\",\"type\":\"double\",\"nullable\":true,\"metadata\":{}},{\"name\":\"LONGITUDE\",\"type\":\"double\",\"nullable\":true,\"metadata\":{}}]}}},{\"metadata\":{\"guid\":\"60280715-61b8-4131-8acc-c123fa37146a\",\"url\":\"https://ibm-watson-ml.mybluemix.net/v3/wml_instances/cf5982b8-38ce-436a-af7d-f495cd0c9816/published_models/60280715-61b8-4131-8acc-c123fa37146a\",\"created_at\":\"2017-12-20T15:25:06.850Z\",\"modified_at\":\"2017-12-20T15:25:07.129Z\"},\"entity\":{\"runtime_environment\":\"spark-2.0\",\"learning_configuration_url\":\"https://ibm-watson-ml.mybluemix.net/v3/wml_instances/cf5982b8-38ce-436a-af7d-f495cd0c9816/published_models/60280715-61b8-4131-8acc-c123fa37146a/learning_configuration\",\"author\":{},\"name\":\"VIOLATIONS_SCALA211_SPARK20\",\"label_col\":\"INSPECTION_STATUS\",\"learning_iterations_url\":\"https://ibm-watson-ml.mybluemix.net/v3/wml_instances/cf5982b8-38ce-436a-af7d-f495cd0c9816/published_models/60280715-61b8-4131-8acc-c123fa37146a/learning_iterations\",\"training_data_schema\":{\"type\":\"struct\",\"fields\":[{\"name\":\"VIOLATION_CODE\",\"type\":\"string\",\"nullable\":true,\"metadata\":{}},{\"name\":\"VIOLATION_DESCRIPTION\",\"type\":\"string\",\"nullable\":true,\"metadata\":{}},{\"name\":\"INSPECTION_STATUS\",\"type\":\"string\",\"nullable\":true,\"metadata\":{}},{\"name\":\"INSPECTOR_ID\",\"type\":\"string\",\"nullable\":true,\"metadata\":{}},{\"name\":\"INSPECTION_CATEGORY\",\"type\":\"string\",\"nullable\":true,\"metadata\":{}},{\"name\":\"DEPARTMENT_BUREAU\",\"type\":\"string\",\"nullable\":true,\"metadata\":{}},{\"name\":\"LATITUDE\",\"type\":\"double\",\"nullable\":true,\"metadata\":{}},{\"name\":\"LONGITUDE\",\"type\":\"double\",\"nullable\":true,\"metadata\":{}}]},\"feedback_url\":\"https://ibm-watson-ml.mybluemix.net/v3/wml_instances/cf5982b8-38ce-436a-af7d-f495cd0c9816/published_models/60280715-61b8-4131-8acc-c123fa37146a/feedback\",\"latest_version\":{\"url\":\"https://ibm-watson-ml.mybluemix.net/v3/ml_assets/models/60280715-61b8-4131-8acc-c123fa37146a/versions/f8d4dc2a-1733-4b87-9b31-0ae385ed2c95\",\"guid\":\"f8d4dc2a-1733-4b87-9b31-0ae385ed2c95\",\"created_at\":\"2017-12-20T15:25:07.129Z\"},\"model_type\":\"mllib-2.0\",\"deployments\":{\"count\":0,\"url\":\"https://ibm-watson-ml.mybluemix.net/v3/wml_instances/cf5982b8-38ce-436a-af7d-f495cd0c9816/published_models/60280715-61b8-4131-8acc-c123fa37146a/deployments\"},\"evaluation_metrics_url\":\"https://ibm-watson-ml.mybluemix.net/v3/wml_instances/cf5982b8-38ce-436a-af7d-f495cd0c9816/published_models/60280715-61b8-4131-8acc-c123fa37146a/evaluation_metrics\",\"input_data_schema\":{\"type\":\"struct\",\"fields\":[{\"name\":\"VIOLATION_CODE\",\"type\":\"string\",\"nullable\":true,\"metadata\":{}},{\"name\":\"VIOLATION_DESCRIPTION\",\"type\":\"string\",\"nullable\":true,\"metadata\":{}},{\"name\":\"INSPECTOR_ID\",\"type\":\"string\",\"nullable\":true,\"metadata\":{}},{\"name\":\"INSPECTION_CATEGORY\",\"type\":\"string\",\"nullable\":true,\"metadata\":{}},{\"name\":\"DEPARTMENT_BUREAU\",\"type\":\"string\",\"nullable\":true,\"metadata\":{}},{\"name\":\"LATITUDE\",\"type\":\"double\",\"nullable\":true,\"metadata\":{}},{\"name\":\"LONGITUDE\",\"type\":\"double\",\"nullable\":true,\"metadata\":{}}]}}},{\"metadata\":{\"guid\":\"6b084b8f-a460-4acf-a501-7d9d7a11c7a5\",\"url\":\"https://ibm-watson-ml.mybluemix.net/v3/wml_instances/cf5982b8-38ce-436a-af7d-f495cd0c9816/published_models/6b084b8f-a460-4acf-a501-7d9d7a11c7a5\",\"created_at\":\"2018-01-26T18:08:24.532Z\",\"modified_at\":\"2018-01-26T18:08:24.713Z\"},\"entity\":{\"runtime_environment\":\"spark-2.0\",\"learning_configuration_url\":\"https://ibm-watson-ml.mybluemix.net/v3/wml_instances/cf5982b8-38ce-436a-af7d-f495cd0c9816/published_models/6b084b8f-a460-4acf-a501-7d9d7a11c7a5/learning_configuration\",\"author\":{},\"name\":\"VIOLATIONS_SCALA211_SPARK20\",\"label_col\":\"INSPECTION_STATUS\",\"learning_iterations_url\":\"https://ibm-watson-ml.mybluemix.net/v3/wml_instances/cf5982b8-38ce-436a-af7d-f495cd0c9816/published_models/6b084b8f-a460-4acf-a501-7d9d7a11c7a5/learning_iterations\",\"training_data_schema\":{\"type\":\"struct\",\"fields\":[{\"name\":\"VIOLATION_CODE\",\"type\":\"string\",\"nullable\":true,\"metadata\":{}},{\"name\":\"VIOLATION_DESCRIPTION\",\"type\":\"string\",\"nullable\":true,\"metadata\":{}},{\"name\":\"INSPECTION_STATUS\",\"type\":\"string\",\"nullable\":true,\"metadata\":{}},{\"name\":\"INSPECTOR_ID\",\"type\":\"string\",\"nullable\":true,\"metadata\":{}},{\"name\":\"INSPECTION_CATEGORY\",\"type\":\"string\",\"nullable\":true,\"metadata\":{}},{\"name\":\"DEPARTMENT_BUREAU\",\"type\":\"string\",\"nullable\":true,\"metadata\":{}},{\"name\":\"LATITUDE\",\"type\":\"double\",\"nullable\":true,\"metadata\":{}},{\"name\":\"LONGITUDE\",\"type\":\"double\",\"nullable\":true,\"metadata\":{}}]},\"feedback_url\":\"https://ibm-watson-ml.mybluemix.net/v3/wml_instances/cf5982b8-38ce-436a-af7d-f495cd0c9816/published_models/6b084b8f-a460-4acf-a501-7d9d7a11c7a5/feedback\",\"latest_version\":{\"url\":\"https://ibm-watson-ml.mybluemix.net/v3/ml_assets/models/6b084b8f-a460-4acf-a501-7d9d7a11c7a5/versions/154eb795-fd52-4348-8993-6d94e45b06a7\",\"guid\":\"154eb795-fd52-4348-8993-6d94e45b06a7\",\"created_at\":\"2018-01-26T18:08:24.713Z\"},\"model_type\":\"mllib-2.0\",\"deployments\":{\"count\":0,\"url\":\"https://ibm-watson-ml.mybluemix.net/v3/wml_instances/cf5982b8-38ce-436a-af7d-f495cd0c9816/published_models/6b084b8f-a460-4acf-a501-7d9d7a11c7a5/deployments\"},\"evaluation_metrics_url\":\"https://ibm-watson-ml.mybluemix.net/v3/wml_instances/cf5982b8-38ce-436a-af7d-f495cd0c9816/published_models/6b084b8f-a460-4acf-a501-7d9d7a11c7a5/evaluation_metrics\",\"input_data_schema\":{\"type\":\"struct\",\"fields\":[{\"name\":\"VIOLATION_CODE\",\"type\":\"string\",\"nullable\":true,\"metadata\":{}},{\"name\":\"VIOLATION_DESCRIPTION\",\"type\":\"string\",\"nullable\":true,\"metadata\":{}},{\"name\":\"INSPECTOR_ID\",\"type\":\"string\",\"nullable\":true,\"metadata\":{}},{\"name\":\"INSPECTION_CATEGORY\",\"type\":\"string\",\"nullable\":true,\"metadata\":{}},{\"name\":\"DEPARTMENT_BUREAU\",\"type\":\"string\",\"nullable\":true,\"metadata\":{}},{\"name\":\"LATITUDE\",\"type\":\"double\",\"nullable\":true,\"metadata\":{}},{\"name\":\"LONGITUDE\",\"type\":\"double\",\"nullable\":true,\"metadata\":{}}]}}},{\"metadata\":{\"guid\":\"b044228c-6ae8-4873-991d-0937278a517e\",\"url\":\"https://ibm-watson-ml.mybluemix.net/v3/wml_instances/cf5982b8-38ce-436a-af7d-f495cd0c9816/published_models/b044228c-6ae8-4873-991d-0937278a517e\",\"created_at\":\"2018-01-26T18:12:49.251Z\",\"modified_at\":\"2018-01-26T18:12:49.458Z\"},\"entity\":{\"runtime_environment\":\"spark-2.0\",\"learning_configuration_url\":\"https://ibm-watson-ml.mybluemix.net/v3/wml_instances/cf5982b8-38ce-436a-af7d-f495cd0c9816/published_models/b044228c-6ae8-4873-991d-0937278a517e/learning_configuration\",\"author\":{},\"name\":\"VIOLATIONS_SCALA211_SPARK20\",\"label_col\":\"INSPECTION_STATUS\",\"learning_iterations_url\":\"https://ibm-watson-ml.mybluemix.net/v3/wml_instances/cf5982b8-38ce-436a-af7d-f495cd0c9816/published_models/b044228c-6ae8-4873-991d-0937278a517e/learning_iterations\",\"training_data_schema\":{\"type\":\"struct\",\"fields\":[{\"name\":\"VIOLATION_CODE\",\"type\":\"string\",\"nullable\":true,\"metadata\":{}},{\"name\":\"VIOLATION_DESCRIPTION\",\"type\":\"string\",\"nullable\":true,\"metadata\":{}},{\"name\":\"INSPECTION_STATUS\",\"type\":\"string\",\"nullable\":true,\"metadata\":{}},{\"name\":\"INSPECTOR_ID\",\"type\":\"string\",\"nullable\":true,\"metadata\":{}},{\"name\":\"INSPECTION_CATEGORY\",\"type\":\"string\",\"nullable\":true,\"metadata\":{}},{\"name\":\"DEPARTMENT_BUREAU\",\"type\":\"string\",\"nullable\":true,\"metadata\":{}},{\"name\":\"LATITUDE\",\"type\":\"double\",\"nullable\":true,\"metadata\":{}},{\"name\":\"LONGITUDE\",\"type\":\"double\",\"nullable\":true,\"metadata\":{}}]},\"feedback_url\":\"https://ibm-watson-ml.mybluemix.net/v3/wml_instances/cf5982b8-38ce-436a-af7d-f495cd0c9816/published_models/b044228c-6ae8-4873-991d-0937278a517e/feedback\",\"latest_version\":{\"url\":\"https://ibm-watson-ml.mybluemix.net/v3/ml_assets/models/b044228c-6ae8-4873-991d-0937278a517e/versions/537cbba4-265a-4e12-afb6-ed32b59c56b2\",\"guid\":\"537cbba4-265a-4e12-afb6-ed32b59c56b2\",\"created_at\":\"2018-01-26T18:12:49.458Z\"},\"model_type\":\"mllib-2.0\",\"deployments\":{\"count\":0,\"url\":\"https://ibm-watson-ml.mybluemix.net/v3/wml_instances/cf5982b8-38ce-436a-af7d-f495cd0c9816/published_models/b044228c-6ae8-4873-991d-0937278a517e/deployments\"},\"evaluation_metrics_url\":\"https://ibm-watson-ml.mybluemix.net/v3/wml_instances/cf5982b8-38ce-436a-af7d-f495cd0c9816/published_models/b044228c-6ae8-4873-991d-0937278a517e/evaluation_metrics\",\"input_data_schema\":{\"type\":\"struct\",\"fields\":[{\"name\":\"VIOLATION_CODE\",\"type\":\"string\",\"nullable\":true,\"metadata\":{}},{\"name\":\"VIOLATION_DESCRIPTION\",\"type\":\"string\",\"nullable\":true,\"metadata\":{}},{\"name\":\"INSPECTOR_ID\",\"type\":\"string\",\"nullable\":true,\"metadata\":{}},{\"name\":\"INSPECTION_CATEGORY\",\"type\":\"string\",\"nullable\":true,\"metadata\":{}},{\"name\":\"DEPARTMENT_BUREAU\",\"type\":\"string\",\"nullable\":true,\"metadata\":{}},{\"name\":\"LATITUDE\",\"type\":\"double\",\"nullable\":true,\"metadata\":{}},{\"name\":\"LONGITUDE\",\"type\":\"double\",\"nullable\":true,\"metadata\":{}}]}}},{\"metadata\":{\"guid\":\"3540a028-de05-4b1c-8459-17eb77714175\",\"url\":\"https://ibm-watson-ml.mybluemix.net/v3/wml_instances/cf5982b8-38ce-436a-af7d-f495cd0c9816/published_models/3540a028-de05-4b1c-8459-17eb77714175\",\"created_at\":\"2018-01-26T18:33:47.967Z\",\"modified_at\":\"2018-01-26T18:33:48.159Z\"},\"entity\":{\"runtime_environment\":\"spark-2.0\",\"learning_configuration_url\":\"https://ibm-watson-ml.mybluemix.net/v3/wml_instances/cf5982b8-38ce-436a-af7d-f495cd0c9816/published_models/3540a028-de05-4b1c-8459-17eb77714175/learning_configuration\",\"author\":{},\"name\":\"VIOLATIONS_SCALA211_SPARK20\",\"label_col\":\"INSPECTION_STATUS\",\"learning_iterations_url\":\"https://ibm-watson-ml.mybluemix.net/v3/wml_instances/cf5982b8-38ce-436a-af7d-f495cd0c9816/published_models/3540a028-de05-4b1c-8459-17eb77714175/learning_iterations\",\"training_data_schema\":{\"type\":\"struct\",\"fields\":[{\"name\":\"VIOLATION_CODE\",\"type\":\"string\",\"nullable\":true,\"metadata\":{}},{\"name\":\"VIOLATION_DESCRIPTION\",\"type\":\"string\",\"nullable\":true,\"metadata\":{}},{\"name\":\"INSPECTION_STATUS\",\"type\":\"string\",\"nullable\":true,\"metadata\":{}},{\"name\":\"INSPECTOR_ID\",\"type\":\"string\",\"nullable\":true,\"metadata\":{}},{\"name\":\"INSPECTION_CATEGORY\",\"type\":\"string\",\"nullable\":true,\"metadata\":{}},{\"name\":\"DEPARTMENT_BUREAU\",\"type\":\"string\",\"nullable\":true,\"metadata\":{}},{\"name\":\"LATITUDE\",\"type\":\"double\",\"nullable\":true,\"metadata\":{}},{\"name\":\"LONGITUDE\",\"type\":\"double\",\"nullable\":true,\"metadata\":{}}]},\"feedback_url\":\"https://ibm-watson-ml.mybluemix.net/v3/wml_instances/cf5982b8-38ce-436a-af7d-f495cd0c9816/published_models/3540a028-de05-4b1c-8459-17eb77714175/feedback\",\"latest_version\":{\"url\":\"https://ibm-watson-ml.mybluemix.net/v3/ml_assets/models/3540a028-de05-4b1c-8459-17eb77714175/versions/eacf66b7-2d0e-41fc-aa45-45f3e3fc86cb\",\"guid\":\"eacf66b7-2d0e-41fc-aa45-45f3e3fc86cb\",\"created_at\":\"2018-01-26T18:33:48.159Z\"},\"model_type\":\"mllib-2.0\",\"deployments\":{\"count\":0,\"url\":\"https://ibm-watson-ml.mybluemix.net/v3/wml_instances/cf5982b8-38ce-436a-af7d-f495cd0c9816/published_models/3540a028-de05-4b1c-8459-17eb77714175/deployments\"},\"evaluation_metrics_url\":\"https://ibm-watson-ml.mybluemix.net/v3/wml_instances/cf5982b8-38ce-436a-af7d-f495cd0c9816/published_models/3540a028-de05-4b1c-8459-17eb77714175/evaluation_metrics\",\"input_data_schema\":{\"type\":\"struct\",\"fields\":[{\"name\":\"VIOLATION_CODE\",\"type\":\"string\",\"nullable\":true,\"metadata\":{}},{\"name\":\"VIOLATION_DESCRIPTION\",\"type\":\"string\",\"nullable\":true,\"metadata\":{}},{\"name\":\"INSPECTOR_ID\",\"type\":\"string\",\"nullable\":true,\"metadata\":{}},{\"name\":\"INSPECTION_CATEGORY\",\"type\":\"string\",\"nullable\":true,\"metadata\":{}},{\"name\":\"DEPARTMENT_BUREAU\",\"type\":\"string\",\"nullable\":true,\"metadata\":{}},{\"name\":\"LATITUDE\",\"type\":\"double\",\"nullable\":true,\"metadata\":{}},{\"name\":\"LONGITUDE\",\"type\":\"double\",\"nullable\":true,\"metadata\":{}}]}}},{\"metadata\":{\"guid\":\"aceefd68-3280-4ad2-895e-5573277ea1b1\",\"url\":\"https://ibm-watson-ml.mybluemix.net/v3/wml_instances/cf5982b8-38ce-436a-af7d-f495cd0c9816/published_models/aceefd68-3280-4ad2-895e-5573277ea1b1\",\"created_at\":\"2018-01-29T16:44:13.776Z\",\"modified_at\":\"2018-01-29T16:44:13.996Z\"},\"entity\":{\"runtime_environment\":\"spark-2.0\",\"learning_configuration_url\":\"https://ibm-watson-ml.mybluemix.net/v3/wml_instances/cf5982b8-38ce-436a-af7d-f495cd0c9816/published_models/aceefd68-3280-4ad2-895e-5573277ea1b1/learning_configuration\",\"author\":{},\"name\":\"VIOLATIONS_SCALA211_SPARK20\",\"label_col\":\"INSPECTION_STATUS\",\"learning_iterations_url\":\"https://ibm-watson-ml.mybluemix.net/v3/wml_instances/cf5982b8-38ce-436a-af7d-f495cd0c9816/published_models/aceefd68-3280-4ad2-895e-5573277ea1b1/learning_iterations\",\"training_data_schema\":{\"type\":\"struct\",\"fields\":[{\"name\":\"VIOLATION_CODE\",\"type\":\"string\",\"nullable\":true,\"metadata\":{}},{\"name\":\"VIOLATION_DESCRIPTION\",\"type\":\"string\",\"nullable\":true,\"metadata\":{}},{\"name\":\"INSPECTION_STATUS\",\"type\":\"string\",\"nullable\":true,\"metadata\":{}},{\"name\":\"INSPECTOR_ID\",\"type\":\"string\",\"nullable\":true,\"metadata\":{}},{\"name\":\"INSPECTION_CATEGORY\",\"type\":\"string\",\"nullable\":true,\"metadata\":{}},{\"name\":\"DEPARTMENT_BUREAU\",\"type\":\"string\",\"nullable\":true,\"metadata\":{}},{\"name\":\"LATITUDE\",\"type\":\"double\",\"nullable\":true,\"metadata\":{}},{\"name\":\"LONGITUDE\",\"type\":\"double\",\"nullable\":true,\"metadata\":{}}]},\"feedback_url\":\"https://ibm-watson-ml.mybluemix.net/v3/wml_instances/cf5982b8-38ce-436a-af7d-f495cd0c9816/published_models/aceefd68-3280-4ad2-895e-5573277ea1b1/feedback\",\"latest_version\":{\"url\":\"https://ibm-watson-ml.mybluemix.net/v3/ml_assets/models/aceefd68-3280-4ad2-895e-5573277ea1b1/versions/f9adaac5-6993-4b7f-bf9d-e21bc8173824\",\"guid\":\"f9adaac5-6993-4b7f-bf9d-e21bc8173824\",\"created_at\":\"2018-01-29T16:44:13.996Z\"},\"model_type\":\"mllib-2.0\",\"deployments\":{\"count\":0,\"url\":\"https://ibm-watson-ml.mybluemix.net/v3/wml_instances/cf5982b8-38ce-436a-af7d-f495cd0c9816/published_models/aceefd68-3280-4ad2-895e-5573277ea1b1/deployments\"},\"evaluation_metrics_url\":\"https://ibm-watson-ml.mybluemix.net/v3/wml_instances/cf5982b8-38ce-436a-af7d-f495cd0c9816/published_models/aceefd68-3280-4ad2-895e-5573277ea1b1/evaluation_metrics\",\"input_data_schema\":{\"type\":\"struct\",\"fields\":[{\"name\":\"VIOLATION_CODE\",\"type\":\"string\",\"nullable\":true,\"metadata\":{}},{\"name\":\"VIOLATION_DESCRIPTION\",\"type\":\"string\",\"nullable\":true,\"metadata\":{}},{\"name\":\"INSPECTOR_ID\",\"type\":\"string\",\"nullable\":true,\"metadata\":{}},{\"name\":\"INSPECTION_CATEGORY\",\"type\":\"string\",\"nullable\":true,\"metadata\":{}},{\"name\":\"DEPARTMENT_BUREAU\",\"type\":\"string\",\"nullable\":true,\"metadata\":{}},{\"name\":\"LATITUDE\",\"type\":\"double\",\"nullable\":true,\"metadata\":{}},{\"name\":\"LONGITUDE\",\"type\":\"double\",\"nullable\":true,\"metadata\":{}}]}}},{\"metadata\":{\"guid\":\"342447c2-92ae-4be4-8a40-8e71c3138d66\",\"url\":\"https://ibm-watson-ml.mybluemix.net/v3/wml_instances/cf5982b8-38ce-436a-af7d-f495cd0c9816/published_models/342447c2-92ae-4be4-8a40-8e71c3138d66\",\"created_at\":\"2018-01-31T15:27:07.038Z\",\"modified_at\":\"2018-01-31T15:27:07.289Z\"},\"entity\":{\"runtime_environment\":\"spark-2.0\",\"learning_configuration_url\":\"https://ibm-watson-ml.mybluemix.net/v3/wml_instances/cf5982b8-38ce-436a-af7d-f495cd0c9816/published_models/342447c2-92ae-4be4-8a40-8e71c3138d66/learning_configuration\",\"author\":{},\"name\":\"VIOLATIONS_SCALA211_SPARK20\",\"label_col\":\"INSPECTION_STATUS\",\"learning_iterations_url\":\"https://ibm-watson-ml.mybluemix.net/v3/wml_instances/cf5982b8-38ce-436a-af7d-f495cd0c9816/published_models/342447c2-92ae-4be4-8a40-8e71c3138d66/learning_iterations\",\"training_data_schema\":{\"type\":\"struct\",\"fields\":[{\"name\":\"VIOLATION_CODE\",\"type\":\"string\",\"nullable\":true,\"metadata\":{}},{\"name\":\"VIOLATION_DESCRIPTION\",\"type\":\"string\",\"nullable\":true,\"metadata\":{}},{\"name\":\"INSPECTION_STATUS\",\"type\":\"string\",\"nullable\":true,\"metadata\":{}},{\"name\":\"INSPECTOR_ID\",\"type\":\"string\",\"nullable\":true,\"metadata\":{}},{\"name\":\"INSPECTION_CATEGORY\",\"type\":\"string\",\"nullable\":true,\"metadata\":{}},{\"name\":\"DEPARTMENT_BUREAU\",\"type\":\"string\",\"nullable\":true,\"metadata\":{}},{\"name\":\"LATITUDE\",\"type\":\"double\",\"nullable\":true,\"metadata\":{}},{\"name\":\"LONGITUDE\",\"type\":\"double\",\"nullable\":true,\"metadata\":{}}]},\"feedback_url\":\"https://ibm-watson-ml.mybluemix.net/v3/wml_instances/cf5982b8-38ce-436a-af7d-f495cd0c9816/published_models/342447c2-92ae-4be4-8a40-8e71c3138d66/feedback\",\"latest_version\":{\"url\":\"https://ibm-watson-ml.mybluemix.net/v3/ml_assets/models/342447c2-92ae-4be4-8a40-8e71c3138d66/versions/46d029b3-00f6-4c7c-9247-69d06b389b36\",\"guid\":\"46d029b3-00f6-4c7c-9247-69d06b389b36\",\"created_at\":\"2018-01-31T15:27:07.289Z\"},\"model_type\":\"mllib-2.0\",\"deployments\":{\"count\":0,\"url\":\"https://ibm-watson-ml.mybluemix.net/v3/wml_instances/cf5982b8-38ce-436a-af7d-f495cd0c9816/published_models/342447c2-92ae-4be4-8a40-8e71c3138d66/deployments\"},\"evaluation_metrics_url\":\"https://ibm-watson-ml.mybluemix.net/v3/wml_instances/cf5982b8-38ce-436a-af7d-f495cd0c9816/published_models/342447c2-92ae-4be4-8a40-8e71c3138d66/evaluation_metrics\",\"input_data_schema\":{\"type\":\"struct\",\"fields\":[{\"name\":\"VIOLATION_CODE\",\"type\":\"string\",\"nullable\":true,\"metadata\":{}},{\"name\":\"VIOLATION_DESCRIPTION\",\"type\":\"string\",\"nullable\":true,\"metadata\":{}},{\"name\":\"INSPECTOR_ID\",\"type\":\"string\",\"nullable\":true,\"metadata\":{}},{\"name\":\"INSPECTION_CATEGORY\",\"type\":\"string\",\"nullable\":true,\"metadata\":{}},{\"name\":\"DEPARTMENT_BUREAU\",\"type\":\"string\",\"nullable\":true,\"metadata\":{}},{\"name\":\"LATITUDE\",\"type\":\"double\",\"nullable\":true,\"metadata\":{}},{\"name\":\"LONGITUDE\",\"type\":\"double\",\"nullable\":true,\"metadata\":{}}]}}},{\"metadata\":{\"guid\":\"084f19c9-39d3-4572-ace2-bd48bae6ceb4\",\"url\":\"https://ibm-watson-ml.mybluemix.net/v3/wml_instances/cf5982b8-38ce-436a-af7d-f495cd0c9816/published_models/084f19c9-39d3-4572-ace2-bd48bae6ceb4\",\"created_at\":\"2018-01-31T15:54:10.360Z\",\"modified_at\":\"2018-01-31T15:54:10.621Z\"},\"entity\":{\"runtime_environment\":\"spark-2.0\",\"learning_configuration_url\":\"https://ibm-watson-ml.mybluemix.net/v3/wml_instances/cf5982b8-38ce-436a-af7d-f495cd0c9816/published_models/084f19c9-39d3-4572-ace2-bd48bae6ceb4/learning_configuration\",\"author\":{},\"name\":\"VIOLATIONS_SCALA211_SPARK20\",\"label_col\":\"INSPECTION_STATUS\",\"learning_iterations_url\":\"https://ibm-watson-ml.mybluemix.net/v3/wml_instances/cf5982b8-38ce-436a-af7d-f495cd0c9816/published_models/084f19c9-39d3-4572-ace2-bd48bae6ceb4/learning_iterations\",\"training_data_schema\":{\"type\":\"struct\",\"fields\":[{\"name\":\"VIOLATION_CODE\",\"type\":\"string\",\"nullable\":true,\"metadata\":{}},{\"name\":\"VIOLATION_DESCRIPTION\",\"type\":\"string\",\"nullable\":true,\"metadata\":{}},{\"name\":\"INSPECTION_STATUS\",\"type\":\"string\",\"nullable\":true,\"metadata\":{}},{\"name\":\"INSPECTOR_ID\",\"type\":\"string\",\"nullable\":true,\"metadata\":{}},{\"name\":\"INSPECTION_CATEGORY\",\"type\":\"string\",\"nullable\":true,\"metadata\":{}},{\"name\":\"DEPARTMENT_BUREAU\",\"type\":\"string\",\"nullable\":true,\"metadata\":{}},{\"name\":\"LATITUDE\",\"type\":\"double\",\"nullable\":true,\"metadata\":{}},{\"name\":\"LONGITUDE\",\"type\":\"double\",\"nullable\":true,\"metadata\":{}}]},\"feedback_url\":\"https://ibm-watson-ml.mybluemix.net/v3/wml_instances/cf5982b8-38ce-436a-af7d-f495cd0c9816/published_models/084f19c9-39d3-4572-ace2-bd48bae6ceb4/feedback\",\"latest_version\":{\"url\":\"https://ibm-watson-ml.mybluemix.net/v3/ml_assets/models/084f19c9-39d3-4572-ace2-bd48bae6ceb4/versions/72bb489f-eadb-47d4-a758-90b135665d82\",\"guid\":\"72bb489f-eadb-47d4-a758-90b135665d82\",\"created_at\":\"2018-01-31T15:54:10.621Z\"},\"model_type\":\"mllib-2.0\",\"deployments\":{\"count\":0,\"url\":\"https://ibm-watson-ml.mybluemix.net/v3/wml_instances/cf5982b8-38ce-436a-af7d-f495cd0c9816/published_models/084f19c9-39d3-4572-ace2-bd48bae6ceb4/deployments\"},\"evaluation_metrics_url\":\"https://ibm-watson-ml.mybluemix.net/v3/wml_instances/cf5982b8-38ce-436a-af7d-f495cd0c9816/published_models/084f19c9-39d3-4572-ace2-bd48bae6ceb4/evaluation_metrics\",\"input_data_schema\":{\"type\":\"struct\",\"fields\":[{\"name\":\"VIOLATION_CODE\",\"type\":\"string\",\"nullable\":true,\"metadata\":{}},{\"name\":\"VIOLATION_DESCRIPTION\",\"type\":\"string\",\"nullable\":true,\"metadata\":{}},{\"name\":\"INSPECTOR_ID\",\"type\":\"string\",\"nullable\":true,\"metadata\":{}},{\"name\":\"INSPECTION_CATEGORY\",\"type\":\"string\",\"nullable\":true,\"metadata\":{}},{\"name\":\"DEPARTMENT_BUREAU\",\"type\":\"string\",\"nullable\":true,\"metadata\":{}},{\"name\":\"LATITUDE\",\"type\":\"double\",\"nullable\":true,\"metadata\":{}},{\"name\":\"LONGITUDE\",\"type\":\"double\",\"nullable\":true,\"metadata\":{}}]}}},{\"metadata\":{\"guid\":\"a5cb1aca-fee6-493c-9313-4edfc163c9eb\",\"url\":\"https://ibm-watson-ml.mybluemix.net/v3/wml_instances/cf5982b8-38ce-436a-af7d-f495cd0c9816/published_models/a5cb1aca-fee6-493c-9313-4edfc163c9eb\",\"created_at\":\"2018-01-31T16:32:45.808Z\",\"modified_at\":\"2018-01-31T16:32:45.946Z\"},\"entity\":{\"runtime_environment\":\"spark-2.0\",\"learning_configuration_url\":\"https://ibm-watson-ml.mybluemix.net/v3/wml_instances/cf5982b8-38ce-436a-af7d-f495cd0c9816/published_models/a5cb1aca-fee6-493c-9313-4edfc163c9eb/learning_configuration\",\"author\":{},\"name\":\"VIOLATIONS_SCALA211_SPARK20\",\"label_col\":\"INSPECTION_STATUS\",\"learning_iterations_url\":\"https://ibm-watson-ml.mybluemix.net/v3/wml_instances/cf5982b8-38ce-436a-af7d-f495cd0c9816/published_models/a5cb1aca-fee6-493c-9313-4edfc163c9eb/learning_iterations\",\"training_data_schema\":{\"type\":\"struct\",\"fields\":[{\"name\":\"VIOLATION_CODE\",\"type\":\"string\",\"nullable\":true,\"metadata\":{}},{\"name\":\"VIOLATION_DESCRIPTION\",\"type\":\"string\",\"nullable\":true,\"metadata\":{}},{\"name\":\"INSPECTION_STATUS\",\"type\":\"string\",\"nullable\":true,\"metadata\":{}},{\"name\":\"INSPECTOR_ID\",\"type\":\"string\",\"nullable\":true,\"metadata\":{}},{\"name\":\"INSPECTION_CATEGORY\",\"type\":\"string\",\"nullable\":true,\"metadata\":{}},{\"name\":\"DEPARTMENT_BUREAU\",\"type\":\"string\",\"nullable\":true,\"metadata\":{}},{\"name\":\"LATITUDE\",\"type\":\"double\",\"nullable\":true,\"metadata\":{}},{\"name\":\"LONGITUDE\",\"type\":\"double\",\"nullable\":true,\"metadata\":{}}]},\"feedback_url\":\"https://ibm-watson-ml.mybluemix.net/v3/wml_instances/cf5982b8-38ce-436a-af7d-f495cd0c9816/published_models/a5cb1aca-fee6-493c-9313-4edfc163c9eb/feedback\",\"latest_version\":{\"url\":\"https://ibm-watson-ml.mybluemix.net/v3/ml_assets/models/a5cb1aca-fee6-493c-9313-4edfc163c9eb/versions/0cf02679-835e-4987-89b8-9cc874d54e20\",\"guid\":\"0cf02679-835e-4987-89b8-9cc874d54e20\",\"created_at\":\"2018-01-31T16:32:45.946Z\"},\"model_type\":\"mllib-2.0\",\"deployments\":{\"count\":0,\"url\":\"https://ibm-watson-ml.mybluemix.net/v3/wml_instances/cf5982b8-38ce-436a-af7d-f495cd0c9816/published_models/a5cb1aca-fee6-493c-9313-4edfc163c9eb/deployments\"},\"evaluation_metrics_url\":\"https://ibm-watson-ml.mybluemix.net/v3/wml_instances/cf5982b8-38ce-436a-af7d-f495cd0c9816/published_models/a5cb1aca-fee6-493c-9313-4edfc163c9eb/evaluation_metrics\",\"input_data_schema\":{\"type\":\"struct\",\"fields\":[{\"name\":\"VIOLATION_CODE\",\"type\":\"string\",\"nullable\":true,\"metadata\":{}},{\"name\":\"VIOLATION_DESCRIPTION\",\"type\":\"string\",\"nullable\":true,\"metadata\":{}},{\"name\":\"INSPECTOR_ID\",\"type\":\"string\",\"nullable\":true,\"metadata\":{}},{\"name\":\"INSPECTION_CATEGORY\",\"type\":\"string\",\"nullable\":true,\"metadata\":{}},{\"name\":\"DEPARTMENT_BUREAU\",\"type\":\"string\",\"nullable\":true,\"metadata\":{}},{\"name\":\"LATITUDE\",\"type\":\"double\",\"nullable\":true,\"metadata\":{}},{\"name\":\"LONGITUDE\",\"type\":\"double\",\"nullable\":true,\"metadata\":{}}]}}},{\"metadata\":{\"guid\":\"87e86b25-23c2-489c-989c-df46790b9820\",\"url\":\"https://ibm-watson-ml.mybluemix.net/v3/wml_instances/cf5982b8-38ce-436a-af7d-f495cd0c9816/published_models/87e86b25-23c2-489c-989c-df46790b9820\",\"created_at\":\"2018-02-01T03:41:48.389Z\",\"modified_at\":\"2018-02-01T03:41:48.564Z\"},\"entity\":{\"runtime_environment\":\"python-3.5\",\"learning_configuration_url\":\"https://ibm-watson-ml.mybluemix.net/v3/wml_instances/cf5982b8-38ce-436a-af7d-f495cd0c9816/published_models/87e86b25-23c2-489c-989c-df46790b9820/learning_configuration\",\"author\":{\"name\":\"YOUR_name\",\"email\":\"Your_email@email.com\"},\"name\":\"XGB_Heart_Disease_Detection\",\"learning_iterations_url\":\"https://ibm-watson-ml.mybluemix.net/v3/wml_instances/cf5982b8-38ce-436a-af7d-f495cd0c9816/published_models/87e86b25-23c2-489c-989c-df46790b9820/learning_iterations\",\"feedback_url\":\"https://ibm-watson-ml.mybluemix.net/v3/wml_instances/cf5982b8-38ce-436a-af7d-f495cd0c9816/published_models/87e86b25-23c2-489c-989c-df46790b9820/feedback\",\"latest_version\":{\"url\":\"https://ibm-watson-ml.mybluemix.net/v3/ml_assets/models/87e86b25-23c2-489c-989c-df46790b9820/versions/952da7b9-b7eb-49c8-a704-40447457c216\",\"guid\":\"952da7b9-b7eb-49c8-a704-40447457c216\",\"created_at\":\"2018-02-01T03:41:48.564Z\"},\"model_type\":\"xgboost-0.6\",\"deployments\":{\"count\":0,\"url\":\"https://ibm-watson-ml.mybluemix.net/v3/wml_instances/cf5982b8-38ce-436a-af7d-f495cd0c9816/published_models/87e86b25-23c2-489c-989c-df46790b9820/deployments\"},\"evaluation_metrics_url\":\"https://ibm-watson-ml.mybluemix.net/v3/wml_instances/cf5982b8-38ce-436a-af7d-f495cd0c9816/published_models/87e86b25-23c2-489c-989c-df46790b9820/evaluation_metrics\"}},{\"metadata\":{\"guid\":\"af8c2dfe-fcca-4233-8a98-1bf6aaeb2a08\",\"url\":\"https://ibm-watson-ml.mybluemix.net/v3/wml_instances/cf5982b8-38ce-436a-af7d-f495cd0c9816/published_models/af8c2dfe-fcca-4233-8a98-1bf6aaeb2a08\",\"created_at\":\"2018-02-01T03:42:16.986Z\",\"modified_at\":\"2018-02-01T03:45:03.713Z\"},\"entity\":{\"runtime_environment\":\"python-3.5\",\"learning_configuration_url\":\"https://ibm-watson-ml.mybluemix.net/v3/wml_instances/cf5982b8-38ce-436a-af7d-f495cd0c9816/published_models/af8c2dfe-fcca-4233-8a98-1bf6aaeb2a08/learning_configuration\",\"author\":{\"name\":\"Wendy\",\"email\":\"Your_email@email.com\"},\"name\":\"XGB_Heart_Disease_Detection\",\"learning_iterations_url\":\"https://ibm-watson-ml.mybluemix.net/v3/wml_instances/cf5982b8-38ce-436a-af7d-f495cd0c9816/published_models/af8c2dfe-fcca-4233-8a98-1bf6aaeb2a08/learning_iterations\",\"feedback_url\":\"https://ibm-watson-ml.mybluemix.net/v3/wml_instances/cf5982b8-38ce-436a-af7d-f495cd0c9816/published_models/af8c2dfe-fcca-4233-8a98-1bf6aaeb2a08/feedback\",\"latest_version\":{\"url\":\"https://ibm-watson-ml.mybluemix.net/v3/ml_assets/models/af8c2dfe-fcca-4233-8a98-1bf6aaeb2a08/versions/1abc4c8c-6b62-48f0-8140-7a0dd71dbb04\",\"guid\":\"1abc4c8c-6b62-48f0-8140-7a0dd71dbb04\",\"created_at\":\"2018-02-01T03:42:17.160Z\"},\"model_type\":\"xgboost-0.6\",\"deployments\":{\"count\":1,\"url\":\"https://ibm-watson-ml.mybluemix.net/v3/wml_instances/cf5982b8-38ce-436a-af7d-f495cd0c9816/published_models/af8c2dfe-fcca-4233-8a98-1bf6aaeb2a08/deployments\"},\"deployed_version\":{\"url\":\"https://ibm-watson-ml.mybluemix.net/v3/ml_assets/models/af8c2dfe-fcca-4233-8a98-1bf6aaeb2a08/versions/1abc4c8c-6b62-48f0-8140-7a0dd71dbb04\",\"guid\":\"1abc4c8c-6b62-48f0-8140-7a0dd71dbb04\"},\"evaluation_metrics_url\":\"https://ibm-watson-ml.mybluemix.net/v3/wml_instances/cf5982b8-38ce-436a-af7d-f495cd0c9816/published_models/af8c2dfe-fcca-4233-8a98-1bf6aaeb2a08/evaluation_metrics\"}},{\"metadata\":{\"guid\":\"bd2c0f08-6d0c-4b4e-a7ee-ae1081b53f28\",\"url\":\"https://ibm-watson-ml.mybluemix.net/v3/wml_instances/cf5982b8-38ce-436a-af7d-f495cd0c9816/published_models/bd2c0f08-6d0c-4b4e-a7ee-ae1081b53f28\",\"created_at\":\"2018-02-01T04:15:25.641Z\",\"modified_at\":\"2018-02-01T04:17:09.323Z\"},\"entity\":{\"runtime_environment\":\"python-3.5\",\"learning_configuration_url\":\"https://ibm-watson-ml.mybluemix.net/v3/wml_instances/cf5982b8-38ce-436a-af7d-f495cd0c9816/published_models/bd2c0f08-6d0c-4b4e-a7ee-ae1081b53f28/learning_configuration\",\"author\":{\"name\":\"IBM\",\"email\":\"ibm@ibm.com\"},\"name\":\"Hand-written digits recognition\",\"learning_iterations_url\":\"https://ibm-watson-ml.mybluemix.net/v3/wml_instances/cf5982b8-38ce-436a-af7d-f495cd0c9816/published_models/bd2c0f08-6d0c-4b4e-a7ee-ae1081b53f28/learning_iterations\",\"feedback_url\":\"https://ibm-watson-ml.mybluemix.net/v3/wml_instances/cf5982b8-38ce-436a-af7d-f495cd0c9816/published_models/bd2c0f08-6d0c-4b4e-a7ee-ae1081b53f28/feedback\",\"latest_version\":{\"url\":\"https://ibm-watson-ml.mybluemix.net/v3/ml_assets/models/bd2c0f08-6d0c-4b4e-a7ee-ae1081b53f28/versions/4095e53d-607a-461a-aa17-d43027a2ad11\",\"guid\":\"4095e53d-607a-461a-aa17-d43027a2ad11\",\"created_at\":\"2018-02-01T04:15:25.778Z\"},\"model_type\":\"scikit-learn-0.19\",\"deployments\":{\"count\":0,\"url\":\"https://ibm-watson-ml.mybluemix.net/v3/wml_instances/cf5982b8-38ce-436a-af7d-f495cd0c9816/published_models/bd2c0f08-6d0c-4b4e-a7ee-ae1081b53f28/deployments\"},\"evaluation_metrics_url\":\"https://ibm-watson-ml.mybluemix.net/v3/wml_instances/cf5982b8-38ce-436a-af7d-f495cd0c9816/published_models/bd2c0f08-6d0c-4b4e-a7ee-ae1081b53f28/evaluation_metrics\"}},{\"metadata\":{\"guid\":\"7be7365e-73fb-432d-8464-c7f059395714\",\"url\":\"https://ibm-watson-ml.mybluemix.net/v3/wml_instances/cf5982b8-38ce-436a-af7d-f495cd0c9816/published_models/7be7365e-73fb-432d-8464-c7f059395714\",\"created_at\":\"2018-03-13T00:56:16.573Z\",\"modified_at\":\"2018-03-13T00:56:16.769Z\"},\"entity\":{\"runtime_environment\":\"python-3.5\",\"learning_configuration_url\":\"https://ibm-watson-ml.mybluemix.net/v3/wml_instances/cf5982b8-38ce-436a-af7d-f495cd0c9816/published_models/7be7365e-73fb-432d-8464-c7f059395714/learning_configuration\",\"author\":{\"name\":\"YOUR_name\",\"email\":\"Your_email@email.com\"},\"name\":\"XGB_Heart_Disease_Detection\",\"learning_iterations_url\":\"https://ibm-watson-ml.mybluemix.net/v3/wml_instances/cf5982b8-38ce-436a-af7d-f495cd0c9816/published_models/7be7365e-73fb-432d-8464-c7f059395714/learning_iterations\",\"feedback_url\":\"https://ibm-watson-ml.mybluemix.net/v3/wml_instances/cf5982b8-38ce-436a-af7d-f495cd0c9816/published_models/7be7365e-73fb-432d-8464-c7f059395714/feedback\",\"latest_version\":{\"url\":\"https://ibm-watson-ml.mybluemix.net/v3/ml_assets/models/7be7365e-73fb-432d-8464-c7f059395714/versions/639c0962-41d4-4b1a-bbc3-4621abc95177\",\"guid\":\"639c0962-41d4-4b1a-bbc3-4621abc95177\",\"created_at\":\"2018-03-13T00:56:16.769Z\"},\"model_type\":\"xgboost-0.6\",\"deployments\":{\"count\":0,\"url\":\"https://ibm-watson-ml.mybluemix.net/v3/wml_instances/cf5982b8-38ce-436a-af7d-f495cd0c9816/published_models/7be7365e-73fb-432d-8464-c7f059395714/deployments\"},\"evaluation_metrics_url\":\"https://ibm-watson-ml.mybluemix.net/v3/wml_instances/cf5982b8-38ce-436a-af7d-f495cd0c9816/published_models/7be7365e-73fb-432d-8464-c7f059395714/evaluation_metrics\"}}],\"first\":{\"url\":\"https://deployment/v3/wml_instances/cf5982b8-38ce-436a-af7d-f495cd0c9816/published_models?limit=1000\"}}\n"
     ]
    }
   ],
   "source": [
    "header = {'Content-Type': 'application/json', 'Authorization': 'Bearer ' + mltoken}\n",
    "\n",
    "response_get = requests.get(endpoint_published_models, headers=header)\n",
    "print(response_get)\n",
    "print(response_get.text)"
   ]
  },
  {
   "cell_type": "markdown",
   "metadata": {},
   "source": [
    "Get published model deployment URL."
   ]
  },
  {
   "cell_type": "code",
   "execution_count": 37,
   "metadata": {},
   "outputs": [
    {
     "name": "stdout",
     "output_type": "stream",
     "text": [
      "https://ibm-watson-ml.mybluemix.net/v3/wml_instances/cf5982b8-38ce-436a-af7d-f495cd0c9816/published_models/7be7365e-73fb-432d-8464-c7f059395714/deployments\n"
     ]
    }
   ],
   "source": [
    "[endpoint_deployments] = [x.get('entity').get('deployments').get('url') for x in json.loads(response_get.text).get('resources') if x.get('metadata').get('guid') == saved_model.uid]\n",
    "\n",
    "print(endpoint_deployments)"
   ]
  },
  {
   "cell_type": "markdown",
   "metadata": {},
   "source": [
    "#### 5.1.2 Deploy Model"
   ]
  },
  {
   "cell_type": "markdown",
   "metadata": {},
   "source": [
    "We can now create the online deployment for the published model."
   ]
  },
  {
   "cell_type": "code",
   "execution_count": 38,
   "metadata": {},
   "outputs": [
    {
     "name": "stdout",
     "output_type": "stream",
     "text": [
      "{\"metadata\":{\"guid\":\"1a21deeb-9ca4-4b5e-a203-44eff13709e2\",\"url\":\"https://ibm-watson-ml.mybluemix.net/v3/wml_instances/cf5982b8-38ce-436a-af7d-f495cd0c9816/published_models/7be7365e-73fb-432d-8464-c7f059395714/deployments/1a21deeb-9ca4-4b5e-a203-44eff13709e2\",\"created_at\":\"2018-03-13T00:57:21.569Z\",\"modified_at\":\"2018-03-13T00:57:24.953Z\"},\"entity\":{\"runtime_environment\":\"python-3.5\",\"name\":\"xgb_heart_disease_v1\",\"scoring_url\":\"https://ibm-watson-ml.mybluemix.net/v3/wml_instances/cf5982b8-38ce-436a-af7d-f495cd0c9816/published_models/7be7365e-73fb-432d-8464-c7f059395714/deployments/1a21deeb-9ca4-4b5e-a203-44eff13709e2/online\",\"description\":\"xgb_heart_disease\",\"published_model\":{\"author\":{\"name\":\"YOUR_name\",\"email\":\"Your_email@email.com\"},\"name\":\"XGB_Heart_Disease_Detection\",\"url\":\"https://ibm-watson-ml.mybluemix.net/v3/wml_instances/cf5982b8-38ce-436a-af7d-f495cd0c9816/published_models/7be7365e-73fb-432d-8464-c7f059395714\",\"guid\":\"7be7365e-73fb-432d-8464-c7f059395714\",\"created_at\":\"2018-03-13T00:57:21.539Z\"},\"status_details\":{\"status\":\"DEPLOY_SUCCESS\"},\"model_type\":\"xgboost-0.6\",\"status\":\"DEPLOY_SUCCESS\",\"type\":\"online\",\"deployed_version\":{\"url\":\"https://ibm-watson-ml.mybluemix.net/v3/ml_assets/models/7be7365e-73fb-432d-8464-c7f059395714/versions/639c0962-41d4-4b1a-bbc3-4621abc95177\",\"guid\":\"639c0962-41d4-4b1a-bbc3-4621abc95177\"}}}\n"
     ]
    }
   ],
   "source": [
    "payload_online = {\"name\": \"xgb_heart_disease_v1\", \"description\": \"xgb_heart_disease\", \"type\": \"online\"}\n",
    "response_online = requests.post(endpoint_deployments, json=payload_online, headers=header)\n",
    "\n",
    "print(response_online.text)"
   ]
  },
  {
   "cell_type": "code",
   "execution_count": 39,
   "metadata": {},
   "outputs": [
    {
     "name": "stdout",
     "output_type": "stream",
     "text": [
      "https://ibm-watson-ml.mybluemix.net/v3/wml_instances/cf5982b8-38ce-436a-af7d-f495cd0c9816/published_models/7be7365e-73fb-432d-8464-c7f059395714/deployments/1a21deeb-9ca4-4b5e-a203-44eff13709e2/online\n"
     ]
    }
   ],
   "source": [
    "scoring_url = json.loads(response_online.text).get('entity').get('scoring_url')\n",
    "print(scoring_url)"
   ]
  },
  {
   "cell_type": "markdown",
   "metadata": {},
   "source": [
    "### 5. 2 Perform Prediction"
   ]
  },
  {
   "cell_type": "markdown",
   "metadata": {},
   "source": [
    "Now, let us perform predictions on a new set of data using the model that is deployed in the scoring service."
   ]
  },
  {
   "cell_type": "code",
   "execution_count": 40,
   "metadata": {},
   "outputs": [
    {
     "name": "stdout",
     "output_type": "stream",
     "text": [
      "('{\"values\": [[1.0, [-1.467953085899353, 2.4679532051086426]]], \"fields\": '\n",
      " '[\"prediction\", \"probability\"]}\\n')\n"
     ]
    }
   ],
   "source": [
    "payload_scoring = {\n",
    "   \"values\": [[64.0, 1.0, 4.0, 328.0, 263.0, 0.0, 0.0, 105.0, 1.0, 0.2, 2.0, 1.0, 7.0]]\n",
    "}\n",
    "\n",
    "response_scoring = requests.post(scoring_url, json=payload_scoring, headers=header)\n",
    "pprint.pprint(response_scoring.text)"
   ]
  },
  {
   "cell_type": "markdown",
   "metadata": {},
   "source": [
    "The scoring output contains the prediction value and the corresponding margin data."
   ]
  },
  {
   "cell_type": "markdown",
   "metadata": {
    "collapsed": true
   },
   "source": [
    "<a id=\"summary\"></a>\n",
    "## 6. Summary and next steps     "
   ]
  },
  {
   "cell_type": "markdown",
   "metadata": {
    "collapsed": true
   },
   "source": [
    "You successfully completed this notebook! You learned how to use XGBoost machine learning as well as Watson Machine Learning for model creation and deployment. Check out our [Online Documentation](https://console.ng.bluemix.net/docs/services/PredictiveModeling/pm_service_api_spark.html) for more samples, tutorials, documentation, how-tos, and blog posts. "
   ]
  },
  {
   "cell_type": "markdown",
   "metadata": {},
   "source": [
    "### Author\n",
    "\n",
    "**Krishnamurthy Arthanarisamy**, is a senior technical lead in IBM Watson Machine Learning team. Krishna works on developing cloud services that caters to different stages of machine learning and deep learning modeling life cycle. "
   ]
  },
  {
   "cell_type": "markdown",
   "metadata": {},
   "source": [
    "Copyright © 2017, 2018 IBM. This notebook and its source code are released under the terms of the MIT License."
   ]
  }
 ],
 "metadata": {
  "kernelspec": {
   "display_name": "Python 3.5 with Spark 2.1",
   "language": "python",
   "name": "python3-spark21"
  },
  "language_info": {
   "codemirror_mode": {
    "name": "ipython",
    "version": 3
   },
   "file_extension": ".py",
   "mimetype": "text/x-python",
   "name": "python",
   "nbconvert_exporter": "python",
   "pygments_lexer": "ipython3",
   "version": "3.5.4"
  }
 },
 "nbformat": 4,
 "nbformat_minor": 1
}
