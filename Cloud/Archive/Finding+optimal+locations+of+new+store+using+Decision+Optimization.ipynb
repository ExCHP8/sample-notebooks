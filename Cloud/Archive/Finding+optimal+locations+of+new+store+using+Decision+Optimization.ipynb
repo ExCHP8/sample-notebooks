{
 "cells": [
  {
   "cell_type": "markdown",
   "metadata": {
    "render": false
   },
   "source": [
    "# Finding optimal locations of new stores\n",
    "\n",
    "This tutorial includes everything you need to set up IBM Decision Optimization CPLEX Modeling for Python (DOcplex), build a Mathematical Programming model, and get its solution by solving the model on the cloud with IBM ILOG CPLEX Optimizer.\n",
    "\n",
    "When you finish this tutorial, you'll have a foundational knowledge of _Prescriptive Analytics_.\n",
    "\n",
    ">This notebook is part of [Prescriptive Analytics for Python](https://rawgit.com/IBMDecisionOptimization/docplex-doc/master/docs/index.html).\n",
    "\n",
    ">It requires a valid subscription to **Decision Optimization on Cloud**. Try it for free [here](https://developer.ibm.com/docloud).\n",
    "\n",
    "This notebook runs on Python 2 with Spark 2.0.\n",
    "\n",
    "Table of contents:\n",
    "\n",
    "-  [Describe the business problem](#Describe-the-business-problem)\n",
    "*  [How decision optimization (prescriptive analytics) can help](#How--decision-optimization-can-help)\n",
    "*  [Use decision optimization](#Use-decision-optimization)\n",
    "    *  [Step 1: Download the library](#Step-1:-Download-the-library)\n",
    "    *  [Step 2: Set up the engines](#Step-2:-Set-up-the-prescriptive-engine)\n",
    "    -  [Step 3: Model the data](#Step-3:-Model-the-data)\n",
    "    *  [Step 4: Prepare the data](#Step-4:-Prepare-the-data)\n",
    "    -  [Step 5: Set up the prescriptive model](#Step-5:-Set-up-the-prescriptive-model)\n",
    "        * [Define the decision variables](#Define-the-decision-variables)\n",
    "        * [Express the business constraints](#Express-the-business-constraints)\n",
    "        * [Express the objective](#Express-the-objective)\n",
    "        * [Solve with the Decision Optimization solve service](#Solve-with-the-Decision-Optimization-solve-service)\n",
    "    *  [Step 6: Investigate the solution and run an example analysis](#Step-6:-Investigate-the-solution-and-then-run-an-example-analysis)\n",
    "*  [Summary](#Summary)\n",
    "\n",
    "****"
   ]
  },
  {
   "cell_type": "markdown",
   "metadata": {
    "render": false
   },
   "source": [
    "## Describe the business problem\n",
    "\n",
    "* A fictional Coffee Company plans to open N shops in the near future and needs to determine where they should be located knowing the following:\n",
    "    * Most of the customers of this coffee brewer enjoy reading and borrowing books, so the goal is to locate those shops in such a way that all the city public libraries are within minimal walking distance.\n",
    "* We use [Chicago open data](https://data.cityofchicago.org) for this example.\n",
    "* We implement a [K-Median model](https://en.wikipedia.org/wiki/K-medians_clustering) to get the optimal location of our future shops."
   ]
  },
  {
   "cell_type": "markdown",
   "metadata": {
    "render": false
   },
   "source": [
    "## How  decision optimization can help\n",
    "\n",
    "* Prescriptive analytics (decision optimization) technology recommends actions that are based on desired outcomes.  It takes into account specific scenarios, resources, and knowledge of past and current events. With this insight, your organization can make better decisions and have greater control of business outcomes.  \n",
    "\n",
    "* Prescriptive analytics is the next step on the path to insight-based actions. It creates value through synergy with predictive analytics, which analyzes data to predict future outcomes.  \n",
    "\n",
    "* Prescriptive analytics takes that insight to the next level by suggesting the optimal way to handle that future situation. Organizations that can act fast in dynamic conditions and make superior decisions in uncertain environments gain a strong competitive advantage.  \n",
    "<br/>\n",
    "\n",
    "<u>With prescriptive analytics, you can:</u> \n",
    "\n",
    "* Automate the complex decisions and trade-offs to better manage your limited resources.\n",
    "* Take advantage of a future opportunity or mitigate a future risk.\n",
    "* Proactively update recommendations based on changing events.\n",
    "* Meet operational goals, increase customer loyalty, prevent threats and fraud, and optimize business processes."
   ]
  },
  {
   "cell_type": "markdown",
   "metadata": {},
   "source": [
    "## Use decision optimization"
   ]
  },
  {
   "cell_type": "markdown",
   "metadata": {},
   "source": [
    "### Step 1: Download the library\n",
    "\n",
    "Run the following code to install the Decision Optimization CPLEX Modeling library.  The *DOcplex* library contains the two modeling packages, Mathematical Programming and Constraint Programming, referred to earlier."
   ]
  },
  {
   "cell_type": "code",
   "execution_count": 1,
   "metadata": {
    "collapsed": false
   },
   "outputs": [],
   "source": [
    "import sys\n",
    "try:\n",
    "    import docplex.mp\n",
    "except:\n",
    "    if hasattr(sys, 'real_prefix'):\n",
    "        #we are in a virtual env.\n",
    "        !pip install docplex\n",
    "    else:\n",
    "        !pip install --user docplex"
   ]
  },
  {
   "cell_type": "markdown",
   "metadata": {},
   "source": [
    "<i>Note that the more global package docplex contains another subpackage docplex.cp that is dedicated to Constraint Programming, another branch of optimization.</i>"
   ]
  },
  {
   "cell_type": "markdown",
   "metadata": {},
   "source": [
    "### Step 2: Set up the prescriptive engine\n",
    "\n",
    "* Subscribe to the [Decision Optimization on Cloud solve service](https://developer.ibm.com/docloud).\n",
    "* Get the service URL and your personal API key, and enter your credentials here:"
   ]
  },
  {
   "cell_type": "code",
   "execution_count": 2,
   "metadata": {
    "collapsed": true
   },
   "outputs": [],
   "source": [
    "url = \"\" #ENTER YOUR URL HERE\n",
    "key = \"\" #ENTER YOUR KEY HERE"
   ]
  },
  {
   "cell_type": "markdown",
   "metadata": {
    "render": false
   },
   "source": [
    "### Step 3: Model the data\n",
    "\n",
    "- The data for this problem is quite simple: it is composed of the list of public libraries and their geographical locations.\n",
    "- The data is acquired from [Chicago open data](https://data.cityofchicago.org) as a JSON file, which is in the following format:\n",
    "<code>\n",
    "data\" : [ [ 1, \"13BFA4C7-78CE-4D83-B53D-B57C60B701CF\", 1, 1441918880, \"885709\", 1441918880, \"885709\", null, \"Albany Park\", \"M, W: 10AM-6PM;  TU, TH: 12PM-8PM; F, SA: 9AM-5PM; SU: Closed\", \"Yes\", \"Yes \", \"3401 W. Foster Avenue\", \"CHICAGO\", \"IL\", \"60625\", \"(773) 539-5450\", [ \"http://www.chipublib.org/locations/1/\", null ], [ null, \"41.975456\", \"-87.71409\", null, false ] ]\n",
    "</code>\n",
    "This code snippet represents library \"**3401 W. Foster Avenue**\" located at **41.975456, -87.71409**\n"
   ]
  },
  {
   "cell_type": "markdown",
   "metadata": {
    "render": false
   },
   "source": [
    "### Step 4: Prepare the data\n",
    "We need to collect the list of public libraries locations and keep their names, latitudes, and longitudes."
   ]
  },
  {
   "cell_type": "code",
   "execution_count": 3,
   "metadata": {
    "collapsed": false
   },
   "outputs": [],
   "source": [
    "# Store longitude, latitude and street crossing name of each public library location.\n",
    "class XPoint(object):\n",
    "    def __init__(self, x, y):\n",
    "        self.x = x\n",
    "        self.y = y\n",
    "    def __str__(self):\n",
    "        return \"P(%g_%g)\" % (self.x, self.y)\n",
    "\n",
    "class NamedPoint(XPoint):\n",
    "    def __init__(self, name, x, y):\n",
    "        XPoint.__init__(self, x, y)\n",
    "        self.name = name\n",
    "    def __str__(self):\n",
    "        return self.name"
   ]
  },
  {
   "cell_type": "markdown",
   "metadata": {
    "render": false
   },
   "source": [
    "#### Define how to compute the earth distance between 2 points\n",
    "To easily compute distance between 2 points, we use the Python package [geopy](https://pypi.python.org/pypi/geopy)"
   ]
  },
  {
   "cell_type": "code",
   "execution_count": 4,
   "metadata": {
    "collapsed": false
   },
   "outputs": [],
   "source": [
    "try:\n",
    "    import geopy.distance\n",
    "except:\n",
    "    if hasattr(sys, 'real_prefix'):\n",
    "        #we are in a virtual env.\n",
    "        !pip install geopy \n",
    "    else:\n",
    "        !pip install --user geopy"
   ]
  },
  {
   "cell_type": "code",
   "execution_count": 5,
   "metadata": {
    "collapsed": false
   },
   "outputs": [],
   "source": [
    "# Simple distance computation between 2 locations.\n",
    "from geopy.distance import great_circle\n",
    " \n",
    "def get_distance(p1, p2):\n",
    "    return great_circle((p1.y, p1.x), (p2.y, p2.x)).miles"
   ]
  },
  {
   "cell_type": "markdown",
   "metadata": {
    "render": false
   },
   "source": [
    "#### Declare the list of libraries\n",
    "Parse the JSON file to get the list of libraries and store them as Python elements."
   ]
  },
  {
   "cell_type": "code",
   "execution_count": 6,
   "metadata": {
    "collapsed": true,
    "render": false
   },
   "outputs": [],
   "source": [
    "def build_libraries_from_url(url, name_pos, lat_long_pos):\n",
    "    import requests\n",
    "    import json\n",
    "\n",
    "    r = requests.get(url)\n",
    "    myjson = json.loads(r.text, parse_constant='utf-8')\n",
    "    myjson = myjson['data']\n",
    "\n",
    "    libraries = []\n",
    "    k = 1\n",
    "    for location in myjson:\n",
    "        uname = location[name_pos]\n",
    "        try:\n",
    "            latitude = float(location[lat_long_pos][1])\n",
    "            longitude = float(location[lat_long_pos][2])\n",
    "        except TypeError:\n",
    "            latitude = longitude = None\n",
    "        try:\n",
    "            name = str(uname)\n",
    "        except:\n",
    "            name = \"???\"\n",
    "        name = \"P_%s_%d\" % (name, k)\n",
    "        if latitude and longitude:\n",
    "            cp = NamedPoint(name, longitude, latitude)\n",
    "            libraries.append(cp)\n",
    "            k += 1\n",
    "    return libraries"
   ]
  },
  {
   "cell_type": "code",
   "execution_count": 7,
   "metadata": {
    "collapsed": false
   },
   "outputs": [],
   "source": [
    "libraries = build_libraries_from_url('https://data.cityofchicago.org/api/views/x8fc-8rcq/rows.json?accessType=DOWNLOAD',\n",
    "                                   name_pos=12,\n",
    "                                   lat_long_pos=18)"
   ]
  },
  {
   "cell_type": "code",
   "execution_count": 8,
   "metadata": {
    "collapsed": false,
    "render": false
   },
   "outputs": [
    {
     "name": "stdout",
     "output_type": "stream",
     "text": [
      "There are 80 public libraries in Chicago\n"
     ]
    }
   ],
   "source": [
    "print(\"There are %d public libraries in Chicago\" % (len(libraries)))"
   ]
  },
  {
   "cell_type": "markdown",
   "metadata": {},
   "source": [
    "#### Define number of shops to open\n",
    "Create a constant that indicates how many coffee shops we would like to open."
   ]
  },
  {
   "cell_type": "code",
   "execution_count": 9,
   "metadata": {
    "collapsed": false,
    "render": false
   },
   "outputs": [
    {
     "name": "stdout",
     "output_type": "stream",
     "text": [
      "We would like to open 5 coffee shops\n"
     ]
    }
   ],
   "source": [
    "nb_shops = 5\n",
    "print(\"We would like to open %d coffee shops\" % nb_shops)"
   ]
  },
  {
   "cell_type": "markdown",
   "metadata": {
    "render": false
   },
   "source": [
    "#### Validate the data by displaying them\n",
    "We will use the [folium](https://folium.readthedocs.org/en/latest/quickstart.html#getting-started) library to display a map with markers."
   ]
  },
  {
   "cell_type": "code",
   "execution_count": 10,
   "metadata": {
    "collapsed": false
   },
   "outputs": [
    {
     "name": "stdout",
     "output_type": "stream",
     "text": [
      "Collecting folium\n",
      "  Downloading folium-0.3.0-py2-none-any.whl (71kB)\n",
      "\u001b[K    100% |████████████████████████████████| 71kB 5.2MB/s \n",
      "\u001b[?25hRequirement already satisfied: six in /usr/local/src/bluemix_jupyter_bundle.v46/notebook/lib/python2.7/site-packages (from folium)\n",
      "Requirement already satisfied: Jinja2 in /usr/local/src/bluemix_jupyter_bundle.v46/notebook/lib/python2.7/site-packages (from folium)\n",
      "Collecting branca (from folium)\n",
      "  Downloading branca-0.2.0-py2-none-any.whl\n",
      "Requirement already satisfied: MarkupSafe in /usr/local/src/bluemix_jupyter_bundle.v46/notebook/lib/python2.7/site-packages (from Jinja2->folium)\n",
      "Installing collected packages: branca, folium\n",
      "Successfully installed branca-0.2.0 folium-0.3.0\n"
     ]
    }
   ],
   "source": [
    "try:\n",
    "    import folium\n",
    "except:\n",
    "    if hasattr(sys, 'real_prefix'):\n",
    "        #we are in a virtual env.\n",
    "        !pip install folium \n",
    "    else:\n",
    "        !pip install --user folium"
   ]
  },
  {
   "cell_type": "code",
   "execution_count": 11,
   "metadata": {
    "collapsed": false,
    "scrolled": true
   },
   "outputs": [
    {
     "data": {
      "text/html": [
       "<div style=\"width:100%;\"><div style=\"position:relative;width:100%;height:0;padding-bottom:60%;\"><iframe src=\"data:text/html;charset=utf-8;base64,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\" style=\"position:absolute;width:100%;height:100%;left:0;top:0;border:none !important;\" allowfullscreen webkitallowfullscreen mozallowfullscreen></iframe></div></div>"
      ],
      "text/plain": [
       "<folium.folium.Map at 0x7f66d3087350>"
      ]
     },
     "execution_count": 11,
     "metadata": {},
     "output_type": "execute_result"
    }
   ],
   "source": [
    "import folium\n",
    "map_osm = folium.Map(location=[41.878, -87.629], zoom_start=11)\n",
    "for library in libraries:\n",
    "    lt = library.y\n",
    "    lg = library.x\n",
    "    folium.Marker([lt, lg]).add_to(map_osm)\n",
    "map_osm"
   ]
  },
  {
   "cell_type": "markdown",
   "metadata": {},
   "source": [
    "After running the above code, the data is displayed but it is impossible to determine where to ideally open the coffee shops by just looking at the map.\n",
    "\n",
    "Let's set up DOcplex to write and solve an optimization model that will help us determine where to locate the coffee shops in an optimal way."
   ]
  },
  {
   "cell_type": "markdown",
   "metadata": {},
   "source": [
    "### Step 5: Set up the prescriptive model"
   ]
  },
  {
   "cell_type": "code",
   "execution_count": 12,
   "metadata": {
    "collapsed": false
   },
   "outputs": [
    {
     "name": "stdout",
     "output_type": "stream",
     "text": [
      "* system is: Linux 64bit\n",
      "* Python is present, version is 2.7.11\n",
      "* docplex is present, version is (2, 1, 28)\n",
      "* CPLEX wrapper is not available\n"
     ]
    }
   ],
   "source": [
    "from docplex.mp.environment import Environment\n",
    "env = Environment()\n",
    "env.print_information()"
   ]
  },
  {
   "cell_type": "markdown",
   "metadata": {},
   "source": [
    "#### Create the DOcplex model\n",
    "The model contains all the business constraints and defines the objective."
   ]
  },
  {
   "cell_type": "code",
   "execution_count": 13,
   "metadata": {
    "collapsed": false
   },
   "outputs": [],
   "source": [
    "from docplex.mp.model import Model\n",
    "\n",
    "mdl = Model(\"coffee shops\")"
   ]
  },
  {
   "cell_type": "markdown",
   "metadata": {},
   "source": [
    "#### Define the decision variables"
   ]
  },
  {
   "cell_type": "code",
   "execution_count": 14,
   "metadata": {
    "collapsed": false
   },
   "outputs": [],
   "source": [
    "BIGNUM = 999999999\n",
    "\n",
    "# Ensure unique points\n",
    "libraries = set(libraries)\n",
    "# For simplicity, let's consider that coffee shops candidate locations are the same as libraries locations.\n",
    "# That is: any library location can also be selected as a coffee shop.\n",
    "coffeeshop_locations = libraries\n",
    "\n",
    "# Decision vars\n",
    "# Binary vars indicating which coffee shop locations will be actually selected\n",
    "coffeeshop_vars = mdl.binary_var_dict(coffeeshop_locations, name=\"is_coffeeshop\")\n",
    "#\n",
    "# Binary vars representing the \"assigned\" libraries for each coffee shop\n",
    "link_vars = mdl.binary_var_matrix(coffeeshop_locations, libraries, \"link\")"
   ]
  },
  {
   "cell_type": "markdown",
   "metadata": {},
   "source": [
    "#### Express the business constraints\n",
    "First constraint: if the distance is suspect, it needs to be excluded from the problem."
   ]
  },
  {
   "cell_type": "code",
   "execution_count": 15,
   "metadata": {
    "collapsed": false
   },
   "outputs": [],
   "source": [
    "for c_loc in coffeeshop_locations:\n",
    "    for b in libraries:\n",
    "        if get_distance(c_loc, b) >= BIGNUM:\n",
    "            mdl.add_constraint(link_vars[c_loc, b] == 0, \"ct_forbid_{0!s}_{1!s}\".format(c_loc, b))"
   ]
  },
  {
   "cell_type": "markdown",
   "metadata": {},
   "source": [
    "Second constraint: each library must be linked to a coffee shop that is open."
   ]
  },
  {
   "cell_type": "code",
   "execution_count": 16,
   "metadata": {
    "collapsed": false
   },
   "outputs": [
    {
     "name": "stdout",
     "output_type": "stream",
     "text": [
      "Model: coffee shops\n",
      " - number of variables: 6480\n",
      "   - binary=6480, integer=0, continuous=0\n",
      " - number of constraints: 6400\n",
      "   - linear=6400\n",
      " - parameters: defaults\n"
     ]
    }
   ],
   "source": [
    "mdl.add_constraints(link_vars[c_loc, b] <= coffeeshop_vars[c_loc]\n",
    "                   for b in libraries\n",
    "                   for c_loc in coffeeshop_locations)\n",
    "mdl.print_information()"
   ]
  },
  {
   "cell_type": "markdown",
   "metadata": {},
   "source": [
    "Third constraint: each library is linked to exactly one coffee shop."
   ]
  },
  {
   "cell_type": "code",
   "execution_count": 17,
   "metadata": {
    "collapsed": false
   },
   "outputs": [
    {
     "name": "stdout",
     "output_type": "stream",
     "text": [
      "Model: coffee shops\n",
      " - number of variables: 6480\n",
      "   - binary=6480, integer=0, continuous=0\n",
      " - number of constraints: 6480\n",
      "   - linear=6480\n",
      " - parameters: defaults\n"
     ]
    }
   ],
   "source": [
    "mdl.add_constraints(mdl.sum(link_vars[c_loc, b] for c_loc in coffeeshop_locations) == 1\n",
    "                   for b in libraries)\n",
    "mdl.print_information()"
   ]
  },
  {
   "cell_type": "markdown",
   "metadata": {},
   "source": [
    "Fourth constraint: there is a fixed number of coffee shops to open."
   ]
  },
  {
   "cell_type": "code",
   "execution_count": 18,
   "metadata": {
    "collapsed": false
   },
   "outputs": [
    {
     "name": "stdout",
     "output_type": "stream",
     "text": [
      "Model: coffee shops\n",
      " - number of variables: 6480\n",
      "   - binary=6480, integer=0, continuous=0\n",
      " - number of constraints: 6481\n",
      "   - linear=6481\n",
      " - parameters: defaults\n"
     ]
    }
   ],
   "source": [
    "# Total nb of open coffee shops\n",
    "mdl.add_constraint(mdl.sum(coffeeshop_vars[c_loc] for c_loc in coffeeshop_locations) == nb_shops)\n",
    "\n",
    "# Print model information\n",
    "mdl.print_information()"
   ]
  },
  {
   "cell_type": "markdown",
   "metadata": {},
   "source": [
    "#### Express the objective\n",
    "\n",
    "The objective is to minimize the total distance from libraries to coffee shops so that a book reader always gets to our coffee shop easily.\n"
   ]
  },
  {
   "cell_type": "code",
   "execution_count": 19,
   "metadata": {
    "collapsed": false
   },
   "outputs": [],
   "source": [
    "# Minimize total distance from points to hubs\n",
    "total_distance = mdl.sum(link_vars[c_loc, b] * get_distance(c_loc, b) for c_loc in coffeeshop_locations for b in libraries)\n",
    "mdl.minimize(total_distance)"
   ]
  },
  {
   "cell_type": "markdown",
   "metadata": {},
   "source": [
    "#### Solve with the Decision Optimization solve service\n",
    "\n",
    "Solve the model on the cloud. "
   ]
  },
  {
   "cell_type": "code",
   "execution_count": 20,
   "metadata": {
    "collapsed": false
   },
   "outputs": [
    {
     "name": "stdout",
     "output_type": "stream",
     "text": [
      "# coffee shops locations = 80\n",
      "# coffee shops           = 5\n"
     ]
    }
   ],
   "source": [
    "print(\"# coffee shops locations = %d\" % len(coffeeshop_locations))\n",
    "print(\"# coffee shops           = %d\" % nb_shops)\n",
    "\n",
    "assert mdl.solve(url=url, key=key), \"!!! Solve of the model fails\""
   ]
  },
  {
   "cell_type": "markdown",
   "metadata": {
    "render": false
   },
   "source": [
    "### Step 6: Investigate the solution and then run an example analysis\n",
    "\n",
    "The solution can be analyzed by displaying the location of the coffee shops on a map."
   ]
  },
  {
   "cell_type": "code",
   "execution_count": 21,
   "metadata": {
    "collapsed": false,
    "render": false
   },
   "outputs": [
    {
     "name": "stdout",
     "output_type": "stream",
     "text": [
      "Total distance = 209.812\n",
      "# coffee shops  = 5\n",
      "new coffee shop: P_9525 S. Halsted Street_79\n",
      "new coffee shop: P_4455 N. Lincoln Avenue_65\n",
      "new coffee shop: P_6100 W. Irving Park Road_5\n",
      "new coffee shop: P_6 S. Hoyne Avenue_46\n",
      "new coffee shop: P_2111 W. 47th Street_7\n"
     ]
    }
   ],
   "source": [
    "total_distance = mdl.objective_value\n",
    "open_coffeeshops = [c_loc for c_loc in coffeeshop_locations if coffeeshop_vars[c_loc].solution_value == 1]\n",
    "not_coffeeshops = [c_loc for c_loc in coffeeshop_locations if c_loc not in open_coffeeshops]\n",
    "edges = [(c_loc, b) for b in libraries for c_loc in coffeeshop_locations if int(link_vars[c_loc, b]) == 1]\n",
    "\n",
    "print(\"Total distance = %g\" % total_distance)\n",
    "print(\"# coffee shops  = {0}\".format(len(open_coffeeshops)))\n",
    "for c in open_coffeeshops:\n",
    "    print(\"new coffee shop: {0!s}\".format(c))"
   ]
  },
  {
   "cell_type": "markdown",
   "metadata": {},
   "source": [
    "#### Displaying the solution\n",
    "Coffee shops are highlighted in red."
   ]
  },
  {
   "cell_type": "code",
   "execution_count": 22,
   "metadata": {
    "collapsed": false
   },
   "outputs": [
    {
     "name": "stderr",
     "output_type": "stream",
     "text": [
      "/usr/local/src/bluemix_jupyter_bundle.v46/notebook/lib/python2.7/site-packages/ipykernel/__main__.py:17: FutureWarning: Method `add_children` is deprecated. Please use `add_child` instead.\n"
     ]
    },
    {
     "data": {
      "text/html": [
       "<div style=\"width:100%;\"><div style=\"position:relative;width:100%;height:0;padding-bottom:60%;\"><iframe src=\"data:text/html;charset=utf-8;base64,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\" style=\"position:absolute;width:100%;height:100%;left:0;top:0;border:none !important;\" allowfullscreen webkitallowfullscreen mozallowfullscreen></iframe></div></div>"
      ],
      "text/plain": [
       "<folium.folium.Map at 0x7f66a6271350>"
      ]
     },
     "execution_count": 22,
     "metadata": {},
     "output_type": "execute_result"
    }
   ],
   "source": [
    "import folium\n",
    "map_osm = folium.Map(location=[41.878, -87.629], zoom_start=11)\n",
    "for coffeeshop in open_coffeeshops:\n",
    "    lt = coffeeshop.y\n",
    "    lg = coffeeshop.x\n",
    "    folium.Marker([lt, lg], icon=folium.Icon(color='red',icon='info-sign')).add_to(map_osm)\n",
    "    \n",
    "for b in libraries:\n",
    "    if b not in open_coffeeshops:\n",
    "        lt = b.y\n",
    "        lg = b.x\n",
    "        folium.Marker([lt, lg]).add_to(map_osm)\n",
    "    \n",
    "\n",
    "for (c, b) in edges:\n",
    "    coordinates = [[c.y, c.x], [b.y, b.x]]\n",
    "    map_osm.add_children(folium.PolyLine(coordinates, color='#FF0000', weight=5))\n",
    "\n",
    "map_osm"
   ]
  },
  {
   "cell_type": "markdown",
   "metadata": {
    "collapsed": true
   },
   "source": [
    "## Summary\n",
    "\n",
    "\n",
    "You learned how to set up and use IBM Decision Optimization CPLEX Modeling for Python to formulate a Mathematical Programming model and solve it with IBM Decision Optimization on Cloud."
   ]
  },
  {
   "cell_type": "markdown",
   "metadata": {},
   "source": [
    "## Author\n",
    "\n",
    "\n",
    "<b>Vincent Beraudier</b> is Software Architect and Program Manager for Prescriptive Analytics and Decision Optimization in \n",
    "IBM Analytics. With IBM and ILOG for more than 16 years, he has been responsible for optimization model development tools: OPL and DOcplex. OPL, the Optimization Programming Language, provides a natural mathematical description of optimization models. DOcplex, IBM's CPLEX modeling for Python offering, is an open source project that aims at leveraging the scientific ecosystem of Python and Jupyter/Zeppeling Notebooks. It can solve Optimization Mathematical Programming models with CPLEX cloud service (DOcplexcloud) or with CPLEX local solver, without any code change.\n"
   ]
  },
  {
   "cell_type": "markdown",
   "metadata": {
    "collapsed": true
   },
   "source": [
    "## References\n",
    "* [CPLEX Modeling for Python documentation](https://rawgit.com/IBMDecisionOptimization/docplex-doc/master/docs/index.html)\n",
    "* [Decision Optimization on Cloud](https://developer.ibm.com/docloud/)\n",
    "* Need help with DOcplex or to report a bug? Please go [here](https://developer.ibm.com/answers/smartspace/docloud).\n",
    "* Contact us at dofeedback@wwpdl.vnet.ibm.com."
   ]
  },
  {
   "cell_type": "markdown",
   "metadata": {},
   "source": [
    "<b>Copyright © 2017 IBM. This notebook and its source code are released under the terms of the MIT License.</b>"
   ]
  }
 ],
 "metadata": {
  "celltoolbar": "Dashboard",
  "kernelspec": {
   "display_name": "Python 2 with Spark 2.0",
   "language": "python",
   "name": "python2-spark20"
  },
  "language_info": {
   "codemirror_mode": {
    "name": "ipython",
    "version": 2
   },
   "file_extension": ".py",
   "mimetype": "text/x-python",
   "name": "python",
   "nbconvert_exporter": "python",
   "pygments_lexer": "ipython2",
   "version": "2.7.11"
  }
 },
 "nbformat": 4,
 "nbformat_minor": 0
}