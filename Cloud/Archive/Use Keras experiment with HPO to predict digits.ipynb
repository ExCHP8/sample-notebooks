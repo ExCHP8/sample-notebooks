{
 "cells": [
  {
   "cell_type": "markdown",
   "metadata": {},
   "source": [
    "<table style=\"border: none\" align=\"left\">\n",
    "   <tr style=\"border: none\">\n",
    "      <th style=\"border: none\"><font face=\"verdana\" size=\"4\" color=\"black\"><b>Use Keras experiment with HPO to predict handwritten digits</b></font></th>\n",
    "      <th style=\"border: none\"><img src=\"https://github.com/pmservice/customer-satisfaction-prediction/blob/master/app/static/images/ml_icon_gray.png?raw=true\" alt=\"Watson Machine Learning icon\" height=\"40\" width=\"40\"></th>\n",
    "   </tr> \n",
    "   <tr style=\"border: none\">\n",
    "       <td style=\"border: none\"><img src=\"https://github.com/pmservice/wml-sample-models/raw/master/tensorflow/hand-written-digit-recognition/images/experiment_banner.png\" width=\"600\" alt=\"Icon\"></td>\n",
    "   </tr>\n",
    "</table>"
   ]
  },
  {
   "cell_type": "markdown",
   "metadata": {},
   "source": [
    "This notebook contains steps and code to demonstrate support of deep learning experiments in Watson Machine Learning Service. This notebook introduces commands for getting data, training_definition persistance, experiment training, model persistance, model deployment and scoring.\n",
    "\n",
    "Some familiarity with Python is helpful. This notebook uses Python 3 and <a href=\"https://dataplatform.cloud.ibm.com/docs/content/analyze-data/environments-parent.html\" target=\"_blank\" rel=\"noopener no referrer\">Watson Studio environments.</a>\n",
    "\n",
    "\n",
    "## Learning goals\n",
    "\n",
    "In this notebook, you learn how to:\n",
    "\n",
    "-  Work with Watson Machine Learning experiments to train Deep Learning models (Keras)\n",
    "-  Save trained models in the Watson Machine Learning repository\n",
    "-  Create an experiment\n",
    "-  Deploy the trained model online and score\n",
    "\n",
    "\n",
    "## Contents\n",
    "\n",
    "1.\t[Set up](#setup)\n",
    "2.\t[Create the training definitions](#definition)\n",
    "3.\t[Define the experiment](#experiment)\n",
    "4.\t[Run the experiment](#run)\n",
    "5.  [Create the online deployment](#deploy)\n",
    "6.\t[Score data](#scoring)\n",
    "7.\t[Summary and next steps](#summary)"
   ]
  },
  {
   "cell_type": "markdown",
   "metadata": {},
   "source": [
    "<a id=\"setup\"></a>\n",
    "## 1. Set up\n",
    "\n",
    "Before you use the sample code in this notebook, you must perform the following setup tasks:\n",
    "\n",
    "-  Create a <a href=\"https://console.ng.bluemix.net/catalog/services/machine-learning/\" target=\"_blank\" rel=\"noopener no referrer\">Watson Machine Learning (WML) Service</a> instance (a free plan is offered and information about how to create the instance is <a href=\"https://dataplatform.ibm.com/docs/content/analyze-data/wml-setup.html\" target=\"_blank\" rel=\"noopener no referrer\">here</a>).\n",
    "-  Create a <a href=\"https://console.bluemix.net/catalog/services/cloud-object-storage\" target=\"_blank\" rel=\"noopener no referrer\">Cloud Object Storage (COS)</a> instance (a lite plan is offered and information about how to order storage is <a href=\"https://console.bluemix.net/docs/services/cloud-object-storage/basics/order-storage.html#order-storage\" target=\"_blank\" rel=\"noopener no referrer\">here</a>). <br/>**Note: When using Watson Studio, you already have a COS instance associated with the project you are running the notebook in.**\n",
    "- Create new credentials with HMAC: \n",
    "    - Go to your COS dashboard.\n",
    "    - In the **Service credentials** tab, click **New Credential+**.\n",
    "    - Add the inline configuration parameter: {\"HMAC\":true}, click **Add**. (For more information, see <a href=\"https://console.bluemix.net/docs/services/cloud-object-storage/hmac/credentials.html#using-hmac-credentials\" target=\"_blank\" rel=\"noopener no referrer\">HMAC</a>.)\n",
    "\n",
    "    This configuration parameter adds the following section to the instance credentials, (for use later in this notebook):\n",
    "    ```\n",
    "      \"cos_hmac_keys\": {\n",
    "            \"access_key_id\": \"-------\",\n",
    "            \"secret_access_key\": \"-------\"\n",
    "       }\n",
    "    ```"
   ]
  },
  {
   "cell_type": "markdown",
   "metadata": {},
   "source": [
    "### 1.1 Work with Cloud Object Storage (COS)"
   ]
  },
  {
   "cell_type": "markdown",
   "metadata": {},
   "source": [
    "Install the boto library. This library allows Python developers to manage Cloud Object Storage (COS)."
   ]
  },
  {
   "cell_type": "markdown",
   "metadata": {},
   "source": [
    "**Tip:** If `ibm_boto3` is not preinstalled in you environment, run the following command to install it: "
   ]
  },
  {
   "cell_type": "code",
   "execution_count": null,
   "metadata": {},
   "outputs": [],
   "source": [
    "# Run the command if ibm_boto3 is not installed.\n",
    "!pip install ibm-cos-sdk --upgrade"
   ]
  },
  {
   "cell_type": "code",
   "execution_count": 2,
   "metadata": {},
   "outputs": [],
   "source": [
    "import ibm_boto3\n",
    "from ibm_botocore.client import Config\n",
    "import os\n",
    "import json\n",
    "import warnings\n",
    "import time"
   ]
  },
  {
   "cell_type": "markdown",
   "metadata": {},
   "source": [
    "Enter your COS credentials in the following cell. \n",
    "\n",
    "You can find these credentials in your COS instance dashboard under the **Service credentials** tab.\n",
    "\n",
    "**Note:** the HMAC key, described in [set up the environment](#setup) is included in these credentials."
   ]
  },
  {
   "cell_type": "code",
   "execution_count": null,
   "metadata": {},
   "outputs": [],
   "source": [
    "cos_credentials = {\n",
    "  \"apikey\": \"----\",\n",
    "  \"cos_hmac_keys\": {\n",
    "    \"access_key_id\": \"---\",\n",
    "    \"secret_access_key\": \"---\"\n",
    "  },\n",
    "  \"endpoints\": \"https://cos-service.bluemix.net/endpoints\",\n",
    "  \"iam_apikey_description\": \"Auto generated apikey during resource-key operation for Instance - crn:v1:bluemix:public:cloud-object-storage:global:a/bc6f89c9dbf0a21338f4ee6fa02cf6cf:d2901ba2-3196-4663-aee9-7ddfbb49eb7d::\",\n",
    "  \"iam_apikey_name\": \"----\",\n",
    "  \"iam_role_crn\": \"crn:v1:bluemix:public:iam::::serviceRole:Writer\",\n",
    "  \"iam_serviceid_crn\": \"----\",\n",
    "  \"resource_instance_id\": \"----\"\n",
    "}\n",
    "\n",
    "# You need to save the apikey and resource_instance_id to create the COS resource object later.\n",
    "api_key = cos_credentials['apikey']\n",
    "service_instance_id = cos_credentials['resource_instance_id']"
   ]
  },
  {
   "cell_type": "markdown",
   "metadata": {},
   "source": [
    "Define the endpoint.\n",
    "\n",
    "To do this, go to the **Endpoint** tab in the COS instance's dashboard to get the endpoint information, then enter it in the cell below:"
   ]
  },
  {
   "cell_type": "code",
   "execution_count": 4,
   "metadata": {},
   "outputs": [],
   "source": [
    "# Define endpoint information.\n",
    "service_endpoint = 'https://s3-api.us-geo.objectstorage.softlayer.net'"
   ]
  },
  {
   "cell_type": "markdown",
   "metadata": {},
   "source": [
    "You also need the IBM Cloud authorization endpoint to be able to create COS resource object."
   ]
  },
  {
   "cell_type": "code",
   "execution_count": 5,
   "metadata": {},
   "outputs": [],
   "source": [
    "# Define the authorization endpoint.\n",
    "auth_endpoint = 'https://iam.bluemix.net/oidc/token'"
   ]
  },
  {
   "cell_type": "markdown",
   "metadata": {},
   "source": [
    "Provide the type, endpoint_url and credentials to create the Boto resource."
   ]
  },
  {
   "cell_type": "code",
   "execution_count": 6,
   "metadata": {},
   "outputs": [],
   "source": [
    "# Create a COS resource.\n",
    "cos = ibm_boto3.resource ('s3',\n",
    "                         ibm_api_key_id=api_key,\n",
    "                         ibm_service_instance_id=service_instance_id,\n",
    "                         ibm_auth_endpoint=auth_endpoint,\n",
    "                         config=Config(signature_version='oauth'),\n",
    "                         endpoint_url=service_endpoint)"
   ]
  },
  {
   "cell_type": "markdown",
   "metadata": {},
   "source": [
    "Create two buckets, which you will use to store training data and training results.\n",
    "\n",
    "**Note:** The bucket names must be unique."
   ]
  },
  {
   "cell_type": "code",
   "execution_count": 7,
   "metadata": {},
   "outputs": [
    {
     "name": "stdout",
     "output_type": "stream",
     "text": [
      "Creating bucket \"mnist-keras-data-example-1\"...\n",
      "Creating bucket \"mnist-keras-results-example-1\"...\n"
     ]
    }
   ],
   "source": [
    "# Create buckets.\n",
    "buckets = ['mnist-keras-data-example-1', 'mnist-keras-results-example-1']\n",
    "for bucket in buckets:\n",
    "    if not cos.Bucket(bucket) in cos.buckets.all():\n",
    "        print('Creating bucket \"{}\"...'.format(bucket))\n",
    "        try:\n",
    "            cos.create_bucket(Bucket=bucket)\n",
    "        except ibm_boto3.exceptions.ibm_botocore.client.ClientError as e:\n",
    "            print('Error: {}.'.format(e.response['Error']['Message']))"
   ]
  },
  {
   "cell_type": "markdown",
   "metadata": {},
   "source": [
    "Now you should have these 2 buckets."
   ]
  },
  {
   "cell_type": "code",
   "execution_count": null,
   "metadata": {},
   "outputs": [],
   "source": [
    "# Run this cell to display all buckets.\n",
    "print(list(cos.buckets.all()))"
   ]
  },
  {
   "cell_type": "markdown",
   "metadata": {},
   "source": [
    "### 1.2 Download the MNIST data and upload it to the COS buckets"
   ]
  },
  {
   "cell_type": "markdown",
   "metadata": {},
   "source": [
    "You will work with the Keras **MNIST** sample dataset. Download your training data and upload them to the 'mnist-keras-data' bucket."
   ]
  },
  {
   "cell_type": "markdown",
   "metadata": {},
   "source": [
    "Run the code in the cell below to create 'MNIST_KERAS_DATA' folder and download the file from the link.\n",
    "\n",
    "**Tip:** First, install the ``wget`` library with this command:\n",
    "`!pip install wget`"
   ]
  },
  {
   "cell_type": "code",
   "execution_count": 8,
   "metadata": {},
   "outputs": [
    {
     "name": "stdout",
     "output_type": "stream",
     "text": [
      "Collecting wget\n",
      "  Downloading https://files.pythonhosted.org/packages/47/6a/62e288da7bcda82b935ff0c6cfe542970f04e29c756b0e147251b2fb251f/wget-3.2.zip\n",
      "Building wheels for collected packages: wget\n",
      "  Running setup.py bdist_wheel for wget ... \u001b[?25ldone\n",
      "\u001b[?25h  Stored in directory: /home/dsxuser/.cache/pip/wheels/40/15/30/7d8f7cea2902b4db79e3fea550d7d7b85ecb27ef992b618f3f\n",
      "Successfully built wget\n",
      "Installing collected packages: wget\n",
      "Successfully installed wget-3.2\n"
     ]
    }
   ],
   "source": [
    "!pip install wget --upgrade\n",
    "link = 'https://s3.amazonaws.com/img-datasets/mnist.npz'"
   ]
  },
  {
   "cell_type": "code",
   "execution_count": 9,
   "metadata": {},
   "outputs": [
    {
     "name": "stdout",
     "output_type": "stream",
     "text": [
      "mnist.npz\r\n"
     ]
    }
   ],
   "source": [
    "import wget, os\n",
    "\n",
    "data_dir = 'MNIST_KERAS_DATA'\n",
    "if not os.path.isdir(data_dir):\n",
    "    os.mkdir(data_dir)\n",
    "\n",
    "if not os.path.isfile(os.path.join(data_dir, os.path.join(link.split('/')[-1]))):\n",
    "    wget.download(link, out=data_dir)  \n",
    "        \n",
    "!ls MNIST_KERAS_DATA"
   ]
  },
  {
   "cell_type": "markdown",
   "metadata": {},
   "source": [
    "Upload the data files to the created buckets."
   ]
  },
  {
   "cell_type": "code",
   "execution_count": 10,
   "metadata": {},
   "outputs": [
    {
     "name": "stdout",
     "output_type": "stream",
     "text": [
      "mnist.npz is uploaded.\n"
     ]
    }
   ],
   "source": [
    "# Upload files to the buckets.\n",
    "bucket_name = buckets[0]\n",
    "bucket_obj = cos.Bucket(bucket_name)\n",
    "\n",
    "for filename in os.listdir(data_dir):\n",
    "    with open(os.path.join(data_dir, filename), 'rb') as data: \n",
    "        bucket_obj.upload_file(os.path.join(data_dir, filename), filename)\n",
    "        print('{} is uploaded.'.format(filename))"
   ]
  },
  {
   "cell_type": "markdown",
   "metadata": {},
   "source": [
    "Have a look at the list of the created buckets and their contents."
   ]
  },
  {
   "cell_type": "code",
   "execution_count": 11,
   "metadata": {},
   "outputs": [
    {
     "name": "stdout",
     "output_type": "stream",
     "text": [
      "Object key: mnist.npz\n",
      "Object size (kb): 11221.126953125\n"
     ]
    }
   ],
   "source": [
    "# Display a list of buckets.\n",
    "for obj in bucket_obj.objects.all():\n",
    "    print('Object key: {}'.format(obj.key))\n",
    "    print('Object size (kb): {}'.format(obj.size/1024))"
   ]
  },
  {
   "cell_type": "markdown",
   "metadata": {},
   "source": [
    "You are done with Cloud Object Storage, and you are ready to train your model!"
   ]
  },
  {
   "cell_type": "markdown",
   "metadata": {},
   "source": [
    "### 1.3 Work with the WML instance"
   ]
  },
  {
   "cell_type": "markdown",
   "metadata": {},
   "source": [
    "Import the libraries you need to work with your WML instance."
   ]
  },
  {
   "cell_type": "code",
   "execution_count": 12,
   "metadata": {},
   "outputs": [],
   "source": [
    "# Import the libraries.\n",
    "import urllib3, requests, json, base64, time, os\n",
    "warnings.filterwarnings('ignore')"
   ]
  },
  {
   "cell_type": "markdown",
   "metadata": {},
   "source": [
    "Authenticate to the Watson Machine Learning service on IBM Cloud.\n",
    "\n",
    "**Tip**: Authentication information (your credentials) can be found in the <a href=\"https://console.bluemix.net/docs/services/service_credentials.html#service_credentials\" target=\"_blank\" rel=\"noopener no referrer\">Service credentials</a> tab of the service instance that you created on IBM Cloud. <BR>If you cannot see the **instance_id** field in **Service Credentials**, click **New credential (+)** to generate new authentication information. \n",
    "\n",
    "**Action**: Enter your WML service instance credentials here."
   ]
  },
  {
   "cell_type": "code",
   "execution_count": null,
   "metadata": {},
   "outputs": [],
   "source": [
    "wml_credentials = {\n",
    "  \"url\": \"https://ibm-watson-ml.mybluemix.net\",\n",
    "  \"username\": \"---\",\n",
    "  \"password\": \"---\",\n",
    "  \"instance_id\": \"---\"\n",
    "}"
   ]
  },
  {
   "cell_type": "markdown",
   "metadata": {},
   "source": [
    "#### Install the `watson-machine-learning-client` from pypi"
   ]
  },
  {
   "cell_type": "markdown",
   "metadata": {},
   "source": [
    "!pip install --upgrade watson-machine-learning-client"
   ]
  },
  {
   "cell_type": "code",
   "execution_count": 14,
   "metadata": {},
   "outputs": [],
   "source": [
    "!rm -rf $PIP_BUILD/watson-machine-learning-client"
   ]
  },
  {
   "cell_type": "code",
   "execution_count": null,
   "metadata": {},
   "outputs": [],
   "source": [
    "!pip install --upgrade watson-machine-learning-client"
   ]
  },
  {
   "cell_type": "markdown",
   "metadata": {},
   "source": [
    "#### Import `watson-machine-learning-client` and authenticate to the service instance."
   ]
  },
  {
   "cell_type": "code",
   "execution_count": null,
   "metadata": {},
   "outputs": [],
   "source": [
    "from watson_machine_learning_client import WatsonMachineLearningAPIClient"
   ]
  },
  {
   "cell_type": "code",
   "execution_count": 17,
   "metadata": {},
   "outputs": [],
   "source": [
    "client = WatsonMachineLearningAPIClient(wml_credentials)"
   ]
  },
  {
   "cell_type": "code",
   "execution_count": 18,
   "metadata": {},
   "outputs": [
    {
     "name": "stdout",
     "output_type": "stream",
     "text": [
      "1.0.302\n"
     ]
    }
   ],
   "source": [
    "# Display the client version number.\n",
    "print(client.version)"
   ]
  },
  {
   "cell_type": "markdown",
   "metadata": {},
   "source": [
    "**Note:** `watson-machine-learning-client` documentation can be found <a href=\"http://wml-api-pyclient.mybluemix.net/\" target=\"_blank\" rel=\"noopener no referrer\">here</a>."
   ]
  },
  {
   "cell_type": "markdown",
   "metadata": {},
   "source": [
    "<a id=\"definition\"></a>\n",
    "## 2. Create the training definitions"
   ]
  },
  {
   "cell_type": "markdown",
   "metadata": {},
   "source": [
    "For purpose of this example, two Keras model definitions have been prepared:\n",
    "* Multilayer Perceptron (MLP)\n",
    "* Convolution Neural Network (CNN)\n",
    "\n",
    "In this section, you learn how to:\n",
    "\n",
    "- [2.1 Prepare the training definition metadata](#prep)\n",
    "- [2.2 Get the sample model definition content files from Git](#get)\n",
    "- [2.3 Store the training definition in the WML repository](#store)"
   ]
  },
  {
   "cell_type": "markdown",
   "metadata": {},
   "source": [
    "### 2.1 Prepare the training definition metadata<a id=\"prep\"></a>"
   ]
  },
  {
   "cell_type": "code",
   "execution_count": 19,
   "metadata": {},
   "outputs": [],
   "source": [
    "model_definition_1_metadata = {\n",
    "            client.repository.DefinitionMetaNames.NAME: \"MNIST-MLP\",\n",
    "            client.repository.DefinitionMetaNames.FRAMEWORK_NAME: \"tensorflow\",\n",
    "            client.repository.DefinitionMetaNames.FRAMEWORK_VERSION: \"1.5\",\n",
    "            client.repository.DefinitionMetaNames.RUNTIME_NAME: \"python\",\n",
    "            client.repository.DefinitionMetaNames.RUNTIME_VERSION: \"3.5\",\n",
    "            client.repository.DefinitionMetaNames.EXECUTION_COMMAND: \"python3 mnist_mlp.py\"\n",
    "            }"
   ]
  },
  {
   "cell_type": "code",
   "execution_count": 20,
   "metadata": {},
   "outputs": [],
   "source": [
    "model_definition_2_metadata = {\n",
    "            client.repository.DefinitionMetaNames.NAME: \"MNIST-CNN\",\n",
    "            client.repository.DefinitionMetaNames.FRAMEWORK_NAME: \"tensorflow\",\n",
    "            client.repository.DefinitionMetaNames.FRAMEWORK_VERSION: \"1.5\",\n",
    "            client.repository.DefinitionMetaNames.RUNTIME_NAME: \"python\",\n",
    "            client.repository.DefinitionMetaNames.RUNTIME_VERSION: \"3.5\",\n",
    "            client.repository.DefinitionMetaNames.EXECUTION_COMMAND: \"python3 mnist_cnn.py\"\n",
    "            }"
   ]
  },
  {
   "cell_type": "markdown",
   "metadata": {},
   "source": [
    "### 2.2 Get the sample model definition content file from Git (python scripts with CNN and MLP)<a id=\"get\"></a> "
   ]
  },
  {
   "cell_type": "code",
   "execution_count": 21,
   "metadata": {},
   "outputs": [],
   "source": [
    "!rm -rf MNIST.zip"
   ]
  },
  {
   "cell_type": "code",
   "execution_count": 22,
   "metadata": {},
   "outputs": [
    {
     "name": "stdout",
     "output_type": "stream",
     "text": [
      "--2018-08-22 12:49:45--  https://github.com/pmservice/wml-sample-models/raw/master/keras/mnist/MNIST.zip\n",
      "Resolving github.com (github.com)... 192.30.253.112, 192.30.253.113\n",
      "Connecting to github.com (github.com)|192.30.253.112|:443... connected.\n",
      "HTTP request sent, awaiting response... 302 Found\n",
      "Location: https://raw.githubusercontent.com/pmservice/wml-sample-models/master/keras/mnist/MNIST.zip [following]\n",
      "--2018-08-22 12:49:45--  https://raw.githubusercontent.com/pmservice/wml-sample-models/master/keras/mnist/MNIST.zip\n",
      "Resolving raw.githubusercontent.com (raw.githubusercontent.com)... 151.101.48.133\n",
      "Connecting to raw.githubusercontent.com (raw.githubusercontent.com)|151.101.48.133|:443... connected.\n",
      "HTTP request sent, awaiting response... 200 OK\n",
      "Length: 3836 (3.7K) [application/zip]\n",
      "Saving to: ‘MNIST.zip’\n",
      "\n",
      "100%[======================================>] 3,836       --.-K/s   in 0s      \n",
      "\n",
      "2018-08-22 12:49:45 (58.8 MB/s) - ‘MNIST.zip’ saved [3836/3836]\n",
      "\n",
      "MNIST.zip\n"
     ]
    }
   ],
   "source": [
    "filename_mnist = 'MNIST.zip'\n",
    "\n",
    "if os.path.isfile(filename_mnist):\n",
    "    !ls 'MNIST.zip'\n",
    "else:\n",
    "    !wget https://github.com/pmservice/wml-sample-models/raw/master/keras/mnist/MNIST.zip\n",
    "    !ls 'MNIST.zip'"
   ]
  },
  {
   "cell_type": "markdown",
   "metadata": {},
   "source": [
    "### 2.3 Store the training definition in the WML repository<a id=\"store\"></a>"
   ]
  },
  {
   "cell_type": "markdown",
   "metadata": {},
   "source": [
    "##### Store definition 1"
   ]
  },
  {
   "cell_type": "code",
   "execution_count": 23,
   "metadata": {},
   "outputs": [
    {
     "name": "stdout",
     "output_type": "stream",
     "text": [
      "https://us-south.ml.cloud.ibm.com/v3/ml_assets/training_definitions/544dd463-947c-42e3-9955-eddf081d7d39\n"
     ]
    }
   ],
   "source": [
    "definition_1_details = client.repository.store_definition(filename_mnist, model_definition_1_metadata)\n",
    "\n",
    "definition_1_url = client.repository.get_definition_url(definition_1_details)\n",
    "definition_1_uid = client.repository.get_definition_uid(definition_1_details)\n",
    "print(definition_1_url)"
   ]
  },
  {
   "cell_type": "markdown",
   "metadata": {},
   "source": [
    "##### Store definition 2"
   ]
  },
  {
   "cell_type": "code",
   "execution_count": 24,
   "metadata": {},
   "outputs": [
    {
     "name": "stdout",
     "output_type": "stream",
     "text": [
      "https://us-south.ml.cloud.ibm.com/v3/ml_assets/training_definitions/ad413e45-e756-4c2d-815e-aa7e85509018\n"
     ]
    }
   ],
   "source": [
    "definition_2_details = client.repository.store_definition(filename_mnist, model_definition_2_metadata)\n",
    "\n",
    "definition_2_url = client.repository.get_definition_url(definition_2_details)\n",
    "definition_2_uid = client.repository.get_definition_uid(definition_2_details)\n",
    "print(definition_2_url)"
   ]
  },
  {
   "cell_type": "markdown",
   "metadata": {},
   "source": [
    "#### Display a list of the stored definitions."
   ]
  },
  {
   "cell_type": "code",
   "execution_count": 25,
   "metadata": {
    "scrolled": true
   },
   "outputs": [
    {
     "name": "stdout",
     "output_type": "stream",
     "text": [
      "------------------------------------  ---------  ------------------------  ----------\n",
      "GUID                                  NAME       CREATED                   FRAMEWORK\n",
      "ad413e45-e756-4c2d-815e-aa7e85509018  MNIST-CNN  2018-08-22T12:49:54.344Z  tensorflow\n",
      "544dd463-947c-42e3-9955-eddf081d7d39  MNIST-MLP  2018-08-22T12:49:50.218Z  tensorflow\n",
      "------------------------------------  ---------  ------------------------  ----------\n"
     ]
    }
   ],
   "source": [
    "client.repository.list_definitions()"
   ]
  },
  {
   "cell_type": "markdown",
   "metadata": {},
   "source": [
    "<a id=\"experiment\"></a>\n",
    "## 3. Define the experiment \n",
    "\n",
    "In this section, you will learn how to:\n",
    "- [4.1 Get the list of supported configuration parameters](#exlist)\n",
    "- [4.2 Configure the experiment](#exconf)\n",
    "- [4.3 Store the experiment in the WML repository](#exstore)"
   ]
  },
  {
   "cell_type": "markdown",
   "metadata": {},
   "source": [
    "### 3.1 Get a list of the supported configuration parameters <a id=\"exlist\"></a>"
   ]
  },
  {
   "cell_type": "code",
   "execution_count": 26,
   "metadata": {
    "scrolled": true
   },
   "outputs": [
    {
     "name": "stdout",
     "output_type": "stream",
     "text": [
      "--------------------------  ----  --------\n",
      "META_PROP NAME              TYPE  REQUIRED\n",
      "NAME                        str   Y\n",
      "DESCRIPTION                 str   N\n",
      "TAGS                        list  N\n",
      "AUTHOR_NAME                 str   N\n",
      "EVALUATION_METHOD           str   N\n",
      "EVALUATION_METRICS          list  N\n",
      "TRAINING_REFERENCES         list  Y\n",
      "TRAINING_DATA_REFERENCE     dict  Y\n",
      "TRAINING_RESULTS_REFERENCE  dict  Y\n",
      "--------------------------  ----  --------\n"
     ]
    }
   ],
   "source": [
    "client.repository.ExperimentMetaNames.show()"
   ]
  },
  {
   "cell_type": "markdown",
   "metadata": {},
   "source": [
    "### 3.2 Configure the experiment<a id=\"exconf\"></a>\n",
    "Create an experiment that will train models based on previously stored definitions."
   ]
  },
  {
   "cell_type": "markdown",
   "metadata": {},
   "source": [
    "`TRAINING_DATA_REFERENCE` - location of training data"
   ]
  },
  {
   "cell_type": "code",
   "execution_count": 27,
   "metadata": {},
   "outputs": [],
   "source": [
    "TRAINING_DATA_REFERENCE = {\n",
    "                            \"connection\": {\n",
    "                                \"endpoint_url\": service_endpoint,\n",
    "                                \"access_key_id\": cos_credentials['cos_hmac_keys']['access_key_id'],\n",
    "                                \"secret_access_key\": cos_credentials['cos_hmac_keys']['secret_access_key']\n",
    "                            },\n",
    "                            \"source\": {\n",
    "                                \"bucket\": buckets[0],\n",
    "                            },\n",
    "                            \"type\": \"s3\"\n",
    "}"
   ]
  },
  {
   "cell_type": "markdown",
   "metadata": {},
   "source": [
    "`TRAINING_RESULTS_REFERENCE` - location of training results."
   ]
  },
  {
   "cell_type": "code",
   "execution_count": 28,
   "metadata": {},
   "outputs": [],
   "source": [
    "TRAINING_RESULTS_REFERENCE = {\n",
    "                                \"connection\": {\n",
    "                                    \"endpoint_url\": service_endpoint,\n",
    "                                    \"access_key_id\": cos_credentials['cos_hmac_keys']['access_key_id'],\n",
    "                                    \"secret_access_key\": cos_credentials['cos_hmac_keys']['secret_access_key']\n",
    "                                },\n",
    "                                \"target\": {\n",
    "                                    \"bucket\": buckets[1],\n",
    "                                },\n",
    "                                \"type\": \"s3\"\n",
    "}"
   ]
  },
  {
   "cell_type": "markdown",
   "metadata": {},
   "source": [
    "Configure the hyper parameters optimizer for your experiment. You are interested in the `val_acc` metric so you define it as the optimizer `objective`. `num_optimizer_steps` tells the optimizer how many models you want to train based on the combination of hyper parameters values."
   ]
  },
  {
   "cell_type": "code",
   "execution_count": 29,
   "metadata": {},
   "outputs": [],
   "source": [
    "HPO = {\n",
    "        \"method\": {\n",
    "            \"name\": \"rbfopt\",\n",
    "            \"parameters\": [\n",
    "                client.experiments.HPOMethodParam(\"objective\", \"val_acc\"),\n",
    "                client.experiments.HPOMethodParam(\"maximize_or_minimize\", \"maximize\"),\n",
    "                client.experiments.HPOMethodParam(\"num_optimizer_steps\", 3)\n",
    "            ]\n",
    "        },\n",
    "        \"hyper_parameters\": [\n",
    "            client.experiments.HPOParameter('learning_rate', min=0.0001, max=0.001, step=0.0003)\n",
    "        ]\n",
    "     }           "
   ]
  },
  {
   "cell_type": "markdown",
   "metadata": {},
   "source": [
    "Configure your experiment. `TRAINING_REFERENCES` links previously stored training definitions and provides information about the `compute_configuration` that will be used to run the training."
   ]
  },
  {
   "cell_type": "code",
   "execution_count": 30,
   "metadata": {},
   "outputs": [],
   "source": [
    "experiment_metadata = {\n",
    "            client.repository.ExperimentMetaNames.NAME: \"MNIST experiment\",\n",
    "            client.repository.ExperimentMetaNames.DESCRIPTION: \"Best model for MNIST.\",\n",
    "            client.repository.ExperimentMetaNames.EVALUATION_METHOD: \"multiclass\",\n",
    "            client.repository.ExperimentMetaNames.EVALUATION_METRICS: [\"val_acc\"],\n",
    "            client.repository.ExperimentMetaNames.TRAINING_DATA_REFERENCE: TRAINING_DATA_REFERENCE,\n",
    "            client.repository.ExperimentMetaNames.TRAINING_RESULTS_REFERENCE: TRAINING_RESULTS_REFERENCE,\n",
    "            client.repository.ExperimentMetaNames.TRAINING_REFERENCES: [\n",
    "                        {\n",
    "                            \"name\": \"MNIST_MLP\",\n",
    "                            \"training_definition_url\": definition_1_url,\n",
    "                            \"compute_configuration\": {\"name\": \"k80x2\"},\n",
    "                            \"hyper_parameters_optimization\": HPO\n",
    "                            \n",
    "                        },\n",
    "                        {\n",
    "                            \"name\": \"MNIST_CNN\",\n",
    "                            \"training_definition_url\": definition_2_url,\n",
    "                            \"compute_configuration\": {\"name\": \"k80x2\"},\n",
    "                        }],\n",
    "            }"
   ]
  },
  {
   "cell_type": "markdown",
   "metadata": {},
   "source": [
    "### 3.3 Store the experiment in the WML repository<a Id=\"exstore\"></a>"
   ]
  },
  {
   "cell_type": "code",
   "execution_count": 31,
   "metadata": {},
   "outputs": [
    {
     "name": "stdout",
     "output_type": "stream",
     "text": [
      "9d9b2c54-e180-4247-9c87-5cbb14b9cb68\n"
     ]
    }
   ],
   "source": [
    "# Store the experiment, and display the experiments uid.\n",
    "experiment_details = client.repository.store_experiment(meta_props=experiment_metadata)\n",
    "\n",
    "experiment_uid = client.repository.get_experiment_uid(experiment_details)\n",
    "print(experiment_uid)"
   ]
  },
  {
   "cell_type": "markdown",
   "metadata": {},
   "source": [
    "#### Display a list of the stored experiments."
   ]
  },
  {
   "cell_type": "code",
   "execution_count": 32,
   "metadata": {},
   "outputs": [
    {
     "name": "stdout",
     "output_type": "stream",
     "text": [
      "------------------------------------  ----------------  ------------------------\n",
      "GUID                                  NAME              CREATED\n",
      "9d9b2c54-e180-4247-9c87-5cbb14b9cb68  MNIST experiment  2018-08-22T12:50:23.683Z\n",
      "------------------------------------  ----------------  ------------------------\n"
     ]
    }
   ],
   "source": [
    "client.repository.list_experiments()"
   ]
  },
  {
   "cell_type": "markdown",
   "metadata": {},
   "source": [
    "#### Update the experiment."
   ]
  },
  {
   "cell_type": "markdown",
   "metadata": {},
   "source": [
    "You can update the experiment definition by running the code in the following cell."
   ]
  },
  {
   "cell_type": "code",
   "execution_count": 33,
   "metadata": {},
   "outputs": [],
   "source": [
    "updated_experiment_details = client.repository.update_experiment(experiment_uid, experiment_metadata)"
   ]
  },
  {
   "cell_type": "markdown",
   "metadata": {},
   "source": [
    "#### Display the experiment definition details."
   ]
  },
  {
   "cell_type": "code",
   "execution_count": 34,
   "metadata": {},
   "outputs": [],
   "source": [
    "details = client.repository.get_experiment_details(experiment_uid)"
   ]
  },
  {
   "cell_type": "markdown",
   "metadata": {},
   "source": [
    "#### Delete the experiment definition from the repository."
   ]
  },
  {
   "cell_type": "code",
   "execution_count": null,
   "metadata": {},
   "outputs": [],
   "source": [
    "client.repository.delete(experiment_uid)"
   ]
  },
  {
   "cell_type": "markdown",
   "metadata": {},
   "source": [
    "<a id=\"run\"></a>\n",
    "## 4. Run the experiment\n",
    "\n",
    "In this section, you will learn how to:\n",
    "- [4.1 Start the experiment run](#exstart)\n",
    "- [4.2 Monitor the experiment run](#exmon)\n",
    "- [4.3 Access the metrics data](#exaccess)\n"
   ]
  },
  {
   "cell_type": "markdown",
   "metadata": {},
   "source": [
    "### 4.1 Start the experiment run<a id=\"exstart\"></a>"
   ]
  },
  {
   "cell_type": "markdown",
   "metadata": {},
   "source": [
    "**Tip:** To run the experiment in background set optional parameter `asynchronous=True` (or remove it)"
   ]
  },
  {
   "cell_type": "code",
   "execution_count": 35,
   "metadata": {
    "scrolled": true
   },
   "outputs": [],
   "source": [
    "# Start the experiment run.\n",
    "experiment_run_details = client.experiments.run(experiment_uid, asynchronous=True)"
   ]
  },
  {
   "cell_type": "markdown",
   "metadata": {},
   "source": [
    "As you can see, the experiment run has been triggered."
   ]
  },
  {
   "cell_type": "markdown",
   "metadata": {},
   "source": [
    "#### Display the experiment run UID."
   ]
  },
  {
   "cell_type": "code",
   "execution_count": 36,
   "metadata": {},
   "outputs": [
    {
     "name": "stdout",
     "output_type": "stream",
     "text": [
      "330be28c-82c5-48a1-8ce5-12d348fb2303\n"
     ]
    }
   ],
   "source": [
    "experiment_run_uid = client.experiments.get_run_uid(experiment_run_details)\n",
    "print(experiment_run_uid)"
   ]
  },
  {
   "cell_type": "markdown",
   "metadata": {},
   "source": [
    "#### List the runs for all experiments.\n",
    "You can list experiment run using `client.experiments.list_runs()` method."
   ]
  },
  {
   "cell_type": "code",
   "execution_count": 37,
   "metadata": {},
   "outputs": [
    {
     "name": "stdout",
     "output_type": "stream",
     "text": [
      "------------------------------------  ------------------------------------  -----------------  -------  --------------------\n",
      "GUID (experiment)                     GUID (run)                            NAME (experiment)  STATE    CREATED\n",
      "9d9b2c54-e180-4247-9c87-5cbb14b9cb68  330be28c-82c5-48a1-8ce5-12d348fb2303  MNIST experiment   pending  2018-08-22T12:51:31Z\n",
      "------------------------------------  ------------------------------------  -----------------  -------  --------------------\n"
     ]
    }
   ],
   "source": [
    "client.experiments.list_runs()"
   ]
  },
  {
   "cell_type": "markdown",
   "metadata": {},
   "source": [
    "#### List the training runs triggered by the experiment run."
   ]
  },
  {
   "cell_type": "markdown",
   "metadata": {},
   "source": [
    "**Hint:** Run the cell below several times during the run to see updates."
   ]
  },
  {
   "cell_type": "code",
   "execution_count": 38,
   "metadata": {},
   "outputs": [
    {
     "name": "stdout",
     "output_type": "stream",
     "text": [
      "------------------  ---------  -------  --------------------  --------  -----------\n",
      "GUID (training)     NAME       STATE    SUBMITTED             FINISHED  PERFORMANCE\n",
      "training-MKava-tig  MNIST_CNN  pending  2018-08-22T12:51:34Z  -         -\n",
      "training-avaD--pig  MNIST_MLP  pending  2018-08-22T12:51:34Z  -         -\n",
      "------------------  ---------  -------  --------------------  --------  -----------\n"
     ]
    }
   ],
   "source": [
    "client.experiments.list_training_runs(experiment_run_uid)"
   ]
  },
  {
   "cell_type": "markdown",
   "metadata": {},
   "source": [
    "#### Get information about the experiment run.\n",
    "Use the following method to get details about a specific experiment run."
   ]
  },
  {
   "cell_type": "code",
   "execution_count": 39,
   "metadata": {},
   "outputs": [],
   "source": [
    "experiment_run_details = client.experiments.get_run_details(experiment_run_uid)"
   ]
  },
  {
   "cell_type": "markdown",
   "metadata": {},
   "source": [
    "#### Check the status of the experiment run.\n",
    "You can check experiment run status by calling `client.experiments.get_status(run_uid)` method. This is useful when you run an experiment in background."
   ]
  },
  {
   "cell_type": "code",
   "execution_count": 40,
   "metadata": {},
   "outputs": [
    {
     "data": {
      "text/plain": [
       "{'best_results': {'experiment_best_model': {'training_guid': 'training-MKava-tig',\n",
       "   'training_reference_name': 'MNIST_CNN',\n",
       "   'training_url': 'https://us-south.ml.cloud.ibm.com/v3/ml_assets/training_definitions/ad413e45-e756-4c2d-815e-aa7e85509018'},\n",
       "  'training_reference_best_model': [{'training_guid': 'training-MKava-tig',\n",
       "    'training_reference_name': 'MNIST_CNN',\n",
       "    'training_url': 'https://us-south.ml.cloud.ibm.com/v3/ml_assets/training_definitions/ad413e45-e756-4c2d-815e-aa7e85509018'},\n",
       "   {'training_guid': 'training-avaD--pig_1',\n",
       "    'training_reference_name': 'MNIST_MLP',\n",
       "    'training_url': 'https://us-south.ml.cloud.ibm.com/v3/ml_assets/training_definitions/544dd463-947c-42e3-9955-eddf081d7d39'}]},\n",
       " 'current_at': '2018-08-22T12:51:31Z',\n",
       " 'current_iteration': 1,\n",
       " 'state': 'completed',\n",
       " 'submitted_at': '2018-08-22T12:51:31Z'}"
      ]
     },
     "execution_count": 40,
     "metadata": {},
     "output_type": "execute_result"
    }
   ],
   "source": [
    "client.experiments.get_status(experiment_run_uid)"
   ]
  },
  {
   "cell_type": "markdown",
   "metadata": {},
   "source": [
    "#### View all the available information about the experiment.\n",
    "Use the following method to get all information about particular experiment."
   ]
  },
  {
   "cell_type": "code",
   "execution_count": 41,
   "metadata": {},
   "outputs": [],
   "source": [
    "experiment_details = client.experiments.get_details(experiment_uid)"
   ]
  },
  {
   "cell_type": "markdown",
   "metadata": {},
   "source": [
    "Use the print command to display experiment details (change the cell type to code, then run the cell)."
   ]
  },
  {
   "cell_type": "code",
   "execution_count": null,
   "metadata": {},
   "outputs": [],
   "source": [
    "print(json.dumps(experiment_details, indent=2))"
   ]
  },
  {
   "cell_type": "markdown",
   "metadata": {},
   "source": [
    "#### List the training runs uids."
   ]
  },
  {
   "cell_type": "markdown",
   "metadata": {},
   "source": [
    "The training run uid can be used to monitor a selected training within an experiment."
   ]
  },
  {
   "cell_type": "code",
   "execution_count": 42,
   "metadata": {},
   "outputs": [
    {
     "name": "stdout",
     "output_type": "stream",
     "text": [
      "training-MKava-tig\n",
      "training-avaD--pig\n",
      "training-avaD--pig_0\n",
      "training-avaD--pig_1\n",
      "training-avaD--pig_2\n"
     ]
    }
   ],
   "source": [
    "experiment_run_details = client.experiments.get_run_details(experiment_run_uid)\n",
    "training_run_uids = client.experiments.get_training_uids(experiment_run_details)\n",
    "\n",
    "for i in training_run_uids:\n",
    "    print(i)"
   ]
  },
  {
   "cell_type": "markdown",
   "metadata": {},
   "source": [
    "#### Delete an experiment run."
   ]
  },
  {
   "cell_type": "markdown",
   "metadata": {},
   "source": [
    "Run the code in the next cell to an delete experiment run and results. The code is commented out here, because you do not want to delete any experiement runs that you will use later in this notebook ."
   ]
  },
  {
   "cell_type": "markdown",
   "metadata": {},
   "source": [
    "**Tip:** the `delete` method can be also used to terminate experiment run."
   ]
  },
  {
   "cell_type": "code",
   "execution_count": null,
   "metadata": {},
   "outputs": [],
   "source": [
    "client.experiments.delete(experiment_run_id)"
   ]
  },
  {
   "cell_type": "markdown",
   "metadata": {},
   "source": [
    "### 4.2 Monitor the experiment run<a id=\"exmon\"></a>\n",
    "You can monitor experiment run by calling `client.experiments.monitor_logs(run_uid)`. This method streams content from the training logs to the console."
   ]
  },
  {
   "cell_type": "markdown",
   "metadata": {},
   "source": [
    "**Tip:** You can also monitor a particular training run by calling `client.training.monitor_logs(training_run_uid)`.\n",
    "To get the training_run_uid you can call the method `client.experiments.list_training_runs(experiment_run_uid)`"
   ]
  },
  {
   "cell_type": "code",
   "execution_count": 43,
   "metadata": {},
   "outputs": [
    {
     "name": "stdout",
     "output_type": "stream",
     "text": [
      "\n",
      "\n",
      "########################################################################\n",
      "\n",
      "Monitor started for experiment run: 330be28c-82c5-48a1-8ce5-12d348fb2303\n",
      "\n",
      "########################################################################\n",
      "\n",
      "\n",
      "\n",
      "\n",
      "--------------------------------------------------------\n",
      "Log monitor started for training run: training-MKava-tig\n",
      "--------------------------------------------------------\n",
      "\n",
      "\n",
      "\n",
      "\n",
      "--------------------------------------------------------\n",
      "Log monitor started for training run: training-avaD--pig\n",
      "--------------------------------------------------------\n",
      "\n",
      "\n",
      "\n",
      "\n",
      "-----------------\n",
      "Log monitor done.\n",
      "-----------------\n",
      "\n",
      "\n"
     ]
    }
   ],
   "source": [
    "client.experiments.monitor_logs(experiment_run_uid)"
   ]
  },
  {
   "cell_type": "markdown",
   "metadata": {},
   "source": [
    "**Note:** Before moving on to next section, make sure that your experiment run has completed."
   ]
  },
  {
   "cell_type": "code",
   "execution_count": 44,
   "metadata": {
    "scrolled": true
   },
   "outputs": [
    {
     "data": {
      "text/plain": [
       "'completed'"
      ]
     },
     "execution_count": 44,
     "metadata": {},
     "output_type": "execute_result"
    }
   ],
   "source": [
    "client.experiments.get_status(experiment_run_uid)['state']"
   ]
  },
  {
   "cell_type": "markdown",
   "metadata": {},
   "source": [
    "### 4.3 Access the metrics data<a id=\"exaccess\"></a>"
   ]
  },
  {
   "cell_type": "markdown",
   "metadata": {},
   "source": [
    "Run the code in the following cell to get the **final** evaluation metrics."
   ]
  },
  {
   "cell_type": "code",
   "execution_count": 45,
   "metadata": {},
   "outputs": [],
   "source": [
    "metrics = client.experiments.get_latest_metrics(experiment_run_uid)"
   ]
  },
  {
   "cell_type": "markdown",
   "metadata": {},
   "source": [
    "Run the code in the following cell to get the **all** evaluation metrics."
   ]
  },
  {
   "cell_type": "code",
   "execution_count": 46,
   "metadata": {},
   "outputs": [],
   "source": [
    "all_metrics = client.experiments.get_metrics(experiment_run_uid)"
   ]
  },
  {
   "cell_type": "markdown",
   "metadata": {},
   "source": [
    "#### Use plotly to visualize the training results."
   ]
  },
  {
   "cell_type": "code",
   "execution_count": null,
   "metadata": {
    "scrolled": true
   },
   "outputs": [],
   "source": [
    "!pip install cufflinks --upgrade"
   ]
  },
  {
   "cell_type": "code",
   "execution_count": 48,
   "metadata": {},
   "outputs": [
    {
     "data": {
      "text/html": [
       "<script>requirejs.config({paths: { 'plotly': ['https://cdn.plot.ly/plotly-latest.min']},});if(!window.Plotly) {{require(['plotly'],function(plotly) {window.Plotly=plotly;});}}</script>"
      ],
      "text/vnd.plotly.v1+html": [
       "<script>requirejs.config({paths: { 'plotly': ['https://cdn.plot.ly/plotly-latest.min']},});if(!window.Plotly) {{require(['plotly'],function(plotly) {window.Plotly=plotly;});}}</script>"
      ]
     },
     "metadata": {},
     "output_type": "display_data"
    }
   ],
   "source": [
    "import sys\n",
    "import pandas\n",
    "import plotly.plotly as py\n",
    "from plotly.offline import download_plotlyjs, init_notebook_mode, plot, iplot\n",
    "import cufflinks as cf\n",
    "import plotly.graph_objs as go\n",
    "\n",
    "init_notebook_mode(connected=True)\n",
    "sys.path.append(\"\".join([os.environ[\"HOME\"]])) "
   ]
  },
  {
   "cell_type": "markdown",
   "metadata": {},
   "source": [
    "Put your final metrics data into a pandas dataframe."
   ]
  },
  {
   "cell_type": "code",
   "execution_count": 49,
   "metadata": {},
   "outputs": [
    {
     "data": {
      "text/html": [
       "<div>\n",
       "<style scoped>\n",
       "    .dataframe tbody tr th:only-of-type {\n",
       "        vertical-align: middle;\n",
       "    }\n",
       "\n",
       "    .dataframe tbody tr th {\n",
       "        vertical-align: top;\n",
       "    }\n",
       "\n",
       "    .dataframe thead th {\n",
       "        text-align: right;\n",
       "    }\n",
       "</style>\n",
       "<table border=\"1\" class=\"dataframe\">\n",
       "  <thead>\n",
       "    <tr style=\"text-align: right;\">\n",
       "      <th></th>\n",
       "      <th>GUID</th>\n",
       "      <th>NAME</th>\n",
       "      <th>METRIC NAME</th>\n",
       "      <th>METRIC VALUE</th>\n",
       "    </tr>\n",
       "  </thead>\n",
       "  <tbody>\n",
       "    <tr>\n",
       "      <th>0</th>\n",
       "      <td>training-MKava-tig</td>\n",
       "      <td>MNIST_CNN</td>\n",
       "      <td>acc</td>\n",
       "      <td>0.985983</td>\n",
       "    </tr>\n",
       "    <tr>\n",
       "      <th>1</th>\n",
       "      <td>training-MKava-tig</td>\n",
       "      <td>MNIST_CNN</td>\n",
       "      <td>loss</td>\n",
       "      <td>0.047398</td>\n",
       "    </tr>\n",
       "    <tr>\n",
       "      <th>2</th>\n",
       "      <td>training-MKava-tig</td>\n",
       "      <td>MNIST_CNN</td>\n",
       "      <td>val_acc</td>\n",
       "      <td>0.988800</td>\n",
       "    </tr>\n",
       "    <tr>\n",
       "      <th>3</th>\n",
       "      <td>training-MKava-tig</td>\n",
       "      <td>MNIST_CNN</td>\n",
       "      <td>val_loss</td>\n",
       "      <td>0.032573</td>\n",
       "    </tr>\n",
       "    <tr>\n",
       "      <th>4</th>\n",
       "      <td>training-avaD--pig_0</td>\n",
       "      <td>MNIST_MLP</td>\n",
       "      <td>val_acc</td>\n",
       "      <td>0.961000</td>\n",
       "    </tr>\n",
       "    <tr>\n",
       "      <th>5</th>\n",
       "      <td>training-avaD--pig_0</td>\n",
       "      <td>MNIST_MLP</td>\n",
       "      <td>val_loss</td>\n",
       "      <td>0.123725</td>\n",
       "    </tr>\n",
       "    <tr>\n",
       "      <th>6</th>\n",
       "      <td>training-avaD--pig_1</td>\n",
       "      <td>MNIST_MLP</td>\n",
       "      <td>val_acc</td>\n",
       "      <td>0.979400</td>\n",
       "    </tr>\n",
       "    <tr>\n",
       "      <th>7</th>\n",
       "      <td>training-avaD--pig_1</td>\n",
       "      <td>MNIST_MLP</td>\n",
       "      <td>val_loss</td>\n",
       "      <td>0.078787</td>\n",
       "    </tr>\n",
       "    <tr>\n",
       "      <th>8</th>\n",
       "      <td>training-avaD--pig_2</td>\n",
       "      <td>MNIST_MLP</td>\n",
       "      <td>val_acc</td>\n",
       "      <td>0.978100</td>\n",
       "    </tr>\n",
       "    <tr>\n",
       "      <th>9</th>\n",
       "      <td>training-avaD--pig_2</td>\n",
       "      <td>MNIST_MLP</td>\n",
       "      <td>val_loss</td>\n",
       "      <td>0.071971</td>\n",
       "    </tr>\n",
       "  </tbody>\n",
       "</table>\n",
       "</div>"
      ],
      "text/plain": [
       "                   GUID       NAME METRIC NAME  METRIC VALUE\n",
       "0    training-MKava-tig  MNIST_CNN         acc      0.985983\n",
       "1    training-MKava-tig  MNIST_CNN        loss      0.047398\n",
       "2    training-MKava-tig  MNIST_CNN     val_acc      0.988800\n",
       "3    training-MKava-tig  MNIST_CNN    val_loss      0.032573\n",
       "4  training-avaD--pig_0  MNIST_MLP     val_acc      0.961000\n",
       "5  training-avaD--pig_0  MNIST_MLP    val_loss      0.123725\n",
       "6  training-avaD--pig_1  MNIST_MLP     val_acc      0.979400\n",
       "7  training-avaD--pig_1  MNIST_MLP    val_loss      0.078787\n",
       "8  training-avaD--pig_2  MNIST_MLP     val_acc      0.978100\n",
       "9  training-avaD--pig_2  MNIST_MLP    val_loss      0.071971"
      ]
     },
     "execution_count": 49,
     "metadata": {},
     "output_type": "execute_result"
    }
   ],
   "source": [
    "import pandas as pd\n",
    "\n",
    "metrics_df = pd.DataFrame(columns=['GUID', 'NAME', 'METRIC NAME', 'METRIC VALUE'])\n",
    "\n",
    "for m in metrics:\n",
    "    for v in m['metrics']['values']:\n",
    "            metrics_df = metrics_df.append({'GUID': m['training_guid'], 'NAME': m['training_reference_name'], 'METRIC NAME': v['name'], 'METRIC VALUE': v['value']}, ignore_index=True)\n",
    "    \n",
    "metrics_df"
   ]
  },
  {
   "cell_type": "markdown",
   "metadata": {},
   "source": [
    "Visualize the metrics data using a grouped bar chart."
   ]
  },
  {
   "cell_type": "code",
   "execution_count": 50,
   "metadata": {},
   "outputs": [
    {
     "data": {
      "application/vnd.plotly.v1+json": {
       "data": [
        {
         "name": "acc",
         "type": "bar",
         "x": [
          "training-MKava-tig (MNIST_CNN)"
         ],
         "y": [
          0.9859833121299744
         ]
        },
        {
         "name": "loss",
         "type": "bar",
         "x": [
          "training-MKava-tig (MNIST_CNN)"
         ],
         "y": [
          0.04739777743816376
         ]
        },
        {
         "name": "val_acc",
         "type": "bar",
         "x": [
          "training-MKava-tig (MNIST_CNN)",
          "training-avaD--pig_0 (MNIST_MLP)",
          "training-avaD--pig_1 (MNIST_MLP)",
          "training-avaD--pig_2 (MNIST_MLP)"
         ],
         "y": [
          0.9887999892234802,
          0.961,
          0.9794,
          0.9781
         ]
        },
        {
         "name": "val_loss",
         "type": "bar",
         "x": [
          "training-MKava-tig (MNIST_CNN)",
          "training-avaD--pig_0 (MNIST_MLP)",
          "training-avaD--pig_1 (MNIST_MLP)",
          "training-avaD--pig_2 (MNIST_MLP)"
         ],
         "y": [
          0.032572854310274124,
          0.12372470465004444,
          0.07878669709234964,
          0.071970842071902
         ]
        }
       ],
       "layout": {
        "barmode": "group"
       }
      },
      "text/html": [
       "<div id=\"4a968209-f1a5-47f9-980f-904976a0fed0\" style=\"height: 525px; width: 100%;\" class=\"plotly-graph-div\"></div><script type=\"text/javascript\">require([\"plotly\"], function(Plotly) { window.PLOTLYENV=window.PLOTLYENV || {};window.PLOTLYENV.BASE_URL=\"https://plot.ly\";Plotly.newPlot(\"4a968209-f1a5-47f9-980f-904976a0fed0\", [{\"y\": [0.9859833121299744], \"name\": \"acc\", \"x\": [\"training-MKava-tig (MNIST_CNN)\"], \"type\": \"bar\"}, {\"y\": [0.04739777743816376], \"name\": \"loss\", \"x\": [\"training-MKava-tig (MNIST_CNN)\"], \"type\": \"bar\"}, {\"y\": [0.9887999892234802, 0.961, 0.9794, 0.9781], \"name\": \"val_acc\", \"x\": [\"training-MKava-tig (MNIST_CNN)\", \"training-avaD--pig_0 (MNIST_MLP)\", \"training-avaD--pig_1 (MNIST_MLP)\", \"training-avaD--pig_2 (MNIST_MLP)\"], \"type\": \"bar\"}, {\"y\": [0.032572854310274124, 0.12372470465004444, 0.07878669709234964, 0.071970842071902], \"name\": \"val_loss\", \"x\": [\"training-MKava-tig (MNIST_CNN)\", \"training-avaD--pig_0 (MNIST_MLP)\", \"training-avaD--pig_1 (MNIST_MLP)\", \"training-avaD--pig_2 (MNIST_MLP)\"], \"type\": \"bar\"}], {\"barmode\": \"group\"}, {\"showLink\": true, \"linkText\": \"Export to plot.ly\"})});</script>"
      ],
      "text/vnd.plotly.v1+html": [
       "<div id=\"4a968209-f1a5-47f9-980f-904976a0fed0\" style=\"height: 525px; width: 100%;\" class=\"plotly-graph-div\"></div><script type=\"text/javascript\">require([\"plotly\"], function(Plotly) { window.PLOTLYENV=window.PLOTLYENV || {};window.PLOTLYENV.BASE_URL=\"https://plot.ly\";Plotly.newPlot(\"4a968209-f1a5-47f9-980f-904976a0fed0\", [{\"y\": [0.9859833121299744], \"name\": \"acc\", \"x\": [\"training-MKava-tig (MNIST_CNN)\"], \"type\": \"bar\"}, {\"y\": [0.04739777743816376], \"name\": \"loss\", \"x\": [\"training-MKava-tig (MNIST_CNN)\"], \"type\": \"bar\"}, {\"y\": [0.9887999892234802, 0.961, 0.9794, 0.9781], \"name\": \"val_acc\", \"x\": [\"training-MKava-tig (MNIST_CNN)\", \"training-avaD--pig_0 (MNIST_MLP)\", \"training-avaD--pig_1 (MNIST_MLP)\", \"training-avaD--pig_2 (MNIST_MLP)\"], \"type\": \"bar\"}, {\"y\": [0.032572854310274124, 0.12372470465004444, 0.07878669709234964, 0.071970842071902], \"name\": \"val_loss\", \"x\": [\"training-MKava-tig (MNIST_CNN)\", \"training-avaD--pig_0 (MNIST_MLP)\", \"training-avaD--pig_1 (MNIST_MLP)\", \"training-avaD--pig_2 (MNIST_MLP)\"], \"type\": \"bar\"}], {\"barmode\": \"group\"}, {\"showLink\": true, \"linkText\": \"Export to plot.ly\"})});</script>"
      ]
     },
     "metadata": {},
     "output_type": "display_data"
    }
   ],
   "source": [
    "data = []\n",
    "\n",
    "for i in list(pd.unique(metrics_df['METRIC NAME'])):\n",
    "    data.append(go.Bar(x=metrics_df[metrics_df['METRIC NAME'].isin([i])]['GUID'] + ' (' + metrics_df[metrics_df['METRIC NAME'].isin([i])]['NAME'] + ')', y=metrics_df[metrics_df['METRIC NAME'].isin([i])]['METRIC VALUE'], name=i))\n",
    "\n",
    "\n",
    "layout = go.Layout(\n",
    "    barmode='group'\n",
    ")\n",
    "\n",
    "fig = go.Figure(data=data, layout=layout)\n",
    "\n",
    "iplot(fig)"
   ]
  },
  {
   "cell_type": "markdown",
   "metadata": {},
   "source": [
    "## 5. Create the online deployment<a id=\"deploy\"></a>"
   ]
  },
  {
   "cell_type": "markdown",
   "metadata": {},
   "source": [
    "You can deploy the stored model as a web service (online) by running the code in the following cells.\n",
    "\n",
    "In this section, you will learn how to:\n",
    "- [5.1 Save the model](#savemod)\n",
    "- [5.2 Deploy the model](#createdep)"
   ]
  },
  {
   "cell_type": "markdown",
   "metadata": {},
   "source": [
    "### 5.1 Save the model <a id=\"savemod\"></a>"
   ]
  },
  {
   "cell_type": "markdown",
   "metadata": {},
   "source": [
    "#### Call this method to save the model in the WML repository."
   ]
  },
  {
   "cell_type": "code",
   "execution_count": 51,
   "metadata": {},
   "outputs": [
    {
     "name": "stdout",
     "output_type": "stream",
     "text": [
      "training-MKava-tig (MNIST_CNN)\n"
     ]
    }
   ],
   "source": [
    "status = client.experiments.get_status(experiment_run_uid)\n",
    "best_model_uid = status['best_results']['experiment_best_model']['training_guid']\n",
    "best_model_name = status['best_results']['experiment_best_model']['training_reference_name']\n",
    "\n",
    "print(best_model_uid + ' (' +  best_model_name  + ')')"
   ]
  },
  {
   "cell_type": "code",
   "execution_count": 52,
   "metadata": {},
   "outputs": [],
   "source": [
    "saved_model_details = client.repository.store_model(best_model_uid, {'name': 'MNIST best model'})"
   ]
  },
  {
   "cell_type": "markdown",
   "metadata": {},
   "source": [
    "**Tip:** Run the code below to extract the stored model guid from the dictionary."
   ]
  },
  {
   "cell_type": "code",
   "execution_count": 53,
   "metadata": {},
   "outputs": [
    {
     "name": "stdout",
     "output_type": "stream",
     "text": [
      "Saved model guid: e113ea13-55f6-4775-ae2b-aa62616d3631\n"
     ]
    }
   ],
   "source": [
    "model_guid = client.repository.get_model_uid(saved_model_details)\n",
    "print(\"Saved model guid: \" + model_guid)"
   ]
  },
  {
   "cell_type": "markdown",
   "metadata": {},
   "source": [
    "#### Call this method to list the stored models."
   ]
  },
  {
   "cell_type": "code",
   "execution_count": 54,
   "metadata": {},
   "outputs": [
    {
     "name": "stdout",
     "output_type": "stream",
     "text": [
      "------------------------------------  ----------------  ------------------------  --------------\n",
      "GUID                                  NAME              CREATED                   FRAMEWORK\n",
      "e113ea13-55f6-4775-ae2b-aa62616d3631  MNIST best model  2018-08-22T13:01:45.813Z  tensorflow-1.5\n",
      "------------------------------------  ----------------  ------------------------  --------------\n"
     ]
    }
   ],
   "source": [
    "client.repository.list_models()"
   ]
  },
  {
   "cell_type": "markdown",
   "metadata": {},
   "source": [
    "### 5.2 Deploy the model<a id=\"createdep\"></a>"
   ]
  },
  {
   "cell_type": "markdown",
   "metadata": {},
   "source": [
    "You can deploy the stored model as a web service (online) by running the code in the following cells."
   ]
  },
  {
   "cell_type": "code",
   "execution_count": 55,
   "metadata": {},
   "outputs": [
    {
     "name": "stdout",
     "output_type": "stream",
     "text": [
      "\n",
      "\n",
      "#######################################################################################\n",
      "\n",
      "Synchronous deployment creation for uid: 'e113ea13-55f6-4775-ae2b-aa62616d3631' started\n",
      "\n",
      "#######################################################################################\n",
      "\n",
      "\n",
      "INITIALIZING\n",
      "DEPLOY_IN_PROGRESS..\n",
      "DEPLOY_SUCCESS\n",
      "\n",
      "\n",
      "------------------------------------------------------------------------------------------------\n",
      "Successfully finished deployment creation, deployment_uid='43e90013-710d-446e-96a0-1b2627ff2b23'\n",
      "------------------------------------------------------------------------------------------------\n",
      "\n",
      "\n"
     ]
    }
   ],
   "source": [
    "deployment_details = client.deployments.create(model_guid, name=\"MNIST keras deployment\")"
   ]
  },
  {
   "cell_type": "markdown",
   "metadata": {},
   "source": [
    "Extract the `scoring endpoint` from the deployment details."
   ]
  },
  {
   "cell_type": "code",
   "execution_count": 56,
   "metadata": {},
   "outputs": [
    {
     "name": "stdout",
     "output_type": "stream",
     "text": [
      "https://ibm-watson-ml.mybluemix.net/v3/wml_instances/d0755448-6eb4-425a-b35b-479be91ff2d5/deployments/43e90013-710d-446e-96a0-1b2627ff2b23/online\n"
     ]
    }
   ],
   "source": [
    "scoring_url = client.deployments.get_scoring_url(deployment_details)\n",
    "print(scoring_url)"
   ]
  },
  {
   "cell_type": "markdown",
   "metadata": {
    "collapsed": true
   },
   "source": [
    "## 6. Score data<a id=\"scoring\"></a>"
   ]
  },
  {
   "cell_type": "markdown",
   "metadata": {},
   "source": [
    "Prepare the sample scoring data to score the deployed model."
   ]
  },
  {
   "cell_type": "code",
   "execution_count": 57,
   "metadata": {},
   "outputs": [
    {
     "name": "stdout",
     "output_type": "stream",
     "text": [
      "Downloading data from https://s3.amazonaws.com/img-datasets/mnist.npz\n",
      "11493376/11490434 [==============================] - 1s 0us/step\n"
     ]
    }
   ],
   "source": [
    "from keras.datasets import mnist\n",
    "\n",
    "(x_train, y_train), (x_test, y_test) = mnist.load_data()"
   ]
  },
  {
   "cell_type": "markdown",
   "metadata": {},
   "source": [
    "now, plot two digits."
   ]
  },
  {
   "cell_type": "code",
   "execution_count": 58,
   "metadata": {},
   "outputs": [],
   "source": [
    "%matplotlib inline\n",
    "import matplotlib.pyplot as plt\n",
    "import numpy as np"
   ]
  },
  {
   "cell_type": "code",
   "execution_count": 59,
   "metadata": {},
   "outputs": [
    {
     "data": {
      "image/png": "[encoded data removed]",
      "text/plain": [
       "<matplotlib.figure.Figure at 0x7f9d0b266908>"
      ]
     },
     "metadata": {},
     "output_type": "display_data"
    }
   ],
   "source": [
    "for i, image in enumerate([x_test[0], x_test[1]]):\n",
    "    plt.subplot(2, 2, i + 1)\n",
    "    plt.axis('off')\n",
    "    plt.imshow(image, cmap=plt.cm.gray_r, interpolation='nearest')"
   ]
  },
  {
   "cell_type": "markdown",
   "metadata": {},
   "source": [
    "Your input node expects to get data with the shape (28,28,1) so you need to reshape your two digits."
   ]
  },
  {
   "cell_type": "code",
   "execution_count": 60,
   "metadata": {},
   "outputs": [],
   "source": [
    "image_1 = np.expand_dims(x_test[0], axis=2)\n",
    "image_2 = np.expand_dims(x_test[1], axis=2)"
   ]
  },
  {
   "cell_type": "markdown",
   "metadata": {},
   "source": [
    "Prepare the scoring payload and score."
   ]
  },
  {
   "cell_type": "code",
   "execution_count": 61,
   "metadata": {},
   "outputs": [],
   "source": [
    "scoring_data = {'values': [image_1.tolist(), image_2.tolist()]}"
   ]
  },
  {
   "cell_type": "code",
   "execution_count": 62,
   "metadata": {},
   "outputs": [
    {
     "name": "stdout",
     "output_type": "stream",
     "text": [
      "Scoring result: {'values': [[[0.0, 0.0, 0.0, 0.0, 0.0, 0.0, 0.0, 1.0, 0.0, 0.0], 7, [0.0, 0.0, 0.0, 0.0, 0.0, 0.0, 0.0, 1.0, 0.0, 0.0]], [[0.0, 0.0, 1.0, 0.0, 0.0, 0.0, 0.0, 0.0, 0.0, 0.0], 2, [0.0, 0.0, 1.0, 0.0, 0.0, 0.0, 0.0, 0.0, 0.0, 0.0]]], 'fields': ['prediction', 'prediction_classes', 'probability']}\n"
     ]
    }
   ],
   "source": [
    "predictions = client.deployments.score(scoring_url, scoring_data)\n",
    "print(\"Scoring result: \" + str(predictions))"
   ]
  },
  {
   "cell_type": "markdown",
   "metadata": {
    "collapsed": true
   },
   "source": [
    "<a id=\"summary\"></a>\n",
    "## 7. Summary and next steps     "
   ]
  },
  {
   "cell_type": "markdown",
   "metadata": {
    "collapsed": true
   },
   "source": [
    "You successfully completed this notebook! \n",
    " \n",
    "You learned how to use `watson-machine-learning-client` to train and score Keras models. \n",
    " \n",
    "Check out our <a href=\"https://dataplatform.ibm.com/docs/content/analyze-data/wml-setup.html\" target=\"_blank\" rel=\"noopener noreferrer\">Online Documentation</a> for more samples, tutorials, documentation, how-tos, and blog posts. "
   ]
  },
  {
   "cell_type": "markdown",
   "metadata": {},
   "source": [
    "### Citation\n",
    "Y. LeCun, L. Bottou, Y. Bengio, and P. Haffner. \"Gradient-based learning applied to document recognition.\" Proceedings of the IEEE, 86(11):2278-2324, November 1998."
   ]
  },
  {
   "cell_type": "markdown",
   "metadata": {},
   "source": [
    "### Authors\n",
    "\n",
    "**Lukasz Cmielowski**, PhD, is an Automation Architect and Data Scientist at IBM with a track record of developing enterprise-level applications that substantially increases clients' ability to turn data into actionable knowledge."
   ]
  },
  {
   "cell_type": "markdown",
   "metadata": {},
   "source": [
    "Copyright © 2017, 2018 IBM. This notebook and its source code are released under the terms of the MIT License."
   ]
  },
  {
   "cell_type": "markdown",
   "metadata": {},
   "source": [
    "<div style=\"background:#F5F7FA; height:110px; padding: 2em; font-size:14px;\">\n",
    "<span style=\"font-size:18px;color:#152935;\">Love this notebook? </span>\n",
    "<span style=\"font-size:15px;color:#152935;float:right;margin-right:40px;\">Don't have an account yet?</span><br>\n",
    "<span style=\"color:#5A6872;\">Share it with your colleagues and help them discover the power of Watson Studio!</span>\n",
    "<span style=\"border: 1px solid #3d70b2;padding:8px;float:right;margin-right:40px; color:#3d70b2;\"><a href=\"https://ibm.co/wsnotebooks\" target=\"_blank\" style=\"color: #3d70b2;text-decoration: none;\">Sign Up</a></span><br>\n",
    "</div>"
   ]
  }
 ],
 "metadata": {
  "kernelspec": {
   "display_name": "Python 3.5",
   "language": "python",
   "name": "python3"
  },
  "language_info": {
   "codemirror_mode": {
    "name": "ipython",
    "version": 3
   },
   "file_extension": ".py",
   "mimetype": "text/x-python",
   "name": "python",
   "nbconvert_exporter": "python",
   "pygments_lexer": "ipython3",
   "version": "3.5.5"
  }
 },
 "nbformat": 4,
 "nbformat_minor": 1
}
