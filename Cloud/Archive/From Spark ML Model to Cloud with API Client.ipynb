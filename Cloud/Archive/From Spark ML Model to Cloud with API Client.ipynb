{
 "cells": [
  {
   "cell_type": "markdown",
   "metadata": {},
   "source": [
    "<div style=\"background:#F5F7FA; height:100px; padding: 2em; font-size:14px;\">\n",
    "<span style=\"font-size:18px;color:#152935;\">Want to do more?</span><span style=\"border: 1px solid #3d70b2;padding: 15px;float:right;margin-right:40px; color:#3d70b2; \"><a href=\"https://ibm.co/wsnotebooks\" target=\"_blank\" style=\"color: #3d70b2;text-decoration: none;\">Sign Up</a></span><br>\n",
    "<span style=\"color:#5A6872;\"> Try out this notebook with your free trial of IBM Watson Studio.</span>\n",
    "</div>"
   ]
  },
  {
   "cell_type": "markdown",
   "metadata": {},
   "source": [
    "<table style=\"border: none\" align=\"left\">\n",
    "   <tr style=\"border: none\">\n",
    "      <th style=\"border: none\"><font face=\"verdana\" size=\"5\" color=\"black\"><b>From Local Spark MLlib Model to Cloud with Watson Machine Learning Client</b></th>\n",
    "      <th style=\"border: none\"><img src=\"https://github.com/pmservice/customer-satisfaction-prediction/blob/master/app/static/images/ml_icon_gray.png?raw=true\" alt=\"Watson Machine Learning icon\" height=\"40\" width=\"40\"></th>\n",
    "   </tr>\n",
    "   <tr style=\"border: none\">\n",
    "       <th style=\"border: none\"><img src=\"https://www-03.ibm.com/services/learning/images/journey_watson_wat_machine_learning_600x280.jpg\" alt=\"Icon\"> </th>\n",
    "   </tr>\n",
    "</table>"
   ]
  },
  {
   "cell_type": "markdown",
   "metadata": {},
   "source": [
    "This notebook contains steps and code to work with **``watson-machine-learning-client``** library. This notebook introduces commands for getting data, model persistance to Watson Machine Learning repository, model deployment and scoring.\n",
    "\n",
    "Some familiarity with Python is helpful. This notebook uses Python 3.5 and Apache Spark 2.1.\n",
    "\n",
    "You will use publicly available data \"GoSales Transactions for Naive Bayes Model\" about anonymous outdoor equipment purchase to predict clients' interests in terms of product line like: golf accessories, camping equipement and others.\n",
    "\n",
    "\n",
    "## Learning goals\n",
    "\n",
    "The learning goals of this notebook are:\n",
    "- Load and explore data\n",
    "- Prepare data for training and evaluation\n",
    "- Create spark ml pipeline\n",
    "- Train and evaluate model\n",
    "- Persist local model in Watson Machine Learning repository using client library\n",
    "- Deploy model for online scoring using client library\n",
    "- Score sample records using client library\n",
    "\n",
    "\n",
    "## Contents\n",
    "\n",
    "This notebook contains the following parts:\n",
    "\n",
    "1.\t[Setup](#setup)\n",
    "2.\t[Load and explore data](#load)\n",
    "3.\t[Create an Apache Spark machine learning model](#model)\n",
    "4.\t[Persist created model using api client](#persistance)\n",
    "5.\t[Deploy and score in a Cloud using api client](#scoring)\n",
    "6.\t[Summary and next steps](#summary)"
   ]
  },
  {
   "cell_type": "markdown",
   "metadata": {},
   "source": [
    "<a id=\"setup\"></a>\n",
    "## 1. Setup\n",
    "\n",
    "Before you use the sample code in this notebook, you must perform the following setup tasks:\n",
    "\n",
    "-  Create a <a href=\"https://console.ng.bluemix.net/catalog/services/machine-learning/\" target=\"_blank\" rel=\"noopener noreferrer\">Watson Machine Learning Service</a> instance (a free plan is offered). \n",
    "-  Make sure that you are using a Spark 2.1 kernel."
   ]
  },
  {
   "cell_type": "markdown",
   "metadata": {},
   "source": [
    "<a id=\"load\"></a>\n",
    "## 2. Load and explore data"
   ]
  },
  {
   "cell_type": "markdown",
   "metadata": {},
   "source": [
    "In this section you will load the data as an Apache® Spark DataFrame and perform a basic exploration.\n",
    "\n",
    "Load the data to the Spark DataFrame by using `wget` to upload the data to gpfs and then `read` method. "
   ]
  },
  {
   "cell_type": "markdown",
   "metadata": {},
   "source": [
    "**Example**: First, you need to install required packages. You can do it by running the following code. Run it only one time."
   ]
  },
  {
   "cell_type": "code",
   "execution_count": null,
   "metadata": {},
   "outputs": [],
   "source": [
    "#!pip install wget --upgrade"
   ]
  },
  {
   "cell_type": "code",
   "execution_count": 1,
   "metadata": {},
   "outputs": [],
   "source": [
    "import wget\n",
    "import json\n",
    "import os"
   ]
  },
  {
   "cell_type": "code",
   "execution_count": 2,
   "metadata": {},
   "outputs": [
    {
     "name": "stdout",
     "output_type": "stream",
     "text": [
      "GoSales_Tx_NaiveBayes.csv\n"
     ]
    }
   ],
   "source": [
    "filename = 'GoSales_Tx_NaiveBayes.csv'\n",
    "\n",
    "if not os.path.isfile(filename):\n",
    "    link_to_data = 'https://apsportal.ibm.com/exchange-api/v1/entries/8044492073eb964f46597b4be06ff5ea/data?accessKey=9561295fa407698694b1e254d0099600'\n",
    "    filename = wget.download(link_to_data)\n",
    "\n",
    "print(filename)"
   ]
  },
  {
   "cell_type": "markdown",
   "metadata": {},
   "source": [
    "The csv file `GoSales_Tx_NaiveBayes.csv` is availble on gpfs now. Load the file to Apache® Spark DataFrame using code below."
   ]
  },
  {
   "cell_type": "code",
   "execution_count": 3,
   "metadata": {},
   "outputs": [],
   "source": [
    "#spark = SparkSession.builder.getOrCreate()\n",
    "\n",
    "df_data = spark.read\\\n",
    "  .format('org.apache.spark.sql.execution.datasources.csv.CSVFileFormat')\\\n",
    "  .option('header', 'true')\\\n",
    "  .option('inferSchema', 'true')\\\n",
    "  .load(filename)"
   ]
  },
  {
   "cell_type": "markdown",
   "metadata": {},
   "source": [
    "Explore the loaded data by using the following Apache® Spark DataFrame methods:\n",
    "-  print schema\n",
    "-  print top ten records\n",
    "-  count all records"
   ]
  },
  {
   "cell_type": "code",
   "execution_count": 4,
   "metadata": {},
   "outputs": [
    {
     "name": "stdout",
     "output_type": "stream",
     "text": [
      "root\n",
      " |-- PRODUCT_LINE: string (nullable = true)\n",
      " |-- GENDER: string (nullable = true)\n",
      " |-- AGE: integer (nullable = true)\n",
      " |-- MARITAL_STATUS: string (nullable = true)\n",
      " |-- PROFESSION: string (nullable = true)\n",
      "\n"
     ]
    }
   ],
   "source": [
    "df_data.printSchema()"
   ]
  },
  {
   "cell_type": "markdown",
   "metadata": {},
   "source": [
    "As you can see, the data contains five fields. PRODUCT_LINE field is the one we would like to predict (label)."
   ]
  },
  {
   "cell_type": "code",
   "execution_count": 5,
   "metadata": {},
   "outputs": [
    {
     "name": "stdout",
     "output_type": "stream",
     "text": [
      "+--------------------+------+---+--------------+------------+\n",
      "|        PRODUCT_LINE|GENDER|AGE|MARITAL_STATUS|  PROFESSION|\n",
      "+--------------------+------+---+--------------+------------+\n",
      "|Personal Accessories|     M| 27|        Single|Professional|\n",
      "|Personal Accessories|     F| 39|       Married|       Other|\n",
      "|Mountaineering Eq...|     F| 39|       Married|       Other|\n",
      "|Personal Accessories|     F| 56|   Unspecified| Hospitality|\n",
      "|      Golf Equipment|     M| 45|       Married|     Retired|\n",
      "|      Golf Equipment|     M| 45|       Married|     Retired|\n",
      "|   Camping Equipment|     F| 39|       Married|       Other|\n",
      "|   Camping Equipment|     F| 49|       Married|       Other|\n",
      "|  Outdoor Protection|     F| 49|       Married|       Other|\n",
      "|      Golf Equipment|     M| 47|       Married|     Retired|\n",
      "|      Golf Equipment|     M| 47|       Married|     Retired|\n",
      "|Mountaineering Eq...|     M| 21|        Single|      Retail|\n",
      "|Personal Accessories|     F| 66|       Married|       Other|\n",
      "|   Camping Equipment|     F| 35|       Married|Professional|\n",
      "|Mountaineering Eq...|     M| 20|        Single|       Sales|\n",
      "|Mountaineering Eq...|     M| 20|        Single|       Sales|\n",
      "|Mountaineering Eq...|     M| 20|        Single|       Sales|\n",
      "|Personal Accessories|     F| 37|        Single|       Other|\n",
      "|   Camping Equipment|     M| 42|       Married|       Other|\n",
      "|   Camping Equipment|     F| 24|       Married|      Retail|\n",
      "+--------------------+------+---+--------------+------------+\n",
      "only showing top 20 rows\n",
      "\n"
     ]
    }
   ],
   "source": [
    "df_data.show()"
   ]
  },
  {
   "cell_type": "code",
   "execution_count": 6,
   "metadata": {},
   "outputs": [
    {
     "data": {
      "text/plain": [
       "60252"
      ]
     },
     "execution_count": 6,
     "metadata": {},
     "output_type": "execute_result"
    }
   ],
   "source": [
    "df_data.count()"
   ]
  },
  {
   "cell_type": "markdown",
   "metadata": {},
   "source": [
    "As you can see, the data set contains 60252 records."
   ]
  },
  {
   "cell_type": "markdown",
   "metadata": {},
   "source": [
    "<a id=\"model\"></a>\n",
    "## 3. Create an Apache® Spark machine learning model\n",
    "\n",
    "In this section you will learn how to prepare data, create an Apache® Spark machine learning pipeline, and train a model."
   ]
  },
  {
   "cell_type": "markdown",
   "metadata": {},
   "source": [
    "### 3.1: Prepare data\n",
    "\n",
    "In this subsection you will split your data into: train, test and predict datasets."
   ]
  },
  {
   "cell_type": "code",
   "execution_count": 7,
   "metadata": {},
   "outputs": [
    {
     "name": "stdout",
     "output_type": "stream",
     "text": [
      "Number of training records: 48176\n",
      "Number of testing records : 12076\n"
     ]
    }
   ],
   "source": [
    "splitted_data = df_data.randomSplit([0.8, 0.2], 24)\n",
    "train_data = splitted_data[0]\n",
    "test_data = splitted_data[1]\n",
    "\n",
    "print(\"Number of training records: \" + str(train_data.count()))\n",
    "print(\"Number of testing records : \" + str(test_data.count()))"
   ]
  },
  {
   "cell_type": "markdown",
   "metadata": {},
   "source": [
    "As you can see our data has been successfully split into three datasets: \n",
    "\n",
    "-  The train data set, which is the largest group, is used for training.\n",
    "-  The test data set will be used for model evaluation and is used to test the assumptions of the model."
   ]
  },
  {
   "cell_type": "markdown",
   "metadata": {},
   "source": [
    "### 3.2: Create pipeline and train a model"
   ]
  },
  {
   "cell_type": "markdown",
   "metadata": {},
   "source": [
    "In this section you will create an Apache® Spark machine learning pipeline and then train the model."
   ]
  },
  {
   "cell_type": "markdown",
   "metadata": {},
   "source": [
    "In the first step you need to import the Apache® Spark machine learning packages that will be needed in the subsequent steps."
   ]
  },
  {
   "cell_type": "code",
   "execution_count": 8,
   "metadata": {},
   "outputs": [],
   "source": [
    "from pyspark.ml.feature import OneHotEncoder, StringIndexer, IndexToString, VectorAssembler\n",
    "from pyspark.ml.classification import RandomForestClassifier\n",
    "from pyspark.ml.evaluation import MulticlassClassificationEvaluator\n",
    "from pyspark.ml import Pipeline, Model"
   ]
  },
  {
   "cell_type": "markdown",
   "metadata": {},
   "source": [
    "In the following step, convert all the string fields to numeric ones by using the StringIndexer transformer."
   ]
  },
  {
   "cell_type": "code",
   "execution_count": 9,
   "metadata": {},
   "outputs": [],
   "source": [
    "stringIndexer_label = StringIndexer(inputCol=\"PRODUCT_LINE\", outputCol=\"label\").fit(df_data)\n",
    "stringIndexer_prof = StringIndexer(inputCol=\"PROFESSION\", outputCol=\"PROFESSION_IX\")\n",
    "stringIndexer_gend = StringIndexer(inputCol=\"GENDER\", outputCol=\"GENDER_IX\")\n",
    "stringIndexer_mar = StringIndexer(inputCol=\"MARITAL_STATUS\", outputCol=\"MARITAL_STATUS_IX\")"
   ]
  },
  {
   "cell_type": "markdown",
   "metadata": {},
   "source": [
    "In the following step, create a feature vector by combining all features together."
   ]
  },
  {
   "cell_type": "code",
   "execution_count": 10,
   "metadata": {},
   "outputs": [],
   "source": [
    "vectorAssembler_features = VectorAssembler(inputCols=[\"GENDER_IX\", \"AGE\", \"MARITAL_STATUS_IX\", \"PROFESSION_IX\"], outputCol=\"features\")"
   ]
  },
  {
   "cell_type": "markdown",
   "metadata": {},
   "source": [
    "Next, define estimators you want to use for classification. Random Forest is used in the following example."
   ]
  },
  {
   "cell_type": "code",
   "execution_count": 11,
   "metadata": {},
   "outputs": [],
   "source": [
    "rf = RandomForestClassifier(labelCol=\"label\", featuresCol=\"features\")"
   ]
  },
  {
   "cell_type": "markdown",
   "metadata": {},
   "source": [
    "Finally, indexed labels back to original labels."
   ]
  },
  {
   "cell_type": "code",
   "execution_count": 12,
   "metadata": {},
   "outputs": [],
   "source": [
    "labelConverter = IndexToString(inputCol=\"prediction\", outputCol=\"predictedLabel\", labels=stringIndexer_label.labels)"
   ]
  },
  {
   "cell_type": "markdown",
   "metadata": {},
   "source": [
    "Let's build the pipeline now. A pipeline consists of transformers and an estimator."
   ]
  },
  {
   "cell_type": "code",
   "execution_count": 13,
   "metadata": {},
   "outputs": [],
   "source": [
    "pipeline_rf = Pipeline(stages=[stringIndexer_label, stringIndexer_prof, stringIndexer_gend, stringIndexer_mar, vectorAssembler_features, rf, labelConverter])"
   ]
  },
  {
   "cell_type": "markdown",
   "metadata": {},
   "source": [
    "Now, you can train your Random Forest model by using the previously defined **pipeline** and **train data**."
   ]
  },
  {
   "cell_type": "code",
   "execution_count": 14,
   "metadata": {},
   "outputs": [],
   "source": [
    "model_rf = pipeline_rf.fit(train_data)"
   ]
  },
  {
   "cell_type": "markdown",
   "metadata": {},
   "source": [
    "You can check your **model accuracy** now. To evaluate the model, use **test data**."
   ]
  },
  {
   "cell_type": "code",
   "execution_count": 15,
   "metadata": {},
   "outputs": [
    {
     "name": "stdout",
     "output_type": "stream",
     "text": [
      "Accuracy = 0.584796\n"
     ]
    }
   ],
   "source": [
    "predictions = model_rf.transform(test_data)\n",
    "evaluatorRF = MulticlassClassificationEvaluator(labelCol=\"label\", predictionCol=\"prediction\", metricName=\"accuracy\")\n",
    "accuracy = evaluatorRF.evaluate(predictions)\n",
    "\n",
    "print(\"Accuracy = %g\" % accuracy)"
   ]
  },
  {
   "cell_type": "markdown",
   "metadata": {
    "collapsed": true
   },
   "source": [
    "You can tune your model now to achieve better accuracy. For simplicity of this example tuning section is omitted."
   ]
  },
  {
   "cell_type": "markdown",
   "metadata": {
    "collapsed": true
   },
   "source": [
    "<a id=\"persistence\"></a>\n",
    "## 4. Persist created model with ``watson-machine-learning-client``"
   ]
  },
  {
   "cell_type": "markdown",
   "metadata": {},
   "source": [
    "In this section you will learn how to store your model in Watson Machine Learning repository by using common python client."
   ]
  },
  {
   "cell_type": "markdown",
   "metadata": {
    "collapsed": true
   },
   "source": [
    "#### First, you must install client libraries from pypi"
   ]
  },
  {
   "cell_type": "code",
   "execution_count": 16,
   "metadata": {
    "scrolled": true
   },
   "outputs": [
    {
     "name": "stdout",
     "output_type": "stream",
     "text": [
      "Collecting watson-machine-learning-client\n",
      "  Downloading watson_machine_learning_client-0.3.902-py3-none-any.whl (441kB)\n",
      "\u001b[K    100% |████████████████████████████████| 450kB 1.3MB/s eta 0:00:01\n",
      "\u001b[?25hCollecting tqdm (from watson-machine-learning-client)\n",
      "  Downloading tqdm-4.19.6-py2.py3-none-any.whl (52kB)\n",
      "\u001b[K    100% |████████████████████████████████| 61kB 2.6MB/s eta 0:00:01\n",
      "\u001b[?25hRequirement already up-to-date: tabulate in /usr/local/src/conda3_runtime.v28/home/envs/DSX-Python35-Spark/lib/python3.5/site-packages (from watson-machine-learning-client)\n",
      "Requirement already up-to-date: urllib3 in /usr/local/src/conda3_runtime.v28/home/envs/DSX-Python35-Spark/lib/python3.5/site-packages (from watson-machine-learning-client)\n",
      "Requirement already up-to-date: certifi in /gpfs/global_fs01/sym_shared/YPProdSpark/user/s778-bfb6f75aebc10f-9bb95b1f072f/.local/lib/python3.5/site-packages (from watson-machine-learning-client)\n",
      "Collecting pandas (from watson-machine-learning-client)\n",
      "  Downloading pandas-0.22.0-cp35-cp35m-manylinux1_x86_64.whl (25.7MB)\n",
      "\u001b[K    100% |████████████████████████████████| 25.7MB 46kB/s  eta 0:00:01\n",
      "\u001b[?25hCollecting lomond (from watson-machine-learning-client)\n",
      "  Downloading lomond-0.1.13-py2.py3-none-any.whl\n",
      "Requirement already up-to-date: requests in /usr/local/src/conda3_runtime.v28/home/envs/DSX-Python35-Spark/lib/python3.5/site-packages (from watson-machine-learning-client)\n",
      "Requirement already up-to-date: python-dateutil>=2 in /usr/local/src/conda3_runtime.v28/home/envs/DSX-Python35-Spark/lib/python3.5/site-packages (from pandas->watson-machine-learning-client)\n",
      "Collecting numpy>=1.9.0 (from pandas->watson-machine-learning-client)\n",
      "  Downloading numpy-1.14.1-cp35-cp35m-manylinux1_x86_64.whl (12.1MB)\n",
      "\u001b[K    100% |████████████████████████████████| 12.1MB 99kB/s  eta 0:00:01    88% |████████████████████████████▍   | 10.8MB 45.9MB/s eta 0:00:01\n",
      "\u001b[?25hCollecting pytz>=2011k (from pandas->watson-machine-learning-client)\n",
      "  Downloading pytz-2018.3-py2.py3-none-any.whl (509kB)\n",
      "\u001b[K    100% |████████████████████████████████| 512kB 437kB/s eta 0:00:01\n",
      "\u001b[?25hRequirement already up-to-date: six>=1.10.0 in /usr/local/src/conda3_runtime.v28/home/envs/DSX-Python35-Spark/lib/python3.5/site-packages (from lomond->watson-machine-learning-client)\n",
      "Requirement already up-to-date: chardet<3.1.0,>=3.0.2 in /usr/local/src/conda3_runtime.v28/home/envs/DSX-Python35-Spark/lib/python3.5/site-packages (from requests->watson-machine-learning-client)\n",
      "Requirement already up-to-date: idna<2.7,>=2.5 in /usr/local/src/conda3_runtime.v28/home/envs/DSX-Python35-Spark/lib/python3.5/site-packages (from requests->watson-machine-learning-client)\n",
      "Installing collected packages: tqdm, numpy, pytz, pandas, lomond, watson-machine-learning-client\n",
      "Successfully installed lomond-0.1.13 numpy-1.14.1 pandas-0.22.0 pytz-2018.3 tqdm-4.19.6 watson-machine-learning-client-0.3.902\n"
     ]
    }
   ],
   "source": [
    "!pip install watson-machine-learning-client --upgrade"
   ]
  },
  {
   "cell_type": "markdown",
   "metadata": {
    "collapsed": true
   },
   "source": [
    "Import installed client by running below code."
   ]
  },
  {
   "cell_type": "code",
   "execution_count": null,
   "metadata": {},
   "outputs": [],
   "source": [
    "from watson_machine_learning_client import WatsonMachineLearningAPIClient"
   ]
  },
  {
   "cell_type": "markdown",
   "metadata": {},
   "source": [
    "**You can check sphinx documentation for watson-machine-learning-client by visiting the <a href=\"https://wml-api-pyclient.mybluemix.net\" target=\"_blank\" rel=\"noopener noreferrer\">documentation webpage</a>.**"
   ]
  },
  {
   "cell_type": "markdown",
   "metadata": {},
   "source": [
    "### 4.1: Work with your instance"
   ]
  },
  {
   "cell_type": "markdown",
   "metadata": {
    "collapsed": true
   },
   "source": [
    "Authenticate to Watson Machine Learning service on IBM Cloud."
   ]
  },
  {
   "cell_type": "markdown",
   "metadata": {},
   "source": [
    "**Action**: Put authentication information from your instance of Watson Machine Learning service here.</div>"
   ]
  },
  {
   "cell_type": "code",
   "execution_count": 18,
   "metadata": {},
   "outputs": [],
   "source": [
    "wml_credentials={\n",
    "  \"url\": \"***\",\n",
    "  \"access_key\": \"***\",\n",
    "  \"username\": \"***\",\n",
    "  \"password\": \"***\",\n",
    "  \"instance_id\": \"***\"\n",
    "}"
   ]
  },
  {
   "cell_type": "markdown",
   "metadata": {
    "collapsed": true
   },
   "source": [
    "**Tip**: Credentials can be found on **Service Credentials** tab of service instance created in IBM Cloud. If you cannot see **instance_id** field in **Serice Credentials** generate new credentials by pressing **New credential (+)** button. "
   ]
  },
  {
   "cell_type": "markdown",
   "metadata": {},
   "source": [
    "#### Create API client by running below code."
   ]
  },
  {
   "cell_type": "code",
   "execution_count": 19,
   "metadata": {},
   "outputs": [],
   "source": [
    "client = WatsonMachineLearningAPIClient(wml_credentials)"
   ]
  },
  {
   "cell_type": "markdown",
   "metadata": {},
   "source": [
    "#### Get instance details."
   ]
  },
  {
   "cell_type": "code",
   "execution_count": 20,
   "metadata": {
    "scrolled": true
   },
   "outputs": [
    {
     "name": "stdout",
     "output_type": "stream",
     "text": [
      "{\n",
      "  \"metadata\": {\n",
      "    \"created_at\": \"2018-02-19T14:57:53.275Z\",\n",
      "    \"url\": \"https://ibm-watson-ml.mybluemix.net/v3/wml_instances/8f11cfac-57ca-4a0c-9815-7abbd7a72491\",\n",
      "    \"modified_at\": \"2018-02-19T14:57:53.275Z\",\n",
      "    \"guid\": \"8f11cfac-57ca-4a0c-9815-7abbd7a72491\"\n",
      "  },\n",
      "  \"entity\": {\n",
      "    \"region\": \"us-south\",\n",
      "    \"account\": {\n",
      "      \"id\": \"e2cb778ce7da6d8945e99e5f02b48a43\",\n",
      "      \"type\": \"TRIAL\",\n",
      "      \"name\": \"Melanie Manley's Account\"\n",
      "    },\n",
      "    \"deployments\": {\n",
      "      \"url\": \"https://ibm-watson-ml.mybluemix.net/v3/wml_instances/8f11cfac-57ca-4a0c-9815-7abbd7a72491/deployments\"\n",
      "    },\n",
      "    \"source\": \"Bluemix\",\n",
      "    \"status\": \"Active\",\n",
      "    \"plan_id\": \"3f6acf43-ede8-413a-ac69-f8af3bb0cbfe\",\n",
      "    \"published_models\": {\n",
      "      \"url\": \"https://ibm-watson-ml.mybluemix.net/v3/wml_instances/8f11cfac-57ca-4a0c-9815-7abbd7a72491/published_models\"\n",
      "    },\n",
      "    \"organization_guid\": \"411fda6f-bb89-452d-98f2-fb852198f154\",\n",
      "    \"plan\": \"lite\",\n",
      "    \"space_guid\": \"f6ef3ba5-8f4e-4614-a10f-9bb95b1f072f\",\n",
      "    \"usage\": {\n",
      "      \"capacity_units\": {\n",
      "        \"current\": 0,\n",
      "        \"limit\": 180000000\n",
      "      },\n",
      "      \"expiration_date\": \"2018-04-01T00:00:00.000Z\",\n",
      "      \"model_count\": {\n",
      "        \"current\": 4,\n",
      "        \"limit\": 200\n",
      "      },\n",
      "      \"deployment_count\": {\n",
      "        \"current\": 1,\n",
      "        \"limit\": 5\n",
      "      },\n",
      "      \"computation_time\": {\n",
      "        \"current\": 0,\n",
      "        \"limit\": 180000\n",
      "      },\n",
      "      \"prediction_count\": {\n",
      "        \"current\": 0,\n",
      "        \"limit\": 5000\n",
      "      },\n",
      "      \"gpu_count\": {\n",
      "        \"current\": 0,\n",
      "        \"limit\": 8\n",
      "      }\n",
      "    },\n",
      "    \"owner\": {\n",
      "      \"country_code\": \"DEU\",\n",
      "      \"ibm_id\": \"31000098BV\",\n",
      "      \"beta_user\": true,\n",
      "      \"user_id\": \"8abd03a9-3b11-40c0-9a94-e87b48c79e07\",\n",
      "      \"email\": \"mjma@de.ibm.com\"\n",
      "    }\n",
      "  }\n",
      "}\n"
     ]
    }
   ],
   "source": [
    "instance_details = client.service_instance.get_details()\n",
    "\n",
    "print(json.dumps(instance_details, indent=2))"
   ]
  },
  {
   "cell_type": "markdown",
   "metadata": {},
   "source": [
    "### 4.2: Publish model"
   ]
  },
  {
   "cell_type": "markdown",
   "metadata": {},
   "source": [
    "#### Publish model in Watson Machine Learning repository on Cloud."
   ]
  },
  {
   "cell_type": "code",
   "execution_count": 21,
   "metadata": {},
   "outputs": [],
   "source": [
    "model_props = {client.repository.ModelMetaNames.AUTHOR_NAME: \"IBM\", \n",
    "               client.repository.ModelMetaNames.AUTHOR_EMAIL: \"ibm@ibm.com\", \n",
    "               client.repository.ModelMetaNames.NAME: \"LOCALLY created Product Line Prediction model\"}\n",
    "published_model = client.repository.store_model(model=model_rf, pipeline=pipeline_rf, meta_props=model_props, training_data=train_data)"
   ]
  },
  {
   "cell_type": "markdown",
   "metadata": {},
   "source": [
    "### 4.3: Get model details"
   ]
  },
  {
   "cell_type": "code",
   "execution_count": 22,
   "metadata": {
    "scrolled": true
   },
   "outputs": [
    {
     "name": "stdout",
     "output_type": "stream",
     "text": [
      "{\n",
      "  \"metadata\": {\n",
      "    \"created_at\": \"2018-03-06T09:24:08.939Z\",\n",
      "    \"url\": \"https://ibm-watson-ml.mybluemix.net/v3/wml_instances/8f11cfac-57ca-4a0c-9815-7abbd7a72491/published_models/d82bced1-f287-4045-9e30-551d87e2ed32\",\n",
      "    \"modified_at\": \"2018-03-06T09:24:09.009Z\",\n",
      "    \"guid\": \"d82bced1-f287-4045-9e30-551d87e2ed32\"\n",
      "  },\n",
      "  \"entity\": {\n",
      "    \"latest_version\": {\n",
      "      \"created_at\": \"2018-03-06T09:24:09.009Z\",\n",
      "      \"url\": \"https://ibm-watson-ml.mybluemix.net/v3/ml_assets/models/d82bced1-f287-4045-9e30-551d87e2ed32/versions/a41c29db-de4e-4dd7-b96d-9d8cc62cd2fd\",\n",
      "      \"guid\": \"a41c29db-de4e-4dd7-b96d-9d8cc62cd2fd\"\n",
      "    },\n",
      "    \"runtime_environment\": \"spark-2.1\",\n",
      "    \"name\": \"LOCALLY created Product Line Prediction model\",\n",
      "    \"learning_configuration_url\": \"https://ibm-watson-ml.mybluemix.net/v3/wml_instances/8f11cfac-57ca-4a0c-9815-7abbd7a72491/published_models/d82bced1-f287-4045-9e30-551d87e2ed32/learning_configuration\",\n",
      "    \"model_type\": \"mllib-2.1\",\n",
      "    \"input_data_schema\": {\n",
      "      \"type\": \"struct\",\n",
      "      \"fields\": [\n",
      "        {\n",
      "          \"metadata\": {},\n",
      "          \"nullable\": true,\n",
      "          \"type\": \"string\",\n",
      "          \"name\": \"GENDER\"\n",
      "        },\n",
      "        {\n",
      "          \"metadata\": {},\n",
      "          \"nullable\": true,\n",
      "          \"type\": \"integer\",\n",
      "          \"name\": \"AGE\"\n",
      "        },\n",
      "        {\n",
      "          \"metadata\": {},\n",
      "          \"nullable\": true,\n",
      "          \"type\": \"string\",\n",
      "          \"name\": \"MARITAL_STATUS\"\n",
      "        },\n",
      "        {\n",
      "          \"metadata\": {},\n",
      "          \"nullable\": true,\n",
      "          \"type\": \"string\",\n",
      "          \"name\": \"PROFESSION\"\n",
      "        }\n",
      "      ]\n",
      "    },\n",
      "    \"feedback_url\": \"https://ibm-watson-ml.mybluemix.net/v3/wml_instances/8f11cfac-57ca-4a0c-9815-7abbd7a72491/published_models/d82bced1-f287-4045-9e30-551d87e2ed32/feedback\",\n",
      "    \"label_col\": \"PRODUCT_LINE\",\n",
      "    \"deployments\": {\n",
      "      \"url\": \"https://ibm-watson-ml.mybluemix.net/v3/wml_instances/8f11cfac-57ca-4a0c-9815-7abbd7a72491/published_models/d82bced1-f287-4045-9e30-551d87e2ed32/deployments\",\n",
      "      \"count\": 0\n",
      "    },\n",
      "    \"training_data_schema\": {\n",
      "      \"type\": \"struct\",\n",
      "      \"fields\": [\n",
      "        {\n",
      "          \"metadata\": {},\n",
      "          \"nullable\": true,\n",
      "          \"type\": \"string\",\n",
      "          \"name\": \"PRODUCT_LINE\"\n",
      "        },\n",
      "        {\n",
      "          \"metadata\": {},\n",
      "          \"nullable\": true,\n",
      "          \"type\": \"string\",\n",
      "          \"name\": \"GENDER\"\n",
      "        },\n",
      "        {\n",
      "          \"metadata\": {},\n",
      "          \"nullable\": true,\n",
      "          \"type\": \"integer\",\n",
      "          \"name\": \"AGE\"\n",
      "        },\n",
      "        {\n",
      "          \"metadata\": {},\n",
      "          \"nullable\": true,\n",
      "          \"type\": \"string\",\n",
      "          \"name\": \"MARITAL_STATUS\"\n",
      "        },\n",
      "        {\n",
      "          \"metadata\": {},\n",
      "          \"nullable\": true,\n",
      "          \"type\": \"string\",\n",
      "          \"name\": \"PROFESSION\"\n",
      "        }\n",
      "      ]\n",
      "    },\n",
      "    \"learning_iterations_url\": \"https://ibm-watson-ml.mybluemix.net/v3/wml_instances/8f11cfac-57ca-4a0c-9815-7abbd7a72491/published_models/d82bced1-f287-4045-9e30-551d87e2ed32/learning_iterations\",\n",
      "    \"evaluation_metrics_url\": \"https://ibm-watson-ml.mybluemix.net/v3/wml_instances/8f11cfac-57ca-4a0c-9815-7abbd7a72491/published_models/d82bced1-f287-4045-9e30-551d87e2ed32/evaluation_metrics\",\n",
      "    \"author\": {\n",
      "      \"email\": \"ibm@ibm.com\",\n",
      "      \"name\": \"IBM\"\n",
      "    }\n",
      "  }\n",
      "}\n"
     ]
    }
   ],
   "source": [
    "published_model_uid = client.repository.get_model_uid(published_model)\n",
    "model_details = client.repository.get_details(published_model_uid)\n",
    "print(json.dumps(model_details, indent=2))"
   ]
  },
  {
   "cell_type": "markdown",
   "metadata": {},
   "source": [
    "#### Get all models"
   ]
  },
  {
   "cell_type": "code",
   "execution_count": 23,
   "metadata": {},
   "outputs": [
    {
     "name": "stdout",
     "output_type": "stream",
     "text": [
      "------------------------------------  ---------------------------------------------  ------------------------  ---------  -----\n",
      "GUID                                  NAME                                           CREATED                   FRAMEWORK  TYPE\n",
      "c19ea489-1674-4883-bcbd-68f0089ef7dc  Customer Churn Model                           2018-02-19T15:01:13.485Z  mllib-2.0  model\n",
      "d9083d24-67f6-418e-869d-4fe344f7d9e5  Customer Churn Model                           2018-02-20T07:20:03.989Z  mllib-2.1  model\n",
      "7bce0af2-3d3a-4163-9bce-f5303c729d07  Customer Churn Model                           2018-02-20T09:13:27.542Z  mllib-2.1  model\n",
      "1698755c-ae01-4ab9-80b3-4f5d4d92bcc3  VIOLATIONS_SCALA211_SPARK20                    2018-02-20T13:25:01.431Z  mllib-2.1  model\n",
      "d82bced1-f287-4045-9e30-551d87e2ed32  LOCALLY created Product Line Prediction model  2018-03-06T09:24:08.939Z  mllib-2.1  model\n",
      "------------------------------------  ---------------------------------------------  ------------------------  ---------  -----\n"
     ]
    }
   ],
   "source": [
    "client.repository.list_models()"
   ]
  },
  {
   "cell_type": "markdown",
   "metadata": {},
   "source": [
    "### 4.3: Load model"
   ]
  },
  {
   "cell_type": "markdown",
   "metadata": {},
   "source": [
    "In this subsection you will learn how to load back saved model from specified instance of Watson Machine Learning."
   ]
  },
  {
   "cell_type": "code",
   "execution_count": 24,
   "metadata": {
    "scrolled": true
   },
   "outputs": [],
   "source": [
    "loaded_model = client.repository.load(published_model_uid)"
   ]
  },
  {
   "cell_type": "markdown",
   "metadata": {},
   "source": [
    "You can pass test_data to loaded model ``transform()`` method to make sure that model has been loaded correctly."
   ]
  },
  {
   "cell_type": "code",
   "execution_count": 25,
   "metadata": {},
   "outputs": [],
   "source": [
    "test_predictions = loaded_model.transform(test_data)"
   ]
  },
  {
   "cell_type": "code",
   "execution_count": 26,
   "metadata": {},
   "outputs": [
    {
     "name": "stdout",
     "output_type": "stream",
     "text": [
      "+------------------------------------------------------------------------------------------------------+--------------------+\n",
      "|probability                                                                                           |predictedLabel      |\n",
      "+------------------------------------------------------------------------------------------------------+--------------------+\n",
      "|[0.27034892863178805,0.5134958093759995,0.1838796533599044,0.010175481590873187,0.022100127041434846] |Personal Accessories|\n",
      "|[0.15058550023691625,0.6928114355885882,0.12745076465565847,0.009714176086733068,0.019438123432104045]|Personal Accessories|\n",
      "|[0.5153723402231977,0.3652003462475749,0.08273067150628524,0.017825283072460344,0.01887135895048206]  |Camping Equipment   |\n",
      "+------------------------------------------------------------------------------------------------------+--------------------+\n",
      "only showing top 3 rows\n",
      "\n"
     ]
    }
   ],
   "source": [
    "test_predictions.select('probability', 'predictedLabel').show(n=3, truncate=False)"
   ]
  },
  {
   "cell_type": "markdown",
   "metadata": {},
   "source": [
    "As you can see the loaded model works. You have already learned how save and load the model from Watson Machine Learning repository."
   ]
  },
  {
   "cell_type": "markdown",
   "metadata": {},
   "source": [
    "### 4.4: Delete model"
   ]
  },
  {
   "cell_type": "markdown",
   "metadata": {},
   "source": [
    "You can delete published model from Watson Machine Learning repository using below code. The code is commented out at this stage since the model will be needed later for deployment."
   ]
  },
  {
   "cell_type": "raw",
   "metadata": {},
   "source": [
    "client.repository.delete(published_model_guid)"
   ]
  },
  {
   "cell_type": "markdown",
   "metadata": {},
   "source": [
    "<a id=\"scoring\"></a>\n",
    "## 5. Deploy and score in a Cloud"
   ]
  },
  {
   "cell_type": "markdown",
   "metadata": {},
   "source": [
    "In this section you will learn how to create online scoring and to score a new data record by using the Watson Machine Learning Client. "
   ]
  },
  {
   "cell_type": "markdown",
   "metadata": {},
   "source": [
    "### 5.1: Create online deployment"
   ]
  },
  {
   "cell_type": "code",
   "execution_count": 27,
   "metadata": {},
   "outputs": [],
   "source": [
    "created_deployment = client.deployments.create(published_model_uid, name=\"Product line prediction\")"
   ]
  },
  {
   "cell_type": "markdown",
   "metadata": {},
   "source": [
    "Now you can print an online scoring endpoint. "
   ]
  },
  {
   "cell_type": "code",
   "execution_count": 28,
   "metadata": {},
   "outputs": [
    {
     "name": "stdout",
     "output_type": "stream",
     "text": [
      "https://ibm-watson-ml.mybluemix.net/v3/wml_instances/8f11cfac-57ca-4a0c-9815-7abbd7a72491/published_models/d82bced1-f287-4045-9e30-551d87e2ed32/deployments/4e8c133a-f17c-4442-b61c-c2fb902db14d/online\n"
     ]
    }
   ],
   "source": [
    "scoring_endpoint = client.deployments.get_scoring_url(created_deployment)\n",
    "\n",
    "print(scoring_endpoint)"
   ]
  },
  {
   "cell_type": "markdown",
   "metadata": {},
   "source": [
    "### 5.2: Get deployments"
   ]
  },
  {
   "cell_type": "code",
   "execution_count": 29,
   "metadata": {},
   "outputs": [
    {
     "name": "stdout",
     "output_type": "stream",
     "text": [
      "------------------------------------  -------------------------  ------  ------------------------  ---------\n",
      "GUID                                  NAME                       TYPE    CREATED                   FRAMEWORK\n",
      "4e8c133a-f17c-4442-b61c-c2fb902db14d  Product line prediction    online  2018-03-06T09:24:20.536Z  mllib-2.1\n",
      "bb3cb635-7d08-4115-9592-113ff94aabde  Customer Churn Prediction  batch   2018-02-19T15:11:40.938Z  mllib-2.0\n",
      "------------------------------------  -------------------------  ------  ------------------------  ---------\n"
     ]
    }
   ],
   "source": [
    "client.deployments.list()"
   ]
  },
  {
   "cell_type": "markdown",
   "metadata": {},
   "source": [
    "You can see that your model is deployed, so you can score new data."
   ]
  },
  {
   "cell_type": "markdown",
   "metadata": {},
   "source": [
    "### 5.3: Score"
   ]
  },
  {
   "cell_type": "markdown",
   "metadata": {},
   "source": [
    "You can use below method to do test scoring request against deployed model."
   ]
  },
  {
   "cell_type": "markdown",
   "metadata": {},
   "source": [
    "**Action**: Prepare scoring payload with records to score."
   ]
  },
  {
   "cell_type": "code",
   "execution_count": 30,
   "metadata": {},
   "outputs": [],
   "source": [
    "scoring_payload = {\"fields\": [\"GENDER\",\"AGE\",\"MARITAL_STATUS\",\"PROFESSION\"],\"values\": [[\"M\",23,\"Single\",\"Student\"],[\"M\",55,\"Single\",\"Executive\"]]}"
   ]
  },
  {
   "cell_type": "markdown",
   "metadata": {},
   "source": [
    "Use ``client.deployments.score()`` method to run scoring."
   ]
  },
  {
   "cell_type": "code",
   "execution_count": 31,
   "metadata": {},
   "outputs": [],
   "source": [
    "predictions = client.deployments.score(scoring_endpoint, scoring_payload)"
   ]
  },
  {
   "cell_type": "code",
   "execution_count": 32,
   "metadata": {},
   "outputs": [
    {
     "name": "stdout",
     "output_type": "stream",
     "text": [
      "{\n",
      "  \"fields\": [\n",
      "    \"GENDER\",\n",
      "    \"AGE\",\n",
      "    \"MARITAL_STATUS\",\n",
      "    \"PROFESSION\",\n",
      "    \"PRODUCT_LINE\",\n",
      "    \"label\",\n",
      "    \"PROFESSION_IX\",\n",
      "    \"GENDER_IX\",\n",
      "    \"MARITAL_STATUS_IX\",\n",
      "    \"features\",\n",
      "    \"rawPrediction\",\n",
      "    \"probability\",\n",
      "    \"prediction\",\n",
      "    \"predictedLabel\"\n",
      "  ],\n",
      "  \"values\": [\n",
      "    [\n",
      "      \"M\",\n",
      "      23,\n",
      "      \"Single\",\n",
      "      \"Student\",\n",
      "      \"Camping Equipment\",\n",
      "      0.0,\n",
      "      6.0,\n",
      "      0.0,\n",
      "      1.0,\n",
      "      [\n",
      "        0.0,\n",
      "        23.0,\n",
      "        1.0,\n",
      "        6.0\n",
      "      ],\n",
      "      [\n",
      "        5.258712981131878,\n",
      "        6.723421733525897,\n",
      "        6.0132018750333724,\n",
      "        0.218060296213069,\n",
      "        1.7866031140957863\n",
      "      ],\n",
      "      [\n",
      "        0.26293564905659383,\n",
      "        0.3361710866762948,\n",
      "        0.3006600937516686,\n",
      "        0.010903014810653448,\n",
      "        0.0893301557047893\n",
      "      ],\n",
      "      1.0,\n",
      "      \"Personal Accessories\"\n",
      "    ],\n",
      "    [\n",
      "      \"M\",\n",
      "      55,\n",
      "      \"Single\",\n",
      "      \"Executive\",\n",
      "      \"Camping Equipment\",\n",
      "      0.0,\n",
      "      3.0,\n",
      "      0.0,\n",
      "      1.0,\n",
      "      [\n",
      "        0.0,\n",
      "        55.0,\n",
      "        1.0,\n",
      "        3.0\n",
      "      ],\n",
      "      [\n",
      "        3.6000096318286547,\n",
      "        4.060237825988732,\n",
      "        3.8628119611335734,\n",
      "        8.339956386992652,\n",
      "        0.13698419405638748\n",
      "      ],\n",
      "      [\n",
      "        0.18000048159143273,\n",
      "        0.20301189129943661,\n",
      "        0.19314059805667866,\n",
      "        0.4169978193496326,\n",
      "        0.006849209702819374\n",
      "      ],\n",
      "      3.0,\n",
      "      \"Golf Equipment\"\n",
      "    ]\n",
      "  ]\n",
      "}\n"
     ]
    }
   ],
   "source": [
    "print(json.dumps(predictions, indent=2))"
   ]
  },
  {
   "cell_type": "markdown",
   "metadata": {},
   "source": [
    "### 5.4: Delete deployment"
   ]
  },
  {
   "cell_type": "markdown",
   "metadata": {},
   "source": [
    "Use the following method to delete deployment."
   ]
  },
  {
   "cell_type": "code",
   "execution_count": 33,
   "metadata": {},
   "outputs": [],
   "source": [
    "client.deployments.delete(client.deployments.get_uid(created_deployment))"
   ]
  },
  {
   "cell_type": "markdown",
   "metadata": {},
   "source": [
    "You can check number of depoyments by running ``client.deployment.get()`` method."
   ]
  },
  {
   "cell_type": "code",
   "execution_count": 34,
   "metadata": {},
   "outputs": [
    {
     "name": "stdout",
     "output_type": "stream",
     "text": [
      "------------------------------------  -------------------------  -----  ------------------------  ---------\n",
      "GUID                                  NAME                       TYPE   CREATED                   FRAMEWORK\n",
      "bb3cb635-7d08-4115-9592-113ff94aabde  Customer Churn Prediction  batch  2018-02-19T15:11:40.938Z  mllib-2.0\n",
      "------------------------------------  -------------------------  -----  ------------------------  ---------\n"
     ]
    }
   ],
   "source": [
    "client.deployments.list()"
   ]
  },
  {
   "cell_type": "markdown",
   "metadata": {},
   "source": [
    "### 5.5: Delete model"
   ]
  },
  {
   "cell_type": "code",
   "execution_count": 35,
   "metadata": {},
   "outputs": [],
   "source": [
    "client.repository.delete(published_model_uid)"
   ]
  },
  {
   "cell_type": "markdown",
   "metadata": {},
   "source": [
    "You can check number of your models by running below ``client.repository.get_details()`` method."
   ]
  },
  {
   "cell_type": "code",
   "execution_count": 36,
   "metadata": {
    "scrolled": true
   },
   "outputs": [
    {
     "name": "stdout",
     "output_type": "stream",
     "text": [
      "------------------------------------  ---------------------------  ------------------------  ---------  -----\n",
      "GUID                                  NAME                         CREATED                   FRAMEWORK  TYPE\n",
      "c19ea489-1674-4883-bcbd-68f0089ef7dc  Customer Churn Model         2018-02-19T15:01:13.485Z  mllib-2.0  model\n",
      "d9083d24-67f6-418e-869d-4fe344f7d9e5  Customer Churn Model         2018-02-20T07:20:03.989Z  mllib-2.1  model\n",
      "7bce0af2-3d3a-4163-9bce-f5303c729d07  Customer Churn Model         2018-02-20T09:13:27.542Z  mllib-2.1  model\n",
      "1698755c-ae01-4ab9-80b3-4f5d4d92bcc3  VIOLATIONS_SCALA211_SPARK20  2018-02-20T13:25:01.431Z  mllib-2.1  model\n",
      "------------------------------------  ---------------------------  ------------------------  ---------  -----\n"
     ]
    }
   ],
   "source": [
    "client.repository.list_models()"
   ]
  },
  {
   "cell_type": "markdown",
   "metadata": {
    "collapsed": true
   },
   "source": [
    "<a id=\"summary\"></a>\n",
    "## 7. Summary and next steps     "
   ]
  },
  {
   "cell_type": "markdown",
   "metadata": {
    "collapsed": true
   },
   "source": [
    " You successfully completed this notebook! You learned how to use Apache Spark machine learning as well as Watson Machine Learning for model creation and deployment. Check out our <a href=\"https://console.bluemix.net/docs/services/PredictiveModeling/index.html#WMLgettingstarted\" target=\"_blank\" rel=\"noopener noreferrer\">Online Documentation</a> for more samples, tutorials, documentation, how-tos, and blog posts. "
   ]
  },
  {
   "cell_type": "markdown",
   "metadata": {},
   "source": [
    "### Authors\n",
    "\n",
    "**Lukasz Cmielowski**, PhD, is a Automation Architect and Data Scientist in IBM with a track record of developing enterprise-level applications that substantially increases clients' ability to turn data into actionable knowledge."
   ]
  },
  {
   "cell_type": "markdown",
   "metadata": {},
   "source": [
    "Copyright © 2017, 2018 IBM. This notebook and its source code are released under the terms of the MIT License."
   ]
  }
 ],
 "metadata": {
  "kernelspec": {
   "display_name": "Python 3.5 with Spark 2.1",
   "language": "python",
   "name": "python3-spark21"
  },
  "language_info": {
   "codemirror_mode": {
    "name": "ipython",
    "version": 3
   },
   "file_extension": ".py",
   "mimetype": "text/x-python",
   "name": "python",
   "nbconvert_exporter": "python",
   "pygments_lexer": "ipython3",
   "version": "3.5.4"
  }
 },
 "nbformat": 4,
 "nbformat_minor": 1
}
