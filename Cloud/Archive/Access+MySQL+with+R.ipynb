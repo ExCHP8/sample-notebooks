{
 "cells": [
  {
   "cell_type": "markdown",
   "metadata": {},
   "source": [
    "# Access MySQL with R\n",
    "\n",
    "This notebook shows how to access a MySQL database when using R.\n",
    "\n",
    "This notebook runs on R with Spark 2.0.\n",
    "\n",
    "## Table of contents\n",
    "\n",
    "1. [Setup](#Setup)\n",
    "1. [Import the *RMySQL* library](#Import-the-RMySQL-library)\n",
    "1. [Confirm that MySQL is running](#Confirm-that-MySQL-is-running)\n",
    "1. [Identify and enter the database connection credentials](#Identify-and-enter-the-database-connection-credentials)\n",
    "1. [Create the database connection](#Create-the-database-connection)\n",
    "1. [Create a table](#Create-a-table)\n",
    "1. [Insert data into a table](#Insert-data-into-a-table)\n",
    "1. [Query data](#Query-data)\n",
    "1. [Close the database connection](#Close-the-database-connection)\n",
    "1. [Summary](#Summary)\n",
    "\n",
    "\n",
    "\n",
    "## Setup\n",
    "\n",
    "Before beginning you will need access to a *MySQL* database. MySQL is an open-source relational database management system (RDBMS) that is widely used as a client–server model RDBMS. To learn more, see the [MySQL website](https://www.mysql.com/).\n",
    "\n",
    "You should have a MySQL instance installed and running in the cloud. You can use [Amazon RDS (Relational Database Service)](http://aws.amazon.com/rds/mysql/) to set up, operate, and scale a MySQL instance.  \n",
    "__Note:__ if you are using an Amazon RDS service, make sure it accept connections from every IP.\n",
    "\n",
    "\n",
    "## Import the RMySQL library\n",
    "\n",
    "__RMySQL__ is the R package that enables you to interact with MySQL (and MariaDB) databases. Run the commands below to install and import the RMySQL package:"
   ]
  },
  {
   "cell_type": "code",
   "execution_count": 1,
   "metadata": {},
   "outputs": [
    {
     "name": "stderr",
     "output_type": "stream",
     "text": [
      "Installing package into ‘/gpfs/global_fs01/sym_shared/YPProdSpark/user/s778-bfb6f75aebc10f-9bb95b1f072f/R/libs’\n",
      "(as ‘lib’ is unspecified)\n"
     ]
    }
   ],
   "source": [
    "install.packages(\"RMySQL\")"
   ]
  },
  {
   "cell_type": "code",
   "execution_count": 2,
   "metadata": {},
   "outputs": [
    {
     "name": "stderr",
     "output_type": "stream",
     "text": [
      "Loading required package: DBI\n"
     ]
    }
   ],
   "source": [
    "library(RMySQL)"
   ]
  },
  {
   "cell_type": "markdown",
   "metadata": {},
   "source": [
    "## Confirm that MySQL is running\n",
    "\n",
    "You can test to see if MySQL is installed by opening your terminal and typing “mysql”. If you receive an error that MySQL cannot connect, it means that MySQL is installed, but not running."
   ]
  },
  {
   "cell_type": "markdown",
   "metadata": {},
   "source": [
    "## Identify and enter the database connection credentials\n",
    "\n",
    "Connecting to MySQL database requires the following information:\n",
    "* Database name \n",
    "* Host DNS name or IP address \n",
    "* Host port\n",
    "* User ID\n",
    "* User password\n",
    "\n",
    "All of this information must be captured in a connection string in a subsequent step. Provide the MySQL connection information as shown:"
   ]
  },
  {
   "cell_type": "code",
   "execution_count": 3,
   "metadata": {
    "collapsed": true
   },
   "outputs": [],
   "source": [
    "#Enter the values for you database connection\n",
    "dsn_database = \" \" # for example  \"BLUDB\"\n",
    "dsn_hostname = \" \" # for example  \"mydbinstance.cz6pjylrdjko.us-east-1.rds.amazonaws.com\"\n",
    "dsn_port =         # for example  3306 without quotation marks\n",
    "dsn_uid = \" \"      # for example  \"user1\"\n",
    "dsn_pwd = \" \"      # for example  \"7dBZ3jWt9xN6$o0JiX!m\""
   ]
  },
  {
   "cell_type": "markdown",
   "metadata": {},
   "source": [
    "## Create the database connection\n",
    "\n",
    "The following code snippet creates a connection object, `conn`:"
   ]
  },
  {
   "cell_type": "code",
   "execution_count": 4,
   "metadata": {},
   "outputs": [
    {
     "data": {
      "text/plain": [
       "<MySQLConnection:0,0>"
      ]
     },
     "metadata": {},
     "output_type": "display_data"
    }
   ],
   "source": [
    "conn = dbConnect(MySQL(), user=dsn_uid, password=dsn_pwd, host=dsn_hostname, port=dsn_port)\n",
    "conn"
   ]
  },
  {
   "cell_type": "markdown",
   "metadata": {},
   "source": [
    "## Create a table\n",
    "\n",
    "Create a test table named Cars. The code below drops the Cars table if it already exists, and then creates the new table:"
   ]
  },
  {
   "cell_type": "code",
   "execution_count": 5,
   "metadata": {},
   "outputs": [
    {
     "data": {
      "text/plain": [
       "<MySQLResult:78795528,0,0>"
      ]
     },
     "metadata": {},
     "output_type": "display_data"
    },
    {
     "data": {
      "text/plain": [
       "<MySQLResult:2,0,1>"
      ]
     },
     "metadata": {},
     "output_type": "display_data"
    },
    {
     "data": {
      "text/plain": [
       "<MySQLResult:88868600,0,2>"
      ]
     },
     "metadata": {},
     "output_type": "display_data"
    },
    {
     "data": {
      "text/plain": [
       "<MySQLResult:2,0,3>"
      ]
     },
     "metadata": {},
     "output_type": "display_data"
    }
   ],
   "source": [
    "create_command <- paste(\"CREATE DATABASE IF NOT EXISTS\", dsn_database, sep=\" \");\n",
    "use_command <- paste(\"USE\", dsn_database, sep=\" \");\n",
    "dbSendQuery(conn, create_command);\n",
    "dbSendQuery(conn, use_command);\n",
    "dbSendQuery(conn, 'DROP TABLE IF EXISTS Cars')\n",
    "dbSendQuery(conn, 'CREATE TABLE Cars(Id INTEGER PRIMARY KEY, Name VARCHAR(20), Price INT)')"
   ]
  },
  {
   "cell_type": "markdown",
   "metadata": {},
   "source": [
    "## Insert data into a table\n",
    "\n",
    "Run the following commands to create records in the new Cars table:"
   ]
  },
  {
   "cell_type": "code",
   "execution_count": 6,
   "metadata": {},
   "outputs": [
    {
     "data": {
      "text/plain": [
       "<MySQLResult:2,0,4>"
      ]
     },
     "metadata": {},
     "output_type": "display_data"
    },
    {
     "data": {
      "text/plain": [
       "<MySQLResult:23975032,0,5>"
      ]
     },
     "metadata": {},
     "output_type": "display_data"
    },
    {
     "data": {
      "text/plain": [
       "<MySQLResult:0,0,6>"
      ]
     },
     "metadata": {},
     "output_type": "display_data"
    },
    {
     "data": {
      "text/plain": [
       "<MySQLResult:22598968,0,7>"
      ]
     },
     "metadata": {},
     "output_type": "display_data"
    },
    {
     "data": {
      "text/plain": [
       "<MySQLResult:22519656,0,8>"
      ]
     },
     "metadata": {},
     "output_type": "display_data"
    },
    {
     "data": {
      "text/plain": [
       "<MySQLResult:40242264,0,9>"
      ]
     },
     "metadata": {},
     "output_type": "display_data"
    },
    {
     "data": {
      "text/plain": [
       "<MySQLResult:1,0,10>"
      ]
     },
     "metadata": {},
     "output_type": "display_data"
    },
    {
     "data": {
      "text/plain": [
       "<MySQLResult:22397144,0,11>"
      ]
     },
     "metadata": {},
     "output_type": "display_data"
    }
   ],
   "source": [
    "dbSendQuery(conn,\"INSERT INTO Cars VALUES(1,'Audi',52642)\")\n",
    "dbSendQuery(conn,\"INSERT INTO Cars VALUES(2,'Mercedes',57127)\")\n",
    "dbSendQuery(conn,\"INSERT INTO Cars VALUES(3,'Skoda',9000)\")\n",
    "dbSendQuery(conn,\"INSERT INTO Cars VALUES(4,'Volvo',29000)\")\n",
    "dbSendQuery(conn,\"INSERT INTO Cars VALUES(5,'Bentley',350000)\")\n",
    "dbSendQuery(conn,\"INSERT INTO Cars VALUES(6,'Citroen',21000)\")\n",
    "dbSendQuery(conn,\"INSERT INTO Cars VALUES(7,'Hummer',41400)\")\n",
    "dbSendQuery(conn,\"INSERT INTO Cars VALUES(8,'Volkswagen',21600)\")"
   ]
  },
  {
   "cell_type": "markdown",
   "metadata": {},
   "source": [
    "## Query data\n",
    "\n",
    "You can now use the connection object `conn` to query the database:"
   ]
  },
  {
   "cell_type": "code",
   "execution_count": 7,
   "metadata": {},
   "outputs": [
    {
     "data": {
      "text/html": [
       "<table>\n",
       "<thead><tr><th scope=col>Id</th><th scope=col>Name</th><th scope=col>Price</th></tr></thead>\n",
       "<tbody>\n",
       "\t<tr><td>1         </td><td>Audi      </td><td> 52642    </td></tr>\n",
       "\t<tr><td>2         </td><td>Mercedes  </td><td> 57127    </td></tr>\n",
       "\t<tr><td>3         </td><td>Skoda     </td><td>  9000    </td></tr>\n",
       "\t<tr><td>4         </td><td>Volvo     </td><td> 29000    </td></tr>\n",
       "\t<tr><td>5         </td><td>Bentley   </td><td>350000    </td></tr>\n",
       "\t<tr><td>6         </td><td>Citroen   </td><td> 21000    </td></tr>\n",
       "\t<tr><td>7         </td><td>Hummer    </td><td> 41400    </td></tr>\n",
       "\t<tr><td>8         </td><td>Volkswagen</td><td> 21600    </td></tr>\n",
       "</tbody>\n",
       "</table>\n"
      ],
      "text/latex": [
       "\\begin{tabular}{r|lll}\n",
       " Id & Name & Price\\\\\n",
       "\\hline\n",
       "\t 1          & Audi       &  52642    \\\\\n",
       "\t 2          & Mercedes   &  57127    \\\\\n",
       "\t 3          & Skoda      &   9000    \\\\\n",
       "\t 4          & Volvo      &  29000    \\\\\n",
       "\t 5          & Bentley    & 350000    \\\\\n",
       "\t 6          & Citroen    &  21000    \\\\\n",
       "\t 7          & Hummer     &  41400    \\\\\n",
       "\t 8          & Volkswagen &  21600    \\\\\n",
       "\\end{tabular}\n"
      ],
      "text/plain": [
       "  Id Name       Price \n",
       "1 1  Audi        52642\n",
       "2 2  Mercedes    57127\n",
       "3 3  Skoda        9000\n",
       "4 4  Volvo       29000\n",
       "5 5  Bentley    350000\n",
       "6 6  Citroen     21000\n",
       "7 7  Hummer      41400\n",
       "8 8  Volkswagen  21600"
      ]
     },
     "metadata": {},
     "output_type": "display_data"
    }
   ],
   "source": [
    "query = \"SELECT * FROM Cars\";\n",
    "rs = dbSendQuery(conn, query);\n",
    "df = fetch(rs, -1);\n",
    "df"
   ]
  },
  {
   "cell_type": "markdown",
   "metadata": {},
   "source": [
    "## Close the database connection\n",
    "\n",
    "It is good practice to close your database connection after work is done:"
   ]
  },
  {
   "cell_type": "code",
   "execution_count": 8,
   "metadata": {},
   "outputs": [
    {
     "name": "stderr",
     "output_type": "stream",
     "text": [
      "Warning message:\n",
      "“Closing open result sets”"
     ]
    },
    {
     "data": {
      "text/html": [
       "TRUE"
      ],
      "text/latex": [
       "TRUE"
      ],
      "text/markdown": [
       "TRUE"
      ],
      "text/plain": [
       "[1] TRUE"
      ]
     },
     "metadata": {},
     "output_type": "display_data"
    }
   ],
   "source": [
    "dbDisconnect(conn)"
   ]
  },
  {
   "cell_type": "markdown",
   "metadata": {},
   "source": [
    "## Summary\n",
    "\n",
    "This notebook demonstrated how to establish a connection to a MySQL database from R using the RMySQL library."
   ]
  },
  {
   "cell_type": "markdown",
   "metadata": {},
   "source": [
    "## Want to learn more?\n",
    "### Free courses on <a href=\"https://bigdatauniversity.com/courses/?utm_source=tutorial-dashdb-python&utm_medium=github&utm_campaign=bdu/\" rel=\"noopener noreferrer\" target=\"_blank\">Big Data University</a>: <a href=\"https://bigdatauniversity.com/courses/?utm_source=tutorial-dashdb-python&utm_medium=github&utm_campaign=bdu\" rel=\"noopener noreferrer\" target=\"_blank\"><img src = \"https://ibm.box.com/shared/static/xomeu7dacwufkoawbg3owc8wzuezltn6.png\" width=600px> </a>"
   ]
  },
  {
   "cell_type": "markdown",
   "metadata": {},
   "source": [
    "### Authors\n",
    "\n",
    "**Saeed Aghabozorgi**, PhD, is a Data Scientist in IBM with a track record of developing enterprise-level applications that substantially increases clients' ability to turn data into actionable knowledge. He is a researcher in the data mining field and an expert in developing advanced analytic methods like machine learning and statistical modelling on large data sets.\n",
    "\n",
    "**Polong Lin** is a Data Scientist at IBM in Canada. Under the Emerging Technologies division, Polong is responsible for educating the next generation of data scientists through Big Data University. Polong is a regular speaker in conferences and meetups, and holds an M.Sc. in Cognitive Psychology."
   ]
  },
  {
   "cell_type": "markdown",
   "metadata": {},
   "source": [
    "Copyright © 2016 Big Data University. This notebook and its source code are released under the terms of the <a href=\"https://bigdatauniversity.com/mit-license/\" rel=\"noopener noreferrer\" target=\"_blank\">MIT License</a>."
   ]
  }
 ],
 "metadata": {
  "kernelspec": {
   "display_name": "R with Spark 2.0",
   "language": "R",
   "name": "r-spark20"
  },
  "language_info": {
   "codemirror_mode": "r",
   "file_extension": ".r",
   "mimetype": "text/x-r-source",
   "name": "R",
   "pygments_lexer": "r",
   "version": "3.3.2"
  }
 },
 "nbformat": 4,
 "nbformat_minor": 1
}
