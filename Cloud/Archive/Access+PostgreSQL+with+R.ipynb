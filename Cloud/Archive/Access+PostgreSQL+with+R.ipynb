{
 "cells": [
  {
   "cell_type": "markdown",
   "metadata": {},
   "source": [
    "# Access PostgreSQL with R\n",
    "\n",
    "This notebook shows how to access a PostgreSQL database when using R.\n",
    "\n",
    "## Table of contents\n",
    "\n",
    "1. [Setup](#Setup)\n",
    "1. [Import the *RPostgreSQL* R library](#Import-the-RPostgreSQL-R-library)\n",
    "1. [Identify and enter the database connection credentials](#Identify-and-enter-the-database-connection-credentials)\n",
    "1. [Create the database connection](#Create-the-database-connection)\n",
    "1. [Create a table](#Create-a-table)\n",
    "1. [Insert data into a table](#Insert-data-into-a-table)\n",
    "1. [Query data](#Query-data)\n",
    "1. [Close the database connection](#Close-the-database-connection)\n",
    "1. [Summary](#Summary)\n",
    "\n",
    "\n",
    "\n",
    "## Setup\n",
    "\n",
    "Before beginning you will need access to a *PostgreSQL* database. PostgreSQL is a powerful, open source, object-relational database system. It is a multi-user database management system and has sophisticated features such as Multi-Version Concurrency Control, point in time recovery, tablespaces, and more. To learn more, see the [PostgreSQL website](http://www.postgresql.org/).\n",
    "\n",
    "When dealing with large data sets (for example 50 GB) that potentially exceed the memory of your machine (RAM), it is nice to have another possibility such as an PostgreSQL database, where you can query the data in smaller digestible chunks. In this way, you just query data in smaller chunks (for instance 2 GB), and leave resources for the computation.\n",
    "\n",
    "[Try PostgreSQL free of charge on IBM Bluemix.](https://console.ng.bluemix.net/catalog/services/compose-for-postgresql/)\n",
    "\n",
    "<a class=\"ibm-tooltip\" href=\"https://console.ng.bluemix.net/catalog/services/compose-for-postgresql/\" target=\"_blank\" title=\"\" id=\"ibm-tooltip-0\">\n",
    "<img alt=\"IBM Bluemix.Get started now\" height=\"193\" width=\"153\" src=\"https://ibm.box.com/shared/static/a91ydi71gu58ar10aosoc3sflyo3jif2.png\" >\n",
    "</a>\n",
    "\n",
    "\n",
    "## Import the *RPostgreSQL* R library\n",
    "\n",
    "__RPostgreSQL__ is a driver for interacting with PostgreSQL from the R scripting language. It enables you to perform the full range of SQL operations against Postgres databases. Run the command below to install and import the RPostgreSQL library:"
   ]
  },
  {
   "cell_type": "code",
   "execution_count": 1,
   "metadata": {
    "collapsed": false
   },
   "outputs": [
    {
     "name": "stderr",
     "output_type": "stream",
     "text": [
      "Installing package into ‘/gpfs/global_fs01/sym_shared/YPProdSpark/user/s197-7b43f0944b3b81-c9cf61242dec/R/libs’\n",
      "(as ‘lib’ is unspecified)\n"
     ]
    }
   ],
   "source": [
    "install.packages(\"RPostgreSQL\")"
   ]
  },
  {
   "cell_type": "code",
   "execution_count": 2,
   "metadata": {
    "collapsed": false
   },
   "outputs": [
    {
     "name": "stderr",
     "output_type": "stream",
     "text": [
      "Loading required package: DBI\n"
     ]
    }
   ],
   "source": [
    "library(RPostgreSQL)"
   ]
  },
  {
   "cell_type": "markdown",
   "metadata": {},
   "source": [
    "## Identify and enter the database connection credentials\n",
    "\n",
    "Connecting to PostgreSQL database requires the following information:\n",
    "* Host name or IP address \n",
    "* Host port\n",
    "* default database name\n",
    "* Connection protocol\n",
    "* User ID\n",
    "* User password\n",
    "\n",
    "All of this information must be captured in a connection string in a subsequent step. Provide the PostgreSQL connection information as shown:"
   ]
  },
  {
   "cell_type": "code",
   "execution_count": 3,
   "metadata": {
    "collapsed": true
   },
   "outputs": [],
   "source": [
    "#Enter the values for you database connection\n",
    "dsn_database = \"<database name>\"       # for example  \"compose\"\n",
    "dsn_hostname = \"<your host name>\"     # for example  \"aws-us-east-1-portal.4.dblayer.com\"\n",
    "dsn_port = \"<port>\"                 # for example  11101 \n",
    "dsn_uid = \"<your user id>\"        # for example  \"admin\"\n",
    "dsn_pwd = \"<your password>\"      # for example  \"xxx\""
   ]
  },
  {
   "cell_type": "markdown",
   "metadata": {},
   "source": [
    "## Create the database connection\n",
    "Use the *dbDriver* and *dbConnect* commands to establish a connection:"
   ]
  },
  {
   "cell_type": "code",
   "execution_count": 4,
   "metadata": {
    "collapsed": false
   },
   "outputs": [
    {
     "name": "stdout",
     "output_type": "stream",
     "text": [
      "[1] \"Connecting to database\"\n",
      "[1] \"Connected!\"\n"
     ]
    }
   ],
   "source": [
    "tryCatch({\n",
    "    drv <- dbDriver(\"PostgreSQL\")\n",
    "    print(\"Connecting to database\")\n",
    "    conn <- dbConnect(drv, \n",
    "                 dbname = dsn_database,\n",
    "                 host = dsn_hostname, \n",
    "                 port = dsn_port,\n",
    "                 user = dsn_uid, \n",
    "                 password = dsn_pwd)\n",
    "    print(\"Connected!\")\n",
    "    },\n",
    "    error=function(cond) {\n",
    "            print(\"Unable to connect to database.\")\n",
    "    })"
   ]
  },
  {
   "cell_type": "markdown",
   "metadata": {},
   "source": [
    "The next step is to check what tables exist in the database:"
   ]
  },
  {
   "cell_type": "code",
   "execution_count": 5,
   "metadata": {
    "collapsed": false
   },
   "outputs": [
    {
     "data": {
      "text/html": [
       "<ol class=list-inline>\n",
       "\t<li>'template1'</li>\n",
       "\t<li>'template0'</li>\n",
       "\t<li>'postgres'</li>\n",
       "\t<li>'compose'</li>\n",
       "</ol>\n"
      ],
      "text/latex": [
       "\\begin{enumerate*}\n",
       "\\item 'template1'\n",
       "\\item 'template0'\n",
       "\\item 'postgres'\n",
       "\\item 'compose'\n",
       "\\end{enumerate*}\n"
      ],
      "text/markdown": [
       "1. 'template1'\n",
       "2. 'template0'\n",
       "3. 'postgres'\n",
       "4. 'compose'\n",
       "\n",
       "\n"
      ],
      "text/plain": [
       "[1] \"template1\" \"template0\" \"postgres\"  \"compose\"  "
      ]
     },
     "metadata": {},
     "output_type": "display_data"
    }
   ],
   "source": [
    "cursor <- dbGetQuery(conn, \"SELECT datname from pg_database\")\n",
    "\n",
    "cursor$datname"
   ]
  },
  {
   "cell_type": "markdown",
   "metadata": {},
   "source": [
    "## Create a table\n",
    "\n",
    "Create a test table named Cars. The code below drops the Cars table if it already exists, and then creates the new table:"
   ]
  },
  {
   "cell_type": "code",
   "execution_count": 6,
   "metadata": {
    "collapsed": false
   },
   "outputs": [
    {
     "data": {
      "text/plain": [
       "<PostgreSQLResult>"
      ]
     },
     "metadata": {},
     "output_type": "display_data"
    },
    {
     "data": {
      "text/plain": [
       "<PostgreSQLResult>"
      ]
     },
     "metadata": {},
     "output_type": "display_data"
    }
   ],
   "source": [
    "dbSendQuery(conn, \"DROP TABLE IF EXISTS Cars\")\n",
    "dbSendQuery(conn, \"CREATE TABLE Cars(Id INTEGER PRIMARY KEY, Name VARCHAR(20), Price INT)\")"
   ]
  },
  {
   "cell_type": "markdown",
   "metadata": {},
   "source": [
    "## Insert data into a table\n",
    "\n",
    "Run the following commands to create records in the new Cars table:"
   ]
  },
  {
   "cell_type": "code",
   "execution_count": 7,
   "metadata": {
    "collapsed": false,
    "scrolled": true
   },
   "outputs": [
    {
     "data": {
      "text/plain": [
       "<PostgreSQLResult>"
      ]
     },
     "metadata": {},
     "output_type": "display_data"
    },
    {
     "data": {
      "text/plain": [
       "<PostgreSQLResult>"
      ]
     },
     "metadata": {},
     "output_type": "display_data"
    },
    {
     "data": {
      "text/plain": [
       "<PostgreSQLResult>"
      ]
     },
     "metadata": {},
     "output_type": "display_data"
    },
    {
     "data": {
      "text/plain": [
       "<PostgreSQLResult>"
      ]
     },
     "metadata": {},
     "output_type": "display_data"
    },
    {
     "data": {
      "text/plain": [
       "<PostgreSQLResult>"
      ]
     },
     "metadata": {},
     "output_type": "display_data"
    },
    {
     "data": {
      "text/plain": [
       "<PostgreSQLResult>"
      ]
     },
     "metadata": {},
     "output_type": "display_data"
    },
    {
     "data": {
      "text/plain": [
       "<PostgreSQLResult>"
      ]
     },
     "metadata": {},
     "output_type": "display_data"
    },
    {
     "data": {
      "text/plain": [
       "<PostgreSQLResult>"
      ]
     },
     "metadata": {},
     "output_type": "display_data"
    }
   ],
   "source": [
    "dbSendQuery(conn, \"INSERT INTO Cars VALUES(1,'Audi',52642)\")\n",
    "dbSendQuery(conn, \"INSERT INTO Cars VALUES(2,'Mercedes',57127)\")\n",
    "dbSendQuery(conn, \"INSERT INTO Cars VALUES(3,'Skoda',9000)\")\n",
    "dbSendQuery(conn, \"INSERT INTO Cars VALUES(4,'Volvo',29000)\")\n",
    "dbSendQuery(conn, \"INSERT INTO Cars VALUES(5,'Bentley',350000)\")\n",
    "dbSendQuery(conn, \"INSERT INTO Cars VALUES(6,'Citroen',21000)\")\n",
    "dbSendQuery(conn, \"INSERT INTO Cars VALUES(7,'Hummer',41400)\")\n",
    "dbSendQuery(conn, \"INSERT INTO Cars VALUES(8,'Volkswagen',21600)\")"
   ]
  },
  {
   "cell_type": "markdown",
   "metadata": {},
   "source": [
    "## Query data\n",
    "\n",
    "The following R code fetches records from the Cars table:"
   ]
  },
  {
   "cell_type": "code",
   "execution_count": 8,
   "metadata": {
    "collapsed": false
   },
   "outputs": [],
   "source": [
    "df <- dbGetQuery(conn, \"SELECT * FROM Cars\")"
   ]
  },
  {
   "cell_type": "markdown",
   "metadata": {},
   "source": [
    "You can easily print the dataframe:"
   ]
  },
  {
   "cell_type": "code",
   "execution_count": 9,
   "metadata": {
    "collapsed": false
   },
   "outputs": [
    {
     "data": {
      "text/html": [
       "<table>\n",
       "<thead><tr><th scope=col>id</th><th scope=col>name</th><th scope=col>price</th></tr></thead>\n",
       "<tbody>\n",
       "\t<tr><td>1         </td><td>Audi      </td><td> 52642    </td></tr>\n",
       "\t<tr><td>2         </td><td>Mercedes  </td><td> 57127    </td></tr>\n",
       "\t<tr><td>3         </td><td>Skoda     </td><td>  9000    </td></tr>\n",
       "\t<tr><td>4         </td><td>Volvo     </td><td> 29000    </td></tr>\n",
       "\t<tr><td>5         </td><td>Bentley   </td><td>350000    </td></tr>\n",
       "\t<tr><td>6         </td><td>Citroen   </td><td> 21000    </td></tr>\n",
       "\t<tr><td>7         </td><td>Hummer    </td><td> 41400    </td></tr>\n",
       "\t<tr><td>8         </td><td>Volkswagen</td><td> 21600    </td></tr>\n",
       "</tbody>\n",
       "</table>\n"
      ],
      "text/latex": [
       "\\begin{tabular}{r|lll}\n",
       " id & name & price\\\\\n",
       "\\hline\n",
       "\t 1          & Audi       &  52642    \\\\\n",
       "\t 2          & Mercedes   &  57127    \\\\\n",
       "\t 3          & Skoda      &   9000    \\\\\n",
       "\t 4          & Volvo      &  29000    \\\\\n",
       "\t 5          & Bentley    & 350000    \\\\\n",
       "\t 6          & Citroen    &  21000    \\\\\n",
       "\t 7          & Hummer     &  41400    \\\\\n",
       "\t 8          & Volkswagen &  21600    \\\\\n",
       "\\end{tabular}\n"
      ],
      "text/plain": [
       "  id name       price \n",
       "1 1  Audi        52642\n",
       "2 2  Mercedes    57127\n",
       "3 3  Skoda        9000\n",
       "4 4  Volvo       29000\n",
       "5 5  Bentley    350000\n",
       "6 6  Citroen     21000\n",
       "7 7  Hummer      41400\n",
       "8 8  Volkswagen  21600"
      ]
     },
     "metadata": {},
     "output_type": "display_data"
    }
   ],
   "source": [
    "df"
   ]
  },
  {
   "cell_type": "markdown",
   "metadata": {},
   "source": [
    "\n",
    "Export data using the *write.csv()* command:"
   ]
  },
  {
   "cell_type": "code",
   "execution_count": 10,
   "metadata": {
    "collapsed": true
   },
   "outputs": [],
   "source": [
    "write.csv(df, 'cars.csv')  "
   ]
  },
  {
   "cell_type": "markdown",
   "metadata": {},
   "source": [
    "## Close the database connection\n",
    "\n",
    "It is good practice to close your database connection after work is done:"
   ]
  },
  {
   "cell_type": "code",
   "execution_count": 11,
   "metadata": {
    "collapsed": false
   },
   "outputs": [
    {
     "data": {
      "text/html": [
       "TRUE"
      ],
      "text/latex": [
       "TRUE"
      ],
      "text/markdown": [
       "TRUE"
      ],
      "text/plain": [
       "[1] TRUE"
      ]
     },
     "metadata": {},
     "output_type": "display_data"
    }
   ],
   "source": [
    "dbDisconnect(conn)"
   ]
  },
  {
   "cell_type": "markdown",
   "metadata": {},
   "source": [
    "## Summary\n",
    "\n",
    "This notebook demonstrated how to establish a connection to a PostgreSQL database from R using the RPostgreSQL library. For more information about that library see the CRAN RPostgreSQL documentation: [RPostgreSQL: R interface to the PostgreSQL database system](https://cran.r-project.org/web/packages/RPostgreSQL/)."
   ]
  },
  {
   "cell_type": "markdown",
   "metadata": {},
   "source": [
    "## Want to learn more?\n",
    "### Free courses on <a href=\"https://bigdatauniversity.com/courses/?utm_source=tutorial-dashdb-python&utm_medium=github&utm_campaign=bdu/\" rel=\"noopener noreferrer\" target=\"_blank\">Big Data University</a>: <a href=\"https://bigdatauniversity.com/courses/?utm_source=tutorial-dashdb-python&utm_medium=github&utm_campaign=bdu\" rel=\"noopener noreferrer\" target=\"_blank\"><img src = \"https://ibm.box.com/shared/static/xomeu7dacwufkoawbg3owc8wzuezltn6.png\" width=600px> </a>"
   ]
  },
  {
   "cell_type": "markdown",
   "metadata": {},
   "source": [
    "### Authors\n",
    "\n",
    "**Saeed Aghabozorgi**, PhD, is a Data Scientist in IBM with a track record of developing enterprise-level applications that substantially increases clients' ability to turn data into actionable knowledge. He is a researcher in the data mining field and an expert in developing advanced analytic methods like machine learning and statistical modelling on large data sets.\n",
    "\n",
    "**Polong Lin** is a Data Scientist at IBM in Canada. Under the Emerging Technologies division, Polong is responsible for educating the next generation of data scientists through Big Data University. Polong is a regular speaker in conferences and meetups, and holds an M.Sc. in Cognitive Psychology."
   ]
  },
  {
   "cell_type": "markdown",
   "metadata": {},
   "source": [
    "Copyright © 2016, 2017 Big Data University. This notebook and its source code are released under the terms of the <a href=\"https://bigdatauniversity.com/mit-license/\" rel=\"noopener noreferrer\" target=\"_blank\">MIT License</a>."
   ]
  }
 ],
 "metadata": {
  "kernelspec": {
   "display_name": "R with Spark 2.0",
   "language": "R",
   "name": "r-spark20"
  },
  "language_info": {
   "codemirror_mode": "r",
   "file_extension": ".r",
   "mimetype": "text/x-r-source",
   "name": "R",
   "pygments_lexer": "r",
   "version": "3.3.2"
  }
 },
 "nbformat": 4,
 "nbformat_minor": 0
}