{
 "cells": [
  {
   "cell_type": "markdown",
   "metadata": {
    "collapsed": true
   },
   "source": [
    "# Build a Python app on the Streaming Analytics service"
   ]
  },
  {
   "cell_type": "markdown",
   "metadata": {},
   "source": [
    "You can create a Python app in this notebook, and then build and deploy this app on the IBM Streaming Analytics service in IBM Bluemix. The Streaming Analytics service is built on IBM Streams technology. You do not need a local version of IBM Streams to build apps for this service."
   ]
  },
  {
   "cell_type": "markdown",
   "metadata": {},
   "source": [
    "This notebook shows how to define a simple Python app and run it on the Streaming Analytics service on the cloud. The app runs as a _job_ on the IBM Streaming Analytics service and it prints `Hello` and `World!` to the Application Dashboard console."
   ]
  },
  {
   "cell_type": "markdown",
   "metadata": {},
   "source": [
    "To create the app, you use the Python Application API. The API is provided in the streamsx package, which is integrated in DSX. You can also use the API to access data streams from views defined in any app that is running on the Streaming Analytics service. "
   ]
  },
  {
   "cell_type": "markdown",
   "metadata": {
    "collapsed": true
   },
   "source": [
    "**Tip:** If you leave the notebook or you are not prompted after running a cell, click **Kernel -> Restart** on the menu bar to rerun the cell.\n",
    "\n",
    "This notebook runs in a Python 3.5 environment with Spark 2.0. You should be familiar with Python, <a href=\"https://console.ng.bluemix.net/docs/services/StreamingAnalytics/index.html#gettingstarted\" target=\"_blank\" rel=\"noopener noreferrer\">\n",
    "streaming analytics</a>, and <a href=\"http://datascience.ibm.com/docs/content/getting-started/quick-overview.html#notebooks\" target=\"_blank\" rel=\"noopener noreferrer\">\n",
    "Jupyter Notebooks</a>."
   ]
  },
  {
   "cell_type": "markdown",
   "metadata": {},
   "source": [
    "## Table of contents"
   ]
  },
  {
   "cell_type": "markdown",
   "metadata": {},
   "source": [
    "***\n",
    "1.\t[Setting up your environment](#setup)\n",
    "1.  [Creating a simple app](#create)\n",
    "1.\t[Building the application](#build)\n",
    "1.\t[Viewing application console messages](#visualize)\n",
    "1.\t[Summary and next steps](#summary)\n",
    "***"
   ]
  },
  {
   "cell_type": "markdown",
   "metadata": {},
   "source": [
    "<a id=\"setup\"></a>\n",
    "## 1. Setting up your environment"
   ]
  },
  {
   "cell_type": "markdown",
   "metadata": {},
   "source": [
    "Complete the following steps to set up your environment:\n",
    "1.\t[Start the Streaming Analytics service](#start)\n",
    "1.\t[Set up access to the service](#access)"
   ]
  },
  {
   "cell_type": "markdown",
   "metadata": {},
   "source": [
    "<a id=\"start\"></a>\n",
    "### 1.1 Start the Streaming Analytics service"
   ]
  },
  {
   "cell_type": "markdown",
   "metadata": {},
   "source": [
    "Open the Bluemix web portal and <a href=\"https://console.ng.bluemix.net/\" target=\"_blank\" rel=\"noopener noreferrer\">log in or sign up for a free Bluemix account</a>.\n",
    "\n",
    "Ensure that your Streaming Analytics service is running in Bluemix.\n",
    "\n",
    "If you don’t have a service, you can create one as follows:  \n",
    "1. Click **Catalog** or **Create Service**, browse for `Streaming Analytics` and then click on it. <br>\n",
    "1. Follow the instructions on the Streaming Analytics catalog page, type the *Service name* to set up your service.<br>\n",
    "<img src='https://github.com/orzade/streamsx-notebooks/blob/master/servicename.png?raw=true' alt=\"Type your service name and click on Create\" title=\"Streaming Analytics catalog - Type your service name\"></img><br>\n",
    "1. Click **Create** to open the Streaming Analytics service dashboard. Your service starts automatically."
   ]
  },
  {
   "cell_type": "markdown",
   "metadata": {},
   "source": [
    "<a id=\"access\"></a>\n",
    "### 1.2 Set up access to the service "
   ]
  },
  {
   "cell_type": "markdown",
   "metadata": {},
   "source": [
    "Before you create an application with this notebook, you must first provide the information that your streaming app needs to access the service. You can find this information on the Streaming Analytics service dashboard. It includes the service name, the service credentials, and the connection URL for the service. \n",
    "\n",
    "Start by running the following cell, and then entering the name of your service when prompted.\n",
    "\n",
    "**Tip:** If you are not prompted to enter the service name, click **Kernel -> Restart** on the menu bar and rerun the cell."
   ]
  },
  {
   "cell_type": "code",
   "execution_count": 1,
   "metadata": {
    "collapsed": false
   },
   "outputs": [
    {
     "name": "stdout",
     "output_type": "stream",
     "text": [
      "Streaming Analytics service name:Streaming Analytics HW\n"
     ]
    }
   ],
   "source": [
    "service_name=input('Streaming Analytics service name:')"
   ]
  },
  {
   "cell_type": "markdown",
   "metadata": {},
   "source": [
    "In the next step you have to enter your service credentials. To copy your service credentials, open the Streaming Analytics service dashboard click **Service Credentials**, then **View Credentials**, and finally click the Copy icon.\n",
    "<img src='https://github.com/orzade/streamsx-notebooks/blob/master/copyservicecredentials.png?raw=true' alt=\"Copy your service credentials\" title=\"Streaming Analytics catalog - Copy your service credentials\"></img>\n",
    "\n",
    "Then run the following cell and paste your service credentials when prompted."
   ]
  },
  {
   "cell_type": "code",
   "execution_count": 2,
   "metadata": {
    "collapsed": false
   },
   "outputs": [
    {
     "name": "stdout",
     "output_type": "stream",
     "text": [
      "Streaming Analytics credentials:········\n"
     ]
    }
   ],
   "source": [
    "import getpass\n",
    "credentials=getpass.getpass('Streaming Analytics credentials:')"
   ]
  },
  {
   "cell_type": "markdown",
   "metadata": {},
   "source": [
    "<a id=\"create\"></a>\n",
    "## 2. Creating a simple Python app"
   ]
  },
  {
   "cell_type": "markdown",
   "metadata": {},
   "source": [
    "Streaming analytics apps are intended for real-time data processing. They should be iterable and run for an undefined amount of time. \n",
    "\n",
    "The first component of this simple app defines the topology object which contains the information about the structure of the content and enables you to define the data source. The topology source specifies an iterable stream source and prints the contents of the stream to the application console. \n",
    "\n",
    "Run the following cell to build this simple app. The result won't be displayed here."
   ]
  },
  {
   "cell_type": "code",
   "execution_count": 3,
   "metadata": {
    "collapsed": true
   },
   "outputs": [],
   "source": [
    "from streamsx.topology.topology import Topology\n",
    "from streamsx.topology.context import *\n",
    "\n",
    "topo = Topology('hello_world')\n",
    "hw = topo.source(['World!', 'Hello'])\n",
    "hw.print()"
   ]
  },
  {
   "cell_type": "markdown",
   "metadata": {},
   "source": [
    "<a id=\"build\"></a>\n",
    "## 3. Building the application\n",
    "\n"
   ]
  },
  {
   "cell_type": "markdown",
   "metadata": {},
   "source": [
    "Run the following cell to submit the declarations defined in your app to the STREAMING_ANALYTICS_SERVICE. The `topo` object in the code represents the application topology and it passes the service credentials (VCAP_SERVICES) in the configuration as parameters to the Streaming Analytics dashboard. <a href=\"https://console.ng.bluemix.net/docs/services/StreamingAnalytics/r_vcap_services.html#r_vcap_services\" target=\"_blank\" rel=\"noopener noreferrer\">VCAP_SERVICES</a> is an environment variable provided by Bluemix to interact with its services."
   ]
  },
  {
   "cell_type": "code",
   "execution_count": 4,
   "metadata": {
    "collapsed": false,
    "scrolled": false
   },
   "outputs": [
    {
     "name": "stdout",
     "output_type": "stream",
     "text": [
      "Apr 14, 2017 11:38:01 AM com.ibm.streamsx.topology.internal.context.remote.BuildServiceRemoteRESTWrapper remoteBuildAndSubmit\n",
      "INFO: Streaming Analytics service (Streaming Analytics HW): Checking status\n",
      "Apr 14, 2017 11:38:04 AM com.ibm.streamsx.topology.internal.streaminganalytics.RestUtils checkInstanceStatus\n",
      "INFO: Streaming Analytics service (Streaming Analytics HW): instance status response:{\"state\":\"STARTED\",\"plan\":\"Standard\",\"enabled\":true,\"status\":\"running\"}\n",
      "Apr 14, 2017 11:38:04 AM com.ibm.streamsx.topology.internal.context.remote.BuildServiceRemoteRESTWrapper remoteBuildAndSubmit\n",
      "INFO: Streaming Analytics service (Streaming Analytics HW): submitting build hello_world_DA7CF354F4789FC8\n",
      "Apr 14, 2017 11:38:35 AM com.ibm.streamsx.topology.internal.context.remote.BuildServiceRemoteRESTWrapper remoteBuildAndSubmit\n",
      "INFO: Streaming Analytics service (Streaming Analytics HW): submitting job request.\n",
      "Apr 14, 2017 11:38:42 AM com.ibm.streamsx.topology.internal.context.remote.BuildServiceRemoteRESTWrapper doSubmitJobFromBuildArtifactPut\n",
      "INFO: Streaming Analytics service (Streaming Analytics HW): submit job response: {\"artifact\":\"3282\",\"jobId\":\"1\",\"application\":\"ipythoninput3fec8567edb92::hello_world\",\"name\":\"ipythoninput3fec8567edb92::hello_world_1\",\"state\":\"STARTED\",\"plan\":\"Standard\",\"enabled\":true,\"status\":\"running\"}\n",
      "Submitted job to service: Streaming Analytics HW\n"
     ]
    }
   ],
   "source": [
    "import json \n",
    "vs={'streaming-analytics': [{'name': service_name, 'credentials': json.loads (credentials)}]}\n",
    "cfg = {}\n",
    "cfg[ConfigParams.VCAP_SERVICES] = vs\n",
    "cfg[ConfigParams.SERVICE_NAME] = service_name\n",
    "submit('STREAMING_ANALYTICS_SERVICE', topo, cfg)\n",
    "print('Submitted job to service:', service_name)"
   ]
  },
  {
   "cell_type": "markdown",
   "metadata": {},
   "source": [
    "After the app is built on the Streaming Analytics service, you can monitor the app using the Streams Console for your service."
   ]
  },
  {
   "cell_type": "markdown",
   "metadata": {},
   "source": [
    "<a id=\"view\"></a>\n",
    "## 4. Viewing application console messages"
   ]
  },
  {
   "cell_type": "markdown",
   "metadata": {},
   "source": [
    "In the Streams Console, the Application Dashboard shows a summary of all of the jobs that are running on the service.  \n",
    "\n",
    "1. From your Streaming Analytics service dashboard, double-click the service you want to monitor. Then click **Launch** to open the Streams Console which displays the Application Dashboard by default.\n",
    "2. From the Application Dashboard, click the **Log Viewer** icon on the left toolbar.\n",
    "<br>\n",
    "<img src='https://github.com/orzade/streamsx-notebooks/blob/master/HW_ApplicationDashboard.png?raw=true' alt=\"Application Dashboard view with jobs and service running\" title=\"Application Dashboard view with jobs and service running\"></img><br>\n",
    "3. Expand the Log Navigation Tree and click the PE (processing element).\n",
    "4. From the **Log Viewer** panel, select the **Console Log** tab. \n",
    "5. Click **Load console messages**. \n",
    "You should see the strings `Hello` and `World!` printed in the **Console Log**. \n",
    "<img src='https://github.com/orzade/streamsx-notebooks/blob/master/HW_Console_Log.png?raw=true' alt=\"The console viewer with Hello World! messages\" title=\"The console viewer with Hello World! messages\"></img>"
   ]
  },
  {
   "cell_type": "markdown",
   "metadata": {
    "collapsed": true
   },
   "source": [
    "<a id=\"summary\"></a>\n",
    "## 5. Summary and next steps\n",
    "\n",
    "You learned how to create a simple app with Python, without installing IBM Streams on-premises. You also learned how to deploy the app to your Streaming Analytics service on the cloud, and monitor your service in the Application Dashboard console. \n",
    "\n",
    "To stop the application, go to the Application Dashboard view and click **Cancel Jobs**.<br>\n",
    "\n",
    "Check out other notebooks in this series: \n",
    " - <a href=\"https://apsportal.ibm.com/exchange/public/entry/view/9fc33ce7301f10e21a9f92039cad29a6\" target=\"_blank\" rel=\"noopener noreferrer\">Healthcare Python Streaming Application Demo</a> \n",
    " - <a href=\"https://apsportal.ibm.com/exchange/public/entry/view/9fc33ce7301f10e21a9f92039ca60bb7\" target=\"_blank\" rel=\"noopener noreferrer\">Build and use a data model in real time with the Python API</a> \n",
    " \n",
    "Dig deeper:\n",
    " - <a href=\"http://ibmstreams.github.io/streamsx.documentation/docs/latest/python/python-appapi-devguide/#developing-ibm-streams-applications-with-python\" target=\"_blank\" rel=\"noopener noreferrer\">Developing IBM Streams applications with Python</a> \n",
    " - <a href=\"https://www.ibm.com/support/knowledgecenter/SSCRJU/SSCRJU_welcome.html\" target=\"_blank\" rel=\"noopener noreferrer\">IBM Streams documentation</a> "
   ]
  },
  {
   "cell_type": "markdown",
   "metadata": {
    "collapsed": true
   },
   "source": [
    "### Author\n",
    "\n",
    "Dan Debrunner is an STSM and architect at IBM who specializes in IBM Streams technology. "
   ]
  },
  {
   "cell_type": "markdown",
   "metadata": {
    "collapsed": true
   },
   "source": [
    "Copyright © 2017 IBM. This notebook and its source code are released under the terms of the MIT License."
   ]
  }
 ],
 "metadata": {
  "kernelspec": {
   "display_name": "Python 3.5 (Experimental) with Spark 2.0",
   "language": "python",
   "name": "python3-spark20"
  },
  "language_info": {
   "codemirror_mode": {
    "name": "ipython",
    "version": 3
   },
   "file_extension": ".py",
   "mimetype": "text/x-python",
   "name": "python",
   "nbconvert_exporter": "python",
   "pygments_lexer": "ipython3",
   "version": "3.5.2"
  }
 },
 "nbformat": 4,
 "nbformat_minor": 0
}