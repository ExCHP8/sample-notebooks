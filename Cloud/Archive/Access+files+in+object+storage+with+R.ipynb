{
 "cells": [
  {
   "cell_type": "markdown",
   "metadata": {},
   "source": [
    "## Access files in Object Storage with R\n",
    "\n",
    "This notebook shows you how to access data files stored in Object Storage by using the R programming language and SparkR, the light-weight frontend to use Apache Spark from R. \n",
    "\n",
    "This notebook runs on R with Spark 2.0.\n",
    "\n",
    "\n",
    "## Table of contents\n",
    "\n",
    "1. [Load data](#load_data)\n",
    "1. [Access data](#access_data)\n",
    "    1. [Access data by using R](#access_data_using_R)\n",
    "    1. [Access data by using SparkR](#access_data_using_SparkR)\n",
    "1. [Summary](#summary)"
   ]
  },
  {
   "cell_type": "markdown",
   "metadata": {},
   "source": [
    "<a id=\"load_data\"></a>\n",
    "## Load data\n",
    "\n",
    "Before you begin analyzing data in data files in your notebook, you must add the data files to the notebook. When you load data files to your notebook, these files are stored in Object Storage. \n",
    "\n",
    "To add files that you want to use in a notebook to Object Storage, click the **Data** icon on the notebook action bar. You can either drag the file that you want to add to the `Data` pane or click **Add Source** and browse to the file. The data files are listed on the `Data` pane. "
   ]
  },
  {
   "cell_type": "markdown",
   "metadata": {
    "collapsed": true
   },
   "source": [
    "<a id=\"access_data\"></a>\n",
    "## Access data\n",
    "\n",
    "To access data in a file in Object Storage, you need the Object Storage authentication credentials. \n",
    "\n",
    "Click the next code cell to set the focus on the cell. To add the credentials to access the data file to this code cell, select **Insert to code>Credentials** on the data file that you loaded in the `Data` pane.\n",
    "\n",
    "This action returns an R `list` object with the credentials required to access the file in Object Storage. "
   ]
  },
  {
   "cell_type": "code",
   "execution_count": 6,
   "metadata": {
    "collapsed": true
   },
   "outputs": [],
   "source": []
  },
  {
   "cell_type": "markdown",
   "metadata": {
    "collapsed": false
   },
   "source": [
    "<div class=\"alert alert-block alert-info\">Note: If you decide to share this notebook with other users, consider removing the credentials from the notebook.</div>"
   ]
  },
  {
   "cell_type": "markdown",
   "metadata": {},
   "source": [
    "<a id=\"access_data_using_R\"></a>\n",
    "### Access data by using R\n",
    "\n",
    "Because the data file is located in Object Storage, you need to define a helper function to access the file that you loaded.  \n",
    "\n",
    "Run the following cell to define the function called `getObjectStorageFile`. This function takes the list object with the credentials required to access the data file as input. The function accesses Object Storage using your credentials and opens the data file in text-mode format for reading in the notebook. "
   ]
  },
  {
   "cell_type": "code",
   "execution_count": 7,
   "metadata": {
    "collapsed": false
   },
   "outputs": [],
   "source": [
    "getObjectStorageFile <- function(credentials) {\n",
    "    if(!require(httr)) install.packages('httr')\n",
    "    if(!require(RCurl)) install.packages('RCurl')\n",
    "    library(httr, RCurl)\n",
    "    auth_url <- paste(credentials[['auth_url']],'/v3/auth/tokens', sep= '')\n",
    "    auth_args <- paste('{\"auth\": {\"identity\": {\"password\": {\"user\": {\"domain\": {\"id\": ', credentials[['domain_id']],'},\"password\": ',\n",
    "                   credentials[['password']],',\"name\": ', credentials[['username']],'}},\"methods\": [\"password\"]}}}', sep='\"')\n",
    "    auth_response <- httr::POST(url = auth_url, body = auth_args)\n",
    "    x_subject_token <- headers(auth_response)[['x-subject-token']]\n",
    "    auth_body <- content(auth_response)\n",
    "    access_url <- unlist(lapply(auth_body[['token']][['catalog']], function(catalog){\n",
    "        if((catalog[['type']] == 'object-store')){\n",
    "            lapply(catalog[['endpoints']], function(endpoints){\n",
    "                if(endpoints[['interface']] == 'public' && endpoints[['region_id']] == credentials[['region']]) {\n",
    "                   paste(endpoints[['url']], credentials[['container']], credentials[['filename']], sep='/')}\n",
    "            })\n",
    "        }\n",
    "    })) \n",
    "    data <- content(httr::GET(url = access_url, add_headers (\"Content-Type\" = \"application/json\", \"X-Auth-Token\" = x_subject_token)), as=\"text\")\n",
    "    textConnection(data)\n",
    "}"
   ]
  },
  {
   "cell_type": "markdown",
   "metadata": {},
   "source": [
    "You can use the text-mode connection to the data file in Object Storage that the helper function returns as input to any standard R data import functions. \n",
    "For example, run the next cell to read a `.csv` file into an R data frame by using the `read.csv()` function:"
   ]
  },
  {
   "cell_type": "code",
   "execution_count": 8,
   "metadata": {
    "collapsed": false,
    "scrolled": false
   },
   "outputs": [
    {
     "data": {
      "text/html": [
       "<table>\n",
       "<thead><tr><th scope=col>id</th><th scope=col>diagnosis</th><th scope=col>radius_mean</th><th scope=col>texture_mean</th><th scope=col>perimeter_mean</th><th scope=col>area_mean</th><th scope=col>smoothness_mean</th><th scope=col>compactness_mean</th><th scope=col>concavity_mean</th><th scope=col>concave.points_mean</th><th scope=col>...</th><th scope=col>texture_worst</th><th scope=col>perimeter_worst</th><th scope=col>area_worst</th><th scope=col>smoothness_worst</th><th scope=col>compactness_worst</th><th scope=col>concavity_worst</th><th scope=col>concave.points_worst</th><th scope=col>symmetry_worst</th><th scope=col>fractal_dimension_worst</th><th scope=col>X</th></tr></thead>\n",
       "<tbody>\n",
       "\t<tr><td>  842302</td><td>M       </td><td>17.99   </td><td>10.38   </td><td>122.80  </td><td>1001.0  </td><td>0.11840 </td><td>0.27760 </td><td>0.3001  </td><td>0.14710 </td><td>...     </td><td>17.33   </td><td>184.60  </td><td>2019.0  </td><td>0.1622  </td><td>0.6656  </td><td>0.7119  </td><td>0.2654  </td><td>0.4601  </td><td>0.11890 </td><td>NA      </td></tr>\n",
       "\t<tr><td>  842517</td><td>M       </td><td>20.57   </td><td>17.77   </td><td>132.90  </td><td>1326.0  </td><td>0.08474 </td><td>0.07864 </td><td>0.0869  </td><td>0.07017 </td><td>...     </td><td>23.41   </td><td>158.80  </td><td>1956.0  </td><td>0.1238  </td><td>0.1866  </td><td>0.2416  </td><td>0.1860  </td><td>0.2750  </td><td>0.08902 </td><td>NA      </td></tr>\n",
       "\t<tr><td>84300903</td><td>M       </td><td>19.69   </td><td>21.25   </td><td>130.00  </td><td>1203.0  </td><td>0.10960 </td><td>0.15990 </td><td>0.1974  </td><td>0.12790 </td><td>...     </td><td>25.53   </td><td>152.50  </td><td>1709.0  </td><td>0.1444  </td><td>0.4245  </td><td>0.4504  </td><td>0.2430  </td><td>0.3613  </td><td>0.08758 </td><td>NA      </td></tr>\n",
       "\t<tr><td>84348301</td><td>M       </td><td>11.42   </td><td>20.38   </td><td> 77.58  </td><td> 386.1  </td><td>0.14250 </td><td>0.28390 </td><td>0.2414  </td><td>0.10520 </td><td>...     </td><td>26.50   </td><td> 98.87  </td><td> 567.7  </td><td>0.2098  </td><td>0.8663  </td><td>0.6869  </td><td>0.2575  </td><td>0.6638  </td><td>0.17300 </td><td>NA      </td></tr>\n",
       "\t<tr><td>84358402</td><td>M       </td><td>20.29   </td><td>14.34   </td><td>135.10  </td><td>1297.0  </td><td>0.10030 </td><td>0.13280 </td><td>0.1980  </td><td>0.10430 </td><td>...     </td><td>16.67   </td><td>152.20  </td><td>1575.0  </td><td>0.1374  </td><td>0.2050  </td><td>0.4000  </td><td>0.1625  </td><td>0.2364  </td><td>0.07678 </td><td>NA      </td></tr>\n",
       "\t<tr><td>  843786</td><td>M       </td><td>12.45   </td><td>15.70   </td><td> 82.57  </td><td> 477.1  </td><td>0.12780 </td><td>0.17000 </td><td>0.1578  </td><td>0.08089 </td><td>...     </td><td>23.75   </td><td>103.40  </td><td> 741.6  </td><td>0.1791  </td><td>0.5249  </td><td>0.5355  </td><td>0.1741  </td><td>0.3985  </td><td>0.12440 </td><td>NA      </td></tr>\n",
       "</tbody>\n",
       "</table>\n"
      ],
      "text/latex": [
       "\\begin{tabular}{r|lllllllllllllllllllllllllllllllll}\n",
       " id & diagnosis & radius\\_mean & texture\\_mean & perimeter\\_mean & area\\_mean & smoothness\\_mean & compactness\\_mean & concavity\\_mean & concave.points\\_mean & ... & texture\\_worst & perimeter\\_worst & area\\_worst & smoothness\\_worst & compactness\\_worst & concavity\\_worst & concave.points\\_worst & symmetry\\_worst & fractal\\_dimension\\_worst & X\\\\\n",
       "\\hline\n",
       "\t   842302 & M        & 17.99    & 10.38    & 122.80   & 1001.0   & 0.11840  & 0.27760  & 0.3001   & 0.14710  & ...      & 17.33    & 184.60   & 2019.0   & 0.1622   & 0.6656   & 0.7119   & 0.2654   & 0.4601   & 0.11890  & NA      \\\\\n",
       "\t   842517 & M        & 20.57    & 17.77    & 132.90   & 1326.0   & 0.08474  & 0.07864  & 0.0869   & 0.07017  & ...      & 23.41    & 158.80   & 1956.0   & 0.1238   & 0.1866   & 0.2416   & 0.1860   & 0.2750   & 0.08902  & NA      \\\\\n",
       "\t 84300903 & M        & 19.69    & 21.25    & 130.00   & 1203.0   & 0.10960  & 0.15990  & 0.1974   & 0.12790  & ...      & 25.53    & 152.50   & 1709.0   & 0.1444   & 0.4245   & 0.4504   & 0.2430   & 0.3613   & 0.08758  & NA      \\\\\n",
       "\t 84348301 & M        & 11.42    & 20.38    &  77.58   &  386.1   & 0.14250  & 0.28390  & 0.2414   & 0.10520  & ...      & 26.50    &  98.87   &  567.7   & 0.2098   & 0.8663   & 0.6869   & 0.2575   & 0.6638   & 0.17300  & NA      \\\\\n",
       "\t 84358402 & M        & 20.29    & 14.34    & 135.10   & 1297.0   & 0.10030  & 0.13280  & 0.1980   & 0.10430  & ...      & 16.67    & 152.20   & 1575.0   & 0.1374   & 0.2050   & 0.4000   & 0.1625   & 0.2364   & 0.07678  & NA      \\\\\n",
       "\t   843786 & M        & 12.45    & 15.70    &  82.57   &  477.1   & 0.12780  & 0.17000  & 0.1578   & 0.08089  & ...      & 23.75    & 103.40   &  741.6   & 0.1791   & 0.5249   & 0.5355   & 0.1741   & 0.3985   & 0.12440  & NA      \\\\\n",
       "\\end{tabular}\n"
      ],
      "text/plain": [
       "  id       diagnosis radius_mean texture_mean perimeter_mean area_mean\n",
       "1   842302 M         17.99       10.38        122.80         1001.0   \n",
       "2   842517 M         20.57       17.77        132.90         1326.0   \n",
       "3 84300903 M         19.69       21.25        130.00         1203.0   \n",
       "4 84348301 M         11.42       20.38         77.58          386.1   \n",
       "5 84358402 M         20.29       14.34        135.10         1297.0   \n",
       "6   843786 M         12.45       15.70         82.57          477.1   \n",
       "  smoothness_mean compactness_mean concavity_mean concave.points_mean ...\n",
       "1 0.11840         0.27760          0.3001         0.14710             ...\n",
       "2 0.08474         0.07864          0.0869         0.07017             ...\n",
       "3 0.10960         0.15990          0.1974         0.12790             ...\n",
       "4 0.14250         0.28390          0.2414         0.10520             ...\n",
       "5 0.10030         0.13280          0.1980         0.10430             ...\n",
       "6 0.12780         0.17000          0.1578         0.08089             ...\n",
       "  texture_worst perimeter_worst area_worst smoothness_worst compactness_worst\n",
       "1 17.33         184.60          2019.0     0.1622           0.6656           \n",
       "2 23.41         158.80          1956.0     0.1238           0.1866           \n",
       "3 25.53         152.50          1709.0     0.1444           0.4245           \n",
       "4 26.50          98.87           567.7     0.2098           0.8663           \n",
       "5 16.67         152.20          1575.0     0.1374           0.2050           \n",
       "6 23.75         103.40           741.6     0.1791           0.5249           \n",
       "  concavity_worst concave.points_worst symmetry_worst fractal_dimension_worst\n",
       "1 0.7119          0.2654               0.4601         0.11890                \n",
       "2 0.2416          0.1860               0.2750         0.08902                \n",
       "3 0.4504          0.2430               0.3613         0.08758                \n",
       "4 0.6869          0.2575               0.6638         0.17300                \n",
       "5 0.4000          0.1625               0.2364         0.07678                \n",
       "6 0.5355          0.1741               0.3985         0.12440                \n",
       "  X \n",
       "1 NA\n",
       "2 NA\n",
       "3 NA\n",
       "4 NA\n",
       "5 NA\n",
       "6 NA"
      ]
     },
     "metadata": {},
     "output_type": "display_data"
    }
   ],
   "source": [
    "R.data.frame <- read.csv(file = getObjectStorageFile(credentials_1))\n",
    "head(R.data.frame)"
   ]
  },
  {
   "cell_type": "markdown",
   "metadata": {},
   "source": [
    "<a id=\"access_data_using_SparkR\"></a>\n",
    "### Access data by using SparkR\n",
    "\n",
    "Before you can access data in the data file in Object Storage by using the [`SQLContext`](https://spark.apache.org/docs/latest/sparkr.html#starting-up-sparkcontext-sqlcontext) object, you must set the Hadoop configuration by using the following configuration function. Run the following cell to create the helper function:"
   ]
  },
  {
   "cell_type": "code",
   "execution_count": 9,
   "metadata": {
    "collapsed": true
   },
   "outputs": [],
   "source": [
    "setHadoopConfig <- function(credentials) {\n",
    "    prefix = paste(\"fs.swift.service\" , credentials[['name']], sep =\".\")\n",
    "    hConf = SparkR:::callJMethod(sc, \"hadoopConfiguration\")\n",
    "    SparkR:::callJMethod(hConf, \"set\", paste(prefix, \"auth.url\", sep='.'), paste(credentials[[\"auth_url\"]],\"/v3/auth/tokens\",sep=\"\"))    \n",
    "    SparkR:::callJMethod(hConf, \"set\", paste(prefix, \"auth.endpoint.prefix\", sep='.'), \"endpoints\")    \n",
    "    SparkR:::callJMethod(hConf, \"set\", paste(prefix, \"tenant\", sep='.'), credentials[[\"project_id\"]])    \n",
    "    SparkR:::callJMethod(hConf, \"set\", paste(prefix, \"username\", sep='.'), credentials[[\"user_id\"]])    \n",
    "    SparkR:::callJMethod(hConf, \"set\", paste(prefix, \"password\", sep='.'), credentials[[\"password\"]])    \n",
    "    SparkR:::callJMethod(hConf, \"set\", paste(prefix, \"region\", sep='.'), credentials[[\"region\"]])    \n",
    "    invisible(SparkR:::callJMethod(hConf, \"setBoolean\", paste(prefix, \"public\", sep='.'), TRUE))\n",
    "}"
   ]
  },
  {
   "cell_type": "markdown",
   "metadata": {},
   "source": [
    "Set the Hadoop configuration and give it a name, for example, `keystone`:"
   ]
  },
  {
   "cell_type": "code",
   "execution_count": 10,
   "metadata": {
    "collapsed": false
   },
   "outputs": [],
   "source": [
    "credentials_1[[\"name\"]] <- \"keystone\"\n",
    "setHadoopConfig(credentials_1)"
   ]
  },
  {
   "cell_type": "markdown",
   "metadata": {},
   "source": [
    "You can now use the `read.df` function from the SparkR API to load the data file as a Spark DataFrame. For example, run the next cell to read a `.csv` file into an Spark DataFrame. The variable `filePath` is the location of the data file in Object Storage."
   ]
  },
  {
   "cell_type": "code",
   "execution_count": 12,
   "metadata": {
    "collapsed": false,
    "scrolled": true
   },
   "outputs": [
    {
     "data": {
      "text/html": [
       "<table>\n",
       "<thead><tr><th scope=col>id</th><th scope=col>diagnosis</th><th scope=col>radius_mean</th><th scope=col>texture_mean</th><th scope=col>perimeter_mean</th><th scope=col>area_mean</th><th scope=col>smoothness_mean</th><th scope=col>compactness_mean</th><th scope=col>concavity_mean</th><th scope=col>concave points_mean</th><th scope=col>...</th><th scope=col>texture_worst</th><th scope=col>perimeter_worst</th><th scope=col>area_worst</th><th scope=col>smoothness_worst</th><th scope=col>compactness_worst</th><th scope=col>concavity_worst</th><th scope=col>concave points_worst</th><th scope=col>symmetry_worst</th><th scope=col>fractal_dimension_worst</th><th scope=col>_c32</th></tr></thead>\n",
       "<tbody>\n",
       "\t<tr><td>842302  </td><td>M       </td><td>17.99   </td><td>10.38   </td><td>122.8   </td><td>1001    </td><td>0.1184  </td><td>0.2776  </td><td>0.3001  </td><td>0.1471  </td><td>...     </td><td>17.33   </td><td>184.6   </td><td>2019    </td><td>0.1622  </td><td>0.6656  </td><td>0.7119  </td><td>0.2654  </td><td>0.4601  </td><td>0.1189  </td><td>NA      </td></tr>\n",
       "\t<tr><td>842517  </td><td>M       </td><td>20.57   </td><td>17.77   </td><td>132.9   </td><td>1326    </td><td>0.08474 </td><td>0.07864 </td><td>0.0869  </td><td>0.07017 </td><td>...     </td><td>23.41   </td><td>158.8   </td><td>1956    </td><td>0.1238  </td><td>0.1866  </td><td>0.2416  </td><td>0.186   </td><td>0.275   </td><td>0.08902 </td><td>NA      </td></tr>\n",
       "\t<tr><td>84300903</td><td>M       </td><td>19.69   </td><td>21.25   </td><td>130     </td><td>1203    </td><td>0.1096  </td><td>0.1599  </td><td>0.1974  </td><td>0.1279  </td><td>...     </td><td>25.53   </td><td>152.5   </td><td>1709    </td><td>0.1444  </td><td>0.4245  </td><td>0.4504  </td><td>0.243   </td><td>0.3613  </td><td>0.08758 </td><td>NA      </td></tr>\n",
       "\t<tr><td>84348301</td><td>M       </td><td>11.42   </td><td>20.38   </td><td>77.58   </td><td>386.1   </td><td>0.1425  </td><td>0.2839  </td><td>0.2414  </td><td>0.1052  </td><td>...     </td><td>26.5    </td><td>98.87   </td><td>567.7   </td><td>0.2098  </td><td>0.8663  </td><td>0.6869  </td><td>0.2575  </td><td>0.6638  </td><td>0.173   </td><td>NA      </td></tr>\n",
       "\t<tr><td>84358402</td><td>M       </td><td>20.29   </td><td>14.34   </td><td>135.1   </td><td>1297    </td><td>0.1003  </td><td>0.1328  </td><td>0.198   </td><td>0.1043  </td><td>...     </td><td>16.67   </td><td>152.2   </td><td>1575    </td><td>0.1374  </td><td>0.205   </td><td>0.4     </td><td>0.1625  </td><td>0.2364  </td><td>0.07678 </td><td>NA      </td></tr>\n",
       "\t<tr><td>843786  </td><td>M       </td><td>12.45   </td><td>15.7    </td><td>82.57   </td><td>477.1   </td><td>0.1278  </td><td>0.17    </td><td>0.1578  </td><td>0.08089 </td><td>...     </td><td>23.75   </td><td>103.4   </td><td>741.6   </td><td>0.1791  </td><td>0.5249  </td><td>0.5355  </td><td>0.1741  </td><td>0.3985  </td><td>0.1244  </td><td>NA      </td></tr>\n",
       "</tbody>\n",
       "</table>\n"
      ],
      "text/latex": [
       "\\begin{tabular}{r|lllllllllllllllllllllllllllllllll}\n",
       " id & diagnosis & radius\\_mean & texture\\_mean & perimeter\\_mean & area\\_mean & smoothness\\_mean & compactness\\_mean & concavity\\_mean & concave points\\_mean & ... & texture\\_worst & perimeter\\_worst & area\\_worst & smoothness\\_worst & compactness\\_worst & concavity\\_worst & concave points\\_worst & symmetry\\_worst & fractal\\_dimension\\_worst & \\_c32\\\\\n",
       "\\hline\n",
       "\t 842302   & M        & 17.99    & 10.38    & 122.8    & 1001     & 0.1184   & 0.2776   & 0.3001   & 0.1471   & ...      & 17.33    & 184.6    & 2019     & 0.1622   & 0.6656   & 0.7119   & 0.2654   & 0.4601   & 0.1189   & NA      \\\\\n",
       "\t 842517   & M        & 20.57    & 17.77    & 132.9    & 1326     & 0.08474  & 0.07864  & 0.0869   & 0.07017  & ...      & 23.41    & 158.8    & 1956     & 0.1238   & 0.1866   & 0.2416   & 0.186    & 0.275    & 0.08902  & NA      \\\\\n",
       "\t 84300903 & M        & 19.69    & 21.25    & 130      & 1203     & 0.1096   & 0.1599   & 0.1974   & 0.1279   & ...      & 25.53    & 152.5    & 1709     & 0.1444   & 0.4245   & 0.4504   & 0.243    & 0.3613   & 0.08758  & NA      \\\\\n",
       "\t 84348301 & M        & 11.42    & 20.38    & 77.58    & 386.1    & 0.1425   & 0.2839   & 0.2414   & 0.1052   & ...      & 26.5     & 98.87    & 567.7    & 0.2098   & 0.8663   & 0.6869   & 0.2575   & 0.6638   & 0.173    & NA      \\\\\n",
       "\t 84358402 & M        & 20.29    & 14.34    & 135.1    & 1297     & 0.1003   & 0.1328   & 0.198    & 0.1043   & ...      & 16.67    & 152.2    & 1575     & 0.1374   & 0.205    & 0.4      & 0.1625   & 0.2364   & 0.07678  & NA      \\\\\n",
       "\t 843786   & M        & 12.45    & 15.7     & 82.57    & 477.1    & 0.1278   & 0.17     & 0.1578   & 0.08089  & ...      & 23.75    & 103.4    & 741.6    & 0.1791   & 0.5249   & 0.5355   & 0.1741   & 0.3985   & 0.1244   & NA      \\\\\n",
       "\\end{tabular}\n"
      ],
      "text/plain": [
       "  id       diagnosis radius_mean texture_mean perimeter_mean area_mean\n",
       "1 842302   M         17.99       10.38        122.8          1001     \n",
       "2 842517   M         20.57       17.77        132.9          1326     \n",
       "3 84300903 M         19.69       21.25        130            1203     \n",
       "4 84348301 M         11.42       20.38        77.58          386.1    \n",
       "5 84358402 M         20.29       14.34        135.1          1297     \n",
       "6 843786   M         12.45       15.7         82.57          477.1    \n",
       "  smoothness_mean compactness_mean concavity_mean concave points_mean ...\n",
       "1 0.1184          0.2776           0.3001         0.1471              ...\n",
       "2 0.08474         0.07864          0.0869         0.07017             ...\n",
       "3 0.1096          0.1599           0.1974         0.1279              ...\n",
       "4 0.1425          0.2839           0.2414         0.1052              ...\n",
       "5 0.1003          0.1328           0.198          0.1043              ...\n",
       "6 0.1278          0.17             0.1578         0.08089             ...\n",
       "  texture_worst perimeter_worst area_worst smoothness_worst compactness_worst\n",
       "1 17.33         184.6           2019       0.1622           0.6656           \n",
       "2 23.41         158.8           1956       0.1238           0.1866           \n",
       "3 25.53         152.5           1709       0.1444           0.4245           \n",
       "4 26.5          98.87           567.7      0.2098           0.8663           \n",
       "5 16.67         152.2           1575       0.1374           0.205            \n",
       "6 23.75         103.4           741.6      0.1791           0.5249           \n",
       "  concavity_worst concave points_worst symmetry_worst fractal_dimension_worst\n",
       "1 0.7119          0.2654               0.4601         0.1189                 \n",
       "2 0.2416          0.186                0.275          0.08902                \n",
       "3 0.4504          0.243                0.3613         0.08758                \n",
       "4 0.6869          0.2575               0.6638         0.173                  \n",
       "5 0.4             0.1625               0.2364         0.07678                \n",
       "6 0.5355          0.1741               0.3985         0.1244                 \n",
       "  _c32\n",
       "1 NA  \n",
       "2 NA  \n",
       "3 NA  \n",
       "4 NA  \n",
       "5 NA  \n",
       "6 NA  "
      ]
     },
     "metadata": {},
     "output_type": "display_data"
    }
   ],
   "source": [
    "filePath <- paste(\"swift://\" , credentials_1[['container']] , \".\" , credentials_1[['name']] , \"/\" , credentials_1[['filename']], sep=\"\")\n",
    "SparkR.DataFrame <- read.df(filePath, source = \"com.databricks.spark.csv\", header = \"true\")\n",
    "head(SparkR.DataFrame)"
   ]
  },
  {
   "cell_type": "markdown",
   "metadata": {},
   "source": [
    "Now your data is in a `Spark DataFrame` and you can begin analyzing it. "
   ]
  },
  {
   "cell_type": "markdown",
   "metadata": {},
   "source": [
    "<div class=\"alert alert-block alert-info\">Note: To access CSV files in Object Storage and load data to use in the notebook, you can use the code generation functions on the `Insert to code` list below each data file in the `Data` pane in the notebook.</div>"
   ]
  },
  {
   "cell_type": "markdown",
   "metadata": {
    "collapsed": true
   },
   "source": [
    "<a id=\"summary\"></a>\n",
    "## Summary\n",
    "\n",
    "This notebook demonstrated how to access files stored in Object Storage by using both R and SparkR. You can use and adapt these code snippets in a notebook you are developing if you want to load data to and access data from Object Storage.\n"
   ]
  },
  {
   "cell_type": "markdown",
   "metadata": {},
   "source": [
    "### Author\n",
    "\n",
    "Sumit Goyal is a Software Developer at IBM in Germany. He is a data science enthusiast and passionate about IBM's Data Science Experience. He holds a degree in Automation and Industrial IT. Meet him on twitter @imSumitGoyal."
   ]
  },
  {
   "cell_type": "markdown",
   "metadata": {
    "collapsed": true
   },
   "source": [
    "Copyright © 2017 IBM. This notebook and its source code are released under the terms of the MIT License."
   ]
  }
 ],
 "metadata": {
  "kernelspec": {
   "display_name": "R with Spark 2.0",
   "language": "R",
   "name": "r-spark20"
  },
  "language_info": {
   "codemirror_mode": "r",
   "file_extension": ".r",
   "mimetype": "text/x-r-source",
   "name": "R",
   "pygments_lexer": "r",
   "version": "3.3.2"
  }
 },
 "nbformat": 4,
 "nbformat_minor": 0
}