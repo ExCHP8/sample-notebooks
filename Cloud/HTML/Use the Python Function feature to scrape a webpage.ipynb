{
 "cells": [
  {
   "cell_type": "markdown",
   "metadata": {},
   "source": [
    "<table style=\"border: none\" align=\"left\">\n",
    "   <tr style=\"border: none\">\n",
    "      <th style=\"border: none\"><font face=\"verdana\" size=\"4\" color=\"black\"><b>Use the Python Function feature to scrape a webpage</b></font></th>\n",
    "      <th style=\"border: none\"><img src=\"https://github.com/pmservice/customer-satisfaction-prediction/blob/master/app/static/images/ml_icon_gray.png?raw=true\" alt=\"Watson Machine Learning icon\" height=\"40\" width=\"40\"></th>\n",
    "   </tr>\n",
    "   <tr style=\"border: none\">\n",
    "       <th style=\"border: none\"><img src=\"https://raw.githubusercontent.com/pmservice/wml-sample-notebooks/master/images/python.png?raw=true\" width=\"600\" alt=\"Icon\"> </th>\n",
    "   </tr>\n",
    "</table>"
   ]
  },
  {
   "cell_type": "markdown",
   "metadata": {},
   "source": [
    "A Python Function is a feature to save and deploy Python code through notebooks or IDE. Python Functions can be implemented in Python notebooks or through REST API using IDE.\n",
    "\n",
    "The requirement of a Python Function is to have a `score()` function inside the Python Function. This `score()` function will be called when running the deployed Python Function.\n",
    "\n",
    "A Python Function can be:\n",
    "- Saved in the Watson Machine Learning (WML) repository.\n",
    "- Deployed in the Watson Machine Learning (WML) repository.\n",
    "- Scored.\n",
    "\n",
    "\n",
    "**Note**: For more details on Python Function, please refer to this <a href=\"https://dataplatform.cloud.ibm.com/docs/content/analyze-data/ml-deploy-functions.html?audience=wdp\" target=\"_blank\" rel=\"noopener no referrer\">link</a>."
   ]
  },
  {
   "cell_type": "markdown",
   "metadata": {},
   "source": [
    "In this notebook, saving, deploying, and scoring a Python Function will be demonstrated. Although the `score()` function is intended to score a Python Function, it can also have other custom functionality such as preprocessing texts.\n",
    "\n",
    "The `score()` function of the Python Function that will be presented in this example notebook does the following tasks:\n",
    "- Scrapes texts that are enclosed in `<p>` tags.\n",
    "- Tokenizes scraped texts.\n",
    "    \n",
    "The data that will be used in this notebook is the <a href=\"http://archive.ics.uci.edu/ml/datasets/SMS+Spam+Collection\" target=\"_blank\" rel=\"noopener no referrer\">SMS spam data set</a> from the UCI Machine Learning Repository. \n",
    "\n",
    "The original data set has both texts and labels in a single file. Only the text parts of the data set were extracted and converted into an `html` file.\n",
    "\n",
    "You can find the html version of the SMS messages <a href=\"https://github.com/pmservice/wml-sample-notebooks/tree/master/datasets\" target=\"_blank\" rel=\"noopener no referrer\">here</a>."
   ]
  },
  {
   "cell_type": "markdown",
   "metadata": {},
   "source": [
    "## Contents\n",
    "\n",
    "This notebook contains the following parts:\n",
    "\n",
    "1.\t[Define a Python Function](#function)\n",
    "2.\t[Save, deploy, and score the Python Function](#deploy)\n",
    "3.\t[Summary and next steps](#summary)"
   ]
  },
  {
   "cell_type": "markdown",
   "metadata": {},
   "source": [
    "## 1. Define a Python Function <a id=\"function\"></a>"
   ]
  },
  {
   "cell_type": "markdown",
   "metadata": {},
   "source": [
    "You can pass a `parameter dict` to the Python Function like in the cell below."
   ]
  },
  {
   "cell_type": "code",
   "execution_count": 1,
   "metadata": {},
   "outputs": [],
   "source": [
    "# You can add any information needed to run the Python function, e.g., wml credentials.\n",
    "py_params = {\n",
    "\n",
    "}"
   ]
  },
  {
   "cell_type": "markdown",
   "metadata": {},
   "source": [
    "The code outside the `score()` function only executes one time and can do things like load objects, install libs, etc. \n",
    "\n",
    "In this example, the `score()` function takes the `url`(s) of the payload and passes it (them) to BeautifulSoup to scrape texts enclosed in `<p>` tags. The extracted texts are passed to `scikit-learn`'s CountVectorizer in order to tokenize the texts.\n",
    "\n",
    "**Note**: If you are importing modules inside the Python Function, you have to install packages through the `subprocess` module. More details can be found <a href=\"https://dataplatform.cloud.ibm.com/docs/content/analyze-data/ml-functions.html?audience=wdp#import\" target=\"_blank\" rel=\"noopener no referrer\">here</a> in the documentation for Python Function."
   ]
  },
  {
   "cell_type": "code",
   "execution_count": 2,
   "metadata": {},
   "outputs": [],
   "source": [
    "def py_funct(params=py_params):  \n",
    "    try:\n",
    "        # Import the subprocess module.\n",
    "        import subprocess\n",
    "        \n",
    "        # Install required packages.\n",
    "        subprocess.check_output('pip install --user lxml', stderr=subprocess.STDOUT, shell=True)\n",
    "        subprocess.check_output('pip install --user bs4', stderr=subprocess.STDOUT, shell=True)\n",
    "        subprocess.check_output('pip install --user sklearn', stderr=subprocess.STDOUT, shell=True)\n",
    "    except subprocess.CalledProcessError as e:        \n",
    "        install_err = 'subprocess.CalledProcessError:\\n\\n' + 'cmd:\\n' + e.cmd + '\\n\\noutput:\\n' + e.output.decode()\n",
    "        raise Exception( 'Installation failed:\\n' + install_err )\n",
    "    \n",
    "    def score(payload):\n",
    "        try:\n",
    "            # Import required modules.\n",
    "            from bs4 import BeautifulSoup\n",
    "            from urllib.request import urlopen\n",
    "            from sklearn.feature_extraction.text import CountVectorizer\n",
    "\n",
    "            urls = payload['values']\n",
    "            final_texts = []   # An array that will have stripped clean text from html tag enclosed text.\n",
    "\n",
    "            for url in urls:            \n",
    "                html = urlopen(url)\n",
    "                soup = BeautifulSoup(html, 'lxml')\n",
    "\n",
    "                p_tags = soup.find_all('p')    # Text is enclosed in <p> tag.\n",
    "\n",
    "                for p in p_tags:\n",
    "                    str_p = str(p)\n",
    "                    text = BeautifulSoup(str_p, 'lxml').get_text()\n",
    "                    final_texts.append(text)\n",
    "\n",
    "            vectorizer = CountVectorizer()\n",
    "            vectorizer.fit_transform(final_texts)\n",
    "\n",
    "            return {'tokens': vectorizer.get_feature_names()}\n",
    "        except Exception as e:\n",
    "            return {'error': repr(e)}\n",
    "        \n",
    "    return score"
   ]
  },
  {
   "cell_type": "markdown",
   "metadata": {},
   "source": [
    "Prepare a sample payload like in the following cell."
   ]
  },
  {
   "cell_type": "code",
   "execution_count": 3,
   "metadata": {},
   "outputs": [],
   "source": [
    "sample_data = {\n",
    "    'fields': ['url'],\n",
    "    'values': [\n",
    "        'https://raw.githubusercontent.com/pmservice/wml-sample-notebooks/master/datasets/sms_spam_text.html'\n",
    "    ]\n",
    "}"
   ]
  },
  {
   "cell_type": "markdown",
   "metadata": {},
   "source": [
    "Pass the list of `url`s to the Python Function."
   ]
  },
  {
   "cell_type": "code",
   "execution_count": 4,
   "metadata": {},
   "outputs": [],
   "source": [
    "pf = py_funct(py_params)\n",
    "tokens = pf(sample_data)"
   ]
  },
  {
   "cell_type": "markdown",
   "metadata": {},
   "source": [
    "The Python Function object returns a `dict` that has a list of tokens as the `value` - the name of the `value` is `tokens`."
   ]
  },
  {
   "cell_type": "code",
   "execution_count": 5,
   "metadata": {},
   "outputs": [
    {
     "data": {
      "text/plain": [
       "['00',\n",
       " '000',\n",
       " '000pes',\n",
       " '008704050406',\n",
       " '0089',\n",
       " '0121',\n",
       " '01223585236',\n",
       " '01223585334',\n",
       " '0125698789',\n",
       " '02']"
      ]
     },
     "execution_count": 5,
     "metadata": {},
     "output_type": "execute_result"
    }
   ],
   "source": [
    "# Token list\n",
    "tokens['tokens'][:10]"
   ]
  },
  {
   "cell_type": "markdown",
   "metadata": {},
   "source": [
    "## 2. Save, deploy, and score the Python Function <a id=\"deploy\"></a>"
   ]
  },
  {
   "cell_type": "markdown",
   "metadata": {},
   "source": [
    "In this section, you will learn how to save, deploy, and score the Python Function in the Watson Machine Learning (WML) repository.\n",
    "\n",
    "- [2.1 Set up the environment](#setup)\n",
    "- [2.2 Save and deploy the Python Function](#save)\n",
    "- [2.3 Score data](#score)"
   ]
  },
  {
   "cell_type": "markdown",
   "metadata": {},
   "source": [
    "### 2.1 Set up the environment <a id=\"setup\"></a>\n",
    "\n",
    "In this subsection, you will learn how to set up the Watson Machine learning (WML) service that is required in order to save, deploy, and score the `Python Function` in the Watson Machine learning (WML) repository."
   ]
  },
  {
   "cell_type": "markdown",
   "metadata": {},
   "source": [
    "#### Install the `watson-machine-learning-client` package from pypi\n",
    "**Note:** `watson-machine-learning-client` documentation can be found <a href=\"http://wml-api-pyclient.mybluemix.net/\" target=\"_blank\" rel=\"noopener no referrer\">here</a>."
   ]
  },
  {
   "cell_type": "code",
   "execution_count": 6,
   "metadata": {},
   "outputs": [],
   "source": [
    "!rm -rf $PIP_BUILD/watson-machine-learning-client"
   ]
  },
  {
   "cell_type": "code",
   "execution_count": null,
   "metadata": {
    "scrolled": true
   },
   "outputs": [],
   "source": [
    "!pip install --upgrade watson-machine-learning-client"
   ]
  },
  {
   "cell_type": "markdown",
   "metadata": {},
   "source": [
    "Authenticate the Watson Machine Learning service on the IBM Cloud.\n",
    "\n",
    "**Tip**: Authentication information (your credentials) can be found in the <a href=\"https://dataplatform.cloud.ibm.com/docs/content/wsj/analyze-data/ml-get-wml-credentials.html\" target=\"_blank\" rel=\"noopener no referrer\">Service credentials</a> tab of the service instance that you created on IBM the Cloud. <BR>If you cannot find the **instance_id** field in **Service Credentials**, click **New credential (+)** to generate new authentication information. \n",
    "\n",
    "**Action**: Enter your Watson Machine Learning service instance credentials in the following cell."
   ]
  },
  {
   "cell_type": "code",
   "execution_count": 8,
   "metadata": {},
   "outputs": [],
   "source": [
    "wml_credentials = {\n",
    "    \"apikey\": \"...\",\n",
    "    \"username\": \"...\",\n",
    "    \"password\": \"...\",\n",
    "    \"instance_id\": \"...\",\n",
    "    \"url\": \"https://ibm-watson-ml.mybluemix.net\"\n",
    "}"
   ]
  },
  {
   "cell_type": "markdown",
   "metadata": {},
   "source": [
    "#### Import the `watson-machine-learning-client` module and authenticate the service instance."
   ]
  },
  {
   "cell_type": "code",
   "execution_count": 9,
   "metadata": {},
   "outputs": [],
   "source": [
    "from watson_machine_learning_client import WatsonMachineLearningAPIClient"
   ]
  },
  {
   "cell_type": "markdown",
   "metadata": {},
   "source": [
    "Now, let's instantiate a WatsonMachineLearningAPIClient object."
   ]
  },
  {
   "cell_type": "code",
   "execution_count": 10,
   "metadata": {},
   "outputs": [],
   "source": [
    "wml_credentials = {\n",
    "    'apikey': '...',\n",
    "    'instance_id': '...',\n",
    "    'password': '...',\n",
    "    'url': '...',\n",
    "    'username': '...'\n",
    "}\n",
    "client = WatsonMachineLearningAPIClient(wml_credentials)"
   ]
  },
  {
   "cell_type": "markdown",
   "metadata": {},
   "source": [
    "### 2.2 Save and deploy the Python Function <a id=\"save\"></a>"
   ]
  },
  {
   "cell_type": "markdown",
   "metadata": {},
   "source": [
    "In this subsection, you will learn how to save and deploy the `Python Function`.\n",
    "First, store the `Python Function` with the meta data."
   ]
  },
  {
   "cell_type": "code",
   "execution_count": 11,
   "metadata": {},
   "outputs": [
    {
     "name": "stdout",
     "output_type": "stream",
     "text": [
      "No matching default runtime found. Creating one...SUCCESS\n",
      "\n",
      "Successfully created runtime with uid: de847f71-5389-411e-b671-a5454e86a221\n"
     ]
    }
   ],
   "source": [
    "meta_data = { client.repository.FunctionMetaNames.NAME : 'Web scraping python function' }\n",
    "function_details = client.repository.store_function(meta_props=meta_data, function=py_funct) # If the py_param dict is not empty, function=py_funct(py_param)."
   ]
  },
  {
   "cell_type": "code",
   "execution_count": null,
   "metadata": {},
   "outputs": [],
   "source": [
    "function_details"
   ]
  },
  {
   "cell_type": "markdown",
   "metadata": {},
   "source": [
    "Second, deploy the `Python Function`."
   ]
  },
  {
   "cell_type": "code",
   "execution_count": 13,
   "metadata": {},
   "outputs": [
    {
     "name": "stdout",
     "output_type": "stream",
     "text": [
      "\n",
      "\n",
      "#######################################################################################\n",
      "\n",
      "Synchronous deployment creation for uid: '9a6ac643-68d5-41ac-93c6-13ee690bb698' started\n",
      "\n",
      "#######################################################################################\n",
      "\n",
      "\n",
      "INITIALIZING\n",
      "DEPLOY_IN_PROGRESS...\n",
      "DEPLOY_SUCCESS\n",
      "\n",
      "\n",
      "------------------------------------------------------------------------------------------------\n",
      "Successfully finished deployment creation, deployment_uid='2ff7f9af-163f-4283-b815-af729d05e79a'\n",
      "------------------------------------------------------------------------------------------------\n",
      "\n",
      "\n"
     ]
    }
   ],
   "source": [
    "function_id = function_details['metadata']['guid']\n",
    "function_deployment_details = client.deployments.create(artifact_uid=function_id, name='Web scraping python function deployment')"
   ]
  },
  {
   "cell_type": "markdown",
   "metadata": {},
   "source": [
    "You can check the deployment details by running the following cell."
   ]
  },
  {
   "cell_type": "code",
   "execution_count": null,
   "metadata": {},
   "outputs": [],
   "source": [
    "function_deployment_details"
   ]
  },
  {
   "cell_type": "markdown",
   "metadata": {},
   "source": [
    "Please check if the deployment was successfully created by listing deployments."
   ]
  },
  {
   "cell_type": "code",
   "execution_count": 15,
   "metadata": {},
   "outputs": [
    {
     "name": "stdout",
     "output_type": "stream",
     "text": [
      "------------------------------------  -----------------------------------------------------  -------  --------------  ------------------------  -----------------  -------------\n",
      "GUID                                  NAME                                                   TYPE     STATE           CREATED                   FRAMEWORK          ARTIFACT TYPE\n",
      "2ff7f9af-163f-4283-b815-af729d05e79a  Web scraping python function deployment                online   DEPLOY_SUCCESS  2019-08-07T18:01:52.778Z  n/a                function\n",
      "5289c766-ea30-4bfa-b5aa-1a06d6ad8acf  Web scraping python function deployment                online   DEPLOY_SUCCESS  2019-08-07T17:44:59.149Z  n/a                function\n",
      "a2d8ee17-edfb-4e9e-b827-3f77d168d1f1  sklearn_pipeline_d2v                                   online   DEPLOY_SUCCESS  2019-07-26T17:29:28.166Z  scikit-learn-0.20  model\n",
      "70efaba3-aff2-4a08-b3cf-0b076df877e6  Fashion MNIST GAN model deployment                     online   DEPLOY_SUCCESS  2019-07-24T23:29:53.059Z  tensorflow-1.5     model\n",
      "1a679262-48aa-4213-8184-349f7aa60b20  Product line model deployment                          online   DEPLOY_SUCCESS  2019-07-19T14:24:58.718Z  mllib-2.3          model\n",
      "2fb7a215-2fc7-46e4-9690-bbdb97f8ec5c  Fashion MNIST GAN model deployment                     online   DEPLOY_FAILURE  2019-07-18T21:26:23.225Z  tensorflow-1.5     model\n",
      "f73c4363-901b-4ba4-8bfd-694056100785  Product line model deployment                          online   DEPLOY_SUCCESS  2019-07-16T15:46:20.641Z  mllib-2.3          model\n",
      "7985e484-4192-400e-82e5-3756d4600668  ARIMA model python function deployment                 online   DEPLOY_SUCCESS  2019-07-03T20:33:40.817Z  n/a                function\n",
      "cfcd5f9e-5b07-4bea-b57d-304c12254add  sklearn_pipeline_arima                                 online   DEPLOY_SUCCESS  2019-07-03T01:06:29.302Z  scikit-learn-0.19  model\n",
      "8b95a4dd-4b3f-4b36-bd3e-b58b59f100e2  Mnist model deployment                                 online   DEPLOY_SUCCESS  2019-04-02T16:09:27.875Z  tensorflow-1.5     model\n",
      "451f5f1a-d1f5-4a90-a441-b2953053ae6f  Time Series model (SPSS) deployment                    online   DEPLOY_SUCCESS  2019-03-28T19:00:49.524Z  spss-modeler-18.1  model\n",
      "486a79af-ea0b-4e8e-8166-dc2bb43b6c98  TensorFlow MNIST model deployment                      online   DEPLOY_SUCCESS  2019-03-15T18:27:34.468Z  tensorflow-1.5     model\n",
      "92991643-a229-4f9e-a70a-3e9de612942e  Sample SPSS model deployment                           online   DEPLOY_SUCCESS  2019-03-12T12:59:15.857Z  spss-modeler-18.1  model\n",
      "dce80b25-3d32-4005-b96b-9d9c80a7239a  MNIST keras deployment                                 online   DEPLOY_FAILURE  2019-03-07T13:37:41.529Z  tensorflow-1.5     model\n",
      "00edc46c-5df5-482e-936a-4d9f2e5fbc06  Product line model deployment                          online   DEPLOY_SUCCESS  2019-03-06T14:30:35.086Z  mllib-2.3          model\n",
      "86da6500-18ff-4970-b3e4-7e335d4a08f9  Mnist model deployment                                 online   DEPLOY_SUCCESS  2019-03-06T12:52:13.175Z  tensorflow-1.5     model\n",
      "d250df1b-6e43-4c69-98d2-10ff25b5d63d  Virtual deployment of Boston model                     virtual  DEPLOY_SUCCESS  2019-03-06T11:45:33.176Z  scikit-learn-0.19  model\n",
      "6d3cf6bb-db92-427c-8b52-9d050d7bfec8  Virtual deployment of Boston model                     virtual  DEPLOY_SUCCESS  2019-03-06T11:32:59.110Z  scikit-learn-0.19  model\n",
      "ded4770f-c2fe-4653-9ce2-0c79ecfa10be  Iris species prediction                                online   DEPLOY_SUCCESS  2019-03-04T12:59:23.413Z  pmml-4.2           model\n",
      "450f555b-1952-4ef1-90be-96a16f600345  Predict breast cancer                                  online   DEPLOY_SUCCESS  2019-02-28T19:11:28.862Z  scikit-learn-0.19  model\n",
      "984ffa92-1c82-4b54-bb56-f6f85e915227  Web scraping python function deployment                online   DEPLOY_SUCCESS  2019-02-27T17:50:16.907Z  n/a                function\n",
      "e5472c3f-c7d7-4a3e-9b20-44f03030373e  Web scraping python function deployment                online   DEPLOY_SUCCESS  2019-02-27T16:51:24.029Z  n/a                function\n",
      "304c671c-6a48-496d-b27b-3ad9888a0156  Online scoring                                         online   DEPLOY_SUCCESS  2019-02-27T13:50:39.730Z  mllib-2.3          model\n",
      "18298746-41ec-4bac-928c-fc34e3708ca9  Sample SPSS model deployment                           online   DEPLOY_SUCCESS  2019-02-27T11:53:13.523Z  spss-modeler-18.1  model\n",
      "375d050d-1e3b-49e5-9f1d-655f28734ec7  Sample SPSS model deployment                           online   DEPLOY_SUCCESS  2019-02-27T09:29:07.286Z  spss-modeler-18.1  model\n",
      "2924aaaf-bddf-4567-8206-6972c163dfa4  Sample SPSS model deployment                           online   DEPLOY_SUCCESS  2019-02-26T13:13:44.977Z  spss-modeler-18.1  model\n",
      "feb87375-fca8-4b0c-8f2f-5c83a6e26115  Iris species prediction                                online   DEPLOY_SUCCESS  2019-02-25T13:09:17.454Z  pmml-4.2           model\n",
      "a0e16777-75ad-489a-a6db-5213619381a4  Keras MNIST model deployment through compressed file.  online   DEPLOY_SUCCESS  2019-02-25T12:29:47.265Z  tensorflow-1.5     model\n",
      "5c5ebf10-c47a-4224-b35d-3646b0348af1  Web scraping python function deployment                online   DEPLOY_SUCCESS  2019-02-21T14:58:00.141Z  n/a                function\n",
      "a738de63-d74e-454a-9dd7-f377c65420bc  Online scoring                                         online   DEPLOY_SUCCESS  2019-01-19T19:49:21.391Z  mllib-2.3          model\n",
      "d8f43799-cf5c-499f-a9d3-42d2e398f337  Sample SPSS model deployment                           online   DEPLOY_SUCCESS  2019-01-18T10:28:38.134Z  spss-modeler-18.1  model\n",
      "12056c7c-6ff1-454d-b324-d1cf4b42c4fd  Iris species prediction                                online   DEPLOY_SUCCESS  2019-01-18T09:36:17.097Z  pmml-4.2           model\n",
      "a375c7bc-963d-4a9b-9896-7dbcdcaed78d  Web scraping python function deployment                online   DEPLOY_SUCCESS  2019-01-17T10:11:40.324Z  n/a                function\n",
      "a8b47a68-060c-4474-a5c0-15da3304063a  Product line model deployment                          online   DEPLOY_SUCCESS  2019-01-17T10:02:44.991Z  mllib-2.3          model\n",
      "ada89546-d27c-4c32-953f-84f2238eb12a  Product line model deployment                          online   DEPLOY_SUCCESS  2019-01-17T07:14:05.178Z  mllib-2.3          model\n",
      "902853d1-9ff6-40a7-8918-d6b7b39c3a4e  Web scraping python function deployment                online   DEPLOY_SUCCESS  2019-01-17T02:37:29.921Z  n/a                function\n",
      "3da0fb97-24b9-44d6-ac16-e97a0cf8dfcb  Keras MNIST model deployment through compressed file.  online   DEPLOY_SUCCESS  2019-01-15T14:49:46.285Z  tensorflow-1.5     model\n",
      "------------------------------------  -----------------------------------------------------  -------  --------------  ------------------------  -----------------  -------------\n"
     ]
    }
   ],
   "source": [
    "client.deployments.list()"
   ]
  },
  {
   "cell_type": "markdown",
   "metadata": {},
   "source": [
    "### 2.3 Score data <a id=\"score\"></a>"
   ]
  },
  {
   "cell_type": "markdown",
   "metadata": {},
   "source": [
    "In this subsection, you will learn how to score the deployed `Python Function` with a test data record."
   ]
  },
  {
   "cell_type": "markdown",
   "metadata": {},
   "source": [
    "First, create an online deployment endpoint."
   ]
  },
  {
   "cell_type": "code",
   "execution_count": 16,
   "metadata": {},
   "outputs": [],
   "source": [
    "function_deployment_endpoint_url = client.deployments.get_scoring_url(function_deployment_details)"
   ]
  },
  {
   "cell_type": "markdown",
   "metadata": {},
   "source": [
    "The following is the record that will be used for scoring."
   ]
  },
  {
   "cell_type": "code",
   "execution_count": 17,
   "metadata": {},
   "outputs": [],
   "source": [
    "payload = {\n",
    "    'values': [ \n",
    "        'https://www.ibm.com/cloud/machine-learning' \n",
    "    ] \n",
    "}"
   ]
  },
  {
   "cell_type": "code",
   "execution_count": 18,
   "metadata": {
    "scrolled": false
   },
   "outputs": [
    {
     "data": {
      "text/plain": [
       "['accelerate',\n",
       " 'accelerating',\n",
       " 'access',\n",
       " 'accuracy',\n",
       " 'across',\n",
       " 'actively',\n",
       " 'adapts',\n",
       " 'advantage',\n",
       " 'ai',\n",
       " 'algorithms']"
      ]
     },
     "execution_count": 18,
     "metadata": {},
     "output_type": "execute_result"
    }
   ],
   "source": [
    "client.deployments.score(function_deployment_endpoint_url, payload)['tokens'][:10]"
   ]
  },
  {
   "cell_type": "markdown",
   "metadata": {},
   "source": [
    "## 3. Summary and next steps <a id=\"summary\"></a>"
   ]
  },
  {
   "cell_type": "markdown",
   "metadata": {},
   "source": [
    "You successfully completed this notebook! \n",
    " \n",
    "You learned how to define a `Python Function`. Also, you learned how to save, deploy, and score the `Python Function` in the Watson Machine Learning (WML) repository. \n",
    "\n",
    "In the next step, in addition to tokenizing, a classification model trained with the `SMS spam` data set will be called in the `score()` function and perform scoring.\n",
    " \n",
    "Check out our <a href=\"https://dataplatform.ibm.com/docs/content/analyze-data/wml-setup.html\" target=\"_blank\" rel=\"noopener noreferrer\">Online Documentation</a> for more samples, tutorials, documentation, how-tos, and blog posts."
   ]
  },
  {
   "cell_type": "markdown",
   "metadata": {},
   "source": [
    "### Citation\n",
    "\n",
    "Almeida, T. A. and Hidalgo, J. M. G. (2012), <a href=\"http://archive.ics.uci.edu/ml/datasets/SMS+Spam+Collection\" target=\"_blank\" rel=\"noopener noreferrer\">UCI Machine Learning Repository</a>, Irvine, CA."
   ]
  },
  {
   "cell_type": "markdown",
   "metadata": {},
   "source": [
    "### Author\n",
    "\n",
    "**Jihyoung Kim**, Ph.D., is a Data Scientist at IBM who strives to make data science easy for everyone through Watson Studio."
   ]
  },
  {
   "cell_type": "markdown",
   "metadata": {},
   "source": [
    "Copyright © 2019 IBM. This notebook and its source code are released under the terms of the MIT License."
   ]
  },
  {
   "cell_type": "markdown",
   "metadata": {},
   "source": [
    "<div style=\"background:#F5F7FA; height:110px; padding: 2em; font-size:14px;\">\n",
    "<span style=\"font-size:18px;color:#152935;\">Love this notebook? </span>\n",
    "<span style=\"font-size:15px;color:#152935;float:right;margin-right:40px;\">Don't have an account yet?</span><br>\n",
    "<span style=\"color:#5A6872;\">Share it with your colleagues and help them discover the power of Watson Studio!</span>\n",
    "<span style=\"border: 1px solid #3d70b2;padding:8px;float:right;margin-right:40px; color:#3d70b2;\"><a href=\"https://ibm.co/wsnotebooks\" target=\"_blank\" style=\"color: #3d70b2;text-decoration: none;\">Sign Up</a></span><br>\n",
    "</div>"
   ]
  }
 ],
 "metadata": {
  "kernelspec": {
   "display_name": "Python 3.6",
   "language": "python",
   "name": "python3"
  },
  "language_info": {
   "codemirror_mode": {
    "name": "ipython",
    "version": 3
   },
   "file_extension": ".py",
   "mimetype": "text/x-python",
   "name": "python",
   "nbconvert_exporter": "python",
   "pygments_lexer": "ipython3",
   "version": "3.6.8"
  }
 },
 "nbformat": 4,
 "nbformat_minor": 1
}
