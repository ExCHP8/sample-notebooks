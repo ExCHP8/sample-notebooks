{
 "cells": [
  {
   "cell_type": "markdown",
   "metadata": {},
   "source": [
    "<img src=\"https://github.com/pmservice/customer-satisfaction-prediction/blob/master/app/static/images/ml_icon_gray.png?raw=true\" align=\"center\" alt=\"\" height=\"45\" width=\"45\"/>"
   ]
  },
  {
   "cell_type": "markdown",
   "metadata": {},
   "source": [
    "# Using custom components with tf.py_function with Watson Machine Learning\n"
   ]
  },
  {
   "cell_type": "markdown",
   "metadata": {},
   "source": [
    "Building models with standard components is straightforward, but to use any custom component with your models in Watson Machine Learning, you need to package your custom component code in a source distribution package and store that package in WML with your model.\n",
    "\n",
    "Learn how to define a custom operation using the tf.py_function operation in TensorFlow. The custom operation is then used in a LeNet network for handwritten character recognition which is trained on the MNIST data set. The trained model is persisted, deployed and scored using the Watson Machine Learning Python Client.\n",
    "\n",
    "Some familiarity with Python is helpful. This notebook is compatible with CP4D 3.0, Python 3.6, and tensorflow 1.15. Learn more about custom components in the <a href=\"https://www.ibm.com/support/knowledgecenter/SSQNUZ_3.0.0/wsj/analyze-data/ml-custom_libs_overview.html\" target=\"_blank\" rel=\"noopener noreferrer\">documentation</a>.\n",
    "\n",
    "## Learning goals\n",
    "\n",
    "This notebook focuses particularly on demonstrating how to use custom components in your model. You will learn how to:\n",
    "\n",
    "-  define a custom operation and corresponding gradient using `tf.py_function`\n",
    "-  create a LeNet model using the defined custom operation\n",
    "-  train the model on the MNIST data set\n",
    "-  create a package extension containing the custom tensor operation and associate it with a custom software specification\n",
    "-  persist the library and the model with Watson Machine Learning\n",
    "-  deploy the model in a deployment space\n",
    "-  perform some classifications using the deployed model\n",
    "\n",
    "\n",
    "## Contents\n",
    "\n",
    "This notebook contains the following parts:\n",
    "\n",
    "1.  [Create the operation for tf.py_function and download the library](#func)\n",
    "2.\t[Load data and initialize parameters](#load)\n",
    "3.\t[Create and train the LeNet model](#model)\n",
    "4.  [Save the LeNet model locally](#save)\n",
    "5.  [Setting up](#setup)\n",
    "6.  [Save the custom library and model using Watson Machine Learning](#lib_persistence)\n",
    "7.  [Deploy and perform prediction on the LeNet model (with deployment space only)](#Scoring)\n",
    "8.  [Summary](#summary)\n"
   ]
  },
  {
   "cell_type": "markdown",
   "metadata": {},
   "source": [
    "To get started on CP4D 3.0, find documentation on installation and set up <a href=\"https://www.ibm.com/support/knowledgecenter/SSQNUZ_3.0.0/cpd/overview/welcome.html\" target=\"_blank\" rel=\"noopener no referrer\">here</a>."
   ]
  },
  {
   "cell_type": "markdown",
   "metadata": {},
   "source": [
    "<a id=\"func\"></a>\n",
    "## 1. Configure the tf.py_function function\n",
    "\n",
    "In this section, you will:\n",
    "- [Create a custom operation for the tf.py_function](#createfunc)\n",
    "- [Download the Python libraries](#downloadlib) that the tf.py_function needs"
   ]
  },
  {
   "cell_type": "markdown",
   "metadata": {},
   "source": [
    "### 1.1 Create a custom operation for tf.py_function<a id=\"createfunc\"></a>"
   ]
  },
  {
   "cell_type": "markdown",
   "metadata": {},
   "source": [
    "When you create a custom operation for tf.py_function, you also need to create the corresponding gradient function. TensorFlow maps any function passed to the tf.py_function under the `PyFunc` operation type. TensorFlow models perform gradient calculation during training. Hence, a user defined `tf.py_function` operation requires a corresponding gradient function to be defined and mapped to the `PyFunc` operation type. In this example, `reshape_grad` is the gradient function for the `tf.py_function` operation."
   ]
  },
  {
   "cell_type": "code",
   "execution_count": 1,
   "metadata": {},
   "outputs": [
    {
     "name": "stdout",
     "output_type": "stream",
     "text": [
      "Requirement already up-to-date: tensorflow==1.15 in /opt/conda/envs/Python-3.6-WMLCE/lib/python3.6/site-packages (1.15.0)\n",
      "Requirement already satisfied, skipping upgrade: six>=1.10.0 in /user-home/_global_/python-3 (from tensorflow==1.15) (1.12.0)\n",
      "Requirement already satisfied, skipping upgrade: astor>=0.6.0 in /opt/conda/envs/Python-3.6-WMLCE/lib/python3.6/site-packages (from tensorflow==1.15) (0.7.1)\n",
      "Requirement already satisfied, skipping upgrade: wheel>=0.26 in /opt/conda/envs/Python-3.6-WMLCE/lib/python3.6/site-packages (from tensorflow==1.15) (0.34.2)\n",
      "Requirement already satisfied, skipping upgrade: grpcio>=1.8.6 in /opt/conda/envs/Python-3.6-WMLCE/lib/python3.6/site-packages (from tensorflow==1.15) (1.16.1)\n",
      "Requirement already satisfied, skipping upgrade: keras-preprocessing>=1.0.5 in /opt/conda/envs/Python-3.6-WMLCE/lib/python3.6/site-packages (from tensorflow==1.15) (1.1.0)\n",
      "Requirement already satisfied, skipping upgrade: absl-py>=0.7.0 in /opt/conda/envs/Python-3.6-WMLCE/lib/python3.6/site-packages (from tensorflow==1.15) (0.7.1)\n",
      "Requirement already satisfied, skipping upgrade: wrapt>=1.11.1 in /opt/conda/envs/Python-3.6-WMLCE/lib/python3.6/site-packages (from tensorflow==1.15) (1.11.2)\n",
      "Requirement already satisfied, skipping upgrade: numpy<2.0,>=1.16.0 in /opt/conda/envs/Python-3.6-WMLCE/lib/python3.6/site-packages (from tensorflow==1.15) (1.16.6)\n",
      "Requirement already satisfied, skipping upgrade: tensorflow-estimator==1.15.1 in /opt/conda/envs/Python-3.6-WMLCE/lib/python3.6/site-packages (from tensorflow==1.15) (1.15.1)\n",
      "Requirement already satisfied, skipping upgrade: opt-einsum>=2.3.2 in /opt/conda/envs/Python-3.6-WMLCE/lib/python3.6/site-packages (from tensorflow==1.15) (3.2.1)\n",
      "Requirement already satisfied, skipping upgrade: keras-applications>=1.0.8 in /opt/conda/envs/Python-3.6-WMLCE/lib/python3.6/site-packages (from tensorflow==1.15) (1.0.8)\n",
      "Requirement already satisfied, skipping upgrade: tensorboard<1.16.0,>=1.15.0 in /opt/conda/envs/Python-3.6-WMLCE/lib/python3.6/site-packages (from tensorflow==1.15) (1.15.0)\n",
      "Requirement already satisfied, skipping upgrade: google-pasta>=0.1.6 in /opt/conda/envs/Python-3.6-WMLCE/lib/python3.6/site-packages (from tensorflow==1.15) (0.1.6)\n",
      "Requirement already satisfied, skipping upgrade: protobuf>=3.6.1 in /opt/conda/envs/Python-3.6-WMLCE/lib/python3.6/site-packages (from tensorflow==1.15) (3.8.0)\n",
      "Requirement already satisfied, skipping upgrade: termcolor>=1.1.0 in /opt/conda/envs/Python-3.6-WMLCE/lib/python3.6/site-packages (from tensorflow==1.15) (1.1.0)\n",
      "Requirement already satisfied, skipping upgrade: gast==0.2.2 in /opt/conda/envs/Python-3.6-WMLCE/lib/python3.6/site-packages (from tensorflow==1.15) (0.2.2)\n",
      "Requirement already satisfied, skipping upgrade: h5py in /opt/conda/envs/Python-3.6-WMLCE/lib/python3.6/site-packages (from keras-applications>=1.0.8->tensorflow==1.15) (2.8.0)\n",
      "Requirement already satisfied, skipping upgrade: werkzeug>=0.11.15 in /opt/conda/envs/Python-3.6-WMLCE/lib/python3.6/site-packages (from tensorboard<1.16.0,>=1.15.0->tensorflow==1.15) (0.14.1)\n",
      "Requirement already satisfied, skipping upgrade: markdown>=2.6.8 in /opt/conda/envs/Python-3.6-WMLCE/lib/python3.6/site-packages (from tensorboard<1.16.0,>=1.15.0->tensorflow==1.15) (3.0.1)\n",
      "Requirement already satisfied, skipping upgrade: setuptools>=41.0.0 in /opt/conda/envs/Python-3.6-WMLCE/lib/python3.6/site-packages (from tensorboard<1.16.0,>=1.15.0->tensorflow==1.15) (45.2.0.post20200210)\n"
     ]
    }
   ],
   "source": [
    "!pip install --upgrade tensorflow==1.15"
   ]
  },
  {
   "cell_type": "code",
   "execution_count": 2,
   "metadata": {},
   "outputs": [],
   "source": [
    "import warnings\n",
    "warnings.filterwarnings(\"ignore\", category=FutureWarning)"
   ]
  },
  {
   "cell_type": "code",
   "execution_count": 3,
   "metadata": {},
   "outputs": [],
   "source": [
    "import tensorflow as tf\n",
    "import numpy as np\n",
    "from tensorflow.python.framework import ops\n",
    "\n",
    "def reshape_func(x):\n",
    "    x = tf.cast(tf.reshape(x, [x.shape[0], x.shape[1], x.shape[2], 1]), tf.float32)\n",
    "    x /= 255\n",
    "    return x\n",
    "\n",
    "def reshape_grad(op, grad):\n",
    "    x = op.inputs[0]\n",
    "\n",
    "    return grad\n",
    "\n",
    "def create_py_func_with_grads(op, inp, tout, name=None, grad=None):\n",
    "    grad_name = 'PyFuncGrad' + str(np.random.randint(0, 1e+8))\n",
    "\n",
    "    tf.RegisterGradient(grad_name)(grad)\n",
    "    g = tf.get_default_graph()\n",
    "\n",
    "    with g.gradient_override_map({\"PyFunc\": grad_name}):\n",
    "        return tf.py_function(op, inp, tout, name=name)"
   ]
  },
  {
   "cell_type": "markdown",
   "metadata": {},
   "source": [
    "### 1.2 Download a sample custom package for a TensorFlow model<a id=\"downloadlib\"></a>"
   ]
  },
  {
   "cell_type": "markdown",
   "metadata": {},
   "source": [
    "A Python-distributable library needs to be created to store and deploy models that use operations defined through `tf.py_function`. The library must contain an `initialize_py_func()` function, which defines the `tf.py_function` operation. The operation defined within this function must have the same name as the operation created during model definition and training. Also, the `initialize_py_func()` function must be referenceable using the top-level module name. For example, if the top-level module in the python distribution package is `my_top_module`, then `initialize_py_func()` must be referenceable as `my_top_module.initialize_py_func()`.\n",
    "\n",
    "Currently, only source-distributed libraries archived in `.zip` format are supported. Library distributions of type `wheels` and `eggs` are not supported.\n",
    "\n",
    "Any 3rd party libraries that are required for the custom transformer must be defined as the dependency for the corresponding library that contains the transformer implementation. "
   ]
  },
  {
   "cell_type": "markdown",
   "metadata": {},
   "source": [
    "Download the sample library `custom_reshape_pyfunc.zip`, which defines the reshape operation."
   ]
  },
  {
   "cell_type": "code",
   "execution_count": 4,
   "metadata": {
    "scrolled": true
   },
   "outputs": [
    {
     "name": "stdout",
     "output_type": "stream",
     "text": [
      "--2020-05-12 03:30:51--  https://github.com/pmservice/wml-sample-models/raw/master/tensorflow/custom-op-hand-written-digit-recognition/libraries/custom_reshape_pyfunc.zip\n",
      "Resolving github.com (github.com)... 140.82.114.4\n",
      "Connecting to github.com (github.com)|140.82.114.4|:443... connected.\n",
      "HTTP request sent, awaiting response... 302 Found\n",
      "Location: https://raw.githubusercontent.com/pmservice/wml-sample-models/master/tensorflow/custom-op-hand-written-digit-recognition/libraries/custom_reshape_pyfunc.zip [following]\n",
      "--2020-05-12 03:30:57--  https://raw.githubusercontent.com/pmservice/wml-sample-models/master/tensorflow/custom-op-hand-written-digit-recognition/libraries/custom_reshape_pyfunc.zip\n",
      "Resolving raw.githubusercontent.com (raw.githubusercontent.com)... 199.232.36.133\n",
      "Connecting to raw.githubusercontent.com (raw.githubusercontent.com)|199.232.36.133|:443... connected.\n",
      "HTTP request sent, awaiting response... 200 OK\n",
      "Length: 3654 (3.6K) [application/zip]\n",
      "Saving to: ‘custom_reshape_pyfunc.zip’\n",
      "\n",
      "100%[======================================>] 3,654       --.-K/s   in 0s      \n",
      "\n",
      "2020-05-12 03:30:58 (26.3 MB/s) - ‘custom_reshape_pyfunc.zip’ saved [3654/3654]\n",
      "\n"
     ]
    }
   ],
   "source": [
    "!wget https://github.com/pmservice/wml-sample-models/raw/master/tensorflow/custom-op-hand-written-digit-recognition/libraries/custom_reshape_pyfunc.zip --output-document=custom_reshape_pyfunc.zip"
   ]
  },
  {
   "cell_type": "markdown",
   "metadata": {},
   "source": [
    "<a id=\"load\"></a>\n",
    "## 2. Load the data and initialize parameters"
   ]
  },
  {
   "cell_type": "markdown",
   "metadata": {},
   "source": [
    "Download the <a href=\"http://yann.lecun.com/exdb/mnist/index.html\" target=\"_blank\" rel=\"noopener noreferrer\">MNIST data set</a> from Yann LeCun's homepage using the built-in TensorFlow library."
   ]
  },
  {
   "cell_type": "code",
   "execution_count": 5,
   "metadata": {},
   "outputs": [],
   "source": [
    "(x_train, y_train), (x_test, y_test) = tf.keras.datasets.mnist.load_data()"
   ]
  },
  {
   "cell_type": "markdown",
   "metadata": {},
   "source": [
    "Set the training and network parameters."
   ]
  },
  {
   "cell_type": "code",
   "execution_count": 6,
   "metadata": {},
   "outputs": [],
   "source": [
    "# Training Parameters\n",
    "learning_rate = 0.001\n",
    "training_iters = 10000\n",
    "batch_size = 128\n",
    "display_step = 10\n",
    "\n",
    "# Network Parameters\n",
    "n_classes = 10"
   ]
  },
  {
   "cell_type": "markdown",
   "metadata": {},
   "source": [
    "Convert the labels to a binary matrix."
   ]
  },
  {
   "cell_type": "code",
   "execution_count": 7,
   "metadata": {},
   "outputs": [],
   "source": [
    "y_train = tf.keras.utils.to_categorical(y_train, n_classes)\n",
    "y_test = tf.keras.utils.to_categorical(y_test, n_classes)"
   ]
  },
  {
   "cell_type": "markdown",
   "metadata": {},
   "source": [
    "<a id=\"model\"></a>\n",
    "## 3. Create and train the LeNet model\n",
    "\n",
    "In this section, you will create the LeNet model and then train it."
   ]
  },
  {
   "cell_type": "markdown",
   "metadata": {},
   "source": [
    "Define the placeholders and the default layer configurations for the network."
   ]
  },
  {
   "cell_type": "code",
   "execution_count": 8,
   "metadata": {},
   "outputs": [],
   "source": [
    "# tf Graph input\n",
    "x = tf.placeholder(tf.float32, [None, 28, 28], name=\"x_input\")\n",
    "y = tf.placeholder(tf.float32, [None, n_classes])\n",
    "\n",
    "# Store layers weight & bias\n",
    "weights = {\n",
    "    # 5x5 conv, 1 input, 32 outputs\n",
    "    'wc1': tf.Variable(tf.random_normal([5, 5, 1, 32])),\n",
    "    # 5x5 conv, 32 inputs, 64 outputs\n",
    "    'wc2': tf.Variable(tf.random_normal([5, 5, 32, 64])),\n",
    "    # fully connected, 7*7*64 inputs, 1024 outputs\n",
    "    'wd1': tf.Variable(tf.random_normal([7*7*64, 1024])),\n",
    "    # 1024 inputs, 10 outputs (class prediction)\n",
    "    'out': tf.Variable(tf.random_normal([1024, n_classes]))\n",
    "}\n",
    "\n",
    "biases = {\n",
    "    'bc1': tf.Variable(tf.random_normal([32])),\n",
    "    'bc2': tf.Variable(tf.random_normal([64])),\n",
    "    'bd1': tf.Variable(tf.random_normal([1024])),\n",
    "    'out': tf.Variable(tf.random_normal([n_classes]))\n",
    "}"
   ]
  },
  {
   "cell_type": "markdown",
   "metadata": {},
   "source": [
    "The `create_py_func_with_grads` function defines a `tf.py_function` operation together with the corresponding gradient and returns the resulting tensor."
   ]
  },
  {
   "cell_type": "code",
   "execution_count": 9,
   "metadata": {},
   "outputs": [],
   "source": [
    "x_trans1 = create_py_func_with_grads(reshape_func, [x], tf.float32, name='ReshapeFunc', grad=reshape_grad)"
   ]
  },
  {
   "cell_type": "markdown",
   "metadata": {},
   "source": [
    "Build the model."
   ]
  },
  {
   "cell_type": "code",
   "execution_count": 10,
   "metadata": {},
   "outputs": [],
   "source": [
    "# Convolution Layer -1\n",
    "x_conv2d_l1 = tf.nn.conv2d(x_trans1, weights['wc1'], strides=[1, 1, 1, 1], padding='SAME')\n",
    "x_w_bias_l1 = tf.nn.bias_add(x_conv2d_l1, biases['bc1'])\n",
    "x_relu_l1 = tf.nn.relu(x_w_bias_l1)\n",
    "conv1_out = tf.nn.max_pool(x_relu_l1,\n",
    "                           ksize=[1, 2, 2, 1],\n",
    "                           strides=[1, 2, 2, 1],\n",
    "                           padding='SAME')\n",
    "\n",
    "\n",
    "# Convolution Layer -2\n",
    "x_conv2d_l2 = tf.nn.conv2d(conv1_out, weights['wc2'], strides=[1, 1, 1, 1], padding='SAME')\n",
    "x_w_bias_l2 = tf.nn.bias_add(x_conv2d_l2, biases['bc2'])\n",
    "x_relu_l2 = tf.nn.relu(x_w_bias_l2)\n",
    "conv2_out = tf.nn.max_pool(x_relu_l2,\n",
    "                           ksize=[1, 2, 2, 1],\n",
    "                           strides=[1, 2, 2, 1],\n",
    "                           padding='SAME')\n",
    "\n",
    "# Fully connected layer\n",
    "# Reshape conv2 output to fit fully connected layer input\n",
    "fc1 = tf.reshape(conv2_out, [-1, weights['wd1'].get_shape().as_list()[0]])\n",
    "fc1 = tf.add(tf.matmul(fc1, weights['wd1']), biases['bd1'])\n",
    "fc1 = tf.nn.relu(fc1)\n",
    "\n",
    "# Output, class prediction\n",
    "conv_out = tf.add(tf.matmul(fc1, weights['out']), biases['out'], name=\"output_tensor\")\n",
    "\n",
    "predictor = tf.argmax(conv_out, 1, name=\"predictor\")\n",
    "\n",
    "# Define loss and optimizer\n",
    "cost = tf.reduce_mean(tf.nn.softmax_cross_entropy_with_logits_v2(logits=conv_out, labels=y))\n",
    "optimizer = tf.train.AdamOptimizer(learning_rate=learning_rate).minimize(cost)\n",
    "\n",
    "# To Evaluate model\n",
    "correct_pred = tf.equal(tf.argmax(conv_out, 1), tf.argmax(y, 1))\n",
    "accuracy = tf.reduce_mean(tf.cast(correct_pred, tf.float32))"
   ]
  },
  {
   "cell_type": "markdown",
   "metadata": {},
   "source": [
    "Train the model."
   ]
  },
  {
   "cell_type": "code",
   "execution_count": 11,
   "metadata": {
    "scrolled": false
   },
   "outputs": [
    {
     "name": "stdout",
     "output_type": "stream",
     "text": [
      "Completed batch iteration: 128\n",
      "Completed batch iteration: 256\n",
      "Completed batch iteration: 384\n",
      "Completed batch iteration: 512\n",
      "Completed batch iteration: 640\n",
      "Completed batch iteration: 768\n",
      "Completed batch iteration: 896\n",
      "Completed batch iteration: 1024\n",
      "Completed batch iteration: 1152\n",
      "Completed batch iteration: 1280\n",
      "Iter 1280, Minibatch Loss= 19930.208984, Training Accuracy= 0.25581\n",
      "\n",
      "Completed batch iteration: 1408\n",
      "Completed batch iteration: 1536\n",
      "Completed batch iteration: 1664\n",
      "Completed batch iteration: 1792\n",
      "Completed batch iteration: 1920\n",
      "Completed batch iteration: 2048\n",
      "Completed batch iteration: 2176\n",
      "Completed batch iteration: 2304\n",
      "Completed batch iteration: 2432\n",
      "Completed batch iteration: 2560\n",
      "Iter 2560, Minibatch Loss= 10810.072266, Training Accuracy= 0.46512\n",
      "\n",
      "Completed batch iteration: 2688\n",
      "Completed batch iteration: 2816\n",
      "Completed batch iteration: 2944\n",
      "Completed batch iteration: 3072\n",
      "Completed batch iteration: 3200\n",
      "Completed batch iteration: 3328\n",
      "Completed batch iteration: 3456\n",
      "Completed batch iteration: 3584\n",
      "Completed batch iteration: 3712\n",
      "Completed batch iteration: 3840\n",
      "Iter 3840, Minibatch Loss= 6445.841309, Training Accuracy= 0.59690\n",
      "\n",
      "Completed batch iteration: 3968\n",
      "Completed batch iteration: 4096\n",
      "Completed batch iteration: 4224\n",
      "Completed batch iteration: 4352\n",
      "Completed batch iteration: 4480\n",
      "Completed batch iteration: 4608\n",
      "Completed batch iteration: 4736\n",
      "Completed batch iteration: 4864\n",
      "Completed batch iteration: 4992\n",
      "Completed batch iteration: 5120\n",
      "Iter 5120, Minibatch Loss= 6258.919922, Training Accuracy= 0.62016\n",
      "\n",
      "Completed batch iteration: 5248\n",
      "Completed batch iteration: 5376\n",
      "Completed batch iteration: 5504\n",
      "Completed batch iteration: 5632\n",
      "Completed batch iteration: 5760\n",
      "Completed batch iteration: 5888\n",
      "Completed batch iteration: 6016\n",
      "Completed batch iteration: 6144\n",
      "Completed batch iteration: 6272\n",
      "Completed batch iteration: 6400\n",
      "Iter 6400, Minibatch Loss= 1915.478149, Training Accuracy= 0.82171\n",
      "\n",
      "Completed batch iteration: 6528\n",
      "Completed batch iteration: 6656\n",
      "Completed batch iteration: 6784\n",
      "Completed batch iteration: 6912\n",
      "Completed batch iteration: 7040\n",
      "Completed batch iteration: 7168\n",
      "Completed batch iteration: 7296\n",
      "Completed batch iteration: 7424\n",
      "Completed batch iteration: 7552\n",
      "Completed batch iteration: 7680\n",
      "Iter 7680, Minibatch Loss= 3858.196777, Training Accuracy= 0.71318\n",
      "\n",
      "Completed batch iteration: 7808\n",
      "Completed batch iteration: 7936\n",
      "Completed batch iteration: 8064\n",
      "Completed batch iteration: 8192\n",
      "Completed batch iteration: 8320\n",
      "Completed batch iteration: 8448\n",
      "Completed batch iteration: 8576\n",
      "Completed batch iteration: 8704\n",
      "Completed batch iteration: 8832\n",
      "Completed batch iteration: 8960\n",
      "Iter 8960, Minibatch Loss= 3262.547363, Training Accuracy= 0.78295\n",
      "\n",
      "Completed batch iteration: 9088\n",
      "Completed batch iteration: 9216\n",
      "Completed batch iteration: 9344\n",
      "Completed batch iteration: 9472\n",
      "Completed batch iteration: 9600\n",
      "Completed batch iteration: 9728\n",
      "Completed batch iteration: 9856\n",
      "Completed batch iteration: 9984\n",
      "Model training finished!\n"
     ]
    }
   ],
   "source": [
    "# Initializing the variables\n",
    "init = tf.global_variables_initializer()\n",
    "\n",
    "# Launch the graph\n",
    "sess = tf.Session()\n",
    "sess.run(init)\n",
    "step = 1\n",
    "\n",
    "# Create batches\n",
    "total_batch = int(len(x_train) / batch_size)\n",
    "batches_x = np.array_split(x_train, total_batch)\n",
    "batches_y = np.array_split(y_train, total_batch)\n",
    "\n",
    "# Keep training until reach max iterations\n",
    "while step * batch_size < training_iters:\n",
    "    batch_x, batch_y = batches_x[step-1], batches_y[step-1]\n",
    "    \n",
    "    # Run optimization op (backprop)\n",
    "    sess.run(optimizer, feed_dict={x: batch_x, y: batch_y})\n",
    "    print(\"Completed batch iteration: \" + str(step*batch_size) )\n",
    "    \n",
    "    if step % display_step == 0:\n",
    "        \n",
    "        # Calculate batch loss and accuracy\n",
    "        loss, acc = sess.run([cost, accuracy], feed_dict={x: batch_x, y: batch_y})\n",
    "        print(\"Iter \" + str(step*batch_size) + \", Minibatch Loss= \" + \\\n",
    "               \"{:.6f}\".format(loss) + \", Training Accuracy= \" + \\\n",
    "               \"{:.5f}\".format(acc) + \"\\n\")\n",
    "    step+=1\n",
    "    \n",
    "print(\"Model training finished!\")"
   ]
  },
  {
   "cell_type": "markdown",
   "metadata": {},
   "source": [
    "<a id=\"save\"></a>\n",
    "## 4. Save the LeNet model locally\n",
    "\n",
    "In this section, you will use `SavedModelBuilderSave` to save the model locally."
   ]
  },
  {
   "cell_type": "markdown",
   "metadata": {},
   "source": [
    "Remove the previously created directory."
   ]
  },
  {
   "cell_type": "code",
   "execution_count": 12,
   "metadata": {},
   "outputs": [],
   "source": [
    "import os, shutil\n",
    "save_path = './tf_model_mnist_test'\n",
    "# delete dir if directory exists\n",
    "if os.path.exists(save_path):\n",
    "    shutil.rmtree(save_path)"
   ]
  },
  {
   "cell_type": "markdown",
   "metadata": {},
   "source": [
    "Create `SignatureDef` metadata for the model."
   ]
  },
  {
   "cell_type": "code",
   "execution_count": 13,
   "metadata": {},
   "outputs": [
    {
     "name": "stderr",
     "output_type": "stream",
     "text": [
      "WARNING: Logging before flag parsing goes to stderr.\n",
      "W0512 03:31:31.405272 140348130891584 deprecation.py:323] From <ipython-input-13-03b2836f00f9>:2: build_tensor_info (from tensorflow.python.saved_model.utils_impl) is deprecated and will be removed in a future version.\n",
      "Instructions for updating:\n",
      "This function will only be available through the v1 compatibility library as tf.compat.v1.saved_model.utils.build_tensor_info or tf.compat.v1.saved_model.build_tensor_info.\n"
     ]
    },
    {
     "name": "stdout",
     "output_type": "stream",
     "text": [
      "classification_signature content:\n",
      "inputs {\n",
      "  key: \"inputs\"\n",
      "  value {\n",
      "    name: \"x_input:0\"\n",
      "    dtype: DT_FLOAT\n",
      "    tensor_shape {\n",
      "      dim {\n",
      "        size: -1\n",
      "      }\n",
      "      dim {\n",
      "        size: 28\n",
      "      }\n",
      "      dim {\n",
      "        size: 28\n",
      "      }\n",
      "    }\n",
      "  }\n",
      "}\n",
      "outputs {\n",
      "  key: \"classes\"\n",
      "  value {\n",
      "    name: \"predictor:0\"\n",
      "    dtype: DT_INT64\n",
      "    tensor_shape {\n",
      "      dim {\n",
      "        size: -1\n",
      "      }\n",
      "    }\n",
      "  }\n",
      "}\n",
      "method_name: \"tensorflow/serving/classify\"\n",
      "\n"
     ]
    }
   ],
   "source": [
    "from tensorflow.compat.v1.saved_model import build_tensor_info\n",
    "classification_inputs = build_tensor_info(x)\n",
    "classification_outputs_classes = build_tensor_info(predictor)\n",
    "\n",
    "classification_signature = (\n",
    "      tf.saved_model.signature_def_utils.build_signature_def(\n",
    "          inputs={\n",
    "              tf.saved_model.signature_constants.CLASSIFY_INPUTS:\n",
    "                  classification_inputs\n",
    "          },\n",
    "          outputs={\n",
    "              tf.saved_model.signature_constants.CLASSIFY_OUTPUT_CLASSES:\n",
    "                  classification_outputs_classes\n",
    "          },\n",
    "          method_name=tf.saved_model.signature_constants.CLASSIFY_METHOD_NAME))\n",
    "\n",
    "print(\"classification_signature content:\")\n",
    "print(classification_signature)"
   ]
  },
  {
   "cell_type": "markdown",
   "metadata": {},
   "source": [
    "Use TensorFlow's `SavedModelBuilder` API to save the LeNet model locally."
   ]
  },
  {
   "cell_type": "code",
   "execution_count": 14,
   "metadata": {},
   "outputs": [
    {
     "data": {
      "text/plain": [
       "b'./tf_model_mnist_test/saved_model.pb'"
      ]
     },
     "execution_count": 14,
     "metadata": {},
     "output_type": "execute_result"
    }
   ],
   "source": [
    "# Build the signature_def_map.\n",
    "\n",
    "builder = tf.saved_model.builder.SavedModelBuilder(save_path)\n",
    "main_op = tf.group(tf.tables_initializer(), name='main_op')\n",
    "builder.add_meta_graph_and_variables(\n",
    "      sess, [tf.saved_model.tag_constants.SERVING],\n",
    "      signature_def_map={\n",
    "          'predict_images': classification_signature,\n",
    "      },\n",
    "      main_op=main_op)\n",
    "\n",
    "builder.save()"
   ]
  },
  {
   "cell_type": "markdown",
   "metadata": {},
   "source": [
    "<a id=\"setup\"></a>\n",
    "## 5. Set up the environment"
   ]
  },
  {
   "cell_type": "markdown",
   "metadata": {},
   "source": [
    "Import the `watson-machine-learning-client` module.\n",
    "<div class=\"alert alert-block alert-info\">\n",
    "For more information about the <b>Watson Machine Learning Python client (V4)</b>, please refer to the <a href=\"https://wml-api-pyclient-dev-v4.mybluemix.net/\" target=\"_blank\" rel=\"noopener no referrer\">Python client documentation</a>. If you're using the notebook within a project on your CP4D cluster, you do not need to install this package as it comes pre-installed with the notebooks. The installation code below is for demonstration but is non-executable at this stage.\n",
    "</div>"
   ]
  },
  {
   "cell_type": "raw",
   "metadata": {},
   "source": [
    "!pip install --upgrade watson-machine-learning-client-V4"
   ]
  },
  {
   "cell_type": "code",
   "execution_count": 15,
   "metadata": {},
   "outputs": [],
   "source": [
    "from watson_machine_learning_client import WatsonMachineLearningAPIClient"
   ]
  },
  {
   "cell_type": "markdown",
   "metadata": {},
   "source": [
    "**Authenticate the Python client on CP4D 3.0.**<br><br>\n",
    "\n",
    "<div class=\"alert alert-block alert-info\">To find your authentication information (your credentials) follow the steps provided here in the <a href=\"https://www.ibm.com/support/knowledgecenter/SSQNUZ_current/wsj/analyze-data/ml-authentication-local.html\" target=\"_blank\" rel=\"noopener no referrer\">Documentation.</a></div>\n",
    "\n",
    "**Action**: Enter your credentials in the following cell."
   ]
  },
  {
   "cell_type": "code",
   "execution_count": 16,
   "metadata": {},
   "outputs": [],
   "source": [
    "# Enter your credentials here\n",
    "import sys,os,os.path\n",
    "token = os.environ['USER_ACCESS_TOKEN']\n",
    "\n",
    "from project_lib.utils import environment\n",
    "url = environment.get_common_api_url()\n",
    "\n",
    "wml_credentials = {\n",
    "\"token\": token,\n",
    "\"instance_id\" : \"wml_local\",\n",
    "\"url\": \"url\",\n",
    "\"version\": \"3.0.0\"\n",
    "}"
   ]
  },
  {
   "cell_type": "code",
   "execution_count": 17,
   "metadata": {},
   "outputs": [],
   "source": [
    "client = WatsonMachineLearningAPIClient(wml_credentials)"
   ]
  },
  {
   "cell_type": "markdown",
   "metadata": {},
   "source": [
    "<div class=\"alert alert-block alert-info\">\n",
    "You have a choice to either save the model in the <b>project</b> or the <b>deployment space</b>:<br><br>\n",
    "    <li> If you're saving the model in your project, you have to set the default project using the python client.</li><br>\n",
    "    <li>If you're saving the model in the deployment space, you have to obtain the space UID of the deployment space you've created. Then you'd use this to set the default space using the python client. From there you'll be able to deploy and score the model in your deployment space.</li></div>"
   ]
  },
  {
   "cell_type": "markdown",
   "metadata": {},
   "source": [
    "### To set the default project, use the following code."
   ]
  },
  {
   "cell_type": "code",
   "execution_count": 18,
   "metadata": {},
   "outputs": [
    {
     "data": {
      "text/plain": [
       "'SUCCESS'"
      ]
     },
     "execution_count": 18,
     "metadata": {},
     "output_type": "execute_result"
    }
   ],
   "source": [
    "from project_lib import Project\n",
    "project = Project.access()\n",
    "project_id = project.get_metadata()[\"metadata\"][\"guid\"]\n",
    "\n",
    "client.set.default_project(project_id)"
   ]
  },
  {
   "cell_type": "markdown",
   "metadata": {},
   "source": [
    "### To set the default space, follow these steps."
   ]
  },
  {
   "cell_type": "markdown",
   "metadata": {},
   "source": [
    "<div class=\"alert alert-block alert-info\">\n",
    "You can create your own <a href=\"https://www.ibm.com/support/knowledgecenter/SSQNUZ_3.0.0/wsj/analyze-data/ml-spaces_local.html\" target=\"_blank\" rel=\"noopener no referrer\">deployment space</a> by selecting <b>Analytics deployments</b> under <b>Analyze</b> from the Navigation Menu on the top left of this page.</div>"
   ]
  },
  {
   "cell_type": "markdown",
   "metadata": {},
   "source": [
    "Alternatively, you can create a deployment and obtain its UID using the code in the following cell. The cell is not executable cell at this stage, but you can enter the name of your space in the metadata and use it if needed."
   ]
  },
  {
   "cell_type": "raw",
   "metadata": {},
   "source": [
    "space_details = client.spaces.store(meta_props={client.spaces.ConfigurationMetaNames.NAME: \"YOUR DEPLOYMENT SPACE\"})\n",
    "space_uid = client.spaces.get_uid(space_details)\n",
    "print(\"Space UID = \" + space_uid)"
   ]
  },
  {
   "cell_type": "code",
   "execution_count": 19,
   "metadata": {},
   "outputs": [],
   "source": [
    "# Obtain the UId of your space\n",
    "def guid_from_space_name(client, space_name):\n",
    "    space = client.spaces.get_details()\n",
    "    return(next(item for item in space['resources'] if item['entity'][\"name\"] == space_name)['metadata']['guid'])"
   ]
  },
  {
   "cell_type": "markdown",
   "metadata": {},
   "source": [
    "**Action:** Enter the name of your deployment space in the code below: `space_uid = guid_from_space_name(client, 'YOUR DEPLOYMENT SPACE')`."
   ]
  },
  {
   "cell_type": "code",
   "execution_count": 21,
   "metadata": {},
   "outputs": [
    {
     "name": "stdout",
     "output_type": "stream",
     "text": [
      "Space UID = 594b22d1-588c-4de0-9cbd-d98e6fa890e8\n"
     ]
    }
   ],
   "source": [
    "# Enter the name of your deployment space here:\n",
    "space_uid = guid_from_space_name(client, 'YOUR DEPLOYMENT SPACE')\n",
    "print(\"Space UID = \" + space_uid)"
   ]
  },
  {
   "cell_type": "markdown",
   "metadata": {},
   "source": [
    "You can set the default space using the cell below."
   ]
  },
  {
   "cell_type": "code",
   "execution_count": 22,
   "metadata": {},
   "outputs": [
    {
     "name": "stdout",
     "output_type": "stream",
     "text": [
      "Unsetting the project_id ...\n"
     ]
    },
    {
     "data": {
      "text/plain": [
       "'SUCCESS'"
      ]
     },
     "execution_count": 22,
     "metadata": {},
     "output_type": "execute_result"
    }
   ],
   "source": [
    "client.set.default_space(space_uid)"
   ]
  },
  {
   "cell_type": "markdown",
   "metadata": {},
   "source": [
    "<a id=\"lib_persistence\"></a>\n",
    "## 6. Save the custom library and model using Watson Machine Learning\n",
    "\n",
    "\n",
    "In this section, you'll use the Python client to:\n",
    "- Save the library `custom_reshape_pyfunc.zip`, a <a href=\"https://www.ibm.com/support/knowledgecenter/SSQNUZ_3.0.0/wsj/analyze-data/ml-custom_libs_overview.html\" target=\"_blank\" rel=\"noopener no referrer\">custom component</a>, as a package extension.\n",
    "- Create a custom software specification and add the package extension containing the custom library. This will be used to configure the online deployment environment for the model."
   ]
  },
  {
   "cell_type": "markdown",
   "metadata": {},
   "source": [
    "### 6.1 Save the library as a package extension"
   ]
  },
  {
   "cell_type": "code",
   "execution_count": 23,
   "metadata": {},
   "outputs": [],
   "source": [
    "# Custom library\n",
    "cust_lib_zip_path = \"custom_reshape_pyfunc.zip\""
   ]
  },
  {
   "cell_type": "markdown",
   "metadata": {},
   "source": [
    "Create the metadata for the new package extension."
   ]
  },
  {
   "cell_type": "code",
   "execution_count": 24,
   "metadata": {},
   "outputs": [],
   "source": [
    "# Package extension metadata\n",
    "meta_prop_pkg_ext = {\n",
    "     client.package_extensions.ConfigurationMetaNames.NAME: \"My custom library\",\n",
    "     client.package_extensions.ConfigurationMetaNames.DESCRIPTION: \"Package extension for library\",\n",
    "     client.package_extensions.ConfigurationMetaNames.TYPE: \"pip_zip\"\n",
    "}"
   ]
  },
  {
   "cell_type": "markdown",
   "metadata": {},
   "source": [
    "Store the package extension associated with the custom library."
   ]
  },
  {
   "cell_type": "code",
   "execution_count": 25,
   "metadata": {},
   "outputs": [
    {
     "name": "stdout",
     "output_type": "stream",
     "text": [
      "Creating package extensions\n",
      "SUCCESS\n"
     ]
    }
   ],
   "source": [
    "# Store the package extension\n",
    "package_ext_details = client.package_extensions.store(meta_props=meta_prop_pkg_ext,file_path=cust_lib_zip_path)"
   ]
  },
  {
   "cell_type": "code",
   "execution_count": 26,
   "metadata": {},
   "outputs": [
    {
     "data": {
      "text/plain": [
       "{'metadata': {'space_id': '594b22d1-588c-4de0-9cbd-d98e6fa890e8',\n",
       "  'name': 'My custom library',\n",
       "  'asset_id': '7bf16401-43ca-483d-b21c-ad7f78386529',\n",
       "  'asset_type': 'package_extension',\n",
       "  'created_at': '2020-05-12T03:33:21Z'},\n",
       " 'entity': {'package_extension': {'type': 'pip_zip',\n",
       "   'href': '/v2/asset_files/package_extension/My_custom_library_JVQGuZL-XE.zip?space_id=594b22d1-588c-4de0-9cbd-d98e6fa890e8&signature=2lucdHFm42Jq%2Fa%2FCTnUnyw%3D%3D%3AcwWOVNHv5uvA%2FTTNgGPm1chJ%2FRLOBCh5iQoHwyzsY7GGXfTGXGi6znM16J2zDgOLMcL5LXe16DeEGP4YClm9Ts6dbWYoPQhiYwGiq203CRTl%2B44r58TdI2Eqjcs%2FQntQZ6iV3TwE2gh9Nlb7hDlvben8mWTPd%2BiHfIfvmj%2FEEEeSfSXX96%2F8UMHJ%2FRE4uGRTQGmU6L1oivryIS0SeLcOU9jc1VYJL7l%2BAhS8yik%3D'}}}"
      ]
     },
     "execution_count": 26,
     "metadata": {},
     "output_type": "execute_result"
    }
   ],
   "source": [
    "package_ext_details"
   ]
  },
  {
   "cell_type": "markdown",
   "metadata": {},
   "source": [
    "You can list the available package extensions with the following code."
   ]
  },
  {
   "cell_type": "code",
   "execution_count": 27,
   "metadata": {},
   "outputs": [
    {
     "name": "stdout",
     "output_type": "stream",
     "text": [
      "-----------------  ------------------------------------  -------  --------------------\n",
      "NAME               ASSET_ID                              TYPE     CREATED_AT\n",
      "My custom library  7bf16401-43ca-483d-b21c-ad7f78386529  pip_zip  2020-05-12T03:33:21Z\n",
      "-----------------  ------------------------------------  -------  --------------------\n"
     ]
    }
   ],
   "source": [
    "# List all package extensions\n",
    "client.package_extensions.list()"
   ]
  },
  {
   "cell_type": "markdown",
   "metadata": {},
   "source": [
    "<div class=\"alert alert-block alert-info\">\n",
    "From the list of package extensions, you can see that the custom library is successfully saved.</div>"
   ]
  },
  {
   "cell_type": "markdown",
   "metadata": {},
   "source": [
    "Get the UID of the package extension."
   ]
  },
  {
   "cell_type": "code",
   "execution_count": 28,
   "metadata": {},
   "outputs": [
    {
     "name": "stdout",
     "output_type": "stream",
     "text": [
      "Package extension UID = 7bf16401-43ca-483d-b21c-ad7f78386529\n"
     ]
    }
   ],
   "source": [
    "# Obtain package extension UID\n",
    "package_ext_uid = client.package_extensions.get_uid(package_ext_details)\n",
    "print('Package extension UID = {}'.format(package_ext_uid))"
   ]
  },
  {
   "cell_type": "markdown",
   "metadata": {},
   "source": [
    "### 6.2 Create the associated software specification"
   ]
  },
  {
   "cell_type": "markdown",
   "metadata": {},
   "source": [
    "Create the metadata for your custom software specification to associate the previous package extension to."
   ]
  },
  {
   "cell_type": "code",
   "execution_count": 29,
   "metadata": {},
   "outputs": [],
   "source": [
    "# Software specification metadata.\n",
    "base_software_spec_uid = client.software_specifications.get_uid_by_name('tensorflow_1.15-py3.6')\n",
    "\n",
    "meta_prop_sw_spec = {\n",
    "     client.software_specifications.ConfigurationMetaNames.NAME: \"Custom pyfunction with tensorflow_1.15-py3.6\",\n",
    "     client.software_specifications.ConfigurationMetaNames.DESCRIPTION: \"Software specification for derived lib\",\n",
    "     client.software_specifications.ConfigurationMetaNames.PACKAGE_EXTENSIONS : [{\n",
    "         \"guid\": package_ext_uid\n",
    "     }],\n",
    "     client.software_specifications.ConfigurationMetaNames.BASE_SOFTWARE_SPECIFICATION: {\n",
    "         \"guid\": base_software_spec_uid\n",
    "     }\n",
    "}"
   ]
  },
  {
   "cell_type": "markdown",
   "metadata": {},
   "source": [
    "Store the custom software specification."
   ]
  },
  {
   "cell_type": "code",
   "execution_count": 30,
   "metadata": {},
   "outputs": [],
   "source": [
    "# Store software specification\n",
    "software_spec_details = client.software_specifications.store(meta_props=meta_prop_sw_spec)"
   ]
  },
  {
   "cell_type": "code",
   "execution_count": 31,
   "metadata": {},
   "outputs": [
    {
     "data": {
      "text/plain": [
       "{'metadata': {'created_at': '2020-05-12T03:33:24Z',\n",
       "  'name': 'Custom pyfunction with tensorflow_1.15-py3.6',\n",
       "  'description': 'Software specification for derived lib',\n",
       "  'asset_id': '43a9eee7-e05c-4a5d-bfb9-33a55df076ce',\n",
       "  'asset_type': 'software_specification',\n",
       "  'space_id': '594b22d1-588c-4de0-9cbd-d98e6fa890e8',\n",
       "  'href': '/v2/software_specifications/43a9eee7-e05c-4a5d-bfb9-33a55df076ce'},\n",
       " 'entity': {'software_specification': {'type': 'derived',\n",
       "   'display_name': 'Custom pyfunction with tensorflow_1.15-py3.6',\n",
       "   'base_software_specification': {'guid': '2b73a275-7cbf-420b-a912-eae7f436e0bc',\n",
       "    'href': '/v2/software_specifications/2b73a275-7cbf-420b-a912-eae7f436e0bc'},\n",
       "   'package_extensions': [],\n",
       "   'software_configuration': {'included_packages': [{'name': 'tensorflow',\n",
       "      'version': '1.15'},\n",
       "     {'name': 'keras', 'version': '2.2.5'}],\n",
       "    'platform': {'name': 'python', 'version': '3.6'}}}}}"
      ]
     },
     "execution_count": 31,
     "metadata": {},
     "output_type": "execute_result"
    }
   ],
   "source": [
    "software_spec_details"
   ]
  },
  {
   "cell_type": "markdown",
   "metadata": {},
   "source": [
    "<div class=\"alert alert-block alert-info\">\n",
    "    To list the software specifications, run <tt>client.software_specifications.list()</tt>. You'll see that the custom software specification has been successfully created.<br><br>\n",
    "    To find more information about creating a custom software specification, or to learn about the available frameworks, <b>Software Specifications</b>, and their respective <b>Types</b>, visit the <a href=\"https://www.ibm.com/support/knowledgecenter/SSQNUZ_3.0.0/wsj/wmls/wmls-deploy-python-types.html\" target=\"_blank\" rel=\"noopener no referrer\">documentation</a>.</div>"
   ]
  },
  {
   "cell_type": "code",
   "execution_count": 32,
   "metadata": {},
   "outputs": [
    {
     "name": "stdout",
     "output_type": "stream",
     "text": [
      "--------------------------------------------  ------------------------------------  -------\n",
      "NAME                                          ASSET_ID                              TYPE\n",
      "default_py3.6                                 0062b8c9-8b7d-44a0-a9b9-46c416adcbd9  base\n",
      "scikit-learn_0.20-py3.6                       09c5a1d0-9c1e-4473-a344-eb7b665ff687  base\n",
      "ai-function_0.1-py3.6                         0cdb0f1e-5376-4f4d-92dd-da3b69aa9bda  base\n",
      "shiny-r3.6                                    0e6e79df-875e-4f24-8ae9-62dcc2148306  base\n",
      "pytorch_1.1-py3.6                             10ac12d6-6b30-4ccd-8392-3e922c096a92  base\n",
      "scikit-learn_0.22-py3.6                       154010fa-5b3b-4ac1-82af-4d5ee5abbc85  base\n",
      "default_r3.6                                  1b70aec3-ab34-4b87-8aa0-a4a3c8296a36  base\n",
      "tensorflow_1.15-py3.6                         2b73a275-7cbf-420b-a912-eae7f436e0bc  base\n",
      "pytorch_1.2-py3.6                             2c8ef57d-2687-4b7d-acce-01f94976dac1  base\n",
      "spark-mllib_2.3                               2e51f700-bca0-4b0d-88dc-5c6791338875  base\n",
      "pytorch-onnx_1.1-py3.6-edt                    32983cea-3f32-4400-8965-dde874a8d67e  base\n",
      "spark-mllib_2.4                               390d21f8-e58b-4fac-9c55-d7ceda621326  base\n",
      "xgboost_0.82-py3.6                            39e31acd-5f30-41dc-ae44-60233c80306e  base\n",
      "pytorch-onnx_1.2-py3.6-edt                    40589d0e-7019-4e28-8daa-fb03b6f4fe12  base\n",
      "spark-mllib_2.4-r_3.6                         49403dff-92e9-4c87-a3d7-a42d0021c095  base\n",
      "xgboost_0.90-py3.6                            4ff8d6c2-1343-4c18-85e1-689c965304d3  base\n",
      "pytorch-onnx_1.1-py3.6                        50f95b2a-bc16-43bb-bc94-b0bed208c60b  base\n",
      "spark-mllib_2.4-scala_2.11                    55a70f99-7320-4be5-9fb9-9edb5a443af5  base\n",
      "spss-modeler_18.1                             5c3cad7e-507f-4b2a-a9a3-ab53a21dee8b  base\n",
      "spark-mllib_2.3-r_3.6                         6586b9e3-ccd6-4f92-900f-0f8cb2bd6f0c  base\n",
      "spss-modeler_18.2                             687eddc9-028a-4117-b9dd-e57b36f1efa5  base\n",
      "pytorch-onnx_1.2-py3.6                        692a6a4d-2c4d-45ff-a1ed-b167ee55469a  base\n",
      "do_12.9                                       75a3a4b0-6aa0-41b3-a618-48b1f56332a6  base\n",
      "spark-mllib_2.3-scala_2.11                    7963efe5-bbec-417e-92cf-0574e21b4e8d  base\n",
      "caffe_1.0-py3.6                               7bb3dbe2-da6e-4145-918d-b6d84aa93b6b  base\n",
      "cuda-py3.6                                    82c79ece-4d12-40e6-8787-a7b9e0f62770  base\n",
      "hybrid_0.1                                    8c1a58c6-62b5-4dc4-987a-df751c2756b6  base\n",
      "caffe-ibm_1.0-py3.6                           8d863266-7927-4d1e-97d7-56a7f4c0a19b  base\n",
      "spss-modeler_17.1                             902d0051-84bd-4af6-ab6b-8f6aa6fdeabb  base\n",
      "do_12.10                                      9100fd72-8159-4eb9-8a0b-a87e12eefa36  base\n",
      "hybrid_0.2                                    9b3f9040-9cee-4ead-8d7a-780600f542f7  base\n",
      "Custom pyfunction with tensorflow_1.15-py3.6  43a9eee7-e05c-4a5d-bfb9-33a55df076ce  derived\n",
      "--------------------------------------------  ------------------------------------  -------\n"
     ]
    }
   ],
   "source": [
    "client.software_specifications.list()"
   ]
  },
  {
   "cell_type": "markdown",
   "metadata": {},
   "source": [
    "Get the UID of the new software specification."
   ]
  },
  {
   "cell_type": "code",
   "execution_count": 33,
   "metadata": {},
   "outputs": [
    {
     "name": "stdout",
     "output_type": "stream",
     "text": [
      "New Software Specification UID = 43a9eee7-e05c-4a5d-bfb9-33a55df076ce\n"
     ]
    }
   ],
   "source": [
    "# Obtain software specification UID\n",
    "software_spec_uid = client.software_specifications.get_uid(software_spec_details)\n",
    "print('New Software Specification UID = {}'.format(software_spec_uid))"
   ]
  },
  {
   "cell_type": "markdown",
   "metadata": {},
   "source": [
    "Add the package extension containing your custom library to the newly created software specification. "
   ]
  },
  {
   "cell_type": "code",
   "execution_count": 34,
   "metadata": {},
   "outputs": [
    {
     "data": {
      "text/plain": [
       "'SUCCESS'"
      ]
     },
     "execution_count": 34,
     "metadata": {},
     "output_type": "execute_result"
    }
   ],
   "source": [
    "# Associate package extension.\n",
    "client.software_specifications.add_package_extension(software_spec_uid, package_ext_uid)"
   ]
  },
  {
   "cell_type": "markdown",
   "metadata": {},
   "source": [
    "You can see the details of the custom software specification by running the following code."
   ]
  },
  {
   "cell_type": "code",
   "execution_count": 35,
   "metadata": {},
   "outputs": [
    {
     "data": {
      "text/plain": [
       "{'metadata': {'name': 'Custom pyfunction with tensorflow_1.15-py3.6',\n",
       "  'asset_id': '43a9eee7-e05c-4a5d-bfb9-33a55df076ce',\n",
       "  'href': '/v2/software_specifications/43a9eee7-e05c-4a5d-bfb9-33a55df076ce',\n",
       "  'asset_type': 'software_specification',\n",
       "  'created_at': '2020-05-12T03:33:24Z'},\n",
       " 'entity': {'software_specification': {'type': 'derived',\n",
       "   'display_name': 'Custom pyfunction with tensorflow_1.15-py3.6',\n",
       "   'base_software_specification': {'guid': '2b73a275-7cbf-420b-a912-eae7f436e0bc',\n",
       "    'href': '/v2/software_specifications/2b73a275-7cbf-420b-a912-eae7f436e0bc'},\n",
       "   'package_extensions': [{'metadata': {'rov': {'mode': 0,\n",
       "       'collaborator_ids': {}},\n",
       "      'space_id': '594b22d1-588c-4de0-9cbd-d98e6fa890e8',\n",
       "      'usage': {'last_updated_at': '2020-05-12T03:33:23Z',\n",
       "       'last_updater_id': '1000330999',\n",
       "       'last_update_time': 1589254403357,\n",
       "       'last_accessed_at': '2020-05-12T03:33:23Z',\n",
       "       'last_access_time': 1589254403357,\n",
       "       'last_accessor_id': '1000330999',\n",
       "       'access_count': 0},\n",
       "      'name': 'My custom library',\n",
       "      'description': 'Package extension for library',\n",
       "      'tags': ['dsx'],\n",
       "      'asset_type': 'package_extension',\n",
       "      'origin_country': 'us',\n",
       "      'rating': 0,\n",
       "      'total_ratings': 0,\n",
       "      'catalog_id': '07b4f96e-d01f-4f2c-9030-7c5af22c9604',\n",
       "      'created': 0,\n",
       "      'created_at': '2020-05-12T03:33:21Z',\n",
       "      'owner_id': '1000330999',\n",
       "      'size': 3654,\n",
       "      'version': 0,\n",
       "      'asset_state': 'available',\n",
       "      'asset_attributes': ['package_extension'],\n",
       "      'asset_id': '7bf16401-43ca-483d-b21c-ad7f78386529',\n",
       "      'asset_category': 'USER'},\n",
       "     'entity': {'package_extension': {'type': 'pip_zip',\n",
       "       'object_key': 'package_extension/My_custom_library_JVQGuZL-XE.zip'}}}],\n",
       "   'software_configuration': {'included_packages': [{'name': 'tensorflow',\n",
       "      'version': '1.15'},\n",
       "     {'name': 'keras', 'version': '2.2.5'}],\n",
       "    'platform': {'name': 'python', 'version': '3.6'}}}}}"
      ]
     },
     "execution_count": 35,
     "metadata": {},
     "output_type": "execute_result"
    }
   ],
   "source": [
    "client.software_specifications.get_details(software_spec_uid)"
   ]
  },
  {
   "cell_type": "markdown",
   "metadata": {},
   "source": [
    "### 6.3 Create a model archive\n",
    "\n",
    "The model that needs to be saved with the Python client needs to be of tar.gz format.\n",
    "\n",
    "First, remove any existing model archive with the same name, then create a new one."
   ]
  },
  {
   "cell_type": "code",
   "execution_count": 36,
   "metadata": {},
   "outputs": [],
   "source": [
    "import os\n",
    "if os.path.exists('tf_mnist_pyfunc.tar.gz'):\n",
    "    os.remove('tf_mnist_pyfunc.tar.gz')"
   ]
  },
  {
   "cell_type": "code",
   "execution_count": 37,
   "metadata": {},
   "outputs": [
    {
     "name": "stdout",
     "output_type": "stream",
     "text": [
      "/home/wsuser/work/tf_model_mnist_test\n"
     ]
    }
   ],
   "source": [
    "cd tf_model_mnist_test"
   ]
  },
  {
   "cell_type": "code",
   "execution_count": 38,
   "metadata": {},
   "outputs": [
    {
     "name": "stdout",
     "output_type": "stream",
     "text": [
      "saved_model.pb  \u001b[0m\u001b[01;34mvariables\u001b[0m/\r\n"
     ]
    }
   ],
   "source": [
    "ls"
   ]
  },
  {
   "cell_type": "code",
   "execution_count": 39,
   "metadata": {},
   "outputs": [
    {
     "name": "stdout",
     "output_type": "stream",
     "text": [
      "saved_model.pb\n",
      "variables/\n",
      "variables/variables.data-00000-of-00001\n",
      "variables/variables.index\n"
     ]
    }
   ],
   "source": [
    "!tar -cvf ../tf_mnist_pyfunc.tar *"
   ]
  },
  {
   "cell_type": "code",
   "execution_count": 40,
   "metadata": {},
   "outputs": [
    {
     "name": "stdout",
     "output_type": "stream",
     "text": [
      "/home/wsuser/work\n"
     ]
    }
   ],
   "source": [
    "cd ../"
   ]
  },
  {
   "cell_type": "code",
   "execution_count": 41,
   "metadata": {},
   "outputs": [],
   "source": [
    "!gzip tf_mnist_pyfunc.tar"
   ]
  },
  {
   "cell_type": "code",
   "execution_count": 42,
   "metadata": {},
   "outputs": [],
   "source": [
    "model_path = 'tf_mnist_pyfunc.tar.gz'"
   ]
  },
  {
   "cell_type": "markdown",
   "metadata": {},
   "source": [
    "### 6.4 Save the model\n",
    "Now, you can create the model metadata with the custom software specification you just created."
   ]
  },
  {
   "cell_type": "code",
   "execution_count": 43,
   "metadata": {},
   "outputs": [],
   "source": [
    "meta_props={\n",
    "     client.repository.ModelMetaNames.NAME: \"Tensorflow custom library\",\n",
    "     client.repository.ModelMetaNames.SOFTWARE_SPEC_UID: software_spec_uid,\n",
    "     client.repository.ModelMetaNames.TYPE: \"tensorflow_1.15\"\n",
    "}"
   ]
  },
  {
   "cell_type": "markdown",
   "metadata": {},
   "source": [
    "You can extract the model UID from the saved model details."
   ]
  },
  {
   "cell_type": "code",
   "execution_count": 44,
   "metadata": {},
   "outputs": [
    {
     "name": "stdout",
     "output_type": "stream",
     "text": [
      "Model UID = 81a55ede-932a-44d5-86be-ef48cbed778d\n"
     ]
    }
   ],
   "source": [
    "# Save the model\n",
    "model_artifact = client.repository.store_model(model=model_path, meta_props=meta_props)\n",
    "model_uid = client.repository.get_model_uid(model_artifact)\n",
    "print(\"Model UID = \" + model_uid)"
   ]
  },
  {
   "cell_type": "markdown",
   "metadata": {},
   "source": [
    "Get the saved model metadata using the model UID."
   ]
  },
  {
   "cell_type": "code",
   "execution_count": 45,
   "metadata": {},
   "outputs": [
    {
     "name": "stdout",
     "output_type": "stream",
     "text": [
      "{'entity': {'content_status': {'state': 'persisted'},\n",
      "            'name': 'Tensorflow custom library',\n",
      "            'software_spec': {'id': '43a9eee7-e05c-4a5d-bfb9-33a55df076ce'},\n",
      "            'space': {'href': '/v4/spaces/594b22d1-588c-4de0-9cbd-d98e6fa890e8',\n",
      "                      'id': '594b22d1-588c-4de0-9cbd-d98e6fa890e8'},\n",
      "            'type': 'tensorflow_1.15'},\n",
      " 'metadata': {'created_at': '2020-05-12T03:33:45.002Z',\n",
      "              'guid': '81a55ede-932a-44d5-86be-ef48cbed778d',\n",
      "              'href': '/v4/models/81a55ede-932a-44d5-86be-ef48cbed778d?space_id=594b22d1-588c-4de0-9cbd-d98e6fa890e8',\n",
      "              'id': '81a55ede-932a-44d5-86be-ef48cbed778d',\n",
      "              'modified_at': '2020-05-12T03:33:49.002Z',\n",
      "              'name': 'Tensorflow custom library',\n",
      "              'owner': '1000330999',\n",
      "              'space_id': '594b22d1-588c-4de0-9cbd-d98e6fa890e8'}}\n"
     ]
    }
   ],
   "source": [
    "# Details about the model.\n",
    "from pprint import pprint\n",
    "pprint(model_artifact)"
   ]
  },
  {
   "cell_type": "code",
   "execution_count": 46,
   "metadata": {},
   "outputs": [
    {
     "name": "stdout",
     "output_type": "stream",
     "text": [
      "------------------------------------  -------------------------  ------------------------  ---------------\n",
      "GUID                                  NAME                       CREATED                   TYPE\n",
      "81a55ede-932a-44d5-86be-ef48cbed778d  Tensorflow custom library  2020-05-12T03:33:45.002Z  tensorflow_1.15\n",
      "------------------------------------  -------------------------  ------------------------  ---------------\n"
     ]
    }
   ],
   "source": [
    "client.repository.list_models()"
   ]
  },
  {
   "cell_type": "markdown",
   "metadata": {},
   "source": [
    "<div class=\"alert alert-block alert-info\">\n",
    "From the list of models, you can see that your model is successfully saved.<br><br>\n",
    "If you've set the default project, this means you've saved the model in your project. You can see the saved model in your project UI by clicking on your project name in the breadcrumb at the top of the application.<br><br>\n",
    "If you've set the default space, this means that you've saved the model in your deployment space. You can view your model by selecting <b>Analytics Deployments</b> under <b>Analyze</b> from the Navigation Menu and clicking on your deployment space name.</div>"
   ]
  },
  {
   "cell_type": "markdown",
   "metadata": {},
   "source": [
    "If you're using a deployment space, proceed to Section 7: [Deploy and perform prediction on the LeNet model (with deployment space only)](#Scoring). If not, you may skip to the [summary](#summary)."
   ]
  },
  {
   "cell_type": "markdown",
   "metadata": {},
   "source": [
    "<a id='Scoring'></a>\n",
    "## 7. Deploy and perform prediction on the LeNet model (with deployment space only)\n",
    "\n",
    "In this section, you will:\n",
    "- Deploy the saved model that uses the custom transformer\n",
    "- Perform predictions\n",
    "\n",
    "You will use the WML Python client to perform these tasks."
   ]
  },
  {
   "cell_type": "markdown",
   "metadata": {},
   "source": [
    "### 7.1 Deploy the model"
   ]
  },
  {
   "cell_type": "code",
   "execution_count": 47,
   "metadata": {},
   "outputs": [],
   "source": [
    "# Deployment metadata.\n",
    "deploy_meta = {\n",
    "    client.deployments.ConfigurationMetaNames.NAME: \"Tensorflow custom library deployment\",\n",
    "    client.deployments.ConfigurationMetaNames.ONLINE: {}\n",
    "}"
   ]
  },
  {
   "cell_type": "code",
   "execution_count": 48,
   "metadata": {},
   "outputs": [
    {
     "name": "stdout",
     "output_type": "stream",
     "text": [
      "\n",
      "\n",
      "#######################################################################################\n",
      "\n",
      "Synchronous deployment creation for uid: '81a55ede-932a-44d5-86be-ef48cbed778d' started\n",
      "\n",
      "#######################################################################################\n",
      "\n",
      "\n",
      "initializing.............................................................\n",
      "ready\n",
      "\n",
      "\n",
      "------------------------------------------------------------------------------------------------\n",
      "Successfully finished deployment creation, deployment_uid='ec0c61f1-9134-48f4-a4e5-0feaa0efc60e'\n",
      "------------------------------------------------------------------------------------------------\n",
      "\n",
      "\n"
     ]
    }
   ],
   "source": [
    "# Create an online deployment.\n",
    "deployment_details = client.deployments.create(model_uid, meta_props=deploy_meta)"
   ]
  },
  {
   "cell_type": "code",
   "execution_count": 49,
   "metadata": {},
   "outputs": [
    {
     "name": "stdout",
     "output_type": "stream",
     "text": [
      "------------------------------------  ------------------------------------  -----  ------------------------  -------------\n",
      "GUID                                  NAME                                  STATE  CREATED                   ARTIFACT_TYPE\n",
      "ec0c61f1-9134-48f4-a4e5-0feaa0efc60e  Tensorflow custom library deployment  ready  2020-05-12T03:33:51.111Z  model\n",
      "------------------------------------  ------------------------------------  -----  ------------------------  -------------\n"
     ]
    }
   ],
   "source": [
    "# List the deployments.\n",
    "client.deployments.list()"
   ]
  },
  {
   "cell_type": "markdown",
   "metadata": {},
   "source": [
    "<div class=\"alert alert-block alert-info\">\n",
    "From the list of deployed models, you can see that the custom model was successfully deployed in the deployment space.</div>"
   ]
  },
  {
   "cell_type": "markdown",
   "metadata": {},
   "source": [
    "Now, you can check the details of your deployment."
   ]
  },
  {
   "cell_type": "code",
   "execution_count": 50,
   "metadata": {},
   "outputs": [
    {
     "name": "stdout",
     "output_type": "stream",
     "text": [
      "Deployment UID = ec0c61f1-9134-48f4-a4e5-0feaa0efc60e\n"
     ]
    }
   ],
   "source": [
    "# Deployment UID.\n",
    "deployment_uid = client.deployments.get_uid(deployment_details)\n",
    "print('Deployment UID = {}'.format(deployment_uid))"
   ]
  },
  {
   "cell_type": "code",
   "execution_count": 51,
   "metadata": {},
   "outputs": [
    {
     "name": "stdout",
     "output_type": "stream",
     "text": [
      "{'entity': {'asset': {'href': '/v4/models/81a55ede-932a-44d5-86be-ef48cbed778d?space_id=594b22d1-588c-4de0-9cbd-d98e6fa890e8',\n",
      "                      'id': '81a55ede-932a-44d5-86be-ef48cbed778d'},\n",
      "            'custom': {},\n",
      "            'description': '',\n",
      "            'name': 'Tensorflow custom library deployment',\n",
      "            'online': {},\n",
      "            'space': {'href': '/v4/spaces/594b22d1-588c-4de0-9cbd-d98e6fa890e8',\n",
      "                      'id': '594b22d1-588c-4de0-9cbd-d98e6fa890e8'},\n",
      "            'space_id': '594b22d1-588c-4de0-9cbd-d98e6fa890e8',\n",
      "            'status': {'online_url': {'url': 'https://zen-cpd-zen.apps.ocp43-ceph-defect-01.os.fyre.ibm.com/v4/deployments/ec0c61f1-9134-48f4-a4e5-0feaa0efc60e/predictions'},\n",
      "                       'state': 'ready'}},\n",
      " 'metadata': {'created_at': '2020-05-12T03:33:51.111Z',\n",
      "              'description': '',\n",
      "              'guid': 'ec0c61f1-9134-48f4-a4e5-0feaa0efc60e',\n",
      "              'href': '/v4/deployments/ec0c61f1-9134-48f4-a4e5-0feaa0efc60e',\n",
      "              'id': 'ec0c61f1-9134-48f4-a4e5-0feaa0efc60e',\n",
      "              'modified_at': '2020-05-12T03:33:51.111Z',\n",
      "              'name': 'Tensorflow custom library deployment',\n",
      "              'parent': {'href': ''},\n",
      "              'space_id': '594b22d1-588c-4de0-9cbd-d98e6fa890e8'}}\n"
     ]
    }
   ],
   "source": [
    "# Deployment details.\n",
    "pprint(client.deployments.get_details(deployment_uid))"
   ]
  },
  {
   "cell_type": "markdown",
   "metadata": {},
   "source": [
    "### 7.2 Score the deployed model"
   ]
  },
  {
   "cell_type": "markdown",
   "metadata": {},
   "source": [
    "Prepare sample scoring data."
   ]
  },
  {
   "cell_type": "code",
   "execution_count": 52,
   "metadata": {},
   "outputs": [],
   "source": [
    "import matplotlib.pyplot as plt\n",
    "import numpy as np"
   ]
  },
  {
   "cell_type": "code",
   "execution_count": 53,
   "metadata": {},
   "outputs": [],
   "source": [
    "# Prepare scoring payload.\n",
    "image = x_test[0:10].tolist()\n",
    "job_payload = {\n",
    "    client.deployments.ScoringMetaNames.INPUT_DATA: [{\n",
    "        'values': image\n",
    "    }]\n",
    "}"
   ]
  },
  {
   "cell_type": "code",
   "execution_count": 54,
   "metadata": {},
   "outputs": [
    {
     "data": {
      "image/png": "[encoded data removed]",
      "text/plain": [
       "<Figure size 1080x360 with 10 Axes>"
      ]
     },
     "metadata": {
      "needs_background": "light"
     },
     "output_type": "display_data"
    }
   ],
   "source": [
    "import matplotlib.pyplot as plt\n",
    "%matplotlib inline\n",
    "\n",
    "# Visualize some digits from the data set.\n",
    "import matplotlib.pyplot as plt\n",
    "%matplotlib inline\n",
    "f, ((ax1, ax2, ax3, ax4, ax5), (ax6, ax7, ax8, ax9, ax10)) = plt.subplots(2, 5, figsize=(15,5))\n",
    "ax = [ax1, ax2, ax3, ax4, ax5, ax6, ax7, ax8, ax9, ax10]\n",
    "\n",
    "for i in range (len(ax)):\n",
    "    plt.gray()\n",
    "    ax[i].matshow(x_test[i])\n",
    "plt.show()"
   ]
  },
  {
   "cell_type": "code",
   "execution_count": 55,
   "metadata": {},
   "outputs": [
    {
     "name": "stdout",
     "output_type": "stream",
     "text": [
      "{'predictions': [{'values': [7, 2, 1, 0, 4, 1, 4, 8, 0, 9]}]}\n"
     ]
    }
   ],
   "source": [
    "# Score data and predict the handwritten digits. \n",
    "predictions = client.deployments.score(deployment_uid, job_payload)\n",
    "print(predictions)"
   ]
  },
  {
   "cell_type": "markdown",
   "metadata": {},
   "source": [
    "### 7.3 Delete artifacts\n",
    "\n",
    "Use the following methods to delete the deployment, model, custom software specification, and package extension if they are no longer needed."
   ]
  },
  {
   "cell_type": "code",
   "execution_count": 56,
   "metadata": {},
   "outputs": [],
   "source": [
    "# client.deployments.delete(deployment_uid)"
   ]
  },
  {
   "cell_type": "code",
   "execution_count": 57,
   "metadata": {},
   "outputs": [],
   "source": [
    "# client.repository.delete(model_uid)"
   ]
  },
  {
   "cell_type": "code",
   "execution_count": 58,
   "metadata": {},
   "outputs": [],
   "source": [
    "# client.software_specifications.delete(software_spec_uid)"
   ]
  },
  {
   "cell_type": "code",
   "execution_count": 59,
   "metadata": {},
   "outputs": [],
   "source": [
    "# client.package_extensions.delete(package_ext_uid)"
   ]
  },
  {
   "cell_type": "markdown",
   "metadata": {},
   "source": [
    "<a id=\"summary\"></a>\n",
    "## 8. Summary\n",
    "\n",
    "In this notebook we learnt how to create a custom Python operation using TensorFlow's `tf.py_function` and used it on the LeNet model for MNIST.\n",
    "\n",
    "We also learned how to use the `watson-machine-learning-client` to store a library as a package extension to use the same operation with WML.\n",
    "\n",
    "Finally, we stored our custom LeNet model using a software specification associated with the package extension, so this model could be deployed and scored later using WML."
   ]
  },
  {
   "cell_type": "markdown",
   "metadata": {},
   "source": [
    "### Resources \n",
    "\n",
    "To learn more about configurations used in this notebook or more sample notebooks, tutorials, documentation, how-tos, and blog posts, check out these links:\n",
    "<div class=\"alert alert-block alert-success\">\n",
    "\n",
    "<h4>IBM documentation</h4>\n",
    "<br>\n",
    " <li> <a href=\"https://wml-api-pyclient-dev-v4.mybluemix.net\" target=\"_blank\" rel=\"noopener no referrer\">watson-machine-learning</a></li> \n",
    " <li> <a href=\"https://www.ibm.com/support/knowledgecenter/SSQNUZ_3.0.0/cpd/overview/welcome.html\" target=\"_blank\" rel=\"noopener noreferrer\">CP4D 3.0</a></li>\n",
    " <li> <a href=\"https://www.ibm.com/support/knowledgecenter/SSQNUZ_3.0.0/wsj/analyze-data/ml-custom_libs_overview.html\" target=\"_blank\" rel=\"noopener noreferrer\">Custom components</a></li>\n",
    " <li> <a href=\"https://www.ibm.com/support/knowledgecenter/SSQNUZ_3.0.0/wsj/wmls/wmls-deploy-python-types.html#creating-a-custom-software-specification-in-a-project\" target=\"_blank\" rel=\"noopener no referrer\">Custom software specifications</a></li>\n",
    " \n",
    "<h4> IBM Samples</h4>\n",
    "<br>\n",
    " <li> <a href=\"https://github.com/IBMDataScience/sample-notebooks\" target=\"_blank\" rel=\"noopener noreferrer\">Sample notebooks</a></li>\n",
    " \n",
    "<h4> Others</h4>\n",
    "<br>\n",
    " <li> <a href=\"https://matplotlib.org\" target=\"_blank\" rel=\"noopener noreferrer\">Matplotlib: Python plotting</a></li>\n",
    " <li> <a href=\"https://www.tensorflow.org/api_docs/python/tf/py_function\" target=\"_blank\" rel=\"noopener noreferrer\">tf.py_function</a></li>\n",
    " </div>"
   ]
  },
  {
   "cell_type": "markdown",
   "metadata": {},
   "source": [
    "### References\n",
    "Y. LeCun, L. Bottou, Y. Bengio, and P. Haffner. \"Gradient-based learning applied to document recognition.\" Proceedings of the IEEE, 86(11):2278-2324, November 1998.\n",
    "\n",
    "Creative Commons Zero v1.0 Universal License: The code in section [2.1 Create a custom operation for tf.py_function](#createfunc) is based on the following:\n",
    "- <a href=\"https://github.com/tensorflow/tensorflow/issues/1095\" target=\"_blank\" rel=\"noopener noreferrer\">https://github.com/tensorflow/tensorflow/issues/1095</a>\n",
    "- <a href=\"https://gist.github.com/harpone/3453185b41d8d985356cbe5e57d67342\" target=\"_blank\" rel=\"noopener noreferrer\">https://gist.github.com/harpone/3453185b41d8d985356cbe5e57d67342</a>"
   ]
  },
  {
   "cell_type": "markdown",
   "metadata": {},
   "source": [
    "### Author\n",
    "**Srikrishna S Bhat**, M. Tech, is a Software Engineer at IBM Watson Machine Learning Team"
   ]
  },
  {
   "cell_type": "markdown",
   "metadata": {},
   "source": [
    "<hr>\n",
    "Copyright © 2018-2020 IBM. This notebook and its source code are released under the terms of the MIT License."
   ]
  },
  {
   "cell_type": "markdown",
   "metadata": {},
   "source": [
    "<div style=\"background:#F5F7FA; height:110px; padding: 2em; font-size:14px;\">\n",
    "<span style=\"font-size:18px;color:#152935;\">Love this notebook? </span>\n",
    "<span style=\"font-size:15px;color:#152935;float:right;margin-right:40px;\">Don't have an account yet?</span><br>\n",
    "<span style=\"color:#5A6872;\">Share it with your colleagues and help them discover the power of Watson Studio!</span>\n",
    "<span style=\"border: 1px solid #3d70b2;padding:8px;float:right;margin-right:40px; color:#3d70b2;\"><a href=\"https://ibm.co/wsnotebooks\" target=\"_blank\" style=\"color: #3d70b2;text-decoration: none;\">Sign Up</a></span><br>\n",
    "</div>"
   ]
  }
 ],
 "metadata": {
  "kernelspec": {
   "display_name": "Python 3.6",
   "language": "python",
   "name": "python3"
  },
  "language_info": {
   "codemirror_mode": {
    "name": "ipython",
    "version": 3
   },
   "file_extension": ".py",
   "mimetype": "text/x-python",
   "name": "python",
   "nbconvert_exporter": "python",
   "pygments_lexer": "ipython3",
   "version": "3.6.10"
  }
 },
 "nbformat": 4,
 "nbformat_minor": 1
}
